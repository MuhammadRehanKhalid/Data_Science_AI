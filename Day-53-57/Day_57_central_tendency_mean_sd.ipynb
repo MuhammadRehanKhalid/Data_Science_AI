{
 "cells": [
  {
   "cell_type": "markdown",
   "metadata": {},
   "source": [
    "### `Mean values and its types`\n",
    "- Arithmatic Mean\n",
    "  - Summ of all value / counts of the values => x = Sigma X/n\n",
    "- Geomatric Mean\n",
    "  - multiply all values and then take underoot with poerr of the number of values\n",
    "    - [12,13,14,13,15,16]*1/6\n",
    "- Harmonic Mean\n",
    "  - its the inverse of the Arithmatic mean \n",
    "  -  n/sigma x, to get velocity and acceleration and exact values\n",
    "  -  "
   ]
  },
  {
   "cell_type": "code",
   "execution_count": 20,
   "metadata": {},
   "outputs": [
    {
     "name": "stdout",
     "output_type": "stream",
     "text": [
      "14.8\n",
      "14.646089004871582\n",
      "14.493651285227624\n"
     ]
    }
   ],
   "source": [
    "import numpy as np\n",
    "import statistics as st\n",
    "import pandas as pd\n",
    "import seaborn as sns\n",
    "from scipy import stats\n",
    "df = sns.load_dataset('titanic')\n",
    "x = [12,13,15,16,18]\n",
    "print(np.mean(x))\n",
    "print(st.geometric_mean(x))\n",
    "print(st.harmonic_mean(x))"
   ]
  },
  {
   "cell_type": "code",
   "execution_count": 24,
   "metadata": {},
   "outputs": [
    {
     "name": "stdout",
     "output_type": "stream",
     "text": [
      "<class 'pandas.core.frame.DataFrame'>\n",
      "Index: 182 entries, 1 to 889\n",
      "Data columns (total 15 columns):\n",
      " #   Column       Non-Null Count  Dtype   \n",
      "---  ------       --------------  -----   \n",
      " 0   survived     182 non-null    int64   \n",
      " 1   pclass       182 non-null    int64   \n",
      " 2   sex          182 non-null    object  \n",
      " 3   age          182 non-null    float64 \n",
      " 4   sibsp        182 non-null    int64   \n",
      " 5   parch        182 non-null    int64   \n",
      " 6   fare         182 non-null    float64 \n",
      " 7   embarked     182 non-null    object  \n",
      " 8   class        182 non-null    category\n",
      " 9   who          182 non-null    object  \n",
      " 10  adult_male   182 non-null    bool    \n",
      " 11  deck         182 non-null    category\n",
      " 12  embark_town  182 non-null    object  \n",
      " 13  alive        182 non-null    object  \n",
      " 14  alone        182 non-null    bool    \n",
      "dtypes: bool(2), category(2), float64(2), int64(4), object(5)\n",
      "memory usage: 18.2+ KB\n"
     ]
    }
   ],
   "source": [
    "df.info()"
   ]
  },
  {
   "cell_type": "code",
   "execution_count": 32,
   "metadata": {},
   "outputs": [
    {
     "name": "stdout",
     "output_type": "stream",
     "text": [
      "35.62318681318681\n",
      "30.1549986476529\n",
      "17.873143215116944\n"
     ]
    }
   ],
   "source": [
    "df['fare'].mean()\n",
    "df = df.dropna()\n",
    "# df.isnull().sum()\n",
    "# st.geometric_mean(df['fare'])\n",
    "print(st.mean(df['age']))\n",
    "print(stats.gmean(df['age']))\n",
    "print(stats.hmean(df['age']))"
   ]
  },
  {
   "cell_type": "code",
   "execution_count": 36,
   "metadata": {},
   "outputs": [],
   "source": [
    "# Mean choice depends over the type of Data\n",
    "# stats.trim_mean(df, 0.01)"
   ]
  },
  {
   "cell_type": "markdown",
   "metadata": {},
   "source": [
    "### Limitations of Mean\n",
    "- sensitive to outliers\n",
    "-  does not account for skewness or kurtosis\n",
    "-  does not tell full story\n"
   ]
  }
 ],
 "metadata": {
  "kernelspec": {
   "display_name": "python_eda",
   "language": "python",
   "name": "python3"
  },
  "language_info": {
   "codemirror_mode": {
    "name": "ipython",
    "version": 3
   },
   "file_extension": ".py",
   "mimetype": "text/x-python",
   "name": "python",
   "nbconvert_exporter": "python",
   "pygments_lexer": "ipython3",
   "version": "3.11.7"
  }
 },
 "nbformat": 4,
 "nbformat_minor": 2
}
