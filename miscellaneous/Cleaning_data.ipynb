{
 "cells": [
  {
   "cell_type": "code",
   "execution_count": 1,
   "metadata": {},
   "outputs": [],
   "source": [
    "import pandas as pd\n",
    "import numpy as np\n",
    "import matplotlib.pyplot as plt\n",
    "import seaborn as sns"
   ]
  },
  {
   "cell_type": "code",
   "execution_count": 4,
   "metadata": {},
   "outputs": [
    {
     "name": "stdout",
     "output_type": "stream",
     "text": [
      "<class 'pandas.core.frame.DataFrame'>\n",
      "RangeIndex: 10108 entries, 0 to 10107\n",
      "Data columns (total 18 columns):\n",
      " #   Column                 Non-Null Count  Dtype  \n",
      "---  ------                 --------------  -----  \n",
      " 0   Client_Num             10108 non-null  int64  \n",
      " 1   Card_Category          10108 non-null  object \n",
      " 2   Annual_Fees            10108 non-null  int64  \n",
      " 3   Activation_30_Days     10108 non-null  int64  \n",
      " 4   Customer_Acq_Cost      10108 non-null  int64  \n",
      " 5   Week_Start_Date        10108 non-null  object \n",
      " 6   Week_Num               10108 non-null  object \n",
      " 7   Qtr                    10108 non-null  object \n",
      " 8   current_year           10108 non-null  int64  \n",
      " 9   Credit_Limit           10108 non-null  float64\n",
      " 10  Total_Revolving_Bal    10108 non-null  int64  \n",
      " 11  Total_Trans_Amt        10108 non-null  int64  \n",
      " 12  Total_Trans_Vol        10108 non-null  int64  \n",
      " 13  Avg_Utilization_Ratio  10108 non-null  float64\n",
      " 14  Use Chip               10108 non-null  object \n",
      " 15  Exp Type               10108 non-null  object \n",
      " 16  Interest_Earned        10108 non-null  float64\n",
      " 17  Delinquent_Acc         10108 non-null  int64  \n",
      "dtypes: float64(3), int64(9), object(6)\n",
      "memory usage: 1.4+ MB\n"
     ]
    }
   ],
   "source": [
    "df = pd.read_csv('D:\\SQL_Projects\\credit_card.csv')\n",
    "df.info()"
   ]
  },
  {
   "cell_type": "code",
   "execution_count": 14,
   "metadata": {},
   "outputs": [
    {
     "name": "stdout",
     "output_type": "stream",
     "text": [
      "<class 'pandas.core.series.Series'>\n",
      "RangeIndex: 10108 entries, 0 to 10107\n",
      "Series name: Week_Start_Date\n",
      "Non-Null Count  Dtype \n",
      "--------------  ----- \n",
      "10108 non-null  object\n",
      "dtypes: object(1)\n",
      "memory usage: 79.1+ KB\n"
     ]
    }
   ],
   "source": [
    "df['Week_Start_Date'].info()"
   ]
  },
  {
   "cell_type": "code",
   "execution_count": 16,
   "metadata": {},
   "outputs": [
    {
     "name": "stdout",
     "output_type": "stream",
     "text": [
      "<class 'pandas.core.series.Series'>\n",
      "RangeIndex: 10108 entries, 0 to 10107\n",
      "Series name: Week_Start_Date\n",
      "Non-Null Count  Dtype         \n",
      "--------------  -----         \n",
      "10108 non-null  datetime64[ns]\n",
      "dtypes: datetime64[ns](1)\n",
      "memory usage: 79.1 KB\n"
     ]
    },
    {
     "name": "stderr",
     "output_type": "stream",
     "text": [
      "C:\\Users\\mirza\\AppData\\Local\\Temp\\ipykernel_8476\\965239649.py:1: UserWarning: The argument 'infer_datetime_format' is deprecated and will be removed in a future version. A strict version of it is now the default, see https://pandas.pydata.org/pdeps/0004-consistent-to-datetime-parsing.html. You can safely remove this argument.\n",
      "  df['Week_Start_Date'] = pd.to_datetime(df['Week_Start_Date'], format='mixed', infer_datetime_format=True, dayfirst=True)\n"
     ]
    }
   ],
   "source": [
    "df['Week_Start_Date'] = pd.to_datetime(df['Week_Start_Date'], format='mixed', infer_datetime_format=True, dayfirst=True)\n",
    "df['Week_Start_Date'].info()"
   ]
  },
  {
   "cell_type": "code",
   "execution_count": 18,
   "metadata": {},
   "outputs": [],
   "source": [
    "df.to_csv('D:\\SQL_Projects\\credit_card1.csv', index=False)"
   ]
  }
 ],
 "metadata": {
  "kernelspec": {
   "display_name": "python_eda",
   "language": "python",
   "name": "python3"
  },
  "language_info": {
   "codemirror_mode": {
    "name": "ipython",
    "version": 3
   },
   "file_extension": ".py",
   "mimetype": "text/x-python",
   "name": "python",
   "nbconvert_exporter": "python",
   "pygments_lexer": "ipython3",
   "version": "3.11.7"
  }
 },
 "nbformat": 4,
 "nbformat_minor": 2
}
