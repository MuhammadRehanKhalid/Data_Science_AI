{
 "cells": [
  {
   "cell_type": "markdown",
   "id": "5c3c7534-b3c2-4837-9d19-6b2a7bb4deb1",
   "metadata": {},
   "source": [
    "# Numpy `Extension`"
   ]
  },
  {
   "cell_type": "code",
   "execution_count": 1,
   "id": "74ff553f-d1a2-4a91-9980-ea9e4c9f899c",
   "metadata": {},
   "outputs": [],
   "source": [
    "import numpy as np"
   ]
  },
  {
   "cell_type": "code",
   "execution_count": 4,
   "id": "2becd4ef-cba4-4030-999d-5aeee11462da",
   "metadata": {},
   "outputs": [
    {
     "data": {
      "text/plain": [
       "6"
      ]
     },
     "execution_count": 4,
     "metadata": {},
     "output_type": "execute_result"
    }
   ],
   "source": [
    "# Create an array\n",
    "a = np.array([1,2,3,4,5,6,7,8,9,0])\n",
    "a\n",
    "a[-5]"
   ]
  },
  {
   "cell_type": "code",
   "execution_count": 9,
   "id": "fd8565b2-c7d3-4e36-bce9-b3b59f335d77",
   "metadata": {},
   "outputs": [
    {
     "data": {
      "text/plain": [
       "array([[ 0,  2],\n",
       "       [ 4,  6],\n",
       "       [ 8, 10]])"
      ]
     },
     "execution_count": 9,
     "metadata": {},
     "output_type": "execute_result"
    }
   ],
   "source": [
    " b = np.arange(0,12,2)\n",
    "b[2]\n",
    "c = b.reshape(2,3)\n",
    "c = b.reshape(3,2)\n",
    "c"
   ]
  },
  {
   "cell_type": "code",
   "execution_count": 20,
   "id": "0d6dda9d-7037-41c7-b327-b4a0977ab09a",
   "metadata": {},
   "outputs": [
    {
     "data": {
      "text/plain": [
       "array([ 0,  2,  8, 10])"
      ]
     },
     "execution_count": 20,
     "metadata": {},
     "output_type": "execute_result"
    }
   ],
   "source": [
    "c[(c<4) | (c>7)]"
   ]
  },
  {
   "cell_type": "code",
   "execution_count": 21,
   "id": "3cc32185-8a9b-481a-92f3-416c6820b884",
   "metadata": {},
   "outputs": [],
   "source": [
    "#Enlist Boolean opersators\n",
    "&& = and\n",
    "|| = or\n",
    "! = not"
   ]
  },
  {
   "cell_type": "markdown",
   "id": "41db81c0-4892-4e8a-9e92-13933aa5a936",
   "metadata": {},
   "source": [
    "# Array Fom existing data\n",
    "### `From an other array`"
   ]
  },
  {
   "cell_type": "code",
   "execution_count": 25,
   "id": "f77e585e-f39c-4cc8-82de-829efe8b19c0",
   "metadata": {},
   "outputs": [
    {
     "name": "stdout",
     "output_type": "stream",
     "text": [
      "[  0   5  10  15  20  25  30  35  40  45  50  55  60  65  70  75  80  85\n",
      "  90  95 100 105 110 115 120 125 130 135 140 145 150 155 160 165 170 175\n",
      " 180 185 190 195 200 205 210 215 220]\n"
     ]
    },
    {
     "data": {
      "text/plain": [
       "45"
      ]
     },
     "execution_count": 25,
     "metadata": {},
     "output_type": "execute_result"
    }
   ],
   "source": [
    "a = np.arange(0,225,5)\n",
    "print(a)\n",
    "len(a)"
   ]
  },
  {
   "cell_type": "code",
   "execution_count": 28,
   "id": "c5916ed4-d5d9-48f5-9f75-9b578006eaf7",
   "metadata": {},
   "outputs": [
    {
     "data": {
      "text/plain": [
       "array([200, 205, 210, 215, 220])"
      ]
     },
     "execution_count": 28,
     "metadata": {},
     "output_type": "execute_result"
    }
   ],
   "source": [
    "array1 = a[40:45]\n",
    "array1"
   ]
  },
  {
   "cell_type": "code",
   "execution_count": 33,
   "id": "85b3a9a9-fc3a-436a-aeca-52f094f9aefa",
   "metadata": {},
   "outputs": [
    {
     "data": {
      "text/plain": [
       "array([ 1,  2,  3,  4,  5,  6,  7,  8,  9, 10, 11, 12, 13, 14])"
      ]
     },
     "execution_count": 33,
     "metadata": {},
     "output_type": "execute_result"
    }
   ],
   "source": [
    "# stacking of arrays\n",
    "a = np.array([1,2,3,4,5,6,7,])\n",
    "b = np.array([8,9,10,11,12,13,14])\n",
    "d = np.vstack((a,b))\n",
    "d = np.hstack((a,b))\n",
    "d"
   ]
  }
 ],
 "metadata": {
  "kernelspec": {
   "display_name": "Python 3 (ipykernel)",
   "language": "python",
   "name": "python3"
  },
  "language_info": {
   "codemirror_mode": {
    "name": "ipython",
    "version": 3
   },
   "file_extension": ".py",
   "mimetype": "text/x-python",
   "name": "python",
   "nbconvert_exporter": "python",
   "pygments_lexer": "ipython3",
   "version": "3.10.13"
  }
 },
 "nbformat": 4,
 "nbformat_minor": 5
}
