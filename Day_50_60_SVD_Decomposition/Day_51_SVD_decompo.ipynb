{
 "cells": [
  {
   "cell_type": "markdown",
   "metadata": {},
   "source": [
    "# SVD in `Python`"
   ]
  },
  {
   "cell_type": "code",
   "execution_count": 9,
   "metadata": {},
   "outputs": [
    {
     "data": {
      "text/plain": [
       "array([[0.07630829, 0.77991879, 0.43840923],\n",
       "       [0.72346518, 0.97798951, 0.53849587],\n",
       "       [0.50112046, 0.07205113, 0.26843898],\n",
       "       [0.4998825 , 0.67923   , 0.80373904]])"
      ]
     },
     "execution_count": 9,
     "metadata": {},
     "output_type": "execute_result"
    }
   ],
   "source": [
    "import numpy as np\n",
    "import pandas as pd\n",
    "np.random.seed(7)\n",
    "# import random as rd\n",
    "A =  np.random.rand(4,3)\n",
    "A"
   ]
  },
  {
   "cell_type": "code",
   "execution_count": 15,
   "metadata": {},
   "outputs": [
    {
     "name": "stdout",
     "output_type": "stream",
     "text": [
      "[[-0.41612164 -0.68336782 -0.07602728 -0.5950387 ]\n",
      " [-0.66606353  0.09418072  0.68906561  0.2695885 ]\n",
      " [-0.21689145  0.71480349 -0.04791516 -0.66311252]\n",
      " [-0.57979329  0.11486685 -0.7191054   0.36542136]]\n",
      "[1.97135056 0.5333572  0.30175165]\n",
      "[[-0.46270033 -0.70275908 -0.54040548]\n",
      " [ 0.80923709 -0.58373682  0.06623189]\n",
      " [ 0.36199964  0.40667064 -0.83879393]]\n"
     ]
    }
   ],
   "source": [
    "# lets apply svd\n",
    "U, sigma, VT = np.linalg.svd(A)\n",
    "print(U)\n",
    "print(sigma)\n",
    "print(VT)"
   ]
  },
  {
   "cell_type": "code",
   "execution_count": null,
   "metadata": {},
   "outputs": [],
   "source": []
  }
 ],
 "metadata": {
  "kernelspec": {
   "display_name": "python_eda",
   "language": "python",
   "name": "python3"
  },
  "language_info": {
   "codemirror_mode": {
    "name": "ipython",
    "version": 3
   },
   "file_extension": ".py",
   "mimetype": "text/x-python",
   "name": "python",
   "nbconvert_exporter": "python",
   "pygments_lexer": "ipython3",
   "version": "3.11.7"
  }
 },
 "nbformat": 4,
 "nbformat_minor": 2
}
