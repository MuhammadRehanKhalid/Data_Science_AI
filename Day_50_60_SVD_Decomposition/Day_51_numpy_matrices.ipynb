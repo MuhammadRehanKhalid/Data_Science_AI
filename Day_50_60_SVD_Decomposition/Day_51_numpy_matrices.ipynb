{
 "cells": [
  {
   "cell_type": "code",
   "execution_count": 2,
   "id": "bafdccd3-7681-4b90-91a0-11afaf29cfd3",
   "metadata": {},
   "outputs": [],
   "source": [
    "import numpy as np"
   ]
  },
  {
   "cell_type": "markdown",
   "id": "af0f0e9a-3f50-4083-b92b-a177f3eb055a",
   "metadata": {},
   "source": [
    "2x + 3y = 8\n",
    "5x + 4y = 20"
   ]
  },
  {
   "cell_type": "code",
   "execution_count": 13,
   "id": "cbf6c51f-3671-4212-ac89-8a551ea62d8f",
   "metadata": {},
   "outputs": [
    {
     "data": {
      "text/plain": [
       "array([[2, 3],\n",
       "       [5, 4]])"
      ]
     },
     "execution_count": 13,
     "metadata": {},
     "output_type": "execute_result"
    }
   ],
   "source": [
    "# coefficient Matrix\n",
    "A = np.array([[2,3],[5,4]]) # 2x2 matrxi\n",
    "A"
   ]
  },
  {
   "cell_type": "code",
   "execution_count": 14,
   "id": "0cdf8f11-9fc8-4190-a575-803cccbd07eb",
   "metadata": {},
   "outputs": [
    {
     "data": {
      "text/plain": [
       "array([ 8, 20])"
      ]
     },
     "execution_count": 14,
     "metadata": {},
     "output_type": "execute_result"
    }
   ],
   "source": [
    "# contant matrix\n",
    "B = np.array([8,20])\n",
    "B"
   ]
  },
  {
   "cell_type": "code",
   "execution_count": 15,
   "id": "0c888602-e696-41c5-a064-576ff52d8727",
   "metadata": {},
   "outputs": [
    {
     "data": {
      "text/plain": [
       "array([[0.25 , 0.15 ],\n",
       "       [0.625, 0.2  ]])"
      ]
     },
     "execution_count": 15,
     "metadata": {},
     "output_type": "execute_result"
    }
   ],
   "source": [
    "X = A/B\n",
    "X"
   ]
  },
  {
   "cell_type": "code",
   "execution_count": 16,
   "id": "00f4a49b-afa7-4cfd-bb37-928298bf59d8",
   "metadata": {},
   "outputs": [
    {
     "data": {
      "text/plain": [
       "array([4., 0.])"
      ]
     },
     "execution_count": 16,
     "metadata": {},
     "output_type": "execute_result"
    }
   ],
   "source": [
    "# solve linear algebra\n",
    "X = np.linalg.solve(A,B)\n",
    "X"
   ]
  },
  {
   "cell_type": "markdown",
   "id": "74b1b6d1-8f99-4205-a88a-76eefc2601a9",
   "metadata": {},
   "source": [
    "---"
   ]
  },
  {
   "cell_type": "markdown",
   "id": "f08ffc56-4a61-47a3-8cd9-8b1c0a4183ed",
   "metadata": {},
   "source": [
    "# Solving complex equation"
   ]
  },
  {
   "cell_type": "code",
   "execution_count": 5,
   "id": "4806ba3d-5455-4c8b-addf-6c1ee1a23502",
   "metadata": {},
   "outputs": [
    {
     "data": {
      "text/plain": [
       "array([-0.11176471-0.45294118j,  0.94705882+1.31176471j])"
      ]
     },
     "execution_count": 5,
     "metadata": {},
     "output_type": "execute_result"
    }
   ],
   "source": [
    "# a complex Coefficient matrix with complex number\n",
    "a_com = np.array([[1+2j,2-1j],[3-1j,4]])\n",
    "# b complex\n",
    "b_com = np.array([4+1j, 3+4j])\n",
    "# X complex\n",
    "X_com = np.linalg.solve(a_com,b_com)\n",
    "X_com"
   ]
  },
  {
   "cell_type": "markdown",
   "id": "6e3381ee-cd6c-4e1f-843f-bd0f14b17584",
   "metadata": {},
   "source": [
    "---"
   ]
  },
  {
   "cell_type": "markdown",
   "id": "b42327f2-f1ce-4d30-9f0d-5b1360a2fee6",
   "metadata": {},
   "source": [
    "# Vector Pin pointing"
   ]
  },
  {
   "cell_type": "code",
   "execution_count": 6,
   "id": "76331830-e0d6-4c95-8f1d-e317ca0b08ee",
   "metadata": {},
   "outputs": [],
   "source": [
    "import numpy as np\n",
    "import matplotlib.pyplot as plt"
   ]
  },
  {
   "cell_type": "code",
   "execution_count": 17,
   "id": "b14a1b2a-5b42-4016-a5ff-c18b43ee0957",
   "metadata": {},
   "outputs": [],
   "source": [
    "v = np.array([2,3])\n",
    "v2 = np.array([3,4])\n",
    "v3 = np.array([4,5])"
   ]
  },
  {
   "cell_type": "code",
   "execution_count": 18,
   "id": "1e13e5bc-425c-4386-ad6d-304bf9fce4ce",
   "metadata": {},
   "outputs": [
    {
     "data": {
      "image/png": "[encoded data removed]",
      "text/plain": [
       "<Figure size 400x400 with 1 Axes>"
      ]
     },
     "metadata": {},
     "output_type": "display_data"
    }
   ],
   "source": [
    "plt.figure(figsize=(4,4))\n",
    "plt.quiver(0,0,v[0],v[1], angles = 'xy', scale_units = 'xy',scale =1, color = 'g')\n",
    "plt.quiver(0,0,v2[0],v2[1], angles = 'xy', scale_units = 'xy',scale =1, color = 'b')\n",
    "plt.quiver(0,0,v3[0],v3[1], angles = 'xy', scale_units = 'xy',scale =1, color = 'r')\n",
    "plt.xlim(-0,5)\n",
    "plt.ylim(-0,5)\n",
    "plt.grid()\n",
    "plt.title('2D Vector')\n",
    "plt.xlabel('X axis')\n",
    "plt.ylabel('Y axis')\n",
    "plt.gca().set_aspect('equal',adjustable='box')\n",
    "plt.show()"
   ]
  },
  {
   "cell_type": "code",
   "execution_count": null,
   "id": "c5cc6db9-809f-4d10-aa49-01fc7f8df7e7",
   "metadata": {},
   "outputs": [],
   "source": []
  }
 ],
 "metadata": {
  "kernelspec": {
   "display_name": "Python 3 (ipykernel)",
   "language": "python",
   "name": "python3"
  },
  "language_info": {
   "codemirror_mode": {
    "name": "ipython",
    "version": 3
   },
   "file_extension": ".py",
   "mimetype": "text/x-python",
   "name": "python",
   "nbconvert_exporter": "python",
   "pygments_lexer": "ipython3",
   "version": "3.10.13"
  }
 },
 "nbformat": 4,
 "nbformat_minor": 5
}
