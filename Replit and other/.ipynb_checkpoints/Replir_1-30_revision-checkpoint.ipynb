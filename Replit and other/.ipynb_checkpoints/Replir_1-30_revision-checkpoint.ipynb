{
 "cells": [
  {
   "cell_type": "code",
   "execution_count": 1,
   "metadata": {},
   "outputs": [
    {
     "name": "stdin",
     "output_type": "stream",
     "text": [
      "Enter the Total Bill:  231\n",
      "Enter Number of person you want to divide:  5\n"
     ]
    },
    {
     "name": "stdout",
     "output_type": "stream",
     "text": [
      "Total Bill of yours is  242.55 and per head bill will be 46.2\n"
     ]
    }
   ],
   "source": [
    "# day 10 Prject\n",
    "total_bill = int(input(\"Enter the Total Bill: \"))\n",
    "person_per = int(input(\"Enter Number of person you want to divide: \"))\n",
    "per_head = total_bill / person_per\n",
    "tip_ob = total_bill /100 * 5\n",
    "print('Total Bill of yours is ', total_bill + tip_ob, 'and per head bill will be', per_head)"
   ]
  },
  {
   "cell_type": "code",
   "execution_count": null,
   "metadata": {},
   "outputs": [],
   "source": []
  }
 ],
 "metadata": {
  "kernelspec": {
   "display_name": "Python 3 (ipykernel)",
   "language": "python",
   "name": "python3"
  },
  "language_info": {
   "codemirror_mode": {
    "name": "ipython",
    "version": 3
   },
   "file_extension": ".py",
   "mimetype": "text/x-python",
   "name": "python",
   "nbconvert_exporter": "python",
   "pygments_lexer": "ipython3",
   "version": "3.10.13"
  }
 },
 "nbformat": 4,
 "nbformat_minor": 4
}
