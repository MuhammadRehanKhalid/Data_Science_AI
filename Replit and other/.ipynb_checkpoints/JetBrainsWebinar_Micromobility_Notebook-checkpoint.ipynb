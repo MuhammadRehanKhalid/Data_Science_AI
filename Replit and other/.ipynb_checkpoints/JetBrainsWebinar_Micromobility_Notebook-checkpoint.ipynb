{
 "cells":[
  {
   "cell_type":"markdown",
   "source":[
    "# Deploying micro-mobility in a macro scale: how to leverage data science for higher micro-mobility impacts"
   ],
   "attachments":{
    
   },
   "metadata":{
    "datalore":{
     "node_id":"la6K1EghwGdQ54MAuvXJQu",
     "type":"MD",
     "hide_input_from_viewers":false,
     "hide_output_from_viewers":false,
     "report_properties":{
      "y":0
     }
    }
   }
  },
  {
   "cell_type":"code",
   "source":[
    "print('hello, jetbrains!')"
   ],
   "execution_count":null,
   "outputs":[
    {
     "name":"stdout",
     "text":[
      "hello, jetbrains!\n"
     ],
     "output_type":"stream"
    }
   ],
   "metadata":{
    "datalore":{
     "node_id":"N1WZWN1ahFJ0jV57SrCEdr",
     "type":"CODE",
     "hide_input_from_viewers":false,
     "hide_output_from_viewers":false,
     "report_properties":{
      "y":612
     }
    }
   }
  },
  {
   "cell_type":"markdown",
   "source":[
    "# Important Info\n",
    "\n",
    "This is a replicated notebook from a challenge done at [World Data League](https:\/\/worlddataleague.com\/).\n",
    "\n",
    "More information about this particular challenge and solution in  our teams [GitHub](https:\/\/github.com\/holistic-insights\/COMP-WDL2). You will also find our original notebook as well as the data used there (in the README file).\n",
    "\n",
    "Check out more about Holin here: https:\/\/holistic-insights.github.io\/"
   ],
   "attachments":{
    
   },
   "metadata":{
    "datalore":{
     "node_id":"PSpf9iF44AYwddPygO7iaG",
     "type":"MD",
     "hide_input_from_viewers":true,
     "hide_output_from_viewers":false,
     "report_properties":{
      "y":609
     }
    }
   }
  },
  {
   "cell_type":"markdown",
   "source":[
    "## 🎯 Challenge\n",
    "*Optimization of soft-mobility drop-off points in the city of Porto*"
   ],
   "attachments":{
    
   },
   "metadata":{
    "datalore":{
     "node_id":"nPdO2DJwS64O1TSWgwBEIN",
     "type":"MD",
     "hide_input_from_viewers":false,
     "hide_output_from_viewers":false,
     "report_properties":{
      "y":5
     }
    }
   }
  },
  {
   "cell_type":"markdown",
   "source":[
    "## 👥 Authors\n",
    "* Cristiana Carpinteiro\n",
    "* Diogo Polónia\n",
    "* João Afonso Pereira\n",
    "* João Matos\n",
    "* Patrícia Rocha"
   ],
   "attachments":{
    
   },
   "metadata":{
    "datalore":{
     "node_id":"3DahzmX34Ik5PnkhFMIObW",
     "type":"MD",
     "hide_input_from_viewers":false,
     "hide_output_from_viewers":false,
     "report_properties":{
      "y":9
     }
    }
   }
  },
  {
   "cell_type":"markdown",
   "source":[
    "## 📋 Table of Contents<a name=\"top\"><\/a>\n",
    "\n",
    "[🔢 Setup & Data](#setup)\n",
    "\n",
    "[💻 Development](#dev)\n",
    "\n",
    "1. [EDA](#eda)\n",
    "2. [Classification of Zones](#classification)\n",
    "3. [Interpretability](#interpretability)\n",
    "4. [Zone Scoring](#score)\n",
    "5. [Drop-off Points Optimization](#opt_dist)\n",
    "6. [Final Product](#product)\n",
    "7. [Impact Estimation](#impact)\n",
    "8. [Additional EDA](#more_eda)"
   ],
   "attachments":{
    
   },
   "metadata":{
    "datalore":{
     "node_id":"jgzxtNohZfheVjOCH1aDsz",
     "type":"MD",
     "hide_input_from_viewers":false,
     "hide_output_from_viewers":false,
     "report_properties":{
      "y":16
     }
    }
   }
  },
  {
   "cell_type":"markdown",
   "source":[
    "## ⚙️ ***Setup*** <a name=\"setup\"><\/a>"
   ],
   "attachments":{
    
   },
   "metadata":{
    "datalore":{
     "node_id":"EfYLC1gQbPhXtJUTdlzCt6",
     "type":"MD",
     "hide_input_from_viewers":false,
     "hide_output_from_viewers":false,
     "report_properties":{
      "y":26
     }
    }
   }
  },
  {
   "cell_type":"code",
   "source":[
    "# System\n",
    "import  os\n",
    "import  time\n",
    "import  warnings\n",
    "from    tqdm     import tqdm\n",
    "from    datetime import datetime\n",
    "warnings.filterwarnings(action='ignore')\n",
    "\n",
    "# DataFrames\n",
    "import  pandas             as pd\n",
    "import  geopandas          as gpd\n",
    "from    pandas.core.common import SettingWithCopyWarning\n",
    "pd.set_option('mode.chained_assignment',None)\n",
    "\n",
    "# Models\n",
    "# noinspection PyUnresolvedReferences\n",
    "# import  shap\n",
    "# from    pulp                    import *\n",
    "from    sklearn.preprocessing   import MinMaxScaler\n",
    "from    sklearn.preprocessing   import StandardScaler\n",
    "from    sklearn.model_selection import GridSearchCV\n",
    "from    sklearn.model_selection import train_test_split\n",
    "from    sklearn.inspection      import permutation_importance\n",
    "from    sklearn.metrics         import accuracy_score, confusion_matrix, classification_report, r2_score\n",
    "from    sklearn.ensemble        import RandomForestClassifier\n",
    "from    sklearn.ensemble        import RandomForestRegressor\n",
    "from    sklearn.linear_model    import LogisticRegression\n",
    "\n",
    "\n",
    "# Visualizations\n",
    "import  seaborn              as sns\n",
    "# import  gtfs_functions       as gtfs\n",
    "import  matplotlib.pyplot    as plt\n",
    "from    matplotlib           import rcParams\n",
    "from    matplotlib           import pyplot as plt\n",
    "\n",
    "# Others\n",
    "import  json\n",
    "import  numpy            as np\n",
    "# import  haversine        as hs\n",
    "from    shapely.ops      import split\n",
    "from    shapely.geometry import LineString, MultiPolygon, Polygon\n",
    "from    shapely.ops      import split"
   ],
   "execution_count":16,
   "outputs":[
    
   ],
   "metadata":{
    "datalore":{
     "node_id":"82na93h7PzWHxD8Lm4OzDt",
     "type":"CODE",
     "hide_input_from_viewers":false,
     "hide_output_from_viewers":false,
     "report_properties":{
      "y":29
     }
    }
   }
  },
  {
   "cell_type":"markdown",
   "source":[
    "## 🔢 Data \n",
    "\n",
    "To build our solution, we used the following data:\n",
    "* *[TIP Rodov and TIP Ferrov](https:\/\/wdl-data.fra1.digitaloceanspaces.com\/porto\/InterMunicipality.zip)* Entry and exit validation data (TIP) on road and rail public transport. These datasets were provided by WDL on the challenge 'Predicting the Flow of People for Public Transportation Improvements'.\n",
    "* *[E-Scooter Transport Data and E-Scooter Location Data](https:\/\/wdl-data.fra1.digitaloceanspaces.com\/porto\/Soft-Mobility.zip)* List of E-Scooter parks and trips in Porto. Also provided by WDL.\n",
    "* *[GTFS for Bus and Metro Stations](https:\/\/wdl-data.fra1.digitaloceanspaces.com\/porto\/Soft-Mobility.zip)* Public transport schedule data in General Transit Feed Specification (GTFS) format. Each file describes a particular aspect of transit information: stops, routes, frequencies, etc. We used this dataset to create features such as the proximity to stops, route diversity, and frequency.\n",
    "* *[Bike Lanes](https:\/\/opendata.porto.digital\/dataset\/int-igvp-igvp-ciclovias)* This dataset contains all bike lanes in the city of Porto and was obtained from Open Data.\n",
    "\n",
    "We also manually collected information on points of interest - tourist attractions, colleges, and public schools:\n",
    "* *[Top 10 attractions](https:\/\/www.timeout.com\/porto\/attractions\/portos-top-10-attractions)*\n",
    "* *[University of Porto](https:\/\/www.up.pt\/)*\n",
    "* *[Public Schools](https:\/\/www.cm-porto.pt\/sistema-educativo\/rede-escolar-do-porto)*"
   ],
   "attachments":{
    
   },
   "metadata":{
    "datalore":{
     "node_id":"5BThf4rydWYv6bbCdBX37O",
     "type":"MD",
     "hide_input_from_viewers":true,
     "hide_output_from_viewers":true,
     "report_properties":{
      
     }
    }
   }
  },
  {
   "cell_type":"markdown",
   "source":[
    "## 💻 Development <a name=\"dev\"><\/a>"
   ],
   "attachments":{
    
   },
   "metadata":{
    "datalore":{
     "node_id":"TNnSLU9YjYc74mkSb66QUA",
     "type":"MD",
     "hide_input_from_viewers":false,
     "hide_output_from_viewers":false,
     "report_properties":{
      "y":51
     }
    }
   }
  },
  {
   "cell_type":"markdown",
   "source":[
    "### ***1. EDA*** <a name=\"eda\"><\/a>\n",
    "\n",
    "Our EDA had as objective to construct a set of features that would influence the microbility around Porto. \n",
    "\n",
    "We explored the datasets made available by the organization, but we also created our own features with data we found on Porto open data portal. \n",
    "\n",
    "Since we wanted to optimize the localization of the drop off points inside Porto, we divided the city into geographical zones and associated each localization to a curated set of features. \n",
    "\n",
    "We started by **splitting Porto into a simple grid** and studying the **geographical distribution** of factors that influence the usage of soft mobility by mapping them to each square of the grid."
   ],
   "attachments":{
    
   },
   "metadata":{
    "datalore":{
     "node_id":"lG2ppK8el76eQRXgf0Pr4p",
     "type":"MD",
     "hide_input_from_viewers":false,
     "hide_output_from_viewers":false,
     "report_properties":{
      "y":54
     }
    }
   }
  },
  {
   "cell_type":"markdown",
   "source":[
    "#### 1.1 Building Porto's geographical grid\n",
    "We decided to divide Porto into geographical with 6000 m2 to make the optimization of drop-off points easier. We will only consider the optimization of the drop-off points inside Porto city."
   ],
   "attachments":{
    
   },
   "metadata":{
    "datalore":{
     "node_id":"JS4ilqXqzGc5lmNhb69rI1",
     "type":"MD",
     "hide_input_from_viewers":false,
     "hide_output_from_viewers":false,
     "report_properties":{
      "y":65
     }
    }
   }
  },
  {
   "cell_type":"code",
   "source":[
    "# Porto geojson, divided into parishes\n",
    "porto = gpd.read_file('Data\/porto.geojson')\n",
    "porto.drop(['description', 'fill', 'video', 'website'], axis=1, inplace=True)\n",
    "\n",
    "xmin, ymin, xmax, ymax = porto.total_bounds\n",
    "wide, length = xmax - xmin, ymax - ymin\n",
    "\n",
    "n_cols = 180\n",
    "n_rows = 60\n",
    "\n",
    "cols = list(np.arange(xmin, xmax+wide\/n_cols, wide\/n_cols))\n",
    "rows = list(np.arange(ymin, ymax+length\/n_rows, length\/n_rows))\n",
    "\n",
    "polygons = []\n",
    "for x in cols[:-1]:\n",
    "    for y in rows[:-1]:\n",
    "        polygons.append(Polygon([(x,y), (x+wide\/n_cols, y), (x+wide\/n_cols, y+length\/n_rows), (x, y+length\/n_rows)]))\n",
    "\n",
    "grid = gpd.GeoDataFrame({'geometry': polygons})\n",
    "grid['boundaries'] = grid.boundary\n",
    "\n",
    "for zone, name in zip(list(porto['geometry']), list(porto['title'])):\n",
    "  grid.loc[grid.intersects(zone), 'zone'] = name\n",
    "\n",
    "porto_grid = grid[grid['zone'].notna()].reset_index(drop=True)"
   ],
   "execution_count":17,
   "outputs":[
    {
     "ename":"DriverError",
     "evalue":"DriverError: Data\/porto.geojson: No such file or directory",
     "traceback":[
      "\u001b[0;31m---------------------------------------------------------------------------",
      "Traceback (most recent call last)",
      "    at line 2 in <module>",
      "    at line 201 in _read_file(filename, bbox, mask, rows, **kwargs)",
      "    at line 400 in wrapper(*args, **kwargs)",
      "    at line 256 in open(fp, mode, driver, schema, crs, encoding, layer, vfs, enabled_drivers, crs_wkt, **kwargs)",
      "    at line 162 in __init__(self, path, mode, driver, schema, crs, encoding, layer, vsi, archive, enabled_drivers, crs_wkt, ignore_fields, ignore_geometry, **kwargs)",
      "    at line 0 in fiona.ogrext.Session.start()",
      "    at line 0 in fiona._shim.gdal_open_vector()",
      "DriverError: Data\/porto.geojson: No such file or directory"
     ],
     "output_type":"error"
    }
   ],
   "metadata":{
    "datalore":{
     "node_id":"JrxeJRlzdp9TYSNi5W8RFw",
     "type":"CODE",
     "hide_input_from_viewers":false,
     "hide_output_from_viewers":false,
     "report_properties":{
      "y":70
     }
    }
   }
  },
  {
   "cell_type":"markdown",
   "source":[
    "**Visualize Optimization Grid:**"
   ],
   "attachments":{
    
   },
   "metadata":{
    "datalore":{
     "node_id":"0TxMqd8mj162AHtf4Xpo7w",
     "type":"MD",
     "hide_input_from_viewers":false,
     "hide_output_from_viewers":false,
     "report_properties":{
      "y":84
     }
    }
   }
  },
  {
   "cell_type":"code",
   "source":[
    "fig, ax = plt.subplots(figsize = (20,16))\n",
    "porto.plot(column='title', legend=True,\n",
    "           legend_kwds={'bbox_to_anchor': (1.2, 1)}, ax=ax)\n",
    "porto_grid.boundary.plot(ax=ax)\n",
    "ax.set_title('Division of Porto into geographical zones')\n",
    "ax.set_axis_off()"
   ],
   "execution_count":null,
   "outputs":[
    {
     "data":{
      "image\/png":"[encoded data removed]"
     },
     "metadata":{
      "image\/png":{
       
      }
     },
     "output_type":"display_data"
    },
    {
     "data":{
      "text\/plain":[
       "<Figure size 1440x1152 with 1 Axes>"
      ]
     },
     "metadata":{
      
     },
     "output_type":"display_data"
    }
   ],
   "metadata":{
    "datalore":{
     "node_id":"j7FicoJI67lqCZYTuvU5L3",
     "type":"CODE",
     "hide_input_from_viewers":false,
     "hide_output_from_viewers":false,
     "report_properties":{
      "y":87
     }
    }
   }
  },
  {
   "cell_type":"markdown",
   "source":[
    "#### 1.2 Public Transport Features (Bus)"
   ],
   "attachments":{
    
   },
   "metadata":{
    "datalore":{
     "node_id":"Q66IbPCXVambOa8upGSXw0",
     "type":"MD",
     "hide_input_from_viewers":false,
     "hide_output_from_viewers":false,
     "report_properties":{
      "y":99
     }
    }
   }
  },
  {
   "cell_type":"markdown",
   "source":[
    "We used the GTFS dataset made available by the organization to calculate the bus daily frequency and the number of unique lines that cross each optimization grid zone. We think that the proximity of transports is a deciding factor for the placement of the drop-off points. "
   ],
   "attachments":{
    
   },
   "metadata":{
    "datalore":{
     "node_id":"VjF86JwDJeM08bxJDzDO6R",
     "type":"MD",
     "hide_input_from_viewers":false,
     "hide_output_from_viewers":false,
     "report_properties":{
      "y":102
     }
    }
   }
  },
  {
   "cell_type":"code",
   "source":[
    "path = 'Data\/gtfs_bus.zip'\n",
    "# Read dataset\n",
    "routes, stops, stop_times, trips, shapes = gtfs.import_gtfs(path)"
   ],
   "execution_count":null,
   "outputs":[
    
   ],
   "metadata":{
    "datalore":{
     "node_id":"axWONHxZE0nWOCFQqwP9hM",
     "type":"CODE",
     "hide_input_from_viewers":false,
     "hide_output_from_viewers":false,
     "report_properties":{
      "y":106
     }
    }
   }
  },
  {
   "cell_type":"markdown",
   "source":[
    "Bus Frequencies: "
   ],
   "attachments":{
    
   },
   "metadata":{
    "datalore":{
     "node_id":"UVdOwHCpJJVZLwiibZ98Ob",
     "type":"MD",
     "hide_input_from_viewers":false,
     "hide_output_from_viewers":false,
     "report_properties":{
      "y":110
     }
    }
   }
  },
  {
   "cell_type":"code",
   "source":[
    "cutoffs = [0,24] # get daily bus frequencies  \n",
    "bus_stop_freq = gtfs.stops_freq(stop_times, stops, cutoffs = cutoffs)\n",
    "\n",
    "# Plot bus stops\n",
    "condition_dir= bus_stop_freq.dir_id == 'Inbound'\n",
    "condition_window = bus_stop_freq.window == '0:00-24:00'\n",
    "gdf = bus_stop_freq.loc[(condition_dir & condition_window), : ].reset_index()\n",
    "gtfs.map_gdf(gdf=gdf, \n",
    "             variable='dir_id', \n",
    "             tooltip_var=['frequency', 'stop_id'],\n",
    "             tooltip_labels = ['Frequency: ', 'Stop: '])"
   ],
   "execution_count":null,
   "outputs":[
    
   ],
   "metadata":{
    "datalore":{
     "node_id":"LxTbwKsZgVwbYmmIMSzXp2",
     "type":"CODE",
     "hide_input_from_viewers":false,
     "hide_output_from_viewers":false,
     "report_properties":{
      "y":113
     }
    }
   }
  },
  {
   "cell_type":"markdown",
   "source":[
    "Number of unique bus lines passing by each bus stop:"
   ],
   "attachments":{
    
   },
   "metadata":{
    "datalore":{
     "node_id":"bSANuu5CtN7PiM4F7l7EzU",
     "type":"MD",
     "hide_input_from_viewers":false,
     "hide_output_from_viewers":false,
     "report_properties":{
      "y":121
     }
    }
   }
  },
  {
   "cell_type":"code",
   "source":[
    "bus_stop_freq = bus_stop_freq.loc[condition_dir]\n",
    "bus_stop_freq = bus_stop_freq[['stop_id','ntrips', 'frequency','max_trips', 'max_freq', 'stop_name', 'geometry']]\n",
    "\n",
    "# Combine stop frequencies with stop_times dataset\n",
    "stops_n_routes = stop_times[['stop_id', 'route_id', 'zone_id']]\n",
    "stops_n_routes = stops_n_routes.drop_duplicates()\n",
    "stops_n_routes = stops_n_routes.groupby('stop_id').count().sort_values(by='route_id',ascending=False)\n",
    "bus_stop_freq = bus_stop_freq.merge(stops_n_routes, on='stop_id').rename(columns={'route_id':'number_of_routes'}).drop(columns='zone_id').set_index('stop_id')"
   ],
   "execution_count":null,
   "outputs":[
    
   ],
   "metadata":{
    "datalore":{
     "node_id":"Ixk4xOFqdhiOxwYzbozf8b",
     "type":"CODE",
     "hide_input_from_viewers":false,
     "hide_output_from_viewers":false,
     "report_properties":{
      "y":124
     }
    }
   }
  },
  {
   "cell_type":"markdown",
   "source":[
    "Optimization Grid Feature: **Distance to nearest bus stop** "
   ],
   "attachments":{
    
   },
   "metadata":{
    "datalore":{
     "node_id":"f4RND9f9Dvf4aqREhpW0Sj",
     "type":"MD",
     "hide_input_from_viewers":false,
     "hide_output_from_viewers":false,
     "report_properties":{
      "y":130
     }
    }
   }
  },
  {
   "cell_type":"code",
   "source":[
    "all_bus_stop_ids = dict()\n",
    "nearest_stop_ids = dict()\n",
    "\n",
    "for idx, zone in tqdm(porto_grid.iterrows(),total = porto_grid.shape[0]):\n",
    "  count = 0\n",
    "  stop_ids = []\n",
    "  center = zone.geometry.centroid\n",
    "  min_distance = 1e20\n",
    "  nearest_stop_id = ''\n",
    "  for stop in bus_features_inside_porto.itertuples():\n",
    "    # Calculate distance to nearest stop \n",
    "    distance_to_stop = center.distance(stop.geometry)\n",
    "    if distance_to_stop < min_distance:\n",
    "      min_distance = distance_to_stop\n",
    "      nearest_stop_id = stop.Index\n",
    "\n",
    "    # find stops inside each optimization grid zone\n",
    "    if zone.geometry.contains(stop.geometry):\n",
    "      count += 1\n",
    "      stop_ids.append(stop.Index)\n",
    "\n",
    "  porto_grid.loc[idx, 'n_bus'] = count\n",
    "  all_bus_stop_ids[idx] = stop_ids\n",
    "  nearest_stop_ids[idx] = nearest_stop_id\n",
    "  porto_grid.loc[idx, 'dist_nearest_bus'] = min_distance"
   ],
   "execution_count":null,
   "outputs":[
    
   ],
   "metadata":{
    "datalore":{
     "node_id":"2jkCaoixC08CjxwyQzPyZ2",
     "type":"CODE",
     "hide_input_from_viewers":false,
     "hide_output_from_viewers":false,
     "report_properties":{
      "y":133
     }
    }
   }
  },
  {
   "cell_type":"markdown",
   "source":[
    "Optimization Grid Feature: **Number of unique routes the cross each zone**"
   ],
   "attachments":{
    
   },
   "metadata":{
    "datalore":{
     "node_id":"nBv1Bccdilmh9qyBdSAWP2",
     "type":"MD",
     "hide_input_from_viewers":false,
     "hide_output_from_viewers":false,
     "report_properties":{
      "y":147
     }
    }
   }
  },
  {
   "cell_type":"code",
   "source":[
    "for idx, zone in tqdm(porto_grid.iterrows(),total = porto_grid.shape[0]):\n",
    "  if zone.n_bus == 0:\n",
    "    porto_grid.loc[idx,'n_bus_trips'] = bus_features_inside_porto.loc[nearest_stop_ids[idx], 'ntrips']\n",
    "    porto_grid.loc[idx,'n_bus_routes'] = bus_features_inside_porto.loc[nearest_stop_ids[idx], 'number_of_routes']\n",
    "  else:\n",
    "    porto_grid.loc[idx,'n_bus_trips'] = bus_features_inside_porto.loc[all_bus_stop_ids[idx], 'ntrips'].max()\n",
    "    porto_grid.loc[idx,'n_bus_routes'] = bus_features_inside_porto.loc[all_bus_stop_ids[idx], 'number_of_routes'].max()\n",
    "# Drop auxiliary features\n",
    "porto_grid.drop(['boundaries', 'zone'], axis=1, inplace=True)"
   ],
   "execution_count":null,
   "outputs":[
    
   ],
   "metadata":{
    "datalore":{
     "node_id":"eUngeBzm4A8lfD6EftWFy6",
     "type":"CODE",
     "hide_input_from_viewers":false,
     "hide_output_from_viewers":false,
     "report_properties":{
      "y":150
     }
    }
   }
  },
  {
   "cell_type":"markdown",
   "source":[
    "#### 1.3 Public Tranport Features (Metro)"
   ],
   "attachments":{
    
   },
   "metadata":{
    "datalore":{
     "node_id":"SbJAcDjsws2YlB1NLgWQyD",
     "type":"MD",
     "hide_input_from_viewers":false,
     "hide_output_from_viewers":false,
     "report_properties":{
      "y":157
     }
    }
   }
  },
  {
   "cell_type":"code",
   "source":[
    "path = 'Data\/gtfs_metro.zip'\n",
    "# Read dataset\n",
    "routes, stops, stop_times, trips, shapes = gtfs.import_gtfs(path)\n",
    "\n",
    "# Metro frequencies:\n",
    "\n",
    "cutoffs = [0,24] # get daily metro frequencies  \n",
    "metro_stop_freq = gtfs.stops_freq(stop_times, stops, cutoffs = cutoffs)\n",
    "\n",
    "# Plot bus stops\n",
    "condition_dir= metro_stop_freq.dir_id == 'Inbound'\n",
    "condition_window = metro_stop_freq.window == '0:00-24:00'\n",
    "gdf = metro_stop_freq.loc[(condition_dir & condition_window), : ].reset_index()\n",
    "gtfs.map_gdf(gdf=gdf, \n",
    "             variable='dir_id', \n",
    "             tooltip_var=['frequency', 'stop_id'],\n",
    "             tooltip_labels = ['Frequency: ', 'Stop: '])\n",
    "\n",
    "### Number of unique metro lines passing by each metro stop:\n",
    "\n",
    "metro_stop_freq = metro_stop_freq.loc[condition_dir]\n",
    "metro_stop_freq = metro_stop_freq[['stop_id','ntrips', 'frequency','max_trips', 'max_freq', 'stop_name', 'geometry']]\n",
    "\n",
    "# Combine stop frequencies with stop_times dataset\n",
    "stops_n_routes = stop_times[['stop_id', 'route_id', 'zone_id']]\n",
    "stops_n_routes = stops_n_routes.drop_duplicates()\n",
    "stops_n_routes = stops_n_routes.groupby('stop_id').count().sort_values(by='route_id',ascending=False)\n",
    "\n",
    "metro_stop_freq = metro_stop_freq.merge(stops_n_routes, on='stop_id').rename(columns={'route_id':'number_of_routes'}).drop(columns='zone_id')\n",
    "\n",
    "### Optimization Grid Feature: Distance to nearest Metro stop\n",
    "\n",
    "all_metro_stop_ids = dict()\n",
    "nearest_stop_ids = dict()\n",
    "\n",
    "for idx, zone in tqdm(porto_grid.iterrows(),total = porto_grid.shape[0]):\n",
    "  count = 0\n",
    "  stop_ids = []\n",
    "  center = zone.geometry.centroid\n",
    "  min_distance = 1e20\n",
    "  nearest_stop_id = ''\n",
    "  for stop in metro_features_inside_porto.itertuples():\n",
    "    # Calculate distance to nearest stop \n",
    "    distance_to_stop = center.distance(stop.geometry)\n",
    "    if distance_to_stop < min_distance:\n",
    "      min_distance = distance_to_stop\n",
    "      nearest_stop_id = stop.Index\n",
    "\n",
    "    # find stops inside each optimization grid zone\n",
    "    if zone.geometry.contains(stop.geometry):\n",
    "      count += 1\n",
    "      stop_ids.append(stop.Index)\n",
    "\n",
    "  porto_grid.loc[idx, 'n_metro'] = count\n",
    "  all_metro_stop_ids[idx] = stop_ids\n",
    "  nearest_stop_ids[idx] = nearest_stop_id\n",
    "  porto_grid.loc[idx, 'dist_nearest_metro'] = min_distance\n",
    "\n",
    "### Optimization Grid Features: Number of unique routes the cross each zone & Number of trips made\n",
    "\n",
    "for idx, zone in tqdm(porto_grid.iterrows(),total = porto_grid.shape[0]):\n",
    "    porto_grid.loc[idx,'n_metro_trips'] = metro_features_inside_porto.loc[nearest_stop_ids[idx], 'ntrips']\n",
    "    porto_grid.loc[idx,'n_metro_routes'] = metro_features_inside_porto.loc[nearest_stop_ids[idx], 'number_of_routes']"
   ],
   "execution_count":null,
   "outputs":[
    
   ],
   "metadata":{
    "datalore":{
     "node_id":"gcWKoUEeLd8yRjBGmz7Y12",
     "type":"CODE",
     "hide_input_from_viewers":false,
     "hide_output_from_viewers":false,
     "report_properties":{
      "y":160
     }
    }
   }
  },
  {
   "cell_type":"markdown",
   "source":[
    "#### 1.4 Bicyle Paths Features (distance to nearest path)"
   ],
   "attachments":{
    
   },
   "metadata":{
    "datalore":{
     "node_id":"IoZJdMce6bA0cbLHAVb9Qr",
     "type":"MD",
     "hide_input_from_viewers":false,
     "hide_output_from_viewers":false,
     "report_properties":{
      "y":191
     }
    }
   }
  },
  {
   "cell_type":"code",
   "source":[
    "cycle_paths = gpd.read_file('Data\/ciclovias.geojson')\n",
    "\n",
    "# Plot cycle paths\n",
    "fig, ax = plt.subplots()\n",
    "porto.boundary.plot(ax=ax)\n",
    "cycle_paths.plot(column='estado_realiza', legend=True, cmap='Accent', ax=ax)\n",
    "ax.set_axis_off()\n",
    "ax.set_title('Porto cycling paths')\n",
    "\n",
    "# Exclude cycle paths that are still being planned\n",
    "cycle_paths = cycle_paths[cycle_paths['estado_realiza'] == 'exec']\n",
    "\n",
    "distance_to_nearest_cycle_path = []\n",
    "for idx, zone in tqdm(porto_grid.iterrows(),total = porto_grid.shape[0]):\n",
    "  center = zone.geometry.centroid\n",
    "  min_distance = 1e20\n",
    "  for path in cycle_paths.itertuples():\n",
    "    distance_to_path = center.distance(path.geometry)\n",
    "    if distance_to_path < min_distance:\n",
    "      min_distance = distance_to_path\n",
    "  porto_grid.loc[idx, 'dist_nearest_cycle_path'] = min_distance"
   ],
   "execution_count":null,
   "outputs":[
    
   ],
   "metadata":{
    "datalore":{
     "node_id":"ScmB4CXykXbrjHxE38iYdH",
     "type":"CODE",
     "hide_input_from_viewers":false,
     "hide_output_from_viewers":false,
     "report_properties":{
      "y":194
     }
    }
   }
  },
  {
   "cell_type":"markdown",
   "source":[
    "#### 1.5  Points of Interest Features (Distance to nearest PoI)\n",
    "\n",
    "The localization of the nearest points of interest around porto, such as turistic attractions and schools, should have an impact on the decision about the localization of the drop-off points."
   ],
   "attachments":{
    
   },
   "metadata":{
    "datalore":{
     "node_id":"AtL1KpUcgo1NlW3rOffE01",
     "type":"MD",
     "hide_input_from_viewers":false,
     "hide_output_from_viewers":false,
     "report_properties":{
      "y":206
     }
    }
   }
  },
  {
   "cell_type":"markdown",
   "source":[
    "#### 1.5.1 Schools and Universities\n",
    "We believe that students can take advantage of micromobility services, so we considered the distance to schools and universities as a feature."
   ],
   "attachments":{
    
   },
   "metadata":{
    "datalore":{
     "node_id":"CgDprMaVgyPdK56xTB9kZ4",
     "type":"MD",
     "hide_input_from_viewers":false,
     "hide_output_from_viewers":false,
     "report_properties":{
      "y":211
     }
    }
   }
  },
  {
   "cell_type":"code",
   "source":[
    "# The University of Porto consists of 14 colleges \n",
    "# spread across three university campuses\n",
    "df = pd.DataFrame(\n",
    "    {\n",
    "        'school': ['Arquitetura', 'Belas Artes', 'Ciências', 'Ciências Biomédicas', 'Ciências da Nutrição e da Alimentação', 'Desporto', 'Direito', 'Economia', 'Engenharia', 'Farmácia', 'Letras', 'Medicina', 'Medicina Dentária', 'Psicologia e Ciências da Educação'],\n",
    "        'latitude': [41.1504, 41.1457, 41.1528, 41.1475, 41.1529, 41.1783, 41.1525, 41.1756, 41.1780, 41.1476, 41.1505, 41.1791, 41.1741, 41.1756],\n",
    "        'longitude': [-8.6362, -8.6007, -8.6375, -8.6178, -8.6382, -8.6019, -8.6163, -8.5983, -8.5980, -8.6239, -8.6329, -8.5993, -8.6029, -8.6039]\n",
    "    }\n",
    ")\n",
    "colleges_gdf = gpd.GeoDataFrame(\n",
    "    df, geometry=gpd.points_from_xy(df.longitude, df.latitude)\n",
    ")\n",
    "\n",
    "# Public schools in Porto\n",
    "df = pd.DataFrame(\n",
    "    {\n",
    "        'school': ['Agrupamento de Escolas Alexandre Herculano', 'Agrupamento de Escolas António Nobre', 'Agrupamento de Escolas Aurélia de Sousa', 'Agrupamento de Escolas Carolina Michaëlis', 'Agrupamento de Escolas Clara de Resende', 'Agrupamento de Escolas do Cerco do Porto', 'Agrupamento de Escolas do Viso', 'Agrupamento de Escolas Eugénio de Andrade', 'Agrupamento de Escolas Fontes Pereira de Melo', 'Agrupamento de Escolas Garcia de Orta', 'Agrupamento de Escolas Infante D. Henrique', 'Agrupamento de Escolas Leonardo Coimbra Filho', 'Agrupamento de Escolas Manoel de Oliveira', 'Agrupamento de Escolas Pêro Vaz de Caminha', 'Agrupamento de Escolas Rodrigues de Freitas'],\n",
    "        'latitude': [41.148893, 41.167882, 41.160291, 41.159521, 41.162665, 41.163339, 41.178596, 41.169974, 41.164180, 41.162557, 41.152833, 41.157360, 41.169042, 41.177620, 41.155673],\n",
    "        'longitude': [-8.594657, -8.601278, -8.599571, -8.622263, -8.643622, -8.569486, -8.638440, -8.601917, -8.643250, -8.668517, -8.624802, -8.653965, -8.665871, -8.615622, -8.623161]\n",
    "    }\n",
    ")\n",
    "schools_gdf = gpd.GeoDataFrame(\n",
    "    df, geometry=gpd.points_from_xy(df.longitude, df.latitude)\n",
    ")\n",
    "\n",
    "final_education_gdf = pd.concat([colleges_gdf, schools_gdf], axis=0).reset_index(drop=True)\n",
    "\n",
    "### Calculate distance of optimization grid points to nearest schools and universities:\n",
    "\n",
    "distances = []\n",
    "for idx, zone in tqdm(porto_grid.iterrows(),total = porto_grid.shape[0]):\n",
    "  center = zone.geometry.centroid\n",
    "  min_distance = 1e20\n",
    "  for school in final_education_gdf.itertuples():\n",
    "    distance_to_school = center.distance(school.geometry)\n",
    "    if distance_to_school < min_distance:\n",
    "        min_distance = distance_to_school\n",
    "  porto_grid.loc[idx,'dist_nearest_school'] = min_distance"
   ],
   "execution_count":null,
   "outputs":[
    
   ],
   "metadata":{
    "datalore":{
     "node_id":"a6H9vkpG5aGizTxbCikj2P",
     "type":"CODE",
     "hide_input_from_viewers":false,
     "hide_output_from_viewers":false,
     "report_properties":{
      "y":216
     }
    }
   }
  },
  {
   "cell_type":"markdown",
   "source":[
    "### 1.5.2 Turistic Attractions\n",
    "Turists are one of the most active users of scooters, therefore, we considered the distance o the nearest turistic attraction an important factor to decide the localization of drop-off points"
   ],
   "attachments":{
    
   },
   "metadata":{
    "datalore":{
     "node_id":"4dUbIZYeMd4JicTOVqfmrb",
     "type":"MD",
     "hide_input_from_viewers":false,
     "hide_output_from_viewers":false,
     "report_properties":{
      "y":236
     }
    }
   }
  },
  {
   "cell_type":"code",
   "source":[
    "# Porto’s top 10 attractions according to TimeOut\n",
    "# including monuments, gardens, historic buildings, bookshops\n",
    "# Source: https:\/\/www.timeout.com\/porto\/attractions\/portos-top-10-attractions\n",
    "df = pd.DataFrame(\n",
    "    {\n",
    "        'attraction': ['Clérigos Tower', 'Crystal Palace Gardens', 'Serra do Pilar', 'Porto Wine Cellars', 'Livraria Lello', 'Porto Cathedral', 'São Bento Train Station', 'Foz', 'Ribeira', 'Marés Swimming Pool'],\n",
    "        'latitude': [41.1458, 41.1483, 41.1379, 41.1377, 41.1466, 41.1428, 41.1456, 41.15, 41.1404, 41.1927],\n",
    "        'longitude': [-8.6140, -8.6256, -8.6082, -8.6123, -8.6147, -8.6113, -8.6103, -8.667, -8.6130, -8.7075],\n",
    "    }\n",
    ")\n",
    "\n",
    "attractions_gdf = gpd.GeoDataFrame(df, \n",
    "                       geometry=gpd.points_from_xy(df.longitude, df.latitude))\n",
    "\n",
    "distances = []\n",
    "for idx, zone in tqdm(porto_grid.iterrows(),total = porto_grid.shape[0]):\n",
    "  center = zone.geometry.centroid\n",
    "  min_distance = 1e20\n",
    "  for attraction in attractions_gdf.itertuples():\n",
    "    distance_to_school = center.distance(school.geometry)\n",
    "    if distance_to_school < min_distance:\n",
    "        min_distance = distance_to_school\n",
    "  porto_grid.loc[idx,'dist_nearest_attraction'] = min_distance"
   ],
   "execution_count":null,
   "outputs":[
    
   ],
   "metadata":{
    "datalore":{
     "node_id":"yi2d4DePIklyumsw2cJiPf",
     "type":"CODE",
     "hide_input_from_viewers":false,
     "hide_output_from_viewers":false,
     "report_properties":{
      "y":241
     }
    }
   }
  },
  {
   "cell_type":"markdown",
   "source":[
    "#### 1.6 Ticket Validations (metro, train and bus)   \n",
    "The ticket validation data can tell us which stops are being used most and a general sense of the geographical flow of people around Porto  "
   ],
   "attachments":{
    
   },
   "metadata":{
    "datalore":{
     "node_id":"ENNrJNhzKa8OwSS2uNuBVs",
     "type":"MD",
     "hide_input_from_viewers":false,
     "hide_output_from_viewers":false,
     "report_properties":{
      "y":255
     }
    }
   }
  },
  {
   "cell_type":"code",
   "source":[
    "## Get list of validations of Metro & Bus separatately\n",
    "\n",
    "path = r'..\\\\data\\\\InterMunicipality\\\\TIP'\n",
    "folders = [f for f in os.listdir(path) if '.DS_' not in f]\n",
    "files_ferr = []\n",
    "files_rodo = []\n",
    "\n",
    "for fo in folders:\n",
    "    \n",
    "    complete_path = os.path.join(path, fo)\n",
    "    temp = os.listdir(complete_path)\n",
    "    \n",
    "    filename = [f for f in temp if 'ferrov' in f.lower()][0]\n",
    "    files_ferr.append(os.path.join(complete_path, filename))\n",
    "    \n",
    "    filename = [f for f in temp if 'rodov' in f.lower()][0]   \n",
    "    files_rodo.append(os.path.join(complete_path, filename))\n",
    "\n",
    "## METRO & TRAIN\n",
    "### Read all file by file, group by stop and get the average validations per day.\n",
    "data = []\n",
    "\n",
    "for i, file in enumerate(files_ferr):\n",
    "    df = pd.read_excel(file)\n",
    "    \n",
    "    est_zone = df[['Est\/Op', 'Zona']].copy()\n",
    "    est_zone = est_zone.groupby('Est\/Op').max().reset_index()\n",
    "\n",
    "    df_ = df.groupby(['Est\/Op', 'Ano', 'Mês', 'Dia']).sum()[['Validações']].reset_index()\n",
    "\n",
    "    df_['Date'] = df_.apply(lambda row: datetime.datetime(row['Ano'], row['Mês'], row['Dia']), axis=1)\n",
    "    df_ = df_.drop(columns=['Ano', 'Mês', 'Dia'])\n",
    "\n",
    "    df_ = df_.groupby('Est\/Op').mean().reset_index()\n",
    "    df_final = df_.merge(est_zone)\n",
    "    \n",
    "    data.append(df_final)\n",
    "    \n",
    "data = pd.concat(data, ignore_index=True)\n",
    "data = data.groupby('Est\/Op').mean().reset_index()\n",
    "data_ferrov = data.merge(est_zone).drop(columns=['Zona'])\n",
    "data_ferrov.sort_values(by='Validações', ascending=False)\n",
    "\n",
    "# Trindade, Casa da Música, Campanhã and São Bento have the highest number of validations from all metro stops, which makes sense for anyone that lives in Porto.\n",
    "\n",
    "## BUS\n",
    "## Read all file by file, group by stop and get the average validations per day.\n",
    "data = []\n",
    "\n",
    "for i, file in enumerate(files_rodo):\n",
    "    df = pd.read_excel(file)\n",
    "    df = df[df['Validações'].apply(lambda x: isinstance(x, (int, np.int64)))]\n",
    "    df['Validações'] = df['Validações'].astype('int')\n",
    "\n",
    "    est_zone = df[['Paragem', 'Zona']].copy()\n",
    "    est_zone = est_zone.groupby('Paragem').max().reset_index()\n",
    "\n",
    "    df_ = df.groupby(['Paragem', 'Ano', 'Mês', 'Dia']).sum()[['Validações']].reset_index()\n",
    "\n",
    "    df_['Date'] = df_.apply(lambda row: datetime.datetime(row['Ano'], row['Mês'], row['Dia']), axis=1)\n",
    "    df_ = df_.drop(columns=['Ano', 'Mês', 'Dia'])\n",
    "\n",
    "    df_ = df_.groupby('Paragem').mean().reset_index()\n",
    "    df_final = df_.merge(est_zone)\n",
    "    \n",
    "    data.append(df_final)\n",
    "    \n",
    "data = pd.concat(data, ignore_index=True)\n",
    "data = data.groupby('Paragem').mean().reset_index()\n",
    "data_rodov = data.merge(est_zone)\n",
    "data_rodov.sort_values(by='Validações', ascending=False)\n",
    "# Areosa, Campo 24 de Agosto, Casa da Música, Marquês and Aliados have the highest number of validations from all bus stops, which also makes completely sense for anyone that knows Porto."
   ],
   "execution_count":null,
   "outputs":[
    
   ],
   "metadata":{
    "datalore":{
     "node_id":"gVKWU9JAD3cUC0mrCgeaYo",
     "type":"CODE",
     "hide_input_from_viewers":false,
     "hide_output_from_viewers":false,
     "report_properties":{
      "y":260
     }
    }
   }
  },
  {
   "cell_type":"markdown",
   "source":[
    "**Join validation datasets with stops' geometry**\n",
    "\n",
    "*Metro*\n",
    "\n",
    "There were some inconsistencies between the metro stops names of the grid and the stops names of the validation data (for example \"Senhora da Hora\" and \"Sª da Hora\"), so the CSV file previously generated ('validation_ferrov.csv') was manually checked and all inconsistent names were changed directly in Excel. The resulting file was saved with the name 'validation_ferrov_fixed.csv'."
   ],
   "attachments":{
    
   },
   "metadata":{
    "datalore":{
     "node_id":"IDGr36n8SmRZZGr8g1VD9L",
     "type":"MD",
     "hide_input_from_viewers":false,
     "hide_output_from_viewers":false,
     "report_properties":{
      "y":295
     }
    }
   }
  },
  {
   "cell_type":"code",
   "source":[
    "path = 'validation_ferrov_fixed.csv'\n",
    "validations = pd.read_csv(path)\n",
    "validations = validations.rename(columns={'Est\/Op': 'stop_name', 'Validações': 'validations'})\n",
    "\n",
    "metro_stops = metro_features_inside_porto[['stop_id', 'stop_name', 'geometry']]\n",
    "print(\"Number of stops in grid =\", len(metro_stops))\n",
    "print(\"Number of stops in validations =\", len(validations))"
   ],
   "execution_count":null,
   "outputs":[
    {
     "name":"stdout",
     "text":[
      "Number of stops in grid = 83\n",
      "Number of stops in validations = 166\n"
     ],
     "output_type":"stream"
    }
   ],
   "metadata":{
    "datalore":{
     "node_id":"kG78u19DNhl2AHiSknQMJa",
     "type":"CODE",
     "hide_input_from_viewers":false,
     "hide_output_from_viewers":false,
     "report_properties":{
      "y":303
     }
    }
   }
  },
  {
   "cell_type":"markdown",
   "source":[
    "Merge validations with grid (right merge to ensure all stops in grid are maintained)."
   ],
   "attachments":{
    
   },
   "metadata":{
    "datalore":{
     "node_id":"2KFzry6lbZbZvpksE5ETNc",
     "type":"MD",
     "hide_input_from_viewers":false,
     "hide_output_from_viewers":false,
     "report_properties":{
      "y":306
     }
    }
   }
  },
  {
   "cell_type":"code",
   "source":[
    "validations_metro = validations.merge(metro_stops, on='stop_name', how='right')\n",
    "validations_metro['validations'] = validations_metro['validations'].fillna((validations_metro['validations'].mean()))\n",
    "validations_metro[['stop_name', 'validations', 'geometry']].to_csv('validations_ferrov_final.csv')\n",
    "validations_metro[['stop_name', 'validations', 'geometry']].head(3)"
   ],
   "execution_count":null,
   "outputs":[
    {
     "data":{
      "text\/html":[
       "<div>\n",
       "<style scoped>\n",
       "    .dataframe tbody tr th:only-of-type {\n",
       "        vertical-align: middle;\n",
       "    }\n",
       "\n",
       "    .dataframe tbody tr th {\n",
       "        vertical-align: top;\n",
       "    }\n",
       "\n",
       "    .dataframe thead th {\n",
       "        text-align: right;\n",
       "    }\n",
       "<\/style>\n",
       "<table border=\"1\" class=\"dataframe\">\n",
       "  <thead>\n",
       "    <tr style=\"text-align: right;\">\n",
       "      <th><\/th>\n",
       "      <th>stop_name<\/th>\n",
       "      <th>validations<\/th>\n",
       "      <th>geometry<\/th>\n",
       "    <\/tr>\n",
       "  <\/thead>\n",
       "  <tbody>\n",
       "    <tr>\n",
       "      <th>0<\/th>\n",
       "      <td>Hospital Pedro Hispano<\/td>\n",
       "      <td>648.217491<\/td>\n",
       "      <td>POINT (-8.666232 41.180381)<\/td>\n",
       "    <\/tr>\n",
       "    <tr>\n",
       "      <th>1<\/th>\n",
       "      <td>Senhor de Matosinhos<\/td>\n",
       "      <td>190.241544<\/td>\n",
       "      <td>POINT (-8.685123 41.188205)<\/td>\n",
       "    <\/tr>\n",
       "    <tr>\n",
       "      <th>2<\/th>\n",
       "      <td>Mercado<\/td>\n",
       "      <td>683.241427<\/td>\n",
       "      <td>POINT (-8.693391 41.187484)<\/td>\n",
       "    <\/tr>\n",
       "  <\/tbody>\n",
       "<\/table>\n",
       "<\/div>"
      ]
     },
     "metadata":{
      
     },
     "output_type":"display_data"
    },
    {
     "data":{
      "text\/plain":[
       "                stop_name  validations                     geometry\n",
       "0  Hospital Pedro Hispano   648.217491  POINT (-8.666232 41.180381)\n",
       "1    Senhor de Matosinhos   190.241544  POINT (-8.685123 41.188205)\n",
       "2                 Mercado   683.241427  POINT (-8.693391 41.187484)"
      ]
     },
     "metadata":{
      
     },
     "output_type":"display_data"
    }
   ],
   "metadata":{
    "datalore":{
     "node_id":"M3uXGXC516P2PmeIgTzDXL",
     "type":"CODE",
     "hide_input_from_viewers":false,
     "hide_output_from_viewers":false,
     "report_properties":{
      "y":309
     }
    }
   }
  },
  {
   "cell_type":"markdown",
   "source":[
    "*Bus*"
   ],
   "attachments":{
    
   },
   "metadata":{
    "datalore":{
     "node_id":"hvODYWjwqJQk01I1a8uNWG",
     "type":"MD",
     "hide_input_from_viewers":false,
     "hide_output_from_viewers":false,
     "report_properties":{
      "y":312
     }
    }
   }
  },
  {
   "cell_type":"code",
   "source":[
    "path = 'validation_rodov.csv'\n",
    "validations = pd.read_csv(path)\n",
    "validations = validations.rename(columns={'Paragem': 'stop_name', 'Validações': 'validations'})\n",
    "\n",
    "bus_stops = bus_features_inside_porto[['stop_id', 'stop_name', 'geometry']]\n",
    "\n",
    "print(\"Number of stops in grid =\", len(bus_stops))\n",
    "print(\"Number of stops in validations =\", len(validations))"
   ],
   "execution_count":null,
   "outputs":[
    {
     "name":"stdout",
     "text":[
      "Number of stops in grid = 1475\n",
      "Number of stops in validations = 1255\n"
     ],
     "output_type":"stream"
    }
   ],
   "metadata":{
    "datalore":{
     "node_id":"EcHKhWiDIyMxlx9vtbJX5X",
     "type":"CODE",
     "hide_input_from_viewers":false,
     "hide_output_from_viewers":false,
     "report_properties":{
      "y":315
     }
    }
   }
  },
  {
   "cell_type":"markdown",
   "source":[
    "Merge validations with grid (right merge to ensure all stops in grid are maintained)."
   ],
   "attachments":{
    
   },
   "metadata":{
    "datalore":{
     "node_id":"8yTBRhb85LNhflfw34uiPK",
     "type":"MD",
     "hide_input_from_viewers":false,
     "hide_output_from_viewers":false,
     "report_properties":{
      "y":318
     }
    }
   }
  },
  {
   "cell_type":"code",
   "source":[
    "validations_bus = validations.merge(bus_stops, on='stop_name', how='right')\n",
    "validations_bus['validations'] = val_data_bus['validations'].fillna((validations_bus['validations'].mean()))\n",
    "validations_bus[['stop_name', 'validations', 'geometry']].to_csv('validations_rodov_final.csv')\n",
    "validations_bus[['stop_name', 'validations', 'geometry']].head(3)"
   ],
   "execution_count":null,
   "outputs":[
    {
     "data":{
      "text\/html":[
       "<div>\n",
       "<style scoped>\n",
       "    .dataframe tbody tr th:only-of-type {\n",
       "        vertical-align: middle;\n",
       "    }\n",
       "\n",
       "    .dataframe tbody tr th {\n",
       "        vertical-align: top;\n",
       "    }\n",
       "\n",
       "    .dataframe thead th {\n",
       "        text-align: right;\n",
       "    }\n",
       "<\/style>\n",
       "<table border=\"1\" class=\"dataframe\">\n",
       "  <thead>\n",
       "    <tr style=\"text-align: right;\">\n",
       "      <th><\/th>\n",
       "      <th>stop_name<\/th>\n",
       "      <th>validations<\/th>\n",
       "      <th>geometry<\/th>\n",
       "    <\/tr>\n",
       "  <\/thead>\n",
       "  <tbody>\n",
       "    <tr>\n",
       "      <th>0<\/th>\n",
       "      <td>CHÃO VERDE<\/td>\n",
       "      <td>90.287013<\/td>\n",
       "      <td>POINT (-8.55571114977721 41.1739072361269)<\/td>\n",
       "    <\/tr>\n",
       "    <tr>\n",
       "      <th>1<\/th>\n",
       "      <td>CHÃO VERDE<\/td>\n",
       "      <td>90.287013<\/td>\n",
       "      <td>POINT (-8.55626376068252 41.172932562849)<\/td>\n",
       "    <\/tr>\n",
       "    <tr>\n",
       "      <th>2<\/th>\n",
       "      <td>TRINDADE<\/td>\n",
       "      <td>1586.119444<\/td>\n",
       "      <td>POINT (-8.60958703096252 41.1516948699702)<\/td>\n",
       "    <\/tr>\n",
       "  <\/tbody>\n",
       "<\/table>\n",
       "<\/div>"
      ]
     },
     "metadata":{
      
     },
     "output_type":"display_data"
    },
    {
     "data":{
      "text\/plain":[
       "    stop_name  validations                                    geometry\n",
       "0  CHÃO VERDE    90.287013  POINT (-8.55571114977721 41.1739072361269)\n",
       "1  CHÃO VERDE    90.287013   POINT (-8.55626376068252 41.172932562849)\n",
       "2    TRINDADE  1586.119444  POINT (-8.60958703096252 41.1516948699702)"
      ]
     },
     "metadata":{
      
     },
     "output_type":"display_data"
    }
   ],
   "metadata":{
    "datalore":{
     "node_id":"eIob0dwX1en5fiPm3jGjW0",
     "type":"CODE",
     "hide_input_from_viewers":false,
     "hide_output_from_viewers":false,
     "report_properties":{
      "y":321
     }
    }
   }
  },
  {
   "cell_type":"markdown",
   "source":[
    "Both datasets (metro and bus) will be merged with the grid of Porto, alowing the visualization of the geographical distribution of the validation data (flow of people in public transports) across the city."
   ],
   "attachments":{
    
   },
   "metadata":{
    "datalore":{
     "node_id":"aI42058AJ7VVnP2RlKN5Bc",
     "type":"MD",
     "hide_input_from_viewers":false,
     "hide_output_from_viewers":false,
     "report_properties":{
      "y":324
     }
    }
   }
  },
  {
   "cell_type":"markdown",
   "source":[
    "**Associate validations data to loalizations in the optimzation grid**"
   ],
   "attachments":{
    
   },
   "metadata":{
    "datalore":{
     "node_id":"mpfVfhs0KN2fFQ7K4b7hBG",
     "type":"MD",
     "hide_input_from_viewers":false,
     "hide_output_from_viewers":false,
     "report_properties":{
      "y":327
     }
    }
   }
  },
  {
   "cell_type":"markdown",
   "source":[
    "Plot bus validations:"
   ],
   "attachments":{
    
   },
   "metadata":{
    "datalore":{
     "node_id":"ObOVkv8VObWcSGNaO8yFt2",
     "type":"MD",
     "hide_input_from_viewers":false,
     "hide_output_from_viewers":false,
     "report_properties":{
      "y":330
     }
    }
   }
  },
  {
   "cell_type":"code",
   "source":[
    "fig, ax = plt.subplots()\n",
    "porto.plot(ax=ax)\n",
    "validations_bus.plot(column='stop_name', ax=ax)\n",
    "ax.set_axis_off()"
   ],
   "execution_count":null,
   "outputs":[
    {
     "data":{
      "image\/png":"[encoded data removed]"
     },
     "metadata":{
      "image\/png":{
       
      }
     },
     "output_type":"display_data"
    },
    {
     "data":{
      "text\/plain":[
       "<Figure size 1152x576 with 1 Axes>"
      ]
     },
     "metadata":{
      
     },
     "output_type":"display_data"
    }
   ],
   "metadata":{
    "datalore":{
     "node_id":"GDSGlQHvRRqwYRzM7qBQ35",
     "type":"CODE",
     "hide_input_from_viewers":false,
     "hide_output_from_viewers":false,
     "report_properties":{
      "y":333
     }
    }
   }
  },
  {
   "cell_type":"markdown",
   "source":[
    "Associate validation of bus tickets to the optimization of the grid"
   ],
   "attachments":{
    
   },
   "metadata":{
    "datalore":{
     "node_id":"NEQyX1UWZDbBkDZJ2vLCyr",
     "type":"MD",
     "hide_input_from_viewers":false,
     "hide_output_from_viewers":false,
     "report_properties":{
      "y":336
     }
    }
   }
  },
  {
   "cell_type":"code",
   "source":[
    "validations = []\n",
    "for zone in porto_grid.itertuples():\n",
    "  stops = []\n",
    "  for stop in validations_bus.itertuples():\n",
    "    if zone.geometry.contains(stop.geometry):\n",
    "      stops.append(stop.stop_name)\n",
    "\n",
    "  center = zone.geometry.centroid\n",
    "  if len(stops) == 0:\n",
    "    min_distance = 1e20\n",
    "    name = ''\n",
    "    for stop in validations_bus.itertuples():\n",
    "      distance_to_stop = center.distance(stop.geometry)\n",
    "      if distance_to_stop < min_distance:\n",
    "        min_distance = distance_to_stop\n",
    "        name = stop.stop_name\n",
    "\n",
    "    validations.append(validations_bus[validations_bus.stop_name == name].iloc[0]['validations'])\n",
    "  else:\n",
    "    validations.append(validations_bus[validations_bus.stop_name.isin(stops)]['validations'].max())\n",
    "\n",
    "porto_grid['validations_bus'] = validations"
   ],
   "execution_count":null,
   "outputs":[
    
   ],
   "metadata":{
    "datalore":{
     "node_id":"Gv8KZMxRSOLj1ukruMcvpj",
     "type":"CODE",
     "hide_input_from_viewers":false,
     "hide_output_from_viewers":false,
     "report_properties":{
      "y":339
     }
    }
   }
  },
  {
   "cell_type":"markdown",
   "source":[
    "Associate validation of metro tickets to the optimization of the grid"
   ],
   "attachments":{
    
   },
   "metadata":{
    "datalore":{
     "node_id":"k7Hh32VLbSD79WG2QD9Ceg",
     "type":"MD",
     "hide_input_from_viewers":false,
     "hide_output_from_viewers":false,
     "report_properties":{
      "y":342
     }
    }
   }
  },
  {
   "cell_type":"code",
   "source":[
    "validations = []\n",
    "for zone in porto_grid.itertuples():\n",
    "  stops = []\n",
    "  for stop in validations_metro.itertuples():\n",
    "    if zone.geometry.contains(stop.geometry):\n",
    "      stops.append(stop.stop_name)\n",
    "\n",
    "  center = zone.geometry.centroid\n",
    "  if len(stops) == 0:\n",
    "    min_distance = 1e20\n",
    "    name = ''\n",
    "    for stop in validations_metro.itertuples():\n",
    "      distance_to_stop = center.distance(stop.geometry)\n",
    "      if distance_to_stop < min_distance:\n",
    "        min_distance = distance_to_stop\n",
    "        name = stop.stop_name\n",
    "    validations.append(validations_metro[validations_metro.stop_name == name].iloc[0]['validations'])\n",
    "  else:\n",
    "    validations.append(validations_metro[validations_metro.stop_name.isin(stops)]['validations'].max())\n",
    "    \n",
    "porto_grid['validations_metro'] = validations"
   ],
   "execution_count":null,
   "outputs":[
    
   ],
   "metadata":{
    "datalore":{
     "node_id":"ReTF0eCVm2DGcpFXtSBNTp",
     "type":"CODE",
     "hide_input_from_viewers":false,
     "hide_output_from_viewers":false,
     "report_properties":{
      "y":345
     }
    }
   }
  },
  {
   "cell_type":"markdown",
   "source":[
    "#### 1.7 Process soft-mobility trips datastet (E-Scooter OD)"
   ],
   "attachments":{
    
   },
   "metadata":{
    "datalore":{
     "node_id":"qsGjL6eX5C5uBiMLOa3qnX",
     "type":"MD",
     "hide_input_from_viewers":false,
     "hide_output_from_viewers":false,
     "report_properties":{
      "y":348
     }
    }
   }
  },
  {
   "cell_type":"markdown",
   "source":[
    "We used this dataset to find out the current softmobility flow: the number of trips per zone in the optimization grid"
   ],
   "attachments":{
    
   },
   "metadata":{
    "datalore":{
     "node_id":"F4DlM9ACJvJJWLqgAc4FkE",
     "type":"MD",
     "hide_input_from_viewers":false,
     "hide_output_from_viewers":false,
     "report_properties":{
      "y":351
     }
    }
   }
  },
  {
   "cell_type":"markdown",
   "source":[
    "Convert longitude and latitude into geopandas geometry points"
   ],
   "attachments":{
    
   },
   "metadata":{
    "datalore":{
     "node_id":"HvY608UE7y3aKhFsJm2agS",
     "type":"MD",
     "hide_input_from_viewers":false,
     "hide_output_from_viewers":false,
     "report_properties":{
      "y":354
     }
    }
   }
  },
  {
   "cell_type":"code",
   "source":[
    "df = pd.read_csv('Data\/wdl_od_view.csv')\n",
    "geometry = gpd.points_from_xy(df['lng'], df['lat'])\n",
    "df['geometry'] = geometry\n",
    "df.head(1)"
   ],
   "execution_count":null,
   "outputs":[
    {
     "data":{
      "text\/html":[
       "<div>\n",
       "<style scoped>\n",
       "    .dataframe tbody tr th:only-of-type {\n",
       "        vertical-align: middle;\n",
       "    }\n",
       "\n",
       "    .dataframe tbody tr th {\n",
       "        vertical-align: top;\n",
       "    }\n",
       "\n",
       "    .dataframe thead th {\n",
       "        text-align: right;\n",
       "    }\n",
       "<\/style>\n",
       "<table border=\"1\" class=\"dataframe\">\n",
       "  <thead>\n",
       "    <tr style=\"text-align: right;\">\n",
       "      <th><\/th>\n",
       "      <th>recorded<\/th>\n",
       "      <th>id<\/th>\n",
       "      <th>device_id<\/th>\n",
       "      <th>timestamp<\/th>\n",
       "      <th>event_types<\/th>\n",
       "      <th>vehicle_state<\/th>\n",
       "      <th>trip_state<\/th>\n",
       "      <th>telemetry_timestamp<\/th>\n",
       "      <th>trip_id<\/th>\n",
       "      <th>lat<\/th>\n",
       "      <th>lng<\/th>\n",
       "      <th>geometry<\/th>\n",
       "    <\/tr>\n",
       "  <\/thead>\n",
       "  <tbody>\n",
       "    <tr>\n",
       "      <th>0<\/th>\n",
       "      <td>1634809115769<\/td>\n",
       "      <td>1<\/td>\n",
       "      <td>a7990baa-909e-42ed-8546-a2a9d2e42b3c<\/td>\n",
       "      <td>1634734083000<\/td>\n",
       "      <td>{trip_leave_jurisdiction}<\/td>\n",
       "      <td>elsewhere<\/td>\n",
       "      <td>NaN<\/td>\n",
       "      <td>1634734079000<\/td>\n",
       "      <td>6e073f7f-b955-4033-b7bd-6237faa51507<\/td>\n",
       "      <td>41.147263<\/td>\n",
       "      <td>-8.674807<\/td>\n",
       "      <td>POINT (-8.67481 41.14726)<\/td>\n",
       "    <\/tr>\n",
       "  <\/tbody>\n",
       "<\/table>\n",
       "<\/div>"
      ]
     },
     "metadata":{
      
     },
     "output_type":"display_data"
    },
    {
     "data":{
      "text\/plain":[
       "        recorded  id                             device_id      timestamp  \\\n",
       "0  1634809115769   1  a7990baa-909e-42ed-8546-a2a9d2e42b3c  1634734083000   \n",
       "\n",
       "                 event_types vehicle_state  trip_state  telemetry_timestamp  \\\n",
       "0  {trip_leave_jurisdiction}     elsewhere         NaN        1634734079000   \n",
       "\n",
       "                                trip_id        lat       lng  \\\n",
       "0  6e073f7f-b955-4033-b7bd-6237faa51507  41.147263 -8.674807   \n",
       "\n",
       "                    geometry  \n",
       "0  POINT (-8.67481 41.14726)  "
      ]
     },
     "metadata":{
      
     },
     "output_type":"display_data"
    }
   ],
   "metadata":{
    "datalore":{
     "node_id":"wS9GVE19uMPdoNlvWj3YtA",
     "type":"CODE",
     "hide_input_from_viewers":false,
     "hide_output_from_viewers":false,
     "report_properties":{
      "y":357
     }
    }
   }
  },
  {
   "cell_type":"markdown",
   "source":[
    "**Consider only the points where trips were started**"
   ],
   "attachments":{
    
   },
   "metadata":{
    "datalore":{
     "node_id":"gF1DeP4u2v7LrbEw9N8F0x",
     "type":"MD",
     "hide_input_from_viewers":false,
     "hide_output_from_viewers":false,
     "report_properties":{
      "y":360
     }
    }
   }
  },
  {
   "cell_type":"code",
   "source":[
    "df = df.loc[df['event_types'] == '{trip_start}']\n",
    "df = df[['timestamp', 'geometry']].reset_index()\n",
    "df = df.rename(columns={'index':'trip_id'})\n",
    "df = df.dropna(subset=['geometry'])\n",
    "print(\"Number of rows:\", len(df))\n",
    "print(\"Number of unique trips:\", len(df['trip_id'].unique()))\n",
    "df.head(3)"
   ],
   "execution_count":null,
   "outputs":[
    {
     "name":"stdout",
     "text":[
      "Number of rows: 71909\n",
      "Number of unique trips: 71909\n",
      "\n"
     ],
     "output_type":"stream"
    },
    {
     "name":"stderr",
     "text":[
      "\n"
     ],
     "output_type":"stream"
    },
    {
     "data":{
      "text\/html":[
       "<div>\n",
       "<style scoped>\n",
       "    .dataframe tbody tr th:only-of-type {\n",
       "        vertical-align: middle;\n",
       "    }\n",
       "\n",
       "    .dataframe tbody tr th {\n",
       "        vertical-align: top;\n",
       "    }\n",
       "\n",
       "    .dataframe thead th {\n",
       "        text-align: right;\n",
       "    }\n",
       "<\/style>\n",
       "<table border=\"1\" class=\"dataframe\">\n",
       "  <thead>\n",
       "    <tr style=\"text-align: right;\">\n",
       "      <th><\/th>\n",
       "      <th>trip_id<\/th>\n",
       "      <th>timestamp<\/th>\n",
       "      <th>geometry<\/th>\n",
       "    <\/tr>\n",
       "  <\/thead>\n",
       "  <tbody>\n",
       "    <tr>\n",
       "      <th>0<\/th>\n",
       "      <td>2<\/td>\n",
       "      <td>1635282790000<\/td>\n",
       "      <td>POINT (-8.66511 41.14802)<\/td>\n",
       "    <\/tr>\n",
       "    <tr>\n",
       "      <th>1<\/th>\n",
       "      <td>4<\/td>\n",
       "      <td>1635282728000<\/td>\n",
       "      <td>POINT (-8.61231 41.14512)<\/td>\n",
       "    <\/tr>\n",
       "    <tr>\n",
       "      <th>2<\/th>\n",
       "      <td>7<\/td>\n",
       "      <td>1635282805000<\/td>\n",
       "      <td>POINT (-8.61124 41.17267)<\/td>\n",
       "    <\/tr>\n",
       "  <\/tbody>\n",
       "<\/table>\n",
       "<\/div>"
      ]
     },
     "metadata":{
      
     },
     "output_type":"display_data"
    },
    {
     "data":{
      "text\/plain":[
       "   trip_id      timestamp                   geometry\n",
       "0        2  1635282790000  POINT (-8.66511 41.14802)\n",
       "1        4  1635282728000  POINT (-8.61231 41.14512)\n",
       "2        7  1635282805000  POINT (-8.61124 41.17267)"
      ]
     },
     "metadata":{
      
     },
     "output_type":"display_data"
    }
   ],
   "metadata":{
    "datalore":{
     "node_id":"UM2Zww0cXWGrN4xwtTqPRb",
     "type":"CODE",
     "hide_input_from_viewers":false,
     "hide_output_from_viewers":false,
     "report_properties":{
      "y":363
     }
    }
   }
  },
  {
   "cell_type":"markdown",
   "source":[
    "Define the zone corresponding to all soft-mobility trips starts"
   ],
   "attachments":{
    
   },
   "metadata":{
    "datalore":{
     "node_id":"ItFYfxac9oqlPujaf3G6CS",
     "type":"MD",
     "hide_input_from_viewers":false,
     "hide_output_from_viewers":false,
     "report_properties":{
      "y":366
     }
    }
   }
  },
  {
   "cell_type":"code",
   "source":[
    "for zone in tqdm(porto_grid.itertuples(), total=len(porto_grid)):\n",
    "    for trip in df.itertuples():\n",
    "        try:\n",
    "            if zone.geometry.contains(trip.geometry):\n",
    "                df.loc[df['trip_id'] == trip.trip_id, 'zone'] = zone[0]\n",
    "        except:\n",
    "            pass"
   ],
   "execution_count":null,
   "outputs":[
    
   ],
   "metadata":{
    "datalore":{
     "node_id":"w2tY7XqYIcIodu3JGGXmfe",
     "type":"CODE",
     "hide_input_from_viewers":false,
     "hide_output_from_viewers":false,
     "report_properties":{
      "y":369
     }
    }
   }
  },
  {
   "cell_type":"markdown",
   "source":[
    "Convert timestamps into *dates*"
   ],
   "attachments":{
    
   },
   "metadata":{
    "datalore":{
     "node_id":"sqo54BbUavVxAEc4gTb25B",
     "type":"MD",
     "hide_input_from_viewers":false,
     "hide_output_from_viewers":false,
     "report_properties":{
      "y":372
     }
    }
   }
  },
  {
   "cell_type":"code",
   "source":[
    "df = df.dropna()\n",
    "df['timestamp'] = df['timestamp'].apply(lambda x: int(str(int(x))[:-3]))\n",
    "df['datetime'] = df['timestamp'].apply(lambda x: datetime.fromtimestamp(x))\n",
    "df['date'] = df['datetime'].apply(lambda x: x.date())"
   ],
   "execution_count":null,
   "outputs":[
    
   ],
   "metadata":{
    "datalore":{
     "node_id":"O0Yu0Y8si59Aq3mgmxxjo8",
     "type":"CODE",
     "hide_input_from_viewers":false,
     "hide_output_from_viewers":false,
     "report_properties":{
      "y":375
     }
    }
   }
  },
  {
   "cell_type":"markdown",
   "source":[
    "Count trips per zone"
   ],
   "attachments":{
    
   },
   "metadata":{
    "datalore":{
     "node_id":"xuPRfegCbCdfLAcNBDhTk1",
     "type":"MD",
     "hide_input_from_viewers":false,
     "hide_output_from_viewers":false,
     "report_properties":{
      "y":378
     }
    }
   }
  },
  {
   "cell_type":"code",
   "source":[
    "df = df[['zone', 'date']]\n",
    "df = df.groupby('zone').count()\n",
    "df = df.reset_index().rename(columns={'date': 'n_trips_start'})\n",
    "df['zone'] = df['zone'].apply(lambda x: int(x))\n",
    "df.head(3)"
   ],
   "execution_count":null,
   "outputs":[
    {
     "data":{
      "text\/html":[
       "<div>\n",
       "<style scoped>\n",
       "    .dataframe tbody tr th:only-of-type {\n",
       "        vertical-align: middle;\n",
       "    }\n",
       "\n",
       "    .dataframe tbody tr th {\n",
       "        vertical-align: top;\n",
       "    }\n",
       "\n",
       "    .dataframe thead th {\n",
       "        text-align: right;\n",
       "    }\n",
       "<\/style>\n",
       "<table border=\"1\" class=\"dataframe\">\n",
       "  <thead>\n",
       "    <tr style=\"text-align: right;\">\n",
       "      <th><\/th>\n",
       "      <th>zone<\/th>\n",
       "      <th>n_trips_start<\/th>\n",
       "    <\/tr>\n",
       "  <\/thead>\n",
       "  <tbody>\n",
       "    <tr>\n",
       "      <th>0<\/th>\n",
       "      <td>6<\/td>\n",
       "      <td>2<\/td>\n",
       "    <\/tr>\n",
       "    <tr>\n",
       "      <th>1<\/th>\n",
       "      <td>12<\/td>\n",
       "      <td>80<\/td>\n",
       "    <\/tr>\n",
       "    <tr>\n",
       "      <th>2<\/th>\n",
       "      <td>13<\/td>\n",
       "      <td>230<\/td>\n",
       "    <\/tr>\n",
       "  <\/tbody>\n",
       "<\/table>\n",
       "<\/div>"
      ]
     },
     "metadata":{
      
     },
     "output_type":"display_data"
    },
    {
     "data":{
      "text\/plain":[
       "   zone  n_trips_start\n",
       "0     6              2\n",
       "1    12             80\n",
       "2    13            230"
      ]
     },
     "metadata":{
      
     },
     "output_type":"display_data"
    }
   ],
   "metadata":{
    "datalore":{
     "node_id":"xwEwXBrU3h61MXl6fyPSr1",
     "type":"CODE",
     "hide_input_from_viewers":false,
     "hide_output_from_viewers":false,
     "report_properties":{
      "y":381
     }
    }
   }
  },
  {
   "cell_type":"markdown",
   "source":[
    "Associate trips per zone with optimization grid"
   ],
   "attachments":{
    
   },
   "metadata":{
    "datalore":{
     "node_id":"1fqK6Atv6rNACTStCMtIHZ",
     "type":"MD",
     "hide_input_from_viewers":false,
     "hide_output_from_viewers":false,
     "report_properties":{
      "y":384
     }
    }
   }
  },
  {
   "cell_type":"code",
   "source":[
    "porto_grid = porto_grid.drop(columns=['Unnamed: 0']).reset_index().rename(columns={'index': 'zone'})\n",
    "\n",
    "porto_grid_ = porto_grid.merge(df, on='zone', how='left')\n",
    "porto_grid_['n_trips_start'] = porto_grid_['n_trips_start'].fillna(0)\n",
    "\n",
    "print('Number of rows in grid =', len(porto_grid_))\n",
    "porto_grid.head(2)"
   ],
   "execution_count":null,
   "outputs":[
    {
     "name":"stdout",
     "text":[
      "Number of rows in grid = 7496\n",
      "\n"
     ],
     "output_type":"stream"
    },
    {
     "name":"stderr",
     "text":[
      "\n"
     ],
     "output_type":"stream"
    },
    {
     "data":{
      "text\/html":[
       "<div>\n",
       "<style scoped>\n",
       "    .dataframe tbody tr th:only-of-type {\n",
       "        vertical-align: middle;\n",
       "    }\n",
       "\n",
       "    .dataframe tbody tr th {\n",
       "        vertical-align: top;\n",
       "    }\n",
       "\n",
       "    .dataframe thead th {\n",
       "        text-align: right;\n",
       "    }\n",
       "<\/style>\n",
       "<table border=\"1\" class=\"dataframe\">\n",
       "  <thead>\n",
       "    <tr style=\"text-align: right;\">\n",
       "      <th><\/th>\n",
       "      <th>zone<\/th>\n",
       "      <th>geometry<\/th>\n",
       "      <th>n_bus<\/th>\n",
       "      <th>dist_nearest_bus<\/th>\n",
       "      <th>n_bus_routes<\/th>\n",
       "      <th>n_bus_trips<\/th>\n",
       "      <th>n_metro<\/th>\n",
       "      <th>dist_nearest_metro<\/th>\n",
       "      <th>n_metro_routes<\/th>\n",
       "      <th>n_metro_trips<\/th>\n",
       "      <th>dist_nearest_cycle_path<\/th>\n",
       "      <th>validations_bus<\/th>\n",
       "      <th>validations_metro<\/th>\n",
       "      <th>dist_nearest_school<\/th>\n",
       "      <th>dist_nearest_attraction<\/th>\n",
       "    <\/tr>\n",
       "  <\/thead>\n",
       "  <tbody>\n",
       "    <tr>\n",
       "      <th>0<\/th>\n",
       "      <td>0<\/td>\n",
       "      <td>POLYGON ((-8.69129 41.16747, -8.69052 41.16747...<\/td>\n",
       "      <td>0<\/td>\n",
       "      <td>0.001447<\/td>\n",
       "      <td>4<\/td>\n",
       "      <td>62<\/td>\n",
       "      <td>0<\/td>\n",
       "      <td>0.012536<\/td>\n",
       "      <td>1<\/td>\n",
       "      <td>1<\/td>\n",
       "      <td>0.001312<\/td>\n",
       "      <td>664.935714<\/td>\n",
       "      <td>1752.209843<\/td>\n",
       "      <td>0.023005<\/td>\n",
       "      <td>0.029836<\/td>\n",
       "    <\/tr>\n",
       "    <tr>\n",
       "      <th>1<\/th>\n",
       "      <td>1<\/td>\n",
       "      <td>POLYGON ((-8.69129 41.16824, -8.69052 41.16824...<\/td>\n",
       "      <td>0<\/td>\n",
       "      <td>0.001648<\/td>\n",
       "      <td>4<\/td>\n",
       "      <td>62<\/td>\n",
       "      <td>0<\/td>\n",
       "      <td>0.011782<\/td>\n",
       "      <td>1<\/td>\n",
       "      <td>1<\/td>\n",
       "      <td>0.001452<\/td>\n",
       "      <td>664.935714<\/td>\n",
       "      <td>1752.209843<\/td>\n",
       "      <td>0.023194<\/td>\n",
       "      <td>0.029241<\/td>\n",
       "    <\/tr>\n",
       "  <\/tbody>\n",
       "<\/table>\n",
       "<\/div>"
      ]
     },
     "metadata":{
      
     },
     "output_type":"display_data"
    },
    {
     "data":{
      "text\/plain":[
       "   zone                                           geometry  n_bus  \\\n",
       "0     0  POLYGON ((-8.69129 41.16747, -8.69052 41.16747...      0   \n",
       "1     1  POLYGON ((-8.69129 41.16824, -8.69052 41.16824...      0   \n",
       "\n",
       "   dist_nearest_bus  n_bus_routes  n_bus_trips  n_metro  dist_nearest_metro  \\\n",
       "0          0.001447             4           62        0            0.012536   \n",
       "1          0.001648             4           62        0            0.011782   \n",
       "\n",
       "   n_metro_routes  n_metro_trips  dist_nearest_cycle_path  validations_bus  \\\n",
       "0               1              1                 0.001312       664.935714   \n",
       "1               1              1                 0.001452       664.935714   \n",
       "\n",
       "   validations_metro  dist_nearest_school  dist_nearest_attraction  \n",
       "0        1752.209843             0.023005                 0.029836  \n",
       "1        1752.209843             0.023194                 0.029241  "
      ]
     },
     "metadata":{
      
     },
     "output_type":"display_data"
    }
   ],
   "metadata":{
    "datalore":{
     "node_id":"FAGaZqf6QwYdoSFSxm7wum",
     "type":"CODE",
     "hide_input_from_viewers":false,
     "hide_output_from_viewers":false,
     "report_properties":{
      "y":387
     }
    }
   }
  },
  {
   "cell_type":"markdown",
   "source":[
    "Show current geographical distribution of soft-mobility trips' starting points"
   ],
   "attachments":{
    
   },
   "metadata":{
    "datalore":{
     "node_id":"ltdVNBH6rUHhjaLI8qe65M",
     "type":"MD",
     "hide_input_from_viewers":false,
     "hide_output_from_viewers":false,
     "report_properties":{
      "y":390
     }
    }
   }
  },
  {
   "cell_type":"code",
   "source":[
    "fig, ax = plt.subplots(1, 1, figsize=(20, 5))\n",
    "\n",
    "porto_grid_.plot(column='n_trips_start', ax=ax, legend=True)\n",
    "ax.set_title('Current localization of soft mobility starting points')"
   ],
   "execution_count":null,
   "outputs":[
    {
     "name":"stdout",
     "text":[
      "\n"
     ],
     "output_type":"stream"
    },
    {
     "name":"stderr",
     "text":[
      "\n"
     ],
     "output_type":"stream"
    },
    {
     "data":{
      "text\/plain":[
       "<AxesSubplot:>"
      ]
     },
     "metadata":{
      
     },
     "output_type":"display_data"
    },
    {
     "data":{
      "image\/png":"[encoded data removed]"
     },
     "metadata":{
      "image\/png":{
       
      }
     },
     "output_type":"display_data"
    },
    {
     "data":{
      "text\/plain":[
       "<Figure size 1440x360 with 2 Axes>"
      ]
     },
     "metadata":{
      
     },
     "output_type":"display_data"
    }
   ],
   "metadata":{
    "datalore":{
     "node_id":"RRaVDBKwMs5hTkE55bFxzx",
     "type":"CODE",
     "hide_input_from_viewers":false,
     "hide_output_from_viewers":false,
     "report_properties":{
      "y":393
     }
    }
   }
  },
  {
   "cell_type":"code",
   "source":[
    "porto_grid.head()"
   ],
   "execution_count":null,
   "outputs":[
    {
     "data":{
      "text\/html":[
       "\n",
       "  <div id=\"df-39249527-0a1f-4662-adac-a90e608c73e2\">\n",
       "    <div class=\"colab-df-container\">\n",
       "      <div>\n",
       "<style scoped>\n",
       "    .dataframe tbody tr th:only-of-type {\n",
       "        vertical-align: middle;\n",
       "    }\n",
       "\n",
       "    .dataframe tbody tr th {\n",
       "        vertical-align: top;\n",
       "    }\n",
       "\n",
       "    .dataframe thead th {\n",
       "        text-align: right;\n",
       "    }\n",
       "<\/style>\n",
       "<table border=\"1\" class=\"dataframe\">\n",
       "  <thead>\n",
       "    <tr style=\"text-align: right;\">\n",
       "      <th><\/th>\n",
       "      <th>geometry<\/th>\n",
       "      <th>n_bus<\/th>\n",
       "      <th>dist_nearest_bus<\/th>\n",
       "      <th>n_bus_routes<\/th>\n",
       "      <th>n_bus_trips<\/th>\n",
       "      <th>n_metro<\/th>\n",
       "      <th>dist_nearest_metro<\/th>\n",
       "      <th>n_metro_routes<\/th>\n",
       "      <th>n_metro_trips<\/th>\n",
       "      <th>dist_nearest_cycle_path<\/th>\n",
       "      <th>validations_bus<\/th>\n",
       "      <th>validations_metro<\/th>\n",
       "      <th>dist_nearest_school<\/th>\n",
       "      <th>dist_nearest_attraction<\/th>\n",
       "    <\/tr>\n",
       "  <\/thead>\n",
       "  <tbody>\n",
       "    <tr>\n",
       "      <th>0<\/th>\n",
       "      <td>POLYGON ((-8.69129 41.16747, -8.69052 41.16747...<\/td>\n",
       "      <td>0<\/td>\n",
       "      <td>0.001447<\/td>\n",
       "      <td>4<\/td>\n",
       "      <td>62<\/td>\n",
       "      <td>0<\/td>\n",
       "      <td>0.012536<\/td>\n",
       "      <td>1<\/td>\n",
       "      <td>1<\/td>\n",
       "      <td>0.001312<\/td>\n",
       "      <td>664.935714<\/td>\n",
       "      <td>1752.209843<\/td>\n",
       "      <td>0.023005<\/td>\n",
       "      <td>0.029836<\/td>\n",
       "    <\/tr>\n",
       "    <tr>\n",
       "      <th>1<\/th>\n",
       "      <td>POLYGON ((-8.69129 41.16824, -8.69052 41.16824...<\/td>\n",
       "      <td>0<\/td>\n",
       "      <td>0.001648<\/td>\n",
       "      <td>4<\/td>\n",
       "      <td>62<\/td>\n",
       "      <td>0<\/td>\n",
       "      <td>0.011782<\/td>\n",
       "      <td>1<\/td>\n",
       "      <td>1<\/td>\n",
       "      <td>0.001452<\/td>\n",
       "      <td>664.935714<\/td>\n",
       "      <td>1752.209843<\/td>\n",
       "      <td>0.023194<\/td>\n",
       "      <td>0.029241<\/td>\n",
       "    <\/tr>\n",
       "    <tr>\n",
       "      <th>2<\/th>\n",
       "      <td>POLYGON ((-8.69129 41.16901, -8.69052 41.16901...<\/td>\n",
       "      <td>0<\/td>\n",
       "      <td>0.002127<\/td>\n",
       "      <td>4<\/td>\n",
       "      <td>62<\/td>\n",
       "      <td>0<\/td>\n",
       "      <td>0.011029<\/td>\n",
       "      <td>1<\/td>\n",
       "      <td>1<\/td>\n",
       "      <td>0.001780<\/td>\n",
       "      <td>664.935714<\/td>\n",
       "      <td>1752.209843<\/td>\n",
       "      <td>0.023407<\/td>\n",
       "      <td>0.028611<\/td>\n",
       "    <\/tr>\n",
       "    <tr>\n",
       "      <th>3<\/th>\n",
       "      <td>POLYGON ((-8.69052 41.16593, -8.68975 41.16593...<\/td>\n",
       "      <td>0<\/td>\n",
       "      <td>0.001493<\/td>\n",
       "      <td>2<\/td>\n",
       "      <td>93<\/td>\n",
       "      <td>0<\/td>\n",
       "      <td>0.013942<\/td>\n",
       "      <td>1<\/td>\n",
       "      <td>1<\/td>\n",
       "      <td>0.001339<\/td>\n",
       "      <td>664.935714<\/td>\n",
       "      <td>1752.209843<\/td>\n",
       "      <td>0.021940<\/td>\n",
       "      <td>0.028309<\/td>\n",
       "    <\/tr>\n",
       "    <tr>\n",
       "      <th>4<\/th>\n",
       "      <td>POLYGON ((-8.69052 41.16670, -8.68975 41.16670...<\/td>\n",
       "      <td>0<\/td>\n",
       "      <td>0.001009<\/td>\n",
       "      <td>4<\/td>\n",
       "      <td>62<\/td>\n",
       "      <td>0<\/td>\n",
       "      <td>0.013178<\/td>\n",
       "      <td>1<\/td>\n",
       "      <td>1<\/td>\n",
       "      <td>0.000801<\/td>\n",
       "      <td>664.935714<\/td>\n",
       "      <td>1752.209843<\/td>\n",
       "      <td>0.022085<\/td>\n",
       "      <td>0.028759<\/td>\n",
       "    <\/tr>\n",
       "  <\/tbody>\n",
       "<\/table>\n",
       "<\/div>\n",
       "      <button class=\"colab-df-convert\" onclick=\"convertToInteractive('df-39249527-0a1f-4662-adac-a90e608c73e2')\"\n",
       "              title=\"Convert this dataframe to an interactive table.\"\n",
       "              style=\"display:none;\">\n",
       "        \n",
       "  <svg xmlns=\"http:\/\/www.w3.org\/2000\/svg\" height=\"24px\"viewBox=\"0 0 24 24\"\n",
       "       width=\"24px\">\n",
       "    <path d=\"M0 0h24v24H0V0z\" fill=\"none\"\/>\n",
       "    <path d=\"M18.56 5.44l.94 2.06.94-2.06 2.06-.94-2.06-.94-.94-2.06-.94 2.06-2.06.94zm-11 1L8.5 8.5l.94-2.06 2.06-.94-2.06-.94L8.5 2.5l-.94 2.06-2.06.94zm10 10l.94 2.06.94-2.06 2.06-.94-2.06-.94-.94-2.06-.94 2.06-2.06.94z\"\/><path d=\"M17.41 7.96l-1.37-1.37c-.4-.4-.92-.59-1.43-.59-.52 0-1.04.2-1.43.59L10.3 9.45l-7.72 7.72c-.78.78-.78 2.05 0 2.83L4 21.41c.39.39.9.59 1.41.59.51 0 1.02-.2 1.41-.59l7.78-7.78 2.81-2.81c.8-.78.8-2.07 0-2.86zM5.41 20L4 18.59l7.72-7.72 1.47 1.35L5.41 20z\"\/>\n",
       "  <\/svg>\n",
       "      <\/button>\n",
       "      \n",
       "  <style>\n",
       "    .colab-df-container {\n",
       "      display:flex;\n",
       "      flex-wrap:wrap;\n",
       "      gap: 12px;\n",
       "    }\n",
       "\n",
       "    .colab-df-convert {\n",
       "      background-color: #E8F0FE;\n",
       "      border: none;\n",
       "      border-radius: 50%;\n",
       "      cursor: pointer;\n",
       "      display: none;\n",
       "      fill: #1967D2;\n",
       "      height: 32px;\n",
       "      padding: 0 0 0 0;\n",
       "      width: 32px;\n",
       "    }\n",
       "\n",
       "    .colab-df-convert:hover {\n",
       "      background-color: #E2EBFA;\n",
       "      box-shadow: 0px 1px 2px rgba(60, 64, 67, 0.3), 0px 1px 3px 1px rgba(60, 64, 67, 0.15);\n",
       "      fill: #174EA6;\n",
       "    }\n",
       "\n",
       "    [theme=dark] .colab-df-convert {\n",
       "      background-color: #3B4455;\n",
       "      fill: #D2E3FC;\n",
       "    }\n",
       "\n",
       "    [theme=dark] .colab-df-convert:hover {\n",
       "      background-color: #434B5C;\n",
       "      box-shadow: 0px 1px 3px 1px rgba(0, 0, 0, 0.15);\n",
       "      filter: drop-shadow(0px 1px 2px rgba(0, 0, 0, 0.3));\n",
       "      fill: #FFFFFF;\n",
       "    }\n",
       "  <\/style>\n",
       "\n",
       "      <script>\n",
       "        const buttonEl =\n",
       "          document.querySelector('#df-39249527-0a1f-4662-adac-a90e608c73e2 button.colab-df-convert');\n",
       "        buttonEl.style.display =\n",
       "          google.colab.kernel.accessAllowed ? 'block' : 'none';\n",
       "\n",
       "        async function convertToInteractive(key) {\n",
       "          const element = document.querySelector('#df-39249527-0a1f-4662-adac-a90e608c73e2');\n",
       "          const dataTable =\n",
       "            await google.colab.kernel.invokeFunction('convertToInteractive',\n",
       "                                                     [key], {});\n",
       "          if (!dataTable) return;\n",
       "\n",
       "          const docLinkHtml = 'Like what you see? Visit the ' +\n",
       "            '<a target=\"_blank\" href=https:\/\/colab.research.google.com\/notebooks\/data_table.ipynb>data table notebook<\/a>'\n",
       "            + ' to learn more about interactive tables.';\n",
       "          element.innerHTML = '';\n",
       "          dataTable['output_type'] = 'display_data';\n",
       "          await google.colab.output.renderOutput(dataTable, element);\n",
       "          const docLink = document.createElement('div');\n",
       "          docLink.innerHTML = docLinkHtml;\n",
       "          element.appendChild(docLink);\n",
       "        }\n",
       "      <\/script>\n",
       "    <\/div>\n",
       "  <\/div>\n",
       "  "
      ]
     },
     "metadata":{
      
     },
     "output_type":"display_data"
    },
    {
     "data":{
      "text\/plain":[
       "                                            geometry  n_bus  dist_nearest_bus  \\\n",
       "0  POLYGON ((-8.69129 41.16747, -8.69052 41.16747...      0          0.001447   \n",
       "1  POLYGON ((-8.69129 41.16824, -8.69052 41.16824...      0          0.001648   \n",
       "2  POLYGON ((-8.69129 41.16901, -8.69052 41.16901...      0          0.002127   \n",
       "3  POLYGON ((-8.69052 41.16593, -8.68975 41.16593...      0          0.001493   \n",
       "4  POLYGON ((-8.69052 41.16670, -8.68975 41.16670...      0          0.001009   \n",
       "\n",
       "   n_bus_routes  n_bus_trips  n_metro  dist_nearest_metro  n_metro_routes  \\\n",
       "0             4           62        0            0.012536               1   \n",
       "1             4           62        0            0.011782               1   \n",
       "2             4           62        0            0.011029               1   \n",
       "3             2           93        0            0.013942               1   \n",
       "4             4           62        0            0.013178               1   \n",
       "\n",
       "   n_metro_trips  dist_nearest_cycle_path  validations_bus  validations_metro  \\\n",
       "0              1                 0.001312       664.935714        1752.209843   \n",
       "1              1                 0.001452       664.935714        1752.209843   \n",
       "2              1                 0.001780       664.935714        1752.209843   \n",
       "3              1                 0.001339       664.935714        1752.209843   \n",
       "4              1                 0.000801       664.935714        1752.209843   \n",
       "\n",
       "   dist_nearest_school  dist_nearest_attraction  \n",
       "0             0.023005                 0.029836  \n",
       "1             0.023194                 0.029241  \n",
       "2             0.023407                 0.028611  \n",
       "3             0.021940                 0.028309  \n",
       "4             0.022085                 0.028759  "
      ]
     },
     "metadata":{
      
     },
     "output_type":"display_data"
    }
   ],
   "metadata":{
    "datalore":{
     "node_id":"VW3Rsp3kHRoWhgtrebMX2O",
     "type":"CODE",
     "hide_input_from_viewers":false,
     "hide_output_from_viewers":false,
     "report_properties":{
      "y":396
     }
    }
   }
  },
  {
   "cell_type":"markdown",
   "source":[
    "There is a notable high number of trips starting in Baixa and also a clear usage along the river in Foz."
   ],
   "attachments":{
    
   },
   "metadata":{
    "datalore":{
     "node_id":"eCmISb4XDIqTlhjUX27FDE",
     "type":"MD",
     "hide_input_from_viewers":false,
     "hide_output_from_viewers":false,
     "report_properties":{
      "y":399
     }
    }
   }
  },
  {
   "cell_type":"markdown",
   "source":[
    "**Find out current locations of dropoff points**"
   ],
   "attachments":{
    
   },
   "metadata":{
    "datalore":{
     "node_id":"IkQIxMZmEP3kqcbFcBSj89",
     "type":"MD",
     "hide_input_from_viewers":false,
     "hide_output_from_viewers":false,
     "report_properties":{
      "y":402
     }
    }
   }
  },
  {
   "cell_type":"code",
   "source":[
    "f = open('Soft-Mobility\/E-Scooter_Parks\/e-scooter_parks.json')\n",
    "parks = json.load(f)\n",
    "attributes = parks['features'][0]['attributes']\n",
    "geometry = parks['features'][0]['geometry']\n",
    "aux_attributes = pd.DataFrame.from_dict(attributes, orient='index').T\n",
    "aux_geometry =pd.DataFrame.from_dict(geometry, orient='index').T\n",
    "aux = pd.concat([aux_attributes, aux_geometry], axis=1, join='inner')\n",
    "\n",
    "for park in parks['features']:\n",
    "    attributes = park['attributes']\n",
    "    geometry = park['geometry']\n",
    "    aux_attributes = pd.DataFrame.from_dict(attributes, orient='index').T\n",
    "    aux_geometry =pd.DataFrame.from_dict(geometry, orient='index').T\n",
    "    aux = pd.concat([aux_attributes, aux_geometry], axis=1, join='inner')\n",
    "    parks_df = pd.concat([parks_df, aux])\n",
    "parks_df.rename(columns={\"x\": \"lng\", \"y\": \"lat\"}, inplace=True )\n",
    "\n",
    "stops_gdf = gpd.GeoDataFrame(\n",
    "    parks_df, geometry=gpd.points_from_xy(parks_df.lng, parks_df.lat))\n",
    "\n",
    "n_current_stops = len(pd.unique(stops_gdf['objectid_1']))\n",
    "\n",
    "# See which points in stops_gdf are in each zone\n",
    "counter = 0\n",
    "total_zones = len(data)\n",
    "start = time.time()\n",
    "pts = stops_gdf.copy() \n",
    "# We're going to keep a list of how many points we find.\n",
    "pts_in_polys = []\n",
    "count= 0\n",
    "# Loop over polygons with index i.\n",
    "for i, poly in data.iterrows():\n",
    "\n",
    "    # Keep a list of points in this poly\n",
    "    pts_in_this_poly = []\n",
    "\n",
    "    # Now loop over all points with index j.\n",
    "    for j, pt in pts.iterrows():\n",
    "        if poly.geometry.contains(pt.geometry):\n",
    "            # Add it to the list,\n",
    "            pts_in_this_poly.append(pt.geometry)\n",
    "            #pts = pts.drop([j])\n",
    "            count+=1\n",
    "    \n",
    "    pts_in_polys.append(len(pts_in_this_poly))\n",
    "\n",
    "    counter += 1\n",
    "    end = time.time()\n",
    "    elapsed = round((end - start)\/60, 2)\n",
    "    print(f'{counter} of {total_zones} zones iterated | {elapsed} min | Total time estimated: {round(elapsed\/counter * total_zones, 2)} min', end = '\\r')\n",
    "\n",
    "# Add the number of points for each poly to the dataframe.\n",
    "data['n_stops'] = gpd.GeoSeries(pts_in_polys)\n",
    "\n",
    "print(f'Stops found: {dropoffs[\"n_stops\"].sum()}')\n",
    "# check max number of stops per zone currently\n",
    "print(f'Max stops per zone: {dropoffs[\"n_stops\"].max()}')"
   ],
   "execution_count":null,
   "outputs":[
    {
     "name":"stdout",
     "text":[
      "Stops found: 216\n",
      "Max stops per zone: 2\n"
     ],
     "output_type":"stream"
    }
   ],
   "metadata":{
    "datalore":{
     "node_id":"pRKdxBQwNYZz6EmdKwnVGE",
     "type":"CODE",
     "hide_input_from_viewers":false,
     "hide_output_from_viewers":false,
     "report_properties":{
      "y":405
     }
    }
   }
  },
  {
   "cell_type":"markdown",
   "source":[
    "Merge grid with number of drop-offs (stops) per zone"
   ],
   "attachments":{
    
   },
   "metadata":{
    "datalore":{
     "node_id":"i4VZAHgNOT0r3jE3PIWoYx",
     "type":"MD",
     "hide_input_from_viewers":false,
     "hide_output_from_viewers":false,
     "report_properties":{
      "y":408
     }
    }
   }
  },
  {
   "cell_type":"code",
   "source":[
    "data = data.merge(dropoffs, on='zone').rename(columns={'n_stops': 'num_dropoffs'})\n",
    "fig, ax = plt.subplots(1, 1, figsize=(20, 5))\n",
    "data.plot(column='num_dropoffs', ax=ax, legend=True)\n",
    "ax.set_title(\"Current locations of scooters' drop-off sites (number of drop-offs per zone)\")"
   ],
   "execution_count":null,
   "outputs":[
    {
     "name":"stdout",
     "text":[
      "\n"
     ],
     "output_type":"stream"
    },
    {
     "name":"stderr",
     "text":[
      "\n"
     ],
     "output_type":"stream"
    },
    {
     "data":{
      "text\/plain":[
       "Text(0.5, 1.0, \"Current locations of scooters' drop-off sites (number of drop-offs per zone)\")"
      ]
     },
     "metadata":{
      
     },
     "output_type":"display_data"
    },
    {
     "data":{
      "image\/png":"[encoded data removed]"
     },
     "metadata":{
      "image\/png":{
       
      }
     },
     "output_type":"display_data"
    },
    {
     "data":{
      "text\/plain":[
       "<Figure size 1440x360 with 2 Axes>"
      ]
     },
     "metadata":{
      
     },
     "output_type":"display_data"
    }
   ],
   "metadata":{
    "datalore":{
     "node_id":"qLL8PPTV2KVyEx8mVHoM4d",
     "type":"CODE",
     "hide_input_from_viewers":false,
     "hide_output_from_viewers":false,
     "report_properties":{
      "y":411
     }
    }
   }
  },
  {
   "cell_type":"markdown",
   "source":[
    "Check number of zones with 0, 1 and 2 drop-offs"
   ],
   "attachments":{
    
   },
   "metadata":{
    "datalore":{
     "node_id":"xCThdejKkS5K7zvW1xo5Yy",
     "type":"MD",
     "hide_input_from_viewers":false,
     "hide_output_from_viewers":false,
     "report_properties":{
      "y":414
     }
    }
   }
  },
  {
   "cell_type":"code",
   "source":[
    "data['num_dropoffs'].value_counts()"
   ],
   "execution_count":null,
   "outputs":[
    {
     "data":{
      "text\/plain":[
       "0    7286\n",
       "1     204\n",
       "2       6\n",
       "Name: num_dropoffs, dtype: int64"
      ]
     },
     "metadata":{
      
     },
     "output_type":"display_data"
    }
   ],
   "metadata":{
    "datalore":{
     "node_id":"0XvskQHx2KRg4LAy8YYkj6",
     "type":"CODE",
     "hide_input_from_viewers":false,
     "hide_output_from_viewers":false,
     "report_properties":{
      "y":417
     }
    }
   }
  },
  {
   "cell_type":"markdown",
   "source":[
    "### ***2. Classification of number of trips per zone*** <a name=\"classification\"><\/a>\n",
    "\n",
    "The goal of this section is to create a model that can predict if a zone has high or low number of trips, giving the feature previously added to the grid dataset (distance to attractions, number of bus stops, etc.). The interpretability (feature importance) of this model will allow to understand the impact of this features in the population, that is, will allow to know better what factors make people use more soft-mobility solutions.\n",
    "\n",
    "This information regarding the feature importance will allow the creation of a unique score per zone, which will be called the \"probability of usage\" score. This score will be a linear combination of the values of all features, with the coefficients being correlated to the importance of the features in the classification model."
   ],
   "attachments":{
    
   },
   "metadata":{
    "datalore":{
     "node_id":"iqFdpaeFgu0CcR1exMRt8Y",
     "type":"MD",
     "hide_input_from_viewers":false,
     "hide_output_from_viewers":false,
     "report_properties":{
      "y":420
     }
    }
   }
  },
  {
   "cell_type":"markdown",
   "source":[
    "**In order to avoid a bias in the classification because of the number of drop-offs (for example, a zone with two drop-offs has more tendency to have a higher number of trips because it has more scooters available there), the model will only use the 204 zones with 1 drop-off.**"
   ],
   "attachments":{
    
   },
   "metadata":{
    "datalore":{
     "node_id":"Jmg4oor91h9DhZUCyzj5pz",
     "type":"MD",
     "hide_input_from_viewers":false,
     "hide_output_from_viewers":false,
     "report_properties":{
      "y":423
     }
    }
   }
  },
  {
   "cell_type":"code",
   "source":[
    "data = data.loc[data['num_dropoffs'] == 1]"
   ],
   "execution_count":null,
   "outputs":[
    
   ],
   "metadata":{
    "datalore":{
     "node_id":"3lQLyopNwoQHpvTc1CJePZ",
     "type":"CODE",
     "hide_input_from_viewers":false,
     "hide_output_from_viewers":false,
     "report_properties":{
      "y":426
     }
    }
   }
  },
  {
   "cell_type":"markdown",
   "source":[
    "To define the number of trips threshold that separates the two classes (0 - lower than threshold, 1 - higher than threshold), the median will be used."
   ],
   "attachments":{
    
   },
   "metadata":{
    "datalore":{
     "node_id":"zp4mt9ZYc91FGn1dIsMfdR",
     "type":"MD",
     "hide_input_from_viewers":false,
     "hide_output_from_viewers":false,
     "report_properties":{
      "y":429
     }
    }
   }
  },
  {
   "cell_type":"code",
   "source":[
    "median_trips = data['n_trips_start'].median()\n",
    "print(\"Median number of trips =\", median_trips)\n",
    "\n",
    "data['label'] = data['n_trips_start'].apply(lambda x: 1 if x > median_trips else 0)\n",
    "print(\"\\nLabels:\")\n",
    "data['label'].value_counts()"
   ],
   "execution_count":null,
   "outputs":[
    {
     "name":"stdout",
     "text":[
      "Median number of trips = 168.0\n",
      "\n",
      "Labels:\n",
      "\n"
     ],
     "output_type":"stream"
    },
    {
     "name":"stderr",
     "text":[
      "\n"
     ],
     "output_type":"stream"
    },
    {
     "data":{
      "text\/plain":[
       "1    102\n",
       "0    102\n",
       "Name: label, dtype: int64"
      ]
     },
     "metadata":{
      
     },
     "output_type":"display_data"
    }
   ],
   "metadata":{
    "datalore":{
     "node_id":"zZrpGpBVjX2sZjob7eThjI",
     "type":"CODE",
     "hide_input_from_viewers":false,
     "hide_output_from_viewers":false,
     "report_properties":{
      "y":432
     }
    }
   }
  },
  {
   "cell_type":"markdown",
   "source":[
    "Split between train and test datasets, and scale data."
   ],
   "attachments":{
    
   },
   "metadata":{
    "datalore":{
     "node_id":"Z0Z1schqQcZOPz7FrvuCwf",
     "type":"MD",
     "hide_input_from_viewers":false,
     "hide_output_from_viewers":false,
     "report_properties":{
      "y":435
     }
    }
   }
  },
  {
   "cell_type":"code",
   "source":[
    "dataset = data.copy()\n",
    "X = dataset.drop(columns=['label']).to_numpy()\n",
    "y = dataset['label'].to_numpy()\n",
    "\n",
    "features = dataset.drop(columns=['label']).columns.tolist()\n",
    "\n",
    "X_train, X_test, y_train, y_test = train_test_split(X, y, test_size=0.2, random_state=42)\n",
    "\n",
    "scaler = StandardScaler()\n",
    "X_train = scaler.fit_transform(X_train)\n",
    "X_test = scaler.transform(X_test)"
   ],
   "execution_count":null,
   "outputs":[
    
   ],
   "metadata":{
    "datalore":{
     "node_id":"bA03iN5MWCu1pbYY9rOs5w",
     "type":"CODE",
     "hide_input_from_viewers":false,
     "hide_output_from_viewers":false,
     "report_properties":{
      "y":438
     }
    }
   }
  },
  {
   "cell_type":"markdown",
   "source":[
    "Train and test a **Logistic Regression** model. The parameters will be optimized using a grid search with 5 fold cross validation and then tested separately using the independent test set."
   ],
   "attachments":{
    
   },
   "metadata":{
    "datalore":{
     "node_id":"g2YYQkigzQFYIJgmobykua",
     "type":"MD",
     "hide_input_from_viewers":false,
     "hide_output_from_viewers":false,
     "report_properties":{
      "y":441
     }
    }
   }
  },
  {
   "cell_type":"code",
   "source":[
    "clf = LogisticRegression(random_state=0)\n",
    "\n",
    "# Hyperparamater tunning\n",
    "param_grid = {\n",
    "    'penalty': ['l2', 'none'],                      \n",
    "    'solver': ['lbfgs', 'sag', 'saga'],   \n",
    "    'C': [0.1, 1, 10, 100]\n",
    "}\n",
    "\n",
    "cv = GridSearchCV(estimator = clf, param_grid = param_grid, cv = 3, n_jobs = -1, verbose = 1, scoring='accuracy')\n",
    "cv.fit(X_train, y_train)\n",
    "\n",
    "print(\"Best validation score = {:.2f}\".format(cv.best_score_))\n",
    "\n",
    "clf.set_params(**cv.best_params_)\n",
    "clf.fit(X_train, y_train)\n",
    "clf.score(X_train, y_train)\n",
    "\n",
    "y_test_pred = clf.predict(X_test)\n",
    "test_acc = accuracy_score(y_test, y_test_pred)\n",
    "\n",
    "print(\"Test accuracy = {:.2f}\".format(test_acc))\n",
    "\n",
    "cm = confusion_matrix(y_test, y_test_pred)\n",
    "\n",
    "fig, ax = plt.subplots(1, 1, figsize=(6,4))\n",
    "ax.set_title('Test confusion matrix')     \n",
    "sns.heatmap(cm, linewidth=0.5, ax=ax, annot=True, cmap='YlGnBu', fmt='d')\n",
    "\n",
    "ax.set_xlabel('Predicted label')\n",
    "ax.set_ylabel('True label')"
   ],
   "execution_count":null,
   "outputs":[
    {
     "name":"stdout",
     "text":[
      "Fitting 3 folds for each of 24 candidates, totalling 72 fits\n",
      "\n",
      "\n",
      "Best validation score = 0.62\n",
      "\n",
      "\n",
      "Test accuracy = 0.56\n",
      "\n",
      "\n"
     ],
     "output_type":"stream"
    },
    {
     "name":"stderr",
     "text":[
      "\n",
      "[Parallel(n_jobs=-1)]: Using backend LokyBackend with 8 concurrent workers.\n",
      "[Parallel(n_jobs=-1)]: Done  72 out of  72 | elapsed:    0.2s finished\n",
      "The max_iter was reached which means the coef_ did not converge\n",
      "\n",
      "\n",
      "The max_iter was reached which means the coef_ did not converge\n",
      "\n",
      "\n",
      "\n"
     ],
     "output_type":"stream"
    },
    {
     "data":{
      "text\/plain":[
       "Text(33.0, 0.5, 'True label')"
      ]
     },
     "metadata":{
      
     },
     "output_type":"display_data"
    },
    {
     "data":{
      "image\/png":"[encoded data removed]"
     },
     "metadata":{
      "image\/png":{
       
      }
     },
     "output_type":"display_data"
    },
    {
     "data":{
      "text\/plain":[
       "<Figure size 432x288 with 2 Axes>"
      ]
     },
     "metadata":{
      
     },
     "output_type":"display_data"
    }
   ],
   "metadata":{
    "datalore":{
     "node_id":"EZKiuZEA88HZwvG8ejVKD0",
     "type":"CODE",
     "hide_input_from_viewers":false,
     "hide_output_from_viewers":false,
     "report_properties":{
      "y":444
     }
    }
   }
  },
  {
   "cell_type":"markdown",
   "source":[
    "Train and test a **Random Forest** model. The parameters will be optimized using a grid search with 5 fold cross validation and then tested separately using the independent test set."
   ],
   "attachments":{
    
   },
   "metadata":{
    "datalore":{
     "node_id":"GaEQefstYuvOyNu2gMkVAC",
     "type":"MD",
     "hide_input_from_viewers":false,
     "hide_output_from_viewers":false,
     "report_properties":{
      "y":447
     }
    }
   }
  },
  {
   "cell_type":"code",
   "source":[
    "clf = RandomForestClassifier()\n",
    "\n",
    "# Hyperparamater tunning\n",
    "param_grid = {\n",
    "    'bootstrap': [True],\n",
    "    'max_depth': [10, 20, 50, 100],\n",
    "    'max_features': [2, 3],\n",
    "    'min_samples_leaf': [3, 4, 5],\n",
    "    'min_samples_split': [8, 10, 12],\n",
    "    'n_estimators': [10, 20, 50, 100, 200]\n",
    "}\n",
    "\n",
    "cv = GridSearchCV(estimator = clf, param_grid = param_grid, cv = 3, n_jobs = -1, verbose = 1, scoring='accuracy')\n",
    "cv.fit(X_train, y_train)\n",
    "\n",
    "print(\"Best validation score = {:.2f}\".format(cv.best_score_))\n",
    "\n",
    "clf.set_params(**cv.best_params_)\n",
    "clf.fit(X_train, y_train)\n",
    "clf.score(X_train, y_train)\n",
    "\n",
    "y_test_pred = clf.predict(X_test)\n",
    "test_acc = accuracy_score(y_test, y_test_pred)\n",
    "\n",
    "print(\"Test accuracy = {:.2f}\".format(test_acc))\n",
    "\n",
    "cm = confusion_matrix(y_test, y_test_pred)\n",
    "\n",
    "fig, ax = plt.subplots(1, 1, figsize=(6,4))\n",
    "ax.set_title('Test confusion matrix')     \n",
    "sns.heatmap(cm, linewidth=0.5, ax=ax, annot=True, cmap='YlGnBu', fmt='d')\n",
    "\n",
    "ax.set_xlabel('Predicted label')\n",
    "ax.set_ylabel('True label')"
   ],
   "execution_count":null,
   "outputs":[
    {
     "name":"stdout",
     "text":[
      "Fitting 3 folds for each of 360 candidates, totalling 1080 fits\n",
      "\n",
      "\n",
      "Best validation score = 0.70\n",
      "Test accuracy = 0.66\n",
      "\n",
      "\n"
     ],
     "output_type":"stream"
    },
    {
     "name":"stderr",
     "text":[
      "\n",
      "[Parallel(n_jobs=-1)]: Using backend LokyBackend with 8 concurrent workers.\n",
      "[Parallel(n_jobs=-1)]: Done 160 tasks      | elapsed:    4.9s\n",
      "[Parallel(n_jobs=-1)]: Done 528 tasks      | elapsed:   12.9s\n",
      "[Parallel(n_jobs=-1)]: Done 859 tasks      | elapsed:   25.9s\n",
      "[Parallel(n_jobs=-1)]: Done 1080 out of 1080 | elapsed:   36.4s finished\n",
      "The default of the `iid` parameter will change from True to False in version 0.22 and will be removed in 0.24. This will change numeric results when test-set sizes are unequal.\n",
      "\n",
      "\n",
      "\n"
     ],
     "output_type":"stream"
    },
    {
     "data":{
      "text\/plain":[
       "Text(33.0, 0.5, 'True label')"
      ]
     },
     "metadata":{
      
     },
     "output_type":"display_data"
    },
    {
     "data":{
      "image\/png":"[encoded data removed]"
     },
     "metadata":{
      "image\/png":{
       
      }
     },
     "output_type":"display_data"
    },
    {
     "data":{
      "text\/plain":[
       "<Figure size 432x288 with 2 Axes>"
      ]
     },
     "metadata":{
      
     },
     "output_type":"display_data"
    }
   ],
   "metadata":{
    "datalore":{
     "node_id":"5LrAXAHpwz2KUGW6ObmTno",
     "type":"CODE",
     "hide_input_from_viewers":false,
     "hide_output_from_viewers":false,
     "report_properties":{
      "y":450
     }
    }
   }
  },
  {
   "cell_type":"markdown",
   "source":[
    "The best model is the Random Forest, so now the feature importance will be evaluated."
   ],
   "attachments":{
    
   },
   "metadata":{
    "datalore":{
     "node_id":"5mHMlVoEgcSzfUwLe5ImDy",
     "type":"MD",
     "hide_input_from_viewers":false,
     "hide_output_from_viewers":false,
     "report_properties":{
      "y":453
     }
    }
   }
  },
  {
   "cell_type":"markdown",
   "source":[
    "### ***3. Interpretability*** <a name=\"interpretability\"><\/a>"
   ],
   "attachments":{
    
   },
   "metadata":{
    "datalore":{
     "node_id":"W5OrH6ZKneAfKP1Cx9aDaz",
     "type":"MD",
     "hide_input_from_viewers":false,
     "hide_output_from_viewers":false,
     "report_properties":{
      "y":456
     }
    }
   }
  },
  {
   "cell_type":"markdown",
   "source":[
    "Once the model was trained, we wanted to check which ones of our handcrafted features were most important. This will be important to optimize the localization of the drop-of points"
   ],
   "attachments":{
    
   },
   "metadata":{
    "datalore":{
     "node_id":"tshnCRMMp0ioBmTqmmF0m6",
     "type":"MD",
     "hide_input_from_viewers":false,
     "hide_output_from_viewers":false,
     "report_properties":{
      "y":459
     }
    }
   }
  },
  {
   "cell_type":"code",
   "source":[
    "imp = pd.DataFrame({'feature': features, 'importance': clf.feature_importances_}).sort_values(by='importance', ascending=False)\n",
    "\n",
    "fig, ax = plt.subplots()\n",
    "sns.barplot(x='importance', y='feature', data=imp, ax=ax)\n",
    "\n",
    "imp"
   ],
   "execution_count":null,
   "outputs":[
    {
     "name":"stdout",
     "text":[
      "\n"
     ],
     "output_type":"stream"
    },
    {
     "name":"stderr",
     "text":[
      "\n"
     ],
     "output_type":"stream"
    },
    {
     "data":{
      "text\/html":[
       "<div>\n",
       "<style scoped>\n",
       "    .dataframe tbody tr th:only-of-type {\n",
       "        vertical-align: middle;\n",
       "    }\n",
       "\n",
       "    .dataframe tbody tr th {\n",
       "        vertical-align: top;\n",
       "    }\n",
       "\n",
       "    .dataframe thead th {\n",
       "        text-align: right;\n",
       "    }\n",
       "<\/style>\n",
       "<table border=\"1\" class=\"dataframe\">\n",
       "  <thead>\n",
       "    <tr style=\"text-align: right;\">\n",
       "      <th><\/th>\n",
       "      <th>feature<\/th>\n",
       "      <th>importance<\/th>\n",
       "    <\/tr>\n",
       "  <\/thead>\n",
       "  <tbody>\n",
       "    <tr>\n",
       "      <th>12<\/th>\n",
       "      <td>dist_nearest_attraction<\/td>\n",
       "      <td>0.219822<\/td>\n",
       "    <\/tr>\n",
       "    <tr>\n",
       "      <th>8<\/th>\n",
       "      <td>dist_nearest_cycle_path<\/td>\n",
       "      <td>0.128170<\/td>\n",
       "    <\/tr>\n",
       "    <tr>\n",
       "      <th>10<\/th>\n",
       "      <td>validations_metro<\/td>\n",
       "      <td>0.127098<\/td>\n",
       "    <\/tr>\n",
       "    <tr>\n",
       "      <th>11<\/th>\n",
       "      <td>dist_nearest_school<\/td>\n",
       "      <td>0.116380<\/td>\n",
       "    <\/tr>\n",
       "    <tr>\n",
       "      <th>3<\/th>\n",
       "      <td>n_bus_trips<\/td>\n",
       "      <td>0.094209<\/td>\n",
       "    <\/tr>\n",
       "    <tr>\n",
       "      <th>1<\/th>\n",
       "      <td>dist_nearest_bus<\/td>\n",
       "      <td>0.087915<\/td>\n",
       "    <\/tr>\n",
       "    <tr>\n",
       "      <th>9<\/th>\n",
       "      <td>validations_bus<\/td>\n",
       "      <td>0.084941<\/td>\n",
       "    <\/tr>\n",
       "    <tr>\n",
       "      <th>5<\/th>\n",
       "      <td>dist_nearest_metro<\/td>\n",
       "      <td>0.061713<\/td>\n",
       "    <\/tr>\n",
       "    <tr>\n",
       "      <th>7<\/th>\n",
       "      <td>n_metro_trips<\/td>\n",
       "      <td>0.033694<\/td>\n",
       "    <\/tr>\n",
       "    <tr>\n",
       "      <th>6<\/th>\n",
       "      <td>n_metro_routes<\/td>\n",
       "      <td>0.024702<\/td>\n",
       "    <\/tr>\n",
       "    <tr>\n",
       "      <th>2<\/th>\n",
       "      <td>n_bus_routes<\/td>\n",
       "      <td>0.019333<\/td>\n",
       "    <\/tr>\n",
       "    <tr>\n",
       "      <th>0<\/th>\n",
       "      <td>n_bus<\/td>\n",
       "      <td>0.002023<\/td>\n",
       "    <\/tr>\n",
       "    <tr>\n",
       "      <th>4<\/th>\n",
       "      <td>n_metro<\/td>\n",
       "      <td>0.000000<\/td>\n",
       "    <\/tr>\n",
       "  <\/tbody>\n",
       "<\/table>\n",
       "<\/div>"
      ]
     },
     "metadata":{
      
     },
     "output_type":"display_data"
    },
    {
     "data":{
      "text\/plain":[
       "                    feature  importance\n",
       "12  dist_nearest_attraction    0.219822\n",
       "8   dist_nearest_cycle_path    0.128170\n",
       "10        validations_metro    0.127098\n",
       "11      dist_nearest_school    0.116380\n",
       "3               n_bus_trips    0.094209\n",
       "1          dist_nearest_bus    0.087915\n",
       "9           validations_bus    0.084941\n",
       "5        dist_nearest_metro    0.061713\n",
       "7             n_metro_trips    0.033694\n",
       "6            n_metro_routes    0.024702\n",
       "2              n_bus_routes    0.019333\n",
       "0                     n_bus    0.002023\n",
       "4                   n_metro    0.000000"
      ]
     },
     "metadata":{
      
     },
     "output_type":"display_data"
    },
    {
     "data":{
      "image\/png":"[encoded data removed]"
     },
     "metadata":{
      "image\/png":{
       
      }
     },
     "output_type":"display_data"
    },
    {
     "data":{
      "text\/plain":[
       "<Figure size 432x288 with 1 Axes>"
      ]
     },
     "metadata":{
      
     },
     "output_type":"display_data"
    }
   ],
   "metadata":{
    "datalore":{
     "node_id":"0pf0Tq7AwgEKnF9DEszU39",
     "type":"CODE",
     "hide_input_from_viewers":false,
     "hide_output_from_viewers":false,
     "report_properties":{
      "y":462
     }
    }
   }
  },
  {
   "cell_type":"code",
   "source":[
    "explainer = shap.KernelExplainer(cv.predict, data=X_test) \n",
    "shap_values = explainer.shap_values(X_test)\n",
    "shap.summary_plot(shap_values, X_test,  feature_names=features) "
   ],
   "execution_count":null,
   "outputs":[
    {
     "name":"stdout",
     "text":[
      "\n",
      "\n",
      "\n"
     ],
     "output_type":"stream"
    },
    {
     "name":"stderr",
     "text":[
      "\n",
      "\n"
     ],
     "output_type":"stream"
    },
    {
     "data":{
      "application\/vnd.jupyter.widget-view+json":{
       "model_id":"2f8817da379f4c6da08c719faf162f09",
       "version_major":2,
       "version_minor":0
      }
     },
     "metadata":{
      "application\/vnd.jupyter.widget-view+json":{
       "datalore":{
        "widget_id":"FeE3P8sSWkDY5DJooncPrX"
       }
      }
     },
     "output_type":"display_data"
    },
    {
     "data":{
      "text\/plain":[
       "HBox(children=(IntProgress(value=0, max=41), HTML(value='')))"
      ]
     },
     "metadata":{
      
     },
     "output_type":"display_data"
    },
    {
     "data":{
      "image\/png":"[encoded data removed]"
     },
     "metadata":{
      "image\/png":{
       
      }
     },
     "output_type":"display_data"
    },
    {
     "data":{
      "text\/plain":[
       "<Figure size 576x482.4 with 2 Axes>"
      ]
     },
     "metadata":{
      
     },
     "output_type":"display_data"
    }
   ],
   "metadata":{
    "datalore":{
     "node_id":"5F1CtlAwdl5ari58qFi5N6",
     "type":"CODE",
     "hide_input_from_viewers":false,
     "hide_output_from_viewers":false,
     "report_properties":{
      "y":465
     }
    }
   }
  },
  {
   "cell_type":"markdown",
   "source":[
    "The distance to attractions and to cycle paths, as well as the metro validations are the top 3 most important features. The first 2 features have, of course, a negative impact in the model, as a higher distance to these spots means a lower probability of usage of soft-mobility solutions by the population. On the other hand, the metro validations have a positive impact, as more people using the metro means that more people will probably use soft-mobility solutions near that metro stop. The signal of the impact is clearly observed and proved in the SHAP plot for most features, but as the number of points in the dataset is not very high (204 zones), some feature don't have a clear signal of impact in the SHAP plot. Therefore, the signal for each feature was manually chosen from its definition. \n",
    "\n",
    "The distances to attractions, to bus, to metro, to schools and to cycle paths have a negative impact, whereas the remaining feature have positive impact (for example, higher number of metro stops should impact positively the number of soft-mobility trips)."
   ],
   "attachments":{
    
   },
   "metadata":{
    "datalore":{
     "node_id":"WVBso7rPuaJxQUF9O9DaGG",
     "type":"MD",
     "hide_input_from_viewers":false,
     "hide_output_from_viewers":false,
     "report_properties":{
      "y":468
     }
    }
   }
  },
  {
   "cell_type":"code",
   "source":[
    "feature_names = ['dist_nearest_attraction', 'dist_nearest_cycle_path', 'dist_nearest_school', 'validations_metro', 'validations_bus', 'dist_nearest_metro', 'n_bus_trips', 'dist_nearest_bus', 'n_bus_routes', 'n_metro_trips', 'n_metro_routes', 'n_bus', 'n_metro']\n",
    "signal = [-1, -1, -1, 1, 1, -1, 1, -1, 1, 1, 1, 1, 1]\n",
    "\n",
    "feature_signal = pd.DataFrame({'feature': feature_names, 'signal': signal})\n",
    "imp = imp.merge(feature_signal, on='feature')\n",
    "imp"
   ],
   "execution_count":null,
   "outputs":[
    {
     "data":{
      "text\/html":[
       "<div>\n",
       "<style scoped>\n",
       "    .dataframe tbody tr th:only-of-type {\n",
       "        vertical-align: middle;\n",
       "    }\n",
       "\n",
       "    .dataframe tbody tr th {\n",
       "        vertical-align: top;\n",
       "    }\n",
       "\n",
       "    .dataframe thead th {\n",
       "        text-align: right;\n",
       "    }\n",
       "<\/style>\n",
       "<table border=\"1\" class=\"dataframe\">\n",
       "  <thead>\n",
       "    <tr style=\"text-align: right;\">\n",
       "      <th><\/th>\n",
       "      <th>feature<\/th>\n",
       "      <th>importance<\/th>\n",
       "      <th>signal<\/th>\n",
       "    <\/tr>\n",
       "  <\/thead>\n",
       "  <tbody>\n",
       "    <tr>\n",
       "      <th>0<\/th>\n",
       "      <td>dist_nearest_attraction<\/td>\n",
       "      <td>0.167538<\/td>\n",
       "      <td>-1<\/td>\n",
       "    <\/tr>\n",
       "    <tr>\n",
       "      <th>1<\/th>\n",
       "      <td>dist_nearest_metro<\/td>\n",
       "      <td>0.116106<\/td>\n",
       "      <td>-1<\/td>\n",
       "    <\/tr>\n",
       "    <tr>\n",
       "      <th>2<\/th>\n",
       "      <td>validations_metro<\/td>\n",
       "      <td>0.094208<\/td>\n",
       "      <td>1<\/td>\n",
       "    <\/tr>\n",
       "    <tr>\n",
       "      <th>3<\/th>\n",
       "      <td>dist_nearest_bus<\/td>\n",
       "      <td>0.093272<\/td>\n",
       "      <td>-1<\/td>\n",
       "    <\/tr>\n",
       "    <tr>\n",
       "      <th>4<\/th>\n",
       "      <td>dist_nearest_school<\/td>\n",
       "      <td>0.088690<\/td>\n",
       "      <td>-1<\/td>\n",
       "    <\/tr>\n",
       "    <tr>\n",
       "      <th>5<\/th>\n",
       "      <td>dist_nearest_cycle_path<\/td>\n",
       "      <td>0.084086<\/td>\n",
       "      <td>-1<\/td>\n",
       "    <\/tr>\n",
       "    <tr>\n",
       "      <th>6<\/th>\n",
       "      <td>n_metro_trips<\/td>\n",
       "      <td>0.077426<\/td>\n",
       "      <td>1<\/td>\n",
       "    <\/tr>\n",
       "    <tr>\n",
       "      <th>7<\/th>\n",
       "      <td>n_bus_trips<\/td>\n",
       "      <td>0.071967<\/td>\n",
       "      <td>1<\/td>\n",
       "    <\/tr>\n",
       "    <tr>\n",
       "      <th>8<\/th>\n",
       "      <td>validations_bus<\/td>\n",
       "      <td>0.067364<\/td>\n",
       "      <td>1<\/td>\n",
       "    <\/tr>\n",
       "    <tr>\n",
       "      <th>9<\/th>\n",
       "      <td>n_bus_routes<\/td>\n",
       "      <td>0.058320<\/td>\n",
       "      <td>1<\/td>\n",
       "    <\/tr>\n",
       "    <tr>\n",
       "      <th>10<\/th>\n",
       "      <td>n_metro_routes<\/td>\n",
       "      <td>0.046463<\/td>\n",
       "      <td>1<\/td>\n",
       "    <\/tr>\n",
       "    <tr>\n",
       "      <th>11<\/th>\n",
       "      <td>n_bus<\/td>\n",
       "      <td>0.034560<\/td>\n",
       "      <td>1<\/td>\n",
       "    <\/tr>\n",
       "    <tr>\n",
       "      <th>12<\/th>\n",
       "      <td>n_metro<\/td>\n",
       "      <td>0.000000<\/td>\n",
       "      <td>1<\/td>\n",
       "    <\/tr>\n",
       "  <\/tbody>\n",
       "<\/table>\n",
       "<\/div>"
      ]
     },
     "metadata":{
      
     },
     "output_type":"display_data"
    },
    {
     "data":{
      "text\/plain":[
       "                    feature  importance  signal\n",
       "0   dist_nearest_attraction    0.167538      -1\n",
       "1        dist_nearest_metro    0.116106      -1\n",
       "2         validations_metro    0.094208       1\n",
       "3          dist_nearest_bus    0.093272      -1\n",
       "4       dist_nearest_school    0.088690      -1\n",
       "5   dist_nearest_cycle_path    0.084086      -1\n",
       "6             n_metro_trips    0.077426       1\n",
       "7               n_bus_trips    0.071967       1\n",
       "8           validations_bus    0.067364       1\n",
       "9              n_bus_routes    0.058320       1\n",
       "10           n_metro_routes    0.046463       1\n",
       "11                    n_bus    0.034560       1\n",
       "12                  n_metro    0.000000       1"
      ]
     },
     "metadata":{
      
     },
     "output_type":"display_data"
    }
   ],
   "metadata":{
    "datalore":{
     "node_id":"9G0g9K0uQgRR5mxqcQ6bjT",
     "type":"CODE",
     "hide_input_from_viewers":false,
     "hide_output_from_viewers":false,
     "report_properties":{
      "y":471
     }
    }
   }
  },
  {
   "cell_type":"markdown",
   "source":[
    "As the coefficients are all below 1, the final score will have a very low value for all features, which makes it more difficult to visualize, so the importance will be scaled between 1 and 2 and then multiplied again by the signal."
   ],
   "attachments":{
    
   },
   "metadata":{
    "datalore":{
     "node_id":"m6VKa8bgECLJu6QVJwgTY0",
     "type":"MD",
     "hide_input_from_viewers":false,
     "hide_output_from_viewers":false,
     "report_properties":{
      "y":474
     }
    }
   }
  },
  {
   "cell_type":"code",
   "source":[
    "scaler = MinMaxScaler(feature_range=(1, 2))\n",
    "imp_scaled = scaler.fit_transform(imp['importance'].to_numpy().reshape(imp['importance'].to_numpy().shape[0], 1))\n",
    "imp['importance_scaled'] = imp_scaled\n",
    "imp['coef_scaled'] = imp['importance_scaled'] * imp['signal']\n",
    "imp.to_csv('coeffs_per_feature.csv', index=False)\n",
    "imp"
   ],
   "execution_count":null,
   "outputs":[
    {
     "data":{
      "text\/html":[
       "<div>\n",
       "<style scoped>\n",
       "    .dataframe tbody tr th:only-of-type {\n",
       "        vertical-align: middle;\n",
       "    }\n",
       "\n",
       "    .dataframe tbody tr th {\n",
       "        vertical-align: top;\n",
       "    }\n",
       "\n",
       "    .dataframe thead th {\n",
       "        text-align: right;\n",
       "    }\n",
       "<\/style>\n",
       "<table border=\"1\" class=\"dataframe\">\n",
       "  <thead>\n",
       "    <tr style=\"text-align: right;\">\n",
       "      <th><\/th>\n",
       "      <th>feature<\/th>\n",
       "      <th>importance<\/th>\n",
       "      <th>signal<\/th>\n",
       "      <th>importance_scaled<\/th>\n",
       "      <th>coef_scaled<\/th>\n",
       "    <\/tr>\n",
       "  <\/thead>\n",
       "  <tbody>\n",
       "    <tr>\n",
       "      <th>0<\/th>\n",
       "      <td>dist_nearest_attraction<\/td>\n",
       "      <td>0.167538<\/td>\n",
       "      <td>-1<\/td>\n",
       "      <td>2.000000<\/td>\n",
       "      <td>-2.000000<\/td>\n",
       "    <\/tr>\n",
       "    <tr>\n",
       "      <th>1<\/th>\n",
       "      <td>dist_nearest_metro<\/td>\n",
       "      <td>0.116106<\/td>\n",
       "      <td>-1<\/td>\n",
       "      <td>1.693014<\/td>\n",
       "      <td>-1.693014<\/td>\n",
       "    <\/tr>\n",
       "    <tr>\n",
       "      <th>2<\/th>\n",
       "      <td>validations_metro<\/td>\n",
       "      <td>0.094208<\/td>\n",
       "      <td>1<\/td>\n",
       "      <td>1.562308<\/td>\n",
       "      <td>1.562308<\/td>\n",
       "    <\/tr>\n",
       "    <tr>\n",
       "      <th>3<\/th>\n",
       "      <td>dist_nearest_bus<\/td>\n",
       "      <td>0.093272<\/td>\n",
       "      <td>-1<\/td>\n",
       "      <td>1.556718<\/td>\n",
       "      <td>-1.556718<\/td>\n",
       "    <\/tr>\n",
       "    <tr>\n",
       "      <th>4<\/th>\n",
       "      <td>dist_nearest_school<\/td>\n",
       "      <td>0.088690<\/td>\n",
       "      <td>-1<\/td>\n",
       "      <td>1.529373<\/td>\n",
       "      <td>-1.529373<\/td>\n",
       "    <\/tr>\n",
       "    <tr>\n",
       "      <th>5<\/th>\n",
       "      <td>dist_nearest_cycle_path<\/td>\n",
       "      <td>0.084086<\/td>\n",
       "      <td>-1<\/td>\n",
       "      <td>1.501891<\/td>\n",
       "      <td>-1.501891<\/td>\n",
       "    <\/tr>\n",
       "    <tr>\n",
       "      <th>6<\/th>\n",
       "      <td>n_metro_trips<\/td>\n",
       "      <td>0.077426<\/td>\n",
       "      <td>1<\/td>\n",
       "      <td>1.462141<\/td>\n",
       "      <td>1.462141<\/td>\n",
       "    <\/tr>\n",
       "    <tr>\n",
       "      <th>7<\/th>\n",
       "      <td>n_bus_trips<\/td>\n",
       "      <td>0.071967<\/td>\n",
       "      <td>1<\/td>\n",
       "      <td>1.429554<\/td>\n",
       "      <td>1.429554<\/td>\n",
       "    <\/tr>\n",
       "    <tr>\n",
       "      <th>8<\/th>\n",
       "      <td>validations_bus<\/td>\n",
       "      <td>0.067364<\/td>\n",
       "      <td>1<\/td>\n",
       "      <td>1.402082<\/td>\n",
       "      <td>1.402082<\/td>\n",
       "    <\/tr>\n",
       "    <tr>\n",
       "      <th>9<\/th>\n",
       "      <td>n_bus_routes<\/td>\n",
       "      <td>0.058320<\/td>\n",
       "      <td>1<\/td>\n",
       "      <td>1.348100<\/td>\n",
       "      <td>1.348100<\/td>\n",
       "    <\/tr>\n",
       "    <tr>\n",
       "      <th>10<\/th>\n",
       "      <td>n_metro_routes<\/td>\n",
       "      <td>0.046463<\/td>\n",
       "      <td>1<\/td>\n",
       "      <td>1.277329<\/td>\n",
       "      <td>1.277329<\/td>\n",
       "    <\/tr>\n",
       "    <tr>\n",
       "      <th>11<\/th>\n",
       "      <td>n_bus<\/td>\n",
       "      <td>0.034560<\/td>\n",
       "      <td>1<\/td>\n",
       "      <td>1.206280<\/td>\n",
       "      <td>1.206280<\/td>\n",
       "    <\/tr>\n",
       "    <tr>\n",
       "      <th>12<\/th>\n",
       "      <td>n_metro<\/td>\n",
       "      <td>0.000000<\/td>\n",
       "      <td>1<\/td>\n",
       "      <td>1.000000<\/td>\n",
       "      <td>1.000000<\/td>\n",
       "    <\/tr>\n",
       "  <\/tbody>\n",
       "<\/table>\n",
       "<\/div>"
      ]
     },
     "metadata":{
      
     },
     "output_type":"display_data"
    },
    {
     "data":{
      "text\/plain":[
       "                    feature  importance  signal  importance_scaled  \\\n",
       "0   dist_nearest_attraction    0.167538      -1           2.000000   \n",
       "1        dist_nearest_metro    0.116106      -1           1.693014   \n",
       "2         validations_metro    0.094208       1           1.562308   \n",
       "3          dist_nearest_bus    0.093272      -1           1.556718   \n",
       "4       dist_nearest_school    0.088690      -1           1.529373   \n",
       "5   dist_nearest_cycle_path    0.084086      -1           1.501891   \n",
       "6             n_metro_trips    0.077426       1           1.462141   \n",
       "7               n_bus_trips    0.071967       1           1.429554   \n",
       "8           validations_bus    0.067364       1           1.402082   \n",
       "9              n_bus_routes    0.058320       1           1.348100   \n",
       "10           n_metro_routes    0.046463       1           1.277329   \n",
       "11                    n_bus    0.034560       1           1.206280   \n",
       "12                  n_metro    0.000000       1           1.000000   \n",
       "\n",
       "    coef_scaled  \n",
       "0     -2.000000  \n",
       "1     -1.693014  \n",
       "2      1.562308  \n",
       "3     -1.556718  \n",
       "4     -1.529373  \n",
       "5     -1.501891  \n",
       "6      1.462141  \n",
       "7      1.429554  \n",
       "8      1.402082  \n",
       "9      1.348100  \n",
       "10     1.277329  \n",
       "11     1.206280  \n",
       "12     1.000000  "
      ]
     },
     "metadata":{
      
     },
     "output_type":"display_data"
    }
   ],
   "metadata":{
    "datalore":{
     "node_id":"y3jmYn0wRo4bmO0EvStiby",
     "type":"CODE",
     "hide_input_from_viewers":false,
     "hide_output_from_viewers":false,
     "report_properties":{
      "y":477
     }
    }
   }
  },
  {
   "cell_type":"markdown",
   "source":[
    "### ***4. Create final score*** <a name=\"score\"><\/a>\n",
    "\n",
    "This score will be used to improve the localization of the drop-off points. \n",
    "\n",
    "First, the grid is read and all features are scaled (standard scaling)."
   ],
   "attachments":{
    
   },
   "metadata":{
    "datalore":{
     "node_id":"81pCEhR6i6ZWnfLpzn8QcL",
     "type":"MD",
     "hide_input_from_viewers":false,
     "hide_output_from_viewers":false,
     "report_properties":{
      "y":480
     }
    }
   }
  },
  {
   "cell_type":"code",
   "source":[
    "meta = grid[['zone', 'geometry']]\n",
    "X = grid.drop(columns=['zone', 'geometry']).to_numpy()\n",
    "features = grid.drop(columns=['zone', 'geometry']).columns.tolist()\n",
    "\n",
    "scaler = StandardScaler()\n",
    "X = scaler.fit_transform(X)\n",
    "\n",
    "grid = pd.DataFrame(X, columns=features)\n",
    "grid = pd.concat([meta, grid], axis=1)\n",
    "grid.head(2)"
   ],
   "execution_count":null,
   "outputs":[
    {
     "data":{
      "text\/html":[
       "<div>\n",
       "<style scoped>\n",
       "    .dataframe tbody tr th:only-of-type {\n",
       "        vertical-align: middle;\n",
       "    }\n",
       "\n",
       "    .dataframe tbody tr th {\n",
       "        vertical-align: top;\n",
       "    }\n",
       "\n",
       "    .dataframe thead th {\n",
       "        text-align: right;\n",
       "    }\n",
       "<\/style>\n",
       "<table border=\"1\" class=\"dataframe\">\n",
       "  <thead>\n",
       "    <tr style=\"text-align: right;\">\n",
       "      <th><\/th>\n",
       "      <th>zone<\/th>\n",
       "      <th>geometry<\/th>\n",
       "      <th>n_bus<\/th>\n",
       "      <th>dist_nearest_bus<\/th>\n",
       "      <th>n_bus_routes<\/th>\n",
       "      <th>n_bus_trips<\/th>\n",
       "      <th>n_metro<\/th>\n",
       "      <th>dist_nearest_metro<\/th>\n",
       "      <th>n_metro_routes<\/th>\n",
       "      <th>n_metro_trips<\/th>\n",
       "      <th>dist_nearest_cycle_path<\/th>\n",
       "      <th>validations_bus<\/th>\n",
       "      <th>validations_metro<\/th>\n",
       "      <th>dist_nearest_school<\/th>\n",
       "      <th>dist_nearest_attraction<\/th>\n",
       "    <\/tr>\n",
       "  <\/thead>\n",
       "  <tbody>\n",
       "    <tr>\n",
       "      <th>0<\/th>\n",
       "      <td>0<\/td>\n",
       "      <td>POLYGON ((-8.691288 41.16747220000001, -8.6905...<\/td>\n",
       "      <td>-0.273462<\/td>\n",
       "      <td>-0.041708<\/td>\n",
       "      <td>0.713382<\/td>\n",
       "      <td>-0.372712<\/td>\n",
       "      <td>-0.057847<\/td>\n",
       "      <td>0.423623<\/td>\n",
       "      <td>-0.979388<\/td>\n",
       "      <td>-1.116576<\/td>\n",
       "      <td>-0.915643<\/td>\n",
       "      <td>1.772261<\/td>\n",
       "      <td>-0.238119<\/td>\n",
       "      <td>3.436571<\/td>\n",
       "      <td>0.511439<\/td>\n",
       "    <\/tr>\n",
       "    <tr>\n",
       "      <th>1<\/th>\n",
       "      <td>1<\/td>\n",
       "      <td>POLYGON ((-8.691288 41.16824148333335, -8.6905...<\/td>\n",
       "      <td>-0.273462<\/td>\n",
       "      <td>0.175245<\/td>\n",
       "      <td>0.713382<\/td>\n",
       "      <td>-0.372712<\/td>\n",
       "      <td>-0.057847<\/td>\n",
       "      <td>0.315135<\/td>\n",
       "      <td>-0.979388<\/td>\n",
       "      <td>-1.116576<\/td>\n",
       "      <td>-0.889588<\/td>\n",
       "      <td>1.772261<\/td>\n",
       "      <td>-0.238119<\/td>\n",
       "      <td>3.479121<\/td>\n",
       "      <td>0.463460<\/td>\n",
       "    <\/tr>\n",
       "  <\/tbody>\n",
       "<\/table>\n",
       "<\/div>"
      ]
     },
     "metadata":{
      
     },
     "output_type":"display_data"
    },
    {
     "data":{
      "text\/plain":[
       "   zone                                           geometry     n_bus  \\\n",
       "0     0  POLYGON ((-8.691288 41.16747220000001, -8.6905... -0.273462   \n",
       "1     1  POLYGON ((-8.691288 41.16824148333335, -8.6905... -0.273462   \n",
       "\n",
       "   dist_nearest_bus  n_bus_routes  n_bus_trips   n_metro  dist_nearest_metro  \\\n",
       "0         -0.041708      0.713382    -0.372712 -0.057847            0.423623   \n",
       "1          0.175245      0.713382    -0.372712 -0.057847            0.315135   \n",
       "\n",
       "   n_metro_routes  n_metro_trips  dist_nearest_cycle_path  validations_bus  \\\n",
       "0       -0.979388      -1.116576                -0.915643         1.772261   \n",
       "1       -0.979388      -1.116576                -0.889588         1.772261   \n",
       "\n",
       "   validations_metro  dist_nearest_school  dist_nearest_attraction  \n",
       "0          -0.238119             3.436571                 0.511439  \n",
       "1          -0.238119             3.479121                 0.463460  "
      ]
     },
     "metadata":{
      
     },
     "output_type":"display_data"
    }
   ],
   "metadata":{
    "datalore":{
     "node_id":"pQtgVeNZikv4laTbUAbcxc",
     "type":"CODE",
     "hide_input_from_viewers":false,
     "hide_output_from_viewers":false,
     "report_properties":{
      "y":483
     }
    }
   }
  },
  {
   "cell_type":"markdown",
   "source":[
    "The final score corresponds to a linear combination between all features (using the coefficients from the feature importance)."
   ],
   "attachments":{
    
   },
   "metadata":{
    "datalore":{
     "node_id":"rnFI3rvK67GpMNDZv92OtD",
     "type":"MD",
     "hide_input_from_viewers":false,
     "hide_output_from_viewers":false,
     "report_properties":{
      "y":486
     }
    }
   }
  },
  {
   "cell_type":"code",
   "source":[
    "def create_score(row):\n",
    "    score = 0\n",
    "    for col in features:\n",
    "        \n",
    "        coef = imp.loc[imp['feature'] == col]['coef_scaled'].item()\n",
    "        score += (row[col] * coef)\n",
    "        \n",
    "    return score"
   ],
   "execution_count":null,
   "outputs":[
    
   ],
   "metadata":{
    "datalore":{
     "node_id":"0E0qWG75yJIKuNUKJTZeUt",
     "type":"CODE",
     "hide_input_from_viewers":false,
     "hide_output_from_viewers":false,
     "report_properties":{
      "y":489
     }
    }
   }
  },
  {
   "cell_type":"code",
   "source":[
    "grid['score'] = grid.apply(create_score, axis=1)\n",
    "grid.head(2)"
   ],
   "execution_count":null,
   "outputs":[
    {
     "data":{
      "text\/html":[
       "<div>\n",
       "<style scoped>\n",
       "    .dataframe tbody tr th:only-of-type {\n",
       "        vertical-align: middle;\n",
       "    }\n",
       "\n",
       "    .dataframe tbody tr th {\n",
       "        vertical-align: top;\n",
       "    }\n",
       "\n",
       "    .dataframe thead th {\n",
       "        text-align: right;\n",
       "    }\n",
       "<\/style>\n",
       "<table border=\"1\" class=\"dataframe\">\n",
       "  <thead>\n",
       "    <tr style=\"text-align: right;\">\n",
       "      <th><\/th>\n",
       "      <th>zone<\/th>\n",
       "      <th>geometry<\/th>\n",
       "      <th>n_bus<\/th>\n",
       "      <th>dist_nearest_bus<\/th>\n",
       "      <th>n_bus_routes<\/th>\n",
       "      <th>n_bus_trips<\/th>\n",
       "      <th>n_metro<\/th>\n",
       "      <th>dist_nearest_metro<\/th>\n",
       "      <th>n_metro_routes<\/th>\n",
       "      <th>n_metro_trips<\/th>\n",
       "      <th>dist_nearest_cycle_path<\/th>\n",
       "      <th>validations_bus<\/th>\n",
       "      <th>validations_metro<\/th>\n",
       "      <th>dist_nearest_school<\/th>\n",
       "      <th>dist_nearest_attraction<\/th>\n",
       "      <th>score<\/th>\n",
       "    <\/tr>\n",
       "  <\/thead>\n",
       "  <tbody>\n",
       "    <tr>\n",
       "      <th>0<\/th>\n",
       "      <td>0<\/td>\n",
       "      <td>POLYGON ((-8.691288 41.16747220000001, -8.6905...<\/td>\n",
       "      <td>-0.273462<\/td>\n",
       "      <td>-0.041708<\/td>\n",
       "      <td>0.713382<\/td>\n",
       "      <td>-0.372712<\/td>\n",
       "      <td>-0.057847<\/td>\n",
       "      <td>0.423623<\/td>\n",
       "      <td>-0.979388<\/td>\n",
       "      <td>-1.116576<\/td>\n",
       "      <td>-0.915643<\/td>\n",
       "      <td>1.772261<\/td>\n",
       "      <td>-0.238119<\/td>\n",
       "      <td>3.436571<\/td>\n",
       "      <td>0.511439<\/td>\n",
       "      <td>-6.285322<\/td>\n",
       "    <\/tr>\n",
       "    <tr>\n",
       "      <th>1<\/th>\n",
       "      <td>1<\/td>\n",
       "      <td>POLYGON ((-8.691288 41.16824148333335, -8.6905...<\/td>\n",
       "      <td>-0.273462<\/td>\n",
       "      <td>0.175245<\/td>\n",
       "      <td>0.713382<\/td>\n",
       "      <td>-0.372712<\/td>\n",
       "      <td>-0.057847<\/td>\n",
       "      <td>0.315135<\/td>\n",
       "      <td>-0.979388<\/td>\n",
       "      <td>-1.116576<\/td>\n",
       "      <td>-0.889588<\/td>\n",
       "      <td>1.772261<\/td>\n",
       "      <td>-0.238119<\/td>\n",
       "      <td>3.479121<\/td>\n",
       "      <td>0.463460<\/td>\n",
       "      <td>-6.447636<\/td>\n",
       "    <\/tr>\n",
       "  <\/tbody>\n",
       "<\/table>\n",
       "<\/div>"
      ]
     },
     "metadata":{
      
     },
     "output_type":"display_data"
    },
    {
     "data":{
      "text\/plain":[
       "   zone                                           geometry     n_bus  \\\n",
       "0     0  POLYGON ((-8.691288 41.16747220000001, -8.6905... -0.273462   \n",
       "1     1  POLYGON ((-8.691288 41.16824148333335, -8.6905... -0.273462   \n",
       "\n",
       "   dist_nearest_bus  n_bus_routes  n_bus_trips   n_metro  dist_nearest_metro  \\\n",
       "0         -0.041708      0.713382    -0.372712 -0.057847            0.423623   \n",
       "1          0.175245      0.713382    -0.372712 -0.057847            0.315135   \n",
       "\n",
       "   n_metro_routes  n_metro_trips  dist_nearest_cycle_path  validations_bus  \\\n",
       "0       -0.979388      -1.116576                -0.915643         1.772261   \n",
       "1       -0.979388      -1.116576                -0.889588         1.772261   \n",
       "\n",
       "   validations_metro  dist_nearest_school  dist_nearest_attraction     score  \n",
       "0          -0.238119             3.436571                 0.511439 -6.285322  \n",
       "1          -0.238119             3.479121                 0.463460 -6.447636  "
      ]
     },
     "metadata":{
      
     },
     "output_type":"display_data"
    }
   ],
   "metadata":{
    "datalore":{
     "node_id":"v1KSNJYyIygKTWvzaR4vRJ",
     "type":"CODE",
     "hide_input_from_viewers":false,
     "hide_output_from_viewers":false,
     "report_properties":{
      "y":492
     }
    }
   }
  },
  {
   "cell_type":"markdown",
   "source":[
    "**Plot the final score**"
   ],
   "attachments":{
    
   },
   "metadata":{
    "datalore":{
     "node_id":"A8MFUPwDzWBC1x5chOIkmk",
     "type":"MD",
     "hide_input_from_viewers":false,
     "hide_output_from_viewers":false,
     "report_properties":{
      "y":495
     }
    }
   }
  },
  {
   "cell_type":"code",
   "source":[
    "score_grid['geometry'] = gpd.GeoSeries.from_wkt(grid['geometry'])\n",
    "score_grid = gpd.GeoDataFrame(grid, geometry='geometry')\n",
    "fig, ax = plt.subplots(1, 1, figsize=(20, 5))\n",
    "grid.plot(column='score', ax=ax, legend=True)\n",
    "ax.set_title(\"Final score per zone\")"
   ],
   "execution_count":null,
   "outputs":[
    {
     "name":"stdout",
     "text":[
      "\n"
     ],
     "output_type":"stream"
    },
    {
     "name":"stderr",
     "text":[
      "\n"
     ],
     "output_type":"stream"
    },
    {
     "data":{
      "text\/plain":[
       "Text(0.5, 1.0, 'Final score per zone')"
      ]
     },
     "metadata":{
      
     },
     "output_type":"display_data"
    },
    {
     "data":{
      "image\/png":"[encoded data removed]"
     },
     "metadata":{
      "image\/png":{
       
      }
     },
     "output_type":"display_data"
    },
    {
     "data":{
      "text\/plain":[
       "<Figure size 1440x360 with 2 Axes>"
      ]
     },
     "metadata":{
      
     },
     "output_type":"display_data"
    }
   ],
   "metadata":{
    "datalore":{
     "node_id":"OG1heiOgjCeEG5Lx8kz3fP",
     "type":"CODE",
     "hide_input_from_viewers":false,
     "hide_output_from_viewers":false,
     "report_properties":{
      "y":498
     }
    }
   }
  },
  {
   "cell_type":"markdown",
   "source":[
    "There is a considerable number of zones with very high score in Baixa, as expected, but also in some interesting isolated areas which represent the other features apart from attractions, like public transports and schools."
   ],
   "attachments":{
    
   },
   "metadata":{
    "datalore":{
     "node_id":"om8hjiFihgzG7nPngOF2iW",
     "type":"MD",
     "hide_input_from_viewers":false,
     "hide_output_from_viewers":false,
     "report_properties":{
      "y":501
     }
    }
   }
  },
  {
   "cell_type":"markdown",
   "source":[
    "### ***5. Improving the localization of drop-off points*** <a name=\"improve\"><\/a>\n",
    "We'll order the zones form highest score to lowest and add one drop off to each zone. \n",
    "\n",
    "Why 1 drop off per zone?\n",
    "Currently 204 of te 210 zones with stops only have 1 stop"
   ],
   "attachments":{
    
   },
   "metadata":{
    "datalore":{
     "node_id":"cr5uFMRLjA1wSYDrwZjeSO",
     "type":"MD",
     "hide_input_from_viewers":false,
     "hide_output_from_viewers":false,
     "report_properties":{
      "y":504
     }
    }
   }
  },
  {
   "cell_type":"code",
   "source":[
    "score_grid = score_grid[['zone', 'geometry', 'score']]\n",
    "\n",
    "# add stops by highest to lowest score\n",
    "max_stops = 210\n",
    "score_grid = score_grid.sort_values(by='score', ascending=False)\n",
    "counter = 0\n",
    "stops = []\n",
    "for i, row in score_grid.iterrows():\n",
    "    if counter < max_stops:\n",
    "        stops.append(1)\n",
    "        counter += 1\n",
    "    else:\n",
    "        stops.append(0)\n",
    "score_grid['new_stops'] = stops\n",
    "\n",
    "# Checks\n",
    "print(f'Total New Stops: {score_grid[\"new_stops\"].sum()}')\n",
    "print(f'Zones with stops: {score_grid[score_grid[\"new_stops\"]>0][\"new_stops\"].count()}')\n",
    "print(f'Max stops per zone: {score_grid[\"new_stops\"].max()}')\n",
    "\n",
    "# merge new stops with old stops\n",
    "score_grid = score_grid.merge(data[['zone', 'n_stops']], how='left', on='zone')\n",
    "\n",
    "# see differences\n",
    "types = []\n",
    "for i, row in score_grid.iterrows():\n",
    "    if row['n_stops'] == 0:\n",
    "        if row['new_stops'] == 1:\n",
    "            types.append('new')\n",
    "        else:\n",
    "            types.append('none')\n",
    "    else:\n",
    "        if row['new_stops'] == 1:\n",
    "            types.append('mantained')\n",
    "        else:\n",
    "            types.append('removed')\n",
    "score_grid['difference'] = types\n",
    "score_grid[score_grid['difference'] == 'new']['difference'].count()\n",
    "\n",
    "# plot differences\n",
    "print(\"---------------------\")\n",
    "print(f\"# Stops removed: {score_grid[score_grid['difference'] == 'removed']['difference'].count()}\")\n",
    "print(f\"# Stops mantained: {score_grid[score_grid['difference'] == 'mantained']['difference'].count()}\")\n",
    "print(f\"# New Stops: {score_grid[score_grid['difference'] == 'new']['difference'].count()}\")\n",
    "\n",
    "score_grid.plot(figsize=(30,20), column=\"difference\", cmap=\"viridis\", categorical=True, legend = True)"
   ],
   "execution_count":null,
   "outputs":[
    {
     "name":"stdout",
     "text":[
      "Total New Stops: 210\n",
      "Zones with stops: 210\n",
      "Max stops per zone: 1\n",
      "---------------------\n",
      "# Stops removed: 186\n",
      "# Stops mantained: 24\n",
      "# New Stops: 186\n",
      "\n",
      "\n"
     ],
     "output_type":"stream"
    },
    {
     "name":"stderr",
     "text":[
      "\n",
      "\n"
     ],
     "output_type":"stream"
    },
    {
     "data":{
      "text\/plain":[
       "<AxesSubplot:>"
      ]
     },
     "metadata":{
      
     },
     "output_type":"display_data"
    },
    {
     "data":{
      "image\/png":"[encoded data removed]"
     },
     "metadata":{
      "image\/png":{
       
      }
     },
     "output_type":"display_data"
    },
    {
     "data":{
      "text\/plain":[
       "<Figure size 2160x1440 with 1 Axes>"
      ]
     },
     "metadata":{
      
     },
     "output_type":"display_data"
    }
   ],
   "metadata":{
    "datalore":{
     "node_id":"Tfrws2JR5eBhuxX6ReFand",
     "type":"CODE",
     "hide_input_from_viewers":false,
     "hide_output_from_viewers":false,
     "report_properties":{
      "y":507
     }
    }
   }
  },
  {
   "cell_type":"markdown",
   "source":[
    "**Conclusion:**\n",
    "Drop-off zones were centered in the cities downtown, leaving little to no stops in the city viscinities, meaning that we need to add restricitons for zone placement. This means we'll have to look at optimization techniques"
   ],
   "attachments":{
    
   },
   "metadata":{
    "datalore":{
     "node_id":"jzWDgNCxp3HFQUf3SxWPba",
     "type":"MD",
     "hide_input_from_viewers":false,
     "hide_output_from_viewers":false,
     "report_properties":{
      "y":510
     }
    }
   }
  },
  {
   "cell_type":"markdown",
   "source":[
    "### ***6. Optimize distribution of drop-off points*** <a name=\"opt_dist\"><\/a>\n",
    "\n",
    "Based on the scores, a PuLP linear optimization model was built to maximize the total score of the city (sum of scores of zones with drop-offs). To make sure the drop-offs are spread across the city, the model was restricted by a minimum number of drop-offs per parish and a maximum number of drop-offs in a certain radius based on the most travelled distances by scooter.\n",
    "\n",
    "This process is 2-fold:\n",
    "1. Create a model that spreads drop-offs equally according to a reliable minimum radius\n",
    "2. Populate with remaining drop-offs according to highest scores (of each radius), i.e. the areas where most trips are made"
   ],
   "attachments":{
    
   },
   "metadata":{
    "datalore":{
     "node_id":"CE0NTGZ2RlyK6oraqFFykD",
     "type":"MD",
     "hide_input_from_viewers":false,
     "hide_output_from_viewers":false,
     "report_properties":{
      "y":513
     }
    }
   }
  },
  {
   "cell_type":"markdown",
   "source":[
    "**Defining the minimum radius between drop-off zones**\n",
    "\n",
    "The first step is to increase the minium radius betweend zones with drop-offs. To set the new minimum radius, we'll look at the distances travelled per scooter trip, to make sure that the drop-offs are placed in such a way that the distance between them less them the distance travelled on most trips done"
   ],
   "attachments":{
    
   },
   "metadata":{
    "datalore":{
     "node_id":"euJl21gW8aKuC4B4GOkvOo",
     "type":"MD",
     "hide_input_from_viewers":false,
     "hide_output_from_viewers":false,
     "report_properties":{
      "y":516
     }
    }
   }
  },
  {
   "cell_type":"code",
   "source":[
    "df = pd.read_csv('Soft-Mobility\/E-Scooter_OD\/wdl_od_view.csv')[['trip_id', 'event_types', 'lat', 'lng']]\n",
    "df = df.loc[(df['event_types'] == '{trip_start}') | (df['event_types'] == '{trip_end}')]\n",
    "distances = []\n",
    "counter = 0\n",
    "total = len(df['trip_id'].unique())\n",
    "for trip_id in df['trip_id'].unique():\n",
    "    trip_start = df.loc[(df['trip_id'] == trip_id)&(df['event_types'] == '{trip_start}')]\n",
    "    trip_end = df.loc[(df['trip_id'] == trip_id)&(df['event_types'] == '{trip_end}')]\n",
    "    if len(trip_start) == 1 and len(trip_end) == 1:\n",
    "        start = (trip_start['lat'].item(), trip_start['lng'].item())\n",
    "        end = (trip_end['lat'].item(), trip_end['lng'].item())\n",
    "        dist = hs.haversine(start, end)\n",
    "        distances.append(dist)\n",
    "    counter += 1\n",
    "    print(f'{counter} of {total}', end='\\r')\n",
    "distances = np.array(distances)\n",
    "\n",
    "plt.hist(distances) \n",
    "plt.title(\"Trip distance (km)\") \n",
    "plt.show()"
   ],
   "execution_count":null,
   "outputs":[
    {
     "data":{
      "image\/png":"[encoded data removed]"
     },
     "metadata":{
      "image\/png":{
       
      }
     },
     "output_type":"display_data"
    },
    {
     "data":{
      "text\/plain":[
       "<Figure size 432x288 with 1 Axes>"
      ]
     },
     "metadata":{
      
     },
     "output_type":"display_data"
    }
   ],
   "metadata":{
    "datalore":{
     "node_id":"w0qov4ZScyG9Ur6Tk8gAjE",
     "type":"CODE",
     "hide_input_from_viewers":false,
     "hide_output_from_viewers":false,
     "report_properties":{
      "y":519
     }
    }
   }
  },
  {
   "cell_type":"markdown",
   "source":[
    "**Conlcusion**: Distances are squewed to the left, which means the most of trips were of low distance. Because of that we'll set a minimum radius between zones as the 1st quartil of distances"
   ],
   "attachments":{
    
   },
   "metadata":{
    "datalore":{
     "node_id":"KsPkjHmYRkDLO0Kcq94Vnq",
     "type":"MD",
     "hide_input_from_viewers":false,
     "hide_output_from_viewers":false,
     "report_properties":{
      "y":522
     }
    }
   }
  },
  {
   "cell_type":"code",
   "source":[
    "radius = np.quantile(distances, q=0.25) * 1000\n",
    "print(f'Radius: {round(radius,2)}m')"
   ],
   "execution_count":null,
   "outputs":[
    {
     "name":"stdout",
     "text":[
      "Radius: 403.34m\n"
     ],
     "output_type":"stream"
    }
   ],
   "metadata":{
    "datalore":{
     "node_id":"FL267SsWDAuI169Y3w1mDz",
     "type":"CODE",
     "hide_input_from_viewers":false,
     "hide_output_from_viewers":false,
     "report_properties":{
      "y":525
     }
    }
   }
  },
  {
   "cell_type":"markdown",
   "source":[
    "**Creating distances matrix (between zones)**"
   ],
   "attachments":{
    
   },
   "metadata":{
    "datalore":{
     "node_id":"HTjy47bZFxCvULSoDdcIWr",
     "type":"MD",
     "hide_input_from_viewers":false,
     "hide_output_from_viewers":false,
     "report_properties":{
      "y":528
     }
    }
   }
  },
  {
   "cell_type":"code",
   "source":[
    "# calculating distance matrix\n",
    "distances_matrix = pd.DataFrame(score_grid[\"zone\"])\n",
    "distances_matrix.sort_values(by=\"zone\", ascending=True, inplace=True)\n",
    "\n",
    "aux = centroids.copy()\n",
    "aux.sort_values(by=\"zone\", ascending=True, inplace=True)\n",
    "\n",
    "counter = 0\n",
    "total = len(aux)\n",
    "for zone in aux.itertuples():\n",
    "    center = zone.geometry\n",
    "    distances = aux.geometry.distance(center)\n",
    "    distances_matrix[str(zone.zone)] = distances\n",
    "    counter += 1\n",
    "    print(f'{counter} of {total}', end='\\r')"
   ],
   "execution_count":null,
   "outputs":[
    
   ],
   "metadata":{
    "datalore":{
     "node_id":"qr0kqD7dmTXviGdES9biku",
     "type":"CODE",
     "hide_input_from_viewers":false,
     "hide_output_from_viewers":false,
     "report_properties":{
      "y":531
     }
    }
   }
  },
  {
   "cell_type":"markdown",
   "source":[
    "**Finding zone radius**"
   ],
   "attachments":{
    
   },
   "metadata":{
    "datalore":{
     "node_id":"T0X9nUkiDH4rn6mGT60eQ4",
     "type":"MD",
     "hide_input_from_viewers":false,
     "hide_output_from_viewers":false,
     "report_properties":{
      "y":534
     }
    }
   }
  },
  {
   "cell_type":"code",
   "source":[
    "new_distances_matrix = distances_matrix.copy()\n",
    "new_distances_matrix.iloc[:,1:] = new_distances_matrix.iloc[:,1:].mul(100000)\n",
    "\n",
    "zones = new_distances_matrix[[\"zone\"]]\n",
    "counter = 0\n",
    "#start = time.time()\n",
    "all_zones_radius = []\n",
    "for zone in zones.itertuples():\n",
    "    zone_id = zone.zone\n",
    "    zone_distances = new_distances_matrix[[\"zone\", str(zone_id)]]\n",
    "    zone_distances = zone_distances[zone_distances[\"zone\"] != zone_id] # remove own zone\n",
    "    #zone_distances.sort_values(by=str(zone_id), ascending=True, inplace=True)\n",
    "    zones_plys = score_grid[[\"zone\", \"geometry\"]]\n",
    "    \n",
    "    radius_df = zone_distances[zone_distances[str(zone_id)]<= radius]\n",
    "    all_zones_radius.append(list(radius_df['zone']))\n",
    "    \n",
    "    counter += 1\n",
    "    #end = time.time()\n",
    "    #elapsed = round((end-start)\/60, 2)\n",
    "    elpased = 0\n",
    "    print(f'{counter} of 7496 | run time: {elapsed}min | estimated time: {round(7496\/counter *elapsed, 2)}min', end='\\r')\n",
    "\n",
    "score_grid.sort_values(by='zone', ascending=True, inplace=True)\n",
    "score_grid['radius'] = all_zones_radius"
   ],
   "execution_count":null,
   "outputs":[
    
   ],
   "metadata":{
    "datalore":{
     "node_id":"GKTsftiEInZ6jnpTs0XLNc",
     "type":"CODE",
     "hide_input_from_viewers":false,
     "hide_output_from_viewers":false,
     "report_properties":{
      "y":537
     }
    }
   }
  },
  {
   "cell_type":"code",
   "source":[
    "# check in map any zone\n",
    "zone = 2345\n",
    "df = score_grid[score_grid['zone'] == zone]\n",
    "aux_1 = score_grid.loc[score_grid['zone'].isin(df.iloc[0]['radius'])]\n",
    "aux_2 = score_grid[score_grid['zone']==zone]\n",
    "fig, ax = plt.subplots(figsize=(30, 20))\n",
    "ax.set_aspect('equal')\n",
    "score_grid.plot(ax=ax, color='white', edgecolor='black')\n",
    "aux_1.plot(ax=ax, color='red', edgecolor='black')\n",
    "aux_2.plot(ax=ax, color='blue', edgecolor='black')\n",
    "radius_grid = score_grid[['zone', 'geometry', 'n_stops', 'radius', 'score']]"
   ],
   "execution_count":null,
   "outputs":[
    {
     "name":"stdout",
     "text":[
      "\n"
     ],
     "output_type":"stream"
    },
    {
     "name":"stderr",
     "text":[
      "\n"
     ],
     "output_type":"stream"
    },
    {
     "data":{
      "text\/plain":[
       "<AxesSubplot:>"
      ]
     },
     "metadata":{
      
     },
     "output_type":"display_data"
    },
    {
     "data":{
      "image\/png":"[encoded data removed]"
     },
     "metadata":{
      "image\/png":{
       
      }
     },
     "output_type":"display_data"
    },
    {
     "data":{
      "text\/plain":[
       "<Figure size 2160x1440 with 1 Axes>"
      ]
     },
     "metadata":{
      
     },
     "output_type":"display_data"
    }
   ],
   "metadata":{
    "datalore":{
     "node_id":"ovqlIsu23dIQ8lTynSfhF0",
     "type":"CODE",
     "hide_input_from_viewers":false,
     "hide_output_from_viewers":false,
     "report_properties":{
      "y":540
     }
    }
   }
  },
  {
   "cell_type":"markdown",
   "source":[
    "### ***7. Optimization model*** <a name=\"opt_model\"><\/a>"
   ],
   "attachments":{
    
   },
   "metadata":{
    "datalore":{
     "node_id":"nH606ibzACzifFcj0NVTzo",
     "type":"MD",
     "hide_input_from_viewers":false,
     "hide_output_from_viewers":false,
     "report_properties":{
      "y":543
     }
    }
   }
  },
  {
   "cell_type":"markdown",
   "source":[
    "A PuLP linear optimization model was built to maximize the total score of the city (sum of scores of zones with drop-offs). To make sure the drop-offs are spread across the city, the model was restricted by a minimum number of drop-offs per parish and a maximum number of drop-offs in a certain radius based on the most travelled distances by scooter."
   ],
   "attachments":{
    
   },
   "metadata":{
    "datalore":{
     "node_id":"PVHBmx5KXmI49t8Q3Brhhx",
     "type":"MD",
     "hide_input_from_viewers":false,
     "hide_output_from_viewers":false,
     "report_properties":{
      "y":546
     }
    }
   }
  },
  {
   "cell_type":"code",
   "source":[
    "df_to_optimize = radius_grid.copy()\n",
    "df_to_optimize = df_to_optimize.merge(score_grid[['zone', 'parish']], on='zone', how='left') \n",
    "df_to_optimize"
   ],
   "execution_count":null,
   "outputs":[
    {
     "data":{
      "text\/html":[
       "<div>\n",
       "<style scoped>\n",
       "    .dataframe tbody tr th:only-of-type {\n",
       "        vertical-align: middle;\n",
       "    }\n",
       "\n",
       "    .dataframe tbody tr th {\n",
       "        vertical-align: top;\n",
       "    }\n",
       "\n",
       "    .dataframe thead th {\n",
       "        text-align: right;\n",
       "    }\n",
       "<\/style>\n",
       "<table border=\"1\" class=\"dataframe\">\n",
       "  <thead>\n",
       "    <tr style=\"text-align: right;\">\n",
       "      <th><\/th>\n",
       "      <th>zone<\/th>\n",
       "      <th>geometry<\/th>\n",
       "      <th>n_stops<\/th>\n",
       "      <th>radius<\/th>\n",
       "      <th>score<\/th>\n",
       "      <th>parish<\/th>\n",
       "    <\/tr>\n",
       "  <\/thead>\n",
       "  <tbody>\n",
       "    <tr>\n",
       "      <th>0<\/th>\n",
       "      <td>0<\/td>\n",
       "      <td>POLYGON ((-8.69129 41.16747, -8.69052 41.16747...<\/td>\n",
       "      <td>0<\/td>\n",
       "      <td>[1, 2, 3, 4, 5, 6, 7, 10, 11, 12, 13, 14, 15, ...<\/td>\n",
       "      <td>-5.939533<\/td>\n",
       "      <td>4<\/td>\n",
       "    <\/tr>\n",
       "    <tr>\n",
       "      <th>1<\/th>\n",
       "      <td>1<\/td>\n",
       "      <td>POLYGON ((-8.69129 41.16824, -8.69052 41.16824...<\/td>\n",
       "      <td>0<\/td>\n",
       "      <td>[0, 2, 3, 4, 5, 6, 7, 11, 12, 13, 14, 15, 23, ...<\/td>\n",
       "      <td>-6.101622<\/td>\n",
       "      <td>4<\/td>\n",
       "    <\/tr>\n",
       "    <tr>\n",
       "      <th>2<\/th>\n",
       "      <td>2<\/td>\n",
       "      <td>POLYGON ((-8.69129 41.16901, -8.69052 41.16901...<\/td>\n",
       "      <td>0<\/td>\n",
       "      <td>[0, 1, 4, 5, 6, 7, 12, 13, 14, 15, 16, 24, 25,...<\/td>\n",
       "      <td>-6.744220<\/td>\n",
       "      <td>4<\/td>\n",
       "    <\/tr>\n",
       "    <tr>\n",
       "      <th>3<\/th>\n",
       "      <td>3<\/td>\n",
       "      <td>POLYGON ((-8.69052 41.16593, -8.68975 41.16593...<\/td>\n",
       "      <td>0<\/td>\n",
       "      <td>[0, 1, 4, 5, 6, 10, 11, 12, 13, 14, 19, 20, 21...<\/td>\n",
       "      <td>-6.385602<\/td>\n",
       "      <td>4<\/td>\n",
       "    <\/tr>\n",
       "    <tr>\n",
       "      <th>4<\/th>\n",
       "      <td>4<\/td>\n",
       "      <td>POLYGON ((-8.69052 41.16670, -8.68975 41.16670...<\/td>\n",
       "      <td>0<\/td>\n",
       "      <td>[0, 1, 2, 3, 5, 6, 7, 10, 11, 12, 13, 14, 15, ...<\/td>\n",
       "      <td>-4.738943<\/td>\n",
       "      <td>4<\/td>\n",
       "    <\/tr>\n",
       "    <tr>\n",
       "      <th>...<\/th>\n",
       "      <td>...<\/td>\n",
       "      <td>...<\/td>\n",
       "      <td>...<\/td>\n",
       "      <td>...<\/td>\n",
       "      <td>...<\/td>\n",
       "      <td>...<\/td>\n",
       "    <\/tr>\n",
       "    <tr>\n",
       "      <th>7491<\/th>\n",
       "      <td>7491<\/td>\n",
       "      <td>POLYGON ((-8.55415 41.15978, -8.55338 41.15978...<\/td>\n",
       "      <td>0<\/td>\n",
       "      <td>[7467, 7468, 7475, 7476, 7477, 7484, 7485, 748...<\/td>\n",
       "      <td>-16.140210<\/td>\n",
       "      <td>1<\/td>\n",
       "    <\/tr>\n",
       "    <tr>\n",
       "      <th>7492<\/th>\n",
       "      <td>7492<\/td>\n",
       "      <td>POLYGON ((-8.55338 41.15747, -8.55261 41.15747...<\/td>\n",
       "      <td>0<\/td>\n",
       "      <td>[7473, 7474, 7475, 7476, 7477, 7481, 7482, 748...<\/td>\n",
       "      <td>-19.339847<\/td>\n",
       "      <td>1<\/td>\n",
       "    <\/tr>\n",
       "    <tr>\n",
       "      <th>7493<\/th>\n",
       "      <td>7493<\/td>\n",
       "      <td>POLYGON ((-8.55338 41.15824, -8.55261 41.15824...<\/td>\n",
       "      <td>0<\/td>\n",
       "      <td>[7474, 7475, 7476, 7477, 7482, 7483, 7484, 748...<\/td>\n",
       "      <td>-18.013986<\/td>\n",
       "      <td>1<\/td>\n",
       "    <\/tr>\n",
       "    <tr>\n",
       "      <th>7494<\/th>\n",
       "      <td>7494<\/td>\n",
       "      <td>POLYGON ((-8.55338 41.15901, -8.55261 41.15901...<\/td>\n",
       "      <td>0<\/td>\n",
       "      <td>[7475, 7476, 7477, 7483, 7484, 7485, 7486, 748...<\/td>\n",
       "      <td>-16.724532<\/td>\n",
       "      <td>1<\/td>\n",
       "    <\/tr>\n",
       "    <tr>\n",
       "      <th>7495<\/th>\n",
       "      <td>7495<\/td>\n",
       "      <td>POLYGON ((-8.55338 41.15978, -8.55261 41.15978...<\/td>\n",
       "      <td>0<\/td>\n",
       "      <td>[7476, 7477, 7484, 7485, 7486, 7487, 7488, 748...<\/td>\n",
       "      <td>-12.346313<\/td>\n",
       "      <td>1<\/td>\n",
       "    <\/tr>\n",
       "  <\/tbody>\n",
       "<\/table>\n",
       "<p>7496 rows × 6 columns<\/p>\n",
       "<\/div>"
      ]
     },
     "metadata":{
      
     },
     "output_type":"display_data"
    },
    {
     "data":{
      "text\/plain":[
       "      zone                                           geometry  n_stops  \\\n",
       "0        0  POLYGON ((-8.69129 41.16747, -8.69052 41.16747...        0   \n",
       "1        1  POLYGON ((-8.69129 41.16824, -8.69052 41.16824...        0   \n",
       "2        2  POLYGON ((-8.69129 41.16901, -8.69052 41.16901...        0   \n",
       "3        3  POLYGON ((-8.69052 41.16593, -8.68975 41.16593...        0   \n",
       "4        4  POLYGON ((-8.69052 41.16670, -8.68975 41.16670...        0   \n",
       "...    ...                                                ...      ...   \n",
       "7491  7491  POLYGON ((-8.55415 41.15978, -8.55338 41.15978...        0   \n",
       "7492  7492  POLYGON ((-8.55338 41.15747, -8.55261 41.15747...        0   \n",
       "7493  7493  POLYGON ((-8.55338 41.15824, -8.55261 41.15824...        0   \n",
       "7494  7494  POLYGON ((-8.55338 41.15901, -8.55261 41.15901...        0   \n",
       "7495  7495  POLYGON ((-8.55338 41.15978, -8.55261 41.15978...        0   \n",
       "\n",
       "                                                 radius      score  parish  \n",
       "0     [1, 2, 3, 4, 5, 6, 7, 10, 11, 12, 13, 14, 15, ...  -5.939533       4  \n",
       "1     [0, 2, 3, 4, 5, 6, 7, 11, 12, 13, 14, 15, 23, ...  -6.101622       4  \n",
       "2     [0, 1, 4, 5, 6, 7, 12, 13, 14, 15, 16, 24, 25,...  -6.744220       4  \n",
       "3     [0, 1, 4, 5, 6, 10, 11, 12, 13, 14, 19, 20, 21...  -6.385602       4  \n",
       "4     [0, 1, 2, 3, 5, 6, 7, 10, 11, 12, 13, 14, 15, ...  -4.738943       4  \n",
       "...                                                 ...        ...     ...  \n",
       "7491  [7467, 7468, 7475, 7476, 7477, 7484, 7485, 748... -16.140210       1  \n",
       "7492  [7473, 7474, 7475, 7476, 7477, 7481, 7482, 748... -19.339847       1  \n",
       "7493  [7474, 7475, 7476, 7477, 7482, 7483, 7484, 748... -18.013986       1  \n",
       "7494  [7475, 7476, 7477, 7483, 7484, 7485, 7486, 748... -16.724532       1  \n",
       "7495  [7476, 7477, 7484, 7485, 7486, 7487, 7488, 748... -12.346313       1  \n",
       "\n",
       "[7496 rows x 6 columns]"
      ]
     },
     "metadata":{
      
     },
     "output_type":"display_data"
    }
   ],
   "metadata":{
    "datalore":{
     "node_id":"mQsf9mWkaes4gUvdBer9un",
     "type":"CODE",
     "hide_input_from_viewers":false,
     "hide_output_from_viewers":false,
     "report_properties":{
      "y":549
     }
    }
   }
  },
  {
   "cell_type":"code",
   "source":[
    "# Create the model that will maximize the usage score\n",
    "print('Creating model...')\n",
    "model = LpProblem(name=\"Scooter_stops_Section\", sense=LpMaximize)\n",
    "\n",
    "#order df_to_optimize by zone id\n",
    "df_to_optimize = df_to_optimize.sort_values(by=\"zone\", ascending=True)\n",
    "\n",
    "# Initialize the decision variables\n",
    "print('Adding decision variables...')\n",
    "stops= []\n",
    "for zone in df_to_optimize.itertuples():\n",
    "    zone_id = zone.zone\n",
    "    stops.append(LpVariable(name=str(zone_id), lowBound=0, upBound=1, cat='Binary'))\n",
    "\n",
    "# intialize f_obj = sum(usage_score * stops in zone)\n",
    "f_obj =  df_to_optimize.iloc[0]['score'] * stops[0]\n",
    "\n",
    "#add to obj function\n",
    "print('Adding objective function...')\n",
    "n_zones = len(df_to_optimize)\n",
    "for i in range(1,n_zones):\n",
    "    f_obj +=  df_to_optimize.iloc[i]['score'] * stops[i] \n",
    "    \n",
    "# add obj funtion to model\n",
    "model += f_obj\n",
    "\n",
    "print('Adding contstraints...')\n",
    "# add proximity contstraints (zones in same radius) cant be together)\n",
    "for zone in df_to_optimize.itertuples():\n",
    "    zone_id = zone.zone\n",
    "    model += (lpSum(stops[i] for i in zone.radius) <= 1, f\"max_radius_{zone_id}\")\n",
    "\n",
    "# add total stops constraints\n",
    "model += (lpSum(stops) <= 210)\n",
    "\n",
    "# add total stops per parish contraint\n",
    "for parish in porto.itertuples():\n",
    "    model += (lpSum(stops[i] for i in parish.zones) >= min_stops, f\"min_stops_{parish.title}\")\n",
    "\n",
    "#Optimize model\n",
    "print('Solving model...')\n",
    "status = model.solve()"
   ],
   "execution_count":null,
   "outputs":[
    {
     "name":"stdout",
     "text":[
      "Creating model...\n",
      "Adding decision variables...\n",
      "Adding objective function...\n",
      "Adding contstraints...\n",
      "Solving model...\n",
      "Welcome to the CBC MILP Solver \n",
      "Version: 2.10.3 \n",
      "Build Date: Dec 15 2019 \n",
      "\n",
      "command line - \/usr\/local\/lib\/python3.9\/site-packages\/pulp\/apis\/..\/solverdir\/cbc\/osx\/64\/cbc \/var\/folders\/pq\/vs_mpvbj7677j7s11l_m3r380000gn\/T\/9535eacc02d44e63909854ecb2e70221-pulp.mps max timeMode elapsed branch printingOptions all solution \/var\/folders\/pq\/vs_mpvbj7677j7s11l_m3r380000gn\/T\/9535eacc02d44e63909854ecb2e70221-pulp.sol (default strategy 1)\n",
      "At line 2 NAME          MODEL\n",
      "At line 3 ROWS\n",
      "At line 7509 COLUMNS\n",
      "At line 358712 RHS\n",
      "At line 366217 BOUNDS\n",
      "At line 373714 ENDATA\n",
      "Problem MODEL has 7504 rows, 7496 columns and 328714 elements\n",
      "Coin0008I MODEL read with 0 errors\n",
      "Option for timeMode changed from cpu to elapsed\n",
      "Continuous objective value is 1100.57 - 0.72 seconds\n",
      "Cgl0003I 0 fixed, 0 tightened bounds, 1659 strengthened rows, 0 substitutions\n",
      "Cgl0003I 0 fixed, 0 tightened bounds, 916 strengthened rows, 0 substitutions\n",
      "Cgl0003I 0 fixed, 0 tightened bounds, 625 strengthened rows, 0 substitutions\n",
      "Cgl0003I 0 fixed, 0 tightened bounds, 531 strengthened rows, 0 substitutions\n",
      "Cgl0003I 0 fixed, 0 tightened bounds, 393 strengthened rows, 0 substitutions\n",
      "Cgl0003I 0 fixed, 0 tightened bounds, 309 strengthened rows, 0 substitutions\n",
      "Cgl0003I 0 fixed, 0 tightened bounds, 235 strengthened rows, 0 substitutions\n",
      "Cgl0003I 0 fixed, 0 tightened bounds, 188 strengthened rows, 0 substitutions\n",
      "Cgl0003I 0 fixed, 0 tightened bounds, 140 strengthened rows, 0 substitutions\n",
      "Cgl0004I processed model has 7502 rows, 7496 columns (7496 integer (7496 of which binary)) and 333642 elements\n",
      "Cbc0038I Initial state - 88 integers unsatisfied sum - 21.9375\n",
      "Cbc0038I Pass   1: (20.85 seconds) suminf.    0.00000 (0) obj. -1011.46 iterations 7661\n",
      "Cbc0038I Solution found of -1011.46\n",
      "Cbc0038I Rounding solution of -1047.43 is better than previous of -1011.46\n",
      "\n",
      "Cbc0038I Before mini branch and bound, 7408 integers at bound fixed and 0 continuous\n",
      "Cbc0038I Full problem 7502 rows 7496 columns, reduced to 185 rows 84 columns\n",
      "Cbc0038I Mini branch and bound improved solution from -1047.43 to -1090.65 (20.96 seconds)\n",
      "Cbc0038I Round again with cutoff of -1091.35\n",
      "Cbc0038I Reduced cost fixing fixed 2823 variables on major pass 2\n",
      "Cbc0038I Pass   2: (21.24 seconds) suminf.    1.59347 (22) obj. -1091.35 iterations 1247\n",
      "Cbc0038I Pass   3: (21.57 seconds) suminf.    0.87783 (2) obj. -1091.35 iterations 752\n",
      "Cbc0038I Solution found of -1092.09\n",
      "Cbc0038I Before mini branch and bound, 7406 integers at bound fixed and 0 continuous\n",
      "Cbc0038I Full problem 7502 rows 7496 columns, reduced to 196 rows 86 columns\n",
      "Cbc0038I Mini branch and bound improved solution from -1092.09 to -1092.34 (21.68 seconds)\n",
      "Cbc0038I Round again with cutoff of -1093.4\n",
      "Cbc0038I Reduced cost fixing fixed 4396 variables on major pass 3\n",
      "Cbc0038I Pass   4: (21.71 seconds) suminf.    5.04052 (22) obj. -1093.4 iterations 0\n",
      "Cbc0038I Pass   5: (21.92 seconds) suminf.    2.70730 (21) obj. -1093.4 iterations 455\n",
      "Cbc0038I Pass   6: (22.06 seconds) suminf.    2.70730 (21) obj. -1093.4 iterations 229\n",
      "Cbc0038I Pass   7: (22.60 seconds) suminf.    7.73854 (17) obj. -1093.4 iterations 2314\n",
      "Cbc0038I Pass   8: (22.78 seconds) suminf.    7.45538 (19) obj. -1093.4 iterations 533\n",
      "Cbc0038I Pass   9: (22.90 seconds) suminf.    6.29840 (22) obj. -1093.4 iterations 225\n",
      "Cbc0038I Pass  10: (22.98 seconds) suminf.    5.34028 (17) obj. -1093.4 iterations 167\n",
      "Cbc0038I Pass  11: (23.11 seconds) suminf.    5.34028 (17) obj. -1093.4 iterations 245\n",
      "Cbc0038I Pass  12: (23.19 seconds) suminf.    3.23786 (15) obj. -1093.4 iterations 148\n",
      "Cbc0038I Pass  13: (23.46 seconds) suminf.    2.70730 (21) obj. -1093.4 iterations 539\n",
      "Cbc0038I Pass  14: (24.12 seconds) suminf.    7.73854 (17) obj. -1093.4 iterations 2172\n",
      "Cbc0038I Pass  15: (24.27 seconds) suminf.    7.45538 (19) obj. -1093.4 iterations 453\n",
      "Cbc0038I Pass  16: (24.40 seconds) suminf.    5.25048 (18) obj. -1093.4 iterations 258\n",
      "Cbc0038I Pass  17: (24.51 seconds) suminf.    5.03207 (19) obj. -1093.4 iterations 172\n",
      "Cbc0038I Pass  18: (25.06 seconds) suminf.    7.46774 (15) obj. -1093.4 iterations 1895\n",
      "Cbc0038I Pass  19: (25.19 seconds) suminf.    7.29706 (19) obj. -1093.4 iterations 571\n",
      "Cbc0038I Pass  20: (25.29 seconds) suminf.    5.88972 (17) obj. -1093.4 iterations 267\n",
      "Cbc0038I Pass  21: (25.47 seconds) suminf.    3.92404 (15) obj. -1093.4 iterations 465\n",
      "Cbc0038I Pass  22: (25.81 seconds) suminf.    3.92404 (15) obj. -1093.4 iterations 712\n",
      "Cbc0038I Pass  23: (26.16 seconds) suminf.    5.60309 (18) obj. -1093.4 iterations 890\n",
      "Cbc0038I Pass  24: (26.61 seconds) suminf.    2.61859 (28) obj. -1093.4 iterations 845\n",
      "Cbc0038I Pass  25: (27.11 seconds) suminf.    7.86144 (25) obj. -1093.4 iterations 1232\n",
      "Cbc0038I Pass  26: (27.19 seconds) suminf.    5.05646 (21) obj. -1093.4 iterations 234\n",
      "Cbc0038I Pass  27: (27.51 seconds) suminf.    7.83156 (17) obj. -1093.4 iterations 1495\n",
      "Cbc0038I Pass  28: (27.64 seconds) suminf.    6.43058 (19) obj. -1093.4 iterations 429\n",
      "Cbc0038I Pass  29: (27.74 seconds) suminf.    5.34028 (17) obj. -1093.4 iterations 234\n",
      "Cbc0038I Pass  30: (27.94 seconds) suminf.    5.34028 (17) obj. -1093.4 iterations 384\n",
      "Cbc0038I Pass  31: (28.19 seconds) suminf.    3.23786 (15) obj. -1093.4 iterations 593\n",
      "Cbc0038I Pass  32: (28.46 seconds) suminf.    2.70730 (21) obj. -1093.4 iterations 491\n",
      "Cbc0038I Pass  33: (29.07 seconds) suminf.    8.24593 (17) obj. -1093.4 iterations 2063\n",
      "Cbc0038I No solution found this major pass\n",
      "Cbc0038I After 29.07 seconds - Feasibility pump exiting with objective of -1092.34 - took 12.57 seconds\n",
      "Cbc0012I Integer solution of -1092.3355 found by feasibility pump after 0 iterations and 0 nodes (29.08 seconds)\n",
      "Cbc0038I Full problem 7502 rows 7496 columns, reduced to 189 rows 85 columns\n",
      "Cbc0031I 13 added rows had average density of 7.3076923\n",
      "Cbc0013I At root node, 13 cuts changed objective from -1097.6366 to -1094.5955 in 3 passes\n",
      "Cbc0014I Cut generator 0 (Probing) - 28 row cuts average 11.8 elements, 300 column cuts (300 active)  in 0.156 seconds - new frequency is 1\n",
      "Cbc0014I Cut generator 1 (Gomory) - 0 row cuts average 0.0 elements, 0 column cuts (0 active)  in 0.068 seconds - new frequency is -100\n",
      "Cbc0014I Cut generator 2 (Knapsack) - 0 row cuts average 0.0 elements, 0 column cuts (0 active)  in 0.157 seconds - new frequency is -100\n",
      "Cbc0014I Cut generator 3 (Clique) - 17 row cuts average 4.2 elements, 0 column cuts (0 active)  in 0.005 seconds - new frequency is 1\n",
      "Cbc0014I Cut generator 4 (MixedIntegerRounding2) - 0 row cuts average 0.0 elements, 0 column cuts (0 active)  in 0.040 seconds - new frequency is -100\n",
      "Cbc0014I Cut generator 5 (FlowCover) - 0 row cuts average 0.0 elements, 0 column cuts (0 active)  in 0.006 seconds - new frequency is -100\n",
      "Cbc0010I After 0 nodes, 1 on tree, -1092.3355 best solution, best possible -1094.5955 (31.44 seconds)\n",
      "Cbc0012I Integer solution of -1092.4261 found by rounding after 2395 iterations and 4 nodes (32.73 seconds)\n",
      "Cbc0001I Search completed - best objective -1092.426137205264, took 2395 iterations and 4 nodes (32.74 seconds)\n",
      "Cbc0032I Strong branching done 44 times (4138 iterations), fathomed 0 nodes and fixed 0 variables\n",
      "Cbc0035I Maximum depth 1, 6583 variables fixed on reduced cost\n",
      "Cuts at root node changed objective from -1097.64 to -1094.6\n",
      "Probing was tried 5 times and created 330 cuts of which 0 were active after adding rounds of cuts (0.163 seconds)\n",
      "Gomory was tried 3 times and created 0 cuts of which 0 were active after adding rounds of cuts (0.068 seconds)\n",
      "Knapsack was tried 3 times and created 0 cuts of which 0 were active after adding rounds of cuts (0.157 seconds)\n",
      "Clique was tried 5 times and created 17 cuts of which 0 were active after adding rounds of cuts (0.006 seconds)\n",
      "MixedIntegerRounding2 was tried 3 times and created 0 cuts of which 0 were active after adding rounds of cuts (0.040 seconds)\n",
      "FlowCover was tried 3 times and created 0 cuts of which 0 were active after adding rounds of cuts (0.006 seconds)\n",
      "TwoMirCuts was tried 1 times and created 0 cuts of which 0 were active after adding rounds of cuts (0.045 seconds)\n",
      "ZeroHalf was tried 1 times and created 0 cuts of which 0 were active after adding rounds of cuts (0.052 seconds)\n",
      "\n",
      "Result - Optimal solution found\n",
      "\n",
      "Objective value:                1092.42613721\n",
      "Enumerated nodes:               4\n",
      "Total iterations:               2395\n",
      "Time (CPU seconds):             32.29\n",
      "Time (Wallclock seconds):       33.43\n",
      "\n",
      "Option for printingOptions changed from normal to all\n",
      "Total time (CPU seconds):       32.40   (Wallclock seconds):       33.57\n",
      "\n"
     ],
     "output_type":"stream"
    }
   ],
   "metadata":{
    "datalore":{
     "node_id":"GAI7lqOhIfTJszB9TYpmdz",
     "type":"CODE",
     "hide_input_from_viewers":false,
     "hide_output_from_viewers":false,
     "report_properties":{
      "y":552
     }
    }
   }
  },
  {
   "cell_type":"code",
   "source":[
    "## Merge Results with Dataset\n",
    "new_df = pd.DataFrame(df_to_optimize['zone'])\n",
    "results = []\n",
    "names = []\n",
    "for var in model.variables():\n",
    "    results.append(var.value())\n",
    "    names.append(int(var.name))\n",
    "\n",
    "new_df['names'] = names\n",
    "new_df['new_stops'] = results\n",
    "new_df['zone'] = names\n",
    "\n",
    "final_df = df_to_optimize.merge(new_df, how='left', on='zone')"
   ],
   "execution_count":null,
   "outputs":[
    
   ],
   "metadata":{
    "datalore":{
     "node_id":"I5Cz5X935uw9eFf3eDC9Us",
     "type":"CODE",
     "hide_input_from_viewers":false,
     "hide_output_from_viewers":false,
     "report_properties":{
      "y":555
     }
    }
   }
  },
  {
   "cell_type":"code",
   "source":[
    "types = []\n",
    "for i, row in final_df.iterrows():\n",
    "    if row['n_stops'] == 0:\n",
    "        if row['new_stops'] == 1:\n",
    "            types.append('new')\n",
    "        else:\n",
    "            types.append('none')\n",
    "    else:\n",
    "        if row['new_stops'] == 1:\n",
    "            types.append('mantained')\n",
    "        else:\n",
    "            types.append('removed')\n",
    "final_df['difference'] = types\n",
    "print(f\"# Stops removed: {final_df[final_df['difference'] == 'removed']['difference'].count()}\")\n",
    "print(f\"# Stops mantained: {final_df[final_df['difference'] == 'mantained']['difference'].count()}\")\n",
    "print(f\"# New Stops: {final_df[final_df['difference'] == 'new']['difference'].count()}\")\n",
    "print(f\"# Total Current Stops: {final_df['new_stops'].sum()}\")\n",
    "final_df.plot(figsize=(30, 20), column=\"difference\", cmap=\"viridis\", categorical=True, legend = True)"
   ],
   "execution_count":null,
   "outputs":[
    {
     "name":"stdout",
     "text":[
      "# Stops removed: 202\n",
      "# Stops mantained: 8\n",
      "# New Stops: 96\n",
      "# Total Current Stops: 104.0\n",
      "\n",
      "\n"
     ],
     "output_type":"stream"
    },
    {
     "name":"stderr",
     "text":[
      "\n",
      "\n"
     ],
     "output_type":"stream"
    },
    {
     "data":{
      "text\/plain":[
       "<AxesSubplot:>"
      ]
     },
     "metadata":{
      
     },
     "output_type":"display_data"
    },
    {
     "data":{
      "image\/png":"[encoded data removed]"
     },
     "metadata":{
      "image\/png":{
       
      }
     },
     "output_type":"display_data"
    },
    {
     "data":{
      "text\/plain":[
       "<Figure size 2160x1440 with 1 Axes>"
      ]
     },
     "metadata":{
      
     },
     "output_type":"display_data"
    }
   ],
   "metadata":{
    "datalore":{
     "node_id":"etR5gsFl6rvid7F2A336QQ",
     "type":"CODE",
     "hide_input_from_viewers":false,
     "hide_output_from_viewers":false,
     "report_properties":{
      "y":558
     }
    }
   }
  },
  {
   "cell_type":"markdown",
   "source":[
    "**Populating with remaining drop-off**\n",
    "\n",
    "the model was only able to insert 100 stops in the model, there are 110 stops to input left.\n",
    "to populate the remaining stops we can insert by radius score"
   ],
   "attachments":{
    
   },
   "metadata":{
    "datalore":{
     "node_id":"zdapNtDQHMO5YdnDmpsQhc",
     "type":"MD",
     "hide_input_from_viewers":false,
     "hide_output_from_viewers":false,
     "report_properties":{
      "y":561
     }
    }
   }
  },
  {
   "cell_type":"code",
   "source":[
    "# calculating radius score\n",
    "total_scores = []\n",
    "for zone in final_df.itertuples():\n",
    "    aux = final_df[final_df['zone'].isin(zone.radius)]\n",
    "    score = aux.score.sum()\n",
    "    total_scores.append(score)\n",
    "\n",
    "final_df['radius_score'] = total_scores\n",
    "final_df.sort_values(by='score', ascending=False, inplace = True)\n",
    "\n",
    "for zone in final_df.itertuples():\n",
    "    if final_df.new_stops.sum() == 210:\n",
    "        break\n",
    "    if zone.new_stops < 1: \n",
    "        aux = final_df[final_df['zone'].isin(zone.radius)]   \n",
    "        if aux.new_stops.sum() <= 2:\n",
    "            final_df.at[zone.zone, 'new_stops'] = 1"
   ],
   "execution_count":null,
   "outputs":[
    {
     "data":{
      "text\/html":[
       "<div>\n",
       "<style scoped>\n",
       "    .dataframe tbody tr th:only-of-type {\n",
       "        vertical-align: middle;\n",
       "    }\n",
       "\n",
       "    .dataframe tbody tr th {\n",
       "        vertical-align: top;\n",
       "    }\n",
       "\n",
       "    .dataframe thead th {\n",
       "        text-align: right;\n",
       "    }\n",
       "<\/style>\n",
       "<table border=\"1\" class=\"dataframe\">\n",
       "  <thead>\n",
       "    <tr style=\"text-align: right;\">\n",
       "      <th><\/th>\n",
       "      <th>zone<\/th>\n",
       "      <th>geometry<\/th>\n",
       "      <th>n_stops<\/th>\n",
       "      <th>radius<\/th>\n",
       "      <th>score<\/th>\n",
       "      <th>parish<\/th>\n",
       "      <th>names<\/th>\n",
       "      <th>new_stops<\/th>\n",
       "      <th>difference<\/th>\n",
       "      <th>radius_score<\/th>\n",
       "    <\/tr>\n",
       "  <\/thead>\n",
       "  <tbody>\n",
       "    <tr>\n",
       "      <th>4363<\/th>\n",
       "      <td>4363<\/td>\n",
       "      <td>POLYGON ((-8.60962 41.15209, -8.60885 41.15209...<\/td>\n",
       "      <td>0<\/td>\n",
       "      <td>[4182, 4183, 4184, 4185, 4186, 4241, 4242, 424...<\/td>\n",
       "      <td>51.462242<\/td>\n",
       "      <td>5<\/td>\n",
       "      <td>4363<\/td>\n",
       "      <td>1.0<\/td>\n",
       "      <td>none<\/td>\n",
       "      <td>979.326508<\/td>\n",
       "    <\/tr>\n",
       "    <tr>\n",
       "      <th>4362<\/th>\n",
       "      <td>4362<\/td>\n",
       "      <td>POLYGON ((-8.60962 41.15132, -8.60885 41.15132...<\/td>\n",
       "      <td>0<\/td>\n",
       "      <td>[4181, 4182, 4183, 4184, 4185, 4240, 4241, 424...<\/td>\n",
       "      <td>40.848656<\/td>\n",
       "      <td>5<\/td>\n",
       "      <td>4362<\/td>\n",
       "      <td>1.0<\/td>\n",
       "      <td>none<\/td>\n",
       "      <td>959.557344<\/td>\n",
       "    <\/tr>\n",
       "    <tr>\n",
       "      <th>3028<\/th>\n",
       "      <td>3028<\/td>\n",
       "      <td>POLYGON ((-8.62888 41.16055, -8.62811 41.16055...<\/td>\n",
       "      <td>1<\/td>\n",
       "      <td>[2889, 2890, 2891, 2892, 2893, 2933, 2934, 293...<\/td>\n",
       "      <td>37.986871<\/td>\n",
       "      <td>5<\/td>\n",
       "      <td>3028<\/td>\n",
       "      <td>1.0<\/td>\n",
       "      <td>mantained<\/td>\n",
       "      <td>859.779495<\/td>\n",
       "    <\/tr>\n",
       "    <tr>\n",
       "      <th>5170<\/th>\n",
       "      <td>5170<\/td>\n",
       "      <td>POLYGON ((-8.59884 41.14824, -8.59807 41.14824...<\/td>\n",
       "      <td>0<\/td>\n",
       "      <td>[4997, 4998, 4999, 5000, 5001, 5053, 5054, 505...<\/td>\n",
       "      <td>37.423134<\/td>\n",
       "      <td>0<\/td>\n",
       "      <td>5170<\/td>\n",
       "      <td>1.0<\/td>\n",
       "      <td>new<\/td>\n",
       "      <td>447.870243<\/td>\n",
       "    <\/tr>\n",
       "    <tr>\n",
       "      <th>4304<\/th>\n",
       "      <td>4304<\/td>\n",
       "      <td>POLYGON ((-8.61039 41.15209, -8.60962 41.15209...<\/td>\n",
       "      <td>1<\/td>\n",
       "      <td>[4123, 4124, 4125, 4126, 4127, 4181, 4182, 418...<\/td>\n",
       "      <td>34.549238<\/td>\n",
       "      <td>5<\/td>\n",
       "      <td>4304<\/td>\n",
       "      <td>0.0<\/td>\n",
       "      <td>removed<\/td>\n",
       "      <td>1008.991251<\/td>\n",
       "    <\/tr>\n",
       "    <tr>\n",
       "      <th>...<\/th>\n",
       "      <td>...<\/td>\n",
       "      <td>...<\/td>\n",
       "      <td>...<\/td>\n",
       "      <td>...<\/td>\n",
       "      <td>...<\/td>\n",
       "      <td>...<\/td>\n",
       "      <td>...<\/td>\n",
       "      <td>...<\/td>\n",
       "      <td>...<\/td>\n",
       "      <td>...<\/td>\n",
       "    <\/tr>\n",
       "    <tr>\n",
       "      <th>7478<\/th>\n",
       "      <td>7478<\/td>\n",
       "      <td>POLYGON ((-8.55492 41.15286, -8.55415 41.15286...<\/td>\n",
       "      <td>0<\/td>\n",
       "      <td>[7449, 7450, 7451, 7452, 7453, 7459, 7460, 746...<\/td>\n",
       "      <td>-22.839944<\/td>\n",
       "      <td>1<\/td>\n",
       "      <td>7478<\/td>\n",
       "      <td>0.0<\/td>\n",
       "      <td>none<\/td>\n",
       "      <td>-347.303932<\/td>\n",
       "    <\/tr>\n",
       "    <tr>\n",
       "      <th>7438<\/th>\n",
       "      <td>7438<\/td>\n",
       "      <td>POLYGON ((-8.55801 41.15055, -8.55724 41.15055...<\/td>\n",
       "      <td>0<\/td>\n",
       "      <td>[7408, 7409, 7410, 7411, 7418, 7419, 7420, 742...<\/td>\n",
       "      <td>-22.840716<\/td>\n",
       "      <td>1<\/td>\n",
       "      <td>7438<\/td>\n",
       "      <td>0.0<\/td>\n",
       "      <td>none<\/td>\n",
       "      <td>-441.602431<\/td>\n",
       "    <\/tr>\n",
       "    <tr>\n",
       "      <th>7459<\/th>\n",
       "      <td>7459<\/td>\n",
       "      <td>POLYGON ((-8.55647 41.15209, -8.55569 41.15209...<\/td>\n",
       "      <td>0<\/td>\n",
       "      <td>[7428, 7429, 7430, 7431, 7432, 7438, 7439, 744...<\/td>\n",
       "      <td>-22.923477<\/td>\n",
       "      <td>1<\/td>\n",
       "      <td>7459<\/td>\n",
       "      <td>0.0<\/td>\n",
       "      <td>none<\/td>\n",
       "      <td>-501.802466<\/td>\n",
       "    <\/tr>\n",
       "    <tr>\n",
       "      <th>7427<\/th>\n",
       "      <td>7427<\/td>\n",
       "      <td>POLYGON ((-8.55878 41.14978, -8.55801 41.14978...<\/td>\n",
       "      <td>0<\/td>\n",
       "      <td>[7396, 7397, 7398, 7399, 7408, 7409, 7410, 741...<\/td>\n",
       "      <td>-23.285850<\/td>\n",
       "      <td>1<\/td>\n",
       "      <td>7427<\/td>\n",
       "      <td>0.0<\/td>\n",
       "      <td>none<\/td>\n",
       "      <td>-400.623808<\/td>\n",
       "    <\/tr>\n",
       "    <tr>\n",
       "      <th>7469<\/th>\n",
       "      <td>7469<\/td>\n",
       "      <td>POLYGON ((-8.55569 41.15286, -8.55492 41.15286...<\/td>\n",
       "      <td>0<\/td>\n",
       "      <td>[7439, 7440, 7441, 7442, 7443, 7449, 7450, 745...<\/td>\n",
       "      <td>-23.628583<\/td>\n",
       "      <td>1<\/td>\n",
       "      <td>7469<\/td>\n",
       "      <td>0.0<\/td>\n",
       "      <td>none<\/td>\n",
       "      <td>-456.397070<\/td>\n",
       "    <\/tr>\n",
       "  <\/tbody>\n",
       "<\/table>\n",
       "<p>7496 rows × 10 columns<\/p>\n",
       "<\/div>"
      ]
     },
     "metadata":{
      
     },
     "output_type":"display_data"
    },
    {
     "data":{
      "text\/plain":[
       "      zone                                           geometry  n_stops  \\\n",
       "4363  4363  POLYGON ((-8.60962 41.15209, -8.60885 41.15209...        0   \n",
       "4362  4362  POLYGON ((-8.60962 41.15132, -8.60885 41.15132...        0   \n",
       "3028  3028  POLYGON ((-8.62888 41.16055, -8.62811 41.16055...        1   \n",
       "5170  5170  POLYGON ((-8.59884 41.14824, -8.59807 41.14824...        0   \n",
       "4304  4304  POLYGON ((-8.61039 41.15209, -8.60962 41.15209...        1   \n",
       "...    ...                                                ...      ...   \n",
       "7478  7478  POLYGON ((-8.55492 41.15286, -8.55415 41.15286...        0   \n",
       "7438  7438  POLYGON ((-8.55801 41.15055, -8.55724 41.15055...        0   \n",
       "7459  7459  POLYGON ((-8.55647 41.15209, -8.55569 41.15209...        0   \n",
       "7427  7427  POLYGON ((-8.55878 41.14978, -8.55801 41.14978...        0   \n",
       "7469  7469  POLYGON ((-8.55569 41.15286, -8.55492 41.15286...        0   \n",
       "\n",
       "                                                 radius      score  parish  \\\n",
       "4363  [4182, 4183, 4184, 4185, 4186, 4241, 4242, 424...  51.462242       5   \n",
       "4362  [4181, 4182, 4183, 4184, 4185, 4240, 4241, 424...  40.848656       5   \n",
       "3028  [2889, 2890, 2891, 2892, 2893, 2933, 2934, 293...  37.986871       5   \n",
       "5170  [4997, 4998, 4999, 5000, 5001, 5053, 5054, 505...  37.423134       0   \n",
       "4304  [4123, 4124, 4125, 4126, 4127, 4181, 4182, 418...  34.549238       5   \n",
       "...                                                 ...        ...     ...   \n",
       "7478  [7449, 7450, 7451, 7452, 7453, 7459, 7460, 746... -22.839944       1   \n",
       "7438  [7408, 7409, 7410, 7411, 7418, 7419, 7420, 742... -22.840716       1   \n",
       "7459  [7428, 7429, 7430, 7431, 7432, 7438, 7439, 744... -22.923477       1   \n",
       "7427  [7396, 7397, 7398, 7399, 7408, 7409, 7410, 741... -23.285850       1   \n",
       "7469  [7439, 7440, 7441, 7442, 7443, 7449, 7450, 745... -23.628583       1   \n",
       "\n",
       "      names  new_stops difference  radius_score  \n",
       "4363   4363        1.0       none    979.326508  \n",
       "4362   4362        1.0       none    959.557344  \n",
       "3028   3028        1.0  mantained    859.779495  \n",
       "5170   5170        1.0        new    447.870243  \n",
       "4304   4304        0.0    removed   1008.991251  \n",
       "...     ...        ...        ...           ...  \n",
       "7478   7478        0.0       none   -347.303932  \n",
       "7438   7438        0.0       none   -441.602431  \n",
       "7459   7459        0.0       none   -501.802466  \n",
       "7427   7427        0.0       none   -400.623808  \n",
       "7469   7469        0.0       none   -456.397070  \n",
       "\n",
       "[7496 rows x 10 columns]"
      ]
     },
     "metadata":{
      
     },
     "output_type":"display_data"
    }
   ],
   "metadata":{
    "datalore":{
     "node_id":"R9YfB6aEImxaSAcDGvzC0s",
     "type":"CODE",
     "hide_input_from_viewers":false,
     "hide_output_from_viewers":false,
     "report_properties":{
      "y":564
     }
    }
   }
  },
  {
   "cell_type":"code",
   "source":[
    "types = []\n",
    "for i, row in final_df.iterrows():\n",
    "    if row['n_stops'] == 0:\n",
    "        if row['new_stops'] == 1:\n",
    "            types.append('new')\n",
    "        else:\n",
    "            types.append('none')\n",
    "    else:\n",
    "        if row['new_stops'] == 1:\n",
    "            types.append('mantained')\n",
    "        else:\n",
    "            types.append('removed')\n",
    "final_df['difference'] = types\n",
    "print(f\"# Stops removed: {final_df[final_df['difference'] == 'removed']['difference'].count()}\")\n",
    "print(f\"# Stops mantained: {final_df[final_df['difference'] == 'mantained']['difference'].count()}\")\n",
    "print(f\"# New Stops: {final_df[final_df['difference'] == 'new']['difference'].count()}\")\n",
    "print(f\"# Total Current Stops: {final_df['new_stops'].sum()}\")\n",
    "final_df.plot(figsize=(30, 20), column=\"difference\", cmap=\"viridis\", categorical=True, legend = True)"
   ],
   "execution_count":null,
   "outputs":[
    {
     "name":"stdout",
     "text":[
      "# Stops removed: 197\n",
      "# Stops mantained: 13\n",
      "# New Stops: 197\n",
      "# Total Current Stops: 210.0\n",
      "\n",
      "\n"
     ],
     "output_type":"stream"
    },
    {
     "name":"stderr",
     "text":[
      "\n",
      "\n"
     ],
     "output_type":"stream"
    },
    {
     "data":{
      "text\/plain":[
       "<AxesSubplot:>"
      ]
     },
     "metadata":{
      
     },
     "output_type":"display_data"
    },
    {
     "data":{
      "image\/png":"[encoded data removed]"
     },
     "metadata":{
      "image\/png":{
       
      }
     },
     "output_type":"display_data"
    },
    {
     "data":{
      "text\/plain":[
       "<Figure size 2160x1440 with 1 Axes>"
      ]
     },
     "metadata":{
      
     },
     "output_type":"display_data"
    }
   ],
   "metadata":{
    "datalore":{
     "node_id":"BTYdToHfEexbUFM1eE4iBn",
     "type":"CODE",
     "hide_input_from_viewers":false,
     "hide_output_from_viewers":false,
     "report_properties":{
      "y":567
     }
    }
   }
  },
  {
   "cell_type":"markdown",
   "source":[
    "## 🛠️ Product  <a name=\"product\"><\/a>\n",
    "### Definition\n",
    "A data-driven decision support system for optimization of soft-mobility drop-off zones in order to maximize the usage of these solutions by the population.\n",
    "\n",
    "### Users\n",
    "Porto's management departments for transportation and mobility, when deciding the drop-off zones for the e-scooters.\n",
    "\n",
    "### Activities\n",
    "Our solution:\n",
    "* Predicts scores combining factors that influence the usage of soft-mobility solutions.\n",
    "* Suggests optimal drop-off points maximizing the usage of the e-scooters.\n",
    "\n",
    "### Output\n",
    "A data-driven dashboard that consists of two tabs:\n",
    "\n",
    "First, the dashboard allows the user to choose a weight for each feature. These weights can be either provided by our classification model or defined by the user based on domain expertise and\/or the municipality’s goals. After setting the weights, each zone is assigned a score reflecting the likelihood of that specific location successfully maximizing the usage by the population.\n",
    "\n",
    "![Dashboard1](https:\/\/i.imgur.com\/p4mq2oY.png)\n",
    "\n",
    "Then, an optimization model suggests optimal drop-off points that will maximize these scores, given the problem constraints, which can also be manipulated by the user. You can watch the full demo ***[here](https:\/\/www.youtube.com\/watch?v=TTKaWskbGfQ)***.\n",
    "\n",
    "![Dashboard2](https:\/\/i.imgur.com\/m8w5pEC.png)\n",
    "\n",
    "If the cost of moving around the drop-off zones is acceptable for the municipality, we strongly advise that this process is repeated from time to time, with the most recent data on soft-mobility trips, since we believe that the model will capture seasonal trends. For instance, during the Winter, the distance to the nearest tourist attraction might have less impact on the score than during the peak season as there is less flow of tourists.\n",
    "\n",
    "In conclusion, we offer an interactive, flexible, and dynamic solution that helps maximize the usage of the e-scooters throughout the whole year."
   ],
   "attachments":{
    
   },
   "metadata":{
    "datalore":{
     "node_id":"pk2jFHlBxBCdajrIUxnJYS",
     "type":"MD",
     "hide_input_from_viewers":true,
     "hide_output_from_viewers":true,
     "report_properties":{
      
     }
    }
   }
  },
  {
   "cell_type":"markdown",
   "source":[
    "### ***8. Impact Estimation*** <a name=\"impact\"><\/a>\n",
    "\n",
    "The estimated increase in usage will be calculated by the median number of trips of \"high\" labeled stops and the median number of trips of \"low\" labeled stops"
   ],
   "attachments":{
    
   },
   "metadata":{
    "datalore":{
     "node_id":"sfsXU648q2A4MMxXa94fVR",
     "type":"MD",
     "hide_input_from_viewers":false,
     "hide_output_from_viewers":false,
     "report_properties":{
      "y":570
     }
    }
   }
  },
  {
   "cell_type":"code",
   "source":[
    "median_low = 53\n",
    "median_high = 354\n",
    "\n",
    "labels = pd.read_csv(\"zones_labels.csv\")\n",
    "final_df = final_df.merge(labels, how=\"left\", on=\"zone\")"
   ],
   "execution_count":null,
   "outputs":[
    {
     "data":{
      "text\/html":[
       "<div>\n",
       "<style scoped>\n",
       "    .dataframe tbody tr th:only-of-type {\n",
       "        vertical-align: middle;\n",
       "    }\n",
       "\n",
       "    .dataframe tbody tr th {\n",
       "        vertical-align: top;\n",
       "    }\n",
       "\n",
       "    .dataframe thead th {\n",
       "        text-align: right;\n",
       "    }\n",
       "<\/style>\n",
       "<table border=\"1\" class=\"dataframe\">\n",
       "  <thead>\n",
       "    <tr style=\"text-align: right;\">\n",
       "      <th><\/th>\n",
       "      <th>zone<\/th>\n",
       "      <th>geometry<\/th>\n",
       "      <th>n_stops<\/th>\n",
       "      <th>radius<\/th>\n",
       "      <th>score<\/th>\n",
       "      <th>parish<\/th>\n",
       "      <th>names<\/th>\n",
       "      <th>new_stops<\/th>\n",
       "      <th>difference<\/th>\n",
       "      <th>radius_score<\/th>\n",
       "      <th>label<\/th>\n",
       "    <\/tr>\n",
       "  <\/thead>\n",
       "  <tbody>\n",
       "    <tr>\n",
       "      <th>0<\/th>\n",
       "      <td>4363<\/td>\n",
       "      <td>POLYGON ((-8.60962 41.15209, -8.60885 41.15209...<\/td>\n",
       "      <td>0<\/td>\n",
       "      <td>[4182, 4183, 4184, 4185, 4186, 4241, 4242, 424...<\/td>\n",
       "      <td>51.462242<\/td>\n",
       "      <td>5<\/td>\n",
       "      <td>4363<\/td>\n",
       "      <td>1.0<\/td>\n",
       "      <td>new<\/td>\n",
       "      <td>979.326508<\/td>\n",
       "      <td>0<\/td>\n",
       "    <\/tr>\n",
       "    <tr>\n",
       "      <th>1<\/th>\n",
       "      <td>4362<\/td>\n",
       "      <td>POLYGON ((-8.60962 41.15132, -8.60885 41.15132...<\/td>\n",
       "      <td>0<\/td>\n",
       "      <td>[4181, 4182, 4183, 4184, 4185, 4240, 4241, 424...<\/td>\n",
       "      <td>40.848656<\/td>\n",
       "      <td>5<\/td>\n",
       "      <td>4362<\/td>\n",
       "      <td>1.0<\/td>\n",
       "      <td>new<\/td>\n",
       "      <td>959.557344<\/td>\n",
       "      <td>0<\/td>\n",
       "    <\/tr>\n",
       "    <tr>\n",
       "      <th>2<\/th>\n",
       "      <td>3028<\/td>\n",
       "      <td>POLYGON ((-8.62888 41.16055, -8.62811 41.16055...<\/td>\n",
       "      <td>1<\/td>\n",
       "      <td>[2889, 2890, 2891, 2892, 2893, 2933, 2934, 293...<\/td>\n",
       "      <td>37.986871<\/td>\n",
       "      <td>5<\/td>\n",
       "      <td>3028<\/td>\n",
       "      <td>1.0<\/td>\n",
       "      <td>mantained<\/td>\n",
       "      <td>859.779495<\/td>\n",
       "      <td>1<\/td>\n",
       "    <\/tr>\n",
       "    <tr>\n",
       "      <th>3<\/th>\n",
       "      <td>5170<\/td>\n",
       "      <td>POLYGON ((-8.59884 41.14824, -8.59807 41.14824...<\/td>\n",
       "      <td>0<\/td>\n",
       "      <td>[4997, 4998, 4999, 5000, 5001, 5053, 5054, 505...<\/td>\n",
       "      <td>37.423134<\/td>\n",
       "      <td>0<\/td>\n",
       "      <td>5170<\/td>\n",
       "      <td>1.0<\/td>\n",
       "      <td>new<\/td>\n",
       "      <td>447.870243<\/td>\n",
       "      <td>0<\/td>\n",
       "    <\/tr>\n",
       "    <tr>\n",
       "      <th>4<\/th>\n",
       "      <td>4304<\/td>\n",
       "      <td>POLYGON ((-8.61039 41.15209, -8.60962 41.15209...<\/td>\n",
       "      <td>1<\/td>\n",
       "      <td>[4123, 4124, 4125, 4126, 4127, 4181, 4182, 418...<\/td>\n",
       "      <td>34.549238<\/td>\n",
       "      <td>5<\/td>\n",
       "      <td>4304<\/td>\n",
       "      <td>0.0<\/td>\n",
       "      <td>removed<\/td>\n",
       "      <td>1008.991251<\/td>\n",
       "      <td>1<\/td>\n",
       "    <\/tr>\n",
       "    <tr>\n",
       "      <th>...<\/th>\n",
       "      <td>...<\/td>\n",
       "      <td>...<\/td>\n",
       "      <td>...<\/td>\n",
       "      <td>...<\/td>\n",
       "      <td>...<\/td>\n",
       "      <td>...<\/td>\n",
       "      <td>...<\/td>\n",
       "      <td>...<\/td>\n",
       "      <td>...<\/td>\n",
       "      <td>...<\/td>\n",
       "      <td>...<\/td>\n",
       "    <\/tr>\n",
       "    <tr>\n",
       "      <th>7491<\/th>\n",
       "      <td>7478<\/td>\n",
       "      <td>POLYGON ((-8.55492 41.15286, -8.55415 41.15286...<\/td>\n",
       "      <td>0<\/td>\n",
       "      <td>[7449, 7450, 7451, 7452, 7453, 7459, 7460, 746...<\/td>\n",
       "      <td>-22.839944<\/td>\n",
       "      <td>1<\/td>\n",
       "      <td>7478<\/td>\n",
       "      <td>0.0<\/td>\n",
       "      <td>none<\/td>\n",
       "      <td>-347.303932<\/td>\n",
       "      <td>0<\/td>\n",
       "    <\/tr>\n",
       "    <tr>\n",
       "      <th>7492<\/th>\n",
       "      <td>7438<\/td>\n",
       "      <td>POLYGON ((-8.55801 41.15055, -8.55724 41.15055...<\/td>\n",
       "      <td>0<\/td>\n",
       "      <td>[7408, 7409, 7410, 7411, 7418, 7419, 7420, 742...<\/td>\n",
       "      <td>-22.840716<\/td>\n",
       "      <td>1<\/td>\n",
       "      <td>7438<\/td>\n",
       "      <td>0.0<\/td>\n",
       "      <td>none<\/td>\n",
       "      <td>-441.602431<\/td>\n",
       "      <td>0<\/td>\n",
       "    <\/tr>\n",
       "    <tr>\n",
       "      <th>7493<\/th>\n",
       "      <td>7459<\/td>\n",
       "      <td>POLYGON ((-8.55647 41.15209, -8.55569 41.15209...<\/td>\n",
       "      <td>0<\/td>\n",
       "      <td>[7428, 7429, 7430, 7431, 7432, 7438, 7439, 744...<\/td>\n",
       "      <td>-22.923477<\/td>\n",
       "      <td>1<\/td>\n",
       "      <td>7459<\/td>\n",
       "      <td>0.0<\/td>\n",
       "      <td>none<\/td>\n",
       "      <td>-501.802466<\/td>\n",
       "      <td>0<\/td>\n",
       "    <\/tr>\n",
       "    <tr>\n",
       "      <th>7494<\/th>\n",
       "      <td>7427<\/td>\n",
       "      <td>POLYGON ((-8.55878 41.14978, -8.55801 41.14978...<\/td>\n",
       "      <td>0<\/td>\n",
       "      <td>[7396, 7397, 7398, 7399, 7408, 7409, 7410, 741...<\/td>\n",
       "      <td>-23.285850<\/td>\n",
       "      <td>1<\/td>\n",
       "      <td>7427<\/td>\n",
       "      <td>0.0<\/td>\n",
       "      <td>none<\/td>\n",
       "      <td>-400.623808<\/td>\n",
       "      <td>0<\/td>\n",
       "    <\/tr>\n",
       "    <tr>\n",
       "      <th>7495<\/th>\n",
       "      <td>7469<\/td>\n",
       "      <td>POLYGON ((-8.55569 41.15286, -8.55492 41.15286...<\/td>\n",
       "      <td>0<\/td>\n",
       "      <td>[7439, 7440, 7441, 7442, 7443, 7449, 7450, 745...<\/td>\n",
       "      <td>-23.628583<\/td>\n",
       "      <td>1<\/td>\n",
       "      <td>7469<\/td>\n",
       "      <td>0.0<\/td>\n",
       "      <td>none<\/td>\n",
       "      <td>-456.397070<\/td>\n",
       "      <td>0<\/td>\n",
       "    <\/tr>\n",
       "  <\/tbody>\n",
       "<\/table>\n",
       "<p>7496 rows × 11 columns<\/p>\n",
       "<\/div>"
      ]
     },
     "metadata":{
      
     },
     "output_type":"display_data"
    },
    {
     "data":{
      "text\/plain":[
       "      zone                                           geometry  n_stops  \\\n",
       "0     4363  POLYGON ((-8.60962 41.15209, -8.60885 41.15209...        0   \n",
       "1     4362  POLYGON ((-8.60962 41.15132, -8.60885 41.15132...        0   \n",
       "2     3028  POLYGON ((-8.62888 41.16055, -8.62811 41.16055...        1   \n",
       "3     5170  POLYGON ((-8.59884 41.14824, -8.59807 41.14824...        0   \n",
       "4     4304  POLYGON ((-8.61039 41.15209, -8.60962 41.15209...        1   \n",
       "...    ...                                                ...      ...   \n",
       "7491  7478  POLYGON ((-8.55492 41.15286, -8.55415 41.15286...        0   \n",
       "7492  7438  POLYGON ((-8.55801 41.15055, -8.55724 41.15055...        0   \n",
       "7493  7459  POLYGON ((-8.55647 41.15209, -8.55569 41.15209...        0   \n",
       "7494  7427  POLYGON ((-8.55878 41.14978, -8.55801 41.14978...        0   \n",
       "7495  7469  POLYGON ((-8.55569 41.15286, -8.55492 41.15286...        0   \n",
       "\n",
       "                                                 radius      score  parish  \\\n",
       "0     [4182, 4183, 4184, 4185, 4186, 4241, 4242, 424...  51.462242       5   \n",
       "1     [4181, 4182, 4183, 4184, 4185, 4240, 4241, 424...  40.848656       5   \n",
       "2     [2889, 2890, 2891, 2892, 2893, 2933, 2934, 293...  37.986871       5   \n",
       "3     [4997, 4998, 4999, 5000, 5001, 5053, 5054, 505...  37.423134       0   \n",
       "4     [4123, 4124, 4125, 4126, 4127, 4181, 4182, 418...  34.549238       5   \n",
       "...                                                 ...        ...     ...   \n",
       "7491  [7449, 7450, 7451, 7452, 7453, 7459, 7460, 746... -22.839944       1   \n",
       "7492  [7408, 7409, 7410, 7411, 7418, 7419, 7420, 742... -22.840716       1   \n",
       "7493  [7428, 7429, 7430, 7431, 7432, 7438, 7439, 744... -22.923477       1   \n",
       "7494  [7396, 7397, 7398, 7399, 7408, 7409, 7410, 741... -23.285850       1   \n",
       "7495  [7439, 7440, 7441, 7442, 7443, 7449, 7450, 745... -23.628583       1   \n",
       "\n",
       "      names  new_stops difference  radius_score  label  \n",
       "0      4363        1.0        new    979.326508      0  \n",
       "1      4362        1.0        new    959.557344      0  \n",
       "2      3028        1.0  mantained    859.779495      1  \n",
       "3      5170        1.0        new    447.870243      0  \n",
       "4      4304        0.0    removed   1008.991251      1  \n",
       "...     ...        ...        ...           ...    ...  \n",
       "7491   7478        0.0       none   -347.303932      0  \n",
       "7492   7438        0.0       none   -441.602431      0  \n",
       "7493   7459        0.0       none   -501.802466      0  \n",
       "7494   7427        0.0       none   -400.623808      0  \n",
       "7495   7469        0.0       none   -456.397070      0  \n",
       "\n",
       "[7496 rows x 11 columns]"
      ]
     },
     "metadata":{
      
     },
     "output_type":"display_data"
    }
   ],
   "metadata":{
    "datalore":{
     "node_id":"Jgm5EFQ1dJbMwvEjCgahol",
     "type":"CODE",
     "hide_input_from_viewers":false,
     "hide_output_from_viewers":false,
     "report_properties":{
      "y":573
     }
    }
   }
  },
  {
   "cell_type":"code",
   "source":[
    "old = final_df[final_df['difference'] != 'new']\n",
    "total_old_usage = len(old[old['label'] == 0]) *  median_low + len(old[old['label'] == 1]) *  median_high\n",
    "\n",
    "new = final_df[final_df['difference'] != 'old']\n",
    "total_new_usage = len(new[new['label'] == 0]) *  median_low + len(new[new['label'] == 1]) *  median_high\n",
    "\n",
    "print(f'Old Usage: {total_old_usage}')\n",
    "print(f'New Usage: {total_new_usage}')\n",
    "print(f'Improvement (%): {round((total_new_usage - total_old_usage)\/total_old_usage * 100, 2)}%')\n",
    "print(f'Improvement (abs): {total_new_usage - total_old_usage}')"
   ],
   "execution_count":null,
   "outputs":[
    {
     "name":"stdout",
     "text":[
      "Old Usage: 424171\n",
      "New Usage: 434913\n",
      "Improvement (%): 2.53%\n",
      "Improvement (abs): 10742\n"
     ],
     "output_type":"stream"
    }
   ],
   "metadata":{
    "datalore":{
     "node_id":"Z5d7g2kamq3yX2ANnxeQWV",
     "type":"CODE",
     "hide_input_from_viewers":false,
     "hide_output_from_viewers":false,
     "report_properties":{
      "y":576
     }
    }
   }
  },
  {
   "cell_type":"markdown",
   "source":[
    "Our model estimates an increase on scooter trips by 2,53%."
   ],
   "attachments":{
    
   },
   "metadata":{
    "datalore":{
     "node_id":"DQy3ETn9YMrI6PqBrIlY3D",
     "type":"MD",
     "hide_input_from_viewers":false,
     "hide_output_from_viewers":false,
     "report_properties":{
      "y":579
     }
    }
   }
  },
  {
   "cell_type":"markdown",
   "source":[
    "### ***9. Additional EDA*** <a name=\"more_eda\"><\/a>"
   ],
   "attachments":{
    
   },
   "metadata":{
    "datalore":{
     "node_id":"l0G6n4qZenZ7Z4ePpQV2CP",
     "type":"MD",
     "hide_input_from_viewers":false,
     "hide_output_from_viewers":false,
     "report_properties":{
      "y":582
     }
    }
   }
  },
  {
   "cell_type":"markdown",
   "source":[
    "#### Ratio between trips and validation"
   ],
   "attachments":{
    
   },
   "metadata":{
    "datalore":{
     "node_id":"Yq0CAF37gKxO6HwN7M5nbF",
     "type":"MD",
     "hide_input_from_viewers":false,
     "hide_output_from_viewers":false,
     "report_properties":{
      "y":585
     }
    }
   }
  },
  {
   "cell_type":"markdown",
   "source":[
    "What is the ration between the number of trips started in a zone and the number of validations in metro and bus in that zone?"
   ],
   "attachments":{
    
   },
   "metadata":{
    "datalore":{
     "node_id":"h69crMaj0fC8Syp67MYpP5",
     "type":"MD",
     "hide_input_from_viewers":false,
     "hide_output_from_viewers":false,
     "report_properties":{
      "y":588
     }
    }
   }
  },
  {
   "cell_type":"markdown",
   "source":[
    "Open grid with number of scooter trips per zone and filter for zones with at least 1 metro stop and 1 bus stop."
   ],
   "attachments":{
    
   },
   "metadata":{
    "datalore":{
     "node_id":"qEhTzn1C3YpFypvqk9kwoj",
     "type":"MD",
     "hide_input_from_viewers":false,
     "hide_output_from_viewers":false,
     "report_properties":{
      "y":591
     }
    }
   }
  },
  {
   "cell_type":"code",
   "source":[
    "df = pd.read_csv('aux_grid_with_scooter_trips.csv')\n",
    "df = df.loc[(df['n_metro']>0) & (df['n_bus']>0)][['zone', 'validations_metro', 'validations_bus', 'n_trips_start']]\n",
    "df.head()"
   ],
   "execution_count":null,
   "outputs":[
    {
     "data":{
      "text\/html":[
       "<div>\n",
       "<style scoped>\n",
       "    .dataframe tbody tr th:only-of-type {\n",
       "        vertical-align: middle;\n",
       "    }\n",
       "\n",
       "    .dataframe tbody tr th {\n",
       "        vertical-align: top;\n",
       "    }\n",
       "\n",
       "    .dataframe thead th {\n",
       "        text-align: right;\n",
       "    }\n",
       "<\/style>\n",
       "<table border=\"1\" class=\"dataframe\">\n",
       "  <thead>\n",
       "    <tr style=\"text-align: right;\">\n",
       "      <th><\/th>\n",
       "      <th>zone<\/th>\n",
       "      <th>validations_metro<\/th>\n",
       "      <th>validations_bus<\/th>\n",
       "      <th>n_trips_start<\/th>\n",
       "    <\/tr>\n",
       "  <\/thead>\n",
       "  <tbody>\n",
       "    <tr>\n",
       "      <th>1992<\/th>\n",
       "      <td>1992<\/td>\n",
       "      <td>2007.755646<\/td>\n",
       "      <td>271.025974<\/td>\n",
       "      <td>97.0<\/td>\n",
       "    <\/tr>\n",
       "    <tr>\n",
       "      <th>2271<\/th>\n",
       "      <td>2271<\/td>\n",
       "      <td>1714.964587<\/td>\n",
       "      <td>54.197902<\/td>\n",
       "      <td>0.0<\/td>\n",
       "    <\/tr>\n",
       "    <tr>\n",
       "      <th>4239<\/th>\n",
       "      <td>4239<\/td>\n",
       "      <td>2224.885381<\/td>\n",
       "      <td>424.500000<\/td>\n",
       "      <td>17.0<\/td>\n",
       "    <\/tr>\n",
       "    <tr>\n",
       "      <th>4410<\/th>\n",
       "      <td>4410<\/td>\n",
       "      <td>1509.117790<\/td>\n",
       "      <td>11.583681<\/td>\n",
       "      <td>5.0<\/td>\n",
       "    <\/tr>\n",
       "    <tr>\n",
       "      <th>5170<\/th>\n",
       "      <td>5170<\/td>\n",
       "      <td>4321.975397<\/td>\n",
       "      <td>154.792589<\/td>\n",
       "      <td>10.0<\/td>\n",
       "    <\/tr>\n",
       "  <\/tbody>\n",
       "<\/table>\n",
       "<\/div>"
      ]
     },
     "metadata":{
      
     },
     "output_type":"display_data"
    },
    {
     "data":{
      "text\/plain":[
       "      zone  validations_metro  validations_bus  n_trips_start\n",
       "1992  1992        2007.755646       271.025974           97.0\n",
       "2271  2271        1714.964587        54.197902            0.0\n",
       "4239  4239        2224.885381       424.500000           17.0\n",
       "4410  4410        1509.117790        11.583681            5.0\n",
       "5170  5170        4321.975397       154.792589           10.0"
      ]
     },
     "metadata":{
      
     },
     "output_type":"display_data"
    }
   ],
   "metadata":{
    "datalore":{
     "node_id":"v7vDwSnXoexHhK97Fdrb4X",
     "type":"CODE",
     "hide_input_from_viewers":false,
     "hide_output_from_viewers":false,
     "report_properties":{
      "y":594
     }
    }
   }
  },
  {
   "cell_type":"markdown",
   "source":[
    "Compute average number of validations per zone and then te ratio between that value and the number of scooter trips."
   ],
   "attachments":{
    
   },
   "metadata":{
    "datalore":{
     "node_id":"X8OTDYi4iL5bKtAOdpeLBV",
     "type":"MD",
     "hide_input_from_viewers":false,
     "hide_output_from_viewers":false,
     "report_properties":{
      "y":597
     }
    }
   }
  },
  {
   "cell_type":"code",
   "source":[
    "df['avg_validations'] = (df['validations_metro'] + df['validations_bus']) \/ 2\n",
    "df = df[['zone', 'avg_validations', 'n_trips_start']]\n",
    "df['ratio'] = (df['n_trips_start'] \/ df['avg_validations']) * 100\n",
    "df.head()"
   ],
   "execution_count":null,
   "outputs":[
    {
     "data":{
      "text\/html":[
       "<div>\n",
       "<style scoped>\n",
       "    .dataframe tbody tr th:only-of-type {\n",
       "        vertical-align: middle;\n",
       "    }\n",
       "\n",
       "    .dataframe tbody tr th {\n",
       "        vertical-align: top;\n",
       "    }\n",
       "\n",
       "    .dataframe thead th {\n",
       "        text-align: right;\n",
       "    }\n",
       "<\/style>\n",
       "<table border=\"1\" class=\"dataframe\">\n",
       "  <thead>\n",
       "    <tr style=\"text-align: right;\">\n",
       "      <th><\/th>\n",
       "      <th>zone<\/th>\n",
       "      <th>avg_validations<\/th>\n",
       "      <th>n_trips_start<\/th>\n",
       "      <th>ratio<\/th>\n",
       "    <\/tr>\n",
       "  <\/thead>\n",
       "  <tbody>\n",
       "    <tr>\n",
       "      <th>1992<\/th>\n",
       "      <td>1992<\/td>\n",
       "      <td>1139.390810<\/td>\n",
       "      <td>97.0<\/td>\n",
       "      <td>8.513321<\/td>\n",
       "    <\/tr>\n",
       "    <tr>\n",
       "      <th>2271<\/th>\n",
       "      <td>2271<\/td>\n",
       "      <td>884.581245<\/td>\n",
       "      <td>0.0<\/td>\n",
       "      <td>0.000000<\/td>\n",
       "    <\/tr>\n",
       "    <tr>\n",
       "      <th>4239<\/th>\n",
       "      <td>4239<\/td>\n",
       "      <td>1324.692691<\/td>\n",
       "      <td>17.0<\/td>\n",
       "      <td>1.283317<\/td>\n",
       "    <\/tr>\n",
       "    <tr>\n",
       "      <th>4410<\/th>\n",
       "      <td>4410<\/td>\n",
       "      <td>760.350736<\/td>\n",
       "      <td>5.0<\/td>\n",
       "      <td>0.657591<\/td>\n",
       "    <\/tr>\n",
       "    <tr>\n",
       "      <th>5170<\/th>\n",
       "      <td>5170<\/td>\n",
       "      <td>2238.383993<\/td>\n",
       "      <td>10.0<\/td>\n",
       "      <td>0.446751<\/td>\n",
       "    <\/tr>\n",
       "  <\/tbody>\n",
       "<\/table>\n",
       "<\/div>"
      ]
     },
     "metadata":{
      
     },
     "output_type":"display_data"
    },
    {
     "data":{
      "text\/plain":[
       "      zone  avg_validations  n_trips_start     ratio\n",
       "1992  1992      1139.390810           97.0  8.513321\n",
       "2271  2271       884.581245            0.0  0.000000\n",
       "4239  4239      1324.692691           17.0  1.283317\n",
       "4410  4410       760.350736            5.0  0.657591\n",
       "5170  5170      2238.383993           10.0  0.446751"
      ]
     },
     "metadata":{
      
     },
     "output_type":"display_data"
    }
   ],
   "metadata":{
    "datalore":{
     "node_id":"WYUr6PDxJjnvqvrC7Y4AxZ",
     "type":"CODE",
     "hide_input_from_viewers":false,
     "hide_output_from_viewers":false,
     "report_properties":{
      "y":600
     }
    }
   }
  },
  {
   "cell_type":"code",
   "source":[
    "sns.boxplot(y='ratio', data=df, showfliers=False)"
   ],
   "execution_count":null,
   "outputs":[
    {
     "name":"stdout",
     "text":[
      "\n"
     ],
     "output_type":"stream"
    },
    {
     "name":"stderr",
     "text":[
      "\n"
     ],
     "output_type":"stream"
    },
    {
     "data":{
      "text\/plain":[
       "<AxesSubplot:ylabel='ratio'>"
      ]
     },
     "metadata":{
      
     },
     "output_type":"display_data"
    },
    {
     "data":{
      "image\/png":"[encoded data removed]"
     },
     "metadata":{
      "image\/png":{
       
      }
     },
     "output_type":"display_data"
    },
    {
     "data":{
      "text\/plain":[
       "<Figure size 432x288 with 1 Axes>"
      ]
     },
     "metadata":{
      
     },
     "output_type":"display_data"
    }
   ],
   "metadata":{
    "datalore":{
     "node_id":"fVTBi2RajtuMR9XWW0YZs3",
     "type":"CODE",
     "hide_input_from_viewers":false,
     "hide_output_from_viewers":false,
     "report_properties":{
      "y":603
     }
    }
   }
  },
  {
   "cell_type":"code",
   "source":[
    "print(\"Average ratio (%) =\", df['ratio'].mean())\n",
    "print(\"Median ratio (%) =\", df['ratio'].median())\n",
    "print(\"Max ratio (%) =\", df['ratio'].max())"
   ],
   "execution_count":null,
   "outputs":[
    {
     "name":"stdout",
     "text":[
      "Average ratio (%) = 1.6593017872231155\n",
      "Median ratio (%) = 0.4467508716417795\n",
      "Max ratio (%) = 8.513321254798\n"
     ],
     "output_type":"stream"
    }
   ],
   "metadata":{
    "datalore":{
     "node_id":"f2aii6tVWRVlXKbbDD0QBJ",
     "type":"CODE",
     "hide_input_from_viewers":false,
     "hide_output_from_viewers":false,
     "report_properties":{
      "y":606
     }
    }
   }
  }
 ],
 "metadata":{
  "kernelspec":{
   "display_name":"Python",
   "language":"python",
   "name":"python"
  },
  "datalore":{
   "version":1,
   "computation_mode":"JUPYTER",
   "package_manager":"pip",
   "base_environment":"default",
   "packages":[
    
   ]
  }
 },
 "nbformat":4,
 "nbformat_minor":4
}