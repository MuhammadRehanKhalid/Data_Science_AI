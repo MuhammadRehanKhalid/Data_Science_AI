{
 "cells": [
  {
   "cell_type": "code",
   "execution_count": 3,
   "metadata": {},
   "outputs": [
    {
     "name": "stdout",
     "output_type": "stream",
     "text": [
      "6\n",
      "5\n",
      "4\n",
      "3\n",
      "2\n",
      "1\n"
     ]
    }
   ],
   "source": [
    "# Day_21 Project\n",
    "import time\n",
    "for i in range(6,0,-1):\n",
    "  print(i)\n",
    "  time.sleep(1)"
   ]
  },
  {
   "cell_type": "code",
   "execution_count": 9,
   "metadata": {},
   "outputs": [
    {
     "name": "stdout",
     "output_type": "stream",
     "text": [
      "Welcome to Math Table Game\n"
     ]
    },
    {
     "name": "stdin",
     "output_type": "stream",
     "text": [
      "Enter the Number you want multiple of:  12\n"
     ]
    },
    {
     "name": "stdout",
     "output_type": "stream",
     "text": [
      "12 x 1 = 12 x 1 =\n"
     ]
    },
    {
     "name": "stdin",
     "output_type": "stream",
     "text": [
      "PLease enter the answer of the above multiple:  1\n"
     ]
    },
    {
     "name": "stdout",
     "output_type": "stream",
     "text": [
      "Incorrect answer\n",
      "Correct Answer is 12\n",
      "12 x 2 = 12 x 2 =\n"
     ]
    },
    {
     "name": "stdin",
     "output_type": "stream",
     "text": [
      "PLease enter the answer of the above multiple:  24\n"
     ]
    },
    {
     "name": "stdout",
     "output_type": "stream",
     "text": [
      "Horrayyyy!!!!🥳🥳🥳🥳🥳🥰🥰😎😎, You have guessed the right anser\n"
     ]
    },
    {
     "name": "stdin",
     "output_type": "stream",
     "text": [
      "want to play again:  yes\n"
     ]
    },
    {
     "name": "stdout",
     "output_type": "stream",
     "text": [
      "12 x 3 = 12 x 3 =\n"
     ]
    },
    {
     "name": "stdin",
     "output_type": "stream",
     "text": [
      "PLease enter the answer of the above multiple:  24\n"
     ]
    },
    {
     "name": "stdout",
     "output_type": "stream",
     "text": [
      "Incorrect answer\n",
      "Correct Answer is 36\n",
      "12 x 4 = 12 x 4 =\n"
     ]
    },
    {
     "name": "stdin",
     "output_type": "stream",
     "text": [
      "PLease enter the answer of the above multiple:  48\n"
     ]
    },
    {
     "name": "stdout",
     "output_type": "stream",
     "text": [
      "Horrayyyy!!!!🥳🥳🥳🥳🥳🥰🥰😎😎, You have guessed the right anser\n"
     ]
    },
    {
     "name": "stdin",
     "output_type": "stream",
     "text": [
      "want to play again:  yes\n"
     ]
    },
    {
     "name": "stdout",
     "output_type": "stream",
     "text": [
      "12 x 5 = 12 x 5 =\n"
     ]
    },
    {
     "name": "stdin",
     "output_type": "stream",
     "text": [
      "PLease enter the answer of the above multiple:  60\n"
     ]
    },
    {
     "name": "stdout",
     "output_type": "stream",
     "text": [
      "Horrayyyy!!!!🥳🥳🥳🥳🥳🥰🥰😎😎, You have guessed the right anser\n"
     ]
    },
    {
     "name": "stdin",
     "output_type": "stream",
     "text": [
      "want to play again:  yes\n"
     ]
    }
   ],
   "source": [
    "#Day_21 Project of math\n",
    "import random as rd\n",
    "print('Welcome to Math Table Game')\n",
    "multiple = int(input('Enter the Number you want multiple of: '))\n",
    "rand_range = rd.randint(1, 10)\n",
    "for i in range(1, rand_range + 1):\n",
    "  print(f'{multiple} x {i} = ', end='')\n",
    "  print(multiple , 'x', i , '=')\n",
    "  answer = i * multiple\n",
    "  u_ans = int(input('PLease enter the answer of the above multiple: '))\n",
    "  if u_ans == answer:\n",
    "    print('Horrayyyy!!!!🥳🥳🥳🥳🥳🥰🥰😎😎, You have guessed the right anser')\n",
    "    aga_in = input(\"want to play again: \").lower()\n",
    "    if aga_in == \"yes\":\n",
    "      continue\n",
    "    else:\n",
    "      break\n",
    "  else:\n",
    "    print(\"Incorrect answer\")\n",
    "    print('Correct Answer is',answer)\n",
    "   "
   ]
  },
  {
   "cell_type": "code",
   "execution_count": 11,
   "metadata": {},
   "outputs": [
    {
     "name": "stdout",
     "output_type": "stream",
     "text": [
      "Welcome to Math Table Game\n"
     ]
    },
    {
     "name": "stdin",
     "output_type": "stream",
     "text": [
      "Enter the number you want multiples of:  12\n"
     ]
    },
    {
     "name": "stdout",
     "output_type": "stream",
     "text": [
      "12 x 1 = "
     ]
    },
    {
     "name": "stdin",
     "output_type": "stream",
     "text": [
      "Please enter the answer of the above multiplication:  12\n"
     ]
    },
    {
     "name": "stdout",
     "output_type": "stream",
     "text": [
      "Congratulations! You have guessed the correct answer!\n"
     ]
    },
    {
     "name": "stdin",
     "output_type": "stream",
     "text": [
      "Do you want to play again? (yes/no):  yes\n",
      "Enter the number you want multiples of:  3\n"
     ]
    },
    {
     "name": "stdout",
     "output_type": "stream",
     "text": [
      "3 x 1 = "
     ]
    },
    {
     "name": "stdin",
     "output_type": "stream",
     "text": [
      "Please enter the answer of the above multiplication:  3\n"
     ]
    },
    {
     "name": "stdout",
     "output_type": "stream",
     "text": [
      "Congratulations! You have guessed the correct answer!\n",
      "3 x 2 = "
     ]
    },
    {
     "name": "stdin",
     "output_type": "stream",
     "text": [
      "Please enter the answer of the above multiplication:  6\n"
     ]
    },
    {
     "name": "stdout",
     "output_type": "stream",
     "text": [
      "Congratulations! You have guessed the correct answer!\n"
     ]
    },
    {
     "name": "stdin",
     "output_type": "stream",
     "text": [
      "Do you want to play again? (yes/no):  yes\n",
      "Enter the number you want multiples of:  65\n"
     ]
    },
    {
     "name": "stdout",
     "output_type": "stream",
     "text": [
      "65 x 1 = "
     ]
    },
    {
     "name": "stdin",
     "output_type": "stream",
     "text": [
      "Please enter the answer of the above multiplication:  65\n"
     ]
    },
    {
     "name": "stdout",
     "output_type": "stream",
     "text": [
      "Congratulations! You have guessed the correct answer!\n",
      "65 x 2 = "
     ]
    },
    {
     "name": "stdin",
     "output_type": "stream",
     "text": [
      "Please enter the answer of the above multiplication:  130\n"
     ]
    },
    {
     "name": "stdout",
     "output_type": "stream",
     "text": [
      "Congratulations! You have guessed the correct answer!\n",
      "65 x 3 = "
     ]
    },
    {
     "name": "stdin",
     "output_type": "stream",
     "text": [
      "Please enter the answer of the above multiplication:  43\n"
     ]
    },
    {
     "name": "stdout",
     "output_type": "stream",
     "text": [
      "Incorrect answer.\n",
      "Correct answer is: 195\n"
     ]
    },
    {
     "name": "stdin",
     "output_type": "stream",
     "text": [
      "Do you want to play again? (yes/no):  no\n"
     ]
    },
    {
     "name": "stdout",
     "output_type": "stream",
     "text": [
      "Thanks for playing!\n"
     ]
    }
   ],
   "source": [
    "import random\n",
    "\n",
    "print('Welcome to Math Table Game')\n",
    "\n",
    "while True:\n",
    "    multiple = int(input('Enter the number you want multiples of: '))\n",
    "    rand_range = random.randint(1, 10)\n",
    "    \n",
    "    for i in range(1, rand_range + 1):\n",
    "        print(f'{multiple} x {i} = ', end='')\n",
    "        correct_answer = i * multiple\n",
    "        user_answer = int(input('Please enter the answer of the above multiplication: '))\n",
    "        if user_answer == correct_answer:\n",
    "            print('Congratulations! You have guessed the correct answer!')\n",
    "        else:\n",
    "            print('Incorrect answer.')\n",
    "            print('Correct answer is:', correct_answer)\n",
    "            break\n",
    "\n",
    "    play_again = input(\"Do you want to play again? (yes/no): \").lower()\n",
    "    if play_again != \"yes\":\n",
    "        break\n",
    "\n",
    "print(\"Thanks for playing!\")\n"
   ]
  },
  {
   "cell_type": "code",
   "execution_count": null,
   "metadata": {},
   "outputs": [],
   "source": []
  }
 ],
 "metadata": {
  "kernelspec": {
   "display_name": "Python 3 (ipykernel)",
   "language": "python",
   "name": "python3"
  },
  "language_info": {
   "codemirror_mode": {
    "name": "ipython",
    "version": 3
   },
   "file_extension": ".py",
   "mimetype": "text/x-python",
   "name": "python",
   "nbconvert_exporter": "python",
   "pygments_lexer": "ipython3",
   "version": "3.10.13"
  }
 },
 "nbformat": 4,
 "nbformat_minor": 4
}
