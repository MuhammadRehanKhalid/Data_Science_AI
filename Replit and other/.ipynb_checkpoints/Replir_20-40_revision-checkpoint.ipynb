{
 "cells": [
  {
   "cell_type": "code",
   "execution_count": 3,
   "metadata": {},
   "outputs": [
    {
     "name": "stdout",
     "output_type": "stream",
     "text": [
      "6\n",
      "5\n",
      "4\n",
      "3\n",
      "2\n",
      "1\n"
     ]
    }
   ],
   "source": [
    "# Day_21 Project\n",
    "import time\n",
    "for i in range(6,0,-1):\n",
    "  print(i)\n",
    "  time.sleep(1)"
   ]
  },
  {
   "cell_type": "code",
   "execution_count": 9,
   "metadata": {},
   "outputs": [
    {
     "name": "stdout",
     "output_type": "stream",
     "text": [
      "Welcome to Math Table Game\n"
     ]
    },
    {
     "name": "stdin",
     "output_type": "stream",
     "text": [
      "Enter the Number you want multiple of:  12\n"
     ]
    },
    {
     "name": "stdout",
     "output_type": "stream",
     "text": [
      "12 x 1 = 12 x 1 =\n"
     ]
    },
    {
     "name": "stdin",
     "output_type": "stream",
     "text": [
      "PLease enter the answer of the above multiple:  1\n"
     ]
    },
    {
     "name": "stdout",
     "output_type": "stream",
     "text": [
      "Incorrect answer\n",
      "Correct Answer is 12\n",
      "12 x 2 = 12 x 2 =\n"
     ]
    },
    {
     "name": "stdin",
     "output_type": "stream",
     "text": [
      "PLease enter the answer of the above multiple:  24\n"
     ]
    },
    {
     "name": "stdout",
     "output_type": "stream",
     "text": [
      "Horrayyyy!!!!🥳🥳🥳🥳🥳🥰🥰😎😎, You have guessed the right anser\n"
     ]
    },
    {
     "name": "stdin",
     "output_type": "stream",
     "text": [
      "want to play again:  yes\n"
     ]
    },
    {
     "name": "stdout",
     "output_type": "stream",
     "text": [
      "12 x 3 = 12 x 3 =\n"
     ]
    },
    {
     "name": "stdin",
     "output_type": "stream",
     "text": [
      "PLease enter the answer of the above multiple:  24\n"
     ]
    },
    {
     "name": "stdout",
     "output_type": "stream",
     "text": [
      "Incorrect answer\n",
      "Correct Answer is 36\n",
      "12 x 4 = 12 x 4 =\n"
     ]
    },
    {
     "name": "stdin",
     "output_type": "stream",
     "text": [
      "PLease enter the answer of the above multiple:  48\n"
     ]
    },
    {
     "name": "stdout",
     "output_type": "stream",
     "text": [
      "Horrayyyy!!!!🥳🥳🥳🥳🥳🥰🥰😎😎, You have guessed the right anser\n"
     ]
    },
    {
     "name": "stdin",
     "output_type": "stream",
     "text": [
      "want to play again:  yes\n"
     ]
    },
    {
     "name": "stdout",
     "output_type": "stream",
     "text": [
      "12 x 5 = 12 x 5 =\n"
     ]
    },
    {
     "name": "stdin",
     "output_type": "stream",
     "text": [
      "PLease enter the answer of the above multiple:  60\n"
     ]
    },
    {
     "name": "stdout",
     "output_type": "stream",
     "text": [
      "Horrayyyy!!!!🥳🥳🥳🥳🥳🥰🥰😎😎, You have guessed the right anser\n"
     ]
    },
    {
     "name": "stdin",
     "output_type": "stream",
     "text": [
      "want to play again:  yes\n"
     ]
    }
   ],
   "source": [
    "#Day_21 Project of math\n",
    "import random as rd\n",
    "print('Welcome to Math Table Game')\n",
    "multiple = int(input('Enter the Number you want multiple of: '))\n",
    "rand_range = rd.randint(1, 10)\n",
    "for i in range(1, rand_range + 1):\n",
    "  print(f'{multiple} x {i} = ', end='')\n",
    "  print(multiple , 'x', i , '=')\n",
    "  answer = i * multiple\n",
    "  u_ans = int(input('PLease enter the answer of the above multiple: '))\n",
    "  if u_ans == answer:\n",
    "    print('Horrayyyy!!!!🥳🥳🥳🥳🥳🥰🥰😎😎, You have guessed the right answer')\n",
    "    aga_in = input(\"want to play again: \").lower()\n",
    "    if aga_in == \"yes\":\n",
    "      continue\n",
    "    else:\n",
    "      break\n",
    "  else:\n",
    "    print(\"Incorrect answer\")\n",
    "    print('Correct Answer is',answer)\n",
    "   "
   ]
  },
  {
   "cell_type": "code",
   "execution_count": 35,
   "metadata": {},
   "outputs": [
    {
     "name": "stdout",
     "output_type": "stream",
     "text": [
      "Welcome to Math Table Game\n"
     ]
    },
    {
     "name": "stdin",
     "output_type": "stream",
     "text": [
      "Enter the number you want multiples of:  12\n"
     ]
    },
    {
     "name": "stdout",
     "output_type": "stream",
     "text": [
      "12 x 3 = "
     ]
    },
    {
     "name": "stdin",
     "output_type": "stream",
     "text": [
      "Please enter the answer of the above multiplication:  36\n"
     ]
    },
    {
     "name": "stdout",
     "output_type": "stream",
     "text": [
      "Horrayyyy!!!!🥳🥳🥳🥳🥳🥰🥰😎😎, You have guessed the right answer\n"
     ]
    },
    {
     "name": "stdin",
     "output_type": "stream",
     "text": [
      "Do you want to play again? (yes/no):  yes\n",
      "Enter the number you want multiples of:  34\n"
     ]
    },
    {
     "name": "stdout",
     "output_type": "stream",
     "text": [
      "34 x 5 = "
     ]
    },
    {
     "name": "stdin",
     "output_type": "stream",
     "text": [
      "Please enter the answer of the above multiplication:  170\n"
     ]
    },
    {
     "name": "stdout",
     "output_type": "stream",
     "text": [
      "Horrayyyy!!!!🥳🥳🥳🥳🥳🥰🥰😎😎, You have guessed the right answer\n"
     ]
    },
    {
     "name": "stdin",
     "output_type": "stream",
     "text": [
      "Do you want to play again? (yes/no):  no\n"
     ]
    },
    {
     "name": "stdout",
     "output_type": "stream",
     "text": [
      "Thanks for playing! You have guessed 2 correct answers out of 10\n"
     ]
    }
   ],
   "source": [
    "import random as rd\n",
    "print('Welcome to Math Table Game')\n",
    "coun = 0\n",
    "while True:\n",
    "    multiple = int(input('Enter the number you want multiples of: '))\n",
    "    \n",
    "    for i in range(1):\n",
    "        ran_int = rd.randint(1,10)\n",
    "        print(f'{multiple} x {ran_int} = ', end='')\n",
    "        correct_answer = ran_int * multiple\n",
    "        user_answer = int(input('Please enter the answer of the above multiplication: '))\n",
    "        if user_answer == correct_answer:\n",
    "            coun += 1\n",
    "            print('Horrayyyy!!!!🥳🥳🥳🥳🥳🥰🥰😎😎, You have guessed the right answer')\n",
    "        else:\n",
    "            print('Incorrect answer.')\n",
    "            print('Correct answer is:', correct_answer)\n",
    "            continue\n",
    "\n",
    "    play_again = input(\"Do you want to play again? (yes/no): \").lower()\n",
    "    if play_again != \"yes\":\n",
    "        break\n",
    "\n",
    "print(\"Thanks for playing! You have guessed\",coun,\"correct answers out of 10\")\n"
   ]
  },
  {
   "cell_type": "code",
   "execution_count": 31,
   "metadata": {},
   "outputs": [
    {
     "name": "stdout",
     "output_type": "stream",
     "text": [
      "80\n"
     ]
    }
   ],
   "source": [
    "# Day_22 Random integer\n",
    "import random as rd\n",
    "my_num = rd.randint(1,100)\n",
    "print(my_num)"
   ]
  },
  {
   "cell_type": "code",
   "execution_count": 48,
   "metadata": {},
   "outputs": [
    {
     "name": "stdout",
     "output_type": "stream",
     "text": [
      "10\n"
     ]
    }
   ],
   "source": [
    "import random as rd\n",
    "for i in range(1):\n",
    "  my_number = rd.randint(1,10)\n",
    "  print(my_number)"
   ]
  },
  {
   "cell_type": "code",
   "execution_count": 58,
   "metadata": {
    "scrolled": true
   },
   "outputs": [
    {
     "ename": "TypeError",
     "evalue": "roll_Dice() takes 0 positional arguments but 1 was given",
     "output_type": "error",
     "traceback": [
      "\u001b[0;31m---------------------------------------------------------------------------\u001b[0m",
      "\u001b[0;31mTypeError\u001b[0m                                 Traceback (most recent call last)",
      "Cell \u001b[0;32mIn[58], line 7\u001b[0m\n\u001b[1;32m      4\u001b[0m   dice \u001b[38;5;241m=\u001b[39m rd\u001b[38;5;241m.\u001b[39mrandint(\u001b[38;5;241m1\u001b[39m,\u001b[38;5;241m6\u001b[39m)\n\u001b[1;32m      5\u001b[0m   \u001b[38;5;28mprint\u001b[39m(\u001b[38;5;124mf\u001b[39m\u001b[38;5;124m'\u001b[39m\u001b[38;5;124mYou Rolled Dice and output is \u001b[39m\u001b[38;5;132;01m{\u001b[39;00mdice\u001b[38;5;132;01m}\u001b[39;00m\u001b[38;5;124m \u001b[39m\u001b[38;5;124m'\u001b[39m, end \u001b[38;5;241m=\u001b[39m\u001b[38;5;124m'\u001b[39m\u001b[38;5;124m'\u001b[39m)\n\u001b[0;32m----> 7\u001b[0m \u001b[43mroll_Dice\u001b[49m\u001b[43m(\u001b[49m\u001b[38;5;241;43m1\u001b[39;49m\u001b[43m)\u001b[49m\n",
      "\u001b[0;31mTypeError\u001b[0m: roll_Dice() takes 0 positional arguments but 1 was given"
     ]
    }
   ],
   "source": [
    "# Subroutine\n",
    "def roll_Dice():\n",
    "  import random as rd\n",
    "  dice = rd.randint(1,6)\n",
    "  print(f'You Rolled Dice and output is {dice} ', end ='')\n",
    "\n",
    "roll_Dice()"
   ]
  },
  {
   "cell_type": "code",
   "execution_count": null,
   "metadata": {},
   "outputs": [],
   "source": []
  }
 ],
 "metadata": {
  "kernelspec": {
   "display_name": "Python 3 (ipykernel)",
   "language": "python",
   "name": "python3"
  },
  "language_info": {
   "codemirror_mode": {
    "name": "ipython",
    "version": 3
   },
   "file_extension": ".py",
   "mimetype": "text/x-python",
   "name": "python",
   "nbconvert_exporter": "python",
   "pygments_lexer": "ipython3",
   "version": "3.10.13"
  }
 },
 "nbformat": 4,
 "nbformat_minor": 4
}
