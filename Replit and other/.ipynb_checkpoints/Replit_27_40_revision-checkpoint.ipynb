{
 "cells": [
  {
   "cell_type": "code",
   "execution_count": 5,
   "metadata": {},
   "outputs": [
    {
     "name": "stdout",
     "output_type": "stream",
     "text": [
      "⚔️⚔️⚔️⚔️⚔️EPIC Health Stat Generator⚔️⚔️⚔️⚔️⚔️\n",
      "\n"
     ]
    },
    {
     "name": "stdin",
     "output_type": "stream",
     "text": [
      "Name of the legend: hunter\n",
      "Enter the type of the character(Human, Elf, Wizard, Orc:\n",
      ") Human\n"
     ]
    },
    {
     "name": "stdout",
     "output_type": "stream",
     "text": [
      "hunter\n",
      "Health 12.5\n",
      "Strength 14.5\n",
      "hunter May you Go down in legends with health of 20.0 and Strenght of 16.5\n"
     ]
    }
   ],
   "source": [
    "import random, os, time\n",
    "\n",
    "def roll_dice(side):\n",
    "  result  =  random.randint(1,side)\n",
    "  return result\n",
    "def health():\n",
    "  healthstat = ((roll_dice(5)*roll_dice(12))/2)+10\n",
    "  return  healthstat\n",
    "def strength():\n",
    "  strength_stat = ((roll_dice(6)*roll_dice(8))/2)+12\n",
    "  return strength_stat\n",
    "while True:\n",
    "  print(\"⚔️⚔️⚔️⚔️⚔️EPIC Health Stat Generator⚔️⚔️⚔️⚔️⚔️\")\n",
    "  print()\n",
    "  name = input(\"Name of the legend:\")\n",
    "  chr_type = input(\"Enter the type of the character(Human, Elf, Wizard, Orc:\\n)\")\n",
    "  print(name)\n",
    "  print(\"Health\", health())\n",
    "  print(\"Strength\", strength())\n",
    "  print(f'{name} May you Go down in legends with health of {health()} and Strenght of {strength()}')\n",
    "  break"
   ]
  },
  {
   "cell_type": "code",
   "execution_count": 1,
   "metadata": {},
   "outputs": [
    {
     "name": "stdout",
     "output_type": "stream",
     "text": [
      "⚔️⚔️⚔️⚔️⚔️EPIC Health Stat Generator⚔️⚔️⚔️⚔️⚔️\n",
      "\n"
     ]
    },
    {
     "name": "stdin",
     "output_type": "stream",
     "text": [
      "Name of the legend: d\n",
      "Enter the type of the character(Human, Elf, Wizard, Orc:\n",
      ") d\n"
     ]
    },
    {
     "ename": "NameError",
     "evalue": "name 'name' is not defined",
     "output_type": "error",
     "traceback": [
      "\u001b[0;31m---------------------------------------------------------------------------\u001b[0m",
      "\u001b[0;31mNameError\u001b[0m                                 Traceback (most recent call last)",
      "Cell \u001b[0;32mIn[1], line 19\u001b[0m\n\u001b[1;32m     17\u001b[0m chr_1_h \u001b[38;5;241m=\u001b[39m health()\n\u001b[1;32m     18\u001b[0m chr_1_str \u001b[38;5;241m=\u001b[39m strength()\n\u001b[0;32m---> 19\u001b[0m \u001b[38;5;28mprint\u001b[39m(\u001b[43mname\u001b[49m)\n\u001b[1;32m     20\u001b[0m \u001b[38;5;28mprint\u001b[39m(\u001b[38;5;124m\"\u001b[39m\u001b[38;5;124mHealth\u001b[39m\u001b[38;5;124m\"\u001b[39m,chr_1_h)\n\u001b[1;32m     21\u001b[0m \u001b[38;5;28mprint\u001b[39m(\u001b[38;5;124m\"\u001b[39m\u001b[38;5;124mStrength\u001b[39m\u001b[38;5;124m\"\u001b[39m,chr_1_str)\n",
      "\u001b[0;31mNameError\u001b[0m: name 'name' is not defined"
     ]
    }
   ],
   "source": [
    "import random, os, time\n",
    "\n",
    "def roll_dice(side):\n",
    "  result  =  random.randint(1,side)\n",
    "  return result\n",
    "def health():\n",
    "  healthstat = ((roll_dice(5)*roll_dice(12))/2)+10\n",
    "  return  healthstat\n",
    "def strength():\n",
    "  strength_stat = ((roll_dice(6)*roll_dice(8))/2)+12\n",
    "  return strength_stat\n",
    "while True:\n",
    "  print(\"⚔️⚔️⚔️⚔️⚔️EPIC Health Stat Generator⚔️⚔️⚔️⚔️⚔️\")\n",
    "  print()\n",
    "  chr_1 = input(\"Name of the legend:\")\n",
    "  chr_1_type = input(\"Enter the type of the character(Human, Elf, Wizard, Orc:\\n)\")\n",
    "  chr_1_h = health()\n",
    "  chr_1_str = strength()\n",
    "  print(chr_1)\n",
    "  print(\"Health\",chr_1_h)\n",
    "  print(\"Strength\",chr_1_str)\n",
    "  chr_2 = input(\"Name of the legend:\")\n",
    "  chr_2_strength = input(\"Enter the type of the character(Human, Elf, Wizard, Orc:\\n)\")\n",
    "  chr_2_h = health()\n",
    "  chr_2_str = strength()\n",
    "  print(chr_1)\n",
    "  print(\"Health\", chr_2_h)\n",
    "  print(\"Strength\", chr_2_str)\n",
    "  rounds = 1\n",
    "  while True:\n",
    "    time.sleep(1)\n",
    "    os.system(\"clear\")\n",
    "    print(\"⚔️⚔️⚔️⚔️⚔️EPIC Battle Time⚔️⚔️⚔️⚔️⚔️\")\n",
    "    print(\"Battle Begins\")\n",
    "    chr_1_dice = roll_dice(6)\n",
    "    chr_2_dice = roll_dice(6)\n",
    "    differ = abs(chr_2_str - chr_2_str) + 1\n",
    "    if chr_1_dice > chr_2_dice:\n",
    "      chr_2_dice -= differ\n",
    "      if round == 1:\n",
    "        print(chr_1, \"winns the first blow\")\n",
    "      else:\n",
    "        print(chr_1, \"Wins round\", round)\n",
    "    elif chr_2_dice > chr_1_dice:\n",
    "      chr_1_dice -= differ\n",
    "      if round == 1:\n",
    "        print(chr_2, \"winns the first blow\")\n",
    "      else:\n",
    "        print(chr_2, \"Wins round\", round)\n",
    "    else:\n",
    "      print(\"their swords clashed and they draw the round\", round)\n",
    "    "
   ]
  },
  {
   "cell_type": "code",
   "execution_count": null,
   "metadata": {},
   "outputs": [],
   "source": []
  }
 ],
 "metadata": {
  "kernelspec": {
   "display_name": "Python 3 (ipykernel)",
   "language": "python",
   "name": "python3"
  },
  "language_info": {
   "codemirror_mode": {
    "name": "ipython",
    "version": 3
   },
   "file_extension": ".py",
   "mimetype": "text/x-python",
   "name": "python",
   "nbconvert_exporter": "python",
   "pygments_lexer": "ipython3",
   "version": "3.10.13"
  }
 },
 "nbformat": 4,
 "nbformat_minor": 4
}
