{
 "cells": [
  {
   "cell_type": "code",
   "execution_count": 5,
   "metadata": {},
   "outputs": [
    {
     "name": "stdout",
     "output_type": "stream",
     "text": [
      "⚔️⚔️⚔️⚔️⚔️EPIC Health Stat Generator⚔️⚔️⚔️⚔️⚔️\n",
      "\n"
     ]
    },
    {
     "name": "stdin",
     "output_type": "stream",
     "text": [
      "Name of the legend: hunter\n",
      "Enter the type of the character(Human, Elf, Wizard, Orc:\n",
      ") Human\n"
     ]
    },
    {
     "name": "stdout",
     "output_type": "stream",
     "text": [
      "hunter\n",
      "Health 12.5\n",
      "Strength 14.5\n",
      "hunter May you Go down in legends with health of 20.0 and Strenght of 16.5\n"
     ]
    }
   ],
   "source": [
    "import random, os, time\n",
    "\n",
    "def roll_dice(side):\n",
    "  result  =  random.randint(1,side)\n",
    "  return result\n",
    "def health():\n",
    "  healthstat = ((roll_dice(5)*roll_dice(12))/2)+10\n",
    "  return  healthstat\n",
    "def strength():\n",
    "  strength_stat = ((roll_dice(6)*roll_dice(8))/2)+12\n",
    "  return strength_stat\n",
    "while True:\n",
    "  print(\"⚔️⚔️⚔️⚔️⚔️EPIC Health Stat Generator⚔️⚔️⚔️⚔️⚔️\")\n",
    "  print()\n",
    "  name = input(\"Name of the legend:\")\n",
    "  chr_type = input(\"Enter the type of the character(Human, Elf, Wizard, Orc:\\n)\")\n",
    "  print(name)\n",
    "  print(\"Health\", health())\n",
    "  print(\"Strength\", strength())\n",
    "  print(f'{name} May you Go down in legends with health of {health()} and Strenght of {strength()}')\n",
    "  break"
   ]
  },
  {
   "cell_type": "code",
   "execution_count": 6,
   "metadata": {},
   "outputs": [
    {
     "name": "stdout",
     "output_type": "stream",
     "text": [
      "⚔️⚔️⚔️⚔️⚔️EPIC Health Stat Generator⚔️⚔️⚔️⚔️⚔️\n",
      "\n"
     ]
    },
    {
     "name": "stdin",
     "output_type": "stream",
     "text": [
      "Name of the legend: rehan\n",
      "Enter the type of the character(Human, Elf, Wizard, Orc:\n",
      ") human\n"
     ]
    },
    {
     "name": "stdout",
     "output_type": "stream",
     "text": [
      "rehan\n",
      "Health 32.0\n",
      "Strength 13.0\n"
     ]
    },
    {
     "name": "stdin",
     "output_type": "stream",
     "text": [
      "Name of the legend: iqra\n",
      "Enter the type of the character(Human, Elf, Wizard, Orc:\n",
      ") human\n"
     ]
    },
    {
     "name": "stdout",
     "output_type": "stream",
     "text": [
      "rehan\n",
      "Health 30.0\n",
      "Strength 20.0\n",
      "\u001b[H\u001b[2J⚔️⚔️⚔️⚔️⚔️EPIC Battle Time⚔️⚔️⚔️⚔️⚔️\n",
      "Battle Begins\n",
      "rehan winns the first blow\n",
      "rehan\n",
      "Health 30.0\n",
      "rehan\n",
      "Health 30.0\n"
     ]
    },
    {
     "ename": "TypeError",
     "evalue": "'<=' not supported between instances of 'float' and 'str'",
     "output_type": "error",
     "traceback": [
      "\u001b[0;31m---------------------------------------------------------------------------\u001b[0m",
      "\u001b[0;31mTypeError\u001b[0m                                 Traceback (most recent call last)",
      "Cell \u001b[0;32mIn[6], line 57\u001b[0m\n\u001b[1;32m     55\u001b[0m \u001b[38;5;28mprint\u001b[39m(chr_1)\n\u001b[1;32m     56\u001b[0m \u001b[38;5;28mprint\u001b[39m(\u001b[38;5;124m\"\u001b[39m\u001b[38;5;124mHealth\u001b[39m\u001b[38;5;124m\"\u001b[39m, chr_2_h)\n\u001b[0;32m---> 57\u001b[0m \u001b[38;5;28;01mif\u001b[39;00m \u001b[43mchr_1_h\u001b[49m\u001b[43m \u001b[49m\u001b[38;5;241;43m<\u001b[39;49m\u001b[38;5;241;43m=\u001b[39;49m\u001b[38;5;124;43m\"\u001b[39;49m\u001b[38;5;124;43m0\u001b[39;49m\u001b[38;5;124;43m\"\u001b[39;49m:\n\u001b[1;32m     58\u001b[0m   \u001b[38;5;28mprint\u001b[39m(chr_1, \u001b[38;5;124m\"\u001b[39m\u001b[38;5;124mhas died a honourable Death\u001b[39m\u001b[38;5;124m\"\u001b[39m)\n\u001b[1;32m     59\u001b[0m   winner \u001b[38;5;241m=\u001b[39m chr_2\n",
      "\u001b[0;31mTypeError\u001b[0m: '<=' not supported between instances of 'float' and 'str'"
     ]
    }
   ],
   "source": [
    "import random, os, time\n",
    "\n",
    "def roll_dice(side):\n",
    "  result  =  random.randint(1,side)\n",
    "  return result\n",
    "def health():\n",
    "  healthstat = ((roll_dice(5)*roll_dice(12))/2)+10\n",
    "  return  healthstat\n",
    "def strength():\n",
    "  strength_stat = ((roll_dice(6)*roll_dice(8))/2)+12\n",
    "  return strength_stat\n",
    "\n",
    "print(\"⚔️⚔️⚔️⚔️⚔️EPIC Health Stat Generator⚔️⚔️⚔️⚔️⚔️\")\n",
    "print()\n",
    "chr_1 = input(\"Name of the legend:\")\n",
    "chr_1_type = input(\"Enter the type of the character(Human, Elf, Wizard, Orc:\\n)\")\n",
    "chr_1_h = health()\n",
    "chr_1_str = strength()\n",
    "print(chr_1)\n",
    "print(\"Health\",chr_1_h)\n",
    "print(\"Strength\",chr_1_str)\n",
    "chr_2 = input(\"Name of the legend:\")\n",
    "chr_2_strength = input(\"Enter the type of the character(Human, Elf, Wizard, Orc:\\n)\")\n",
    "chr_2_h = health()\n",
    "chr_2_str = strength()\n",
    "print(chr_1)\n",
    "print(\"Health\", chr_2_h)\n",
    "print(\"Strength\", chr_2_str)\n",
    "round = 1\n",
    "winner = None\n",
    "while True:\n",
    "  time.sleep(1)\n",
    "  os.system(\"clear\")\n",
    "  print(\"⚔️⚔️⚔️⚔️⚔️EPIC Battle Time⚔️⚔️⚔️⚔️⚔️\")\n",
    "  print(\"Battle Begins\")\n",
    "  chr_1_dice = roll_dice(6)\n",
    "  chr_2_dice = roll_dice(6)\n",
    "  differ = abs(chr_2_str - chr_2_str) + 1\n",
    "  if chr_1_dice > chr_2_dice:\n",
    "    chr_2_dice -= differ\n",
    "    if round == 1:\n",
    "      print(chr_1, \"winns the first blow\")\n",
    "    else:\n",
    "      print(chr_1, \"Wins round\", round)\n",
    "  elif chr_2_dice > chr_1_dice:\n",
    "    chr_1_dice -= differ\n",
    "    if round == 1:\n",
    "      print(chr_2, \"winns the first blow\")\n",
    "    else:\n",
    "      print(chr_2, \"Wins round\", round)\n",
    "  else:\n",
    "    print(\"their swords clashed and they draw the round\", round)\n",
    "  print(chr_1)\n",
    "  print(\"Health\", chr_2_h)\n",
    "  print(chr_1)\n",
    "  print(\"Health\", chr_2_h)\n",
    "  if chr_1_h <=0:\n",
    "    print(chr_1, \"has died a honourable Death\")\n",
    "    winner = chr_2\n",
    "    break\n",
    "  elif chr_2 <= 0:\n",
    "    print(chr_2, \"has died a honourable Death\")\n",
    "    winner = chr_1\n",
    "    break\n",
    "  else:\n",
    "    print(\"both are standing and going to face each other in next round\")\n",
    "    round += 1\n",
    "    time.sleep(1)\n",
    "    os.system(\"clear\")\n",
    "    print()\n",
    "    print(winner, \"has won in rounds\", round)"
   ]
  },
  {
   "cell_type": "code",
   "execution_count": 1,
   "metadata": {
    "collapsed": true,
    "jupyter": {
     "outputs_hidden": true
    }
   },
   "outputs": [
    {
     "name": "stdout",
     "output_type": "stream",
     "text": [
      "⚔️⚔️⚔️⚔️⚔️EPIC Health Stat Generator⚔️⚔️⚔️⚔️⚔️\n",
      "\n"
     ]
    },
    {
     "name": "stdin",
     "output_type": "stream",
     "text": [
      "Name of the legend: Rehan\n",
      "Enter the type of the character(Human, Elf, Wizard, Orc):\n",
      " Human\n"
     ]
    },
    {
     "name": "stdout",
     "output_type": "stream",
     "text": [
      "Rehan\n",
      "Health 20.5\n",
      "Strength 16.0\n"
     ]
    },
    {
     "name": "stdin",
     "output_type": "stream",
     "text": [
      "Name of the legend: Iqra\n",
      "Enter the type of the character(Human, Elf, Wizard, Orc):\n",
      " Human\n"
     ]
    },
    {
     "name": "stdout",
     "output_type": "stream",
     "text": [
      "Iqra\n",
      "Health 10.5\n",
      "Strength 13.0\n",
      "\u001b[H\u001b[2J⚔️⚔️⚔️⚔️⚔️EPIC Battle Time⚔️⚔️⚔️⚔️⚔️\n",
      "Battle Begins\n",
      "Iqra wins the first blow\n",
      "Rehan\n",
      "Health 19.5\n",
      "Iqra\n",
      "Health 10.5\n",
      "Both are standing and going to face each other in next round\n",
      "\u001b[H\u001b[2J⚔️⚔️⚔️⚔️⚔️EPIC Battle Time⚔️⚔️⚔️⚔️⚔️\n",
      "Battle Begins\n",
      "Rehan Wins round 2\n",
      "Rehan\n",
      "Health 19.5\n",
      "Iqra\n",
      "Health 8.5\n",
      "Both are standing and going to face each other in next round\n",
      "\u001b[H\u001b[2J⚔️⚔️⚔️⚔️⚔️EPIC Battle Time⚔️⚔️⚔️⚔️⚔️\n",
      "Battle Begins\n",
      "Rehan Wins round 3\n",
      "Rehan\n",
      "Health 19.5\n",
      "Iqra\n",
      "Health 6.5\n",
      "Both are standing and going to face each other in next round\n",
      "\u001b[H\u001b[2J⚔️⚔️⚔️⚔️⚔️EPIC Battle Time⚔️⚔️⚔️⚔️⚔️\n",
      "Battle Begins\n",
      "Iqra Wins round 4\n",
      "Rehan\n",
      "Health 17.5\n",
      "Iqra\n",
      "Health 6.5\n",
      "Both are standing and going to face each other in next round\n",
      "\u001b[H\u001b[2J⚔️⚔️⚔️⚔️⚔️EPIC Battle Time⚔️⚔️⚔️⚔️⚔️\n",
      "Battle Begins\n",
      "Rehan Wins round 5\n",
      "Rehan\n",
      "Health 17.5\n",
      "Iqra\n",
      "Health 4.5\n",
      "Both are standing and going to face each other in next round\n",
      "\u001b[H\u001b[2J⚔️⚔️⚔️⚔️⚔️EPIC Battle Time⚔️⚔️⚔️⚔️⚔️\n",
      "Battle Begins\n",
      "Their swords clashed and they draw the round 6\n",
      "Rehan\n",
      "Health 17.5\n",
      "Iqra\n",
      "Health 4.5\n",
      "Both are standing and going to face each other in next round\n",
      "\u001b[H\u001b[2J⚔️⚔️⚔️⚔️⚔️EPIC Battle Time⚔️⚔️⚔️⚔️⚔️\n",
      "Battle Begins\n",
      "Rehan Wins round 7\n",
      "Rehan\n",
      "Health 17.5\n",
      "Iqra\n",
      "Health 0.5\n",
      "Both are standing and going to face each other in next round\n",
      "\u001b[H\u001b[2J⚔️⚔️⚔️⚔️⚔️EPIC Battle Time⚔️⚔️⚔️⚔️⚔️\n",
      "Battle Begins\n",
      "Iqra Wins round 8\n",
      "Rehan\n",
      "Health 15.5\n",
      "Iqra\n",
      "Health 0.5\n",
      "Both are standing and going to face each other in next round\n",
      "\u001b[H\u001b[2J⚔️⚔️⚔️⚔️⚔️EPIC Battle Time⚔️⚔️⚔️⚔️⚔️\n",
      "Battle Begins\n",
      "Iqra Wins round 9\n",
      "Rehan\n",
      "Health 12.5\n",
      "Iqra\n",
      "Health 0.5\n",
      "Both are standing and going to face each other in next round\n",
      "\u001b[H\u001b[2J⚔️⚔️⚔️⚔️⚔️EPIC Battle Time⚔️⚔️⚔️⚔️⚔️\n",
      "Battle Begins\n",
      "Iqra Wins round 10\n",
      "Rehan\n",
      "Health 9.5\n",
      "Iqra\n",
      "Health 0.5\n",
      "Both are standing and going to face each other in next round\n",
      "\u001b[H\u001b[2J⚔️⚔️⚔️⚔️⚔️EPIC Battle Time⚔️⚔️⚔️⚔️⚔️\n",
      "Battle Begins\n",
      "Rehan Wins round 11\n",
      "Rehan\n",
      "Health 9.5\n",
      "Iqra\n",
      "Health -4.5\n",
      "Iqra has died a honorable Death\n",
      "Rehan has won in round 11\n"
     ]
    }
   ],
   "source": [
    "import random\n",
    "import os\n",
    "import time\n",
    "\n",
    "def roll_dice(side):\n",
    "    return random.randint(1, side)\n",
    "\n",
    "def health():\n",
    "    return ((roll_dice(5) * roll_dice(12)) / 2) + 10\n",
    "\n",
    "def strength():\n",
    "    return ((roll_dice(6) * roll_dice(8)) / 2) + 12\n",
    "\n",
    "print(\"⚔️⚔️⚔️⚔️⚔️EPIC Health Stat Generator⚔️⚔️⚔️⚔️⚔️\")\n",
    "print()\n",
    "chr_1 = input(\"Name of the legend:\")\n",
    "chr_1_type = input(\"Enter the type of the character(Human, Elf, Wizard, Orc):\\n\")\n",
    "chr_1_h = health()\n",
    "chr_1_str = strength()\n",
    "print(chr_1)\n",
    "print(\"Health\", chr_1_h)\n",
    "print(\"Strength\", chr_1_str)\n",
    "chr_2 = input(\"Name of the legend:\")\n",
    "chr_2_type = input(\"Enter the type of the character(Human, Elf, Wizard, Orc):\\n\")\n",
    "chr_2_h = health()\n",
    "chr_2_str = strength()\n",
    "print(chr_2)\n",
    "print(\"Health\", chr_2_h)\n",
    "print(\"Strength\", chr_2_str)\n",
    "\n",
    "round = 1\n",
    "winner = None\n",
    "\n",
    "while True:\n",
    "    time.sleep(1)\n",
    "    os.system(\"clear\")\n",
    "    print(\"⚔️⚔️⚔️⚔️⚔️EPIC Battle Time⚔️⚔️⚔️⚔️⚔️\")\n",
    "    print(\"Battle Begins\")\n",
    "    chr_1_dice = roll_dice(6)\n",
    "    chr_2_dice = roll_dice(6)\n",
    "    difference = abs(chr_1_dice - chr_2_dice)\n",
    "    if chr_1_dice > chr_2_dice:\n",
    "        chr_2_h -= difference\n",
    "        if round == 1:\n",
    "            print(chr_1, \"wins the first blow\")\n",
    "        else:\n",
    "            print(chr_1, \"Wins round\", round)\n",
    "    elif chr_2_dice > chr_1_dice:\n",
    "        chr_1_h -= difference\n",
    "        if round == 1:\n",
    "            print(chr_2, \"wins the first blow\")\n",
    "        else:\n",
    "            print(chr_2, \"Wins round\", round)\n",
    "    else:\n",
    "        print(\"Their swords clashed and they draw the round\", round)\n",
    "\n",
    "    print(chr_1)\n",
    "    print(\"Health\", chr_1_h)\n",
    "    print(chr_2)\n",
    "    print(\"Health\", chr_2_h)\n",
    "\n",
    "    if chr_1_h <= 0:\n",
    "        print(chr_1, \"has died a honorable Death\")\n",
    "        winner = chr_2\n",
    "        break\n",
    "    elif chr_2_h <= 0:\n",
    "        print(chr_2, \"has died a honorable Death\")\n",
    "        winner = chr_1\n",
    "        break\n",
    "    else:\n",
    "        print(\"Both are standing and going to face each other in next round\")\n",
    "        round += 1\n",
    "\n",
    "print(winner, \"has won in round\", round)\n"
   ]
  },
  {
   "cell_type": "code",
   "execution_count": 12,
   "metadata": {},
   "outputs": [
    {
     "name": "stdout",
     "output_type": "stream",
     "text": [
      "1,2,3,4,5,6,7,8,9,"
     ]
    }
   ],
   "source": [
    "#Day----29------------##\n",
    "for i in range(1,10):\n",
    "    print(i, end=(\",\"))"
   ]
  },
  {
   "cell_type": "code",
   "execution_count": null,
   "metadata": {},
   "outputs": [
    {
     "name": "stdout",
     "output_type": "stream",
     "text": [
      "\u001b[?25l]1\n",
      "\u001b[H\u001b[2J2\n",
      "\u001b[H\u001b[2J3\n",
      "\u001b[H\u001b[2J4\n",
      "\u001b[H\u001b[2J5\n",
      "\u001b[H\u001b[2J6\n",
      "\u001b[H\u001b[2J7\n",
      "\u001b[H\u001b[2J8\n"
     ]
    }
   ],
   "source": [
    "#remove cursor-----------from the console-------#\n",
    "import os\n",
    "print(\"\\033[?25l]\", end = (\"\"))\n",
    "for i in range(1,10):\n",
    "    print(i)\n",
    "    time.sleep(.5)\n",
    "    os.system('clear')"
   ]
  },
  {
   "cell_type": "code",
   "execution_count": 20,
   "metadata": {},
   "outputs": [],
   "source": [
    "# takes in color as an argument and print a statment\n",
    "# with my new program i can print red in red color work. and blue in colored word.\n",
    "def newprint(color,word):\n",
    "    if color == \"red\":\n",
    "        print('\\033[31m',  end=\"\")\n",
    "    elif  color == \"green\":\n",
    "        print('\\033[32m',  end=\"\")\n",
    "    elif  color == \"blue\":\n",
    "        print('\\033[34m',  end=\"\")\n",
    "    elif  color == \"red\":\n",
    "        print('\\033[31m',  end=\"\")"
   ]
  },
  {
   "cell_type": "code",
   "execution_count": null,
   "metadata": {},
   "outputs": [],
   "source": []
  }
 ],
 "metadata": {
  "kernelspec": {
   "display_name": "Python 3 (ipykernel)",
   "language": "python",
   "name": "python3"
  },
  "language_info": {
   "codemirror_mode": {
    "name": "ipython",
    "version": 3
   },
   "file_extension": ".py",
   "mimetype": "text/x-python",
   "name": "python",
   "nbconvert_exporter": "python",
   "pygments_lexer": "ipython3",
   "version": "3.10.13"
  }
 },
 "nbformat": 4,
 "nbformat_minor": 4
}
