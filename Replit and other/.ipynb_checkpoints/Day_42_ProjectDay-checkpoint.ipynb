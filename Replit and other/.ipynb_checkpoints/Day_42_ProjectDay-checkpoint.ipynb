{
 "cells": [
  {
   "cell_type": "markdown",
   "id": "eda41cd5-f250-44e2-a54a-97c8a06c283c",
   "metadata": {},
   "source": [
    "# Project Day"
   ]
  },
  {
   "cell_type": "code",
   "execution_count": 5,
   "id": "723fb5d8-2c76-4ae7-9e6b-f2933f648534",
   "metadata": {},
   "outputs": [],
   "source": [
    "# Project require for a game to store and print the names, Species, Attacks, health and other things you need\n",
    "# we will be building a Mocobeast\n",
    "# Name, Type, special Move, Hp \n",
    "# if a fire beast everything will be printed in red\n",
    "# if water beast everything will be in blue"
   ]
  },
  {
   "cell_type": "code",
   "execution_count": null,
   "id": "e1a9b2fa-0f60-4f7c-b24b-358062c93be2",
   "metadata": {},
   "outputs": [],
   "source": [
    "# 👾 MokéBeast - The Non-Copyright Generic Beast Battle Game 👾\n",
    "\n",
    "# Input your beast's name > Brian\n",
    "\n",
    "# Input your beast's type > Earth\n",
    "\n",
    "# Input your beast's special move > Flying bellyflop\n",
    "\n",
    "# Input your beast's staring HP > 50\n",
    "\n",
    "# Input your beast's staring MP > 20\n",
    "\n",
    "# # This text outputs in green\n",
    "# Your beast is called Brian. It is an earth beast with a special move of Flying bellyflop"
   ]
  },
  {
   "cell_type": "code",
   "execution_count": null,
   "id": "94138ff3-ebba-49e2-af2d-433f94c06ffa",
   "metadata": {},
   "outputs": [],
   "source": [
    "# name Card\n",
    "name = input(\"Enter your Beast's name: \")\n",
    "b_typ = input(\"Please enter your Beast's type: \")\n",
    "b_mov = input(\"Please enter your Beast's special Move: \")\n",
    "b_hp = input(\"Please enter your Beast's HP: \")\n",
    "b_mp = input(\"Please enter your Beasts's MP: \")\n",
    "\n",
    "# Done dictionary\n",
    "dictionary = {\n",
    "    'name' : name,\n",
    "    'b_typ' : b_typ,\n",
    "    'b_mov' : b_mov,\n",
    "    'b_hp' : b_hp,\n",
    "    'b_mp' : b_mp\n",
    "}\n",
    "\n",
    "print(dictionary)"
   ]
  },
  {
   "cell_type": "code",
   "execution_count": 21,
   "id": "f93a437b-36d4-40af-9a58-5c63b6d9b2f2",
   "metadata": {},
   "outputs": [
    {
     "name": "stdout",
     "output_type": "stream",
     "text": [
      "MokéBeast\n",
      "\n"
     ]
    },
    {
     "name": "stdin",
     "output_type": "stream",
     "text": [
      "Beast Name:\t j\n",
      "Type:\t jkl\n",
      "Special Move:\t jlk\n",
      "HP:\t jlk\n",
      "MP:\t jlkj\n"
     ]
    },
    {
     "name": "stdout",
     "output_type": "stream",
     "text": [
      "\u001b[33mBeast Name     : J\n",
      "Type           : Jkl\n",
      "Special Move   : Jlk\n",
      "HP             : Jlk\n",
      "MP             : Jlkj\n"
     ]
    }
   ],
   "source": [
    "mokedex = {\"Beast Name\": None, \n",
    "           \"Type\": None, \n",
    "           \"Special Move\": None, \n",
    "           \"HP\": None, \n",
    "           \"MP\": None\n",
    "          }\n",
    "\n",
    "print(\"MokéBeast\")\n",
    "print()\n",
    "\n",
    "for name, value in mokedex.items():\n",
    "  mokedex[name] = input(f\"{name}:\\t\").strip().title()\n",
    "\n",
    "if mokedex[\"Type\"]==\"Earth\":\n",
    "  print(\"\\033[32m\", end=\"\")\n",
    "elif mokedex[\"Type\"]==\"Air\":\n",
    "  print(\"\\033[37m\", end=\"\")\n",
    "elif mokedex[\"Type\"]==\"Fire\":\n",
    "  print(\"\\033[31m\", end=\"\")\n",
    "elif mokedex[\"Type\"]==\"Water\":\n",
    "  print(\"\\033[34m\", end=\"\")\n",
    "else:\n",
    "  print(\"\\033[33m\", end=\"\")\n",
    "\n",
    "for name, value in mokedex.items():\n",
    "  print(f\"{name:<15}: {value}\")"
   ]
  },
  {
   "cell_type": "code",
   "execution_count": null,
   "id": "b1403d61-bc6e-4692-832d-c781e4a8d3d3",
   "metadata": {},
   "outputs": [],
   "source": []
  }
 ],
 "metadata": {
  "kernelspec": {
   "display_name": "Python 3 (ipykernel)",
   "language": "python",
   "name": "python3"
  },
  "language_info": {
   "codemirror_mode": {
    "name": "ipython",
    "version": 3
   },
   "file_extension": ".py",
   "mimetype": "text/x-python",
   "name": "python",
   "nbconvert_exporter": "python",
   "pygments_lexer": "ipython3",
   "version": "3.12.1"
  }
 },
 "nbformat": 4,
 "nbformat_minor": 5
}
