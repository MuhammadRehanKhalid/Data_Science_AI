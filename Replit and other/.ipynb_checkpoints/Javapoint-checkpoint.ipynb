{
 "cells": [
  {
   "attachments": {},
   "cell_type": "markdown",
   "metadata": {},
   "source": [
    "# Muhammad Rehan Khalid\n",
    "* @author\n",
    "* @version 1.0\n",
    "* @since 2020-04-10\n",
    "> Licensed\n"
   ]
  },
  {
   "cell_type": "code",
   "execution_count": null,
   "metadata": {},
   "outputs": [],
   "source": [
    "#-----------------------Coorelation--------------------#\n",
    "import seaborn as sns\n",
    "import matplotlib.pyplot as plt\n",
    "\n",
    "# load data for correlation plot\n",
    "corr_data = sns.load_dataset('iris').corr()\n",
    "\n",
    "# create a correlation plot\n",
    "sns.set(font='Times New Roman')\n",
    "plt.figure(figsize=(8, 8))\n",
    "sns.heatmap(corr_data, annot=True, cmap='coolwarm', square=True)\n",
    "plt.title('Correlation plot', fontsize=18, fontweight='bold', fontname='Times New Roman')\n",
    "plt.xlabel('Features', fontsize=14, fontname='Times New Roman')\n",
    "plt.ylabel('Features', fontsize=14, fontname='Times New Roman')\n",
    "plt.xticks(fontname='Times New Roman')\n",
    "plt.yticks(fontname='Times New Roman')\n",
    "plt.show()\n"
   ]
  },
  {
   "cell_type": "code",
   "execution_count": 3,
   "metadata": {},
   "outputs": [
    {
     "name": "stdout",
     "output_type": "stream",
     "text": [
      "Hello World\n"
     ]
    }
   ],
   "source": [
    "print('Hello World')"
   ]
  },
  {
   "cell_type": "code",
   "execution_count": 9,
   "metadata": {},
   "outputs": [
    {
     "name": "stdout",
     "output_type": "stream",
     "text": [
      "Hello, Rehan\n"
     ]
    }
   ],
   "source": [
    "name = input(\"What is your name?\")\n",
    "print(f\"Hello, {name}\")"
   ]
  },
  {
   "attachments": {},
   "cell_type": "markdown",
   "metadata": {},
   "source": [
    "Muhammad Rehan starting javapoint coding\n",
    "## From Variables\n",
    "- Lets start\n",
    "* 02-04-2023"
   ]
  },
  {
   "cell_type": "code",
   "execution_count": 22,
   "metadata": {},
   "outputs": [
    {
     "name": "stdout",
     "output_type": "stream",
     "text": [
      "Orange\n",
      "Banana\n",
      "Cherry\n",
      "70\n",
      "70\n",
      "1 2 3 4 5\n"
     ]
    }
   ],
   "source": [
    "x,y,z = \"Orange\",\"Banana\",\"Cherry\"\n",
    "print(x)\n",
    "print(y)\n",
    "print(z)\n",
    "\n",
    "def add(a,b,c):\n",
    "    print(a*b*c)\n",
    "add(5,2,7)\n",
    "def add():\n",
    "    a=5\n",
    "    b=2\n",
    "    c=7\n",
    "    return a*b*c\n",
    "print(add())\n",
    "print(1,2,3,4,5)"
   ]
  },
  {
   "cell_type": "code",
   "execution_count": null,
   "metadata": {},
   "outputs": [],
   "source": [
    "#tokens in details\n"
   ]
  }
 ],
 "metadata": {
  "kernelspec": {
   "display_name": "Python 3",
   "language": "python",
   "name": "python3"
  },
  "language_info": {
   "codemirror_mode": {
    "name": "ipython",
    "version": 3
   },
   "file_extension": ".py",
   "mimetype": "text/x-python",
   "name": "python",
   "nbconvert_exporter": "python",
   "pygments_lexer": "ipython3",
   "version": "3.11.1"
  },
  "orig_nbformat": 4,
  "vscode": {
   "interpreter": {
    "hash": "26d969baecc96448cdb4e29e2fc2c48024b622b049885605b6bb1fe59e05dd54"
   }
  }
 },
 "nbformat": 4,
 "nbformat_minor": 2
}
