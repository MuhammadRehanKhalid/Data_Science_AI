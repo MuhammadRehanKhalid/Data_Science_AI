{
 "cells": [
  {
   "cell_type": "markdown",
   "metadata": {
    "collapsed": false
   },
   "source": [
    "# Muhammad Rehan Khalid\n",
    "## Replit Classes 31-40\n",
    "* Let's take a look at the data"
   ]
  },
  {
   "cell_type": "markdown",
   "metadata": {
    "tags": []
   },
   "source": [
    "# `Colorring in Python with numbers`\n",
    "##### '\\033[31m' Cherry Red , '\\033[32m]' green, '033m[33m' yellow, \n",
    "##### '\\033[34m' Bllue, '\\033[35m' Purple, '\\033[36m' sky blue, '\\033[37m' or '\\033[0m' Resotre white.\n"
   ]
  },
  {
   "cell_type": "code",
   "execution_count": 9,
   "metadata": {},
   "outputs": [
    {
     "name": "stdout",
     "output_type": "stream",
     "text": [
      "16\n"
     ]
    }
   ],
   "source": [
    "#----------------Class-31----makingcolor design----#"
   ]
  },
  {
   "cell_type": "code",
   "execution_count": 9,
   "metadata": {
    "ExecuteTime": {
     "end_time": "2023-08-12T19:15:02.305915500Z",
     "start_time": "2023-08-12T19:15:02.251740200Z"
    },
    "collapsed": false
   },
   "outputs": [
    {
     "name": "stdout",
     "output_type": "stream",
     "text": [
      "The best student in the class is Muhammad Yaqub, and the 2nd best student is Mubeen\n",
      "I would like you to say Bonjour to the person sitting next to you\n"
     ]
    }
   ],
   "source": [
    "#-----------------Class 32----------------Making list-------------#\n",
    "my_students = [\"laraib\", \"Mubeen\",\"Muhammad Yaqub\", \"Javeria\", \"Noor Ul Huda\", \"Muhammad Yaqub\", \"Javeria\", \"Noor Ul Huda\"]\n",
    "\n",
    "# for names in my_students:\n",
    "#     print(names)\n",
    "\n",
    "\n",
    "# my_students[0] = \"Yaqub Chauhdari\"\n",
    "# print(my_students[3])\n",
    "# print(my_students[2])\n",
    "# print(my_students[0])\n",
    "# print(my_students[1])\n",
    "# print(my_students[4])\n",
    "#now the F string\n",
    "print(f\"The best student in the class is {my_students[2]}, and the 2nd best student is {my_students[1]}\")\n",
    "\n",
    "\n",
    "greetings = (\"Assalam-O-Alikum\", \"Bonjour\", \"Hello\", \"Namaste\", \"Salam\", \"Hola\", \"Konnichiwa\")\n",
    "import random as rd\n",
    "out = rd.randint(0,6)\n",
    "print(f\"I would like you to say {greetings[out]} to the person sitting next to you\")\n",
    "\n",
    "\n"
   ]
  },
  {
   "cell_type": "code",
   "execution_count": 11,
   "metadata": {
    "ExecuteTime": {
     "end_time": "2023-08-12T19:35:09.952089200Z",
     "start_time": "2023-08-12T19:34:13.262643700Z"
    }
   },
   "outputs": [
    {
     "name": "stdout",
     "output_type": "stream",
     "text": [
      "add is not in the list\n",
      "\n",
      "\n",
      "Invalid Input\n",
      "\n",
      "\n",
      "Invalid Input\n",
      "\n",
      "\n",
      "\n",
      "aslam\n",
      "\n",
      "\n",
      "aslam\n",
      "shafique\n",
      "\n",
      "Invalid Input\n",
      "\n",
      "aslam\n",
      "shafique\n",
      "\n",
      "\n",
      "aslam\n",
      "\n",
      "Invalid Input\n",
      "\n",
      "aslam\n",
      "\n",
      "\n",
      "\n",
      "Invalid Input\n",
      "\n",
      "\n"
     ]
    }
   ],
   "source": [
    "#-----------------Class 33----------------Making Dynamic list-------------#\n",
    "myClass = []\n",
    "\n",
    "def student_list():\n",
    "    print(\"\")\n",
    "    for student in myClass:\n",
    "        print(student)\n",
    "    print(\"\")\n",
    "\n",
    "\n",
    "while True:\n",
    "    list = input(\"Add or Remove an entry: \")\n",
    "    if list == \"add\" or list == \"Add\":    \n",
    "        student = input(\"Enter the name of the student: \")\n",
    "        myClass.append(student)\n",
    "    elif list == \"remove\" or list == \"Remove\":\n",
    "        student = input(\"Enter the name of the student: \")\n",
    "        if student in myClass:\n",
    "            myClass.remove(student)\n",
    "        else:\n",
    "            print(f\"{student} is not in the list\")\n",
    "    elif list == \"quit\" or list == \"Quit\":\n",
    "        break\n",
    "    else:\n",
    "        print(\"Invalid Input\")\n",
    "    student_list()"
   ]
  },
  {
   "cell_type": "code",
   "execution_count": 2,
   "metadata": {
    "ExecuteTime": {
     "end_time": "2023-08-15T19:34:35.141097900Z",
     "start_time": "2023-08-15T19:33:33.887790800Z"
    },
    "collapsed": false
   },
   "outputs": [
    {
     "name": "stdout",
     "output_type": "stream",
     "text": [
      "\n",
      "To Do List Manager:\n",
      "Do you want to view, add, or edit your to do list?\n",
      "\n",
      "\n",
      "\n",
      "To Do List Manager:\n",
      "Do you want to view, add, or edit your to do list?\n",
      "\n",
      "\n",
      "To Do List Manager:\n",
      "Do you want to view, add, or edit your to do list?\n",
      "\n",
      "\n",
      "To Do List Manager:\n",
      "Do you want to view, add, or edit your to do list?\n",
      "\n",
      "\n",
      "To Do List Manager:\n",
      "Do you want to view, add, or edit your to do list?\n",
      "\n",
      "mirzapur\n",
      "mirzagee\n",
      "mirzahassan\n",
      "\n",
      "\n",
      "To Do List Manager:\n",
      "Do you want to view, add, or edit your to do list?\n",
      "\n",
      "mirzapur\n",
      "mirzagee\n",
      "mirzahassan\n",
      "\n",
      "\n",
      "To Do List Manager:\n",
      "Do you want to view, add, or edit your to do list?\n",
      "\n",
      "\n",
      "To Do List Manager:\n",
      "Do you want to view, add, or edit your to do list?\n",
      "\n",
      "mirzagee\n",
      "mirzahassan\n",
      "\n",
      "\n",
      "To Do List Manager:\n",
      "Do you want to view, add, or edit your to do list?\n",
      "Invalid Input\n",
      "\n",
      "To Do List Manager:\n",
      "Do you want to view, add, or edit your to do list?\n"
     ]
    }
   ],
   "source": [
    "# Create your own to do list manager. (This can be super useful!)\n",
    "# \n",
    "# Ask the user whether they want to view, add, or edit their to do list.\n",
    "# If they want to view it, print it out in a nice way (Hint: subroutine).\n",
    "# If they choose to add an item to the to do list, allow them to type in the item and then add it to the bottom of the list.\n",
    "# If they want to edit the to do list, ask them which item they completed, and remove it from the list.\n",
    "# Don't worry about duplicates!\n",
    "# The first item you put in the list should be the first item you remove.\n",
    "# Add a title, some color, alignment to the text, or emojis. Show off your skills!\n",
    "# Example:\n",
    "# \n",
    "# To Do List Manager:\n",
    "# Do you want to view, add, or edit your to do list?\n",
    "# view\n",
    "# Record video for day 34\n",
    "\n",
    "toDoList = []\n",
    "\n",
    "while True:\n",
    "    print(\"\")\n",
    "    print(\"To Do List Manager:\")\n",
    "    print(\"Do you want to view, add, or edit your to do list?\")\n",
    "    print(\"\")\n",
    "    dolist = input(\"Enter your choice: \")\n",
    "    if dolist == \"view\" or dolist == \"View\":\n",
    "        print(\"\")\n",
    "        for item in toDoList:\n",
    "            print(item)\n",
    "        print(\"\")\n",
    "    elif dolist == \"add\" or dolist == \"Add\":\n",
    "        print(\"\")\n",
    "        item = input(\"Enter the item you want to add: \")\n",
    "        toDoList.append(item)\n",
    "        print(\"\")\n",
    "    elif dolist == \"edit\" or dolist == \"Edit\":\n",
    "        print(\"\")\n",
    "        item = input(\"Enter the item you want to remove: \")\n",
    "        if item in toDoList:\n",
    "            toDoList.remove(item)\n",
    "        else:\n",
    "            print(f\"{item} is not in the list\")\n",
    "        print(\"\")\n",
    "    elif dolist == \"quit\" or dolist == \"Quit\":\n",
    "        break\n",
    "    else:\n",
    "        print(\"Invalid Input\")\n"
   ]
  },
  {
   "cell_type": "code",
   "execution_count": 12,
   "metadata": {
    "ExecuteTime": {
     "end_time": "2023-08-16T14:47:29.179700800Z",
     "start_time": "2023-08-16T14:43:27.926129200Z"
    },
    "collapsed": false
   },
   "outputs": [
    {
     "name": "stdout",
     "output_type": "stream",
     "text": [
      "SPAMMER. Incl.\n",
      "\n",
      "\n",
      "SPAMMER. Incl.\n",
      "\n",
      "\n",
      "SPAMMER. Incl.\n",
      "Invalid Input\n",
      "SPAMMER. Incl.\n",
      "\n",
      "\n",
      "SPAMMER. Incl.\n",
      "\n",
      "\n",
      "SPAMMER. Incl.\n",
      "\n",
      "\n",
      "SPAMMER. Incl.\n",
      "\n",
      "0: mirzahani751@gmail.com\n",
      "1: m.rehankhaid786@gmail.com\n",
      "2: m.rehankhalid@gcuf.edu.pk\n",
      "3: mirzahani751@gmail.com\n",
      "\n",
      "\n",
      "SPAMMER. Incl.\n",
      "\n",
      "mirzahnai751@gmail.com is not in the list\n",
      "\n",
      "SPAMMER. Incl.\n",
      "\n",
      "\n",
      "SPAMMER. Incl.\n",
      "\n",
      "\n",
      "SPAMMER. Incl.\n",
      "\n",
      "0: m.rehankhaid786@gmail.com\n",
      "1: m.rehankhalid@gcuf.edu.pk\n",
      "2: mirzahani751@gmail.com\n",
      "\n",
      "\n",
      "SPAMMER. Incl.\n",
      "Invalid Input\n",
      "SPAMMER. Incl.\n",
      "Invalid Input\n",
      "SPAMMER. Incl.\n",
      "Invalid Input\n",
      "SPAMMER. Incl.\n"
     ]
    }
   ],
   "source": [
    "#--------------------------Class-34-----------------Making Dynamic list PrettyPrint-----------------#\n",
    "import os, time\n",
    "listOfEmail = []\n",
    "\n",
    "def prettyPrint():\n",
    "    print(\"\")\n",
    "    os.system(\"cls\")\n",
    "    print(\"SPAMMER. Incl.\")\n",
    "    print(\"\")\n",
    "    for index in range(len(listOfEmail)):\n",
    "        print(f\"{index}: {listOfEmail[index]}\")\n",
    "    print(\"\")\n",
    "    \n",
    "while True:\n",
    "    print(\"SPAMMER. Incl.\")\n",
    "    menu = input(\"Would you like to \\n0: Add Email\\n1: Remove Email\\n2: View Email\\n3: Quit\\n\")\n",
    "    if menu == \"0\":\n",
    "        print(\"\")\n",
    "        email = input(\"Enter the email you want to add: \")\n",
    "        listOfEmail.append(email)\n",
    "        print(\"\")\n",
    "    elif menu == \"1\":\n",
    "        print(\"\")\n",
    "        email = input(\"Enter the email you want to remove: \")\n",
    "        if email in listOfEmail:\n",
    "            listOfEmail.remove(email)\n",
    "        else:\n",
    "            print(f\"{email} is not in the list\")\n",
    "        print(\"\")\n",
    "    elif menu == \"2\":\n",
    "        print(\"\")\n",
    "        prettyPrint()\n",
    "        print(\"\")\n",
    "    elif menu == \"3\":\n",
    "        break\n",
    "    else:\n",
    "        print(\"Invalid Input\")\n",
    "    time.sleep(1)\n",
    "    os.system(\"cls\")\n",
    "        "
   ]
  },
  {
   "cell_type": "code",
   "execution_count": 2,
   "metadata": {
    "ExecuteTime": {
     "end_time": "2023-08-30T15:22:22.628796900Z",
     "start_time": "2023-08-30T15:19:50.878984900Z"
    },
    "collapsed": false
   },
   "outputs": [
    {
     "name": "stdout",
     "output_type": "stream",
     "text": [
      "SPAMMER. Incl.\n",
      "SPAMMER. Incl.\n",
      "SPAMMER. Incl.\n",
      "SPAMMER. Incl.\n",
      "Invalid Input\n",
      "SPAMMER. Incl.\n",
      "\n",
      "\n",
      "SPAMMER. Incl.\n",
      "\n",
      "0: m.rehankhalid666@gmaio.com\n",
      "1: m.rehankhalid8888@gmail.com\n",
      "2: m.rehankhalid89898@gmail.com\n",
      "\n",
      "SPAMMER. Incl.\n",
      "\n",
      "\n",
      "SPAMMER. Incl.\n",
      "\n",
      "0: m.rehankhalid666@gmaio.com\n",
      "1: m.rehankhalid8888@gmail.com\n",
      "2: m.rehankhalid89898@gmail.com\n",
      "\n",
      "SPAMMER. Incl.\n",
      "SPAMMER. Incl.\n",
      "\n",
      "\n",
      "SPAMMER. Incl.\n",
      "\n",
      "0: m.rehankhalid666@gmaio.com\n",
      "1: m.rehankhalid89898@gmail.com\n",
      "\n",
      "SPAMMER. Incl.\n",
      "kashndkjfas@gmail.com is not in the list\n",
      "SPAMMER. Incl.\n",
      "Get SPAMMING\n",
      "\n",
      "SPAMMER. Incl.\n",
      "\n",
      "Dear m.rehankhalid666@gmaio.com\n",
      "\n",
      "It has come to our attention that you're missing out on the amazing Replit 100 days of code. We insist you do it right away. If you don't we will pass on your email address to every spammer we've ever encountered and also sign you up to the My Little Pony newsletter, because that's neat. We might just do that anyway.\n",
      "\n",
      "Love and hugs,\n",
      "Ian Spammington III\n",
      "Dear m.rehankhalid89898@gmail.com\n",
      "\n",
      "It has come to our attention that you're missing out on the amazing Replit 100 days of code. We insist you do it right away. If you don't we will pass on your email address to every spammer we've ever encountered and also sign you up to the My Little Pony newsletter, because that's neat. We might just do that anyway.\n",
      "\n",
      "Love and hugs,\n",
      "Ian Spammington III\n"
     ]
    },
    {
     "ename": "IndexError",
     "evalue": "list index out of range",
     "output_type": "error",
     "traceback": [
      "\u001b[1;31m---------------------------------------------------------------------------\u001b[0m",
      "\u001b[1;31mIndexError\u001b[0m                                Traceback (most recent call last)",
      "Cell \u001b[1;32mIn[2], line 71\u001b[0m\n\u001b[0;32m     69\u001b[0m \u001b[38;5;28;01melif\u001b[39;00m menu \u001b[38;5;241m==\u001b[39m \u001b[38;5;124m\"\u001b[39m\u001b[38;5;124m4\u001b[39m\u001b[38;5;124m\"\u001b[39m:\n\u001b[0;32m     70\u001b[0m     \u001b[38;5;28mprint\u001b[39m(\u001b[38;5;124m\"\u001b[39m\u001b[38;5;124mGet SPAMMING\u001b[39m\u001b[38;5;124m\"\u001b[39m)\n\u001b[1;32m---> 71\u001b[0m     \u001b[43mspam\u001b[49m\u001b[43m(\u001b[49m\u001b[43m)\u001b[49m\n\u001b[0;32m     72\u001b[0m \u001b[38;5;28;01melse\u001b[39;00m:\n\u001b[0;32m     73\u001b[0m     \u001b[38;5;28mprint\u001b[39m(\u001b[38;5;124m\"\u001b[39m\u001b[38;5;124mInvalid Input\u001b[39m\u001b[38;5;124m\"\u001b[39m)\n",
      "Cell \u001b[1;32mIn[2], line 38\u001b[0m, in \u001b[0;36mspam\u001b[1;34m()\u001b[0m\n\u001b[0;32m     36\u001b[0m \u001b[38;5;28mprint\u001b[39m(\u001b[38;5;124m\"\u001b[39m\u001b[38;5;124m\"\u001b[39m)\n\u001b[0;32m     37\u001b[0m \u001b[38;5;28;01mfor\u001b[39;00m index \u001b[38;5;129;01min\u001b[39;00m \u001b[38;5;28mrange\u001b[39m(\u001b[38;5;241m10\u001b[39m):\n\u001b[1;32m---> 38\u001b[0m     \u001b[38;5;28mprint\u001b[39m(\u001b[38;5;124mf\u001b[39m\u001b[38;5;124m\"\u001b[39m\u001b[38;5;124mDear \u001b[39m\u001b[38;5;132;01m{\u001b[39;00m\u001b[43mlistOfEmail\u001b[49m\u001b[43m[\u001b[49m\u001b[43mindex\u001b[49m\u001b[43m]\u001b[49m\u001b[38;5;132;01m}\u001b[39;00m\u001b[38;5;124m\"\u001b[39m)\n\u001b[0;32m     39\u001b[0m     \u001b[38;5;28mprint\u001b[39m(\u001b[38;5;124m\"\u001b[39m\u001b[38;5;124m\"\u001b[39m)\n\u001b[0;32m     40\u001b[0m     \u001b[38;5;28mprint\u001b[39m(\u001b[38;5;124m\"\u001b[39m\u001b[38;5;124mIt has come to our attention that you\u001b[39m\u001b[38;5;124m'\u001b[39m\u001b[38;5;124mre missing out on the amazing Replit 100 days of code. We insist you do it right away. If you don\u001b[39m\u001b[38;5;124m'\u001b[39m\u001b[38;5;124mt we will pass on your email address to every spammer we\u001b[39m\u001b[38;5;124m'\u001b[39m\u001b[38;5;124mve ever encountered and also sign you up to the My Little Pony newsletter, because that\u001b[39m\u001b[38;5;124m'\u001b[39m\u001b[38;5;124ms neat. We might just do that anyway.\u001b[39m\u001b[38;5;124m\"\u001b[39m)\n",
      "\u001b[1;31mIndexError\u001b[0m: list index out of range"
     ]
    }
   ],
   "source": [
    "# Let's extend this program and build option 4: \"Get SPAMMING\".\n",
    "# \n",
    "# Print out the first 10 email addresses with a custom email sent to each of those people.\n",
    "# Print one email at a time, pause, and then clear the screen before the next email is printed.\n",
    "# Example:\n",
    "# \n",
    "# Dear john@test.com\n",
    "# It has come to our attention that you're missing out on the amazing Replit 100 days of code. We insist you do it right away. If you don't we will pass on your email address to every spammer we've ever encountered and also sign you up to the My Little Pony newsletter, because that's neat. We might just do that anyway.\n",
    "# Love and hugs,\n",
    "# Ian Spammington III\n",
    "# \n",
    "# \n",
    "# Use the same libraries, list, and subroutine we just created.\n",
    "# Create a second subroutine relating to spam. In the for loop, we want to spam everyone. What would the range look like?\n",
    "# Write the email copy that will get sent to the email addresses.\n",
    "# Finish with the same while loop we created, but add option 4 (spamming). Make sure you only include 10 emails.\n",
    "# Don't forget to pause and clear the screen each time.\n",
    "# \n",
    "#--------------------------Class-34-----------------Making Dynamic list PrettyPrint-----------------#\n",
    "import os, time\n",
    "listOfEmail = []\n",
    "\n",
    "def prettyPrint():\n",
    "    print(\"\")\n",
    "    os.system(\"cls\")\n",
    "    print(\"SPAMMER. Incl.\")\n",
    "    print(\"\")\n",
    "    for index in range(len(listOfEmail)):\n",
    "        print(f\"{index}: {listOfEmail[index]}\")\n",
    "    print(\"\")\n",
    "\n",
    "def spam():\n",
    "    print(\"\")\n",
    "    os.system(\"cls\")\n",
    "    print(\"SPAMMER. Incl.\")\n",
    "    print(\"\")\n",
    "    for index in range(10):\n",
    "        print(f\"Dear {listOfEmail[index]}\")\n",
    "        print(\"\")\n",
    "        print(\"It has come to our attention that you're missing out on the amazing Replit 100 days of code. We insist you do it right away. If you don't we will pass on your email address to every spammer we've ever encountered and also sign you up to the My Little Pony newsletter, because that's neat. We might just do that anyway.\")\n",
    "        print(\"\")\n",
    "        print(\"Love and hugs,\")\n",
    "        print(\"Ian Spammington III\")\n",
    "        print(\"\")\n",
    "        time.sleep(1)\n",
    "        os.system(\"cls\")\n",
    "while True:\n",
    "    print(\"SPAMMER. Incl.\")\n",
    "    menu = input(\"Would you like to \\n0: Add Email\\n1: Remove Email\\n2: View Email\\n3: Quit\\n4: Get SPAMMING\\n\")\n",
    "    if menu == \"0\":\n",
    "        print(\"\")\n",
    "        email = input(\"Enter the email you want to add: \")\n",
    "        listOfEmail.append(email)\n",
    "        print(\"\")\n",
    "    elif menu == \"1\":\n",
    "        print(\"\")\n",
    "        email = input(\"Enter the email you want to remove: \")\n",
    "        if email in listOfEmail:\n",
    "            listOfEmail.remove(email)\n",
    "        else:\n",
    "            print(f\"{email} is not in the list\")\n",
    "        print(\"\")\n",
    "    elif menu == \"2\":\n",
    "        print(\"\")\n",
    "        prettyPrint()\n",
    "        print(\"\")\n",
    "    elif menu == \"3\":\n",
    "        break\n",
    "    elif menu == \"4\":\n",
    "        print(\"Get SPAMMING\")\n",
    "        spam()\n",
    "    else:\n",
    "        print(\"Invalid Input\")\n",
    "    time.sleep(1)\n",
    "    os.system(\"cls\")"
   ]
  },
  {
   "cell_type": "code",
   "execution_count": 10,
   "metadata": {
    "ExecuteTime": {
     "end_time": "2023-08-30T15:56:37.584170700Z",
     "start_time": "2023-08-30T15:55:59.848748Z"
    },
    "collapsed": false
   },
   "outputs": [
    {
     "name": "stdout",
     "output_type": "stream",
     "text": [
      "Invalid Input\n",
      "Invalid Input\n",
      "\n",
      "rehan\n",
      "mubeen\n",
      "\n",
      "Invalid Input\n"
     ]
    }
   ],
   "source": [
    "#----------------------Class 35---list chalange-----------------#\n",
    "list = []\n",
    "\n",
    "def list_Do():\n",
    "    print(\"\")\n",
    "    for item in list:\n",
    "        print(item)\n",
    "    print(\"\")\n",
    "while True:\n",
    "    list_input = input(\"What would you lik to do: \\n1: Add \\n2: Remove \\n3: Edit \\n4: View \\n5: Quit \\n6: Erase\\n\")\n",
    "    if list_input == \"5\":\n",
    "        print(\"Thank you for using the list\")\n",
    "        break\n",
    "    elif list_input == \"1\":\n",
    "        item = input(\"Enter the item you want to add: \")\n",
    "        if item in list:\n",
    "            print(f\"{item} is already in the list\")\n",
    "        else:\n",
    "            list.append(item)\n",
    "    elif list_input == \"2\":\n",
    "        item = input(\"Enter the item you want to remove: \").title()\n",
    "        if item in list:\n",
    "            Item_1 = input(\"Would you realy like to remove this item: \").title()\n",
    "            if Item_1 == \"yes\" or Item_1 == \"Yes\":\n",
    "                list.remove(item)\n",
    "            else:\n",
    "                print(\"Item not removed\")\n",
    "        else:\n",
    "            print(f\"{item} is not in the list\")\n",
    "    elif list_input == \"3\":\n",
    "        item = input(\"Enter the item you want to edit: \")\n",
    "        if item in list:\n",
    "            index = list.index(item)\n",
    "            item = input(\"Enter the new item: \")\n",
    "            list[index] = item\n",
    "        else:\n",
    "            print(f\"{item} is not in the list\")\n",
    "    elif list_input == \"4\":\n",
    "        list_Do()\n",
    "    elif list_input == \"6\":\n",
    "        list.clear()\n",
    "    else:\n",
    "        print(\"Invalid Input\")\n",
    "            \n",
    "    "
   ]
  },
  {
   "cell_type": "code",
   "execution_count": 8,
   "metadata": {
    "ExecuteTime": {
     "end_time": "2023-08-30T15:52:45.654244800Z",
     "start_time": "2023-08-30T15:52:34.407333300Z"
    },
    "collapsed": false
   },
   "outputs": [
    {
     "name": "stdout",
     "output_type": "stream",
     "text": [
      "\n",
      "Rehan\n"
     ]
    }
   ],
   "source": [
    "import os, time\n",
    "toDoList = []\n",
    "\n",
    "def printList():\n",
    "  print()\n",
    "  for items in toDoList:\n",
    "    print(items)\n",
    "  print()\n",
    "\n",
    "while True:\n",
    "  menu = input(\"ToDo List Manager\\nDo you want to view, add, edit, remove or delete the todo list?\\n\")\n",
    "  if menu==\"view\":\n",
    "    printList()\n",
    "  elif menu==\"add\":\n",
    "    item = input(\"What do you want to add?\\n\").title()\n",
    "    toDoList.append(item)\n",
    "  elif menu==\"remove\":\n",
    "    item = input(\"What do you want to remove?\\n\").title()\n",
    "    check = input(\"Are you sure you want to remove this?\\n\")\n",
    "    if check[0]==\"y\":\n",
    "      if item in toDoList:\n",
    "        toDoList.remove(item)\n",
    "  elif menu==\"edit\":\n",
    "    item = input(\"What do you want to edit?\\n\").title()\n",
    "    new = input(\"What do you want to change it to?\\n\").title()\n",
    "    for i in range(0,len(toDoList)):\n",
    "      if toDoList[i]==item:\n",
    "        toDoList[i]=new\n",
    "  elif menu==\"delete\":\n",
    "    toDoList = []\n",
    "  else:\n",
    "      break\n",
    "  time.sleep(1)\n",
    "  os.system('clear')"
   ]
  },
  {
   "cell_type": "code",
   "execution_count": 8,
   "metadata": {
    "ExecuteTime": {
     "end_time": "2023-09-01T19:16:08.471191500Z",
     "start_time": "2023-09-01T19:16:04.412147900Z"
    },
    "collapsed": false
   },
   "outputs": [
    {
     "name": "stdout",
     "output_type": "stream",
     "text": [
      "Hellow Motayyyy!\n"
     ]
    }
   ],
   "source": [
    "#---------------Class ---36---Letter space and capitilization error omitiion-----------------#\n",
    "name  =  input(\"Enter your name: \").strip().lower()\n",
    "if name == \"rehan\":\n",
    "    print(\"Hellow Motayyyy!\")\n",
    "else:\n",
    "    print(\"Hellow Handsome!\")\n",
    "#----------------------Project--------------#\n",
    "#Name LIST\n",
    "list_of_names=[]\n",
    "def list():\n",
    "  print(\"\")\n",
    "  for items in list_of_names:\n",
    "    print(items)\n",
    "  print(\"\")\n",
    "\n",
    "while True:\n",
    "  first_name = input(\"What's Your First Name: \").strip().capitalize()\n",
    "  last_name = input(\"Whst is your last name: \").strip().capitalize()\n",
    "  name = (f\"{first_name} {last_name}\")\n",
    "  if name not in list_of_names:\n",
    "    list_of_names.append(name)\n",
    "  else:\n",
    "    print(\"Error: Duplicate names\")\n",
    "  list()\n",
    "\n",
    "    "
   ]
  },
  {
   "cell_type": "code",
   "execution_count": 1,
   "metadata": {
    "ExecuteTime": {
     "end_time": "2023-09-03T14:10:02.431207800Z",
     "start_time": "2023-09-03T14:09:43.106340800Z"
    },
    "collapsed": false
   },
   "outputs": [
    {
     "name": "stdout",
     "output_type": "stream",
     "text": [
      "naheR dammahuM si emaN yM\n",
      "['My', 'Name', 'is', 'Muhammad', 'Rehan']\n",
      "Please Enter the Your Full Name: \n",
      "ReKha fa\n"
     ]
    }
   ],
   "source": [
    "#------------Class 37----splitting ----------------------------#\n",
    "my_list = \"My Name is Muhammad Rehan\"\n",
    "print(my_list[::-1])\n",
    "print(my_list.split())\n",
    "\n",
    "print(\"Please Enter the Your Full Name: \")\n",
    "first_name = input(\"Enter your First Name: \").strip().capitalize()\n",
    "last_name = input(\"Enter the Last Name: \").strip().capitalize()\n",
    "city = input(\"Enter the Name of the city you'r born: \").strip().capitalize()\n",
    "print(f\"{first_name[0:2]}{last_name[0:3]} {city[0:2]}\")"
   ]
  },
  {
   "cell_type": "code",
   "execution_count": 14,
   "metadata": {},
   "outputs": [
    {
     "name": "stdout",
     "output_type": "stream",
     "text": [
      "R\n",
      "\u001b[0me\n",
      "\u001b[0mh\n",
      "\u001b[0m\u001b[37ma\n",
      "\u001b[0mn\n",
      "\u001b[0m \n",
      "\u001b[0mK\n",
      "\u001b[0mh\n",
      "\u001b[0m\u001b[37ma\n",
      "\u001b[0ml\n",
      "\u001b[0mi\n",
      "\u001b[0md\n",
      "\u001b[0m"
     ]
    }
   ],
   "source": [
    "# Day-38---------Strings and loops----------#\n",
    "# my_string = input('Enter What you want: ')\n",
    "my_string = ('Rehan Khalid')\n",
    "for letter in my_string:\n",
    "    if letter.lower() == 'a':\n",
    "        print('\\033[37m', end='')\n",
    "    print(letter)\n",
    "    print('\\033[0m', end='')"
   ]
  },
  {
   "cell_type": "code",
   "execution_count": 26,
   "metadata": {},
   "outputs": [
    {
     "name": "stdout",
     "output_type": "stream",
     "text": [
      "\u001b[33mA\u001b[0m \u001b[0mh\u001b[0m\u001b[33mu\u001b[0mn\u001b[0mg\u001b[0mr\u001b[0my\u001b[0m \u001b[0mf\u001b[0m\u001b[33mo\u001b[0mx\u001b[0m \u001b[0mj\u001b[0m\u001b[33mu\u001b[0mm\u001b[0mp\u001b[0ms\u001b[0m \u001b[0m\u001b[33mo\u001b[0mv\u001b[0m\u001b[33me\u001b[0mr\u001b[0m \u001b[0mt\u001b[0mh\u001b[0m\u001b[33me\u001b[0m \u001b[0ml\u001b[0m\u001b[33ma\u001b[0mz\u001b[0my\u001b[0m \u001b[0md\u001b[0m\u001b[33mo\u001b[0mg\u001b[0m"
     ]
    }
   ],
   "source": [
    "vowels = (\"a\",\"e\",\"i\",\"o\",\"u\")\n",
    "my_string = input('Enter What you dsire:')\n",
    "for letter in my_string:\n",
    "    if letter.lower() in vowels:\n",
    "        print('\\033[33m', end='')\n",
    "    print(letter, end='')\n",
    "    print('\\033[0m', end='')"
   ]
  },
  {
   "cell_type": "markdown",
   "metadata": {},
   "source": [
    "Code the rainbow!\n",
    "\n",
    "Ask the user to input any sentence (string).\n",
    "Now we'll rainbow-ize (nope, me neither) it.\n",
    "As soon as the string contains an 'r', every letter from that point on should be red.\n",
    "When the computer encounters a 'b', 'g', 'p' or 'y', from there the output should be blue for 'b', green for 'g'...you get the idea.\n",
    "Loop through the string and output it (so the color continues through the loop).\n",
    "The output should change color every time it encounters a new r,g,b,p or y.\n",
    "🥳 Extra points for resetting the output color back to default every time there's a space.\n",
    "\n",
    "Example:\n",
    "You can use a lot of your code from Day 31 to get started.\n",
    "Use an if... elif... else to check for key letters.\n",
    "Use the print(\"\\033[31m\", end=\"\") to change the font color.\n",
    "Try implementing the color change as a subroutine.\n",
    "\n"
   ]
  }
 ],
 "metadata": {
  "kernelspec": {
   "display_name": "Python 3",
   "language": "python",
   "name": "python3"
  },
  "language_info": {
   "codemirror_mode": {
    "name": "ipython",
    "version": 3
   },
   "file_extension": ".py",
   "mimetype": "text/x-python",
   "name": "python",
   "nbconvert_exporter": "python",
   "pygments_lexer": "ipython3",
   "version": "3.11.6"
  },
  "vscode": {
   "interpreter": {
    "hash": "26d969baecc96448cdb4e29e2fc2c48024b622b049885605b6bb1fe59e05dd54"
   }
  }
 },
 "nbformat": 4,
 "nbformat_minor": 0
}
