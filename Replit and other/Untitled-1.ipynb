{
 "cells": [
  {
   "cell_type": "code",
   "execution_count": 1,
   "metadata": {},
   "outputs": [
    {
     "data": {
      "text/plain": [
       "'gcgtatccgtagcccgtagtgccgtatgga'"
      ]
     },
     "execution_count": 1,
     "metadata": {},
     "output_type": "execute_result"
    }
   ],
   "source": [
    "dna = \"atgcgtatccgtagcccgtagtgccgtatgga\"\n",
    "dna[2:]"
   ]
  },
  {
   "cell_type": "code",
   "execution_count": 10,
   "metadata": {},
   "outputs": [
    {
     "data": {
      "text/plain": [
       "5"
      ]
     },
     "execution_count": 10,
     "metadata": {},
     "output_type": "execute_result"
    }
   ],
   "source": [
    "dna.upper()\n",
    "dna.lower()\n",
    "dna.find(\"tat\")"
   ]
  },
  {
   "cell_type": "code",
   "execution_count": 15,
   "metadata": {},
   "outputs": [
    {
     "name": "stdout",
     "output_type": "stream",
     "text": [
      "GC content is 47.145669291338585\n"
     ]
    }
   ],
   "source": [
    "dna_sequence = \"\"\"ttctggatatttgggacaccaaaatttcttgagttctgtatcacaagaccgtaagtcctg\n",
    "gacctaatccccggtgtaagccaattttcaatgcgcccgcagggcgcacgctatcttttt\n",
    "aggggttattccatcagctctgctgtccagcgagttcgcaagcgcccgactggcactgat\n",
    "aatgtttggccgctgagatgtatcatgttctaccagcccactgtaaggaatccctcagtt\n",
    "ataccatttaaaacattgattaattcggtctattggagtcgattctgagcgaaagcgcct\n",
    "acgatgtatccagatactaacttggacaaagttagttgtaggaggaaggtcaccttgcgt\n",
    "gaccccagtcccagtgatgacacggaacaatcacggttaggtcggcgctgagctgatctg\n",
    "acgggcctaatgttttagaagtcggacggaacatccatcaaggcattttaattcttaaat\n",
    "cttgatttaagactaatcagcatttgcagtctaagtataagaacaacgaggtcgcccgat\n",
    "ccaggtactatccaggttgtgattaggatgccttcgttagcggcccaggtgcagaggatc\n",
    "tcaaatggccacgtcagatacctgtggatcacactcccccactctgagcggccaggctat\n",
    "gtacggtaccatcacaaagtttacagtttctgccacccatgctgtcgctatttgcgtccc\n",
    "atccgacagggttctactactcgaaagatatatgctgcgctctcgatatcgaacatcata\n",
    "cgagtgcgagtagagaaactccttacgattattttaggacgccgagagcccgaatgaccc\n",
    "tgctgtttatcgggaaatgtatcttctagctttaatcactggtgctgcattttggctaca\n",
    "tggcccgctatggcgtcttttatactgtcttgggaacgccactgctagtgccgacaggag\n",
    "tctaaatacccgacgtaaaatcaaacgttgcaaacccgag\"\"\"\n",
    "\n",
    "a_count = dna_sequence.count(\"a\")\n",
    "c_count = dna_sequence.count(\"c\")\n",
    "g_count = dna_sequence.count(\"g\")\n",
    "length_dna = len(dna_sequence)\n",
    "gc_percent = (g_count + c_count) / length_dna * 100\n",
    "print(\"GC content is\", gc_percent)"
   ]
  },
  {
   "cell_type": "code",
   "execution_count": 16,
   "metadata": {},
   "outputs": [
    {
     "data": {
      "text/plain": [
       "8.5"
      ]
     },
     "execution_count": 16,
     "metadata": {},
     "output_type": "execute_result"
    }
   ],
   "source": [
    "17/2"
   ]
  },
  {
   "cell_type": "code",
   "execution_count": 22,
   "metadata": {},
   "outputs": [
    {
     "name": "stdout",
     "output_type": "stream",
     "text": [
      "210bp210bp\n"
     ]
    }
   ],
   "source": [
    "seqlen = '10bp'\n",
    "seqlen='2'+seqlen\n",
    "seqlen=seqlen*2\n",
    "print(seqlen)"
   ]
  },
  {
   "cell_type": "code",
   "execution_count": 5,
   "metadata": {},
   "outputs": [
    {
     "name": "stdout",
     "output_type": "stream",
     "text": [
      "3\n",
      "2\n",
      "3\n",
      "6\n"
     ]
    }
   ],
   "source": [
    "a=1\n",
    "\n",
    "b=2\n",
    "\n",
    "c=a+b\n",
    "print(c)\n",
    "a = b\n",
    "print(a)\n",
    "a = c\n",
    "print(a)\n",
    "d=a+c\n",
    "print(d)"
   ]
  },
  {
   "cell_type": "code",
   "execution_count": 23,
   "metadata": {},
   "outputs": [
    {
     "name": "stdout",
     "output_type": "stream",
     "text": [
      "gene\n",
      "Lef\n",
      "['Lef']\n",
      "[5.16e-08, 0.000138511, 7.33e-08]\n",
      "[5.16e-08, 0.000138511, 7.33e-08, 'fuck.gene']\n"
     ]
    }
   ],
   "source": [
    "gene_expression = ['gene',5.16e-08,0.000138511,7.33e-08]\n",
    "print(gene_expression[0])\n",
    "gene_expression[0] = 'Lef'\n",
    "print(gene_expression[0])\n",
    "print(gene_expression[:-3])\n",
    "len(gene_expression)\n",
    "del gene_expression[0]\n",
    "print(gene_expression)\n",
    "gene_expression.extend(['fuck.gene'])\n",
    "print(gene_expression)\n"
   ]
  },
  {
   "cell_type": "code",
   "execution_count": 31,
   "metadata": {},
   "outputs": [
    {
     "name": "stdout",
     "output_type": "stream",
     "text": [
      "['s', 'a', 'b', 'c', 'd', 'e', 'f', 'g', 'j']\n",
      "j\n",
      "None\n"
     ]
    }
   ],
   "source": [
    "stack = ['s','a','b','c','d','e','f','g']\n",
    "stack.append(\"j\")\n",
    "print(stack)\n",
    "ele = stack.pop()\n",
    "print(ele)\n",
    "my_List = stack.sort()\n",
    "print(my_List)"
   ]
  },
  {
   "cell_type": "code",
   "execution_count": 34,
   "metadata": {},
   "outputs": [
    {
     "name": "stdout",
     "output_type": "stream",
     "text": [
      "['a', 'b', 'c', 'd', 'e', 'f', 'g', 's']\n"
     ]
    }
   ],
   "source": [
    "stack = ['s','a','b','c','d','e','f','g']\n",
    "stack.sort()\n",
    "print(stack)"
   ]
  },
  {
   "cell_type": "code",
   "execution_count": 39,
   "metadata": {},
   "outputs": [
    {
     "data": {
      "text/plain": [
       "{'d', 'g', 's'}"
      ]
     },
     "execution_count": 39,
     "metadata": {},
     "output_type": "execute_result"
    }
   ],
   "source": [
    "brc = {'s','a','b','c','d','e','f','g'}\n",
    "brc_1 = {'s','g','h','i','d','k','l','m'}\n",
    "\n",
    "brc | brc_1\n",
    "brc - brc_1\n",
    "brc & brc_1\n"
   ]
  },
  {
   "cell_type": "code",
   "execution_count": 49,
   "metadata": {},
   "outputs": [
    {
     "name": "stdout",
     "output_type": "stream",
     "text": [
      "2\n"
     ]
    }
   ],
   "source": [
    "dna =  ('a','c','g','t','c')\n",
    "dna_counts= {'t':dna.count('t'),'c':dna.count('c'),'g':dna.count('g'),'a':dna.count('a')}\n",
    "\n",
    "max_freq=sorted(dna_counts.values())[-1]\n",
    "\n",
    "print(max_freq)"
   ]
  },
  {
   "cell_type": "code",
   "execution_count": 58,
   "metadata": {},
   "outputs": [
    {
     "name": "stdout",
     "output_type": "stream",
     "text": [
      "acggctagctagctgatcgtagctgatgctgatgctgatcg\n",
      "the dna has no % unudentified bases\n"
     ]
    }
   ],
   "source": [
    "dna  = input(\"input dna sequence\")\n",
    "print(dna)\n",
    "if 'n' in dna:\n",
    "    nbase = dna.count('n')\n",
    "    print(\"the number of %g unudentified bases\"% nbase)\n",
    "else:\n",
    "    print(\"the dna has no % unudentified bases\")"
   ]
  },
  {
   "cell_type": "code",
   "execution_count": 60,
   "metadata": {},
   "outputs": [
    {
     "name": "stdout",
     "output_type": "stream",
     "text": [
      "acgtcagtca 10\n",
      "gaccgtagcatgcta 15\n",
      "gcatctgactgatcgtagctag 22\n"
     ]
    }
   ],
   "source": [
    "motif = ['acgtcagtca', 'gaccgtagcatgcta','gcatctgactgatcgtagctag']\n",
    "for m in motif:\n",
    "    print(m,len(m)) \n"
   ]
  },
  {
   "cell_type": "code",
   "execution_count": 62,
   "metadata": {},
   "outputs": [
    {
     "name": "stdout",
     "output_type": "stream",
     "text": [
      "2 is a prime number\n",
      "3 is a prime number\n",
      "4 equal 2 * 2\n",
      "5 is a prime number\n",
      "6 equal 2 * 3\n",
      "7 is a prime number\n",
      "8 equal 2 * 4\n",
      "9 equal 3 * 3\n"
     ]
    }
   ],
   "source": [
    "y = 10\n",
    "for i in range(2, y):\n",
    "    for x in range(2, i):\n",
    "        if i  %  x == 0:\n",
    "            print(i, 'equal', x,'*',i//x)\n",
    "            break\n",
    "    else:\n",
    "        print(i, 'is a prime number')   \n",
    "\n"
   ]
  },
  {
   "cell_type": "code",
   "execution_count": 65,
   "metadata": {},
   "outputs": [
    {
     "name": "stdout",
     "output_type": "stream",
     "text": [
      "2\n",
      "4\n",
      "8\n",
      "16\n",
      "32\n",
      "64\n",
      "128\n",
      "256\n",
      "512\n",
      "1024\n",
      "2048\n"
     ]
    }
   ],
   "source": [
    "i=1\n",
    "while i< 2048 :\n",
    "      i=2*i\n",
    "      print(i)"
   ]
  },
  {
   "cell_type": "code",
   "execution_count": 68,
   "metadata": {},
   "outputs": [
    {
     "ename": "NameError",
     "evalue": "name 'seq' is not defined",
     "output_type": "error",
     "traceback": [
      "\u001B[1;31m---------------------------------------------------------------------------\u001B[0m",
      "\u001B[1;31mNameError\u001B[0m                                 Traceback (most recent call last)",
      "Cell \u001B[1;32mIn[68], line 1\u001B[0m\n\u001B[1;32m----> 1\u001B[0m \u001B[39mfor\u001B[39;00m i \u001B[39min\u001B[39;00m \u001B[39mrange\u001B[39m(\u001B[39mlen\u001B[39m(seq)) :     \u001B[39m# line 1\u001B[39;00m\n\u001B[0;32m      2\u001B[0m         \u001B[39mfor\u001B[39;00m j \u001B[39min\u001B[39;00m \u001B[39mrange\u001B[39m(i\u001B[39m+\u001B[39m\u001B[39m1\u001B[39m) :        \u001B[39m# line 2\u001B[39;00m\n\u001B[0;32m      3\u001B[0m                  \u001B[39mprint\u001B[39m(seq[j:i\u001B[39m+\u001B[39m\u001B[39m1\u001B[39m])     \u001B[39m# line 3\u001B[39;00m\n",
      "\u001B[1;31mNameError\u001B[0m: name 'seq' is not defined"
     ]
    }
   ],
   "source": [
    "for i in range(len(seq)+1) :     # line 1\n",
    "        for j in range(i+1) :        # line 2\n",
    "                 print(seq[j:i+1])    # line 3"
   ]
  },
  {
   "cell_type": "code",
   "execution_count": 69,
   "metadata": {},
   "outputs": [
    {
     "ename": "NameError",
     "evalue": "name 'seq' is not defined",
     "output_type": "error",
     "traceback": [
      "\u001B[1;31m---------------------------------------------------------------------------\u001B[0m",
      "\u001B[1;31mNameError\u001B[0m                                 Traceback (most recent call last)",
      "Cell \u001B[1;32mIn[69], line 1\u001B[0m\n\u001B[1;32m----> 1\u001B[0m \u001B[39mfor\u001B[39;00m i \u001B[39min\u001B[39;00m \u001B[39mrange\u001B[39m(\u001B[39mlen\u001B[39m(seq)):\n\u001B[0;32m      2\u001B[0m     \u001B[39mfor\u001B[39;00m j \u001B[39min\u001B[39;00m \u001B[39mrange\u001B[39m(i):\n\u001B[0;32m      3\u001B[0m         \u001B[39mprint\u001B[39m(seq[j:i\u001B[39m+\u001B[39m\u001B[39m1\u001B[39m])\n",
      "\u001B[1;31mNameError\u001B[0m: name 'seq' is not defined"
     ]
    }
   ],
   "source": [
    "for i in range(len(seq)):\n",
    "    for j in range(i):\n",
    "        print(seq[j:i+1])\n"
   ]
  },
  {
   "cell_type": "code",
   "execution_count": 18,
   "metadata": {},
   "outputs": [
    {
     "name": "stdout",
     "output_type": "stream",
     "text": [
      "The Final GC content is 0 percent\n"
     ]
    }
   ],
   "source": [
    "# Gc% identifier\n",
    "def gc(DNA):\n",
    "    nbases = DNA.count('n') + DNA.count('N')\n",
    "    gc_percent = float(DNA.count('g') + DNA.count('G') + DNA.count('c') + DNA.count('C')) / (len(DNA) - nbases) \n",
    "    return print('The Final GC content is %d percent' %gc_percent)\n",
    "gc('AAAGTNNAGTCC')"
   ]
  },
  {
   "cell_type": "code",
   "execution_count": 38,
   "metadata": {},
   "outputs": [
    {
     "data": {
      "text/plain": [
       "True"
      ]
     },
     "execution_count": 38,
     "metadata": {},
     "output_type": "execute_result"
    }
   ],
   "source": [
    "# Stop Codon Identifier\n",
    "def stop_codon(DNA):\n",
    "    stop_codon_found = False\n",
    "    stop_codon = ['taa', 'tag', 'tga']\n",
    "    for i in range (0, len(DNA),3):\n",
    "        codon = DNA[i:i+3].lower()\n",
    "        if codon in stop_codon:\n",
    "            stop_codon_found = True\n",
    "            break\n",
    "    return stop_codon_found\n",
    "stop_codon('aaagtnnagtaagcc')"
   ]
  },
  {
   "cell_type": "code",
   "execution_count": 46,
   "metadata": {},
   "outputs": [
    {
     "data": {
      "text/plain": [
       "'tttcanntcattcgg'"
      ]
     },
     "execution_count": 46,
     "metadata": {},
     "output_type": "execute_result"
    }
   ],
   "source": [
    "# def reverse_complement(DNA):\n",
    "#     complement = {'a':'t', 't':'a', 'g':'c', 'c':'g','N':'N','n':'n','A':'T','T':'A','G':'C','C':'G'}\n",
    "#     reverse_complement = ''\n",
    "#     for base in DNA:\n",
    "#         if base not in complement:\n",
    "#             continue\n",
    "#         reverse_complement = complement[base] + reverse_complement\n",
    "#     return reverse_complement\n",
    "# reverse_complement('aaagtnnagtaagcc')\n",
    "\n",
    "def reverse_complement(DNA):\n",
    "    complement = {'a':'t', 't':'a', 'g':'c', 'c':'g','N':'N','n':'n','A':'T','T':'A','G':'C','C':'G'}\n",
    "    letter = list(DNA)\n",
    "    letter = [complement[base] for base in letter]\n",
    "    return ''.join(letter)\n",
    "reverse_complement('aaagtnnagtaagccc')"
   ]
  },
  {
   "cell_type": "code",
   "execution_count": 56,
   "metadata": {},
   "outputs": [
    {
     "data": {
      "text/plain": [
       "(2, 1)"
      ]
     },
     "execution_count": 56,
     "metadata": {},
     "output_type": "execute_result"
    }
   ],
   "source": [
    "\n",
    "# def swap1(x,y) :\n",
    "#     x=y\n",
    "#     y=x\n",
    "#     return(x,y)\n",
    "\n",
    "# def swap2(x,y) :\n",
    "#     return(y,x)\n",
    "\n",
    "# def swap3(x,y) :\n",
    "#     z=x\n",
    "#     x=y\n",
    "#     y=z\n",
    "#     return(x,y)\n",
    "\n",
    "# def swap4(x,y) :\n",
    "#     x,y=y,x\n",
    "#     return (x,y)\n",
    "\n",
    "\n",
    "swap1(1,2)\n",
    "swap2(1,2)\n",
    "swap3(1,2)\n",
    "swap4(1,2)"
   ]
  },
  {
   "cell_type": "code",
   "execution_count": 4,
   "metadata": {},
   "outputs": [],
   "source": [
    "import random\n",
    "def create_dna(n, alphabet='acgt'):\n",
    "    return''.join([random.choice(alphabet) for i in range(n)])\n",
    "dna = create_dna(1000000)"
   ]
  },
  {
   "cell_type": "code",
   "execution_count": 13,
   "metadata": {},
   "outputs": [],
   "source": [
    "f = open('D:\\Study and Extras\\Dr Nawaz Sb Paper\\PCA-Co-Relation\\Khawar PCA COR\\Data.csv')\n",
    "f.read()\n",
    "f.seek(0)\n",
    "f.close()"
   ]
  },
  {
   "cell_type": "code",
   "execution_count": 17,
   "metadata": {},
   "outputs": [
    {
     "ename": "SyntaxError",
     "evalue": "(unicode error) 'unicodeescape' codec can't decode bytes in position 2-3: truncated \\UXXXXXXXX escape (3397230186.py, line 3)",
     "output_type": "error",
     "traceback": [
      "\u001B[1;36m  Cell \u001B[1;32mIn[17], line 3\u001B[1;36m\u001B[0m\n\u001B[1;33m    f = open('C:\\Users\\mirza\\Downloads\\datasets\\ncbi_dataset\\data\\gene.fa')\u001B[0m\n\u001B[1;37m                                                                          ^\u001B[0m\n\u001B[1;31mSyntaxError\u001B[0m\u001B[1;31m:\u001B[0m (unicode error) 'unicodeescape' codec can't decode bytes in position 2-3: truncated \\UXXXXXXXX escape\n"
     ]
    }
   ],
   "source": [
    "#readingg fastasequence\n",
    "try:\n",
    "    f = open('C:\\Users\\mirza\\Downloads\\datasets\\ncbi_dataset\\data\\gene.fa')\n",
    "except IOError:\n",
    "    print('cannot open')\n",
    "seq = {}\n",
    "for line in f:\n",
    "    line = line.rstrip()\n",
    "    if line.startswith('>'):\n",
    "        words = line.split()\n",
    "        name = words[0][1:]\n",
    "        seq[name] = ''\n",
    "    else:\n",
    "        seq[name] = seq[name] + line"
   ]
  },
  {
   "cell_type": "code",
   "execution_count": 18,
   "metadata": {},
   "outputs": [
    {
     "ename": "NameError",
     "evalue": "name 'seqs' is not defined",
     "output_type": "error",
     "traceback": [
      "\u001B[1;31m---------------------------------------------------------------------------\u001B[0m",
      "\u001B[1;31mNameError\u001B[0m                                 Traceback (most recent call last)",
      "Cell \u001B[1;32mIn[18], line 2\u001B[0m\n\u001B[0;32m      1\u001B[0m \u001B[39m#retrieveing sequence\u001B[39;00m\n\u001B[1;32m----> 2\u001B[0m \u001B[39mfor\u001B[39;00m name,seq \u001B[39min\u001B[39;00m seqs\u001B[39m.\u001B[39mitems():\n\u001B[0;32m      3\u001B[0m     \u001B[39mprint\u001B[39m(name,seq)\n",
      "\u001B[1;31mNameError\u001B[0m: name 'seqs' is not defined"
     ]
    }
   ],
   "source": [
    "#retrieveing sequence\n",
    "for name,seq in seqs.items():\n",
    "    print(name,seq)"
   ]
  },
  {
   "cell_type": "code",
   "execution_count": 22,
   "metadata": {},
   "outputs": [],
   "source": [
    "import sys\n",
    "import getopt\n",
    "def usage():\n",
    "    o,a = getopt.getopt(sys.argv[1:],'l:h')\n",
    "opts = {}\n",
    "seqlen  = 0;\n",
    "\n",
    "for k,v in o:\n",
    "    opts[k] = v\n",
    "if '-h' in opts:    # help\n",
    "    usage()\n",
    "    sys.exit(0)\n",
    "    if len(a) < 1:\n",
    "        print('no input file')\n",
    "        sys.exit(1)\n",
    "    if '-l' in opts < 0:\n",
    "        if int(opts['-l']) > 0:\n",
    "            print('sequence length must be positive')\n",
    "        seqlen = int(opts['-l'])"
   ]
  },
  {
   "cell_type": "code",
   "execution_count": 23,
   "metadata": {},
   "outputs": [
    {
     "ename": "FileNotFoundError",
     "evalue": "[WinError 3] The system cannot find the path specified: 'mydir'",
     "output_type": "error",
     "traceback": [
      "\u001B[1;31m---------------------------------------------------------------------------\u001B[0m",
      "\u001B[1;31mFileNotFoundError\u001B[0m                         Traceback (most recent call last)",
      "Cell \u001B[1;32mIn[23], line 2\u001B[0m\n\u001B[0;32m      1\u001B[0m \u001B[39mimport\u001B[39;00m \u001B[39mos\u001B[39;00m\n\u001B[1;32m----> 2\u001B[0m filenames \u001B[39m=\u001B[39m os\u001B[39m.\u001B[39;49mlistdir(\u001B[39m'\u001B[39;49m\u001B[39mmydir\u001B[39;49m\u001B[39m'\u001B[39;49m)\n\u001B[0;32m      3\u001B[0m f\u001B[39m=\u001B[39m \u001B[39mopen\u001B[39m(filenames[\u001B[39m0\u001B[39m])\n",
      "\u001B[1;31mFileNotFoundError\u001B[0m: [WinError 3] The system cannot find the path specified: 'mydir'"
     ]
    }
   ],
   "source": [
    "\n",
    "import os\n",
    "filenames = os.listdir('mydir')\n",
    "f= open(filenames[0])"
   ]
  },
  {
   "cell_type": "code",
   "execution_count": 30,
   "metadata": {},
   "outputs": [
    {
     "name": "stdout",
     "output_type": "stream",
     "text": [
      "1.81\n"
     ]
    }
   ],
   "source": [
    "import Bio\n",
    "print(Bio.__version__)"
   ]
  },
  {
   "cell_type": "code",
   "execution_count": null,
   "metadata": {},
   "outputs": [],
   "source": [
    "from Bio.Blast import NCBIWWW\n",
    "fasta_string = open('C:\\Users\\mirza\\Downloads\\datasets\\ncbi_dataset\\data\\gene.fa').read()\n",
    "result_handle = NCBIWWW.qblast('blastn','nt',fasta_string)\n",
    "\n",
    "from Bio.Blast import NCBIXML\n",
    "blast_record = NCBIXML.read(result_handle)"
   ]
  },
  {
   "cell_type": "code",
   "execution_count": null,
   "metadata": {},
   "outputs": [],
   "source": [
    "from Bio.Blast import NCBIXML\n",
    "blast_record = NCBIXML.read(result_handle)"
   ]
  },
  {
   "cell_type": "code",
   "execution_count": 36,
   "metadata": {},
   "outputs": [
    {
     "name": "stdout",
     "output_type": "stream",
     "text": [
      "Species information not found.\n"
     ]
    },
    {
     "ename": "IndexError",
     "evalue": "list index out of range",
     "output_type": "error",
     "traceback": [
      "\u001B[1;31m---------------------------------------------------------------------------\u001B[0m",
      "\u001B[1;31mIndexError\u001B[0m                                Traceback (most recent call last)",
      "Cell \u001B[1;32mIn[36], line 26\u001B[0m\n\u001B[0;32m     24\u001B[0m \u001B[39m# Extract the species from the top hit\u001B[39;00m\n\u001B[0;32m     25\u001B[0m description \u001B[39m=\u001B[39m hit\u001B[39m.\u001B[39mhit_def\n\u001B[1;32m---> 26\u001B[0m species \u001B[39m=\u001B[39m description\u001B[39m.\u001B[39;49msplit(\u001B[39m\"\u001B[39;49m\u001B[39m[\u001B[39;49m\u001B[39m\"\u001B[39;49m)[\u001B[39m1\u001B[39;49m]\u001B[39m.\u001B[39msplit(\u001B[39m\"\u001B[39m\u001B[39m]\u001B[39m\u001B[39m\"\u001B[39m)[\u001B[39m0\u001B[39m]\n\u001B[0;32m     28\u001B[0m \u001B[39m# Print the species\u001B[39;00m\n\u001B[0;32m     29\u001B[0m \u001B[39mprint\u001B[39m(\u001B[39m\"\u001B[39m\u001B[39mThe sequence is from\u001B[39m\u001B[39m\"\u001B[39m, species)\n",
      "\u001B[1;31mIndexError\u001B[0m: list index out of range"
     ]
    }
   ],
   "source": [
    "from Bio.Blast import NCBIWWW, NCBIXML\n",
    "\n",
    "# Define the DNA sequence\n",
    "sequence = \"\"\"TGGGCCTCATATTTATCCTATATACCATGTTCGTATGGTGGCGCGATGTTCTACGTGAATCCACGTTCGAAGGACATCATACCAAAGTCGTAC\n",
    "AATTAGGACCTCGATATGGTTTTATTCTGTTTATCGTATCGGAGGTTATGTTCTTTTTTGCTCTTTTTCGGGCTTCTTCTCATTCTTCTTTGGCAC\n",
    "CTACGGTAGAG\"\"\"\n",
    "\n",
    "# Perform a BLAST search of the sequence against the NCBI nucleotide database\n",
    "result_handle = NCBIWWW.qblast(\"blastn\", \"nt\", sequence)\n",
    "\n",
    "# Parse the BLAST result\n",
    "blast_record = NCBIXML.read(result_handle)\n",
    "\n",
    "# Get the top hit\n",
    "hit = blast_record.alignments[0]\n",
    "\n",
    "# Extract the species from the top hit\n",
    "description = hit.hit_def\n",
    "species = description.split(\"[\")[1].split(\"]\")[0]\n",
    "\n",
    "# Print the species\n",
    "print(\"The sequence is from\", species)\n",
    "description = hit.hit_def\n",
    "if \"[\" in description and \"]\" in description:\n",
    "    species = description.split(\"[\")[1].split(\"]\")[0]\n",
    "    print(\"The sequence is from\", species)\n",
    "else:\n",
    "    print(\"Species information not found.\")\n"
   ]
  },
  {
   "cell_type": "code",
   "execution_count": null,
   "metadata": {},
   "outputs": [],
   "source": [
    "from Bio.Seq import Seq\n",
    "from Bio.Alphabet import generic_dna\n",
    "\n",
    "# Define the DNA sequence\n",
    "sequence = \"TGGGCCTCATATTTATCCTATATACCATGTTCGTATGGTGGCGCGATGTTCTACGTGAATCCACGTTCGAAGGACATCATACCAAAGTCGTACAATTAGGACCTCGATATGGTTTTATTCTGTTTATCGTATCGGAGGTTATGTTCTTTTTTGCTCTTTTTCGGGCTTCTTCTCATTCTTCTTTGGCACCTACGGTAGAG\"\n",
    "\n",
    "# Create a Seq object\n",
    "my_seq = Seq(sequence, generic_dna)\n",
    "\n",
    "# Translate the Seq object into protein sequence\n",
    "protein_seq = my_seq.translate()\n",
    "\n",
    "# Print the protein sequence\n",
    "print(protein_seq)\n"
   ]
  },
  {
   "cell_type": "code",
   "execution_count": 42,
   "metadata": {},
   "outputs": [
    {
     "name": "stdout",
     "output_type": "stream",
     "text": [
      "Number of records in file: 18\n",
      "Sequence lengths: [4635, 1151, 4894, 3511, 4076, 2867, 442, 890, 967, 4338, 1352, 4564, 4804, 964, 2095, 1432, 115, 2646]\n",
      "Shortest sequence length: 115 in sequences: ['gi|142022655|gb|EQ086233.1|346']\n",
      "Longest sequence length: 4894 in sequences: ['gi|142022655|gb|EQ086233.1|255']\n",
      "Longest ORF length: 2394 in sequence: gi|142022655|gb|EQ086233.1|45 at start position: 385\n",
      "Repeat counts: Counter({'CGCG': 1128, 'GCCG': 946, 'GCGC': 938, 'CGGC': 877, 'CGCC': 629, 'GGCG': 628, 'CGAC': 589, 'CCGC': 586, 'GCGG': 571, 'GCGA': 570, 'GTCG': 565, 'TCGC': 525, 'CCGG': 472, 'GACG': 468, 'TCGA': 464, 'GGCC': 455, 'CGTG': 435, 'CGAT': 428, 'GATC': 427, 'CGTC': 423, 'ACGC': 416, 'ATCG': 409, 'GCTG': 407, 'GCGT': 400, 'CTCG': 397, 'CCGA': 389, 'CGCA': 388, 'TGCG': 388, 'CACG': 378, 'CGAG': 370, 'CAGC': 369, 'TCGG': 356, 'CTGC': 341, 'AGCG': 334, 'CGAA': 331, 'GCAG': 330, 'CGCT': 322, 'TCGT': 322, 'GTGC': 307, 'ACGA': 298, 'CCCG': 298, 'TTCG': 297, 'GAGC': 291, 'CGGG': 290, 'GGGC': 288, 'GCAC': 284, 'TGCC': 283, 'CATC': 280, 'GCTC': 273, 'CGGT': 272, 'ACCG': 268, 'GGCA': 266, 'GCCC': 265, 'GATG': 259, 'CCGT': 258, 'ACGG': 257, 'GAAC': 250, 'GCAT': 249, 'GACC': 233, 'ATGC': 229, 'GTTC': 220, 'AGCC': 219, 'CAGG': 216, 'CGGA': 216, 'CCTG': 215, 'GGTC': 215, 'CCAG': 212, 'TGGC': 210, 'GCCA': 209, 'TGCT': 208, 'CTGG': 205, 'GGTG': 203, 'CTTC': 201, 'CGTT': 198, 'GGCT': 197, 'TCCG': 193, 'CACC': 193, 'GAAG': 189, 'ACGT': 185, 'AGCA': 185, 'TGCA': 184, 'TTGC': 183, 'AACG': 181, 'GTGG': 176, 'CATG': 173, 'ATCA': 172, 'AGGC': 171, 'GCCT': 166, 'TGAT': 161, 'GCAA': 160, 'AAGC': 155, 'TCAC': 154, 'GGAT': 153, 'GTTG': 149, 'TGTC': 149, 'GTGA': 149, 'ATCC': 149, 'TCAG': 146, 'GCTT': 138, 'TGAA': 136, 'CAAC': 135, 'TTCC': 135, 'CCAC': 135, 'CTGA': 134, 'CCAT': 134, 'TACG': 129, 'GTCA': 126, 'ACCA': 126, 'GACA': 125, 'TTCA': 122, 'TGAC': 120, 'GGAC': 118, 'CCTC': 116, 'TGGT': 116, 'ATGA': 112, 'AACC': 109, 'GTGT': 108, 'TCCA': 108, 'CGTA': 108, 'ACCT': 107, 'GTAC': 107, 'GTCC': 106, 'ATGG': 106, 'AGCT': 106, 'GAAT': 105, 'GGAA': 105, 'ATCT': 104, 'CAGT': 104, 'GAGG': 102, 'TCTC': 100, 'TGGA': 100, 'AGGT': 99, 'TCCT': 99, 'TTTC': 97, 'GAAA': 95, 'ATTC': 92, 'ACAG': 92, 'CAAG': 90, 'AACA': 89, 'ACAC': 89, 'AGAT': 89, 'CTGT': 87, 'CAGA': 86, 'CTTG': 86, 'GATT': 85, 'CTCC': 84, 'GAGA': 84, 'TCAT': 84, 'ACAT': 83, 'CCTT': 83, 'ACCC': 82, 'AATC': 80, 'GGGG': 79, 'TGTT': 79, 'GGTT': 79, 'CCCC': 79, 'ACTG': 78, 'TGGG': 77, 'GGAG': 77, 'AGGA': 77, 'TCAA': 76, 'CCCA': 74, 'TTGA': 73, 'ATGT': 72, 'TCTG': 70, 'AAGG': 70, 'AGAA': 70, 'TCCC': 69, 'CATT': 68, 'AGTT': 67, 'AATG': 67, 'GGGT': 67, 'TGTG': 66, 'AACT': 65, 'ATTG': 65, 'AGTC': 61, 'GGGA': 60, 'GGTA': 60, 'GATA': 60, 'CAAT': 58, 'TTGT': 58, 'TTCT': 58, 'ATAC': 56, 'GTCT': 54, 'AAAC': 54, 'AAGA': 54, 'TCTT': 53, 'AGAC': 53, 'GACT': 53, 'TGAG': 51, 'CTAC': 50, 'CACA': 50, 'GTAG': 49, 'TATC': 49, 'GTTT': 48, 'ACTC': 48, 'AGGG': 47, 'TACC': 47, 'CCCT': 47, 'GAGT': 47, 'GTAT': 46, 'ATTT': 45, 'ACTT': 45, 'CACT': 44, 'AAAA': 43, 'ACAA': 42, 'CTCA': 41, 'CCAA': 40, 'CTTT': 40, 'TACA': 39, 'ATAG': 38, 'AGTG': 37, 'TAGC': 35, 'AAAG': 33, 'TTTT': 33, 'AAAT': 33, 'CATA': 32, 'AAGT': 30, 'TGTA': 29, 'CAAA': 29, 'ATAT': 28, 'AGTA': 27, 'TTTG': 27, 'AATT': 26, 'AGAG': 26, 'CTAT': 25, 'TATG': 24, 'GTAA': 23, 'AATA': 23, 'TATT': 22, 'TTAC': 22, 'CTCT': 20, 'TACT': 19, 'GCTA': 18, 'TTGG': 18, 'TAGA': 17, 'ACTA': 15, 'TAGT': 15, 'TCTA': 15, 'TATA': 12, 'TAGG': 12, 'CCTA': 11, 'TTTA': 11, 'GTTA': 9, 'TAAC': 8, 'ATTA': 8, 'TAAT': 7, 'TTAT': 7, 'ATAA': 5, 'TAAG': 3, 'TTAA': 3, 'TAAA': 2, 'CTTA': 1, 'TTAG': 1, 'CTAG': 1})\n",
      "Most common repeat: CGCG with count: 1128\n"
     ]
    },
    {
     "ename": "NameError",
     "evalue": "name 'read_fasta' is not defined",
     "output_type": "error",
     "traceback": [
      "\u001B[1;31m---------------------------------------------------------------------------\u001B[0m",
      "\u001B[1;31mNameError\u001B[0m                                 Traceback (most recent call last)",
      "Cell \u001B[1;32mIn[42], line 85\u001B[0m\n\u001B[0;32m     83\u001B[0m \u001B[39mif\u001B[39;00m \u001B[39m__name__\u001B[39m \u001B[39m==\u001B[39m \u001B[39m'\u001B[39m\u001B[39m__main__\u001B[39m\u001B[39m'\u001B[39m:\n\u001B[0;32m     84\u001B[0m     filename \u001B[39m=\u001B[39m \u001B[39m'\u001B[39m\u001B[39mdna2.fasta\u001B[39m\u001B[39m'\u001B[39m\n\u001B[1;32m---> 85\u001B[0m     records \u001B[39m=\u001B[39m read_fasta(filename)\n\u001B[0;32m     86\u001B[0m     \u001B[39mprint\u001B[39m(find_longest_orf_in_frame2(records))\n",
      "\u001B[1;31mNameError\u001B[0m: name 'read_fasta' is not defined"
     ]
    }
   ],
   "source": [
    "# import necessary modules\n",
    "from Bio import SeqIO\n",
    "from collections import Counter\n",
    "\n",
    "# define a function to count records in file\n",
    "def count_records(filename):\n",
    "    records = list(SeqIO.parse(filename, \"fasta\"))\n",
    "    return len(records)\n",
    "\n",
    "# define a function to get sequence lengths and identify shortest/longest sequences\n",
    "def get_seq_lengths(filename):\n",
    "    records = list(SeqIO.parse(filename, \"fasta\"))\n",
    "    lengths = [len(record.seq) for record in records]\n",
    "    shortest_len = min(lengths)\n",
    "    longest_len = max(lengths)\n",
    "    shortest_seqs = [record.id for record in records if len(record.seq) == shortest_len]\n",
    "    longest_seqs = [record.id for record in records if len(record.seq) == longest_len]\n",
    "    return lengths, shortest_len, shortest_seqs, longest_len, longest_seqs\n",
    "\n",
    "# define a function to get ORF information\n",
    "def get_ORFs(filename, reading_frame):\n",
    "    records = list(SeqIO.parse(filename, \"fasta\"))\n",
    "    longest_ORF_len = 0\n",
    "    longest_ORF_seq = \"\"\n",
    "    longest_ORF_start = 0\n",
    "    for record in records:\n",
    "        ORFs = []\n",
    "        for i in range(reading_frame-1, len(record.seq), 3):\n",
    "            if record.seq[i:i+3] == \"ATG\":\n",
    "                for j in range(i+3, len(record.seq), 3):\n",
    "                    if record.seq[j:j+3] in [\"TAA\", \"TAG\", \"TGA\"]:\n",
    "                        ORFs.append(record.seq[i:j+3])\n",
    "                        break\n",
    "        longest_seq_ORF = max(ORFs, key=len, default=\"\")\n",
    "        if len(longest_seq_ORF) > longest_ORF_len:\n",
    "            longest_ORF_len = len(longest_seq_ORF)\n",
    "            longest_ORF_seq = record.id\n",
    "            longest_ORF_start = record.seq.find(longest_seq_ORF) + 1\n",
    "    return longest_ORF_len, longest_ORF_seq, longest_ORF_start\n",
    "\n",
    "# define a function to get repeat information\n",
    "def get_repeats(filename, repeat_length):\n",
    "    records = list(SeqIO.parse(filename, \"fasta\"))\n",
    "    all_repeats = []\n",
    "    for record in records:\n",
    "        seq = record.seq\n",
    "        for i in range(len(seq)-repeat_length+1):\n",
    "            repeat = str(seq[i:i+repeat_length])\n",
    "            if repeat in seq[i+1:]:\n",
    "                all_repeats.append(repeat)\n",
    "    repeat_counts = Counter(all_repeats)\n",
    "    most_common = repeat_counts.most_common(1)\n",
    "    return repeat_counts, most_common\n",
    "\n",
    "# run the functions with the given example file to test\n",
    "filename = \"dna2.fasta\"\n",
    "print(\"Number of records in file:\", count_records(filename))\n",
    "lengths, shortest_len, shortest_seqs, longest_len, longest_seqs = get_seq_lengths(filename)\n",
    "print(\"Sequence lengths:\", lengths)\n",
    "print(\"Shortest sequence length:\", shortest_len, \"in sequences:\", shortest_seqs)\n",
    "print(\"Longest sequence length:\", longest_len, \"in sequences:\", longest_seqs)\n",
    "longest_ORF_len, longest_ORF_seq, longest_ORF_start = get_ORFs(filename, 1)\n",
    "print(\"Longest ORF length:\", longest_ORF_len, \"in sequence:\", longest_ORF_seq, \"at start position:\", longest_ORF_start)\n",
    "repeat_counts, most_common = get_repeats(filename, 4)\n",
    "print(\"Repeat counts:\", repeat_counts)\n",
    "print(\"Most common repeat:\", most_common[0][0], \"with count:\", most_common[0][1])\n",
    "\n"
   ]
  },
  {
   "cell_type": "code",
   "execution_count": 45,
   "metadata": {},
   "outputs": [
    {
     "name": "stdout",
     "output_type": "stream",
     "text": [
      "Length of the longest ORF appearing in reading frame 2 of any of the sequences: 1458\n"
     ]
    }
   ],
   "source": [
    "#frame 2orf\n",
    "# import necessary modules\n",
    "from Bio import SeqIO\n",
    "\n",
    "# define a function to read FASTA file\n",
    "def read_fasta(filename):\n",
    "    records = list(SeqIO.parse(filename, \"fasta\"))\n",
    "    return records\n",
    "\n",
    "# define a function to find the longest ORF in reading frame 2\n",
    "def find_longest_orf_in_frame2(records):\n",
    "    longest_orf_length = 0\n",
    "    for record in records:\n",
    "        seq = record.seq\n",
    "        for i in range(1, len(seq)-2, 3):\n",
    "            if seq[i:i+3] == 'ATG':\n",
    "                j = i+3\n",
    "                while j+2 < len(seq):\n",
    "                    if seq[j:j+3] in ['TAA', 'TAG', 'TGA']:\n",
    "                        if (j+3-i) > longest_orf_length:\n",
    "                            longest_orf_length = j+3-i\n",
    "                        break\n",
    "                    j += 3\n",
    "    return longest_orf_length\n",
    "\n",
    "# main function to run the program\n",
    "if __name__ == '__main__':\n",
    "    filename = 'dna2.fasta'\n",
    "    records = read_fasta(filename)\n",
    "    print(\"Length of the longest ORF appearing in reading frame 2 of any of the sequences:\", find_longest_orf_in_frame2(records))\n"
   ]
  },
  {
   "cell_type": "code",
   "execution_count": 47,
   "metadata": {},
   "outputs": [
    {
     "name": "stdout",
     "output_type": "stream",
     "text": [
      "636\n"
     ]
    }
   ],
   "source": [
    "#frame 3 orf starting position\n",
    "def find_longest_orf_in_frame3(records):\n",
    "    longest_ORF_len = 0\n",
    "    longest_ORF_start = 0\n",
    "    for record in records:\n",
    "        ORFs = []\n",
    "        for i in range(2, len(record.seq)-2, 3):\n",
    "            if record.seq[i:i+3] == \"ATG\":\n",
    "                for j in range(i+3, len(record.seq)-2, 3):\n",
    "                    if record.seq[j:j+3] in [\"TAA\", \"TAG\", \"TGA\"]:\n",
    "                        ORFs.append(record.seq[i:j+3])\n",
    "                        break\n",
    "        longest_seq_ORF = max(ORFs, key=len, default=\"\")\n",
    "        if len(longest_seq_ORF) > longest_ORF_len:\n",
    "            longest_ORF_len = len(longest_seq_ORF)\n",
    "            longest_ORF_start = record.seq.find(longest_seq_ORF, 2) + 1\n",
    "    return longest_ORF_start\n",
    "\n",
    "if __name__ == '__main__':\n",
    "    filename = 'dna2.fasta'\n",
    "    records = read_fasta(filename)\n",
    "    print(find_longest_orf_in_frame3(records))\n"
   ]
  },
  {
   "cell_type": "code",
   "execution_count": 51,
   "metadata": {},
   "outputs": [
    {
     "name": "stdout",
     "output_type": "stream",
     "text": [
      "Length of the longest forward ORF in the sequence with the identifier gi|142022655|gb|EQ086233.1|16: 4557\n"
     ]
    }
   ],
   "source": [
    "from Bio import SeqIO\n",
    "\n",
    "# define a function to get the length of the longest ORF in a given reading frame\n",
    "def get_longest_ORF_length(record_seq, reading_frame):\n",
    "    longest_ORF_length = 0\n",
    "    for i in range(reading_frame-1, len(record_seq), 3):\n",
    "        if record_seq[i:i+3] == \"ATG\":\n",
    "            for j in range(i+3, len(record_seq), 3):\n",
    "                if record_seq[j:j+3] in [\"TAA\", \"TAG\", \"TGA\"]:\n",
    "                    ORF = record_seq[i:j+3]\n",
    "                    if len(ORF) > longest_ORF_length:\n",
    "                        longest_ORF_length = len(ORF)\n",
    "    return longest_ORF_length\n",
    "\n",
    "# read the file and get the sequence with the identifier gi|142022655|gb|EQ086233.1|16\n",
    "filename = \"dna2.fasta\"\n",
    "record_id = \"gi|142022655|gb|EQ086233.1|16\"\n",
    "record_seq = \"\"\n",
    "for record in SeqIO.parse(filename, \"fasta\"):\n",
    "    if record.id == record_id:\n",
    "        record_seq = str(record.seq)\n",
    "        break\n",
    "\n",
    "# get the length of the longest forward ORF in the sequence\n",
    "longest_ORF_length = 0\n",
    "for reading_frame in range(1, 4):\n",
    "    ORF_length = get_longest_ORF_length(record_seq, reading_frame)\n",
    "    if ORF_length > longest_ORF_length:\n",
    "        longest_ORF_length = ORF_length\n",
    "\n",
    "print(\"Length of the longest forward ORF in the sequence with the identifier gi|142022655|gb|EQ086233.1|16:\", longest_ORF_length)\n"
   ]
  },
  {
   "cell_type": "code",
   "execution_count": 52,
   "metadata": {},
   "outputs": [
    {
     "name": "stdout",
     "output_type": "stream",
     "text": [
      "Most common repeat of length 6: GCGCGC\n",
      "Number of occurrences in all sequences: 137\n"
     ]
    }
   ],
   "source": [
    "from Bio import SeqIO\n",
    "from collections import Counter\n",
    "\n",
    "def get_most_common_repeat(filename):\n",
    "    records = list(SeqIO.parse(filename, \"fasta\"))\n",
    "    all_repeats = []\n",
    "    for record in records:\n",
    "        seq = record.seq\n",
    "        for i in range(len(seq)-6+1):\n",
    "            repeat = str(seq[i:i+6])\n",
    "            if repeat in seq[i+1:]:\n",
    "                all_repeats.append(repeat)\n",
    "    repeat_counts = Counter(all_repeats)\n",
    "    most_common = repeat_counts.most_common(1)\n",
    "    return most_common[0][0], most_common[0][1]\n",
    "\n",
    "filename = \"dna2.fasta\"\n",
    "most_common_repeat, repeat_count = get_most_common_repeat(filename)\n",
    "print(\"Most common repeat of length 6:\", most_common_repeat)\n",
    "print(\"Number of occurrences in all sequences:\", repeat_count)\n"
   ]
  },
  {
   "cell_type": "code",
   "execution_count": 55,
   "metadata": {},
   "outputs": [
    {
     "name": "stdout",
     "output_type": "stream",
     "text": [
      "Number of different 12-base sequences that occur Max times: 1\n"
     ]
    }
   ],
   "source": [
    "# define a function to get repeat information for a given repeat length\n",
    "def get_repeats(filename, repeat_length, Max):\n",
    "    records = list(SeqIO.parse(filename, \"fasta\"))\n",
    "    all_repeats = []\n",
    "    for record in records:\n",
    "        seq = record.seq\n",
    "        for i in range(len(seq)-repeat_length+1):\n",
    "            repeat = str(seq[i:i+repeat_length])\n",
    "            if repeat in seq[i+1:]:\n",
    "                all_repeats.append(repeat)\n",
    "    repeat_counts = Counter(all_repeats)\n",
    "    most_common = repeat_counts.most_common(Max)\n",
    "    max_count = most_common[0][1]\n",
    "    max_count_sequences = [repeat for repeat, count in most_common if count == max_count]\n",
    "    return len(max_count_sequences)\n",
    "\n",
    "# run the function with the given example file and repeat length\n",
    "filename = \"dna2.fasta\"\n",
    "repeat_length = 12\n",
    "Max = 1\n",
    "num_sequences = get_repeats(filename, repeat_length, Max)\n",
    "print(\"Number of different 12-base sequences that occur Max times:\", num_sequences)\n"
   ]
  },
  {
   "cell_type": "code",
   "execution_count": null,
   "metadata": {},
   "outputs": [],
   "source": []
  }
 ],
 "metadata": {
  "kernelspec": {
   "display_name": "Python 3",
   "language": "python",
   "name": "python3"
  },
  "language_info": {
   "codemirror_mode": {
    "name": "ipython",
    "version": 3
   },
   "file_extension": ".py",
   "mimetype": "text/x-python",
   "name": "python",
   "nbconvert_exporter": "python",
   "pygments_lexer": "ipython3",
   "version": "3.11.1"
  },
  "orig_nbformat": 4
 },
 "nbformat": 4,
 "nbformat_minor": 2
}
