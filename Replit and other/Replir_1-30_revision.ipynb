{
 "cells": [
  {
   "cell_type": "code",
   "execution_count": 1,
   "metadata": {},
   "outputs": [
    {
     "name": "stdout",
     "output_type": "stream",
     "text": [
      "Enter the Total Bill:  231\n",
      "Enter Number of person you want to divide:  5\n"
     ]
    },
    {
     "name": "stdout",
     "output_type": "stream",
     "text": [
      "Total Bill of yours is  242.55 and per head bill will be 46.2\n"
     ]
    }
   ],
   "source": [
    "# day 10 Prject\n",
    "total_bill = int(input(\"Enter the Total Bill: \"))\n",
    "person_per = int(input(\"Enter Number of person you want to divide: \"))\n",
    "per_head = total_bill / person_per\n",
    "tip_ob = total_bill /100 * 5\n",
    "print('Total Bill of yours is ', total_bill + tip_ob, 'and per head bill will be', per_head)"
   ]
  },
  {
   "cell_type": "code",
   "execution_count": 11,
   "metadata": {},
   "outputs": [
    {
     "name": "stdout",
     "output_type": "stream",
     "text": [
      "Epic Battle of 🪨📃✂️Rock Paper Scissor\n",
      "Welcome the Chosen one\n",
      "Hello Sire!, Please choose your move as R for Rock, P for Paper and S for Scissor\n"
     ]
    },
    {
     "ename": "TypeError",
     "evalue": "'module' object is not callable",
     "output_type": "error",
     "traceback": [
      "\u001b[1;31m---------------------------------------------------------------------------\u001b[0m",
      "\u001b[1;31mTypeError\u001b[0m                                 Traceback (most recent call last)",
      "Cell \u001b[1;32mIn[11], line 6\u001b[0m\n\u001b[0;32m      4\u001b[0m \u001b[38;5;28mprint\u001b[39m(\u001b[38;5;124m'\u001b[39m\u001b[38;5;124mWelcome the Chosen one\u001b[39m\u001b[38;5;124m'\u001b[39m)\n\u001b[0;32m      5\u001b[0m \u001b[38;5;28mprint\u001b[39m(\u001b[38;5;124m'\u001b[39m\u001b[38;5;124mHello Sire!, Please choose your move as R for Rock, P for Paper and S for Scissor\u001b[39m\u001b[38;5;124m'\u001b[39m)\n\u001b[1;32m----> 6\u001b[0m pl_1 \u001b[38;5;241m=\u001b[39m \u001b[38;5;28;43minput\u001b[39;49m\u001b[43m(\u001b[49m\u001b[38;5;124;43m\"\u001b[39;49m\u001b[38;5;124;43mPlayer 1: \u001b[39;49m\u001b[38;5;124;43m\"\u001b[39;49m\u001b[43m)\u001b[49m\n\u001b[0;32m      7\u001b[0m pl_2 \u001b[38;5;241m=\u001b[39m \u001b[38;5;28minput\u001b[39m(\u001b[38;5;124m\"\u001b[39m\u001b[38;5;124mPlayer 2: \u001b[39m\u001b[38;5;124m\"\u001b[39m)\n\u001b[0;32m      8\u001b[0m \u001b[38;5;28;01mif\u001b[39;00m pl_1 \u001b[38;5;241m==\u001b[39m \u001b[38;5;124m'\u001b[39m\u001b[38;5;124mR\u001b[39m\u001b[38;5;124m'\u001b[39m:\n",
      "\u001b[1;31mTypeError\u001b[0m: 'module' object is not callable"
     ]
    }
   ],
   "source": [
    "# Rock paper Scissor \n",
    "from getpass import getpass \n",
    "print('Epic Battle of 🪨📃✂️Rock Paper Scissor')\n",
    "print('Welcome the Chosen one')\n",
    "print('Hello Sire!, Please choose your move as R for Rock, P for Paper and S for Scissor')\n",
    "pl_1 = input(\"Player 1: \")\n",
    "pl_2 = input(\"Player 2: \")\n",
    "if pl_1 == 'R':\n",
    "    if pl_2 == 'P':\n",
    "        print('Player 1 rock was smoothered by the player 1 paper')\n",
    "    elif pl_2 == 'S':\n",
    "        print('Player 1 rock smashed player 2 scissors into pieces')\n",
    "    else:\n",
    "        print('Its a draw')\n",
    "elif pl_1 ==  'P':\n",
    "    if pl_2 == 'R':\n",
    "        print('Player 1 paper was smoothered by the player 2 rock')\n",
    "    elif pl_2 == 'S':\n",
    "        print('Player 2 scissors cut player 1 paper into pieces')\n",
    "    else:\n",
    "        print('Its a draw')\n",
    "elif pl_1 == 'S':\n",
    "    if pl_2 == 'R':\n",
    "        print('Player 1 scissors was amashed into pieces by the player 1 rock')\n",
    "    elif pl_2 == 'P':\n",
    "        print('Player 1 scissors cut player 2 paper into pieces')\n",
    "    else:\n",
    "        print('Its a draw')\n",
    "else:\n",
    "    print('Invalid Move')"
   ]
  }
 ],
 "metadata": {
  "kernelspec": {
   "display_name": "Python 3 (ipykernel)",
   "language": "python",
   "name": "python3"
  },
  "language_info": {
   "codemirror_mode": {
    "name": "ipython",
    "version": 3
   },
   "file_extension": ".py",
   "mimetype": "text/x-python",
   "name": "python",
   "nbconvert_exporter": "python",
   "pygments_lexer": "ipython3",
   "version": "3.11.5"
  }
 },
 "nbformat": 4,
 "nbformat_minor": 4
}
