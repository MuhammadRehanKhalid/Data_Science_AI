{
 "cells": [
  {
   "cell_type": "code",
   "execution_count": 1,
   "metadata": {},
   "outputs": [
    {
     "name": "stdout",
     "output_type": "stream",
     "text": [
      "Enter the Total Bill:  231\n",
      "Enter Number of person you want to divide:  5\n"
     ]
    },
    {
     "name": "stdout",
     "output_type": "stream",
     "text": [
      "Total Bill of yours is  242.55 and per head bill will be 46.2\n"
     ]
    }
   ],
   "source": [
    "# day 10 Prject\n",
    "total_bill = int(input(\"Enter the Total Bill: \"))\n",
    "person_per = int(input(\"Enter Number of person you want to divide: \"))\n",
    "per_head = total_bill / person_per\n",
    "tip_ob = total_bill /100 * 5\n",
    "print('Total Bill of yours is ', total_bill + tip_ob, 'and per head bill will be', per_head)"
   ]
  },
  {
   "cell_type": "code",
   "execution_count": 5,
   "metadata": {},
   "outputs": [
    {
     "name": "stdout",
     "output_type": "stream",
     "text": [
      "Epic Battle of 🪨📃✂️Rock Paper Scissor\n",
      "Welcome the Chosen one\n",
      "Hello Sire!, Please choose your move as R for Rock, P for Paper and S for Scissor\n",
      "Its a draw\n"
     ]
    }
   ],
   "source": [
    "# Rock paper Scissor \n",
    "from getpass import getpass \n",
    "print('Epic Battle of 🪨📃✂️Rock Paper Scissor')\n",
    "print('Welcome the Chosen one')\n",
    "print('Hello Sire!, Please choose your move as R for Rock, P for Paper and S for Scissor')\n",
    "pl_1 = input(\"Player 1: \").upper()\n",
    "pl_2 = input(\"Player 2: \")\n",
    "if pl_1 == 'R':\n",
    "    if pl_2 == 'P':\n",
    "        print('Player 1 rock was smoothered by the player 1 paper')\n",
    "    elif pl_2 == 'S':\n",
    "        print('Player 1 rock smashed player 2 scissors into pieces')\n",
    "    else:\n",
    "        print('Its a draw')\n",
    "elif pl_1 ==  'P':\n",
    "    if pl_2 == 'R':\n",
    "        print('Player 1 paper was smoothered by the player 2 rock')\n",
    "    elif pl_2 == 'S':\n",
    "        print('Player 2 scissors cut player 1 paper into pieces')\n",
    "    else:\n",
    "        print('Its a draw')\n",
    "elif pl_1 == 'S':\n",
    "    if pl_2 == 'R':\n",
    "        print('Player 1 scissors was amashed into pieces by the player 1 rock')\n",
    "    elif pl_2 == 'P':\n",
    "        print('Player 1 scissors cut player 2 paper into pieces')\n",
    "    else:\n",
    "        print('Its a draw')\n",
    "else:\n",
    "    print('Invalid Move')"
   ]
  }
 ],
 "metadata": {
  "kernelspec": {
   "display_name": "Python 3 (ipykernel)",
   "language": "python",
   "name": "python3"
  },
  "language_info": {
   "codemirror_mode": {
    "name": "ipython",
    "version": 3
   },
   "file_extension": ".py",
   "mimetype": "text/x-python",
   "name": "python",
   "nbconvert_exporter": "python",
   "pygments_lexer": "ipython3",
   "version": "3.11.7"
  }
 },
 "nbformat": 4,
 "nbformat_minor": 4
}
