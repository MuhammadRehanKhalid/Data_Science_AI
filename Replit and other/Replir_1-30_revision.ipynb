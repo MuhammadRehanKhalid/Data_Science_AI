{
 "cells": [
  {
   "cell_type": "code",
   "execution_count": 1,
   "metadata": {},
   "outputs": [
    {
     "name": "stdout",
     "output_type": "stream",
     "text": [
      "Enter the Total Bill:  231\n",
      "Enter Number of person you want to divide:  5\n"
     ]
    },
    {
     "name": "stdout",
     "output_type": "stream",
     "text": [
      "Total Bill of yours is  242.55 and per head bill will be 46.2\n"
     ]
    }
   ],
   "source": [
    "# day 10 Prject\n",
    "total_bill = int(input(\"Enter the Total Bill: \"))\n",
    "person_per = int(input(\"Enter Number of person you want to divide: \"))\n",
    "per_head = total_bill / person_per\n",
    "tip_ob = total_bill /100 * 5\n",
    "print('Total Bill of yours is ', total_bill + tip_ob, 'and per head bill will be', per_head)"
   ]
  },
  {
   "cell_type": "code",
   "execution_count": 10,
   "metadata": {},
   "outputs": [
    {
     "name": "stdout",
     "output_type": "stream",
     "text": [
      "Epic Battle of 🪨📃✂️Rock Paper Scissor\n",
      "Welcome the Chosen one\n",
      "Hello Sire!, Please choose your move as R for Rock, P for Paper and S for Scissor\n",
      "Its a draw\n",
      "Its a draw\n",
      "Player 2 rock smashed player 1 scissors into pieces\n",
      "Player 1 rock smashed player 2 scissors into pieces\n",
      "Its a draw\n"
     ]
    }
   ],
   "source": [
    "from getpass import getpass \n",
    "print('Epic Battle of 🪨📃✂️Rock Paper Scissor')\n",
    "print('Welcome the Chosen one')\n",
    "print('Hello Sire!, Please choose your move as R for Rock, P for Paper and S for Scissor')\n",
    "\n",
    "while True:\n",
    "    pl_1 = input(\"Player 1: \").upper()\n",
    "    pl_2 = input(\"Player 2: \").upper()\n",
    "\n",
    "    if pl_1 == 'R':\n",
    "        if pl_2 == 'P':\n",
    "            print('Player 1 rock was smoothered by the player 2 paper')\n",
    "        elif pl_2 == 'S':\n",
    "            print('Player 1 rock smashed player 2 scissors into pieces')\n",
    "        else:\n",
    "            print('Its a draw')\n",
    "    elif pl_1 ==  'P':\n",
    "        if pl_2 == 'R':\n",
    "            print('Player 2 rock smoothered player 1 paper')\n",
    "        elif pl_2 == 'S':\n",
    "            print('Player 2 scissors cut player 1 paper into pieces')\n",
    "        else:\n",
    "            print('Its a draw')\n",
    "    elif pl_1 == 'S':\n",
    "        if pl_2 == 'R':\n",
    "            print('Player 2 rock smashed player 1 scissors into pieces')\n",
    "        elif pl_2 == 'P':\n",
    "            print('Player 1 scissors cut player 2 paper into pieces')\n",
    "        else:\n",
    "            print('Its a draw')\n",
    "    else:\n",
    "        print('Invalid Move')\n",
    "\n",
    "    con_1 = input(\"Would you like to continue (Y/N): \").upper()\n",
    "    if con_1 != 'Y':\n",
    "        break"
   ]
  },
  {
   "cell_type": "code",
   "execution_count": 1,
   "metadata": {},
   "outputs": [
    {
     "name": "stdout",
     "output_type": "stream",
     "text": [
      "0\n",
      "1\n",
      "2\n",
      "3\n",
      "4\n",
      "5\n",
      "6\n",
      "7\n",
      "8\n",
      "9\n"
     ]
    }
   ],
   "source": [
    "counter = 0\n",
    "while counter < 10:\n",
    "  print(counter)\n",
    "  counter += 1"
   ]
  },
  {
   "cell_type": "code",
   "execution_count": null,
   "metadata": {},
   "outputs": [],
   "source": []
  }
 ],
 "metadata": {
  "kernelspec": {
   "display_name": "Python 3 (ipykernel)",
   "language": "python",
   "name": "python3"
  },
  "language_info": {
   "codemirror_mode": {
    "name": "ipython",
    "version": 3
   },
   "file_extension": ".py",
   "mimetype": "text/x-python",
   "name": "python",
   "nbconvert_exporter": "python",
   "pygments_lexer": "ipython3",
   "version": "3.10.13"
  }
 },
 "nbformat": 4,
 "nbformat_minor": 4
}
