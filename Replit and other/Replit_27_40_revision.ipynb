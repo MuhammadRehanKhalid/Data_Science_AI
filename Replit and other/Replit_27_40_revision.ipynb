{
 "cells": [
  {
   "cell_type": "code",
   "execution_count": 5,
   "metadata": {},
   "outputs": [
    {
     "name": "stdout",
     "output_type": "stream",
     "text": [
      "⚔️⚔️⚔️⚔️⚔️EPIC Health Stat Generator⚔️⚔️⚔️⚔️⚔️\n",
      "\n"
     ]
    },
    {
     "name": "stdin",
     "output_type": "stream",
     "text": [
      "Name of the legend: hunter\n",
      "Enter the type of the character(Human, Elf, Wizard, Orc:\n",
      ") Human\n"
     ]
    },
    {
     "name": "stdout",
     "output_type": "stream",
     "text": [
      "hunter\n",
      "Health 12.5\n",
      "Strength 14.5\n",
      "hunter May you Go down in legends with health of 20.0 and Strenght of 16.5\n"
     ]
    }
   ],
   "source": [
    "import random, os, time\n",
    "\n",
    "def roll_dice(side):\n",
    "  result  =  random.randint(1,side)\n",
    "  return result\n",
    "def health():\n",
    "  healthstat = ((roll_dice(5)*roll_dice(12))/2)+10\n",
    "  return  healthstat\n",
    "def strength():\n",
    "  strength_stat = ((roll_dice(6)*roll_dice(8))/2)+12\n",
    "  return strength_stat\n",
    "while True:\n",
    "  print(\"⚔️⚔️⚔️⚔️⚔️EPIC Health Stat Generator⚔️⚔️⚔️⚔️⚔️\")\n",
    "  print()\n",
    "  name = input(\"Name of the legend:\")\n",
    "  chr_type = input(\"Enter the type of the character(Human, Elf, Wizard, Orc:\\n)\")\n",
    "  print(name)\n",
    "  print(\"Health\", health())\n",
    "  print(\"Strength\", strength())\n",
    "  print(f'{name} May you Go down in legends with health of {health()} and Strenght of {strength()}')\n",
    "  break"
   ]
  },
  {
   "cell_type": "code",
   "execution_count": 2,
   "metadata": {},
   "outputs": [
    {
     "name": "stdout",
     "output_type": "stream",
     "text": [
      "⚔️⚔️⚔️⚔️⚔️EPIC Health Stat Generator⚔️⚔️⚔️⚔️⚔️\n",
      "\n"
     ]
    },
    {
     "name": "stdin",
     "output_type": "stream",
     "text": [
      "Name of the legend: d\n",
      "Enter the type of the character(Human, Elf, Wizard, Orc:\n",
      ") d\n"
     ]
    },
    {
     "name": "stdout",
     "output_type": "stream",
     "text": [
      "d\n",
      "Health 17.5\n",
      "Strength 24.0\n"
     ]
    },
    {
     "name": "stdin",
     "output_type": "stream",
     "text": [
      "Name of the legend: d\n",
      "Enter the type of the character(Human, Elf, Wizard, Orc:\n",
      ") d\n"
     ]
    },
    {
     "name": "stdout",
     "output_type": "stream",
     "text": [
      "d\n",
      "Health 14.0\n",
      "Strength 29.5\n",
      "\u001b[H\u001b[2J⚔️⚔️⚔️⚔️⚔️EPIC Battle Time⚔️⚔️⚔️⚔️⚔️\n",
      "Battle Begins\n",
      "d Wins round <built-in function round>\n",
      "\u001b[H\u001b[2J⚔️⚔️⚔️⚔️⚔️EPIC Battle Time⚔️⚔️⚔️⚔️⚔️\n",
      "Battle Begins\n",
      "d Wins round <built-in function round>\n",
      "\u001b[H\u001b[2J⚔️⚔️⚔️⚔️⚔️EPIC Battle Time⚔️⚔️⚔️⚔️⚔️\n",
      "Battle Begins\n",
      "d Wins round <built-in function round>\n",
      "\u001b[H\u001b[2J⚔️⚔️⚔️⚔️⚔️EPIC Battle Time⚔️⚔️⚔️⚔️⚔️\n",
      "Battle Begins\n",
      "d Wins round <built-in function round>\n",
      "\u001b[H\u001b[2J⚔️⚔️⚔️⚔️⚔️EPIC Battle Time⚔️⚔️⚔️⚔️⚔️\n",
      "Battle Begins\n",
      "d Wins round <built-in function round>\n",
      "\u001b[H\u001b[2J⚔️⚔️⚔️⚔️⚔️EPIC Battle Time⚔️⚔️⚔️⚔️⚔️\n",
      "Battle Begins\n",
      "their swords clashed and they draw the round <built-in function round>\n",
      "\u001b[H\u001b[2J⚔️⚔️⚔️⚔️⚔️EPIC Battle Time⚔️⚔️⚔️⚔️⚔️\n",
      "Battle Begins\n",
      "d Wins round <built-in function round>\n",
      "\u001b[H\u001b[2J⚔️⚔️⚔️⚔️⚔️EPIC Battle Time⚔️⚔️⚔️⚔️⚔️\n",
      "Battle Begins\n",
      "d Wins round <built-in function round>\n",
      "\u001b[H\u001b[2J⚔️⚔️⚔️⚔️⚔️EPIC Battle Time⚔️⚔️⚔️⚔️⚔️\n",
      "Battle Begins\n",
      "d Wins round <built-in function round>\n"
     ]
    },
    {
     "ename": "KeyboardInterrupt",
     "evalue": "",
     "output_type": "error",
     "traceback": [
      "\u001b[0;31m---------------------------------------------------------------------------\u001b[0m",
      "\u001b[0;31mKeyboardInterrupt\u001b[0m                         Traceback (most recent call last)",
      "Cell \u001b[0;32mIn[2], line 31\u001b[0m\n\u001b[1;32m     29\u001b[0m rounds \u001b[38;5;241m=\u001b[39m \u001b[38;5;241m1\u001b[39m\n\u001b[1;32m     30\u001b[0m \u001b[38;5;28;01mwhile\u001b[39;00m \u001b[38;5;28;01mTrue\u001b[39;00m:\n\u001b[0;32m---> 31\u001b[0m   \u001b[43mtime\u001b[49m\u001b[38;5;241;43m.\u001b[39;49m\u001b[43msleep\u001b[49m\u001b[43m(\u001b[49m\u001b[38;5;241;43m1\u001b[39;49m\u001b[43m)\u001b[49m\n\u001b[1;32m     32\u001b[0m   os\u001b[38;5;241m.\u001b[39msystem(\u001b[38;5;124m\"\u001b[39m\u001b[38;5;124mclear\u001b[39m\u001b[38;5;124m\"\u001b[39m)\n\u001b[1;32m     33\u001b[0m   \u001b[38;5;28mprint\u001b[39m(\u001b[38;5;124m\"\u001b[39m\u001b[38;5;124m⚔️⚔️⚔️⚔️⚔️EPIC Battle Time⚔️⚔️⚔️⚔️⚔️\u001b[39m\u001b[38;5;124m\"\u001b[39m)\n",
      "\u001b[0;31mKeyboardInterrupt\u001b[0m: "
     ]
    }
   ],
   "source": [
    "import random, os, time\n",
    "\n",
    "def roll_dice(side):\n",
    "  result  =  random.randint(1,side)\n",
    "  return result\n",
    "def health():\n",
    "  healthstat = ((roll_dice(5)*roll_dice(12))/2)+10\n",
    "  return  healthstat\n",
    "def strength():\n",
    "  strength_stat = ((roll_dice(6)*roll_dice(8))/2)+12\n",
    "  return strength_stat\n",
    "while True:\n",
    "  print(\"⚔️⚔️⚔️⚔️⚔️EPIC Health Stat Generator⚔️⚔️⚔️⚔️⚔️\")\n",
    "  print()\n",
    "  chr_1 = input(\"Name of the legend:\")\n",
    "  chr_1_type = input(\"Enter the type of the character(Human, Elf, Wizard, Orc:\\n)\")\n",
    "  chr_1_h = health()\n",
    "  chr_1_str = strength()\n",
    "  print(chr_1)\n",
    "  print(\"Health\",chr_1_h)\n",
    "  print(\"Strength\",chr_1_str)\n",
    "  chr_2 = input(\"Name of the legend:\")\n",
    "  chr_2_strength = input(\"Enter the type of the character(Human, Elf, Wizard, Orc:\\n)\")\n",
    "  chr_2_h = health()\n",
    "  chr_2_str = strength()\n",
    "  print(chr_1)\n",
    "  print(\"Health\", chr_2_h)\n",
    "  print(\"Strength\", chr_2_str)\n",
    "  rounds = 1\n",
    "  winner = None\n",
    "  while True:\n",
    "    time.sleep(1)\n",
    "    os.system(\"clear\")\n",
    "    print(\"⚔️⚔️⚔️⚔️⚔️EPIC Battle Time⚔️⚔️⚔️⚔️⚔️\")\n",
    "    print(\"Battle Begins\")\n",
    "    chr_1_dice = roll_dice(6)\n",
    "    chr_2_dice = roll_dice(6)\n",
    "    differ = abs(chr_2_str - chr_2_str) + 1\n",
    "    if chr_1_dice > chr_2_dice:\n",
    "      chr_2_dice -= differ\n",
    "      if round == 1:\n",
    "        print(chr_1, \"winns the first blow\")\n",
    "      else:\n",
    "        print(chr_1, \"Wins round\", round)\n",
    "    elif chr_2_dice > chr_1_dice:\n",
    "      chr_1_dice -= differ\n",
    "      if round == 1:\n",
    "        print(chr_2, \"winns the first blow\")\n",
    "      else:\n",
    "        print(chr_2, \"Wins round\", round)\n",
    "    else:\n",
    "      print(\"their swords clashed and they draw the round\", round)\n",
    "    print(chr_1)\n",
    "    print(\"Health\", chr_2_h)\n",
    "    print(chr_1)\n",
    "    print(\"Health\", chr_2_h)\n",
    "    if chr_1_h <=0:\n",
    "      print(chr_1, \"has died a honourable Death\")\n",
    "    elif chr_2 <=0:\n",
    "      print(chr_2, \"has died a honourable Death\")\n",
    "    else:\n",
    "      print(\"both are standing and going to face each other in next round\")\n",
    "      round += 1"
   ]
  },
  {
   "cell_type": "code",
   "execution_count": null,
   "metadata": {},
   "outputs": [],
   "source": []
  }
 ],
 "metadata": {
  "kernelspec": {
   "display_name": "Python 3 (ipykernel)",
   "language": "python",
   "name": "python3"
  },
  "language_info": {
   "codemirror_mode": {
    "name": "ipython",
    "version": 3
   },
   "file_extension": ".py",
   "mimetype": "text/x-python",
   "name": "python",
   "nbconvert_exporter": "python",
   "pygments_lexer": "ipython3",
   "version": "3.10.13"
  }
 },
 "nbformat": 4,
 "nbformat_minor": 4
}
