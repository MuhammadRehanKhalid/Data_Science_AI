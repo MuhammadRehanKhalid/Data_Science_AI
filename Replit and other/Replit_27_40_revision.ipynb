{
 "cells": [
  {
   "cell_type": "code",
   "execution_count": 5,
   "metadata": {},
   "outputs": [
    {
     "name": "stdout",
     "output_type": "stream",
     "text": [
      "⚔️⚔️⚔️⚔️⚔️EPIC Health Stat Generator⚔️⚔️⚔️⚔️⚔️\n",
      "\n"
     ]
    },
    {
     "name": "stdin",
     "output_type": "stream",
     "text": [
      "Name of the legend: hunter\n",
      "Enter the type of the character(Human, Elf, Wizard, Orc:\n",
      ") Human\n"
     ]
    },
    {
     "name": "stdout",
     "output_type": "stream",
     "text": [
      "hunter\n",
      "Health 12.5\n",
      "Strength 14.5\n",
      "hunter May you Go down in legends with health of 20.0 and Strenght of 16.5\n"
     ]
    }
   ],
   "source": [
    "import random, os, time\n",
    "\n",
    "def roll_dice(side):\n",
    "  result  =  random.randint(1,side)\n",
    "  return result\n",
    "def health():\n",
    "  healthstat = ((roll_dice(5)*roll_dice(12))/2)+10\n",
    "  return  healthstat\n",
    "def strength():\n",
    "  strength_stat = ((roll_dice(6)*roll_dice(8))/2)+12\n",
    "  return strength_stat\n",
    "while True:\n",
    "  print(\"⚔️⚔️⚔️⚔️⚔️EPIC Health Stat Generator⚔️⚔️⚔️⚔️⚔️\")\n",
    "  print()\n",
    "  name = input(\"Name of the legend:\")\n",
    "  chr_type = input(\"Enter the type of the character(Human, Elf, Wizard, Orc:\\n)\")\n",
    "  print(name)\n",
    "  print(\"Health\", health())\n",
    "  print(\"Strength\", strength())\n",
    "  print(f'{name} May you Go down in legends with health of {health()} and Strenght of {strength()}')\n",
    "  break"
   ]
  },
  {
   "cell_type": "code",
   "execution_count": null,
   "metadata": {},
   "outputs": [],
   "source": [
    "import random, os, time\n",
    "\n",
    "def roll_dice(side):\n",
    "  result  =  random.randint(1,side)\n",
    "  return result\n",
    "def health():\n",
    "  healthstat = ((roll_dice(5)*roll_dice(12))/2)+10\n",
    "  return  healthstat\n",
    "def strength():\n",
    "  strength_stat = ((roll_dice(6)*roll_dice(8))/2)+12\n",
    "  return strength_stat\n",
    "while True:\n",
    "  print(\"⚔️⚔️⚔️⚔️⚔️EPIC Health Stat Generator⚔️⚔️⚔️⚔️⚔️\")\n",
    "  print()\n",
    "  chr_1 = input(\"Name of the legend:\")\n",
    "  chr_1_type = input(\"Enter the type of the character(Human, Elf, Wizard, Orc:\\n)\")\n",
    "  chr_2 = input(\"Name of the legend:\")\n",
    "  chr_2_type = input(\"Enter the type of the character(Human, Elf, Wizard, Orc:\\n)\"\")"
   ]
  }
 ],
 "metadata": {
  "kernelspec": {
   "display_name": "Python 3 (ipykernel)",
   "language": "python",
   "name": "python3"
  },
  "language_info": {
   "codemirror_mode": {
    "name": "ipython",
    "version": 3
   },
   "file_extension": ".py",
   "mimetype": "text/x-python",
   "name": "python",
   "nbconvert_exporter": "python",
   "pygments_lexer": "ipython3",
   "version": "3.10.13"
  }
 },
 "nbformat": 4,
 "nbformat_minor": 4
}
