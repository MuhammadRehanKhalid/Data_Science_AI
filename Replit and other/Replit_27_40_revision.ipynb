{
 "cells": [
  {
   "cell_type": "code",
   "execution_count": null,
   "metadata": {},
   "outputs": [],
   "source": [
    "import random, os, time\n",
    "\n",
    "def roll_dice(side):\n",
    "  result  =  random.randint(1,side)\n",
    "  return result\n",
    "def health():\n",
    "  healthstat = ((roll_dice(5)*roll_dice(12))/2)+10\n",
    "  return  healthstat\n",
    "def strength():\n",
    "  strength_stat = ((roll_dice(6)*roll_dice(8))/2)+12\n",
    "  "
   ]
  }
 ],
 "metadata": {
  "kernelspec": {
   "display_name": "Python 3 (ipykernel)",
   "language": "python",
   "name": "python3"
  },
  "language_info": {
   "codemirror_mode": {
    "name": "ipython",
    "version": 3
   },
   "file_extension": ".py",
   "mimetype": "text/x-python",
   "name": "python",
   "nbconvert_exporter": "python",
   "pygments_lexer": "ipython3",
   "version": "3.10.13"
  }
 },
 "nbformat": 4,
 "nbformat_minor": 4
}
