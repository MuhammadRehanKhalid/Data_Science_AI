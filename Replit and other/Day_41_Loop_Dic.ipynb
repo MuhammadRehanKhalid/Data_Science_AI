{
 "cells": [
  {
   "cell_type": "code",
   "execution_count": null,
   "metadata": {},
   "outputs": [],
   "source": [
    "# name Card\n",
    "name = input(\"Enter your name: \")\n",
    "dob = input('Please enter your date of birth: ')\n",
    "tel = input('Please enter your phone number: ')\n",
    "eml = input('Please enter your email address: ')\n",
    "add = input('Please enter your address: ')\n",
    "\n",
    "# Done dictionary\n",
    "dictionary = {\n",
    "    'name' : name,\n",
    "    'Date of Birth' : dob,\n",
    "    'Telephone' : tel,\n",
    "    'Email' : eml,\n",
    "    'Address' : add\n",
    "}\n",
    "print(dictionary)\n",
    "\n"
   ]
  },
  {
   "cell_type": "code",
   "execution_count": 12,
   "metadata": {},
   "outputs": [
    {
     "name": "stdout",
     "output_type": "stream",
     "text": [
      "Name: Rehan Khalid\n",
      "Date of Birth: 11-05-2021\n",
      "Telephone: 3015900054\n",
      "Email: m.rehankhalid786@gmail.com\n",
      "Address: p-1376/2, St# 05, Nasirabad, Nishatabad\n"
     ]
    }
   ],
   "source": [
    "dictionary = {\n",
    "    'Name' : 'Rehan Khalid',\n",
    "    'Date of Birth' : '11-05-2021',\n",
    "    'Telephone' : 3015900054,\n",
    "    'Email' : 'm.rehankhalid786@gmail.com',\n",
    "    'Address' : 'p-1376/2, St# 05, Nasirabad, Nishatabad'\n",
    "}\n",
    "# just the names or values\n",
    "# print(dictionary)\n",
    "# for i in dictionary.values():\n",
    "#     print(i)\n",
    "# need to ge vaiable names stored\n",
    "for  i, j in dictionary.items():\n",
    "    print(f\"{i}: {j}\")"
   ]
  },
  {
   "cell_type": "code",
   "execution_count": 1,
   "metadata": {},
   "outputs": [
    {
     "name": "stdout",
     "output_type": "stream",
     "text": [
      "\n",
      "name: Rehan\n",
      "url: rehanb\n",
      "desc: rehan\n",
      "rating: rehan\n"
     ]
    }
   ],
   "source": [
    "website = {\"name\": None, \"url\": None, \"desc\": None, \"rating\": None}\n",
    "\n",
    "for name in website.keys():\n",
    "  website[name] = input(f\"{name}: \")\n",
    "\n",
    "print()\n",
    "for name, value in website.items():\n",
    "  print(f\"{name}: {value}\")"
   ]
  },
  {
   "cell_type": "code",
   "execution_count": 21,
   "metadata": {},
   "outputs": [
    {
     "name": "stdout",
     "output_type": "stream",
     "text": [
      "10\n",
      "9\n",
      "8\n",
      "7\n",
      "6\n",
      "5\n",
      "4\n",
      "3\n",
      "2\n"
     ]
    }
   ],
   "source": [
    "import os, time\n",
    "\n",
    "for i in range(10,1,-1):\n",
    "    print(i)\n",
    "    time.sleep(.2)\n",
    "    os.system('cls')"
   ]
  }
 ],
 "metadata": {
  "kernelspec": {
   "display_name": "base",
   "language": "python",
   "name": "python3"
  },
  "language_info": {
   "codemirror_mode": {
    "name": "ipython",
    "version": 3
   },
   "file_extension": ".py",
   "mimetype": "text/x-python",
   "name": "python",
   "nbconvert_exporter": "python",
   "pygments_lexer": "ipython3",
   "version": "3.11.5"
  }
 },
 "nbformat": 4,
 "nbformat_minor": 2
}
