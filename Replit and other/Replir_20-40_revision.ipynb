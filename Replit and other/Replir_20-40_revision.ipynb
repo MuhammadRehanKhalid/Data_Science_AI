{
 "cells": [
  {
   "cell_type": "code",
   "execution_count": 1,
   "metadata": {},
   "outputs": [
    {
     "name": "stdout",
     "output_type": "stream",
     "text": [
      "Enter the Total Bill:  231\n",
      "Enter Number of person you want to divide:  5\n"
     ]
    },
    {
     "name": "stdout",
     "output_type": "stream",
     "text": [
      "Total Bill of yours is  242.55 and per head bill will be 46.2\n"
     ]
    }
   ],
   "source": [
    "# day 10 Prject\n",
    "total_bill = int(input(\"Enter the Total Bill: \"))\n",
    "person_per = int(input(\"Enter Number of person you want to divide: \"))\n",
    "per_head = total_bill / person_per\n",
    "tip_ob = total_bill /100 * 5\n",
    "print('Total Bill of yours is ', total_bill + tip_ob, 'and per head bill will be', per_head)"
   ]
  },
  {
   "cell_type": "code",
   "execution_count": 10,
   "metadata": {},
   "outputs": [
    {
     "name": "stdout",
     "output_type": "stream",
     "text": [
      "Epic Battle of 🪨📃✂️Rock Paper Scissor\n",
      "Welcome the Chosen one\n",
      "Hello Sire!, Please choose your move as R for Rock, P for Paper and S for Scissor\n",
      "Its a draw\n",
      "Its a draw\n",
      "Player 2 rock smashed player 1 scissors into pieces\n",
      "Player 1 rock smashed player 2 scissors into pieces\n",
      "Its a draw\n"
     ]
    }
   ],
   "source": [
    "from getpass import getpass \n",
    "print('Epic Battle of 🪨📃✂️Rock Paper Scissor')\n",
    "print('Welcome the Chosen one')\n",
    "print('Hello Sire!, Please choose your move as R for Rock, P for Paper and S for Scissor')\n",
    "\n",
    "while True:\n",
    "    pl_1 = input(\"Player 1: \").upper()\n",
    "    pl_2 = input(\"Player 2: \").upper()\n",
    "\n",
    "    if pl_1 == 'R':\n",
    "        if pl_2 == 'P':\n",
    "            print('Player 1 rock was smoothered by the player 2 paper')\n",
    "        elif pl_2 == 'S':\n",
    "            print('Player 1 rock smashed player 2 scissors into pieces')\n",
    "        else:\n",
    "            print('Its a draw')\n",
    "    elif pl_1 ==  'P':\n",
    "        if pl_2 == 'R':\n",
    "            print('Player 2 rock smoothered player 1 paper')\n",
    "        elif pl_2 == 'S':\n",
    "            print('Player 2 scissors cut player 1 paper into pieces')\n",
    "        else:\n",
    "            print('Its a draw')\n",
    "    elif pl_1 == 'S':\n",
    "        if pl_2 == 'R':\n",
    "            print('Player 2 rock smashed player 1 scissors into pieces')\n",
    "        elif pl_2 == 'P':\n",
    "            print('Player 1 scissors cut player 2 paper into pieces')\n",
    "        else:\n",
    "            print('Its a draw')\n",
    "    else:\n",
    "        print('Invalid Move')\n",
    "\n",
    "    con_1 = input(\"Would you like to continue (Y/N): \").upper()\n",
    "    if con_1 != 'Y':\n",
    "        break"
   ]
  },
  {
   "cell_type": "code",
   "execution_count": 1,
   "metadata": {},
   "outputs": [
    {
     "name": "stdout",
     "output_type": "stream",
     "text": [
      "0\n",
      "1\n",
      "2\n",
      "3\n",
      "4\n",
      "5\n",
      "6\n",
      "7\n",
      "8\n",
      "9\n"
     ]
    }
   ],
   "source": [
    "counter = 0\n",
    "while counter < 10:\n",
    "  print(counter)\n",
    "  counter += 1"
   ]
  },
  {
   "cell_type": "code",
   "execution_count": 4,
   "metadata": {},
   "outputs": [
    {
     "name": "stdout",
     "output_type": "stream",
     "text": [
      "🥳🥳🥳🥳🥳🥳🥳🥳🥳\n"
     ]
    },
    {
     "name": "stdout",
     "output_type": "stream",
     "text": [
      "Would like me to get you out?:  muhammad\n"
     ]
    },
    {
     "name": "stdout",
     "output_type": "stream",
     "text": [
      "🥳🥳🥳🥳🥳🥳🥳🥳🥳\n"
     ]
    },
    {
     "name": "stdout",
     "output_type": "stream",
     "text": [
      "Would like me to get you out?:  no\n"
     ]
    },
    {
     "name": "stdout",
     "output_type": "stream",
     "text": [
      "🥳🥳🥳🥳🥳🥳🥳🥳🥳\n"
     ]
    },
    {
     "name": "stdout",
     "output_type": "stream",
     "text": [
      "Would like me to get you out?:  no\n"
     ]
    },
    {
     "name": "stdout",
     "output_type": "stream",
     "text": [
      "🥳🥳🥳🥳🥳🥳🥳🥳🥳\n"
     ]
    },
    {
     "name": "stdout",
     "output_type": "stream",
     "text": [
      "Would like me to get you out?:  yes\n"
     ]
    }
   ],
   "source": [
    "exit = ''\n",
    "while exit != 'yes':\n",
    "  print('🥳🥳🥳🥳🥳🥳🥳🥳🥳')\n",
    "  exit = input('Would like me to get you out?: ').lower()"
   ]
  },
  {
   "cell_type": "code",
   "execution_count": 1,
   "metadata": {},
   "outputs": [
    {
     "name": "stdout",
     "output_type": "stream",
     "text": [
      "Program is running\n",
      "Program is running\n",
      "Program is running\n",
      "Program is running\n",
      "Program is running\n"
     ]
    }
   ],
   "source": [
    "while True:\n",
    "    print('Program is running')\n",
    "    repeat = input('What would you like to do?: ').lower()\n",
    "    if repeat == 'stop':\n",
    "        break\n",
    "    else:\n",
    "        continue"
   ]
  },
  {
   "cell_type": "code",
   "execution_count": 12,
   "metadata": {},
   "outputs": [
    {
     "name": "stdout",
     "output_type": "stream",
     "text": [
      "I never Going to _______ you up.\n",
      "Nope, Try Again 😭😭😭\n",
      "I never Going to _______ you up.\n",
      "Nope, Try Again 😭😭😭\n",
      "I never Going to _______ you up.\n",
      "Nope, Try Again 😭😭😭\n",
      "I never Going to _______ you up.\n",
      "Nope, Try Again 😭😭😭\n",
      "I never Going to _______ you up.\n",
      "Nope, Try Again 😭😭😭\n",
      "I never Going to _______ you up.\n",
      "Nope, Try Again 😭😭😭\n",
      "I never Going to _______ you up.\n",
      "Nope, Try Again 😭😭😭\n",
      "I never Going to _______ you up.\n",
      "Nope, Try Again 😭😭😭\n",
      "I never Going to _______ you up.\n",
      "Nope, Try Again 😭😭😭\n",
      "I never Going to _______ you up.\n",
      "yes you choose the right answer\n",
      "wel done it took you 9 attempts to guess\n"
     ]
    }
   ],
   "source": [
    "count = int()\n",
    "while True:\n",
    "    print('I never Going to _______ you up.')\n",
    "    phar_1 = input('Guess the Word in Blanks:').lower()\n",
    "    if phar_1 == 'giveup':\n",
    "        print(\"yes you choose the right answer\")\n",
    "        break\n",
    "    elif phar_1 != 'giveup':\n",
    "        print('Nope, Try Again 😭😭😭')\n",
    "        count += 1\n",
    "        continue\n",
    "    else:\n",
    "        print('Invalid Input')\n",
    "        exit()\n",
    "print('wel done it took you',count,'attempts to guess')"
   ]
  },
  {
   "cell_type": "code",
   "execution_count": 16,
   "metadata": {},
   "outputs": [
    {
     "name": "stdout",
     "output_type": "stream",
     "text": [
      "Where Would you like to go today? :\n",
      "You are genious, you found the way out\n",
      "Where Would you like to go today? :\n",
      "You are genious, you found the way out\n",
      "Where Would you like to go today? :\n",
      "You are stuck in the loop\n",
      "Where Would you like to go today? :\n",
      "You fell for your miserable death\n",
      "the game is over, you failed 1 before meeting death\n"
     ]
    },
    {
     "ename": "",
     "evalue": "",
     "output_type": "error",
     "traceback": [
      "\u001b[1;31mThe Kernel crashed while executing code in the current cell or a previous cell. \n",
      "\u001b[1;31mPlease review the code in the cell(s) to identify a possible cause of the failure. \n",
      "\u001b[1;31mClick <a href='https://aka.ms/vscodeJupyterKernelCrash'>here</a> for more info. \n",
      "\u001b[1;31mView Jupyter <a href='command:jupyter.viewOutput'>log</a> for further details."
     ]
    }
   ],
   "source": [
    "#17 Day ------ While Loop Continue Loop-----#\n",
    "#Already Done in previous one\n",
    "countr = int()\n",
    "while True:\n",
    "    print(\"Where Would you like to go today? :\")\n",
    "    side = input('Please enter the directions: ').lower()\n",
    "    if side == \"left\":\n",
    "        print(\"You fell for your miserable death\")\n",
    "        break\n",
    "    elif side == \"right\":\n",
    "        print(\"You are stuck in the loop\")\n",
    "        countr += 1\n",
    "        continue\n",
    "    else:\n",
    "        print(\"You are genious, you found the way out\")\n",
    "        exit()\n",
    "print('the game is over, you failed',countr,'times before meeting death')\n",
    "        "
   ]
  },
  {
   "cell_type": "code",
   "execution_count": 1,
   "metadata": {},
   "outputs": [
    {
     "name": "stdout",
     "output_type": "stream",
     "text": [
      "Guess the number between 1 and 1000000\n",
      "          number have to be largest or smallest like 10000 or 99999\n",
      "          not anything else\n",
      "Too High, please guess little low\n",
      "Guess the number between 1 and 1000000\n",
      "          number have to be largest or smallest like 10000 or 99999\n",
      "          not anything else\n",
      "Too High, please guess little low\n",
      "Guess the number between 1 and 1000000\n",
      "          number have to be largest or smallest like 10000 or 99999\n",
      "          not anything else\n",
      "Number is too low, please add some more\n",
      "Guess the number between 1 and 1000000\n",
      "          number have to be largest or smallest like 10000 or 99999\n",
      "          not anything else\n",
      "Too High, please guess little low\n",
      "Guess the number between 1 and 1000000\n",
      "          number have to be largest or smallest like 10000 or 99999\n",
      "          not anything else\n",
      "Number is too low, please add some more\n",
      "Guess the number between 1 and 1000000\n",
      "          number have to be largest or smallest like 10000 or 99999\n",
      "          not anything else\n",
      "Error 404- Please start again\n",
      "Number is too low, please add some more\n",
      "Guess the number between 1 and 1000000\n",
      "          number have to be largest or smallest like 10000 or 99999\n",
      "          not anything else\n",
      "Error 404- Please start again\n",
      "Number is too low, please add some more\n",
      "Guess the number between 1 and 1000000\n",
      "          number have to be largest or smallest like 10000 or 99999\n",
      "          not anything else\n"
     ]
    },
    {
     "ename": "ValueError",
     "evalue": "invalid literal for int() with base 10: ''",
     "output_type": "error",
     "traceback": [
      "\u001b[1;31m---------------------------------------------------------------------------\u001b[0m",
      "\u001b[1;31mValueError\u001b[0m                                Traceback (most recent call last)",
      "Cell \u001b[1;32mIn[1], line 8\u001b[0m\n\u001b[0;32m      4\u001b[0m num_1 \u001b[38;5;241m=\u001b[39m \u001b[38;5;241m99999\u001b[39m\n\u001b[0;32m      5\u001b[0m \u001b[38;5;28mprint\u001b[39m(\u001b[38;5;124m'''\u001b[39m\u001b[38;5;124mGuess the number between 1 and 1000000\u001b[39m\n\u001b[0;32m      6\u001b[0m \u001b[38;5;124m      number have to be largest or smallest like 10000 or 99999\u001b[39m\n\u001b[0;32m      7\u001b[0m \u001b[38;5;124m      not anything else\u001b[39m\u001b[38;5;124m'''\u001b[39m)\n\u001b[1;32m----> 8\u001b[0m num_0 \u001b[38;5;241m=\u001b[39m \u001b[38;5;28;43mint\u001b[39;49m\u001b[43m(\u001b[49m\u001b[38;5;28;43minput\u001b[39;49m\u001b[43m(\u001b[49m\u001b[38;5;124;43m'\u001b[39;49m\u001b[38;5;124;43mPlease enter the number: \u001b[39;49m\u001b[38;5;124;43m'\u001b[39;49m\u001b[43m)\u001b[49m\u001b[43m)\u001b[49m\n\u001b[0;32m      9\u001b[0m \u001b[38;5;28;01mif\u001b[39;00m num_0 \u001b[38;5;241m<\u001b[39m \u001b[38;5;241m0\u001b[39m:\n\u001b[0;32m     10\u001b[0m     \u001b[38;5;28mprint\u001b[39m(\u001b[38;5;124m'\u001b[39m\u001b[38;5;124mError 404- Please start again\u001b[39m\u001b[38;5;124m'\u001b[39m)\n",
      "\u001b[1;31mValueError\u001b[0m: invalid literal for int() with base 10: ''"
     ]
    },
    {
     "ename": "",
     "evalue": "",
     "output_type": "error",
     "traceback": [
      "\u001b[1;31mThe Kernel crashed while executing code in the current cell or a previous cell. \n",
      "\u001b[1;31mPlease review the code in the cell(s) to identify a possible cause of the failure. \n",
      "\u001b[1;31mClick <a href='https://aka.ms/vscodeJupyterKernelCrash'>here</a> for more info. \n",
      "\u001b[1;31mView Jupyter <a href='command:jupyter.viewOutput'>log</a> for further details."
     ]
    }
   ],
   "source": [
    "# Project day 18---------#\n",
    "coun = 1\n",
    "while True:\n",
    "    num_1 = 99999\n",
    "    print('''Guess the number between 1 and 1000000\n",
    "            number have to be largest or smallest like 10000 or 99999\n",
    "            not anything else''')\n",
    "    num_0 = int(input('Please enter the number: '))\n",
    "    if num_0 < 0:\n",
    "        print('Error 404- Please start again')\n",
    "        exit()\n",
    "    if num_0 >= num_1:\n",
    "        print('Too High, please guess little low')\n",
    "        coun += 1\n",
    "        continue\n",
    "    elif num_0 < num_1:\n",
    "        print('Number is too low, please add some more')\n",
    "        coun += 1\n",
    "        continue\n",
    "    elif num_0 == num_1:\n",
    "        print('Yes you have guessed the right number')\n",
    "        break\n",
    "    else:\n",
    "        print(\"That is not a number, Keep Trying\")\n",
    "    print('You have guessed the number in',coun,'attempts')"
   ]
  },
  {
   "cell_type": "code",
   "execution_count": 2,
   "metadata": {},
   "outputs": [
    {
     "name": "stdout",
     "output_type": "stream",
     "text": [
      "Guess the number between 1 and 1000000\n",
      "            number have to be largest or smallest like 10000 or 99999\n",
      "            not anything else\n",
      "Number is too low, please add some more\n",
      "Guess the number between 1 and 1000000\n",
      "            number have to be largest or smallest like 10000 or 99999\n",
      "            not anything else\n",
      "Error 404- Please start again\n",
      "Guess the number between 1 and 1000000\n",
      "            number have to be largest or smallest like 10000 or 99999\n",
      "            not anything else\n"
     ]
    },
    {
     "ename": "ValueError",
     "evalue": "invalid literal for int() with base 10: ''",
     "output_type": "error",
     "traceback": [
      "\u001b[1;31m---------------------------------------------------------------------------\u001b[0m",
      "\u001b[1;31mValueError\u001b[0m                                Traceback (most recent call last)",
      "Cell \u001b[1;32mIn[2], line 8\u001b[0m\n\u001b[0;32m      4\u001b[0m \u001b[38;5;28;01mwhile\u001b[39;00m \u001b[38;5;28;01mTrue\u001b[39;00m:\n\u001b[0;32m      5\u001b[0m     \u001b[38;5;28mprint\u001b[39m(\u001b[38;5;124m'''\u001b[39m\u001b[38;5;124mGuess the number between 1 and 1000000\u001b[39m\n\u001b[0;32m      6\u001b[0m \u001b[38;5;124m            number have to be largest or smallest like 10000 or 99999\u001b[39m\n\u001b[0;32m      7\u001b[0m \u001b[38;5;124m            not anything else\u001b[39m\u001b[38;5;124m'''\u001b[39m)\n\u001b[1;32m----> 8\u001b[0m     num_0 \u001b[38;5;241m=\u001b[39m \u001b[38;5;28;43mint\u001b[39;49m\u001b[43m(\u001b[49m\u001b[38;5;28;43minput\u001b[39;49m\u001b[43m(\u001b[49m\u001b[38;5;124;43m'\u001b[39;49m\u001b[38;5;124;43mPlease enter the number: \u001b[39;49m\u001b[38;5;124;43m'\u001b[39;49m\u001b[43m)\u001b[49m\u001b[43m)\u001b[49m\n\u001b[0;32m      9\u001b[0m     \u001b[38;5;28;01mif\u001b[39;00m num_0 \u001b[38;5;241m<\u001b[39m \u001b[38;5;241m0\u001b[39m:\n\u001b[0;32m     10\u001b[0m         \u001b[38;5;28mprint\u001b[39m(\u001b[38;5;124m'\u001b[39m\u001b[38;5;124mError 404- Please start again\u001b[39m\u001b[38;5;124m'\u001b[39m)\n",
      "\u001b[1;31mValueError\u001b[0m: invalid literal for int() with base 10: ''"
     ]
    },
    {
     "ename": "",
     "evalue": "",
     "output_type": "error",
     "traceback": [
      "\u001b[1;31mThe Kernel crashed while executing code in the current cell or a previous cell. \n",
      "\u001b[1;31mPlease review the code in the cell(s) to identify a possible cause of the failure. \n",
      "\u001b[1;31mClick <a href='https://aka.ms/vscodeJupyterKernelCrash'>here</a> for more info. \n",
      "\u001b[1;31mView Jupyter <a href='command:jupyter.viewOutput'>log</a> for further details."
     ]
    }
   ],
   "source": [
    "# Project day 18---------#\n",
    "coun = 1\n",
    "num_1 = 99999\n",
    "while True:\n",
    "    print('''Guess the number between 1 and 1000000\n",
    "            number have to be largest or smallest like 10000 or 99999\n",
    "            not anything else''')\n",
    "    num_0 = int(input('Please enter the number: '))\n",
    "    if num_0 < 0:\n",
    "        print('Error 404- Please start again')\n",
    "        exit()\n",
    "    elif num_0 > num_1:\n",
    "        print('Too High, please guess little low')\n",
    "        coun += 1\n",
    "    elif num_0 < num_1:\n",
    "        print('Number is too low, please add some more')\n",
    "        coun += 1\n",
    "    elif num_0 == num_1:\n",
    "        print('Yes you have guessed the right number')\n",
    "        print('You have guessed the number in',coun,'attempts')\n",
    "        break"
   ]
  },
  {
   "cell_type": "code",
   "execution_count": null,
   "metadata": {},
   "outputs": [],
   "source": [
    "# For Loop\n",
    "for counter in range(10):\n",
    "    print(counter)\n",
    "for i in range(10):\n",
    "    print(i)\n",
    "total = 0\n",
    "for i in range(1000):\n",
    "    total += i\n",
    "    print(total)"
   ]
  },
  {
   "cell_type": "code",
   "execution_count": 4,
   "metadata": {},
   "outputs": [
    {
     "name": "stdout",
     "output_type": "stream",
     "text": [
      "Day 1\n",
      "Day 2\n",
      "Day 3\n",
      "Day 4\n",
      "Day 5\n",
      "Day 6\n",
      "Day 7\n"
     ]
    }
   ],
   "source": [
    "for days in range(7):\n",
    "  print('Day', days+1)"
   ]
  },
  {
   "cell_type": "code",
   "execution_count": 23,
   "metadata": {},
   "outputs": [
    {
     "name": "stdout",
     "output_type": "stream",
     "text": [
      "Loan Amount:  10000000\n",
      "Enter APR:  25\n",
      "Enter time period of loan 10\n"
     ]
    },
    {
     "name": "stdout",
     "output_type": "stream",
     "text": [
      "Year 1 Total Payment 12500000.0\n",
      "Year 2 Total Payment 15625000.0\n",
      "Year 3 Total Payment 19531250.0\n",
      "Year 4 Total Payment 24414062.5\n",
      "Year 5 Total Payment 30517578.125\n",
      "Year 6 Total Payment 38146972.65625\n",
      "Year 7 Total Payment 47683715.8203125\n",
      "Year 8 Total Payment 59604644.775390625\n",
      "Year 9 Total Payment 74505805.96923828\n",
      "Year 10 Total Payment 93132257.46154785\n"
     ]
    }
   ],
   "source": [
    "# Borrow 1000$ for 10years over and APR of 5%\n",
    "loan = int(input('Loan Amount: '))\n",
    "percentage = float(input('Enter APR: '))/100\n",
    "year = int(input('Enter time period of loan'))\n",
    "for i in range(year):\n",
    "  interest = loan * percentage\n",
    "  total_payment = loan + interest\n",
    "  print('Year',i+1, 'Total Payment', total_payment)\n",
    "  loan = total_payment\n",
    "  "
   ]
  },
  {
   "cell_type": "code",
   "execution_count": 24,
   "metadata": {},
   "outputs": [
    {
     "name": "stdout",
     "output_type": "stream",
     "text": [
      "Loan Amount:  1000\n",
      "Enter APR:  5\n",
      "Enter time period of loan:  10\n"
     ]
    },
    {
     "name": "stdout",
     "output_type": "stream",
     "text": [
      "Year: 1 Total Payment: 1050.0\n",
      "Year: 2 Total Payment: 1102.5\n",
      "Year: 3 Total Payment: 1157.625\n",
      "Year: 4 Total Payment: 1215.50625\n",
      "Year: 5 Total Payment: 1276.2815624999998\n",
      "Year: 6 Total Payment: 1340.0956406249998\n",
      "Year: 7 Total Payment: 1407.1004226562497\n",
      "Year: 8 Total Payment: 1477.4554437890622\n",
      "Year: 9 Total Payment: 1551.3282159785153\n",
      "Year: 10 Total Payment: 1628.894626777441\n"
     ]
    }
   ],
   "source": [
    "loan = int(input('Loan Amount: '))\n",
    "percentage = float(input('Enter APR: ')) / 100  # Convert percentage to a decimal\n",
    "year = int(input('Enter time period of loan: '))\n",
    "\n",
    "for i in range(year):\n",
    "    interest = loan * percentage  # Calculate the interest for this year\n",
    "    total_payment = loan + interest\n",
    "    print(\"Year:\", i+1, \"Total Payment:\", total_payment)\n",
    "    loan = total_payment  # Update the loan amount for the next iteration\n"
   ]
  },
  {
   "cell_type": "code",
   "execution_count": 30,
   "metadata": {},
   "outputs": [
    {
     "name": "stdout",
     "output_type": "stream",
     "text": [
      "Day 1\n",
      "Day 2\n",
      "Day 3\n",
      "Day 4\n",
      "Day 5\n",
      "Day 6\n",
      "Day 7\n"
     ]
    }
   ],
   "source": [
    "# Day_20---Use of Range\n",
    "for i in range(1,8):\n",
    "  print('Day',i)"
   ]
  },
  {
   "cell_type": "code",
   "execution_count": 32,
   "metadata": {},
   "outputs": [
    {
     "name": "stdout",
     "output_type": "stream",
     "text": [
      "13 X  1 = 13\n",
      "13 X  2 = 26\n",
      "13 X  3 = 39\n",
      "13 X  4 = 52\n",
      "13 X  5 = 65\n",
      "13 X  6 = 78\n",
      "13 X  7 = 91\n",
      "13 X  8 = 104\n",
      "13 X  9 = 117\n",
      "13 X  10 = 130\n"
     ]
    }
   ],
   "source": [
    "# Range Table Print\n",
    "for i in range(1,11):\n",
    "  print('13 X ',i,'=',i*13)"
   ]
  },
  {
   "cell_type": "code",
   "execution_count": 3,
   "metadata": {},
   "outputs": [
    {
     "name": "stdout",
     "output_type": "stream",
     "text": [
      "10\n",
      "8\n",
      "6\n",
      "4\n",
      "2\n"
     ]
    }
   ],
   "source": [
    "# Counter system\n",
    "import os\n",
    "import time\n",
    "for i in range(10,0,-2):\n",
    "  print(i)\n",
    "  time.sleep(1)"
   ]
  },
  {
   "cell_type": "code",
   "execution_count": 1,
   "metadata": {},
   "outputs": [
    {
     "ename": "AttributeError",
     "evalue": "'TukeyHSDResults' object has no attribute 'summary_frame'",
     "output_type": "error",
     "traceback": [
      "\u001b[1;31m---------------------------------------------------------------------------\u001b[0m",
      "\u001b[1;31mAttributeError\u001b[0m                            Traceback (most recent call last)",
      "Cell \u001b[1;32mIn[1], line 21\u001b[0m\n\u001b[0;32m     18\u001b[0m tukey_results \u001b[38;5;241m=\u001b[39m mc\u001b[38;5;241m.\u001b[39mtukeyhsd()\n\u001b[0;32m     20\u001b[0m \u001b[38;5;66;03m# Compact letter display\u001b[39;00m\n\u001b[1;32m---> 21\u001b[0m cld \u001b[38;5;241m=\u001b[39m \u001b[43mtukey_results\u001b[49m\u001b[38;5;241;43m.\u001b[39;49m\u001b[43msummary_frame\u001b[49m()[\u001b[38;5;124m'\u001b[39m\u001b[38;5;124mreject\u001b[39m\u001b[38;5;124m'\u001b[39m]\u001b[38;5;241m.\u001b[39mmap({\u001b[38;5;28;01mTrue\u001b[39;00m: \u001b[38;5;124m'\u001b[39m\u001b[38;5;124ma\u001b[39m\u001b[38;5;124m'\u001b[39m, \u001b[38;5;28;01mFalse\u001b[39;00m: \u001b[38;5;124m'\u001b[39m\u001b[38;5;124mb\u001b[39m\u001b[38;5;124m'\u001b[39m})\n\u001b[0;32m     23\u001b[0m \u001b[38;5;66;03m# Table with mean, standard deviation, and letters\u001b[39;00m\n\u001b[0;32m     24\u001b[0m dt \u001b[38;5;241m=\u001b[39m tips\u001b[38;5;241m.\u001b[39mgroupby(\u001b[38;5;124m'\u001b[39m\u001b[38;5;124mday\u001b[39m\u001b[38;5;124m'\u001b[39m)\u001b[38;5;241m.\u001b[39magg({\u001b[38;5;124m'\u001b[39m\u001b[38;5;124mtip\u001b[39m\u001b[38;5;124m'\u001b[39m: [\u001b[38;5;124m'\u001b[39m\u001b[38;5;124mmean\u001b[39m\u001b[38;5;124m'\u001b[39m, \u001b[38;5;124m'\u001b[39m\u001b[38;5;124mstd\u001b[39m\u001b[38;5;124m'\u001b[39m]})\n",
      "\u001b[1;31mAttributeError\u001b[0m: 'TukeyHSDResults' object has no attribute 'summary_frame'"
     ]
    }
   ],
   "source": [
    "import pandas as pd\n",
    "import matplotlib.pyplot as plt\n",
    "import seaborn as sns\n",
    "from statsmodels.stats.multicomp import MultiComparison\n",
    "\n",
    "# Load the tips dataset from seaborn\n",
    "tips = sns.load_dataset('tips')\n",
    "\n",
    "# Analysis of variance\n",
    "from statsmodels.formula.api import ols\n",
    "from statsmodels.stats.anova import anova_lm\n",
    "\n",
    "model = ols('tip ~ day', data=tips).fit()\n",
    "anova_table = anova_lm(model)\n",
    "\n",
    "# Tukey's test\n",
    "mc = MultiComparison(tips['tip'], tips['day'])\n",
    "tukey_results = mc.tukeyhsd()\n",
    "\n",
    "# Compact letter display\n",
    "cld = tukey_results.summary_frame()['reject'].map({True: 'a', False: 'b'})\n",
    "\n",
    "# Table with mean, standard deviation, and letters\n",
    "dt = tips.groupby('day').agg({'tip': ['mean', 'std']})\n",
    "dt.columns = dt.columns.droplevel()\n",
    "dt['cld'] = cld\n",
    "dt = dt.reset_index()\n",
    "\n",
    "print(dt)\n",
    "\n",
    "# Barplot with error bars\n",
    "plt.figure(figsize=(8, 6))\n",
    "sns.barplot(x='day', y='mean', data=dt, ci='sd')\n",
    "plt.errorbar(x=dt['day'], y=dt['mean'], yerr=dt['std'], fmt='none', capsize=5, color='black')\n",
    "\n",
    "# Adding compact letters\n",
    "for i in range(len(dt)):\n",
    "    plt.text(x=i, y=dt['mean'][i] + dt['std'][i] + 0.5, s=dt['cld'][i], ha='center', va='center')\n",
    "\n",
    "plt.xlabel('Day of the Week')\n",
    "plt.ylabel('Average Tip Amount ($)')\n",
    "plt.tight_layout()\n",
    "plt.show()\n"
   ]
  },
  {
   "cell_type": "code",
   "execution_count": 4,
   "metadata": {},
   "outputs": [
    {
     "name": "stdout",
     "output_type": "stream",
     "text": [
      "Yummmyyyyyy!!, Chocolate Cake is delicious\n"
     ]
    }
   ],
   "source": [
    "# Subroutines______ Day_24-----------#\n",
    "def cake(ingredients,base,coating):\n",
    "    if ingredients == 'choccolate':\n",
    "        print(\"Yummmyyyyyy!!, Chocolate Cake is delicious\")\n",
    "    elif ingredients == 'broccoli':\n",
    "        print('You said Whattttttt')\n",
    "    else:\n",
    "        print('Yep, thats great I think')\n",
    "cake('choccolate')"
   ]
  },
  {
   "cell_type": "code",
   "execution_count": 2,
   "metadata": {},
   "outputs": [
    {
     "name": "stdout",
     "output_type": "stream",
     "text": [
      "Yep, thats great I think\n",
      "So you want a chocolate cake with a straberry base and caramel as a topping\n"
     ]
    }
   ],
   "source": [
    "# with user inputs\n",
    "def cake(ingredients,base,coating):\n",
    "    if ingredients == 'choccolate':\n",
    "        print(\"Yummmyyyyyy!!, Chocolate Cake is delicious\")\n",
    "    elif ingredients == 'broccoli':\n",
    "        print('You said Whattttttt')\n",
    "    else:\n",
    "        print('Yep, thats great I think')\n",
    "        print('So you want a',user_ing,'cake with a',user_base,'base and',user_coating,'as a topping')\n",
    "user_ing = input('Please enter which cake: ').lower()\n",
    "user_base = input('Please enter which for base: ').lower()\n",
    "user_coating = input('Please enter which Coating: ').lower()\n",
    "cake(user_ing,user_base,user_coating)"
   ]
  },
  {
   "cell_type": "code",
   "execution_count": 27,
   "metadata": {},
   "outputs": [
    {
     "name": "stdout",
     "output_type": "stream",
     "text": [
      "9731\n",
      "7184\n",
      "9547\n",
      "3658\n"
     ]
    }
   ],
   "source": [
    "import time\n",
    "import random as rd\n",
    "\n",
    "def pin_pic(num):\n",
    "    pin = \"\"\n",
    "    for i in range(num):\n",
    "        pin += str(rd.randint(0,9))\n",
    "    return pin\n",
    "\n",
    "count = 0\n",
    "while count < 4:\n",
    "    my_pin = pin_pic(4)\n",
    "    print(my_pin)\n",
    "    time.sleep(.5)\n",
    "    count += 1"
   ]
  },
  {
   "cell_type": "code",
   "execution_count": 56,
   "metadata": {},
   "outputs": [
    {
     "name": "stdout",
     "output_type": "stream",
     "text": [
      "⚔️⚔️⚔️⚔️⚔️EPIC Health Stat Generator⚔️⚔️⚔️⚔️⚔️\n",
      "\n",
      "\u001b[34mRehan's health stats are: 9\u001b[0m\n"
     ]
    }
   ],
   "source": [
    "# 25--- Character Stat Generator----------#\n",
    "#subroutine  which rolls dice of any sides and\n",
    "# returns that number\n",
    "# further subroutine which will roll dice 6 sided * 8 sided dice \n",
    "#multiples the number and retun the number as health\n",
    "import random as rd\n",
    "from termcolor import colored as cd\n",
    "\n",
    "\n",
    "def roll_dice(sides):\n",
    "    dice = rd.randint(1, sides)\n",
    "    return dice\n",
    "def roll_dice_6_8():\n",
    "    dice_6 = roll_dice(6)\n",
    "    dice_8 = roll_dice(8)\n",
    "    health = dice_6*dice_8\n",
    "    return health\n",
    "print(\"⚔️⚔️⚔️⚔️⚔️EPIC Health Stat Generator⚔️⚔️⚔️⚔️⚔️\")\n",
    "print() \n",
    "\n",
    "character = \"yes\"\n",
    "while character == \"yes\":\n",
    "    character_ = input(\"Enter your character name: \")\n",
    "    health = roll_dice_6_8()\n",
    "    color = rd.choice(['red', 'green', 'yellow', 'blue', 'magenta', 'cyan'])\n",
    "    print(cd(\"{}'s health stats are: {}\".format(character_, health), color))\n",
    "    character = input('Would you like to generate another character? (yes/no): ').lower()\n",
    "# colored(\"{}'s health stats are: {} and his strength is {} hp. He is {}.\"\n",
    "#                   .format(character, health1,strength1,type_of_character), color)"
   ]
  },
  {
   "cell_type": "code",
   "execution_count": 26,
   "metadata": {},
   "outputs": [
    {
     "name": "stdout",
     "output_type": "stream",
     "text": [
      "0\n",
      "1\n",
      "2\n"
     ]
    }
   ],
   "source": [
    "#day ------26, time and OS libraries#\n",
    "import time, os\n",
    "for i in range(3):\n",
    "    print(i)\n",
    "    time.sleep(1)\n",
    "    os.system(\"clear\")"
   ]
  },
  {
   "cell_type": "code",
   "execution_count": 10,
   "metadata": {},
   "outputs": [],
   "source": [
    "# Day- 26-----Music Player-------#\n",
    "import os, time\n",
    "from termcolor import colored as cd\n",
    "import random as rd\n",
    "import pygame.mixer as mixer\n",
    "color = rd.choice(['red', 'green', 'yellow', 'blue', 'magenta', 'cyan'])\n",
    "def music_player():\n",
    "    print(\"Welcome to Music Player\")\n",
    "    time.sleep(1)\n",
    "    print(\"1. Play Music\")\n",
    "    time.sleep(1)\n",
    "    print(\"2. Pause Music\")\n",
    "    time.sleep(1)\n",
    "    print(\"3. Back to make  Menu\")\n",
    "    time.sleep(1)\n",
    "    print(\"4. Exit the player\")\n",
    "    time.sleep(1)\n",
    "    while True:\n",
    "        choice = input(\"Enter your choice: \")\n",
    "        if choice == '1':\n",
    "            print(\"Playing Music\")\n",
    "            mixer.init()\n",
    "            source = mixer.music.load('D:/Jhumka-Jasmine-Sandlas.mp3')\n",
    "            source = mixer.music.play()\n",
    "            mixer.music.play()\n",
    "            time.sleep(1)\n",
    "        elif choice == '2':\n",
    "            print(\"Music Paused\")\n",
    "            mixer.music.pause()\n",
    "            time.sleep(1)\n",
    "        elif choice == '3':\n",
    "            music_player()\n",
    "        elif choice == '4':\n",
    "            break\n",
    "        else:\n",
    "            print(\"Invalid Input\")\n",
    "            continue\n",
    "            time.sleep(1)\n",
    "music_player()"
   ]
  },
  {
   "cell_type": "code",
   "execution_count": 1,
   "metadata": {},
   "outputs": [
    {
     "ename": "SyntaxError",
     "evalue": "unmatched ')' (3879141141.py, line 11)",
     "output_type": "error",
     "traceback": [
      "\u001b[1;36m  Cell \u001b[1;32mIn[1], line 11\u001b[1;36m\u001b[0m\n\u001b[1;33m    time.sleep(1))\u001b[0m\n\u001b[1;37m                 ^\u001b[0m\n\u001b[1;31mSyntaxError\u001b[0m\u001b[1;31m:\u001b[0m unmatched ')'\n"
     ]
    }
   ],
   "source": [
    "# Day- 26-----Music Player-------#\n",
    "import time\n",
    "import random as rd\n",
    "import pygame.mixer as mixer\n",
    "from termcolor import colored as cd\n",
    "\n",
    "def music_player():\n",
    "    print(cd(\"Welcome to Music Player\", rd.choice(['red', 'green', 'yellow', 'blue', 'magenta', 'cyan'])))\n",
    "    time.sleep(1)\n",
    "    print(cd(\"1. Play Music\"), rd.choice(['red', 'green', 'yellow', 'blue', 'magenta', 'cyan']))\n",
    "    time.sleep(1)\n",
    "    print(cd(\"2. Pause Music\"), rd.choice(['red', 'green', 'yellow', 'blue', 'magenta', 'cyan']))\n",
    "    time.sleep(1)\n",
    "    print(cd(\"3. Resume Music\"), rd.choice(['red', 'green', 'yellow', 'blue', 'magenta', 'cyan']))\n",
    "    time.sleep(1)\n",
    "    print(cd(\"4. Stop Music\"), rd.choice(['red', 'green', 'yellow', 'blue', 'magenta', 'cyan']))\n",
    "    time.sleep(1)\n",
    "    print(cd(\"5. Exit the player\"), rd.choice(['red', 'green', 'yellow', 'blue', 'magenta', 'cyan']))\n",
    "    time.sleep(1)\n",
    "\n",
    "    mixer.init()\n",
    "\n",
    "    while True:\n",
    "        choice = input(\"Enter your choice: \")\n",
    "        if choice == '1':\n",
    "            print(\"Playing Music\")\n",
    "            mixer.music.load('D:/Jhumka-Jasmine-Sandlas.mp3')\n",
    "            mixer.music.play()\n",
    "            time.sleep(1)\n",
    "        elif choice == '2':\n",
    "            if mixer.music.get_busy():\n",
    "                print(\"Music Paused\")\n",
    "                mixer.music.pause()\n",
    "            else:\n",
    "                print(\"No music is playing.\")\n",
    "            time.sleep(1)\n",
    "        elif choice == '3':\n",
    "            if mixer.music.get_busy():\n",
    "                print(\"Music Resumed\")\n",
    "                mixer.music.unpause()\n",
    "            else:\n",
    "                print(\"No music is paused.\")\n",
    "            time.sleep(1)\n",
    "        elif choice == '4':\n",
    "            if mixer.music.get_busy():\n",
    "                print(\"Music Stopped\")\n",
    "                mixer.music.stop()\n",
    "            else:\n",
    "                print(\"No music is playing.\")\n",
    "            time.sleep(1)\n",
    "        elif choice == '5':\n",
    "            print(\"Exiting the player\")\n",
    "            break\n",
    "        else:\n",
    "            print(\"Invalid Input\")\n",
    "            time.sleep(1)\n",
    "\n",
    "music_player()"
   ]
  }
 ],
 "metadata": {
  "kernelspec": {
   "display_name": "Python 3 (ipykernel)",
   "language": "python",
   "name": "python3"
  },
  "language_info": {
   "codemirror_mode": {
    "name": "ipython",
    "version": 3
   },
   "file_extension": ".py",
   "mimetype": "text/x-python",
   "name": "python",
   "nbconvert_exporter": "python",
   "pygments_lexer": "ipython3",
   "version": "3.11.7"
  }
 },
 "nbformat": 4,
 "nbformat_minor": 4
}
