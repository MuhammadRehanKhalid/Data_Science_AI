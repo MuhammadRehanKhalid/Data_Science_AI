{
 "cells": [
  {
   "cell_type": "code",
   "execution_count": 3,
   "metadata": {},
   "outputs": [
    {
     "name": "stdout",
     "output_type": "stream",
     "text": [
      "6\n",
      "5\n",
      "4\n",
      "3\n",
      "2\n",
      "1\n"
     ]
    }
   ],
   "source": [
    "# Day_21 Project\n",
    "import time\n",
    "for i in range(6,0,-1):\n",
    "  print(i)\n",
    "  time.sleep(1)"
   ]
  },
  {
   "cell_type": "code",
   "execution_count": 9,
   "metadata": {},
   "outputs": [
    {
     "name": "stdout",
     "output_type": "stream",
     "text": [
      "Welcome to Math Table Game\n"
     ]
    },
    {
     "name": "stdin",
     "output_type": "stream",
     "text": [
      "Enter the Number you want multiple of:  12\n"
     ]
    },
    {
     "name": "stdout",
     "output_type": "stream",
     "text": [
      "12 x 1 = 12 x 1 =\n"
     ]
    },
    {
     "name": "stdin",
     "output_type": "stream",
     "text": [
      "PLease enter the answer of the above multiple:  1\n"
     ]
    },
    {
     "name": "stdout",
     "output_type": "stream",
     "text": [
      "Incorrect answer\n",
      "Correct Answer is 12\n",
      "12 x 2 = 12 x 2 =\n"
     ]
    },
    {
     "name": "stdin",
     "output_type": "stream",
     "text": [
      "PLease enter the answer of the above multiple:  24\n"
     ]
    },
    {
     "name": "stdout",
     "output_type": "stream",
     "text": [
      "Horrayyyy!!!!🥳🥳🥳🥳🥳🥰🥰😎😎, You have guessed the right anser\n"
     ]
    },
    {
     "name": "stdin",
     "output_type": "stream",
     "text": [
      "want to play again:  yes\n"
     ]
    },
    {
     "name": "stdout",
     "output_type": "stream",
     "text": [
      "12 x 3 = 12 x 3 =\n"
     ]
    },
    {
     "name": "stdin",
     "output_type": "stream",
     "text": [
      "PLease enter the answer of the above multiple:  24\n"
     ]
    },
    {
     "name": "stdout",
     "output_type": "stream",
     "text": [
      "Incorrect answer\n",
      "Correct Answer is 36\n",
      "12 x 4 = 12 x 4 =\n"
     ]
    },
    {
     "name": "stdin",
     "output_type": "stream",
     "text": [
      "PLease enter the answer of the above multiple:  48\n"
     ]
    },
    {
     "name": "stdout",
     "output_type": "stream",
     "text": [
      "Horrayyyy!!!!🥳🥳🥳🥳🥳🥰🥰😎😎, You have guessed the right anser\n"
     ]
    },
    {
     "name": "stdin",
     "output_type": "stream",
     "text": [
      "want to play again:  yes\n"
     ]
    },
    {
     "name": "stdout",
     "output_type": "stream",
     "text": [
      "12 x 5 = 12 x 5 =\n"
     ]
    },
    {
     "name": "stdin",
     "output_type": "stream",
     "text": [
      "PLease enter the answer of the above multiple:  60\n"
     ]
    },
    {
     "name": "stdout",
     "output_type": "stream",
     "text": [
      "Horrayyyy!!!!🥳🥳🥳🥳🥳🥰🥰😎😎, You have guessed the right anser\n"
     ]
    },
    {
     "name": "stdin",
     "output_type": "stream",
     "text": [
      "want to play again:  yes\n"
     ]
    }
   ],
   "source": [
    "#Day_21 Project of math\n",
    "import random as rd\n",
    "print('Welcome to Math Table Game')\n",
    "multiple = int(input('Enter the Number you want multiple of: '))\n",
    "rand_range = rd.randint(1, 10)\n",
    "for i in range(1, rand_range + 1):\n",
    "  print(f'{multiple} x {i} = ', end='')\n",
    "  print(multiple , 'x', i , '=')\n",
    "  answer = i * multiple\n",
    "  u_ans = int(input('PLease enter the answer of the above multiple: '))\n",
    "  if u_ans == answer:\n",
    "    print('Horrayyyy!!!!🥳🥳🥳🥳🥳🥰🥰😎😎, You have guessed the right answer')\n",
    "    aga_in = input(\"want to play again: \").lower()\n",
    "    if aga_in == \"yes\":\n",
    "      continue\n",
    "    else:\n",
    "      break\n",
    "  else:\n",
    "    print(\"Incorrect answer\")\n",
    "    print('Correct Answer is',answer)\n",
    "   "
   ]
  },
  {
   "cell_type": "code",
   "execution_count": 35,
   "metadata": {},
   "outputs": [
    {
     "name": "stdout",
     "output_type": "stream",
     "text": [
      "Welcome to Math Table Game\n"
     ]
    },
    {
     "name": "stdin",
     "output_type": "stream",
     "text": [
      "Enter the number you want multiples of:  12\n"
     ]
    },
    {
     "name": "stdout",
     "output_type": "stream",
     "text": [
      "12 x 3 = "
     ]
    },
    {
     "name": "stdin",
     "output_type": "stream",
     "text": [
      "Please enter the answer of the above multiplication:  36\n"
     ]
    },
    {
     "name": "stdout",
     "output_type": "stream",
     "text": [
      "Horrayyyy!!!!🥳🥳🥳🥳🥳🥰🥰😎😎, You have guessed the right answer\n"
     ]
    },
    {
     "name": "stdin",
     "output_type": "stream",
     "text": [
      "Do you want to play again? (yes/no):  yes\n",
      "Enter the number you want multiples of:  34\n"
     ]
    },
    {
     "name": "stdout",
     "output_type": "stream",
     "text": [
      "34 x 5 = "
     ]
    },
    {
     "name": "stdin",
     "output_type": "stream",
     "text": [
      "Please enter the answer of the above multiplication:  170\n"
     ]
    },
    {
     "name": "stdout",
     "output_type": "stream",
     "text": [
      "Horrayyyy!!!!🥳🥳🥳🥳🥳🥰🥰😎😎, You have guessed the right answer\n"
     ]
    },
    {
     "name": "stdin",
     "output_type": "stream",
     "text": [
      "Do you want to play again? (yes/no):  no\n"
     ]
    },
    {
     "name": "stdout",
     "output_type": "stream",
     "text": [
      "Thanks for playing! You have guessed 2 correct answers out of 10\n"
     ]
    }
   ],
   "source": [
    "import random as rd\n",
    "print('Welcome to Math Table Game')\n",
    "coun = 0\n",
    "while True:\n",
    "    multiple = int(input('Enter the number you want multiples of: '))\n",
    "    \n",
    "    for i in range(1):\n",
    "        ran_int = rd.randint(1,10)\n",
    "        print(f'{multiple} x {ran_int} = ', end='')\n",
    "        correct_answer = ran_int * multiple\n",
    "        user_answer = int(input('Please enter the answer of the above multiplication: '))\n",
    "        if user_answer == correct_answer:\n",
    "            coun += 1\n",
    "            print('Horrayyyy!!!!🥳🥳🥳🥳🥳🥰🥰😎😎, You have guessed the right answer')\n",
    "        else:\n",
    "            print('Incorrect answer.')\n",
    "            print('Correct answer is:', correct_answer)\n",
    "            continue\n",
    "\n",
    "    play_again = input(\"Do you want to play again? (yes/no): \").lower()\n",
    "    if play_again != \"yes\":\n",
    "        break\n",
    "\n",
    "print(\"Thanks for playing! You have guessed\",coun,\"correct answers out of 10\")\n"
   ]
  },
  {
   "cell_type": "code",
   "execution_count": 31,
   "metadata": {},
   "outputs": [
    {
     "name": "stdout",
     "output_type": "stream",
     "text": [
      "80\n"
     ]
    }
   ],
   "source": [
    "# Day_22 Random integer\n",
    "import random as rd\n",
    "my_num = rd.randint(1,100)\n",
    "print(my_num)"
   ]
  },
  {
   "cell_type": "code",
   "execution_count": 48,
   "metadata": {},
   "outputs": [
    {
     "name": "stdout",
     "output_type": "stream",
     "text": [
      "10\n"
     ]
    }
   ],
   "source": [
    "import random as rd\n",
    "for i in range(1):\n",
    "  my_number = rd.randint(1,10)\n",
    "  print(my_number)"
   ]
  },
  {
   "cell_type": "code",
   "execution_count": 1,
   "metadata": {
    "scrolled": true
   },
   "outputs": [
    {
     "name": "stdout",
     "output_type": "stream",
     "text": [
      "You Rolled Dice and output is 5 "
     ]
    }
   ],
   "source": [
    "# Subroutine\n",
    "def roll_Dice():\n",
    "  import random as rd\n",
    "  dice = rd.randint(1,6)\n",
    "  print(f'You Rolled Dice and output is {dice} ', end ='')\n",
    "\n",
    "roll_Dice()"
   ]
  },
  {
   "cell_type": "code",
   "execution_count": 5,
   "metadata": {},
   "outputs": [
    {
     "name": "stdout",
     "output_type": "stream",
     "text": [
      "You Rolled Dice and output is 2 You Rolled Dice and output is 2 You Rolled Dice and output is 2 You Rolled Dice and output is 1 You Rolled Dice and output is 3 You Rolled Dice and output is 4 You Rolled Dice and output is 3 You Rolled Dice and output is 5 You Rolled Dice and output is 4 My Name is David\n"
     ]
    }
   ],
   "source": [
    "for i in range(1,10):\n",
    "  roll_Dice()\n",
    "\n",
    "\n",
    "def my_Name():\n",
    "  print('My Name is David')\n",
    "\n",
    "my_Name()"
   ]
  },
  {
   "cell_type": "code",
   "execution_count": 8,
   "metadata": {},
   "outputs": [
    {
     "name": "stdout",
     "output_type": "stream",
     "text": [
      "1\n",
      "2\n",
      "3\n",
      "4\n",
      "5\n"
     ]
    }
   ],
   "source": [
    "def count_down():\n",
    "  import time\n",
    "  for i in range(1,6):\n",
    "    print(i)\n",
    "    time.sleep(1)\n",
    "count_down()"
   ]
  },
  {
   "cell_type": "code",
   "execution_count": 10,
   "metadata": {},
   "outputs": [
    {
     "name": "stdout",
     "output_type": "stream",
     "text": [
      "1\n",
      "2\n",
      "3\n",
      "4\n",
      "5\n"
     ]
    }
   ],
   "source": [
    "count_down()"
   ]
  }
 ],
 "metadata": {
  "kernelspec": {
   "display_name": "Python 3 (ipykernel)",
   "language": "python",
   "name": "python3"
  },
  "language_info": {
   "codemirror_mode": {
    "name": "ipython",
    "version": 3
   },
   "file_extension": ".py",
   "mimetype": "text/x-python",
   "name": "python",
   "nbconvert_exporter": "python",
   "pygments_lexer": "ipython3",
   "version": "3.10.13"
  }
 },
 "nbformat": 4,
 "nbformat_minor": 4
}
