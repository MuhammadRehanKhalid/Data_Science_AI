{
 "cells": [
  {
   "cell_type": "markdown",
   "metadata": {},
   "source": [
    "# `Number_Theory`"
   ]
  },
  {
   "cell_type": "markdown",
   "metadata": {},
   "source": [
    "## Number theory is involved in every field of the science\n",
    "+ Number_Theory\n",
    "  + inherent properties of the numbers, their relationships, structures, and form.\n",
    "    + Queen of mathematics\n",
    "  + why mathematics is queenof science\n",
    "  + "
   ]
  },
  {
   "cell_type": "markdown",
   "metadata": {},
   "source": [
    "# 02_Number Theory\n"
   ]
  },
  {
   "cell_type": "markdown",
   "metadata": {},
   "source": [
    "#### Roles of Number Theory:\n",
    "    Cryptography,\n",
    "    Use of algorythems "
   ]
  },
  {
   "cell_type": "markdown",
   "metadata": {},
   "source": [
    "#### Dig Data\n",
    "    10 GB = 1 Month -> 3 Lack\n",
    "    -> Data Integrity:\n",
    "    ->-Numbers saved accurately \n",
    "        Will produce good result\n"
   ]
  }
 ],
 "metadata": {
  "kernelspec": {
   "display_name": "python_eda",
   "language": "python",
   "name": "python3"
  },
  "language_info": {
   "name": "python",
   "version": "3.11.7"
  }
 },
 "nbformat": 4,
 "nbformat_minor": 2
}
