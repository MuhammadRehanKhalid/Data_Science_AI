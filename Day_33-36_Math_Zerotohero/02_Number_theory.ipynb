{
 "cells": [
  {
   "cell_type": "markdown",
   "metadata": {},
   "source": [
    "# `Number_Theory`"
   ]
  },
  {
   "cell_type": "markdown",
   "metadata": {},
   "source": [
    "## Number theory is involved in every field of the science\n",
    "+ Number_Theory\n",
    "  + inherent properties of the numbers, their relationships, structures, and form.\n",
    "    + Queen of mathematics\n",
    "  + why mathematics is queenof science"
   ]
  },
  {
   "cell_type": "markdown",
   "metadata": {},
   "source": [
    "# 02_Number Theory\n"
   ]
  },
  {
   "cell_type": "markdown",
   "metadata": {},
   "source": [
    "#### Roles of Number Theory:\n",
    "    Cryptography,\n",
    "    Use of algorythems\n",
    "    -> Cryptography\n",
    "    -> Optimized algorythems\n",
    "    -> Data Integrity\n",
    "    -> Feature Engineering"
   ]
  },
  {
   "cell_type": "markdown",
   "metadata": {},
   "source": [
    "#### Dig Data\n",
    "    10 GB = 1 Month -> 3 Lack\n",
    "    -> Data Integrity:\n",
    "    ->-Numbers saved accurately \n",
    "        Will produce good result\n"
   ]
  },
  {
   "cell_type": "markdown",
   "metadata": {},
   "source": [
    "## Benefits of Learning Number Theory\n",
    "+ Problem Solver -> will find pattern\n",
    "+ Process optimization\n",
    "+ Design new algorithms\n",
    "+ Competitive edge you will get\n",
    "  + learn how to build logical algorithms\n",
    "    + logical analysis\n",
    "    + theoratical \n",
    "    + pattern\n",
    "    + complex"
   ]
  },
  {
   "cell_type": "markdown",
   "metadata": {},
   "source": [
    "## Core Concepts of Number theory\n",
    "    -> Factors: (Factors are the numbers that canexactly divide another number without leaving \n",
    "    a remainder)\n",
    "    -> Multiples: (Multiples are the numbers that can be predicted by multiplyng)\n",
    "    -> \n"
   ]
  },
  {
   "cell_type": "markdown",
   "metadata": {},
   "source": [
    "# Rules to divide a number\n",
    "### Divisibility Rule \n",
    "    -> 4242678 will leave a rimainder or not\n",
    "    Rule of 2:\n",
    "        + if a number has last number 2 then it will be divided by 2\n",
    "    Rule of 3:\n",
    "        + if the number is divisible by 3\n",
    "    Rule of 4:\n",
    "        + if last two digits making number are divisblee by 4, that number will be divisble by 4\n",
    "    Rule of 5:\n",
    "        + if last digit is 0 or divisible by 5 then whole number will be divided by 5\n",
    "    Rule of 6:\n",
    "        + if the number is divisible by 2 and 3, then the whole number will be divided by 6\n",
    "    Rule of 9:\n",
    "        + if the sum of number is divisible by 9, then it is divible by 9\n",
    "    Rule of 10:\n",
    "        + if the last digit is 0 then it is divisible by 10."
   ]
  }
 ],
 "metadata": {
  "kernelspec": {
   "display_name": "python_eda",
   "language": "python",
   "name": "python3"
  },
  "language_info": {
   "name": "python",
   "version": "3.11.7"
  }
 },
 "nbformat": 4,
 "nbformat_minor": 2
}
