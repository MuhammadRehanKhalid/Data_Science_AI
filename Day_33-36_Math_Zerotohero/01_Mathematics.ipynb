{
 "cells": [
  {
   "cell_type": "markdown",
   "metadata": {},
   "source": [
    "### Number `Theory`\n",
    "##### `Number theory is a branch of pure mathematics that deals with the properties and relationships of numbers, particularly integers. It encompasses a wide range of topics, including prime numbers, divisibility, modular arithmetic, Diophantine equations, and more. Number theory has both theoretical and practical applications, with connections to cryptography, coding theory, and other areas of mathematics.`\n",
    "## Number and their Classes\n",
    "+ Odd numbers (Number which leaves a raminder after dividing by 2)\n",
    "    + Remiander (%) is zero\n",
    "+ Even numbers\n",
    "    + whose remainder (%) is not zero\n",
    "+ Square Number (4,9,16,25,36,49,64,81,100)\n",
    "+ Qube Nuumbers (8,27,64)\n",
    "    + We find pattersn in data sets for data science\n",
    "+ Prime Numbers\n",
    "    + These are only devisible by own its own\n",
    "    + Whose remainder is always one when divided by 2\n",
    "    + smallest numbers is one\n",
    "+ Composite Numbers\n",
    "    + Greater than 1 but also are not prime number are basically composite numbers\n",
    "    + 4,6,8,9,10,........\n",
    "+ Pattern of remainder -> 1(Modulo 4): 4 x 4 = 16+1 ->- 17\n",
    "    + 3 (Modulo 4) ramainder -> 4 x 4 = 16 +3 ->- 19\n",
    "+ Triangular Numbers\n",
    "    + The triangular number sequence is the representation of the numbers in the form of equilateral triangle arranged in a series or sequence. These numbers are in a sequence of 1, 3, 6, 10, 15, 21, 28, 36, 45, and so on. The numbers in the triangular pattern are represented by dots. n(n+1)/2\n",
    "+ Perfect Numbers\n",
    "    + Positive interger that is equal to sum of its proper advisor, excluding number itself.\n",
    "    + like 6 is a perfect number as its devisors are 1 + 2 + 3 which makes it 6.\n",
    "+ Fibonacci Numbers\n",
    "    + series of numbers where next number is found by adding  the previous two numbers together.\n",
    "        - 0 , 1 , 1 , 2 , 3 , 5 , 8 , 13 , 21 , ......\n",
    "    + 2,2,4,6,10,16,26...\n",
    "    + it helps in prediction\n",
    "+ "
   ]
  },
  {
   "cell_type": "markdown",
   "metadata": {},
   "source": [
    "## Set of numbers = Data\n"
   ]
  }
 ],
 "metadata": {
  "kernelspec": {
   "display_name": "Python 3 (ipykernel)",
   "language": "python",
   "name": "python3"
  },
  "language_info": {
   "codemirror_mode": {
    "name": "ipython",
    "version": 3
   },
   "file_extension": ".py",
   "mimetype": "text/x-python",
   "name": "python",
   "nbconvert_exporter": "python",
   "pygments_lexer": "ipython3",
   "version": "3.10.13"
  }
 },
 "nbformat": 4,
 "nbformat_minor": 4
}
