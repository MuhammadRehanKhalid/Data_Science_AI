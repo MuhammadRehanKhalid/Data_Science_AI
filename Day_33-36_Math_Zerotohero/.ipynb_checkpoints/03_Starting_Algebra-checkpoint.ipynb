{
 "cells": [
  {
   "cell_type": "markdown",
   "metadata": {},
   "source": [
    "# `Algebra_In_DataScience`"
   ]
  },
  {
   "cell_type": "markdown",
   "metadata": {},
   "source": [
    "## Branch of mathematics uses symbols and charatcers\n",
    "### To find an unknown, and like a puzzle"
   ]
  },
  {
   "cell_type": "markdown",
   "metadata": {},
   "source": [
    "- 5 + 2 = 3\n",
    "- ArithMatic : Branch of mathematics deals with basic operations\n",
    "- x,/,-,+"
   ]
  },
  {
   "cell_type": "markdown",
   "metadata": {},
   "source": [
    "### variables whose values we dont know\n",
    "#### like 5 + x = 10\n",
    "- where we can find the value of the  unknown value\n",
    "- "
   ]
  }
 ],
 "metadata": {
  "kernelspec": {
   "display_name": "Python 3 (ipykernel)",
   "language": "python",
   "name": "python3"
  },
  "language_info": {
   "codemirror_mode": {
    "name": "ipython",
    "version": 3
   },
   "file_extension": ".py",
   "mimetype": "text/x-python",
   "name": "python",
   "nbconvert_exporter": "python",
   "pygments_lexer": "ipython3",
   "version": "3.10.13"
  }
 },
 "nbformat": 4,
 "nbformat_minor": 4
}
