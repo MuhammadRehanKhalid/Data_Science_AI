{
 "cells": [
  {
   "cell_type": "markdown",
   "metadata": {},
   "source": [
    "https://codanics.com/algebra-for-data-science-and-machine-learning/"
   ]
  },
  {
   "cell_type": "code",
   "execution_count": 11,
   "metadata": {},
   "outputs": [
    {
     "name": "stdout",
     "output_type": "stream",
     "text": [
      "Hello, REHAHAHAH!\n",
      "You are tresspassing, please leave the premesis\n"
     ]
    }
   ],
   "source": [
    "name = input(\"Write your name: \").upper()\n",
    "print(\"Hello, \" + name + \"!\")\n",
    "if name == \"REHAN\":\n",
    "    print(\"Welcome On board\")\n",
    "elif name != \"REHAN\":\n",
    "    print(\"You are trespassing, please leave the premises\")\n",
    "\n"
   ]
  },
  {
   "cell_type": "code",
   "execution_count": null,
   "metadata": {},
   "outputs": [],
   "source": []
  }
 ],
 "metadata": {
  "kernelspec": {
   "display_name": "python_eda",
   "language": "python",
   "name": "python3"
  },
  "language_info": {
   "codemirror_mode": {
    "name": "ipython",
    "version": 3
   },
   "file_extension": ".py",
   "mimetype": "text/x-python",
   "name": "python",
   "nbconvert_exporter": "python",
   "pygments_lexer": "ipython3",
   "version": "3.11.7"
  }
 },
 "nbformat": 4,
 "nbformat_minor": 2
}
