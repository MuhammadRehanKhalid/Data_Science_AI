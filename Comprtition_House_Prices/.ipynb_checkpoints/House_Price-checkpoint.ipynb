{
 "cells": [
  {
   "cell_type": "code",
   "execution_count": 5,
   "id": "5192814f-924f-4309-a690-8b300e1ef6c9",
   "metadata": {},
   "outputs": [],
   "source": [
    "import pandas as pd\n",
    "import numpy as np\n",
    "import seaborn as sns\n",
    "import plotly.express as px"
   ]
  },
  {
   "cell_type": "code",
   "execution_count": 7,
   "id": "c2255d36-8c8c-4451-87f7-c6c35052d46f",
   "metadata": {},
   "outputs": [],
   "source": [
    "df = pd.read_csv('./house-prices-advanced-regression-techniques-publicleaderboard-2024-01-25T19_21_00.csv')"
   ]
  },
  {
   "cell_type": "code",
   "execution_count": 8,
   "id": "d37ece2a-2a4e-4a68-868a-ec4d9b4c455c",
   "metadata": {},
   "outputs": [
    {
     "data": {
      "text/html": [
       "<div>\n",
       "<style scoped>\n",
       "    .dataframe tbody tr th:only-of-type {\n",
       "        vertical-align: middle;\n",
       "    }\n",
       "\n",
       "    .dataframe tbody tr th {\n",
       "        vertical-align: top;\n",
       "    }\n",
       "\n",
       "    .dataframe thead th {\n",
       "        text-align: right;\n",
       "    }\n",
       "</style>\n",
       "<table border=\"1\" class=\"dataframe\">\n",
       "  <thead>\n",
       "    <tr style=\"text-align: right;\">\n",
       "      <th></th>\n",
       "      <th>Rank</th>\n",
       "      <th>TeamId</th>\n",
       "      <th>TeamName</th>\n",
       "      <th>LastSubmissionDate</th>\n",
       "      <th>Score</th>\n",
       "      <th>SubmissionCount</th>\n",
       "      <th>TeamMemberUserNames</th>\n",
       "    </tr>\n",
       "  </thead>\n",
       "  <tbody>\n",
       "    <tr>\n",
       "      <th>0</th>\n",
       "      <td>1</td>\n",
       "      <td>11148815</td>\n",
       "      <td>SZU Bayes</td>\n",
       "      <td>2023-12-30 16:09:16</td>\n",
       "      <td>0.00000</td>\n",
       "      <td>1</td>\n",
       "      <td>bayes2003</td>\n",
       "    </tr>\n",
       "    <tr>\n",
       "      <th>1</th>\n",
       "      <td>2</td>\n",
       "      <td>11308941</td>\n",
       "      <td>FanshuoZeng</td>\n",
       "      <td>2023-11-27 13:52:22</td>\n",
       "      <td>0.00044</td>\n",
       "      <td>2</td>\n",
       "      <td>fanshuozeng</td>\n",
       "    </tr>\n",
       "    <tr>\n",
       "      <th>2</th>\n",
       "      <td>3</td>\n",
       "      <td>7598530</td>\n",
       "      <td>IS688_Team_CVSS</td>\n",
       "      <td>2023-11-29 03:37:39</td>\n",
       "      <td>0.00044</td>\n",
       "      <td>1</td>\n",
       "      <td>hanzhangfang,jiaxingzhang2,kevinreal51</td>\n",
       "    </tr>\n",
       "    <tr>\n",
       "      <th>3</th>\n",
       "      <td>4</td>\n",
       "      <td>11330945</td>\n",
       "      <td>PhilpusNaveed</td>\n",
       "      <td>2023-12-01 15:53:58</td>\n",
       "      <td>0.00044</td>\n",
       "      <td>1</td>\n",
       "      <td>philpusnaveed</td>\n",
       "    </tr>\n",
       "    <tr>\n",
       "      <th>4</th>\n",
       "      <td>5</td>\n",
       "      <td>8113124</td>\n",
       "      <td>serkanp</td>\n",
       "      <td>2024-01-10 19:04:51</td>\n",
       "      <td>0.00044</td>\n",
       "      <td>4</td>\n",
       "      <td>serkanp</td>\n",
       "    </tr>\n",
       "  </tbody>\n",
       "</table>\n",
       "</div>"
      ],
      "text/plain": [
       "   Rank    TeamId         TeamName   LastSubmissionDate    Score  \\\n",
       "0     1  11148815        SZU Bayes  2023-12-30 16:09:16  0.00000   \n",
       "1     2  11308941      FanshuoZeng  2023-11-27 13:52:22  0.00044   \n",
       "2     3   7598530  IS688_Team_CVSS  2023-11-29 03:37:39  0.00044   \n",
       "3     4  11330945    PhilpusNaveed  2023-12-01 15:53:58  0.00044   \n",
       "4     5   8113124          serkanp  2024-01-10 19:04:51  0.00044   \n",
       "\n",
       "   SubmissionCount                     TeamMemberUserNames  \n",
       "0                1                               bayes2003  \n",
       "1                2                             fanshuozeng  \n",
       "2                1  hanzhangfang,jiaxingzhang2,kevinreal51  \n",
       "3                1                           philpusnaveed  \n",
       "4                4                                 serkanp  "
      ]
     },
     "execution_count": 8,
     "metadata": {},
     "output_type": "execute_result"
    }
   ],
   "source": [
    "df.head()"
   ]
  },
  {
   "cell_type": "code",
   "execution_count": 9,
   "id": "819c59d9-28a3-43d3-8f8e-8aea5994b411",
   "metadata": {},
   "outputs": [
    {
     "data": {
      "text/plain": [
       "Index(['Rank', 'TeamId', 'TeamName', 'LastSubmissionDate', 'Score',\n",
       "       'SubmissionCount', 'TeamMemberUserNames'],\n",
       "      dtype='object')"
      ]
     },
     "execution_count": 9,
     "metadata": {},
     "output_type": "execute_result"
    }
   ],
   "source": [
    "df.columns"
   ]
  },
  {
   "cell_type": "code",
   "execution_count": 13,
   "id": "6573a5cc-6681-48da-a870-dfc50afd6829",
   "metadata": {},
   "outputs": [
    {
     "name": "stdout",
     "output_type": "stream",
     "text": [
      "<class 'pandas.core.frame.DataFrame'>\n",
      "RangeIndex: 4243 entries, 0 to 4242\n",
      "Data columns (total 7 columns):\n",
      " #   Column               Non-Null Count  Dtype  \n",
      "---  ------               --------------  -----  \n",
      " 0   Rank                 4243 non-null   int64  \n",
      " 1   TeamId               4243 non-null   int64  \n",
      " 2   TeamName             4243 non-null   object \n",
      " 3   LastSubmissionDate   4243 non-null   object \n",
      " 4   Score                4243 non-null   float64\n",
      " 5   SubmissionCount      4243 non-null   int64  \n",
      " 6   TeamMemberUserNames  4243 non-null   object \n",
      "dtypes: float64(1), int64(3), object(3)\n",
      "memory usage: 232.2+ KB\n"
     ]
    }
   ],
   "source": [
    "df.describe()\n",
    "df.info()"
   ]
  },
  {
   "cell_type": "code",
   "execution_count": 16,
   "id": "0bc01f33-40d3-47ef-b84d-7425de49359d",
   "metadata": {},
   "outputs": [
    {
     "data": {
      "text/plain": [
       "Rank                   0\n",
       "TeamId                 0\n",
       "TeamName               0\n",
       "LastSubmissionDate     0\n",
       "Score                  0\n",
       "SubmissionCount        0\n",
       "TeamMemberUserNames    0\n",
       "dtype: int64"
      ]
     },
     "execution_count": 16,
     "metadata": {},
     "output_type": "execute_result"
    },
    {
     "data": {
      "image/png": "[encoded data removed]",
      "text/plain": [
       "<Figure size 640x480 with 4 Axes>"
      ]
     },
     "metadata": {},
     "output_type": "display_data"
    }
   ],
   "source": [
    "df.hist()\n",
    "df.isnull().sum()"
   ]
  },
  {
   "cell_type": "code",
   "execution_count": null,
   "id": "e68960fb-b2cf-4501-b131-4368206e0cfd",
   "metadata": {},
   "outputs": [],
   "source": [
    "df"
   ]
  }
 ],
 "metadata": {
  "kernelspec": {
   "display_name": "Python 3 (ipykernel)",
   "language": "python",
   "name": "python3"
  },
  "language_info": {
   "codemirror_mode": {
    "name": "ipython",
    "version": 3
   },
   "file_extension": ".py",
   "mimetype": "text/x-python",
   "name": "python",
   "nbconvert_exporter": "python",
   "pygments_lexer": "ipython3",
   "version": "3.10.13"
  }
 },
 "nbformat": 4,
 "nbformat_minor": 5
}
