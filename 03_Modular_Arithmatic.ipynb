{
 "cells": [
  {
   "cell_type": "markdown",
   "metadata": {},
   "source": [
    "# Modular Arithmatic\n"
   ]
  },
  {
   "cell_type": "markdown",
   "metadata": {},
   "source": [
    "### In mathematics, modular arithmetic is a system of arithmetic for integers, where numbers \"wrap around\" when reaching a certain value, called the modulus. The modern approach to modular arithmetic was developed by Carl Friedrich Gauss in his book Disquisitiones Arithmeticae, published in 1801.\n",
    "+ `Modular Arithmatic`\n",
    "  + Think like a clock, standered clock wraps around\n",
    "  + repeats itself after a specific interval\n",
    "  + 5 mod 4 is 3 which is remainde get by dividing 15 with 4\n",
    "  + 100 mod 10  =  0, 100 mod 9 is 1 \n",
    "  + mode of 50 \n",
    "  + a mod n is served as any quantitiy divided by a number and remainder is mod\n",
    "+ Applications\n",
    "  + cryptography\n",
    "  + compyuter science\n",
    "  + music theory\n",
    "  + calender calculation\n"
   ]
  },
  {
   "cell_type": "markdown",
   "metadata": {},
   "source": [
    "# What is modulas\n",
    "    clear one thing that modulas is not the ramainder itself but the number which is\n",
    "    used to divide the quantity to find the remainder."
   ]
  },
  {
   "cell_type": "markdown",
   "metadata": {},
   "source": []
  }
 ],
 "metadata": {
  "language_info": {
   "name": "python"
  }
 },
 "nbformat": 4,
 "nbformat_minor": 2
}
