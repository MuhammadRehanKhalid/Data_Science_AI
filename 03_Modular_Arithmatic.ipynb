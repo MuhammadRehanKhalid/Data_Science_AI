{
 "cells": [
  {
   "cell_type": "markdown",
   "metadata": {},
   "source": [
    "# Modular Arithmatic\n"
   ]
  },
  {
   "cell_type": "markdown",
   "metadata": {},
   "source": [
    "### In mathematics, modular arithmetic is a system of arithmetic for integers, where numbers \"wrap around\" when reaching a certain value, called the modulus. The modern approach to modular arithmetic was developed by Carl Friedrich Gauss in his book Disquisitiones Arithmeticae, published in 1801.\n",
    "+ `Modular Arithmatic`\n",
    "  + Think like a clock, standered clock wraps around\n",
    "  + repeats itself after a specific interval\n",
    "  + 5 mod 4 is 3 which is remainde get by dividing 15 with 4\n",
    "  + 100 mod 10  =  0, 100 mod 9 is 1 \n",
    "  + mode of 50 \n",
    "  + a mod n is served as any quantitiy divided by a number and remainder is mod\n",
    "+ Applications\n",
    "  + cryptography\n",
    "  + compyuter science\n",
    "  + music theory\n",
    "  + calender calculation\n"
   ]
  },
  {
   "cell_type": "markdown",
   "metadata": {},
   "source": [
    "# What is modulas\n",
    "    clear one thing that modulas is not the ramainder itself but the number which is\n",
    "    used to divide the quantity to find the remainder."
   ]
  },
  {
   "cell_type": "markdown",
   "metadata": {},
   "source": [
    "# Number Theory\n",
    "+ Natural Numbers:\n",
    "  + Natural positive integer, greater than one(1) and upto infinity\n",
    "+ whole numbers:\n",
    "  + included zero and but positive integer\n",
    "+ Integers:\n",
    "  + any number positive, negative and zero.\n",
    "+ Prime Numbers:\n",
    "  + Greater than one(1) and divides only on itself and one.\n",
    "+ Composite Numbers:\n",
    "  + Having more than two devisor and simply say all numbers other than Prime Numbers\n",
    "+ Rtional Numbers:\n",
    "  + which are written in form of division like 2/3\n",
    "  + and denominator can't be zero\n",
    "+ Irrational Numbers:\n",
    "  + Reverse of rational number\n",
    "  + pie =  3.147777......... or Underroot 2\n",
    "  + these have non repeating and non terminating rational numbers\n",
    "  + approximately 3.14\n",
    "  + `The Egyptians calculated the area of a circle by a formula that gave the approximate value of 3.1605 for π. The first calculation of π was done by Archimedes of Syracuse (287–212 BC), one of the greatest mathematicians of the ancient world`\n",
    "  + `Humans have now calculated the never-ending number to 31,415,926,535,897 (get it?) — about 31.4 trillion — decimal places. It's a Pi Day miracle! Previously, we published a story about humans' pursuit of pi's infinite string of digits`\n",
    "  + `Then, in 2021, scientists at the University of Applied Sciences of the Grisons calculated another 31.4 trillion digits of the constant, bringing the total up to 62.8 trillion decimal places.`\n",
    "  + What is the 100 trillionth digit of pi? = 0\n",
    "+ Real Numbers:\n",
    "  + all rational and irrational numbers\n",
    "+ Algebric Numbers:\n",
    "  + numbers that are roots of non zero  polynomial rquations with integer coefficients.\n",
    "+ Find types of numbers that are inculded in number theory\n",
    "  + "
   ]
  },
  {
   "cell_type": "markdown",
   "metadata": {},
   "source": []
  }
 ],
 "metadata": {
  "language_info": {
   "name": "python"
  }
 },
 "nbformat": 4,
 "nbformat_minor": 2
}
