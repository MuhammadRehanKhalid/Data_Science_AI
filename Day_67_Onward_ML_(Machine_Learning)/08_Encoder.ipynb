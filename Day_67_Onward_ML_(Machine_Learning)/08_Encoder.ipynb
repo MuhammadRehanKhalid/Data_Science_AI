{
 "cells": [
  {
   "cell_type": "markdown",
   "id": "2d65df21-040f-4c37-a7da-ad2f50195210",
   "metadata": {},
   "source": [
    "# Encoding\n",
    "- Label Encoding\n",
    "- OneHot Encoding\n",
    "- Ordinal Encoding\n",
    "- Binary Encoding (onehot  encoding comes here also)\n",
    "- Frequency or Count Encoding"
   ]
  },
  {
   "cell_type": "markdown",
   "id": "210539cd-465d-470f-a8c6-1ed117b83f0b",
   "metadata": {},
   "source": [
    "### Benefits of Encoding\n",
    "- Algorithem Compatibility\n",
    "- To convert text data into numeric data\n",
    "- efficient storage (occupy less space)\n",
    "- faster computation\n",
    "- "
   ]
  }
 ],
 "metadata": {
  "kernelspec": {
   "display_name": "Python 3 (ipykernel)",
   "language": "python",
   "name": "python3"
  },
  "language_info": {
   "codemirror_mode": {
    "name": "ipython",
    "version": 3
   },
   "file_extension": ".py",
   "mimetype": "text/x-python",
   "name": "python",
   "nbconvert_exporter": "python",
   "pygments_lexer": "ipython3",
   "version": "3.12.1"
  }
 },
 "nbformat": 4,
 "nbformat_minor": 5
}
