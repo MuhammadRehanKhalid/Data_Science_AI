{
 "cells": [
  {
   "cell_type": "code",
   "execution_count": 6,
   "id": "cee820e6-c251-47ec-a315-3092d6c498a9",
   "metadata": {},
   "outputs": [],
   "source": [
    "# L1_ and L2 Normalization\n",
    "from sklearn.preprocessing import Normalizer"
   ]
  },
  {
   "cell_type": "code",
   "execution_count": 16,
   "id": "2c0e9f11-fa9e-4183-9fd1-6ac03f4f7b27",
   "metadata": {},
   "outputs": [
    {
     "name": "stdout",
     "output_type": "stream",
     "text": [
      "[[0.57735027 0.57735027 0.57735027]\n",
      " [0.70710678 0.70710678 0.        ]\n",
      " [1.         0.         0.        ]]\n"
     ]
    }
   ],
   "source": [
    "# l2 normalization usualy takes the square root of the sum of the squared values\n",
    "data = [[1,1,1],[1,1,0],[1,0 ,0]] \n",
    "norma = Normalizer(norm='l2') #{'l1', 'l2', 'max'}.\n",
    "print(norma.fit_transform(data))"
   ]
  },
  {
   "cell_type": "code",
   "execution_count": 17,
   "id": "92dc65b2-2134-453d-8a08-1e431e061799",
   "metadata": {},
   "outputs": [
    {
     "name": "stdout",
     "output_type": "stream",
     "text": [
      "[[0.33333333 0.33333333 0.33333333]\n",
      " [0.5        0.5        0.        ]\n",
      " [1.         0.         0.        ]]\n"
     ]
    }
   ],
   "source": [
    "# l1 transformaton making row value sum to one, rwo vise additon\n",
    "data = [[1,1,1],[1,1,0],[1,0 ,0]]\n",
    "norma = Normalizer(norm='l1') #{'l1', 'l2', 'max'}.\n",
    "print(norma.fit_transform(data))"
   ]
  },
  {
   "cell_type": "markdown",
   "id": "6eb95b69-b5c5-4c0c-9a92-d40d46a52b7b",
   "metadata": {},
   "source": [
    "---\n",
    "# Log transformation\n",
    "---"
   ]
  },
  {
   "cell_type": "code",
   "execution_count": 18,
   "id": "57e0bd31-0103-43a4-8b3c-718cffad21b4",
   "metadata": {},
   "outputs": [],
   "source": [
    "import pandas as pd\n",
    "import numpy as np"
   ]
  },
  {
   "cell_type": "code",
   "execution_count": null,
   "id": "97bdbf8b-19cc-4f9a-a7a3-3e103679b118",
   "metadata": {},
   "outputs": [],
   "source": []
  }
 ],
 "metadata": {
  "kernelspec": {
   "display_name": "Python 3 (ipykernel)",
   "language": "python",
   "name": "python3"
  },
  "language_info": {
   "codemirror_mode": {
    "name": "ipython",
    "version": 3
   },
   "file_extension": ".py",
   "mimetype": "text/x-python",
   "name": "python",
   "nbconvert_exporter": "python",
   "pygments_lexer": "ipython3",
   "version": "3.12.1"
  }
 },
 "nbformat": 4,
 "nbformat_minor": 5
}
