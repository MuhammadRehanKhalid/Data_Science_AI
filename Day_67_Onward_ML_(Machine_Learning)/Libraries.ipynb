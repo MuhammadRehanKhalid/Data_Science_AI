{
 "cells": [
  {
   "cell_type": "markdown",
   "metadata": {},
   "source": [
    "# Scikit Learn\n",
    "# Tensor Flow\n",
    "# Kera's\n",
    "# Pytorch\n",
    "# NLTK, Natural language toolkit\n",
    "# Open CV, open computer Vision\n"
   ]
  },
  {
   "cell_type": "code",
   "execution_count": 1,
   "metadata": {},
   "outputs": [],
   "source": [
    "import pandas as pd\n",
    "import numpy as np\n",
    "import seaborn as sns\n",
    "import matplotlib.pyplot as plt\n",
    "from sklearn import linear_model\n"
   ]
  },
  {
   "cell_type": "code",
   "execution_count": 2,
   "metadata": {},
   "outputs": [
    {
     "data": {
      "text/plain": [
       "array([0.5, 0.5])"
      ]
     },
     "execution_count": 2,
     "metadata": {},
     "output_type": "execute_result"
    }
   ],
   "source": [
    "reg = linear_model.LinearRegression()\n",
    "reg.fit([[0,0],[1,1],[2,2]],[0,1,2])\n",
    "reg.coef_"
   ]
  },
  {
   "cell_type": "markdown",
   "metadata": {},
   "source": [
    "# Data Preprocessing Step\n",
    "- Data cleaning\n",
    "  - missing values\n",
    "  - smoothing noisy data\n",
    "  - outliers\n",
    "  - inconsistancy\n",
    "- data integration\n",
    "  - data duplicates removal\n",
    "  - data merging\n",
    "  - data consolidation\n",
    "- data transformation\n",
    "  - scale\n",
    "  - normalize\n",
    "  - aggregate\n",
    "  - generalize\n",
    "  - Higher level concepts\n",
    "- data reduction\n",
    "  - dimentionality reduction\n",
    "  - Numerosity reduction\n",
    "  - data commpression\n",
    "- data discretization\n",
    "  - numerical to categorical\n",
    "    - Bings\n",
    "    - cluster analysis\n",
    "  - "
   ]
  },
  {
   "cell_type": "markdown",
   "metadata": {},
   "source": []
  },
  {
   "cell_type": "markdown",
   "metadata": {},
   "source": []
  }
 ],
 "metadata": {
  "kernelspec": {
   "display_name": "Python 3 (ipykernel)",
   "language": "python",
   "name": "python3"
  },
  "language_info": {
   "codemirror_mode": {
    "name": "ipython",
    "version": 3
   },
   "file_extension": ".py",
   "mimetype": "text/x-python",
   "name": "python",
   "nbconvert_exporter": "python",
   "pygments_lexer": "ipython3",
   "version": "3.12.1"
  }
 },
 "nbformat": 4,
 "nbformat_minor": 4
}
