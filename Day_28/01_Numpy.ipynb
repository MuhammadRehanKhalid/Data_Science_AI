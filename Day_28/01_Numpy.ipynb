{
 "cells": [
  {
   "cell_type": "markdown",
   "id": "6c782069-a99c-4ca9-a851-04611e3ad29f",
   "metadata": {},
   "source": [
    "# `Numpy` Library of python\n",
    "### Numpy Library use website\n",
    "# https://numpy.org/doc/stable/ "
   ]
  },
  {
   "cell_type": "code",
   "execution_count": 1,
   "id": "58332acc-a026-4878-8ace-61070652bc5c",
   "metadata": {},
   "outputs": [],
   "source": [
    "import numpy as np"
   ]
  },
  {
   "cell_type": "code",
   "execution_count": 55,
   "id": "2c0f3040-a0a1-4cbb-8f16-be7ad9b6637c",
   "metadata": {},
   "outputs": [
    {
     "name": "stdout",
     "output_type": "stream",
     "text": [
      "[0 1 2 3 4 5]\n"
     ]
    },
    {
     "data": {
      "text/plain": [
       "dtype('int64')"
      ]
     },
     "execution_count": 55,
     "metadata": {},
     "output_type": "execute_result"
    }
   ],
   "source": [
    "a = np.arange(6)\n",
    "print(a)\n",
    "a.dtype"
   ]
  },
  {
   "cell_type": "code",
   "execution_count": 12,
   "id": "56f31d47-d535-4815-8e72-51dd1a9e50fa",
   "metadata": {},
   "outputs": [
    {
     "name": "stdout",
     "output_type": "stream",
     "text": [
      "[[0 1 2 3 4 5]]\n"
     ]
    },
    {
     "data": {
      "text/plain": [
       "(6,)"
      ]
     },
     "execution_count": 12,
     "metadata": {},
     "output_type": "execute_result"
    }
   ],
   "source": [
    "a2 = a[np.newaxis, :]\n",
    "# a2 = a[ : , np.newaxis]\n",
    "print(a2)\n",
    "a2.shape\n",
    "a.shape"
   ]
  },
  {
   "cell_type": "code",
   "execution_count": 13,
   "id": "b9763368-7a5b-4bae-a23c-f3116983dce8",
   "metadata": {},
   "outputs": [
    {
     "name": "stdout",
     "output_type": "stream",
     "text": [
      "[[[0 1 2 3 4 5]]]\n"
     ]
    },
    {
     "data": {
      "text/plain": [
       "(1, 1, 6)"
      ]
     },
     "execution_count": 13,
     "metadata": {},
     "output_type": "execute_result"
    }
   ],
   "source": [
    "# 3D Array\n",
    "a3 = a2[np.newaxis, :]\n",
    "print(a3)\n",
    "a3.shape"
   ]
  },
  {
   "cell_type": "markdown",
   "id": "b05ba8df-45cd-401e-af7f-0a55616071fb",
   "metadata": {},
   "source": [
    "# Why do we need to make ARRAYS like 1D, 2D, 3D etc"
   ]
  },
  {
   "cell_type": "code",
   "execution_count": 16,
   "id": "47f0f151-1807-45c0-80b2-16d5f6486913",
   "metadata": {},
   "outputs": [],
   "source": [
    "aa = np.array([1,2,3,4,5,6,7])\n",
    "b = np.array([(1,2,3,4,5,6), (1,2,3,4,5,6)])"
   ]
  },
  {
   "cell_type": "code",
   "execution_count": 32,
   "id": "72487b68-ae50-4d9a-b69e-5fdcc29e4b95",
   "metadata": {},
   "outputs": [
    {
     "data": {
      "text/plain": [
       "dtype('int64')"
      ]
     },
     "execution_count": 32,
     "metadata": {},
     "output_type": "execute_result"
    }
   ],
   "source": [
    "b.shape\n",
    "a.dtype"
   ]
  },
  {
   "cell_type": "code",
   "execution_count": 41,
   "id": "35de7e9b-728b-489b-8213-40f902e8e486",
   "metadata": {},
   "outputs": [
    {
     "data": {
      "text/plain": [
       "numpy.ndarray"
      ]
     },
     "execution_count": 41,
     "metadata": {},
     "output_type": "execute_result"
    }
   ],
   "source": [
    "type(a)"
   ]
  },
  {
   "cell_type": "code",
   "execution_count": 37,
   "id": "6695cc8f-cbca-4878-b850-19c97e360d63",
   "metadata": {},
   "outputs": [
    {
     "data": {
      "text/plain": [
       "dtype('float64')"
      ]
     },
     "execution_count": 37,
     "metadata": {},
     "output_type": "execute_result"
    }
   ],
   "source": [
    "# Initilize Array\n",
    "zeros = np.zeros((14, 8))\n",
    "zeros\n",
    "ones = np.ones((14, 8))\n",
    "ones\n",
    "zeros.dtype\n",
    "ones.dtype"
   ]
  },
  {
   "cell_type": "code",
   "execution_count": 44,
   "id": "47b509c2-c273-4fa7-81ff-9a81dbe3f5a8",
   "metadata": {},
   "outputs": [
    {
     "data": {
      "text/plain": [
       "numpy.ndarray"
      ]
     },
     "execution_count": 44,
     "metadata": {},
     "output_type": "execute_result"
    }
   ],
   "source": [
    "type(zeros)"
   ]
  },
  {
   "cell_type": "code",
   "execution_count": 39,
   "id": "e34bb6e4-99d3-42b2-ac31-47484e60001b",
   "metadata": {},
   "outputs": [
    {
     "data": {
      "text/plain": [
       "dtype('float64')"
      ]
     },
     "execution_count": 39,
     "metadata": {},
     "output_type": "execute_result"
    }
   ],
   "source": [
    "full = np.full((2 ,5), 7.5)\n",
    "full\n",
    "full.dtype"
   ]
  },
  {
   "cell_type": "markdown",
   "id": "8fc37289-5ca4-427e-bbd0-edb1b37af463",
   "metadata": {},
   "source": [
    "identity = np.eye(5) # creating an identity matrix\n",
    "identity\n",
    "identity.dtype"
   ]
  },
  {
   "cell_type": "code",
   "execution_count": 45,
   "id": "decef3ef-7d9f-46cc-850d-05d62d5c9ccf",
   "metadata": {},
   "outputs": [
    {
     "data": {
      "text/plain": [
       "numpy.ndarray"
      ]
     },
     "execution_count": 45,
     "metadata": {},
     "output_type": "execute_result"
    }
   ],
   "source": [
    "type(identity)"
   ]
  },
  {
   "cell_type": "markdown",
   "id": "8fbc1631-c8fa-4bec-a575-e514b76d1757",
   "metadata": {},
   "source": [
    "#### Array `Attributes`"
   ]
  },
  {
   "cell_type": "code",
   "execution_count": 50,
   "id": "7b83fc72-1e0b-475f-899d-8d8dc22d6e6f",
   "metadata": {},
   "outputs": [
    {
     "data": {
      "text/plain": [
       "1"
      ]
     },
     "execution_count": 50,
     "metadata": {},
     "output_type": "execute_result"
    }
   ],
   "source": [
    "len(a) # give number of elements\n",
    "a.ndim\n",
    "b.ndim # give dimension of array"
   ]
  },
  {
   "cell_type": "code",
   "execution_count": 51,
   "id": "2da0ff17-f681-4bc1-a97e-90fccff3ff04",
   "metadata": {},
   "outputs": [
    {
     "data": {
      "text/plain": [
       "6"
      ]
     },
     "execution_count": 51,
     "metadata": {},
     "output_type": "execute_result"
    }
   ],
   "source": [
    "a.size # give us the numbers in array"
   ]
  },
  {
   "cell_type": "markdown",
   "id": "554a4136-0b28-4e4d-bba4-6914b7cd1bd8",
   "metadata": {},
   "source": [
    "### Basis Operations"
   ]
  },
  {
   "cell_type": "code",
   "execution_count": 62,
   "id": "3b7dd314-ec9c-4e1b-8de2-4d535c5c0644",
   "metadata": {},
   "outputs": [
    {
     "data": {
      "text/plain": [
       "array([[-1, -1, -1, -1, -1, -1],\n",
       "       [-1, -1, -1, -1, -1, -1]])"
      ]
     },
     "execution_count": 62,
     "metadata": {},
     "output_type": "execute_result"
    }
   ],
   "source": [
    "g = b - a\n",
    "g\n",
    "sum = np.subtract(a,b)\n",
    "sum"
   ]
  },
  {
   "cell_type": "code",
   "execution_count": 64,
   "id": "9589b5bb-5909-4fdd-9c7d-639b74538128",
   "metadata": {},
   "outputs": [
    {
     "data": {
      "text/plain": [
       "array([[ 0,  2,  6, 12, 20, 30],\n",
       "       [ 0,  2,  6, 12, 20, 30]])"
      ]
     },
     "execution_count": 64,
     "metadata": {},
     "output_type": "execute_result"
    }
   ],
   "source": [
    "# Multiply\n",
    "g = a*b\n",
    "g"
   ]
  },
  {
   "cell_type": "code",
   "execution_count": 68,
   "id": "0f4cd62c-e07a-4bf0-84ad-c33155eb19db",
   "metadata": {},
   "outputs": [
    {
     "data": {
      "text/plain": [
       "array([ 0,  1,  4,  9, 16, 25])"
      ]
     },
     "execution_count": 68,
     "metadata": {},
     "output_type": "execute_result"
    }
   ],
   "source": [
    "j = a/b\n",
    "j\n",
    "k = a**2\n",
    "k"
   ]
  }
 ],
 "metadata": {
  "kernelspec": {
   "display_name": "Python 3 (ipykernel)",
   "language": "python",
   "name": "python3"
  },
  "language_info": {
   "codemirror_mode": {
    "name": "ipython",
    "version": 3
   },
   "file_extension": ".py",
   "mimetype": "text/x-python",
   "name": "python",
   "nbconvert_exporter": "python",
   "pygments_lexer": "ipython3",
   "version": "3.10.13"
  }
 },
 "nbformat": 4,
 "nbformat_minor": 5
}
