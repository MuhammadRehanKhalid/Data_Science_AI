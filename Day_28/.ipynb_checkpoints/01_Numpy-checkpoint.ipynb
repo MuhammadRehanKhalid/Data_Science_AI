{
 "cells": [
  {
   "cell_type": "markdown",
   "id": "6c782069-a99c-4ca9-a851-04611e3ad29f",
   "metadata": {},
   "source": [
    "# `Numpy` Library of python\n",
    "### Numpy Library use website\n",
    "# https://numpy.org/doc/stable/ "
   ]
  },
  {
   "cell_type": "code",
   "execution_count": 1,
   "id": "58332acc-a026-4878-8ace-61070652bc5c",
   "metadata": {},
   "outputs": [],
   "source": [
    "import numpy as np"
   ]
  },
  {
   "cell_type": "code",
   "execution_count": 3,
   "id": "2c0f3040-a0a1-4cbb-8f16-be7ad9b6637c",
   "metadata": {},
   "outputs": [
    {
     "name": "stdout",
     "output_type": "stream",
     "text": [
      "[0 1 2 3 4 5]\n"
     ]
    }
   ],
   "source": [
    "a = np.arange(6)\n",
    "print(a)"
   ]
  },
  {
   "cell_type": "code",
   "execution_count": 12,
   "id": "56f31d47-d535-4815-8e72-51dd1a9e50fa",
   "metadata": {},
   "outputs": [
    {
     "name": "stdout",
     "output_type": "stream",
     "text": [
      "[[0 1 2 3 4 5]]\n"
     ]
    },
    {
     "data": {
      "text/plain": [
       "(6,)"
      ]
     },
     "execution_count": 12,
     "metadata": {},
     "output_type": "execute_result"
    }
   ],
   "source": [
    "a2 = a[np.newaxis, :]\n",
    "# a2 = a[ : , np.newaxis]\n",
    "print(a2)\n",
    "a2.shape\n",
    "a.shape"
   ]
  },
  {
   "cell_type": "code",
   "execution_count": 13,
   "id": "b9763368-7a5b-4bae-a23c-f3116983dce8",
   "metadata": {},
   "outputs": [
    {
     "name": "stdout",
     "output_type": "stream",
     "text": [
      "[[[0 1 2 3 4 5]]]\n"
     ]
    },
    {
     "data": {
      "text/plain": [
       "(1, 1, 6)"
      ]
     },
     "execution_count": 13,
     "metadata": {},
     "output_type": "execute_result"
    }
   ],
   "source": [
    "# 3D Array\n",
    "a3 = a2[np.newaxis, :]\n",
    "print(a3)\n",
    "a3.shape"
   ]
  },
  {
   "cell_type": "markdown",
   "id": "b05ba8df-45cd-401e-af7f-0a55616071fb",
   "metadata": {},
   "source": [
    "# Why do we need to make ARRAYS like 1D, 2D, 3D etc"
   ]
  },
  {
   "cell_type": "code",
   "execution_count": 16,
   "id": "47f0f151-1807-45c0-80b2-16d5f6486913",
   "metadata": {},
   "outputs": [],
   "source": [
    "aa = np.array([1,2,3,4,5,6,7])\n",
    "b = np.array([(1,2,3,4,5,6), (1,2,3,4,5,6)])"
   ]
  },
  {
   "cell_type": "code",
   "execution_count": null,
   "id": "72487b68-ae50-4d9a-b69e-5fdcc29e4b95",
   "metadata": {},
   "outputs": [],
   "source": []
  }
 ],
 "metadata": {
  "kernelspec": {
   "display_name": "Python 3 (ipykernel)",
   "language": "python",
   "name": "python3"
  },
  "language_info": {
   "codemirror_mode": {
    "name": "ipython",
    "version": 3
   },
   "file_extension": ".py",
   "mimetype": "text/x-python",
   "name": "python",
   "nbconvert_exporter": "python",
   "pygments_lexer": "ipython3",
   "version": "3.10.13"
  }
 },
 "nbformat": 4,
 "nbformat_minor": 5
}
