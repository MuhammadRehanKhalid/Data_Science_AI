{
 "cells": [
  {
   "cell_type": "markdown",
   "id": "e62e32da",
   "metadata": {
    "papermill": {
     "duration": 0.051601,
     "end_time": "2023-08-24T14:31:31.161229",
     "exception": false,
     "start_time": "2023-08-24T14:31:31.109628",
     "status": "completed"
    },
    "tags": []
   },
   "source": [
    "<div style=\"color:white;background-color:Black;padding:3%;border-radius:150px 150px;font-size:2.5em;text-align:center\">Basics Pandas toolkit Part 1</div>"
   ]
  },
  {
   "cell_type": "markdown",
   "id": "d2326118",
   "metadata": {
    "papermill": {
     "duration": 0.048951,
     "end_time": "2023-08-24T14:31:31.260092",
     "exception": false,
     "start_time": "2023-08-24T14:31:31.211141",
     "status": "completed"
    },
    "tags": []
   },
   "source": [
    "<center>\n",
    "<img src=\"https://i1.wp.com/www.datascienceexamples.com/wp-content/uploads/2019/10/python-and-pandas.jpg?resize=800%2C286&ssl=1\" width=1200>\n",
    "</center>\n"
   ]
  },
  {
   "cell_type": "code",
   "execution_count": 1,
   "id": "63c60703",
   "metadata": {
    "execution": {
     "iopub.execute_input": "2023-08-24T14:31:31.360779Z",
     "iopub.status.busy": "2023-08-24T14:31:31.360288Z",
     "iopub.status.idle": "2023-08-24T14:31:31.374414Z",
     "shell.execute_reply": "2023-08-24T14:31:31.373397Z"
    },
    "papermill": {
     "duration": 0.067479,
     "end_time": "2023-08-24T14:31:31.376904",
     "exception": false,
     "start_time": "2023-08-24T14:31:31.309425",
     "status": "completed"
    },
    "tags": []
   },
   "outputs": [],
   "source": [
    "import pandas as pd \n",
    "import matplotlib.pyplot as plt\n",
    "\n",
    "import warnings\n",
    "warnings.filterwarnings(\"ignore\")"
   ]
  },
  {
   "cell_type": "code",
   "execution_count": 2,
   "id": "8dfde4a0",
   "metadata": {
    "execution": {
     "iopub.execute_input": "2023-08-24T14:31:31.477987Z",
     "iopub.status.busy": "2023-08-24T14:31:31.477620Z",
     "iopub.status.idle": "2023-08-24T14:31:31.506478Z",
     "shell.execute_reply": "2023-08-24T14:31:31.505391Z"
    },
    "papermill": {
     "duration": 0.082345,
     "end_time": "2023-08-24T14:31:31.508745",
     "exception": false,
     "start_time": "2023-08-24T14:31:31.426400",
     "status": "completed"
    },
    "tags": []
   },
   "outputs": [
    {
     "data": {
      "text/html": [
       "<div>\n",
       "<style scoped>\n",
       "    .dataframe tbody tr th:only-of-type {\n",
       "        vertical-align: middle;\n",
       "    }\n",
       "\n",
       "    .dataframe tbody tr th {\n",
       "        vertical-align: top;\n",
       "    }\n",
       "\n",
       "    .dataframe thead th {\n",
       "        text-align: right;\n",
       "    }\n",
       "</style>\n",
       "<table border=\"1\" class=\"dataframe\">\n",
       "  <thead>\n",
       "    <tr style=\"text-align: right;\">\n",
       "      <th></th>\n",
       "      <th>Name</th>\n",
       "      <th>Age</th>\n",
       "      <th>Sex</th>\n",
       "    </tr>\n",
       "  </thead>\n",
       "  <tbody>\n",
       "    <tr>\n",
       "      <th>0</th>\n",
       "      <td>Braund, Mr. Owen Harris</td>\n",
       "      <td>22</td>\n",
       "      <td>male</td>\n",
       "    </tr>\n",
       "    <tr>\n",
       "      <th>1</th>\n",
       "      <td>Allen, Mr. William Henry</td>\n",
       "      <td>35</td>\n",
       "      <td>male</td>\n",
       "    </tr>\n",
       "    <tr>\n",
       "      <th>2</th>\n",
       "      <td>Bonnell, Miss. Elizabeth</td>\n",
       "      <td>58</td>\n",
       "      <td>female</td>\n",
       "    </tr>\n",
       "  </tbody>\n",
       "</table>\n",
       "</div>"
      ],
      "text/plain": [
       "                       Name  Age     Sex\n",
       "0   Braund, Mr. Owen Harris   22    male\n",
       "1  Allen, Mr. William Henry   35    male\n",
       "2  Bonnell, Miss. Elizabeth   58  female"
      ]
     },
     "execution_count": 2,
     "metadata": {},
     "output_type": "execute_result"
    }
   ],
   "source": [
    "df = pd.DataFrame({\n",
    "    \n",
    " \"Name\": [\"Braund, Mr. Owen Harris\",\"Allen, Mr. William Henry\",\"Bonnell, Miss. Elizabeth\"],\n",
    "    \n",
    " \"Age\": [22, 35, 58],\n",
    "    \n",
    " \"Sex\": [\"male\", \"male\", \"female\"]\n",
    "    \n",
    "})\n",
    "\n",
    "df"
   ]
  },
  {
   "cell_type": "code",
   "execution_count": 3,
   "id": "a9836a2d",
   "metadata": {
    "execution": {
     "iopub.execute_input": "2023-08-24T14:31:31.609974Z",
     "iopub.status.busy": "2023-08-24T14:31:31.609564Z",
     "iopub.status.idle": "2023-08-24T14:31:31.616857Z",
     "shell.execute_reply": "2023-08-24T14:31:31.615812Z"
    },
    "papermill": {
     "duration": 0.061161,
     "end_time": "2023-08-24T14:31:31.619298",
     "exception": false,
     "start_time": "2023-08-24T14:31:31.558137",
     "status": "completed"
    },
    "tags": []
   },
   "outputs": [
    {
     "data": {
      "text/plain": [
       "0    22\n",
       "1    35\n",
       "2    58\n",
       "Name: Age, dtype: int64"
      ]
     },
     "execution_count": 3,
     "metadata": {},
     "output_type": "execute_result"
    }
   ],
   "source": [
    "df[\"Age\"]"
   ]
  },
  {
   "cell_type": "code",
   "execution_count": 4,
   "id": "af44fffc",
   "metadata": {
    "execution": {
     "iopub.execute_input": "2023-08-24T14:31:31.719313Z",
     "iopub.status.busy": "2023-08-24T14:31:31.718892Z",
     "iopub.status.idle": "2023-08-24T14:31:31.726669Z",
     "shell.execute_reply": "2023-08-24T14:31:31.725905Z"
    },
    "papermill": {
     "duration": 0.060051,
     "end_time": "2023-08-24T14:31:31.728665",
     "exception": false,
     "start_time": "2023-08-24T14:31:31.668614",
     "status": "completed"
    },
    "tags": []
   },
   "outputs": [
    {
     "data": {
      "text/plain": [
       "0    22\n",
       "1    35\n",
       "2    58\n",
       "Name: Age, dtype: int64"
      ]
     },
     "execution_count": 4,
     "metadata": {},
     "output_type": "execute_result"
    }
   ],
   "source": [
    "ages = pd.Series([22, 35, 58], name=\"Age\")\n",
    "ages"
   ]
  },
  {
   "cell_type": "code",
   "execution_count": 5,
   "id": "4c0e7981",
   "metadata": {
    "execution": {
     "iopub.execute_input": "2023-08-24T14:31:31.832043Z",
     "iopub.status.busy": "2023-08-24T14:31:31.831663Z",
     "iopub.status.idle": "2023-08-24T14:31:31.840630Z",
     "shell.execute_reply": "2023-08-24T14:31:31.839594Z"
    },
    "papermill": {
     "duration": 0.062436,
     "end_time": "2023-08-24T14:31:31.842679",
     "exception": false,
     "start_time": "2023-08-24T14:31:31.780243",
     "status": "completed"
    },
    "tags": []
   },
   "outputs": [
    {
     "data": {
      "text/plain": [
       "58"
      ]
     },
     "execution_count": 5,
     "metadata": {},
     "output_type": "execute_result"
    }
   ],
   "source": [
    "df[\"Age\"].max()"
   ]
  },
  {
   "cell_type": "code",
   "execution_count": 6,
   "id": "05cc9ad1",
   "metadata": {
    "execution": {
     "iopub.execute_input": "2023-08-24T14:31:31.943047Z",
     "iopub.status.busy": "2023-08-24T14:31:31.942630Z",
     "iopub.status.idle": "2023-08-24T14:31:31.949171Z",
     "shell.execute_reply": "2023-08-24T14:31:31.948204Z"
    },
    "papermill": {
     "duration": 0.059425,
     "end_time": "2023-08-24T14:31:31.951488",
     "exception": false,
     "start_time": "2023-08-24T14:31:31.892063",
     "status": "completed"
    },
    "tags": []
   },
   "outputs": [
    {
     "data": {
      "text/plain": [
       "58"
      ]
     },
     "execution_count": 6,
     "metadata": {},
     "output_type": "execute_result"
    }
   ],
   "source": [
    "ages.max()"
   ]
  },
  {
   "cell_type": "code",
   "execution_count": 7,
   "id": "ed4cdb36",
   "metadata": {
    "execution": {
     "iopub.execute_input": "2023-08-24T14:31:32.054358Z",
     "iopub.status.busy": "2023-08-24T14:31:32.053721Z",
     "iopub.status.idle": "2023-08-24T14:31:32.071058Z",
     "shell.execute_reply": "2023-08-24T14:31:32.069976Z"
    },
    "papermill": {
     "duration": 0.071434,
     "end_time": "2023-08-24T14:31:32.073426",
     "exception": false,
     "start_time": "2023-08-24T14:31:32.001992",
     "status": "completed"
    },
    "tags": []
   },
   "outputs": [
    {
     "data": {
      "text/html": [
       "<div>\n",
       "<style scoped>\n",
       "    .dataframe tbody tr th:only-of-type {\n",
       "        vertical-align: middle;\n",
       "    }\n",
       "\n",
       "    .dataframe tbody tr th {\n",
       "        vertical-align: top;\n",
       "    }\n",
       "\n",
       "    .dataframe thead th {\n",
       "        text-align: right;\n",
       "    }\n",
       "</style>\n",
       "<table border=\"1\" class=\"dataframe\">\n",
       "  <thead>\n",
       "    <tr style=\"text-align: right;\">\n",
       "      <th></th>\n",
       "      <th>Age</th>\n",
       "    </tr>\n",
       "  </thead>\n",
       "  <tbody>\n",
       "    <tr>\n",
       "      <th>count</th>\n",
       "      <td>3.000000</td>\n",
       "    </tr>\n",
       "    <tr>\n",
       "      <th>mean</th>\n",
       "      <td>38.333333</td>\n",
       "    </tr>\n",
       "    <tr>\n",
       "      <th>std</th>\n",
       "      <td>18.230012</td>\n",
       "    </tr>\n",
       "    <tr>\n",
       "      <th>min</th>\n",
       "      <td>22.000000</td>\n",
       "    </tr>\n",
       "    <tr>\n",
       "      <th>25%</th>\n",
       "      <td>28.500000</td>\n",
       "    </tr>\n",
       "    <tr>\n",
       "      <th>50%</th>\n",
       "      <td>35.000000</td>\n",
       "    </tr>\n",
       "    <tr>\n",
       "      <th>75%</th>\n",
       "      <td>46.500000</td>\n",
       "    </tr>\n",
       "    <tr>\n",
       "      <th>max</th>\n",
       "      <td>58.000000</td>\n",
       "    </tr>\n",
       "  </tbody>\n",
       "</table>\n",
       "</div>"
      ],
      "text/plain": [
       "             Age\n",
       "count   3.000000\n",
       "mean   38.333333\n",
       "std    18.230012\n",
       "min    22.000000\n",
       "25%    28.500000\n",
       "50%    35.000000\n",
       "75%    46.500000\n",
       "max    58.000000"
      ]
     },
     "execution_count": 7,
     "metadata": {},
     "output_type": "execute_result"
    }
   ],
   "source": [
    "df.describe()"
   ]
  },
  {
   "cell_type": "code",
   "execution_count": 8,
   "id": "ecf1dd35",
   "metadata": {
    "execution": {
     "iopub.execute_input": "2023-08-24T14:31:32.176790Z",
     "iopub.status.busy": "2023-08-24T14:31:32.176412Z",
     "iopub.status.idle": "2023-08-24T14:31:32.212349Z",
     "shell.execute_reply": "2023-08-24T14:31:32.211245Z"
    },
    "papermill": {
     "duration": 0.090549,
     "end_time": "2023-08-24T14:31:32.214884",
     "exception": false,
     "start_time": "2023-08-24T14:31:32.124335",
     "status": "completed"
    },
    "tags": []
   },
   "outputs": [
    {
     "data": {
      "text/html": [
       "<div>\n",
       "<style scoped>\n",
       "    .dataframe tbody tr th:only-of-type {\n",
       "        vertical-align: middle;\n",
       "    }\n",
       "\n",
       "    .dataframe tbody tr th {\n",
       "        vertical-align: top;\n",
       "    }\n",
       "\n",
       "    .dataframe thead th {\n",
       "        text-align: right;\n",
       "    }\n",
       "</style>\n",
       "<table border=\"1\" class=\"dataframe\">\n",
       "  <thead>\n",
       "    <tr style=\"text-align: right;\">\n",
       "      <th></th>\n",
       "      <th>PassengerId</th>\n",
       "      <th>Survived</th>\n",
       "      <th>Pclass</th>\n",
       "      <th>Name</th>\n",
       "      <th>Sex</th>\n",
       "      <th>Age</th>\n",
       "      <th>SibSp</th>\n",
       "      <th>Parch</th>\n",
       "      <th>Ticket</th>\n",
       "      <th>Fare</th>\n",
       "      <th>Cabin</th>\n",
       "      <th>Embarked</th>\n",
       "    </tr>\n",
       "  </thead>\n",
       "  <tbody>\n",
       "    <tr>\n",
       "      <th>0</th>\n",
       "      <td>1</td>\n",
       "      <td>0</td>\n",
       "      <td>3</td>\n",
       "      <td>Braund, Mr. Owen Harris</td>\n",
       "      <td>male</td>\n",
       "      <td>22.0</td>\n",
       "      <td>1</td>\n",
       "      <td>0</td>\n",
       "      <td>A/5 21171</td>\n",
       "      <td>7.2500</td>\n",
       "      <td>NaN</td>\n",
       "      <td>S</td>\n",
       "    </tr>\n",
       "    <tr>\n",
       "      <th>1</th>\n",
       "      <td>2</td>\n",
       "      <td>1</td>\n",
       "      <td>1</td>\n",
       "      <td>Cumings, Mrs. John Bradley (Florence Briggs Th...</td>\n",
       "      <td>female</td>\n",
       "      <td>38.0</td>\n",
       "      <td>1</td>\n",
       "      <td>0</td>\n",
       "      <td>PC 17599</td>\n",
       "      <td>71.2833</td>\n",
       "      <td>C85</td>\n",
       "      <td>C</td>\n",
       "    </tr>\n",
       "    <tr>\n",
       "      <th>2</th>\n",
       "      <td>3</td>\n",
       "      <td>1</td>\n",
       "      <td>3</td>\n",
       "      <td>Heikkinen, Miss. Laina</td>\n",
       "      <td>female</td>\n",
       "      <td>26.0</td>\n",
       "      <td>0</td>\n",
       "      <td>0</td>\n",
       "      <td>STON/O2. 3101282</td>\n",
       "      <td>7.9250</td>\n",
       "      <td>NaN</td>\n",
       "      <td>S</td>\n",
       "    </tr>\n",
       "    <tr>\n",
       "      <th>3</th>\n",
       "      <td>4</td>\n",
       "      <td>1</td>\n",
       "      <td>1</td>\n",
       "      <td>Futrelle, Mrs. Jacques Heath (Lily May Peel)</td>\n",
       "      <td>female</td>\n",
       "      <td>35.0</td>\n",
       "      <td>1</td>\n",
       "      <td>0</td>\n",
       "      <td>113803</td>\n",
       "      <td>53.1000</td>\n",
       "      <td>C123</td>\n",
       "      <td>S</td>\n",
       "    </tr>\n",
       "    <tr>\n",
       "      <th>4</th>\n",
       "      <td>5</td>\n",
       "      <td>0</td>\n",
       "      <td>3</td>\n",
       "      <td>Allen, Mr. William Henry</td>\n",
       "      <td>male</td>\n",
       "      <td>35.0</td>\n",
       "      <td>0</td>\n",
       "      <td>0</td>\n",
       "      <td>373450</td>\n",
       "      <td>8.0500</td>\n",
       "      <td>NaN</td>\n",
       "      <td>S</td>\n",
       "    </tr>\n",
       "  </tbody>\n",
       "</table>\n",
       "</div>"
      ],
      "text/plain": [
       "   PassengerId  Survived  Pclass  \\\n",
       "0            1         0       3   \n",
       "1            2         1       1   \n",
       "2            3         1       3   \n",
       "3            4         1       1   \n",
       "4            5         0       3   \n",
       "\n",
       "                                                Name     Sex   Age  SibSp  \\\n",
       "0                            Braund, Mr. Owen Harris    male  22.0      1   \n",
       "1  Cumings, Mrs. John Bradley (Florence Briggs Th...  female  38.0      1   \n",
       "2                             Heikkinen, Miss. Laina  female  26.0      0   \n",
       "3       Futrelle, Mrs. Jacques Heath (Lily May Peel)  female  35.0      1   \n",
       "4                           Allen, Mr. William Henry    male  35.0      0   \n",
       "\n",
       "   Parch            Ticket     Fare Cabin Embarked  \n",
       "0      0         A/5 21171   7.2500   NaN        S  \n",
       "1      0          PC 17599  71.2833   C85        C  \n",
       "2      0  STON/O2. 3101282   7.9250   NaN        S  \n",
       "3      0            113803  53.1000  C123        S  \n",
       "4      0            373450   8.0500   NaN        S  "
      ]
     },
     "execution_count": 8,
     "metadata": {},
     "output_type": "execute_result"
    }
   ],
   "source": [
    "titanic = pd.read_csv(\"/kaggle/input/titanic/train.csv\")\n",
    "titanic.head() "
   ]
  },
  {
   "cell_type": "code",
   "execution_count": 9,
   "id": "c00ffa6b",
   "metadata": {
    "execution": {
     "iopub.execute_input": "2023-08-24T14:31:32.317291Z",
     "iopub.status.busy": "2023-08-24T14:31:32.316866Z",
     "iopub.status.idle": "2023-08-24T14:31:32.325450Z",
     "shell.execute_reply": "2023-08-24T14:31:32.324224Z"
    },
    "papermill": {
     "duration": 0.062455,
     "end_time": "2023-08-24T14:31:32.327749",
     "exception": false,
     "start_time": "2023-08-24T14:31:32.265294",
     "status": "completed"
    },
    "tags": []
   },
   "outputs": [
    {
     "data": {
      "text/plain": [
       "PassengerId      int64\n",
       "Survived         int64\n",
       "Pclass           int64\n",
       "Name            object\n",
       "Sex             object\n",
       "Age            float64\n",
       "SibSp            int64\n",
       "Parch            int64\n",
       "Ticket          object\n",
       "Fare           float64\n",
       "Cabin           object\n",
       "Embarked        object\n",
       "dtype: object"
      ]
     },
     "execution_count": 9,
     "metadata": {},
     "output_type": "execute_result"
    }
   ],
   "source": [
    "titanic.dtypes"
   ]
  },
  {
   "cell_type": "code",
   "execution_count": 10,
   "id": "2b51773e",
   "metadata": {
    "execution": {
     "iopub.execute_input": "2023-08-24T14:31:32.430143Z",
     "iopub.status.busy": "2023-08-24T14:31:32.429770Z",
     "iopub.status.idle": "2023-08-24T14:31:33.305343Z",
     "shell.execute_reply": "2023-08-24T14:31:33.304345Z"
    },
    "papermill": {
     "duration": 0.929813,
     "end_time": "2023-08-24T14:31:33.308049",
     "exception": false,
     "start_time": "2023-08-24T14:31:32.378236",
     "status": "completed"
    },
    "tags": []
   },
   "outputs": [],
   "source": [
    "titanic.to_excel(\"titanic.xlsx\", sheet_name=\"passengers\", index=False)"
   ]
  },
  {
   "cell_type": "code",
   "execution_count": 11,
   "id": "959fa4df",
   "metadata": {
    "execution": {
     "iopub.execute_input": "2023-08-24T14:31:33.411085Z",
     "iopub.status.busy": "2023-08-24T14:31:33.410493Z",
     "iopub.status.idle": "2023-08-24T14:31:33.736779Z",
     "shell.execute_reply": "2023-08-24T14:31:33.735687Z"
    },
    "papermill": {
     "duration": 0.381113,
     "end_time": "2023-08-24T14:31:33.739573",
     "exception": false,
     "start_time": "2023-08-24T14:31:33.358460",
     "status": "completed"
    },
    "tags": []
   },
   "outputs": [],
   "source": [
    "titanic = pd.read_excel(\"titanic.xlsx\", sheet_name=\"passengers\")"
   ]
  },
  {
   "cell_type": "code",
   "execution_count": 12,
   "id": "d0cde9ed",
   "metadata": {
    "execution": {
     "iopub.execute_input": "2023-08-24T14:31:33.846373Z",
     "iopub.status.busy": "2023-08-24T14:31:33.845956Z",
     "iopub.status.idle": "2023-08-24T14:31:33.873136Z",
     "shell.execute_reply": "2023-08-24T14:31:33.871982Z"
    },
    "papermill": {
     "duration": 0.082878,
     "end_time": "2023-08-24T14:31:33.875862",
     "exception": false,
     "start_time": "2023-08-24T14:31:33.792984",
     "status": "completed"
    },
    "tags": []
   },
   "outputs": [
    {
     "name": "stdout",
     "output_type": "stream",
     "text": [
      "<class 'pandas.core.frame.DataFrame'>\n",
      "RangeIndex: 891 entries, 0 to 890\n",
      "Data columns (total 12 columns):\n",
      " #   Column       Non-Null Count  Dtype  \n",
      "---  ------       --------------  -----  \n",
      " 0   PassengerId  891 non-null    int64  \n",
      " 1   Survived     891 non-null    int64  \n",
      " 2   Pclass       891 non-null    int64  \n",
      " 3   Name         891 non-null    object \n",
      " 4   Sex          891 non-null    object \n",
      " 5   Age          714 non-null    float64\n",
      " 6   SibSp        891 non-null    int64  \n",
      " 7   Parch        891 non-null    int64  \n",
      " 8   Ticket       891 non-null    object \n",
      " 9   Fare         891 non-null    float64\n",
      " 10  Cabin        204 non-null    object \n",
      " 11  Embarked     889 non-null    object \n",
      "dtypes: float64(2), int64(5), object(5)\n",
      "memory usage: 83.7+ KB\n"
     ]
    }
   ],
   "source": [
    "titanic.info()"
   ]
  },
  {
   "cell_type": "code",
   "execution_count": 13,
   "id": "d5a78e65",
   "metadata": {
    "execution": {
     "iopub.execute_input": "2023-08-24T14:31:33.980337Z",
     "iopub.status.busy": "2023-08-24T14:31:33.979905Z",
     "iopub.status.idle": "2023-08-24T14:31:33.989043Z",
     "shell.execute_reply": "2023-08-24T14:31:33.987923Z"
    },
    "papermill": {
     "duration": 0.064739,
     "end_time": "2023-08-24T14:31:33.991606",
     "exception": false,
     "start_time": "2023-08-24T14:31:33.926867",
     "status": "completed"
    },
    "tags": []
   },
   "outputs": [
    {
     "data": {
      "text/plain": [
       "0    22.0\n",
       "1    38.0\n",
       "2    26.0\n",
       "3    35.0\n",
       "4    35.0\n",
       "Name: Age, dtype: float64"
      ]
     },
     "execution_count": 13,
     "metadata": {},
     "output_type": "execute_result"
    }
   ],
   "source": [
    "ages = titanic[\"Age\"]\n",
    "ages.head()"
   ]
  },
  {
   "cell_type": "code",
   "execution_count": 14,
   "id": "57532750",
   "metadata": {
    "execution": {
     "iopub.execute_input": "2023-08-24T14:31:34.097346Z",
     "iopub.status.busy": "2023-08-24T14:31:34.096950Z",
     "iopub.status.idle": "2023-08-24T14:31:34.104024Z",
     "shell.execute_reply": "2023-08-24T14:31:34.102816Z"
    },
    "papermill": {
     "duration": 0.062374,
     "end_time": "2023-08-24T14:31:34.106197",
     "exception": false,
     "start_time": "2023-08-24T14:31:34.043823",
     "status": "completed"
    },
    "tags": []
   },
   "outputs": [
    {
     "data": {
      "text/plain": [
       "pandas.core.series.Series"
      ]
     },
     "execution_count": 14,
     "metadata": {},
     "output_type": "execute_result"
    }
   ],
   "source": [
    "type(titanic[\"Age\"])"
   ]
  },
  {
   "cell_type": "code",
   "execution_count": 15,
   "id": "90a57d47",
   "metadata": {
    "execution": {
     "iopub.execute_input": "2023-08-24T14:31:34.210915Z",
     "iopub.status.busy": "2023-08-24T14:31:34.210492Z",
     "iopub.status.idle": "2023-08-24T14:31:34.217011Z",
     "shell.execute_reply": "2023-08-24T14:31:34.216202Z"
    },
    "papermill": {
     "duration": 0.061441,
     "end_time": "2023-08-24T14:31:34.219155",
     "exception": false,
     "start_time": "2023-08-24T14:31:34.157714",
     "status": "completed"
    },
    "tags": []
   },
   "outputs": [
    {
     "data": {
      "text/plain": [
       "(891,)"
      ]
     },
     "execution_count": 15,
     "metadata": {},
     "output_type": "execute_result"
    }
   ],
   "source": [
    "titanic[\"Age\"].shape"
   ]
  },
  {
   "cell_type": "code",
   "execution_count": 16,
   "id": "6408c509",
   "metadata": {
    "execution": {
     "iopub.execute_input": "2023-08-24T14:31:34.323328Z",
     "iopub.status.busy": "2023-08-24T14:31:34.322880Z",
     "iopub.status.idle": "2023-08-24T14:31:34.330192Z",
     "shell.execute_reply": "2023-08-24T14:31:34.329085Z"
    },
    "papermill": {
     "duration": 0.062202,
     "end_time": "2023-08-24T14:31:34.332311",
     "exception": false,
     "start_time": "2023-08-24T14:31:34.270109",
     "status": "completed"
    },
    "tags": []
   },
   "outputs": [
    {
     "data": {
      "text/plain": [
       "(891,)"
      ]
     },
     "execution_count": 16,
     "metadata": {},
     "output_type": "execute_result"
    }
   ],
   "source": [
    "titanic[\"Age\"].shape"
   ]
  },
  {
   "cell_type": "code",
   "execution_count": 17,
   "id": "2eecbe91",
   "metadata": {
    "execution": {
     "iopub.execute_input": "2023-08-24T14:31:34.436912Z",
     "iopub.status.busy": "2023-08-24T14:31:34.436476Z",
     "iopub.status.idle": "2023-08-24T14:31:34.449695Z",
     "shell.execute_reply": "2023-08-24T14:31:34.448556Z"
    },
    "papermill": {
     "duration": 0.068736,
     "end_time": "2023-08-24T14:31:34.451997",
     "exception": false,
     "start_time": "2023-08-24T14:31:34.383261",
     "status": "completed"
    },
    "tags": []
   },
   "outputs": [
    {
     "data": {
      "text/html": [
       "<div>\n",
       "<style scoped>\n",
       "    .dataframe tbody tr th:only-of-type {\n",
       "        vertical-align: middle;\n",
       "    }\n",
       "\n",
       "    .dataframe tbody tr th {\n",
       "        vertical-align: top;\n",
       "    }\n",
       "\n",
       "    .dataframe thead th {\n",
       "        text-align: right;\n",
       "    }\n",
       "</style>\n",
       "<table border=\"1\" class=\"dataframe\">\n",
       "  <thead>\n",
       "    <tr style=\"text-align: right;\">\n",
       "      <th></th>\n",
       "      <th>Age</th>\n",
       "      <th>Sex</th>\n",
       "    </tr>\n",
       "  </thead>\n",
       "  <tbody>\n",
       "    <tr>\n",
       "      <th>0</th>\n",
       "      <td>22.0</td>\n",
       "      <td>male</td>\n",
       "    </tr>\n",
       "    <tr>\n",
       "      <th>1</th>\n",
       "      <td>38.0</td>\n",
       "      <td>female</td>\n",
       "    </tr>\n",
       "    <tr>\n",
       "      <th>2</th>\n",
       "      <td>26.0</td>\n",
       "      <td>female</td>\n",
       "    </tr>\n",
       "    <tr>\n",
       "      <th>3</th>\n",
       "      <td>35.0</td>\n",
       "      <td>female</td>\n",
       "    </tr>\n",
       "    <tr>\n",
       "      <th>4</th>\n",
       "      <td>35.0</td>\n",
       "      <td>male</td>\n",
       "    </tr>\n",
       "  </tbody>\n",
       "</table>\n",
       "</div>"
      ],
      "text/plain": [
       "    Age     Sex\n",
       "0  22.0    male\n",
       "1  38.0  female\n",
       "2  26.0  female\n",
       "3  35.0  female\n",
       "4  35.0    male"
      ]
     },
     "execution_count": 17,
     "metadata": {},
     "output_type": "execute_result"
    }
   ],
   "source": [
    "age_sex = titanic[[\"Age\", \"Sex\"]]\n",
    "age_sex.head()"
   ]
  },
  {
   "cell_type": "code",
   "execution_count": 18,
   "id": "4e6c72cf",
   "metadata": {
    "execution": {
     "iopub.execute_input": "2023-08-24T14:31:34.557155Z",
     "iopub.status.busy": "2023-08-24T14:31:34.556723Z",
     "iopub.status.idle": "2023-08-24T14:31:34.564775Z",
     "shell.execute_reply": "2023-08-24T14:31:34.563672Z"
    },
    "papermill": {
     "duration": 0.063369,
     "end_time": "2023-08-24T14:31:34.567127",
     "exception": false,
     "start_time": "2023-08-24T14:31:34.503758",
     "status": "completed"
    },
    "tags": []
   },
   "outputs": [
    {
     "data": {
      "text/plain": [
       "(891, 2)"
      ]
     },
     "execution_count": 18,
     "metadata": {},
     "output_type": "execute_result"
    }
   ],
   "source": [
    "titanic[[\"Age\", \"Sex\"]].shape"
   ]
  },
  {
   "cell_type": "code",
   "execution_count": 19,
   "id": "f9aaca60",
   "metadata": {
    "execution": {
     "iopub.execute_input": "2023-08-24T14:31:34.672284Z",
     "iopub.status.busy": "2023-08-24T14:31:34.671878Z",
     "iopub.status.idle": "2023-08-24T14:31:34.692680Z",
     "shell.execute_reply": "2023-08-24T14:31:34.691552Z"
    },
    "papermill": {
     "duration": 0.075941,
     "end_time": "2023-08-24T14:31:34.695048",
     "exception": false,
     "start_time": "2023-08-24T14:31:34.619107",
     "status": "completed"
    },
    "tags": []
   },
   "outputs": [
    {
     "data": {
      "text/html": [
       "<div>\n",
       "<style scoped>\n",
       "    .dataframe tbody tr th:only-of-type {\n",
       "        vertical-align: middle;\n",
       "    }\n",
       "\n",
       "    .dataframe tbody tr th {\n",
       "        vertical-align: top;\n",
       "    }\n",
       "\n",
       "    .dataframe thead th {\n",
       "        text-align: right;\n",
       "    }\n",
       "</style>\n",
       "<table border=\"1\" class=\"dataframe\">\n",
       "  <thead>\n",
       "    <tr style=\"text-align: right;\">\n",
       "      <th></th>\n",
       "      <th>PassengerId</th>\n",
       "      <th>Survived</th>\n",
       "      <th>Pclass</th>\n",
       "      <th>Name</th>\n",
       "      <th>Sex</th>\n",
       "      <th>Age</th>\n",
       "      <th>SibSp</th>\n",
       "      <th>Parch</th>\n",
       "      <th>Ticket</th>\n",
       "      <th>Fare</th>\n",
       "      <th>Cabin</th>\n",
       "      <th>Embarked</th>\n",
       "    </tr>\n",
       "  </thead>\n",
       "  <tbody>\n",
       "    <tr>\n",
       "      <th>1</th>\n",
       "      <td>2</td>\n",
       "      <td>1</td>\n",
       "      <td>1</td>\n",
       "      <td>Cumings, Mrs. John Bradley (Florence Briggs Th...</td>\n",
       "      <td>female</td>\n",
       "      <td>38.0</td>\n",
       "      <td>1</td>\n",
       "      <td>0</td>\n",
       "      <td>PC 17599</td>\n",
       "      <td>71.2833</td>\n",
       "      <td>C85</td>\n",
       "      <td>C</td>\n",
       "    </tr>\n",
       "    <tr>\n",
       "      <th>6</th>\n",
       "      <td>7</td>\n",
       "      <td>0</td>\n",
       "      <td>1</td>\n",
       "      <td>McCarthy, Mr. Timothy J</td>\n",
       "      <td>male</td>\n",
       "      <td>54.0</td>\n",
       "      <td>0</td>\n",
       "      <td>0</td>\n",
       "      <td>17463</td>\n",
       "      <td>51.8625</td>\n",
       "      <td>E46</td>\n",
       "      <td>S</td>\n",
       "    </tr>\n",
       "    <tr>\n",
       "      <th>11</th>\n",
       "      <td>12</td>\n",
       "      <td>1</td>\n",
       "      <td>1</td>\n",
       "      <td>Bonnell, Miss. Elizabeth</td>\n",
       "      <td>female</td>\n",
       "      <td>58.0</td>\n",
       "      <td>0</td>\n",
       "      <td>0</td>\n",
       "      <td>113783</td>\n",
       "      <td>26.5500</td>\n",
       "      <td>C103</td>\n",
       "      <td>S</td>\n",
       "    </tr>\n",
       "    <tr>\n",
       "      <th>13</th>\n",
       "      <td>14</td>\n",
       "      <td>0</td>\n",
       "      <td>3</td>\n",
       "      <td>Andersson, Mr. Anders Johan</td>\n",
       "      <td>male</td>\n",
       "      <td>39.0</td>\n",
       "      <td>1</td>\n",
       "      <td>5</td>\n",
       "      <td>347082</td>\n",
       "      <td>31.2750</td>\n",
       "      <td>NaN</td>\n",
       "      <td>S</td>\n",
       "    </tr>\n",
       "    <tr>\n",
       "      <th>15</th>\n",
       "      <td>16</td>\n",
       "      <td>1</td>\n",
       "      <td>2</td>\n",
       "      <td>Hewlett, Mrs. (Mary D Kingcome)</td>\n",
       "      <td>female</td>\n",
       "      <td>55.0</td>\n",
       "      <td>0</td>\n",
       "      <td>0</td>\n",
       "      <td>248706</td>\n",
       "      <td>16.0000</td>\n",
       "      <td>NaN</td>\n",
       "      <td>S</td>\n",
       "    </tr>\n",
       "  </tbody>\n",
       "</table>\n",
       "</div>"
      ],
      "text/plain": [
       "    PassengerId  Survived  Pclass  \\\n",
       "1             2         1       1   \n",
       "6             7         0       1   \n",
       "11           12         1       1   \n",
       "13           14         0       3   \n",
       "15           16         1       2   \n",
       "\n",
       "                                                 Name     Sex   Age  SibSp  \\\n",
       "1   Cumings, Mrs. John Bradley (Florence Briggs Th...  female  38.0      1   \n",
       "6                             McCarthy, Mr. Timothy J    male  54.0      0   \n",
       "11                           Bonnell, Miss. Elizabeth  female  58.0      0   \n",
       "13                        Andersson, Mr. Anders Johan    male  39.0      1   \n",
       "15                   Hewlett, Mrs. (Mary D Kingcome)   female  55.0      0   \n",
       "\n",
       "    Parch    Ticket     Fare Cabin Embarked  \n",
       "1       0  PC 17599  71.2833   C85        C  \n",
       "6       0     17463  51.8625   E46        S  \n",
       "11      0    113783  26.5500  C103        S  \n",
       "13      5    347082  31.2750   NaN        S  \n",
       "15      0    248706  16.0000   NaN        S  "
      ]
     },
     "execution_count": 19,
     "metadata": {},
     "output_type": "execute_result"
    }
   ],
   "source": [
    "above_35 = titanic[titanic[\"Age\"] > 35]\n",
    "above_35.head()"
   ]
  },
  {
   "cell_type": "code",
   "execution_count": 20,
   "id": "b6c21b14",
   "metadata": {
    "execution": {
     "iopub.execute_input": "2023-08-24T14:31:34.803830Z",
     "iopub.status.busy": "2023-08-24T14:31:34.803147Z",
     "iopub.status.idle": "2023-08-24T14:31:34.823719Z",
     "shell.execute_reply": "2023-08-24T14:31:34.822511Z"
    },
    "papermill": {
     "duration": 0.07878,
     "end_time": "2023-08-24T14:31:34.826015",
     "exception": false,
     "start_time": "2023-08-24T14:31:34.747235",
     "status": "completed"
    },
    "tags": []
   },
   "outputs": [
    {
     "data": {
      "text/html": [
       "<div>\n",
       "<style scoped>\n",
       "    .dataframe tbody tr th:only-of-type {\n",
       "        vertical-align: middle;\n",
       "    }\n",
       "\n",
       "    .dataframe tbody tr th {\n",
       "        vertical-align: top;\n",
       "    }\n",
       "\n",
       "    .dataframe thead th {\n",
       "        text-align: right;\n",
       "    }\n",
       "</style>\n",
       "<table border=\"1\" class=\"dataframe\">\n",
       "  <thead>\n",
       "    <tr style=\"text-align: right;\">\n",
       "      <th></th>\n",
       "      <th>PassengerId</th>\n",
       "      <th>Survived</th>\n",
       "      <th>Pclass</th>\n",
       "      <th>Name</th>\n",
       "      <th>Sex</th>\n",
       "      <th>Age</th>\n",
       "      <th>SibSp</th>\n",
       "      <th>Parch</th>\n",
       "      <th>Ticket</th>\n",
       "      <th>Fare</th>\n",
       "      <th>Cabin</th>\n",
       "      <th>Embarked</th>\n",
       "    </tr>\n",
       "  </thead>\n",
       "  <tbody>\n",
       "    <tr>\n",
       "      <th>0</th>\n",
       "      <td>1</td>\n",
       "      <td>0</td>\n",
       "      <td>3</td>\n",
       "      <td>Braund, Mr. Owen Harris</td>\n",
       "      <td>male</td>\n",
       "      <td>22.0</td>\n",
       "      <td>1</td>\n",
       "      <td>0</td>\n",
       "      <td>A/5 21171</td>\n",
       "      <td>7.2500</td>\n",
       "      <td>NaN</td>\n",
       "      <td>S</td>\n",
       "    </tr>\n",
       "    <tr>\n",
       "      <th>2</th>\n",
       "      <td>3</td>\n",
       "      <td>1</td>\n",
       "      <td>3</td>\n",
       "      <td>Heikkinen, Miss. Laina</td>\n",
       "      <td>female</td>\n",
       "      <td>26.0</td>\n",
       "      <td>0</td>\n",
       "      <td>0</td>\n",
       "      <td>STON/O2. 3101282</td>\n",
       "      <td>7.9250</td>\n",
       "      <td>NaN</td>\n",
       "      <td>S</td>\n",
       "    </tr>\n",
       "    <tr>\n",
       "      <th>4</th>\n",
       "      <td>5</td>\n",
       "      <td>0</td>\n",
       "      <td>3</td>\n",
       "      <td>Allen, Mr. William Henry</td>\n",
       "      <td>male</td>\n",
       "      <td>35.0</td>\n",
       "      <td>0</td>\n",
       "      <td>0</td>\n",
       "      <td>373450</td>\n",
       "      <td>8.0500</td>\n",
       "      <td>NaN</td>\n",
       "      <td>S</td>\n",
       "    </tr>\n",
       "    <tr>\n",
       "      <th>5</th>\n",
       "      <td>6</td>\n",
       "      <td>0</td>\n",
       "      <td>3</td>\n",
       "      <td>Moran, Mr. James</td>\n",
       "      <td>male</td>\n",
       "      <td>NaN</td>\n",
       "      <td>0</td>\n",
       "      <td>0</td>\n",
       "      <td>330877</td>\n",
       "      <td>8.4583</td>\n",
       "      <td>NaN</td>\n",
       "      <td>Q</td>\n",
       "    </tr>\n",
       "    <tr>\n",
       "      <th>7</th>\n",
       "      <td>8</td>\n",
       "      <td>0</td>\n",
       "      <td>3</td>\n",
       "      <td>Palsson, Master. Gosta Leonard</td>\n",
       "      <td>male</td>\n",
       "      <td>2.0</td>\n",
       "      <td>3</td>\n",
       "      <td>1</td>\n",
       "      <td>349909</td>\n",
       "      <td>21.0750</td>\n",
       "      <td>NaN</td>\n",
       "      <td>S</td>\n",
       "    </tr>\n",
       "  </tbody>\n",
       "</table>\n",
       "</div>"
      ],
      "text/plain": [
       "   PassengerId  Survived  Pclass                            Name     Sex  \\\n",
       "0            1         0       3         Braund, Mr. Owen Harris    male   \n",
       "2            3         1       3          Heikkinen, Miss. Laina  female   \n",
       "4            5         0       3        Allen, Mr. William Henry    male   \n",
       "5            6         0       3                Moran, Mr. James    male   \n",
       "7            8         0       3  Palsson, Master. Gosta Leonard    male   \n",
       "\n",
       "    Age  SibSp  Parch            Ticket     Fare Cabin Embarked  \n",
       "0  22.0      1      0         A/5 21171   7.2500   NaN        S  \n",
       "2  26.0      0      0  STON/O2. 3101282   7.9250   NaN        S  \n",
       "4  35.0      0      0            373450   8.0500   NaN        S  \n",
       "5   NaN      0      0            330877   8.4583   NaN        Q  \n",
       "7   2.0      3      1            349909  21.0750   NaN        S  "
      ]
     },
     "execution_count": 20,
     "metadata": {},
     "output_type": "execute_result"
    }
   ],
   "source": [
    "class_23 = titanic[titanic[\"Pclass\"].isin([2, 3])]\n",
    "class_23.head()"
   ]
  },
  {
   "cell_type": "code",
   "execution_count": 21,
   "id": "405b72b2",
   "metadata": {
    "execution": {
     "iopub.execute_input": "2023-08-24T14:31:34.934145Z",
     "iopub.status.busy": "2023-08-24T14:31:34.932878Z",
     "iopub.status.idle": "2023-08-24T14:31:34.952046Z",
     "shell.execute_reply": "2023-08-24T14:31:34.950888Z"
    },
    "papermill": {
     "duration": 0.074781,
     "end_time": "2023-08-24T14:31:34.954246",
     "exception": false,
     "start_time": "2023-08-24T14:31:34.879465",
     "status": "completed"
    },
    "tags": []
   },
   "outputs": [
    {
     "data": {
      "text/html": [
       "<div>\n",
       "<style scoped>\n",
       "    .dataframe tbody tr th:only-of-type {\n",
       "        vertical-align: middle;\n",
       "    }\n",
       "\n",
       "    .dataframe tbody tr th {\n",
       "        vertical-align: top;\n",
       "    }\n",
       "\n",
       "    .dataframe thead th {\n",
       "        text-align: right;\n",
       "    }\n",
       "</style>\n",
       "<table border=\"1\" class=\"dataframe\">\n",
       "  <thead>\n",
       "    <tr style=\"text-align: right;\">\n",
       "      <th></th>\n",
       "      <th>PassengerId</th>\n",
       "      <th>Survived</th>\n",
       "      <th>Pclass</th>\n",
       "      <th>Name</th>\n",
       "      <th>Sex</th>\n",
       "      <th>Age</th>\n",
       "      <th>SibSp</th>\n",
       "      <th>Parch</th>\n",
       "      <th>Ticket</th>\n",
       "      <th>Fare</th>\n",
       "      <th>Cabin</th>\n",
       "      <th>Embarked</th>\n",
       "    </tr>\n",
       "  </thead>\n",
       "  <tbody>\n",
       "    <tr>\n",
       "      <th>0</th>\n",
       "      <td>1</td>\n",
       "      <td>0</td>\n",
       "      <td>3</td>\n",
       "      <td>Braund, Mr. Owen Harris</td>\n",
       "      <td>male</td>\n",
       "      <td>22.0</td>\n",
       "      <td>1</td>\n",
       "      <td>0</td>\n",
       "      <td>A/5 21171</td>\n",
       "      <td>7.2500</td>\n",
       "      <td>NaN</td>\n",
       "      <td>S</td>\n",
       "    </tr>\n",
       "    <tr>\n",
       "      <th>2</th>\n",
       "      <td>3</td>\n",
       "      <td>1</td>\n",
       "      <td>3</td>\n",
       "      <td>Heikkinen, Miss. Laina</td>\n",
       "      <td>female</td>\n",
       "      <td>26.0</td>\n",
       "      <td>0</td>\n",
       "      <td>0</td>\n",
       "      <td>STON/O2. 3101282</td>\n",
       "      <td>7.9250</td>\n",
       "      <td>NaN</td>\n",
       "      <td>S</td>\n",
       "    </tr>\n",
       "    <tr>\n",
       "      <th>4</th>\n",
       "      <td>5</td>\n",
       "      <td>0</td>\n",
       "      <td>3</td>\n",
       "      <td>Allen, Mr. William Henry</td>\n",
       "      <td>male</td>\n",
       "      <td>35.0</td>\n",
       "      <td>0</td>\n",
       "      <td>0</td>\n",
       "      <td>373450</td>\n",
       "      <td>8.0500</td>\n",
       "      <td>NaN</td>\n",
       "      <td>S</td>\n",
       "    </tr>\n",
       "    <tr>\n",
       "      <th>5</th>\n",
       "      <td>6</td>\n",
       "      <td>0</td>\n",
       "      <td>3</td>\n",
       "      <td>Moran, Mr. James</td>\n",
       "      <td>male</td>\n",
       "      <td>NaN</td>\n",
       "      <td>0</td>\n",
       "      <td>0</td>\n",
       "      <td>330877</td>\n",
       "      <td>8.4583</td>\n",
       "      <td>NaN</td>\n",
       "      <td>Q</td>\n",
       "    </tr>\n",
       "    <tr>\n",
       "      <th>7</th>\n",
       "      <td>8</td>\n",
       "      <td>0</td>\n",
       "      <td>3</td>\n",
       "      <td>Palsson, Master. Gosta Leonard</td>\n",
       "      <td>male</td>\n",
       "      <td>2.0</td>\n",
       "      <td>3</td>\n",
       "      <td>1</td>\n",
       "      <td>349909</td>\n",
       "      <td>21.0750</td>\n",
       "      <td>NaN</td>\n",
       "      <td>S</td>\n",
       "    </tr>\n",
       "  </tbody>\n",
       "</table>\n",
       "</div>"
      ],
      "text/plain": [
       "   PassengerId  Survived  Pclass                            Name     Sex  \\\n",
       "0            1         0       3         Braund, Mr. Owen Harris    male   \n",
       "2            3         1       3          Heikkinen, Miss. Laina  female   \n",
       "4            5         0       3        Allen, Mr. William Henry    male   \n",
       "5            6         0       3                Moran, Mr. James    male   \n",
       "7            8         0       3  Palsson, Master. Gosta Leonard    male   \n",
       "\n",
       "    Age  SibSp  Parch            Ticket     Fare Cabin Embarked  \n",
       "0  22.0      1      0         A/5 21171   7.2500   NaN        S  \n",
       "2  26.0      0      0  STON/O2. 3101282   7.9250   NaN        S  \n",
       "4  35.0      0      0            373450   8.0500   NaN        S  \n",
       "5   NaN      0      0            330877   8.4583   NaN        Q  \n",
       "7   2.0      3      1            349909  21.0750   NaN        S  "
      ]
     },
     "execution_count": 21,
     "metadata": {},
     "output_type": "execute_result"
    }
   ],
   "source": [
    "class_23 = titanic[(titanic[\"Pclass\"] == 2) | (titanic[\"Pclass\"] == 3)]\n",
    "class_23.head()"
   ]
  },
  {
   "cell_type": "code",
   "execution_count": 22,
   "id": "a931cbab",
   "metadata": {
    "execution": {
     "iopub.execute_input": "2023-08-24T14:31:35.062756Z",
     "iopub.status.busy": "2023-08-24T14:31:35.062022Z",
     "iopub.status.idle": "2023-08-24T14:31:35.079721Z",
     "shell.execute_reply": "2023-08-24T14:31:35.078595Z"
    },
    "papermill": {
     "duration": 0.074485,
     "end_time": "2023-08-24T14:31:35.082150",
     "exception": false,
     "start_time": "2023-08-24T14:31:35.007665",
     "status": "completed"
    },
    "tags": []
   },
   "outputs": [
    {
     "data": {
      "text/html": [
       "<div>\n",
       "<style scoped>\n",
       "    .dataframe tbody tr th:only-of-type {\n",
       "        vertical-align: middle;\n",
       "    }\n",
       "\n",
       "    .dataframe tbody tr th {\n",
       "        vertical-align: top;\n",
       "    }\n",
       "\n",
       "    .dataframe thead th {\n",
       "        text-align: right;\n",
       "    }\n",
       "</style>\n",
       "<table border=\"1\" class=\"dataframe\">\n",
       "  <thead>\n",
       "    <tr style=\"text-align: right;\">\n",
       "      <th></th>\n",
       "      <th>PassengerId</th>\n",
       "      <th>Survived</th>\n",
       "      <th>Pclass</th>\n",
       "      <th>Name</th>\n",
       "      <th>Sex</th>\n",
       "      <th>Age</th>\n",
       "      <th>SibSp</th>\n",
       "      <th>Parch</th>\n",
       "      <th>Ticket</th>\n",
       "      <th>Fare</th>\n",
       "      <th>Cabin</th>\n",
       "      <th>Embarked</th>\n",
       "    </tr>\n",
       "  </thead>\n",
       "  <tbody>\n",
       "    <tr>\n",
       "      <th>0</th>\n",
       "      <td>1</td>\n",
       "      <td>0</td>\n",
       "      <td>3</td>\n",
       "      <td>Braund, Mr. Owen Harris</td>\n",
       "      <td>male</td>\n",
       "      <td>22.0</td>\n",
       "      <td>1</td>\n",
       "      <td>0</td>\n",
       "      <td>A/5 21171</td>\n",
       "      <td>7.2500</td>\n",
       "      <td>NaN</td>\n",
       "      <td>S</td>\n",
       "    </tr>\n",
       "    <tr>\n",
       "      <th>1</th>\n",
       "      <td>2</td>\n",
       "      <td>1</td>\n",
       "      <td>1</td>\n",
       "      <td>Cumings, Mrs. John Bradley (Florence Briggs Th...</td>\n",
       "      <td>female</td>\n",
       "      <td>38.0</td>\n",
       "      <td>1</td>\n",
       "      <td>0</td>\n",
       "      <td>PC 17599</td>\n",
       "      <td>71.2833</td>\n",
       "      <td>C85</td>\n",
       "      <td>C</td>\n",
       "    </tr>\n",
       "    <tr>\n",
       "      <th>2</th>\n",
       "      <td>3</td>\n",
       "      <td>1</td>\n",
       "      <td>3</td>\n",
       "      <td>Heikkinen, Miss. Laina</td>\n",
       "      <td>female</td>\n",
       "      <td>26.0</td>\n",
       "      <td>0</td>\n",
       "      <td>0</td>\n",
       "      <td>STON/O2. 3101282</td>\n",
       "      <td>7.9250</td>\n",
       "      <td>NaN</td>\n",
       "      <td>S</td>\n",
       "    </tr>\n",
       "    <tr>\n",
       "      <th>3</th>\n",
       "      <td>4</td>\n",
       "      <td>1</td>\n",
       "      <td>1</td>\n",
       "      <td>Futrelle, Mrs. Jacques Heath (Lily May Peel)</td>\n",
       "      <td>female</td>\n",
       "      <td>35.0</td>\n",
       "      <td>1</td>\n",
       "      <td>0</td>\n",
       "      <td>113803</td>\n",
       "      <td>53.1000</td>\n",
       "      <td>C123</td>\n",
       "      <td>S</td>\n",
       "    </tr>\n",
       "    <tr>\n",
       "      <th>4</th>\n",
       "      <td>5</td>\n",
       "      <td>0</td>\n",
       "      <td>3</td>\n",
       "      <td>Allen, Mr. William Henry</td>\n",
       "      <td>male</td>\n",
       "      <td>35.0</td>\n",
       "      <td>0</td>\n",
       "      <td>0</td>\n",
       "      <td>373450</td>\n",
       "      <td>8.0500</td>\n",
       "      <td>NaN</td>\n",
       "      <td>S</td>\n",
       "    </tr>\n",
       "  </tbody>\n",
       "</table>\n",
       "</div>"
      ],
      "text/plain": [
       "   PassengerId  Survived  Pclass  \\\n",
       "0            1         0       3   \n",
       "1            2         1       1   \n",
       "2            3         1       3   \n",
       "3            4         1       1   \n",
       "4            5         0       3   \n",
       "\n",
       "                                                Name     Sex   Age  SibSp  \\\n",
       "0                            Braund, Mr. Owen Harris    male  22.0      1   \n",
       "1  Cumings, Mrs. John Bradley (Florence Briggs Th...  female  38.0      1   \n",
       "2                             Heikkinen, Miss. Laina  female  26.0      0   \n",
       "3       Futrelle, Mrs. Jacques Heath (Lily May Peel)  female  35.0      1   \n",
       "4                           Allen, Mr. William Henry    male  35.0      0   \n",
       "\n",
       "   Parch            Ticket     Fare Cabin Embarked  \n",
       "0      0         A/5 21171   7.2500   NaN        S  \n",
       "1      0          PC 17599  71.2833   C85        C  \n",
       "2      0  STON/O2. 3101282   7.9250   NaN        S  \n",
       "3      0            113803  53.1000  C123        S  \n",
       "4      0            373450   8.0500   NaN        S  "
      ]
     },
     "execution_count": 22,
     "metadata": {},
     "output_type": "execute_result"
    }
   ],
   "source": [
    "age_no_na = titanic[titanic[\"Age\"].notna()]\n",
    "age_no_na.head()"
   ]
  },
  {
   "cell_type": "code",
   "execution_count": 23,
   "id": "6e339c19",
   "metadata": {
    "execution": {
     "iopub.execute_input": "2023-08-24T14:31:35.191530Z",
     "iopub.status.busy": "2023-08-24T14:31:35.190864Z",
     "iopub.status.idle": "2023-08-24T14:31:35.208146Z",
     "shell.execute_reply": "2023-08-24T14:31:35.206988Z"
    },
    "papermill": {
     "duration": 0.074414,
     "end_time": "2023-08-24T14:31:35.210596",
     "exception": false,
     "start_time": "2023-08-24T14:31:35.136182",
     "status": "completed"
    },
    "tags": []
   },
   "outputs": [
    {
     "data": {
      "text/html": [
       "<div>\n",
       "<style scoped>\n",
       "    .dataframe tbody tr th:only-of-type {\n",
       "        vertical-align: middle;\n",
       "    }\n",
       "\n",
       "    .dataframe tbody tr th {\n",
       "        vertical-align: top;\n",
       "    }\n",
       "\n",
       "    .dataframe thead th {\n",
       "        text-align: right;\n",
       "    }\n",
       "</style>\n",
       "<table border=\"1\" class=\"dataframe\">\n",
       "  <thead>\n",
       "    <tr style=\"text-align: right;\">\n",
       "      <th></th>\n",
       "      <th>PassengerId</th>\n",
       "      <th>Survived</th>\n",
       "      <th>Pclass</th>\n",
       "      <th>Name</th>\n",
       "      <th>Sex</th>\n",
       "      <th>Age</th>\n",
       "      <th>SibSp</th>\n",
       "      <th>Parch</th>\n",
       "      <th>Ticket</th>\n",
       "      <th>Fare</th>\n",
       "      <th>Cabin</th>\n",
       "      <th>Embarked</th>\n",
       "    </tr>\n",
       "  </thead>\n",
       "  <tbody>\n",
       "    <tr>\n",
       "      <th>1</th>\n",
       "      <td>2</td>\n",
       "      <td>1</td>\n",
       "      <td>1</td>\n",
       "      <td>Cumings, Mrs. John Bradley (Florence Briggs Th...</td>\n",
       "      <td>female</td>\n",
       "      <td>38.0</td>\n",
       "      <td>1</td>\n",
       "      <td>0</td>\n",
       "      <td>PC 17599</td>\n",
       "      <td>71.2833</td>\n",
       "      <td>C85</td>\n",
       "      <td>C</td>\n",
       "    </tr>\n",
       "    <tr>\n",
       "      <th>6</th>\n",
       "      <td>7</td>\n",
       "      <td>0</td>\n",
       "      <td>1</td>\n",
       "      <td>McCarthy, Mr. Timothy J</td>\n",
       "      <td>male</td>\n",
       "      <td>54.0</td>\n",
       "      <td>0</td>\n",
       "      <td>0</td>\n",
       "      <td>17463</td>\n",
       "      <td>51.8625</td>\n",
       "      <td>E46</td>\n",
       "      <td>S</td>\n",
       "    </tr>\n",
       "    <tr>\n",
       "      <th>11</th>\n",
       "      <td>12</td>\n",
       "      <td>1</td>\n",
       "      <td>1</td>\n",
       "      <td>Bonnell, Miss. Elizabeth</td>\n",
       "      <td>female</td>\n",
       "      <td>58.0</td>\n",
       "      <td>0</td>\n",
       "      <td>0</td>\n",
       "      <td>113783</td>\n",
       "      <td>26.5500</td>\n",
       "      <td>C103</td>\n",
       "      <td>S</td>\n",
       "    </tr>\n",
       "    <tr>\n",
       "      <th>13</th>\n",
       "      <td>14</td>\n",
       "      <td>0</td>\n",
       "      <td>3</td>\n",
       "      <td>Andersson, Mr. Anders Johan</td>\n",
       "      <td>male</td>\n",
       "      <td>39.0</td>\n",
       "      <td>1</td>\n",
       "      <td>5</td>\n",
       "      <td>347082</td>\n",
       "      <td>31.2750</td>\n",
       "      <td>NaN</td>\n",
       "      <td>S</td>\n",
       "    </tr>\n",
       "    <tr>\n",
       "      <th>15</th>\n",
       "      <td>16</td>\n",
       "      <td>1</td>\n",
       "      <td>2</td>\n",
       "      <td>Hewlett, Mrs. (Mary D Kingcome)</td>\n",
       "      <td>female</td>\n",
       "      <td>55.0</td>\n",
       "      <td>0</td>\n",
       "      <td>0</td>\n",
       "      <td>248706</td>\n",
       "      <td>16.0000</td>\n",
       "      <td>NaN</td>\n",
       "      <td>S</td>\n",
       "    </tr>\n",
       "  </tbody>\n",
       "</table>\n",
       "</div>"
      ],
      "text/plain": [
       "    PassengerId  Survived  Pclass  \\\n",
       "1             2         1       1   \n",
       "6             7         0       1   \n",
       "11           12         1       1   \n",
       "13           14         0       3   \n",
       "15           16         1       2   \n",
       "\n",
       "                                                 Name     Sex   Age  SibSp  \\\n",
       "1   Cumings, Mrs. John Bradley (Florence Briggs Th...  female  38.0      1   \n",
       "6                             McCarthy, Mr. Timothy J    male  54.0      0   \n",
       "11                           Bonnell, Miss. Elizabeth  female  58.0      0   \n",
       "13                        Andersson, Mr. Anders Johan    male  39.0      1   \n",
       "15                   Hewlett, Mrs. (Mary D Kingcome)   female  55.0      0   \n",
       "\n",
       "    Parch    Ticket     Fare Cabin Embarked  \n",
       "1       0  PC 17599  71.2833   C85        C  \n",
       "6       0     17463  51.8625   E46        S  \n",
       "11      0    113783  26.5500  C103        S  \n",
       "13      5    347082  31.2750   NaN        S  \n",
       "15      0    248706  16.0000   NaN        S  "
      ]
     },
     "execution_count": 23,
     "metadata": {},
     "output_type": "execute_result"
    }
   ],
   "source": [
    "adult_names = titanic.loc[titanic[\"Age\"] > 35]\n",
    "adult_names.head()"
   ]
  },
  {
   "cell_type": "code",
   "execution_count": 24,
   "id": "ec76750e",
   "metadata": {
    "execution": {
     "iopub.execute_input": "2023-08-24T14:31:35.319495Z",
     "iopub.status.busy": "2023-08-24T14:31:35.318739Z",
     "iopub.status.idle": "2023-08-24T14:31:35.327151Z",
     "shell.execute_reply": "2023-08-24T14:31:35.326222Z"
    },
    "papermill": {
     "duration": 0.065352,
     "end_time": "2023-08-24T14:31:35.329449",
     "exception": false,
     "start_time": "2023-08-24T14:31:35.264097",
     "status": "completed"
    },
    "tags": []
   },
   "outputs": [
    {
     "data": {
      "text/plain": [
       "1     Cumings, Mrs. John Bradley (Florence Briggs Th...\n",
       "6                               McCarthy, Mr. Timothy J\n",
       "11                             Bonnell, Miss. Elizabeth\n",
       "13                          Andersson, Mr. Anders Johan\n",
       "15                     Hewlett, Mrs. (Mary D Kingcome) \n",
       "Name: Name, dtype: object"
      ]
     },
     "execution_count": 24,
     "metadata": {},
     "output_type": "execute_result"
    }
   ],
   "source": [
    "adult_names = titanic.loc[titanic[\"Age\"] > 35, \"Name\"]\n",
    "adult_names.head()"
   ]
  },
  {
   "cell_type": "code",
   "execution_count": 25,
   "id": "24331d1e",
   "metadata": {
    "execution": {
     "iopub.execute_input": "2023-08-24T14:31:35.438057Z",
     "iopub.status.busy": "2023-08-24T14:31:35.437651Z",
     "iopub.status.idle": "2023-08-24T14:31:35.450346Z",
     "shell.execute_reply": "2023-08-24T14:31:35.449130Z"
    },
    "papermill": {
     "duration": 0.070161,
     "end_time": "2023-08-24T14:31:35.452959",
     "exception": false,
     "start_time": "2023-08-24T14:31:35.382798",
     "status": "completed"
    },
    "tags": []
   },
   "outputs": [
    {
     "data": {
      "text/html": [
       "<div>\n",
       "<style scoped>\n",
       "    .dataframe tbody tr th:only-of-type {\n",
       "        vertical-align: middle;\n",
       "    }\n",
       "\n",
       "    .dataframe tbody tr th {\n",
       "        vertical-align: top;\n",
       "    }\n",
       "\n",
       "    .dataframe thead th {\n",
       "        text-align: right;\n",
       "    }\n",
       "</style>\n",
       "<table border=\"1\" class=\"dataframe\">\n",
       "  <thead>\n",
       "    <tr style=\"text-align: right;\">\n",
       "      <th></th>\n",
       "      <th>Pclass</th>\n",
       "      <th>Name</th>\n",
       "      <th>Sex</th>\n",
       "    </tr>\n",
       "  </thead>\n",
       "  <tbody>\n",
       "    <tr>\n",
       "      <th>9</th>\n",
       "      <td>2</td>\n",
       "      <td>Nasser, Mrs. Nicholas (Adele Achem)</td>\n",
       "      <td>female</td>\n",
       "    </tr>\n",
       "    <tr>\n",
       "      <th>10</th>\n",
       "      <td>3</td>\n",
       "      <td>Sandstrom, Miss. Marguerite Rut</td>\n",
       "      <td>female</td>\n",
       "    </tr>\n",
       "    <tr>\n",
       "      <th>11</th>\n",
       "      <td>1</td>\n",
       "      <td>Bonnell, Miss. Elizabeth</td>\n",
       "      <td>female</td>\n",
       "    </tr>\n",
       "    <tr>\n",
       "      <th>12</th>\n",
       "      <td>3</td>\n",
       "      <td>Saundercock, Mr. William Henry</td>\n",
       "      <td>male</td>\n",
       "    </tr>\n",
       "    <tr>\n",
       "      <th>13</th>\n",
       "      <td>3</td>\n",
       "      <td>Andersson, Mr. Anders Johan</td>\n",
       "      <td>male</td>\n",
       "    </tr>\n",
       "    <tr>\n",
       "      <th>14</th>\n",
       "      <td>3</td>\n",
       "      <td>Vestrom, Miss. Hulda Amanda Adolfina</td>\n",
       "      <td>female</td>\n",
       "    </tr>\n",
       "    <tr>\n",
       "      <th>15</th>\n",
       "      <td>2</td>\n",
       "      <td>Hewlett, Mrs. (Mary D Kingcome)</td>\n",
       "      <td>female</td>\n",
       "    </tr>\n",
       "    <tr>\n",
       "      <th>16</th>\n",
       "      <td>3</td>\n",
       "      <td>Rice, Master. Eugene</td>\n",
       "      <td>male</td>\n",
       "    </tr>\n",
       "    <tr>\n",
       "      <th>17</th>\n",
       "      <td>2</td>\n",
       "      <td>Williams, Mr. Charles Eugene</td>\n",
       "      <td>male</td>\n",
       "    </tr>\n",
       "    <tr>\n",
       "      <th>18</th>\n",
       "      <td>3</td>\n",
       "      <td>Vander Planke, Mrs. Julius (Emelia Maria Vande...</td>\n",
       "      <td>female</td>\n",
       "    </tr>\n",
       "    <tr>\n",
       "      <th>19</th>\n",
       "      <td>3</td>\n",
       "      <td>Masselmani, Mrs. Fatima</td>\n",
       "      <td>female</td>\n",
       "    </tr>\n",
       "    <tr>\n",
       "      <th>20</th>\n",
       "      <td>2</td>\n",
       "      <td>Fynney, Mr. Joseph J</td>\n",
       "      <td>male</td>\n",
       "    </tr>\n",
       "    <tr>\n",
       "      <th>21</th>\n",
       "      <td>2</td>\n",
       "      <td>Beesley, Mr. Lawrence</td>\n",
       "      <td>male</td>\n",
       "    </tr>\n",
       "    <tr>\n",
       "      <th>22</th>\n",
       "      <td>3</td>\n",
       "      <td>McGowan, Miss. Anna \"Annie\"</td>\n",
       "      <td>female</td>\n",
       "    </tr>\n",
       "    <tr>\n",
       "      <th>23</th>\n",
       "      <td>1</td>\n",
       "      <td>Sloper, Mr. William Thompson</td>\n",
       "      <td>male</td>\n",
       "    </tr>\n",
       "    <tr>\n",
       "      <th>24</th>\n",
       "      <td>3</td>\n",
       "      <td>Palsson, Miss. Torborg Danira</td>\n",
       "      <td>female</td>\n",
       "    </tr>\n",
       "  </tbody>\n",
       "</table>\n",
       "</div>"
      ],
      "text/plain": [
       "    Pclass                                               Name     Sex\n",
       "9        2                Nasser, Mrs. Nicholas (Adele Achem)  female\n",
       "10       3                    Sandstrom, Miss. Marguerite Rut  female\n",
       "11       1                           Bonnell, Miss. Elizabeth  female\n",
       "12       3                     Saundercock, Mr. William Henry    male\n",
       "13       3                        Andersson, Mr. Anders Johan    male\n",
       "14       3               Vestrom, Miss. Hulda Amanda Adolfina  female\n",
       "15       2                   Hewlett, Mrs. (Mary D Kingcome)   female\n",
       "16       3                               Rice, Master. Eugene    male\n",
       "17       2                       Williams, Mr. Charles Eugene    male\n",
       "18       3  Vander Planke, Mrs. Julius (Emelia Maria Vande...  female\n",
       "19       3                            Masselmani, Mrs. Fatima  female\n",
       "20       2                               Fynney, Mr. Joseph J    male\n",
       "21       2                              Beesley, Mr. Lawrence    male\n",
       "22       3                        McGowan, Miss. Anna \"Annie\"  female\n",
       "23       1                       Sloper, Mr. William Thompson    male\n",
       "24       3                      Palsson, Miss. Torborg Danira  female"
      ]
     },
     "execution_count": 25,
     "metadata": {},
     "output_type": "execute_result"
    }
   ],
   "source": [
    "titanic.iloc[9:25, 2:5]"
   ]
  },
  {
   "cell_type": "code",
   "execution_count": 26,
   "id": "b45bf08a",
   "metadata": {
    "execution": {
     "iopub.execute_input": "2023-08-24T14:31:35.564852Z",
     "iopub.status.busy": "2023-08-24T14:31:35.563769Z",
     "iopub.status.idle": "2023-08-24T14:31:35.571826Z",
     "shell.execute_reply": "2023-08-24T14:31:35.570747Z"
    },
    "papermill": {
     "duration": 0.065619,
     "end_time": "2023-08-24T14:31:35.574226",
     "exception": false,
     "start_time": "2023-08-24T14:31:35.508607",
     "status": "completed"
    },
    "tags": []
   },
   "outputs": [
    {
     "data": {
      "text/plain": [
       "'anonymous'"
      ]
     },
     "execution_count": 26,
     "metadata": {},
     "output_type": "execute_result"
    }
   ],
   "source": [
    "anon = titanic.iloc[0:3, 3] = \"anonymous\"\n",
    "anon"
   ]
  },
  {
   "cell_type": "code",
   "execution_count": 27,
   "id": "1ccd9f4b",
   "metadata": {
    "execution": {
     "iopub.execute_input": "2023-08-24T14:31:35.684213Z",
     "iopub.status.busy": "2023-08-24T14:31:35.683772Z",
     "iopub.status.idle": "2023-08-24T14:31:35.701491Z",
     "shell.execute_reply": "2023-08-24T14:31:35.700432Z"
    },
    "papermill": {
     "duration": 0.075757,
     "end_time": "2023-08-24T14:31:35.704031",
     "exception": false,
     "start_time": "2023-08-24T14:31:35.628274",
     "status": "completed"
    },
    "tags": []
   },
   "outputs": [
    {
     "data": {
      "text/html": [
       "<div>\n",
       "<style scoped>\n",
       "    .dataframe tbody tr th:only-of-type {\n",
       "        vertical-align: middle;\n",
       "    }\n",
       "\n",
       "    .dataframe tbody tr th {\n",
       "        vertical-align: top;\n",
       "    }\n",
       "\n",
       "    .dataframe thead th {\n",
       "        text-align: right;\n",
       "    }\n",
       "</style>\n",
       "<table border=\"1\" class=\"dataframe\">\n",
       "  <thead>\n",
       "    <tr style=\"text-align: right;\">\n",
       "      <th></th>\n",
       "      <th>PassengerId</th>\n",
       "      <th>Survived</th>\n",
       "      <th>Pclass</th>\n",
       "      <th>Name</th>\n",
       "      <th>Sex</th>\n",
       "      <th>Age</th>\n",
       "      <th>SibSp</th>\n",
       "      <th>Parch</th>\n",
       "      <th>Ticket</th>\n",
       "      <th>Fare</th>\n",
       "      <th>Cabin</th>\n",
       "      <th>Embarked</th>\n",
       "    </tr>\n",
       "  </thead>\n",
       "  <tbody>\n",
       "    <tr>\n",
       "      <th>0</th>\n",
       "      <td>1</td>\n",
       "      <td>0</td>\n",
       "      <td>3</td>\n",
       "      <td>anonymous</td>\n",
       "      <td>male</td>\n",
       "      <td>22.0</td>\n",
       "      <td>1</td>\n",
       "      <td>0</td>\n",
       "      <td>A/5 21171</td>\n",
       "      <td>7.2500</td>\n",
       "      <td>NaN</td>\n",
       "      <td>S</td>\n",
       "    </tr>\n",
       "    <tr>\n",
       "      <th>1</th>\n",
       "      <td>2</td>\n",
       "      <td>1</td>\n",
       "      <td>1</td>\n",
       "      <td>anonymous</td>\n",
       "      <td>female</td>\n",
       "      <td>38.0</td>\n",
       "      <td>1</td>\n",
       "      <td>0</td>\n",
       "      <td>PC 17599</td>\n",
       "      <td>71.2833</td>\n",
       "      <td>C85</td>\n",
       "      <td>C</td>\n",
       "    </tr>\n",
       "    <tr>\n",
       "      <th>2</th>\n",
       "      <td>3</td>\n",
       "      <td>1</td>\n",
       "      <td>3</td>\n",
       "      <td>anonymous</td>\n",
       "      <td>female</td>\n",
       "      <td>26.0</td>\n",
       "      <td>0</td>\n",
       "      <td>0</td>\n",
       "      <td>STON/O2. 3101282</td>\n",
       "      <td>7.9250</td>\n",
       "      <td>NaN</td>\n",
       "      <td>S</td>\n",
       "    </tr>\n",
       "    <tr>\n",
       "      <th>3</th>\n",
       "      <td>4</td>\n",
       "      <td>1</td>\n",
       "      <td>1</td>\n",
       "      <td>Futrelle, Mrs. Jacques Heath (Lily May Peel)</td>\n",
       "      <td>female</td>\n",
       "      <td>35.0</td>\n",
       "      <td>1</td>\n",
       "      <td>0</td>\n",
       "      <td>113803</td>\n",
       "      <td>53.1000</td>\n",
       "      <td>C123</td>\n",
       "      <td>S</td>\n",
       "    </tr>\n",
       "    <tr>\n",
       "      <th>4</th>\n",
       "      <td>5</td>\n",
       "      <td>0</td>\n",
       "      <td>3</td>\n",
       "      <td>Allen, Mr. William Henry</td>\n",
       "      <td>male</td>\n",
       "      <td>35.0</td>\n",
       "      <td>0</td>\n",
       "      <td>0</td>\n",
       "      <td>373450</td>\n",
       "      <td>8.0500</td>\n",
       "      <td>NaN</td>\n",
       "      <td>S</td>\n",
       "    </tr>\n",
       "  </tbody>\n",
       "</table>\n",
       "</div>"
      ],
      "text/plain": [
       "   PassengerId  Survived  Pclass  \\\n",
       "0            1         0       3   \n",
       "1            2         1       1   \n",
       "2            3         1       3   \n",
       "3            4         1       1   \n",
       "4            5         0       3   \n",
       "\n",
       "                                           Name     Sex   Age  SibSp  Parch  \\\n",
       "0                                     anonymous    male  22.0      1      0   \n",
       "1                                     anonymous  female  38.0      1      0   \n",
       "2                                     anonymous  female  26.0      0      0   \n",
       "3  Futrelle, Mrs. Jacques Heath (Lily May Peel)  female  35.0      1      0   \n",
       "4                      Allen, Mr. William Henry    male  35.0      0      0   \n",
       "\n",
       "             Ticket     Fare Cabin Embarked  \n",
       "0         A/5 21171   7.2500   NaN        S  \n",
       "1          PC 17599  71.2833   C85        C  \n",
       "2  STON/O2. 3101282   7.9250   NaN        S  \n",
       "3            113803  53.1000  C123        S  \n",
       "4            373450   8.0500   NaN        S  "
      ]
     },
     "execution_count": 27,
     "metadata": {},
     "output_type": "execute_result"
    }
   ],
   "source": [
    "titanic.head()"
   ]
  },
  {
   "cell_type": "code",
   "execution_count": 28,
   "id": "03c4e88a",
   "metadata": {
    "execution": {
     "iopub.execute_input": "2023-08-24T14:31:35.816774Z",
     "iopub.status.busy": "2023-08-24T14:31:35.816062Z",
     "iopub.status.idle": "2023-08-24T14:31:35.823691Z",
     "shell.execute_reply": "2023-08-24T14:31:35.822698Z"
    },
    "papermill": {
     "duration": 0.067237,
     "end_time": "2023-08-24T14:31:35.825863",
     "exception": false,
     "start_time": "2023-08-24T14:31:35.758626",
     "status": "completed"
    },
    "tags": []
   },
   "outputs": [
    {
     "data": {
      "text/plain": [
       "29.69911764705882"
      ]
     },
     "execution_count": 28,
     "metadata": {},
     "output_type": "execute_result"
    }
   ],
   "source": [
    "titanic[\"Age\"].mean()"
   ]
  },
  {
   "cell_type": "code",
   "execution_count": 29,
   "id": "a0fbc619",
   "metadata": {
    "execution": {
     "iopub.execute_input": "2023-08-24T14:31:35.938060Z",
     "iopub.status.busy": "2023-08-24T14:31:35.937353Z",
     "iopub.status.idle": "2023-08-24T14:31:35.947981Z",
     "shell.execute_reply": "2023-08-24T14:31:35.946918Z"
    },
    "papermill": {
     "duration": 0.069321,
     "end_time": "2023-08-24T14:31:35.950292",
     "exception": false,
     "start_time": "2023-08-24T14:31:35.880971",
     "status": "completed"
    },
    "tags": []
   },
   "outputs": [
    {
     "data": {
      "text/plain": [
       "Age     28.0000\n",
       "Fare    14.4542\n",
       "dtype: float64"
      ]
     },
     "execution_count": 29,
     "metadata": {},
     "output_type": "execute_result"
    }
   ],
   "source": [
    "titanic[[\"Age\", \"Fare\"]].median()"
   ]
  },
  {
   "cell_type": "code",
   "execution_count": 30,
   "id": "e6de6ac9",
   "metadata": {
    "execution": {
     "iopub.execute_input": "2023-08-24T14:31:36.064200Z",
     "iopub.status.busy": "2023-08-24T14:31:36.063549Z",
     "iopub.status.idle": "2023-08-24T14:31:36.081603Z",
     "shell.execute_reply": "2023-08-24T14:31:36.080446Z"
    },
    "papermill": {
     "duration": 0.077684,
     "end_time": "2023-08-24T14:31:36.083940",
     "exception": false,
     "start_time": "2023-08-24T14:31:36.006256",
     "status": "completed"
    },
    "tags": []
   },
   "outputs": [
    {
     "data": {
      "text/html": [
       "<div>\n",
       "<style scoped>\n",
       "    .dataframe tbody tr th:only-of-type {\n",
       "        vertical-align: middle;\n",
       "    }\n",
       "\n",
       "    .dataframe tbody tr th {\n",
       "        vertical-align: top;\n",
       "    }\n",
       "\n",
       "    .dataframe thead th {\n",
       "        text-align: right;\n",
       "    }\n",
       "</style>\n",
       "<table border=\"1\" class=\"dataframe\">\n",
       "  <thead>\n",
       "    <tr style=\"text-align: right;\">\n",
       "      <th></th>\n",
       "      <th>Age</th>\n",
       "      <th>Fare</th>\n",
       "    </tr>\n",
       "  </thead>\n",
       "  <tbody>\n",
       "    <tr>\n",
       "      <th>count</th>\n",
       "      <td>714.000000</td>\n",
       "      <td>891.000000</td>\n",
       "    </tr>\n",
       "    <tr>\n",
       "      <th>mean</th>\n",
       "      <td>29.699118</td>\n",
       "      <td>32.204208</td>\n",
       "    </tr>\n",
       "    <tr>\n",
       "      <th>std</th>\n",
       "      <td>14.526497</td>\n",
       "      <td>49.693429</td>\n",
       "    </tr>\n",
       "    <tr>\n",
       "      <th>min</th>\n",
       "      <td>0.420000</td>\n",
       "      <td>0.000000</td>\n",
       "    </tr>\n",
       "    <tr>\n",
       "      <th>25%</th>\n",
       "      <td>20.125000</td>\n",
       "      <td>7.910400</td>\n",
       "    </tr>\n",
       "    <tr>\n",
       "      <th>50%</th>\n",
       "      <td>28.000000</td>\n",
       "      <td>14.454200</td>\n",
       "    </tr>\n",
       "    <tr>\n",
       "      <th>75%</th>\n",
       "      <td>38.000000</td>\n",
       "      <td>31.000000</td>\n",
       "    </tr>\n",
       "    <tr>\n",
       "      <th>max</th>\n",
       "      <td>80.000000</td>\n",
       "      <td>512.329200</td>\n",
       "    </tr>\n",
       "  </tbody>\n",
       "</table>\n",
       "</div>"
      ],
      "text/plain": [
       "              Age        Fare\n",
       "count  714.000000  891.000000\n",
       "mean    29.699118   32.204208\n",
       "std     14.526497   49.693429\n",
       "min      0.420000    0.000000\n",
       "25%     20.125000    7.910400\n",
       "50%     28.000000   14.454200\n",
       "75%     38.000000   31.000000\n",
       "max     80.000000  512.329200"
      ]
     },
     "execution_count": 30,
     "metadata": {},
     "output_type": "execute_result"
    }
   ],
   "source": [
    "titanic[[\"Age\", \"Fare\"]].describe()"
   ]
  },
  {
   "cell_type": "code",
   "execution_count": 31,
   "id": "9f8aa73d",
   "metadata": {
    "execution": {
     "iopub.execute_input": "2023-08-24T14:31:36.196901Z",
     "iopub.status.busy": "2023-08-24T14:31:36.196453Z",
     "iopub.status.idle": "2023-08-24T14:31:36.214865Z",
     "shell.execute_reply": "2023-08-24T14:31:36.213653Z"
    },
    "papermill": {
     "duration": 0.078062,
     "end_time": "2023-08-24T14:31:36.217156",
     "exception": false,
     "start_time": "2023-08-24T14:31:36.139094",
     "status": "completed"
    },
    "tags": []
   },
   "outputs": [
    {
     "data": {
      "text/html": [
       "<div>\n",
       "<style scoped>\n",
       "    .dataframe tbody tr th:only-of-type {\n",
       "        vertical-align: middle;\n",
       "    }\n",
       "\n",
       "    .dataframe tbody tr th {\n",
       "        vertical-align: top;\n",
       "    }\n",
       "\n",
       "    .dataframe thead th {\n",
       "        text-align: right;\n",
       "    }\n",
       "</style>\n",
       "<table border=\"1\" class=\"dataframe\">\n",
       "  <thead>\n",
       "    <tr style=\"text-align: right;\">\n",
       "      <th></th>\n",
       "      <th>Age</th>\n",
       "      <th>Fare</th>\n",
       "    </tr>\n",
       "  </thead>\n",
       "  <tbody>\n",
       "    <tr>\n",
       "      <th>min</th>\n",
       "      <td>0.420000</td>\n",
       "      <td>0.000000</td>\n",
       "    </tr>\n",
       "    <tr>\n",
       "      <th>max</th>\n",
       "      <td>80.000000</td>\n",
       "      <td>512.329200</td>\n",
       "    </tr>\n",
       "    <tr>\n",
       "      <th>median</th>\n",
       "      <td>28.000000</td>\n",
       "      <td>14.454200</td>\n",
       "    </tr>\n",
       "    <tr>\n",
       "      <th>skew</th>\n",
       "      <td>0.389108</td>\n",
       "      <td>NaN</td>\n",
       "    </tr>\n",
       "    <tr>\n",
       "      <th>mean</th>\n",
       "      <td>NaN</td>\n",
       "      <td>32.204208</td>\n",
       "    </tr>\n",
       "  </tbody>\n",
       "</table>\n",
       "</div>"
      ],
      "text/plain": [
       "              Age        Fare\n",
       "min      0.420000    0.000000\n",
       "max     80.000000  512.329200\n",
       "median  28.000000   14.454200\n",
       "skew     0.389108         NaN\n",
       "mean          NaN   32.204208"
      ]
     },
     "execution_count": 31,
     "metadata": {},
     "output_type": "execute_result"
    }
   ],
   "source": [
    "titanic.agg({\n",
    "    \n",
    "\"Age\": [\"min\", \"max\", \"median\", \"skew\"],\n",
    "\"Fare\": [\"min\", \"max\", \"median\", \"mean\"]\n",
    "    \n",
    "})"
   ]
  },
  {
   "cell_type": "code",
   "execution_count": 32,
   "id": "b0220cb8",
   "metadata": {
    "execution": {
     "iopub.execute_input": "2023-08-24T14:31:36.330409Z",
     "iopub.status.busy": "2023-08-24T14:31:36.329087Z",
     "iopub.status.idle": "2023-08-24T14:31:36.342967Z",
     "shell.execute_reply": "2023-08-24T14:31:36.342157Z"
    },
    "papermill": {
     "duration": 0.072497,
     "end_time": "2023-08-24T14:31:36.345188",
     "exception": false,
     "start_time": "2023-08-24T14:31:36.272691",
     "status": "completed"
    },
    "tags": []
   },
   "outputs": [
    {
     "data": {
      "text/html": [
       "<div>\n",
       "<style scoped>\n",
       "    .dataframe tbody tr th:only-of-type {\n",
       "        vertical-align: middle;\n",
       "    }\n",
       "\n",
       "    .dataframe tbody tr th {\n",
       "        vertical-align: top;\n",
       "    }\n",
       "\n",
       "    .dataframe thead th {\n",
       "        text-align: right;\n",
       "    }\n",
       "</style>\n",
       "<table border=\"1\" class=\"dataframe\">\n",
       "  <thead>\n",
       "    <tr style=\"text-align: right;\">\n",
       "      <th></th>\n",
       "      <th>Age</th>\n",
       "    </tr>\n",
       "    <tr>\n",
       "      <th>Sex</th>\n",
       "      <th></th>\n",
       "    </tr>\n",
       "  </thead>\n",
       "  <tbody>\n",
       "    <tr>\n",
       "      <th>female</th>\n",
       "      <td>27.915709</td>\n",
       "    </tr>\n",
       "    <tr>\n",
       "      <th>male</th>\n",
       "      <td>30.726645</td>\n",
       "    </tr>\n",
       "  </tbody>\n",
       "</table>\n",
       "</div>"
      ],
      "text/plain": [
       "              Age\n",
       "Sex              \n",
       "female  27.915709\n",
       "male    30.726645"
      ]
     },
     "execution_count": 32,
     "metadata": {},
     "output_type": "execute_result"
    }
   ],
   "source": [
    "titanic[[\"Sex\", \"Age\"]].groupby(\"Sex\").mean()"
   ]
  },
  {
   "cell_type": "code",
   "execution_count": 33,
   "id": "f4125438",
   "metadata": {
    "execution": {
     "iopub.execute_input": "2023-08-24T14:31:36.457906Z",
     "iopub.status.busy": "2023-08-24T14:31:36.457516Z",
     "iopub.status.idle": "2023-08-24T14:31:36.475279Z",
     "shell.execute_reply": "2023-08-24T14:31:36.474172Z"
    },
    "papermill": {
     "duration": 0.076345,
     "end_time": "2023-08-24T14:31:36.477575",
     "exception": false,
     "start_time": "2023-08-24T14:31:36.401230",
     "status": "completed"
    },
    "tags": []
   },
   "outputs": [
    {
     "data": {
      "text/html": [
       "<div>\n",
       "<style scoped>\n",
       "    .dataframe tbody tr th:only-of-type {\n",
       "        vertical-align: middle;\n",
       "    }\n",
       "\n",
       "    .dataframe tbody tr th {\n",
       "        vertical-align: top;\n",
       "    }\n",
       "\n",
       "    .dataframe thead th {\n",
       "        text-align: right;\n",
       "    }\n",
       "</style>\n",
       "<table border=\"1\" class=\"dataframe\">\n",
       "  <thead>\n",
       "    <tr style=\"text-align: right;\">\n",
       "      <th></th>\n",
       "      <th>Age</th>\n",
       "    </tr>\n",
       "    <tr>\n",
       "      <th>Sex</th>\n",
       "      <th></th>\n",
       "    </tr>\n",
       "  </thead>\n",
       "  <tbody>\n",
       "    <tr>\n",
       "      <th>female</th>\n",
       "      <td>63.0</td>\n",
       "    </tr>\n",
       "    <tr>\n",
       "      <th>male</th>\n",
       "      <td>80.0</td>\n",
       "    </tr>\n",
       "  </tbody>\n",
       "</table>\n",
       "</div>"
      ],
      "text/plain": [
       "         Age\n",
       "Sex         \n",
       "female  63.0\n",
       "male    80.0"
      ]
     },
     "execution_count": 33,
     "metadata": {},
     "output_type": "execute_result"
    }
   ],
   "source": [
    "titanic[[\"Sex\", \"Age\"]].groupby(\"Sex\").max()"
   ]
  },
  {
   "cell_type": "code",
   "execution_count": 34,
   "id": "a39884a6",
   "metadata": {
    "execution": {
     "iopub.execute_input": "2023-08-24T14:31:36.651578Z",
     "iopub.status.busy": "2023-08-24T14:31:36.651137Z",
     "iopub.status.idle": "2023-08-24T14:31:36.666453Z",
     "shell.execute_reply": "2023-08-24T14:31:36.665445Z"
    },
    "papermill": {
     "duration": 0.0744,
     "end_time": "2023-08-24T14:31:36.668602",
     "exception": false,
     "start_time": "2023-08-24T14:31:36.594202",
     "status": "completed"
    },
    "tags": []
   },
   "outputs": [
    {
     "data": {
      "text/html": [
       "<div>\n",
       "<style scoped>\n",
       "    .dataframe tbody tr th:only-of-type {\n",
       "        vertical-align: middle;\n",
       "    }\n",
       "\n",
       "    .dataframe tbody tr th {\n",
       "        vertical-align: top;\n",
       "    }\n",
       "\n",
       "    .dataframe thead th {\n",
       "        text-align: right;\n",
       "    }\n",
       "</style>\n",
       "<table border=\"1\" class=\"dataframe\">\n",
       "  <thead>\n",
       "    <tr style=\"text-align: right;\">\n",
       "      <th></th>\n",
       "      <th>Age</th>\n",
       "    </tr>\n",
       "    <tr>\n",
       "      <th>Sex</th>\n",
       "      <th></th>\n",
       "    </tr>\n",
       "  </thead>\n",
       "  <tbody>\n",
       "    <tr>\n",
       "      <th>female</th>\n",
       "      <td>38.0</td>\n",
       "    </tr>\n",
       "    <tr>\n",
       "      <th>male</th>\n",
       "      <td>22.0</td>\n",
       "    </tr>\n",
       "  </tbody>\n",
       "</table>\n",
       "</div>"
      ],
      "text/plain": [
       "         Age\n",
       "Sex         \n",
       "female  38.0\n",
       "male    22.0"
      ]
     },
     "execution_count": 34,
     "metadata": {},
     "output_type": "execute_result"
    }
   ],
   "source": [
    "titanic[[\"Sex\", \"Age\"]].groupby(\"Sex\").first()"
   ]
  },
  {
   "cell_type": "code",
   "execution_count": 35,
   "id": "5b92bd8e",
   "metadata": {
    "execution": {
     "iopub.execute_input": "2023-08-24T14:31:36.782894Z",
     "iopub.status.busy": "2023-08-24T14:31:36.782145Z",
     "iopub.status.idle": "2023-08-24T14:31:36.799428Z",
     "shell.execute_reply": "2023-08-24T14:31:36.798304Z"
    },
    "papermill": {
     "duration": 0.077248,
     "end_time": "2023-08-24T14:31:36.801918",
     "exception": false,
     "start_time": "2023-08-24T14:31:36.724670",
     "status": "completed"
    },
    "tags": []
   },
   "outputs": [
    {
     "data": {
      "text/html": [
       "<div>\n",
       "<style scoped>\n",
       "    .dataframe tbody tr th:only-of-type {\n",
       "        vertical-align: middle;\n",
       "    }\n",
       "\n",
       "    .dataframe tbody tr th {\n",
       "        vertical-align: top;\n",
       "    }\n",
       "\n",
       "    .dataframe thead th {\n",
       "        text-align: right;\n",
       "    }\n",
       "</style>\n",
       "<table border=\"1\" class=\"dataframe\">\n",
       "  <thead>\n",
       "    <tr style=\"text-align: right;\">\n",
       "      <th></th>\n",
       "      <th>PassengerId</th>\n",
       "      <th>Survived</th>\n",
       "      <th>Pclass</th>\n",
       "      <th>Name</th>\n",
       "      <th>Sex</th>\n",
       "      <th>Age</th>\n",
       "      <th>SibSp</th>\n",
       "      <th>Parch</th>\n",
       "      <th>Ticket</th>\n",
       "      <th>Fare</th>\n",
       "      <th>Cabin</th>\n",
       "      <th>Embarked</th>\n",
       "    </tr>\n",
       "  </thead>\n",
       "  <tbody>\n",
       "    <tr>\n",
       "      <th>0</th>\n",
       "      <td>1</td>\n",
       "      <td>0</td>\n",
       "      <td>3</td>\n",
       "      <td>anonymous</td>\n",
       "      <td>male</td>\n",
       "      <td>22.0</td>\n",
       "      <td>1</td>\n",
       "      <td>0</td>\n",
       "      <td>A/5 21171</td>\n",
       "      <td>7.2500</td>\n",
       "      <td>NaN</td>\n",
       "      <td>S</td>\n",
       "    </tr>\n",
       "    <tr>\n",
       "      <th>1</th>\n",
       "      <td>2</td>\n",
       "      <td>1</td>\n",
       "      <td>1</td>\n",
       "      <td>anonymous</td>\n",
       "      <td>female</td>\n",
       "      <td>38.0</td>\n",
       "      <td>1</td>\n",
       "      <td>0</td>\n",
       "      <td>PC 17599</td>\n",
       "      <td>71.2833</td>\n",
       "      <td>C85</td>\n",
       "      <td>C</td>\n",
       "    </tr>\n",
       "  </tbody>\n",
       "</table>\n",
       "</div>"
      ],
      "text/plain": [
       "   PassengerId  Survived  Pclass       Name     Sex   Age  SibSp  Parch  \\\n",
       "0            1         0       3  anonymous    male  22.0      1      0   \n",
       "1            2         1       1  anonymous  female  38.0      1      0   \n",
       "\n",
       "      Ticket     Fare Cabin Embarked  \n",
       "0  A/5 21171   7.2500   NaN        S  \n",
       "1   PC 17599  71.2833   C85        C  "
      ]
     },
     "execution_count": 35,
     "metadata": {},
     "output_type": "execute_result"
    }
   ],
   "source": [
    "titanic.head(2)"
   ]
  },
  {
   "cell_type": "code",
   "execution_count": 36,
   "id": "8f190ff0",
   "metadata": {
    "execution": {
     "iopub.execute_input": "2023-08-24T14:31:36.917867Z",
     "iopub.status.busy": "2023-08-24T14:31:36.917460Z",
     "iopub.status.idle": "2023-08-24T14:31:36.927507Z",
     "shell.execute_reply": "2023-08-24T14:31:36.926498Z"
    },
    "papermill": {
     "duration": 0.070759,
     "end_time": "2023-08-24T14:31:36.929660",
     "exception": false,
     "start_time": "2023-08-24T14:31:36.858901",
     "status": "completed"
    },
    "tags": []
   },
   "outputs": [
    {
     "data": {
      "text/plain": [
       "Sex\n",
       "female    27.915709\n",
       "male      30.726645\n",
       "Name: Age, dtype: float64"
      ]
     },
     "execution_count": 36,
     "metadata": {},
     "output_type": "execute_result"
    }
   ],
   "source": [
    "titanic.groupby(\"Sex\")[\"Age\"].mean()"
   ]
  },
  {
   "cell_type": "code",
   "execution_count": 37,
   "id": "d01fae5b",
   "metadata": {
    "execution": {
     "iopub.execute_input": "2023-08-24T14:31:37.046401Z",
     "iopub.status.busy": "2023-08-24T14:31:37.045953Z",
     "iopub.status.idle": "2023-08-24T14:31:37.059513Z",
     "shell.execute_reply": "2023-08-24T14:31:37.058694Z"
    },
    "papermill": {
     "duration": 0.073558,
     "end_time": "2023-08-24T14:31:37.061745",
     "exception": false,
     "start_time": "2023-08-24T14:31:36.988187",
     "status": "completed"
    },
    "tags": []
   },
   "outputs": [
    {
     "data": {
      "text/plain": [
       "Sex     Pclass\n",
       "female  1         106.125798\n",
       "        2          21.970121\n",
       "        3          16.118810\n",
       "male    1          67.226127\n",
       "        2          19.741782\n",
       "        3          12.661633\n",
       "Name: Fare, dtype: float64"
      ]
     },
     "execution_count": 37,
     "metadata": {},
     "output_type": "execute_result"
    }
   ],
   "source": [
    "titanic.groupby([\"Sex\", \"Pclass\"])[\"Fare\"].mean()"
   ]
  },
  {
   "cell_type": "code",
   "execution_count": 38,
   "id": "1dfde924",
   "metadata": {
    "execution": {
     "iopub.execute_input": "2023-08-24T14:31:37.179149Z",
     "iopub.status.busy": "2023-08-24T14:31:37.178727Z",
     "iopub.status.idle": "2023-08-24T14:31:37.187898Z",
     "shell.execute_reply": "2023-08-24T14:31:37.186534Z"
    },
    "papermill": {
     "duration": 0.070867,
     "end_time": "2023-08-24T14:31:37.190267",
     "exception": false,
     "start_time": "2023-08-24T14:31:37.119400",
     "status": "completed"
    },
    "tags": []
   },
   "outputs": [
    {
     "data": {
      "text/plain": [
       "3    491\n",
       "1    216\n",
       "2    184\n",
       "Name: Pclass, dtype: int64"
      ]
     },
     "execution_count": 38,
     "metadata": {},
     "output_type": "execute_result"
    }
   ],
   "source": [
    "titanic[\"Pclass\"].value_counts()"
   ]
  },
  {
   "cell_type": "code",
   "execution_count": 39,
   "id": "c86af1de",
   "metadata": {
    "execution": {
     "iopub.execute_input": "2023-08-24T14:31:37.306738Z",
     "iopub.status.busy": "2023-08-24T14:31:37.306322Z",
     "iopub.status.idle": "2023-08-24T14:31:37.315727Z",
     "shell.execute_reply": "2023-08-24T14:31:37.314632Z"
    },
    "papermill": {
     "duration": 0.07047,
     "end_time": "2023-08-24T14:31:37.318414",
     "exception": false,
     "start_time": "2023-08-24T14:31:37.247944",
     "status": "completed"
    },
    "tags": []
   },
   "outputs": [
    {
     "data": {
      "text/plain": [
       "Pclass\n",
       "1    216\n",
       "2    184\n",
       "3    491\n",
       "Name: Pclass, dtype: int64"
      ]
     },
     "execution_count": 39,
     "metadata": {},
     "output_type": "execute_result"
    }
   ],
   "source": [
    "titanic.groupby(\"Pclass\")[\"Pclass\"].count()"
   ]
  },
  {
   "cell_type": "code",
   "execution_count": 40,
   "id": "71aa0534",
   "metadata": {
    "execution": {
     "iopub.execute_input": "2023-08-24T14:31:37.434899Z",
     "iopub.status.busy": "2023-08-24T14:31:37.434519Z",
     "iopub.status.idle": "2023-08-24T14:31:37.452665Z",
     "shell.execute_reply": "2023-08-24T14:31:37.451536Z"
    },
    "papermill": {
     "duration": 0.078658,
     "end_time": "2023-08-24T14:31:37.455083",
     "exception": false,
     "start_time": "2023-08-24T14:31:37.376425",
     "status": "completed"
    },
    "tags": []
   },
   "outputs": [
    {
     "data": {
      "text/html": [
       "<div>\n",
       "<style scoped>\n",
       "    .dataframe tbody tr th:only-of-type {\n",
       "        vertical-align: middle;\n",
       "    }\n",
       "\n",
       "    .dataframe tbody tr th {\n",
       "        vertical-align: top;\n",
       "    }\n",
       "\n",
       "    .dataframe thead th {\n",
       "        text-align: right;\n",
       "    }\n",
       "</style>\n",
       "<table border=\"1\" class=\"dataframe\">\n",
       "  <thead>\n",
       "    <tr style=\"text-align: right;\">\n",
       "      <th></th>\n",
       "      <th>PassengerId</th>\n",
       "      <th>Survived</th>\n",
       "      <th>Pclass</th>\n",
       "      <th>Name</th>\n",
       "      <th>Sex</th>\n",
       "      <th>Age</th>\n",
       "      <th>SibSp</th>\n",
       "      <th>Parch</th>\n",
       "      <th>Ticket</th>\n",
       "      <th>Fare</th>\n",
       "      <th>Cabin</th>\n",
       "      <th>Embarked</th>\n",
       "    </tr>\n",
       "  </thead>\n",
       "  <tbody>\n",
       "    <tr>\n",
       "      <th>630</th>\n",
       "      <td>631</td>\n",
       "      <td>1</td>\n",
       "      <td>1</td>\n",
       "      <td>Barkworth, Mr. Algernon Henry Wilson</td>\n",
       "      <td>male</td>\n",
       "      <td>80.0</td>\n",
       "      <td>0</td>\n",
       "      <td>0</td>\n",
       "      <td>27042</td>\n",
       "      <td>30.0000</td>\n",
       "      <td>A23</td>\n",
       "      <td>S</td>\n",
       "    </tr>\n",
       "    <tr>\n",
       "      <th>851</th>\n",
       "      <td>852</td>\n",
       "      <td>0</td>\n",
       "      <td>3</td>\n",
       "      <td>Svensson, Mr. Johan</td>\n",
       "      <td>male</td>\n",
       "      <td>74.0</td>\n",
       "      <td>0</td>\n",
       "      <td>0</td>\n",
       "      <td>347060</td>\n",
       "      <td>7.7750</td>\n",
       "      <td>NaN</td>\n",
       "      <td>S</td>\n",
       "    </tr>\n",
       "    <tr>\n",
       "      <th>493</th>\n",
       "      <td>494</td>\n",
       "      <td>0</td>\n",
       "      <td>1</td>\n",
       "      <td>Artagaveytia, Mr. Ramon</td>\n",
       "      <td>male</td>\n",
       "      <td>71.0</td>\n",
       "      <td>0</td>\n",
       "      <td>0</td>\n",
       "      <td>PC 17609</td>\n",
       "      <td>49.5042</td>\n",
       "      <td>NaN</td>\n",
       "      <td>C</td>\n",
       "    </tr>\n",
       "    <tr>\n",
       "      <th>96</th>\n",
       "      <td>97</td>\n",
       "      <td>0</td>\n",
       "      <td>1</td>\n",
       "      <td>Goldschmidt, Mr. George B</td>\n",
       "      <td>male</td>\n",
       "      <td>71.0</td>\n",
       "      <td>0</td>\n",
       "      <td>0</td>\n",
       "      <td>PC 17754</td>\n",
       "      <td>34.6542</td>\n",
       "      <td>A5</td>\n",
       "      <td>C</td>\n",
       "    </tr>\n",
       "    <tr>\n",
       "      <th>116</th>\n",
       "      <td>117</td>\n",
       "      <td>0</td>\n",
       "      <td>3</td>\n",
       "      <td>Connors, Mr. Patrick</td>\n",
       "      <td>male</td>\n",
       "      <td>70.5</td>\n",
       "      <td>0</td>\n",
       "      <td>0</td>\n",
       "      <td>370369</td>\n",
       "      <td>7.7500</td>\n",
       "      <td>NaN</td>\n",
       "      <td>Q</td>\n",
       "    </tr>\n",
       "  </tbody>\n",
       "</table>\n",
       "</div>"
      ],
      "text/plain": [
       "     PassengerId  Survived  Pclass                                  Name  \\\n",
       "630          631         1       1  Barkworth, Mr. Algernon Henry Wilson   \n",
       "851          852         0       3                   Svensson, Mr. Johan   \n",
       "493          494         0       1               Artagaveytia, Mr. Ramon   \n",
       "96            97         0       1             Goldschmidt, Mr. George B   \n",
       "116          117         0       3                  Connors, Mr. Patrick   \n",
       "\n",
       "      Sex   Age  SibSp  Parch    Ticket     Fare Cabin Embarked  \n",
       "630  male  80.0      0      0     27042  30.0000   A23        S  \n",
       "851  male  74.0      0      0    347060   7.7750   NaN        S  \n",
       "493  male  71.0      0      0  PC 17609  49.5042   NaN        C  \n",
       "96   male  71.0      0      0  PC 17754  34.6542    A5        C  \n",
       "116  male  70.5      0      0    370369   7.7500   NaN        Q  "
      ]
     },
     "execution_count": 40,
     "metadata": {},
     "output_type": "execute_result"
    }
   ],
   "source": [
    "titanic.sort_values(by=\"Age\",ascending=False).head()"
   ]
  },
  {
   "cell_type": "code",
   "execution_count": 41,
   "id": "86711d69",
   "metadata": {
    "execution": {
     "iopub.execute_input": "2023-08-24T14:31:37.571128Z",
     "iopub.status.busy": "2023-08-24T14:31:37.570744Z",
     "iopub.status.idle": "2023-08-24T14:31:37.590858Z",
     "shell.execute_reply": "2023-08-24T14:31:37.589672Z"
    },
    "papermill": {
     "duration": 0.081073,
     "end_time": "2023-08-24T14:31:37.593320",
     "exception": false,
     "start_time": "2023-08-24T14:31:37.512247",
     "status": "completed"
    },
    "tags": []
   },
   "outputs": [
    {
     "data": {
      "text/html": [
       "<div>\n",
       "<style scoped>\n",
       "    .dataframe tbody tr th:only-of-type {\n",
       "        vertical-align: middle;\n",
       "    }\n",
       "\n",
       "    .dataframe tbody tr th {\n",
       "        vertical-align: top;\n",
       "    }\n",
       "\n",
       "    .dataframe thead th {\n",
       "        text-align: right;\n",
       "    }\n",
       "</style>\n",
       "<table border=\"1\" class=\"dataframe\">\n",
       "  <thead>\n",
       "    <tr style=\"text-align: right;\">\n",
       "      <th></th>\n",
       "      <th>PassengerId</th>\n",
       "      <th>Survived</th>\n",
       "      <th>Pclass</th>\n",
       "      <th>Name</th>\n",
       "      <th>Sex</th>\n",
       "      <th>Age</th>\n",
       "      <th>SibSp</th>\n",
       "      <th>Parch</th>\n",
       "      <th>Ticket</th>\n",
       "      <th>Fare</th>\n",
       "      <th>Cabin</th>\n",
       "      <th>Embarked</th>\n",
       "    </tr>\n",
       "  </thead>\n",
       "  <tbody>\n",
       "    <tr>\n",
       "      <th>851</th>\n",
       "      <td>852</td>\n",
       "      <td>0</td>\n",
       "      <td>3</td>\n",
       "      <td>Svensson, Mr. Johan</td>\n",
       "      <td>male</td>\n",
       "      <td>74.0</td>\n",
       "      <td>0</td>\n",
       "      <td>0</td>\n",
       "      <td>347060</td>\n",
       "      <td>7.7750</td>\n",
       "      <td>NaN</td>\n",
       "      <td>S</td>\n",
       "    </tr>\n",
       "    <tr>\n",
       "      <th>116</th>\n",
       "      <td>117</td>\n",
       "      <td>0</td>\n",
       "      <td>3</td>\n",
       "      <td>Connors, Mr. Patrick</td>\n",
       "      <td>male</td>\n",
       "      <td>70.5</td>\n",
       "      <td>0</td>\n",
       "      <td>0</td>\n",
       "      <td>370369</td>\n",
       "      <td>7.7500</td>\n",
       "      <td>NaN</td>\n",
       "      <td>Q</td>\n",
       "    </tr>\n",
       "    <tr>\n",
       "      <th>280</th>\n",
       "      <td>281</td>\n",
       "      <td>0</td>\n",
       "      <td>3</td>\n",
       "      <td>Duane, Mr. Frank</td>\n",
       "      <td>male</td>\n",
       "      <td>65.0</td>\n",
       "      <td>0</td>\n",
       "      <td>0</td>\n",
       "      <td>336439</td>\n",
       "      <td>7.7500</td>\n",
       "      <td>NaN</td>\n",
       "      <td>Q</td>\n",
       "    </tr>\n",
       "    <tr>\n",
       "      <th>483</th>\n",
       "      <td>484</td>\n",
       "      <td>1</td>\n",
       "      <td>3</td>\n",
       "      <td>Turkula, Mrs. (Hedwig)</td>\n",
       "      <td>female</td>\n",
       "      <td>63.0</td>\n",
       "      <td>0</td>\n",
       "      <td>0</td>\n",
       "      <td>4134</td>\n",
       "      <td>9.5875</td>\n",
       "      <td>NaN</td>\n",
       "      <td>S</td>\n",
       "    </tr>\n",
       "    <tr>\n",
       "      <th>326</th>\n",
       "      <td>327</td>\n",
       "      <td>0</td>\n",
       "      <td>3</td>\n",
       "      <td>Nysveen, Mr. Johan Hansen</td>\n",
       "      <td>male</td>\n",
       "      <td>61.0</td>\n",
       "      <td>0</td>\n",
       "      <td>0</td>\n",
       "      <td>345364</td>\n",
       "      <td>6.2375</td>\n",
       "      <td>NaN</td>\n",
       "      <td>S</td>\n",
       "    </tr>\n",
       "  </tbody>\n",
       "</table>\n",
       "</div>"
      ],
      "text/plain": [
       "     PassengerId  Survived  Pclass                       Name     Sex   Age  \\\n",
       "851          852         0       3        Svensson, Mr. Johan    male  74.0   \n",
       "116          117         0       3       Connors, Mr. Patrick    male  70.5   \n",
       "280          281         0       3           Duane, Mr. Frank    male  65.0   \n",
       "483          484         1       3     Turkula, Mrs. (Hedwig)  female  63.0   \n",
       "326          327         0       3  Nysveen, Mr. Johan Hansen    male  61.0   \n",
       "\n",
       "     SibSp  Parch  Ticket    Fare Cabin Embarked  \n",
       "851      0      0  347060  7.7750   NaN        S  \n",
       "116      0      0  370369  7.7500   NaN        Q  \n",
       "280      0      0  336439  7.7500   NaN        Q  \n",
       "483      0      0    4134  9.5875   NaN        S  \n",
       "326      0      0  345364  6.2375   NaN        S  "
      ]
     },
     "execution_count": 41,
     "metadata": {},
     "output_type": "execute_result"
    }
   ],
   "source": [
    "titanic.sort_values(by=['Pclass', 'Age'], ascending=False).head()"
   ]
  },
  {
   "cell_type": "code",
   "execution_count": 42,
   "id": "f306bb5e",
   "metadata": {
    "execution": {
     "iopub.execute_input": "2023-08-24T14:31:37.709694Z",
     "iopub.status.busy": "2023-08-24T14:31:37.709311Z",
     "iopub.status.idle": "2023-08-24T14:31:37.717459Z",
     "shell.execute_reply": "2023-08-24T14:31:37.716471Z"
    },
    "papermill": {
     "duration": 0.069062,
     "end_time": "2023-08-24T14:31:37.719878",
     "exception": false,
     "start_time": "2023-08-24T14:31:37.650816",
     "status": "completed"
    },
    "tags": []
   },
   "outputs": [
    {
     "data": {
      "text/plain": [
       "PassengerId      int64\n",
       "Survived         int64\n",
       "Pclass           int64\n",
       "Name            object\n",
       "Sex             object\n",
       "Age            float64\n",
       "SibSp            int64\n",
       "Parch            int64\n",
       "Ticket          object\n",
       "Fare           float64\n",
       "Cabin           object\n",
       "Embarked        object\n",
       "dtype: object"
      ]
     },
     "execution_count": 42,
     "metadata": {},
     "output_type": "execute_result"
    }
   ],
   "source": [
    "titanic.dtypes"
   ]
  },
  {
   "cell_type": "code",
   "execution_count": 43,
   "id": "808fccf7",
   "metadata": {
    "execution": {
     "iopub.execute_input": "2023-08-24T14:31:37.838077Z",
     "iopub.status.busy": "2023-08-24T14:31:37.837699Z",
     "iopub.status.idle": "2023-08-24T14:31:37.848725Z",
     "shell.execute_reply": "2023-08-24T14:31:37.847465Z"
    },
    "papermill": {
     "duration": 0.073503,
     "end_time": "2023-08-24T14:31:37.851101",
     "exception": false,
     "start_time": "2023-08-24T14:31:37.777598",
     "status": "completed"
    },
    "tags": []
   },
   "outputs": [
    {
     "data": {
      "text/plain": [
       "0                                         anonymous\n",
       "1                                         anonymous\n",
       "2                                         anonymous\n",
       "3      futrelle, mrs. jacques heath (lily may peel)\n",
       "4                          allen, mr. william henry\n",
       "                           ...                     \n",
       "886                           montvila, rev. juozas\n",
       "887                    graham, miss. margaret edith\n",
       "888        johnston, miss. catherine helen \"carrie\"\n",
       "889                           behr, mr. karl howell\n",
       "890                             dooley, mr. patrick\n",
       "Name: Name, Length: 891, dtype: object"
      ]
     },
     "execution_count": 43,
     "metadata": {},
     "output_type": "execute_result"
    }
   ],
   "source": [
    "titanic[\"Name\"].str.lower()"
   ]
  },
  {
   "cell_type": "code",
   "execution_count": 44,
   "id": "17d72c3e",
   "metadata": {
    "execution": {
     "iopub.execute_input": "2023-08-24T14:31:37.969643Z",
     "iopub.status.busy": "2023-08-24T14:31:37.969265Z",
     "iopub.status.idle": "2023-08-24T14:31:37.982312Z",
     "shell.execute_reply": "2023-08-24T14:31:37.981054Z"
    },
    "papermill": {
     "duration": 0.075199,
     "end_time": "2023-08-24T14:31:37.984759",
     "exception": false,
     "start_time": "2023-08-24T14:31:37.909560",
     "status": "completed"
    },
    "tags": []
   },
   "outputs": [
    {
     "data": {
      "text/plain": [
       "0                                          [anonymous]\n",
       "1                                          [anonymous]\n",
       "2                                          [anonymous]\n",
       "3      [Futrelle,  Mrs. Jacques Heath (Lily May Peel)]\n",
       "4                          [Allen,  Mr. William Henry]\n",
       "                            ...                       \n",
       "886                           [Montvila,  Rev. Juozas]\n",
       "887                    [Graham,  Miss. Margaret Edith]\n",
       "888        [Johnston,  Miss. Catherine Helen \"Carrie\"]\n",
       "889                           [Behr,  Mr. Karl Howell]\n",
       "890                             [Dooley,  Mr. Patrick]\n",
       "Name: Name, Length: 891, dtype: object"
      ]
     },
     "execution_count": 44,
     "metadata": {},
     "output_type": "execute_result"
    }
   ],
   "source": [
    "titanic[\"Name\"].str.split(\",\")"
   ]
  },
  {
   "cell_type": "code",
   "execution_count": 45,
   "id": "0b76465b",
   "metadata": {
    "execution": {
     "iopub.execute_input": "2023-08-24T14:31:38.102508Z",
     "iopub.status.busy": "2023-08-24T14:31:38.102071Z",
     "iopub.status.idle": "2023-08-24T14:31:38.114383Z",
     "shell.execute_reply": "2023-08-24T14:31:38.113319Z"
    },
    "papermill": {
     "duration": 0.074022,
     "end_time": "2023-08-24T14:31:38.116922",
     "exception": false,
     "start_time": "2023-08-24T14:31:38.042900",
     "status": "completed"
    },
    "tags": []
   },
   "outputs": [
    {
     "data": {
      "text/plain": [
       "0      anonymous\n",
       "1      anonymous\n",
       "2      anonymous\n",
       "3       Futrelle\n",
       "4          Allen\n",
       "         ...    \n",
       "886     Montvila\n",
       "887       Graham\n",
       "888     Johnston\n",
       "889         Behr\n",
       "890       Dooley\n",
       "Name: Surname, Length: 891, dtype: object"
      ]
     },
     "execution_count": 45,
     "metadata": {},
     "output_type": "execute_result"
    }
   ],
   "source": [
    "titanic[\"Surname\"] = titanic[\"Name\"].str.split(\",\").str.get(0)\n",
    "titanic[\"Surname\"]"
   ]
  },
  {
   "cell_type": "code",
   "execution_count": 46,
   "id": "8fe67cf5",
   "metadata": {
    "execution": {
     "iopub.execute_input": "2023-08-24T14:31:38.234119Z",
     "iopub.status.busy": "2023-08-24T14:31:38.233743Z",
     "iopub.status.idle": "2023-08-24T14:31:38.246793Z",
     "shell.execute_reply": "2023-08-24T14:31:38.245676Z"
    },
    "papermill": {
     "duration": 0.074413,
     "end_time": "2023-08-24T14:31:38.249209",
     "exception": false,
     "start_time": "2023-08-24T14:31:38.174796",
     "status": "completed"
    },
    "tags": []
   },
   "outputs": [
    {
     "data": {
      "text/plain": [
       "0                                      NaN\n",
       "1                                      NaN\n",
       "2                                      NaN\n",
       "3       Mrs. Jacques Heath (Lily May Peel)\n",
       "4                        Mr. William Henry\n",
       "                      ...                 \n",
       "886                            Rev. Juozas\n",
       "887                   Miss. Margaret Edith\n",
       "888         Miss. Catherine Helen \"Carrie\"\n",
       "889                        Mr. Karl Howell\n",
       "890                            Mr. Patrick\n",
       "Name: Name_main, Length: 891, dtype: object"
      ]
     },
     "execution_count": 46,
     "metadata": {},
     "output_type": "execute_result"
    }
   ],
   "source": [
    "titanic[\"Name_main\"] = titanic[\"Name\"].str.split(\",\").str.get(1)\n",
    "titanic[\"Name_main\"]"
   ]
  },
  {
   "cell_type": "code",
   "execution_count": 47,
   "id": "7edd4c1f",
   "metadata": {
    "execution": {
     "iopub.execute_input": "2023-08-24T14:31:38.366717Z",
     "iopub.status.busy": "2023-08-24T14:31:38.366334Z",
     "iopub.status.idle": "2023-08-24T14:31:38.378696Z",
     "shell.execute_reply": "2023-08-24T14:31:38.377601Z"
    },
    "papermill": {
     "duration": 0.073937,
     "end_time": "2023-08-24T14:31:38.381052",
     "exception": false,
     "start_time": "2023-08-24T14:31:38.307115",
     "status": "completed"
    },
    "scrolled": true,
    "tags": []
   },
   "outputs": [
    {
     "data": {
      "text/plain": [
       "0                                          [anonymous]\n",
       "1                                          [anonymous]\n",
       "2                                          [anonymous]\n",
       "3      [Futrelle,  Mrs. Jacques Heath (Lily May Peel)]\n",
       "4                          [Allen,  Mr. William Henry]\n",
       "                            ...                       \n",
       "886                           [Montvila,  Rev. Juozas]\n",
       "887                    [Graham,  Miss. Margaret Edith]\n",
       "888        [Johnston,  Miss. Catherine Helen \"Carrie\"]\n",
       "889                           [Behr,  Mr. Karl Howell]\n",
       "890                             [Dooley,  Mr. Patrick]\n",
       "Name: Name, Length: 891, dtype: object"
      ]
     },
     "execution_count": 47,
     "metadata": {},
     "output_type": "execute_result"
    }
   ],
   "source": [
    "titanic[\"Name\"].str.split(\",\")"
   ]
  },
  {
   "cell_type": "code",
   "execution_count": 48,
   "id": "7a900239",
   "metadata": {
    "execution": {
     "iopub.execute_input": "2023-08-24T14:31:38.498891Z",
     "iopub.status.busy": "2023-08-24T14:31:38.498505Z",
     "iopub.status.idle": "2023-08-24T14:31:38.521025Z",
     "shell.execute_reply": "2023-08-24T14:31:38.519959Z"
    },
    "papermill": {
     "duration": 0.08416,
     "end_time": "2023-08-24T14:31:38.523409",
     "exception": false,
     "start_time": "2023-08-24T14:31:38.439249",
     "status": "completed"
    },
    "tags": []
   },
   "outputs": [
    {
     "data": {
      "text/html": [
       "<div>\n",
       "<style scoped>\n",
       "    .dataframe tbody tr th:only-of-type {\n",
       "        vertical-align: middle;\n",
       "    }\n",
       "\n",
       "    .dataframe tbody tr th {\n",
       "        vertical-align: top;\n",
       "    }\n",
       "\n",
       "    .dataframe thead th {\n",
       "        text-align: right;\n",
       "    }\n",
       "</style>\n",
       "<table border=\"1\" class=\"dataframe\">\n",
       "  <thead>\n",
       "    <tr style=\"text-align: right;\">\n",
       "      <th></th>\n",
       "      <th>PassengerId</th>\n",
       "      <th>Survived</th>\n",
       "      <th>Pclass</th>\n",
       "      <th>Name</th>\n",
       "      <th>Sex</th>\n",
       "      <th>Age</th>\n",
       "      <th>SibSp</th>\n",
       "      <th>Parch</th>\n",
       "      <th>Ticket</th>\n",
       "      <th>Fare</th>\n",
       "      <th>Cabin</th>\n",
       "      <th>Embarked</th>\n",
       "      <th>Surname</th>\n",
       "      <th>Name_main</th>\n",
       "      <th>Real_Name</th>\n",
       "    </tr>\n",
       "  </thead>\n",
       "  <tbody>\n",
       "    <tr>\n",
       "      <th>0</th>\n",
       "      <td>1</td>\n",
       "      <td>0</td>\n",
       "      <td>3</td>\n",
       "      <td>anonymous</td>\n",
       "      <td>male</td>\n",
       "      <td>22.0</td>\n",
       "      <td>1</td>\n",
       "      <td>0</td>\n",
       "      <td>A/5 21171</td>\n",
       "      <td>7.2500</td>\n",
       "      <td>NaN</td>\n",
       "      <td>S</td>\n",
       "      <td>anonymous</td>\n",
       "      <td>NaN</td>\n",
       "      <td>anonymous</td>\n",
       "    </tr>\n",
       "    <tr>\n",
       "      <th>1</th>\n",
       "      <td>2</td>\n",
       "      <td>1</td>\n",
       "      <td>1</td>\n",
       "      <td>anonymous</td>\n",
       "      <td>female</td>\n",
       "      <td>38.0</td>\n",
       "      <td>1</td>\n",
       "      <td>0</td>\n",
       "      <td>PC 17599</td>\n",
       "      <td>71.2833</td>\n",
       "      <td>C85</td>\n",
       "      <td>C</td>\n",
       "      <td>anonymous</td>\n",
       "      <td>NaN</td>\n",
       "      <td>anonymous</td>\n",
       "    </tr>\n",
       "    <tr>\n",
       "      <th>2</th>\n",
       "      <td>3</td>\n",
       "      <td>1</td>\n",
       "      <td>3</td>\n",
       "      <td>anonymous</td>\n",
       "      <td>female</td>\n",
       "      <td>26.0</td>\n",
       "      <td>0</td>\n",
       "      <td>0</td>\n",
       "      <td>STON/O2. 3101282</td>\n",
       "      <td>7.9250</td>\n",
       "      <td>NaN</td>\n",
       "      <td>S</td>\n",
       "      <td>anonymous</td>\n",
       "      <td>NaN</td>\n",
       "      <td>anonymous</td>\n",
       "    </tr>\n",
       "    <tr>\n",
       "      <th>3</th>\n",
       "      <td>4</td>\n",
       "      <td>1</td>\n",
       "      <td>1</td>\n",
       "      <td>Futrelle, Mrs. Jacques Heath (Lily May Peel)</td>\n",
       "      <td>female</td>\n",
       "      <td>35.0</td>\n",
       "      <td>1</td>\n",
       "      <td>0</td>\n",
       "      <td>113803</td>\n",
       "      <td>53.1000</td>\n",
       "      <td>C123</td>\n",
       "      <td>S</td>\n",
       "      <td>Futrelle</td>\n",
       "      <td>Mrs. Jacques Heath (Lily May Peel)</td>\n",
       "      <td>Futrelle</td>\n",
       "    </tr>\n",
       "    <tr>\n",
       "      <th>4</th>\n",
       "      <td>5</td>\n",
       "      <td>0</td>\n",
       "      <td>3</td>\n",
       "      <td>Allen, Mr. William Henry</td>\n",
       "      <td>male</td>\n",
       "      <td>35.0</td>\n",
       "      <td>0</td>\n",
       "      <td>0</td>\n",
       "      <td>373450</td>\n",
       "      <td>8.0500</td>\n",
       "      <td>NaN</td>\n",
       "      <td>S</td>\n",
       "      <td>Allen</td>\n",
       "      <td>Mr. William Henry</td>\n",
       "      <td>Allen</td>\n",
       "    </tr>\n",
       "  </tbody>\n",
       "</table>\n",
       "</div>"
      ],
      "text/plain": [
       "   PassengerId  Survived  Pclass  \\\n",
       "0            1         0       3   \n",
       "1            2         1       1   \n",
       "2            3         1       3   \n",
       "3            4         1       1   \n",
       "4            5         0       3   \n",
       "\n",
       "                                           Name     Sex   Age  SibSp  Parch  \\\n",
       "0                                     anonymous    male  22.0      1      0   \n",
       "1                                     anonymous  female  38.0      1      0   \n",
       "2                                     anonymous  female  26.0      0      0   \n",
       "3  Futrelle, Mrs. Jacques Heath (Lily May Peel)  female  35.0      1      0   \n",
       "4                      Allen, Mr. William Henry    male  35.0      0      0   \n",
       "\n",
       "             Ticket     Fare Cabin Embarked    Surname  \\\n",
       "0         A/5 21171   7.2500   NaN        S  anonymous   \n",
       "1          PC 17599  71.2833   C85        C  anonymous   \n",
       "2  STON/O2. 3101282   7.9250   NaN        S  anonymous   \n",
       "3            113803  53.1000  C123        S   Futrelle   \n",
       "4            373450   8.0500   NaN        S      Allen   \n",
       "\n",
       "                             Name_main  Real_Name  \n",
       "0                                  NaN  anonymous  \n",
       "1                                  NaN  anonymous  \n",
       "2                                  NaN  anonymous  \n",
       "3   Mrs. Jacques Heath (Lily May Peel)   Futrelle  \n",
       "4                    Mr. William Henry      Allen  "
      ]
     },
     "execution_count": 48,
     "metadata": {},
     "output_type": "execute_result"
    }
   ],
   "source": [
    "titanic['Real_Name'] = titanic[\"Name\"].str.split(\",\").str.get(0)\n",
    "titanic.head()"
   ]
  },
  {
   "cell_type": "code",
   "execution_count": 49,
   "id": "c774ce9b",
   "metadata": {
    "execution": {
     "iopub.execute_input": "2023-08-24T14:31:38.642861Z",
     "iopub.status.busy": "2023-08-24T14:31:38.642025Z",
     "iopub.status.idle": "2023-08-24T14:31:38.665365Z",
     "shell.execute_reply": "2023-08-24T14:31:38.664138Z"
    },
    "papermill": {
     "duration": 0.08517,
     "end_time": "2023-08-24T14:31:38.667520",
     "exception": false,
     "start_time": "2023-08-24T14:31:38.582350",
     "status": "completed"
    },
    "tags": []
   },
   "outputs": [
    {
     "data": {
      "text/html": [
       "<div>\n",
       "<style scoped>\n",
       "    .dataframe tbody tr th:only-of-type {\n",
       "        vertical-align: middle;\n",
       "    }\n",
       "\n",
       "    .dataframe tbody tr th {\n",
       "        vertical-align: top;\n",
       "    }\n",
       "\n",
       "    .dataframe thead th {\n",
       "        text-align: right;\n",
       "    }\n",
       "</style>\n",
       "<table border=\"1\" class=\"dataframe\">\n",
       "  <thead>\n",
       "    <tr style=\"text-align: right;\">\n",
       "      <th></th>\n",
       "      <th>PassengerId</th>\n",
       "      <th>Survived</th>\n",
       "      <th>Pclass</th>\n",
       "      <th>Name</th>\n",
       "      <th>Sex</th>\n",
       "      <th>Age</th>\n",
       "      <th>SibSp</th>\n",
       "      <th>Parch</th>\n",
       "      <th>Ticket</th>\n",
       "      <th>Fare</th>\n",
       "      <th>Cabin</th>\n",
       "      <th>Embarked</th>\n",
       "      <th>Surname</th>\n",
       "      <th>Name_main</th>\n",
       "      <th>Real_Name</th>\n",
       "    </tr>\n",
       "  </thead>\n",
       "  <tbody>\n",
       "    <tr>\n",
       "      <th>0</th>\n",
       "      <td>1</td>\n",
       "      <td>0</td>\n",
       "      <td>3</td>\n",
       "      <td>anonymous</td>\n",
       "      <td>male</td>\n",
       "      <td>22.0</td>\n",
       "      <td>1</td>\n",
       "      <td>0</td>\n",
       "      <td>A/5 21171</td>\n",
       "      <td>7.2500</td>\n",
       "      <td>NaN</td>\n",
       "      <td>S</td>\n",
       "      <td>NaN</td>\n",
       "      <td>NaN</td>\n",
       "      <td>anonymous</td>\n",
       "    </tr>\n",
       "    <tr>\n",
       "      <th>1</th>\n",
       "      <td>2</td>\n",
       "      <td>1</td>\n",
       "      <td>1</td>\n",
       "      <td>anonymous</td>\n",
       "      <td>female</td>\n",
       "      <td>38.0</td>\n",
       "      <td>1</td>\n",
       "      <td>0</td>\n",
       "      <td>PC 17599</td>\n",
       "      <td>71.2833</td>\n",
       "      <td>C85</td>\n",
       "      <td>C</td>\n",
       "      <td>NaN</td>\n",
       "      <td>NaN</td>\n",
       "      <td>anonymous</td>\n",
       "    </tr>\n",
       "    <tr>\n",
       "      <th>2</th>\n",
       "      <td>3</td>\n",
       "      <td>1</td>\n",
       "      <td>3</td>\n",
       "      <td>anonymous</td>\n",
       "      <td>female</td>\n",
       "      <td>26.0</td>\n",
       "      <td>0</td>\n",
       "      <td>0</td>\n",
       "      <td>STON/O2. 3101282</td>\n",
       "      <td>7.9250</td>\n",
       "      <td>NaN</td>\n",
       "      <td>S</td>\n",
       "      <td>NaN</td>\n",
       "      <td>NaN</td>\n",
       "      <td>anonymous</td>\n",
       "    </tr>\n",
       "    <tr>\n",
       "      <th>3</th>\n",
       "      <td>4</td>\n",
       "      <td>1</td>\n",
       "      <td>1</td>\n",
       "      <td>Futrelle, Mrs. Jacques Heath (Lily May Peel)</td>\n",
       "      <td>female</td>\n",
       "      <td>35.0</td>\n",
       "      <td>1</td>\n",
       "      <td>0</td>\n",
       "      <td>113803</td>\n",
       "      <td>53.1000</td>\n",
       "      <td>C123</td>\n",
       "      <td>S</td>\n",
       "      <td>Mrs. Jacques Heath (Lily May Peel)</td>\n",
       "      <td>Mrs. Jacques Heath (Lily May Peel)</td>\n",
       "      <td>Futrelle</td>\n",
       "    </tr>\n",
       "    <tr>\n",
       "      <th>4</th>\n",
       "      <td>5</td>\n",
       "      <td>0</td>\n",
       "      <td>3</td>\n",
       "      <td>Allen, Mr. William Henry</td>\n",
       "      <td>male</td>\n",
       "      <td>35.0</td>\n",
       "      <td>0</td>\n",
       "      <td>0</td>\n",
       "      <td>373450</td>\n",
       "      <td>8.0500</td>\n",
       "      <td>NaN</td>\n",
       "      <td>S</td>\n",
       "      <td>Mr. William Henry</td>\n",
       "      <td>Mr. William Henry</td>\n",
       "      <td>Allen</td>\n",
       "    </tr>\n",
       "  </tbody>\n",
       "</table>\n",
       "</div>"
      ],
      "text/plain": [
       "   PassengerId  Survived  Pclass  \\\n",
       "0            1         0       3   \n",
       "1            2         1       1   \n",
       "2            3         1       3   \n",
       "3            4         1       1   \n",
       "4            5         0       3   \n",
       "\n",
       "                                           Name     Sex   Age  SibSp  Parch  \\\n",
       "0                                     anonymous    male  22.0      1      0   \n",
       "1                                     anonymous  female  38.0      1      0   \n",
       "2                                     anonymous  female  26.0      0      0   \n",
       "3  Futrelle, Mrs. Jacques Heath (Lily May Peel)  female  35.0      1      0   \n",
       "4                      Allen, Mr. William Henry    male  35.0      0      0   \n",
       "\n",
       "             Ticket     Fare Cabin Embarked  \\\n",
       "0         A/5 21171   7.2500   NaN        S   \n",
       "1          PC 17599  71.2833   C85        C   \n",
       "2  STON/O2. 3101282   7.9250   NaN        S   \n",
       "3            113803  53.1000  C123        S   \n",
       "4            373450   8.0500   NaN        S   \n",
       "\n",
       "                               Surname                            Name_main  \\\n",
       "0                                  NaN                                  NaN   \n",
       "1                                  NaN                                  NaN   \n",
       "2                                  NaN                                  NaN   \n",
       "3   Mrs. Jacques Heath (Lily May Peel)   Mrs. Jacques Heath (Lily May Peel)   \n",
       "4                    Mr. William Henry                    Mr. William Henry   \n",
       "\n",
       "   Real_Name  \n",
       "0  anonymous  \n",
       "1  anonymous  \n",
       "2  anonymous  \n",
       "3   Futrelle  \n",
       "4      Allen  "
      ]
     },
     "execution_count": 49,
     "metadata": {},
     "output_type": "execute_result"
    }
   ],
   "source": [
    "titanic['Surname'] = titanic[\"Name\"].str.split(\",\").str.get(1)\n",
    "titanic.head()"
   ]
  },
  {
   "cell_type": "code",
   "execution_count": 50,
   "id": "3376e897",
   "metadata": {
    "execution": {
     "iopub.execute_input": "2023-08-24T14:31:38.793523Z",
     "iopub.status.busy": "2023-08-24T14:31:38.792885Z",
     "iopub.status.idle": "2023-08-24T14:31:38.819048Z",
     "shell.execute_reply": "2023-08-24T14:31:38.817826Z"
    },
    "papermill": {
     "duration": 0.089657,
     "end_time": "2023-08-24T14:31:38.821437",
     "exception": false,
     "start_time": "2023-08-24T14:31:38.731780",
     "status": "completed"
    },
    "scrolled": true,
    "tags": []
   },
   "outputs": [
    {
     "data": {
      "text/html": [
       "<div>\n",
       "<style scoped>\n",
       "    .dataframe tbody tr th:only-of-type {\n",
       "        vertical-align: middle;\n",
       "    }\n",
       "\n",
       "    .dataframe tbody tr th {\n",
       "        vertical-align: top;\n",
       "    }\n",
       "\n",
       "    .dataframe thead th {\n",
       "        text-align: right;\n",
       "    }\n",
       "</style>\n",
       "<table border=\"1\" class=\"dataframe\">\n",
       "  <thead>\n",
       "    <tr style=\"text-align: right;\">\n",
       "      <th></th>\n",
       "      <th>PassengerId</th>\n",
       "      <th>Survived</th>\n",
       "      <th>Pclass</th>\n",
       "      <th>Name</th>\n",
       "      <th>Sex</th>\n",
       "      <th>Age</th>\n",
       "      <th>SibSp</th>\n",
       "      <th>Parch</th>\n",
       "      <th>Ticket</th>\n",
       "      <th>Fare</th>\n",
       "      <th>Cabin</th>\n",
       "      <th>Embarked</th>\n",
       "      <th>Surname</th>\n",
       "      <th>Name_main</th>\n",
       "      <th>Real_Name</th>\n",
       "      <th>Salutation</th>\n",
       "    </tr>\n",
       "  </thead>\n",
       "  <tbody>\n",
       "    <tr>\n",
       "      <th>0</th>\n",
       "      <td>1</td>\n",
       "      <td>0</td>\n",
       "      <td>3</td>\n",
       "      <td>anonymous</td>\n",
       "      <td>male</td>\n",
       "      <td>22.0</td>\n",
       "      <td>1</td>\n",
       "      <td>0</td>\n",
       "      <td>A/5 21171</td>\n",
       "      <td>7.2500</td>\n",
       "      <td>NaN</td>\n",
       "      <td>S</td>\n",
       "      <td>NaN</td>\n",
       "      <td>NaN</td>\n",
       "      <td>anonymous</td>\n",
       "      <td>NaN</td>\n",
       "    </tr>\n",
       "    <tr>\n",
       "      <th>1</th>\n",
       "      <td>2</td>\n",
       "      <td>1</td>\n",
       "      <td>1</td>\n",
       "      <td>anonymous</td>\n",
       "      <td>female</td>\n",
       "      <td>38.0</td>\n",
       "      <td>1</td>\n",
       "      <td>0</td>\n",
       "      <td>PC 17599</td>\n",
       "      <td>71.2833</td>\n",
       "      <td>C85</td>\n",
       "      <td>C</td>\n",
       "      <td>NaN</td>\n",
       "      <td>NaN</td>\n",
       "      <td>anonymous</td>\n",
       "      <td>NaN</td>\n",
       "    </tr>\n",
       "    <tr>\n",
       "      <th>2</th>\n",
       "      <td>3</td>\n",
       "      <td>1</td>\n",
       "      <td>3</td>\n",
       "      <td>anonymous</td>\n",
       "      <td>female</td>\n",
       "      <td>26.0</td>\n",
       "      <td>0</td>\n",
       "      <td>0</td>\n",
       "      <td>STON/O2. 3101282</td>\n",
       "      <td>7.9250</td>\n",
       "      <td>NaN</td>\n",
       "      <td>S</td>\n",
       "      <td>NaN</td>\n",
       "      <td>NaN</td>\n",
       "      <td>anonymous</td>\n",
       "      <td>NaN</td>\n",
       "    </tr>\n",
       "    <tr>\n",
       "      <th>3</th>\n",
       "      <td>4</td>\n",
       "      <td>1</td>\n",
       "      <td>1</td>\n",
       "      <td>Futrelle, Mrs. Jacques Heath (Lily May Peel)</td>\n",
       "      <td>female</td>\n",
       "      <td>35.0</td>\n",
       "      <td>1</td>\n",
       "      <td>0</td>\n",
       "      <td>113803</td>\n",
       "      <td>53.1000</td>\n",
       "      <td>C123</td>\n",
       "      <td>S</td>\n",
       "      <td>Mrs. Jacques Heath (Lily May Peel)</td>\n",
       "      <td>Mrs. Jacques Heath (Lily May Peel)</td>\n",
       "      <td>Futrelle</td>\n",
       "      <td>Mrs</td>\n",
       "    </tr>\n",
       "    <tr>\n",
       "      <th>4</th>\n",
       "      <td>5</td>\n",
       "      <td>0</td>\n",
       "      <td>3</td>\n",
       "      <td>Allen, Mr. William Henry</td>\n",
       "      <td>male</td>\n",
       "      <td>35.0</td>\n",
       "      <td>0</td>\n",
       "      <td>0</td>\n",
       "      <td>373450</td>\n",
       "      <td>8.0500</td>\n",
       "      <td>NaN</td>\n",
       "      <td>S</td>\n",
       "      <td>Mr. William Henry</td>\n",
       "      <td>Mr. William Henry</td>\n",
       "      <td>Allen</td>\n",
       "      <td>Mr</td>\n",
       "    </tr>\n",
       "  </tbody>\n",
       "</table>\n",
       "</div>"
      ],
      "text/plain": [
       "   PassengerId  Survived  Pclass  \\\n",
       "0            1         0       3   \n",
       "1            2         1       1   \n",
       "2            3         1       3   \n",
       "3            4         1       1   \n",
       "4            5         0       3   \n",
       "\n",
       "                                           Name     Sex   Age  SibSp  Parch  \\\n",
       "0                                     anonymous    male  22.0      1      0   \n",
       "1                                     anonymous  female  38.0      1      0   \n",
       "2                                     anonymous  female  26.0      0      0   \n",
       "3  Futrelle, Mrs. Jacques Heath (Lily May Peel)  female  35.0      1      0   \n",
       "4                      Allen, Mr. William Henry    male  35.0      0      0   \n",
       "\n",
       "             Ticket     Fare Cabin Embarked  \\\n",
       "0         A/5 21171   7.2500   NaN        S   \n",
       "1          PC 17599  71.2833   C85        C   \n",
       "2  STON/O2. 3101282   7.9250   NaN        S   \n",
       "3            113803  53.1000  C123        S   \n",
       "4            373450   8.0500   NaN        S   \n",
       "\n",
       "                               Surname                            Name_main  \\\n",
       "0                                  NaN                                  NaN   \n",
       "1                                  NaN                                  NaN   \n",
       "2                                  NaN                                  NaN   \n",
       "3   Mrs. Jacques Heath (Lily May Peel)   Mrs. Jacques Heath (Lily May Peel)   \n",
       "4                    Mr. William Henry                    Mr. William Henry   \n",
       "\n",
       "   Real_Name Salutation  \n",
       "0  anonymous        NaN  \n",
       "1  anonymous        NaN  \n",
       "2  anonymous        NaN  \n",
       "3   Futrelle        Mrs  \n",
       "4      Allen         Mr  "
      ]
     },
     "execution_count": 50,
     "metadata": {},
     "output_type": "execute_result"
    }
   ],
   "source": [
    "titanic['Salutation'] = titanic['Surname'].str.split(\".\").str.get(0)\n",
    "titanic.head()"
   ]
  },
  {
   "cell_type": "code",
   "execution_count": 51,
   "id": "ac9d72d1",
   "metadata": {
    "execution": {
     "iopub.execute_input": "2023-08-24T14:31:38.965127Z",
     "iopub.status.busy": "2023-08-24T14:31:38.964563Z",
     "iopub.status.idle": "2023-08-24T14:31:38.975548Z",
     "shell.execute_reply": "2023-08-24T14:31:38.974594Z"
    },
    "papermill": {
     "duration": 0.091457,
     "end_time": "2023-08-24T14:31:38.977745",
     "exception": false,
     "start_time": "2023-08-24T14:31:38.886288",
     "status": "completed"
    },
    "tags": []
   },
   "outputs": [
    {
     "data": {
      "text/plain": [
       "0      False\n",
       "1      False\n",
       "2      False\n",
       "3       True\n",
       "4       True\n",
       "       ...  \n",
       "886    False\n",
       "887    False\n",
       "888    False\n",
       "889     True\n",
       "890     True\n",
       "Name: Name, Length: 891, dtype: bool"
      ]
     },
     "execution_count": 51,
     "metadata": {},
     "output_type": "execute_result"
    }
   ],
   "source": [
    "titanic[\"Name\"].str.contains(\"Mr\")"
   ]
  },
  {
   "cell_type": "code",
   "execution_count": 52,
   "id": "68f1aa3b",
   "metadata": {
    "execution": {
     "iopub.execute_input": "2023-08-24T14:31:39.100589Z",
     "iopub.status.busy": "2023-08-24T14:31:39.099764Z",
     "iopub.status.idle": "2023-08-24T14:31:39.119883Z",
     "shell.execute_reply": "2023-08-24T14:31:39.118725Z"
    },
    "papermill": {
     "duration": 0.084117,
     "end_time": "2023-08-24T14:31:39.122302",
     "exception": false,
     "start_time": "2023-08-24T14:31:39.038185",
     "status": "completed"
    },
    "tags": []
   },
   "outputs": [
    {
     "data": {
      "text/html": [
       "<div>\n",
       "<style scoped>\n",
       "    .dataframe tbody tr th:only-of-type {\n",
       "        vertical-align: middle;\n",
       "    }\n",
       "\n",
       "    .dataframe tbody tr th {\n",
       "        vertical-align: top;\n",
       "    }\n",
       "\n",
       "    .dataframe thead th {\n",
       "        text-align: right;\n",
       "    }\n",
       "</style>\n",
       "<table border=\"1\" class=\"dataframe\">\n",
       "  <thead>\n",
       "    <tr style=\"text-align: right;\">\n",
       "      <th></th>\n",
       "      <th>PassengerId</th>\n",
       "      <th>Survived</th>\n",
       "      <th>Pclass</th>\n",
       "      <th>Name</th>\n",
       "      <th>Sex</th>\n",
       "      <th>Age</th>\n",
       "      <th>SibSp</th>\n",
       "      <th>Parch</th>\n",
       "      <th>Ticket</th>\n",
       "      <th>Fare</th>\n",
       "      <th>Cabin</th>\n",
       "      <th>Embarked</th>\n",
       "      <th>Surname</th>\n",
       "      <th>Name_main</th>\n",
       "      <th>Real_Name</th>\n",
       "      <th>Salutation</th>\n",
       "    </tr>\n",
       "  </thead>\n",
       "  <tbody>\n",
       "    <tr>\n",
       "      <th>759</th>\n",
       "      <td>760</td>\n",
       "      <td>1</td>\n",
       "      <td>1</td>\n",
       "      <td>Rothes, the Countess. of (Lucy Noel Martha Dye...</td>\n",
       "      <td>female</td>\n",
       "      <td>33.0</td>\n",
       "      <td>0</td>\n",
       "      <td>0</td>\n",
       "      <td>110152</td>\n",
       "      <td>86.5</td>\n",
       "      <td>B77</td>\n",
       "      <td>S</td>\n",
       "      <td>the Countess. of (Lucy Noel Martha Dyer-Edwards)</td>\n",
       "      <td>the Countess. of (Lucy Noel Martha Dyer-Edwards)</td>\n",
       "      <td>Rothes</td>\n",
       "      <td>the Countess</td>\n",
       "    </tr>\n",
       "  </tbody>\n",
       "</table>\n",
       "</div>"
      ],
      "text/plain": [
       "     PassengerId  Survived  Pclass  \\\n",
       "759          760         1       1   \n",
       "\n",
       "                                                  Name     Sex   Age  SibSp  \\\n",
       "759  Rothes, the Countess. of (Lucy Noel Martha Dye...  female  33.0      0   \n",
       "\n",
       "     Parch  Ticket  Fare Cabin Embarked  \\\n",
       "759      0  110152  86.5   B77        S   \n",
       "\n",
       "                                               Surname  \\\n",
       "759   the Countess. of (Lucy Noel Martha Dyer-Edwards)   \n",
       "\n",
       "                                             Name_main Real_Name  \\\n",
       "759   the Countess. of (Lucy Noel Martha Dyer-Edwards)    Rothes   \n",
       "\n",
       "        Salutation  \n",
       "759   the Countess  "
      ]
     },
     "execution_count": 52,
     "metadata": {},
     "output_type": "execute_result"
    }
   ],
   "source": [
    "titanic[titanic[\"Name\"].str.contains(\"Countess\")]"
   ]
  },
  {
   "cell_type": "code",
   "execution_count": 53,
   "id": "09e96bf4",
   "metadata": {
    "execution": {
     "iopub.execute_input": "2023-08-24T14:31:39.245764Z",
     "iopub.status.busy": "2023-08-24T14:31:39.245386Z",
     "iopub.status.idle": "2023-08-24T14:31:39.254569Z",
     "shell.execute_reply": "2023-08-24T14:31:39.253722Z"
    },
    "papermill": {
     "duration": 0.073554,
     "end_time": "2023-08-24T14:31:39.256894",
     "exception": false,
     "start_time": "2023-08-24T14:31:39.183340",
     "status": "completed"
    },
    "tags": []
   },
   "outputs": [
    {
     "data": {
      "text/plain": [
       "0       9\n",
       "1       9\n",
       "2       9\n",
       "3      44\n",
       "4      24\n",
       "       ..\n",
       "886    21\n",
       "887    28\n",
       "888    40\n",
       "889    21\n",
       "890    19\n",
       "Name: Name, Length: 891, dtype: int64"
      ]
     },
     "execution_count": 53,
     "metadata": {},
     "output_type": "execute_result"
    }
   ],
   "source": [
    "titanic[\"Name\"].str.len()"
   ]
  },
  {
   "cell_type": "code",
   "execution_count": 54,
   "id": "29eaea76",
   "metadata": {
    "execution": {
     "iopub.execute_input": "2023-08-24T14:31:39.379778Z",
     "iopub.status.busy": "2023-08-24T14:31:39.379401Z",
     "iopub.status.idle": "2023-08-24T14:31:39.387772Z",
     "shell.execute_reply": "2023-08-24T14:31:39.386602Z"
    },
    "papermill": {
     "duration": 0.072564,
     "end_time": "2023-08-24T14:31:39.389897",
     "exception": false,
     "start_time": "2023-08-24T14:31:39.317333",
     "status": "completed"
    },
    "tags": []
   },
   "outputs": [
    {
     "data": {
      "text/plain": [
       "307"
      ]
     },
     "execution_count": 54,
     "metadata": {},
     "output_type": "execute_result"
    }
   ],
   "source": [
    "titanic[\"Name\"].str.len().idxmax()"
   ]
  },
  {
   "cell_type": "code",
   "execution_count": 55,
   "id": "c5f36750",
   "metadata": {
    "execution": {
     "iopub.execute_input": "2023-08-24T14:31:39.511646Z",
     "iopub.status.busy": "2023-08-24T14:31:39.511222Z",
     "iopub.status.idle": "2023-08-24T14:31:39.520136Z",
     "shell.execute_reply": "2023-08-24T14:31:39.519062Z"
    },
    "papermill": {
     "duration": 0.072481,
     "end_time": "2023-08-24T14:31:39.522363",
     "exception": false,
     "start_time": "2023-08-24T14:31:39.449882",
     "status": "completed"
    },
    "tags": []
   },
   "outputs": [
    {
     "data": {
      "text/plain": [
       "'Penasco y Castellana, Mrs. Victor de Satode (Maria Josefa Perez de Soto y Vallejo)'"
      ]
     },
     "execution_count": 55,
     "metadata": {},
     "output_type": "execute_result"
    }
   ],
   "source": [
    "titanic.loc[titanic[\"Name\"].str.len().idxmax(), \"Name\"]"
   ]
  },
  {
   "cell_type": "code",
   "execution_count": 56,
   "id": "b20a1ad3",
   "metadata": {
    "execution": {
     "iopub.execute_input": "2023-08-24T14:31:39.645889Z",
     "iopub.status.busy": "2023-08-24T14:31:39.645482Z",
     "iopub.status.idle": "2023-08-24T14:31:39.654661Z",
     "shell.execute_reply": "2023-08-24T14:31:39.653601Z"
    },
    "papermill": {
     "duration": 0.073524,
     "end_time": "2023-08-24T14:31:39.656864",
     "exception": false,
     "start_time": "2023-08-24T14:31:39.583340",
     "status": "completed"
    },
    "tags": []
   },
   "outputs": [
    {
     "data": {
      "text/plain": [
       "'anonymous'"
      ]
     },
     "execution_count": 56,
     "metadata": {},
     "output_type": "execute_result"
    }
   ],
   "source": [
    "titanic.loc[titanic[\"Name\"].str.len().idxmin(), \"Name\"]"
   ]
  },
  {
   "cell_type": "code",
   "execution_count": 57,
   "id": "b99caea6",
   "metadata": {
    "execution": {
     "iopub.execute_input": "2023-08-24T14:31:39.780922Z",
     "iopub.status.busy": "2023-08-24T14:31:39.780489Z",
     "iopub.status.idle": "2023-08-24T14:31:39.792732Z",
     "shell.execute_reply": "2023-08-24T14:31:39.791525Z"
    },
    "papermill": {
     "duration": 0.077665,
     "end_time": "2023-08-24T14:31:39.795037",
     "exception": false,
     "start_time": "2023-08-24T14:31:39.717372",
     "status": "completed"
    },
    "tags": []
   },
   "outputs": [
    {
     "data": {
      "text/plain": [
       "0      M\n",
       "1      F\n",
       "2      F\n",
       "3      F\n",
       "4      M\n",
       "      ..\n",
       "886    M\n",
       "887    F\n",
       "888    F\n",
       "889    M\n",
       "890    M\n",
       "Name: Sex_short, Length: 891, dtype: object"
      ]
     },
     "execution_count": 57,
     "metadata": {},
     "output_type": "execute_result"
    }
   ],
   "source": [
    "titanic[\"Sex_short\"] = titanic[\"Sex\"].replace({\"male\": \"M\", \"female\": \"F\"})\n",
    "titanic[\"Sex_short\"]"
   ]
  },
  {
   "cell_type": "code",
   "execution_count": 58,
   "id": "e0dbb080",
   "metadata": {
    "execution": {
     "iopub.execute_input": "2023-08-24T14:31:39.920780Z",
     "iopub.status.busy": "2023-08-24T14:31:39.920371Z",
     "iopub.status.idle": "2023-08-24T14:31:39.929343Z",
     "shell.execute_reply": "2023-08-24T14:31:39.928251Z"
    },
    "papermill": {
     "duration": 0.073842,
     "end_time": "2023-08-24T14:31:39.931655",
     "exception": false,
     "start_time": "2023-08-24T14:31:39.857813",
     "status": "completed"
    },
    "tags": []
   },
   "outputs": [],
   "source": [
    "titanic[\"Sex_short\"] = titanic[\"Sex\"].str.replace(\"female\", \"F\")\n",
    "titanic[\"Sex_short\"] = titanic[\"Sex_short\"].str.replace(\"male\", \"M\")"
   ]
  },
  {
   "cell_type": "code",
   "execution_count": 59,
   "id": "8bd25e7c",
   "metadata": {
    "execution": {
     "iopub.execute_input": "2023-08-24T14:31:40.055528Z",
     "iopub.status.busy": "2023-08-24T14:31:40.055096Z",
     "iopub.status.idle": "2023-08-24T14:31:40.069324Z",
     "shell.execute_reply": "2023-08-24T14:31:40.068099Z"
    },
    "papermill": {
     "duration": 0.078332,
     "end_time": "2023-08-24T14:31:40.071523",
     "exception": false,
     "start_time": "2023-08-24T14:31:39.993191",
     "status": "completed"
    },
    "tags": []
   },
   "outputs": [
    {
     "data": {
      "text/html": [
       "<div>\n",
       "<style scoped>\n",
       "    .dataframe tbody tr th:only-of-type {\n",
       "        vertical-align: middle;\n",
       "    }\n",
       "\n",
       "    .dataframe tbody tr th {\n",
       "        vertical-align: top;\n",
       "    }\n",
       "\n",
       "    .dataframe thead th {\n",
       "        text-align: right;\n",
       "    }\n",
       "</style>\n",
       "<table border=\"1\" class=\"dataframe\">\n",
       "  <thead>\n",
       "    <tr style=\"text-align: right;\">\n",
       "      <th></th>\n",
       "      <th>a</th>\n",
       "      <th>c</th>\n",
       "      <th>b</th>\n",
       "    </tr>\n",
       "  </thead>\n",
       "  <tbody>\n",
       "    <tr>\n",
       "      <th>0</th>\n",
       "      <td>0.108210</td>\n",
       "      <td>0.140116</td>\n",
       "      <td>1.465449</td>\n",
       "    </tr>\n",
       "    <tr>\n",
       "      <th>1</th>\n",
       "      <td>-0.769286</td>\n",
       "      <td>1.914532</td>\n",
       "      <td>1.423458</td>\n",
       "    </tr>\n",
       "    <tr>\n",
       "      <th>2</th>\n",
       "      <td>-1.297535</td>\n",
       "      <td>0.935434</td>\n",
       "      <td>0.852472</td>\n",
       "    </tr>\n",
       "    <tr>\n",
       "      <th>3</th>\n",
       "      <td>-0.765194</td>\n",
       "      <td>-0.559607</td>\n",
       "      <td>-0.485546</td>\n",
       "    </tr>\n",
       "    <tr>\n",
       "      <th>4</th>\n",
       "      <td>0.827572</td>\n",
       "      <td>0.327591</td>\n",
       "      <td>-0.461595</td>\n",
       "    </tr>\n",
       "    <tr>\n",
       "      <th>5</th>\n",
       "      <td>-1.201038</td>\n",
       "      <td>0.459028</td>\n",
       "      <td>2.341895</td>\n",
       "    </tr>\n",
       "    <tr>\n",
       "      <th>6</th>\n",
       "      <td>-0.929433</td>\n",
       "      <td>-0.064907</td>\n",
       "      <td>-0.686915</td>\n",
       "    </tr>\n",
       "    <tr>\n",
       "      <th>7</th>\n",
       "      <td>-0.518753</td>\n",
       "      <td>-1.512840</td>\n",
       "      <td>0.963589</td>\n",
       "    </tr>\n",
       "    <tr>\n",
       "      <th>8</th>\n",
       "      <td>0.693001</td>\n",
       "      <td>1.279577</td>\n",
       "      <td>0.647162</td>\n",
       "    </tr>\n",
       "    <tr>\n",
       "      <th>9</th>\n",
       "      <td>-0.307348</td>\n",
       "      <td>3.030432</td>\n",
       "      <td>1.770376</td>\n",
       "    </tr>\n",
       "  </tbody>\n",
       "</table>\n",
       "</div>"
      ],
      "text/plain": [
       "          a         c         b\n",
       "0  0.108210  0.140116  1.465449\n",
       "1 -0.769286  1.914532  1.423458\n",
       "2 -1.297535  0.935434  0.852472\n",
       "3 -0.765194 -0.559607 -0.485546\n",
       "4  0.827572  0.327591 -0.461595\n",
       "5 -1.201038  0.459028  2.341895\n",
       "6 -0.929433 -0.064907 -0.686915\n",
       "7 -0.518753 -1.512840  0.963589\n",
       "8  0.693001  1.279577  0.647162\n",
       "9 -0.307348  3.030432  1.770376"
      ]
     },
     "execution_count": 59,
     "metadata": {},
     "output_type": "execute_result"
    }
   ],
   "source": [
    "import numpy as np\n",
    "df = pd.DataFrame(np.random.randn(10, 3), columns=list(\"abc\"))\n",
    "df[[\"a\", \"c\",\"b\"]]"
   ]
  },
  {
   "cell_type": "code",
   "execution_count": 60,
   "id": "6a3af043",
   "metadata": {
    "execution": {
     "iopub.execute_input": "2023-08-24T14:31:40.197381Z",
     "iopub.status.busy": "2023-08-24T14:31:40.196944Z",
     "iopub.status.idle": "2023-08-24T14:31:40.209042Z",
     "shell.execute_reply": "2023-08-24T14:31:40.208240Z"
    },
    "papermill": {
     "duration": 0.077781,
     "end_time": "2023-08-24T14:31:40.211073",
     "exception": false,
     "start_time": "2023-08-24T14:31:40.133292",
     "status": "completed"
    },
    "tags": []
   },
   "outputs": [
    {
     "data": {
      "text/html": [
       "<div>\n",
       "<style scoped>\n",
       "    .dataframe tbody tr th:only-of-type {\n",
       "        vertical-align: middle;\n",
       "    }\n",
       "\n",
       "    .dataframe tbody tr th {\n",
       "        vertical-align: top;\n",
       "    }\n",
       "\n",
       "    .dataframe thead th {\n",
       "        text-align: right;\n",
       "    }\n",
       "</style>\n",
       "<table border=\"1\" class=\"dataframe\">\n",
       "  <thead>\n",
       "    <tr style=\"text-align: right;\">\n",
       "      <th></th>\n",
       "      <th>a</th>\n",
       "      <th>c</th>\n",
       "    </tr>\n",
       "  </thead>\n",
       "  <tbody>\n",
       "    <tr>\n",
       "      <th>0</th>\n",
       "      <td>0.108210</td>\n",
       "      <td>0.140116</td>\n",
       "    </tr>\n",
       "    <tr>\n",
       "      <th>1</th>\n",
       "      <td>-0.769286</td>\n",
       "      <td>1.914532</td>\n",
       "    </tr>\n",
       "    <tr>\n",
       "      <th>2</th>\n",
       "      <td>-1.297535</td>\n",
       "      <td>0.935434</td>\n",
       "    </tr>\n",
       "    <tr>\n",
       "      <th>3</th>\n",
       "      <td>-0.765194</td>\n",
       "      <td>-0.559607</td>\n",
       "    </tr>\n",
       "    <tr>\n",
       "      <th>4</th>\n",
       "      <td>0.827572</td>\n",
       "      <td>0.327591</td>\n",
       "    </tr>\n",
       "    <tr>\n",
       "      <th>5</th>\n",
       "      <td>-1.201038</td>\n",
       "      <td>0.459028</td>\n",
       "    </tr>\n",
       "    <tr>\n",
       "      <th>6</th>\n",
       "      <td>-0.929433</td>\n",
       "      <td>-0.064907</td>\n",
       "    </tr>\n",
       "    <tr>\n",
       "      <th>7</th>\n",
       "      <td>-0.518753</td>\n",
       "      <td>-1.512840</td>\n",
       "    </tr>\n",
       "    <tr>\n",
       "      <th>8</th>\n",
       "      <td>0.693001</td>\n",
       "      <td>1.279577</td>\n",
       "    </tr>\n",
       "    <tr>\n",
       "      <th>9</th>\n",
       "      <td>-0.307348</td>\n",
       "      <td>3.030432</td>\n",
       "    </tr>\n",
       "  </tbody>\n",
       "</table>\n",
       "</div>"
      ],
      "text/plain": [
       "          a         c\n",
       "0  0.108210  0.140116\n",
       "1 -0.769286  1.914532\n",
       "2 -1.297535  0.935434\n",
       "3 -0.765194 -0.559607\n",
       "4  0.827572  0.327591\n",
       "5 -1.201038  0.459028\n",
       "6 -0.929433 -0.064907\n",
       "7 -0.518753 -1.512840\n",
       "8  0.693001  1.279577\n",
       "9 -0.307348  3.030432"
      ]
     },
     "execution_count": 60,
     "metadata": {},
     "output_type": "execute_result"
    }
   ],
   "source": [
    "df.loc[:, [\"a\", \"c\"]]"
   ]
  },
  {
   "cell_type": "markdown",
   "id": "f006440b",
   "metadata": {
    "papermill": {
     "duration": 0.06079,
     "end_time": "2023-08-24T14:31:40.332923",
     "exception": false,
     "start_time": "2023-08-24T14:31:40.272133",
     "status": "completed"
    },
    "tags": []
   },
   "source": [
    "<font color=\"Red\" size=+2 face=\"Comic Sans MS\">Good Code</font>"
   ]
  },
  {
   "cell_type": "code",
   "execution_count": 61,
   "id": "9a2ce513",
   "metadata": {
    "execution": {
     "iopub.execute_input": "2023-08-24T14:31:40.457046Z",
     "iopub.status.busy": "2023-08-24T14:31:40.456653Z",
     "iopub.status.idle": "2023-08-24T14:31:40.497051Z",
     "shell.execute_reply": "2023-08-24T14:31:40.496286Z"
    },
    "papermill": {
     "duration": 0.105139,
     "end_time": "2023-08-24T14:31:40.499068",
     "exception": false,
     "start_time": "2023-08-24T14:31:40.393929",
     "status": "completed"
    },
    "tags": []
   },
   "outputs": [
    {
     "data": {
      "text/html": [
       "<div>\n",
       "<style scoped>\n",
       "    .dataframe tbody tr th:only-of-type {\n",
       "        vertical-align: middle;\n",
       "    }\n",
       "\n",
       "    .dataframe tbody tr th {\n",
       "        vertical-align: top;\n",
       "    }\n",
       "\n",
       "    .dataframe thead th {\n",
       "        text-align: right;\n",
       "    }\n",
       "</style>\n",
       "<table border=\"1\" class=\"dataframe\">\n",
       "  <thead>\n",
       "    <tr style=\"text-align: right;\">\n",
       "      <th></th>\n",
       "      <th>a</th>\n",
       "      <th>b</th>\n",
       "      <th>c</th>\n",
       "      <th>d</th>\n",
       "      <th>e</th>\n",
       "      <th>f</th>\n",
       "      <th>g</th>\n",
       "      <th>7</th>\n",
       "      <th>8</th>\n",
       "      <th>9</th>\n",
       "      <th>24</th>\n",
       "      <th>25</th>\n",
       "      <th>26</th>\n",
       "      <th>27</th>\n",
       "      <th>28</th>\n",
       "      <th>29</th>\n",
       "    </tr>\n",
       "  </thead>\n",
       "  <tbody>\n",
       "    <tr>\n",
       "      <th>0</th>\n",
       "      <td>-0.502323</td>\n",
       "      <td>0.105237</td>\n",
       "      <td>-0.913825</td>\n",
       "      <td>0.205605</td>\n",
       "      <td>0.497389</td>\n",
       "      <td>-0.952157</td>\n",
       "      <td>0.602418</td>\n",
       "      <td>-0.851633</td>\n",
       "      <td>-0.521521</td>\n",
       "      <td>0.167547</td>\n",
       "      <td>-0.972020</td>\n",
       "      <td>0.191819</td>\n",
       "      <td>0.926806</td>\n",
       "      <td>1.010804</td>\n",
       "      <td>-0.170346</td>\n",
       "      <td>-0.268954</td>\n",
       "    </tr>\n",
       "    <tr>\n",
       "      <th>1</th>\n",
       "      <td>1.413011</td>\n",
       "      <td>0.082817</td>\n",
       "      <td>-0.701498</td>\n",
       "      <td>-0.588044</td>\n",
       "      <td>-1.184055</td>\n",
       "      <td>-0.738322</td>\n",
       "      <td>-0.128582</td>\n",
       "      <td>0.810786</td>\n",
       "      <td>0.862009</td>\n",
       "      <td>0.914967</td>\n",
       "      <td>-1.864345</td>\n",
       "      <td>0.437357</td>\n",
       "      <td>1.609542</td>\n",
       "      <td>-0.281480</td>\n",
       "      <td>0.208980</td>\n",
       "      <td>1.347042</td>\n",
       "    </tr>\n",
       "    <tr>\n",
       "      <th>2</th>\n",
       "      <td>1.371422</td>\n",
       "      <td>-0.798297</td>\n",
       "      <td>0.096036</td>\n",
       "      <td>-0.387167</td>\n",
       "      <td>-0.826295</td>\n",
       "      <td>0.216022</td>\n",
       "      <td>-2.111703</td>\n",
       "      <td>-0.487369</td>\n",
       "      <td>-0.457233</td>\n",
       "      <td>1.450469</td>\n",
       "      <td>-0.268038</td>\n",
       "      <td>-0.431808</td>\n",
       "      <td>-0.700339</td>\n",
       "      <td>0.265969</td>\n",
       "      <td>1.484688</td>\n",
       "      <td>-0.960327</td>\n",
       "    </tr>\n",
       "    <tr>\n",
       "      <th>3</th>\n",
       "      <td>0.024625</td>\n",
       "      <td>-0.320842</td>\n",
       "      <td>-1.218247</td>\n",
       "      <td>-2.804867</td>\n",
       "      <td>-0.521765</td>\n",
       "      <td>-1.596666</td>\n",
       "      <td>-1.396269</td>\n",
       "      <td>-1.739324</td>\n",
       "      <td>-1.204310</td>\n",
       "      <td>1.837554</td>\n",
       "      <td>1.945962</td>\n",
       "      <td>-0.313896</td>\n",
       "      <td>1.734892</td>\n",
       "      <td>0.604560</td>\n",
       "      <td>-2.317802</td>\n",
       "      <td>1.081658</td>\n",
       "    </tr>\n",
       "    <tr>\n",
       "      <th>4</th>\n",
       "      <td>-1.166031</td>\n",
       "      <td>0.764638</td>\n",
       "      <td>0.576638</td>\n",
       "      <td>0.655903</td>\n",
       "      <td>0.890234</td>\n",
       "      <td>0.756579</td>\n",
       "      <td>0.647561</td>\n",
       "      <td>0.421380</td>\n",
       "      <td>-0.368260</td>\n",
       "      <td>0.424024</td>\n",
       "      <td>-0.354057</td>\n",
       "      <td>-1.124261</td>\n",
       "      <td>0.988348</td>\n",
       "      <td>0.332310</td>\n",
       "      <td>0.093636</td>\n",
       "      <td>-0.543011</td>\n",
       "    </tr>\n",
       "    <tr>\n",
       "      <th>5</th>\n",
       "      <td>0.059193</td>\n",
       "      <td>0.551980</td>\n",
       "      <td>-0.401651</td>\n",
       "      <td>2.822821</td>\n",
       "      <td>-0.256827</td>\n",
       "      <td>1.126431</td>\n",
       "      <td>-1.015535</td>\n",
       "      <td>-0.518320</td>\n",
       "      <td>-1.282675</td>\n",
       "      <td>-0.944125</td>\n",
       "      <td>-0.766551</td>\n",
       "      <td>-1.350614</td>\n",
       "      <td>0.022041</td>\n",
       "      <td>0.305420</td>\n",
       "      <td>0.266260</td>\n",
       "      <td>-0.147524</td>\n",
       "    </tr>\n",
       "    <tr>\n",
       "      <th>6</th>\n",
       "      <td>-0.879208</td>\n",
       "      <td>0.422266</td>\n",
       "      <td>1.031931</td>\n",
       "      <td>-0.499838</td>\n",
       "      <td>0.673247</td>\n",
       "      <td>-0.295370</td>\n",
       "      <td>-0.044226</td>\n",
       "      <td>0.616000</td>\n",
       "      <td>-0.408626</td>\n",
       "      <td>-0.165542</td>\n",
       "      <td>-0.571893</td>\n",
       "      <td>0.469880</td>\n",
       "      <td>0.271580</td>\n",
       "      <td>0.018355</td>\n",
       "      <td>0.281233</td>\n",
       "      <td>-0.198999</td>\n",
       "    </tr>\n",
       "    <tr>\n",
       "      <th>7</th>\n",
       "      <td>-0.430523</td>\n",
       "      <td>0.263604</td>\n",
       "      <td>2.291268</td>\n",
       "      <td>0.685729</td>\n",
       "      <td>-0.878588</td>\n",
       "      <td>1.160980</td>\n",
       "      <td>-2.143610</td>\n",
       "      <td>0.195069</td>\n",
       "      <td>-0.527694</td>\n",
       "      <td>-0.906880</td>\n",
       "      <td>-0.296858</td>\n",
       "      <td>0.287800</td>\n",
       "      <td>-0.726794</td>\n",
       "      <td>0.710910</td>\n",
       "      <td>-2.170950</td>\n",
       "      <td>-2.142308</td>\n",
       "    </tr>\n",
       "    <tr>\n",
       "      <th>8</th>\n",
       "      <td>-0.408026</td>\n",
       "      <td>-1.386750</td>\n",
       "      <td>1.009920</td>\n",
       "      <td>1.325502</td>\n",
       "      <td>-0.439869</td>\n",
       "      <td>-0.061688</td>\n",
       "      <td>-0.496054</td>\n",
       "      <td>-0.539550</td>\n",
       "      <td>-0.090979</td>\n",
       "      <td>0.902448</td>\n",
       "      <td>-0.876032</td>\n",
       "      <td>0.514214</td>\n",
       "      <td>0.017020</td>\n",
       "      <td>0.205388</td>\n",
       "      <td>1.059889</td>\n",
       "      <td>-0.694872</td>\n",
       "    </tr>\n",
       "    <tr>\n",
       "      <th>9</th>\n",
       "      <td>-0.978289</td>\n",
       "      <td>1.414559</td>\n",
       "      <td>2.077946</td>\n",
       "      <td>-1.476533</td>\n",
       "      <td>0.040995</td>\n",
       "      <td>0.164651</td>\n",
       "      <td>0.395956</td>\n",
       "      <td>0.553022</td>\n",
       "      <td>-0.194661</td>\n",
       "      <td>-0.384566</td>\n",
       "      <td>0.312998</td>\n",
       "      <td>1.611269</td>\n",
       "      <td>0.358345</td>\n",
       "      <td>-0.533650</td>\n",
       "      <td>-0.400184</td>\n",
       "      <td>-0.863841</td>\n",
       "    </tr>\n",
       "    <tr>\n",
       "      <th>10</th>\n",
       "      <td>-0.500002</td>\n",
       "      <td>-0.715305</td>\n",
       "      <td>-0.007084</td>\n",
       "      <td>0.927806</td>\n",
       "      <td>-0.409959</td>\n",
       "      <td>0.228680</td>\n",
       "      <td>0.257213</td>\n",
       "      <td>0.640828</td>\n",
       "      <td>-0.499482</td>\n",
       "      <td>-1.707090</td>\n",
       "      <td>-1.428499</td>\n",
       "      <td>-0.336512</td>\n",
       "      <td>0.612514</td>\n",
       "      <td>0.967567</td>\n",
       "      <td>0.308051</td>\n",
       "      <td>-0.251994</td>\n",
       "    </tr>\n",
       "    <tr>\n",
       "      <th>11</th>\n",
       "      <td>0.396559</td>\n",
       "      <td>0.246947</td>\n",
       "      <td>2.413133</td>\n",
       "      <td>1.700273</td>\n",
       "      <td>0.559944</td>\n",
       "      <td>0.169811</td>\n",
       "      <td>-1.088049</td>\n",
       "      <td>-0.087219</td>\n",
       "      <td>-0.728128</td>\n",
       "      <td>-0.633956</td>\n",
       "      <td>1.023972</td>\n",
       "      <td>-0.612851</td>\n",
       "      <td>-0.867606</td>\n",
       "      <td>-1.262303</td>\n",
       "      <td>-2.148137</td>\n",
       "      <td>-0.221985</td>\n",
       "    </tr>\n",
       "    <tr>\n",
       "      <th>12</th>\n",
       "      <td>-0.003150</td>\n",
       "      <td>0.073651</td>\n",
       "      <td>-0.448581</td>\n",
       "      <td>0.198620</td>\n",
       "      <td>0.258865</td>\n",
       "      <td>1.337498</td>\n",
       "      <td>-1.034716</td>\n",
       "      <td>0.204164</td>\n",
       "      <td>1.226054</td>\n",
       "      <td>-0.994396</td>\n",
       "      <td>0.826676</td>\n",
       "      <td>-0.436962</td>\n",
       "      <td>0.383788</td>\n",
       "      <td>-0.456969</td>\n",
       "      <td>-0.308410</td>\n",
       "      <td>-0.156009</td>\n",
       "    </tr>\n",
       "    <tr>\n",
       "      <th>13</th>\n",
       "      <td>-1.527861</td>\n",
       "      <td>-0.453098</td>\n",
       "      <td>0.485066</td>\n",
       "      <td>0.449599</td>\n",
       "      <td>1.774746</td>\n",
       "      <td>2.327010</td>\n",
       "      <td>-1.031870</td>\n",
       "      <td>-0.219140</td>\n",
       "      <td>-0.109874</td>\n",
       "      <td>-0.371957</td>\n",
       "      <td>1.622557</td>\n",
       "      <td>-1.527919</td>\n",
       "      <td>-0.076031</td>\n",
       "      <td>-0.284086</td>\n",
       "      <td>-0.563917</td>\n",
       "      <td>0.166359</td>\n",
       "    </tr>\n",
       "    <tr>\n",
       "      <th>14</th>\n",
       "      <td>-0.497000</td>\n",
       "      <td>-2.453225</td>\n",
       "      <td>-0.083150</td>\n",
       "      <td>0.210201</td>\n",
       "      <td>0.095866</td>\n",
       "      <td>1.654274</td>\n",
       "      <td>-0.567847</td>\n",
       "      <td>-0.860045</td>\n",
       "      <td>-0.417048</td>\n",
       "      <td>0.949408</td>\n",
       "      <td>0.830503</td>\n",
       "      <td>1.089773</td>\n",
       "      <td>-0.473189</td>\n",
       "      <td>-0.987061</td>\n",
       "      <td>0.115719</td>\n",
       "      <td>0.718599</td>\n",
       "    </tr>\n",
       "    <tr>\n",
       "      <th>15</th>\n",
       "      <td>0.526964</td>\n",
       "      <td>-1.905309</td>\n",
       "      <td>-1.184635</td>\n",
       "      <td>0.110153</td>\n",
       "      <td>0.022359</td>\n",
       "      <td>-0.897722</td>\n",
       "      <td>0.126322</td>\n",
       "      <td>0.824258</td>\n",
       "      <td>0.843274</td>\n",
       "      <td>0.370428</td>\n",
       "      <td>-0.553571</td>\n",
       "      <td>1.728836</td>\n",
       "      <td>0.592122</td>\n",
       "      <td>-2.100534</td>\n",
       "      <td>-0.365036</td>\n",
       "      <td>-0.953232</td>\n",
       "    </tr>\n",
       "    <tr>\n",
       "      <th>16</th>\n",
       "      <td>-0.064736</td>\n",
       "      <td>-0.910540</td>\n",
       "      <td>0.452556</td>\n",
       "      <td>0.398238</td>\n",
       "      <td>-0.255951</td>\n",
       "      <td>-1.136878</td>\n",
       "      <td>1.206328</td>\n",
       "      <td>0.847162</td>\n",
       "      <td>0.811430</td>\n",
       "      <td>-1.687968</td>\n",
       "      <td>-1.691298</td>\n",
       "      <td>-0.524361</td>\n",
       "      <td>-0.774510</td>\n",
       "      <td>-1.040697</td>\n",
       "      <td>-0.497634</td>\n",
       "      <td>0.053206</td>\n",
       "    </tr>\n",
       "    <tr>\n",
       "      <th>17</th>\n",
       "      <td>0.472435</td>\n",
       "      <td>0.410882</td>\n",
       "      <td>-0.319502</td>\n",
       "      <td>-0.084655</td>\n",
       "      <td>1.475867</td>\n",
       "      <td>-2.074522</td>\n",
       "      <td>0.509671</td>\n",
       "      <td>0.687133</td>\n",
       "      <td>-0.386981</td>\n",
       "      <td>0.058625</td>\n",
       "      <td>-0.703398</td>\n",
       "      <td>0.370934</td>\n",
       "      <td>0.689552</td>\n",
       "      <td>1.043836</td>\n",
       "      <td>-0.093009</td>\n",
       "      <td>-1.161547</td>\n",
       "    </tr>\n",
       "    <tr>\n",
       "      <th>18</th>\n",
       "      <td>-0.397894</td>\n",
       "      <td>0.592811</td>\n",
       "      <td>-0.244958</td>\n",
       "      <td>-2.480178</td>\n",
       "      <td>1.624072</td>\n",
       "      <td>0.769601</td>\n",
       "      <td>-0.671239</td>\n",
       "      <td>0.636718</td>\n",
       "      <td>-0.256266</td>\n",
       "      <td>1.688810</td>\n",
       "      <td>1.620970</td>\n",
       "      <td>0.148055</td>\n",
       "      <td>0.675513</td>\n",
       "      <td>-0.524385</td>\n",
       "      <td>-1.289494</td>\n",
       "      <td>-0.408758</td>\n",
       "    </tr>\n",
       "    <tr>\n",
       "      <th>19</th>\n",
       "      <td>-0.951751</td>\n",
       "      <td>0.889866</td>\n",
       "      <td>0.144699</td>\n",
       "      <td>1.213799</td>\n",
       "      <td>-1.043016</td>\n",
       "      <td>-0.115605</td>\n",
       "      <td>-0.297899</td>\n",
       "      <td>0.356404</td>\n",
       "      <td>-0.304714</td>\n",
       "      <td>-0.413244</td>\n",
       "      <td>-0.110105</td>\n",
       "      <td>-2.107057</td>\n",
       "      <td>0.207874</td>\n",
       "      <td>-0.737071</td>\n",
       "      <td>0.301257</td>\n",
       "      <td>-0.227201</td>\n",
       "    </tr>\n",
       "    <tr>\n",
       "      <th>20</th>\n",
       "      <td>1.610471</td>\n",
       "      <td>1.004376</td>\n",
       "      <td>-0.274364</td>\n",
       "      <td>-1.290700</td>\n",
       "      <td>-1.295928</td>\n",
       "      <td>-0.480678</td>\n",
       "      <td>-1.205298</td>\n",
       "      <td>1.122036</td>\n",
       "      <td>0.290606</td>\n",
       "      <td>1.613950</td>\n",
       "      <td>-0.228957</td>\n",
       "      <td>0.103147</td>\n",
       "      <td>-1.376383</td>\n",
       "      <td>-0.773668</td>\n",
       "      <td>0.709464</td>\n",
       "      <td>0.613251</td>\n",
       "    </tr>\n",
       "    <tr>\n",
       "      <th>21</th>\n",
       "      <td>-0.253717</td>\n",
       "      <td>-1.532707</td>\n",
       "      <td>0.190307</td>\n",
       "      <td>0.346339</td>\n",
       "      <td>0.968370</td>\n",
       "      <td>0.644096</td>\n",
       "      <td>-0.980892</td>\n",
       "      <td>-1.693834</td>\n",
       "      <td>0.309700</td>\n",
       "      <td>-0.203351</td>\n",
       "      <td>0.261416</td>\n",
       "      <td>-1.786910</td>\n",
       "      <td>1.709890</td>\n",
       "      <td>-0.085955</td>\n",
       "      <td>-1.767058</td>\n",
       "      <td>-0.081725</td>\n",
       "    </tr>\n",
       "    <tr>\n",
       "      <th>22</th>\n",
       "      <td>-0.501138</td>\n",
       "      <td>0.178179</td>\n",
       "      <td>1.111581</td>\n",
       "      <td>0.346604</td>\n",
       "      <td>0.219967</td>\n",
       "      <td>0.101850</td>\n",
       "      <td>0.264921</td>\n",
       "      <td>-0.264495</td>\n",
       "      <td>-2.041818</td>\n",
       "      <td>0.465346</td>\n",
       "      <td>-2.360707</td>\n",
       "      <td>-1.143237</td>\n",
       "      <td>-1.351293</td>\n",
       "      <td>0.125583</td>\n",
       "      <td>0.951821</td>\n",
       "      <td>0.138114</td>\n",
       "    </tr>\n",
       "    <tr>\n",
       "      <th>23</th>\n",
       "      <td>-0.642588</td>\n",
       "      <td>-1.063788</td>\n",
       "      <td>-0.723895</td>\n",
       "      <td>0.554678</td>\n",
       "      <td>-0.153995</td>\n",
       "      <td>-0.128069</td>\n",
       "      <td>0.495712</td>\n",
       "      <td>0.130992</td>\n",
       "      <td>-1.661096</td>\n",
       "      <td>0.846024</td>\n",
       "      <td>-0.726729</td>\n",
       "      <td>0.489662</td>\n",
       "      <td>0.790121</td>\n",
       "      <td>0.199328</td>\n",
       "      <td>-0.209959</td>\n",
       "      <td>0.284113</td>\n",
       "    </tr>\n",
       "    <tr>\n",
       "      <th>24</th>\n",
       "      <td>-0.320571</td>\n",
       "      <td>-1.029400</td>\n",
       "      <td>0.939922</td>\n",
       "      <td>-0.621622</td>\n",
       "      <td>-0.624186</td>\n",
       "      <td>-0.523545</td>\n",
       "      <td>-0.946335</td>\n",
       "      <td>-0.102931</td>\n",
       "      <td>-0.796830</td>\n",
       "      <td>-0.822021</td>\n",
       "      <td>-0.377912</td>\n",
       "      <td>0.629603</td>\n",
       "      <td>-0.173737</td>\n",
       "      <td>-1.213563</td>\n",
       "      <td>-0.684956</td>\n",
       "      <td>-0.141030</td>\n",
       "    </tr>\n",
       "    <tr>\n",
       "      <th>25</th>\n",
       "      <td>0.319153</td>\n",
       "      <td>0.848592</td>\n",
       "      <td>0.697872</td>\n",
       "      <td>-0.557688</td>\n",
       "      <td>-1.177793</td>\n",
       "      <td>-1.491818</td>\n",
       "      <td>2.248085</td>\n",
       "      <td>0.266859</td>\n",
       "      <td>-0.613430</td>\n",
       "      <td>-2.512090</td>\n",
       "      <td>0.005866</td>\n",
       "      <td>-1.771741</td>\n",
       "      <td>0.190874</td>\n",
       "      <td>-0.282805</td>\n",
       "      <td>1.314064</td>\n",
       "      <td>-0.559637</td>\n",
       "    </tr>\n",
       "    <tr>\n",
       "      <th>26</th>\n",
       "      <td>-1.122303</td>\n",
       "      <td>0.097414</td>\n",
       "      <td>0.448763</td>\n",
       "      <td>-1.720188</td>\n",
       "      <td>1.019365</td>\n",
       "      <td>0.944330</td>\n",
       "      <td>1.523940</td>\n",
       "      <td>0.437081</td>\n",
       "      <td>-0.788069</td>\n",
       "      <td>0.807750</td>\n",
       "      <td>-0.389756</td>\n",
       "      <td>-0.281808</td>\n",
       "      <td>1.075906</td>\n",
       "      <td>1.394410</td>\n",
       "      <td>-1.075043</td>\n",
       "      <td>0.883026</td>\n",
       "    </tr>\n",
       "    <tr>\n",
       "      <th>27</th>\n",
       "      <td>-0.441143</td>\n",
       "      <td>-0.028157</td>\n",
       "      <td>0.943697</td>\n",
       "      <td>1.968008</td>\n",
       "      <td>-1.183406</td>\n",
       "      <td>0.150000</td>\n",
       "      <td>-0.744230</td>\n",
       "      <td>0.899912</td>\n",
       "      <td>-0.346359</td>\n",
       "      <td>2.414211</td>\n",
       "      <td>0.207784</td>\n",
       "      <td>-0.188822</td>\n",
       "      <td>0.608550</td>\n",
       "      <td>-0.533015</td>\n",
       "      <td>-0.310263</td>\n",
       "      <td>0.395915</td>\n",
       "    </tr>\n",
       "    <tr>\n",
       "      <th>28</th>\n",
       "      <td>1.486316</td>\n",
       "      <td>0.019917</td>\n",
       "      <td>1.625514</td>\n",
       "      <td>-0.367155</td>\n",
       "      <td>-0.115183</td>\n",
       "      <td>0.402279</td>\n",
       "      <td>0.404892</td>\n",
       "      <td>0.205344</td>\n",
       "      <td>-0.443676</td>\n",
       "      <td>0.160233</td>\n",
       "      <td>0.618780</td>\n",
       "      <td>0.408315</td>\n",
       "      <td>0.329455</td>\n",
       "      <td>0.839511</td>\n",
       "      <td>-0.889236</td>\n",
       "      <td>0.335039</td>\n",
       "    </tr>\n",
       "    <tr>\n",
       "      <th>29</th>\n",
       "      <td>1.318619</td>\n",
       "      <td>2.742494</td>\n",
       "      <td>-2.400956</td>\n",
       "      <td>0.144178</td>\n",
       "      <td>0.204725</td>\n",
       "      <td>-0.960712</td>\n",
       "      <td>-1.919359</td>\n",
       "      <td>0.089327</td>\n",
       "      <td>-0.323575</td>\n",
       "      <td>0.054753</td>\n",
       "      <td>-0.198479</td>\n",
       "      <td>-1.065712</td>\n",
       "      <td>-0.609076</td>\n",
       "      <td>0.443171</td>\n",
       "      <td>-0.668599</td>\n",
       "      <td>1.579123</td>\n",
       "    </tr>\n",
       "  </tbody>\n",
       "</table>\n",
       "</div>"
      ],
      "text/plain": [
       "           a         b         c         d         e         f         g  \\\n",
       "0  -0.502323  0.105237 -0.913825  0.205605  0.497389 -0.952157  0.602418   \n",
       "1   1.413011  0.082817 -0.701498 -0.588044 -1.184055 -0.738322 -0.128582   \n",
       "2   1.371422 -0.798297  0.096036 -0.387167 -0.826295  0.216022 -2.111703   \n",
       "3   0.024625 -0.320842 -1.218247 -2.804867 -0.521765 -1.596666 -1.396269   \n",
       "4  -1.166031  0.764638  0.576638  0.655903  0.890234  0.756579  0.647561   \n",
       "5   0.059193  0.551980 -0.401651  2.822821 -0.256827  1.126431 -1.015535   \n",
       "6  -0.879208  0.422266  1.031931 -0.499838  0.673247 -0.295370 -0.044226   \n",
       "7  -0.430523  0.263604  2.291268  0.685729 -0.878588  1.160980 -2.143610   \n",
       "8  -0.408026 -1.386750  1.009920  1.325502 -0.439869 -0.061688 -0.496054   \n",
       "9  -0.978289  1.414559  2.077946 -1.476533  0.040995  0.164651  0.395956   \n",
       "10 -0.500002 -0.715305 -0.007084  0.927806 -0.409959  0.228680  0.257213   \n",
       "11  0.396559  0.246947  2.413133  1.700273  0.559944  0.169811 -1.088049   \n",
       "12 -0.003150  0.073651 -0.448581  0.198620  0.258865  1.337498 -1.034716   \n",
       "13 -1.527861 -0.453098  0.485066  0.449599  1.774746  2.327010 -1.031870   \n",
       "14 -0.497000 -2.453225 -0.083150  0.210201  0.095866  1.654274 -0.567847   \n",
       "15  0.526964 -1.905309 -1.184635  0.110153  0.022359 -0.897722  0.126322   \n",
       "16 -0.064736 -0.910540  0.452556  0.398238 -0.255951 -1.136878  1.206328   \n",
       "17  0.472435  0.410882 -0.319502 -0.084655  1.475867 -2.074522  0.509671   \n",
       "18 -0.397894  0.592811 -0.244958 -2.480178  1.624072  0.769601 -0.671239   \n",
       "19 -0.951751  0.889866  0.144699  1.213799 -1.043016 -0.115605 -0.297899   \n",
       "20  1.610471  1.004376 -0.274364 -1.290700 -1.295928 -0.480678 -1.205298   \n",
       "21 -0.253717 -1.532707  0.190307  0.346339  0.968370  0.644096 -0.980892   \n",
       "22 -0.501138  0.178179  1.111581  0.346604  0.219967  0.101850  0.264921   \n",
       "23 -0.642588 -1.063788 -0.723895  0.554678 -0.153995 -0.128069  0.495712   \n",
       "24 -0.320571 -1.029400  0.939922 -0.621622 -0.624186 -0.523545 -0.946335   \n",
       "25  0.319153  0.848592  0.697872 -0.557688 -1.177793 -1.491818  2.248085   \n",
       "26 -1.122303  0.097414  0.448763 -1.720188  1.019365  0.944330  1.523940   \n",
       "27 -0.441143 -0.028157  0.943697  1.968008 -1.183406  0.150000 -0.744230   \n",
       "28  1.486316  0.019917  1.625514 -0.367155 -0.115183  0.402279  0.404892   \n",
       "29  1.318619  2.742494 -2.400956  0.144178  0.204725 -0.960712 -1.919359   \n",
       "\n",
       "           7         8         9        24        25        26        27  \\\n",
       "0  -0.851633 -0.521521  0.167547 -0.972020  0.191819  0.926806  1.010804   \n",
       "1   0.810786  0.862009  0.914967 -1.864345  0.437357  1.609542 -0.281480   \n",
       "2  -0.487369 -0.457233  1.450469 -0.268038 -0.431808 -0.700339  0.265969   \n",
       "3  -1.739324 -1.204310  1.837554  1.945962 -0.313896  1.734892  0.604560   \n",
       "4   0.421380 -0.368260  0.424024 -0.354057 -1.124261  0.988348  0.332310   \n",
       "5  -0.518320 -1.282675 -0.944125 -0.766551 -1.350614  0.022041  0.305420   \n",
       "6   0.616000 -0.408626 -0.165542 -0.571893  0.469880  0.271580  0.018355   \n",
       "7   0.195069 -0.527694 -0.906880 -0.296858  0.287800 -0.726794  0.710910   \n",
       "8  -0.539550 -0.090979  0.902448 -0.876032  0.514214  0.017020  0.205388   \n",
       "9   0.553022 -0.194661 -0.384566  0.312998  1.611269  0.358345 -0.533650   \n",
       "10  0.640828 -0.499482 -1.707090 -1.428499 -0.336512  0.612514  0.967567   \n",
       "11 -0.087219 -0.728128 -0.633956  1.023972 -0.612851 -0.867606 -1.262303   \n",
       "12  0.204164  1.226054 -0.994396  0.826676 -0.436962  0.383788 -0.456969   \n",
       "13 -0.219140 -0.109874 -0.371957  1.622557 -1.527919 -0.076031 -0.284086   \n",
       "14 -0.860045 -0.417048  0.949408  0.830503  1.089773 -0.473189 -0.987061   \n",
       "15  0.824258  0.843274  0.370428 -0.553571  1.728836  0.592122 -2.100534   \n",
       "16  0.847162  0.811430 -1.687968 -1.691298 -0.524361 -0.774510 -1.040697   \n",
       "17  0.687133 -0.386981  0.058625 -0.703398  0.370934  0.689552  1.043836   \n",
       "18  0.636718 -0.256266  1.688810  1.620970  0.148055  0.675513 -0.524385   \n",
       "19  0.356404 -0.304714 -0.413244 -0.110105 -2.107057  0.207874 -0.737071   \n",
       "20  1.122036  0.290606  1.613950 -0.228957  0.103147 -1.376383 -0.773668   \n",
       "21 -1.693834  0.309700 -0.203351  0.261416 -1.786910  1.709890 -0.085955   \n",
       "22 -0.264495 -2.041818  0.465346 -2.360707 -1.143237 -1.351293  0.125583   \n",
       "23  0.130992 -1.661096  0.846024 -0.726729  0.489662  0.790121  0.199328   \n",
       "24 -0.102931 -0.796830 -0.822021 -0.377912  0.629603 -0.173737 -1.213563   \n",
       "25  0.266859 -0.613430 -2.512090  0.005866 -1.771741  0.190874 -0.282805   \n",
       "26  0.437081 -0.788069  0.807750 -0.389756 -0.281808  1.075906  1.394410   \n",
       "27  0.899912 -0.346359  2.414211  0.207784 -0.188822  0.608550 -0.533015   \n",
       "28  0.205344 -0.443676  0.160233  0.618780  0.408315  0.329455  0.839511   \n",
       "29  0.089327 -0.323575  0.054753 -0.198479 -1.065712 -0.609076  0.443171   \n",
       "\n",
       "          28        29  \n",
       "0  -0.170346 -0.268954  \n",
       "1   0.208980  1.347042  \n",
       "2   1.484688 -0.960327  \n",
       "3  -2.317802  1.081658  \n",
       "4   0.093636 -0.543011  \n",
       "5   0.266260 -0.147524  \n",
       "6   0.281233 -0.198999  \n",
       "7  -2.170950 -2.142308  \n",
       "8   1.059889 -0.694872  \n",
       "9  -0.400184 -0.863841  \n",
       "10  0.308051 -0.251994  \n",
       "11 -2.148137 -0.221985  \n",
       "12 -0.308410 -0.156009  \n",
       "13 -0.563917  0.166359  \n",
       "14  0.115719  0.718599  \n",
       "15 -0.365036 -0.953232  \n",
       "16 -0.497634  0.053206  \n",
       "17 -0.093009 -1.161547  \n",
       "18 -1.289494 -0.408758  \n",
       "19  0.301257 -0.227201  \n",
       "20  0.709464  0.613251  \n",
       "21 -1.767058 -0.081725  \n",
       "22  0.951821  0.138114  \n",
       "23 -0.209959  0.284113  \n",
       "24 -0.684956 -0.141030  \n",
       "25  1.314064 -0.559637  \n",
       "26 -1.075043  0.883026  \n",
       "27 -0.310263  0.395915  \n",
       "28 -0.889236  0.335039  \n",
       "29 -0.668599  1.579123  "
      ]
     },
     "execution_count": 61,
     "metadata": {},
     "output_type": "execute_result"
    }
   ],
   "source": [
    "named = list(\"abcdefg\")\n",
    "n = 30\n",
    "columns = named + np.arange(len(named), n).tolist()\n",
    "df = pd.DataFrame(np.random.randn(n, n), columns=columns)\n",
    "df.iloc[:, np.r_[:10, 24:30]]"
   ]
  },
  {
   "cell_type": "code",
   "execution_count": 62,
   "id": "49a5136d",
   "metadata": {
    "execution": {
     "iopub.execute_input": "2023-08-24T14:31:40.626114Z",
     "iopub.status.busy": "2023-08-24T14:31:40.625393Z",
     "iopub.status.idle": "2023-08-24T14:31:40.644129Z",
     "shell.execute_reply": "2023-08-24T14:31:40.643093Z"
    },
    "papermill": {
     "duration": 0.08449,
     "end_time": "2023-08-24T14:31:40.646616",
     "exception": false,
     "start_time": "2023-08-24T14:31:40.562126",
     "status": "completed"
    },
    "tags": []
   },
   "outputs": [
    {
     "data": {
      "text/html": [
       "<div>\n",
       "<style scoped>\n",
       "    .dataframe tbody tr th:only-of-type {\n",
       "        vertical-align: middle;\n",
       "    }\n",
       "\n",
       "    .dataframe tbody tr th {\n",
       "        vertical-align: top;\n",
       "    }\n",
       "\n",
       "    .dataframe thead th {\n",
       "        text-align: right;\n",
       "    }\n",
       "</style>\n",
       "<table border=\"1\" class=\"dataframe\">\n",
       "  <thead>\n",
       "    <tr style=\"text-align: right;\">\n",
       "      <th></th>\n",
       "      <th>v1</th>\n",
       "      <th>v2</th>\n",
       "      <th>by1</th>\n",
       "      <th>by2</th>\n",
       "    </tr>\n",
       "  </thead>\n",
       "  <tbody>\n",
       "    <tr>\n",
       "      <th>0</th>\n",
       "      <td>1.0</td>\n",
       "      <td>11.0</td>\n",
       "      <td>red</td>\n",
       "      <td>wet</td>\n",
       "    </tr>\n",
       "    <tr>\n",
       "      <th>1</th>\n",
       "      <td>3.0</td>\n",
       "      <td>33.0</td>\n",
       "      <td>blue</td>\n",
       "      <td>dry</td>\n",
       "    </tr>\n",
       "    <tr>\n",
       "      <th>2</th>\n",
       "      <td>5.0</td>\n",
       "      <td>55.0</td>\n",
       "      <td>1</td>\n",
       "      <td>99</td>\n",
       "    </tr>\n",
       "    <tr>\n",
       "      <th>3</th>\n",
       "      <td>7.0</td>\n",
       "      <td>77.0</td>\n",
       "      <td>2</td>\n",
       "      <td>95</td>\n",
       "    </tr>\n",
       "    <tr>\n",
       "      <th>4</th>\n",
       "      <td>8.0</td>\n",
       "      <td>88.0</td>\n",
       "      <td>NaN</td>\n",
       "      <td>NaN</td>\n",
       "    </tr>\n",
       "    <tr>\n",
       "      <th>5</th>\n",
       "      <td>3.0</td>\n",
       "      <td>33.0</td>\n",
       "      <td>big</td>\n",
       "      <td>damp</td>\n",
       "    </tr>\n",
       "    <tr>\n",
       "      <th>6</th>\n",
       "      <td>5.0</td>\n",
       "      <td>55.0</td>\n",
       "      <td>1</td>\n",
       "      <td>95</td>\n",
       "    </tr>\n",
       "    <tr>\n",
       "      <th>7</th>\n",
       "      <td>NaN</td>\n",
       "      <td>NaN</td>\n",
       "      <td>2</td>\n",
       "      <td>99</td>\n",
       "    </tr>\n",
       "    <tr>\n",
       "      <th>8</th>\n",
       "      <td>4.0</td>\n",
       "      <td>44.0</td>\n",
       "      <td>red</td>\n",
       "      <td>red</td>\n",
       "    </tr>\n",
       "    <tr>\n",
       "      <th>9</th>\n",
       "      <td>5.0</td>\n",
       "      <td>55.0</td>\n",
       "      <td>1</td>\n",
       "      <td>99</td>\n",
       "    </tr>\n",
       "    <tr>\n",
       "      <th>10</th>\n",
       "      <td>7.0</td>\n",
       "      <td>77.0</td>\n",
       "      <td>NaN</td>\n",
       "      <td>NaN</td>\n",
       "    </tr>\n",
       "    <tr>\n",
       "      <th>11</th>\n",
       "      <td>9.0</td>\n",
       "      <td>99.0</td>\n",
       "      <td>12</td>\n",
       "      <td>NaN</td>\n",
       "    </tr>\n",
       "  </tbody>\n",
       "</table>\n",
       "</div>"
      ],
      "text/plain": [
       "     v1    v2   by1   by2\n",
       "0   1.0  11.0   red   wet\n",
       "1   3.0  33.0  blue   dry\n",
       "2   5.0  55.0     1    99\n",
       "3   7.0  77.0     2    95\n",
       "4   8.0  88.0   NaN   NaN\n",
       "5   3.0  33.0   big  damp\n",
       "6   5.0  55.0     1    95\n",
       "7   NaN   NaN     2    99\n",
       "8   4.0  44.0   red   red\n",
       "9   5.0  55.0     1    99\n",
       "10  7.0  77.0   NaN   NaN\n",
       "11  9.0  99.0    12   NaN"
      ]
     },
     "execution_count": 62,
     "metadata": {},
     "output_type": "execute_result"
    }
   ],
   "source": [
    "df = pd.DataFrame({\n",
    "    \n",
    "\"v1\": [1, 3, 5, 7, 8, 3, 5, np.nan, 4, 5, 7, 9],\n",
    "\"v2\": [11, 33, 55, 77, 88, 33, 55, np.nan, 44, 55, 77, 99],\n",
    "\"by1\": [\"red\", \"blue\", 1, 2, np.nan, \"big\", 1, 2, \"red\", 1, np.nan, 12],\n",
    "\"by2\": [\"wet\",\"dry\",99,95,np.nan,\"damp\",95,99,\"red\",99,np.nan,np.nan,]\n",
    "    \n",
    "})\n",
    "\n",
    "df"
   ]
  },
  {
   "cell_type": "code",
   "execution_count": 63,
   "id": "6668583c",
   "metadata": {
    "execution": {
     "iopub.execute_input": "2023-08-24T14:31:40.774243Z",
     "iopub.status.busy": "2023-08-24T14:31:40.773456Z",
     "iopub.status.idle": "2023-08-24T14:31:40.792010Z",
     "shell.execute_reply": "2023-08-24T14:31:40.790340Z"
    },
    "papermill": {
     "duration": 0.085141,
     "end_time": "2023-08-24T14:31:40.794605",
     "exception": false,
     "start_time": "2023-08-24T14:31:40.709464",
     "status": "completed"
    },
    "tags": []
   },
   "outputs": [
    {
     "data": {
      "text/html": [
       "<div>\n",
       "<style scoped>\n",
       "    .dataframe tbody tr th:only-of-type {\n",
       "        vertical-align: middle;\n",
       "    }\n",
       "\n",
       "    .dataframe tbody tr th {\n",
       "        vertical-align: top;\n",
       "    }\n",
       "\n",
       "    .dataframe thead th {\n",
       "        text-align: right;\n",
       "    }\n",
       "</style>\n",
       "<table border=\"1\" class=\"dataframe\">\n",
       "  <thead>\n",
       "    <tr style=\"text-align: right;\">\n",
       "      <th></th>\n",
       "      <th></th>\n",
       "      <th>v1</th>\n",
       "      <th>v2</th>\n",
       "    </tr>\n",
       "    <tr>\n",
       "      <th>by1</th>\n",
       "      <th>by2</th>\n",
       "      <th></th>\n",
       "      <th></th>\n",
       "    </tr>\n",
       "  </thead>\n",
       "  <tbody>\n",
       "    <tr>\n",
       "      <th rowspan=\"2\" valign=\"top\">1</th>\n",
       "      <th>95</th>\n",
       "      <td>5.0</td>\n",
       "      <td>55.0</td>\n",
       "    </tr>\n",
       "    <tr>\n",
       "      <th>99</th>\n",
       "      <td>5.0</td>\n",
       "      <td>55.0</td>\n",
       "    </tr>\n",
       "    <tr>\n",
       "      <th rowspan=\"2\" valign=\"top\">2</th>\n",
       "      <th>95</th>\n",
       "      <td>7.0</td>\n",
       "      <td>77.0</td>\n",
       "    </tr>\n",
       "    <tr>\n",
       "      <th>99</th>\n",
       "      <td>NaN</td>\n",
       "      <td>NaN</td>\n",
       "    </tr>\n",
       "    <tr>\n",
       "      <th>big</th>\n",
       "      <th>damp</th>\n",
       "      <td>3.0</td>\n",
       "      <td>33.0</td>\n",
       "    </tr>\n",
       "    <tr>\n",
       "      <th>blue</th>\n",
       "      <th>dry</th>\n",
       "      <td>3.0</td>\n",
       "      <td>33.0</td>\n",
       "    </tr>\n",
       "    <tr>\n",
       "      <th rowspan=\"2\" valign=\"top\">red</th>\n",
       "      <th>red</th>\n",
       "      <td>4.0</td>\n",
       "      <td>44.0</td>\n",
       "    </tr>\n",
       "    <tr>\n",
       "      <th>wet</th>\n",
       "      <td>1.0</td>\n",
       "      <td>11.0</td>\n",
       "    </tr>\n",
       "  </tbody>\n",
       "</table>\n",
       "</div>"
      ],
      "text/plain": [
       "            v1    v2\n",
       "by1  by2            \n",
       "1    95    5.0  55.0\n",
       "     99    5.0  55.0\n",
       "2    95    7.0  77.0\n",
       "     99    NaN   NaN\n",
       "big  damp  3.0  33.0\n",
       "blue dry   3.0  33.0\n",
       "red  red   4.0  44.0\n",
       "     wet   1.0  11.0"
      ]
     },
     "execution_count": 63,
     "metadata": {},
     "output_type": "execute_result"
    }
   ],
   "source": [
    "g = df.groupby([\"by1\", \"by2\"])\n",
    "g[[\"v1\", \"v2\"]].mean()"
   ]
  },
  {
   "cell_type": "code",
   "execution_count": 64,
   "id": "2fa7c125",
   "metadata": {
    "execution": {
     "iopub.execute_input": "2023-08-24T14:31:40.924446Z",
     "iopub.status.busy": "2023-08-24T14:31:40.923733Z",
     "iopub.status.idle": "2023-08-24T14:31:40.933015Z",
     "shell.execute_reply": "2023-08-24T14:31:40.932139Z"
    },
    "papermill": {
     "duration": 0.076396,
     "end_time": "2023-08-24T14:31:40.935340",
     "exception": false,
     "start_time": "2023-08-24T14:31:40.858944",
     "status": "completed"
    },
    "tags": []
   },
   "outputs": [
    {
     "data": {
      "text/plain": [
       "0    0.0\n",
       "1    1.0\n",
       "2    2.0\n",
       "3    3.0\n",
       "4    4.0\n",
       "dtype: float32"
      ]
     },
     "execution_count": 64,
     "metadata": {},
     "output_type": "execute_result"
    }
   ],
   "source": [
    "import numpy as np\n",
    "s = pd.Series(np.arange(5), dtype=np.float32)\n",
    "s"
   ]
  },
  {
   "cell_type": "code",
   "execution_count": 65,
   "id": "cd0e1971",
   "metadata": {
    "execution": {
     "iopub.execute_input": "2023-08-24T14:31:41.063971Z",
     "iopub.status.busy": "2023-08-24T14:31:41.063549Z",
     "iopub.status.idle": "2023-08-24T14:31:41.071108Z",
     "shell.execute_reply": "2023-08-24T14:31:41.070342Z"
    },
    "papermill": {
     "duration": 0.07429,
     "end_time": "2023-08-24T14:31:41.073203",
     "exception": false,
     "start_time": "2023-08-24T14:31:40.998913",
     "status": "completed"
    },
    "tags": []
   },
   "outputs": [
    {
     "data": {
      "text/plain": [
       "0    False\n",
       "1    False\n",
       "2     True\n",
       "3    False\n",
       "4     True\n",
       "dtype: bool"
      ]
     },
     "execution_count": 65,
     "metadata": {},
     "output_type": "execute_result"
    }
   ],
   "source": [
    "s.isin([2, 4])"
   ]
  },
  {
   "cell_type": "markdown",
   "id": "d582d281",
   "metadata": {
    "papermill": {
     "duration": 0.062821,
     "end_time": "2023-08-24T14:31:41.199909",
     "exception": false,
     "start_time": "2023-08-24T14:31:41.137088",
     "status": "completed"
    },
    "tags": []
   },
   "source": [
    "<font color=\"Red\" size=+2 face=\"Comic Sans MS\">Data generation code</font>"
   ]
  },
  {
   "cell_type": "code",
   "execution_count": 66,
   "id": "e8c06369",
   "metadata": {
    "execution": {
     "iopub.execute_input": "2023-08-24T14:31:41.332872Z",
     "iopub.status.busy": "2023-08-24T14:31:41.331808Z",
     "iopub.status.idle": "2023-08-24T14:31:41.348423Z",
     "shell.execute_reply": "2023-08-24T14:31:41.347325Z"
    },
    "papermill": {
     "duration": 0.083513,
     "end_time": "2023-08-24T14:31:41.350726",
     "exception": false,
     "start_time": "2023-08-24T14:31:41.267213",
     "status": "completed"
    },
    "tags": []
   },
   "outputs": [
    {
     "data": {
      "text/html": [
       "<div>\n",
       "<style scoped>\n",
       "    .dataframe tbody tr th:only-of-type {\n",
       "        vertical-align: middle;\n",
       "    }\n",
       "\n",
       "    .dataframe tbody tr th {\n",
       "        vertical-align: top;\n",
       "    }\n",
       "\n",
       "    .dataframe thead th {\n",
       "        text-align: right;\n",
       "    }\n",
       "</style>\n",
       "<table border=\"1\" class=\"dataframe\">\n",
       "  <thead>\n",
       "    <tr style=\"text-align: right;\">\n",
       "      <th></th>\n",
       "      <th>team</th>\n",
       "      <th>player</th>\n",
       "      <th>batting avg</th>\n",
       "    </tr>\n",
       "  </thead>\n",
       "  <tbody>\n",
       "    <tr>\n",
       "      <th>0</th>\n",
       "      <td>team 1</td>\n",
       "      <td>i</td>\n",
       "      <td>0.349819</td>\n",
       "    </tr>\n",
       "    <tr>\n",
       "      <th>1</th>\n",
       "      <td>team 2</td>\n",
       "      <td>q</td>\n",
       "      <td>0.236863</td>\n",
       "    </tr>\n",
       "    <tr>\n",
       "      <th>2</th>\n",
       "      <td>team 3</td>\n",
       "      <td>f</td>\n",
       "      <td>0.303348</td>\n",
       "    </tr>\n",
       "    <tr>\n",
       "      <th>3</th>\n",
       "      <td>team 4</td>\n",
       "      <td>r</td>\n",
       "      <td>0.240535</td>\n",
       "    </tr>\n",
       "    <tr>\n",
       "      <th>4</th>\n",
       "      <td>team 5</td>\n",
       "      <td>u</td>\n",
       "      <td>0.303460</td>\n",
       "    </tr>\n",
       "    <tr>\n",
       "      <th>5</th>\n",
       "      <td>team 1</td>\n",
       "      <td>a</td>\n",
       "      <td>0.331657</td>\n",
       "    </tr>\n",
       "    <tr>\n",
       "      <th>6</th>\n",
       "      <td>team 2</td>\n",
       "      <td>o</td>\n",
       "      <td>0.375298</td>\n",
       "    </tr>\n",
       "    <tr>\n",
       "      <th>7</th>\n",
       "      <td>team 3</td>\n",
       "      <td>t</td>\n",
       "      <td>0.217007</td>\n",
       "    </tr>\n",
       "    <tr>\n",
       "      <th>8</th>\n",
       "      <td>team 4</td>\n",
       "      <td>v</td>\n",
       "      <td>0.347202</td>\n",
       "    </tr>\n",
       "    <tr>\n",
       "      <th>9</th>\n",
       "      <td>team 5</td>\n",
       "      <td>j</td>\n",
       "      <td>0.312136</td>\n",
       "    </tr>\n",
       "    <tr>\n",
       "      <th>10</th>\n",
       "      <td>team 1</td>\n",
       "      <td>p</td>\n",
       "      <td>0.306487</td>\n",
       "    </tr>\n",
       "    <tr>\n",
       "      <th>11</th>\n",
       "      <td>team 2</td>\n",
       "      <td>b</td>\n",
       "      <td>0.248857</td>\n",
       "    </tr>\n",
       "    <tr>\n",
       "      <th>12</th>\n",
       "      <td>team 3</td>\n",
       "      <td>z</td>\n",
       "      <td>0.377929</td>\n",
       "    </tr>\n",
       "    <tr>\n",
       "      <th>13</th>\n",
       "      <td>team 4</td>\n",
       "      <td>x</td>\n",
       "      <td>0.200303</td>\n",
       "    </tr>\n",
       "    <tr>\n",
       "      <th>14</th>\n",
       "      <td>team 5</td>\n",
       "      <td>l</td>\n",
       "      <td>0.391633</td>\n",
       "    </tr>\n",
       "    <tr>\n",
       "      <th>15</th>\n",
       "      <td>team 1</td>\n",
       "      <td>m</td>\n",
       "      <td>0.351335</td>\n",
       "    </tr>\n",
       "    <tr>\n",
       "      <th>16</th>\n",
       "      <td>team 2</td>\n",
       "      <td>c</td>\n",
       "      <td>0.268305</td>\n",
       "    </tr>\n",
       "    <tr>\n",
       "      <th>17</th>\n",
       "      <td>team 3</td>\n",
       "      <td>y</td>\n",
       "      <td>0.299067</td>\n",
       "    </tr>\n",
       "    <tr>\n",
       "      <th>18</th>\n",
       "      <td>team 4</td>\n",
       "      <td>d</td>\n",
       "      <td>0.225019</td>\n",
       "    </tr>\n",
       "    <tr>\n",
       "      <th>19</th>\n",
       "      <td>team 5</td>\n",
       "      <td>g</td>\n",
       "      <td>0.206365</td>\n",
       "    </tr>\n",
       "    <tr>\n",
       "      <th>20</th>\n",
       "      <td>team 1</td>\n",
       "      <td>k</td>\n",
       "      <td>0.238758</td>\n",
       "    </tr>\n",
       "    <tr>\n",
       "      <th>21</th>\n",
       "      <td>team 2</td>\n",
       "      <td>e</td>\n",
       "      <td>0.215057</td>\n",
       "    </tr>\n",
       "    <tr>\n",
       "      <th>22</th>\n",
       "      <td>team 3</td>\n",
       "      <td>h</td>\n",
       "      <td>0.290596</td>\n",
       "    </tr>\n",
       "    <tr>\n",
       "      <th>23</th>\n",
       "      <td>team 4</td>\n",
       "      <td>s</td>\n",
       "      <td>0.392334</td>\n",
       "    </tr>\n",
       "    <tr>\n",
       "      <th>24</th>\n",
       "      <td>team 5</td>\n",
       "      <td>n</td>\n",
       "      <td>0.270031</td>\n",
       "    </tr>\n",
       "  </tbody>\n",
       "</table>\n",
       "</div>"
      ],
      "text/plain": [
       "      team player  batting avg\n",
       "0   team 1      i     0.349819\n",
       "1   team 2      q     0.236863\n",
       "2   team 3      f     0.303348\n",
       "3   team 4      r     0.240535\n",
       "4   team 5      u     0.303460\n",
       "5   team 1      a     0.331657\n",
       "6   team 2      o     0.375298\n",
       "7   team 3      t     0.217007\n",
       "8   team 4      v     0.347202\n",
       "9   team 5      j     0.312136\n",
       "10  team 1      p     0.306487\n",
       "11  team 2      b     0.248857\n",
       "12  team 3      z     0.377929\n",
       "13  team 4      x     0.200303\n",
       "14  team 5      l     0.391633\n",
       "15  team 1      m     0.351335\n",
       "16  team 2      c     0.268305\n",
       "17  team 3      y     0.299067\n",
       "18  team 4      d     0.225019\n",
       "19  team 5      g     0.206365\n",
       "20  team 1      k     0.238758\n",
       "21  team 2      e     0.215057\n",
       "22  team 3      h     0.290596\n",
       "23  team 4      s     0.392334\n",
       "24  team 5      n     0.270031"
      ]
     },
     "execution_count": 66,
     "metadata": {},
     "output_type": "execute_result"
    }
   ],
   "source": [
    "# Data genetarion code\n",
    "\n",
    "import random\n",
    "import string\n",
    "\n",
    "baseball = pd.DataFrame({\n",
    "\"team\": [\"team %d\" % (x + 1) for x in range(5)] * 5,\n",
    "\"player\": random.sample(list(string.ascii_lowercase), 25),\n",
    "\"batting avg\": np.random.uniform(0.200, 0.400, 25),\n",
    "    }\n",
    ")\n",
    "\n",
    "baseball"
   ]
  },
  {
   "cell_type": "code",
   "execution_count": 67,
   "id": "1bd44c6a",
   "metadata": {
    "execution": {
     "iopub.execute_input": "2023-08-24T14:31:41.478715Z",
     "iopub.status.busy": "2023-08-24T14:31:41.478339Z",
     "iopub.status.idle": "2023-08-24T14:31:41.496654Z",
     "shell.execute_reply": "2023-08-24T14:31:41.495560Z"
    },
    "papermill": {
     "duration": 0.084957,
     "end_time": "2023-08-24T14:31:41.498968",
     "exception": false,
     "start_time": "2023-08-24T14:31:41.414011",
     "status": "completed"
    },
    "tags": []
   },
   "outputs": [
    {
     "data": {
      "text/html": [
       "<div>\n",
       "<style scoped>\n",
       "    .dataframe tbody tr th:only-of-type {\n",
       "        vertical-align: middle;\n",
       "    }\n",
       "\n",
       "    .dataframe tbody tr th {\n",
       "        vertical-align: top;\n",
       "    }\n",
       "\n",
       "    .dataframe thead th {\n",
       "        text-align: right;\n",
       "    }\n",
       "</style>\n",
       "<table border=\"1\" class=\"dataframe\">\n",
       "  <thead>\n",
       "    <tr style=\"text-align: right;\">\n",
       "      <th>team</th>\n",
       "      <th>team 1</th>\n",
       "      <th>team 2</th>\n",
       "      <th>team 3</th>\n",
       "      <th>team 4</th>\n",
       "      <th>team 5</th>\n",
       "    </tr>\n",
       "  </thead>\n",
       "  <tbody>\n",
       "    <tr>\n",
       "      <th>batting avg</th>\n",
       "      <td>0.351335</td>\n",
       "      <td>0.375298</td>\n",
       "      <td>0.377929</td>\n",
       "      <td>0.392334</td>\n",
       "      <td>0.391633</td>\n",
       "    </tr>\n",
       "  </tbody>\n",
       "</table>\n",
       "</div>"
      ],
      "text/plain": [
       "team           team 1    team 2    team 3    team 4    team 5\n",
       "batting avg  0.351335  0.375298  0.377929  0.392334  0.391633"
      ]
     },
     "execution_count": 67,
     "metadata": {},
     "output_type": "execute_result"
    }
   ],
   "source": [
    "baseball.pivot_table(values=\"batting avg\", columns=\"team\", aggfunc=np.max)"
   ]
  },
  {
   "cell_type": "code",
   "execution_count": 68,
   "id": "9a943c45",
   "metadata": {
    "execution": {
     "iopub.execute_input": "2023-08-24T14:31:41.627746Z",
     "iopub.status.busy": "2023-08-24T14:31:41.627294Z",
     "iopub.status.idle": "2023-08-24T14:31:41.638656Z",
     "shell.execute_reply": "2023-08-24T14:31:41.637819Z"
    },
    "papermill": {
     "duration": 0.078375,
     "end_time": "2023-08-24T14:31:41.640775",
     "exception": false,
     "start_time": "2023-08-24T14:31:41.562400",
     "status": "completed"
    },
    "tags": []
   },
   "outputs": [
    {
     "data": {
      "text/html": [
       "<div>\n",
       "<style scoped>\n",
       "    .dataframe tbody tr th:only-of-type {\n",
       "        vertical-align: middle;\n",
       "    }\n",
       "\n",
       "    .dataframe tbody tr th {\n",
       "        vertical-align: top;\n",
       "    }\n",
       "\n",
       "    .dataframe thead th {\n",
       "        text-align: right;\n",
       "    }\n",
       "</style>\n",
       "<table border=\"1\" class=\"dataframe\">\n",
       "  <thead>\n",
       "    <tr style=\"text-align: right;\">\n",
       "      <th></th>\n",
       "      <th>a</th>\n",
       "      <th>b</th>\n",
       "    </tr>\n",
       "  </thead>\n",
       "  <tbody>\n",
       "    <tr>\n",
       "      <th>0</th>\n",
       "      <td>0.051268</td>\n",
       "      <td>-1.177222</td>\n",
       "    </tr>\n",
       "    <tr>\n",
       "      <th>1</th>\n",
       "      <td>0.459474</td>\n",
       "      <td>-1.039301</td>\n",
       "    </tr>\n",
       "    <tr>\n",
       "      <th>2</th>\n",
       "      <td>0.416901</td>\n",
       "      <td>1.268262</td>\n",
       "    </tr>\n",
       "    <tr>\n",
       "      <th>3</th>\n",
       "      <td>1.540766</td>\n",
       "      <td>-1.071588</td>\n",
       "    </tr>\n",
       "    <tr>\n",
       "      <th>4</th>\n",
       "      <td>1.586139</td>\n",
       "      <td>0.823907</td>\n",
       "    </tr>\n",
       "  </tbody>\n",
       "</table>\n",
       "</div>"
      ],
      "text/plain": [
       "          a         b\n",
       "0  0.051268 -1.177222\n",
       "1  0.459474 -1.039301\n",
       "2  0.416901  1.268262\n",
       "3  1.540766 -1.071588\n",
       "4  1.586139  0.823907"
      ]
     },
     "execution_count": 68,
     "metadata": {},
     "output_type": "execute_result"
    }
   ],
   "source": [
    "df = pd.DataFrame({\"a\": np.random.randn(10), \"b\": np.random.randn(10)})\n",
    "df.head()"
   ]
  },
  {
   "cell_type": "code",
   "execution_count": 69,
   "id": "d1dfb572",
   "metadata": {
    "execution": {
     "iopub.execute_input": "2023-08-24T14:31:41.770717Z",
     "iopub.status.busy": "2023-08-24T14:31:41.770050Z",
     "iopub.status.idle": "2023-08-24T14:31:41.782812Z",
     "shell.execute_reply": "2023-08-24T14:31:41.781705Z"
    },
    "papermill": {
     "duration": 0.080376,
     "end_time": "2023-08-24T14:31:41.784990",
     "exception": false,
     "start_time": "2023-08-24T14:31:41.704614",
     "status": "completed"
    },
    "tags": []
   },
   "outputs": [
    {
     "data": {
      "text/html": [
       "<div>\n",
       "<style scoped>\n",
       "    .dataframe tbody tr th:only-of-type {\n",
       "        vertical-align: middle;\n",
       "    }\n",
       "\n",
       "    .dataframe tbody tr th {\n",
       "        vertical-align: top;\n",
       "    }\n",
       "\n",
       "    .dataframe thead th {\n",
       "        text-align: right;\n",
       "    }\n",
       "</style>\n",
       "<table border=\"1\" class=\"dataframe\">\n",
       "  <thead>\n",
       "    <tr style=\"text-align: right;\">\n",
       "      <th></th>\n",
       "      <th>a</th>\n",
       "      <th>b</th>\n",
       "    </tr>\n",
       "  </thead>\n",
       "  <tbody>\n",
       "    <tr>\n",
       "      <th>2</th>\n",
       "      <td>0.416901</td>\n",
       "      <td>1.268262</td>\n",
       "    </tr>\n",
       "    <tr>\n",
       "      <th>6</th>\n",
       "      <td>-2.651009</td>\n",
       "      <td>-0.617904</td>\n",
       "    </tr>\n",
       "    <tr>\n",
       "      <th>7</th>\n",
       "      <td>-0.577363</td>\n",
       "      <td>1.240362</td>\n",
       "    </tr>\n",
       "    <tr>\n",
       "      <th>8</th>\n",
       "      <td>-1.086819</td>\n",
       "      <td>0.318740</td>\n",
       "    </tr>\n",
       "    <tr>\n",
       "      <th>9</th>\n",
       "      <td>-0.522551</td>\n",
       "      <td>0.071341</td>\n",
       "    </tr>\n",
       "  </tbody>\n",
       "</table>\n",
       "</div>"
      ],
      "text/plain": [
       "          a         b\n",
       "2  0.416901  1.268262\n",
       "6 -2.651009 -0.617904\n",
       "7 -0.577363  1.240362\n",
       "8 -1.086819  0.318740\n",
       "9 -0.522551  0.071341"
      ]
     },
     "execution_count": 69,
     "metadata": {},
     "output_type": "execute_result"
    }
   ],
   "source": [
    "df.query(\"a <= b\")"
   ]
  },
  {
   "cell_type": "code",
   "execution_count": 70,
   "id": "03b24d3c",
   "metadata": {
    "execution": {
     "iopub.execute_input": "2023-08-24T14:31:41.917497Z",
     "iopub.status.busy": "2023-08-24T14:31:41.916638Z",
     "iopub.status.idle": "2023-08-24T14:31:41.928456Z",
     "shell.execute_reply": "2023-08-24T14:31:41.927260Z"
    },
    "papermill": {
     "duration": 0.079364,
     "end_time": "2023-08-24T14:31:41.930744",
     "exception": false,
     "start_time": "2023-08-24T14:31:41.851380",
     "status": "completed"
    },
    "tags": []
   },
   "outputs": [
    {
     "data": {
      "text/html": [
       "<div>\n",
       "<style scoped>\n",
       "    .dataframe tbody tr th:only-of-type {\n",
       "        vertical-align: middle;\n",
       "    }\n",
       "\n",
       "    .dataframe tbody tr th {\n",
       "        vertical-align: top;\n",
       "    }\n",
       "\n",
       "    .dataframe thead th {\n",
       "        text-align: right;\n",
       "    }\n",
       "</style>\n",
       "<table border=\"1\" class=\"dataframe\">\n",
       "  <thead>\n",
       "    <tr style=\"text-align: right;\">\n",
       "      <th></th>\n",
       "      <th>a</th>\n",
       "      <th>b</th>\n",
       "    </tr>\n",
       "  </thead>\n",
       "  <tbody>\n",
       "    <tr>\n",
       "      <th>2</th>\n",
       "      <td>0.416901</td>\n",
       "      <td>1.268262</td>\n",
       "    </tr>\n",
       "    <tr>\n",
       "      <th>6</th>\n",
       "      <td>-2.651009</td>\n",
       "      <td>-0.617904</td>\n",
       "    </tr>\n",
       "    <tr>\n",
       "      <th>7</th>\n",
       "      <td>-0.577363</td>\n",
       "      <td>1.240362</td>\n",
       "    </tr>\n",
       "    <tr>\n",
       "      <th>8</th>\n",
       "      <td>-1.086819</td>\n",
       "      <td>0.318740</td>\n",
       "    </tr>\n",
       "    <tr>\n",
       "      <th>9</th>\n",
       "      <td>-0.522551</td>\n",
       "      <td>0.071341</td>\n",
       "    </tr>\n",
       "  </tbody>\n",
       "</table>\n",
       "</div>"
      ],
      "text/plain": [
       "          a         b\n",
       "2  0.416901  1.268262\n",
       "6 -2.651009 -0.617904\n",
       "7 -0.577363  1.240362\n",
       "8 -1.086819  0.318740\n",
       "9 -0.522551  0.071341"
      ]
     },
     "execution_count": 70,
     "metadata": {},
     "output_type": "execute_result"
    }
   ],
   "source": [
    "df[df[\"a\"] <= df[\"b\"]]"
   ]
  },
  {
   "cell_type": "code",
   "execution_count": 71,
   "id": "4cbe14ed",
   "metadata": {
    "execution": {
     "iopub.execute_input": "2023-08-24T14:31:42.062316Z",
     "iopub.status.busy": "2023-08-24T14:31:42.061903Z",
     "iopub.status.idle": "2023-08-24T14:31:42.073605Z",
     "shell.execute_reply": "2023-08-24T14:31:42.072456Z"
    },
    "papermill": {
     "duration": 0.080435,
     "end_time": "2023-08-24T14:31:42.076148",
     "exception": false,
     "start_time": "2023-08-24T14:31:41.995713",
     "status": "completed"
    },
    "tags": []
   },
   "outputs": [
    {
     "data": {
      "text/html": [
       "<div>\n",
       "<style scoped>\n",
       "    .dataframe tbody tr th:only-of-type {\n",
       "        vertical-align: middle;\n",
       "    }\n",
       "\n",
       "    .dataframe tbody tr th {\n",
       "        vertical-align: top;\n",
       "    }\n",
       "\n",
       "    .dataframe thead th {\n",
       "        text-align: right;\n",
       "    }\n",
       "</style>\n",
       "<table border=\"1\" class=\"dataframe\">\n",
       "  <thead>\n",
       "    <tr style=\"text-align: right;\">\n",
       "      <th></th>\n",
       "      <th>a</th>\n",
       "      <th>b</th>\n",
       "    </tr>\n",
       "  </thead>\n",
       "  <tbody>\n",
       "    <tr>\n",
       "      <th>2</th>\n",
       "      <td>0.416901</td>\n",
       "      <td>1.268262</td>\n",
       "    </tr>\n",
       "    <tr>\n",
       "      <th>6</th>\n",
       "      <td>-2.651009</td>\n",
       "      <td>-0.617904</td>\n",
       "    </tr>\n",
       "    <tr>\n",
       "      <th>7</th>\n",
       "      <td>-0.577363</td>\n",
       "      <td>1.240362</td>\n",
       "    </tr>\n",
       "    <tr>\n",
       "      <th>8</th>\n",
       "      <td>-1.086819</td>\n",
       "      <td>0.318740</td>\n",
       "    </tr>\n",
       "    <tr>\n",
       "      <th>9</th>\n",
       "      <td>-0.522551</td>\n",
       "      <td>0.071341</td>\n",
       "    </tr>\n",
       "  </tbody>\n",
       "</table>\n",
       "</div>"
      ],
      "text/plain": [
       "          a         b\n",
       "2  0.416901  1.268262\n",
       "6 -2.651009 -0.617904\n",
       "7 -0.577363  1.240362\n",
       "8 -1.086819  0.318740\n",
       "9 -0.522551  0.071341"
      ]
     },
     "execution_count": 71,
     "metadata": {},
     "output_type": "execute_result"
    }
   ],
   "source": [
    "df.loc[df[\"a\"] <= df[\"b\"]]"
   ]
  },
  {
   "cell_type": "code",
   "execution_count": 72,
   "id": "e457c2a3",
   "metadata": {
    "execution": {
     "iopub.execute_input": "2023-08-24T14:31:42.207868Z",
     "iopub.status.busy": "2023-08-24T14:31:42.206901Z",
     "iopub.status.idle": "2023-08-24T14:31:42.218668Z",
     "shell.execute_reply": "2023-08-24T14:31:42.217526Z"
    },
    "papermill": {
     "duration": 0.079902,
     "end_time": "2023-08-24T14:31:42.221004",
     "exception": false,
     "start_time": "2023-08-24T14:31:42.141102",
     "status": "completed"
    },
    "tags": []
   },
   "outputs": [
    {
     "data": {
      "text/html": [
       "<div>\n",
       "<style scoped>\n",
       "    .dataframe tbody tr th:only-of-type {\n",
       "        vertical-align: middle;\n",
       "    }\n",
       "\n",
       "    .dataframe tbody tr th {\n",
       "        vertical-align: top;\n",
       "    }\n",
       "\n",
       "    .dataframe thead th {\n",
       "        text-align: right;\n",
       "    }\n",
       "</style>\n",
       "<table border=\"1\" class=\"dataframe\">\n",
       "  <thead>\n",
       "    <tr style=\"text-align: right;\">\n",
       "      <th></th>\n",
       "      <th>a</th>\n",
       "      <th>b</th>\n",
       "    </tr>\n",
       "  </thead>\n",
       "  <tbody>\n",
       "    <tr>\n",
       "      <th>0</th>\n",
       "      <td>0.051268</td>\n",
       "      <td>-1.177222</td>\n",
       "    </tr>\n",
       "    <tr>\n",
       "      <th>1</th>\n",
       "      <td>0.459474</td>\n",
       "      <td>-1.039301</td>\n",
       "    </tr>\n",
       "    <tr>\n",
       "      <th>3</th>\n",
       "      <td>1.540766</td>\n",
       "      <td>-1.071588</td>\n",
       "    </tr>\n",
       "    <tr>\n",
       "      <th>4</th>\n",
       "      <td>1.586139</td>\n",
       "      <td>0.823907</td>\n",
       "    </tr>\n",
       "    <tr>\n",
       "      <th>5</th>\n",
       "      <td>0.113604</td>\n",
       "      <td>-0.843143</td>\n",
       "    </tr>\n",
       "  </tbody>\n",
       "</table>\n",
       "</div>"
      ],
      "text/plain": [
       "          a         b\n",
       "0  0.051268 -1.177222\n",
       "1  0.459474 -1.039301\n",
       "3  1.540766 -1.071588\n",
       "4  1.586139  0.823907\n",
       "5  0.113604 -0.843143"
      ]
     },
     "execution_count": 72,
     "metadata": {},
     "output_type": "execute_result"
    }
   ],
   "source": [
    "df[df[\"a\"] >= df[\"b\"]]"
   ]
  },
  {
   "cell_type": "code",
   "execution_count": 73,
   "id": "a3ab98fe",
   "metadata": {
    "execution": {
     "iopub.execute_input": "2023-08-24T14:31:42.353097Z",
     "iopub.status.busy": "2023-08-24T14:31:42.352385Z",
     "iopub.status.idle": "2023-08-24T14:31:42.364295Z",
     "shell.execute_reply": "2023-08-24T14:31:42.363237Z"
    },
    "papermill": {
     "duration": 0.080312,
     "end_time": "2023-08-24T14:31:42.366542",
     "exception": false,
     "start_time": "2023-08-24T14:31:42.286230",
     "status": "completed"
    },
    "tags": []
   },
   "outputs": [
    {
     "data": {
      "text/html": [
       "<div>\n",
       "<style scoped>\n",
       "    .dataframe tbody tr th:only-of-type {\n",
       "        vertical-align: middle;\n",
       "    }\n",
       "\n",
       "    .dataframe tbody tr th {\n",
       "        vertical-align: top;\n",
       "    }\n",
       "\n",
       "    .dataframe thead th {\n",
       "        text-align: right;\n",
       "    }\n",
       "</style>\n",
       "<table border=\"1\" class=\"dataframe\">\n",
       "  <thead>\n",
       "    <tr style=\"text-align: right;\">\n",
       "      <th></th>\n",
       "      <th>a</th>\n",
       "      <th>b</th>\n",
       "    </tr>\n",
       "  </thead>\n",
       "  <tbody>\n",
       "    <tr>\n",
       "      <th>0</th>\n",
       "      <td>-1.578139</td>\n",
       "      <td>-1.951033</td>\n",
       "    </tr>\n",
       "    <tr>\n",
       "      <th>1</th>\n",
       "      <td>-0.126310</td>\n",
       "      <td>-0.679938</td>\n",
       "    </tr>\n",
       "    <tr>\n",
       "      <th>2</th>\n",
       "      <td>-0.053587</td>\n",
       "      <td>1.807479</td>\n",
       "    </tr>\n",
       "    <tr>\n",
       "      <th>3</th>\n",
       "      <td>0.403126</td>\n",
       "      <td>-1.379943</td>\n",
       "    </tr>\n",
       "    <tr>\n",
       "      <th>4</th>\n",
       "      <td>0.456582</td>\n",
       "      <td>0.241476</td>\n",
       "    </tr>\n",
       "  </tbody>\n",
       "</table>\n",
       "</div>"
      ],
      "text/plain": [
       "          a         b\n",
       "0 -1.578139 -1.951033\n",
       "1 -0.126310 -0.679938\n",
       "2 -0.053587  1.807479\n",
       "3  0.403126 -1.379943\n",
       "4  0.456582  0.241476"
      ]
     },
     "execution_count": 73,
     "metadata": {},
     "output_type": "execute_result"
    }
   ],
   "source": [
    "df = pd.DataFrame({\"a\": np.random.randn(10), \"b\": np.random.randn(10)})\n",
    "df.head()"
   ]
  },
  {
   "cell_type": "code",
   "execution_count": 74,
   "id": "c7e9bac1",
   "metadata": {
    "execution": {
     "iopub.execute_input": "2023-08-24T14:31:42.498989Z",
     "iopub.status.busy": "2023-08-24T14:31:42.498612Z",
     "iopub.status.idle": "2023-08-24T14:31:42.509680Z",
     "shell.execute_reply": "2023-08-24T14:31:42.508765Z"
    },
    "papermill": {
     "duration": 0.07989,
     "end_time": "2023-08-24T14:31:42.511958",
     "exception": false,
     "start_time": "2023-08-24T14:31:42.432068",
     "status": "completed"
    },
    "tags": []
   },
   "outputs": [
    {
     "data": {
      "text/plain": [
       "0   -3.529172\n",
       "1   -0.806249\n",
       "2    1.753892\n",
       "3   -0.976818\n",
       "4    0.698058\n",
       "5   -1.432828\n",
       "6   -1.897656\n",
       "7   -0.891817\n",
       "8    1.227724\n",
       "9   -0.242802\n",
       "dtype: float64"
      ]
     },
     "execution_count": 74,
     "metadata": {},
     "output_type": "execute_result"
    }
   ],
   "source": [
    "df.eval(\"a + b\")"
   ]
  },
  {
   "cell_type": "code",
   "execution_count": 75,
   "id": "46a186b9",
   "metadata": {
    "execution": {
     "iopub.execute_input": "2023-08-24T14:31:42.645689Z",
     "iopub.status.busy": "2023-08-24T14:31:42.645016Z",
     "iopub.status.idle": "2023-08-24T14:31:42.652375Z",
     "shell.execute_reply": "2023-08-24T14:31:42.651436Z"
    },
    "papermill": {
     "duration": 0.07685,
     "end_time": "2023-08-24T14:31:42.654440",
     "exception": false,
     "start_time": "2023-08-24T14:31:42.577590",
     "status": "completed"
    },
    "tags": []
   },
   "outputs": [
    {
     "data": {
      "text/plain": [
       "0   -3.529172\n",
       "1   -0.806249\n",
       "2    1.753892\n",
       "3   -0.976818\n",
       "4    0.698058\n",
       "5   -1.432828\n",
       "6   -1.897656\n",
       "7   -0.891817\n",
       "8    1.227724\n",
       "9   -0.242802\n",
       "dtype: float64"
      ]
     },
     "execution_count": 75,
     "metadata": {},
     "output_type": "execute_result"
    }
   ],
   "source": [
    "df[\"a\"] + df[\"b\"]"
   ]
  },
  {
   "cell_type": "code",
   "execution_count": 76,
   "id": "bea96ec4",
   "metadata": {
    "execution": {
     "iopub.execute_input": "2023-08-24T14:31:42.787587Z",
     "iopub.status.busy": "2023-08-24T14:31:42.787145Z",
     "iopub.status.idle": "2023-08-24T14:31:42.802492Z",
     "shell.execute_reply": "2023-08-24T14:31:42.801364Z"
    },
    "papermill": {
     "duration": 0.084227,
     "end_time": "2023-08-24T14:31:42.804891",
     "exception": false,
     "start_time": "2023-08-24T14:31:42.720664",
     "status": "completed"
    },
    "tags": []
   },
   "outputs": [
    {
     "data": {
      "text/html": [
       "<div>\n",
       "<style scoped>\n",
       "    .dataframe tbody tr th:only-of-type {\n",
       "        vertical-align: middle;\n",
       "    }\n",
       "\n",
       "    .dataframe tbody tr th {\n",
       "        vertical-align: top;\n",
       "    }\n",
       "\n",
       "    .dataframe thead th {\n",
       "        text-align: right;\n",
       "    }\n",
       "</style>\n",
       "<table border=\"1\" class=\"dataframe\">\n",
       "  <thead>\n",
       "    <tr style=\"text-align: right;\">\n",
       "      <th></th>\n",
       "      <th>x</th>\n",
       "      <th>y</th>\n",
       "      <th>z</th>\n",
       "      <th>month</th>\n",
       "      <th>week</th>\n",
       "    </tr>\n",
       "  </thead>\n",
       "  <tbody>\n",
       "    <tr>\n",
       "      <th>0</th>\n",
       "      <td>109.241586</td>\n",
       "      <td>16.752387</td>\n",
       "      <td>6.552621</td>\n",
       "      <td>5</td>\n",
       "      <td>3</td>\n",
       "    </tr>\n",
       "    <tr>\n",
       "      <th>1</th>\n",
       "      <td>55.937060</td>\n",
       "      <td>13.440697</td>\n",
       "      <td>5.345832</td>\n",
       "      <td>6</td>\n",
       "      <td>3</td>\n",
       "    </tr>\n",
       "    <tr>\n",
       "      <th>2</th>\n",
       "      <td>116.611069</td>\n",
       "      <td>197.265660</td>\n",
       "      <td>11.237494</td>\n",
       "      <td>7</td>\n",
       "      <td>2</td>\n",
       "    </tr>\n",
       "    <tr>\n",
       "      <th>3</th>\n",
       "      <td>10.127035</td>\n",
       "      <td>64.483306</td>\n",
       "      <td>15.299091</td>\n",
       "      <td>8</td>\n",
       "      <td>3</td>\n",
       "    </tr>\n",
       "    <tr>\n",
       "      <th>4</th>\n",
       "      <td>37.556038</td>\n",
       "      <td>251.626528</td>\n",
       "      <td>19.684947</td>\n",
       "      <td>5</td>\n",
       "      <td>2</td>\n",
       "    </tr>\n",
       "  </tbody>\n",
       "</table>\n",
       "</div>"
      ],
      "text/plain": [
       "            x           y          z  month  week\n",
       "0  109.241586   16.752387   6.552621      5     3\n",
       "1   55.937060   13.440697   5.345832      6     3\n",
       "2  116.611069  197.265660  11.237494      7     2\n",
       "3   10.127035   64.483306  15.299091      8     3\n",
       "4   37.556038  251.626528  19.684947      5     2"
      ]
     },
     "execution_count": 76,
     "metadata": {},
     "output_type": "execute_result"
    }
   ],
   "source": [
    "df = pd.DataFrame({\n",
    "    \n",
    "\"x\": np.random.uniform(1.0, 168.0, 120),\n",
    "\"y\": np.random.uniform(7.0, 334.0, 120),\n",
    "\"z\": np.random.uniform(1.7, 20.7, 120),\n",
    "\"month\": [5, 6, 7, 8] * 30,\n",
    "\"week\": np.random.randint(1, 4, 120)\n",
    "    \n",
    "})\n",
    "\n",
    "df.head()"
   ]
  },
  {
   "cell_type": "code",
   "execution_count": 77,
   "id": "884490ea",
   "metadata": {
    "execution": {
     "iopub.execute_input": "2023-08-24T14:31:42.940657Z",
     "iopub.status.busy": "2023-08-24T14:31:42.940266Z",
     "iopub.status.idle": "2023-08-24T14:31:42.958539Z",
     "shell.execute_reply": "2023-08-24T14:31:42.957262Z"
    },
    "papermill": {
     "duration": 0.088377,
     "end_time": "2023-08-24T14:31:42.960837",
     "exception": false,
     "start_time": "2023-08-24T14:31:42.872460",
     "status": "completed"
    },
    "tags": []
   },
   "outputs": [
    {
     "data": {
      "text/html": [
       "<div>\n",
       "<style scoped>\n",
       "    .dataframe tbody tr th:only-of-type {\n",
       "        vertical-align: middle;\n",
       "    }\n",
       "\n",
       "    .dataframe tbody tr th {\n",
       "        vertical-align: top;\n",
       "    }\n",
       "\n",
       "    .dataframe thead th {\n",
       "        text-align: right;\n",
       "    }\n",
       "</style>\n",
       "<table border=\"1\" class=\"dataframe\">\n",
       "  <thead>\n",
       "    <tr style=\"text-align: right;\">\n",
       "      <th></th>\n",
       "      <th></th>\n",
       "      <th>mean</th>\n",
       "      <th>std</th>\n",
       "    </tr>\n",
       "    <tr>\n",
       "      <th>month</th>\n",
       "      <th>week</th>\n",
       "      <th></th>\n",
       "      <th></th>\n",
       "    </tr>\n",
       "  </thead>\n",
       "  <tbody>\n",
       "    <tr>\n",
       "      <th rowspan=\"3\" valign=\"top\">5</th>\n",
       "      <th>1</th>\n",
       "      <td>57.318777</td>\n",
       "      <td>47.753237</td>\n",
       "    </tr>\n",
       "    <tr>\n",
       "      <th>2</th>\n",
       "      <td>88.492291</td>\n",
       "      <td>47.034060</td>\n",
       "    </tr>\n",
       "    <tr>\n",
       "      <th>3</th>\n",
       "      <td>68.258687</td>\n",
       "      <td>42.238381</td>\n",
       "    </tr>\n",
       "    <tr>\n",
       "      <th rowspan=\"3\" valign=\"top\">6</th>\n",
       "      <th>1</th>\n",
       "      <td>90.243042</td>\n",
       "      <td>61.505697</td>\n",
       "    </tr>\n",
       "    <tr>\n",
       "      <th>2</th>\n",
       "      <td>88.774539</td>\n",
       "      <td>61.835413</td>\n",
       "    </tr>\n",
       "    <tr>\n",
       "      <th>3</th>\n",
       "      <td>77.021406</td>\n",
       "      <td>44.079767</td>\n",
       "    </tr>\n",
       "    <tr>\n",
       "      <th rowspan=\"3\" valign=\"top\">7</th>\n",
       "      <th>1</th>\n",
       "      <td>67.617107</td>\n",
       "      <td>49.288762</td>\n",
       "    </tr>\n",
       "    <tr>\n",
       "      <th>2</th>\n",
       "      <td>70.154920</td>\n",
       "      <td>42.624107</td>\n",
       "    </tr>\n",
       "    <tr>\n",
       "      <th>3</th>\n",
       "      <td>77.192651</td>\n",
       "      <td>60.139751</td>\n",
       "    </tr>\n",
       "    <tr>\n",
       "      <th rowspan=\"3\" valign=\"top\">8</th>\n",
       "      <th>1</th>\n",
       "      <td>94.932736</td>\n",
       "      <td>53.525732</td>\n",
       "    </tr>\n",
       "    <tr>\n",
       "      <th>2</th>\n",
       "      <td>89.400987</td>\n",
       "      <td>45.185977</td>\n",
       "    </tr>\n",
       "    <tr>\n",
       "      <th>3</th>\n",
       "      <td>68.782893</td>\n",
       "      <td>51.751259</td>\n",
       "    </tr>\n",
       "  </tbody>\n",
       "</table>\n",
       "</div>"
      ],
      "text/plain": [
       "                 mean        std\n",
       "month week                      \n",
       "5     1     57.318777  47.753237\n",
       "      2     88.492291  47.034060\n",
       "      3     68.258687  42.238381\n",
       "6     1     90.243042  61.505697\n",
       "      2     88.774539  61.835413\n",
       "      3     77.021406  44.079767\n",
       "7     1     67.617107  49.288762\n",
       "      2     70.154920  42.624107\n",
       "      3     77.192651  60.139751\n",
       "8     1     94.932736  53.525732\n",
       "      2     89.400987  45.185977\n",
       "      3     68.782893  51.751259"
      ]
     },
     "execution_count": 77,
     "metadata": {},
     "output_type": "execute_result"
    }
   ],
   "source": [
    "grouped = df.groupby([\"month\", \"week\"])\n",
    "grouped[\"x\"].agg([np.mean, np.std])"
   ]
  },
  {
   "cell_type": "code",
   "execution_count": 78,
   "id": "66b0e79f",
   "metadata": {
    "execution": {
     "iopub.execute_input": "2023-08-24T14:31:43.097627Z",
     "iopub.status.busy": "2023-08-24T14:31:43.097198Z",
     "iopub.status.idle": "2023-08-24T14:31:43.104955Z",
     "shell.execute_reply": "2023-08-24T14:31:43.104114Z"
    },
    "papermill": {
     "duration": 0.079477,
     "end_time": "2023-08-24T14:31:43.107106",
     "exception": false,
     "start_time": "2023-08-24T14:31:43.027629",
     "status": "completed"
    },
    "tags": []
   },
   "outputs": [
    {
     "data": {
      "text/plain": [
       "array([[[ 1.,  2.,  3.,  4.],\n",
       "        [ 5.,  6.,  7.,  8.],\n",
       "        [ 9., 10., 11., 12.]],\n",
       "\n",
       "       [[13., 14., 15., 16.],\n",
       "        [17., 18., 19., 20.],\n",
       "        [21., 22., 23., nan]]])"
      ]
     },
     "execution_count": 78,
     "metadata": {},
     "output_type": "execute_result"
    }
   ],
   "source": [
    "a = np.array(list(range(1, 24)) + [np.NAN]).reshape(2, 3, 4)\n",
    "a"
   ]
  },
  {
   "cell_type": "code",
   "execution_count": 79,
   "id": "5d94a10b",
   "metadata": {
    "execution": {
     "iopub.execute_input": "2023-08-24T14:31:43.242293Z",
     "iopub.status.busy": "2023-08-24T14:31:43.241579Z",
     "iopub.status.idle": "2023-08-24T14:31:43.257988Z",
     "shell.execute_reply": "2023-08-24T14:31:43.256809Z"
    },
    "papermill": {
     "duration": 0.086852,
     "end_time": "2023-08-24T14:31:43.260371",
     "exception": false,
     "start_time": "2023-08-24T14:31:43.173519",
     "status": "completed"
    },
    "tags": []
   },
   "outputs": [
    {
     "data": {
      "text/html": [
       "<div>\n",
       "<style scoped>\n",
       "    .dataframe tbody tr th:only-of-type {\n",
       "        vertical-align: middle;\n",
       "    }\n",
       "\n",
       "    .dataframe tbody tr th {\n",
       "        vertical-align: top;\n",
       "    }\n",
       "\n",
       "    .dataframe thead th {\n",
       "        text-align: right;\n",
       "    }\n",
       "</style>\n",
       "<table border=\"1\" class=\"dataframe\">\n",
       "  <thead>\n",
       "    <tr style=\"text-align: right;\">\n",
       "      <th></th>\n",
       "      <th>0</th>\n",
       "      <th>1</th>\n",
       "      <th>2</th>\n",
       "      <th>3</th>\n",
       "    </tr>\n",
       "  </thead>\n",
       "  <tbody>\n",
       "    <tr>\n",
       "      <th>0</th>\n",
       "      <td>0</td>\n",
       "      <td>0</td>\n",
       "      <td>0</td>\n",
       "      <td>1.0</td>\n",
       "    </tr>\n",
       "    <tr>\n",
       "      <th>1</th>\n",
       "      <td>0</td>\n",
       "      <td>0</td>\n",
       "      <td>1</td>\n",
       "      <td>2.0</td>\n",
       "    </tr>\n",
       "    <tr>\n",
       "      <th>2</th>\n",
       "      <td>0</td>\n",
       "      <td>0</td>\n",
       "      <td>2</td>\n",
       "      <td>3.0</td>\n",
       "    </tr>\n",
       "    <tr>\n",
       "      <th>3</th>\n",
       "      <td>0</td>\n",
       "      <td>0</td>\n",
       "      <td>3</td>\n",
       "      <td>4.0</td>\n",
       "    </tr>\n",
       "    <tr>\n",
       "      <th>4</th>\n",
       "      <td>0</td>\n",
       "      <td>1</td>\n",
       "      <td>0</td>\n",
       "      <td>5.0</td>\n",
       "    </tr>\n",
       "    <tr>\n",
       "      <th>5</th>\n",
       "      <td>0</td>\n",
       "      <td>1</td>\n",
       "      <td>1</td>\n",
       "      <td>6.0</td>\n",
       "    </tr>\n",
       "    <tr>\n",
       "      <th>6</th>\n",
       "      <td>0</td>\n",
       "      <td>1</td>\n",
       "      <td>2</td>\n",
       "      <td>7.0</td>\n",
       "    </tr>\n",
       "    <tr>\n",
       "      <th>7</th>\n",
       "      <td>0</td>\n",
       "      <td>1</td>\n",
       "      <td>3</td>\n",
       "      <td>8.0</td>\n",
       "    </tr>\n",
       "    <tr>\n",
       "      <th>8</th>\n",
       "      <td>0</td>\n",
       "      <td>2</td>\n",
       "      <td>0</td>\n",
       "      <td>9.0</td>\n",
       "    </tr>\n",
       "    <tr>\n",
       "      <th>9</th>\n",
       "      <td>0</td>\n",
       "      <td>2</td>\n",
       "      <td>1</td>\n",
       "      <td>10.0</td>\n",
       "    </tr>\n",
       "    <tr>\n",
       "      <th>10</th>\n",
       "      <td>0</td>\n",
       "      <td>2</td>\n",
       "      <td>2</td>\n",
       "      <td>11.0</td>\n",
       "    </tr>\n",
       "    <tr>\n",
       "      <th>11</th>\n",
       "      <td>0</td>\n",
       "      <td>2</td>\n",
       "      <td>3</td>\n",
       "      <td>12.0</td>\n",
       "    </tr>\n",
       "    <tr>\n",
       "      <th>12</th>\n",
       "      <td>1</td>\n",
       "      <td>0</td>\n",
       "      <td>0</td>\n",
       "      <td>13.0</td>\n",
       "    </tr>\n",
       "    <tr>\n",
       "      <th>13</th>\n",
       "      <td>1</td>\n",
       "      <td>0</td>\n",
       "      <td>1</td>\n",
       "      <td>14.0</td>\n",
       "    </tr>\n",
       "    <tr>\n",
       "      <th>14</th>\n",
       "      <td>1</td>\n",
       "      <td>0</td>\n",
       "      <td>2</td>\n",
       "      <td>15.0</td>\n",
       "    </tr>\n",
       "    <tr>\n",
       "      <th>15</th>\n",
       "      <td>1</td>\n",
       "      <td>0</td>\n",
       "      <td>3</td>\n",
       "      <td>16.0</td>\n",
       "    </tr>\n",
       "    <tr>\n",
       "      <th>16</th>\n",
       "      <td>1</td>\n",
       "      <td>1</td>\n",
       "      <td>0</td>\n",
       "      <td>17.0</td>\n",
       "    </tr>\n",
       "    <tr>\n",
       "      <th>17</th>\n",
       "      <td>1</td>\n",
       "      <td>1</td>\n",
       "      <td>1</td>\n",
       "      <td>18.0</td>\n",
       "    </tr>\n",
       "    <tr>\n",
       "      <th>18</th>\n",
       "      <td>1</td>\n",
       "      <td>1</td>\n",
       "      <td>2</td>\n",
       "      <td>19.0</td>\n",
       "    </tr>\n",
       "    <tr>\n",
       "      <th>19</th>\n",
       "      <td>1</td>\n",
       "      <td>1</td>\n",
       "      <td>3</td>\n",
       "      <td>20.0</td>\n",
       "    </tr>\n",
       "    <tr>\n",
       "      <th>20</th>\n",
       "      <td>1</td>\n",
       "      <td>2</td>\n",
       "      <td>0</td>\n",
       "      <td>21.0</td>\n",
       "    </tr>\n",
       "    <tr>\n",
       "      <th>21</th>\n",
       "      <td>1</td>\n",
       "      <td>2</td>\n",
       "      <td>1</td>\n",
       "      <td>22.0</td>\n",
       "    </tr>\n",
       "    <tr>\n",
       "      <th>22</th>\n",
       "      <td>1</td>\n",
       "      <td>2</td>\n",
       "      <td>2</td>\n",
       "      <td>23.0</td>\n",
       "    </tr>\n",
       "    <tr>\n",
       "      <th>23</th>\n",
       "      <td>1</td>\n",
       "      <td>2</td>\n",
       "      <td>3</td>\n",
       "      <td>NaN</td>\n",
       "    </tr>\n",
       "  </tbody>\n",
       "</table>\n",
       "</div>"
      ],
      "text/plain": [
       "    0  1  2     3\n",
       "0   0  0  0   1.0\n",
       "1   0  0  1   2.0\n",
       "2   0  0  2   3.0\n",
       "3   0  0  3   4.0\n",
       "4   0  1  0   5.0\n",
       "5   0  1  1   6.0\n",
       "6   0  1  2   7.0\n",
       "7   0  1  3   8.0\n",
       "8   0  2  0   9.0\n",
       "9   0  2  1  10.0\n",
       "10  0  2  2  11.0\n",
       "11  0  2  3  12.0\n",
       "12  1  0  0  13.0\n",
       "13  1  0  1  14.0\n",
       "14  1  0  2  15.0\n",
       "15  1  0  3  16.0\n",
       "16  1  1  0  17.0\n",
       "17  1  1  1  18.0\n",
       "18  1  1  2  19.0\n",
       "19  1  1  3  20.0\n",
       "20  1  2  0  21.0\n",
       "21  1  2  1  22.0\n",
       "22  1  2  2  23.0\n",
       "23  1  2  3   NaN"
      ]
     },
     "execution_count": 79,
     "metadata": {},
     "output_type": "execute_result"
    }
   ],
   "source": [
    "pd.DataFrame([tuple(list(x) + [val]) for x, val in np.ndenumerate(a)])"
   ]
  },
  {
   "cell_type": "code",
   "execution_count": 80,
   "id": "2b965b1a",
   "metadata": {
    "execution": {
     "iopub.execute_input": "2023-08-24T14:31:43.395527Z",
     "iopub.status.busy": "2023-08-24T14:31:43.394805Z",
     "iopub.status.idle": "2023-08-24T14:31:43.401271Z",
     "shell.execute_reply": "2023-08-24T14:31:43.400455Z"
    },
    "papermill": {
     "duration": 0.07634,
     "end_time": "2023-08-24T14:31:43.403227",
     "exception": false,
     "start_time": "2023-08-24T14:31:43.326887",
     "status": "completed"
    },
    "tags": []
   },
   "outputs": [
    {
     "data": {
      "text/plain": [
       "[(0, 1), (1, 2), (2, 3), (3, 4), (4, nan)]"
      ]
     },
     "execution_count": 80,
     "metadata": {},
     "output_type": "execute_result"
    }
   ],
   "source": [
    "a = list(enumerate(list(range(1, 5)) + [np.NAN]))\n",
    "a"
   ]
  },
  {
   "cell_type": "code",
   "execution_count": 81,
   "id": "4312d324",
   "metadata": {
    "execution": {
     "iopub.execute_input": "2023-08-24T14:31:43.539385Z",
     "iopub.status.busy": "2023-08-24T14:31:43.538659Z",
     "iopub.status.idle": "2023-08-24T14:31:43.548299Z",
     "shell.execute_reply": "2023-08-24T14:31:43.547263Z"
    },
    "papermill": {
     "duration": 0.079912,
     "end_time": "2023-08-24T14:31:43.550389",
     "exception": false,
     "start_time": "2023-08-24T14:31:43.470477",
     "status": "completed"
    },
    "tags": []
   },
   "outputs": [
    {
     "data": {
      "text/html": [
       "<div>\n",
       "<style scoped>\n",
       "    .dataframe tbody tr th:only-of-type {\n",
       "        vertical-align: middle;\n",
       "    }\n",
       "\n",
       "    .dataframe tbody tr th {\n",
       "        vertical-align: top;\n",
       "    }\n",
       "\n",
       "    .dataframe thead th {\n",
       "        text-align: right;\n",
       "    }\n",
       "</style>\n",
       "<table border=\"1\" class=\"dataframe\">\n",
       "  <thead>\n",
       "    <tr style=\"text-align: right;\">\n",
       "      <th></th>\n",
       "      <th>0</th>\n",
       "      <th>1</th>\n",
       "    </tr>\n",
       "  </thead>\n",
       "  <tbody>\n",
       "    <tr>\n",
       "      <th>0</th>\n",
       "      <td>0</td>\n",
       "      <td>1.0</td>\n",
       "    </tr>\n",
       "    <tr>\n",
       "      <th>1</th>\n",
       "      <td>1</td>\n",
       "      <td>2.0</td>\n",
       "    </tr>\n",
       "    <tr>\n",
       "      <th>2</th>\n",
       "      <td>2</td>\n",
       "      <td>3.0</td>\n",
       "    </tr>\n",
       "    <tr>\n",
       "      <th>3</th>\n",
       "      <td>3</td>\n",
       "      <td>4.0</td>\n",
       "    </tr>\n",
       "    <tr>\n",
       "      <th>4</th>\n",
       "      <td>4</td>\n",
       "      <td>NaN</td>\n",
       "    </tr>\n",
       "  </tbody>\n",
       "</table>\n",
       "</div>"
      ],
      "text/plain": [
       "   0    1\n",
       "0  0  1.0\n",
       "1  1  2.0\n",
       "2  2  3.0\n",
       "3  3  4.0\n",
       "4  4  NaN"
      ]
     },
     "execution_count": 81,
     "metadata": {},
     "output_type": "execute_result"
    }
   ],
   "source": [
    "pd.DataFrame(a)"
   ]
  },
  {
   "cell_type": "code",
   "execution_count": 82,
   "id": "4572f5b6",
   "metadata": {
    "execution": {
     "iopub.execute_input": "2023-08-24T14:31:43.685392Z",
     "iopub.status.busy": "2023-08-24T14:31:43.684725Z",
     "iopub.status.idle": "2023-08-24T14:31:43.696699Z",
     "shell.execute_reply": "2023-08-24T14:31:43.695936Z"
    },
    "papermill": {
     "duration": 0.081515,
     "end_time": "2023-08-24T14:31:43.698765",
     "exception": false,
     "start_time": "2023-08-24T14:31:43.617250",
     "status": "completed"
    },
    "tags": []
   },
   "outputs": [
    {
     "data": {
      "text/html": [
       "<div>\n",
       "<style scoped>\n",
       "    .dataframe tbody tr th:only-of-type {\n",
       "        vertical-align: middle;\n",
       "    }\n",
       "\n",
       "    .dataframe tbody tr th {\n",
       "        vertical-align: top;\n",
       "    }\n",
       "\n",
       "    .dataframe thead th {\n",
       "        text-align: right;\n",
       "    }\n",
       "</style>\n",
       "<table border=\"1\" class=\"dataframe\">\n",
       "  <thead>\n",
       "    <tr style=\"text-align: right;\">\n",
       "      <th></th>\n",
       "      <th>first</th>\n",
       "      <th>last</th>\n",
       "      <th>height</th>\n",
       "      <th>weight</th>\n",
       "    </tr>\n",
       "  </thead>\n",
       "  <tbody>\n",
       "    <tr>\n",
       "      <th>0</th>\n",
       "      <td>John</td>\n",
       "      <td>Doe</td>\n",
       "      <td>5.5</td>\n",
       "      <td>130</td>\n",
       "    </tr>\n",
       "    <tr>\n",
       "      <th>1</th>\n",
       "      <td>Mary</td>\n",
       "      <td>Bo</td>\n",
       "      <td>6.0</td>\n",
       "      <td>150</td>\n",
       "    </tr>\n",
       "  </tbody>\n",
       "</table>\n",
       "</div>"
      ],
      "text/plain": [
       "  first last  height  weight\n",
       "0  John  Doe     5.5     130\n",
       "1  Mary   Bo     6.0     150"
      ]
     },
     "execution_count": 82,
     "metadata": {},
     "output_type": "execute_result"
    }
   ],
   "source": [
    "cheese = pd.DataFrame({\n",
    "    \n",
    "\"first\": [\"John\", \"Mary\"],\n",
    "\"last\": [\"Doe\", \"Bo\"],\n",
    "\"height\": [5.5, 6.0],\n",
    "\"weight\": [130, 150]\n",
    "    \n",
    "})\n",
    "\n",
    "cheese"
   ]
  },
  {
   "cell_type": "code",
   "execution_count": 83,
   "id": "294902d6",
   "metadata": {
    "execution": {
     "iopub.execute_input": "2023-08-24T14:31:43.836498Z",
     "iopub.status.busy": "2023-08-24T14:31:43.835796Z",
     "iopub.status.idle": "2023-08-24T14:31:43.849623Z",
     "shell.execute_reply": "2023-08-24T14:31:43.848793Z"
    },
    "papermill": {
     "duration": 0.084827,
     "end_time": "2023-08-24T14:31:43.851619",
     "exception": false,
     "start_time": "2023-08-24T14:31:43.766792",
     "status": "completed"
    },
    "tags": []
   },
   "outputs": [
    {
     "data": {
      "text/html": [
       "<div>\n",
       "<style scoped>\n",
       "    .dataframe tbody tr th:only-of-type {\n",
       "        vertical-align: middle;\n",
       "    }\n",
       "\n",
       "    .dataframe tbody tr th {\n",
       "        vertical-align: top;\n",
       "    }\n",
       "\n",
       "    .dataframe thead th {\n",
       "        text-align: right;\n",
       "    }\n",
       "</style>\n",
       "<table border=\"1\" class=\"dataframe\">\n",
       "  <thead>\n",
       "    <tr style=\"text-align: right;\">\n",
       "      <th></th>\n",
       "      <th>first</th>\n",
       "      <th>last</th>\n",
       "      <th>variable</th>\n",
       "      <th>value</th>\n",
       "    </tr>\n",
       "  </thead>\n",
       "  <tbody>\n",
       "    <tr>\n",
       "      <th>0</th>\n",
       "      <td>John</td>\n",
       "      <td>Doe</td>\n",
       "      <td>height</td>\n",
       "      <td>5.5</td>\n",
       "    </tr>\n",
       "    <tr>\n",
       "      <th>1</th>\n",
       "      <td>Mary</td>\n",
       "      <td>Bo</td>\n",
       "      <td>height</td>\n",
       "      <td>6.0</td>\n",
       "    </tr>\n",
       "    <tr>\n",
       "      <th>2</th>\n",
       "      <td>John</td>\n",
       "      <td>Doe</td>\n",
       "      <td>weight</td>\n",
       "      <td>130.0</td>\n",
       "    </tr>\n",
       "    <tr>\n",
       "      <th>3</th>\n",
       "      <td>Mary</td>\n",
       "      <td>Bo</td>\n",
       "      <td>weight</td>\n",
       "      <td>150.0</td>\n",
       "    </tr>\n",
       "  </tbody>\n",
       "</table>\n",
       "</div>"
      ],
      "text/plain": [
       "  first last variable  value\n",
       "0  John  Doe   height    5.5\n",
       "1  Mary   Bo   height    6.0\n",
       "2  John  Doe   weight  130.0\n",
       "3  Mary   Bo   weight  150.0"
      ]
     },
     "execution_count": 83,
     "metadata": {},
     "output_type": "execute_result"
    }
   ],
   "source": [
    "pd.melt(cheese, id_vars=[\"first\", \"last\"])"
   ]
  },
  {
   "cell_type": "code",
   "execution_count": 84,
   "id": "70897857",
   "metadata": {
    "execution": {
     "iopub.execute_input": "2023-08-24T14:31:43.989297Z",
     "iopub.status.busy": "2023-08-24T14:31:43.988573Z",
     "iopub.status.idle": "2023-08-24T14:31:44.003346Z",
     "shell.execute_reply": "2023-08-24T14:31:44.001874Z"
    },
    "papermill": {
     "duration": 0.087217,
     "end_time": "2023-08-24T14:31:44.005949",
     "exception": false,
     "start_time": "2023-08-24T14:31:43.918732",
     "status": "completed"
    },
    "tags": []
   },
   "outputs": [
    {
     "data": {
      "text/plain": [
       "first  last        \n",
       "John   Doe   height      5.5\n",
       "             weight    130.0\n",
       "Mary   Bo    height      6.0\n",
       "             weight    150.0\n",
       "dtype: float64"
      ]
     },
     "execution_count": 84,
     "metadata": {},
     "output_type": "execute_result"
    }
   ],
   "source": [
    "cheese.set_index([\"first\", \"last\"]).stack() # alternative"
   ]
  },
  {
   "cell_type": "code",
   "execution_count": 85,
   "id": "4ba6c018",
   "metadata": {
    "execution": {
     "iopub.execute_input": "2023-08-24T14:31:44.143853Z",
     "iopub.status.busy": "2023-08-24T14:31:44.143346Z",
     "iopub.status.idle": "2023-08-24T14:31:44.171298Z",
     "shell.execute_reply": "2023-08-24T14:31:44.170169Z"
    },
    "papermill": {
     "duration": 0.099974,
     "end_time": "2023-08-24T14:31:44.173972",
     "exception": false,
     "start_time": "2023-08-24T14:31:44.073998",
     "status": "completed"
    },
    "tags": []
   },
   "outputs": [
    {
     "data": {
      "text/html": [
       "<div>\n",
       "<style scoped>\n",
       "    .dataframe tbody tr th:only-of-type {\n",
       "        vertical-align: middle;\n",
       "    }\n",
       "\n",
       "    .dataframe tbody tr th {\n",
       "        vertical-align: top;\n",
       "    }\n",
       "\n",
       "    .dataframe thead th {\n",
       "        text-align: right;\n",
       "    }\n",
       "</style>\n",
       "<table border=\"1\" class=\"dataframe\">\n",
       "  <thead>\n",
       "    <tr style=\"text-align: right;\">\n",
       "      <th></th>\n",
       "      <th>month</th>\n",
       "      <th>5</th>\n",
       "      <th>6</th>\n",
       "      <th>7</th>\n",
       "    </tr>\n",
       "    <tr>\n",
       "      <th>variable</th>\n",
       "      <th>week</th>\n",
       "      <th></th>\n",
       "      <th></th>\n",
       "      <th></th>\n",
       "    </tr>\n",
       "  </thead>\n",
       "  <tbody>\n",
       "    <tr>\n",
       "      <th rowspan=\"2\" valign=\"top\">x</th>\n",
       "      <th>1</th>\n",
       "      <td>43.257615</td>\n",
       "      <td>105.248265</td>\n",
       "      <td>134.049422</td>\n",
       "    </tr>\n",
       "    <tr>\n",
       "      <th>2</th>\n",
       "      <td>118.604321</td>\n",
       "      <td>130.026932</td>\n",
       "      <td>78.085675</td>\n",
       "    </tr>\n",
       "    <tr>\n",
       "      <th rowspan=\"2\" valign=\"top\">y</th>\n",
       "      <th>1</th>\n",
       "      <td>147.725584</td>\n",
       "      <td>235.397572</td>\n",
       "      <td>153.825928</td>\n",
       "    </tr>\n",
       "    <tr>\n",
       "      <th>2</th>\n",
       "      <td>108.476151</td>\n",
       "      <td>30.141495</td>\n",
       "      <td>123.840826</td>\n",
       "    </tr>\n",
       "    <tr>\n",
       "      <th rowspan=\"2\" valign=\"top\">z</th>\n",
       "      <th>1</th>\n",
       "      <td>14.571498</td>\n",
       "      <td>11.662200</td>\n",
       "      <td>12.551050</td>\n",
       "    </tr>\n",
       "    <tr>\n",
       "      <th>2</th>\n",
       "      <td>14.667085</td>\n",
       "      <td>14.226568</td>\n",
       "      <td>12.240576</td>\n",
       "    </tr>\n",
       "  </tbody>\n",
       "</table>\n",
       "</div>"
      ],
      "text/plain": [
       "month                   5           6           7\n",
       "variable week                                    \n",
       "x        1      43.257615  105.248265  134.049422\n",
       "         2     118.604321  130.026932   78.085675\n",
       "y        1     147.725584  235.397572  153.825928\n",
       "         2     108.476151   30.141495  123.840826\n",
       "z        1      14.571498   11.662200   12.551050\n",
       "         2      14.667085   14.226568   12.240576"
      ]
     },
     "execution_count": 85,
     "metadata": {},
     "output_type": "execute_result"
    }
   ],
   "source": [
    "df = pd.DataFrame({\n",
    "    \n",
    "\"x\": np.random.uniform(1.0, 168.0, 12),\n",
    "\"y\": np.random.uniform(7.0, 334.0, 12),\n",
    "\"z\": np.random.uniform(1.7, 20.7, 12),\n",
    "\"month\": [5, 6, 7] * 4,\n",
    "\"week\": [1, 2] * 6\n",
    "    \n",
    "})\n",
    "\n",
    "mdf = pd.melt(df, id_vars=[\"month\", \"week\"])\n",
    "\n",
    "pd.pivot_table(mdf,values=\"value\",index=[\"variable\", \"week\"],columns=[\"month\"],aggfunc=np.mean,)"
   ]
  },
  {
   "cell_type": "code",
   "execution_count": 86,
   "id": "07a9ae04",
   "metadata": {
    "execution": {
     "iopub.execute_input": "2023-08-24T14:31:44.311446Z",
     "iopub.status.busy": "2023-08-24T14:31:44.310480Z",
     "iopub.status.idle": "2023-08-24T14:31:44.331460Z",
     "shell.execute_reply": "2023-08-24T14:31:44.330456Z"
    },
    "papermill": {
     "duration": 0.092061,
     "end_time": "2023-08-24T14:31:44.333615",
     "exception": false,
     "start_time": "2023-08-24T14:31:44.241554",
     "status": "completed"
    },
    "tags": []
   },
   "outputs": [
    {
     "data": {
      "text/html": [
       "<div>\n",
       "<style scoped>\n",
       "    .dataframe tbody tr th:only-of-type {\n",
       "        vertical-align: middle;\n",
       "    }\n",
       "\n",
       "    .dataframe tbody tr th {\n",
       "        vertical-align: top;\n",
       "    }\n",
       "\n",
       "    .dataframe thead th {\n",
       "        text-align: right;\n",
       "    }\n",
       "</style>\n",
       "<table border=\"1\" class=\"dataframe\">\n",
       "  <thead>\n",
       "    <tr style=\"text-align: right;\">\n",
       "      <th>FeedType</th>\n",
       "      <th>A</th>\n",
       "      <th>B</th>\n",
       "    </tr>\n",
       "    <tr>\n",
       "      <th>Animal</th>\n",
       "      <th></th>\n",
       "      <th></th>\n",
       "    </tr>\n",
       "  </thead>\n",
       "  <tbody>\n",
       "    <tr>\n",
       "      <th>Animal1</th>\n",
       "      <td>10.0</td>\n",
       "      <td>5.0</td>\n",
       "    </tr>\n",
       "    <tr>\n",
       "      <th>Animal2</th>\n",
       "      <td>2.0</td>\n",
       "      <td>13.0</td>\n",
       "    </tr>\n",
       "    <tr>\n",
       "      <th>Animal3</th>\n",
       "      <td>6.0</td>\n",
       "      <td>NaN</td>\n",
       "    </tr>\n",
       "  </tbody>\n",
       "</table>\n",
       "</div>"
      ],
      "text/plain": [
       "FeedType     A     B\n",
       "Animal              \n",
       "Animal1   10.0   5.0\n",
       "Animal2    2.0  13.0\n",
       "Animal3    6.0   NaN"
      ]
     },
     "execution_count": 86,
     "metadata": {},
     "output_type": "execute_result"
    }
   ],
   "source": [
    "df = pd.DataFrame({\n",
    "    \n",
    "\"Animal\": [\"Animal1\",\"Animal2\",\"Animal3\",\"Animal2\",\"Animal1\",\"Animal2\",\"Animal3\",],\n",
    "\"FeedType\": [\"A\", \"B\", \"A\", \"A\", \"B\", \"B\", \"A\"],\n",
    "\"Amount\": [10, 7, 4, 2, 5, 6, 2]\n",
    "    \n",
    "})\n",
    "\n",
    "df.pivot_table(values=\"Amount\", index=\"Animal\", columns=\"FeedType\", aggfunc=\"sum\")"
   ]
  },
  {
   "cell_type": "code",
   "execution_count": 87,
   "id": "3b9e419c",
   "metadata": {
    "execution": {
     "iopub.execute_input": "2023-08-24T14:31:44.471285Z",
     "iopub.status.busy": "2023-08-24T14:31:44.470549Z",
     "iopub.status.idle": "2023-08-24T14:31:44.479918Z",
     "shell.execute_reply": "2023-08-24T14:31:44.478811Z"
    },
    "papermill": {
     "duration": 0.080733,
     "end_time": "2023-08-24T14:31:44.482026",
     "exception": false,
     "start_time": "2023-08-24T14:31:44.401293",
     "status": "completed"
    },
    "tags": []
   },
   "outputs": [
    {
     "data": {
      "text/plain": [
       "Animal   FeedType\n",
       "Animal1  A           10\n",
       "         B            5\n",
       "Animal2  A            2\n",
       "         B           13\n",
       "Animal3  A            6\n",
       "Name: Amount, dtype: int64"
      ]
     },
     "execution_count": 87,
     "metadata": {},
     "output_type": "execute_result"
    }
   ],
   "source": [
    "df.groupby([\"Animal\", \"FeedType\"])[\"Amount\"].sum()"
   ]
  },
  {
   "cell_type": "code",
   "execution_count": 88,
   "id": "f8d02dc1",
   "metadata": {
    "execution": {
     "iopub.execute_input": "2023-08-24T14:31:44.620034Z",
     "iopub.status.busy": "2023-08-24T14:31:44.619327Z",
     "iopub.status.idle": "2023-08-24T14:31:44.636281Z",
     "shell.execute_reply": "2023-08-24T14:31:44.635137Z"
    },
    "papermill": {
     "duration": 0.088655,
     "end_time": "2023-08-24T14:31:44.638587",
     "exception": false,
     "start_time": "2023-08-24T14:31:44.549932",
     "status": "completed"
    },
    "tags": []
   },
   "outputs": [
    {
     "data": {
      "text/plain": [
       "0    (0.995, 2.667]\n",
       "1    (0.995, 2.667]\n",
       "2    (2.667, 4.333]\n",
       "3    (2.667, 4.333]\n",
       "4      (4.333, 6.0]\n",
       "5      (4.333, 6.0]\n",
       "dtype: category\n",
       "Categories (3, interval[float64, right]): [(0.995, 2.667] < (2.667, 4.333] < (4.333, 6.0]]"
      ]
     },
     "execution_count": 88,
     "metadata": {},
     "output_type": "execute_result"
    }
   ],
   "source": [
    "pd.cut(pd.Series([1, 2, 3, 4, 5, 6]), 3)"
   ]
  },
  {
   "cell_type": "code",
   "execution_count": 89,
   "id": "51b20939",
   "metadata": {
    "execution": {
     "iopub.execute_input": "2023-08-24T14:31:44.776997Z",
     "iopub.status.busy": "2023-08-24T14:31:44.776616Z",
     "iopub.status.idle": "2023-08-24T14:31:44.786388Z",
     "shell.execute_reply": "2023-08-24T14:31:44.785367Z"
    },
    "papermill": {
     "duration": 0.081709,
     "end_time": "2023-08-24T14:31:44.788553",
     "exception": false,
     "start_time": "2023-08-24T14:31:44.706844",
     "status": "completed"
    },
    "tags": []
   },
   "outputs": [
    {
     "data": {
      "text/plain": [
       "0    1\n",
       "1    2\n",
       "2    3\n",
       "3    2\n",
       "4    2\n",
       "5    3\n",
       "dtype: category\n",
       "Categories (3, int64): [1, 2, 3]"
      ]
     },
     "execution_count": 89,
     "metadata": {},
     "output_type": "execute_result"
    }
   ],
   "source": [
    "pd.Series([1, 2, 3, 2, 2, 3]).astype(\"category\")"
   ]
  },
  {
   "cell_type": "code",
   "execution_count": 90,
   "id": "74b7cd51",
   "metadata": {
    "execution": {
     "iopub.execute_input": "2023-08-24T14:31:44.930595Z",
     "iopub.status.busy": "2023-08-24T14:31:44.929394Z",
     "iopub.status.idle": "2023-08-24T14:31:44.942122Z",
     "shell.execute_reply": "2023-08-24T14:31:44.940879Z"
    },
    "papermill": {
     "duration": 0.085923,
     "end_time": "2023-08-24T14:31:44.944737",
     "exception": false,
     "start_time": "2023-08-24T14:31:44.858814",
     "status": "completed"
    },
    "tags": []
   },
   "outputs": [
    {
     "data": {
      "text/html": [
       "<div>\n",
       "<style scoped>\n",
       "    .dataframe tbody tr th:only-of-type {\n",
       "        vertical-align: middle;\n",
       "    }\n",
       "\n",
       "    .dataframe tbody tr th {\n",
       "        vertical-align: top;\n",
       "    }\n",
       "\n",
       "    .dataframe thead th {\n",
       "        text-align: right;\n",
       "    }\n",
       "</style>\n",
       "<table border=\"1\" class=\"dataframe\">\n",
       "  <thead>\n",
       "    <tr style=\"text-align: right;\">\n",
       "      <th></th>\n",
       "      <th>col1</th>\n",
       "      <th>col2</th>\n",
       "    </tr>\n",
       "  </thead>\n",
       "  <tbody>\n",
       "    <tr>\n",
       "      <th>0</th>\n",
       "      <td>A</td>\n",
       "      <td>F</td>\n",
       "    </tr>\n",
       "    <tr>\n",
       "      <th>1</th>\n",
       "      <td>B</td>\n",
       "      <td>NaN</td>\n",
       "    </tr>\n",
       "    <tr>\n",
       "      <th>2</th>\n",
       "      <td>NaN</td>\n",
       "      <td>G</td>\n",
       "    </tr>\n",
       "    <tr>\n",
       "      <th>3</th>\n",
       "      <td>C</td>\n",
       "      <td>H</td>\n",
       "    </tr>\n",
       "    <tr>\n",
       "      <th>4</th>\n",
       "      <td>D</td>\n",
       "      <td>I</td>\n",
       "    </tr>\n",
       "  </tbody>\n",
       "</table>\n",
       "</div>"
      ],
      "text/plain": [
       "  col1 col2\n",
       "0    A    F\n",
       "1    B  NaN\n",
       "2  NaN    G\n",
       "3    C    H\n",
       "4    D    I"
      ]
     },
     "execution_count": 90,
     "metadata": {},
     "output_type": "execute_result"
    }
   ],
   "source": [
    "frame = pd.DataFrame({\"col1\": [\"A\", \"B\", np.NaN, \"C\", \"D\"], \"col2\": [\"F\", np.NaN, \"G\", \"H\", \"I\"]})\n",
    "\n",
    "frame"
   ]
  },
  {
   "cell_type": "code",
   "execution_count": 91,
   "id": "2ca6af9c",
   "metadata": {
    "execution": {
     "iopub.execute_input": "2023-08-24T14:31:45.088764Z",
     "iopub.status.busy": "2023-08-24T14:31:45.088333Z",
     "iopub.status.idle": "2023-08-24T14:31:45.099649Z",
     "shell.execute_reply": "2023-08-24T14:31:45.098563Z"
    },
    "papermill": {
     "duration": 0.084236,
     "end_time": "2023-08-24T14:31:45.101809",
     "exception": false,
     "start_time": "2023-08-24T14:31:45.017573",
     "status": "completed"
    },
    "tags": []
   },
   "outputs": [
    {
     "data": {
      "text/html": [
       "<div>\n",
       "<style scoped>\n",
       "    .dataframe tbody tr th:only-of-type {\n",
       "        vertical-align: middle;\n",
       "    }\n",
       "\n",
       "    .dataframe tbody tr th {\n",
       "        vertical-align: top;\n",
       "    }\n",
       "\n",
       "    .dataframe thead th {\n",
       "        text-align: right;\n",
       "    }\n",
       "</style>\n",
       "<table border=\"1\" class=\"dataframe\">\n",
       "  <thead>\n",
       "    <tr style=\"text-align: right;\">\n",
       "      <th></th>\n",
       "      <th>col1</th>\n",
       "      <th>col2</th>\n",
       "    </tr>\n",
       "  </thead>\n",
       "  <tbody>\n",
       "    <tr>\n",
       "      <th>1</th>\n",
       "      <td>B</td>\n",
       "      <td>NaN</td>\n",
       "    </tr>\n",
       "  </tbody>\n",
       "</table>\n",
       "</div>"
      ],
      "text/plain": [
       "  col1 col2\n",
       "1    B  NaN"
      ]
     },
     "execution_count": 91,
     "metadata": {},
     "output_type": "execute_result"
    }
   ],
   "source": [
    "frame[frame[\"col2\"].isna()]"
   ]
  },
  {
   "cell_type": "code",
   "execution_count": 92,
   "id": "0b22a634",
   "metadata": {
    "execution": {
     "iopub.execute_input": "2023-08-24T14:31:45.241810Z",
     "iopub.status.busy": "2023-08-24T14:31:45.241432Z",
     "iopub.status.idle": "2023-08-24T14:31:45.251353Z",
     "shell.execute_reply": "2023-08-24T14:31:45.250554Z"
    },
    "papermill": {
     "duration": 0.082749,
     "end_time": "2023-08-24T14:31:45.253762",
     "exception": false,
     "start_time": "2023-08-24T14:31:45.171013",
     "status": "completed"
    },
    "tags": []
   },
   "outputs": [
    {
     "data": {
      "text/html": [
       "<div>\n",
       "<style scoped>\n",
       "    .dataframe tbody tr th:only-of-type {\n",
       "        vertical-align: middle;\n",
       "    }\n",
       "\n",
       "    .dataframe tbody tr th {\n",
       "        vertical-align: top;\n",
       "    }\n",
       "\n",
       "    .dataframe thead th {\n",
       "        text-align: right;\n",
       "    }\n",
       "</style>\n",
       "<table border=\"1\" class=\"dataframe\">\n",
       "  <thead>\n",
       "    <tr style=\"text-align: right;\">\n",
       "      <th></th>\n",
       "      <th>col1</th>\n",
       "      <th>col2</th>\n",
       "    </tr>\n",
       "  </thead>\n",
       "  <tbody>\n",
       "    <tr>\n",
       "      <th>0</th>\n",
       "      <td>A</td>\n",
       "      <td>F</td>\n",
       "    </tr>\n",
       "    <tr>\n",
       "      <th>1</th>\n",
       "      <td>B</td>\n",
       "      <td>NaN</td>\n",
       "    </tr>\n",
       "    <tr>\n",
       "      <th>3</th>\n",
       "      <td>C</td>\n",
       "      <td>H</td>\n",
       "    </tr>\n",
       "    <tr>\n",
       "      <th>4</th>\n",
       "      <td>D</td>\n",
       "      <td>I</td>\n",
       "    </tr>\n",
       "  </tbody>\n",
       "</table>\n",
       "</div>"
      ],
      "text/plain": [
       "  col1 col2\n",
       "0    A    F\n",
       "1    B  NaN\n",
       "3    C    H\n",
       "4    D    I"
      ]
     },
     "execution_count": 92,
     "metadata": {},
     "output_type": "execute_result"
    }
   ],
   "source": [
    "frame[frame[\"col1\"].notna()]"
   ]
  },
  {
   "cell_type": "code",
   "execution_count": 93,
   "id": "691cefdd",
   "metadata": {
    "execution": {
     "iopub.execute_input": "2023-08-24T14:31:45.396047Z",
     "iopub.status.busy": "2023-08-24T14:31:45.395666Z",
     "iopub.status.idle": "2023-08-24T14:31:45.402395Z",
     "shell.execute_reply": "2023-08-24T14:31:45.401351Z"
    },
    "papermill": {
     "duration": 0.079552,
     "end_time": "2023-08-24T14:31:45.404663",
     "exception": false,
     "start_time": "2023-08-24T14:31:45.325111",
     "status": "completed"
    },
    "tags": []
   },
   "outputs": [],
   "source": [
    "df1 = pd.DataFrame({\"key\": [\"A\", \"B\", \"C\", \"D\"], \"value\": np.random.randn(4)})\n",
    "df2 = pd.DataFrame({\"key\": [\"B\", \"D\", \"D\", \"E\"], \"value\": np.random.randn(4)})"
   ]
  },
  {
   "cell_type": "code",
   "execution_count": 94,
   "id": "3d0bec3a",
   "metadata": {
    "execution": {
     "iopub.execute_input": "2023-08-24T14:31:45.574841Z",
     "iopub.status.busy": "2023-08-24T14:31:45.574321Z",
     "iopub.status.idle": "2023-08-24T14:31:45.593124Z",
     "shell.execute_reply": "2023-08-24T14:31:45.592143Z"
    },
    "papermill": {
     "duration": 0.102389,
     "end_time": "2023-08-24T14:31:45.595543",
     "exception": false,
     "start_time": "2023-08-24T14:31:45.493154",
     "status": "completed"
    },
    "tags": []
   },
   "outputs": [
    {
     "data": {
      "text/html": [
       "<div>\n",
       "<style scoped>\n",
       "    .dataframe tbody tr th:only-of-type {\n",
       "        vertical-align: middle;\n",
       "    }\n",
       "\n",
       "    .dataframe tbody tr th {\n",
       "        vertical-align: top;\n",
       "    }\n",
       "\n",
       "    .dataframe thead th {\n",
       "        text-align: right;\n",
       "    }\n",
       "</style>\n",
       "<table border=\"1\" class=\"dataframe\">\n",
       "  <thead>\n",
       "    <tr style=\"text-align: right;\">\n",
       "      <th></th>\n",
       "      <th>key</th>\n",
       "      <th>value_x</th>\n",
       "      <th>value_y</th>\n",
       "    </tr>\n",
       "  </thead>\n",
       "  <tbody>\n",
       "    <tr>\n",
       "      <th>0</th>\n",
       "      <td>B</td>\n",
       "      <td>0.360508</td>\n",
       "      <td>1.391027</td>\n",
       "    </tr>\n",
       "    <tr>\n",
       "      <th>1</th>\n",
       "      <td>D</td>\n",
       "      <td>0.880773</td>\n",
       "      <td>1.179134</td>\n",
       "    </tr>\n",
       "    <tr>\n",
       "      <th>2</th>\n",
       "      <td>D</td>\n",
       "      <td>0.880773</td>\n",
       "      <td>1.148272</td>\n",
       "    </tr>\n",
       "  </tbody>\n",
       "</table>\n",
       "</div>"
      ],
      "text/plain": [
       "  key   value_x   value_y\n",
       "0   B  0.360508  1.391027\n",
       "1   D  0.880773  1.179134\n",
       "2   D  0.880773  1.148272"
      ]
     },
     "execution_count": 94,
     "metadata": {},
     "output_type": "execute_result"
    }
   ],
   "source": [
    "pd.merge(df1, df2, on=\"key\")"
   ]
  },
  {
   "cell_type": "code",
   "execution_count": 95,
   "id": "aa987b0d",
   "metadata": {
    "execution": {
     "iopub.execute_input": "2023-08-24T14:31:45.742716Z",
     "iopub.status.busy": "2023-08-24T14:31:45.742199Z",
     "iopub.status.idle": "2023-08-24T14:31:45.760735Z",
     "shell.execute_reply": "2023-08-24T14:31:45.759607Z"
    },
    "papermill": {
     "duration": 0.092034,
     "end_time": "2023-08-24T14:31:45.762988",
     "exception": false,
     "start_time": "2023-08-24T14:31:45.670954",
     "status": "completed"
    },
    "tags": []
   },
   "outputs": [
    {
     "data": {
      "text/html": [
       "<div>\n",
       "<style scoped>\n",
       "    .dataframe tbody tr th:only-of-type {\n",
       "        vertical-align: middle;\n",
       "    }\n",
       "\n",
       "    .dataframe tbody tr th {\n",
       "        vertical-align: top;\n",
       "    }\n",
       "\n",
       "    .dataframe thead th {\n",
       "        text-align: right;\n",
       "    }\n",
       "</style>\n",
       "<table border=\"1\" class=\"dataframe\">\n",
       "  <thead>\n",
       "    <tr style=\"text-align: right;\">\n",
       "      <th></th>\n",
       "      <th>key</th>\n",
       "      <th>value_x</th>\n",
       "      <th>value_y</th>\n",
       "    </tr>\n",
       "  </thead>\n",
       "  <tbody>\n",
       "    <tr>\n",
       "      <th>1</th>\n",
       "      <td>B</td>\n",
       "      <td>0.360508</td>\n",
       "      <td>1.391027</td>\n",
       "    </tr>\n",
       "    <tr>\n",
       "      <th>3</th>\n",
       "      <td>D</td>\n",
       "      <td>0.880773</td>\n",
       "      <td>1.179134</td>\n",
       "    </tr>\n",
       "    <tr>\n",
       "      <th>3</th>\n",
       "      <td>D</td>\n",
       "      <td>0.880773</td>\n",
       "      <td>1.148272</td>\n",
       "    </tr>\n",
       "  </tbody>\n",
       "</table>\n",
       "</div>"
      ],
      "text/plain": [
       "  key   value_x   value_y\n",
       "1   B  0.360508  1.391027\n",
       "3   D  0.880773  1.179134\n",
       "3   D  0.880773  1.148272"
      ]
     },
     "execution_count": 95,
     "metadata": {},
     "output_type": "execute_result"
    }
   ],
   "source": [
    "indexed_df2 = df2.set_index(\"key\")\n",
    "pd.merge(df1, indexed_df2, left_on=\"key\", right_index=True)"
   ]
  },
  {
   "cell_type": "code",
   "execution_count": 96,
   "id": "6b32847c",
   "metadata": {
    "execution": {
     "iopub.execute_input": "2023-08-24T14:31:45.917466Z",
     "iopub.status.busy": "2023-08-24T14:31:45.917010Z",
     "iopub.status.idle": "2023-08-24T14:31:45.931248Z",
     "shell.execute_reply": "2023-08-24T14:31:45.930217Z"
    },
    "papermill": {
     "duration": 0.095534,
     "end_time": "2023-08-24T14:31:45.933535",
     "exception": false,
     "start_time": "2023-08-24T14:31:45.838001",
     "status": "completed"
    },
    "tags": []
   },
   "outputs": [
    {
     "data": {
      "text/html": [
       "<div>\n",
       "<style scoped>\n",
       "    .dataframe tbody tr th:only-of-type {\n",
       "        vertical-align: middle;\n",
       "    }\n",
       "\n",
       "    .dataframe tbody tr th {\n",
       "        vertical-align: top;\n",
       "    }\n",
       "\n",
       "    .dataframe thead th {\n",
       "        text-align: right;\n",
       "    }\n",
       "</style>\n",
       "<table border=\"1\" class=\"dataframe\">\n",
       "  <thead>\n",
       "    <tr style=\"text-align: right;\">\n",
       "      <th></th>\n",
       "      <th>key</th>\n",
       "      <th>value_x</th>\n",
       "      <th>value_y</th>\n",
       "    </tr>\n",
       "  </thead>\n",
       "  <tbody>\n",
       "    <tr>\n",
       "      <th>0</th>\n",
       "      <td>A</td>\n",
       "      <td>0.615232</td>\n",
       "      <td>NaN</td>\n",
       "    </tr>\n",
       "    <tr>\n",
       "      <th>1</th>\n",
       "      <td>B</td>\n",
       "      <td>0.360508</td>\n",
       "      <td>1.391027</td>\n",
       "    </tr>\n",
       "    <tr>\n",
       "      <th>2</th>\n",
       "      <td>C</td>\n",
       "      <td>0.657371</td>\n",
       "      <td>NaN</td>\n",
       "    </tr>\n",
       "    <tr>\n",
       "      <th>3</th>\n",
       "      <td>D</td>\n",
       "      <td>0.880773</td>\n",
       "      <td>1.179134</td>\n",
       "    </tr>\n",
       "    <tr>\n",
       "      <th>4</th>\n",
       "      <td>D</td>\n",
       "      <td>0.880773</td>\n",
       "      <td>1.148272</td>\n",
       "    </tr>\n",
       "  </tbody>\n",
       "</table>\n",
       "</div>"
      ],
      "text/plain": [
       "  key   value_x   value_y\n",
       "0   A  0.615232       NaN\n",
       "1   B  0.360508  1.391027\n",
       "2   C  0.657371       NaN\n",
       "3   D  0.880773  1.179134\n",
       "4   D  0.880773  1.148272"
      ]
     },
     "execution_count": 96,
     "metadata": {},
     "output_type": "execute_result"
    }
   ],
   "source": [
    "pd.merge(df1, df2, on=\"key\", how=\"left\")"
   ]
  },
  {
   "cell_type": "code",
   "execution_count": 97,
   "id": "e195d2d1",
   "metadata": {
    "execution": {
     "iopub.execute_input": "2023-08-24T14:31:46.077083Z",
     "iopub.status.busy": "2023-08-24T14:31:46.076322Z",
     "iopub.status.idle": "2023-08-24T14:31:46.091139Z",
     "shell.execute_reply": "2023-08-24T14:31:46.090101Z"
    },
    "papermill": {
     "duration": 0.088949,
     "end_time": "2023-08-24T14:31:46.093449",
     "exception": false,
     "start_time": "2023-08-24T14:31:46.004500",
     "status": "completed"
    },
    "tags": []
   },
   "outputs": [
    {
     "data": {
      "text/html": [
       "<div>\n",
       "<style scoped>\n",
       "    .dataframe tbody tr th:only-of-type {\n",
       "        vertical-align: middle;\n",
       "    }\n",
       "\n",
       "    .dataframe tbody tr th {\n",
       "        vertical-align: top;\n",
       "    }\n",
       "\n",
       "    .dataframe thead th {\n",
       "        text-align: right;\n",
       "    }\n",
       "</style>\n",
       "<table border=\"1\" class=\"dataframe\">\n",
       "  <thead>\n",
       "    <tr style=\"text-align: right;\">\n",
       "      <th></th>\n",
       "      <th>key</th>\n",
       "      <th>value_x</th>\n",
       "      <th>value_y</th>\n",
       "    </tr>\n",
       "  </thead>\n",
       "  <tbody>\n",
       "    <tr>\n",
       "      <th>0</th>\n",
       "      <td>B</td>\n",
       "      <td>0.360508</td>\n",
       "      <td>1.391027</td>\n",
       "    </tr>\n",
       "    <tr>\n",
       "      <th>1</th>\n",
       "      <td>D</td>\n",
       "      <td>0.880773</td>\n",
       "      <td>1.179134</td>\n",
       "    </tr>\n",
       "    <tr>\n",
       "      <th>2</th>\n",
       "      <td>D</td>\n",
       "      <td>0.880773</td>\n",
       "      <td>1.148272</td>\n",
       "    </tr>\n",
       "    <tr>\n",
       "      <th>3</th>\n",
       "      <td>E</td>\n",
       "      <td>NaN</td>\n",
       "      <td>1.026578</td>\n",
       "    </tr>\n",
       "  </tbody>\n",
       "</table>\n",
       "</div>"
      ],
      "text/plain": [
       "  key   value_x   value_y\n",
       "0   B  0.360508  1.391027\n",
       "1   D  0.880773  1.179134\n",
       "2   D  0.880773  1.148272\n",
       "3   E       NaN  1.026578"
      ]
     },
     "execution_count": 97,
     "metadata": {},
     "output_type": "execute_result"
    }
   ],
   "source": [
    "pd.merge(df1, df2, on=\"key\", how=\"right\")"
   ]
  },
  {
   "cell_type": "code",
   "execution_count": 98,
   "id": "1d0b3878",
   "metadata": {
    "execution": {
     "iopub.execute_input": "2023-08-24T14:31:46.236381Z",
     "iopub.status.busy": "2023-08-24T14:31:46.235943Z",
     "iopub.status.idle": "2023-08-24T14:31:46.252960Z",
     "shell.execute_reply": "2023-08-24T14:31:46.251944Z"
    },
    "papermill": {
     "duration": 0.091594,
     "end_time": "2023-08-24T14:31:46.255383",
     "exception": false,
     "start_time": "2023-08-24T14:31:46.163789",
     "status": "completed"
    },
    "tags": []
   },
   "outputs": [
    {
     "data": {
      "text/html": [
       "<div>\n",
       "<style scoped>\n",
       "    .dataframe tbody tr th:only-of-type {\n",
       "        vertical-align: middle;\n",
       "    }\n",
       "\n",
       "    .dataframe tbody tr th {\n",
       "        vertical-align: top;\n",
       "    }\n",
       "\n",
       "    .dataframe thead th {\n",
       "        text-align: right;\n",
       "    }\n",
       "</style>\n",
       "<table border=\"1\" class=\"dataframe\">\n",
       "  <thead>\n",
       "    <tr style=\"text-align: right;\">\n",
       "      <th></th>\n",
       "      <th>key</th>\n",
       "      <th>value_x</th>\n",
       "      <th>value_y</th>\n",
       "    </tr>\n",
       "  </thead>\n",
       "  <tbody>\n",
       "    <tr>\n",
       "      <th>0</th>\n",
       "      <td>A</td>\n",
       "      <td>0.615232</td>\n",
       "      <td>NaN</td>\n",
       "    </tr>\n",
       "    <tr>\n",
       "      <th>1</th>\n",
       "      <td>B</td>\n",
       "      <td>0.360508</td>\n",
       "      <td>1.391027</td>\n",
       "    </tr>\n",
       "    <tr>\n",
       "      <th>2</th>\n",
       "      <td>C</td>\n",
       "      <td>0.657371</td>\n",
       "      <td>NaN</td>\n",
       "    </tr>\n",
       "    <tr>\n",
       "      <th>3</th>\n",
       "      <td>D</td>\n",
       "      <td>0.880773</td>\n",
       "      <td>1.179134</td>\n",
       "    </tr>\n",
       "    <tr>\n",
       "      <th>4</th>\n",
       "      <td>D</td>\n",
       "      <td>0.880773</td>\n",
       "      <td>1.148272</td>\n",
       "    </tr>\n",
       "    <tr>\n",
       "      <th>5</th>\n",
       "      <td>E</td>\n",
       "      <td>NaN</td>\n",
       "      <td>1.026578</td>\n",
       "    </tr>\n",
       "  </tbody>\n",
       "</table>\n",
       "</div>"
      ],
      "text/plain": [
       "  key   value_x   value_y\n",
       "0   A  0.615232       NaN\n",
       "1   B  0.360508  1.391027\n",
       "2   C  0.657371       NaN\n",
       "3   D  0.880773  1.179134\n",
       "4   D  0.880773  1.148272\n",
       "5   E       NaN  1.026578"
      ]
     },
     "execution_count": 98,
     "metadata": {},
     "output_type": "execute_result"
    }
   ],
   "source": [
    "pd.merge(df1, df2, on=\"key\", how=\"outer\")"
   ]
  },
  {
   "cell_type": "code",
   "execution_count": 99,
   "id": "81685b61",
   "metadata": {
    "execution": {
     "iopub.execute_input": "2023-08-24T14:31:46.399880Z",
     "iopub.status.busy": "2023-08-24T14:31:46.399082Z",
     "iopub.status.idle": "2023-08-24T14:31:46.412795Z",
     "shell.execute_reply": "2023-08-24T14:31:46.411632Z"
    },
    "papermill": {
     "duration": 0.087995,
     "end_time": "2023-08-24T14:31:46.415342",
     "exception": false,
     "start_time": "2023-08-24T14:31:46.327347",
     "status": "completed"
    },
    "tags": []
   },
   "outputs": [
    {
     "data": {
      "text/html": [
       "<div>\n",
       "<style scoped>\n",
       "    .dataframe tbody tr th:only-of-type {\n",
       "        vertical-align: middle;\n",
       "    }\n",
       "\n",
       "    .dataframe tbody tr th {\n",
       "        vertical-align: top;\n",
       "    }\n",
       "\n",
       "    .dataframe thead th {\n",
       "        text-align: right;\n",
       "    }\n",
       "</style>\n",
       "<table border=\"1\" class=\"dataframe\">\n",
       "  <thead>\n",
       "    <tr style=\"text-align: right;\">\n",
       "      <th></th>\n",
       "      <th>city</th>\n",
       "      <th>rank</th>\n",
       "    </tr>\n",
       "  </thead>\n",
       "  <tbody>\n",
       "    <tr>\n",
       "      <th>0</th>\n",
       "      <td>Chicago</td>\n",
       "      <td>1</td>\n",
       "    </tr>\n",
       "    <tr>\n",
       "      <th>1</th>\n",
       "      <td>San Francisco</td>\n",
       "      <td>2</td>\n",
       "    </tr>\n",
       "    <tr>\n",
       "      <th>2</th>\n",
       "      <td>New York City</td>\n",
       "      <td>3</td>\n",
       "    </tr>\n",
       "    <tr>\n",
       "      <th>0</th>\n",
       "      <td>Chicago</td>\n",
       "      <td>1</td>\n",
       "    </tr>\n",
       "    <tr>\n",
       "      <th>1</th>\n",
       "      <td>Boston</td>\n",
       "      <td>4</td>\n",
       "    </tr>\n",
       "    <tr>\n",
       "      <th>2</th>\n",
       "      <td>Los Angeles</td>\n",
       "      <td>5</td>\n",
       "    </tr>\n",
       "  </tbody>\n",
       "</table>\n",
       "</div>"
      ],
      "text/plain": [
       "            city  rank\n",
       "0        Chicago     1\n",
       "1  San Francisco     2\n",
       "2  New York City     3\n",
       "0        Chicago     1\n",
       "1         Boston     4\n",
       "2    Los Angeles     5"
      ]
     },
     "execution_count": 99,
     "metadata": {},
     "output_type": "execute_result"
    }
   ],
   "source": [
    "df1 = pd.DataFrame({\"city\": [\"Chicago\", \"San Francisco\", \"New York City\"], \"rank\": range(1, 4)})\n",
    "\n",
    "df2 = pd.DataFrame({\"city\": [\"Chicago\", \"Boston\", \"Los Angeles\"], \"rank\": [1, 4, 5]})\n",
    "\n",
    "\n",
    "pd.concat([df1, df2])"
   ]
  },
  {
   "cell_type": "code",
   "execution_count": 100,
   "id": "f8a618da",
   "metadata": {
    "execution": {
     "iopub.execute_input": "2023-08-24T14:31:46.560648Z",
     "iopub.status.busy": "2023-08-24T14:31:46.560267Z",
     "iopub.status.idle": "2023-08-24T14:31:46.572074Z",
     "shell.execute_reply": "2023-08-24T14:31:46.570999Z"
    },
    "papermill": {
     "duration": 0.088284,
     "end_time": "2023-08-24T14:31:46.574284",
     "exception": false,
     "start_time": "2023-08-24T14:31:46.486000",
     "status": "completed"
    },
    "tags": []
   },
   "outputs": [
    {
     "data": {
      "text/html": [
       "<div>\n",
       "<style scoped>\n",
       "    .dataframe tbody tr th:only-of-type {\n",
       "        vertical-align: middle;\n",
       "    }\n",
       "\n",
       "    .dataframe tbody tr th {\n",
       "        vertical-align: top;\n",
       "    }\n",
       "\n",
       "    .dataframe thead th {\n",
       "        text-align: right;\n",
       "    }\n",
       "</style>\n",
       "<table border=\"1\" class=\"dataframe\">\n",
       "  <thead>\n",
       "    <tr style=\"text-align: right;\">\n",
       "      <th></th>\n",
       "      <th>city</th>\n",
       "      <th>rank</th>\n",
       "    </tr>\n",
       "  </thead>\n",
       "  <tbody>\n",
       "    <tr>\n",
       "      <th>0</th>\n",
       "      <td>Chicago</td>\n",
       "      <td>1</td>\n",
       "    </tr>\n",
       "    <tr>\n",
       "      <th>1</th>\n",
       "      <td>San Francisco</td>\n",
       "      <td>2</td>\n",
       "    </tr>\n",
       "    <tr>\n",
       "      <th>2</th>\n",
       "      <td>New York City</td>\n",
       "      <td>3</td>\n",
       "    </tr>\n",
       "    <tr>\n",
       "      <th>1</th>\n",
       "      <td>Boston</td>\n",
       "      <td>4</td>\n",
       "    </tr>\n",
       "    <tr>\n",
       "      <th>2</th>\n",
       "      <td>Los Angeles</td>\n",
       "      <td>5</td>\n",
       "    </tr>\n",
       "  </tbody>\n",
       "</table>\n",
       "</div>"
      ],
      "text/plain": [
       "            city  rank\n",
       "0        Chicago     1\n",
       "1  San Francisco     2\n",
       "2  New York City     3\n",
       "1         Boston     4\n",
       "2    Los Angeles     5"
      ]
     },
     "execution_count": 100,
     "metadata": {},
     "output_type": "execute_result"
    }
   ],
   "source": [
    "pd.concat([df1, df2]).drop_duplicates()"
   ]
  },
  {
   "cell_type": "code",
   "execution_count": 101,
   "id": "3827f5ed",
   "metadata": {
    "execution": {
     "iopub.execute_input": "2023-08-24T14:31:46.717443Z",
     "iopub.status.busy": "2023-08-24T14:31:46.716742Z",
     "iopub.status.idle": "2023-08-24T14:31:46.727422Z",
     "shell.execute_reply": "2023-08-24T14:31:46.726344Z"
    },
    "papermill": {
     "duration": 0.08524,
     "end_time": "2023-08-24T14:31:46.729746",
     "exception": false,
     "start_time": "2023-08-24T14:31:46.644506",
     "status": "completed"
    },
    "tags": []
   },
   "outputs": [
    {
     "data": {
      "text/html": [
       "<div>\n",
       "<style scoped>\n",
       "    .dataframe tbody tr th:only-of-type {\n",
       "        vertical-align: middle;\n",
       "    }\n",
       "\n",
       "    .dataframe tbody tr th {\n",
       "        vertical-align: top;\n",
       "    }\n",
       "\n",
       "    .dataframe thead th {\n",
       "        text-align: right;\n",
       "    }\n",
       "</style>\n",
       "<table border=\"1\" class=\"dataframe\">\n",
       "  <thead>\n",
       "    <tr style=\"text-align: right;\">\n",
       "      <th></th>\n",
       "      <th>x</th>\n",
       "      <th>y</th>\n",
       "    </tr>\n",
       "  </thead>\n",
       "  <tbody>\n",
       "    <tr>\n",
       "      <th>0</th>\n",
       "      <td>1</td>\n",
       "      <td>2</td>\n",
       "    </tr>\n",
       "    <tr>\n",
       "      <th>1</th>\n",
       "      <td>3</td>\n",
       "      <td>4</td>\n",
       "    </tr>\n",
       "    <tr>\n",
       "      <th>2</th>\n",
       "      <td>5</td>\n",
       "      <td>6</td>\n",
       "    </tr>\n",
       "  </tbody>\n",
       "</table>\n",
       "</div>"
      ],
      "text/plain": [
       "   x  y\n",
       "0  1  2\n",
       "1  3  4\n",
       "2  5  6"
      ]
     },
     "execution_count": 101,
     "metadata": {},
     "output_type": "execute_result"
    }
   ],
   "source": [
    "df = pd.DataFrame({\"x\": [1, 3, 5], \"y\": [2, 4, 6]})\n",
    "df"
   ]
  },
  {
   "cell_type": "code",
   "execution_count": 102,
   "id": "d7da9ffe",
   "metadata": {
    "execution": {
     "iopub.execute_input": "2023-08-24T14:31:46.876367Z",
     "iopub.status.busy": "2023-08-24T14:31:46.875983Z",
     "iopub.status.idle": "2023-08-24T14:31:46.889096Z",
     "shell.execute_reply": "2023-08-24T14:31:46.888215Z"
    },
    "papermill": {
     "duration": 0.090559,
     "end_time": "2023-08-24T14:31:46.891215",
     "exception": false,
     "start_time": "2023-08-24T14:31:46.800656",
     "status": "completed"
    },
    "tags": []
   },
   "outputs": [
    {
     "data": {
      "text/html": [
       "<div>\n",
       "<style scoped>\n",
       "    .dataframe tbody tr th:only-of-type {\n",
       "        vertical-align: middle;\n",
       "    }\n",
       "\n",
       "    .dataframe tbody tr th {\n",
       "        vertical-align: top;\n",
       "    }\n",
       "\n",
       "    .dataframe thead th {\n",
       "        text-align: right;\n",
       "    }\n",
       "</style>\n",
       "<table border=\"1\" class=\"dataframe\">\n",
       "  <thead>\n",
       "    <tr style=\"text-align: right;\">\n",
       "      <th></th>\n",
       "      <th>String</th>\n",
       "      <th>First_Name</th>\n",
       "      <th>Last_Name</th>\n",
       "    </tr>\n",
       "  </thead>\n",
       "  <tbody>\n",
       "    <tr>\n",
       "      <th>0</th>\n",
       "      <td>John Smith</td>\n",
       "      <td>John</td>\n",
       "      <td>Smith</td>\n",
       "    </tr>\n",
       "    <tr>\n",
       "      <th>1</th>\n",
       "      <td>Jane Cook</td>\n",
       "      <td>Jane</td>\n",
       "      <td>Cook</td>\n",
       "    </tr>\n",
       "  </tbody>\n",
       "</table>\n",
       "</div>"
      ],
      "text/plain": [
       "       String First_Name Last_Name\n",
       "0  John Smith       John     Smith\n",
       "1   Jane Cook       Jane      Cook"
      ]
     },
     "execution_count": 102,
     "metadata": {},
     "output_type": "execute_result"
    }
   ],
   "source": [
    "firstlast = pd.DataFrame({\"String\": [\"John Smith\", \"Jane Cook\"]})\n",
    "firstlast[\"First_Name\"] = firstlast[\"String\"].str.split(\" \", expand=True)[0]\n",
    "firstlast[\"Last_Name\"] = firstlast[\"String\"].str.rsplit(\" \", expand=True)[1]\n",
    "firstlast"
   ]
  },
  {
   "cell_type": "code",
   "execution_count": 103,
   "id": "bcd30493",
   "metadata": {
    "execution": {
     "iopub.execute_input": "2023-08-24T14:31:47.036805Z",
     "iopub.status.busy": "2023-08-24T14:31:47.035832Z",
     "iopub.status.idle": "2023-08-24T14:31:47.050554Z",
     "shell.execute_reply": "2023-08-24T14:31:47.049461Z"
    },
    "papermill": {
     "duration": 0.091142,
     "end_time": "2023-08-24T14:31:47.053286",
     "exception": false,
     "start_time": "2023-08-24T14:31:46.962144",
     "status": "completed"
    },
    "tags": []
   },
   "outputs": [
    {
     "data": {
      "text/html": [
       "<div>\n",
       "<style scoped>\n",
       "    .dataframe tbody tr th:only-of-type {\n",
       "        vertical-align: middle;\n",
       "    }\n",
       "\n",
       "    .dataframe tbody tr th {\n",
       "        vertical-align: top;\n",
       "    }\n",
       "\n",
       "    .dataframe thead th {\n",
       "        text-align: right;\n",
       "    }\n",
       "</style>\n",
       "<table border=\"1\" class=\"dataframe\">\n",
       "  <thead>\n",
       "    <tr style=\"text-align: right;\">\n",
       "      <th></th>\n",
       "      <th>string</th>\n",
       "      <th>upper</th>\n",
       "      <th>lower</th>\n",
       "      <th>title</th>\n",
       "    </tr>\n",
       "  </thead>\n",
       "  <tbody>\n",
       "    <tr>\n",
       "      <th>0</th>\n",
       "      <td>John Smith</td>\n",
       "      <td>JOHN SMITH</td>\n",
       "      <td>john smith</td>\n",
       "      <td>John Smith</td>\n",
       "    </tr>\n",
       "    <tr>\n",
       "      <th>1</th>\n",
       "      <td>Jane Cook</td>\n",
       "      <td>JANE COOK</td>\n",
       "      <td>jane cook</td>\n",
       "      <td>Jane Cook</td>\n",
       "    </tr>\n",
       "  </tbody>\n",
       "</table>\n",
       "</div>"
      ],
      "text/plain": [
       "       string       upper       lower       title\n",
       "0  John Smith  JOHN SMITH  john smith  John Smith\n",
       "1   Jane Cook   JANE COOK   jane cook   Jane Cook"
      ]
     },
     "execution_count": 103,
     "metadata": {},
     "output_type": "execute_result"
    }
   ],
   "source": [
    "firstlast = pd.DataFrame({\"string\": [\"John Smith\", \"Jane Cook\"]})\n",
    "firstlast[\"upper\"] = firstlast[\"string\"].str.upper()\n",
    "firstlast[\"lower\"] = firstlast[\"string\"].str.lower()\n",
    "firstlast[\"title\"] = firstlast[\"string\"].str.title()\n",
    "firstlast"
   ]
  },
  {
   "cell_type": "code",
   "execution_count": 104,
   "id": "ce6f8c7b",
   "metadata": {
    "execution": {
     "iopub.execute_input": "2023-08-24T14:31:47.197882Z",
     "iopub.status.busy": "2023-08-24T14:31:47.197511Z",
     "iopub.status.idle": "2023-08-24T14:31:47.209279Z",
     "shell.execute_reply": "2023-08-24T14:31:47.207847Z"
    },
    "papermill": {
     "duration": 0.086935,
     "end_time": "2023-08-24T14:31:47.211701",
     "exception": false,
     "start_time": "2023-08-24T14:31:47.124766",
     "status": "completed"
    },
    "tags": []
   },
   "outputs": [
    {
     "data": {
      "text/html": [
       "<div>\n",
       "<style scoped>\n",
       "    .dataframe tbody tr th:only-of-type {\n",
       "        vertical-align: middle;\n",
       "    }\n",
       "\n",
       "    .dataframe tbody tr th {\n",
       "        vertical-align: top;\n",
       "    }\n",
       "\n",
       "    .dataframe thead th {\n",
       "        text-align: right;\n",
       "    }\n",
       "</style>\n",
       "<table border=\"1\" class=\"dataframe\">\n",
       "  <thead>\n",
       "    <tr style=\"text-align: right;\">\n",
       "      <th></th>\n",
       "      <th>key</th>\n",
       "      <th>value</th>\n",
       "    </tr>\n",
       "  </thead>\n",
       "  <tbody>\n",
       "    <tr>\n",
       "      <th>0</th>\n",
       "      <td>A</td>\n",
       "      <td>0.591636</td>\n",
       "    </tr>\n",
       "    <tr>\n",
       "      <th>1</th>\n",
       "      <td>B</td>\n",
       "      <td>0.040412</td>\n",
       "    </tr>\n",
       "    <tr>\n",
       "      <th>2</th>\n",
       "      <td>C</td>\n",
       "      <td>1.700248</td>\n",
       "    </tr>\n",
       "    <tr>\n",
       "      <th>3</th>\n",
       "      <td>D</td>\n",
       "      <td>0.891708</td>\n",
       "    </tr>\n",
       "  </tbody>\n",
       "</table>\n",
       "</div>"
      ],
      "text/plain": [
       "  key     value\n",
       "0   A  0.591636\n",
       "1   B  0.040412\n",
       "2   C  1.700248\n",
       "3   D  0.891708"
      ]
     },
     "execution_count": 104,
     "metadata": {},
     "output_type": "execute_result"
    }
   ],
   "source": [
    "df1 = pd.DataFrame({\"key\": [\"A\", \"B\", \"C\", \"D\"], \"value\": np.random.randn(4)})\n",
    "df1"
   ]
  },
  {
   "cell_type": "code",
   "execution_count": 105,
   "id": "7d098782",
   "metadata": {
    "execution": {
     "iopub.execute_input": "2023-08-24T14:31:47.356684Z",
     "iopub.status.busy": "2023-08-24T14:31:47.355705Z",
     "iopub.status.idle": "2023-08-24T14:31:47.367587Z",
     "shell.execute_reply": "2023-08-24T14:31:47.366603Z"
    },
    "papermill": {
     "duration": 0.086711,
     "end_time": "2023-08-24T14:31:47.369831",
     "exception": false,
     "start_time": "2023-08-24T14:31:47.283120",
     "status": "completed"
    },
    "tags": []
   },
   "outputs": [
    {
     "data": {
      "text/html": [
       "<div>\n",
       "<style scoped>\n",
       "    .dataframe tbody tr th:only-of-type {\n",
       "        vertical-align: middle;\n",
       "    }\n",
       "\n",
       "    .dataframe tbody tr th {\n",
       "        vertical-align: top;\n",
       "    }\n",
       "\n",
       "    .dataframe thead th {\n",
       "        text-align: right;\n",
       "    }\n",
       "</style>\n",
       "<table border=\"1\" class=\"dataframe\">\n",
       "  <thead>\n",
       "    <tr style=\"text-align: right;\">\n",
       "      <th></th>\n",
       "      <th>key</th>\n",
       "      <th>value</th>\n",
       "    </tr>\n",
       "  </thead>\n",
       "  <tbody>\n",
       "    <tr>\n",
       "      <th>0</th>\n",
       "      <td>B</td>\n",
       "      <td>0.316323</td>\n",
       "    </tr>\n",
       "    <tr>\n",
       "      <th>1</th>\n",
       "      <td>D</td>\n",
       "      <td>-0.162670</td>\n",
       "    </tr>\n",
       "    <tr>\n",
       "      <th>2</th>\n",
       "      <td>D</td>\n",
       "      <td>0.725229</td>\n",
       "    </tr>\n",
       "    <tr>\n",
       "      <th>3</th>\n",
       "      <td>E</td>\n",
       "      <td>-0.319787</td>\n",
       "    </tr>\n",
       "  </tbody>\n",
       "</table>\n",
       "</div>"
      ],
      "text/plain": [
       "  key     value\n",
       "0   B  0.316323\n",
       "1   D -0.162670\n",
       "2   D  0.725229\n",
       "3   E -0.319787"
      ]
     },
     "execution_count": 105,
     "metadata": {},
     "output_type": "execute_result"
    }
   ],
   "source": [
    "df2 = pd.DataFrame({\"key\": [\"B\", \"D\", \"D\", \"E\"], \"value\": np.random.randn(4)})\n",
    "df2"
   ]
  },
  {
   "cell_type": "code",
   "execution_count": 106,
   "id": "e75a8f17",
   "metadata": {
    "execution": {
     "iopub.execute_input": "2023-08-24T14:31:47.515641Z",
     "iopub.status.busy": "2023-08-24T14:31:47.515256Z",
     "iopub.status.idle": "2023-08-24T14:31:47.529648Z",
     "shell.execute_reply": "2023-08-24T14:31:47.528670Z"
    },
    "papermill": {
     "duration": 0.089492,
     "end_time": "2023-08-24T14:31:47.531764",
     "exception": false,
     "start_time": "2023-08-24T14:31:47.442272",
     "status": "completed"
    },
    "tags": []
   },
   "outputs": [
    {
     "data": {
      "text/html": [
       "<div>\n",
       "<style scoped>\n",
       "    .dataframe tbody tr th:only-of-type {\n",
       "        vertical-align: middle;\n",
       "    }\n",
       "\n",
       "    .dataframe tbody tr th {\n",
       "        vertical-align: top;\n",
       "    }\n",
       "\n",
       "    .dataframe thead th {\n",
       "        text-align: right;\n",
       "    }\n",
       "</style>\n",
       "<table border=\"1\" class=\"dataframe\">\n",
       "  <thead>\n",
       "    <tr style=\"text-align: right;\">\n",
       "      <th></th>\n",
       "      <th>key</th>\n",
       "      <th>value_x</th>\n",
       "      <th>value_y</th>\n",
       "    </tr>\n",
       "  </thead>\n",
       "  <tbody>\n",
       "    <tr>\n",
       "      <th>0</th>\n",
       "      <td>B</td>\n",
       "      <td>0.040412</td>\n",
       "      <td>0.316323</td>\n",
       "    </tr>\n",
       "    <tr>\n",
       "      <th>1</th>\n",
       "      <td>D</td>\n",
       "      <td>0.891708</td>\n",
       "      <td>-0.162670</td>\n",
       "    </tr>\n",
       "    <tr>\n",
       "      <th>2</th>\n",
       "      <td>D</td>\n",
       "      <td>0.891708</td>\n",
       "      <td>0.725229</td>\n",
       "    </tr>\n",
       "  </tbody>\n",
       "</table>\n",
       "</div>"
      ],
      "text/plain": [
       "  key   value_x   value_y\n",
       "0   B  0.040412  0.316323\n",
       "1   D  0.891708 -0.162670\n",
       "2   D  0.891708  0.725229"
      ]
     },
     "execution_count": 106,
     "metadata": {},
     "output_type": "execute_result"
    }
   ],
   "source": [
    "inner_join = df1.merge(df2, on=[\"key\"], how=\"inner\")\n",
    "inner_join"
   ]
  },
  {
   "cell_type": "code",
   "execution_count": 107,
   "id": "d615075f",
   "metadata": {
    "execution": {
     "iopub.execute_input": "2023-08-24T14:31:47.677024Z",
     "iopub.status.busy": "2023-08-24T14:31:47.676359Z",
     "iopub.status.idle": "2023-08-24T14:31:47.690684Z",
     "shell.execute_reply": "2023-08-24T14:31:47.689498Z"
    },
    "papermill": {
     "duration": 0.089528,
     "end_time": "2023-08-24T14:31:47.692942",
     "exception": false,
     "start_time": "2023-08-24T14:31:47.603414",
     "status": "completed"
    },
    "tags": []
   },
   "outputs": [
    {
     "data": {
      "text/html": [
       "<div>\n",
       "<style scoped>\n",
       "    .dataframe tbody tr th:only-of-type {\n",
       "        vertical-align: middle;\n",
       "    }\n",
       "\n",
       "    .dataframe tbody tr th {\n",
       "        vertical-align: top;\n",
       "    }\n",
       "\n",
       "    .dataframe thead th {\n",
       "        text-align: right;\n",
       "    }\n",
       "</style>\n",
       "<table border=\"1\" class=\"dataframe\">\n",
       "  <thead>\n",
       "    <tr style=\"text-align: right;\">\n",
       "      <th></th>\n",
       "      <th>key</th>\n",
       "      <th>value_x</th>\n",
       "      <th>value_y</th>\n",
       "    </tr>\n",
       "  </thead>\n",
       "  <tbody>\n",
       "    <tr>\n",
       "      <th>0</th>\n",
       "      <td>A</td>\n",
       "      <td>0.591636</td>\n",
       "      <td>NaN</td>\n",
       "    </tr>\n",
       "    <tr>\n",
       "      <th>1</th>\n",
       "      <td>B</td>\n",
       "      <td>0.040412</td>\n",
       "      <td>0.316323</td>\n",
       "    </tr>\n",
       "    <tr>\n",
       "      <th>2</th>\n",
       "      <td>C</td>\n",
       "      <td>1.700248</td>\n",
       "      <td>NaN</td>\n",
       "    </tr>\n",
       "    <tr>\n",
       "      <th>3</th>\n",
       "      <td>D</td>\n",
       "      <td>0.891708</td>\n",
       "      <td>-0.162670</td>\n",
       "    </tr>\n",
       "    <tr>\n",
       "      <th>4</th>\n",
       "      <td>D</td>\n",
       "      <td>0.891708</td>\n",
       "      <td>0.725229</td>\n",
       "    </tr>\n",
       "  </tbody>\n",
       "</table>\n",
       "</div>"
      ],
      "text/plain": [
       "  key   value_x   value_y\n",
       "0   A  0.591636       NaN\n",
       "1   B  0.040412  0.316323\n",
       "2   C  1.700248       NaN\n",
       "3   D  0.891708 -0.162670\n",
       "4   D  0.891708  0.725229"
      ]
     },
     "execution_count": 107,
     "metadata": {},
     "output_type": "execute_result"
    }
   ],
   "source": [
    "left_join = df1.merge(df2, on=[\"key\"], how=\"left\")\n",
    "left_join"
   ]
  },
  {
   "cell_type": "code",
   "execution_count": 108,
   "id": "7879389e",
   "metadata": {
    "execution": {
     "iopub.execute_input": "2023-08-24T14:31:47.900391Z",
     "iopub.status.busy": "2023-08-24T14:31:47.899995Z",
     "iopub.status.idle": "2023-08-24T14:31:47.915190Z",
     "shell.execute_reply": "2023-08-24T14:31:47.914206Z"
    },
    "papermill": {
     "duration": 0.152627,
     "end_time": "2023-08-24T14:31:47.917381",
     "exception": false,
     "start_time": "2023-08-24T14:31:47.764754",
     "status": "completed"
    },
    "tags": []
   },
   "outputs": [
    {
     "data": {
      "text/html": [
       "<div>\n",
       "<style scoped>\n",
       "    .dataframe tbody tr th:only-of-type {\n",
       "        vertical-align: middle;\n",
       "    }\n",
       "\n",
       "    .dataframe tbody tr th {\n",
       "        vertical-align: top;\n",
       "    }\n",
       "\n",
       "    .dataframe thead th {\n",
       "        text-align: right;\n",
       "    }\n",
       "</style>\n",
       "<table border=\"1\" class=\"dataframe\">\n",
       "  <thead>\n",
       "    <tr style=\"text-align: right;\">\n",
       "      <th></th>\n",
       "      <th>key</th>\n",
       "      <th>value_x</th>\n",
       "      <th>value_y</th>\n",
       "    </tr>\n",
       "  </thead>\n",
       "  <tbody>\n",
       "    <tr>\n",
       "      <th>0</th>\n",
       "      <td>B</td>\n",
       "      <td>0.040412</td>\n",
       "      <td>0.316323</td>\n",
       "    </tr>\n",
       "    <tr>\n",
       "      <th>1</th>\n",
       "      <td>D</td>\n",
       "      <td>0.891708</td>\n",
       "      <td>-0.162670</td>\n",
       "    </tr>\n",
       "    <tr>\n",
       "      <th>2</th>\n",
       "      <td>D</td>\n",
       "      <td>0.891708</td>\n",
       "      <td>0.725229</td>\n",
       "    </tr>\n",
       "    <tr>\n",
       "      <th>3</th>\n",
       "      <td>E</td>\n",
       "      <td>NaN</td>\n",
       "      <td>-0.319787</td>\n",
       "    </tr>\n",
       "  </tbody>\n",
       "</table>\n",
       "</div>"
      ],
      "text/plain": [
       "  key   value_x   value_y\n",
       "0   B  0.040412  0.316323\n",
       "1   D  0.891708 -0.162670\n",
       "2   D  0.891708  0.725229\n",
       "3   E       NaN -0.319787"
      ]
     },
     "execution_count": 108,
     "metadata": {},
     "output_type": "execute_result"
    }
   ],
   "source": [
    "right_join = df1.merge(df2, on=[\"key\"], how=\"right\")\n",
    "right_join"
   ]
  },
  {
   "cell_type": "code",
   "execution_count": 109,
   "id": "21d98940",
   "metadata": {
    "execution": {
     "iopub.execute_input": "2023-08-24T14:31:48.066014Z",
     "iopub.status.busy": "2023-08-24T14:31:48.065624Z",
     "iopub.status.idle": "2023-08-24T14:31:48.081139Z",
     "shell.execute_reply": "2023-08-24T14:31:48.080167Z"
    },
    "papermill": {
     "duration": 0.093467,
     "end_time": "2023-08-24T14:31:48.083497",
     "exception": false,
     "start_time": "2023-08-24T14:31:47.990030",
     "status": "completed"
    },
    "tags": []
   },
   "outputs": [
    {
     "data": {
      "text/html": [
       "<div>\n",
       "<style scoped>\n",
       "    .dataframe tbody tr th:only-of-type {\n",
       "        vertical-align: middle;\n",
       "    }\n",
       "\n",
       "    .dataframe tbody tr th {\n",
       "        vertical-align: top;\n",
       "    }\n",
       "\n",
       "    .dataframe thead th {\n",
       "        text-align: right;\n",
       "    }\n",
       "</style>\n",
       "<table border=\"1\" class=\"dataframe\">\n",
       "  <thead>\n",
       "    <tr style=\"text-align: right;\">\n",
       "      <th></th>\n",
       "      <th>key</th>\n",
       "      <th>value_x</th>\n",
       "      <th>value_y</th>\n",
       "    </tr>\n",
       "  </thead>\n",
       "  <tbody>\n",
       "    <tr>\n",
       "      <th>0</th>\n",
       "      <td>A</td>\n",
       "      <td>0.591636</td>\n",
       "      <td>NaN</td>\n",
       "    </tr>\n",
       "    <tr>\n",
       "      <th>1</th>\n",
       "      <td>B</td>\n",
       "      <td>0.040412</td>\n",
       "      <td>0.316323</td>\n",
       "    </tr>\n",
       "    <tr>\n",
       "      <th>2</th>\n",
       "      <td>C</td>\n",
       "      <td>1.700248</td>\n",
       "      <td>NaN</td>\n",
       "    </tr>\n",
       "    <tr>\n",
       "      <th>3</th>\n",
       "      <td>D</td>\n",
       "      <td>0.891708</td>\n",
       "      <td>-0.162670</td>\n",
       "    </tr>\n",
       "    <tr>\n",
       "      <th>4</th>\n",
       "      <td>D</td>\n",
       "      <td>0.891708</td>\n",
       "      <td>0.725229</td>\n",
       "    </tr>\n",
       "    <tr>\n",
       "      <th>5</th>\n",
       "      <td>E</td>\n",
       "      <td>NaN</td>\n",
       "      <td>-0.319787</td>\n",
       "    </tr>\n",
       "  </tbody>\n",
       "</table>\n",
       "</div>"
      ],
      "text/plain": [
       "  key   value_x   value_y\n",
       "0   A  0.591636       NaN\n",
       "1   B  0.040412  0.316323\n",
       "2   C  1.700248       NaN\n",
       "3   D  0.891708 -0.162670\n",
       "4   D  0.891708  0.725229\n",
       "5   E       NaN -0.319787"
      ]
     },
     "execution_count": 109,
     "metadata": {},
     "output_type": "execute_result"
    }
   ],
   "source": [
    "outer_join = df1.merge(df2, on=[\"key\"], how=\"outer\")\n",
    "outer_join"
   ]
  },
  {
   "cell_type": "code",
   "execution_count": 110,
   "id": "00abac10",
   "metadata": {
    "execution": {
     "iopub.execute_input": "2023-08-24T14:31:48.231835Z",
     "iopub.status.busy": "2023-08-24T14:31:48.231448Z",
     "iopub.status.idle": "2023-08-24T14:31:48.241287Z",
     "shell.execute_reply": "2023-08-24T14:31:48.240531Z"
    },
    "papermill": {
     "duration": 0.086162,
     "end_time": "2023-08-24T14:31:48.243349",
     "exception": false,
     "start_time": "2023-08-24T14:31:48.157187",
     "status": "completed"
    },
    "tags": []
   },
   "outputs": [
    {
     "data": {
      "text/html": [
       "<div>\n",
       "<style scoped>\n",
       "    .dataframe tbody tr th:only-of-type {\n",
       "        vertical-align: middle;\n",
       "    }\n",
       "\n",
       "    .dataframe tbody tr th {\n",
       "        vertical-align: top;\n",
       "    }\n",
       "\n",
       "    .dataframe thead th {\n",
       "        text-align: right;\n",
       "    }\n",
       "</style>\n",
       "<table border=\"1\" class=\"dataframe\">\n",
       "  <thead>\n",
       "    <tr style=\"text-align: right;\">\n",
       "      <th></th>\n",
       "      <th>AAA</th>\n",
       "      <th>BBB</th>\n",
       "    </tr>\n",
       "  </thead>\n",
       "  <tbody>\n",
       "    <tr>\n",
       "      <th>0</th>\n",
       "      <td>1</td>\n",
       "      <td>0</td>\n",
       "    </tr>\n",
       "    <tr>\n",
       "      <th>1</th>\n",
       "      <td>1</td>\n",
       "      <td>1</td>\n",
       "    </tr>\n",
       "    <tr>\n",
       "      <th>2</th>\n",
       "      <td>1</td>\n",
       "      <td>2</td>\n",
       "    </tr>\n",
       "    <tr>\n",
       "      <th>3</th>\n",
       "      <td>1</td>\n",
       "      <td>3</td>\n",
       "    </tr>\n",
       "    <tr>\n",
       "      <th>4</th>\n",
       "      <td>1</td>\n",
       "      <td>4</td>\n",
       "    </tr>\n",
       "    <tr>\n",
       "      <th>5</th>\n",
       "      <td>1</td>\n",
       "      <td>5</td>\n",
       "    </tr>\n",
       "    <tr>\n",
       "      <th>6</th>\n",
       "      <td>1</td>\n",
       "      <td>6</td>\n",
       "    </tr>\n",
       "    <tr>\n",
       "      <th>7</th>\n",
       "      <td>1</td>\n",
       "      <td>7</td>\n",
       "    </tr>\n",
       "  </tbody>\n",
       "</table>\n",
       "</div>"
      ],
      "text/plain": [
       "   AAA  BBB\n",
       "0    1    0\n",
       "1    1    1\n",
       "2    1    2\n",
       "3    1    3\n",
       "4    1    4\n",
       "5    1    5\n",
       "6    1    6\n",
       "7    1    7"
      ]
     },
     "execution_count": 110,
     "metadata": {},
     "output_type": "execute_result"
    }
   ],
   "source": [
    "df = pd.DataFrame({\"AAA\": [1] * 8, \"BBB\": list(range(0, 8))})\n",
    "df"
   ]
  },
  {
   "cell_type": "code",
   "execution_count": 111,
   "id": "8cfd190a",
   "metadata": {
    "execution": {
     "iopub.execute_input": "2023-08-24T14:31:48.391702Z",
     "iopub.status.busy": "2023-08-24T14:31:48.391316Z",
     "iopub.status.idle": "2023-08-24T14:31:48.397495Z",
     "shell.execute_reply": "2023-08-24T14:31:48.396684Z"
    },
    "papermill": {
     "duration": 0.083084,
     "end_time": "2023-08-24T14:31:48.399577",
     "exception": false,
     "start_time": "2023-08-24T14:31:48.316493",
     "status": "completed"
    },
    "tags": []
   },
   "outputs": [
    {
     "data": {
      "text/plain": [
       "[1, 2, 3, 4]"
      ]
     },
     "execution_count": 111,
     "metadata": {},
     "output_type": "execute_result"
    }
   ],
   "source": [
    "series = list(range(1, 5))\n",
    "series"
   ]
  },
  {
   "cell_type": "code",
   "execution_count": 112,
   "id": "d12aafdb",
   "metadata": {
    "execution": {
     "iopub.execute_input": "2023-08-24T14:31:48.547976Z",
     "iopub.status.busy": "2023-08-24T14:31:48.547256Z",
     "iopub.status.idle": "2023-08-24T14:31:48.556295Z",
     "shell.execute_reply": "2023-08-24T14:31:48.555538Z"
    },
    "papermill": {
     "duration": 0.085505,
     "end_time": "2023-08-24T14:31:48.558426",
     "exception": false,
     "start_time": "2023-08-24T14:31:48.472921",
     "status": "completed"
    },
    "tags": []
   },
   "outputs": [
    {
     "data": {
      "text/html": [
       "<div>\n",
       "<style scoped>\n",
       "    .dataframe tbody tr th:only-of-type {\n",
       "        vertical-align: middle;\n",
       "    }\n",
       "\n",
       "    .dataframe tbody tr th {\n",
       "        vertical-align: top;\n",
       "    }\n",
       "\n",
       "    .dataframe thead th {\n",
       "        text-align: right;\n",
       "    }\n",
       "</style>\n",
       "<table border=\"1\" class=\"dataframe\">\n",
       "  <thead>\n",
       "    <tr style=\"text-align: right;\">\n",
       "      <th></th>\n",
       "      <th>AAA</th>\n",
       "      <th>BBB</th>\n",
       "    </tr>\n",
       "  </thead>\n",
       "  <tbody>\n",
       "    <tr>\n",
       "      <th>0</th>\n",
       "      <td>1</td>\n",
       "      <td>0</td>\n",
       "    </tr>\n",
       "    <tr>\n",
       "      <th>1</th>\n",
       "      <td>1</td>\n",
       "      <td>1</td>\n",
       "    </tr>\n",
       "    <tr>\n",
       "      <th>2</th>\n",
       "      <td>1</td>\n",
       "      <td>2</td>\n",
       "    </tr>\n",
       "    <tr>\n",
       "      <th>3</th>\n",
       "      <td>2</td>\n",
       "      <td>3</td>\n",
       "    </tr>\n",
       "    <tr>\n",
       "      <th>4</th>\n",
       "      <td>3</td>\n",
       "      <td>4</td>\n",
       "    </tr>\n",
       "    <tr>\n",
       "      <th>5</th>\n",
       "      <td>4</td>\n",
       "      <td>5</td>\n",
       "    </tr>\n",
       "    <tr>\n",
       "      <th>6</th>\n",
       "      <td>1</td>\n",
       "      <td>6</td>\n",
       "    </tr>\n",
       "    <tr>\n",
       "      <th>7</th>\n",
       "      <td>1</td>\n",
       "      <td>7</td>\n",
       "    </tr>\n",
       "  </tbody>\n",
       "</table>\n",
       "</div>"
      ],
      "text/plain": [
       "   AAA  BBB\n",
       "0    1    0\n",
       "1    1    1\n",
       "2    1    2\n",
       "3    2    3\n",
       "4    3    4\n",
       "5    4    5\n",
       "6    1    6\n",
       "7    1    7"
      ]
     },
     "execution_count": 112,
     "metadata": {},
     "output_type": "execute_result"
    }
   ],
   "source": [
    "df.loc[2:5, \"AAA\"] = series\n",
    "df"
   ]
  },
  {
   "cell_type": "code",
   "execution_count": 113,
   "id": "7927617c",
   "metadata": {
    "execution": {
     "iopub.execute_input": "2023-08-24T14:31:48.708422Z",
     "iopub.status.busy": "2023-08-24T14:31:48.707707Z",
     "iopub.status.idle": "2023-08-24T14:31:48.725772Z",
     "shell.execute_reply": "2023-08-24T14:31:48.724040Z"
    },
    "papermill": {
     "duration": 0.096541,
     "end_time": "2023-08-24T14:31:48.728488",
     "exception": false,
     "start_time": "2023-08-24T14:31:48.631947",
     "status": "completed"
    },
    "tags": []
   },
   "outputs": [
    {
     "data": {
      "text/html": [
       "<div>\n",
       "<style scoped>\n",
       "    .dataframe tbody tr th:only-of-type {\n",
       "        vertical-align: middle;\n",
       "    }\n",
       "\n",
       "    .dataframe tbody tr th {\n",
       "        vertical-align: top;\n",
       "    }\n",
       "\n",
       "    .dataframe thead th {\n",
       "        text-align: right;\n",
       "    }\n",
       "</style>\n",
       "<table border=\"1\" class=\"dataframe\">\n",
       "  <thead>\n",
       "    <tr style=\"text-align: right;\">\n",
       "      <th></th>\n",
       "      <th>class</th>\n",
       "      <th>student_count</th>\n",
       "      <th>all_pass</th>\n",
       "    </tr>\n",
       "  </thead>\n",
       "  <tbody>\n",
       "    <tr>\n",
       "      <th>0</th>\n",
       "      <td>A</td>\n",
       "      <td>42</td>\n",
       "      <td>Yes</td>\n",
       "    </tr>\n",
       "    <tr>\n",
       "      <th>1</th>\n",
       "      <td>A</td>\n",
       "      <td>35</td>\n",
       "      <td>Yes</td>\n",
       "    </tr>\n",
       "    <tr>\n",
       "      <th>3</th>\n",
       "      <td>B</td>\n",
       "      <td>50</td>\n",
       "      <td>No</td>\n",
       "    </tr>\n",
       "    <tr>\n",
       "      <th>4</th>\n",
       "      <td>C</td>\n",
       "      <td>47</td>\n",
       "      <td>No</td>\n",
       "    </tr>\n",
       "    <tr>\n",
       "      <th>5</th>\n",
       "      <td>D</td>\n",
       "      <td>45</td>\n",
       "      <td>Yes</td>\n",
       "    </tr>\n",
       "  </tbody>\n",
       "</table>\n",
       "</div>"
      ],
      "text/plain": [
       "  class  student_count all_pass\n",
       "0     A             42      Yes\n",
       "1     A             35      Yes\n",
       "3     B             50       No\n",
       "4     C             47       No\n",
       "5     D             45      Yes"
      ]
     },
     "execution_count": 113,
     "metadata": {},
     "output_type": "execute_result"
    }
   ],
   "source": [
    "df = pd.DataFrame({\n",
    "    \n",
    "\"class\": [\"A\", \"A\", \"A\", \"B\", \"C\", \"D\"],\n",
    "\"student_count\": [42, 35, 42, 50, 47, 45],\n",
    "\"all_pass\": [\"Yes\", \"Yes\", \"Yes\", \"No\", \"No\", \"Yes\"]\n",
    "    \n",
    "})\n",
    "\n",
    "df.drop_duplicates()"
   ]
  },
  {
   "cell_type": "code",
   "execution_count": 114,
   "id": "7343996a",
   "metadata": {
    "execution": {
     "iopub.execute_input": "2023-08-24T14:31:48.880645Z",
     "iopub.status.busy": "2023-08-24T14:31:48.880187Z",
     "iopub.status.idle": "2023-08-24T14:31:48.892727Z",
     "shell.execute_reply": "2023-08-24T14:31:48.891584Z"
    },
    "papermill": {
     "duration": 0.091653,
     "end_time": "2023-08-24T14:31:48.895155",
     "exception": false,
     "start_time": "2023-08-24T14:31:48.803502",
     "status": "completed"
    },
    "tags": []
   },
   "outputs": [
    {
     "data": {
      "text/html": [
       "<div>\n",
       "<style scoped>\n",
       "    .dataframe tbody tr th:only-of-type {\n",
       "        vertical-align: middle;\n",
       "    }\n",
       "\n",
       "    .dataframe tbody tr th {\n",
       "        vertical-align: top;\n",
       "    }\n",
       "\n",
       "    .dataframe thead th {\n",
       "        text-align: right;\n",
       "    }\n",
       "</style>\n",
       "<table border=\"1\" class=\"dataframe\">\n",
       "  <thead>\n",
       "    <tr style=\"text-align: right;\">\n",
       "      <th></th>\n",
       "      <th>class</th>\n",
       "      <th>student_count</th>\n",
       "      <th>all_pass</th>\n",
       "    </tr>\n",
       "  </thead>\n",
       "  <tbody>\n",
       "    <tr>\n",
       "      <th>0</th>\n",
       "      <td>A</td>\n",
       "      <td>42</td>\n",
       "      <td>Yes</td>\n",
       "    </tr>\n",
       "    <tr>\n",
       "      <th>1</th>\n",
       "      <td>A</td>\n",
       "      <td>35</td>\n",
       "      <td>Yes</td>\n",
       "    </tr>\n",
       "    <tr>\n",
       "      <th>3</th>\n",
       "      <td>B</td>\n",
       "      <td>50</td>\n",
       "      <td>No</td>\n",
       "    </tr>\n",
       "    <tr>\n",
       "      <th>4</th>\n",
       "      <td>C</td>\n",
       "      <td>47</td>\n",
       "      <td>No</td>\n",
       "    </tr>\n",
       "    <tr>\n",
       "      <th>5</th>\n",
       "      <td>D</td>\n",
       "      <td>45</td>\n",
       "      <td>Yes</td>\n",
       "    </tr>\n",
       "  </tbody>\n",
       "</table>\n",
       "</div>"
      ],
      "text/plain": [
       "  class  student_count all_pass\n",
       "0     A             42      Yes\n",
       "1     A             35      Yes\n",
       "3     B             50       No\n",
       "4     C             47       No\n",
       "5     D             45      Yes"
      ]
     },
     "execution_count": 114,
     "metadata": {},
     "output_type": "execute_result"
    }
   ],
   "source": [
    "df.drop_duplicates([\"class\", \"student_count\"])"
   ]
  },
  {
   "cell_type": "code",
   "execution_count": 115,
   "id": "9329bdb0",
   "metadata": {
    "execution": {
     "iopub.execute_input": "2023-08-24T14:31:49.060526Z",
     "iopub.status.busy": "2023-08-24T14:31:49.059601Z",
     "iopub.status.idle": "2023-08-24T14:31:49.072711Z",
     "shell.execute_reply": "2023-08-24T14:31:49.071667Z"
    },
    "papermill": {
     "duration": 0.091969,
     "end_time": "2023-08-24T14:31:49.074884",
     "exception": false,
     "start_time": "2023-08-24T14:31:48.982915",
     "status": "completed"
    },
    "tags": []
   },
   "outputs": [
    {
     "data": {
      "text/html": [
       "<div>\n",
       "<style scoped>\n",
       "    .dataframe tbody tr th:only-of-type {\n",
       "        vertical-align: middle;\n",
       "    }\n",
       "\n",
       "    .dataframe tbody tr th {\n",
       "        vertical-align: top;\n",
       "    }\n",
       "\n",
       "    .dataframe thead th {\n",
       "        text-align: right;\n",
       "    }\n",
       "</style>\n",
       "<table border=\"1\" class=\"dataframe\">\n",
       "  <thead>\n",
       "    <tr style=\"text-align: right;\">\n",
       "      <th></th>\n",
       "      <th>class</th>\n",
       "      <th>student_count</th>\n",
       "      <th>all_pass</th>\n",
       "    </tr>\n",
       "  </thead>\n",
       "  <tbody>\n",
       "    <tr>\n",
       "      <th>0</th>\n",
       "      <td>A</td>\n",
       "      <td>42</td>\n",
       "      <td>Yes</td>\n",
       "    </tr>\n",
       "    <tr>\n",
       "      <th>1</th>\n",
       "      <td>A</td>\n",
       "      <td>35</td>\n",
       "      <td>Yes</td>\n",
       "    </tr>\n",
       "    <tr>\n",
       "      <th>2</th>\n",
       "      <td>A</td>\n",
       "      <td>42</td>\n",
       "      <td>Yes</td>\n",
       "    </tr>\n",
       "    <tr>\n",
       "      <th>3</th>\n",
       "      <td>B</td>\n",
       "      <td>50</td>\n",
       "      <td>No</td>\n",
       "    </tr>\n",
       "    <tr>\n",
       "      <th>4</th>\n",
       "      <td>C</td>\n",
       "      <td>47</td>\n",
       "      <td>No</td>\n",
       "    </tr>\n",
       "    <tr>\n",
       "      <th>5</th>\n",
       "      <td>D</td>\n",
       "      <td>45</td>\n",
       "      <td>Yes</td>\n",
       "    </tr>\n",
       "    <tr>\n",
       "      <th>0</th>\n",
       "      <td>E</td>\n",
       "      <td>51</td>\n",
       "      <td>True</td>\n",
       "    </tr>\n",
       "  </tbody>\n",
       "</table>\n",
       "</div>"
      ],
      "text/plain": [
       "  class  student_count all_pass\n",
       "0     A             42      Yes\n",
       "1     A             35      Yes\n",
       "2     A             42      Yes\n",
       "3     B             50       No\n",
       "4     C             47       No\n",
       "5     D             45      Yes\n",
       "0     E             51     True"
      ]
     },
     "execution_count": 115,
     "metadata": {},
     "output_type": "execute_result"
    }
   ],
   "source": [
    "new_row = pd.DataFrame([[\"E\", 51, True]],columns=[\"class\", \"student_count\", \"all_pass\"])\n",
    "pd.concat([df, new_row])"
   ]
  },
  {
   "cell_type": "code",
   "execution_count": 116,
   "id": "65edc61e",
   "metadata": {
    "execution": {
     "iopub.execute_input": "2023-08-24T14:31:49.225396Z",
     "iopub.status.busy": "2023-08-24T14:31:49.224754Z",
     "iopub.status.idle": "2023-08-24T14:31:49.235008Z",
     "shell.execute_reply": "2023-08-24T14:31:49.233957Z"
    },
    "papermill": {
     "duration": 0.087646,
     "end_time": "2023-08-24T14:31:49.237226",
     "exception": false,
     "start_time": "2023-08-24T14:31:49.149580",
     "status": "completed"
    },
    "tags": []
   },
   "outputs": [
    {
     "data": {
      "text/html": [
       "<div>\n",
       "<style scoped>\n",
       "    .dataframe tbody tr th:only-of-type {\n",
       "        vertical-align: middle;\n",
       "    }\n",
       "\n",
       "    .dataframe tbody tr th {\n",
       "        vertical-align: top;\n",
       "    }\n",
       "\n",
       "    .dataframe thead th {\n",
       "        text-align: right;\n",
       "    }\n",
       "</style>\n",
       "<table border=\"1\" class=\"dataframe\">\n",
       "  <thead>\n",
       "    <tr style=\"text-align: right;\">\n",
       "      <th></th>\n",
       "      <th>x</th>\n",
       "      <th>y</th>\n",
       "    </tr>\n",
       "  </thead>\n",
       "  <tbody>\n",
       "    <tr>\n",
       "      <th>0</th>\n",
       "      <td>1</td>\n",
       "      <td>2</td>\n",
       "    </tr>\n",
       "    <tr>\n",
       "      <th>1</th>\n",
       "      <td>3</td>\n",
       "      <td>4</td>\n",
       "    </tr>\n",
       "    <tr>\n",
       "      <th>2</th>\n",
       "      <td>5</td>\n",
       "      <td>6</td>\n",
       "    </tr>\n",
       "  </tbody>\n",
       "</table>\n",
       "</div>"
      ],
      "text/plain": [
       "   x  y\n",
       "0  1  2\n",
       "1  3  4\n",
       "2  5  6"
      ]
     },
     "execution_count": 116,
     "metadata": {},
     "output_type": "execute_result"
    }
   ],
   "source": [
    "df = pd.DataFrame({\"x\": [1, 3, 5], \"y\": [2, 4, 6]})\n",
    "df"
   ]
  },
  {
   "cell_type": "code",
   "execution_count": 117,
   "id": "2d1a3869",
   "metadata": {
    "execution": {
     "iopub.execute_input": "2023-08-24T14:31:49.387922Z",
     "iopub.status.busy": "2023-08-24T14:31:49.387519Z",
     "iopub.status.idle": "2023-08-24T14:31:49.399309Z",
     "shell.execute_reply": "2023-08-24T14:31:49.398232Z"
    },
    "papermill": {
     "duration": 0.089844,
     "end_time": "2023-08-24T14:31:49.401453",
     "exception": false,
     "start_time": "2023-08-24T14:31:49.311609",
     "status": "completed"
    },
    "tags": []
   },
   "outputs": [
    {
     "data": {
      "text/html": [
       "<div>\n",
       "<style scoped>\n",
       "    .dataframe tbody tr th:only-of-type {\n",
       "        vertical-align: middle;\n",
       "    }\n",
       "\n",
       "    .dataframe tbody tr th {\n",
       "        vertical-align: top;\n",
       "    }\n",
       "\n",
       "    .dataframe thead th {\n",
       "        text-align: right;\n",
       "    }\n",
       "</style>\n",
       "<table border=\"1\" class=\"dataframe\">\n",
       "  <thead>\n",
       "    <tr style=\"text-align: right;\">\n",
       "      <th></th>\n",
       "      <th>key</th>\n",
       "      <th>value</th>\n",
       "    </tr>\n",
       "  </thead>\n",
       "  <tbody>\n",
       "    <tr>\n",
       "      <th>0</th>\n",
       "      <td>A</td>\n",
       "      <td>0.167153</td>\n",
       "    </tr>\n",
       "    <tr>\n",
       "      <th>1</th>\n",
       "      <td>B</td>\n",
       "      <td>-0.513627</td>\n",
       "    </tr>\n",
       "    <tr>\n",
       "      <th>2</th>\n",
       "      <td>C</td>\n",
       "      <td>-0.249059</td>\n",
       "    </tr>\n",
       "    <tr>\n",
       "      <th>3</th>\n",
       "      <td>D</td>\n",
       "      <td>-1.171921</td>\n",
       "    </tr>\n",
       "  </tbody>\n",
       "</table>\n",
       "</div>"
      ],
      "text/plain": [
       "  key     value\n",
       "0   A  0.167153\n",
       "1   B -0.513627\n",
       "2   C -0.249059\n",
       "3   D -1.171921"
      ]
     },
     "execution_count": 117,
     "metadata": {},
     "output_type": "execute_result"
    }
   ],
   "source": [
    "df1 = pd.DataFrame({\"key\": [\"A\", \"B\", \"C\", \"D\"], \"value\": np.random.randn(4)})\n",
    "df1"
   ]
  },
  {
   "cell_type": "code",
   "execution_count": 118,
   "id": "c19c213e",
   "metadata": {
    "execution": {
     "iopub.execute_input": "2023-08-24T14:31:49.552499Z",
     "iopub.status.busy": "2023-08-24T14:31:49.552079Z",
     "iopub.status.idle": "2023-08-24T14:31:49.563026Z",
     "shell.execute_reply": "2023-08-24T14:31:49.562233Z"
    },
    "papermill": {
     "duration": 0.08885,
     "end_time": "2023-08-24T14:31:49.565081",
     "exception": false,
     "start_time": "2023-08-24T14:31:49.476231",
     "status": "completed"
    },
    "tags": []
   },
   "outputs": [
    {
     "data": {
      "text/html": [
       "<div>\n",
       "<style scoped>\n",
       "    .dataframe tbody tr th:only-of-type {\n",
       "        vertical-align: middle;\n",
       "    }\n",
       "\n",
       "    .dataframe tbody tr th {\n",
       "        vertical-align: top;\n",
       "    }\n",
       "\n",
       "    .dataframe thead th {\n",
       "        text-align: right;\n",
       "    }\n",
       "</style>\n",
       "<table border=\"1\" class=\"dataframe\">\n",
       "  <thead>\n",
       "    <tr style=\"text-align: right;\">\n",
       "      <th></th>\n",
       "      <th>key</th>\n",
       "      <th>value</th>\n",
       "    </tr>\n",
       "  </thead>\n",
       "  <tbody>\n",
       "    <tr>\n",
       "      <th>0</th>\n",
       "      <td>B</td>\n",
       "      <td>-1.051214</td>\n",
       "    </tr>\n",
       "    <tr>\n",
       "      <th>1</th>\n",
       "      <td>D</td>\n",
       "      <td>0.793299</td>\n",
       "    </tr>\n",
       "    <tr>\n",
       "      <th>2</th>\n",
       "      <td>D</td>\n",
       "      <td>0.778890</td>\n",
       "    </tr>\n",
       "    <tr>\n",
       "      <th>3</th>\n",
       "      <td>E</td>\n",
       "      <td>0.245194</td>\n",
       "    </tr>\n",
       "  </tbody>\n",
       "</table>\n",
       "</div>"
      ],
      "text/plain": [
       "  key     value\n",
       "0   B -1.051214\n",
       "1   D  0.793299\n",
       "2   D  0.778890\n",
       "3   E  0.245194"
      ]
     },
     "execution_count": 118,
     "metadata": {},
     "output_type": "execute_result"
    }
   ],
   "source": [
    "df2 = pd.DataFrame({\"key\": [\"B\", \"D\", \"D\", \"E\"], \"value\": np.random.randn(4)})\n",
    "df2"
   ]
  },
  {
   "cell_type": "code",
   "execution_count": 119,
   "id": "da800b32",
   "metadata": {
    "execution": {
     "iopub.execute_input": "2023-08-24T14:31:49.717226Z",
     "iopub.status.busy": "2023-08-24T14:31:49.716760Z",
     "iopub.status.idle": "2023-08-24T14:31:49.732064Z",
     "shell.execute_reply": "2023-08-24T14:31:49.730943Z"
    },
    "papermill": {
     "duration": 0.093845,
     "end_time": "2023-08-24T14:31:49.734263",
     "exception": false,
     "start_time": "2023-08-24T14:31:49.640418",
     "status": "completed"
    },
    "tags": []
   },
   "outputs": [
    {
     "data": {
      "text/html": [
       "<div>\n",
       "<style scoped>\n",
       "    .dataframe tbody tr th:only-of-type {\n",
       "        vertical-align: middle;\n",
       "    }\n",
       "\n",
       "    .dataframe tbody tr th {\n",
       "        vertical-align: top;\n",
       "    }\n",
       "\n",
       "    .dataframe thead th {\n",
       "        text-align: right;\n",
       "    }\n",
       "</style>\n",
       "<table border=\"1\" class=\"dataframe\">\n",
       "  <thead>\n",
       "    <tr style=\"text-align: right;\">\n",
       "      <th></th>\n",
       "      <th>key</th>\n",
       "      <th>value_x</th>\n",
       "      <th>value_y</th>\n",
       "    </tr>\n",
       "  </thead>\n",
       "  <tbody>\n",
       "    <tr>\n",
       "      <th>0</th>\n",
       "      <td>B</td>\n",
       "      <td>-0.513627</td>\n",
       "      <td>-1.051214</td>\n",
       "    </tr>\n",
       "    <tr>\n",
       "      <th>1</th>\n",
       "      <td>D</td>\n",
       "      <td>-1.171921</td>\n",
       "      <td>0.793299</td>\n",
       "    </tr>\n",
       "    <tr>\n",
       "      <th>2</th>\n",
       "      <td>D</td>\n",
       "      <td>-1.171921</td>\n",
       "      <td>0.778890</td>\n",
       "    </tr>\n",
       "  </tbody>\n",
       "</table>\n",
       "</div>"
      ],
      "text/plain": [
       "  key   value_x   value_y\n",
       "0   B -0.513627 -1.051214\n",
       "1   D -1.171921  0.793299\n",
       "2   D -1.171921  0.778890"
      ]
     },
     "execution_count": 119,
     "metadata": {},
     "output_type": "execute_result"
    }
   ],
   "source": [
    "inner_join = df1.merge(df2, on=[\"key\"], how=\"inner\")\n",
    "inner_join"
   ]
  },
  {
   "cell_type": "code",
   "execution_count": 120,
   "id": "dc28e516",
   "metadata": {
    "execution": {
     "iopub.execute_input": "2023-08-24T14:31:49.888663Z",
     "iopub.status.busy": "2023-08-24T14:31:49.888236Z",
     "iopub.status.idle": "2023-08-24T14:31:49.904482Z",
     "shell.execute_reply": "2023-08-24T14:31:49.903322Z"
    },
    "papermill": {
     "duration": 0.097418,
     "end_time": "2023-08-24T14:31:49.906843",
     "exception": false,
     "start_time": "2023-08-24T14:31:49.809425",
     "status": "completed"
    },
    "tags": []
   },
   "outputs": [
    {
     "data": {
      "text/html": [
       "<div>\n",
       "<style scoped>\n",
       "    .dataframe tbody tr th:only-of-type {\n",
       "        vertical-align: middle;\n",
       "    }\n",
       "\n",
       "    .dataframe tbody tr th {\n",
       "        vertical-align: top;\n",
       "    }\n",
       "\n",
       "    .dataframe thead th {\n",
       "        text-align: right;\n",
       "    }\n",
       "</style>\n",
       "<table border=\"1\" class=\"dataframe\">\n",
       "  <thead>\n",
       "    <tr style=\"text-align: right;\">\n",
       "      <th></th>\n",
       "      <th>key</th>\n",
       "      <th>value_x</th>\n",
       "      <th>value_y</th>\n",
       "    </tr>\n",
       "  </thead>\n",
       "  <tbody>\n",
       "    <tr>\n",
       "      <th>0</th>\n",
       "      <td>A</td>\n",
       "      <td>0.167153</td>\n",
       "      <td>NaN</td>\n",
       "    </tr>\n",
       "    <tr>\n",
       "      <th>1</th>\n",
       "      <td>B</td>\n",
       "      <td>-0.513627</td>\n",
       "      <td>-1.051214</td>\n",
       "    </tr>\n",
       "    <tr>\n",
       "      <th>2</th>\n",
       "      <td>C</td>\n",
       "      <td>-0.249059</td>\n",
       "      <td>NaN</td>\n",
       "    </tr>\n",
       "    <tr>\n",
       "      <th>3</th>\n",
       "      <td>D</td>\n",
       "      <td>-1.171921</td>\n",
       "      <td>0.793299</td>\n",
       "    </tr>\n",
       "    <tr>\n",
       "      <th>4</th>\n",
       "      <td>D</td>\n",
       "      <td>-1.171921</td>\n",
       "      <td>0.778890</td>\n",
       "    </tr>\n",
       "  </tbody>\n",
       "</table>\n",
       "</div>"
      ],
      "text/plain": [
       "  key   value_x   value_y\n",
       "0   A  0.167153       NaN\n",
       "1   B -0.513627 -1.051214\n",
       "2   C -0.249059       NaN\n",
       "3   D -1.171921  0.793299\n",
       "4   D -1.171921  0.778890"
      ]
     },
     "execution_count": 120,
     "metadata": {},
     "output_type": "execute_result"
    }
   ],
   "source": [
    "left_join = df1.merge(df2, on=[\"key\"], how=\"left\")\n",
    "left_join"
   ]
  },
  {
   "cell_type": "code",
   "execution_count": 121,
   "id": "fe2000f7",
   "metadata": {
    "execution": {
     "iopub.execute_input": "2023-08-24T14:31:50.063585Z",
     "iopub.status.busy": "2023-08-24T14:31:50.063147Z",
     "iopub.status.idle": "2023-08-24T14:31:50.079221Z",
     "shell.execute_reply": "2023-08-24T14:31:50.077936Z"
    },
    "papermill": {
     "duration": 0.095857,
     "end_time": "2023-08-24T14:31:50.081580",
     "exception": false,
     "start_time": "2023-08-24T14:31:49.985723",
     "status": "completed"
    },
    "tags": []
   },
   "outputs": [
    {
     "data": {
      "text/html": [
       "<div>\n",
       "<style scoped>\n",
       "    .dataframe tbody tr th:only-of-type {\n",
       "        vertical-align: middle;\n",
       "    }\n",
       "\n",
       "    .dataframe tbody tr th {\n",
       "        vertical-align: top;\n",
       "    }\n",
       "\n",
       "    .dataframe thead th {\n",
       "        text-align: right;\n",
       "    }\n",
       "</style>\n",
       "<table border=\"1\" class=\"dataframe\">\n",
       "  <thead>\n",
       "    <tr style=\"text-align: right;\">\n",
       "      <th></th>\n",
       "      <th>key</th>\n",
       "      <th>value_x</th>\n",
       "      <th>value_y</th>\n",
       "    </tr>\n",
       "  </thead>\n",
       "  <tbody>\n",
       "    <tr>\n",
       "      <th>0</th>\n",
       "      <td>B</td>\n",
       "      <td>-0.513627</td>\n",
       "      <td>-1.051214</td>\n",
       "    </tr>\n",
       "    <tr>\n",
       "      <th>1</th>\n",
       "      <td>D</td>\n",
       "      <td>-1.171921</td>\n",
       "      <td>0.793299</td>\n",
       "    </tr>\n",
       "    <tr>\n",
       "      <th>2</th>\n",
       "      <td>D</td>\n",
       "      <td>-1.171921</td>\n",
       "      <td>0.778890</td>\n",
       "    </tr>\n",
       "    <tr>\n",
       "      <th>3</th>\n",
       "      <td>E</td>\n",
       "      <td>NaN</td>\n",
       "      <td>0.245194</td>\n",
       "    </tr>\n",
       "  </tbody>\n",
       "</table>\n",
       "</div>"
      ],
      "text/plain": [
       "  key   value_x   value_y\n",
       "0   B -0.513627 -1.051214\n",
       "1   D -1.171921  0.793299\n",
       "2   D -1.171921  0.778890\n",
       "3   E       NaN  0.245194"
      ]
     },
     "execution_count": 121,
     "metadata": {},
     "output_type": "execute_result"
    }
   ],
   "source": [
    "right_join = df1.merge(df2, on=[\"key\"], how=\"right\")\n",
    "right_join"
   ]
  },
  {
   "cell_type": "code",
   "execution_count": 122,
   "id": "7dca0750",
   "metadata": {
    "execution": {
     "iopub.execute_input": "2023-08-24T14:31:50.237282Z",
     "iopub.status.busy": "2023-08-24T14:31:50.236888Z",
     "iopub.status.idle": "2023-08-24T14:31:50.253032Z",
     "shell.execute_reply": "2023-08-24T14:31:50.251778Z"
    },
    "papermill": {
     "duration": 0.097451,
     "end_time": "2023-08-24T14:31:50.255359",
     "exception": false,
     "start_time": "2023-08-24T14:31:50.157908",
     "status": "completed"
    },
    "tags": []
   },
   "outputs": [
    {
     "data": {
      "text/html": [
       "<div>\n",
       "<style scoped>\n",
       "    .dataframe tbody tr th:only-of-type {\n",
       "        vertical-align: middle;\n",
       "    }\n",
       "\n",
       "    .dataframe tbody tr th {\n",
       "        vertical-align: top;\n",
       "    }\n",
       "\n",
       "    .dataframe thead th {\n",
       "        text-align: right;\n",
       "    }\n",
       "</style>\n",
       "<table border=\"1\" class=\"dataframe\">\n",
       "  <thead>\n",
       "    <tr style=\"text-align: right;\">\n",
       "      <th></th>\n",
       "      <th>key</th>\n",
       "      <th>value_x</th>\n",
       "      <th>value_y</th>\n",
       "    </tr>\n",
       "  </thead>\n",
       "  <tbody>\n",
       "    <tr>\n",
       "      <th>0</th>\n",
       "      <td>A</td>\n",
       "      <td>0.167153</td>\n",
       "      <td>NaN</td>\n",
       "    </tr>\n",
       "    <tr>\n",
       "      <th>1</th>\n",
       "      <td>B</td>\n",
       "      <td>-0.513627</td>\n",
       "      <td>-1.051214</td>\n",
       "    </tr>\n",
       "    <tr>\n",
       "      <th>2</th>\n",
       "      <td>C</td>\n",
       "      <td>-0.249059</td>\n",
       "      <td>NaN</td>\n",
       "    </tr>\n",
       "    <tr>\n",
       "      <th>3</th>\n",
       "      <td>D</td>\n",
       "      <td>-1.171921</td>\n",
       "      <td>0.793299</td>\n",
       "    </tr>\n",
       "    <tr>\n",
       "      <th>4</th>\n",
       "      <td>D</td>\n",
       "      <td>-1.171921</td>\n",
       "      <td>0.778890</td>\n",
       "    </tr>\n",
       "    <tr>\n",
       "      <th>5</th>\n",
       "      <td>E</td>\n",
       "      <td>NaN</td>\n",
       "      <td>0.245194</td>\n",
       "    </tr>\n",
       "  </tbody>\n",
       "</table>\n",
       "</div>"
      ],
      "text/plain": [
       "  key   value_x   value_y\n",
       "0   A  0.167153       NaN\n",
       "1   B -0.513627 -1.051214\n",
       "2   C -0.249059       NaN\n",
       "3   D -1.171921  0.793299\n",
       "4   D -1.171921  0.778890\n",
       "5   E       NaN  0.245194"
      ]
     },
     "execution_count": 122,
     "metadata": {},
     "output_type": "execute_result"
    }
   ],
   "source": [
    "outer_join = df1.merge(df2, on=[\"key\"], how=\"outer\")\n",
    "outer_join"
   ]
  },
  {
   "cell_type": "code",
   "execution_count": 123,
   "id": "6402edfa",
   "metadata": {
    "execution": {
     "iopub.execute_input": "2023-08-24T14:31:50.409029Z",
     "iopub.status.busy": "2023-08-24T14:31:50.408650Z",
     "iopub.status.idle": "2023-08-24T14:31:50.417274Z",
     "shell.execute_reply": "2023-08-24T14:31:50.416030Z"
    },
    "papermill": {
     "duration": 0.088201,
     "end_time": "2023-08-24T14:31:50.419581",
     "exception": false,
     "start_time": "2023-08-24T14:31:50.331380",
     "status": "completed"
    },
    "tags": []
   },
   "outputs": [
    {
     "data": {
      "text/plain": [
       "0         NaN\n",
       "1   -1.564841\n",
       "2         NaN\n",
       "3   -0.378622\n",
       "4   -0.393031\n",
       "5         NaN\n",
       "dtype: float64"
      ]
     },
     "execution_count": 123,
     "metadata": {},
     "output_type": "execute_result"
    }
   ],
   "source": [
    "outer_join[\"value_x\"] + outer_join[\"value_y\"]"
   ]
  },
  {
   "cell_type": "code",
   "execution_count": 124,
   "id": "46c8674a",
   "metadata": {
    "execution": {
     "iopub.execute_input": "2023-08-24T14:31:50.573817Z",
     "iopub.status.busy": "2023-08-24T14:31:50.573412Z",
     "iopub.status.idle": "2023-08-24T14:31:50.580983Z",
     "shell.execute_reply": "2023-08-24T14:31:50.579827Z"
    },
    "papermill": {
     "duration": 0.087011,
     "end_time": "2023-08-24T14:31:50.583268",
     "exception": false,
     "start_time": "2023-08-24T14:31:50.496257",
     "status": "completed"
    },
    "tags": []
   },
   "outputs": [
    {
     "data": {
      "text/plain": [
       "-2.939374028935054"
      ]
     },
     "execution_count": 124,
     "metadata": {},
     "output_type": "execute_result"
    }
   ],
   "source": [
    "outer_join[\"value_x\"].sum()"
   ]
  },
  {
   "cell_type": "code",
   "execution_count": 125,
   "id": "2b1eb891",
   "metadata": {
    "execution": {
     "iopub.execute_input": "2023-08-24T14:31:50.737885Z",
     "iopub.status.busy": "2023-08-24T14:31:50.737471Z",
     "iopub.status.idle": "2023-08-24T14:31:50.749850Z",
     "shell.execute_reply": "2023-08-24T14:31:50.748638Z"
    },
    "papermill": {
     "duration": 0.092645,
     "end_time": "2023-08-24T14:31:50.752308",
     "exception": false,
     "start_time": "2023-08-24T14:31:50.659663",
     "status": "completed"
    },
    "tags": []
   },
   "outputs": [
    {
     "data": {
      "text/html": [
       "<div>\n",
       "<style scoped>\n",
       "    .dataframe tbody tr th:only-of-type {\n",
       "        vertical-align: middle;\n",
       "    }\n",
       "\n",
       "    .dataframe tbody tr th {\n",
       "        vertical-align: top;\n",
       "    }\n",
       "\n",
       "    .dataframe thead th {\n",
       "        text-align: right;\n",
       "    }\n",
       "</style>\n",
       "<table border=\"1\" class=\"dataframe\">\n",
       "  <thead>\n",
       "    <tr style=\"text-align: right;\">\n",
       "      <th></th>\n",
       "      <th>key</th>\n",
       "      <th>value_x</th>\n",
       "      <th>value_y</th>\n",
       "    </tr>\n",
       "  </thead>\n",
       "  <tbody>\n",
       "    <tr>\n",
       "      <th>5</th>\n",
       "      <td>E</td>\n",
       "      <td>NaN</td>\n",
       "      <td>0.245194</td>\n",
       "    </tr>\n",
       "  </tbody>\n",
       "</table>\n",
       "</div>"
      ],
      "text/plain": [
       "  key  value_x   value_y\n",
       "5   E      NaN  0.245194"
      ]
     },
     "execution_count": 125,
     "metadata": {},
     "output_type": "execute_result"
    }
   ],
   "source": [
    "outer_join[outer_join[\"value_x\"].isna()]"
   ]
  },
  {
   "cell_type": "code",
   "execution_count": 126,
   "id": "a927bce7",
   "metadata": {
    "execution": {
     "iopub.execute_input": "2023-08-24T14:31:50.909983Z",
     "iopub.status.busy": "2023-08-24T14:31:50.909602Z",
     "iopub.status.idle": "2023-08-24T14:31:50.921815Z",
     "shell.execute_reply": "2023-08-24T14:31:50.920671Z"
    },
    "papermill": {
     "duration": 0.09439,
     "end_time": "2023-08-24T14:31:50.924338",
     "exception": false,
     "start_time": "2023-08-24T14:31:50.829948",
     "status": "completed"
    },
    "tags": []
   },
   "outputs": [
    {
     "data": {
      "text/html": [
       "<div>\n",
       "<style scoped>\n",
       "    .dataframe tbody tr th:only-of-type {\n",
       "        vertical-align: middle;\n",
       "    }\n",
       "\n",
       "    .dataframe tbody tr th {\n",
       "        vertical-align: top;\n",
       "    }\n",
       "\n",
       "    .dataframe thead th {\n",
       "        text-align: right;\n",
       "    }\n",
       "</style>\n",
       "<table border=\"1\" class=\"dataframe\">\n",
       "  <thead>\n",
       "    <tr style=\"text-align: right;\">\n",
       "      <th></th>\n",
       "      <th>key</th>\n",
       "      <th>value_x</th>\n",
       "      <th>value_y</th>\n",
       "    </tr>\n",
       "  </thead>\n",
       "  <tbody>\n",
       "    <tr>\n",
       "      <th>0</th>\n",
       "      <td>A</td>\n",
       "      <td>0.167153</td>\n",
       "      <td>NaN</td>\n",
       "    </tr>\n",
       "    <tr>\n",
       "      <th>1</th>\n",
       "      <td>B</td>\n",
       "      <td>-0.513627</td>\n",
       "      <td>-1.051214</td>\n",
       "    </tr>\n",
       "    <tr>\n",
       "      <th>2</th>\n",
       "      <td>C</td>\n",
       "      <td>-0.249059</td>\n",
       "      <td>NaN</td>\n",
       "    </tr>\n",
       "    <tr>\n",
       "      <th>3</th>\n",
       "      <td>D</td>\n",
       "      <td>-1.171921</td>\n",
       "      <td>0.793299</td>\n",
       "    </tr>\n",
       "    <tr>\n",
       "      <th>4</th>\n",
       "      <td>D</td>\n",
       "      <td>-1.171921</td>\n",
       "      <td>0.778890</td>\n",
       "    </tr>\n",
       "  </tbody>\n",
       "</table>\n",
       "</div>"
      ],
      "text/plain": [
       "  key   value_x   value_y\n",
       "0   A  0.167153       NaN\n",
       "1   B -0.513627 -1.051214\n",
       "2   C -0.249059       NaN\n",
       "3   D -1.171921  0.793299\n",
       "4   D -1.171921  0.778890"
      ]
     },
     "execution_count": 126,
     "metadata": {},
     "output_type": "execute_result"
    }
   ],
   "source": [
    "outer_join[outer_join[\"value_x\"].notna()]"
   ]
  },
  {
   "cell_type": "code",
   "execution_count": 127,
   "id": "bbc71520",
   "metadata": {
    "execution": {
     "iopub.execute_input": "2023-08-24T14:31:51.080669Z",
     "iopub.status.busy": "2023-08-24T14:31:51.080274Z",
     "iopub.status.idle": "2023-08-24T14:31:51.092102Z",
     "shell.execute_reply": "2023-08-24T14:31:51.091047Z"
    },
    "papermill": {
     "duration": 0.09312,
     "end_time": "2023-08-24T14:31:51.094719",
     "exception": false,
     "start_time": "2023-08-24T14:31:51.001599",
     "status": "completed"
    },
    "tags": []
   },
   "outputs": [
    {
     "data": {
      "text/html": [
       "<div>\n",
       "<style scoped>\n",
       "    .dataframe tbody tr th:only-of-type {\n",
       "        vertical-align: middle;\n",
       "    }\n",
       "\n",
       "    .dataframe tbody tr th {\n",
       "        vertical-align: top;\n",
       "    }\n",
       "\n",
       "    .dataframe thead th {\n",
       "        text-align: right;\n",
       "    }\n",
       "</style>\n",
       "<table border=\"1\" class=\"dataframe\">\n",
       "  <thead>\n",
       "    <tr style=\"text-align: right;\">\n",
       "      <th></th>\n",
       "      <th>key</th>\n",
       "      <th>value_x</th>\n",
       "      <th>value_y</th>\n",
       "    </tr>\n",
       "  </thead>\n",
       "  <tbody>\n",
       "    <tr>\n",
       "      <th>1</th>\n",
       "      <td>B</td>\n",
       "      <td>-0.513627</td>\n",
       "      <td>-1.051214</td>\n",
       "    </tr>\n",
       "    <tr>\n",
       "      <th>3</th>\n",
       "      <td>D</td>\n",
       "      <td>-1.171921</td>\n",
       "      <td>0.793299</td>\n",
       "    </tr>\n",
       "    <tr>\n",
       "      <th>4</th>\n",
       "      <td>D</td>\n",
       "      <td>-1.171921</td>\n",
       "      <td>0.778890</td>\n",
       "    </tr>\n",
       "  </tbody>\n",
       "</table>\n",
       "</div>"
      ],
      "text/plain": [
       "  key   value_x   value_y\n",
       "1   B -0.513627 -1.051214\n",
       "3   D -1.171921  0.793299\n",
       "4   D -1.171921  0.778890"
      ]
     },
     "execution_count": 127,
     "metadata": {},
     "output_type": "execute_result"
    }
   ],
   "source": [
    "outer_join.dropna()"
   ]
  },
  {
   "cell_type": "code",
   "execution_count": 128,
   "id": "9d23bf4c",
   "metadata": {
    "execution": {
     "iopub.execute_input": "2023-08-24T14:31:51.249944Z",
     "iopub.status.busy": "2023-08-24T14:31:51.249558Z",
     "iopub.status.idle": "2023-08-24T14:31:51.267949Z",
     "shell.execute_reply": "2023-08-24T14:31:51.266887Z"
    },
    "papermill": {
     "duration": 0.099074,
     "end_time": "2023-08-24T14:31:51.270432",
     "exception": false,
     "start_time": "2023-08-24T14:31:51.171358",
     "status": "completed"
    },
    "tags": []
   },
   "outputs": [
    {
     "data": {
      "text/html": [
       "<div>\n",
       "<style scoped>\n",
       "    .dataframe tbody tr th:only-of-type {\n",
       "        vertical-align: middle;\n",
       "    }\n",
       "\n",
       "    .dataframe tbody tr th {\n",
       "        vertical-align: top;\n",
       "    }\n",
       "\n",
       "    .dataframe thead th {\n",
       "        text-align: right;\n",
       "    }\n",
       "</style>\n",
       "<table border=\"1\" class=\"dataframe\">\n",
       "  <thead>\n",
       "    <tr style=\"text-align: right;\">\n",
       "      <th></th>\n",
       "      <th>key</th>\n",
       "      <th>value_x</th>\n",
       "      <th>value_y</th>\n",
       "    </tr>\n",
       "  </thead>\n",
       "  <tbody>\n",
       "    <tr>\n",
       "      <th>0</th>\n",
       "      <td>A</td>\n",
       "      <td>0.167153</td>\n",
       "      <td>NaN</td>\n",
       "    </tr>\n",
       "    <tr>\n",
       "      <th>1</th>\n",
       "      <td>B</td>\n",
       "      <td>-0.513627</td>\n",
       "      <td>-1.051214</td>\n",
       "    </tr>\n",
       "    <tr>\n",
       "      <th>2</th>\n",
       "      <td>C</td>\n",
       "      <td>-0.249059</td>\n",
       "      <td>-1.051214</td>\n",
       "    </tr>\n",
       "    <tr>\n",
       "      <th>3</th>\n",
       "      <td>D</td>\n",
       "      <td>-1.171921</td>\n",
       "      <td>0.793299</td>\n",
       "    </tr>\n",
       "    <tr>\n",
       "      <th>4</th>\n",
       "      <td>D</td>\n",
       "      <td>-1.171921</td>\n",
       "      <td>0.778890</td>\n",
       "    </tr>\n",
       "    <tr>\n",
       "      <th>5</th>\n",
       "      <td>E</td>\n",
       "      <td>-1.171921</td>\n",
       "      <td>0.245194</td>\n",
       "    </tr>\n",
       "  </tbody>\n",
       "</table>\n",
       "</div>"
      ],
      "text/plain": [
       "  key   value_x   value_y\n",
       "0   A  0.167153       NaN\n",
       "1   B -0.513627 -1.051214\n",
       "2   C -0.249059 -1.051214\n",
       "3   D -1.171921  0.793299\n",
       "4   D -1.171921  0.778890\n",
       "5   E -1.171921  0.245194"
      ]
     },
     "execution_count": 128,
     "metadata": {},
     "output_type": "execute_result"
    }
   ],
   "source": [
    "outer_join.fillna(method=\"ffill\")"
   ]
  },
  {
   "cell_type": "code",
   "execution_count": 129,
   "id": "8ea7b3e6",
   "metadata": {
    "execution": {
     "iopub.execute_input": "2023-08-24T14:31:51.427500Z",
     "iopub.status.busy": "2023-08-24T14:31:51.427105Z",
     "iopub.status.idle": "2023-08-24T14:31:51.434955Z",
     "shell.execute_reply": "2023-08-24T14:31:51.434119Z"
    },
    "papermill": {
     "duration": 0.089209,
     "end_time": "2023-08-24T14:31:51.437194",
     "exception": false,
     "start_time": "2023-08-24T14:31:51.347985",
     "status": "completed"
    },
    "tags": []
   },
   "outputs": [
    {
     "data": {
      "text/plain": [
       "0    0.167153\n",
       "1   -0.513627\n",
       "2   -0.249059\n",
       "3   -1.171921\n",
       "4   -1.171921\n",
       "5   -0.587875\n",
       "Name: value_x, dtype: float64"
      ]
     },
     "execution_count": 129,
     "metadata": {},
     "output_type": "execute_result"
    }
   ],
   "source": [
    "outer_join[\"value_x\"].fillna(outer_join[\"value_x\"].mean())"
   ]
  },
  {
   "cell_type": "code",
   "execution_count": 130,
   "id": "089ed570",
   "metadata": {
    "execution": {
     "iopub.execute_input": "2023-08-24T14:31:51.594399Z",
     "iopub.status.busy": "2023-08-24T14:31:51.593966Z",
     "iopub.status.idle": "2023-08-24T14:31:51.602852Z",
     "shell.execute_reply": "2023-08-24T14:31:51.601783Z"
    },
    "papermill": {
     "duration": 0.090029,
     "end_time": "2023-08-24T14:31:51.605091",
     "exception": false,
     "start_time": "2023-08-24T14:31:51.515062",
     "status": "completed"
    },
    "tags": []
   },
   "outputs": [
    {
     "data": {
      "text/plain": [
       "0    1.0\n",
       "1    3.0\n",
       "2    5.0\n",
       "3    NaN\n",
       "4    6.0\n",
       "5    8.0\n",
       "dtype: float64"
      ]
     },
     "execution_count": 130,
     "metadata": {},
     "output_type": "execute_result"
    }
   ],
   "source": [
    "s = pd.Series([1, 3, 5, np.nan, 6, 8])\n",
    "s"
   ]
  },
  {
   "cell_type": "code",
   "execution_count": 131,
   "id": "6210faaf",
   "metadata": {
    "execution": {
     "iopub.execute_input": "2023-08-24T14:31:51.761190Z",
     "iopub.status.busy": "2023-08-24T14:31:51.760773Z",
     "iopub.status.idle": "2023-08-24T14:31:51.771028Z",
     "shell.execute_reply": "2023-08-24T14:31:51.770290Z"
    },
    "papermill": {
     "duration": 0.090713,
     "end_time": "2023-08-24T14:31:51.773069",
     "exception": false,
     "start_time": "2023-08-24T14:31:51.682356",
     "status": "completed"
    },
    "tags": []
   },
   "outputs": [
    {
     "data": {
      "text/plain": [
       "DatetimeIndex(['2013-01-01', '2013-01-02', '2013-01-03', '2013-01-04',\n",
       "               '2013-01-05', '2013-01-06'],\n",
       "              dtype='datetime64[ns]', freq='D')"
      ]
     },
     "execution_count": 131,
     "metadata": {},
     "output_type": "execute_result"
    }
   ],
   "source": [
    "dates = pd.date_range(\"20130101\", periods=6)\n",
    "dates"
   ]
  },
  {
   "cell_type": "code",
   "execution_count": 132,
   "id": "9e90c771",
   "metadata": {
    "execution": {
     "iopub.execute_input": "2023-08-24T14:31:51.932694Z",
     "iopub.status.busy": "2023-08-24T14:31:51.932312Z",
     "iopub.status.idle": "2023-08-24T14:31:51.946050Z",
     "shell.execute_reply": "2023-08-24T14:31:51.944987Z"
    },
    "papermill": {
     "duration": 0.097226,
     "end_time": "2023-08-24T14:31:51.948279",
     "exception": false,
     "start_time": "2023-08-24T14:31:51.851053",
     "status": "completed"
    },
    "tags": []
   },
   "outputs": [
    {
     "data": {
      "text/html": [
       "<div>\n",
       "<style scoped>\n",
       "    .dataframe tbody tr th:only-of-type {\n",
       "        vertical-align: middle;\n",
       "    }\n",
       "\n",
       "    .dataframe tbody tr th {\n",
       "        vertical-align: top;\n",
       "    }\n",
       "\n",
       "    .dataframe thead th {\n",
       "        text-align: right;\n",
       "    }\n",
       "</style>\n",
       "<table border=\"1\" class=\"dataframe\">\n",
       "  <thead>\n",
       "    <tr style=\"text-align: right;\">\n",
       "      <th></th>\n",
       "      <th>A</th>\n",
       "      <th>B</th>\n",
       "      <th>C</th>\n",
       "      <th>D</th>\n",
       "    </tr>\n",
       "  </thead>\n",
       "  <tbody>\n",
       "    <tr>\n",
       "      <th>2013-01-01</th>\n",
       "      <td>0.168837</td>\n",
       "      <td>-0.500938</td>\n",
       "      <td>0.688422</td>\n",
       "      <td>-0.500697</td>\n",
       "    </tr>\n",
       "    <tr>\n",
       "      <th>2013-01-02</th>\n",
       "      <td>0.605535</td>\n",
       "      <td>-1.434775</td>\n",
       "      <td>-0.053566</td>\n",
       "      <td>-1.269717</td>\n",
       "    </tr>\n",
       "    <tr>\n",
       "      <th>2013-01-03</th>\n",
       "      <td>-1.270321</td>\n",
       "      <td>0.401786</td>\n",
       "      <td>1.711955</td>\n",
       "      <td>-0.236475</td>\n",
       "    </tr>\n",
       "    <tr>\n",
       "      <th>2013-01-04</th>\n",
       "      <td>1.237828</td>\n",
       "      <td>-0.189359</td>\n",
       "      <td>1.029329</td>\n",
       "      <td>1.234276</td>\n",
       "    </tr>\n",
       "    <tr>\n",
       "      <th>2013-01-05</th>\n",
       "      <td>-0.055113</td>\n",
       "      <td>1.224746</td>\n",
       "      <td>-0.963580</td>\n",
       "      <td>0.501874</td>\n",
       "    </tr>\n",
       "    <tr>\n",
       "      <th>2013-01-06</th>\n",
       "      <td>1.004065</td>\n",
       "      <td>0.703678</td>\n",
       "      <td>-2.165473</td>\n",
       "      <td>-0.118385</td>\n",
       "    </tr>\n",
       "  </tbody>\n",
       "</table>\n",
       "</div>"
      ],
      "text/plain": [
       "                   A         B         C         D\n",
       "2013-01-01  0.168837 -0.500938  0.688422 -0.500697\n",
       "2013-01-02  0.605535 -1.434775 -0.053566 -1.269717\n",
       "2013-01-03 -1.270321  0.401786  1.711955 -0.236475\n",
       "2013-01-04  1.237828 -0.189359  1.029329  1.234276\n",
       "2013-01-05 -0.055113  1.224746 -0.963580  0.501874\n",
       "2013-01-06  1.004065  0.703678 -2.165473 -0.118385"
      ]
     },
     "execution_count": 132,
     "metadata": {},
     "output_type": "execute_result"
    }
   ],
   "source": [
    "df = pd.DataFrame(np.random.randn(6, 4), index=dates, columns=list(\"ABCD\"))\n",
    "df"
   ]
  },
  {
   "cell_type": "code",
   "execution_count": 133,
   "id": "5fc451d1",
   "metadata": {
    "execution": {
     "iopub.execute_input": "2023-08-24T14:31:52.107401Z",
     "iopub.status.busy": "2023-08-24T14:31:52.106973Z",
     "iopub.status.idle": "2023-08-24T14:31:52.125858Z",
     "shell.execute_reply": "2023-08-24T14:31:52.124930Z"
    },
    "papermill": {
     "duration": 0.101216,
     "end_time": "2023-08-24T14:31:52.127970",
     "exception": false,
     "start_time": "2023-08-24T14:31:52.026754",
     "status": "completed"
    },
    "tags": []
   },
   "outputs": [
    {
     "data": {
      "text/html": [
       "<div>\n",
       "<style scoped>\n",
       "    .dataframe tbody tr th:only-of-type {\n",
       "        vertical-align: middle;\n",
       "    }\n",
       "\n",
       "    .dataframe tbody tr th {\n",
       "        vertical-align: top;\n",
       "    }\n",
       "\n",
       "    .dataframe thead th {\n",
       "        text-align: right;\n",
       "    }\n",
       "</style>\n",
       "<table border=\"1\" class=\"dataframe\">\n",
       "  <thead>\n",
       "    <tr style=\"text-align: right;\">\n",
       "      <th></th>\n",
       "      <th>A</th>\n",
       "      <th>B</th>\n",
       "      <th>C</th>\n",
       "      <th>D</th>\n",
       "      <th>E</th>\n",
       "      <th>F</th>\n",
       "    </tr>\n",
       "  </thead>\n",
       "  <tbody>\n",
       "    <tr>\n",
       "      <th>0</th>\n",
       "      <td>1.0</td>\n",
       "      <td>2013-01-02</td>\n",
       "      <td>1.0</td>\n",
       "      <td>3</td>\n",
       "      <td>test</td>\n",
       "      <td>foo</td>\n",
       "    </tr>\n",
       "    <tr>\n",
       "      <th>1</th>\n",
       "      <td>1.0</td>\n",
       "      <td>2013-01-02</td>\n",
       "      <td>1.0</td>\n",
       "      <td>3</td>\n",
       "      <td>train</td>\n",
       "      <td>foo</td>\n",
       "    </tr>\n",
       "    <tr>\n",
       "      <th>2</th>\n",
       "      <td>1.0</td>\n",
       "      <td>2013-01-02</td>\n",
       "      <td>1.0</td>\n",
       "      <td>3</td>\n",
       "      <td>test</td>\n",
       "      <td>foo</td>\n",
       "    </tr>\n",
       "    <tr>\n",
       "      <th>3</th>\n",
       "      <td>1.0</td>\n",
       "      <td>2013-01-02</td>\n",
       "      <td>1.0</td>\n",
       "      <td>3</td>\n",
       "      <td>train</td>\n",
       "      <td>foo</td>\n",
       "    </tr>\n",
       "  </tbody>\n",
       "</table>\n",
       "</div>"
      ],
      "text/plain": [
       "     A          B    C  D      E    F\n",
       "0  1.0 2013-01-02  1.0  3   test  foo\n",
       "1  1.0 2013-01-02  1.0  3  train  foo\n",
       "2  1.0 2013-01-02  1.0  3   test  foo\n",
       "3  1.0 2013-01-02  1.0  3  train  foo"
      ]
     },
     "execution_count": 133,
     "metadata": {},
     "output_type": "execute_result"
    }
   ],
   "source": [
    "df2 = pd.DataFrame({\n",
    "    \n",
    "\"A\": 1.0,\n",
    "\"B\": pd.Timestamp(\"20130102\"),\n",
    "\"C\": pd.Series(1, index=list(range(4)), dtype=\"float32\"),\n",
    "\"D\": np.array([3] * 4, dtype=\"int32\"),\n",
    "\"E\": pd.Categorical([\"test\", \"train\", \"test\", \"train\"]),\n",
    "\"F\": \"foo\"\n",
    "    \n",
    "})\n",
    "\n",
    "df2"
   ]
  },
  {
   "cell_type": "code",
   "execution_count": 134,
   "id": "daa9f337",
   "metadata": {
    "execution": {
     "iopub.execute_input": "2023-08-24T14:31:52.285780Z",
     "iopub.status.busy": "2023-08-24T14:31:52.285388Z",
     "iopub.status.idle": "2023-08-24T14:31:52.292586Z",
     "shell.execute_reply": "2023-08-24T14:31:52.291558Z"
    },
    "papermill": {
     "duration": 0.087938,
     "end_time": "2023-08-24T14:31:52.294546",
     "exception": false,
     "start_time": "2023-08-24T14:31:52.206608",
     "status": "completed"
    },
    "tags": []
   },
   "outputs": [
    {
     "data": {
      "text/plain": [
       "Int64Index([0, 1, 2, 3], dtype='int64')"
      ]
     },
     "execution_count": 134,
     "metadata": {},
     "output_type": "execute_result"
    }
   ],
   "source": [
    "df2.index"
   ]
  },
  {
   "cell_type": "code",
   "execution_count": 135,
   "id": "cdc362f4",
   "metadata": {
    "execution": {
     "iopub.execute_input": "2023-08-24T14:31:52.452189Z",
     "iopub.status.busy": "2023-08-24T14:31:52.451756Z",
     "iopub.status.idle": "2023-08-24T14:31:52.458777Z",
     "shell.execute_reply": "2023-08-24T14:31:52.457778Z"
    },
    "papermill": {
     "duration": 0.088825,
     "end_time": "2023-08-24T14:31:52.460828",
     "exception": false,
     "start_time": "2023-08-24T14:31:52.372003",
     "status": "completed"
    },
    "tags": []
   },
   "outputs": [
    {
     "data": {
      "text/plain": [
       "array([[ 0.1688373 , -0.50093817,  0.68842232, -0.50069675],\n",
       "       [ 0.60553535, -1.4347746 , -0.05356555, -1.26971683],\n",
       "       [-1.27032133,  0.40178613,  1.71195539, -0.23647538],\n",
       "       [ 1.23782794, -0.18935878,  1.02932945,  1.23427588],\n",
       "       [-0.05511312,  1.22474594, -0.96358039,  0.5018741 ],\n",
       "       [ 1.00406472,  0.7036775 , -2.16547296, -0.11838526]])"
      ]
     },
     "execution_count": 135,
     "metadata": {},
     "output_type": "execute_result"
    }
   ],
   "source": [
    "df.to_numpy()"
   ]
  },
  {
   "cell_type": "code",
   "execution_count": 136,
   "id": "2781920c",
   "metadata": {
    "execution": {
     "iopub.execute_input": "2023-08-24T14:31:52.618230Z",
     "iopub.status.busy": "2023-08-24T14:31:52.617803Z",
     "iopub.status.idle": "2023-08-24T14:31:52.625654Z",
     "shell.execute_reply": "2023-08-24T14:31:52.624771Z"
    },
    "papermill": {
     "duration": 0.089064,
     "end_time": "2023-08-24T14:31:52.627767",
     "exception": false,
     "start_time": "2023-08-24T14:31:52.538703",
     "status": "completed"
    },
    "tags": []
   },
   "outputs": [
    {
     "data": {
      "text/plain": [
       "array([[1.0, Timestamp('2013-01-02 00:00:00'), 1.0, 3, 'test', 'foo'],\n",
       "       [1.0, Timestamp('2013-01-02 00:00:00'), 1.0, 3, 'train', 'foo'],\n",
       "       [1.0, Timestamp('2013-01-02 00:00:00'), 1.0, 3, 'test', 'foo'],\n",
       "       [1.0, Timestamp('2013-01-02 00:00:00'), 1.0, 3, 'train', 'foo']],\n",
       "      dtype=object)"
      ]
     },
     "execution_count": 136,
     "metadata": {},
     "output_type": "execute_result"
    }
   ],
   "source": [
    "df2.to_numpy()"
   ]
  },
  {
   "cell_type": "code",
   "execution_count": 137,
   "id": "ed9c6b9c",
   "metadata": {
    "execution": {
     "iopub.execute_input": "2023-08-24T14:31:52.786901Z",
     "iopub.status.busy": "2023-08-24T14:31:52.786470Z",
     "iopub.status.idle": "2023-08-24T14:31:52.799555Z",
     "shell.execute_reply": "2023-08-24T14:31:52.798750Z"
    },
    "papermill": {
     "duration": 0.095489,
     "end_time": "2023-08-24T14:31:52.801514",
     "exception": false,
     "start_time": "2023-08-24T14:31:52.706025",
     "status": "completed"
    },
    "tags": []
   },
   "outputs": [
    {
     "data": {
      "text/html": [
       "<div>\n",
       "<style scoped>\n",
       "    .dataframe tbody tr th:only-of-type {\n",
       "        vertical-align: middle;\n",
       "    }\n",
       "\n",
       "    .dataframe tbody tr th {\n",
       "        vertical-align: top;\n",
       "    }\n",
       "\n",
       "    .dataframe thead th {\n",
       "        text-align: right;\n",
       "    }\n",
       "</style>\n",
       "<table border=\"1\" class=\"dataframe\">\n",
       "  <thead>\n",
       "    <tr style=\"text-align: right;\">\n",
       "      <th></th>\n",
       "      <th>D</th>\n",
       "      <th>C</th>\n",
       "      <th>B</th>\n",
       "      <th>A</th>\n",
       "    </tr>\n",
       "  </thead>\n",
       "  <tbody>\n",
       "    <tr>\n",
       "      <th>2013-01-01</th>\n",
       "      <td>-0.500697</td>\n",
       "      <td>0.688422</td>\n",
       "      <td>-0.500938</td>\n",
       "      <td>0.168837</td>\n",
       "    </tr>\n",
       "    <tr>\n",
       "      <th>2013-01-02</th>\n",
       "      <td>-1.269717</td>\n",
       "      <td>-0.053566</td>\n",
       "      <td>-1.434775</td>\n",
       "      <td>0.605535</td>\n",
       "    </tr>\n",
       "    <tr>\n",
       "      <th>2013-01-03</th>\n",
       "      <td>-0.236475</td>\n",
       "      <td>1.711955</td>\n",
       "      <td>0.401786</td>\n",
       "      <td>-1.270321</td>\n",
       "    </tr>\n",
       "    <tr>\n",
       "      <th>2013-01-04</th>\n",
       "      <td>1.234276</td>\n",
       "      <td>1.029329</td>\n",
       "      <td>-0.189359</td>\n",
       "      <td>1.237828</td>\n",
       "    </tr>\n",
       "    <tr>\n",
       "      <th>2013-01-05</th>\n",
       "      <td>0.501874</td>\n",
       "      <td>-0.963580</td>\n",
       "      <td>1.224746</td>\n",
       "      <td>-0.055113</td>\n",
       "    </tr>\n",
       "    <tr>\n",
       "      <th>2013-01-06</th>\n",
       "      <td>-0.118385</td>\n",
       "      <td>-2.165473</td>\n",
       "      <td>0.703678</td>\n",
       "      <td>1.004065</td>\n",
       "    </tr>\n",
       "  </tbody>\n",
       "</table>\n",
       "</div>"
      ],
      "text/plain": [
       "                   D         C         B         A\n",
       "2013-01-01 -0.500697  0.688422 -0.500938  0.168837\n",
       "2013-01-02 -1.269717 -0.053566 -1.434775  0.605535\n",
       "2013-01-03 -0.236475  1.711955  0.401786 -1.270321\n",
       "2013-01-04  1.234276  1.029329 -0.189359  1.237828\n",
       "2013-01-05  0.501874 -0.963580  1.224746 -0.055113\n",
       "2013-01-06 -0.118385 -2.165473  0.703678  1.004065"
      ]
     },
     "execution_count": 137,
     "metadata": {},
     "output_type": "execute_result"
    }
   ],
   "source": [
    "df.sort_index(axis=1, ascending=False)"
   ]
  },
  {
   "cell_type": "code",
   "execution_count": 138,
   "id": "ea93d16b",
   "metadata": {
    "execution": {
     "iopub.execute_input": "2023-08-24T14:31:52.963039Z",
     "iopub.status.busy": "2023-08-24T14:31:52.962118Z",
     "iopub.status.idle": "2023-08-24T14:31:52.975891Z",
     "shell.execute_reply": "2023-08-24T14:31:52.974822Z"
    },
    "papermill": {
     "duration": 0.09614,
     "end_time": "2023-08-24T14:31:52.978114",
     "exception": false,
     "start_time": "2023-08-24T14:31:52.881974",
     "status": "completed"
    },
    "tags": []
   },
   "outputs": [
    {
     "data": {
      "text/html": [
       "<div>\n",
       "<style scoped>\n",
       "    .dataframe tbody tr th:only-of-type {\n",
       "        vertical-align: middle;\n",
       "    }\n",
       "\n",
       "    .dataframe tbody tr th {\n",
       "        vertical-align: top;\n",
       "    }\n",
       "\n",
       "    .dataframe thead th {\n",
       "        text-align: right;\n",
       "    }\n",
       "</style>\n",
       "<table border=\"1\" class=\"dataframe\">\n",
       "  <thead>\n",
       "    <tr style=\"text-align: right;\">\n",
       "      <th></th>\n",
       "      <th>A</th>\n",
       "      <th>B</th>\n",
       "      <th>C</th>\n",
       "      <th>D</th>\n",
       "    </tr>\n",
       "  </thead>\n",
       "  <tbody>\n",
       "    <tr>\n",
       "      <th>2013-01-02</th>\n",
       "      <td>0.605535</td>\n",
       "      <td>-1.434775</td>\n",
       "      <td>-0.053566</td>\n",
       "      <td>-1.269717</td>\n",
       "    </tr>\n",
       "    <tr>\n",
       "      <th>2013-01-01</th>\n",
       "      <td>0.168837</td>\n",
       "      <td>-0.500938</td>\n",
       "      <td>0.688422</td>\n",
       "      <td>-0.500697</td>\n",
       "    </tr>\n",
       "    <tr>\n",
       "      <th>2013-01-04</th>\n",
       "      <td>1.237828</td>\n",
       "      <td>-0.189359</td>\n",
       "      <td>1.029329</td>\n",
       "      <td>1.234276</td>\n",
       "    </tr>\n",
       "    <tr>\n",
       "      <th>2013-01-03</th>\n",
       "      <td>-1.270321</td>\n",
       "      <td>0.401786</td>\n",
       "      <td>1.711955</td>\n",
       "      <td>-0.236475</td>\n",
       "    </tr>\n",
       "    <tr>\n",
       "      <th>2013-01-06</th>\n",
       "      <td>1.004065</td>\n",
       "      <td>0.703678</td>\n",
       "      <td>-2.165473</td>\n",
       "      <td>-0.118385</td>\n",
       "    </tr>\n",
       "    <tr>\n",
       "      <th>2013-01-05</th>\n",
       "      <td>-0.055113</td>\n",
       "      <td>1.224746</td>\n",
       "      <td>-0.963580</td>\n",
       "      <td>0.501874</td>\n",
       "    </tr>\n",
       "  </tbody>\n",
       "</table>\n",
       "</div>"
      ],
      "text/plain": [
       "                   A         B         C         D\n",
       "2013-01-02  0.605535 -1.434775 -0.053566 -1.269717\n",
       "2013-01-01  0.168837 -0.500938  0.688422 -0.500697\n",
       "2013-01-04  1.237828 -0.189359  1.029329  1.234276\n",
       "2013-01-03 -1.270321  0.401786  1.711955 -0.236475\n",
       "2013-01-06  1.004065  0.703678 -2.165473 -0.118385\n",
       "2013-01-05 -0.055113  1.224746 -0.963580  0.501874"
      ]
     },
     "execution_count": 138,
     "metadata": {},
     "output_type": "execute_result"
    }
   ],
   "source": [
    "df.sort_values(by=\"B\")"
   ]
  },
  {
   "cell_type": "code",
   "execution_count": 139,
   "id": "27ee392c",
   "metadata": {
    "execution": {
     "iopub.execute_input": "2023-08-24T14:31:53.138123Z",
     "iopub.status.busy": "2023-08-24T14:31:53.137713Z",
     "iopub.status.idle": "2023-08-24T14:31:53.149865Z",
     "shell.execute_reply": "2023-08-24T14:31:53.148775Z"
    },
    "papermill": {
     "duration": 0.094858,
     "end_time": "2023-08-24T14:31:53.152157",
     "exception": false,
     "start_time": "2023-08-24T14:31:53.057299",
     "status": "completed"
    },
    "tags": []
   },
   "outputs": [
    {
     "data": {
      "text/html": [
       "<div>\n",
       "<style scoped>\n",
       "    .dataframe tbody tr th:only-of-type {\n",
       "        vertical-align: middle;\n",
       "    }\n",
       "\n",
       "    .dataframe tbody tr th {\n",
       "        vertical-align: top;\n",
       "    }\n",
       "\n",
       "    .dataframe thead th {\n",
       "        text-align: right;\n",
       "    }\n",
       "</style>\n",
       "<table border=\"1\" class=\"dataframe\">\n",
       "  <thead>\n",
       "    <tr style=\"text-align: right;\">\n",
       "      <th></th>\n",
       "      <th>A</th>\n",
       "      <th>B</th>\n",
       "      <th>C</th>\n",
       "      <th>D</th>\n",
       "    </tr>\n",
       "  </thead>\n",
       "  <tbody>\n",
       "    <tr>\n",
       "      <th>2013-01-01</th>\n",
       "      <td>0.168837</td>\n",
       "      <td>-0.500938</td>\n",
       "      <td>0.688422</td>\n",
       "      <td>-0.500697</td>\n",
       "    </tr>\n",
       "    <tr>\n",
       "      <th>2013-01-02</th>\n",
       "      <td>0.605535</td>\n",
       "      <td>-1.434775</td>\n",
       "      <td>-0.053566</td>\n",
       "      <td>-1.269717</td>\n",
       "    </tr>\n",
       "    <tr>\n",
       "      <th>2013-01-03</th>\n",
       "      <td>-1.270321</td>\n",
       "      <td>0.401786</td>\n",
       "      <td>1.711955</td>\n",
       "      <td>-0.236475</td>\n",
       "    </tr>\n",
       "  </tbody>\n",
       "</table>\n",
       "</div>"
      ],
      "text/plain": [
       "                   A         B         C         D\n",
       "2013-01-01  0.168837 -0.500938  0.688422 -0.500697\n",
       "2013-01-02  0.605535 -1.434775 -0.053566 -1.269717\n",
       "2013-01-03 -1.270321  0.401786  1.711955 -0.236475"
      ]
     },
     "execution_count": 139,
     "metadata": {},
     "output_type": "execute_result"
    }
   ],
   "source": [
    "df[0:3]"
   ]
  },
  {
   "cell_type": "code",
   "execution_count": 140,
   "id": "cc6d3739",
   "metadata": {
    "execution": {
     "iopub.execute_input": "2023-08-24T14:31:53.313878Z",
     "iopub.status.busy": "2023-08-24T14:31:53.312794Z",
     "iopub.status.idle": "2023-08-24T14:31:53.330343Z",
     "shell.execute_reply": "2023-08-24T14:31:53.329215Z"
    },
    "papermill": {
     "duration": 0.100357,
     "end_time": "2023-08-24T14:31:53.332751",
     "exception": false,
     "start_time": "2023-08-24T14:31:53.232394",
     "status": "completed"
    },
    "tags": []
   },
   "outputs": [
    {
     "data": {
      "text/html": [
       "<div>\n",
       "<style scoped>\n",
       "    .dataframe tbody tr th:only-of-type {\n",
       "        vertical-align: middle;\n",
       "    }\n",
       "\n",
       "    .dataframe tbody tr th {\n",
       "        vertical-align: top;\n",
       "    }\n",
       "\n",
       "    .dataframe thead th {\n",
       "        text-align: right;\n",
       "    }\n",
       "</style>\n",
       "<table border=\"1\" class=\"dataframe\">\n",
       "  <thead>\n",
       "    <tr style=\"text-align: right;\">\n",
       "      <th></th>\n",
       "      <th>A</th>\n",
       "      <th>B</th>\n",
       "      <th>C</th>\n",
       "      <th>D</th>\n",
       "    </tr>\n",
       "  </thead>\n",
       "  <tbody>\n",
       "    <tr>\n",
       "      <th>2013-01-02</th>\n",
       "      <td>0.605535</td>\n",
       "      <td>-1.434775</td>\n",
       "      <td>-0.053566</td>\n",
       "      <td>-1.269717</td>\n",
       "    </tr>\n",
       "    <tr>\n",
       "      <th>2013-01-03</th>\n",
       "      <td>-1.270321</td>\n",
       "      <td>0.401786</td>\n",
       "      <td>1.711955</td>\n",
       "      <td>-0.236475</td>\n",
       "    </tr>\n",
       "    <tr>\n",
       "      <th>2013-01-04</th>\n",
       "      <td>1.237828</td>\n",
       "      <td>-0.189359</td>\n",
       "      <td>1.029329</td>\n",
       "      <td>1.234276</td>\n",
       "    </tr>\n",
       "  </tbody>\n",
       "</table>\n",
       "</div>"
      ],
      "text/plain": [
       "                   A         B         C         D\n",
       "2013-01-02  0.605535 -1.434775 -0.053566 -1.269717\n",
       "2013-01-03 -1.270321  0.401786  1.711955 -0.236475\n",
       "2013-01-04  1.237828 -0.189359  1.029329  1.234276"
      ]
     },
     "execution_count": 140,
     "metadata": {},
     "output_type": "execute_result"
    }
   ],
   "source": [
    "df[\"20130102\":\"20130104\"]"
   ]
  },
  {
   "cell_type": "code",
   "execution_count": 141,
   "id": "3b5a0c0f",
   "metadata": {
    "execution": {
     "iopub.execute_input": "2023-08-24T14:31:53.493038Z",
     "iopub.status.busy": "2023-08-24T14:31:53.492601Z",
     "iopub.status.idle": "2023-08-24T14:31:53.500285Z",
     "shell.execute_reply": "2023-08-24T14:31:53.499518Z"
    },
    "papermill": {
     "duration": 0.090101,
     "end_time": "2023-08-24T14:31:53.502176",
     "exception": false,
     "start_time": "2023-08-24T14:31:53.412075",
     "status": "completed"
    },
    "tags": []
   },
   "outputs": [
    {
     "data": {
      "text/plain": [
       "A    0.168837\n",
       "B   -0.500938\n",
       "C    0.688422\n",
       "D   -0.500697\n",
       "Name: 2013-01-01 00:00:00, dtype: float64"
      ]
     },
     "execution_count": 141,
     "metadata": {},
     "output_type": "execute_result"
    }
   ],
   "source": [
    "df.loc[dates[0]]"
   ]
  },
  {
   "cell_type": "code",
   "execution_count": 142,
   "id": "0544eb31",
   "metadata": {
    "execution": {
     "iopub.execute_input": "2023-08-24T14:31:53.662502Z",
     "iopub.status.busy": "2023-08-24T14:31:53.662064Z",
     "iopub.status.idle": "2023-08-24T14:31:53.674382Z",
     "shell.execute_reply": "2023-08-24T14:31:53.673183Z"
    },
    "papermill": {
     "duration": 0.095487,
     "end_time": "2023-08-24T14:31:53.676517",
     "exception": false,
     "start_time": "2023-08-24T14:31:53.581030",
     "status": "completed"
    },
    "tags": []
   },
   "outputs": [
    {
     "data": {
      "text/html": [
       "<div>\n",
       "<style scoped>\n",
       "    .dataframe tbody tr th:only-of-type {\n",
       "        vertical-align: middle;\n",
       "    }\n",
       "\n",
       "    .dataframe tbody tr th {\n",
       "        vertical-align: top;\n",
       "    }\n",
       "\n",
       "    .dataframe thead th {\n",
       "        text-align: right;\n",
       "    }\n",
       "</style>\n",
       "<table border=\"1\" class=\"dataframe\">\n",
       "  <thead>\n",
       "    <tr style=\"text-align: right;\">\n",
       "      <th></th>\n",
       "      <th>A</th>\n",
       "      <th>B</th>\n",
       "    </tr>\n",
       "  </thead>\n",
       "  <tbody>\n",
       "    <tr>\n",
       "      <th>2013-01-01</th>\n",
       "      <td>0.168837</td>\n",
       "      <td>-0.500938</td>\n",
       "    </tr>\n",
       "    <tr>\n",
       "      <th>2013-01-02</th>\n",
       "      <td>0.605535</td>\n",
       "      <td>-1.434775</td>\n",
       "    </tr>\n",
       "    <tr>\n",
       "      <th>2013-01-03</th>\n",
       "      <td>-1.270321</td>\n",
       "      <td>0.401786</td>\n",
       "    </tr>\n",
       "    <tr>\n",
       "      <th>2013-01-04</th>\n",
       "      <td>1.237828</td>\n",
       "      <td>-0.189359</td>\n",
       "    </tr>\n",
       "    <tr>\n",
       "      <th>2013-01-05</th>\n",
       "      <td>-0.055113</td>\n",
       "      <td>1.224746</td>\n",
       "    </tr>\n",
       "    <tr>\n",
       "      <th>2013-01-06</th>\n",
       "      <td>1.004065</td>\n",
       "      <td>0.703678</td>\n",
       "    </tr>\n",
       "  </tbody>\n",
       "</table>\n",
       "</div>"
      ],
      "text/plain": [
       "                   A         B\n",
       "2013-01-01  0.168837 -0.500938\n",
       "2013-01-02  0.605535 -1.434775\n",
       "2013-01-03 -1.270321  0.401786\n",
       "2013-01-04  1.237828 -0.189359\n",
       "2013-01-05 -0.055113  1.224746\n",
       "2013-01-06  1.004065  0.703678"
      ]
     },
     "execution_count": 142,
     "metadata": {},
     "output_type": "execute_result"
    }
   ],
   "source": [
    "df.loc[:, [\"A\", \"B\"]]"
   ]
  },
  {
   "cell_type": "code",
   "execution_count": 143,
   "id": "78c54bfb",
   "metadata": {
    "execution": {
     "iopub.execute_input": "2023-08-24T14:31:53.837835Z",
     "iopub.status.busy": "2023-08-24T14:31:53.837425Z",
     "iopub.status.idle": "2023-08-24T14:31:53.850693Z",
     "shell.execute_reply": "2023-08-24T14:31:53.849839Z"
    },
    "papermill": {
     "duration": 0.096752,
     "end_time": "2023-08-24T14:31:53.852802",
     "exception": false,
     "start_time": "2023-08-24T14:31:53.756050",
     "status": "completed"
    },
    "tags": []
   },
   "outputs": [
    {
     "data": {
      "text/html": [
       "<div>\n",
       "<style scoped>\n",
       "    .dataframe tbody tr th:only-of-type {\n",
       "        vertical-align: middle;\n",
       "    }\n",
       "\n",
       "    .dataframe tbody tr th {\n",
       "        vertical-align: top;\n",
       "    }\n",
       "\n",
       "    .dataframe thead th {\n",
       "        text-align: right;\n",
       "    }\n",
       "</style>\n",
       "<table border=\"1\" class=\"dataframe\">\n",
       "  <thead>\n",
       "    <tr style=\"text-align: right;\">\n",
       "      <th></th>\n",
       "      <th>A</th>\n",
       "      <th>B</th>\n",
       "    </tr>\n",
       "  </thead>\n",
       "  <tbody>\n",
       "    <tr>\n",
       "      <th>2013-01-02</th>\n",
       "      <td>0.605535</td>\n",
       "      <td>-1.434775</td>\n",
       "    </tr>\n",
       "    <tr>\n",
       "      <th>2013-01-03</th>\n",
       "      <td>-1.270321</td>\n",
       "      <td>0.401786</td>\n",
       "    </tr>\n",
       "    <tr>\n",
       "      <th>2013-01-04</th>\n",
       "      <td>1.237828</td>\n",
       "      <td>-0.189359</td>\n",
       "    </tr>\n",
       "  </tbody>\n",
       "</table>\n",
       "</div>"
      ],
      "text/plain": [
       "                   A         B\n",
       "2013-01-02  0.605535 -1.434775\n",
       "2013-01-03 -1.270321  0.401786\n",
       "2013-01-04  1.237828 -0.189359"
      ]
     },
     "execution_count": 143,
     "metadata": {},
     "output_type": "execute_result"
    }
   ],
   "source": [
    "df.loc[\"20130102\":\"20130104\", [\"A\", \"B\"]]"
   ]
  },
  {
   "cell_type": "code",
   "execution_count": 144,
   "id": "254cf158",
   "metadata": {
    "execution": {
     "iopub.execute_input": "2023-08-24T14:31:54.015081Z",
     "iopub.status.busy": "2023-08-24T14:31:54.014695Z",
     "iopub.status.idle": "2023-08-24T14:31:54.023802Z",
     "shell.execute_reply": "2023-08-24T14:31:54.022768Z"
    },
    "papermill": {
     "duration": 0.092546,
     "end_time": "2023-08-24T14:31:54.026108",
     "exception": false,
     "start_time": "2023-08-24T14:31:53.933562",
     "status": "completed"
    },
    "tags": []
   },
   "outputs": [
    {
     "data": {
      "text/plain": [
       "A    0.605535\n",
       "B   -1.434775\n",
       "Name: 2013-01-02 00:00:00, dtype: float64"
      ]
     },
     "execution_count": 144,
     "metadata": {},
     "output_type": "execute_result"
    }
   ],
   "source": [
    "df.loc[\"20130102\", [\"A\", \"B\"]]"
   ]
  },
  {
   "cell_type": "code",
   "execution_count": 145,
   "id": "1f4ac45e",
   "metadata": {
    "execution": {
     "iopub.execute_input": "2023-08-24T14:31:54.187771Z",
     "iopub.status.busy": "2023-08-24T14:31:54.187401Z",
     "iopub.status.idle": "2023-08-24T14:31:54.194530Z",
     "shell.execute_reply": "2023-08-24T14:31:54.193224Z"
    },
    "papermill": {
     "duration": 0.090557,
     "end_time": "2023-08-24T14:31:54.196924",
     "exception": false,
     "start_time": "2023-08-24T14:31:54.106367",
     "status": "completed"
    },
    "tags": []
   },
   "outputs": [
    {
     "data": {
      "text/plain": [
       "0.1688372968086047"
      ]
     },
     "execution_count": 145,
     "metadata": {},
     "output_type": "execute_result"
    }
   ],
   "source": [
    "df.at[dates[0], \"A\"]"
   ]
  },
  {
   "cell_type": "code",
   "execution_count": 146,
   "id": "d88fd943",
   "metadata": {
    "execution": {
     "iopub.execute_input": "2023-08-24T14:31:54.358935Z",
     "iopub.status.busy": "2023-08-24T14:31:54.358560Z",
     "iopub.status.idle": "2023-08-24T14:31:54.365579Z",
     "shell.execute_reply": "2023-08-24T14:31:54.364804Z"
    },
    "papermill": {
     "duration": 0.090756,
     "end_time": "2023-08-24T14:31:54.367620",
     "exception": false,
     "start_time": "2023-08-24T14:31:54.276864",
     "status": "completed"
    },
    "tags": []
   },
   "outputs": [
    {
     "data": {
      "text/plain": [
       "A    1.237828\n",
       "B   -0.189359\n",
       "C    1.029329\n",
       "D    1.234276\n",
       "Name: 2013-01-04 00:00:00, dtype: float64"
      ]
     },
     "execution_count": 146,
     "metadata": {},
     "output_type": "execute_result"
    }
   ],
   "source": [
    "df.iloc[3]"
   ]
  },
  {
   "cell_type": "code",
   "execution_count": 147,
   "id": "aba3ede6",
   "metadata": {
    "execution": {
     "iopub.execute_input": "2023-08-24T14:31:54.530357Z",
     "iopub.status.busy": "2023-08-24T14:31:54.529156Z",
     "iopub.status.idle": "2023-08-24T14:31:54.539786Z",
     "shell.execute_reply": "2023-08-24T14:31:54.539040Z"
    },
    "papermill": {
     "duration": 0.093966,
     "end_time": "2023-08-24T14:31:54.541776",
     "exception": false,
     "start_time": "2023-08-24T14:31:54.447810",
     "status": "completed"
    },
    "tags": []
   },
   "outputs": [
    {
     "data": {
      "text/html": [
       "<div>\n",
       "<style scoped>\n",
       "    .dataframe tbody tr th:only-of-type {\n",
       "        vertical-align: middle;\n",
       "    }\n",
       "\n",
       "    .dataframe tbody tr th {\n",
       "        vertical-align: top;\n",
       "    }\n",
       "\n",
       "    .dataframe thead th {\n",
       "        text-align: right;\n",
       "    }\n",
       "</style>\n",
       "<table border=\"1\" class=\"dataframe\">\n",
       "  <thead>\n",
       "    <tr style=\"text-align: right;\">\n",
       "      <th></th>\n",
       "      <th>A</th>\n",
       "      <th>B</th>\n",
       "    </tr>\n",
       "  </thead>\n",
       "  <tbody>\n",
       "    <tr>\n",
       "      <th>2013-01-04</th>\n",
       "      <td>1.237828</td>\n",
       "      <td>-0.189359</td>\n",
       "    </tr>\n",
       "    <tr>\n",
       "      <th>2013-01-05</th>\n",
       "      <td>-0.055113</td>\n",
       "      <td>1.224746</td>\n",
       "    </tr>\n",
       "  </tbody>\n",
       "</table>\n",
       "</div>"
      ],
      "text/plain": [
       "                   A         B\n",
       "2013-01-04  1.237828 -0.189359\n",
       "2013-01-05 -0.055113  1.224746"
      ]
     },
     "execution_count": 147,
     "metadata": {},
     "output_type": "execute_result"
    }
   ],
   "source": [
    "df.iloc[3:5, 0:2]"
   ]
  },
  {
   "cell_type": "code",
   "execution_count": 148,
   "id": "afbd29b3",
   "metadata": {
    "execution": {
     "iopub.execute_input": "2023-08-24T14:31:54.704464Z",
     "iopub.status.busy": "2023-08-24T14:31:54.703734Z",
     "iopub.status.idle": "2023-08-24T14:31:54.714769Z",
     "shell.execute_reply": "2023-08-24T14:31:54.713703Z"
    },
    "papermill": {
     "duration": 0.095208,
     "end_time": "2023-08-24T14:31:54.717232",
     "exception": false,
     "start_time": "2023-08-24T14:31:54.622024",
     "status": "completed"
    },
    "tags": []
   },
   "outputs": [
    {
     "data": {
      "text/html": [
       "<div>\n",
       "<style scoped>\n",
       "    .dataframe tbody tr th:only-of-type {\n",
       "        vertical-align: middle;\n",
       "    }\n",
       "\n",
       "    .dataframe tbody tr th {\n",
       "        vertical-align: top;\n",
       "    }\n",
       "\n",
       "    .dataframe thead th {\n",
       "        text-align: right;\n",
       "    }\n",
       "</style>\n",
       "<table border=\"1\" class=\"dataframe\">\n",
       "  <thead>\n",
       "    <tr style=\"text-align: right;\">\n",
       "      <th></th>\n",
       "      <th>A</th>\n",
       "      <th>C</th>\n",
       "    </tr>\n",
       "  </thead>\n",
       "  <tbody>\n",
       "    <tr>\n",
       "      <th>2013-01-02</th>\n",
       "      <td>0.605535</td>\n",
       "      <td>-0.053566</td>\n",
       "    </tr>\n",
       "    <tr>\n",
       "      <th>2013-01-03</th>\n",
       "      <td>-1.270321</td>\n",
       "      <td>1.711955</td>\n",
       "    </tr>\n",
       "    <tr>\n",
       "      <th>2013-01-05</th>\n",
       "      <td>-0.055113</td>\n",
       "      <td>-0.963580</td>\n",
       "    </tr>\n",
       "  </tbody>\n",
       "</table>\n",
       "</div>"
      ],
      "text/plain": [
       "                   A         C\n",
       "2013-01-02  0.605535 -0.053566\n",
       "2013-01-03 -1.270321  1.711955\n",
       "2013-01-05 -0.055113 -0.963580"
      ]
     },
     "execution_count": 148,
     "metadata": {},
     "output_type": "execute_result"
    }
   ],
   "source": [
    "df.iloc[[1, 2, 4], [0, 2]]"
   ]
  },
  {
   "cell_type": "code",
   "execution_count": 149,
   "id": "226e941b",
   "metadata": {
    "execution": {
     "iopub.execute_input": "2023-08-24T14:31:54.884457Z",
     "iopub.status.busy": "2023-08-24T14:31:54.884016Z",
     "iopub.status.idle": "2023-08-24T14:31:54.896444Z",
     "shell.execute_reply": "2023-08-24T14:31:54.895225Z"
    },
    "papermill": {
     "duration": 0.09964,
     "end_time": "2023-08-24T14:31:54.898825",
     "exception": false,
     "start_time": "2023-08-24T14:31:54.799185",
     "status": "completed"
    },
    "tags": []
   },
   "outputs": [
    {
     "data": {
      "text/html": [
       "<div>\n",
       "<style scoped>\n",
       "    .dataframe tbody tr th:only-of-type {\n",
       "        vertical-align: middle;\n",
       "    }\n",
       "\n",
       "    .dataframe tbody tr th {\n",
       "        vertical-align: top;\n",
       "    }\n",
       "\n",
       "    .dataframe thead th {\n",
       "        text-align: right;\n",
       "    }\n",
       "</style>\n",
       "<table border=\"1\" class=\"dataframe\">\n",
       "  <thead>\n",
       "    <tr style=\"text-align: right;\">\n",
       "      <th></th>\n",
       "      <th>A</th>\n",
       "      <th>B</th>\n",
       "      <th>C</th>\n",
       "      <th>D</th>\n",
       "    </tr>\n",
       "  </thead>\n",
       "  <tbody>\n",
       "    <tr>\n",
       "      <th>2013-01-02</th>\n",
       "      <td>0.605535</td>\n",
       "      <td>-1.434775</td>\n",
       "      <td>-0.053566</td>\n",
       "      <td>-1.269717</td>\n",
       "    </tr>\n",
       "    <tr>\n",
       "      <th>2013-01-03</th>\n",
       "      <td>-1.270321</td>\n",
       "      <td>0.401786</td>\n",
       "      <td>1.711955</td>\n",
       "      <td>-0.236475</td>\n",
       "    </tr>\n",
       "  </tbody>\n",
       "</table>\n",
       "</div>"
      ],
      "text/plain": [
       "                   A         B         C         D\n",
       "2013-01-02  0.605535 -1.434775 -0.053566 -1.269717\n",
       "2013-01-03 -1.270321  0.401786  1.711955 -0.236475"
      ]
     },
     "execution_count": 149,
     "metadata": {},
     "output_type": "execute_result"
    }
   ],
   "source": [
    "df.iloc[1:3, :]"
   ]
  },
  {
   "cell_type": "code",
   "execution_count": 150,
   "id": "7b170f6c",
   "metadata": {
    "execution": {
     "iopub.execute_input": "2023-08-24T14:31:55.064341Z",
     "iopub.status.busy": "2023-08-24T14:31:55.063910Z",
     "iopub.status.idle": "2023-08-24T14:31:55.074958Z",
     "shell.execute_reply": "2023-08-24T14:31:55.073842Z"
    },
    "papermill": {
     "duration": 0.098023,
     "end_time": "2023-08-24T14:31:55.078292",
     "exception": false,
     "start_time": "2023-08-24T14:31:54.980269",
     "status": "completed"
    },
    "tags": []
   },
   "outputs": [
    {
     "data": {
      "text/html": [
       "<div>\n",
       "<style scoped>\n",
       "    .dataframe tbody tr th:only-of-type {\n",
       "        vertical-align: middle;\n",
       "    }\n",
       "\n",
       "    .dataframe tbody tr th {\n",
       "        vertical-align: top;\n",
       "    }\n",
       "\n",
       "    .dataframe thead th {\n",
       "        text-align: right;\n",
       "    }\n",
       "</style>\n",
       "<table border=\"1\" class=\"dataframe\">\n",
       "  <thead>\n",
       "    <tr style=\"text-align: right;\">\n",
       "      <th></th>\n",
       "      <th>B</th>\n",
       "      <th>C</th>\n",
       "    </tr>\n",
       "  </thead>\n",
       "  <tbody>\n",
       "    <tr>\n",
       "      <th>2013-01-01</th>\n",
       "      <td>-0.500938</td>\n",
       "      <td>0.688422</td>\n",
       "    </tr>\n",
       "    <tr>\n",
       "      <th>2013-01-02</th>\n",
       "      <td>-1.434775</td>\n",
       "      <td>-0.053566</td>\n",
       "    </tr>\n",
       "    <tr>\n",
       "      <th>2013-01-03</th>\n",
       "      <td>0.401786</td>\n",
       "      <td>1.711955</td>\n",
       "    </tr>\n",
       "    <tr>\n",
       "      <th>2013-01-04</th>\n",
       "      <td>-0.189359</td>\n",
       "      <td>1.029329</td>\n",
       "    </tr>\n",
       "    <tr>\n",
       "      <th>2013-01-05</th>\n",
       "      <td>1.224746</td>\n",
       "      <td>-0.963580</td>\n",
       "    </tr>\n",
       "    <tr>\n",
       "      <th>2013-01-06</th>\n",
       "      <td>0.703678</td>\n",
       "      <td>-2.165473</td>\n",
       "    </tr>\n",
       "  </tbody>\n",
       "</table>\n",
       "</div>"
      ],
      "text/plain": [
       "                   B         C\n",
       "2013-01-01 -0.500938  0.688422\n",
       "2013-01-02 -1.434775 -0.053566\n",
       "2013-01-03  0.401786  1.711955\n",
       "2013-01-04 -0.189359  1.029329\n",
       "2013-01-05  1.224746 -0.963580\n",
       "2013-01-06  0.703678 -2.165473"
      ]
     },
     "execution_count": 150,
     "metadata": {},
     "output_type": "execute_result"
    }
   ],
   "source": [
    "df.iloc[:, 1:3]"
   ]
  },
  {
   "cell_type": "code",
   "execution_count": 151,
   "id": "70259bd2",
   "metadata": {
    "execution": {
     "iopub.execute_input": "2023-08-24T14:31:55.245856Z",
     "iopub.status.busy": "2023-08-24T14:31:55.245419Z",
     "iopub.status.idle": "2023-08-24T14:31:55.253512Z",
     "shell.execute_reply": "2023-08-24T14:31:55.252048Z"
    },
    "papermill": {
     "duration": 0.093774,
     "end_time": "2023-08-24T14:31:55.256312",
     "exception": false,
     "start_time": "2023-08-24T14:31:55.162538",
     "status": "completed"
    },
    "tags": []
   },
   "outputs": [
    {
     "data": {
      "text/plain": [
       "-1.4347745985021938"
      ]
     },
     "execution_count": 151,
     "metadata": {},
     "output_type": "execute_result"
    }
   ],
   "source": [
    "df.iloc[1, 1]"
   ]
  },
  {
   "cell_type": "code",
   "execution_count": 152,
   "id": "8a1cd7dd",
   "metadata": {
    "execution": {
     "iopub.execute_input": "2023-08-24T14:31:55.421955Z",
     "iopub.status.busy": "2023-08-24T14:31:55.420836Z",
     "iopub.status.idle": "2023-08-24T14:31:55.434023Z",
     "shell.execute_reply": "2023-08-24T14:31:55.433025Z"
    },
    "papermill": {
     "duration": 0.098185,
     "end_time": "2023-08-24T14:31:55.436157",
     "exception": false,
     "start_time": "2023-08-24T14:31:55.337972",
     "status": "completed"
    },
    "tags": []
   },
   "outputs": [
    {
     "data": {
      "text/html": [
       "<div>\n",
       "<style scoped>\n",
       "    .dataframe tbody tr th:only-of-type {\n",
       "        vertical-align: middle;\n",
       "    }\n",
       "\n",
       "    .dataframe tbody tr th {\n",
       "        vertical-align: top;\n",
       "    }\n",
       "\n",
       "    .dataframe thead th {\n",
       "        text-align: right;\n",
       "    }\n",
       "</style>\n",
       "<table border=\"1\" class=\"dataframe\">\n",
       "  <thead>\n",
       "    <tr style=\"text-align: right;\">\n",
       "      <th></th>\n",
       "      <th>A</th>\n",
       "      <th>B</th>\n",
       "      <th>C</th>\n",
       "      <th>D</th>\n",
       "    </tr>\n",
       "  </thead>\n",
       "  <tbody>\n",
       "    <tr>\n",
       "      <th>2013-01-01</th>\n",
       "      <td>0.168837</td>\n",
       "      <td>-0.500938</td>\n",
       "      <td>0.688422</td>\n",
       "      <td>-0.500697</td>\n",
       "    </tr>\n",
       "    <tr>\n",
       "      <th>2013-01-02</th>\n",
       "      <td>0.605535</td>\n",
       "      <td>-1.434775</td>\n",
       "      <td>-0.053566</td>\n",
       "      <td>-1.269717</td>\n",
       "    </tr>\n",
       "    <tr>\n",
       "      <th>2013-01-04</th>\n",
       "      <td>1.237828</td>\n",
       "      <td>-0.189359</td>\n",
       "      <td>1.029329</td>\n",
       "      <td>1.234276</td>\n",
       "    </tr>\n",
       "    <tr>\n",
       "      <th>2013-01-06</th>\n",
       "      <td>1.004065</td>\n",
       "      <td>0.703678</td>\n",
       "      <td>-2.165473</td>\n",
       "      <td>-0.118385</td>\n",
       "    </tr>\n",
       "  </tbody>\n",
       "</table>\n",
       "</div>"
      ],
      "text/plain": [
       "                   A         B         C         D\n",
       "2013-01-01  0.168837 -0.500938  0.688422 -0.500697\n",
       "2013-01-02  0.605535 -1.434775 -0.053566 -1.269717\n",
       "2013-01-04  1.237828 -0.189359  1.029329  1.234276\n",
       "2013-01-06  1.004065  0.703678 -2.165473 -0.118385"
      ]
     },
     "execution_count": 152,
     "metadata": {},
     "output_type": "execute_result"
    }
   ],
   "source": [
    "df[df[\"A\"] > 0]"
   ]
  },
  {
   "cell_type": "code",
   "execution_count": 153,
   "id": "0cc89680",
   "metadata": {
    "execution": {
     "iopub.execute_input": "2023-08-24T14:31:55.601491Z",
     "iopub.status.busy": "2023-08-24T14:31:55.601049Z",
     "iopub.status.idle": "2023-08-24T14:31:55.614616Z",
     "shell.execute_reply": "2023-08-24T14:31:55.613513Z"
    },
    "papermill": {
     "duration": 0.098416,
     "end_time": "2023-08-24T14:31:55.616890",
     "exception": false,
     "start_time": "2023-08-24T14:31:55.518474",
     "status": "completed"
    },
    "tags": []
   },
   "outputs": [
    {
     "data": {
      "text/html": [
       "<div>\n",
       "<style scoped>\n",
       "    .dataframe tbody tr th:only-of-type {\n",
       "        vertical-align: middle;\n",
       "    }\n",
       "\n",
       "    .dataframe tbody tr th {\n",
       "        vertical-align: top;\n",
       "    }\n",
       "\n",
       "    .dataframe thead th {\n",
       "        text-align: right;\n",
       "    }\n",
       "</style>\n",
       "<table border=\"1\" class=\"dataframe\">\n",
       "  <thead>\n",
       "    <tr style=\"text-align: right;\">\n",
       "      <th></th>\n",
       "      <th>A</th>\n",
       "      <th>B</th>\n",
       "      <th>C</th>\n",
       "      <th>D</th>\n",
       "    </tr>\n",
       "  </thead>\n",
       "  <tbody>\n",
       "    <tr>\n",
       "      <th>2013-01-01</th>\n",
       "      <td>0.168837</td>\n",
       "      <td>NaN</td>\n",
       "      <td>0.688422</td>\n",
       "      <td>NaN</td>\n",
       "    </tr>\n",
       "    <tr>\n",
       "      <th>2013-01-02</th>\n",
       "      <td>0.605535</td>\n",
       "      <td>NaN</td>\n",
       "      <td>NaN</td>\n",
       "      <td>NaN</td>\n",
       "    </tr>\n",
       "    <tr>\n",
       "      <th>2013-01-03</th>\n",
       "      <td>NaN</td>\n",
       "      <td>0.401786</td>\n",
       "      <td>1.711955</td>\n",
       "      <td>NaN</td>\n",
       "    </tr>\n",
       "    <tr>\n",
       "      <th>2013-01-04</th>\n",
       "      <td>1.237828</td>\n",
       "      <td>NaN</td>\n",
       "      <td>1.029329</td>\n",
       "      <td>1.234276</td>\n",
       "    </tr>\n",
       "    <tr>\n",
       "      <th>2013-01-05</th>\n",
       "      <td>NaN</td>\n",
       "      <td>1.224746</td>\n",
       "      <td>NaN</td>\n",
       "      <td>0.501874</td>\n",
       "    </tr>\n",
       "    <tr>\n",
       "      <th>2013-01-06</th>\n",
       "      <td>1.004065</td>\n",
       "      <td>0.703678</td>\n",
       "      <td>NaN</td>\n",
       "      <td>NaN</td>\n",
       "    </tr>\n",
       "  </tbody>\n",
       "</table>\n",
       "</div>"
      ],
      "text/plain": [
       "                   A         B         C         D\n",
       "2013-01-01  0.168837       NaN  0.688422       NaN\n",
       "2013-01-02  0.605535       NaN       NaN       NaN\n",
       "2013-01-03       NaN  0.401786  1.711955       NaN\n",
       "2013-01-04  1.237828       NaN  1.029329  1.234276\n",
       "2013-01-05       NaN  1.224746       NaN  0.501874\n",
       "2013-01-06  1.004065  0.703678       NaN       NaN"
      ]
     },
     "execution_count": 153,
     "metadata": {},
     "output_type": "execute_result"
    }
   ],
   "source": [
    "df[df > 0]"
   ]
  },
  {
   "cell_type": "code",
   "execution_count": 154,
   "id": "77c283cc",
   "metadata": {
    "execution": {
     "iopub.execute_input": "2023-08-24T14:31:55.782927Z",
     "iopub.status.busy": "2023-08-24T14:31:55.782531Z",
     "iopub.status.idle": "2023-08-24T14:31:55.797700Z",
     "shell.execute_reply": "2023-08-24T14:31:55.796899Z"
    },
    "papermill": {
     "duration": 0.100642,
     "end_time": "2023-08-24T14:31:55.799751",
     "exception": false,
     "start_time": "2023-08-24T14:31:55.699109",
     "status": "completed"
    },
    "tags": []
   },
   "outputs": [
    {
     "data": {
      "text/html": [
       "<div>\n",
       "<style scoped>\n",
       "    .dataframe tbody tr th:only-of-type {\n",
       "        vertical-align: middle;\n",
       "    }\n",
       "\n",
       "    .dataframe tbody tr th {\n",
       "        vertical-align: top;\n",
       "    }\n",
       "\n",
       "    .dataframe thead th {\n",
       "        text-align: right;\n",
       "    }\n",
       "</style>\n",
       "<table border=\"1\" class=\"dataframe\">\n",
       "  <thead>\n",
       "    <tr style=\"text-align: right;\">\n",
       "      <th></th>\n",
       "      <th>A</th>\n",
       "      <th>B</th>\n",
       "      <th>C</th>\n",
       "      <th>D</th>\n",
       "      <th>E</th>\n",
       "    </tr>\n",
       "  </thead>\n",
       "  <tbody>\n",
       "    <tr>\n",
       "      <th>2013-01-01</th>\n",
       "      <td>0.168837</td>\n",
       "      <td>-0.500938</td>\n",
       "      <td>0.688422</td>\n",
       "      <td>-0.500697</td>\n",
       "      <td>one</td>\n",
       "    </tr>\n",
       "    <tr>\n",
       "      <th>2013-01-02</th>\n",
       "      <td>0.605535</td>\n",
       "      <td>-1.434775</td>\n",
       "      <td>-0.053566</td>\n",
       "      <td>-1.269717</td>\n",
       "      <td>one</td>\n",
       "    </tr>\n",
       "    <tr>\n",
       "      <th>2013-01-03</th>\n",
       "      <td>-1.270321</td>\n",
       "      <td>0.401786</td>\n",
       "      <td>1.711955</td>\n",
       "      <td>-0.236475</td>\n",
       "      <td>two</td>\n",
       "    </tr>\n",
       "    <tr>\n",
       "      <th>2013-01-04</th>\n",
       "      <td>1.237828</td>\n",
       "      <td>-0.189359</td>\n",
       "      <td>1.029329</td>\n",
       "      <td>1.234276</td>\n",
       "      <td>three</td>\n",
       "    </tr>\n",
       "    <tr>\n",
       "      <th>2013-01-05</th>\n",
       "      <td>-0.055113</td>\n",
       "      <td>1.224746</td>\n",
       "      <td>-0.963580</td>\n",
       "      <td>0.501874</td>\n",
       "      <td>four</td>\n",
       "    </tr>\n",
       "    <tr>\n",
       "      <th>2013-01-06</th>\n",
       "      <td>1.004065</td>\n",
       "      <td>0.703678</td>\n",
       "      <td>-2.165473</td>\n",
       "      <td>-0.118385</td>\n",
       "      <td>three</td>\n",
       "    </tr>\n",
       "  </tbody>\n",
       "</table>\n",
       "</div>"
      ],
      "text/plain": [
       "                   A         B         C         D      E\n",
       "2013-01-01  0.168837 -0.500938  0.688422 -0.500697    one\n",
       "2013-01-02  0.605535 -1.434775 -0.053566 -1.269717    one\n",
       "2013-01-03 -1.270321  0.401786  1.711955 -0.236475    two\n",
       "2013-01-04  1.237828 -0.189359  1.029329  1.234276  three\n",
       "2013-01-05 -0.055113  1.224746 -0.963580  0.501874   four\n",
       "2013-01-06  1.004065  0.703678 -2.165473 -0.118385  three"
      ]
     },
     "execution_count": 154,
     "metadata": {},
     "output_type": "execute_result"
    }
   ],
   "source": [
    "df2 = df.copy()\n",
    "df2[\"E\"] = [\"one\", \"one\", \"two\", \"three\", \"four\", \"three\"]\n",
    "df2"
   ]
  },
  {
   "cell_type": "code",
   "execution_count": 155,
   "id": "e931fc05",
   "metadata": {
    "execution": {
     "iopub.execute_input": "2023-08-24T14:31:55.968131Z",
     "iopub.status.busy": "2023-08-24T14:31:55.967443Z",
     "iopub.status.idle": "2023-08-24T14:31:55.981605Z",
     "shell.execute_reply": "2023-08-24T14:31:55.980693Z"
    },
    "papermill": {
     "duration": 0.100208,
     "end_time": "2023-08-24T14:31:55.983737",
     "exception": false,
     "start_time": "2023-08-24T14:31:55.883529",
     "status": "completed"
    },
    "tags": []
   },
   "outputs": [
    {
     "data": {
      "text/html": [
       "<div>\n",
       "<style scoped>\n",
       "    .dataframe tbody tr th:only-of-type {\n",
       "        vertical-align: middle;\n",
       "    }\n",
       "\n",
       "    .dataframe tbody tr th {\n",
       "        vertical-align: top;\n",
       "    }\n",
       "\n",
       "    .dataframe thead th {\n",
       "        text-align: right;\n",
       "    }\n",
       "</style>\n",
       "<table border=\"1\" class=\"dataframe\">\n",
       "  <thead>\n",
       "    <tr style=\"text-align: right;\">\n",
       "      <th></th>\n",
       "      <th>A</th>\n",
       "      <th>B</th>\n",
       "      <th>C</th>\n",
       "      <th>D</th>\n",
       "      <th>E</th>\n",
       "    </tr>\n",
       "  </thead>\n",
       "  <tbody>\n",
       "    <tr>\n",
       "      <th>2013-01-03</th>\n",
       "      <td>-1.270321</td>\n",
       "      <td>0.401786</td>\n",
       "      <td>1.711955</td>\n",
       "      <td>-0.236475</td>\n",
       "      <td>two</td>\n",
       "    </tr>\n",
       "    <tr>\n",
       "      <th>2013-01-05</th>\n",
       "      <td>-0.055113</td>\n",
       "      <td>1.224746</td>\n",
       "      <td>-0.963580</td>\n",
       "      <td>0.501874</td>\n",
       "      <td>four</td>\n",
       "    </tr>\n",
       "  </tbody>\n",
       "</table>\n",
       "</div>"
      ],
      "text/plain": [
       "                   A         B         C         D     E\n",
       "2013-01-03 -1.270321  0.401786  1.711955 -0.236475   two\n",
       "2013-01-05 -0.055113  1.224746 -0.963580  0.501874  four"
      ]
     },
     "execution_count": 155,
     "metadata": {},
     "output_type": "execute_result"
    }
   ],
   "source": [
    "df2[df2[\"E\"].isin([\"two\", \"four\"])]"
   ]
  },
  {
   "cell_type": "code",
   "execution_count": 156,
   "id": "cd03c736",
   "metadata": {
    "execution": {
     "iopub.execute_input": "2023-08-24T14:31:56.153074Z",
     "iopub.status.busy": "2023-08-24T14:31:56.152384Z",
     "iopub.status.idle": "2023-08-24T14:31:56.161267Z",
     "shell.execute_reply": "2023-08-24T14:31:56.160045Z"
    },
    "papermill": {
     "duration": 0.097428,
     "end_time": "2023-08-24T14:31:56.163656",
     "exception": false,
     "start_time": "2023-08-24T14:31:56.066228",
     "status": "completed"
    },
    "tags": []
   },
   "outputs": [
    {
     "data": {
      "text/plain": [
       "2013-01-02    1\n",
       "2013-01-03    2\n",
       "2013-01-04    3\n",
       "2013-01-05    4\n",
       "2013-01-06    5\n",
       "2013-01-07    6\n",
       "Freq: D, dtype: int64"
      ]
     },
     "execution_count": 156,
     "metadata": {},
     "output_type": "execute_result"
    }
   ],
   "source": [
    "\n",
    "s1 = pd.Series([1, 2, 3, 4, 5, 6], index=pd.date_range(\"20130102\", periods=6))\n",
    "s1"
   ]
  },
  {
   "cell_type": "code",
   "execution_count": 157,
   "id": "4966edd1",
   "metadata": {
    "execution": {
     "iopub.execute_input": "2023-08-24T14:31:56.337284Z",
     "iopub.status.busy": "2023-08-24T14:31:56.336578Z",
     "iopub.status.idle": "2023-08-24T14:31:56.341039Z",
     "shell.execute_reply": "2023-08-24T14:31:56.340306Z"
    },
    "papermill": {
     "duration": 0.095895,
     "end_time": "2023-08-24T14:31:56.343259",
     "exception": false,
     "start_time": "2023-08-24T14:31:56.247364",
     "status": "completed"
    },
    "tags": []
   },
   "outputs": [],
   "source": [
    "df.at[dates[0], \"A\"] = 0"
   ]
  },
  {
   "cell_type": "code",
   "execution_count": 158,
   "id": "b245074e",
   "metadata": {
    "execution": {
     "iopub.execute_input": "2023-08-24T14:31:56.509996Z",
     "iopub.status.busy": "2023-08-24T14:31:56.509332Z",
     "iopub.status.idle": "2023-08-24T14:31:56.513958Z",
     "shell.execute_reply": "2023-08-24T14:31:56.512821Z"
    },
    "papermill": {
     "duration": 0.090963,
     "end_time": "2023-08-24T14:31:56.516154",
     "exception": false,
     "start_time": "2023-08-24T14:31:56.425191",
     "status": "completed"
    },
    "tags": []
   },
   "outputs": [],
   "source": [
    "df.iat[0, 1] = 0"
   ]
  },
  {
   "cell_type": "code",
   "execution_count": 159,
   "id": "e300d4df",
   "metadata": {
    "execution": {
     "iopub.execute_input": "2023-08-24T14:31:56.682765Z",
     "iopub.status.busy": "2023-08-24T14:31:56.682338Z",
     "iopub.status.idle": "2023-08-24T14:31:56.696454Z",
     "shell.execute_reply": "2023-08-24T14:31:56.695352Z"
    },
    "papermill": {
     "duration": 0.100018,
     "end_time": "2023-08-24T14:31:56.698861",
     "exception": false,
     "start_time": "2023-08-24T14:31:56.598843",
     "status": "completed"
    },
    "tags": []
   },
   "outputs": [
    {
     "data": {
      "text/html": [
       "<div>\n",
       "<style scoped>\n",
       "    .dataframe tbody tr th:only-of-type {\n",
       "        vertical-align: middle;\n",
       "    }\n",
       "\n",
       "    .dataframe tbody tr th {\n",
       "        vertical-align: top;\n",
       "    }\n",
       "\n",
       "    .dataframe thead th {\n",
       "        text-align: right;\n",
       "    }\n",
       "</style>\n",
       "<table border=\"1\" class=\"dataframe\">\n",
       "  <thead>\n",
       "    <tr style=\"text-align: right;\">\n",
       "      <th></th>\n",
       "      <th>A</th>\n",
       "      <th>B</th>\n",
       "      <th>C</th>\n",
       "      <th>D</th>\n",
       "    </tr>\n",
       "  </thead>\n",
       "  <tbody>\n",
       "    <tr>\n",
       "      <th>2013-01-01</th>\n",
       "      <td>0.000000</td>\n",
       "      <td>0.000000</td>\n",
       "      <td>0.688422</td>\n",
       "      <td>5</td>\n",
       "    </tr>\n",
       "    <tr>\n",
       "      <th>2013-01-02</th>\n",
       "      <td>0.605535</td>\n",
       "      <td>-1.434775</td>\n",
       "      <td>-0.053566</td>\n",
       "      <td>5</td>\n",
       "    </tr>\n",
       "    <tr>\n",
       "      <th>2013-01-03</th>\n",
       "      <td>-1.270321</td>\n",
       "      <td>0.401786</td>\n",
       "      <td>1.711955</td>\n",
       "      <td>5</td>\n",
       "    </tr>\n",
       "    <tr>\n",
       "      <th>2013-01-04</th>\n",
       "      <td>1.237828</td>\n",
       "      <td>-0.189359</td>\n",
       "      <td>1.029329</td>\n",
       "      <td>5</td>\n",
       "    </tr>\n",
       "    <tr>\n",
       "      <th>2013-01-05</th>\n",
       "      <td>-0.055113</td>\n",
       "      <td>1.224746</td>\n",
       "      <td>-0.963580</td>\n",
       "      <td>5</td>\n",
       "    </tr>\n",
       "    <tr>\n",
       "      <th>2013-01-06</th>\n",
       "      <td>1.004065</td>\n",
       "      <td>0.703678</td>\n",
       "      <td>-2.165473</td>\n",
       "      <td>5</td>\n",
       "    </tr>\n",
       "  </tbody>\n",
       "</table>\n",
       "</div>"
      ],
      "text/plain": [
       "                   A         B         C  D\n",
       "2013-01-01  0.000000  0.000000  0.688422  5\n",
       "2013-01-02  0.605535 -1.434775 -0.053566  5\n",
       "2013-01-03 -1.270321  0.401786  1.711955  5\n",
       "2013-01-04  1.237828 -0.189359  1.029329  5\n",
       "2013-01-05 -0.055113  1.224746 -0.963580  5\n",
       "2013-01-06  1.004065  0.703678 -2.165473  5"
      ]
     },
     "execution_count": 159,
     "metadata": {},
     "output_type": "execute_result"
    }
   ],
   "source": [
    "df.loc[:, \"D\"] = np.array([5] * len(df))\n",
    "df"
   ]
  },
  {
   "cell_type": "code",
   "execution_count": 160,
   "id": "0279f074",
   "metadata": {
    "execution": {
     "iopub.execute_input": "2023-08-24T14:31:56.868412Z",
     "iopub.status.busy": "2023-08-24T14:31:56.867718Z",
     "iopub.status.idle": "2023-08-24T14:31:56.881990Z",
     "shell.execute_reply": "2023-08-24T14:31:56.881128Z"
    },
    "papermill": {
     "duration": 0.102236,
     "end_time": "2023-08-24T14:31:56.884076",
     "exception": false,
     "start_time": "2023-08-24T14:31:56.781840",
     "status": "completed"
    },
    "tags": []
   },
   "outputs": [
    {
     "data": {
      "text/html": [
       "<div>\n",
       "<style scoped>\n",
       "    .dataframe tbody tr th:only-of-type {\n",
       "        vertical-align: middle;\n",
       "    }\n",
       "\n",
       "    .dataframe tbody tr th {\n",
       "        vertical-align: top;\n",
       "    }\n",
       "\n",
       "    .dataframe thead th {\n",
       "        text-align: right;\n",
       "    }\n",
       "</style>\n",
       "<table border=\"1\" class=\"dataframe\">\n",
       "  <thead>\n",
       "    <tr style=\"text-align: right;\">\n",
       "      <th></th>\n",
       "      <th>A</th>\n",
       "      <th>B</th>\n",
       "      <th>C</th>\n",
       "      <th>D</th>\n",
       "    </tr>\n",
       "  </thead>\n",
       "  <tbody>\n",
       "    <tr>\n",
       "      <th>2013-01-01</th>\n",
       "      <td>0.000000</td>\n",
       "      <td>0.000000</td>\n",
       "      <td>-0.688422</td>\n",
       "      <td>-5</td>\n",
       "    </tr>\n",
       "    <tr>\n",
       "      <th>2013-01-02</th>\n",
       "      <td>-0.605535</td>\n",
       "      <td>-1.434775</td>\n",
       "      <td>-0.053566</td>\n",
       "      <td>-5</td>\n",
       "    </tr>\n",
       "    <tr>\n",
       "      <th>2013-01-03</th>\n",
       "      <td>-1.270321</td>\n",
       "      <td>-0.401786</td>\n",
       "      <td>-1.711955</td>\n",
       "      <td>-5</td>\n",
       "    </tr>\n",
       "    <tr>\n",
       "      <th>2013-01-04</th>\n",
       "      <td>-1.237828</td>\n",
       "      <td>-0.189359</td>\n",
       "      <td>-1.029329</td>\n",
       "      <td>-5</td>\n",
       "    </tr>\n",
       "    <tr>\n",
       "      <th>2013-01-05</th>\n",
       "      <td>-0.055113</td>\n",
       "      <td>-1.224746</td>\n",
       "      <td>-0.963580</td>\n",
       "      <td>-5</td>\n",
       "    </tr>\n",
       "    <tr>\n",
       "      <th>2013-01-06</th>\n",
       "      <td>-1.004065</td>\n",
       "      <td>-0.703678</td>\n",
       "      <td>-2.165473</td>\n",
       "      <td>-5</td>\n",
       "    </tr>\n",
       "  </tbody>\n",
       "</table>\n",
       "</div>"
      ],
      "text/plain": [
       "                   A         B         C  D\n",
       "2013-01-01  0.000000  0.000000 -0.688422 -5\n",
       "2013-01-02 -0.605535 -1.434775 -0.053566 -5\n",
       "2013-01-03 -1.270321 -0.401786 -1.711955 -5\n",
       "2013-01-04 -1.237828 -0.189359 -1.029329 -5\n",
       "2013-01-05 -0.055113 -1.224746 -0.963580 -5\n",
       "2013-01-06 -1.004065 -0.703678 -2.165473 -5"
      ]
     },
     "execution_count": 160,
     "metadata": {},
     "output_type": "execute_result"
    }
   ],
   "source": [
    "df2 = df.copy()\n",
    "df2[df2 > 0] = -df2\n",
    "df2"
   ]
  },
  {
   "cell_type": "code",
   "execution_count": 161,
   "id": "ca7f6d1a",
   "metadata": {
    "execution": {
     "iopub.execute_input": "2023-08-24T14:31:57.054984Z",
     "iopub.status.busy": "2023-08-24T14:31:57.054280Z",
     "iopub.status.idle": "2023-08-24T14:31:57.070622Z",
     "shell.execute_reply": "2023-08-24T14:31:57.069424Z"
    },
    "papermill": {
     "duration": 0.104217,
     "end_time": "2023-08-24T14:31:57.073066",
     "exception": false,
     "start_time": "2023-08-24T14:31:56.968849",
     "status": "completed"
    },
    "tags": []
   },
   "outputs": [
    {
     "data": {
      "text/html": [
       "<div>\n",
       "<style scoped>\n",
       "    .dataframe tbody tr th:only-of-type {\n",
       "        vertical-align: middle;\n",
       "    }\n",
       "\n",
       "    .dataframe tbody tr th {\n",
       "        vertical-align: top;\n",
       "    }\n",
       "\n",
       "    .dataframe thead th {\n",
       "        text-align: right;\n",
       "    }\n",
       "</style>\n",
       "<table border=\"1\" class=\"dataframe\">\n",
       "  <thead>\n",
       "    <tr style=\"text-align: right;\">\n",
       "      <th></th>\n",
       "      <th>A</th>\n",
       "      <th>B</th>\n",
       "      <th>C</th>\n",
       "      <th>D</th>\n",
       "      <th>E</th>\n",
       "    </tr>\n",
       "  </thead>\n",
       "  <tbody>\n",
       "    <tr>\n",
       "      <th>2013-01-01</th>\n",
       "      <td>0.000000</td>\n",
       "      <td>0.000000</td>\n",
       "      <td>0.688422</td>\n",
       "      <td>5</td>\n",
       "      <td>1.0</td>\n",
       "    </tr>\n",
       "    <tr>\n",
       "      <th>2013-01-02</th>\n",
       "      <td>0.605535</td>\n",
       "      <td>-1.434775</td>\n",
       "      <td>-0.053566</td>\n",
       "      <td>5</td>\n",
       "      <td>1.0</td>\n",
       "    </tr>\n",
       "    <tr>\n",
       "      <th>2013-01-03</th>\n",
       "      <td>-1.270321</td>\n",
       "      <td>0.401786</td>\n",
       "      <td>1.711955</td>\n",
       "      <td>5</td>\n",
       "      <td>NaN</td>\n",
       "    </tr>\n",
       "    <tr>\n",
       "      <th>2013-01-04</th>\n",
       "      <td>1.237828</td>\n",
       "      <td>-0.189359</td>\n",
       "      <td>1.029329</td>\n",
       "      <td>5</td>\n",
       "      <td>NaN</td>\n",
       "    </tr>\n",
       "  </tbody>\n",
       "</table>\n",
       "</div>"
      ],
      "text/plain": [
       "                   A         B         C  D    E\n",
       "2013-01-01  0.000000  0.000000  0.688422  5  1.0\n",
       "2013-01-02  0.605535 -1.434775 -0.053566  5  1.0\n",
       "2013-01-03 -1.270321  0.401786  1.711955  5  NaN\n",
       "2013-01-04  1.237828 -0.189359  1.029329  5  NaN"
      ]
     },
     "execution_count": 161,
     "metadata": {},
     "output_type": "execute_result"
    }
   ],
   "source": [
    "df1 = df.reindex(index=dates[0:4], columns=list(df.columns) + [\"E\"])\n",
    "df1.loc[dates[0] : dates[1], \"E\"] = 1\n",
    "df1"
   ]
  },
  {
   "cell_type": "code",
   "execution_count": 162,
   "id": "267bf124",
   "metadata": {
    "execution": {
     "iopub.execute_input": "2023-08-24T14:31:57.246406Z",
     "iopub.status.busy": "2023-08-24T14:31:57.245987Z",
     "iopub.status.idle": "2023-08-24T14:31:57.259816Z",
     "shell.execute_reply": "2023-08-24T14:31:57.258542Z"
    },
    "papermill": {
     "duration": 0.102204,
     "end_time": "2023-08-24T14:31:57.262068",
     "exception": false,
     "start_time": "2023-08-24T14:31:57.159864",
     "status": "completed"
    },
    "tags": []
   },
   "outputs": [
    {
     "data": {
      "text/html": [
       "<div>\n",
       "<style scoped>\n",
       "    .dataframe tbody tr th:only-of-type {\n",
       "        vertical-align: middle;\n",
       "    }\n",
       "\n",
       "    .dataframe tbody tr th {\n",
       "        vertical-align: top;\n",
       "    }\n",
       "\n",
       "    .dataframe thead th {\n",
       "        text-align: right;\n",
       "    }\n",
       "</style>\n",
       "<table border=\"1\" class=\"dataframe\">\n",
       "  <thead>\n",
       "    <tr style=\"text-align: right;\">\n",
       "      <th></th>\n",
       "      <th>A</th>\n",
       "      <th>B</th>\n",
       "      <th>C</th>\n",
       "      <th>D</th>\n",
       "      <th>E</th>\n",
       "    </tr>\n",
       "  </thead>\n",
       "  <tbody>\n",
       "    <tr>\n",
       "      <th>2013-01-01</th>\n",
       "      <td>0.000000</td>\n",
       "      <td>0.000000</td>\n",
       "      <td>0.688422</td>\n",
       "      <td>5</td>\n",
       "      <td>1.0</td>\n",
       "    </tr>\n",
       "    <tr>\n",
       "      <th>2013-01-02</th>\n",
       "      <td>0.605535</td>\n",
       "      <td>-1.434775</td>\n",
       "      <td>-0.053566</td>\n",
       "      <td>5</td>\n",
       "      <td>1.0</td>\n",
       "    </tr>\n",
       "  </tbody>\n",
       "</table>\n",
       "</div>"
      ],
      "text/plain": [
       "                   A         B         C  D    E\n",
       "2013-01-01  0.000000  0.000000  0.688422  5  1.0\n",
       "2013-01-02  0.605535 -1.434775 -0.053566  5  1.0"
      ]
     },
     "execution_count": 162,
     "metadata": {},
     "output_type": "execute_result"
    }
   ],
   "source": [
    "df1.dropna(how=\"any\")"
   ]
  },
  {
   "cell_type": "code",
   "execution_count": 163,
   "id": "d9c00be8",
   "metadata": {
    "execution": {
     "iopub.execute_input": "2023-08-24T14:31:57.431718Z",
     "iopub.status.busy": "2023-08-24T14:31:57.431339Z",
     "iopub.status.idle": "2023-08-24T14:31:57.443880Z",
     "shell.execute_reply": "2023-08-24T14:31:57.443022Z"
    },
    "papermill": {
     "duration": 0.099777,
     "end_time": "2023-08-24T14:31:57.446039",
     "exception": false,
     "start_time": "2023-08-24T14:31:57.346262",
     "status": "completed"
    },
    "tags": []
   },
   "outputs": [
    {
     "data": {
      "text/html": [
       "<div>\n",
       "<style scoped>\n",
       "    .dataframe tbody tr th:only-of-type {\n",
       "        vertical-align: middle;\n",
       "    }\n",
       "\n",
       "    .dataframe tbody tr th {\n",
       "        vertical-align: top;\n",
       "    }\n",
       "\n",
       "    .dataframe thead th {\n",
       "        text-align: right;\n",
       "    }\n",
       "</style>\n",
       "<table border=\"1\" class=\"dataframe\">\n",
       "  <thead>\n",
       "    <tr style=\"text-align: right;\">\n",
       "      <th></th>\n",
       "      <th>A</th>\n",
       "      <th>B</th>\n",
       "      <th>C</th>\n",
       "      <th>D</th>\n",
       "      <th>E</th>\n",
       "    </tr>\n",
       "  </thead>\n",
       "  <tbody>\n",
       "    <tr>\n",
       "      <th>2013-01-01</th>\n",
       "      <td>0.000000</td>\n",
       "      <td>0.000000</td>\n",
       "      <td>0.688422</td>\n",
       "      <td>5</td>\n",
       "      <td>1.0</td>\n",
       "    </tr>\n",
       "    <tr>\n",
       "      <th>2013-01-02</th>\n",
       "      <td>0.605535</td>\n",
       "      <td>-1.434775</td>\n",
       "      <td>-0.053566</td>\n",
       "      <td>5</td>\n",
       "      <td>1.0</td>\n",
       "    </tr>\n",
       "    <tr>\n",
       "      <th>2013-01-03</th>\n",
       "      <td>-1.270321</td>\n",
       "      <td>0.401786</td>\n",
       "      <td>1.711955</td>\n",
       "      <td>5</td>\n",
       "      <td>5.0</td>\n",
       "    </tr>\n",
       "    <tr>\n",
       "      <th>2013-01-04</th>\n",
       "      <td>1.237828</td>\n",
       "      <td>-0.189359</td>\n",
       "      <td>1.029329</td>\n",
       "      <td>5</td>\n",
       "      <td>5.0</td>\n",
       "    </tr>\n",
       "  </tbody>\n",
       "</table>\n",
       "</div>"
      ],
      "text/plain": [
       "                   A         B         C  D    E\n",
       "2013-01-01  0.000000  0.000000  0.688422  5  1.0\n",
       "2013-01-02  0.605535 -1.434775 -0.053566  5  1.0\n",
       "2013-01-03 -1.270321  0.401786  1.711955  5  5.0\n",
       "2013-01-04  1.237828 -0.189359  1.029329  5  5.0"
      ]
     },
     "execution_count": 163,
     "metadata": {},
     "output_type": "execute_result"
    }
   ],
   "source": [
    "df1.fillna(value=5)"
   ]
  },
  {
   "cell_type": "code",
   "execution_count": 164,
   "id": "f5dd12eb",
   "metadata": {
    "execution": {
     "iopub.execute_input": "2023-08-24T14:31:57.616399Z",
     "iopub.status.busy": "2023-08-24T14:31:57.615401Z",
     "iopub.status.idle": "2023-08-24T14:31:57.627453Z",
     "shell.execute_reply": "2023-08-24T14:31:57.626696Z"
    },
    "papermill": {
     "duration": 0.098761,
     "end_time": "2023-08-24T14:31:57.629434",
     "exception": false,
     "start_time": "2023-08-24T14:31:57.530673",
     "status": "completed"
    },
    "tags": []
   },
   "outputs": [
    {
     "data": {
      "text/html": [
       "<div>\n",
       "<style scoped>\n",
       "    .dataframe tbody tr th:only-of-type {\n",
       "        vertical-align: middle;\n",
       "    }\n",
       "\n",
       "    .dataframe tbody tr th {\n",
       "        vertical-align: top;\n",
       "    }\n",
       "\n",
       "    .dataframe thead th {\n",
       "        text-align: right;\n",
       "    }\n",
       "</style>\n",
       "<table border=\"1\" class=\"dataframe\">\n",
       "  <thead>\n",
       "    <tr style=\"text-align: right;\">\n",
       "      <th></th>\n",
       "      <th>A</th>\n",
       "      <th>B</th>\n",
       "      <th>C</th>\n",
       "      <th>D</th>\n",
       "      <th>E</th>\n",
       "    </tr>\n",
       "  </thead>\n",
       "  <tbody>\n",
       "    <tr>\n",
       "      <th>2013-01-01</th>\n",
       "      <td>False</td>\n",
       "      <td>False</td>\n",
       "      <td>False</td>\n",
       "      <td>False</td>\n",
       "      <td>False</td>\n",
       "    </tr>\n",
       "    <tr>\n",
       "      <th>2013-01-02</th>\n",
       "      <td>False</td>\n",
       "      <td>False</td>\n",
       "      <td>False</td>\n",
       "      <td>False</td>\n",
       "      <td>False</td>\n",
       "    </tr>\n",
       "    <tr>\n",
       "      <th>2013-01-03</th>\n",
       "      <td>False</td>\n",
       "      <td>False</td>\n",
       "      <td>False</td>\n",
       "      <td>False</td>\n",
       "      <td>True</td>\n",
       "    </tr>\n",
       "    <tr>\n",
       "      <th>2013-01-04</th>\n",
       "      <td>False</td>\n",
       "      <td>False</td>\n",
       "      <td>False</td>\n",
       "      <td>False</td>\n",
       "      <td>True</td>\n",
       "    </tr>\n",
       "  </tbody>\n",
       "</table>\n",
       "</div>"
      ],
      "text/plain": [
       "                A      B      C      D      E\n",
       "2013-01-01  False  False  False  False  False\n",
       "2013-01-02  False  False  False  False  False\n",
       "2013-01-03  False  False  False  False   True\n",
       "2013-01-04  False  False  False  False   True"
      ]
     },
     "execution_count": 164,
     "metadata": {},
     "output_type": "execute_result"
    }
   ],
   "source": [
    "pd.isna(df1)"
   ]
  },
  {
   "cell_type": "code",
   "execution_count": 165,
   "id": "a914bed9",
   "metadata": {
    "execution": {
     "iopub.execute_input": "2023-08-24T14:31:57.799241Z",
     "iopub.status.busy": "2023-08-24T14:31:57.798105Z",
     "iopub.status.idle": "2023-08-24T14:31:57.807099Z",
     "shell.execute_reply": "2023-08-24T14:31:57.805959Z"
    },
    "papermill": {
     "duration": 0.096057,
     "end_time": "2023-08-24T14:31:57.809403",
     "exception": false,
     "start_time": "2023-08-24T14:31:57.713346",
     "status": "completed"
    },
    "tags": []
   },
   "outputs": [
    {
     "data": {
      "text/plain": [
       "A    0.253666\n",
       "B    0.117679\n",
       "C    0.041181\n",
       "D    5.000000\n",
       "dtype: float64"
      ]
     },
     "execution_count": 165,
     "metadata": {},
     "output_type": "execute_result"
    }
   ],
   "source": [
    "df.mean()"
   ]
  },
  {
   "cell_type": "code",
   "execution_count": 166,
   "id": "ea434207",
   "metadata": {
    "execution": {
     "iopub.execute_input": "2023-08-24T14:31:57.982273Z",
     "iopub.status.busy": "2023-08-24T14:31:57.981247Z",
     "iopub.status.idle": "2023-08-24T14:31:57.989085Z",
     "shell.execute_reply": "2023-08-24T14:31:57.988336Z"
    },
    "papermill": {
     "duration": 0.095839,
     "end_time": "2023-08-24T14:31:57.991196",
     "exception": false,
     "start_time": "2023-08-24T14:31:57.895357",
     "status": "completed"
    },
    "tags": []
   },
   "outputs": [
    {
     "data": {
      "text/plain": [
       "2013-01-01    1.422106\n",
       "2013-01-02    1.029299\n",
       "2013-01-03    1.460855\n",
       "2013-01-04    1.769450\n",
       "2013-01-05    1.301513\n",
       "2013-01-06    1.135567\n",
       "Freq: D, dtype: float64"
      ]
     },
     "execution_count": 166,
     "metadata": {},
     "output_type": "execute_result"
    }
   ],
   "source": [
    "df.mean(1)"
   ]
  },
  {
   "cell_type": "code",
   "execution_count": 167,
   "id": "b5908786",
   "metadata": {
    "execution": {
     "iopub.execute_input": "2023-08-24T14:31:58.164811Z",
     "iopub.status.busy": "2023-08-24T14:31:58.164060Z",
     "iopub.status.idle": "2023-08-24T14:31:58.172076Z",
     "shell.execute_reply": "2023-08-24T14:31:58.171340Z"
    },
    "papermill": {
     "duration": 0.097834,
     "end_time": "2023-08-24T14:31:58.174215",
     "exception": false,
     "start_time": "2023-08-24T14:31:58.076381",
     "status": "completed"
    },
    "tags": []
   },
   "outputs": [
    {
     "data": {
      "text/plain": [
       "2013-01-01    NaN\n",
       "2013-01-02    NaN\n",
       "2013-01-03    1.0\n",
       "2013-01-04    3.0\n",
       "2013-01-05    5.0\n",
       "2013-01-06    NaN\n",
       "Freq: D, dtype: float64"
      ]
     },
     "execution_count": 167,
     "metadata": {},
     "output_type": "execute_result"
    }
   ],
   "source": [
    "s = pd.Series([1, 3, 5, np.nan, 6, 8], index=dates).shift(2)\n",
    "s"
   ]
  },
  {
   "cell_type": "code",
   "execution_count": 168,
   "id": "1630ffc7",
   "metadata": {
    "execution": {
     "iopub.execute_input": "2023-08-24T14:31:58.346938Z",
     "iopub.status.busy": "2023-08-24T14:31:58.346205Z",
     "iopub.status.idle": "2023-08-24T14:31:58.359626Z",
     "shell.execute_reply": "2023-08-24T14:31:58.358754Z"
    },
    "papermill": {
     "duration": 0.102181,
     "end_time": "2023-08-24T14:31:58.361856",
     "exception": false,
     "start_time": "2023-08-24T14:31:58.259675",
     "status": "completed"
    },
    "tags": []
   },
   "outputs": [
    {
     "data": {
      "text/html": [
       "<div>\n",
       "<style scoped>\n",
       "    .dataframe tbody tr th:only-of-type {\n",
       "        vertical-align: middle;\n",
       "    }\n",
       "\n",
       "    .dataframe tbody tr th {\n",
       "        vertical-align: top;\n",
       "    }\n",
       "\n",
       "    .dataframe thead th {\n",
       "        text-align: right;\n",
       "    }\n",
       "</style>\n",
       "<table border=\"1\" class=\"dataframe\">\n",
       "  <thead>\n",
       "    <tr style=\"text-align: right;\">\n",
       "      <th></th>\n",
       "      <th>A</th>\n",
       "      <th>B</th>\n",
       "      <th>C</th>\n",
       "      <th>D</th>\n",
       "    </tr>\n",
       "  </thead>\n",
       "  <tbody>\n",
       "    <tr>\n",
       "      <th>2013-01-01</th>\n",
       "      <td>NaN</td>\n",
       "      <td>NaN</td>\n",
       "      <td>NaN</td>\n",
       "      <td>NaN</td>\n",
       "    </tr>\n",
       "    <tr>\n",
       "      <th>2013-01-02</th>\n",
       "      <td>NaN</td>\n",
       "      <td>NaN</td>\n",
       "      <td>NaN</td>\n",
       "      <td>NaN</td>\n",
       "    </tr>\n",
       "    <tr>\n",
       "      <th>2013-01-03</th>\n",
       "      <td>-2.270321</td>\n",
       "      <td>-0.598214</td>\n",
       "      <td>0.711955</td>\n",
       "      <td>4.0</td>\n",
       "    </tr>\n",
       "    <tr>\n",
       "      <th>2013-01-04</th>\n",
       "      <td>-1.762172</td>\n",
       "      <td>-3.189359</td>\n",
       "      <td>-1.970671</td>\n",
       "      <td>2.0</td>\n",
       "    </tr>\n",
       "    <tr>\n",
       "      <th>2013-01-05</th>\n",
       "      <td>-5.055113</td>\n",
       "      <td>-3.775254</td>\n",
       "      <td>-5.963580</td>\n",
       "      <td>0.0</td>\n",
       "    </tr>\n",
       "    <tr>\n",
       "      <th>2013-01-06</th>\n",
       "      <td>NaN</td>\n",
       "      <td>NaN</td>\n",
       "      <td>NaN</td>\n",
       "      <td>NaN</td>\n",
       "    </tr>\n",
       "  </tbody>\n",
       "</table>\n",
       "</div>"
      ],
      "text/plain": [
       "                   A         B         C    D\n",
       "2013-01-01       NaN       NaN       NaN  NaN\n",
       "2013-01-02       NaN       NaN       NaN  NaN\n",
       "2013-01-03 -2.270321 -0.598214  0.711955  4.0\n",
       "2013-01-04 -1.762172 -3.189359 -1.970671  2.0\n",
       "2013-01-05 -5.055113 -3.775254 -5.963580  0.0\n",
       "2013-01-06       NaN       NaN       NaN  NaN"
      ]
     },
     "execution_count": 168,
     "metadata": {},
     "output_type": "execute_result"
    }
   ],
   "source": [
    "df.sub(s, axis=\"index\")"
   ]
  },
  {
   "cell_type": "code",
   "execution_count": 169,
   "id": "594a2098",
   "metadata": {
    "execution": {
     "iopub.execute_input": "2023-08-24T14:31:58.535402Z",
     "iopub.status.busy": "2023-08-24T14:31:58.534992Z",
     "iopub.status.idle": "2023-08-24T14:31:58.548281Z",
     "shell.execute_reply": "2023-08-24T14:31:58.547077Z"
    },
    "papermill": {
     "duration": 0.10246,
     "end_time": "2023-08-24T14:31:58.550619",
     "exception": false,
     "start_time": "2023-08-24T14:31:58.448159",
     "status": "completed"
    },
    "tags": []
   },
   "outputs": [
    {
     "data": {
      "text/html": [
       "<div>\n",
       "<style scoped>\n",
       "    .dataframe tbody tr th:only-of-type {\n",
       "        vertical-align: middle;\n",
       "    }\n",
       "\n",
       "    .dataframe tbody tr th {\n",
       "        vertical-align: top;\n",
       "    }\n",
       "\n",
       "    .dataframe thead th {\n",
       "        text-align: right;\n",
       "    }\n",
       "</style>\n",
       "<table border=\"1\" class=\"dataframe\">\n",
       "  <thead>\n",
       "    <tr style=\"text-align: right;\">\n",
       "      <th></th>\n",
       "      <th>A</th>\n",
       "      <th>B</th>\n",
       "      <th>C</th>\n",
       "      <th>D</th>\n",
       "    </tr>\n",
       "  </thead>\n",
       "  <tbody>\n",
       "    <tr>\n",
       "      <th>2013-01-01</th>\n",
       "      <td>0.000000</td>\n",
       "      <td>0.000000</td>\n",
       "      <td>0.688422</td>\n",
       "      <td>5</td>\n",
       "    </tr>\n",
       "    <tr>\n",
       "      <th>2013-01-02</th>\n",
       "      <td>0.605535</td>\n",
       "      <td>-1.434775</td>\n",
       "      <td>0.634857</td>\n",
       "      <td>10</td>\n",
       "    </tr>\n",
       "    <tr>\n",
       "      <th>2013-01-03</th>\n",
       "      <td>-0.664786</td>\n",
       "      <td>-1.032988</td>\n",
       "      <td>2.346812</td>\n",
       "      <td>15</td>\n",
       "    </tr>\n",
       "    <tr>\n",
       "      <th>2013-01-04</th>\n",
       "      <td>0.573042</td>\n",
       "      <td>-1.222347</td>\n",
       "      <td>3.376142</td>\n",
       "      <td>20</td>\n",
       "    </tr>\n",
       "    <tr>\n",
       "      <th>2013-01-05</th>\n",
       "      <td>0.517929</td>\n",
       "      <td>0.002399</td>\n",
       "      <td>2.412561</td>\n",
       "      <td>25</td>\n",
       "    </tr>\n",
       "    <tr>\n",
       "      <th>2013-01-06</th>\n",
       "      <td>1.521994</td>\n",
       "      <td>0.706076</td>\n",
       "      <td>0.247088</td>\n",
       "      <td>30</td>\n",
       "    </tr>\n",
       "  </tbody>\n",
       "</table>\n",
       "</div>"
      ],
      "text/plain": [
       "                   A         B         C   D\n",
       "2013-01-01  0.000000  0.000000  0.688422   5\n",
       "2013-01-02  0.605535 -1.434775  0.634857  10\n",
       "2013-01-03 -0.664786 -1.032988  2.346812  15\n",
       "2013-01-04  0.573042 -1.222347  3.376142  20\n",
       "2013-01-05  0.517929  0.002399  2.412561  25\n",
       "2013-01-06  1.521994  0.706076  0.247088  30"
      ]
     },
     "execution_count": 169,
     "metadata": {},
     "output_type": "execute_result"
    }
   ],
   "source": [
    "df.apply(np.cumsum)"
   ]
  },
  {
   "cell_type": "code",
   "execution_count": 170,
   "id": "518a2c81",
   "metadata": {
    "execution": {
     "iopub.execute_input": "2023-08-24T14:31:58.725302Z",
     "iopub.status.busy": "2023-08-24T14:31:58.724758Z",
     "iopub.status.idle": "2023-08-24T14:31:58.735216Z",
     "shell.execute_reply": "2023-08-24T14:31:58.734136Z"
    },
    "papermill": {
     "duration": 0.101368,
     "end_time": "2023-08-24T14:31:58.737455",
     "exception": false,
     "start_time": "2023-08-24T14:31:58.636087",
     "status": "completed"
    },
    "tags": []
   },
   "outputs": [
    {
     "data": {
      "text/plain": [
       "A    2.508149\n",
       "B    2.659521\n",
       "C    3.877428\n",
       "D    0.000000\n",
       "dtype: float64"
      ]
     },
     "execution_count": 170,
     "metadata": {},
     "output_type": "execute_result"
    }
   ],
   "source": [
    "df.apply(lambda x: x.max() - x.min())"
   ]
  },
  {
   "cell_type": "code",
   "execution_count": null,
   "id": "7677aaab",
   "metadata": {
    "papermill": {
     "duration": 0.098459,
     "end_time": "2023-08-24T14:31:58.921364",
     "exception": false,
     "start_time": "2023-08-24T14:31:58.822905",
     "status": "completed"
    },
    "tags": []
   },
   "outputs": [],
   "source": []
  }
 ],
 "metadata": {
  "kernelspec": {
   "display_name": "Python 3",
   "language": "python",
   "name": "python3"
  },
  "language_info": {
   "codemirror_mode": {
    "name": "ipython",
    "version": 3
   },
   "file_extension": ".py",
   "mimetype": "text/x-python",
   "name": "python",
   "nbconvert_exporter": "python",
   "pygments_lexer": "ipython3",
   "version": "3.10.12"
  },
  "papermill": {
   "default_parameters": {},
   "duration": 39.71743,
   "end_time": "2023-08-24T14:31:59.836083",
   "environment_variables": {},
   "exception": null,
   "input_path": "__notebook__.ipynb",
   "output_path": "__notebook__.ipynb",
   "parameters": {},
   "start_time": "2023-08-24T14:31:20.118653",
   "version": "2.4.0"
  }
 },
 "nbformat": 4,
 "nbformat_minor": 5
}
