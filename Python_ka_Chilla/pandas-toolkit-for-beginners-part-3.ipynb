{
 "cells": [
  {
   "cell_type": "markdown",
   "id": "53b943b8",
   "metadata": {
    "papermill": {
     "duration": 0.035682,
     "end_time": "2023-08-17T20:19:40.239931",
     "exception": false,
     "start_time": "2023-08-17T20:19:40.204249",
     "status": "completed"
    },
    "tags": []
   },
   "source": [
    "<div style=\"color:white;background-color:Black;padding:3%;border-radius:150px 150px;font-size:2.5em;text-align:center\">Pandas toolkit Part 3</div>"
   ]
  },
  {
   "cell_type": "markdown",
   "id": "792c5857",
   "metadata": {
    "papermill": {
     "duration": 0.036568,
     "end_time": "2023-08-17T20:19:40.312385",
     "exception": false,
     "start_time": "2023-08-17T20:19:40.275817",
     "status": "completed"
    },
    "tags": []
   },
   "source": [
    "<center>\n",
    "<img src=\"https://i1.wp.com/www.datascienceexamples.com/wp-content/uploads/2019/10/python-and-pandas.jpg?resize=800%2C286&ssl=1\" width=1200>\n",
    "</center>"
   ]
  },
  {
   "cell_type": "code",
   "execution_count": 1,
   "id": "7c5b8105",
   "metadata": {
    "execution": {
     "iopub.execute_input": "2023-08-17T20:19:40.384554Z",
     "iopub.status.busy": "2023-08-17T20:19:40.384048Z",
     "iopub.status.idle": "2023-08-17T20:19:40.396447Z",
     "shell.execute_reply": "2023-08-17T20:19:40.395629Z"
    },
    "papermill": {
     "duration": 0.051429,
     "end_time": "2023-08-17T20:19:40.398668",
     "exception": false,
     "start_time": "2023-08-17T20:19:40.347239",
     "status": "completed"
    },
    "tags": []
   },
   "outputs": [],
   "source": [
    "import pandas as pd \n",
    "import numpy as np "
   ]
  },
  {
   "cell_type": "code",
   "execution_count": 2,
   "id": "db1588e6",
   "metadata": {
    "execution": {
     "iopub.execute_input": "2023-08-17T20:19:40.470372Z",
     "iopub.status.busy": "2023-08-17T20:19:40.469494Z",
     "iopub.status.idle": "2023-08-17T20:19:40.503212Z",
     "shell.execute_reply": "2023-08-17T20:19:40.502134Z"
    },
    "papermill": {
     "duration": 0.072784,
     "end_time": "2023-08-17T20:19:40.506241",
     "exception": false,
     "start_time": "2023-08-17T20:19:40.433457",
     "status": "completed"
    },
    "tags": []
   },
   "outputs": [
    {
     "data": {
      "text/html": [
       "<div>\n",
       "<style scoped>\n",
       "    .dataframe tbody tr th:only-of-type {\n",
       "        vertical-align: middle;\n",
       "    }\n",
       "\n",
       "    .dataframe tbody tr th {\n",
       "        vertical-align: top;\n",
       "    }\n",
       "\n",
       "    .dataframe thead th {\n",
       "        text-align: right;\n",
       "    }\n",
       "</style>\n",
       "<table border=\"1\" class=\"dataframe\">\n",
       "  <thead>\n",
       "    <tr style=\"text-align: right;\">\n",
       "      <th></th>\n",
       "      <th>b</th>\n",
       "    </tr>\n",
       "  </thead>\n",
       "  <tbody>\n",
       "    <tr>\n",
       "      <th>count</th>\n",
       "      <td>4.000000</td>\n",
       "    </tr>\n",
       "    <tr>\n",
       "      <th>mean</th>\n",
       "      <td>1.500000</td>\n",
       "    </tr>\n",
       "    <tr>\n",
       "      <th>std</th>\n",
       "      <td>1.290994</td>\n",
       "    </tr>\n",
       "    <tr>\n",
       "      <th>min</th>\n",
       "      <td>0.000000</td>\n",
       "    </tr>\n",
       "    <tr>\n",
       "      <th>25%</th>\n",
       "      <td>0.750000</td>\n",
       "    </tr>\n",
       "    <tr>\n",
       "      <th>50%</th>\n",
       "      <td>1.500000</td>\n",
       "    </tr>\n",
       "    <tr>\n",
       "      <th>75%</th>\n",
       "      <td>2.250000</td>\n",
       "    </tr>\n",
       "    <tr>\n",
       "      <th>max</th>\n",
       "      <td>3.000000</td>\n",
       "    </tr>\n",
       "  </tbody>\n",
       "</table>\n",
       "</div>"
      ],
      "text/plain": [
       "              b\n",
       "count  4.000000\n",
       "mean   1.500000\n",
       "std    1.290994\n",
       "min    0.000000\n",
       "25%    0.750000\n",
       "50%    1.500000\n",
       "75%    2.250000\n",
       "max    3.000000"
      ]
     },
     "execution_count": 2,
     "metadata": {},
     "output_type": "execute_result"
    }
   ],
   "source": [
    "frame = pd.DataFrame({\"a\": [\"Yes\", \"Yes\", \"No\", \"No\"], \"b\": range(4)})\n",
    "frame.describe()"
   ]
  },
  {
   "cell_type": "code",
   "execution_count": 3,
   "id": "48a1d73f",
   "metadata": {
    "execution": {
     "iopub.execute_input": "2023-08-17T20:19:40.577732Z",
     "iopub.status.busy": "2023-08-17T20:19:40.577358Z",
     "iopub.status.idle": "2023-08-17T20:19:40.593154Z",
     "shell.execute_reply": "2023-08-17T20:19:40.592373Z"
    },
    "papermill": {
     "duration": 0.05403,
     "end_time": "2023-08-17T20:19:40.595122",
     "exception": false,
     "start_time": "2023-08-17T20:19:40.541092",
     "status": "completed"
    },
    "tags": []
   },
   "outputs": [
    {
     "data": {
      "text/html": [
       "<div>\n",
       "<style scoped>\n",
       "    .dataframe tbody tr th:only-of-type {\n",
       "        vertical-align: middle;\n",
       "    }\n",
       "\n",
       "    .dataframe tbody tr th {\n",
       "        vertical-align: top;\n",
       "    }\n",
       "\n",
       "    .dataframe thead th {\n",
       "        text-align: right;\n",
       "    }\n",
       "</style>\n",
       "<table border=\"1\" class=\"dataframe\">\n",
       "  <thead>\n",
       "    <tr style=\"text-align: right;\">\n",
       "      <th></th>\n",
       "      <th>a</th>\n",
       "    </tr>\n",
       "  </thead>\n",
       "  <tbody>\n",
       "    <tr>\n",
       "      <th>count</th>\n",
       "      <td>4</td>\n",
       "    </tr>\n",
       "    <tr>\n",
       "      <th>unique</th>\n",
       "      <td>2</td>\n",
       "    </tr>\n",
       "    <tr>\n",
       "      <th>top</th>\n",
       "      <td>Yes</td>\n",
       "    </tr>\n",
       "    <tr>\n",
       "      <th>freq</th>\n",
       "      <td>2</td>\n",
       "    </tr>\n",
       "  </tbody>\n",
       "</table>\n",
       "</div>"
      ],
      "text/plain": [
       "          a\n",
       "count     4\n",
       "unique    2\n",
       "top     Yes\n",
       "freq      2"
      ]
     },
     "execution_count": 3,
     "metadata": {},
     "output_type": "execute_result"
    }
   ],
   "source": [
    "frame.describe(include=[\"object\"])"
   ]
  },
  {
   "cell_type": "code",
   "execution_count": 4,
   "id": "03857497",
   "metadata": {
    "execution": {
     "iopub.execute_input": "2023-08-17T20:19:40.667048Z",
     "iopub.status.busy": "2023-08-17T20:19:40.666335Z",
     "iopub.status.idle": "2023-08-17T20:19:40.678998Z",
     "shell.execute_reply": "2023-08-17T20:19:40.678167Z"
    },
    "papermill": {
     "duration": 0.051021,
     "end_time": "2023-08-17T20:19:40.681061",
     "exception": false,
     "start_time": "2023-08-17T20:19:40.630040",
     "status": "completed"
    },
    "tags": []
   },
   "outputs": [
    {
     "data": {
      "text/html": [
       "<div>\n",
       "<style scoped>\n",
       "    .dataframe tbody tr th:only-of-type {\n",
       "        vertical-align: middle;\n",
       "    }\n",
       "\n",
       "    .dataframe tbody tr th {\n",
       "        vertical-align: top;\n",
       "    }\n",
       "\n",
       "    .dataframe thead th {\n",
       "        text-align: right;\n",
       "    }\n",
       "</style>\n",
       "<table border=\"1\" class=\"dataframe\">\n",
       "  <thead>\n",
       "    <tr style=\"text-align: right;\">\n",
       "      <th></th>\n",
       "      <th>b</th>\n",
       "    </tr>\n",
       "  </thead>\n",
       "  <tbody>\n",
       "    <tr>\n",
       "      <th>count</th>\n",
       "      <td>4.000000</td>\n",
       "    </tr>\n",
       "    <tr>\n",
       "      <th>mean</th>\n",
       "      <td>1.500000</td>\n",
       "    </tr>\n",
       "    <tr>\n",
       "      <th>std</th>\n",
       "      <td>1.290994</td>\n",
       "    </tr>\n",
       "    <tr>\n",
       "      <th>min</th>\n",
       "      <td>0.000000</td>\n",
       "    </tr>\n",
       "    <tr>\n",
       "      <th>25%</th>\n",
       "      <td>0.750000</td>\n",
       "    </tr>\n",
       "    <tr>\n",
       "      <th>50%</th>\n",
       "      <td>1.500000</td>\n",
       "    </tr>\n",
       "    <tr>\n",
       "      <th>75%</th>\n",
       "      <td>2.250000</td>\n",
       "    </tr>\n",
       "    <tr>\n",
       "      <th>max</th>\n",
       "      <td>3.000000</td>\n",
       "    </tr>\n",
       "  </tbody>\n",
       "</table>\n",
       "</div>"
      ],
      "text/plain": [
       "              b\n",
       "count  4.000000\n",
       "mean   1.500000\n",
       "std    1.290994\n",
       "min    0.000000\n",
       "25%    0.750000\n",
       "50%    1.500000\n",
       "75%    2.250000\n",
       "max    3.000000"
      ]
     },
     "execution_count": 4,
     "metadata": {},
     "output_type": "execute_result"
    }
   ],
   "source": [
    "frame.describe(include=[\"number\"])"
   ]
  },
  {
   "cell_type": "code",
   "execution_count": 5,
   "id": "44640d8e",
   "metadata": {
    "execution": {
     "iopub.execute_input": "2023-08-17T20:19:40.753603Z",
     "iopub.status.busy": "2023-08-17T20:19:40.752842Z",
     "iopub.status.idle": "2023-08-17T20:19:40.760561Z",
     "shell.execute_reply": "2023-08-17T20:19:40.759623Z"
    },
    "papermill": {
     "duration": 0.046463,
     "end_time": "2023-08-17T20:19:40.762714",
     "exception": false,
     "start_time": "2023-08-17T20:19:40.716251",
     "status": "completed"
    },
    "tags": []
   },
   "outputs": [
    {
     "data": {
      "text/plain": [
       "0   -0.083691\n",
       "1   -0.677960\n",
       "2   -0.929881\n",
       "3   -0.780733\n",
       "4    0.541972\n",
       "dtype: float64"
      ]
     },
     "execution_count": 5,
     "metadata": {},
     "output_type": "execute_result"
    }
   ],
   "source": [
    "s1 = pd.Series(np.random.randn(5))\n",
    "s1"
   ]
  },
  {
   "cell_type": "code",
   "execution_count": 6,
   "id": "ac14e154",
   "metadata": {
    "execution": {
     "iopub.execute_input": "2023-08-17T20:19:40.835724Z",
     "iopub.status.busy": "2023-08-17T20:19:40.835004Z",
     "iopub.status.idle": "2023-08-17T20:19:40.841884Z",
     "shell.execute_reply": "2023-08-17T20:19:40.840798Z"
    },
    "papermill": {
     "duration": 0.045977,
     "end_time": "2023-08-17T20:19:40.844168",
     "exception": false,
     "start_time": "2023-08-17T20:19:40.798191",
     "status": "completed"
    },
    "tags": []
   },
   "outputs": [
    {
     "data": {
      "text/plain": [
       "(2, 4)"
      ]
     },
     "execution_count": 6,
     "metadata": {},
     "output_type": "execute_result"
    }
   ],
   "source": [
    "s1.idxmin(), s1.idxmax()"
   ]
  },
  {
   "cell_type": "code",
   "execution_count": 7,
   "id": "7eea6f98",
   "metadata": {
    "execution": {
     "iopub.execute_input": "2023-08-17T20:19:40.917405Z",
     "iopub.status.busy": "2023-08-17T20:19:40.916987Z",
     "iopub.status.idle": "2023-08-17T20:19:40.929349Z",
     "shell.execute_reply": "2023-08-17T20:19:40.928536Z"
    },
    "papermill": {
     "duration": 0.05107,
     "end_time": "2023-08-17T20:19:40.931357",
     "exception": false,
     "start_time": "2023-08-17T20:19:40.880287",
     "status": "completed"
    },
    "tags": []
   },
   "outputs": [
    {
     "data": {
      "text/html": [
       "<div>\n",
       "<style scoped>\n",
       "    .dataframe tbody tr th:only-of-type {\n",
       "        vertical-align: middle;\n",
       "    }\n",
       "\n",
       "    .dataframe tbody tr th {\n",
       "        vertical-align: top;\n",
       "    }\n",
       "\n",
       "    .dataframe thead th {\n",
       "        text-align: right;\n",
       "    }\n",
       "</style>\n",
       "<table border=\"1\" class=\"dataframe\">\n",
       "  <thead>\n",
       "    <tr style=\"text-align: right;\">\n",
       "      <th></th>\n",
       "      <th>A</th>\n",
       "      <th>B</th>\n",
       "      <th>C</th>\n",
       "    </tr>\n",
       "  </thead>\n",
       "  <tbody>\n",
       "    <tr>\n",
       "      <th>0</th>\n",
       "      <td>0.951324</td>\n",
       "      <td>-0.194154</td>\n",
       "      <td>0.516693</td>\n",
       "    </tr>\n",
       "    <tr>\n",
       "      <th>1</th>\n",
       "      <td>0.710357</td>\n",
       "      <td>-0.603373</td>\n",
       "      <td>-0.993585</td>\n",
       "    </tr>\n",
       "    <tr>\n",
       "      <th>2</th>\n",
       "      <td>-0.715452</td>\n",
       "      <td>0.111067</td>\n",
       "      <td>-0.613738</td>\n",
       "    </tr>\n",
       "    <tr>\n",
       "      <th>3</th>\n",
       "      <td>0.339634</td>\n",
       "      <td>1.349545</td>\n",
       "      <td>-1.007500</td>\n",
       "    </tr>\n",
       "    <tr>\n",
       "      <th>4</th>\n",
       "      <td>0.846109</td>\n",
       "      <td>-1.345785</td>\n",
       "      <td>0.796726</td>\n",
       "    </tr>\n",
       "  </tbody>\n",
       "</table>\n",
       "</div>"
      ],
      "text/plain": [
       "          A         B         C\n",
       "0  0.951324 -0.194154  0.516693\n",
       "1  0.710357 -0.603373 -0.993585\n",
       "2 -0.715452  0.111067 -0.613738\n",
       "3  0.339634  1.349545 -1.007500\n",
       "4  0.846109 -1.345785  0.796726"
      ]
     },
     "execution_count": 7,
     "metadata": {},
     "output_type": "execute_result"
    }
   ],
   "source": [
    "df1 = pd.DataFrame(np.random.randn(5, 3), columns=[\"A\", \"B\", \"C\"])\n",
    "df1"
   ]
  },
  {
   "cell_type": "code",
   "execution_count": 8,
   "id": "f5f28bf4",
   "metadata": {
    "execution": {
     "iopub.execute_input": "2023-08-17T20:19:41.008706Z",
     "iopub.status.busy": "2023-08-17T20:19:41.007929Z",
     "iopub.status.idle": "2023-08-17T20:19:41.016077Z",
     "shell.execute_reply": "2023-08-17T20:19:41.014892Z"
    },
    "papermill": {
     "duration": 0.051134,
     "end_time": "2023-08-17T20:19:41.018657",
     "exception": false,
     "start_time": "2023-08-17T20:19:40.967523",
     "status": "completed"
    },
    "tags": []
   },
   "outputs": [
    {
     "data": {
      "text/plain": [
       "A    2\n",
       "B    4\n",
       "C    3\n",
       "dtype: int64"
      ]
     },
     "execution_count": 8,
     "metadata": {},
     "output_type": "execute_result"
    }
   ],
   "source": [
    "df1.idxmin(axis=0)"
   ]
  },
  {
   "cell_type": "code",
   "execution_count": 9,
   "id": "a2c77dcd",
   "metadata": {
    "execution": {
     "iopub.execute_input": "2023-08-17T20:19:41.093600Z",
     "iopub.status.busy": "2023-08-17T20:19:41.092521Z",
     "iopub.status.idle": "2023-08-17T20:19:41.102239Z",
     "shell.execute_reply": "2023-08-17T20:19:41.101139Z"
    },
    "papermill": {
     "duration": 0.04999,
     "end_time": "2023-08-17T20:19:41.104728",
     "exception": false,
     "start_time": "2023-08-17T20:19:41.054738",
     "status": "completed"
    },
    "tags": []
   },
   "outputs": [
    {
     "data": {
      "text/plain": [
       "0    A\n",
       "1    A\n",
       "2    B\n",
       "3    B\n",
       "4    A\n",
       "dtype: object"
      ]
     },
     "execution_count": 9,
     "metadata": {},
     "output_type": "execute_result"
    }
   ],
   "source": [
    "df1.idxmax(axis=1)"
   ]
  },
  {
   "cell_type": "code",
   "execution_count": 10,
   "id": "b878e320",
   "metadata": {
    "execution": {
     "iopub.execute_input": "2023-08-17T20:19:41.179933Z",
     "iopub.status.busy": "2023-08-17T20:19:41.179499Z",
     "iopub.status.idle": "2023-08-17T20:19:41.191998Z",
     "shell.execute_reply": "2023-08-17T20:19:41.190920Z"
    },
    "papermill": {
     "duration": 0.052985,
     "end_time": "2023-08-17T20:19:41.194368",
     "exception": false,
     "start_time": "2023-08-17T20:19:41.141383",
     "status": "completed"
    },
    "tags": []
   },
   "outputs": [
    {
     "data": {
      "text/html": [
       "<div>\n",
       "<style scoped>\n",
       "    .dataframe tbody tr th:only-of-type {\n",
       "        vertical-align: middle;\n",
       "    }\n",
       "\n",
       "    .dataframe tbody tr th {\n",
       "        vertical-align: top;\n",
       "    }\n",
       "\n",
       "    .dataframe thead th {\n",
       "        text-align: right;\n",
       "    }\n",
       "</style>\n",
       "<table border=\"1\" class=\"dataframe\">\n",
       "  <thead>\n",
       "    <tr style=\"text-align: right;\">\n",
       "      <th></th>\n",
       "      <th>A</th>\n",
       "    </tr>\n",
       "  </thead>\n",
       "  <tbody>\n",
       "    <tr>\n",
       "      <th>e</th>\n",
       "      <td>2.0</td>\n",
       "    </tr>\n",
       "    <tr>\n",
       "      <th>d</th>\n",
       "      <td>1.0</td>\n",
       "    </tr>\n",
       "    <tr>\n",
       "      <th>c</th>\n",
       "      <td>1.0</td>\n",
       "    </tr>\n",
       "    <tr>\n",
       "      <th>b</th>\n",
       "      <td>3.0</td>\n",
       "    </tr>\n",
       "    <tr>\n",
       "      <th>a</th>\n",
       "      <td>NaN</td>\n",
       "    </tr>\n",
       "  </tbody>\n",
       "</table>\n",
       "</div>"
      ],
      "text/plain": [
       "     A\n",
       "e  2.0\n",
       "d  1.0\n",
       "c  1.0\n",
       "b  3.0\n",
       "a  NaN"
      ]
     },
     "execution_count": 10,
     "metadata": {},
     "output_type": "execute_result"
    }
   ],
   "source": [
    "df3 = pd.DataFrame([2, 1, 1, 3, np.nan], columns=[\"A\"], index=list(\"edcba\"))\n",
    "df3"
   ]
  },
  {
   "cell_type": "code",
   "execution_count": 11,
   "id": "8083d883",
   "metadata": {
    "execution": {
     "iopub.execute_input": "2023-08-17T20:19:41.268781Z",
     "iopub.status.busy": "2023-08-17T20:19:41.268358Z",
     "iopub.status.idle": "2023-08-17T20:19:41.276416Z",
     "shell.execute_reply": "2023-08-17T20:19:41.275281Z"
    },
    "papermill": {
     "duration": 0.048072,
     "end_time": "2023-08-17T20:19:41.278817",
     "exception": false,
     "start_time": "2023-08-17T20:19:41.230745",
     "status": "completed"
    },
    "tags": []
   },
   "outputs": [
    {
     "data": {
      "text/plain": [
       "array([6, 1, 4, 0, 0, 2, 4, 1, 2, 4, 3, 3, 5, 6, 6, 4, 2, 5, 1, 1, 3, 4,\n",
       "       3, 3, 1, 4, 4, 0, 3, 3, 6, 2, 3, 1, 0, 4, 5, 1, 4, 6, 3, 4, 6, 3,\n",
       "       4, 1, 0, 4, 6, 5])"
      ]
     },
     "execution_count": 11,
     "metadata": {},
     "output_type": "execute_result"
    }
   ],
   "source": [
    "data = np.random.randint(0, 7, size=50)\n",
    "data"
   ]
  },
  {
   "cell_type": "code",
   "execution_count": 12,
   "id": "432f110e",
   "metadata": {
    "execution": {
     "iopub.execute_input": "2023-08-17T20:19:41.354647Z",
     "iopub.status.busy": "2023-08-17T20:19:41.354267Z",
     "iopub.status.idle": "2023-08-17T20:19:41.362466Z",
     "shell.execute_reply": "2023-08-17T20:19:41.361368Z"
    },
    "papermill": {
     "duration": 0.048942,
     "end_time": "2023-08-17T20:19:41.364688",
     "exception": false,
     "start_time": "2023-08-17T20:19:41.315746",
     "status": "completed"
    },
    "tags": []
   },
   "outputs": [
    {
     "data": {
      "text/plain": [
       "4    12\n",
       "3    10\n",
       "1     8\n",
       "6     7\n",
       "0     5\n",
       "2     4\n",
       "5     4\n",
       "dtype: int64"
      ]
     },
     "execution_count": 12,
     "metadata": {},
     "output_type": "execute_result"
    }
   ],
   "source": [
    "s = pd.Series(data)\n",
    "s.value_counts()"
   ]
  },
  {
   "cell_type": "code",
   "execution_count": 13,
   "id": "95c2c23d",
   "metadata": {
    "execution": {
     "iopub.execute_input": "2023-08-17T20:19:41.441439Z",
     "iopub.status.busy": "2023-08-17T20:19:41.440746Z",
     "iopub.status.idle": "2023-08-17T20:19:41.457366Z",
     "shell.execute_reply": "2023-08-17T20:19:41.456257Z"
    },
    "papermill": {
     "duration": 0.057739,
     "end_time": "2023-08-17T20:19:41.459735",
     "exception": false,
     "start_time": "2023-08-17T20:19:41.401996",
     "status": "completed"
    },
    "tags": []
   },
   "outputs": [
    {
     "data": {
      "text/plain": [
       "a  b\n",
       "1  x    1\n",
       "2  x    1\n",
       "3  y    1\n",
       "4  y    1\n",
       "dtype: int64"
      ]
     },
     "execution_count": 13,
     "metadata": {},
     "output_type": "execute_result"
    }
   ],
   "source": [
    "data = {\"a\": [1, 2, 3, 4], \"b\": [\"x\", \"x\", \"y\", \"y\"]}\n",
    "frame = pd.DataFrame(data)\n",
    "frame.value_counts()"
   ]
  },
  {
   "cell_type": "code",
   "execution_count": 14,
   "id": "f2704c19",
   "metadata": {
    "execution": {
     "iopub.execute_input": "2023-08-17T20:19:41.535762Z",
     "iopub.status.busy": "2023-08-17T20:19:41.535326Z",
     "iopub.status.idle": "2023-08-17T20:19:41.544374Z",
     "shell.execute_reply": "2023-08-17T20:19:41.543198Z"
    },
    "papermill": {
     "duration": 0.050246,
     "end_time": "2023-08-17T20:19:41.546776",
     "exception": false,
     "start_time": "2023-08-17T20:19:41.496530",
     "status": "completed"
    },
    "tags": []
   },
   "outputs": [
    {
     "data": {
      "text/plain": [
       "0    3\n",
       "1    7\n",
       "dtype: int64"
      ]
     },
     "execution_count": 14,
     "metadata": {},
     "output_type": "execute_result"
    }
   ],
   "source": [
    "s5 = pd.Series([1, 1, 3, 3, 3, 5, 5, 7, 7, 7])\n",
    "s5.mode()"
   ]
  },
  {
   "cell_type": "code",
   "execution_count": 15,
   "id": "7a3c6748",
   "metadata": {
    "execution": {
     "iopub.execute_input": "2023-08-17T20:19:41.624070Z",
     "iopub.status.busy": "2023-08-17T20:19:41.622879Z",
     "iopub.status.idle": "2023-08-17T20:19:41.635490Z",
     "shell.execute_reply": "2023-08-17T20:19:41.634716Z"
    },
    "papermill": {
     "duration": 0.053328,
     "end_time": "2023-08-17T20:19:41.637631",
     "exception": false,
     "start_time": "2023-08-17T20:19:41.584303",
     "status": "completed"
    },
    "tags": []
   },
   "outputs": [
    {
     "data": {
      "text/html": [
       "<div>\n",
       "<style scoped>\n",
       "    .dataframe tbody tr th:only-of-type {\n",
       "        vertical-align: middle;\n",
       "    }\n",
       "\n",
       "    .dataframe tbody tr th {\n",
       "        vertical-align: top;\n",
       "    }\n",
       "\n",
       "    .dataframe thead th {\n",
       "        text-align: right;\n",
       "    }\n",
       "</style>\n",
       "<table border=\"1\" class=\"dataframe\">\n",
       "  <thead>\n",
       "    <tr style=\"text-align: right;\">\n",
       "      <th></th>\n",
       "      <th>A</th>\n",
       "      <th>B</th>\n",
       "    </tr>\n",
       "  </thead>\n",
       "  <tbody>\n",
       "    <tr>\n",
       "      <th>0</th>\n",
       "      <td>4.0</td>\n",
       "      <td>-9</td>\n",
       "    </tr>\n",
       "    <tr>\n",
       "      <th>1</th>\n",
       "      <td>NaN</td>\n",
       "      <td>12</td>\n",
       "    </tr>\n",
       "  </tbody>\n",
       "</table>\n",
       "</div>"
      ],
      "text/plain": [
       "     A   B\n",
       "0  4.0  -9\n",
       "1  NaN  12"
      ]
     },
     "execution_count": 15,
     "metadata": {},
     "output_type": "execute_result"
    }
   ],
   "source": [
    "df5 = pd.DataFrame({\n",
    "\"A\": np.random.randint(0, 7, size=50),\n",
    "\"B\": np.random.randint(-10, 15, size=50),\n",
    "})\n",
    "df5.mode()"
   ]
  },
  {
   "cell_type": "code",
   "execution_count": 16,
   "id": "2422b0a9",
   "metadata": {
    "execution": {
     "iopub.execute_input": "2023-08-17T20:19:41.714038Z",
     "iopub.status.busy": "2023-08-17T20:19:41.713584Z",
     "iopub.status.idle": "2023-08-17T20:19:41.731489Z",
     "shell.execute_reply": "2023-08-17T20:19:41.730420Z"
    },
    "papermill": {
     "duration": 0.058796,
     "end_time": "2023-08-17T20:19:41.733664",
     "exception": false,
     "start_time": "2023-08-17T20:19:41.674868",
     "status": "completed"
    },
    "tags": []
   },
   "outputs": [
    {
     "data": {
      "text/plain": [
       "[(1.766, 2.914], (0.617, 1.766], (-1.685, -0.532], (-1.685, -0.532], (0.617, 1.766], ..., (-0.532, 0.617], (-0.532, 0.617], (-0.532, 0.617], (-0.532, 0.617], (-1.685, -0.532]]\n",
       "Length: 20\n",
       "Categories (4, interval[float64, right]): [(-1.685, -0.532] < (-0.532, 0.617] < (0.617, 1.766] < (1.766, 2.914]]"
      ]
     },
     "execution_count": 16,
     "metadata": {},
     "output_type": "execute_result"
    }
   ],
   "source": [
    "arr = np.random.randn(20)\n",
    "factor = pd.cut(arr, 4)\n",
    "factor"
   ]
  },
  {
   "cell_type": "code",
   "execution_count": 17,
   "id": "f7513311",
   "metadata": {
    "execution": {
     "iopub.execute_input": "2023-08-17T20:19:41.811569Z",
     "iopub.status.busy": "2023-08-17T20:19:41.811151Z",
     "iopub.status.idle": "2023-08-17T20:19:41.822896Z",
     "shell.execute_reply": "2023-08-17T20:19:41.821688Z"
    },
    "papermill": {
     "duration": 0.054579,
     "end_time": "2023-08-17T20:19:41.825555",
     "exception": false,
     "start_time": "2023-08-17T20:19:41.770976",
     "status": "completed"
    },
    "tags": []
   },
   "outputs": [
    {
     "data": {
      "text/plain": [
       "[(1, 5], (1, 5], (-1, 0], (-1, 0], (1, 5], ..., (0, 1], (-1, 0], (-1, 0], (0, 1], (-1, 0]]\n",
       "Length: 20\n",
       "Categories (4, interval[int64, right]): [(-5, -1] < (-1, 0] < (0, 1] < (1, 5]]"
      ]
     },
     "execution_count": 17,
     "metadata": {},
     "output_type": "execute_result"
    }
   ],
   "source": [
    "factor = pd.cut(arr, [-5, -1, 0, 1, 5])\n",
    "factor"
   ]
  },
  {
   "cell_type": "code",
   "execution_count": 18,
   "id": "7b5d781d",
   "metadata": {
    "execution": {
     "iopub.execute_input": "2023-08-17T20:19:41.903208Z",
     "iopub.status.busy": "2023-08-17T20:19:41.902798Z",
     "iopub.status.idle": "2023-08-17T20:19:41.914826Z",
     "shell.execute_reply": "2023-08-17T20:19:41.913707Z"
    },
    "papermill": {
     "duration": 0.054196,
     "end_time": "2023-08-17T20:19:41.917559",
     "exception": false,
     "start_time": "2023-08-17T20:19:41.863363",
     "status": "completed"
    },
    "tags": []
   },
   "outputs": [
    {
     "data": {
      "text/plain": [
       "[(-0.0816, 0.921], (-0.0816, 0.921], (-2.1189999999999998, -0.75], (-0.75, -0.0816], (0.921, 2.564], ..., (0.921, 2.564], (-2.1189999999999998, -0.75], (-0.75, -0.0816], (-2.1189999999999998, -0.75], (-2.1189999999999998, -0.75]]\n",
       "Length: 30\n",
       "Categories (4, interval[float64, right]): [(-2.1189999999999998, -0.75] < (-0.75, -0.0816] < (-0.0816, 0.921] < (0.921, 2.564]]"
      ]
     },
     "execution_count": 18,
     "metadata": {},
     "output_type": "execute_result"
    }
   ],
   "source": [
    "arr = np.random.randn(30)\n",
    "factor = pd.qcut(arr, [0, 0.25, 0.5, 0.75, 1])\n",
    "factor"
   ]
  },
  {
   "cell_type": "code",
   "execution_count": 19,
   "id": "639ed723",
   "metadata": {
    "execution": {
     "iopub.execute_input": "2023-08-17T20:19:41.996967Z",
     "iopub.status.busy": "2023-08-17T20:19:41.996514Z",
     "iopub.status.idle": "2023-08-17T20:19:42.007580Z",
     "shell.execute_reply": "2023-08-17T20:19:42.006811Z"
    },
    "papermill": {
     "duration": 0.05435,
     "end_time": "2023-08-17T20:19:42.009744",
     "exception": false,
     "start_time": "2023-08-17T20:19:41.955394",
     "status": "completed"
    },
    "tags": []
   },
   "outputs": [
    {
     "data": {
      "text/plain": [
       "[(0.0, inf], (-inf, 0.0], (-inf, 0.0], (0.0, inf], (0.0, inf], ..., (-inf, 0.0], (0.0, inf], (0.0, inf], (0.0, inf], (-inf, 0.0]]\n",
       "Length: 20\n",
       "Categories (2, interval[float64, right]): [(-inf, 0.0] < (0.0, inf]]"
      ]
     },
     "execution_count": 19,
     "metadata": {},
     "output_type": "execute_result"
    }
   ],
   "source": [
    "arr = np.random.randn(20)\n",
    "factor = pd.cut(arr, [-np.inf, 0, np.inf])\n",
    "factor"
   ]
  },
  {
   "cell_type": "code",
   "execution_count": 20,
   "id": "789ec105",
   "metadata": {
    "execution": {
     "iopub.execute_input": "2023-08-17T20:19:42.088346Z",
     "iopub.status.busy": "2023-08-17T20:19:42.087600Z",
     "iopub.status.idle": "2023-08-17T20:19:42.104743Z",
     "shell.execute_reply": "2023-08-17T20:19:42.103431Z"
    },
    "papermill": {
     "duration": 0.059683,
     "end_time": "2023-08-17T20:19:42.107368",
     "exception": false,
     "start_time": "2023-08-17T20:19:42.047685",
     "status": "completed"
    },
    "tags": []
   },
   "outputs": [
    {
     "data": {
      "text/html": [
       "<div>\n",
       "<style scoped>\n",
       "    .dataframe tbody tr th:only-of-type {\n",
       "        vertical-align: middle;\n",
       "    }\n",
       "\n",
       "    .dataframe tbody tr th {\n",
       "        vertical-align: top;\n",
       "    }\n",
       "\n",
       "    .dataframe thead th {\n",
       "        text-align: right;\n",
       "    }\n",
       "</style>\n",
       "<table border=\"1\" class=\"dataframe\">\n",
       "  <thead>\n",
       "    <tr style=\"text-align: right;\">\n",
       "      <th></th>\n",
       "      <th>city_and_code</th>\n",
       "      <th>city_name</th>\n",
       "      <th>city_and_country</th>\n",
       "    </tr>\n",
       "  </thead>\n",
       "  <tbody>\n",
       "    <tr>\n",
       "      <th>0</th>\n",
       "      <td>Chicago, IL</td>\n",
       "      <td>Chicago</td>\n",
       "      <td>ChicagoUS</td>\n",
       "    </tr>\n",
       "  </tbody>\n",
       "</table>\n",
       "</div>"
      ],
      "text/plain": [
       "  city_and_code city_name city_and_country\n",
       "0   Chicago, IL   Chicago        ChicagoUS"
      ]
     },
     "execution_count": 20,
     "metadata": {},
     "output_type": "execute_result"
    }
   ],
   "source": [
    "def extract_city_name(df):\n",
    "    df[\"city_name\"] = df[\"city_and_code\"].str.split(\",\").str.get(0)\n",
    "    return df\n",
    "def add_country_name(df, country_name=None):\n",
    "    col = \"city_name\"\n",
    "    df[\"city_and_country\"] = df[col] + country_name\n",
    "    return df\n",
    "df_p = pd.DataFrame({\"city_and_code\": [\"Chicago, IL\"]})\n",
    "\n",
    "\n",
    "add_country_name(extract_city_name(df_p), country_name=\"US\")\n"
   ]
  },
  {
   "cell_type": "code",
   "execution_count": 21,
   "id": "c11fa0ad",
   "metadata": {
    "execution": {
     "iopub.execute_input": "2023-08-17T20:19:42.187007Z",
     "iopub.status.busy": "2023-08-17T20:19:42.186566Z",
     "iopub.status.idle": "2023-08-17T20:19:42.199061Z",
     "shell.execute_reply": "2023-08-17T20:19:42.198034Z"
    },
    "papermill": {
     "duration": 0.054922,
     "end_time": "2023-08-17T20:19:42.201400",
     "exception": false,
     "start_time": "2023-08-17T20:19:42.146478",
     "status": "completed"
    },
    "tags": []
   },
   "outputs": [
    {
     "data": {
      "text/html": [
       "<div>\n",
       "<style scoped>\n",
       "    .dataframe tbody tr th:only-of-type {\n",
       "        vertical-align: middle;\n",
       "    }\n",
       "\n",
       "    .dataframe tbody tr th {\n",
       "        vertical-align: top;\n",
       "    }\n",
       "\n",
       "    .dataframe thead th {\n",
       "        text-align: right;\n",
       "    }\n",
       "</style>\n",
       "<table border=\"1\" class=\"dataframe\">\n",
       "  <thead>\n",
       "    <tr style=\"text-align: right;\">\n",
       "      <th></th>\n",
       "      <th>city_and_code</th>\n",
       "      <th>city_name</th>\n",
       "      <th>city_and_country</th>\n",
       "    </tr>\n",
       "  </thead>\n",
       "  <tbody>\n",
       "    <tr>\n",
       "      <th>0</th>\n",
       "      <td>Chicago, IL</td>\n",
       "      <td>Chicago</td>\n",
       "      <td>ChicagoUS</td>\n",
       "    </tr>\n",
       "  </tbody>\n",
       "</table>\n",
       "</div>"
      ],
      "text/plain": [
       "  city_and_code city_name city_and_country\n",
       "0   Chicago, IL   Chicago        ChicagoUS"
      ]
     },
     "execution_count": 21,
     "metadata": {},
     "output_type": "execute_result"
    }
   ],
   "source": [
    "df_p.pipe(extract_city_name).pipe(add_country_name, country_name=\"US\")"
   ]
  },
  {
   "cell_type": "code",
   "execution_count": 22,
   "id": "077c234e",
   "metadata": {
    "execution": {
     "iopub.execute_input": "2023-08-17T20:19:42.280902Z",
     "iopub.status.busy": "2023-08-17T20:19:42.280071Z",
     "iopub.status.idle": "2023-08-17T20:19:42.290194Z",
     "shell.execute_reply": "2023-08-17T20:19:42.288967Z"
    },
    "papermill": {
     "duration": 0.052333,
     "end_time": "2023-08-17T20:19:42.292451",
     "exception": false,
     "start_time": "2023-08-17T20:19:42.240118",
     "status": "completed"
    },
    "tags": []
   },
   "outputs": [
    {
     "data": {
      "text/plain": [
       "A    2.84\n",
       "B    2.08\n",
       "dtype: float64"
      ]
     },
     "execution_count": 22,
     "metadata": {},
     "output_type": "execute_result"
    }
   ],
   "source": [
    "df5.apply(np.mean)"
   ]
  },
  {
   "cell_type": "code",
   "execution_count": 23,
   "id": "2159e6b0",
   "metadata": {
    "execution": {
     "iopub.execute_input": "2023-08-17T20:19:42.371629Z",
     "iopub.status.busy": "2023-08-17T20:19:42.370790Z",
     "iopub.status.idle": "2023-08-17T20:19:42.386956Z",
     "shell.execute_reply": "2023-08-17T20:19:42.385759Z"
    },
    "papermill": {
     "duration": 0.058233,
     "end_time": "2023-08-17T20:19:42.389410",
     "exception": false,
     "start_time": "2023-08-17T20:19:42.331177",
     "status": "completed"
    },
    "tags": []
   },
   "outputs": [
    {
     "data": {
      "text/plain": [
       "0     3.5\n",
       "1     8.0\n",
       "2    -3.5\n",
       "3     2.0\n",
       "4     2.0\n",
       "5     5.5\n",
       "6     0.0\n",
       "7     5.0\n",
       "8     4.5\n",
       "9     6.0\n",
       "10    7.5\n",
       "11    1.0\n",
       "12    1.5\n",
       "13    8.0\n",
       "14   -0.5\n",
       "15    9.0\n",
       "16    6.5\n",
       "17    4.0\n",
       "18    2.0\n",
       "19    0.0\n",
       "20    7.0\n",
       "21    3.5\n",
       "22    2.5\n",
       "23    2.5\n",
       "24   -1.5\n",
       "25   -2.5\n",
       "26   -2.5\n",
       "27    1.5\n",
       "28    9.0\n",
       "29    2.0\n",
       "30   -3.5\n",
       "31    5.5\n",
       "32    7.5\n",
       "33   -1.5\n",
       "34    0.0\n",
       "35   -0.5\n",
       "36    0.5\n",
       "37    4.0\n",
       "38    1.5\n",
       "39   -2.0\n",
       "40   -1.0\n",
       "41    6.5\n",
       "42    7.5\n",
       "43    8.0\n",
       "44   -2.5\n",
       "45   -4.5\n",
       "46    0.5\n",
       "47   -3.5\n",
       "48    1.0\n",
       "49    6.0\n",
       "dtype: float64"
      ]
     },
     "execution_count": 23,
     "metadata": {},
     "output_type": "execute_result"
    }
   ],
   "source": [
    "df5.apply(np.mean, axis=1)"
   ]
  },
  {
   "cell_type": "code",
   "execution_count": 24,
   "id": "87af9647",
   "metadata": {
    "execution": {
     "iopub.execute_input": "2023-08-17T20:19:42.470061Z",
     "iopub.status.busy": "2023-08-17T20:19:42.469605Z",
     "iopub.status.idle": "2023-08-17T20:19:42.478840Z",
     "shell.execute_reply": "2023-08-17T20:19:42.477705Z"
    },
    "papermill": {
     "duration": 0.052102,
     "end_time": "2023-08-17T20:19:42.481352",
     "exception": false,
     "start_time": "2023-08-17T20:19:42.429250",
     "status": "completed"
    },
    "tags": []
   },
   "outputs": [
    {
     "data": {
      "text/plain": [
       "A     6\n",
       "B    24\n",
       "dtype: int64"
      ]
     },
     "execution_count": 24,
     "metadata": {},
     "output_type": "execute_result"
    }
   ],
   "source": [
    "df5.apply(lambda x: x.max() - x.min())"
   ]
  },
  {
   "cell_type": "code",
   "execution_count": 25,
   "id": "763c1022",
   "metadata": {
    "execution": {
     "iopub.execute_input": "2023-08-17T20:19:42.560509Z",
     "iopub.status.busy": "2023-08-17T20:19:42.560139Z",
     "iopub.status.idle": "2023-08-17T20:19:42.574413Z",
     "shell.execute_reply": "2023-08-17T20:19:42.573275Z"
    },
    "papermill": {
     "duration": 0.056563,
     "end_time": "2023-08-17T20:19:42.576691",
     "exception": false,
     "start_time": "2023-08-17T20:19:42.520128",
     "status": "completed"
    },
    "tags": []
   },
   "outputs": [
    {
     "data": {
      "text/html": [
       "<div>\n",
       "<style scoped>\n",
       "    .dataframe tbody tr th:only-of-type {\n",
       "        vertical-align: middle;\n",
       "    }\n",
       "\n",
       "    .dataframe tbody tr th {\n",
       "        vertical-align: top;\n",
       "    }\n",
       "\n",
       "    .dataframe thead th {\n",
       "        text-align: right;\n",
       "    }\n",
       "</style>\n",
       "<table border=\"1\" class=\"dataframe\">\n",
       "  <thead>\n",
       "    <tr style=\"text-align: right;\">\n",
       "      <th></th>\n",
       "      <th>A</th>\n",
       "      <th>B</th>\n",
       "    </tr>\n",
       "  </thead>\n",
       "  <tbody>\n",
       "    <tr>\n",
       "      <th>0</th>\n",
       "      <td>5</td>\n",
       "      <td>2</td>\n",
       "    </tr>\n",
       "    <tr>\n",
       "      <th>1</th>\n",
       "      <td>9</td>\n",
       "      <td>14</td>\n",
       "    </tr>\n",
       "    <tr>\n",
       "      <th>2</th>\n",
       "      <td>12</td>\n",
       "      <td>4</td>\n",
       "    </tr>\n",
       "    <tr>\n",
       "      <th>3</th>\n",
       "      <td>13</td>\n",
       "      <td>7</td>\n",
       "    </tr>\n",
       "    <tr>\n",
       "      <th>4</th>\n",
       "      <td>16</td>\n",
       "      <td>8</td>\n",
       "    </tr>\n",
       "    <tr>\n",
       "      <th>5</th>\n",
       "      <td>22</td>\n",
       "      <td>13</td>\n",
       "    </tr>\n",
       "    <tr>\n",
       "      <th>6</th>\n",
       "      <td>24</td>\n",
       "      <td>11</td>\n",
       "    </tr>\n",
       "    <tr>\n",
       "      <th>7</th>\n",
       "      <td>24</td>\n",
       "      <td>21</td>\n",
       "    </tr>\n",
       "    <tr>\n",
       "      <th>8</th>\n",
       "      <td>26</td>\n",
       "      <td>28</td>\n",
       "    </tr>\n",
       "    <tr>\n",
       "      <th>9</th>\n",
       "      <td>27</td>\n",
       "      <td>39</td>\n",
       "    </tr>\n",
       "    <tr>\n",
       "      <th>10</th>\n",
       "      <td>31</td>\n",
       "      <td>50</td>\n",
       "    </tr>\n",
       "    <tr>\n",
       "      <th>11</th>\n",
       "      <td>37</td>\n",
       "      <td>46</td>\n",
       "    </tr>\n",
       "    <tr>\n",
       "      <th>12</th>\n",
       "      <td>40</td>\n",
       "      <td>46</td>\n",
       "    </tr>\n",
       "    <tr>\n",
       "      <th>13</th>\n",
       "      <td>44</td>\n",
       "      <td>58</td>\n",
       "    </tr>\n",
       "    <tr>\n",
       "      <th>14</th>\n",
       "      <td>47</td>\n",
       "      <td>54</td>\n",
       "    </tr>\n",
       "    <tr>\n",
       "      <th>15</th>\n",
       "      <td>52</td>\n",
       "      <td>67</td>\n",
       "    </tr>\n",
       "    <tr>\n",
       "      <th>16</th>\n",
       "      <td>56</td>\n",
       "      <td>76</td>\n",
       "    </tr>\n",
       "    <tr>\n",
       "      <th>17</th>\n",
       "      <td>56</td>\n",
       "      <td>84</td>\n",
       "    </tr>\n",
       "    <tr>\n",
       "      <th>18</th>\n",
       "      <td>59</td>\n",
       "      <td>85</td>\n",
       "    </tr>\n",
       "    <tr>\n",
       "      <th>19</th>\n",
       "      <td>59</td>\n",
       "      <td>85</td>\n",
       "    </tr>\n",
       "    <tr>\n",
       "      <th>20</th>\n",
       "      <td>61</td>\n",
       "      <td>97</td>\n",
       "    </tr>\n",
       "    <tr>\n",
       "      <th>21</th>\n",
       "      <td>62</td>\n",
       "      <td>103</td>\n",
       "    </tr>\n",
       "    <tr>\n",
       "      <th>22</th>\n",
       "      <td>64</td>\n",
       "      <td>106</td>\n",
       "    </tr>\n",
       "    <tr>\n",
       "      <th>23</th>\n",
       "      <td>67</td>\n",
       "      <td>108</td>\n",
       "    </tr>\n",
       "    <tr>\n",
       "      <th>24</th>\n",
       "      <td>68</td>\n",
       "      <td>104</td>\n",
       "    </tr>\n",
       "    <tr>\n",
       "      <th>25</th>\n",
       "      <td>69</td>\n",
       "      <td>98</td>\n",
       "    </tr>\n",
       "    <tr>\n",
       "      <th>26</th>\n",
       "      <td>73</td>\n",
       "      <td>89</td>\n",
       "    </tr>\n",
       "    <tr>\n",
       "      <th>27</th>\n",
       "      <td>78</td>\n",
       "      <td>87</td>\n",
       "    </tr>\n",
       "    <tr>\n",
       "      <th>28</th>\n",
       "      <td>83</td>\n",
       "      <td>100</td>\n",
       "    </tr>\n",
       "    <tr>\n",
       "      <th>29</th>\n",
       "      <td>83</td>\n",
       "      <td>104</td>\n",
       "    </tr>\n",
       "    <tr>\n",
       "      <th>30</th>\n",
       "      <td>85</td>\n",
       "      <td>95</td>\n",
       "    </tr>\n",
       "    <tr>\n",
       "      <th>31</th>\n",
       "      <td>85</td>\n",
       "      <td>106</td>\n",
       "    </tr>\n",
       "    <tr>\n",
       "      <th>32</th>\n",
       "      <td>91</td>\n",
       "      <td>115</td>\n",
       "    </tr>\n",
       "    <tr>\n",
       "      <th>33</th>\n",
       "      <td>96</td>\n",
       "      <td>107</td>\n",
       "    </tr>\n",
       "    <tr>\n",
       "      <th>34</th>\n",
       "      <td>96</td>\n",
       "      <td>107</td>\n",
       "    </tr>\n",
       "    <tr>\n",
       "      <th>35</th>\n",
       "      <td>96</td>\n",
       "      <td>106</td>\n",
       "    </tr>\n",
       "    <tr>\n",
       "      <th>36</th>\n",
       "      <td>98</td>\n",
       "      <td>105</td>\n",
       "    </tr>\n",
       "    <tr>\n",
       "      <th>37</th>\n",
       "      <td>102</td>\n",
       "      <td>109</td>\n",
       "    </tr>\n",
       "    <tr>\n",
       "      <th>38</th>\n",
       "      <td>106</td>\n",
       "      <td>108</td>\n",
       "    </tr>\n",
       "    <tr>\n",
       "      <th>39</th>\n",
       "      <td>110</td>\n",
       "      <td>100</td>\n",
       "    </tr>\n",
       "    <tr>\n",
       "      <th>40</th>\n",
       "      <td>111</td>\n",
       "      <td>97</td>\n",
       "    </tr>\n",
       "    <tr>\n",
       "      <th>41</th>\n",
       "      <td>116</td>\n",
       "      <td>105</td>\n",
       "    </tr>\n",
       "    <tr>\n",
       "      <th>42</th>\n",
       "      <td>119</td>\n",
       "      <td>117</td>\n",
       "    </tr>\n",
       "    <tr>\n",
       "      <th>43</th>\n",
       "      <td>121</td>\n",
       "      <td>131</td>\n",
       "    </tr>\n",
       "    <tr>\n",
       "      <th>44</th>\n",
       "      <td>125</td>\n",
       "      <td>122</td>\n",
       "    </tr>\n",
       "    <tr>\n",
       "      <th>45</th>\n",
       "      <td>126</td>\n",
       "      <td>112</td>\n",
       "    </tr>\n",
       "    <tr>\n",
       "      <th>46</th>\n",
       "      <td>129</td>\n",
       "      <td>110</td>\n",
       "    </tr>\n",
       "    <tr>\n",
       "      <th>47</th>\n",
       "      <td>131</td>\n",
       "      <td>101</td>\n",
       "    </tr>\n",
       "    <tr>\n",
       "      <th>48</th>\n",
       "      <td>136</td>\n",
       "      <td>98</td>\n",
       "    </tr>\n",
       "    <tr>\n",
       "      <th>49</th>\n",
       "      <td>142</td>\n",
       "      <td>104</td>\n",
       "    </tr>\n",
       "  </tbody>\n",
       "</table>\n",
       "</div>"
      ],
      "text/plain": [
       "      A    B\n",
       "0     5    2\n",
       "1     9   14\n",
       "2    12    4\n",
       "3    13    7\n",
       "4    16    8\n",
       "5    22   13\n",
       "6    24   11\n",
       "7    24   21\n",
       "8    26   28\n",
       "9    27   39\n",
       "10   31   50\n",
       "11   37   46\n",
       "12   40   46\n",
       "13   44   58\n",
       "14   47   54\n",
       "15   52   67\n",
       "16   56   76\n",
       "17   56   84\n",
       "18   59   85\n",
       "19   59   85\n",
       "20   61   97\n",
       "21   62  103\n",
       "22   64  106\n",
       "23   67  108\n",
       "24   68  104\n",
       "25   69   98\n",
       "26   73   89\n",
       "27   78   87\n",
       "28   83  100\n",
       "29   83  104\n",
       "30   85   95\n",
       "31   85  106\n",
       "32   91  115\n",
       "33   96  107\n",
       "34   96  107\n",
       "35   96  106\n",
       "36   98  105\n",
       "37  102  109\n",
       "38  106  108\n",
       "39  110  100\n",
       "40  111   97\n",
       "41  116  105\n",
       "42  119  117\n",
       "43  121  131\n",
       "44  125  122\n",
       "45  126  112\n",
       "46  129  110\n",
       "47  131  101\n",
       "48  136   98\n",
       "49  142  104"
      ]
     },
     "execution_count": 25,
     "metadata": {},
     "output_type": "execute_result"
    }
   ],
   "source": [
    "df5.apply(np.cumsum)"
   ]
  },
  {
   "cell_type": "code",
   "execution_count": 26,
   "id": "a4946e18",
   "metadata": {
    "execution": {
     "iopub.execute_input": "2023-08-17T20:19:42.658352Z",
     "iopub.status.busy": "2023-08-17T20:19:42.657912Z",
     "iopub.status.idle": "2023-08-17T20:19:42.675720Z",
     "shell.execute_reply": "2023-08-17T20:19:42.674222Z"
    },
    "papermill": {
     "duration": 0.061065,
     "end_time": "2023-08-17T20:19:42.678348",
     "exception": false,
     "start_time": "2023-08-17T20:19:42.617283",
     "status": "completed"
    },
    "tags": []
   },
   "outputs": [
    {
     "data": {
      "text/html": [
       "<div>\n",
       "<style scoped>\n",
       "    .dataframe tbody tr th:only-of-type {\n",
       "        vertical-align: middle;\n",
       "    }\n",
       "\n",
       "    .dataframe tbody tr th {\n",
       "        vertical-align: top;\n",
       "    }\n",
       "\n",
       "    .dataframe thead th {\n",
       "        text-align: right;\n",
       "    }\n",
       "</style>\n",
       "<table border=\"1\" class=\"dataframe\">\n",
       "  <thead>\n",
       "    <tr style=\"text-align: right;\">\n",
       "      <th></th>\n",
       "      <th>A</th>\n",
       "      <th>B</th>\n",
       "    </tr>\n",
       "  </thead>\n",
       "  <tbody>\n",
       "    <tr>\n",
       "      <th>0</th>\n",
       "      <td>148.413159</td>\n",
       "      <td>7.389056e+00</td>\n",
       "    </tr>\n",
       "    <tr>\n",
       "      <th>1</th>\n",
       "      <td>54.598150</td>\n",
       "      <td>1.627548e+05</td>\n",
       "    </tr>\n",
       "    <tr>\n",
       "      <th>2</th>\n",
       "      <td>20.085537</td>\n",
       "      <td>4.539993e-05</td>\n",
       "    </tr>\n",
       "    <tr>\n",
       "      <th>3</th>\n",
       "      <td>2.718282</td>\n",
       "      <td>2.008554e+01</td>\n",
       "    </tr>\n",
       "    <tr>\n",
       "      <th>4</th>\n",
       "      <td>20.085537</td>\n",
       "      <td>2.718282e+00</td>\n",
       "    </tr>\n",
       "    <tr>\n",
       "      <th>5</th>\n",
       "      <td>403.428793</td>\n",
       "      <td>1.484132e+02</td>\n",
       "    </tr>\n",
       "    <tr>\n",
       "      <th>6</th>\n",
       "      <td>7.389056</td>\n",
       "      <td>1.353353e-01</td>\n",
       "    </tr>\n",
       "    <tr>\n",
       "      <th>7</th>\n",
       "      <td>1.000000</td>\n",
       "      <td>2.202647e+04</td>\n",
       "    </tr>\n",
       "    <tr>\n",
       "      <th>8</th>\n",
       "      <td>7.389056</td>\n",
       "      <td>1.096633e+03</td>\n",
       "    </tr>\n",
       "    <tr>\n",
       "      <th>9</th>\n",
       "      <td>2.718282</td>\n",
       "      <td>5.987414e+04</td>\n",
       "    </tr>\n",
       "    <tr>\n",
       "      <th>10</th>\n",
       "      <td>54.598150</td>\n",
       "      <td>5.987414e+04</td>\n",
       "    </tr>\n",
       "    <tr>\n",
       "      <th>11</th>\n",
       "      <td>403.428793</td>\n",
       "      <td>1.831564e-02</td>\n",
       "    </tr>\n",
       "    <tr>\n",
       "      <th>12</th>\n",
       "      <td>20.085537</td>\n",
       "      <td>1.000000e+00</td>\n",
       "    </tr>\n",
       "    <tr>\n",
       "      <th>13</th>\n",
       "      <td>54.598150</td>\n",
       "      <td>1.627548e+05</td>\n",
       "    </tr>\n",
       "    <tr>\n",
       "      <th>14</th>\n",
       "      <td>20.085537</td>\n",
       "      <td>1.831564e-02</td>\n",
       "    </tr>\n",
       "    <tr>\n",
       "      <th>15</th>\n",
       "      <td>148.413159</td>\n",
       "      <td>4.424134e+05</td>\n",
       "    </tr>\n",
       "    <tr>\n",
       "      <th>16</th>\n",
       "      <td>54.598150</td>\n",
       "      <td>8.103084e+03</td>\n",
       "    </tr>\n",
       "    <tr>\n",
       "      <th>17</th>\n",
       "      <td>1.000000</td>\n",
       "      <td>2.980958e+03</td>\n",
       "    </tr>\n",
       "    <tr>\n",
       "      <th>18</th>\n",
       "      <td>20.085537</td>\n",
       "      <td>2.718282e+00</td>\n",
       "    </tr>\n",
       "    <tr>\n",
       "      <th>19</th>\n",
       "      <td>1.000000</td>\n",
       "      <td>1.000000e+00</td>\n",
       "    </tr>\n",
       "    <tr>\n",
       "      <th>20</th>\n",
       "      <td>7.389056</td>\n",
       "      <td>1.627548e+05</td>\n",
       "    </tr>\n",
       "    <tr>\n",
       "      <th>21</th>\n",
       "      <td>2.718282</td>\n",
       "      <td>4.034288e+02</td>\n",
       "    </tr>\n",
       "    <tr>\n",
       "      <th>22</th>\n",
       "      <td>7.389056</td>\n",
       "      <td>2.008554e+01</td>\n",
       "    </tr>\n",
       "    <tr>\n",
       "      <th>23</th>\n",
       "      <td>20.085537</td>\n",
       "      <td>7.389056e+00</td>\n",
       "    </tr>\n",
       "    <tr>\n",
       "      <th>24</th>\n",
       "      <td>2.718282</td>\n",
       "      <td>1.831564e-02</td>\n",
       "    </tr>\n",
       "    <tr>\n",
       "      <th>25</th>\n",
       "      <td>2.718282</td>\n",
       "      <td>2.478752e-03</td>\n",
       "    </tr>\n",
       "    <tr>\n",
       "      <th>26</th>\n",
       "      <td>54.598150</td>\n",
       "      <td>1.234098e-04</td>\n",
       "    </tr>\n",
       "    <tr>\n",
       "      <th>27</th>\n",
       "      <td>148.413159</td>\n",
       "      <td>1.353353e-01</td>\n",
       "    </tr>\n",
       "    <tr>\n",
       "      <th>28</th>\n",
       "      <td>148.413159</td>\n",
       "      <td>4.424134e+05</td>\n",
       "    </tr>\n",
       "    <tr>\n",
       "      <th>29</th>\n",
       "      <td>1.000000</td>\n",
       "      <td>5.459815e+01</td>\n",
       "    </tr>\n",
       "    <tr>\n",
       "      <th>30</th>\n",
       "      <td>7.389056</td>\n",
       "      <td>1.234098e-04</td>\n",
       "    </tr>\n",
       "    <tr>\n",
       "      <th>31</th>\n",
       "      <td>1.000000</td>\n",
       "      <td>5.987414e+04</td>\n",
       "    </tr>\n",
       "    <tr>\n",
       "      <th>32</th>\n",
       "      <td>403.428793</td>\n",
       "      <td>8.103084e+03</td>\n",
       "    </tr>\n",
       "    <tr>\n",
       "      <th>33</th>\n",
       "      <td>148.413159</td>\n",
       "      <td>3.354626e-04</td>\n",
       "    </tr>\n",
       "    <tr>\n",
       "      <th>34</th>\n",
       "      <td>1.000000</td>\n",
       "      <td>1.000000e+00</td>\n",
       "    </tr>\n",
       "    <tr>\n",
       "      <th>35</th>\n",
       "      <td>1.000000</td>\n",
       "      <td>3.678794e-01</td>\n",
       "    </tr>\n",
       "    <tr>\n",
       "      <th>36</th>\n",
       "      <td>7.389056</td>\n",
       "      <td>3.678794e-01</td>\n",
       "    </tr>\n",
       "    <tr>\n",
       "      <th>37</th>\n",
       "      <td>54.598150</td>\n",
       "      <td>5.459815e+01</td>\n",
       "    </tr>\n",
       "    <tr>\n",
       "      <th>38</th>\n",
       "      <td>54.598150</td>\n",
       "      <td>3.678794e-01</td>\n",
       "    </tr>\n",
       "    <tr>\n",
       "      <th>39</th>\n",
       "      <td>54.598150</td>\n",
       "      <td>3.354626e-04</td>\n",
       "    </tr>\n",
       "    <tr>\n",
       "      <th>40</th>\n",
       "      <td>2.718282</td>\n",
       "      <td>4.978707e-02</td>\n",
       "    </tr>\n",
       "    <tr>\n",
       "      <th>41</th>\n",
       "      <td>148.413159</td>\n",
       "      <td>2.980958e+03</td>\n",
       "    </tr>\n",
       "    <tr>\n",
       "      <th>42</th>\n",
       "      <td>20.085537</td>\n",
       "      <td>1.627548e+05</td>\n",
       "    </tr>\n",
       "    <tr>\n",
       "      <th>43</th>\n",
       "      <td>7.389056</td>\n",
       "      <td>1.202604e+06</td>\n",
       "    </tr>\n",
       "    <tr>\n",
       "      <th>44</th>\n",
       "      <td>54.598150</td>\n",
       "      <td>1.234098e-04</td>\n",
       "    </tr>\n",
       "    <tr>\n",
       "      <th>45</th>\n",
       "      <td>2.718282</td>\n",
       "      <td>4.539993e-05</td>\n",
       "    </tr>\n",
       "    <tr>\n",
       "      <th>46</th>\n",
       "      <td>20.085537</td>\n",
       "      <td>1.353353e-01</td>\n",
       "    </tr>\n",
       "    <tr>\n",
       "      <th>47</th>\n",
       "      <td>7.389056</td>\n",
       "      <td>1.234098e-04</td>\n",
       "    </tr>\n",
       "    <tr>\n",
       "      <th>48</th>\n",
       "      <td>148.413159</td>\n",
       "      <td>4.978707e-02</td>\n",
       "    </tr>\n",
       "    <tr>\n",
       "      <th>49</th>\n",
       "      <td>403.428793</td>\n",
       "      <td>4.034288e+02</td>\n",
       "    </tr>\n",
       "  </tbody>\n",
       "</table>\n",
       "</div>"
      ],
      "text/plain": [
       "             A             B\n",
       "0   148.413159  7.389056e+00\n",
       "1    54.598150  1.627548e+05\n",
       "2    20.085537  4.539993e-05\n",
       "3     2.718282  2.008554e+01\n",
       "4    20.085537  2.718282e+00\n",
       "5   403.428793  1.484132e+02\n",
       "6     7.389056  1.353353e-01\n",
       "7     1.000000  2.202647e+04\n",
       "8     7.389056  1.096633e+03\n",
       "9     2.718282  5.987414e+04\n",
       "10   54.598150  5.987414e+04\n",
       "11  403.428793  1.831564e-02\n",
       "12   20.085537  1.000000e+00\n",
       "13   54.598150  1.627548e+05\n",
       "14   20.085537  1.831564e-02\n",
       "15  148.413159  4.424134e+05\n",
       "16   54.598150  8.103084e+03\n",
       "17    1.000000  2.980958e+03\n",
       "18   20.085537  2.718282e+00\n",
       "19    1.000000  1.000000e+00\n",
       "20    7.389056  1.627548e+05\n",
       "21    2.718282  4.034288e+02\n",
       "22    7.389056  2.008554e+01\n",
       "23   20.085537  7.389056e+00\n",
       "24    2.718282  1.831564e-02\n",
       "25    2.718282  2.478752e-03\n",
       "26   54.598150  1.234098e-04\n",
       "27  148.413159  1.353353e-01\n",
       "28  148.413159  4.424134e+05\n",
       "29    1.000000  5.459815e+01\n",
       "30    7.389056  1.234098e-04\n",
       "31    1.000000  5.987414e+04\n",
       "32  403.428793  8.103084e+03\n",
       "33  148.413159  3.354626e-04\n",
       "34    1.000000  1.000000e+00\n",
       "35    1.000000  3.678794e-01\n",
       "36    7.389056  3.678794e-01\n",
       "37   54.598150  5.459815e+01\n",
       "38   54.598150  3.678794e-01\n",
       "39   54.598150  3.354626e-04\n",
       "40    2.718282  4.978707e-02\n",
       "41  148.413159  2.980958e+03\n",
       "42   20.085537  1.627548e+05\n",
       "43    7.389056  1.202604e+06\n",
       "44   54.598150  1.234098e-04\n",
       "45    2.718282  4.539993e-05\n",
       "46   20.085537  1.353353e-01\n",
       "47    7.389056  1.234098e-04\n",
       "48  148.413159  4.978707e-02\n",
       "49  403.428793  4.034288e+02"
      ]
     },
     "execution_count": 26,
     "metadata": {},
     "output_type": "execute_result"
    }
   ],
   "source": [
    "df5.apply(np.exp)"
   ]
  },
  {
   "cell_type": "code",
   "execution_count": 27,
   "id": "2e61c340",
   "metadata": {
    "execution": {
     "iopub.execute_input": "2023-08-17T20:19:42.760269Z",
     "iopub.status.busy": "2023-08-17T20:19:42.759849Z",
     "iopub.status.idle": "2023-08-17T20:19:42.768978Z",
     "shell.execute_reply": "2023-08-17T20:19:42.768004Z"
    },
    "papermill": {
     "duration": 0.052591,
     "end_time": "2023-08-17T20:19:42.771186",
     "exception": false,
     "start_time": "2023-08-17T20:19:42.718595",
     "status": "completed"
    },
    "tags": []
   },
   "outputs": [
    {
     "data": {
      "text/plain": [
       "A    2.84\n",
       "B    2.08\n",
       "dtype: float64"
      ]
     },
     "execution_count": 27,
     "metadata": {},
     "output_type": "execute_result"
    }
   ],
   "source": [
    "df5.apply(\"mean\")"
   ]
  },
  {
   "cell_type": "code",
   "execution_count": 28,
   "id": "beebf3b3",
   "metadata": {
    "execution": {
     "iopub.execute_input": "2023-08-17T20:19:42.853178Z",
     "iopub.status.busy": "2023-08-17T20:19:42.852733Z",
     "iopub.status.idle": "2023-08-17T20:19:42.865701Z",
     "shell.execute_reply": "2023-08-17T20:19:42.864781Z"
    },
    "papermill": {
     "duration": 0.056752,
     "end_time": "2023-08-17T20:19:42.867840",
     "exception": false,
     "start_time": "2023-08-17T20:19:42.811088",
     "status": "completed"
    },
    "tags": []
   },
   "outputs": [
    {
     "data": {
      "text/plain": [
       "0     3.5\n",
       "1     8.0\n",
       "2    -3.5\n",
       "3     2.0\n",
       "4     2.0\n",
       "5     5.5\n",
       "6     0.0\n",
       "7     5.0\n",
       "8     4.5\n",
       "9     6.0\n",
       "10    7.5\n",
       "11    1.0\n",
       "12    1.5\n",
       "13    8.0\n",
       "14   -0.5\n",
       "15    9.0\n",
       "16    6.5\n",
       "17    4.0\n",
       "18    2.0\n",
       "19    0.0\n",
       "20    7.0\n",
       "21    3.5\n",
       "22    2.5\n",
       "23    2.5\n",
       "24   -1.5\n",
       "25   -2.5\n",
       "26   -2.5\n",
       "27    1.5\n",
       "28    9.0\n",
       "29    2.0\n",
       "30   -3.5\n",
       "31    5.5\n",
       "32    7.5\n",
       "33   -1.5\n",
       "34    0.0\n",
       "35   -0.5\n",
       "36    0.5\n",
       "37    4.0\n",
       "38    1.5\n",
       "39   -2.0\n",
       "40   -1.0\n",
       "41    6.5\n",
       "42    7.5\n",
       "43    8.0\n",
       "44   -2.5\n",
       "45   -4.5\n",
       "46    0.5\n",
       "47   -3.5\n",
       "48    1.0\n",
       "49    6.0\n",
       "dtype: float64"
      ]
     },
     "execution_count": 28,
     "metadata": {},
     "output_type": "execute_result"
    }
   ],
   "source": [
    "df5.apply(\"mean\", axis=1)"
   ]
  },
  {
   "cell_type": "code",
   "execution_count": 29,
   "id": "4882ee0b",
   "metadata": {
    "execution": {
     "iopub.execute_input": "2023-08-17T20:19:42.951934Z",
     "iopub.status.busy": "2023-08-17T20:19:42.950794Z",
     "iopub.status.idle": "2023-08-17T20:19:42.969581Z",
     "shell.execute_reply": "2023-08-17T20:19:42.968749Z"
    },
    "papermill": {
     "duration": 0.062908,
     "end_time": "2023-08-17T20:19:42.971641",
     "exception": false,
     "start_time": "2023-08-17T20:19:42.908733",
     "status": "completed"
    },
    "tags": []
   },
   "outputs": [
    {
     "data": {
      "text/html": [
       "<div>\n",
       "<style scoped>\n",
       "    .dataframe tbody tr th:only-of-type {\n",
       "        vertical-align: middle;\n",
       "    }\n",
       "\n",
       "    .dataframe tbody tr th {\n",
       "        vertical-align: top;\n",
       "    }\n",
       "\n",
       "    .dataframe thead th {\n",
       "        text-align: right;\n",
       "    }\n",
       "</style>\n",
       "<table border=\"1\" class=\"dataframe\">\n",
       "  <thead>\n",
       "    <tr style=\"text-align: right;\">\n",
       "      <th></th>\n",
       "      <th>A</th>\n",
       "      <th>B</th>\n",
       "    </tr>\n",
       "  </thead>\n",
       "  <tbody>\n",
       "    <tr>\n",
       "      <th>0</th>\n",
       "      <td>0.000000</td>\n",
       "      <td>-1.000000</td>\n",
       "    </tr>\n",
       "    <tr>\n",
       "      <th>1</th>\n",
       "      <td>-0.333333</td>\n",
       "      <td>2.333333</td>\n",
       "    </tr>\n",
       "    <tr>\n",
       "      <th>2</th>\n",
       "      <td>-0.666667</td>\n",
       "      <td>-5.000000</td>\n",
       "    </tr>\n",
       "    <tr>\n",
       "      <th>3</th>\n",
       "      <td>-1.333333</td>\n",
       "      <td>-0.666667</td>\n",
       "    </tr>\n",
       "    <tr>\n",
       "      <th>4</th>\n",
       "      <td>-0.666667</td>\n",
       "      <td>-1.333333</td>\n",
       "    </tr>\n",
       "    <tr>\n",
       "      <th>5</th>\n",
       "      <td>0.333333</td>\n",
       "      <td>0.000000</td>\n",
       "    </tr>\n",
       "    <tr>\n",
       "      <th>6</th>\n",
       "      <td>-1.000000</td>\n",
       "      <td>-2.333333</td>\n",
       "    </tr>\n",
       "    <tr>\n",
       "      <th>7</th>\n",
       "      <td>-1.666667</td>\n",
       "      <td>1.666667</td>\n",
       "    </tr>\n",
       "    <tr>\n",
       "      <th>8</th>\n",
       "      <td>-1.000000</td>\n",
       "      <td>0.666667</td>\n",
       "    </tr>\n",
       "    <tr>\n",
       "      <th>9</th>\n",
       "      <td>-1.333333</td>\n",
       "      <td>2.000000</td>\n",
       "    </tr>\n",
       "    <tr>\n",
       "      <th>10</th>\n",
       "      <td>-0.333333</td>\n",
       "      <td>2.000000</td>\n",
       "    </tr>\n",
       "    <tr>\n",
       "      <th>11</th>\n",
       "      <td>0.333333</td>\n",
       "      <td>-3.000000</td>\n",
       "    </tr>\n",
       "    <tr>\n",
       "      <th>12</th>\n",
       "      <td>-0.666667</td>\n",
       "      <td>-1.666667</td>\n",
       "    </tr>\n",
       "    <tr>\n",
       "      <th>13</th>\n",
       "      <td>-0.333333</td>\n",
       "      <td>2.333333</td>\n",
       "    </tr>\n",
       "    <tr>\n",
       "      <th>14</th>\n",
       "      <td>-0.666667</td>\n",
       "      <td>-3.000000</td>\n",
       "    </tr>\n",
       "    <tr>\n",
       "      <th>15</th>\n",
       "      <td>0.000000</td>\n",
       "      <td>2.666667</td>\n",
       "    </tr>\n",
       "    <tr>\n",
       "      <th>16</th>\n",
       "      <td>-0.333333</td>\n",
       "      <td>1.333333</td>\n",
       "    </tr>\n",
       "    <tr>\n",
       "      <th>17</th>\n",
       "      <td>-1.666667</td>\n",
       "      <td>1.000000</td>\n",
       "    </tr>\n",
       "    <tr>\n",
       "      <th>18</th>\n",
       "      <td>-0.666667</td>\n",
       "      <td>-1.333333</td>\n",
       "    </tr>\n",
       "    <tr>\n",
       "      <th>19</th>\n",
       "      <td>-1.666667</td>\n",
       "      <td>-1.666667</td>\n",
       "    </tr>\n",
       "    <tr>\n",
       "      <th>20</th>\n",
       "      <td>-1.000000</td>\n",
       "      <td>2.333333</td>\n",
       "    </tr>\n",
       "    <tr>\n",
       "      <th>21</th>\n",
       "      <td>-1.333333</td>\n",
       "      <td>0.333333</td>\n",
       "    </tr>\n",
       "    <tr>\n",
       "      <th>22</th>\n",
       "      <td>-1.000000</td>\n",
       "      <td>-0.666667</td>\n",
       "    </tr>\n",
       "    <tr>\n",
       "      <th>23</th>\n",
       "      <td>-0.666667</td>\n",
       "      <td>-1.000000</td>\n",
       "    </tr>\n",
       "    <tr>\n",
       "      <th>24</th>\n",
       "      <td>-1.333333</td>\n",
       "      <td>-3.000000</td>\n",
       "    </tr>\n",
       "    <tr>\n",
       "      <th>25</th>\n",
       "      <td>-1.333333</td>\n",
       "      <td>-3.666667</td>\n",
       "    </tr>\n",
       "    <tr>\n",
       "      <th>26</th>\n",
       "      <td>-0.333333</td>\n",
       "      <td>-4.666667</td>\n",
       "    </tr>\n",
       "    <tr>\n",
       "      <th>27</th>\n",
       "      <td>0.000000</td>\n",
       "      <td>-2.333333</td>\n",
       "    </tr>\n",
       "    <tr>\n",
       "      <th>28</th>\n",
       "      <td>0.000000</td>\n",
       "      <td>2.666667</td>\n",
       "    </tr>\n",
       "    <tr>\n",
       "      <th>29</th>\n",
       "      <td>-1.666667</td>\n",
       "      <td>-0.333333</td>\n",
       "    </tr>\n",
       "    <tr>\n",
       "      <th>30</th>\n",
       "      <td>-1.000000</td>\n",
       "      <td>-4.666667</td>\n",
       "    </tr>\n",
       "    <tr>\n",
       "      <th>31</th>\n",
       "      <td>-1.666667</td>\n",
       "      <td>2.000000</td>\n",
       "    </tr>\n",
       "    <tr>\n",
       "      <th>32</th>\n",
       "      <td>0.333333</td>\n",
       "      <td>1.333333</td>\n",
       "    </tr>\n",
       "    <tr>\n",
       "      <th>33</th>\n",
       "      <td>0.000000</td>\n",
       "      <td>-4.333333</td>\n",
       "    </tr>\n",
       "    <tr>\n",
       "      <th>34</th>\n",
       "      <td>-1.666667</td>\n",
       "      <td>-1.666667</td>\n",
       "    </tr>\n",
       "    <tr>\n",
       "      <th>35</th>\n",
       "      <td>-1.666667</td>\n",
       "      <td>-2.000000</td>\n",
       "    </tr>\n",
       "    <tr>\n",
       "      <th>36</th>\n",
       "      <td>-1.000000</td>\n",
       "      <td>-2.000000</td>\n",
       "    </tr>\n",
       "    <tr>\n",
       "      <th>37</th>\n",
       "      <td>-0.333333</td>\n",
       "      <td>-0.333333</td>\n",
       "    </tr>\n",
       "    <tr>\n",
       "      <th>38</th>\n",
       "      <td>-0.333333</td>\n",
       "      <td>-2.000000</td>\n",
       "    </tr>\n",
       "    <tr>\n",
       "      <th>39</th>\n",
       "      <td>-0.333333</td>\n",
       "      <td>-4.333333</td>\n",
       "    </tr>\n",
       "    <tr>\n",
       "      <th>40</th>\n",
       "      <td>-1.333333</td>\n",
       "      <td>-2.666667</td>\n",
       "    </tr>\n",
       "    <tr>\n",
       "      <th>41</th>\n",
       "      <td>0.000000</td>\n",
       "      <td>1.000000</td>\n",
       "    </tr>\n",
       "    <tr>\n",
       "      <th>42</th>\n",
       "      <td>-0.666667</td>\n",
       "      <td>2.333333</td>\n",
       "    </tr>\n",
       "    <tr>\n",
       "      <th>43</th>\n",
       "      <td>-1.000000</td>\n",
       "      <td>3.000000</td>\n",
       "    </tr>\n",
       "    <tr>\n",
       "      <th>44</th>\n",
       "      <td>-0.333333</td>\n",
       "      <td>-4.666667</td>\n",
       "    </tr>\n",
       "    <tr>\n",
       "      <th>45</th>\n",
       "      <td>-1.333333</td>\n",
       "      <td>-5.000000</td>\n",
       "    </tr>\n",
       "    <tr>\n",
       "      <th>46</th>\n",
       "      <td>-0.666667</td>\n",
       "      <td>-2.333333</td>\n",
       "    </tr>\n",
       "    <tr>\n",
       "      <th>47</th>\n",
       "      <td>-1.000000</td>\n",
       "      <td>-4.666667</td>\n",
       "    </tr>\n",
       "    <tr>\n",
       "      <th>48</th>\n",
       "      <td>0.000000</td>\n",
       "      <td>-2.666667</td>\n",
       "    </tr>\n",
       "    <tr>\n",
       "      <th>49</th>\n",
       "      <td>0.333333</td>\n",
       "      <td>0.333333</td>\n",
       "    </tr>\n",
       "  </tbody>\n",
       "</table>\n",
       "</div>"
      ],
      "text/plain": [
       "           A         B\n",
       "0   0.000000 -1.000000\n",
       "1  -0.333333  2.333333\n",
       "2  -0.666667 -5.000000\n",
       "3  -1.333333 -0.666667\n",
       "4  -0.666667 -1.333333\n",
       "5   0.333333  0.000000\n",
       "6  -1.000000 -2.333333\n",
       "7  -1.666667  1.666667\n",
       "8  -1.000000  0.666667\n",
       "9  -1.333333  2.000000\n",
       "10 -0.333333  2.000000\n",
       "11  0.333333 -3.000000\n",
       "12 -0.666667 -1.666667\n",
       "13 -0.333333  2.333333\n",
       "14 -0.666667 -3.000000\n",
       "15  0.000000  2.666667\n",
       "16 -0.333333  1.333333\n",
       "17 -1.666667  1.000000\n",
       "18 -0.666667 -1.333333\n",
       "19 -1.666667 -1.666667\n",
       "20 -1.000000  2.333333\n",
       "21 -1.333333  0.333333\n",
       "22 -1.000000 -0.666667\n",
       "23 -0.666667 -1.000000\n",
       "24 -1.333333 -3.000000\n",
       "25 -1.333333 -3.666667\n",
       "26 -0.333333 -4.666667\n",
       "27  0.000000 -2.333333\n",
       "28  0.000000  2.666667\n",
       "29 -1.666667 -0.333333\n",
       "30 -1.000000 -4.666667\n",
       "31 -1.666667  2.000000\n",
       "32  0.333333  1.333333\n",
       "33  0.000000 -4.333333\n",
       "34 -1.666667 -1.666667\n",
       "35 -1.666667 -2.000000\n",
       "36 -1.000000 -2.000000\n",
       "37 -0.333333 -0.333333\n",
       "38 -0.333333 -2.000000\n",
       "39 -0.333333 -4.333333\n",
       "40 -1.333333 -2.666667\n",
       "41  0.000000  1.000000\n",
       "42 -0.666667  2.333333\n",
       "43 -1.000000  3.000000\n",
       "44 -0.333333 -4.666667\n",
       "45 -1.333333 -5.000000\n",
       "46 -0.666667 -2.333333\n",
       "47 -1.000000 -4.666667\n",
       "48  0.000000 -2.666667\n",
       "49  0.333333  0.333333"
      ]
     },
     "execution_count": 29,
     "metadata": {},
     "output_type": "execute_result"
    }
   ],
   "source": [
    "def subtract_and_divide(x, sub, divide=1):\n",
    "    return (x - sub) / divide\n",
    "\n",
    "df5.apply(subtract_and_divide, args=(5,), divide=3)"
   ]
  },
  {
   "cell_type": "code",
   "execution_count": 30,
   "id": "2c6b160e",
   "metadata": {
    "execution": {
     "iopub.execute_input": "2023-08-17T20:19:43.057715Z",
     "iopub.status.busy": "2023-08-17T20:19:43.057338Z",
     "iopub.status.idle": "2023-08-17T20:19:43.076276Z",
     "shell.execute_reply": "2023-08-17T20:19:43.075026Z"
    },
    "papermill": {
     "duration": 0.064318,
     "end_time": "2023-08-17T20:19:43.078717",
     "exception": false,
     "start_time": "2023-08-17T20:19:43.014399",
     "status": "completed"
    },
    "tags": []
   },
   "outputs": [
    {
     "data": {
      "text/html": [
       "<div>\n",
       "<style scoped>\n",
       "    .dataframe tbody tr th:only-of-type {\n",
       "        vertical-align: middle;\n",
       "    }\n",
       "\n",
       "    .dataframe tbody tr th {\n",
       "        vertical-align: top;\n",
       "    }\n",
       "\n",
       "    .dataframe thead th {\n",
       "        text-align: right;\n",
       "    }\n",
       "</style>\n",
       "<table border=\"1\" class=\"dataframe\">\n",
       "  <thead>\n",
       "    <tr style=\"text-align: right;\">\n",
       "      <th></th>\n",
       "      <th>A</th>\n",
       "      <th>B</th>\n",
       "      <th>C</th>\n",
       "    </tr>\n",
       "  </thead>\n",
       "  <tbody>\n",
       "    <tr>\n",
       "      <th>2000-01-01</th>\n",
       "      <td>0.542894</td>\n",
       "      <td>-0.495009</td>\n",
       "      <td>-0.197762</td>\n",
       "    </tr>\n",
       "    <tr>\n",
       "      <th>2000-01-02</th>\n",
       "      <td>-0.293532</td>\n",
       "      <td>-0.672793</td>\n",
       "      <td>1.078186</td>\n",
       "    </tr>\n",
       "    <tr>\n",
       "      <th>2000-01-03</th>\n",
       "      <td>0.803080</td>\n",
       "      <td>0.532221</td>\n",
       "      <td>1.268019</td>\n",
       "    </tr>\n",
       "    <tr>\n",
       "      <th>2000-01-04</th>\n",
       "      <td>NaN</td>\n",
       "      <td>NaN</td>\n",
       "      <td>NaN</td>\n",
       "    </tr>\n",
       "    <tr>\n",
       "      <th>2000-01-05</th>\n",
       "      <td>NaN</td>\n",
       "      <td>NaN</td>\n",
       "      <td>NaN</td>\n",
       "    </tr>\n",
       "    <tr>\n",
       "      <th>2000-01-06</th>\n",
       "      <td>NaN</td>\n",
       "      <td>NaN</td>\n",
       "      <td>NaN</td>\n",
       "    </tr>\n",
       "    <tr>\n",
       "      <th>2000-01-07</th>\n",
       "      <td>NaN</td>\n",
       "      <td>NaN</td>\n",
       "      <td>NaN</td>\n",
       "    </tr>\n",
       "    <tr>\n",
       "      <th>2000-01-08</th>\n",
       "      <td>-0.753549</td>\n",
       "      <td>-0.254282</td>\n",
       "      <td>0.996013</td>\n",
       "    </tr>\n",
       "    <tr>\n",
       "      <th>2000-01-09</th>\n",
       "      <td>0.114576</td>\n",
       "      <td>-0.996211</td>\n",
       "      <td>-1.050987</td>\n",
       "    </tr>\n",
       "    <tr>\n",
       "      <th>2000-01-10</th>\n",
       "      <td>1.756855</td>\n",
       "      <td>0.165626</td>\n",
       "      <td>1.933141</td>\n",
       "    </tr>\n",
       "  </tbody>\n",
       "</table>\n",
       "</div>"
      ],
      "text/plain": [
       "                   A         B         C\n",
       "2000-01-01  0.542894 -0.495009 -0.197762\n",
       "2000-01-02 -0.293532 -0.672793  1.078186\n",
       "2000-01-03  0.803080  0.532221  1.268019\n",
       "2000-01-04       NaN       NaN       NaN\n",
       "2000-01-05       NaN       NaN       NaN\n",
       "2000-01-06       NaN       NaN       NaN\n",
       "2000-01-07       NaN       NaN       NaN\n",
       "2000-01-08 -0.753549 -0.254282  0.996013\n",
       "2000-01-09  0.114576 -0.996211 -1.050987\n",
       "2000-01-10  1.756855  0.165626  1.933141"
      ]
     },
     "execution_count": 30,
     "metadata": {},
     "output_type": "execute_result"
    }
   ],
   "source": [
    "tsdf = pd.DataFrame(\n",
    "np.random.randn(10, 3),\n",
    "columns=[\"A\", \"B\", \"C\"],\n",
    "index=pd.date_range(\"1/1/2000\", periods=10),\n",
    ")\n",
    "\n",
    "tsdf.iloc[3:7] = np.nan\n",
    "tsdf"
   ]
  },
  {
   "cell_type": "code",
   "execution_count": 31,
   "id": "a75954c0",
   "metadata": {
    "execution": {
     "iopub.execute_input": "2023-08-17T20:19:43.163623Z",
     "iopub.status.busy": "2023-08-17T20:19:43.162840Z",
     "iopub.status.idle": "2023-08-17T20:19:43.172144Z",
     "shell.execute_reply": "2023-08-17T20:19:43.171022Z"
    },
    "papermill": {
     "duration": 0.053971,
     "end_time": "2023-08-17T20:19:43.174484",
     "exception": false,
     "start_time": "2023-08-17T20:19:43.120513",
     "status": "completed"
    },
    "tags": []
   },
   "outputs": [
    {
     "data": {
      "text/plain": [
       "A    2.170324\n",
       "B   -1.720448\n",
       "C    4.026609\n",
       "dtype: float64"
      ]
     },
     "execution_count": 31,
     "metadata": {},
     "output_type": "execute_result"
    }
   ],
   "source": [
    "tsdf.agg(np.sum)"
   ]
  },
  {
   "cell_type": "code",
   "execution_count": 32,
   "id": "cd00e39b",
   "metadata": {
    "execution": {
     "iopub.execute_input": "2023-08-17T20:19:43.259098Z",
     "iopub.status.busy": "2023-08-17T20:19:43.258662Z",
     "iopub.status.idle": "2023-08-17T20:19:43.268199Z",
     "shell.execute_reply": "2023-08-17T20:19:43.267029Z"
    },
    "papermill": {
     "duration": 0.054841,
     "end_time": "2023-08-17T20:19:43.270581",
     "exception": false,
     "start_time": "2023-08-17T20:19:43.215740",
     "status": "completed"
    },
    "tags": []
   },
   "outputs": [
    {
     "data": {
      "text/plain": [
       "A    2.170324\n",
       "B   -1.720448\n",
       "C    4.026609\n",
       "dtype: float64"
      ]
     },
     "execution_count": 32,
     "metadata": {},
     "output_type": "execute_result"
    }
   ],
   "source": [
    "tsdf.agg(\"sum\")"
   ]
  },
  {
   "cell_type": "code",
   "execution_count": 33,
   "id": "60f3f731",
   "metadata": {
    "execution": {
     "iopub.execute_input": "2023-08-17T20:19:43.356023Z",
     "iopub.status.busy": "2023-08-17T20:19:43.355602Z",
     "iopub.status.idle": "2023-08-17T20:19:43.365030Z",
     "shell.execute_reply": "2023-08-17T20:19:43.363751Z"
    },
    "papermill": {
     "duration": 0.054847,
     "end_time": "2023-08-17T20:19:43.367617",
     "exception": false,
     "start_time": "2023-08-17T20:19:43.312770",
     "status": "completed"
    },
    "tags": []
   },
   "outputs": [
    {
     "data": {
      "text/plain": [
       "A    2.170324\n",
       "B   -1.720448\n",
       "C    4.026609\n",
       "dtype: float64"
      ]
     },
     "execution_count": 33,
     "metadata": {},
     "output_type": "execute_result"
    }
   ],
   "source": [
    "tsdf.sum()"
   ]
  },
  {
   "cell_type": "code",
   "execution_count": 34,
   "id": "2e2ee370",
   "metadata": {
    "execution": {
     "iopub.execute_input": "2023-08-17T20:19:43.454424Z",
     "iopub.status.busy": "2023-08-17T20:19:43.453760Z",
     "iopub.status.idle": "2023-08-17T20:19:43.461570Z",
     "shell.execute_reply": "2023-08-17T20:19:43.460210Z"
    },
    "papermill": {
     "duration": 0.054729,
     "end_time": "2023-08-17T20:19:43.464446",
     "exception": false,
     "start_time": "2023-08-17T20:19:43.409717",
     "status": "completed"
    },
    "tags": []
   },
   "outputs": [
    {
     "data": {
      "text/plain": [
       "2.1703239353632404"
      ]
     },
     "execution_count": 34,
     "metadata": {},
     "output_type": "execute_result"
    }
   ],
   "source": [
    "tsdf[\"A\"].agg(\"sum\")"
   ]
  },
  {
   "cell_type": "code",
   "execution_count": 35,
   "id": "59f353af",
   "metadata": {
    "execution": {
     "iopub.execute_input": "2023-08-17T20:19:43.549453Z",
     "iopub.status.busy": "2023-08-17T20:19:43.548977Z",
     "iopub.status.idle": "2023-08-17T20:19:43.565807Z",
     "shell.execute_reply": "2023-08-17T20:19:43.564641Z"
    },
    "papermill": {
     "duration": 0.062261,
     "end_time": "2023-08-17T20:19:43.568389",
     "exception": false,
     "start_time": "2023-08-17T20:19:43.506128",
     "status": "completed"
    },
    "tags": []
   },
   "outputs": [
    {
     "data": {
      "text/html": [
       "<div>\n",
       "<style scoped>\n",
       "    .dataframe tbody tr th:only-of-type {\n",
       "        vertical-align: middle;\n",
       "    }\n",
       "\n",
       "    .dataframe tbody tr th {\n",
       "        vertical-align: top;\n",
       "    }\n",
       "\n",
       "    .dataframe thead th {\n",
       "        text-align: right;\n",
       "    }\n",
       "</style>\n",
       "<table border=\"1\" class=\"dataframe\">\n",
       "  <thead>\n",
       "    <tr style=\"text-align: right;\">\n",
       "      <th></th>\n",
       "      <th>A</th>\n",
       "      <th>B</th>\n",
       "      <th>C</th>\n",
       "    </tr>\n",
       "  </thead>\n",
       "  <tbody>\n",
       "    <tr>\n",
       "      <th>sum</th>\n",
       "      <td>2.170324</td>\n",
       "      <td>-1.720448</td>\n",
       "      <td>4.026609</td>\n",
       "    </tr>\n",
       "    <tr>\n",
       "      <th>mean</th>\n",
       "      <td>0.361721</td>\n",
       "      <td>-0.286741</td>\n",
       "      <td>0.671101</td>\n",
       "    </tr>\n",
       "  </tbody>\n",
       "</table>\n",
       "</div>"
      ],
      "text/plain": [
       "             A         B         C\n",
       "sum   2.170324 -1.720448  4.026609\n",
       "mean  0.361721 -0.286741  0.671101"
      ]
     },
     "execution_count": 35,
     "metadata": {},
     "output_type": "execute_result"
    }
   ],
   "source": [
    "tsdf.agg([\"sum\", \"mean\"])"
   ]
  },
  {
   "cell_type": "code",
   "execution_count": 36,
   "id": "6940b95b",
   "metadata": {
    "execution": {
     "iopub.execute_input": "2023-08-17T20:19:43.654674Z",
     "iopub.status.busy": "2023-08-17T20:19:43.654258Z",
     "iopub.status.idle": "2023-08-17T20:19:43.663988Z",
     "shell.execute_reply": "2023-08-17T20:19:43.662850Z"
    },
    "papermill": {
     "duration": 0.055834,
     "end_time": "2023-08-17T20:19:43.666451",
     "exception": false,
     "start_time": "2023-08-17T20:19:43.610617",
     "status": "completed"
    },
    "tags": []
   },
   "outputs": [
    {
     "data": {
      "text/plain": [
       "sum     2.170324\n",
       "mean    0.361721\n",
       "Name: A, dtype: float64"
      ]
     },
     "execution_count": 36,
     "metadata": {},
     "output_type": "execute_result"
    }
   ],
   "source": [
    "tsdf[\"A\"].agg([\"sum\", \"mean\"])"
   ]
  },
  {
   "cell_type": "code",
   "execution_count": 37,
   "id": "ab27815a",
   "metadata": {
    "execution": {
     "iopub.execute_input": "2023-08-17T20:19:43.753349Z",
     "iopub.status.busy": "2023-08-17T20:19:43.752378Z",
     "iopub.status.idle": "2023-08-17T20:19:43.762460Z",
     "shell.execute_reply": "2023-08-17T20:19:43.761341Z"
    },
    "papermill": {
     "duration": 0.055971,
     "end_time": "2023-08-17T20:19:43.764726",
     "exception": false,
     "start_time": "2023-08-17T20:19:43.708755",
     "status": "completed"
    },
    "tags": []
   },
   "outputs": [
    {
     "data": {
      "text/plain": [
       "sum         2.170324\n",
       "<lambda>    0.361721\n",
       "Name: A, dtype: float64"
      ]
     },
     "execution_count": 37,
     "metadata": {},
     "output_type": "execute_result"
    }
   ],
   "source": [
    "tsdf[\"A\"].agg([\"sum\", lambda x: x.mean()])"
   ]
  },
  {
   "cell_type": "code",
   "execution_count": 38,
   "id": "6dad182d",
   "metadata": {
    "execution": {
     "iopub.execute_input": "2023-08-17T20:19:43.852476Z",
     "iopub.status.busy": "2023-08-17T20:19:43.852067Z",
     "iopub.status.idle": "2023-08-17T20:19:43.861698Z",
     "shell.execute_reply": "2023-08-17T20:19:43.860474Z"
    },
    "papermill": {
     "duration": 0.056304,
     "end_time": "2023-08-17T20:19:43.863995",
     "exception": false,
     "start_time": "2023-08-17T20:19:43.807691",
     "status": "completed"
    },
    "tags": []
   },
   "outputs": [
    {
     "data": {
      "text/plain": [
       "sum       2.170324\n",
       "mymean    0.361721\n",
       "Name: A, dtype: float64"
      ]
     },
     "execution_count": 38,
     "metadata": {},
     "output_type": "execute_result"
    }
   ],
   "source": [
    "def mymean(x):\n",
    "    return x.mean()\n",
    "\n",
    "tsdf[\"A\"].agg([\"sum\", mymean])"
   ]
  },
  {
   "cell_type": "code",
   "execution_count": 39,
   "id": "53f25fb9",
   "metadata": {
    "execution": {
     "iopub.execute_input": "2023-08-17T20:19:43.952308Z",
     "iopub.status.busy": "2023-08-17T20:19:43.951954Z",
     "iopub.status.idle": "2023-08-17T20:19:43.961171Z",
     "shell.execute_reply": "2023-08-17T20:19:43.960329Z"
    },
    "papermill": {
     "duration": 0.055881,
     "end_time": "2023-08-17T20:19:43.963364",
     "exception": false,
     "start_time": "2023-08-17T20:19:43.907483",
     "status": "completed"
    },
    "tags": []
   },
   "outputs": [
    {
     "data": {
      "text/plain": [
       "A    0.361721\n",
       "B   -1.720448\n",
       "dtype: float64"
      ]
     },
     "execution_count": 39,
     "metadata": {},
     "output_type": "execute_result"
    }
   ],
   "source": [
    "tsdf.agg({\"A\": \"mean\", \"B\": \"sum\"})"
   ]
  },
  {
   "cell_type": "code",
   "execution_count": 40,
   "id": "5ae5ee1e",
   "metadata": {
    "execution": {
     "iopub.execute_input": "2023-08-17T20:19:44.052200Z",
     "iopub.status.busy": "2023-08-17T20:19:44.051769Z",
     "iopub.status.idle": "2023-08-17T20:19:44.066816Z",
     "shell.execute_reply": "2023-08-17T20:19:44.065460Z"
    },
    "papermill": {
     "duration": 0.061478,
     "end_time": "2023-08-17T20:19:44.069245",
     "exception": false,
     "start_time": "2023-08-17T20:19:44.007767",
     "status": "completed"
    },
    "tags": []
   },
   "outputs": [
    {
     "data": {
      "text/html": [
       "<div>\n",
       "<style scoped>\n",
       "    .dataframe tbody tr th:only-of-type {\n",
       "        vertical-align: middle;\n",
       "    }\n",
       "\n",
       "    .dataframe tbody tr th {\n",
       "        vertical-align: top;\n",
       "    }\n",
       "\n",
       "    .dataframe thead th {\n",
       "        text-align: right;\n",
       "    }\n",
       "</style>\n",
       "<table border=\"1\" class=\"dataframe\">\n",
       "  <thead>\n",
       "    <tr style=\"text-align: right;\">\n",
       "      <th></th>\n",
       "      <th>A</th>\n",
       "      <th>B</th>\n",
       "    </tr>\n",
       "  </thead>\n",
       "  <tbody>\n",
       "    <tr>\n",
       "      <th>mean</th>\n",
       "      <td>0.361721</td>\n",
       "      <td>NaN</td>\n",
       "    </tr>\n",
       "    <tr>\n",
       "      <th>min</th>\n",
       "      <td>-0.753549</td>\n",
       "      <td>NaN</td>\n",
       "    </tr>\n",
       "    <tr>\n",
       "      <th>sum</th>\n",
       "      <td>NaN</td>\n",
       "      <td>-1.720448</td>\n",
       "    </tr>\n",
       "  </tbody>\n",
       "</table>\n",
       "</div>"
      ],
      "text/plain": [
       "             A         B\n",
       "mean  0.361721       NaN\n",
       "min  -0.753549       NaN\n",
       "sum        NaN -1.720448"
      ]
     },
     "execution_count": 40,
     "metadata": {},
     "output_type": "execute_result"
    }
   ],
   "source": [
    "tsdf.agg({\"A\": [\"mean\", \"min\"], \"B\": \"sum\"})"
   ]
  },
  {
   "cell_type": "code",
   "execution_count": 41,
   "id": "d719b7f0",
   "metadata": {
    "execution": {
     "iopub.execute_input": "2023-08-17T20:19:44.158354Z",
     "iopub.status.busy": "2023-08-17T20:19:44.157914Z",
     "iopub.status.idle": "2023-08-17T20:19:44.165806Z",
     "shell.execute_reply": "2023-08-17T20:19:44.164701Z"
    },
    "papermill": {
     "duration": 0.055544,
     "end_time": "2023-08-17T20:19:44.168090",
     "exception": false,
     "start_time": "2023-08-17T20:19:44.112546",
     "status": "completed"
    },
    "tags": []
   },
   "outputs": [],
   "source": [
    "mdf = pd.DataFrame({\n",
    "\"A\": [1, 2, 3],\n",
    "\"B\": [1.0, 2.0, 3.0],\n",
    "\"C\": [\"foo\", \"bar\", \"baz\"],\n",
    "\"D\": pd.date_range(\"20130101\", periods=3),\n",
    "})"
   ]
  },
  {
   "cell_type": "code",
   "execution_count": 42,
   "id": "c1ba8157",
   "metadata": {
    "execution": {
     "iopub.execute_input": "2023-08-17T20:19:44.255251Z",
     "iopub.status.busy": "2023-08-17T20:19:44.254806Z",
     "iopub.status.idle": "2023-08-17T20:19:44.285667Z",
     "shell.execute_reply": "2023-08-17T20:19:44.284785Z"
    },
    "papermill": {
     "duration": 0.077271,
     "end_time": "2023-08-17T20:19:44.288044",
     "exception": false,
     "start_time": "2023-08-17T20:19:44.210773",
     "status": "completed"
    },
    "tags": []
   },
   "outputs": [
    {
     "data": {
      "text/html": [
       "<div>\n",
       "<style scoped>\n",
       "    .dataframe tbody tr th:only-of-type {\n",
       "        vertical-align: middle;\n",
       "    }\n",
       "\n",
       "    .dataframe tbody tr th {\n",
       "        vertical-align: top;\n",
       "    }\n",
       "\n",
       "    .dataframe thead th {\n",
       "        text-align: right;\n",
       "    }\n",
       "</style>\n",
       "<table border=\"1\" class=\"dataframe\">\n",
       "  <thead>\n",
       "    <tr style=\"text-align: right;\">\n",
       "      <th></th>\n",
       "      <th>A</th>\n",
       "      <th>B</th>\n",
       "      <th>C</th>\n",
       "    </tr>\n",
       "  </thead>\n",
       "  <tbody>\n",
       "    <tr>\n",
       "      <th>count</th>\n",
       "      <td>6.000000</td>\n",
       "      <td>6.000000</td>\n",
       "      <td>6.000000</td>\n",
       "    </tr>\n",
       "    <tr>\n",
       "      <th>mean</th>\n",
       "      <td>0.361721</td>\n",
       "      <td>-0.286741</td>\n",
       "      <td>0.671101</td>\n",
       "    </tr>\n",
       "    <tr>\n",
       "      <th>std</th>\n",
       "      <td>0.884113</td>\n",
       "      <td>0.560740</td>\n",
       "      <td>1.090032</td>\n",
       "    </tr>\n",
       "    <tr>\n",
       "      <th>min</th>\n",
       "      <td>-0.753549</td>\n",
       "      <td>-0.996211</td>\n",
       "      <td>-1.050987</td>\n",
       "    </tr>\n",
       "    <tr>\n",
       "      <th>25%</th>\n",
       "      <td>-0.191505</td>\n",
       "      <td>-0.628347</td>\n",
       "      <td>0.100682</td>\n",
       "    </tr>\n",
       "    <tr>\n",
       "      <th>median</th>\n",
       "      <td>0.328735</td>\n",
       "      <td>-0.374646</td>\n",
       "      <td>1.037099</td>\n",
       "    </tr>\n",
       "    <tr>\n",
       "      <th>75%</th>\n",
       "      <td>0.738033</td>\n",
       "      <td>0.060649</td>\n",
       "      <td>1.220561</td>\n",
       "    </tr>\n",
       "    <tr>\n",
       "      <th>max</th>\n",
       "      <td>1.756855</td>\n",
       "      <td>0.532221</td>\n",
       "      <td>1.933141</td>\n",
       "    </tr>\n",
       "  </tbody>\n",
       "</table>\n",
       "</div>"
      ],
      "text/plain": [
       "               A         B         C\n",
       "count   6.000000  6.000000  6.000000\n",
       "mean    0.361721 -0.286741  0.671101\n",
       "std     0.884113  0.560740  1.090032\n",
       "min    -0.753549 -0.996211 -1.050987\n",
       "25%    -0.191505 -0.628347  0.100682\n",
       "median  0.328735 -0.374646  1.037099\n",
       "75%     0.738033  0.060649  1.220561\n",
       "max     1.756855  0.532221  1.933141"
      ]
     },
     "execution_count": 42,
     "metadata": {},
     "output_type": "execute_result"
    }
   ],
   "source": [
    "# Custom describe\n",
    "\n",
    "from functools import partial\n",
    "q_25 = partial(pd.Series.quantile, q=0.25)\n",
    "q_25.__name__ = \"25%\"\n",
    "q_75 = partial(pd.Series.quantile, q=0.75)\n",
    "q_75.__name__ = \"75%\"\n",
    "tsdf.agg([\"count\", \"mean\", \"std\", \"min\", q_25, \"median\", q_75, \"max\"])"
   ]
  },
  {
   "cell_type": "code",
   "execution_count": 43,
   "id": "4ade72f7",
   "metadata": {
    "execution": {
     "iopub.execute_input": "2023-08-17T20:19:44.376502Z",
     "iopub.status.busy": "2023-08-17T20:19:44.376099Z",
     "iopub.status.idle": "2023-08-17T20:19:44.391096Z",
     "shell.execute_reply": "2023-08-17T20:19:44.389991Z"
    },
    "papermill": {
     "duration": 0.061985,
     "end_time": "2023-08-17T20:19:44.393462",
     "exception": false,
     "start_time": "2023-08-17T20:19:44.331477",
     "status": "completed"
    },
    "tags": []
   },
   "outputs": [
    {
     "data": {
      "text/html": [
       "<div>\n",
       "<style scoped>\n",
       "    .dataframe tbody tr th:only-of-type {\n",
       "        vertical-align: middle;\n",
       "    }\n",
       "\n",
       "    .dataframe tbody tr th {\n",
       "        vertical-align: top;\n",
       "    }\n",
       "\n",
       "    .dataframe thead th {\n",
       "        text-align: right;\n",
       "    }\n",
       "</style>\n",
       "<table border=\"1\" class=\"dataframe\">\n",
       "  <thead>\n",
       "    <tr style=\"text-align: right;\">\n",
       "      <th></th>\n",
       "      <th>A</th>\n",
       "      <th>B</th>\n",
       "      <th>C</th>\n",
       "    </tr>\n",
       "  </thead>\n",
       "  <tbody>\n",
       "    <tr>\n",
       "      <th>2000-01-01</th>\n",
       "      <td>-1.165502</td>\n",
       "      <td>0.170554</td>\n",
       "      <td>1.729910</td>\n",
       "    </tr>\n",
       "    <tr>\n",
       "      <th>2000-01-02</th>\n",
       "      <td>-0.625735</td>\n",
       "      <td>0.816751</td>\n",
       "      <td>-1.008044</td>\n",
       "    </tr>\n",
       "    <tr>\n",
       "      <th>2000-01-03</th>\n",
       "      <td>1.232961</td>\n",
       "      <td>0.868102</td>\n",
       "      <td>0.542572</td>\n",
       "    </tr>\n",
       "    <tr>\n",
       "      <th>2000-01-04</th>\n",
       "      <td>NaN</td>\n",
       "      <td>NaN</td>\n",
       "      <td>NaN</td>\n",
       "    </tr>\n",
       "    <tr>\n",
       "      <th>2000-01-05</th>\n",
       "      <td>NaN</td>\n",
       "      <td>NaN</td>\n",
       "      <td>NaN</td>\n",
       "    </tr>\n",
       "    <tr>\n",
       "      <th>2000-01-06</th>\n",
       "      <td>NaN</td>\n",
       "      <td>NaN</td>\n",
       "      <td>NaN</td>\n",
       "    </tr>\n",
       "    <tr>\n",
       "      <th>2000-01-07</th>\n",
       "      <td>NaN</td>\n",
       "      <td>NaN</td>\n",
       "      <td>NaN</td>\n",
       "    </tr>\n",
       "    <tr>\n",
       "      <th>2000-01-08</th>\n",
       "      <td>0.535220</td>\n",
       "      <td>0.126240</td>\n",
       "      <td>0.255688</td>\n",
       "    </tr>\n",
       "    <tr>\n",
       "      <th>2000-01-09</th>\n",
       "      <td>0.167939</td>\n",
       "      <td>-0.547575</td>\n",
       "      <td>0.265722</td>\n",
       "    </tr>\n",
       "    <tr>\n",
       "      <th>2000-01-10</th>\n",
       "      <td>-0.352974</td>\n",
       "      <td>0.286123</td>\n",
       "      <td>0.219332</td>\n",
       "    </tr>\n",
       "  </tbody>\n",
       "</table>\n",
       "</div>"
      ],
      "text/plain": [
       "                   A         B         C\n",
       "2000-01-01 -1.165502  0.170554  1.729910\n",
       "2000-01-02 -0.625735  0.816751 -1.008044\n",
       "2000-01-03  1.232961  0.868102  0.542572\n",
       "2000-01-04       NaN       NaN       NaN\n",
       "2000-01-05       NaN       NaN       NaN\n",
       "2000-01-06       NaN       NaN       NaN\n",
       "2000-01-07       NaN       NaN       NaN\n",
       "2000-01-08  0.535220  0.126240  0.255688\n",
       "2000-01-09  0.167939 -0.547575  0.265722\n",
       "2000-01-10 -0.352974  0.286123  0.219332"
      ]
     },
     "execution_count": 43,
     "metadata": {},
     "output_type": "execute_result"
    }
   ],
   "source": [
    "tsdf = pd.DataFrame(\n",
    "np.random.randn(10, 3),\n",
    "columns=[\"A\", \"B\", \"C\"],\n",
    "index=pd.date_range(\"1/1/2000\", periods=10),\n",
    ")\n",
    "\n",
    "tsdf.iloc[3:7] = np.nan\n",
    "tsdf"
   ]
  },
  {
   "cell_type": "code",
   "execution_count": 44,
   "id": "1aeedae9",
   "metadata": {
    "execution": {
     "iopub.execute_input": "2023-08-17T20:19:44.483007Z",
     "iopub.status.busy": "2023-08-17T20:19:44.482576Z",
     "iopub.status.idle": "2023-08-17T20:19:44.494651Z",
     "shell.execute_reply": "2023-08-17T20:19:44.493834Z"
    },
    "papermill": {
     "duration": 0.059028,
     "end_time": "2023-08-17T20:19:44.496931",
     "exception": false,
     "start_time": "2023-08-17T20:19:44.437903",
     "status": "completed"
    },
    "tags": []
   },
   "outputs": [
    {
     "data": {
      "text/html": [
       "<div>\n",
       "<style scoped>\n",
       "    .dataframe tbody tr th:only-of-type {\n",
       "        vertical-align: middle;\n",
       "    }\n",
       "\n",
       "    .dataframe tbody tr th {\n",
       "        vertical-align: top;\n",
       "    }\n",
       "\n",
       "    .dataframe thead th {\n",
       "        text-align: right;\n",
       "    }\n",
       "</style>\n",
       "<table border=\"1\" class=\"dataframe\">\n",
       "  <thead>\n",
       "    <tr style=\"text-align: right;\">\n",
       "      <th></th>\n",
       "      <th>A</th>\n",
       "      <th>B</th>\n",
       "      <th>C</th>\n",
       "    </tr>\n",
       "  </thead>\n",
       "  <tbody>\n",
       "    <tr>\n",
       "      <th>2000-01-01</th>\n",
       "      <td>1.165502</td>\n",
       "      <td>0.170554</td>\n",
       "      <td>1.729910</td>\n",
       "    </tr>\n",
       "    <tr>\n",
       "      <th>2000-01-02</th>\n",
       "      <td>0.625735</td>\n",
       "      <td>0.816751</td>\n",
       "      <td>1.008044</td>\n",
       "    </tr>\n",
       "    <tr>\n",
       "      <th>2000-01-03</th>\n",
       "      <td>1.232961</td>\n",
       "      <td>0.868102</td>\n",
       "      <td>0.542572</td>\n",
       "    </tr>\n",
       "    <tr>\n",
       "      <th>2000-01-04</th>\n",
       "      <td>NaN</td>\n",
       "      <td>NaN</td>\n",
       "      <td>NaN</td>\n",
       "    </tr>\n",
       "    <tr>\n",
       "      <th>2000-01-05</th>\n",
       "      <td>NaN</td>\n",
       "      <td>NaN</td>\n",
       "      <td>NaN</td>\n",
       "    </tr>\n",
       "    <tr>\n",
       "      <th>2000-01-06</th>\n",
       "      <td>NaN</td>\n",
       "      <td>NaN</td>\n",
       "      <td>NaN</td>\n",
       "    </tr>\n",
       "    <tr>\n",
       "      <th>2000-01-07</th>\n",
       "      <td>NaN</td>\n",
       "      <td>NaN</td>\n",
       "      <td>NaN</td>\n",
       "    </tr>\n",
       "    <tr>\n",
       "      <th>2000-01-08</th>\n",
       "      <td>0.535220</td>\n",
       "      <td>0.126240</td>\n",
       "      <td>0.255688</td>\n",
       "    </tr>\n",
       "    <tr>\n",
       "      <th>2000-01-09</th>\n",
       "      <td>0.167939</td>\n",
       "      <td>0.547575</td>\n",
       "      <td>0.265722</td>\n",
       "    </tr>\n",
       "    <tr>\n",
       "      <th>2000-01-10</th>\n",
       "      <td>0.352974</td>\n",
       "      <td>0.286123</td>\n",
       "      <td>0.219332</td>\n",
       "    </tr>\n",
       "  </tbody>\n",
       "</table>\n",
       "</div>"
      ],
      "text/plain": [
       "                   A         B         C\n",
       "2000-01-01  1.165502  0.170554  1.729910\n",
       "2000-01-02  0.625735  0.816751  1.008044\n",
       "2000-01-03  1.232961  0.868102  0.542572\n",
       "2000-01-04       NaN       NaN       NaN\n",
       "2000-01-05       NaN       NaN       NaN\n",
       "2000-01-06       NaN       NaN       NaN\n",
       "2000-01-07       NaN       NaN       NaN\n",
       "2000-01-08  0.535220  0.126240  0.255688\n",
       "2000-01-09  0.167939  0.547575  0.265722\n",
       "2000-01-10  0.352974  0.286123  0.219332"
      ]
     },
     "execution_count": 44,
     "metadata": {},
     "output_type": "execute_result"
    }
   ],
   "source": [
    "tsdf.transform(np.abs)"
   ]
  },
  {
   "cell_type": "code",
   "execution_count": 45,
   "id": "fb8e073e",
   "metadata": {
    "execution": {
     "iopub.execute_input": "2023-08-17T20:19:44.586464Z",
     "iopub.status.busy": "2023-08-17T20:19:44.586058Z",
     "iopub.status.idle": "2023-08-17T20:19:44.599507Z",
     "shell.execute_reply": "2023-08-17T20:19:44.598308Z"
    },
    "papermill": {
     "duration": 0.060849,
     "end_time": "2023-08-17T20:19:44.601962",
     "exception": false,
     "start_time": "2023-08-17T20:19:44.541113",
     "status": "completed"
    },
    "tags": []
   },
   "outputs": [
    {
     "data": {
      "text/html": [
       "<div>\n",
       "<style scoped>\n",
       "    .dataframe tbody tr th:only-of-type {\n",
       "        vertical-align: middle;\n",
       "    }\n",
       "\n",
       "    .dataframe tbody tr th {\n",
       "        vertical-align: top;\n",
       "    }\n",
       "\n",
       "    .dataframe thead th {\n",
       "        text-align: right;\n",
       "    }\n",
       "</style>\n",
       "<table border=\"1\" class=\"dataframe\">\n",
       "  <thead>\n",
       "    <tr style=\"text-align: right;\">\n",
       "      <th></th>\n",
       "      <th>A</th>\n",
       "      <th>B</th>\n",
       "      <th>C</th>\n",
       "    </tr>\n",
       "  </thead>\n",
       "  <tbody>\n",
       "    <tr>\n",
       "      <th>2000-01-01</th>\n",
       "      <td>1.165502</td>\n",
       "      <td>0.170554</td>\n",
       "      <td>1.729910</td>\n",
       "    </tr>\n",
       "    <tr>\n",
       "      <th>2000-01-02</th>\n",
       "      <td>0.625735</td>\n",
       "      <td>0.816751</td>\n",
       "      <td>1.008044</td>\n",
       "    </tr>\n",
       "    <tr>\n",
       "      <th>2000-01-03</th>\n",
       "      <td>1.232961</td>\n",
       "      <td>0.868102</td>\n",
       "      <td>0.542572</td>\n",
       "    </tr>\n",
       "    <tr>\n",
       "      <th>2000-01-04</th>\n",
       "      <td>NaN</td>\n",
       "      <td>NaN</td>\n",
       "      <td>NaN</td>\n",
       "    </tr>\n",
       "    <tr>\n",
       "      <th>2000-01-05</th>\n",
       "      <td>NaN</td>\n",
       "      <td>NaN</td>\n",
       "      <td>NaN</td>\n",
       "    </tr>\n",
       "    <tr>\n",
       "      <th>2000-01-06</th>\n",
       "      <td>NaN</td>\n",
       "      <td>NaN</td>\n",
       "      <td>NaN</td>\n",
       "    </tr>\n",
       "    <tr>\n",
       "      <th>2000-01-07</th>\n",
       "      <td>NaN</td>\n",
       "      <td>NaN</td>\n",
       "      <td>NaN</td>\n",
       "    </tr>\n",
       "    <tr>\n",
       "      <th>2000-01-08</th>\n",
       "      <td>0.535220</td>\n",
       "      <td>0.126240</td>\n",
       "      <td>0.255688</td>\n",
       "    </tr>\n",
       "    <tr>\n",
       "      <th>2000-01-09</th>\n",
       "      <td>0.167939</td>\n",
       "      <td>0.547575</td>\n",
       "      <td>0.265722</td>\n",
       "    </tr>\n",
       "    <tr>\n",
       "      <th>2000-01-10</th>\n",
       "      <td>0.352974</td>\n",
       "      <td>0.286123</td>\n",
       "      <td>0.219332</td>\n",
       "    </tr>\n",
       "  </tbody>\n",
       "</table>\n",
       "</div>"
      ],
      "text/plain": [
       "                   A         B         C\n",
       "2000-01-01  1.165502  0.170554  1.729910\n",
       "2000-01-02  0.625735  0.816751  1.008044\n",
       "2000-01-03  1.232961  0.868102  0.542572\n",
       "2000-01-04       NaN       NaN       NaN\n",
       "2000-01-05       NaN       NaN       NaN\n",
       "2000-01-06       NaN       NaN       NaN\n",
       "2000-01-07       NaN       NaN       NaN\n",
       "2000-01-08  0.535220  0.126240  0.255688\n",
       "2000-01-09  0.167939  0.547575  0.265722\n",
       "2000-01-10  0.352974  0.286123  0.219332"
      ]
     },
     "execution_count": 45,
     "metadata": {},
     "output_type": "execute_result"
    }
   ],
   "source": [
    "tsdf.transform(\"abs\")"
   ]
  },
  {
   "cell_type": "code",
   "execution_count": 46,
   "id": "d84c513e",
   "metadata": {
    "execution": {
     "iopub.execute_input": "2023-08-17T20:19:44.692202Z",
     "iopub.status.busy": "2023-08-17T20:19:44.691790Z",
     "iopub.status.idle": "2023-08-17T20:19:44.704897Z",
     "shell.execute_reply": "2023-08-17T20:19:44.704047Z"
    },
    "papermill": {
     "duration": 0.06099,
     "end_time": "2023-08-17T20:19:44.707086",
     "exception": false,
     "start_time": "2023-08-17T20:19:44.646096",
     "status": "completed"
    },
    "tags": []
   },
   "outputs": [
    {
     "data": {
      "text/html": [
       "<div>\n",
       "<style scoped>\n",
       "    .dataframe tbody tr th:only-of-type {\n",
       "        vertical-align: middle;\n",
       "    }\n",
       "\n",
       "    .dataframe tbody tr th {\n",
       "        vertical-align: top;\n",
       "    }\n",
       "\n",
       "    .dataframe thead th {\n",
       "        text-align: right;\n",
       "    }\n",
       "</style>\n",
       "<table border=\"1\" class=\"dataframe\">\n",
       "  <thead>\n",
       "    <tr style=\"text-align: right;\">\n",
       "      <th></th>\n",
       "      <th>A</th>\n",
       "      <th>B</th>\n",
       "      <th>C</th>\n",
       "    </tr>\n",
       "  </thead>\n",
       "  <tbody>\n",
       "    <tr>\n",
       "      <th>2000-01-01</th>\n",
       "      <td>1.165502</td>\n",
       "      <td>0.170554</td>\n",
       "      <td>1.729910</td>\n",
       "    </tr>\n",
       "    <tr>\n",
       "      <th>2000-01-02</th>\n",
       "      <td>0.625735</td>\n",
       "      <td>0.816751</td>\n",
       "      <td>1.008044</td>\n",
       "    </tr>\n",
       "    <tr>\n",
       "      <th>2000-01-03</th>\n",
       "      <td>1.232961</td>\n",
       "      <td>0.868102</td>\n",
       "      <td>0.542572</td>\n",
       "    </tr>\n",
       "    <tr>\n",
       "      <th>2000-01-04</th>\n",
       "      <td>NaN</td>\n",
       "      <td>NaN</td>\n",
       "      <td>NaN</td>\n",
       "    </tr>\n",
       "    <tr>\n",
       "      <th>2000-01-05</th>\n",
       "      <td>NaN</td>\n",
       "      <td>NaN</td>\n",
       "      <td>NaN</td>\n",
       "    </tr>\n",
       "    <tr>\n",
       "      <th>2000-01-06</th>\n",
       "      <td>NaN</td>\n",
       "      <td>NaN</td>\n",
       "      <td>NaN</td>\n",
       "    </tr>\n",
       "    <tr>\n",
       "      <th>2000-01-07</th>\n",
       "      <td>NaN</td>\n",
       "      <td>NaN</td>\n",
       "      <td>NaN</td>\n",
       "    </tr>\n",
       "    <tr>\n",
       "      <th>2000-01-08</th>\n",
       "      <td>0.535220</td>\n",
       "      <td>0.126240</td>\n",
       "      <td>0.255688</td>\n",
       "    </tr>\n",
       "    <tr>\n",
       "      <th>2000-01-09</th>\n",
       "      <td>0.167939</td>\n",
       "      <td>0.547575</td>\n",
       "      <td>0.265722</td>\n",
       "    </tr>\n",
       "    <tr>\n",
       "      <th>2000-01-10</th>\n",
       "      <td>0.352974</td>\n",
       "      <td>0.286123</td>\n",
       "      <td>0.219332</td>\n",
       "    </tr>\n",
       "  </tbody>\n",
       "</table>\n",
       "</div>"
      ],
      "text/plain": [
       "                   A         B         C\n",
       "2000-01-01  1.165502  0.170554  1.729910\n",
       "2000-01-02  0.625735  0.816751  1.008044\n",
       "2000-01-03  1.232961  0.868102  0.542572\n",
       "2000-01-04       NaN       NaN       NaN\n",
       "2000-01-05       NaN       NaN       NaN\n",
       "2000-01-06       NaN       NaN       NaN\n",
       "2000-01-07       NaN       NaN       NaN\n",
       "2000-01-08  0.535220  0.126240  0.255688\n",
       "2000-01-09  0.167939  0.547575  0.265722\n",
       "2000-01-10  0.352974  0.286123  0.219332"
      ]
     },
     "execution_count": 46,
     "metadata": {},
     "output_type": "execute_result"
    }
   ],
   "source": [
    "tsdf.transform(lambda x: x.abs())"
   ]
  },
  {
   "cell_type": "code",
   "execution_count": 47,
   "id": "abe8230b",
   "metadata": {
    "execution": {
     "iopub.execute_input": "2023-08-17T20:19:44.797272Z",
     "iopub.status.busy": "2023-08-17T20:19:44.796850Z",
     "iopub.status.idle": "2023-08-17T20:19:44.808715Z",
     "shell.execute_reply": "2023-08-17T20:19:44.807946Z"
    },
    "papermill": {
     "duration": 0.059559,
     "end_time": "2023-08-17T20:19:44.810821",
     "exception": false,
     "start_time": "2023-08-17T20:19:44.751262",
     "status": "completed"
    },
    "tags": []
   },
   "outputs": [
    {
     "data": {
      "text/html": [
       "<div>\n",
       "<style scoped>\n",
       "    .dataframe tbody tr th:only-of-type {\n",
       "        vertical-align: middle;\n",
       "    }\n",
       "\n",
       "    .dataframe tbody tr th {\n",
       "        vertical-align: top;\n",
       "    }\n",
       "\n",
       "    .dataframe thead th {\n",
       "        text-align: right;\n",
       "    }\n",
       "</style>\n",
       "<table border=\"1\" class=\"dataframe\">\n",
       "  <thead>\n",
       "    <tr style=\"text-align: right;\">\n",
       "      <th></th>\n",
       "      <th>A</th>\n",
       "      <th>B</th>\n",
       "      <th>C</th>\n",
       "    </tr>\n",
       "  </thead>\n",
       "  <tbody>\n",
       "    <tr>\n",
       "      <th>2000-01-01</th>\n",
       "      <td>1.165502</td>\n",
       "      <td>0.170554</td>\n",
       "      <td>1.729910</td>\n",
       "    </tr>\n",
       "    <tr>\n",
       "      <th>2000-01-02</th>\n",
       "      <td>0.625735</td>\n",
       "      <td>0.816751</td>\n",
       "      <td>1.008044</td>\n",
       "    </tr>\n",
       "    <tr>\n",
       "      <th>2000-01-03</th>\n",
       "      <td>1.232961</td>\n",
       "      <td>0.868102</td>\n",
       "      <td>0.542572</td>\n",
       "    </tr>\n",
       "    <tr>\n",
       "      <th>2000-01-04</th>\n",
       "      <td>NaN</td>\n",
       "      <td>NaN</td>\n",
       "      <td>NaN</td>\n",
       "    </tr>\n",
       "    <tr>\n",
       "      <th>2000-01-05</th>\n",
       "      <td>NaN</td>\n",
       "      <td>NaN</td>\n",
       "      <td>NaN</td>\n",
       "    </tr>\n",
       "    <tr>\n",
       "      <th>2000-01-06</th>\n",
       "      <td>NaN</td>\n",
       "      <td>NaN</td>\n",
       "      <td>NaN</td>\n",
       "    </tr>\n",
       "    <tr>\n",
       "      <th>2000-01-07</th>\n",
       "      <td>NaN</td>\n",
       "      <td>NaN</td>\n",
       "      <td>NaN</td>\n",
       "    </tr>\n",
       "    <tr>\n",
       "      <th>2000-01-08</th>\n",
       "      <td>0.535220</td>\n",
       "      <td>0.126240</td>\n",
       "      <td>0.255688</td>\n",
       "    </tr>\n",
       "    <tr>\n",
       "      <th>2000-01-09</th>\n",
       "      <td>0.167939</td>\n",
       "      <td>0.547575</td>\n",
       "      <td>0.265722</td>\n",
       "    </tr>\n",
       "    <tr>\n",
       "      <th>2000-01-10</th>\n",
       "      <td>0.352974</td>\n",
       "      <td>0.286123</td>\n",
       "      <td>0.219332</td>\n",
       "    </tr>\n",
       "  </tbody>\n",
       "</table>\n",
       "</div>"
      ],
      "text/plain": [
       "                   A         B         C\n",
       "2000-01-01  1.165502  0.170554  1.729910\n",
       "2000-01-02  0.625735  0.816751  1.008044\n",
       "2000-01-03  1.232961  0.868102  0.542572\n",
       "2000-01-04       NaN       NaN       NaN\n",
       "2000-01-05       NaN       NaN       NaN\n",
       "2000-01-06       NaN       NaN       NaN\n",
       "2000-01-07       NaN       NaN       NaN\n",
       "2000-01-08  0.535220  0.126240  0.255688\n",
       "2000-01-09  0.167939  0.547575  0.265722\n",
       "2000-01-10  0.352974  0.286123  0.219332"
      ]
     },
     "execution_count": 47,
     "metadata": {},
     "output_type": "execute_result"
    }
   ],
   "source": [
    "np.abs(tsdf)"
   ]
  },
  {
   "cell_type": "code",
   "execution_count": 48,
   "id": "1ebd534a",
   "metadata": {
    "execution": {
     "iopub.execute_input": "2023-08-17T20:19:44.902551Z",
     "iopub.status.busy": "2023-08-17T20:19:44.902176Z",
     "iopub.status.idle": "2023-08-17T20:19:44.910192Z",
     "shell.execute_reply": "2023-08-17T20:19:44.909333Z"
    },
    "papermill": {
     "duration": 0.056641,
     "end_time": "2023-08-17T20:19:44.912316",
     "exception": false,
     "start_time": "2023-08-17T20:19:44.855675",
     "status": "completed"
    },
    "tags": []
   },
   "outputs": [
    {
     "data": {
      "text/plain": [
       "2000-01-01    1.165502\n",
       "2000-01-02    0.625735\n",
       "2000-01-03    1.232961\n",
       "2000-01-04         NaN\n",
       "2000-01-05         NaN\n",
       "2000-01-06         NaN\n",
       "2000-01-07         NaN\n",
       "2000-01-08    0.535220\n",
       "2000-01-09    0.167939\n",
       "2000-01-10    0.352974\n",
       "Freq: D, Name: A, dtype: float64"
      ]
     },
     "execution_count": 48,
     "metadata": {},
     "output_type": "execute_result"
    }
   ],
   "source": [
    "tsdf[\"A\"].transform(np.abs)"
   ]
  },
  {
   "cell_type": "code",
   "execution_count": 49,
   "id": "fffe9ea9",
   "metadata": {
    "execution": {
     "iopub.execute_input": "2023-08-17T20:19:45.003429Z",
     "iopub.status.busy": "2023-08-17T20:19:45.003064Z",
     "iopub.status.idle": "2023-08-17T20:19:45.030103Z",
     "shell.execute_reply": "2023-08-17T20:19:45.029009Z"
    },
    "papermill": {
     "duration": 0.075748,
     "end_time": "2023-08-17T20:19:45.032733",
     "exception": false,
     "start_time": "2023-08-17T20:19:44.956985",
     "status": "completed"
    },
    "tags": []
   },
   "outputs": [
    {
     "data": {
      "text/html": [
       "<div>\n",
       "<style scoped>\n",
       "    .dataframe tbody tr th:only-of-type {\n",
       "        vertical-align: middle;\n",
       "    }\n",
       "\n",
       "    .dataframe tbody tr th {\n",
       "        vertical-align: top;\n",
       "    }\n",
       "\n",
       "    .dataframe thead tr th {\n",
       "        text-align: left;\n",
       "    }\n",
       "</style>\n",
       "<table border=\"1\" class=\"dataframe\">\n",
       "  <thead>\n",
       "    <tr>\n",
       "      <th></th>\n",
       "      <th colspan=\"2\" halign=\"left\">A</th>\n",
       "      <th colspan=\"2\" halign=\"left\">B</th>\n",
       "      <th colspan=\"2\" halign=\"left\">C</th>\n",
       "    </tr>\n",
       "    <tr>\n",
       "      <th></th>\n",
       "      <th>absolute</th>\n",
       "      <th>&lt;lambda&gt;</th>\n",
       "      <th>absolute</th>\n",
       "      <th>&lt;lambda&gt;</th>\n",
       "      <th>absolute</th>\n",
       "      <th>&lt;lambda&gt;</th>\n",
       "    </tr>\n",
       "  </thead>\n",
       "  <tbody>\n",
       "    <tr>\n",
       "      <th>2000-01-01</th>\n",
       "      <td>1.165502</td>\n",
       "      <td>-0.165502</td>\n",
       "      <td>0.170554</td>\n",
       "      <td>1.170554</td>\n",
       "      <td>1.729910</td>\n",
       "      <td>2.729910</td>\n",
       "    </tr>\n",
       "    <tr>\n",
       "      <th>2000-01-02</th>\n",
       "      <td>0.625735</td>\n",
       "      <td>0.374265</td>\n",
       "      <td>0.816751</td>\n",
       "      <td>1.816751</td>\n",
       "      <td>1.008044</td>\n",
       "      <td>-0.008044</td>\n",
       "    </tr>\n",
       "    <tr>\n",
       "      <th>2000-01-03</th>\n",
       "      <td>1.232961</td>\n",
       "      <td>2.232961</td>\n",
       "      <td>0.868102</td>\n",
       "      <td>1.868102</td>\n",
       "      <td>0.542572</td>\n",
       "      <td>1.542572</td>\n",
       "    </tr>\n",
       "    <tr>\n",
       "      <th>2000-01-04</th>\n",
       "      <td>NaN</td>\n",
       "      <td>NaN</td>\n",
       "      <td>NaN</td>\n",
       "      <td>NaN</td>\n",
       "      <td>NaN</td>\n",
       "      <td>NaN</td>\n",
       "    </tr>\n",
       "    <tr>\n",
       "      <th>2000-01-05</th>\n",
       "      <td>NaN</td>\n",
       "      <td>NaN</td>\n",
       "      <td>NaN</td>\n",
       "      <td>NaN</td>\n",
       "      <td>NaN</td>\n",
       "      <td>NaN</td>\n",
       "    </tr>\n",
       "    <tr>\n",
       "      <th>2000-01-06</th>\n",
       "      <td>NaN</td>\n",
       "      <td>NaN</td>\n",
       "      <td>NaN</td>\n",
       "      <td>NaN</td>\n",
       "      <td>NaN</td>\n",
       "      <td>NaN</td>\n",
       "    </tr>\n",
       "    <tr>\n",
       "      <th>2000-01-07</th>\n",
       "      <td>NaN</td>\n",
       "      <td>NaN</td>\n",
       "      <td>NaN</td>\n",
       "      <td>NaN</td>\n",
       "      <td>NaN</td>\n",
       "      <td>NaN</td>\n",
       "    </tr>\n",
       "    <tr>\n",
       "      <th>2000-01-08</th>\n",
       "      <td>0.535220</td>\n",
       "      <td>1.535220</td>\n",
       "      <td>0.126240</td>\n",
       "      <td>1.126240</td>\n",
       "      <td>0.255688</td>\n",
       "      <td>1.255688</td>\n",
       "    </tr>\n",
       "    <tr>\n",
       "      <th>2000-01-09</th>\n",
       "      <td>0.167939</td>\n",
       "      <td>1.167939</td>\n",
       "      <td>0.547575</td>\n",
       "      <td>0.452425</td>\n",
       "      <td>0.265722</td>\n",
       "      <td>1.265722</td>\n",
       "    </tr>\n",
       "    <tr>\n",
       "      <th>2000-01-10</th>\n",
       "      <td>0.352974</td>\n",
       "      <td>0.647026</td>\n",
       "      <td>0.286123</td>\n",
       "      <td>1.286123</td>\n",
       "      <td>0.219332</td>\n",
       "      <td>1.219332</td>\n",
       "    </tr>\n",
       "  </tbody>\n",
       "</table>\n",
       "</div>"
      ],
      "text/plain": [
       "                   A                   B                   C          \n",
       "            absolute  <lambda>  absolute  <lambda>  absolute  <lambda>\n",
       "2000-01-01  1.165502 -0.165502  0.170554  1.170554  1.729910  2.729910\n",
       "2000-01-02  0.625735  0.374265  0.816751  1.816751  1.008044 -0.008044\n",
       "2000-01-03  1.232961  2.232961  0.868102  1.868102  0.542572  1.542572\n",
       "2000-01-04       NaN       NaN       NaN       NaN       NaN       NaN\n",
       "2000-01-05       NaN       NaN       NaN       NaN       NaN       NaN\n",
       "2000-01-06       NaN       NaN       NaN       NaN       NaN       NaN\n",
       "2000-01-07       NaN       NaN       NaN       NaN       NaN       NaN\n",
       "2000-01-08  0.535220  1.535220  0.126240  1.126240  0.255688  1.255688\n",
       "2000-01-09  0.167939  1.167939  0.547575  0.452425  0.265722  1.265722\n",
       "2000-01-10  0.352974  0.647026  0.286123  1.286123  0.219332  1.219332"
      ]
     },
     "execution_count": 49,
     "metadata": {},
     "output_type": "execute_result"
    }
   ],
   "source": [
    "tsdf.transform([np.abs, lambda x: x + 1])"
   ]
  },
  {
   "cell_type": "code",
   "execution_count": 50,
   "id": "f8fd19ae",
   "metadata": {
    "execution": {
     "iopub.execute_input": "2023-08-17T20:19:45.126492Z",
     "iopub.status.busy": "2023-08-17T20:19:45.125738Z",
     "iopub.status.idle": "2023-08-17T20:19:45.139193Z",
     "shell.execute_reply": "2023-08-17T20:19:45.138095Z"
    },
    "papermill": {
     "duration": 0.063212,
     "end_time": "2023-08-17T20:19:45.141521",
     "exception": false,
     "start_time": "2023-08-17T20:19:45.078309",
     "status": "completed"
    },
    "tags": []
   },
   "outputs": [
    {
     "data": {
      "text/html": [
       "<div>\n",
       "<style scoped>\n",
       "    .dataframe tbody tr th:only-of-type {\n",
       "        vertical-align: middle;\n",
       "    }\n",
       "\n",
       "    .dataframe tbody tr th {\n",
       "        vertical-align: top;\n",
       "    }\n",
       "\n",
       "    .dataframe thead th {\n",
       "        text-align: right;\n",
       "    }\n",
       "</style>\n",
       "<table border=\"1\" class=\"dataframe\">\n",
       "  <thead>\n",
       "    <tr style=\"text-align: right;\">\n",
       "      <th></th>\n",
       "      <th>absolute</th>\n",
       "      <th>&lt;lambda&gt;</th>\n",
       "    </tr>\n",
       "  </thead>\n",
       "  <tbody>\n",
       "    <tr>\n",
       "      <th>2000-01-01</th>\n",
       "      <td>1.165502</td>\n",
       "      <td>-0.165502</td>\n",
       "    </tr>\n",
       "    <tr>\n",
       "      <th>2000-01-02</th>\n",
       "      <td>0.625735</td>\n",
       "      <td>0.374265</td>\n",
       "    </tr>\n",
       "    <tr>\n",
       "      <th>2000-01-03</th>\n",
       "      <td>1.232961</td>\n",
       "      <td>2.232961</td>\n",
       "    </tr>\n",
       "    <tr>\n",
       "      <th>2000-01-04</th>\n",
       "      <td>NaN</td>\n",
       "      <td>NaN</td>\n",
       "    </tr>\n",
       "    <tr>\n",
       "      <th>2000-01-05</th>\n",
       "      <td>NaN</td>\n",
       "      <td>NaN</td>\n",
       "    </tr>\n",
       "    <tr>\n",
       "      <th>2000-01-06</th>\n",
       "      <td>NaN</td>\n",
       "      <td>NaN</td>\n",
       "    </tr>\n",
       "    <tr>\n",
       "      <th>2000-01-07</th>\n",
       "      <td>NaN</td>\n",
       "      <td>NaN</td>\n",
       "    </tr>\n",
       "    <tr>\n",
       "      <th>2000-01-08</th>\n",
       "      <td>0.535220</td>\n",
       "      <td>1.535220</td>\n",
       "    </tr>\n",
       "    <tr>\n",
       "      <th>2000-01-09</th>\n",
       "      <td>0.167939</td>\n",
       "      <td>1.167939</td>\n",
       "    </tr>\n",
       "    <tr>\n",
       "      <th>2000-01-10</th>\n",
       "      <td>0.352974</td>\n",
       "      <td>0.647026</td>\n",
       "    </tr>\n",
       "  </tbody>\n",
       "</table>\n",
       "</div>"
      ],
      "text/plain": [
       "            absolute  <lambda>\n",
       "2000-01-01  1.165502 -0.165502\n",
       "2000-01-02  0.625735  0.374265\n",
       "2000-01-03  1.232961  2.232961\n",
       "2000-01-04       NaN       NaN\n",
       "2000-01-05       NaN       NaN\n",
       "2000-01-06       NaN       NaN\n",
       "2000-01-07       NaN       NaN\n",
       "2000-01-08  0.535220  1.535220\n",
       "2000-01-09  0.167939  1.167939\n",
       "2000-01-10  0.352974  0.647026"
      ]
     },
     "execution_count": 50,
     "metadata": {},
     "output_type": "execute_result"
    }
   ],
   "source": [
    "tsdf[\"A\"].transform([np.abs, lambda x: x + 1])"
   ]
  },
  {
   "cell_type": "code",
   "execution_count": 51,
   "id": "e1a00c45",
   "metadata": {
    "execution": {
     "iopub.execute_input": "2023-08-17T20:19:45.234284Z",
     "iopub.status.busy": "2023-08-17T20:19:45.233855Z",
     "iopub.status.idle": "2023-08-17T20:19:45.248129Z",
     "shell.execute_reply": "2023-08-17T20:19:45.246862Z"
    },
    "papermill": {
     "duration": 0.064016,
     "end_time": "2023-08-17T20:19:45.250647",
     "exception": false,
     "start_time": "2023-08-17T20:19:45.186631",
     "status": "completed"
    },
    "tags": []
   },
   "outputs": [
    {
     "data": {
      "text/html": [
       "<div>\n",
       "<style scoped>\n",
       "    .dataframe tbody tr th:only-of-type {\n",
       "        vertical-align: middle;\n",
       "    }\n",
       "\n",
       "    .dataframe tbody tr th {\n",
       "        vertical-align: top;\n",
       "    }\n",
       "\n",
       "    .dataframe thead th {\n",
       "        text-align: right;\n",
       "    }\n",
       "</style>\n",
       "<table border=\"1\" class=\"dataframe\">\n",
       "  <thead>\n",
       "    <tr style=\"text-align: right;\">\n",
       "      <th></th>\n",
       "      <th>A</th>\n",
       "      <th>B</th>\n",
       "    </tr>\n",
       "  </thead>\n",
       "  <tbody>\n",
       "    <tr>\n",
       "      <th>2000-01-01</th>\n",
       "      <td>1.165502</td>\n",
       "      <td>1.170554</td>\n",
       "    </tr>\n",
       "    <tr>\n",
       "      <th>2000-01-02</th>\n",
       "      <td>0.625735</td>\n",
       "      <td>1.816751</td>\n",
       "    </tr>\n",
       "    <tr>\n",
       "      <th>2000-01-03</th>\n",
       "      <td>1.232961</td>\n",
       "      <td>1.868102</td>\n",
       "    </tr>\n",
       "    <tr>\n",
       "      <th>2000-01-04</th>\n",
       "      <td>NaN</td>\n",
       "      <td>NaN</td>\n",
       "    </tr>\n",
       "    <tr>\n",
       "      <th>2000-01-05</th>\n",
       "      <td>NaN</td>\n",
       "      <td>NaN</td>\n",
       "    </tr>\n",
       "    <tr>\n",
       "      <th>2000-01-06</th>\n",
       "      <td>NaN</td>\n",
       "      <td>NaN</td>\n",
       "    </tr>\n",
       "    <tr>\n",
       "      <th>2000-01-07</th>\n",
       "      <td>NaN</td>\n",
       "      <td>NaN</td>\n",
       "    </tr>\n",
       "    <tr>\n",
       "      <th>2000-01-08</th>\n",
       "      <td>0.535220</td>\n",
       "      <td>1.126240</td>\n",
       "    </tr>\n",
       "    <tr>\n",
       "      <th>2000-01-09</th>\n",
       "      <td>0.167939</td>\n",
       "      <td>0.452425</td>\n",
       "    </tr>\n",
       "    <tr>\n",
       "      <th>2000-01-10</th>\n",
       "      <td>0.352974</td>\n",
       "      <td>1.286123</td>\n",
       "    </tr>\n",
       "  </tbody>\n",
       "</table>\n",
       "</div>"
      ],
      "text/plain": [
       "                   A         B\n",
       "2000-01-01  1.165502  1.170554\n",
       "2000-01-02  0.625735  1.816751\n",
       "2000-01-03  1.232961  1.868102\n",
       "2000-01-04       NaN       NaN\n",
       "2000-01-05       NaN       NaN\n",
       "2000-01-06       NaN       NaN\n",
       "2000-01-07       NaN       NaN\n",
       "2000-01-08  0.535220  1.126240\n",
       "2000-01-09  0.167939  0.452425\n",
       "2000-01-10  0.352974  1.286123"
      ]
     },
     "execution_count": 51,
     "metadata": {},
     "output_type": "execute_result"
    }
   ],
   "source": [
    "tsdf.transform({\"A\": np.abs, \"B\": lambda x: x + 1})"
   ]
  },
  {
   "cell_type": "code",
   "execution_count": 52,
   "id": "c75e1f3c",
   "metadata": {
    "execution": {
     "iopub.execute_input": "2023-08-17T20:19:45.349877Z",
     "iopub.status.busy": "2023-08-17T20:19:45.349493Z",
     "iopub.status.idle": "2023-08-17T20:19:45.364899Z",
     "shell.execute_reply": "2023-08-17T20:19:45.364020Z"
    },
    "papermill": {
     "duration": 0.069318,
     "end_time": "2023-08-17T20:19:45.366991",
     "exception": false,
     "start_time": "2023-08-17T20:19:45.297673",
     "status": "completed"
    },
    "tags": []
   },
   "outputs": [
    {
     "data": {
      "text/html": [
       "<div>\n",
       "<style scoped>\n",
       "    .dataframe tbody tr th:only-of-type {\n",
       "        vertical-align: middle;\n",
       "    }\n",
       "\n",
       "    .dataframe tbody tr th {\n",
       "        vertical-align: top;\n",
       "    }\n",
       "\n",
       "    .dataframe thead th {\n",
       "        text-align: right;\n",
       "    }\n",
       "</style>\n",
       "<table border=\"1\" class=\"dataframe\">\n",
       "  <thead>\n",
       "    <tr style=\"text-align: right;\">\n",
       "      <th></th>\n",
       "      <th>one</th>\n",
       "      <th>two</th>\n",
       "      <th>three</th>\n",
       "    </tr>\n",
       "  </thead>\n",
       "  <tbody>\n",
       "    <tr>\n",
       "      <th>a</th>\n",
       "      <td>-1.137705</td>\n",
       "      <td>0.763063</td>\n",
       "      <td>NaN</td>\n",
       "    </tr>\n",
       "    <tr>\n",
       "      <th>b</th>\n",
       "      <td>1.466884</td>\n",
       "      <td>-0.302277</td>\n",
       "      <td>0.559611</td>\n",
       "    </tr>\n",
       "    <tr>\n",
       "      <th>c</th>\n",
       "      <td>-0.985575</td>\n",
       "      <td>1.622135</td>\n",
       "      <td>1.051932</td>\n",
       "    </tr>\n",
       "    <tr>\n",
       "      <th>d</th>\n",
       "      <td>NaN</td>\n",
       "      <td>1.531710</td>\n",
       "      <td>0.802492</td>\n",
       "    </tr>\n",
       "  </tbody>\n",
       "</table>\n",
       "</div>"
      ],
      "text/plain": [
       "        one       two     three\n",
       "a -1.137705  0.763063       NaN\n",
       "b  1.466884 -0.302277  0.559611\n",
       "c -0.985575  1.622135  1.051932\n",
       "d       NaN  1.531710  0.802492"
      ]
     },
     "execution_count": 52,
     "metadata": {},
     "output_type": "execute_result"
    }
   ],
   "source": [
    "df = pd.DataFrame({\n",
    "\"one\": pd.Series(np.random.randn(3), index=[\"a\", \"b\", \"c\"]),\n",
    "\"two\": pd.Series(np.random.randn(4), index=[\"a\", \"b\", \"c\", \"d\"]),\n",
    "\"three\": pd.Series(np.random.randn(3), index=[\"b\", \"c\", \"d\"]),\n",
    "})\n",
    "\n",
    "df"
   ]
  },
  {
   "cell_type": "code",
   "execution_count": 53,
   "id": "0e0c73fb",
   "metadata": {
    "execution": {
     "iopub.execute_input": "2023-08-17T20:19:45.461928Z",
     "iopub.status.busy": "2023-08-17T20:19:45.461543Z",
     "iopub.status.idle": "2023-08-17T20:19:45.475494Z",
     "shell.execute_reply": "2023-08-17T20:19:45.474433Z"
    },
    "papermill": {
     "duration": 0.064407,
     "end_time": "2023-08-17T20:19:45.478047",
     "exception": false,
     "start_time": "2023-08-17T20:19:45.413640",
     "status": "completed"
    },
    "tags": []
   },
   "outputs": [
    {
     "data": {
      "text/html": [
       "<div>\n",
       "<style scoped>\n",
       "    .dataframe tbody tr th:only-of-type {\n",
       "        vertical-align: middle;\n",
       "    }\n",
       "\n",
       "    .dataframe tbody tr th {\n",
       "        vertical-align: top;\n",
       "    }\n",
       "\n",
       "    .dataframe thead th {\n",
       "        text-align: right;\n",
       "    }\n",
       "</style>\n",
       "<table border=\"1\" class=\"dataframe\">\n",
       "  <thead>\n",
       "    <tr style=\"text-align: right;\">\n",
       "      <th></th>\n",
       "      <th>one</th>\n",
       "      <th>two</th>\n",
       "      <th>three</th>\n",
       "      <th>flag</th>\n",
       "    </tr>\n",
       "  </thead>\n",
       "  <tbody>\n",
       "    <tr>\n",
       "      <th>a</th>\n",
       "      <td>-1.137705</td>\n",
       "      <td>0.763063</td>\n",
       "      <td>-0.868141</td>\n",
       "      <td>False</td>\n",
       "    </tr>\n",
       "    <tr>\n",
       "      <th>b</th>\n",
       "      <td>1.466884</td>\n",
       "      <td>-0.302277</td>\n",
       "      <td>-0.443405</td>\n",
       "      <td>False</td>\n",
       "    </tr>\n",
       "    <tr>\n",
       "      <th>c</th>\n",
       "      <td>-0.985575</td>\n",
       "      <td>1.622135</td>\n",
       "      <td>-1.598736</td>\n",
       "      <td>False</td>\n",
       "    </tr>\n",
       "    <tr>\n",
       "      <th>d</th>\n",
       "      <td>NaN</td>\n",
       "      <td>1.531710</td>\n",
       "      <td>NaN</td>\n",
       "      <td>False</td>\n",
       "    </tr>\n",
       "  </tbody>\n",
       "</table>\n",
       "</div>"
      ],
      "text/plain": [
       "        one       two     three   flag\n",
       "a -1.137705  0.763063 -0.868141  False\n",
       "b  1.466884 -0.302277 -0.443405  False\n",
       "c -0.985575  1.622135 -1.598736  False\n",
       "d       NaN  1.531710       NaN  False"
      ]
     },
     "execution_count": 53,
     "metadata": {},
     "output_type": "execute_result"
    }
   ],
   "source": [
    "df[\"three\"] = df[\"one\"] * df[\"two\"]\n",
    "df[\"flag\"] = df[\"one\"] > 2\n",
    "df"
   ]
  },
  {
   "cell_type": "code",
   "execution_count": 54,
   "id": "14edbe79",
   "metadata": {
    "execution": {
     "iopub.execute_input": "2023-08-17T20:19:45.572792Z",
     "iopub.status.busy": "2023-08-17T20:19:45.571994Z",
     "iopub.status.idle": "2023-08-17T20:19:45.581207Z",
     "shell.execute_reply": "2023-08-17T20:19:45.580162Z"
    },
    "papermill": {
     "duration": 0.059176,
     "end_time": "2023-08-17T20:19:45.583674",
     "exception": false,
     "start_time": "2023-08-17T20:19:45.524498",
     "status": "completed"
    },
    "tags": []
   },
   "outputs": [
    {
     "data": {
      "text/plain": [
       "a    19\n",
       "b    17\n",
       "c    18\n",
       "d     3\n",
       "Name: one, dtype: int64"
      ]
     },
     "execution_count": 54,
     "metadata": {},
     "output_type": "execute_result"
    }
   ],
   "source": [
    "def f(x):\n",
    "    return len(str(x))\n",
    "df[\"one\"].map(f)"
   ]
  },
  {
   "cell_type": "code",
   "execution_count": 55,
   "id": "98e1bf5b",
   "metadata": {
    "execution": {
     "iopub.execute_input": "2023-08-17T20:19:45.678758Z",
     "iopub.status.busy": "2023-08-17T20:19:45.677671Z",
     "iopub.status.idle": "2023-08-17T20:19:45.690571Z",
     "shell.execute_reply": "2023-08-17T20:19:45.689354Z"
    },
    "papermill": {
     "duration": 0.06309,
     "end_time": "2023-08-17T20:19:45.693193",
     "exception": false,
     "start_time": "2023-08-17T20:19:45.630103",
     "status": "completed"
    },
    "tags": []
   },
   "outputs": [
    {
     "data": {
      "text/html": [
       "<div>\n",
       "<style scoped>\n",
       "    .dataframe tbody tr th:only-of-type {\n",
       "        vertical-align: middle;\n",
       "    }\n",
       "\n",
       "    .dataframe tbody tr th {\n",
       "        vertical-align: top;\n",
       "    }\n",
       "\n",
       "    .dataframe thead th {\n",
       "        text-align: right;\n",
       "    }\n",
       "</style>\n",
       "<table border=\"1\" class=\"dataframe\">\n",
       "  <thead>\n",
       "    <tr style=\"text-align: right;\">\n",
       "      <th></th>\n",
       "      <th>one</th>\n",
       "      <th>two</th>\n",
       "      <th>three</th>\n",
       "      <th>flag</th>\n",
       "    </tr>\n",
       "  </thead>\n",
       "  <tbody>\n",
       "    <tr>\n",
       "      <th>a</th>\n",
       "      <td>19</td>\n",
       "      <td>18</td>\n",
       "      <td>19</td>\n",
       "      <td>5</td>\n",
       "    </tr>\n",
       "    <tr>\n",
       "      <th>b</th>\n",
       "      <td>17</td>\n",
       "      <td>20</td>\n",
       "      <td>19</td>\n",
       "      <td>5</td>\n",
       "    </tr>\n",
       "    <tr>\n",
       "      <th>c</th>\n",
       "      <td>18</td>\n",
       "      <td>18</td>\n",
       "      <td>19</td>\n",
       "      <td>5</td>\n",
       "    </tr>\n",
       "    <tr>\n",
       "      <th>d</th>\n",
       "      <td>3</td>\n",
       "      <td>18</td>\n",
       "      <td>3</td>\n",
       "      <td>5</td>\n",
       "    </tr>\n",
       "  </tbody>\n",
       "</table>\n",
       "</div>"
      ],
      "text/plain": [
       "   one  two  three  flag\n",
       "a   19   18     19     5\n",
       "b   17   20     19     5\n",
       "c   18   18     19     5\n",
       "d    3   18      3     5"
      ]
     },
     "execution_count": 55,
     "metadata": {},
     "output_type": "execute_result"
    }
   ],
   "source": [
    "df.applymap(f)"
   ]
  },
  {
   "cell_type": "code",
   "execution_count": 56,
   "id": "0cf1b002",
   "metadata": {
    "execution": {
     "iopub.execute_input": "2023-08-17T20:19:45.787590Z",
     "iopub.status.busy": "2023-08-17T20:19:45.787191Z",
     "iopub.status.idle": "2023-08-17T20:19:45.797731Z",
     "shell.execute_reply": "2023-08-17T20:19:45.796663Z"
    },
    "papermill": {
     "duration": 0.060243,
     "end_time": "2023-08-17T20:19:45.799853",
     "exception": false,
     "start_time": "2023-08-17T20:19:45.739610",
     "status": "completed"
    },
    "tags": []
   },
   "outputs": [
    {
     "data": {
      "text/plain": [
       "a      six\n",
       "b    seven\n",
       "c      six\n",
       "d    seven\n",
       "e      six\n",
       "dtype: object"
      ]
     },
     "execution_count": 56,
     "metadata": {},
     "output_type": "execute_result"
    }
   ],
   "source": [
    "s = pd.Series(\n",
    "[\"six\", \"seven\", \"six\", \"seven\", \"six\"], index=[\"a\", \"b\", \"c\", \"d\", \"e\"]\n",
    ")\n",
    "\n",
    "t = pd.Series({\"six\": 6.0, \"seven\": 7.0})\n",
    "s"
   ]
  },
  {
   "cell_type": "code",
   "execution_count": 57,
   "id": "25bcc829",
   "metadata": {
    "execution": {
     "iopub.execute_input": "2023-08-17T20:19:45.895333Z",
     "iopub.status.busy": "2023-08-17T20:19:45.894626Z",
     "iopub.status.idle": "2023-08-17T20:19:45.903179Z",
     "shell.execute_reply": "2023-08-17T20:19:45.902098Z"
    },
    "papermill": {
     "duration": 0.059049,
     "end_time": "2023-08-17T20:19:45.905454",
     "exception": false,
     "start_time": "2023-08-17T20:19:45.846405",
     "status": "completed"
    },
    "tags": []
   },
   "outputs": [
    {
     "data": {
      "text/plain": [
       "a    6.0\n",
       "b    7.0\n",
       "c    6.0\n",
       "d    7.0\n",
       "e    6.0\n",
       "dtype: float64"
      ]
     },
     "execution_count": 57,
     "metadata": {},
     "output_type": "execute_result"
    }
   ],
   "source": [
    "s.map(t)"
   ]
  },
  {
   "cell_type": "code",
   "execution_count": 58,
   "id": "6cf4e1fe",
   "metadata": {
    "execution": {
     "iopub.execute_input": "2023-08-17T20:19:46.001659Z",
     "iopub.status.busy": "2023-08-17T20:19:46.000823Z",
     "iopub.status.idle": "2023-08-17T20:19:46.011090Z",
     "shell.execute_reply": "2023-08-17T20:19:46.009687Z"
    },
    "papermill": {
     "duration": 0.061951,
     "end_time": "2023-08-17T20:19:46.014447",
     "exception": false,
     "start_time": "2023-08-17T20:19:45.952496",
     "status": "completed"
    },
    "tags": []
   },
   "outputs": [
    {
     "data": {
      "text/plain": [
       "a   -0.277505\n",
       "b    1.080368\n",
       "c    0.813729\n",
       "d    1.322477\n",
       "e   -0.497996\n",
       "dtype: float64"
      ]
     },
     "execution_count": 58,
     "metadata": {},
     "output_type": "execute_result"
    }
   ],
   "source": [
    "s = pd.Series(np.random.randn(5), index=[\"a\", \"b\", \"c\", \"d\", \"e\"])\n",
    "s"
   ]
  },
  {
   "cell_type": "code",
   "execution_count": 59,
   "id": "fd0d8b95",
   "metadata": {
    "execution": {
     "iopub.execute_input": "2023-08-17T20:19:46.114202Z",
     "iopub.status.busy": "2023-08-17T20:19:46.113106Z",
     "iopub.status.idle": "2023-08-17T20:19:46.121978Z",
     "shell.execute_reply": "2023-08-17T20:19:46.121151Z"
    },
    "papermill": {
     "duration": 0.062093,
     "end_time": "2023-08-17T20:19:46.124300",
     "exception": false,
     "start_time": "2023-08-17T20:19:46.062207",
     "status": "completed"
    },
    "tags": []
   },
   "outputs": [
    {
     "data": {
      "text/plain": [
       "e   -0.497996\n",
       "b    1.080368\n",
       "f         NaN\n",
       "d    1.322477\n",
       "dtype: float64"
      ]
     },
     "execution_count": 59,
     "metadata": {},
     "output_type": "execute_result"
    }
   ],
   "source": [
    "s.reindex([\"e\", \"b\", \"f\", \"d\"])"
   ]
  },
  {
   "cell_type": "code",
   "execution_count": 60,
   "id": "982f15b5",
   "metadata": {
    "execution": {
     "iopub.execute_input": "2023-08-17T20:19:46.221084Z",
     "iopub.status.busy": "2023-08-17T20:19:46.219957Z",
     "iopub.status.idle": "2023-08-17T20:19:46.234219Z",
     "shell.execute_reply": "2023-08-17T20:19:46.233039Z"
    },
    "papermill": {
     "duration": 0.065146,
     "end_time": "2023-08-17T20:19:46.236894",
     "exception": false,
     "start_time": "2023-08-17T20:19:46.171748",
     "status": "completed"
    },
    "tags": []
   },
   "outputs": [
    {
     "data": {
      "text/html": [
       "<div>\n",
       "<style scoped>\n",
       "    .dataframe tbody tr th:only-of-type {\n",
       "        vertical-align: middle;\n",
       "    }\n",
       "\n",
       "    .dataframe tbody tr th {\n",
       "        vertical-align: top;\n",
       "    }\n",
       "\n",
       "    .dataframe thead th {\n",
       "        text-align: right;\n",
       "    }\n",
       "</style>\n",
       "<table border=\"1\" class=\"dataframe\">\n",
       "  <thead>\n",
       "    <tr style=\"text-align: right;\">\n",
       "      <th></th>\n",
       "      <th>three</th>\n",
       "      <th>two</th>\n",
       "      <th>one</th>\n",
       "    </tr>\n",
       "  </thead>\n",
       "  <tbody>\n",
       "    <tr>\n",
       "      <th>c</th>\n",
       "      <td>-1.598736</td>\n",
       "      <td>1.622135</td>\n",
       "      <td>-0.985575</td>\n",
       "    </tr>\n",
       "    <tr>\n",
       "      <th>f</th>\n",
       "      <td>NaN</td>\n",
       "      <td>NaN</td>\n",
       "      <td>NaN</td>\n",
       "    </tr>\n",
       "    <tr>\n",
       "      <th>b</th>\n",
       "      <td>-0.443405</td>\n",
       "      <td>-0.302277</td>\n",
       "      <td>1.466884</td>\n",
       "    </tr>\n",
       "  </tbody>\n",
       "</table>\n",
       "</div>"
      ],
      "text/plain": [
       "      three       two       one\n",
       "c -1.598736  1.622135 -0.985575\n",
       "f       NaN       NaN       NaN\n",
       "b -0.443405 -0.302277  1.466884"
      ]
     },
     "execution_count": 60,
     "metadata": {},
     "output_type": "execute_result"
    }
   ],
   "source": [
    "df.reindex(index=[\"c\", \"f\", \"b\"], columns=[\"three\", \"two\", \"one\"])"
   ]
  },
  {
   "cell_type": "code",
   "execution_count": 61,
   "id": "5981c486",
   "metadata": {
    "execution": {
     "iopub.execute_input": "2023-08-17T20:19:46.400141Z",
     "iopub.status.busy": "2023-08-17T20:19:46.399314Z",
     "iopub.status.idle": "2023-08-17T20:19:46.413558Z",
     "shell.execute_reply": "2023-08-17T20:19:46.412455Z"
    },
    "papermill": {
     "duration": 0.065788,
     "end_time": "2023-08-17T20:19:46.415916",
     "exception": false,
     "start_time": "2023-08-17T20:19:46.350128",
     "status": "completed"
    },
    "tags": []
   },
   "outputs": [
    {
     "data": {
      "text/html": [
       "<div>\n",
       "<style scoped>\n",
       "    .dataframe tbody tr th:only-of-type {\n",
       "        vertical-align: middle;\n",
       "    }\n",
       "\n",
       "    .dataframe tbody tr th {\n",
       "        vertical-align: top;\n",
       "    }\n",
       "\n",
       "    .dataframe thead th {\n",
       "        text-align: right;\n",
       "    }\n",
       "</style>\n",
       "<table border=\"1\" class=\"dataframe\">\n",
       "  <thead>\n",
       "    <tr style=\"text-align: right;\">\n",
       "      <th></th>\n",
       "      <th>one</th>\n",
       "      <th>two</th>\n",
       "      <th>three</th>\n",
       "      <th>flag</th>\n",
       "    </tr>\n",
       "  </thead>\n",
       "  <tbody>\n",
       "    <tr>\n",
       "      <th>c</th>\n",
       "      <td>-0.985575</td>\n",
       "      <td>1.622135</td>\n",
       "      <td>-1.598736</td>\n",
       "      <td>False</td>\n",
       "    </tr>\n",
       "    <tr>\n",
       "      <th>f</th>\n",
       "      <td>NaN</td>\n",
       "      <td>NaN</td>\n",
       "      <td>NaN</td>\n",
       "      <td>NaN</td>\n",
       "    </tr>\n",
       "    <tr>\n",
       "      <th>b</th>\n",
       "      <td>1.466884</td>\n",
       "      <td>-0.302277</td>\n",
       "      <td>-0.443405</td>\n",
       "      <td>False</td>\n",
       "    </tr>\n",
       "  </tbody>\n",
       "</table>\n",
       "</div>"
      ],
      "text/plain": [
       "        one       two     three   flag\n",
       "c -0.985575  1.622135 -1.598736  False\n",
       "f       NaN       NaN       NaN    NaN\n",
       "b  1.466884 -0.302277 -0.443405  False"
      ]
     },
     "execution_count": 61,
     "metadata": {},
     "output_type": "execute_result"
    }
   ],
   "source": [
    "df.reindex([\"c\", \"f\", \"b\"], axis=\"index\")"
   ]
  },
  {
   "cell_type": "code",
   "execution_count": 62,
   "id": "b3b215dd",
   "metadata": {
    "execution": {
     "iopub.execute_input": "2023-08-17T20:19:46.514429Z",
     "iopub.status.busy": "2023-08-17T20:19:46.513736Z",
     "iopub.status.idle": "2023-08-17T20:19:46.522397Z",
     "shell.execute_reply": "2023-08-17T20:19:46.521339Z"
    },
    "papermill": {
     "duration": 0.059971,
     "end_time": "2023-08-17T20:19:46.524654",
     "exception": false,
     "start_time": "2023-08-17T20:19:46.464683",
     "status": "completed"
    },
    "tags": []
   },
   "outputs": [
    {
     "data": {
      "text/plain": [
       "a   -0.277505\n",
       "b    1.080368\n",
       "c    0.813729\n",
       "d    1.322477\n",
       "dtype: float64"
      ]
     },
     "execution_count": 62,
     "metadata": {},
     "output_type": "execute_result"
    }
   ],
   "source": [
    "rs = s.reindex(df.index)\n",
    "rs"
   ]
  },
  {
   "cell_type": "code",
   "execution_count": 63,
   "id": "71f2ed48",
   "metadata": {
    "execution": {
     "iopub.execute_input": "2023-08-17T20:19:46.622298Z",
     "iopub.status.busy": "2023-08-17T20:19:46.621595Z",
     "iopub.status.idle": "2023-08-17T20:19:46.634530Z",
     "shell.execute_reply": "2023-08-17T20:19:46.633388Z"
    },
    "papermill": {
     "duration": 0.065031,
     "end_time": "2023-08-17T20:19:46.637139",
     "exception": false,
     "start_time": "2023-08-17T20:19:46.572108",
     "status": "completed"
    },
    "tags": []
   },
   "outputs": [
    {
     "data": {
      "text/html": [
       "<div>\n",
       "<style scoped>\n",
       "    .dataframe tbody tr th:only-of-type {\n",
       "        vertical-align: middle;\n",
       "    }\n",
       "\n",
       "    .dataframe tbody tr th {\n",
       "        vertical-align: top;\n",
       "    }\n",
       "\n",
       "    .dataframe thead th {\n",
       "        text-align: right;\n",
       "    }\n",
       "</style>\n",
       "<table border=\"1\" class=\"dataframe\">\n",
       "  <thead>\n",
       "    <tr style=\"text-align: right;\">\n",
       "      <th></th>\n",
       "      <th>one</th>\n",
       "      <th>two</th>\n",
       "      <th>three</th>\n",
       "      <th>flag</th>\n",
       "    </tr>\n",
       "  </thead>\n",
       "  <tbody>\n",
       "    <tr>\n",
       "      <th>c</th>\n",
       "      <td>-0.985575</td>\n",
       "      <td>1.622135</td>\n",
       "      <td>-1.598736</td>\n",
       "      <td>False</td>\n",
       "    </tr>\n",
       "    <tr>\n",
       "      <th>f</th>\n",
       "      <td>NaN</td>\n",
       "      <td>NaN</td>\n",
       "      <td>NaN</td>\n",
       "      <td>NaN</td>\n",
       "    </tr>\n",
       "    <tr>\n",
       "      <th>b</th>\n",
       "      <td>1.466884</td>\n",
       "      <td>-0.302277</td>\n",
       "      <td>-0.443405</td>\n",
       "      <td>False</td>\n",
       "    </tr>\n",
       "  </tbody>\n",
       "</table>\n",
       "</div>"
      ],
      "text/plain": [
       "        one       two     three   flag\n",
       "c -0.985575  1.622135 -1.598736  False\n",
       "f       NaN       NaN       NaN    NaN\n",
       "b  1.466884 -0.302277 -0.443405  False"
      ]
     },
     "execution_count": 63,
     "metadata": {},
     "output_type": "execute_result"
    }
   ],
   "source": [
    "df.reindex([\"c\", \"f\", \"b\"], axis=\"index\")"
   ]
  },
  {
   "cell_type": "code",
   "execution_count": 64,
   "id": "84e77c66",
   "metadata": {
    "execution": {
     "iopub.execute_input": "2023-08-17T20:19:46.736225Z",
     "iopub.status.busy": "2023-08-17T20:19:46.735787Z",
     "iopub.status.idle": "2023-08-17T20:19:46.748472Z",
     "shell.execute_reply": "2023-08-17T20:19:46.747319Z"
    },
    "papermill": {
     "duration": 0.065566,
     "end_time": "2023-08-17T20:19:46.751144",
     "exception": false,
     "start_time": "2023-08-17T20:19:46.685578",
     "status": "completed"
    },
    "tags": []
   },
   "outputs": [
    {
     "data": {
      "text/html": [
       "<div>\n",
       "<style scoped>\n",
       "    .dataframe tbody tr th:only-of-type {\n",
       "        vertical-align: middle;\n",
       "    }\n",
       "\n",
       "    .dataframe tbody tr th {\n",
       "        vertical-align: top;\n",
       "    }\n",
       "\n",
       "    .dataframe thead th {\n",
       "        text-align: right;\n",
       "    }\n",
       "</style>\n",
       "<table border=\"1\" class=\"dataframe\">\n",
       "  <thead>\n",
       "    <tr style=\"text-align: right;\">\n",
       "      <th></th>\n",
       "      <th>three</th>\n",
       "      <th>two</th>\n",
       "      <th>one</th>\n",
       "    </tr>\n",
       "  </thead>\n",
       "  <tbody>\n",
       "    <tr>\n",
       "      <th>a</th>\n",
       "      <td>-0.868141</td>\n",
       "      <td>0.763063</td>\n",
       "      <td>-1.137705</td>\n",
       "    </tr>\n",
       "    <tr>\n",
       "      <th>b</th>\n",
       "      <td>-0.443405</td>\n",
       "      <td>-0.302277</td>\n",
       "      <td>1.466884</td>\n",
       "    </tr>\n",
       "    <tr>\n",
       "      <th>c</th>\n",
       "      <td>-1.598736</td>\n",
       "      <td>1.622135</td>\n",
       "      <td>-0.985575</td>\n",
       "    </tr>\n",
       "    <tr>\n",
       "      <th>d</th>\n",
       "      <td>NaN</td>\n",
       "      <td>1.531710</td>\n",
       "      <td>NaN</td>\n",
       "    </tr>\n",
       "  </tbody>\n",
       "</table>\n",
       "</div>"
      ],
      "text/plain": [
       "      three       two       one\n",
       "a -0.868141  0.763063 -1.137705\n",
       "b -0.443405 -0.302277  1.466884\n",
       "c -1.598736  1.622135 -0.985575\n",
       "d       NaN  1.531710       NaN"
      ]
     },
     "execution_count": 64,
     "metadata": {},
     "output_type": "execute_result"
    }
   ],
   "source": [
    "df.reindex([\"three\", \"two\", \"one\"], axis=\"columns\")"
   ]
  },
  {
   "cell_type": "code",
   "execution_count": 65,
   "id": "81610b90",
   "metadata": {
    "execution": {
     "iopub.execute_input": "2023-08-17T20:19:46.850405Z",
     "iopub.status.busy": "2023-08-17T20:19:46.849386Z",
     "iopub.status.idle": "2023-08-17T20:19:46.862908Z",
     "shell.execute_reply": "2023-08-17T20:19:46.861705Z"
    },
    "papermill": {
     "duration": 0.065951,
     "end_time": "2023-08-17T20:19:46.865551",
     "exception": false,
     "start_time": "2023-08-17T20:19:46.799600",
     "status": "completed"
    },
    "tags": []
   },
   "outputs": [
    {
     "data": {
      "text/html": [
       "<div>\n",
       "<style scoped>\n",
       "    .dataframe tbody tr th:only-of-type {\n",
       "        vertical-align: middle;\n",
       "    }\n",
       "\n",
       "    .dataframe tbody tr th {\n",
       "        vertical-align: top;\n",
       "    }\n",
       "\n",
       "    .dataframe thead th {\n",
       "        text-align: right;\n",
       "    }\n",
       "</style>\n",
       "<table border=\"1\" class=\"dataframe\">\n",
       "  <thead>\n",
       "    <tr style=\"text-align: right;\">\n",
       "      <th></th>\n",
       "      <th>one</th>\n",
       "      <th>two</th>\n",
       "      <th>three</th>\n",
       "      <th>flag</th>\n",
       "    </tr>\n",
       "  </thead>\n",
       "  <tbody>\n",
       "    <tr>\n",
       "      <th>a</th>\n",
       "      <td>-1.137705</td>\n",
       "      <td>0.763063</td>\n",
       "      <td>-0.868141</td>\n",
       "      <td>False</td>\n",
       "    </tr>\n",
       "    <tr>\n",
       "      <th>b</th>\n",
       "      <td>1.466884</td>\n",
       "      <td>-0.302277</td>\n",
       "      <td>-0.443405</td>\n",
       "      <td>False</td>\n",
       "    </tr>\n",
       "    <tr>\n",
       "      <th>c</th>\n",
       "      <td>-0.985575</td>\n",
       "      <td>1.622135</td>\n",
       "      <td>-1.598736</td>\n",
       "      <td>False</td>\n",
       "    </tr>\n",
       "    <tr>\n",
       "      <th>d</th>\n",
       "      <td>NaN</td>\n",
       "      <td>1.531710</td>\n",
       "      <td>NaN</td>\n",
       "      <td>False</td>\n",
       "    </tr>\n",
       "  </tbody>\n",
       "</table>\n",
       "</div>"
      ],
      "text/plain": [
       "        one       two     three   flag\n",
       "a -1.137705  0.763063 -0.868141  False\n",
       "b  1.466884 -0.302277 -0.443405  False\n",
       "c -0.985575  1.622135 -1.598736  False\n",
       "d       NaN  1.531710       NaN  False"
      ]
     },
     "execution_count": 65,
     "metadata": {},
     "output_type": "execute_result"
    }
   ],
   "source": [
    "df.reindex_like(df)"
   ]
  },
  {
   "cell_type": "code",
   "execution_count": 66,
   "id": "70fe22d7",
   "metadata": {
    "execution": {
     "iopub.execute_input": "2023-08-17T20:19:46.968963Z",
     "iopub.status.busy": "2023-08-17T20:19:46.968566Z",
     "iopub.status.idle": "2023-08-17T20:19:46.983821Z",
     "shell.execute_reply": "2023-08-17T20:19:46.982821Z"
    },
    "papermill": {
     "duration": 0.070438,
     "end_time": "2023-08-17T20:19:46.986011",
     "exception": false,
     "start_time": "2023-08-17T20:19:46.915573",
     "status": "completed"
    },
    "tags": []
   },
   "outputs": [
    {
     "data": {
      "text/plain": [
       "(a   -0.636204\n",
       " b    0.122253\n",
       " c   -0.502940\n",
       " d    1.485311\n",
       " e         NaN\n",
       " dtype: float64,\n",
       " a         NaN\n",
       " b    0.122253\n",
       " c   -0.502940\n",
       " d    1.485311\n",
       " e   -1.285586\n",
       " dtype: float64)"
      ]
     },
     "execution_count": 66,
     "metadata": {},
     "output_type": "execute_result"
    }
   ],
   "source": [
    "s = pd.Series(np.random.randn(5), index=[\"a\", \"b\", \"c\", \"d\", \"e\"])\n",
    "s1 = s[:4]\n",
    "s2 = s[1:]\n",
    "s1.align(s2)"
   ]
  },
  {
   "cell_type": "code",
   "execution_count": 67,
   "id": "5bb5e4f5",
   "metadata": {
    "execution": {
     "iopub.execute_input": "2023-08-17T20:19:47.088145Z",
     "iopub.status.busy": "2023-08-17T20:19:47.087386Z",
     "iopub.status.idle": "2023-08-17T20:19:47.095580Z",
     "shell.execute_reply": "2023-08-17T20:19:47.094547Z"
    },
    "papermill": {
     "duration": 0.061018,
     "end_time": "2023-08-17T20:19:47.097721",
     "exception": false,
     "start_time": "2023-08-17T20:19:47.036703",
     "status": "completed"
    },
    "tags": []
   },
   "outputs": [
    {
     "data": {
      "text/plain": [
       "(b    0.122253\n",
       " c   -0.502940\n",
       " d    1.485311\n",
       " dtype: float64,\n",
       " b    0.122253\n",
       " c   -0.502940\n",
       " d    1.485311\n",
       " dtype: float64)"
      ]
     },
     "execution_count": 67,
     "metadata": {},
     "output_type": "execute_result"
    }
   ],
   "source": [
    "s1.align(s2, join=\"inner\")"
   ]
  },
  {
   "cell_type": "code",
   "execution_count": 68,
   "id": "984ac908",
   "metadata": {
    "execution": {
     "iopub.execute_input": "2023-08-17T20:19:47.199236Z",
     "iopub.status.busy": "2023-08-17T20:19:47.198482Z",
     "iopub.status.idle": "2023-08-17T20:19:47.206831Z",
     "shell.execute_reply": "2023-08-17T20:19:47.205922Z"
    },
    "papermill": {
     "duration": 0.061102,
     "end_time": "2023-08-17T20:19:47.209256",
     "exception": false,
     "start_time": "2023-08-17T20:19:47.148154",
     "status": "completed"
    },
    "tags": []
   },
   "outputs": [
    {
     "data": {
      "text/plain": [
       "(a   -0.636204\n",
       " b    0.122253\n",
       " c   -0.502940\n",
       " d    1.485311\n",
       " dtype: float64,\n",
       " a         NaN\n",
       " b    0.122253\n",
       " c   -0.502940\n",
       " d    1.485311\n",
       " dtype: float64)"
      ]
     },
     "execution_count": 68,
     "metadata": {},
     "output_type": "execute_result"
    }
   ],
   "source": [
    "s1.align(s2, join=\"left\")"
   ]
  },
  {
   "cell_type": "code",
   "execution_count": 69,
   "id": "87036535",
   "metadata": {
    "execution": {
     "iopub.execute_input": "2023-08-17T20:19:47.312195Z",
     "iopub.status.busy": "2023-08-17T20:19:47.311384Z",
     "iopub.status.idle": "2023-08-17T20:19:47.322004Z",
     "shell.execute_reply": "2023-08-17T20:19:47.320920Z"
    },
    "papermill": {
     "duration": 0.065007,
     "end_time": "2023-08-17T20:19:47.324544",
     "exception": false,
     "start_time": "2023-08-17T20:19:47.259537",
     "status": "completed"
    },
    "tags": []
   },
   "outputs": [
    {
     "data": {
      "text/plain": [
       "(Empty DataFrame\n",
       " Columns: []\n",
       " Index: [],\n",
       " Empty DataFrame\n",
       " Columns: []\n",
       " Index: [])"
      ]
     },
     "execution_count": 69,
     "metadata": {},
     "output_type": "execute_result"
    }
   ],
   "source": [
    "df.align(df5, join=\"inner\")"
   ]
  },
  {
   "cell_type": "code",
   "execution_count": 70,
   "id": "8944c5c2",
   "metadata": {
    "execution": {
     "iopub.execute_input": "2023-08-17T20:19:47.427899Z",
     "iopub.status.busy": "2023-08-17T20:19:47.427082Z",
     "iopub.status.idle": "2023-08-17T20:19:47.437289Z",
     "shell.execute_reply": "2023-08-17T20:19:47.436192Z"
    },
    "papermill": {
     "duration": 0.0657,
     "end_time": "2023-08-17T20:19:47.439744",
     "exception": false,
     "start_time": "2023-08-17T20:19:47.374044",
     "status": "completed"
    },
    "tags": []
   },
   "outputs": [
    {
     "data": {
      "text/plain": [
       "(Empty DataFrame\n",
       " Columns: [one, two, three, flag]\n",
       " Index: [],\n",
       " Empty DataFrame\n",
       " Columns: [A, B]\n",
       " Index: [])"
      ]
     },
     "execution_count": 70,
     "metadata": {},
     "output_type": "execute_result"
    }
   ],
   "source": [
    "df.align(df5, join=\"inner\", axis=0)"
   ]
  },
  {
   "cell_type": "code",
   "execution_count": 71,
   "id": "d5d46cc2",
   "metadata": {
    "execution": {
     "iopub.execute_input": "2023-08-17T20:19:47.543526Z",
     "iopub.status.busy": "2023-08-17T20:19:47.542801Z",
     "iopub.status.idle": "2023-08-17T20:19:47.555992Z",
     "shell.execute_reply": "2023-08-17T20:19:47.554740Z"
    },
    "papermill": {
     "duration": 0.068056,
     "end_time": "2023-08-17T20:19:47.558412",
     "exception": false,
     "start_time": "2023-08-17T20:19:47.490356",
     "status": "completed"
    },
    "tags": []
   },
   "outputs": [
    {
     "data": {
      "text/plain": [
       "(    A   B   flag       one     three       two\n",
       " a NaN NaN  False -1.137705 -0.868141  0.763063\n",
       " b NaN NaN  False  1.466884 -0.443405 -0.302277\n",
       " c NaN NaN  False -0.985575 -1.598736  1.622135\n",
       " d NaN NaN  False       NaN       NaN  1.531710,\n",
       " A        5.0\n",
       " B        2.0\n",
       " flag     NaN\n",
       " one      NaN\n",
       " three    NaN\n",
       " two      NaN\n",
       " Name: 0, dtype: float64)"
      ]
     },
     "execution_count": 71,
     "metadata": {},
     "output_type": "execute_result"
    }
   ],
   "source": [
    "df.align(df5.iloc[0], axis=1)"
   ]
  },
  {
   "cell_type": "code",
   "execution_count": 72,
   "id": "67189c5e",
   "metadata": {
    "execution": {
     "iopub.execute_input": "2023-08-17T20:19:47.661958Z",
     "iopub.status.busy": "2023-08-17T20:19:47.661543Z",
     "iopub.status.idle": "2023-08-17T20:19:47.672170Z",
     "shell.execute_reply": "2023-08-17T20:19:47.671002Z"
    },
    "papermill": {
     "duration": 0.064661,
     "end_time": "2023-08-17T20:19:47.674643",
     "exception": false,
     "start_time": "2023-08-17T20:19:47.609982",
     "status": "completed"
    },
    "tags": []
   },
   "outputs": [
    {
     "data": {
      "text/plain": [
       "2000-01-03   -1.450015\n",
       "2000-01-04   -0.116528\n",
       "2000-01-05   -1.036281\n",
       "2000-01-06    0.358690\n",
       "2000-01-07    1.978089\n",
       "2000-01-08   -0.522455\n",
       "2000-01-09    1.279762\n",
       "2000-01-10   -0.203850\n",
       "Freq: D, dtype: float64"
      ]
     },
     "execution_count": 72,
     "metadata": {},
     "output_type": "execute_result"
    }
   ],
   "source": [
    "rng = pd.date_range(\"1/3/2000\", periods=8)\n",
    "ts = pd.Series(np.random.randn(8), index=rng)\n",
    "ts2 = ts[[0, 3, 6]]\n",
    "ts"
   ]
  },
  {
   "cell_type": "code",
   "execution_count": 73,
   "id": "aa0e8d20",
   "metadata": {
    "execution": {
     "iopub.execute_input": "2023-08-17T20:19:47.777781Z",
     "iopub.status.busy": "2023-08-17T20:19:47.777373Z",
     "iopub.status.idle": "2023-08-17T20:19:47.786165Z",
     "shell.execute_reply": "2023-08-17T20:19:47.785002Z"
    },
    "papermill": {
     "duration": 0.063234,
     "end_time": "2023-08-17T20:19:47.788550",
     "exception": false,
     "start_time": "2023-08-17T20:19:47.725316",
     "status": "completed"
    },
    "tags": []
   },
   "outputs": [
    {
     "data": {
      "text/plain": [
       "2000-01-03   -1.450015\n",
       "2000-01-04         NaN\n",
       "2000-01-05         NaN\n",
       "2000-01-06    0.358690\n",
       "2000-01-07         NaN\n",
       "2000-01-08         NaN\n",
       "2000-01-09    1.279762\n",
       "2000-01-10         NaN\n",
       "Freq: D, dtype: float64"
      ]
     },
     "execution_count": 73,
     "metadata": {},
     "output_type": "execute_result"
    }
   ],
   "source": [
    "\n",
    "ts2.reindex(ts.index)"
   ]
  },
  {
   "cell_type": "code",
   "execution_count": 74,
   "id": "bd229719",
   "metadata": {
    "execution": {
     "iopub.execute_input": "2023-08-17T20:19:47.891831Z",
     "iopub.status.busy": "2023-08-17T20:19:47.891139Z",
     "iopub.status.idle": "2023-08-17T20:19:47.902185Z",
     "shell.execute_reply": "2023-08-17T20:19:47.900905Z"
    },
    "papermill": {
     "duration": 0.065962,
     "end_time": "2023-08-17T20:19:47.905055",
     "exception": false,
     "start_time": "2023-08-17T20:19:47.839093",
     "status": "completed"
    },
    "tags": []
   },
   "outputs": [
    {
     "data": {
      "text/plain": [
       "2000-01-03   -1.450015\n",
       "2000-01-04   -1.450015\n",
       "2000-01-05   -1.450015\n",
       "2000-01-06    0.358690\n",
       "2000-01-07    0.358690\n",
       "2000-01-08    0.358690\n",
       "2000-01-09    1.279762\n",
       "2000-01-10    1.279762\n",
       "Freq: D, dtype: float64"
      ]
     },
     "execution_count": 74,
     "metadata": {},
     "output_type": "execute_result"
    }
   ],
   "source": [
    "ts2.reindex(ts.index, method=\"ffill\")"
   ]
  },
  {
   "cell_type": "code",
   "execution_count": 75,
   "id": "b8317699",
   "metadata": {
    "execution": {
     "iopub.execute_input": "2023-08-17T20:19:48.013298Z",
     "iopub.status.busy": "2023-08-17T20:19:48.012830Z",
     "iopub.status.idle": "2023-08-17T20:19:48.024105Z",
     "shell.execute_reply": "2023-08-17T20:19:48.022800Z"
    },
    "papermill": {
     "duration": 0.065451,
     "end_time": "2023-08-17T20:19:48.026616",
     "exception": false,
     "start_time": "2023-08-17T20:19:47.961165",
     "status": "completed"
    },
    "tags": []
   },
   "outputs": [
    {
     "data": {
      "text/plain": [
       "2000-01-03   -1.450015\n",
       "2000-01-04    0.358690\n",
       "2000-01-05    0.358690\n",
       "2000-01-06    0.358690\n",
       "2000-01-07    1.279762\n",
       "2000-01-08    1.279762\n",
       "2000-01-09    1.279762\n",
       "2000-01-10         NaN\n",
       "Freq: D, dtype: float64"
      ]
     },
     "execution_count": 75,
     "metadata": {},
     "output_type": "execute_result"
    }
   ],
   "source": [
    "ts2.reindex(ts.index, method=\"bfill\")"
   ]
  },
  {
   "cell_type": "code",
   "execution_count": 76,
   "id": "52b46d4b",
   "metadata": {
    "execution": {
     "iopub.execute_input": "2023-08-17T20:19:48.150388Z",
     "iopub.status.busy": "2023-08-17T20:19:48.149970Z",
     "iopub.status.idle": "2023-08-17T20:19:48.160822Z",
     "shell.execute_reply": "2023-08-17T20:19:48.159681Z"
    },
    "papermill": {
     "duration": 0.073653,
     "end_time": "2023-08-17T20:19:48.163045",
     "exception": false,
     "start_time": "2023-08-17T20:19:48.089392",
     "status": "completed"
    },
    "tags": []
   },
   "outputs": [
    {
     "data": {
      "text/plain": [
       "2000-01-03   -1.450015\n",
       "2000-01-04   -1.450015\n",
       "2000-01-05    0.358690\n",
       "2000-01-06    0.358690\n",
       "2000-01-07    0.358690\n",
       "2000-01-08    1.279762\n",
       "2000-01-09    1.279762\n",
       "2000-01-10    1.279762\n",
       "Freq: D, dtype: float64"
      ]
     },
     "execution_count": 76,
     "metadata": {},
     "output_type": "execute_result"
    }
   ],
   "source": [
    "ts2.reindex(ts.index, method=\"nearest\")"
   ]
  },
  {
   "cell_type": "code",
   "execution_count": 77,
   "id": "6377c1a0",
   "metadata": {
    "execution": {
     "iopub.execute_input": "2023-08-17T20:19:48.266360Z",
     "iopub.status.busy": "2023-08-17T20:19:48.265428Z",
     "iopub.status.idle": "2023-08-17T20:19:48.276824Z",
     "shell.execute_reply": "2023-08-17T20:19:48.275752Z"
    },
    "papermill": {
     "duration": 0.065983,
     "end_time": "2023-08-17T20:19:48.279209",
     "exception": false,
     "start_time": "2023-08-17T20:19:48.213226",
     "status": "completed"
    },
    "tags": []
   },
   "outputs": [
    {
     "data": {
      "text/plain": [
       "2000-01-03   -1.450015\n",
       "2000-01-04   -1.450015\n",
       "2000-01-05   -1.450015\n",
       "2000-01-06    0.358690\n",
       "2000-01-07    0.358690\n",
       "2000-01-08    0.358690\n",
       "2000-01-09    1.279762\n",
       "2000-01-10    1.279762\n",
       "Freq: D, dtype: float64"
      ]
     },
     "execution_count": 77,
     "metadata": {},
     "output_type": "execute_result"
    }
   ],
   "source": [
    "ts2.reindex(ts.index).fillna(method=\"ffill\")"
   ]
  },
  {
   "cell_type": "code",
   "execution_count": 78,
   "id": "4aefa7de",
   "metadata": {
    "execution": {
     "iopub.execute_input": "2023-08-17T20:19:48.382007Z",
     "iopub.status.busy": "2023-08-17T20:19:48.381574Z",
     "iopub.status.idle": "2023-08-17T20:19:48.391271Z",
     "shell.execute_reply": "2023-08-17T20:19:48.390155Z"
    },
    "papermill": {
     "duration": 0.064161,
     "end_time": "2023-08-17T20:19:48.393611",
     "exception": false,
     "start_time": "2023-08-17T20:19:48.329450",
     "status": "completed"
    },
    "tags": []
   },
   "outputs": [
    {
     "data": {
      "text/plain": [
       "2000-01-03   -1.450015\n",
       "2000-01-04   -1.450015\n",
       "2000-01-05         NaN\n",
       "2000-01-06    0.358690\n",
       "2000-01-07    0.358690\n",
       "2000-01-08         NaN\n",
       "2000-01-09    1.279762\n",
       "2000-01-10    1.279762\n",
       "Freq: D, dtype: float64"
      ]
     },
     "execution_count": 78,
     "metadata": {},
     "output_type": "execute_result"
    }
   ],
   "source": [
    "ts2.reindex(ts.index, method=\"ffill\", limit=1)"
   ]
  },
  {
   "cell_type": "code",
   "execution_count": 79,
   "id": "098e22f3",
   "metadata": {
    "execution": {
     "iopub.execute_input": "2023-08-17T20:19:48.497828Z",
     "iopub.status.busy": "2023-08-17T20:19:48.497431Z",
     "iopub.status.idle": "2023-08-17T20:19:48.509172Z",
     "shell.execute_reply": "2023-08-17T20:19:48.508034Z"
    },
    "papermill": {
     "duration": 0.066991,
     "end_time": "2023-08-17T20:19:48.511571",
     "exception": false,
     "start_time": "2023-08-17T20:19:48.444580",
     "status": "completed"
    },
    "tags": []
   },
   "outputs": [
    {
     "data": {
      "text/plain": [
       "2000-01-03   -1.450015\n",
       "2000-01-04   -1.450015\n",
       "2000-01-05         NaN\n",
       "2000-01-06    0.358690\n",
       "2000-01-07    0.358690\n",
       "2000-01-08         NaN\n",
       "2000-01-09    1.279762\n",
       "2000-01-10    1.279762\n",
       "Freq: D, dtype: float64"
      ]
     },
     "execution_count": 79,
     "metadata": {},
     "output_type": "execute_result"
    }
   ],
   "source": [
    "ts2.reindex(ts.index, method=\"ffill\", tolerance=\"1 day\")"
   ]
  },
  {
   "cell_type": "code",
   "execution_count": 80,
   "id": "fb16e157",
   "metadata": {
    "execution": {
     "iopub.execute_input": "2023-08-17T20:19:48.614915Z",
     "iopub.status.busy": "2023-08-17T20:19:48.614514Z",
     "iopub.status.idle": "2023-08-17T20:19:48.627916Z",
     "shell.execute_reply": "2023-08-17T20:19:48.626691Z"
    },
    "papermill": {
     "duration": 0.068058,
     "end_time": "2023-08-17T20:19:48.630358",
     "exception": false,
     "start_time": "2023-08-17T20:19:48.562300",
     "status": "completed"
    },
    "tags": []
   },
   "outputs": [
    {
     "data": {
      "text/html": [
       "<div>\n",
       "<style scoped>\n",
       "    .dataframe tbody tr th:only-of-type {\n",
       "        vertical-align: middle;\n",
       "    }\n",
       "\n",
       "    .dataframe tbody tr th {\n",
       "        vertical-align: top;\n",
       "    }\n",
       "\n",
       "    .dataframe thead th {\n",
       "        text-align: right;\n",
       "    }\n",
       "</style>\n",
       "<table border=\"1\" class=\"dataframe\">\n",
       "  <thead>\n",
       "    <tr style=\"text-align: right;\">\n",
       "      <th></th>\n",
       "      <th>one</th>\n",
       "      <th>two</th>\n",
       "      <th>three</th>\n",
       "      <th>flag</th>\n",
       "    </tr>\n",
       "  </thead>\n",
       "  <tbody>\n",
       "    <tr>\n",
       "      <th>b</th>\n",
       "      <td>1.466884</td>\n",
       "      <td>-0.302277</td>\n",
       "      <td>-0.443405</td>\n",
       "      <td>False</td>\n",
       "    </tr>\n",
       "    <tr>\n",
       "      <th>c</th>\n",
       "      <td>-0.985575</td>\n",
       "      <td>1.622135</td>\n",
       "      <td>-1.598736</td>\n",
       "      <td>False</td>\n",
       "    </tr>\n",
       "  </tbody>\n",
       "</table>\n",
       "</div>"
      ],
      "text/plain": [
       "        one       two     three   flag\n",
       "b  1.466884 -0.302277 -0.443405  False\n",
       "c -0.985575  1.622135 -1.598736  False"
      ]
     },
     "execution_count": 80,
     "metadata": {},
     "output_type": "execute_result"
    }
   ],
   "source": [
    "df.drop([\"a\", \"d\"], axis=0)"
   ]
  },
  {
   "cell_type": "code",
   "execution_count": 81,
   "id": "f8815876",
   "metadata": {
    "execution": {
     "iopub.execute_input": "2023-08-17T20:19:48.734429Z",
     "iopub.status.busy": "2023-08-17T20:19:48.734045Z",
     "iopub.status.idle": "2023-08-17T20:19:48.747000Z",
     "shell.execute_reply": "2023-08-17T20:19:48.745821Z"
    },
    "papermill": {
     "duration": 0.067981,
     "end_time": "2023-08-17T20:19:48.749512",
     "exception": false,
     "start_time": "2023-08-17T20:19:48.681531",
     "status": "completed"
    },
    "tags": []
   },
   "outputs": [
    {
     "data": {
      "text/html": [
       "<div>\n",
       "<style scoped>\n",
       "    .dataframe tbody tr th:only-of-type {\n",
       "        vertical-align: middle;\n",
       "    }\n",
       "\n",
       "    .dataframe tbody tr th {\n",
       "        vertical-align: top;\n",
       "    }\n",
       "\n",
       "    .dataframe thead th {\n",
       "        text-align: right;\n",
       "    }\n",
       "</style>\n",
       "<table border=\"1\" class=\"dataframe\">\n",
       "  <thead>\n",
       "    <tr style=\"text-align: right;\">\n",
       "      <th></th>\n",
       "      <th>two</th>\n",
       "      <th>three</th>\n",
       "      <th>flag</th>\n",
       "    </tr>\n",
       "  </thead>\n",
       "  <tbody>\n",
       "    <tr>\n",
       "      <th>a</th>\n",
       "      <td>0.763063</td>\n",
       "      <td>-0.868141</td>\n",
       "      <td>False</td>\n",
       "    </tr>\n",
       "    <tr>\n",
       "      <th>b</th>\n",
       "      <td>-0.302277</td>\n",
       "      <td>-0.443405</td>\n",
       "      <td>False</td>\n",
       "    </tr>\n",
       "    <tr>\n",
       "      <th>c</th>\n",
       "      <td>1.622135</td>\n",
       "      <td>-1.598736</td>\n",
       "      <td>False</td>\n",
       "    </tr>\n",
       "    <tr>\n",
       "      <th>d</th>\n",
       "      <td>1.531710</td>\n",
       "      <td>NaN</td>\n",
       "      <td>False</td>\n",
       "    </tr>\n",
       "  </tbody>\n",
       "</table>\n",
       "</div>"
      ],
      "text/plain": [
       "        two     three   flag\n",
       "a  0.763063 -0.868141  False\n",
       "b -0.302277 -0.443405  False\n",
       "c  1.622135 -1.598736  False\n",
       "d  1.531710       NaN  False"
      ]
     },
     "execution_count": 81,
     "metadata": {},
     "output_type": "execute_result"
    }
   ],
   "source": [
    "df.drop([\"one\"], axis=1)"
   ]
  },
  {
   "cell_type": "code",
   "execution_count": 82,
   "id": "60e32cfb",
   "metadata": {
    "execution": {
     "iopub.execute_input": "2023-08-17T20:19:48.854581Z",
     "iopub.status.busy": "2023-08-17T20:19:48.854189Z",
     "iopub.status.idle": "2023-08-17T20:19:48.867298Z",
     "shell.execute_reply": "2023-08-17T20:19:48.866233Z"
    },
    "papermill": {
     "duration": 0.068567,
     "end_time": "2023-08-17T20:19:48.869768",
     "exception": false,
     "start_time": "2023-08-17T20:19:48.801201",
     "status": "completed"
    },
    "tags": []
   },
   "outputs": [
    {
     "data": {
      "text/html": [
       "<div>\n",
       "<style scoped>\n",
       "    .dataframe tbody tr th:only-of-type {\n",
       "        vertical-align: middle;\n",
       "    }\n",
       "\n",
       "    .dataframe tbody tr th {\n",
       "        vertical-align: top;\n",
       "    }\n",
       "\n",
       "    .dataframe thead th {\n",
       "        text-align: right;\n",
       "    }\n",
       "</style>\n",
       "<table border=\"1\" class=\"dataframe\">\n",
       "  <thead>\n",
       "    <tr style=\"text-align: right;\">\n",
       "      <th></th>\n",
       "      <th>one</th>\n",
       "      <th>two</th>\n",
       "      <th>three</th>\n",
       "      <th>flag</th>\n",
       "    </tr>\n",
       "  </thead>\n",
       "  <tbody>\n",
       "    <tr>\n",
       "      <th>b</th>\n",
       "      <td>1.466884</td>\n",
       "      <td>-0.302277</td>\n",
       "      <td>-0.443405</td>\n",
       "      <td>False</td>\n",
       "    </tr>\n",
       "    <tr>\n",
       "      <th>c</th>\n",
       "      <td>-0.985575</td>\n",
       "      <td>1.622135</td>\n",
       "      <td>-1.598736</td>\n",
       "      <td>False</td>\n",
       "    </tr>\n",
       "  </tbody>\n",
       "</table>\n",
       "</div>"
      ],
      "text/plain": [
       "        one       two     three   flag\n",
       "b  1.466884 -0.302277 -0.443405  False\n",
       "c -0.985575  1.622135 -1.598736  False"
      ]
     },
     "execution_count": 82,
     "metadata": {},
     "output_type": "execute_result"
    }
   ],
   "source": [
    "df.reindex(df.index.difference([\"a\", \"d\"]))"
   ]
  },
  {
   "cell_type": "code",
   "execution_count": 83,
   "id": "6da92318",
   "metadata": {
    "execution": {
     "iopub.execute_input": "2023-08-17T20:19:48.976341Z",
     "iopub.status.busy": "2023-08-17T20:19:48.975901Z",
     "iopub.status.idle": "2023-08-17T20:19:48.985948Z",
     "shell.execute_reply": "2023-08-17T20:19:48.984771Z"
    },
    "papermill": {
     "duration": 0.065687,
     "end_time": "2023-08-17T20:19:48.988491",
     "exception": false,
     "start_time": "2023-08-17T20:19:48.922804",
     "status": "completed"
    },
    "tags": []
   },
   "outputs": [
    {
     "data": {
      "text/plain": [
       "A   -0.636204\n",
       "B    0.122253\n",
       "C   -0.502940\n",
       "D    1.485311\n",
       "E   -1.285586\n",
       "dtype: float64"
      ]
     },
     "execution_count": 83,
     "metadata": {},
     "output_type": "execute_result"
    }
   ],
   "source": [
    "s.rename(str.upper)"
   ]
  },
  {
   "cell_type": "code",
   "execution_count": 84,
   "id": "065011dd",
   "metadata": {
    "execution": {
     "iopub.execute_input": "2023-08-17T20:19:49.094434Z",
     "iopub.status.busy": "2023-08-17T20:19:49.094006Z",
     "iopub.status.idle": "2023-08-17T20:19:49.108423Z",
     "shell.execute_reply": "2023-08-17T20:19:49.107345Z"
    },
    "papermill": {
     "duration": 0.070243,
     "end_time": "2023-08-17T20:19:49.110969",
     "exception": false,
     "start_time": "2023-08-17T20:19:49.040726",
     "status": "completed"
    },
    "tags": []
   },
   "outputs": [
    {
     "data": {
      "text/html": [
       "<div>\n",
       "<style scoped>\n",
       "    .dataframe tbody tr th:only-of-type {\n",
       "        vertical-align: middle;\n",
       "    }\n",
       "\n",
       "    .dataframe tbody tr th {\n",
       "        vertical-align: top;\n",
       "    }\n",
       "\n",
       "    .dataframe thead th {\n",
       "        text-align: right;\n",
       "    }\n",
       "</style>\n",
       "<table border=\"1\" class=\"dataframe\">\n",
       "  <thead>\n",
       "    <tr style=\"text-align: right;\">\n",
       "      <th></th>\n",
       "      <th>foo</th>\n",
       "      <th>bar</th>\n",
       "      <th>three</th>\n",
       "      <th>flag</th>\n",
       "    </tr>\n",
       "  </thead>\n",
       "  <tbody>\n",
       "    <tr>\n",
       "      <th>apple</th>\n",
       "      <td>-1.137705</td>\n",
       "      <td>0.763063</td>\n",
       "      <td>-0.868141</td>\n",
       "      <td>False</td>\n",
       "    </tr>\n",
       "    <tr>\n",
       "      <th>banana</th>\n",
       "      <td>1.466884</td>\n",
       "      <td>-0.302277</td>\n",
       "      <td>-0.443405</td>\n",
       "      <td>False</td>\n",
       "    </tr>\n",
       "    <tr>\n",
       "      <th>c</th>\n",
       "      <td>-0.985575</td>\n",
       "      <td>1.622135</td>\n",
       "      <td>-1.598736</td>\n",
       "      <td>False</td>\n",
       "    </tr>\n",
       "    <tr>\n",
       "      <th>durian</th>\n",
       "      <td>NaN</td>\n",
       "      <td>1.531710</td>\n",
       "      <td>NaN</td>\n",
       "      <td>False</td>\n",
       "    </tr>\n",
       "  </tbody>\n",
       "</table>\n",
       "</div>"
      ],
      "text/plain": [
       "             foo       bar     three   flag\n",
       "apple  -1.137705  0.763063 -0.868141  False\n",
       "banana  1.466884 -0.302277 -0.443405  False\n",
       "c      -0.985575  1.622135 -1.598736  False\n",
       "durian       NaN  1.531710       NaN  False"
      ]
     },
     "execution_count": 84,
     "metadata": {},
     "output_type": "execute_result"
    }
   ],
   "source": [
    "df.rename(\n",
    "columns={\"one\": \"foo\", \"two\": \"bar\"},\n",
    "index={\"a\": \"apple\", \"b\": \"banana\", \"d\": \"durian\"})"
   ]
  },
  {
   "cell_type": "code",
   "execution_count": 85,
   "id": "6c9ac224",
   "metadata": {
    "execution": {
     "iopub.execute_input": "2023-08-17T20:19:49.218728Z",
     "iopub.status.busy": "2023-08-17T20:19:49.218329Z",
     "iopub.status.idle": "2023-08-17T20:19:49.232169Z",
     "shell.execute_reply": "2023-08-17T20:19:49.230778Z"
    },
    "papermill": {
     "duration": 0.070382,
     "end_time": "2023-08-17T20:19:49.234897",
     "exception": false,
     "start_time": "2023-08-17T20:19:49.164515",
     "status": "completed"
    },
    "tags": []
   },
   "outputs": [
    {
     "data": {
      "text/html": [
       "<div>\n",
       "<style scoped>\n",
       "    .dataframe tbody tr th:only-of-type {\n",
       "        vertical-align: middle;\n",
       "    }\n",
       "\n",
       "    .dataframe tbody tr th {\n",
       "        vertical-align: top;\n",
       "    }\n",
       "\n",
       "    .dataframe thead th {\n",
       "        text-align: right;\n",
       "    }\n",
       "</style>\n",
       "<table border=\"1\" class=\"dataframe\">\n",
       "  <thead>\n",
       "    <tr style=\"text-align: right;\">\n",
       "      <th></th>\n",
       "      <th>foo</th>\n",
       "      <th>bar</th>\n",
       "      <th>three</th>\n",
       "      <th>flag</th>\n",
       "    </tr>\n",
       "  </thead>\n",
       "  <tbody>\n",
       "    <tr>\n",
       "      <th>a</th>\n",
       "      <td>-1.137705</td>\n",
       "      <td>0.763063</td>\n",
       "      <td>-0.868141</td>\n",
       "      <td>False</td>\n",
       "    </tr>\n",
       "    <tr>\n",
       "      <th>b</th>\n",
       "      <td>1.466884</td>\n",
       "      <td>-0.302277</td>\n",
       "      <td>-0.443405</td>\n",
       "      <td>False</td>\n",
       "    </tr>\n",
       "    <tr>\n",
       "      <th>c</th>\n",
       "      <td>-0.985575</td>\n",
       "      <td>1.622135</td>\n",
       "      <td>-1.598736</td>\n",
       "      <td>False</td>\n",
       "    </tr>\n",
       "    <tr>\n",
       "      <th>d</th>\n",
       "      <td>NaN</td>\n",
       "      <td>1.531710</td>\n",
       "      <td>NaN</td>\n",
       "      <td>False</td>\n",
       "    </tr>\n",
       "  </tbody>\n",
       "</table>\n",
       "</div>"
      ],
      "text/plain": [
       "        foo       bar     three   flag\n",
       "a -1.137705  0.763063 -0.868141  False\n",
       "b  1.466884 -0.302277 -0.443405  False\n",
       "c -0.985575  1.622135 -1.598736  False\n",
       "d       NaN  1.531710       NaN  False"
      ]
     },
     "execution_count": 85,
     "metadata": {},
     "output_type": "execute_result"
    }
   ],
   "source": [
    "df.rename({\"one\": \"foo\", \"two\": \"bar\"}, axis=\"columns\")"
   ]
  },
  {
   "cell_type": "code",
   "execution_count": 86,
   "id": "8b5c9ce2",
   "metadata": {
    "execution": {
     "iopub.execute_input": "2023-08-17T20:19:49.341847Z",
     "iopub.status.busy": "2023-08-17T20:19:49.341459Z",
     "iopub.status.idle": "2023-08-17T20:19:49.355144Z",
     "shell.execute_reply": "2023-08-17T20:19:49.354036Z"
    },
    "papermill": {
     "duration": 0.070483,
     "end_time": "2023-08-17T20:19:49.357544",
     "exception": false,
     "start_time": "2023-08-17T20:19:49.287061",
     "status": "completed"
    },
    "tags": []
   },
   "outputs": [
    {
     "data": {
      "text/html": [
       "<div>\n",
       "<style scoped>\n",
       "    .dataframe tbody tr th:only-of-type {\n",
       "        vertical-align: middle;\n",
       "    }\n",
       "\n",
       "    .dataframe tbody tr th {\n",
       "        vertical-align: top;\n",
       "    }\n",
       "\n",
       "    .dataframe thead th {\n",
       "        text-align: right;\n",
       "    }\n",
       "</style>\n",
       "<table border=\"1\" class=\"dataframe\">\n",
       "  <thead>\n",
       "    <tr style=\"text-align: right;\">\n",
       "      <th></th>\n",
       "      <th>one</th>\n",
       "      <th>two</th>\n",
       "      <th>three</th>\n",
       "      <th>flag</th>\n",
       "    </tr>\n",
       "  </thead>\n",
       "  <tbody>\n",
       "    <tr>\n",
       "      <th>apple</th>\n",
       "      <td>-1.137705</td>\n",
       "      <td>0.763063</td>\n",
       "      <td>-0.868141</td>\n",
       "      <td>False</td>\n",
       "    </tr>\n",
       "    <tr>\n",
       "      <th>banana</th>\n",
       "      <td>1.466884</td>\n",
       "      <td>-0.302277</td>\n",
       "      <td>-0.443405</td>\n",
       "      <td>False</td>\n",
       "    </tr>\n",
       "    <tr>\n",
       "      <th>c</th>\n",
       "      <td>-0.985575</td>\n",
       "      <td>1.622135</td>\n",
       "      <td>-1.598736</td>\n",
       "      <td>False</td>\n",
       "    </tr>\n",
       "    <tr>\n",
       "      <th>durian</th>\n",
       "      <td>NaN</td>\n",
       "      <td>1.531710</td>\n",
       "      <td>NaN</td>\n",
       "      <td>False</td>\n",
       "    </tr>\n",
       "  </tbody>\n",
       "</table>\n",
       "</div>"
      ],
      "text/plain": [
       "             one       two     three   flag\n",
       "apple  -1.137705  0.763063 -0.868141  False\n",
       "banana  1.466884 -0.302277 -0.443405  False\n",
       "c      -0.985575  1.622135 -1.598736  False\n",
       "durian       NaN  1.531710       NaN  False"
      ]
     },
     "execution_count": 86,
     "metadata": {},
     "output_type": "execute_result"
    }
   ],
   "source": [
    "df.rename({\"a\": \"apple\", \"b\": \"banana\", \"d\": \"durian\"}, axis=\"index\")"
   ]
  },
  {
   "cell_type": "code",
   "execution_count": 87,
   "id": "7f2a92c5",
   "metadata": {
    "execution": {
     "iopub.execute_input": "2023-08-17T20:19:49.464635Z",
     "iopub.status.busy": "2023-08-17T20:19:49.464234Z",
     "iopub.status.idle": "2023-08-17T20:19:49.473914Z",
     "shell.execute_reply": "2023-08-17T20:19:49.473073Z"
    },
    "papermill": {
     "duration": 0.065536,
     "end_time": "2023-08-17T20:19:49.476204",
     "exception": false,
     "start_time": "2023-08-17T20:19:49.410668",
     "status": "completed"
    },
    "tags": []
   },
   "outputs": [
    {
     "data": {
      "text/plain": [
       "a   -0.636204\n",
       "b    0.122253\n",
       "c   -0.502940\n",
       "d    1.485311\n",
       "e   -1.285586\n",
       "Name: scalar-name, dtype: float64"
      ]
     },
     "execution_count": 87,
     "metadata": {},
     "output_type": "execute_result"
    }
   ],
   "source": [
    "s.rename(\"scalar-name\")"
   ]
  },
  {
   "cell_type": "code",
   "execution_count": 88,
   "id": "f682d0bf",
   "metadata": {
    "execution": {
     "iopub.execute_input": "2023-08-17T20:19:49.584489Z",
     "iopub.status.busy": "2023-08-17T20:19:49.583607Z",
     "iopub.status.idle": "2023-08-17T20:19:49.597135Z",
     "shell.execute_reply": "2023-08-17T20:19:49.596228Z"
    },
    "papermill": {
     "duration": 0.069771,
     "end_time": "2023-08-17T20:19:49.599411",
     "exception": false,
     "start_time": "2023-08-17T20:19:49.529640",
     "status": "completed"
    },
    "tags": []
   },
   "outputs": [
    {
     "data": {
      "text/html": [
       "<div>\n",
       "<style scoped>\n",
       "    .dataframe tbody tr th:only-of-type {\n",
       "        vertical-align: middle;\n",
       "    }\n",
       "\n",
       "    .dataframe tbody tr th {\n",
       "        vertical-align: top;\n",
       "    }\n",
       "\n",
       "    .dataframe thead th {\n",
       "        text-align: right;\n",
       "    }\n",
       "</style>\n",
       "<table border=\"1\" class=\"dataframe\">\n",
       "  <thead>\n",
       "    <tr style=\"text-align: right;\">\n",
       "      <th></th>\n",
       "      <th></th>\n",
       "      <th>x</th>\n",
       "      <th>y</th>\n",
       "    </tr>\n",
       "    <tr>\n",
       "      <th>let</th>\n",
       "      <th>num</th>\n",
       "      <th></th>\n",
       "      <th></th>\n",
       "    </tr>\n",
       "  </thead>\n",
       "  <tbody>\n",
       "    <tr>\n",
       "      <th rowspan=\"2\" valign=\"top\">a</th>\n",
       "      <th>1</th>\n",
       "      <td>1</td>\n",
       "      <td>10</td>\n",
       "    </tr>\n",
       "    <tr>\n",
       "      <th>2</th>\n",
       "      <td>2</td>\n",
       "      <td>20</td>\n",
       "    </tr>\n",
       "    <tr>\n",
       "      <th rowspan=\"2\" valign=\"top\">b</th>\n",
       "      <th>1</th>\n",
       "      <td>3</td>\n",
       "      <td>30</td>\n",
       "    </tr>\n",
       "    <tr>\n",
       "      <th>2</th>\n",
       "      <td>4</td>\n",
       "      <td>40</td>\n",
       "    </tr>\n",
       "    <tr>\n",
       "      <th rowspan=\"2\" valign=\"top\">c</th>\n",
       "      <th>1</th>\n",
       "      <td>5</td>\n",
       "      <td>50</td>\n",
       "    </tr>\n",
       "    <tr>\n",
       "      <th>2</th>\n",
       "      <td>6</td>\n",
       "      <td>60</td>\n",
       "    </tr>\n",
       "  </tbody>\n",
       "</table>\n",
       "</div>"
      ],
      "text/plain": [
       "         x   y\n",
       "let num       \n",
       "a   1    1  10\n",
       "    2    2  20\n",
       "b   1    3  30\n",
       "    2    4  40\n",
       "c   1    5  50\n",
       "    2    6  60"
      ]
     },
     "execution_count": 88,
     "metadata": {},
     "output_type": "execute_result"
    }
   ],
   "source": [
    "df = pd.DataFrame(\n",
    "{\"x\": [1, 2, 3, 4, 5, 6], \"y\": [10, 20, 30, 40, 50, 60]},\n",
    "index=pd.MultiIndex.from_product(\n",
    "[[\"a\", \"b\", \"c\"], [1, 2]], names=[\"let\", \"num\"]\n",
    "))\n",
    "\n",
    "df\n"
   ]
  },
  {
   "cell_type": "code",
   "execution_count": 89,
   "id": "ed9443a0",
   "metadata": {
    "execution": {
     "iopub.execute_input": "2023-08-17T20:19:49.708447Z",
     "iopub.status.busy": "2023-08-17T20:19:49.707812Z",
     "iopub.status.idle": "2023-08-17T20:19:49.718198Z",
     "shell.execute_reply": "2023-08-17T20:19:49.717289Z"
    },
    "papermill": {
     "duration": 0.067163,
     "end_time": "2023-08-17T20:19:49.720409",
     "exception": false,
     "start_time": "2023-08-17T20:19:49.653246",
     "status": "completed"
    },
    "tags": []
   },
   "outputs": [
    {
     "data": {
      "text/html": [
       "<div>\n",
       "<style scoped>\n",
       "    .dataframe tbody tr th:only-of-type {\n",
       "        vertical-align: middle;\n",
       "    }\n",
       "\n",
       "    .dataframe tbody tr th {\n",
       "        vertical-align: top;\n",
       "    }\n",
       "\n",
       "    .dataframe thead th {\n",
       "        text-align: right;\n",
       "    }\n",
       "</style>\n",
       "<table border=\"1\" class=\"dataframe\">\n",
       "  <thead>\n",
       "    <tr style=\"text-align: right;\">\n",
       "      <th></th>\n",
       "      <th></th>\n",
       "      <th>x</th>\n",
       "      <th>y</th>\n",
       "    </tr>\n",
       "    <tr>\n",
       "      <th>abc</th>\n",
       "      <th>num</th>\n",
       "      <th></th>\n",
       "      <th></th>\n",
       "    </tr>\n",
       "  </thead>\n",
       "  <tbody>\n",
       "    <tr>\n",
       "      <th rowspan=\"2\" valign=\"top\">a</th>\n",
       "      <th>1</th>\n",
       "      <td>1</td>\n",
       "      <td>10</td>\n",
       "    </tr>\n",
       "    <tr>\n",
       "      <th>2</th>\n",
       "      <td>2</td>\n",
       "      <td>20</td>\n",
       "    </tr>\n",
       "    <tr>\n",
       "      <th rowspan=\"2\" valign=\"top\">b</th>\n",
       "      <th>1</th>\n",
       "      <td>3</td>\n",
       "      <td>30</td>\n",
       "    </tr>\n",
       "    <tr>\n",
       "      <th>2</th>\n",
       "      <td>4</td>\n",
       "      <td>40</td>\n",
       "    </tr>\n",
       "    <tr>\n",
       "      <th rowspan=\"2\" valign=\"top\">c</th>\n",
       "      <th>1</th>\n",
       "      <td>5</td>\n",
       "      <td>50</td>\n",
       "    </tr>\n",
       "    <tr>\n",
       "      <th>2</th>\n",
       "      <td>6</td>\n",
       "      <td>60</td>\n",
       "    </tr>\n",
       "  </tbody>\n",
       "</table>\n",
       "</div>"
      ],
      "text/plain": [
       "         x   y\n",
       "abc num       \n",
       "a   1    1  10\n",
       "    2    2  20\n",
       "b   1    3  30\n",
       "    2    4  40\n",
       "c   1    5  50\n",
       "    2    6  60"
      ]
     },
     "execution_count": 89,
     "metadata": {},
     "output_type": "execute_result"
    }
   ],
   "source": [
    "df.rename_axis(index={\"let\": \"abc\"})"
   ]
  },
  {
   "cell_type": "code",
   "execution_count": 90,
   "id": "e1186f76",
   "metadata": {
    "execution": {
     "iopub.execute_input": "2023-08-17T20:19:49.828586Z",
     "iopub.status.busy": "2023-08-17T20:19:49.827743Z",
     "iopub.status.idle": "2023-08-17T20:19:49.838844Z",
     "shell.execute_reply": "2023-08-17T20:19:49.838016Z"
    },
    "papermill": {
     "duration": 0.067556,
     "end_time": "2023-08-17T20:19:49.841026",
     "exception": false,
     "start_time": "2023-08-17T20:19:49.773470",
     "status": "completed"
    },
    "tags": []
   },
   "outputs": [
    {
     "data": {
      "text/html": [
       "<div>\n",
       "<style scoped>\n",
       "    .dataframe tbody tr th:only-of-type {\n",
       "        vertical-align: middle;\n",
       "    }\n",
       "\n",
       "    .dataframe tbody tr th {\n",
       "        vertical-align: top;\n",
       "    }\n",
       "\n",
       "    .dataframe thead th {\n",
       "        text-align: right;\n",
       "    }\n",
       "</style>\n",
       "<table border=\"1\" class=\"dataframe\">\n",
       "  <thead>\n",
       "    <tr style=\"text-align: right;\">\n",
       "      <th></th>\n",
       "      <th></th>\n",
       "      <th>x</th>\n",
       "      <th>y</th>\n",
       "    </tr>\n",
       "    <tr>\n",
       "      <th>LET</th>\n",
       "      <th>NUM</th>\n",
       "      <th></th>\n",
       "      <th></th>\n",
       "    </tr>\n",
       "  </thead>\n",
       "  <tbody>\n",
       "    <tr>\n",
       "      <th rowspan=\"2\" valign=\"top\">a</th>\n",
       "      <th>1</th>\n",
       "      <td>1</td>\n",
       "      <td>10</td>\n",
       "    </tr>\n",
       "    <tr>\n",
       "      <th>2</th>\n",
       "      <td>2</td>\n",
       "      <td>20</td>\n",
       "    </tr>\n",
       "    <tr>\n",
       "      <th rowspan=\"2\" valign=\"top\">b</th>\n",
       "      <th>1</th>\n",
       "      <td>3</td>\n",
       "      <td>30</td>\n",
       "    </tr>\n",
       "    <tr>\n",
       "      <th>2</th>\n",
       "      <td>4</td>\n",
       "      <td>40</td>\n",
       "    </tr>\n",
       "    <tr>\n",
       "      <th rowspan=\"2\" valign=\"top\">c</th>\n",
       "      <th>1</th>\n",
       "      <td>5</td>\n",
       "      <td>50</td>\n",
       "    </tr>\n",
       "    <tr>\n",
       "      <th>2</th>\n",
       "      <td>6</td>\n",
       "      <td>60</td>\n",
       "    </tr>\n",
       "  </tbody>\n",
       "</table>\n",
       "</div>"
      ],
      "text/plain": [
       "         x   y\n",
       "LET NUM       \n",
       "a   1    1  10\n",
       "    2    2  20\n",
       "b   1    3  30\n",
       "    2    4  40\n",
       "c   1    5  50\n",
       "    2    6  60"
      ]
     },
     "execution_count": 90,
     "metadata": {},
     "output_type": "execute_result"
    }
   ],
   "source": [
    "df.rename_axis(index=str.upper)"
   ]
  },
  {
   "cell_type": "code",
   "execution_count": 91,
   "id": "428efd3d",
   "metadata": {
    "execution": {
     "iopub.execute_input": "2023-08-17T20:19:49.950908Z",
     "iopub.status.busy": "2023-08-17T20:19:49.949873Z",
     "iopub.status.idle": "2023-08-17T20:19:49.957841Z",
     "shell.execute_reply": "2023-08-17T20:19:49.956394Z"
    },
    "papermill": {
     "duration": 0.065172,
     "end_time": "2023-08-17T20:19:49.960173",
     "exception": false,
     "start_time": "2023-08-17T20:19:49.895001",
     "status": "completed"
    },
    "tags": []
   },
   "outputs": [
    {
     "name": "stdout",
     "output_type": "stream",
     "text": [
      "col1\n",
      "col2\n"
     ]
    }
   ],
   "source": [
    "df = pd.DataFrame({\"col1\": np.random.randn(3), \"col2\": np.random.randn(3)}, index=[\"a\", \"b\",\"c\"])\n",
    "\n",
    "for col in df:\n",
    "    print(col)"
   ]
  },
  {
   "cell_type": "code",
   "execution_count": 92,
   "id": "562c4599",
   "metadata": {
    "execution": {
     "iopub.execute_input": "2023-08-17T20:19:50.072747Z",
     "iopub.status.busy": "2023-08-17T20:19:50.072362Z",
     "iopub.status.idle": "2023-08-17T20:19:50.084460Z",
     "shell.execute_reply": "2023-08-17T20:19:50.083615Z"
    },
    "papermill": {
     "duration": 0.072045,
     "end_time": "2023-08-17T20:19:50.086806",
     "exception": false,
     "start_time": "2023-08-17T20:19:50.014761",
     "status": "completed"
    },
    "tags": []
   },
   "outputs": [
    {
     "data": {
      "text/html": [
       "<div>\n",
       "<style scoped>\n",
       "    .dataframe tbody tr th:only-of-type {\n",
       "        vertical-align: middle;\n",
       "    }\n",
       "\n",
       "    .dataframe tbody tr th {\n",
       "        vertical-align: top;\n",
       "    }\n",
       "\n",
       "    .dataframe thead th {\n",
       "        text-align: right;\n",
       "    }\n",
       "</style>\n",
       "<table border=\"1\" class=\"dataframe\">\n",
       "  <thead>\n",
       "    <tr style=\"text-align: right;\">\n",
       "      <th></th>\n",
       "      <th>a</th>\n",
       "      <th>b</th>\n",
       "    </tr>\n",
       "  </thead>\n",
       "  <tbody>\n",
       "    <tr>\n",
       "      <th>0</th>\n",
       "      <td>1</td>\n",
       "      <td>a</td>\n",
       "    </tr>\n",
       "    <tr>\n",
       "      <th>1</th>\n",
       "      <td>2</td>\n",
       "      <td>b</td>\n",
       "    </tr>\n",
       "    <tr>\n",
       "      <th>2</th>\n",
       "      <td>3</td>\n",
       "      <td>c</td>\n",
       "    </tr>\n",
       "  </tbody>\n",
       "</table>\n",
       "</div>"
      ],
      "text/plain": [
       "   a  b\n",
       "0  1  a\n",
       "1  2  b\n",
       "2  3  c"
      ]
     },
     "execution_count": 92,
     "metadata": {},
     "output_type": "execute_result"
    }
   ],
   "source": [
    "df = pd.DataFrame({\"a\": [1, 2, 3], \"b\": [\"a\", \"b\", \"c\"]})\n",
    "In [257]: for index, row in df.iterrows():\n",
    "        row[\"a\"] = 10\n",
    "df"
   ]
  },
  {
   "cell_type": "code",
   "execution_count": 93,
   "id": "728b2615",
   "metadata": {
    "execution": {
     "iopub.execute_input": "2023-08-17T20:19:50.197118Z",
     "iopub.status.busy": "2023-08-17T20:19:50.196383Z",
     "iopub.status.idle": "2023-08-17T20:19:50.203514Z",
     "shell.execute_reply": "2023-08-17T20:19:50.201926Z"
    },
    "papermill": {
     "duration": 0.065205,
     "end_time": "2023-08-17T20:19:50.205813",
     "exception": false,
     "start_time": "2023-08-17T20:19:50.140608",
     "status": "completed"
    },
    "tags": []
   },
   "outputs": [
    {
     "name": "stdout",
     "output_type": "stream",
     "text": [
      "a\n",
      "0    1\n",
      "1    2\n",
      "2    3\n",
      "Name: a, dtype: int64\n",
      "b\n",
      "0    a\n",
      "1    b\n",
      "2    c\n",
      "Name: b, dtype: object\n"
     ]
    }
   ],
   "source": [
    "for label, ser in df.items():\n",
    "    print(label)\n",
    "    print(ser)"
   ]
  },
  {
   "cell_type": "code",
   "execution_count": 94,
   "id": "018f0f2d",
   "metadata": {
    "execution": {
     "iopub.execute_input": "2023-08-17T20:19:50.315792Z",
     "iopub.status.busy": "2023-08-17T20:19:50.315111Z",
     "iopub.status.idle": "2023-08-17T20:19:50.325055Z",
     "shell.execute_reply": "2023-08-17T20:19:50.323468Z"
    },
    "papermill": {
     "duration": 0.068453,
     "end_time": "2023-08-17T20:19:50.327820",
     "exception": false,
     "start_time": "2023-08-17T20:19:50.259367",
     "status": "completed"
    },
    "tags": []
   },
   "outputs": [
    {
     "name": "stdout",
     "output_type": "stream",
     "text": [
      "0\n",
      "a    1\n",
      "b    a\n",
      "Name: 0, dtype: object\n",
      "1\n",
      "a    2\n",
      "b    b\n",
      "Name: 1, dtype: object\n",
      "2\n",
      "a    3\n",
      "b    c\n",
      "Name: 2, dtype: object\n"
     ]
    }
   ],
   "source": [
    "for row_index, row in df.iterrows():\n",
    "    print(row_index, row, sep=\"\\n\")"
   ]
  },
  {
   "cell_type": "code",
   "execution_count": 95,
   "id": "30035fd8",
   "metadata": {
    "execution": {
     "iopub.execute_input": "2023-08-17T20:19:50.441151Z",
     "iopub.status.busy": "2023-08-17T20:19:50.440376Z",
     "iopub.status.idle": "2023-08-17T20:19:50.449811Z",
     "shell.execute_reply": "2023-08-17T20:19:50.448995Z"
    },
    "papermill": {
     "duration": 0.067962,
     "end_time": "2023-08-17T20:19:50.452108",
     "exception": false,
     "start_time": "2023-08-17T20:19:50.384146",
     "status": "completed"
    },
    "tags": []
   },
   "outputs": [
    {
     "data": {
      "text/plain": [
       "int        int64\n",
       "float    float64\n",
       "dtype: object"
      ]
     },
     "execution_count": 95,
     "metadata": {},
     "output_type": "execute_result"
    }
   ],
   "source": [
    "df_orig = pd.DataFrame([[1, 1.5]], columns=[\"int\", \"float\"])\n",
    "df_orig.dtypes"
   ]
  },
  {
   "cell_type": "code",
   "execution_count": 96,
   "id": "7abb5a02",
   "metadata": {
    "execution": {
     "iopub.execute_input": "2023-08-17T20:19:50.564109Z",
     "iopub.status.busy": "2023-08-17T20:19:50.562933Z",
     "iopub.status.idle": "2023-08-17T20:19:50.571383Z",
     "shell.execute_reply": "2023-08-17T20:19:50.570373Z"
    },
    "papermill": {
     "duration": 0.066151,
     "end_time": "2023-08-17T20:19:50.573461",
     "exception": false,
     "start_time": "2023-08-17T20:19:50.507310",
     "status": "completed"
    },
    "tags": []
   },
   "outputs": [
    {
     "data": {
      "text/plain": [
       "int      1.0\n",
       "float    1.5\n",
       "Name: 0, dtype: float64"
      ]
     },
     "execution_count": 96,
     "metadata": {},
     "output_type": "execute_result"
    }
   ],
   "source": [
    "row = next(df_orig.iterrows())[1]\n",
    "row"
   ]
  },
  {
   "cell_type": "code",
   "execution_count": 97,
   "id": "dde3c7ae",
   "metadata": {
    "execution": {
     "iopub.execute_input": "2023-08-17T20:19:50.685376Z",
     "iopub.status.busy": "2023-08-17T20:19:50.684604Z",
     "iopub.status.idle": "2023-08-17T20:19:50.692044Z",
     "shell.execute_reply": "2023-08-17T20:19:50.690910Z"
    },
    "papermill": {
     "duration": 0.066826,
     "end_time": "2023-08-17T20:19:50.694412",
     "exception": false,
     "start_time": "2023-08-17T20:19:50.627586",
     "status": "completed"
    },
    "tags": []
   },
   "outputs": [
    {
     "data": {
      "text/plain": [
       "dtype('float64')"
      ]
     },
     "execution_count": 97,
     "metadata": {},
     "output_type": "execute_result"
    }
   ],
   "source": [
    "row[\"int\"].dtype"
   ]
  },
  {
   "cell_type": "code",
   "execution_count": 98,
   "id": "fef0756d",
   "metadata": {
    "execution": {
     "iopub.execute_input": "2023-08-17T20:19:50.805648Z",
     "iopub.status.busy": "2023-08-17T20:19:50.805223Z",
     "iopub.status.idle": "2023-08-17T20:19:50.811985Z",
     "shell.execute_reply": "2023-08-17T20:19:50.811205Z"
    },
    "papermill": {
     "duration": 0.065031,
     "end_time": "2023-08-17T20:19:50.814409",
     "exception": false,
     "start_time": "2023-08-17T20:19:50.749378",
     "status": "completed"
    },
    "tags": []
   },
   "outputs": [
    {
     "data": {
      "text/plain": [
       "dtype('int64')"
      ]
     },
     "execution_count": 98,
     "metadata": {},
     "output_type": "execute_result"
    }
   ],
   "source": [
    "df_orig[\"int\"].dtype"
   ]
  },
  {
   "cell_type": "code",
   "execution_count": 99,
   "id": "b32563c0",
   "metadata": {
    "execution": {
     "iopub.execute_input": "2023-08-17T20:19:50.925931Z",
     "iopub.status.busy": "2023-08-17T20:19:50.925512Z",
     "iopub.status.idle": "2023-08-17T20:19:50.934117Z",
     "shell.execute_reply": "2023-08-17T20:19:50.932710Z"
    },
    "papermill": {
     "duration": 0.067432,
     "end_time": "2023-08-17T20:19:50.936580",
     "exception": false,
     "start_time": "2023-08-17T20:19:50.869148",
     "status": "completed"
    },
    "tags": []
   },
   "outputs": [
    {
     "name": "stdout",
     "output_type": "stream",
     "text": [
      "   x  y\n",
      "0  1  4\n",
      "1  2  5\n",
      "2  3  6\n"
     ]
    }
   ],
   "source": [
    "df2 = pd.DataFrame({\"x\": [1, 2, 3], \"y\": [4, 5, 6]})\n",
    "print(df2)"
   ]
  },
  {
   "cell_type": "code",
   "execution_count": 100,
   "id": "0349dd23",
   "metadata": {
    "execution": {
     "iopub.execute_input": "2023-08-17T20:19:51.050440Z",
     "iopub.status.busy": "2023-08-17T20:19:51.049966Z",
     "iopub.status.idle": "2023-08-17T20:19:51.059405Z",
     "shell.execute_reply": "2023-08-17T20:19:51.057834Z"
    },
    "papermill": {
     "duration": 0.068083,
     "end_time": "2023-08-17T20:19:51.061598",
     "exception": false,
     "start_time": "2023-08-17T20:19:50.993515",
     "status": "completed"
    },
    "tags": []
   },
   "outputs": [
    {
     "name": "stdout",
     "output_type": "stream",
     "text": [
      "   0  1  2\n",
      "x  1  2  3\n",
      "y  4  5  6\n"
     ]
    }
   ],
   "source": [
    "df2_t = pd.DataFrame({idx: values for idx, values in df2.iterrows()})\n",
    "print(df2_t)"
   ]
  },
  {
   "cell_type": "code",
   "execution_count": 101,
   "id": "06583379",
   "metadata": {
    "execution": {
     "iopub.execute_input": "2023-08-17T20:19:51.175223Z",
     "iopub.status.busy": "2023-08-17T20:19:51.174766Z",
     "iopub.status.idle": "2023-08-17T20:19:51.181579Z",
     "shell.execute_reply": "2023-08-17T20:19:51.180407Z"
    },
    "papermill": {
     "duration": 0.067921,
     "end_time": "2023-08-17T20:19:51.184280",
     "exception": false,
     "start_time": "2023-08-17T20:19:51.116359",
     "status": "completed"
    },
    "tags": []
   },
   "outputs": [
    {
     "name": "stdout",
     "output_type": "stream",
     "text": [
      "Pandas(Index=0, a=1, b='a')\n",
      "Pandas(Index=1, a=2, b='b')\n",
      "Pandas(Index=2, a=3, b='c')\n"
     ]
    }
   ],
   "source": [
    "for row in df.itertuples():\n",
    "    print(row)"
   ]
  },
  {
   "cell_type": "code",
   "execution_count": 102,
   "id": "80469413",
   "metadata": {
    "execution": {
     "iopub.execute_input": "2023-08-17T20:19:51.297207Z",
     "iopub.status.busy": "2023-08-17T20:19:51.296668Z",
     "iopub.status.idle": "2023-08-17T20:19:51.306015Z",
     "shell.execute_reply": "2023-08-17T20:19:51.304854Z"
    },
    "papermill": {
     "duration": 0.069745,
     "end_time": "2023-08-17T20:19:51.308585",
     "exception": false,
     "start_time": "2023-08-17T20:19:51.238840",
     "status": "completed"
    },
    "tags": []
   },
   "outputs": [
    {
     "data": {
      "text/plain": [
       "0   2013-01-01 09:10:12\n",
       "1   2013-01-02 09:10:12\n",
       "2   2013-01-03 09:10:12\n",
       "3   2013-01-04 09:10:12\n",
       "dtype: datetime64[ns]"
      ]
     },
     "execution_count": 102,
     "metadata": {},
     "output_type": "execute_result"
    }
   ],
   "source": [
    "s = pd.Series(pd.date_range(\"20130101 09:10:12\", periods=4))\n",
    "s"
   ]
  },
  {
   "cell_type": "code",
   "execution_count": 103,
   "id": "d49c8507",
   "metadata": {
    "execution": {
     "iopub.execute_input": "2023-08-17T20:19:51.422366Z",
     "iopub.status.busy": "2023-08-17T20:19:51.421987Z",
     "iopub.status.idle": "2023-08-17T20:19:51.430702Z",
     "shell.execute_reply": "2023-08-17T20:19:51.429671Z"
    },
    "papermill": {
     "duration": 0.068558,
     "end_time": "2023-08-17T20:19:51.433144",
     "exception": false,
     "start_time": "2023-08-17T20:19:51.364586",
     "status": "completed"
    },
    "tags": []
   },
   "outputs": [
    {
     "data": {
      "text/plain": [
       "0    9\n",
       "1    9\n",
       "2    9\n",
       "3    9\n",
       "dtype: int64"
      ]
     },
     "execution_count": 103,
     "metadata": {},
     "output_type": "execute_result"
    }
   ],
   "source": [
    "s.dt.hour"
   ]
  },
  {
   "cell_type": "code",
   "execution_count": 104,
   "id": "f0b18d94",
   "metadata": {
    "execution": {
     "iopub.execute_input": "2023-08-17T20:19:51.546579Z",
     "iopub.status.busy": "2023-08-17T20:19:51.546190Z",
     "iopub.status.idle": "2023-08-17T20:19:51.554381Z",
     "shell.execute_reply": "2023-08-17T20:19:51.553254Z"
    },
    "papermill": {
     "duration": 0.067755,
     "end_time": "2023-08-17T20:19:51.556780",
     "exception": false,
     "start_time": "2023-08-17T20:19:51.489025",
     "status": "completed"
    },
    "tags": []
   },
   "outputs": [
    {
     "data": {
      "text/plain": [
       "0    12\n",
       "1    12\n",
       "2    12\n",
       "3    12\n",
       "dtype: int64"
      ]
     },
     "execution_count": 104,
     "metadata": {},
     "output_type": "execute_result"
    }
   ],
   "source": [
    "s.dt.second"
   ]
  },
  {
   "cell_type": "code",
   "execution_count": 105,
   "id": "2350ae9d",
   "metadata": {
    "execution": {
     "iopub.execute_input": "2023-08-17T20:19:51.674152Z",
     "iopub.status.busy": "2023-08-17T20:19:51.673708Z",
     "iopub.status.idle": "2023-08-17T20:19:51.681773Z",
     "shell.execute_reply": "2023-08-17T20:19:51.680686Z"
    },
    "papermill": {
     "duration": 0.071642,
     "end_time": "2023-08-17T20:19:51.684459",
     "exception": false,
     "start_time": "2023-08-17T20:19:51.612817",
     "status": "completed"
    },
    "tags": []
   },
   "outputs": [
    {
     "data": {
      "text/plain": [
       "0    1\n",
       "1    2\n",
       "2    3\n",
       "3    4\n",
       "dtype: int64"
      ]
     },
     "execution_count": 105,
     "metadata": {},
     "output_type": "execute_result"
    }
   ],
   "source": [
    "s.dt.day"
   ]
  },
  {
   "cell_type": "code",
   "execution_count": 106,
   "id": "7d45c29b",
   "metadata": {
    "execution": {
     "iopub.execute_input": "2023-08-17T20:19:51.798324Z",
     "iopub.status.busy": "2023-08-17T20:19:51.797877Z",
     "iopub.status.idle": "2023-08-17T20:19:51.806259Z",
     "shell.execute_reply": "2023-08-17T20:19:51.805413Z"
    },
    "papermill": {
     "duration": 0.067594,
     "end_time": "2023-08-17T20:19:51.808364",
     "exception": false,
     "start_time": "2023-08-17T20:19:51.740770",
     "status": "completed"
    },
    "tags": []
   },
   "outputs": [
    {
     "data": {
      "text/plain": [
       "1   2013-01-02 09:10:12\n",
       "dtype: datetime64[ns]"
      ]
     },
     "execution_count": 106,
     "metadata": {},
     "output_type": "execute_result"
    }
   ],
   "source": [
    "s[s.dt.day == 2]"
   ]
  },
  {
   "cell_type": "code",
   "execution_count": 107,
   "id": "f552e2c3",
   "metadata": {
    "execution": {
     "iopub.execute_input": "2023-08-17T20:19:51.925328Z",
     "iopub.status.busy": "2023-08-17T20:19:51.924860Z",
     "iopub.status.idle": "2023-08-17T20:19:51.985235Z",
     "shell.execute_reply": "2023-08-17T20:19:51.983973Z"
    },
    "papermill": {
     "duration": 0.12142,
     "end_time": "2023-08-17T20:19:51.987651",
     "exception": false,
     "start_time": "2023-08-17T20:19:51.866231",
     "status": "completed"
    },
    "tags": []
   },
   "outputs": [
    {
     "data": {
      "text/plain": [
       "0   2013-01-01 09:10:12-05:00\n",
       "1   2013-01-02 09:10:12-05:00\n",
       "2   2013-01-03 09:10:12-05:00\n",
       "3   2013-01-04 09:10:12-05:00\n",
       "dtype: datetime64[ns, US/Eastern]"
      ]
     },
     "execution_count": 107,
     "metadata": {},
     "output_type": "execute_result"
    }
   ],
   "source": [
    "stz = s.dt.tz_localize(\"US/Eastern\")\n",
    "stz"
   ]
  },
  {
   "cell_type": "code",
   "execution_count": 108,
   "id": "bf14dbd0",
   "metadata": {
    "execution": {
     "iopub.execute_input": "2023-08-17T20:19:52.104377Z",
     "iopub.status.busy": "2023-08-17T20:19:52.103451Z",
     "iopub.status.idle": "2023-08-17T20:19:52.114029Z",
     "shell.execute_reply": "2023-08-17T20:19:52.112915Z"
    },
    "papermill": {
     "duration": 0.070795,
     "end_time": "2023-08-17T20:19:52.116400",
     "exception": false,
     "start_time": "2023-08-17T20:19:52.045605",
     "status": "completed"
    },
    "tags": []
   },
   "outputs": [
    {
     "data": {
      "text/plain": [
       "0   2013-01-01 04:10:12-05:00\n",
       "1   2013-01-02 04:10:12-05:00\n",
       "2   2013-01-03 04:10:12-05:00\n",
       "3   2013-01-04 04:10:12-05:00\n",
       "dtype: datetime64[ns, US/Eastern]"
      ]
     },
     "execution_count": 108,
     "metadata": {},
     "output_type": "execute_result"
    }
   ],
   "source": [
    "s.dt.tz_localize(\"UTC\").dt.tz_convert(\"US/Eastern\")"
   ]
  },
  {
   "cell_type": "code",
   "execution_count": 109,
   "id": "2cb34779",
   "metadata": {
    "execution": {
     "iopub.execute_input": "2023-08-17T20:19:52.231106Z",
     "iopub.status.busy": "2023-08-17T20:19:52.230187Z",
     "iopub.status.idle": "2023-08-17T20:19:52.239338Z",
     "shell.execute_reply": "2023-08-17T20:19:52.238097Z"
    },
    "papermill": {
     "duration": 0.068853,
     "end_time": "2023-08-17T20:19:52.241573",
     "exception": false,
     "start_time": "2023-08-17T20:19:52.172720",
     "status": "completed"
    },
    "tags": []
   },
   "outputs": [
    {
     "data": {
      "text/plain": [
       "0   2013-01-01\n",
       "1   2013-01-02\n",
       "2   2013-01-03\n",
       "3   2013-01-04\n",
       "dtype: datetime64[ns]"
      ]
     },
     "execution_count": 109,
     "metadata": {},
     "output_type": "execute_result"
    }
   ],
   "source": [
    "s = pd.Series(pd.date_range(\"20130101\", periods=4))\n",
    "s"
   ]
  },
  {
   "cell_type": "code",
   "execution_count": 110,
   "id": "296c99fc",
   "metadata": {
    "execution": {
     "iopub.execute_input": "2023-08-17T20:19:52.355927Z",
     "iopub.status.busy": "2023-08-17T20:19:52.355464Z",
     "iopub.status.idle": "2023-08-17T20:19:52.364531Z",
     "shell.execute_reply": "2023-08-17T20:19:52.363448Z"
    },
    "papermill": {
     "duration": 0.069025,
     "end_time": "2023-08-17T20:19:52.366873",
     "exception": false,
     "start_time": "2023-08-17T20:19:52.297848",
     "status": "completed"
    },
    "tags": []
   },
   "outputs": [
    {
     "data": {
      "text/plain": [
       "0    2013/01/01\n",
       "1    2013/01/02\n",
       "2    2013/01/03\n",
       "3    2013/01/04\n",
       "dtype: object"
      ]
     },
     "execution_count": 110,
     "metadata": {},
     "output_type": "execute_result"
    }
   ],
   "source": [
    "s.dt.strftime(\"%Y/%m/%d\")"
   ]
  },
  {
   "cell_type": "code",
   "execution_count": 111,
   "id": "39184933",
   "metadata": {
    "execution": {
     "iopub.execute_input": "2023-08-17T20:19:52.482341Z",
     "iopub.status.busy": "2023-08-17T20:19:52.481901Z",
     "iopub.status.idle": "2023-08-17T20:19:52.491388Z",
     "shell.execute_reply": "2023-08-17T20:19:52.490593Z"
    },
    "papermill": {
     "duration": 0.069419,
     "end_time": "2023-08-17T20:19:52.493607",
     "exception": false,
     "start_time": "2023-08-17T20:19:52.424188",
     "status": "completed"
    },
    "tags": []
   },
   "outputs": [
    {
     "data": {
      "text/plain": [
       "0    2013-01-01\n",
       "1    2013-01-02\n",
       "2    2013-01-03\n",
       "3    2013-01-04\n",
       "dtype: period[D]"
      ]
     },
     "execution_count": 111,
     "metadata": {},
     "output_type": "execute_result"
    }
   ],
   "source": [
    "s = pd.Series(pd.period_range(\"20130101\", periods=4))\n",
    "s"
   ]
  },
  {
   "cell_type": "code",
   "execution_count": 112,
   "id": "934d2242",
   "metadata": {
    "execution": {
     "iopub.execute_input": "2023-08-17T20:19:52.610903Z",
     "iopub.status.busy": "2023-08-17T20:19:52.610072Z",
     "iopub.status.idle": "2023-08-17T20:19:52.618530Z",
     "shell.execute_reply": "2023-08-17T20:19:52.617534Z"
    },
    "papermill": {
     "duration": 0.068868,
     "end_time": "2023-08-17T20:19:52.620692",
     "exception": false,
     "start_time": "2023-08-17T20:19:52.551824",
     "status": "completed"
    },
    "tags": []
   },
   "outputs": [
    {
     "data": {
      "text/plain": [
       "0    2013/01/01\n",
       "1    2013/01/02\n",
       "2    2013/01/03\n",
       "3    2013/01/04\n",
       "dtype: object"
      ]
     },
     "execution_count": 112,
     "metadata": {},
     "output_type": "execute_result"
    }
   ],
   "source": [
    "s.dt.strftime(\"%Y/%m/%d\")"
   ]
  },
  {
   "cell_type": "code",
   "execution_count": 113,
   "id": "f2781caf",
   "metadata": {
    "execution": {
     "iopub.execute_input": "2023-08-17T20:19:52.737752Z",
     "iopub.status.busy": "2023-08-17T20:19:52.736622Z",
     "iopub.status.idle": "2023-08-17T20:19:52.746523Z",
     "shell.execute_reply": "2023-08-17T20:19:52.745475Z"
    },
    "papermill": {
     "duration": 0.071041,
     "end_time": "2023-08-17T20:19:52.748881",
     "exception": false,
     "start_time": "2023-08-17T20:19:52.677840",
     "status": "completed"
    },
    "tags": []
   },
   "outputs": [
    {
     "data": {
      "text/plain": [
       "0    2013-01-01\n",
       "1    2013-01-02\n",
       "2    2013-01-03\n",
       "3    2013-01-04\n",
       "dtype: period[D]"
      ]
     },
     "execution_count": 113,
     "metadata": {},
     "output_type": "execute_result"
    }
   ],
   "source": [
    "s = pd.Series(pd.period_range(\"20130101\", periods=4, freq=\"D\"))\n",
    "s"
   ]
  },
  {
   "cell_type": "code",
   "execution_count": 114,
   "id": "b07df51f",
   "metadata": {
    "execution": {
     "iopub.execute_input": "2023-08-17T20:19:52.865910Z",
     "iopub.status.busy": "2023-08-17T20:19:52.865474Z",
     "iopub.status.idle": "2023-08-17T20:19:52.873537Z",
     "shell.execute_reply": "2023-08-17T20:19:52.872455Z"
    },
    "papermill": {
     "duration": 0.068773,
     "end_time": "2023-08-17T20:19:52.875760",
     "exception": false,
     "start_time": "2023-08-17T20:19:52.806987",
     "status": "completed"
    },
    "tags": []
   },
   "outputs": [
    {
     "data": {
      "text/plain": [
       "0    2013\n",
       "1    2013\n",
       "2    2013\n",
       "3    2013\n",
       "dtype: int64"
      ]
     },
     "execution_count": 114,
     "metadata": {},
     "output_type": "execute_result"
    }
   ],
   "source": [
    "s.dt.year"
   ]
  },
  {
   "cell_type": "code",
   "execution_count": 115,
   "id": "5ad2fc31",
   "metadata": {
    "execution": {
     "iopub.execute_input": "2023-08-17T20:19:52.995602Z",
     "iopub.status.busy": "2023-08-17T20:19:52.995190Z",
     "iopub.status.idle": "2023-08-17T20:19:53.003282Z",
     "shell.execute_reply": "2023-08-17T20:19:53.002134Z"
    },
    "papermill": {
     "duration": 0.069403,
     "end_time": "2023-08-17T20:19:53.005709",
     "exception": false,
     "start_time": "2023-08-17T20:19:52.936306",
     "status": "completed"
    },
    "tags": []
   },
   "outputs": [
    {
     "data": {
      "text/plain": [
       "0    1\n",
       "1    2\n",
       "2    3\n",
       "3    4\n",
       "dtype: int64"
      ]
     },
     "execution_count": 115,
     "metadata": {},
     "output_type": "execute_result"
    }
   ],
   "source": [
    "s.dt.day"
   ]
  },
  {
   "cell_type": "code",
   "execution_count": 116,
   "id": "917e6038",
   "metadata": {
    "execution": {
     "iopub.execute_input": "2023-08-17T20:19:53.124430Z",
     "iopub.status.busy": "2023-08-17T20:19:53.124050Z",
     "iopub.status.idle": "2023-08-17T20:19:53.132180Z",
     "shell.execute_reply": "2023-08-17T20:19:53.131202Z"
    },
    "papermill": {
     "duration": 0.069797,
     "end_time": "2023-08-17T20:19:53.134663",
     "exception": false,
     "start_time": "2023-08-17T20:19:53.064866",
     "status": "completed"
    },
    "tags": []
   },
   "outputs": [
    {
     "data": {
      "text/plain": [
       "0   1 days 00:00:05\n",
       "1   1 days 00:00:06\n",
       "2   1 days 00:00:07\n",
       "3   1 days 00:00:08\n",
       "dtype: timedelta64[ns]"
      ]
     },
     "execution_count": 116,
     "metadata": {},
     "output_type": "execute_result"
    }
   ],
   "source": [
    "s = pd.Series(pd.timedelta_range(\"1 day 00:00:05\", periods=4, freq=\"s\"))\n",
    "s"
   ]
  },
  {
   "cell_type": "code",
   "execution_count": 117,
   "id": "937ea1f7",
   "metadata": {
    "execution": {
     "iopub.execute_input": "2023-08-17T20:19:53.251445Z",
     "iopub.status.busy": "2023-08-17T20:19:53.251057Z",
     "iopub.status.idle": "2023-08-17T20:19:53.259335Z",
     "shell.execute_reply": "2023-08-17T20:19:53.258118Z"
    },
    "papermill": {
     "duration": 0.069603,
     "end_time": "2023-08-17T20:19:53.261593",
     "exception": false,
     "start_time": "2023-08-17T20:19:53.191990",
     "status": "completed"
    },
    "tags": []
   },
   "outputs": [
    {
     "data": {
      "text/plain": [
       "0    1\n",
       "1    1\n",
       "2    1\n",
       "3    1\n",
       "dtype: int64"
      ]
     },
     "execution_count": 117,
     "metadata": {},
     "output_type": "execute_result"
    }
   ],
   "source": [
    "s.dt.days"
   ]
  },
  {
   "cell_type": "code",
   "execution_count": 118,
   "id": "0072af6d",
   "metadata": {
    "execution": {
     "iopub.execute_input": "2023-08-17T20:19:53.379085Z",
     "iopub.status.busy": "2023-08-17T20:19:53.378670Z",
     "iopub.status.idle": "2023-08-17T20:19:53.388485Z",
     "shell.execute_reply": "2023-08-17T20:19:53.387383Z"
    },
    "papermill": {
     "duration": 0.071392,
     "end_time": "2023-08-17T20:19:53.390599",
     "exception": false,
     "start_time": "2023-08-17T20:19:53.319207",
     "status": "completed"
    },
    "tags": []
   },
   "outputs": [
    {
     "data": {
      "text/plain": [
       "0    5\n",
       "1    6\n",
       "2    7\n",
       "3    8\n",
       "dtype: int64"
      ]
     },
     "execution_count": 118,
     "metadata": {},
     "output_type": "execute_result"
    }
   ],
   "source": [
    "s.dt.seconds"
   ]
  },
  {
   "cell_type": "code",
   "execution_count": 119,
   "id": "f9016c2d",
   "metadata": {
    "execution": {
     "iopub.execute_input": "2023-08-17T20:19:53.508925Z",
     "iopub.status.busy": "2023-08-17T20:19:53.508514Z",
     "iopub.status.idle": "2023-08-17T20:19:53.520529Z",
     "shell.execute_reply": "2023-08-17T20:19:53.519749Z"
    },
    "papermill": {
     "duration": 0.073662,
     "end_time": "2023-08-17T20:19:53.522749",
     "exception": false,
     "start_time": "2023-08-17T20:19:53.449087",
     "status": "completed"
    },
    "tags": []
   },
   "outputs": [
    {
     "data": {
      "text/html": [
       "<div>\n",
       "<style scoped>\n",
       "    .dataframe tbody tr th:only-of-type {\n",
       "        vertical-align: middle;\n",
       "    }\n",
       "\n",
       "    .dataframe tbody tr th {\n",
       "        vertical-align: top;\n",
       "    }\n",
       "\n",
       "    .dataframe thead th {\n",
       "        text-align: right;\n",
       "    }\n",
       "</style>\n",
       "<table border=\"1\" class=\"dataframe\">\n",
       "  <thead>\n",
       "    <tr style=\"text-align: right;\">\n",
       "      <th></th>\n",
       "      <th>days</th>\n",
       "      <th>hours</th>\n",
       "      <th>minutes</th>\n",
       "      <th>seconds</th>\n",
       "      <th>milliseconds</th>\n",
       "      <th>microseconds</th>\n",
       "      <th>nanoseconds</th>\n",
       "    </tr>\n",
       "  </thead>\n",
       "  <tbody>\n",
       "    <tr>\n",
       "      <th>0</th>\n",
       "      <td>1</td>\n",
       "      <td>0</td>\n",
       "      <td>0</td>\n",
       "      <td>5</td>\n",
       "      <td>0</td>\n",
       "      <td>0</td>\n",
       "      <td>0</td>\n",
       "    </tr>\n",
       "    <tr>\n",
       "      <th>1</th>\n",
       "      <td>1</td>\n",
       "      <td>0</td>\n",
       "      <td>0</td>\n",
       "      <td>6</td>\n",
       "      <td>0</td>\n",
       "      <td>0</td>\n",
       "      <td>0</td>\n",
       "    </tr>\n",
       "    <tr>\n",
       "      <th>2</th>\n",
       "      <td>1</td>\n",
       "      <td>0</td>\n",
       "      <td>0</td>\n",
       "      <td>7</td>\n",
       "      <td>0</td>\n",
       "      <td>0</td>\n",
       "      <td>0</td>\n",
       "    </tr>\n",
       "    <tr>\n",
       "      <th>3</th>\n",
       "      <td>1</td>\n",
       "      <td>0</td>\n",
       "      <td>0</td>\n",
       "      <td>8</td>\n",
       "      <td>0</td>\n",
       "      <td>0</td>\n",
       "      <td>0</td>\n",
       "    </tr>\n",
       "  </tbody>\n",
       "</table>\n",
       "</div>"
      ],
      "text/plain": [
       "   days  hours  minutes  seconds  milliseconds  microseconds  nanoseconds\n",
       "0     1      0        0        5             0             0            0\n",
       "1     1      0        0        6             0             0            0\n",
       "2     1      0        0        7             0             0            0\n",
       "3     1      0        0        8             0             0            0"
      ]
     },
     "execution_count": 119,
     "metadata": {},
     "output_type": "execute_result"
    }
   ],
   "source": [
    "s.dt.components"
   ]
  },
  {
   "cell_type": "code",
   "execution_count": null,
   "id": "8ce42b42",
   "metadata": {
    "papermill": {
     "duration": 0.058224,
     "end_time": "2023-08-17T20:19:53.640924",
     "exception": false,
     "start_time": "2023-08-17T20:19:53.582700",
     "status": "completed"
    },
    "tags": []
   },
   "outputs": [],
   "source": []
  }
 ],
 "metadata": {
  "kernelspec": {
   "display_name": "Python 3",
   "language": "python",
   "name": "python3"
  },
  "language_info": {
   "codemirror_mode": {
    "name": "ipython",
    "version": 3
   },
   "file_extension": ".py",
   "mimetype": "text/x-python",
   "name": "python",
   "nbconvert_exporter": "python",
   "pygments_lexer": "ipython3",
   "version": "3.10.12"
  },
  "papermill": {
   "default_parameters": {},
   "duration": 25.989701,
   "end_time": "2023-08-17T20:19:54.620595",
   "environment_variables": {},
   "exception": null,
   "input_path": "__notebook__.ipynb",
   "output_path": "__notebook__.ipynb",
   "parameters": {},
   "start_time": "2023-08-17T20:19:28.630894",
   "version": "2.4.0"
  }
 },
 "nbformat": 4,
 "nbformat_minor": 5
}
