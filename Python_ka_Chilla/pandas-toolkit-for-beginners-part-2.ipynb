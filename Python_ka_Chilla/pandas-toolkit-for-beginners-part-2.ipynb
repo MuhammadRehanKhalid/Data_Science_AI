{
 "cells": [
  {
   "cell_type": "markdown",
   "id": "f18db019",
   "metadata": {
    "papermill": {
     "duration": 0.026781,
     "end_time": "2023-08-17T01:44:55.883951",
     "exception": false,
     "start_time": "2023-08-17T01:44:55.857170",
     "status": "completed"
    },
    "tags": []
   },
   "source": [
    "<div style=\"color:white;background-color:Black;padding:3%;border-radius:150px 150px;font-size:2.5em;text-align:center\">Pandas toolkit Part 2</div>"
   ]
  },
  {
   "cell_type": "markdown",
   "id": "b80066dd",
   "metadata": {
    "papermill": {
     "duration": 0.025999,
     "end_time": "2023-08-17T01:44:55.938744",
     "exception": false,
     "start_time": "2023-08-17T01:44:55.912745",
     "status": "completed"
    },
    "tags": []
   },
   "source": [
    "<center>\n",
    "<img src=\"https://i1.wp.com/www.datascienceexamples.com/wp-content/uploads/2019/10/python-and-pandas.jpg?resize=800%2C286&ssl=1\" width=1200>\n",
    "</center>"
   ]
  },
  {
   "cell_type": "code",
   "execution_count": 1,
   "id": "3ad7f6d4",
   "metadata": {
    "execution": {
     "iopub.execute_input": "2023-08-17T01:44:55.993970Z",
     "iopub.status.busy": "2023-08-17T01:44:55.993190Z",
     "iopub.status.idle": "2023-08-17T01:44:56.002530Z",
     "shell.execute_reply": "2023-08-17T01:44:56.001863Z"
    },
    "papermill": {
     "duration": 0.03957,
     "end_time": "2023-08-17T01:44:56.004598",
     "exception": false,
     "start_time": "2023-08-17T01:44:55.965028",
     "status": "completed"
    },
    "tags": []
   },
   "outputs": [],
   "source": [
    "import pandas as pd \n",
    "import numpy as np "
   ]
  },
  {
   "cell_type": "code",
   "execution_count": 2,
   "id": "bbe6c9fc",
   "metadata": {
    "execution": {
     "iopub.execute_input": "2023-08-17T01:44:56.059883Z",
     "iopub.status.busy": "2023-08-17T01:44:56.059234Z",
     "iopub.status.idle": "2023-08-17T01:44:56.072181Z",
     "shell.execute_reply": "2023-08-17T01:44:56.071240Z"
    },
    "papermill": {
     "duration": 0.042893,
     "end_time": "2023-08-17T01:44:56.074184",
     "exception": false,
     "start_time": "2023-08-17T01:44:56.031291",
     "status": "completed"
    },
    "tags": []
   },
   "outputs": [
    {
     "data": {
      "text/plain": [
       "0    4\n",
       "1    2\n",
       "2    3\n",
       "3    5\n",
       "4    3\n",
       "5    5\n",
       "6    0\n",
       "7    6\n",
       "8    4\n",
       "9    4\n",
       "dtype: int64"
      ]
     },
     "execution_count": 2,
     "metadata": {},
     "output_type": "execute_result"
    }
   ],
   "source": [
    "s = pd.Series(np.random.randint(0, 7, size=10))\n",
    "s"
   ]
  },
  {
   "cell_type": "code",
   "execution_count": 3,
   "id": "5c800ea6",
   "metadata": {
    "execution": {
     "iopub.execute_input": "2023-08-17T01:44:56.130077Z",
     "iopub.status.busy": "2023-08-17T01:44:56.129735Z",
     "iopub.status.idle": "2023-08-17T01:44:56.144810Z",
     "shell.execute_reply": "2023-08-17T01:44:56.143840Z"
    },
    "papermill": {
     "duration": 0.04557,
     "end_time": "2023-08-17T01:44:56.146720",
     "exception": false,
     "start_time": "2023-08-17T01:44:56.101150",
     "status": "completed"
    },
    "tags": []
   },
   "outputs": [
    {
     "data": {
      "text/plain": [
       "4    3\n",
       "3    2\n",
       "5    2\n",
       "2    1\n",
       "0    1\n",
       "6    1\n",
       "dtype: int64"
      ]
     },
     "execution_count": 3,
     "metadata": {},
     "output_type": "execute_result"
    }
   ],
   "source": [
    "s.value_counts()"
   ]
  },
  {
   "cell_type": "code",
   "execution_count": 4,
   "id": "42551dfb",
   "metadata": {
    "execution": {
     "iopub.execute_input": "2023-08-17T01:44:56.202835Z",
     "iopub.status.busy": "2023-08-17T01:44:56.201804Z",
     "iopub.status.idle": "2023-08-17T01:44:56.212571Z",
     "shell.execute_reply": "2023-08-17T01:44:56.211456Z"
    },
    "papermill": {
     "duration": 0.04147,
     "end_time": "2023-08-17T01:44:56.215139",
     "exception": false,
     "start_time": "2023-08-17T01:44:56.173669",
     "status": "completed"
    },
    "tags": []
   },
   "outputs": [
    {
     "data": {
      "text/plain": [
       "0       a\n",
       "1       b\n",
       "2       c\n",
       "3    aaba\n",
       "4    baca\n",
       "5     NaN\n",
       "6    caba\n",
       "7     dog\n",
       "8     cat\n",
       "dtype: object"
      ]
     },
     "execution_count": 4,
     "metadata": {},
     "output_type": "execute_result"
    }
   ],
   "source": [
    "s = pd.Series([\"A\", \"B\", \"C\", \"Aaba\", \"Baca\", np.nan, \"CABA\", \"dog\", \"cat\"])\n",
    "s.str.lower()"
   ]
  },
  {
   "cell_type": "code",
   "execution_count": 5,
   "id": "253c1715",
   "metadata": {
    "execution": {
     "iopub.execute_input": "2023-08-17T01:44:56.272592Z",
     "iopub.status.busy": "2023-08-17T01:44:56.272207Z",
     "iopub.status.idle": "2023-08-17T01:44:56.287346Z",
     "shell.execute_reply": "2023-08-17T01:44:56.286671Z"
    },
    "papermill": {
     "duration": 0.046457,
     "end_time": "2023-08-17T01:44:56.289346",
     "exception": false,
     "start_time": "2023-08-17T01:44:56.242889",
     "status": "completed"
    },
    "tags": []
   },
   "outputs": [
    {
     "data": {
      "text/html": [
       "<div>\n",
       "<style scoped>\n",
       "    .dataframe tbody tr th:only-of-type {\n",
       "        vertical-align: middle;\n",
       "    }\n",
       "\n",
       "    .dataframe tbody tr th {\n",
       "        vertical-align: top;\n",
       "    }\n",
       "\n",
       "    .dataframe thead th {\n",
       "        text-align: right;\n",
       "    }\n",
       "</style>\n",
       "<table border=\"1\" class=\"dataframe\">\n",
       "  <thead>\n",
       "    <tr style=\"text-align: right;\">\n",
       "      <th></th>\n",
       "      <th>0</th>\n",
       "      <th>1</th>\n",
       "      <th>2</th>\n",
       "      <th>3</th>\n",
       "    </tr>\n",
       "  </thead>\n",
       "  <tbody>\n",
       "    <tr>\n",
       "      <th>0</th>\n",
       "      <td>1.963233</td>\n",
       "      <td>-0.020455</td>\n",
       "      <td>0.072505</td>\n",
       "      <td>-0.472111</td>\n",
       "    </tr>\n",
       "    <tr>\n",
       "      <th>1</th>\n",
       "      <td>-2.078143</td>\n",
       "      <td>-0.425982</td>\n",
       "      <td>0.546839</td>\n",
       "      <td>-0.973457</td>\n",
       "    </tr>\n",
       "    <tr>\n",
       "      <th>2</th>\n",
       "      <td>1.213461</td>\n",
       "      <td>0.116433</td>\n",
       "      <td>-1.411566</td>\n",
       "      <td>1.163490</td>\n",
       "    </tr>\n",
       "    <tr>\n",
       "      <th>3</th>\n",
       "      <td>-0.169460</td>\n",
       "      <td>-0.265032</td>\n",
       "      <td>-0.082870</td>\n",
       "      <td>-0.701523</td>\n",
       "    </tr>\n",
       "    <tr>\n",
       "      <th>4</th>\n",
       "      <td>1.284883</td>\n",
       "      <td>-0.455864</td>\n",
       "      <td>1.198683</td>\n",
       "      <td>-2.443380</td>\n",
       "    </tr>\n",
       "    <tr>\n",
       "      <th>5</th>\n",
       "      <td>0.898356</td>\n",
       "      <td>0.369631</td>\n",
       "      <td>0.828029</td>\n",
       "      <td>-1.564168</td>\n",
       "    </tr>\n",
       "    <tr>\n",
       "      <th>6</th>\n",
       "      <td>0.609146</td>\n",
       "      <td>0.221275</td>\n",
       "      <td>-1.205702</td>\n",
       "      <td>0.907072</td>\n",
       "    </tr>\n",
       "    <tr>\n",
       "      <th>7</th>\n",
       "      <td>1.166884</td>\n",
       "      <td>-1.154374</td>\n",
       "      <td>-0.523426</td>\n",
       "      <td>-0.956863</td>\n",
       "    </tr>\n",
       "    <tr>\n",
       "      <th>8</th>\n",
       "      <td>0.689833</td>\n",
       "      <td>-0.158700</td>\n",
       "      <td>-0.260755</td>\n",
       "      <td>0.632181</td>\n",
       "    </tr>\n",
       "    <tr>\n",
       "      <th>9</th>\n",
       "      <td>0.529287</td>\n",
       "      <td>0.458478</td>\n",
       "      <td>0.052005</td>\n",
       "      <td>-1.086264</td>\n",
       "    </tr>\n",
       "  </tbody>\n",
       "</table>\n",
       "</div>"
      ],
      "text/plain": [
       "          0         1         2         3\n",
       "0  1.963233 -0.020455  0.072505 -0.472111\n",
       "1 -2.078143 -0.425982  0.546839 -0.973457\n",
       "2  1.213461  0.116433 -1.411566  1.163490\n",
       "3 -0.169460 -0.265032 -0.082870 -0.701523\n",
       "4  1.284883 -0.455864  1.198683 -2.443380\n",
       "5  0.898356  0.369631  0.828029 -1.564168\n",
       "6  0.609146  0.221275 -1.205702  0.907072\n",
       "7  1.166884 -1.154374 -0.523426 -0.956863\n",
       "8  0.689833 -0.158700 -0.260755  0.632181\n",
       "9  0.529287  0.458478  0.052005 -1.086264"
      ]
     },
     "execution_count": 5,
     "metadata": {},
     "output_type": "execute_result"
    }
   ],
   "source": [
    "df = pd.DataFrame(np.random.randn(10, 4))\n",
    "df"
   ]
  },
  {
   "cell_type": "code",
   "execution_count": 6,
   "id": "10e0e140",
   "metadata": {
    "execution": {
     "iopub.execute_input": "2023-08-17T01:44:56.346394Z",
     "iopub.status.busy": "2023-08-17T01:44:56.345834Z",
     "iopub.status.idle": "2023-08-17T01:44:56.358525Z",
     "shell.execute_reply": "2023-08-17T01:44:56.357463Z"
    },
    "papermill": {
     "duration": 0.043816,
     "end_time": "2023-08-17T01:44:56.360553",
     "exception": false,
     "start_time": "2023-08-17T01:44:56.316737",
     "status": "completed"
    },
    "tags": []
   },
   "outputs": [
    {
     "data": {
      "text/html": [
       "<div>\n",
       "<style scoped>\n",
       "    .dataframe tbody tr th:only-of-type {\n",
       "        vertical-align: middle;\n",
       "    }\n",
       "\n",
       "    .dataframe tbody tr th {\n",
       "        vertical-align: top;\n",
       "    }\n",
       "\n",
       "    .dataframe thead th {\n",
       "        text-align: right;\n",
       "    }\n",
       "</style>\n",
       "<table border=\"1\" class=\"dataframe\">\n",
       "  <thead>\n",
       "    <tr style=\"text-align: right;\">\n",
       "      <th></th>\n",
       "      <th>0</th>\n",
       "      <th>1</th>\n",
       "      <th>2</th>\n",
       "      <th>3</th>\n",
       "    </tr>\n",
       "  </thead>\n",
       "  <tbody>\n",
       "    <tr>\n",
       "      <th>0</th>\n",
       "      <td>1.963233</td>\n",
       "      <td>-0.020455</td>\n",
       "      <td>0.072505</td>\n",
       "      <td>-0.472111</td>\n",
       "    </tr>\n",
       "    <tr>\n",
       "      <th>1</th>\n",
       "      <td>-2.078143</td>\n",
       "      <td>-0.425982</td>\n",
       "      <td>0.546839</td>\n",
       "      <td>-0.973457</td>\n",
       "    </tr>\n",
       "    <tr>\n",
       "      <th>2</th>\n",
       "      <td>1.213461</td>\n",
       "      <td>0.116433</td>\n",
       "      <td>-1.411566</td>\n",
       "      <td>1.163490</td>\n",
       "    </tr>\n",
       "    <tr>\n",
       "      <th>3</th>\n",
       "      <td>-0.169460</td>\n",
       "      <td>-0.265032</td>\n",
       "      <td>-0.082870</td>\n",
       "      <td>-0.701523</td>\n",
       "    </tr>\n",
       "    <tr>\n",
       "      <th>4</th>\n",
       "      <td>1.284883</td>\n",
       "      <td>-0.455864</td>\n",
       "      <td>1.198683</td>\n",
       "      <td>-2.443380</td>\n",
       "    </tr>\n",
       "    <tr>\n",
       "      <th>5</th>\n",
       "      <td>0.898356</td>\n",
       "      <td>0.369631</td>\n",
       "      <td>0.828029</td>\n",
       "      <td>-1.564168</td>\n",
       "    </tr>\n",
       "    <tr>\n",
       "      <th>6</th>\n",
       "      <td>0.609146</td>\n",
       "      <td>0.221275</td>\n",
       "      <td>-1.205702</td>\n",
       "      <td>0.907072</td>\n",
       "    </tr>\n",
       "    <tr>\n",
       "      <th>7</th>\n",
       "      <td>1.166884</td>\n",
       "      <td>-1.154374</td>\n",
       "      <td>-0.523426</td>\n",
       "      <td>-0.956863</td>\n",
       "    </tr>\n",
       "    <tr>\n",
       "      <th>8</th>\n",
       "      <td>0.689833</td>\n",
       "      <td>-0.158700</td>\n",
       "      <td>-0.260755</td>\n",
       "      <td>0.632181</td>\n",
       "    </tr>\n",
       "    <tr>\n",
       "      <th>9</th>\n",
       "      <td>0.529287</td>\n",
       "      <td>0.458478</td>\n",
       "      <td>0.052005</td>\n",
       "      <td>-1.086264</td>\n",
       "    </tr>\n",
       "  </tbody>\n",
       "</table>\n",
       "</div>"
      ],
      "text/plain": [
       "          0         1         2         3\n",
       "0  1.963233 -0.020455  0.072505 -0.472111\n",
       "1 -2.078143 -0.425982  0.546839 -0.973457\n",
       "2  1.213461  0.116433 -1.411566  1.163490\n",
       "3 -0.169460 -0.265032 -0.082870 -0.701523\n",
       "4  1.284883 -0.455864  1.198683 -2.443380\n",
       "5  0.898356  0.369631  0.828029 -1.564168\n",
       "6  0.609146  0.221275 -1.205702  0.907072\n",
       "7  1.166884 -1.154374 -0.523426 -0.956863\n",
       "8  0.689833 -0.158700 -0.260755  0.632181\n",
       "9  0.529287  0.458478  0.052005 -1.086264"
      ]
     },
     "execution_count": 6,
     "metadata": {},
     "output_type": "execute_result"
    }
   ],
   "source": [
    "pieces = [df[:3], df[3:7], df[7:]]\n",
    "pd.concat(pieces)"
   ]
  },
  {
   "cell_type": "code",
   "execution_count": 7,
   "id": "45c0ac3c",
   "metadata": {
    "execution": {
     "iopub.execute_input": "2023-08-17T01:44:56.417370Z",
     "iopub.status.busy": "2023-08-17T01:44:56.416804Z",
     "iopub.status.idle": "2023-08-17T01:44:56.432319Z",
     "shell.execute_reply": "2023-08-17T01:44:56.431553Z"
    },
    "papermill": {
     "duration": 0.046507,
     "end_time": "2023-08-17T01:44:56.434542",
     "exception": false,
     "start_time": "2023-08-17T01:44:56.388035",
     "status": "completed"
    },
    "tags": []
   },
   "outputs": [
    {
     "data": {
      "text/html": [
       "<div>\n",
       "<style scoped>\n",
       "    .dataframe tbody tr th:only-of-type {\n",
       "        vertical-align: middle;\n",
       "    }\n",
       "\n",
       "    .dataframe tbody tr th {\n",
       "        vertical-align: top;\n",
       "    }\n",
       "\n",
       "    .dataframe thead th {\n",
       "        text-align: right;\n",
       "    }\n",
       "</style>\n",
       "<table border=\"1\" class=\"dataframe\">\n",
       "  <thead>\n",
       "    <tr style=\"text-align: right;\">\n",
       "      <th></th>\n",
       "      <th>key</th>\n",
       "      <th>lval</th>\n",
       "    </tr>\n",
       "  </thead>\n",
       "  <tbody>\n",
       "    <tr>\n",
       "      <th>0</th>\n",
       "      <td>foo</td>\n",
       "      <td>1</td>\n",
       "    </tr>\n",
       "    <tr>\n",
       "      <th>1</th>\n",
       "      <td>foo</td>\n",
       "      <td>2</td>\n",
       "    </tr>\n",
       "  </tbody>\n",
       "</table>\n",
       "</div>"
      ],
      "text/plain": [
       "   key  lval\n",
       "0  foo     1\n",
       "1  foo     2"
      ]
     },
     "execution_count": 7,
     "metadata": {},
     "output_type": "execute_result"
    }
   ],
   "source": [
    "left = pd.DataFrame({\"key\": [\"foo\", \"foo\"], \"lval\": [1, 2]})\n",
    "right = pd.DataFrame({\"key\": [\"foo\", \"foo\"], \"rval\": [4, 5]})\n",
    "left"
   ]
  },
  {
   "cell_type": "code",
   "execution_count": 8,
   "id": "faff3cfd",
   "metadata": {
    "execution": {
     "iopub.execute_input": "2023-08-17T01:44:56.491304Z",
     "iopub.status.busy": "2023-08-17T01:44:56.490059Z",
     "iopub.status.idle": "2023-08-17T01:44:56.514683Z",
     "shell.execute_reply": "2023-08-17T01:44:56.513056Z"
    },
    "papermill": {
     "duration": 0.055703,
     "end_time": "2023-08-17T01:44:56.517311",
     "exception": false,
     "start_time": "2023-08-17T01:44:56.461608",
     "status": "completed"
    },
    "tags": []
   },
   "outputs": [
    {
     "data": {
      "text/html": [
       "<div>\n",
       "<style scoped>\n",
       "    .dataframe tbody tr th:only-of-type {\n",
       "        vertical-align: middle;\n",
       "    }\n",
       "\n",
       "    .dataframe tbody tr th {\n",
       "        vertical-align: top;\n",
       "    }\n",
       "\n",
       "    .dataframe thead th {\n",
       "        text-align: right;\n",
       "    }\n",
       "</style>\n",
       "<table border=\"1\" class=\"dataframe\">\n",
       "  <thead>\n",
       "    <tr style=\"text-align: right;\">\n",
       "      <th></th>\n",
       "      <th>key</th>\n",
       "      <th>lval</th>\n",
       "      <th>rval</th>\n",
       "    </tr>\n",
       "  </thead>\n",
       "  <tbody>\n",
       "    <tr>\n",
       "      <th>0</th>\n",
       "      <td>foo</td>\n",
       "      <td>1</td>\n",
       "      <td>4</td>\n",
       "    </tr>\n",
       "    <tr>\n",
       "      <th>1</th>\n",
       "      <td>foo</td>\n",
       "      <td>1</td>\n",
       "      <td>5</td>\n",
       "    </tr>\n",
       "    <tr>\n",
       "      <th>2</th>\n",
       "      <td>foo</td>\n",
       "      <td>2</td>\n",
       "      <td>4</td>\n",
       "    </tr>\n",
       "    <tr>\n",
       "      <th>3</th>\n",
       "      <td>foo</td>\n",
       "      <td>2</td>\n",
       "      <td>5</td>\n",
       "    </tr>\n",
       "  </tbody>\n",
       "</table>\n",
       "</div>"
      ],
      "text/plain": [
       "   key  lval  rval\n",
       "0  foo     1     4\n",
       "1  foo     1     5\n",
       "2  foo     2     4\n",
       "3  foo     2     5"
      ]
     },
     "execution_count": 8,
     "metadata": {},
     "output_type": "execute_result"
    }
   ],
   "source": [
    "pd.merge(left, right, on=\"key\")"
   ]
  },
  {
   "cell_type": "code",
   "execution_count": 9,
   "id": "81be5666",
   "metadata": {
    "execution": {
     "iopub.execute_input": "2023-08-17T01:44:56.574698Z",
     "iopub.status.busy": "2023-08-17T01:44:56.574329Z",
     "iopub.status.idle": "2023-08-17T01:44:56.584367Z",
     "shell.execute_reply": "2023-08-17T01:44:56.583458Z"
    },
    "papermill": {
     "duration": 0.040923,
     "end_time": "2023-08-17T01:44:56.586187",
     "exception": false,
     "start_time": "2023-08-17T01:44:56.545264",
     "status": "completed"
    },
    "tags": []
   },
   "outputs": [
    {
     "data": {
      "text/html": [
       "<div>\n",
       "<style scoped>\n",
       "    .dataframe tbody tr th:only-of-type {\n",
       "        vertical-align: middle;\n",
       "    }\n",
       "\n",
       "    .dataframe tbody tr th {\n",
       "        vertical-align: top;\n",
       "    }\n",
       "\n",
       "    .dataframe thead th {\n",
       "        text-align: right;\n",
       "    }\n",
       "</style>\n",
       "<table border=\"1\" class=\"dataframe\">\n",
       "  <thead>\n",
       "    <tr style=\"text-align: right;\">\n",
       "      <th></th>\n",
       "      <th>key</th>\n",
       "      <th>lval</th>\n",
       "    </tr>\n",
       "  </thead>\n",
       "  <tbody>\n",
       "    <tr>\n",
       "      <th>0</th>\n",
       "      <td>foo</td>\n",
       "      <td>1</td>\n",
       "    </tr>\n",
       "    <tr>\n",
       "      <th>1</th>\n",
       "      <td>bar</td>\n",
       "      <td>2</td>\n",
       "    </tr>\n",
       "  </tbody>\n",
       "</table>\n",
       "</div>"
      ],
      "text/plain": [
       "   key  lval\n",
       "0  foo     1\n",
       "1  bar     2"
      ]
     },
     "execution_count": 9,
     "metadata": {},
     "output_type": "execute_result"
    }
   ],
   "source": [
    "left = pd.DataFrame({\"key\": [\"foo\", \"bar\"], \"lval\": [1, 2]})\n",
    "right = pd.DataFrame({\"key\": [\"foo\", \"bar\"], \"rval\": [4, 5]})\n",
    "left"
   ]
  },
  {
   "cell_type": "code",
   "execution_count": 10,
   "id": "404c8c23",
   "metadata": {
    "execution": {
     "iopub.execute_input": "2023-08-17T01:44:56.643147Z",
     "iopub.status.busy": "2023-08-17T01:44:56.642523Z",
     "iopub.status.idle": "2023-08-17T01:44:56.653329Z",
     "shell.execute_reply": "2023-08-17T01:44:56.651756Z"
    },
    "papermill": {
     "duration": 0.041629,
     "end_time": "2023-08-17T01:44:56.655322",
     "exception": false,
     "start_time": "2023-08-17T01:44:56.613693",
     "status": "completed"
    },
    "tags": []
   },
   "outputs": [
    {
     "data": {
      "text/html": [
       "<div>\n",
       "<style scoped>\n",
       "    .dataframe tbody tr th:only-of-type {\n",
       "        vertical-align: middle;\n",
       "    }\n",
       "\n",
       "    .dataframe tbody tr th {\n",
       "        vertical-align: top;\n",
       "    }\n",
       "\n",
       "    .dataframe thead th {\n",
       "        text-align: right;\n",
       "    }\n",
       "</style>\n",
       "<table border=\"1\" class=\"dataframe\">\n",
       "  <thead>\n",
       "    <tr style=\"text-align: right;\">\n",
       "      <th></th>\n",
       "      <th>key</th>\n",
       "      <th>lval</th>\n",
       "      <th>rval</th>\n",
       "    </tr>\n",
       "  </thead>\n",
       "  <tbody>\n",
       "    <tr>\n",
       "      <th>0</th>\n",
       "      <td>foo</td>\n",
       "      <td>1</td>\n",
       "      <td>4</td>\n",
       "    </tr>\n",
       "    <tr>\n",
       "      <th>1</th>\n",
       "      <td>bar</td>\n",
       "      <td>2</td>\n",
       "      <td>5</td>\n",
       "    </tr>\n",
       "  </tbody>\n",
       "</table>\n",
       "</div>"
      ],
      "text/plain": [
       "   key  lval  rval\n",
       "0  foo     1     4\n",
       "1  bar     2     5"
      ]
     },
     "execution_count": 10,
     "metadata": {},
     "output_type": "execute_result"
    }
   ],
   "source": [
    "pd.merge(left, right, on=\"key\")"
   ]
  },
  {
   "cell_type": "code",
   "execution_count": 11,
   "id": "022327d6",
   "metadata": {
    "execution": {
     "iopub.execute_input": "2023-08-17T01:44:56.711189Z",
     "iopub.status.busy": "2023-08-17T01:44:56.710833Z",
     "iopub.status.idle": "2023-08-17T01:44:56.721676Z",
     "shell.execute_reply": "2023-08-17T01:44:56.720985Z"
    },
    "papermill": {
     "duration": 0.040585,
     "end_time": "2023-08-17T01:44:56.723200",
     "exception": false,
     "start_time": "2023-08-17T01:44:56.682615",
     "status": "completed"
    },
    "tags": []
   },
   "outputs": [
    {
     "data": {
      "text/html": [
       "<div>\n",
       "<style scoped>\n",
       "    .dataframe tbody tr th:only-of-type {\n",
       "        vertical-align: middle;\n",
       "    }\n",
       "\n",
       "    .dataframe tbody tr th {\n",
       "        vertical-align: top;\n",
       "    }\n",
       "\n",
       "    .dataframe thead th {\n",
       "        text-align: right;\n",
       "    }\n",
       "</style>\n",
       "<table border=\"1\" class=\"dataframe\">\n",
       "  <thead>\n",
       "    <tr style=\"text-align: right;\">\n",
       "      <th></th>\n",
       "      <th>A</th>\n",
       "      <th>B</th>\n",
       "      <th>C</th>\n",
       "      <th>D</th>\n",
       "    </tr>\n",
       "  </thead>\n",
       "  <tbody>\n",
       "    <tr>\n",
       "      <th>0</th>\n",
       "      <td>foo</td>\n",
       "      <td>one</td>\n",
       "      <td>-1.114576</td>\n",
       "      <td>1.398065</td>\n",
       "    </tr>\n",
       "    <tr>\n",
       "      <th>1</th>\n",
       "      <td>bar</td>\n",
       "      <td>one</td>\n",
       "      <td>0.260293</td>\n",
       "      <td>-0.564976</td>\n",
       "    </tr>\n",
       "    <tr>\n",
       "      <th>2</th>\n",
       "      <td>foo</td>\n",
       "      <td>two</td>\n",
       "      <td>-1.916602</td>\n",
       "      <td>0.169961</td>\n",
       "    </tr>\n",
       "    <tr>\n",
       "      <th>3</th>\n",
       "      <td>bar</td>\n",
       "      <td>three</td>\n",
       "      <td>-0.836260</td>\n",
       "      <td>-0.574143</td>\n",
       "    </tr>\n",
       "    <tr>\n",
       "      <th>4</th>\n",
       "      <td>foo</td>\n",
       "      <td>two</td>\n",
       "      <td>0.367889</td>\n",
       "      <td>-0.601838</td>\n",
       "    </tr>\n",
       "    <tr>\n",
       "      <th>5</th>\n",
       "      <td>bar</td>\n",
       "      <td>two</td>\n",
       "      <td>-0.461066</td>\n",
       "      <td>-0.001635</td>\n",
       "    </tr>\n",
       "    <tr>\n",
       "      <th>6</th>\n",
       "      <td>foo</td>\n",
       "      <td>one</td>\n",
       "      <td>0.370763</td>\n",
       "      <td>0.220465</td>\n",
       "    </tr>\n",
       "    <tr>\n",
       "      <th>7</th>\n",
       "      <td>foo</td>\n",
       "      <td>three</td>\n",
       "      <td>-0.356233</td>\n",
       "      <td>-1.446432</td>\n",
       "    </tr>\n",
       "  </tbody>\n",
       "</table>\n",
       "</div>"
      ],
      "text/plain": [
       "     A      B         C         D\n",
       "0  foo    one -1.114576  1.398065\n",
       "1  bar    one  0.260293 -0.564976\n",
       "2  foo    two -1.916602  0.169961\n",
       "3  bar  three -0.836260 -0.574143\n",
       "4  foo    two  0.367889 -0.601838\n",
       "5  bar    two -0.461066 -0.001635\n",
       "6  foo    one  0.370763  0.220465\n",
       "7  foo  three -0.356233 -1.446432"
      ]
     },
     "execution_count": 11,
     "metadata": {},
     "output_type": "execute_result"
    }
   ],
   "source": [
    "df = pd.DataFrame({\n",
    "    \n",
    "\"A\": [\"foo\", \"bar\", \"foo\", \"bar\", \"foo\", \"bar\", \"foo\", \"foo\"],\n",
    "\"B\": [\"one\", \"one\", \"two\", \"three\", \"two\", \"two\", \"one\", \"three\"],\n",
    "\"C\": np.random.randn(8),\n",
    "\"D\": np.random.randn(8)\n",
    "    \n",
    "     })\n",
    "df"
   ]
  },
  {
   "cell_type": "code",
   "execution_count": 12,
   "id": "ce865100",
   "metadata": {
    "execution": {
     "iopub.execute_input": "2023-08-17T01:44:56.780458Z",
     "iopub.status.busy": "2023-08-17T01:44:56.779858Z",
     "iopub.status.idle": "2023-08-17T01:44:56.795229Z",
     "shell.execute_reply": "2023-08-17T01:44:56.793599Z"
    },
    "papermill": {
     "duration": 0.045907,
     "end_time": "2023-08-17T01:44:56.797029",
     "exception": false,
     "start_time": "2023-08-17T01:44:56.751122",
     "status": "completed"
    },
    "tags": []
   },
   "outputs": [
    {
     "name": "stderr",
     "output_type": "stream",
     "text": [
      "/tmp/ipykernel_20/10288373.py:1: FutureWarning: The default value of numeric_only in DataFrameGroupBy.sum is deprecated. In a future version, numeric_only will default to False. Either specify numeric_only or select only columns which should be valid for the function.\n",
      "  df.groupby(\"A\").sum()\n"
     ]
    },
    {
     "data": {
      "text/html": [
       "<div>\n",
       "<style scoped>\n",
       "    .dataframe tbody tr th:only-of-type {\n",
       "        vertical-align: middle;\n",
       "    }\n",
       "\n",
       "    .dataframe tbody tr th {\n",
       "        vertical-align: top;\n",
       "    }\n",
       "\n",
       "    .dataframe thead th {\n",
       "        text-align: right;\n",
       "    }\n",
       "</style>\n",
       "<table border=\"1\" class=\"dataframe\">\n",
       "  <thead>\n",
       "    <tr style=\"text-align: right;\">\n",
       "      <th></th>\n",
       "      <th>C</th>\n",
       "      <th>D</th>\n",
       "    </tr>\n",
       "    <tr>\n",
       "      <th>A</th>\n",
       "      <th></th>\n",
       "      <th></th>\n",
       "    </tr>\n",
       "  </thead>\n",
       "  <tbody>\n",
       "    <tr>\n",
       "      <th>bar</th>\n",
       "      <td>-1.037033</td>\n",
       "      <td>-1.140754</td>\n",
       "    </tr>\n",
       "    <tr>\n",
       "      <th>foo</th>\n",
       "      <td>-2.648759</td>\n",
       "      <td>-0.259779</td>\n",
       "    </tr>\n",
       "  </tbody>\n",
       "</table>\n",
       "</div>"
      ],
      "text/plain": [
       "            C         D\n",
       "A                      \n",
       "bar -1.037033 -1.140754\n",
       "foo -2.648759 -0.259779"
      ]
     },
     "execution_count": 12,
     "metadata": {},
     "output_type": "execute_result"
    }
   ],
   "source": [
    "df.groupby(\"A\").sum()"
   ]
  },
  {
   "cell_type": "code",
   "execution_count": 13,
   "id": "a871ed54",
   "metadata": {
    "execution": {
     "iopub.execute_input": "2023-08-17T01:44:56.854051Z",
     "iopub.status.busy": "2023-08-17T01:44:56.853680Z",
     "iopub.status.idle": "2023-08-17T01:44:56.869259Z",
     "shell.execute_reply": "2023-08-17T01:44:56.867549Z"
    },
    "papermill": {
     "duration": 0.046867,
     "end_time": "2023-08-17T01:44:56.871652",
     "exception": false,
     "start_time": "2023-08-17T01:44:56.824785",
     "status": "completed"
    },
    "tags": []
   },
   "outputs": [
    {
     "data": {
      "text/html": [
       "<div>\n",
       "<style scoped>\n",
       "    .dataframe tbody tr th:only-of-type {\n",
       "        vertical-align: middle;\n",
       "    }\n",
       "\n",
       "    .dataframe tbody tr th {\n",
       "        vertical-align: top;\n",
       "    }\n",
       "\n",
       "    .dataframe thead th {\n",
       "        text-align: right;\n",
       "    }\n",
       "</style>\n",
       "<table border=\"1\" class=\"dataframe\">\n",
       "  <thead>\n",
       "    <tr style=\"text-align: right;\">\n",
       "      <th></th>\n",
       "      <th></th>\n",
       "      <th>C</th>\n",
       "      <th>D</th>\n",
       "    </tr>\n",
       "    <tr>\n",
       "      <th>A</th>\n",
       "      <th>B</th>\n",
       "      <th></th>\n",
       "      <th></th>\n",
       "    </tr>\n",
       "  </thead>\n",
       "  <tbody>\n",
       "    <tr>\n",
       "      <th rowspan=\"3\" valign=\"top\">bar</th>\n",
       "      <th>one</th>\n",
       "      <td>0.260293</td>\n",
       "      <td>-0.564976</td>\n",
       "    </tr>\n",
       "    <tr>\n",
       "      <th>three</th>\n",
       "      <td>-0.836260</td>\n",
       "      <td>-0.574143</td>\n",
       "    </tr>\n",
       "    <tr>\n",
       "      <th>two</th>\n",
       "      <td>-0.461066</td>\n",
       "      <td>-0.001635</td>\n",
       "    </tr>\n",
       "    <tr>\n",
       "      <th rowspan=\"3\" valign=\"top\">foo</th>\n",
       "      <th>one</th>\n",
       "      <td>-0.743814</td>\n",
       "      <td>1.618530</td>\n",
       "    </tr>\n",
       "    <tr>\n",
       "      <th>three</th>\n",
       "      <td>-0.356233</td>\n",
       "      <td>-1.446432</td>\n",
       "    </tr>\n",
       "    <tr>\n",
       "      <th>two</th>\n",
       "      <td>-1.548713</td>\n",
       "      <td>-0.431877</td>\n",
       "    </tr>\n",
       "  </tbody>\n",
       "</table>\n",
       "</div>"
      ],
      "text/plain": [
       "                  C         D\n",
       "A   B                        \n",
       "bar one    0.260293 -0.564976\n",
       "    three -0.836260 -0.574143\n",
       "    two   -0.461066 -0.001635\n",
       "foo one   -0.743814  1.618530\n",
       "    three -0.356233 -1.446432\n",
       "    two   -1.548713 -0.431877"
      ]
     },
     "execution_count": 13,
     "metadata": {},
     "output_type": "execute_result"
    }
   ],
   "source": [
    "df.groupby([\"A\", \"B\"]).sum()"
   ]
  },
  {
   "cell_type": "code",
   "execution_count": 14,
   "id": "287702a7",
   "metadata": {
    "execution": {
     "iopub.execute_input": "2023-08-17T01:44:56.935926Z",
     "iopub.status.busy": "2023-08-17T01:44:56.935299Z",
     "iopub.status.idle": "2023-08-17T01:44:56.952764Z",
     "shell.execute_reply": "2023-08-17T01:44:56.951145Z"
    },
    "papermill": {
     "duration": 0.053652,
     "end_time": "2023-08-17T01:44:56.955297",
     "exception": false,
     "start_time": "2023-08-17T01:44:56.901645",
     "status": "completed"
    },
    "tags": []
   },
   "outputs": [
    {
     "data": {
      "text/html": [
       "<div>\n",
       "<style scoped>\n",
       "    .dataframe tbody tr th:only-of-type {\n",
       "        vertical-align: middle;\n",
       "    }\n",
       "\n",
       "    .dataframe tbody tr th {\n",
       "        vertical-align: top;\n",
       "    }\n",
       "\n",
       "    .dataframe thead th {\n",
       "        text-align: right;\n",
       "    }\n",
       "</style>\n",
       "<table border=\"1\" class=\"dataframe\">\n",
       "  <thead>\n",
       "    <tr style=\"text-align: right;\">\n",
       "      <th></th>\n",
       "      <th></th>\n",
       "      <th>A</th>\n",
       "      <th>B</th>\n",
       "    </tr>\n",
       "    <tr>\n",
       "      <th>first</th>\n",
       "      <th>second</th>\n",
       "      <th></th>\n",
       "      <th></th>\n",
       "    </tr>\n",
       "  </thead>\n",
       "  <tbody>\n",
       "    <tr>\n",
       "      <th rowspan=\"2\" valign=\"top\">bar</th>\n",
       "      <th>one</th>\n",
       "      <td>1.604006</td>\n",
       "      <td>0.350199</td>\n",
       "    </tr>\n",
       "    <tr>\n",
       "      <th>two</th>\n",
       "      <td>-0.132925</td>\n",
       "      <td>-0.573798</td>\n",
       "    </tr>\n",
       "    <tr>\n",
       "      <th rowspan=\"2\" valign=\"top\">baz</th>\n",
       "      <th>one</th>\n",
       "      <td>0.424103</td>\n",
       "      <td>-0.606031</td>\n",
       "    </tr>\n",
       "    <tr>\n",
       "      <th>two</th>\n",
       "      <td>1.498953</td>\n",
       "      <td>-2.040720</td>\n",
       "    </tr>\n",
       "  </tbody>\n",
       "</table>\n",
       "</div>"
      ],
      "text/plain": [
       "                     A         B\n",
       "first second                    \n",
       "bar   one     1.604006  0.350199\n",
       "      two    -0.132925 -0.573798\n",
       "baz   one     0.424103 -0.606031\n",
       "      two     1.498953 -2.040720"
      ]
     },
     "execution_count": 14,
     "metadata": {},
     "output_type": "execute_result"
    }
   ],
   "source": [
    "tuples = list(zip(*[\n",
    "[\"bar\", \"bar\", \"baz\", \"baz\", \"foo\", \"foo\", \"qux\", \"qux\"],\n",
    "[\"one\", \"two\", \"one\", \"two\", \"one\", \"two\", \"one\", \"two\"]\n",
    "]))\n",
    "\n",
    "index = pd.MultiIndex.from_tuples(tuples, names=[\"first\", \"second\"])\n",
    "df = pd.DataFrame(np.random.randn(8, 2), index=index, columns=[\"A\", \"B\"])\n",
    "df2 = df[:4]\n",
    "df2"
   ]
  },
  {
   "cell_type": "code",
   "execution_count": 15,
   "id": "20d776c9",
   "metadata": {
    "execution": {
     "iopub.execute_input": "2023-08-17T01:44:57.029797Z",
     "iopub.status.busy": "2023-08-17T01:44:57.028803Z",
     "iopub.status.idle": "2023-08-17T01:44:57.039359Z",
     "shell.execute_reply": "2023-08-17T01:44:57.038547Z"
    },
    "papermill": {
     "duration": 0.049218,
     "end_time": "2023-08-17T01:44:57.041210",
     "exception": false,
     "start_time": "2023-08-17T01:44:56.991992",
     "status": "completed"
    },
    "tags": []
   },
   "outputs": [
    {
     "data": {
      "text/plain": [
       "first  second   \n",
       "bar    one     A    1.604006\n",
       "               B    0.350199\n",
       "       two     A   -0.132925\n",
       "               B   -0.573798\n",
       "baz    one     A    0.424103\n",
       "               B   -0.606031\n",
       "       two     A    1.498953\n",
       "               B   -2.040720\n",
       "dtype: float64"
      ]
     },
     "execution_count": 15,
     "metadata": {},
     "output_type": "execute_result"
    }
   ],
   "source": [
    "stacked = df2.stack()\n",
    "stacked"
   ]
  },
  {
   "cell_type": "code",
   "execution_count": 16,
   "id": "ec0a4721",
   "metadata": {
    "execution": {
     "iopub.execute_input": "2023-08-17T01:44:57.106870Z",
     "iopub.status.busy": "2023-08-17T01:44:57.106267Z",
     "iopub.status.idle": "2023-08-17T01:44:57.121123Z",
     "shell.execute_reply": "2023-08-17T01:44:57.119897Z"
    },
    "papermill": {
     "duration": 0.050791,
     "end_time": "2023-08-17T01:44:57.123044",
     "exception": false,
     "start_time": "2023-08-17T01:44:57.072253",
     "status": "completed"
    },
    "tags": []
   },
   "outputs": [
    {
     "data": {
      "text/html": [
       "<div>\n",
       "<style scoped>\n",
       "    .dataframe tbody tr th:only-of-type {\n",
       "        vertical-align: middle;\n",
       "    }\n",
       "\n",
       "    .dataframe tbody tr th {\n",
       "        vertical-align: top;\n",
       "    }\n",
       "\n",
       "    .dataframe thead th {\n",
       "        text-align: right;\n",
       "    }\n",
       "</style>\n",
       "<table border=\"1\" class=\"dataframe\">\n",
       "  <thead>\n",
       "    <tr style=\"text-align: right;\">\n",
       "      <th></th>\n",
       "      <th></th>\n",
       "      <th>A</th>\n",
       "      <th>B</th>\n",
       "    </tr>\n",
       "    <tr>\n",
       "      <th>first</th>\n",
       "      <th>second</th>\n",
       "      <th></th>\n",
       "      <th></th>\n",
       "    </tr>\n",
       "  </thead>\n",
       "  <tbody>\n",
       "    <tr>\n",
       "      <th rowspan=\"2\" valign=\"top\">bar</th>\n",
       "      <th>one</th>\n",
       "      <td>1.604006</td>\n",
       "      <td>0.350199</td>\n",
       "    </tr>\n",
       "    <tr>\n",
       "      <th>two</th>\n",
       "      <td>-0.132925</td>\n",
       "      <td>-0.573798</td>\n",
       "    </tr>\n",
       "    <tr>\n",
       "      <th rowspan=\"2\" valign=\"top\">baz</th>\n",
       "      <th>one</th>\n",
       "      <td>0.424103</td>\n",
       "      <td>-0.606031</td>\n",
       "    </tr>\n",
       "    <tr>\n",
       "      <th>two</th>\n",
       "      <td>1.498953</td>\n",
       "      <td>-2.040720</td>\n",
       "    </tr>\n",
       "  </tbody>\n",
       "</table>\n",
       "</div>"
      ],
      "text/plain": [
       "                     A         B\n",
       "first second                    \n",
       "bar   one     1.604006  0.350199\n",
       "      two    -0.132925 -0.573798\n",
       "baz   one     0.424103 -0.606031\n",
       "      two     1.498953 -2.040720"
      ]
     },
     "execution_count": 16,
     "metadata": {},
     "output_type": "execute_result"
    }
   ],
   "source": [
    "stacked.unstack()"
   ]
  },
  {
   "cell_type": "code",
   "execution_count": 17,
   "id": "4ac7f823",
   "metadata": {
    "execution": {
     "iopub.execute_input": "2023-08-17T01:44:57.186819Z",
     "iopub.status.busy": "2023-08-17T01:44:57.185880Z",
     "iopub.status.idle": "2023-08-17T01:44:57.197428Z",
     "shell.execute_reply": "2023-08-17T01:44:57.196559Z"
    },
    "papermill": {
     "duration": 0.044128,
     "end_time": "2023-08-17T01:44:57.199303",
     "exception": false,
     "start_time": "2023-08-17T01:44:57.155175",
     "status": "completed"
    },
    "tags": []
   },
   "outputs": [
    {
     "data": {
      "text/html": [
       "<div>\n",
       "<style scoped>\n",
       "    .dataframe tbody tr th:only-of-type {\n",
       "        vertical-align: middle;\n",
       "    }\n",
       "\n",
       "    .dataframe tbody tr th {\n",
       "        vertical-align: top;\n",
       "    }\n",
       "\n",
       "    .dataframe thead th {\n",
       "        text-align: right;\n",
       "    }\n",
       "</style>\n",
       "<table border=\"1\" class=\"dataframe\">\n",
       "  <thead>\n",
       "    <tr style=\"text-align: right;\">\n",
       "      <th></th>\n",
       "      <th>second</th>\n",
       "      <th>one</th>\n",
       "      <th>two</th>\n",
       "    </tr>\n",
       "    <tr>\n",
       "      <th>first</th>\n",
       "      <th></th>\n",
       "      <th></th>\n",
       "      <th></th>\n",
       "    </tr>\n",
       "  </thead>\n",
       "  <tbody>\n",
       "    <tr>\n",
       "      <th rowspan=\"2\" valign=\"top\">bar</th>\n",
       "      <th>A</th>\n",
       "      <td>1.604006</td>\n",
       "      <td>-0.132925</td>\n",
       "    </tr>\n",
       "    <tr>\n",
       "      <th>B</th>\n",
       "      <td>0.350199</td>\n",
       "      <td>-0.573798</td>\n",
       "    </tr>\n",
       "    <tr>\n",
       "      <th rowspan=\"2\" valign=\"top\">baz</th>\n",
       "      <th>A</th>\n",
       "      <td>0.424103</td>\n",
       "      <td>1.498953</td>\n",
       "    </tr>\n",
       "    <tr>\n",
       "      <th>B</th>\n",
       "      <td>-0.606031</td>\n",
       "      <td>-2.040720</td>\n",
       "    </tr>\n",
       "  </tbody>\n",
       "</table>\n",
       "</div>"
      ],
      "text/plain": [
       "second        one       two\n",
       "first                      \n",
       "bar   A  1.604006 -0.132925\n",
       "      B  0.350199 -0.573798\n",
       "baz   A  0.424103  1.498953\n",
       "      B -0.606031 -2.040720"
      ]
     },
     "execution_count": 17,
     "metadata": {},
     "output_type": "execute_result"
    }
   ],
   "source": [
    "stacked.unstack(1)"
   ]
  },
  {
   "cell_type": "code",
   "execution_count": 18,
   "id": "fcfe7156",
   "metadata": {
    "execution": {
     "iopub.execute_input": "2023-08-17T01:44:57.263990Z",
     "iopub.status.busy": "2023-08-17T01:44:57.263625Z",
     "iopub.status.idle": "2023-08-17T01:44:57.279310Z",
     "shell.execute_reply": "2023-08-17T01:44:57.278558Z"
    },
    "papermill": {
     "duration": 0.051263,
     "end_time": "2023-08-17T01:44:57.281183",
     "exception": false,
     "start_time": "2023-08-17T01:44:57.229920",
     "status": "completed"
    },
    "tags": []
   },
   "outputs": [
    {
     "data": {
      "text/html": [
       "<div>\n",
       "<style scoped>\n",
       "    .dataframe tbody tr th:only-of-type {\n",
       "        vertical-align: middle;\n",
       "    }\n",
       "\n",
       "    .dataframe tbody tr th {\n",
       "        vertical-align: top;\n",
       "    }\n",
       "\n",
       "    .dataframe thead th {\n",
       "        text-align: right;\n",
       "    }\n",
       "</style>\n",
       "<table border=\"1\" class=\"dataframe\">\n",
       "  <thead>\n",
       "    <tr style=\"text-align: right;\">\n",
       "      <th></th>\n",
       "      <th>A</th>\n",
       "      <th>B</th>\n",
       "      <th>C</th>\n",
       "      <th>D</th>\n",
       "      <th>E</th>\n",
       "    </tr>\n",
       "  </thead>\n",
       "  <tbody>\n",
       "    <tr>\n",
       "      <th>0</th>\n",
       "      <td>one</td>\n",
       "      <td>A</td>\n",
       "      <td>foo</td>\n",
       "      <td>1.658254</td>\n",
       "      <td>0.766838</td>\n",
       "    </tr>\n",
       "    <tr>\n",
       "      <th>1</th>\n",
       "      <td>one</td>\n",
       "      <td>B</td>\n",
       "      <td>foo</td>\n",
       "      <td>0.085589</td>\n",
       "      <td>-0.886710</td>\n",
       "    </tr>\n",
       "    <tr>\n",
       "      <th>2</th>\n",
       "      <td>two</td>\n",
       "      <td>C</td>\n",
       "      <td>foo</td>\n",
       "      <td>-0.368029</td>\n",
       "      <td>-0.435638</td>\n",
       "    </tr>\n",
       "    <tr>\n",
       "      <th>3</th>\n",
       "      <td>three</td>\n",
       "      <td>A</td>\n",
       "      <td>bar</td>\n",
       "      <td>-0.614719</td>\n",
       "      <td>0.311520</td>\n",
       "    </tr>\n",
       "    <tr>\n",
       "      <th>4</th>\n",
       "      <td>one</td>\n",
       "      <td>B</td>\n",
       "      <td>bar</td>\n",
       "      <td>-0.216088</td>\n",
       "      <td>1.156079</td>\n",
       "    </tr>\n",
       "    <tr>\n",
       "      <th>5</th>\n",
       "      <td>one</td>\n",
       "      <td>C</td>\n",
       "      <td>bar</td>\n",
       "      <td>0.128977</td>\n",
       "      <td>-1.061620</td>\n",
       "    </tr>\n",
       "    <tr>\n",
       "      <th>6</th>\n",
       "      <td>two</td>\n",
       "      <td>A</td>\n",
       "      <td>foo</td>\n",
       "      <td>0.401816</td>\n",
       "      <td>0.342395</td>\n",
       "    </tr>\n",
       "    <tr>\n",
       "      <th>7</th>\n",
       "      <td>three</td>\n",
       "      <td>B</td>\n",
       "      <td>foo</td>\n",
       "      <td>0.860593</td>\n",
       "      <td>0.653995</td>\n",
       "    </tr>\n",
       "    <tr>\n",
       "      <th>8</th>\n",
       "      <td>one</td>\n",
       "      <td>C</td>\n",
       "      <td>foo</td>\n",
       "      <td>1.301872</td>\n",
       "      <td>1.011063</td>\n",
       "    </tr>\n",
       "    <tr>\n",
       "      <th>9</th>\n",
       "      <td>one</td>\n",
       "      <td>A</td>\n",
       "      <td>bar</td>\n",
       "      <td>0.811983</td>\n",
       "      <td>-0.368802</td>\n",
       "    </tr>\n",
       "    <tr>\n",
       "      <th>10</th>\n",
       "      <td>two</td>\n",
       "      <td>B</td>\n",
       "      <td>bar</td>\n",
       "      <td>-0.324116</td>\n",
       "      <td>1.309359</td>\n",
       "    </tr>\n",
       "    <tr>\n",
       "      <th>11</th>\n",
       "      <td>three</td>\n",
       "      <td>C</td>\n",
       "      <td>bar</td>\n",
       "      <td>-0.401084</td>\n",
       "      <td>-0.667834</td>\n",
       "    </tr>\n",
       "  </tbody>\n",
       "</table>\n",
       "</div>"
      ],
      "text/plain": [
       "        A  B    C         D         E\n",
       "0     one  A  foo  1.658254  0.766838\n",
       "1     one  B  foo  0.085589 -0.886710\n",
       "2     two  C  foo -0.368029 -0.435638\n",
       "3   three  A  bar -0.614719  0.311520\n",
       "4     one  B  bar -0.216088  1.156079\n",
       "5     one  C  bar  0.128977 -1.061620\n",
       "6     two  A  foo  0.401816  0.342395\n",
       "7   three  B  foo  0.860593  0.653995\n",
       "8     one  C  foo  1.301872  1.011063\n",
       "9     one  A  bar  0.811983 -0.368802\n",
       "10    two  B  bar -0.324116  1.309359\n",
       "11  three  C  bar -0.401084 -0.667834"
      ]
     },
     "execution_count": 18,
     "metadata": {},
     "output_type": "execute_result"
    }
   ],
   "source": [
    "df = pd.DataFrame({\n",
    "    \n",
    "\"A\": [\"one\", \"one\", \"two\", \"three\"] * 3,\n",
    "\"B\": [\"A\", \"B\", \"C\"] * 4,\n",
    "\"C\": [\"foo\", \"foo\", \"foo\", \"bar\", \"bar\", \"bar\"] * 2,\n",
    "\"D\": np.random.randn(12),\n",
    "\"E\": np.random.randn(12)\n",
    "    \n",
    "})\n",
    "df"
   ]
  },
  {
   "cell_type": "code",
   "execution_count": 19,
   "id": "8b7ee7a9",
   "metadata": {
    "execution": {
     "iopub.execute_input": "2023-08-17T01:44:57.346175Z",
     "iopub.status.busy": "2023-08-17T01:44:57.345524Z",
     "iopub.status.idle": "2023-08-17T01:44:57.367214Z",
     "shell.execute_reply": "2023-08-17T01:44:57.366111Z"
    },
    "papermill": {
     "duration": 0.054959,
     "end_time": "2023-08-17T01:44:57.368933",
     "exception": false,
     "start_time": "2023-08-17T01:44:57.313974",
     "status": "completed"
    },
    "tags": []
   },
   "outputs": [
    {
     "data": {
      "text/html": [
       "<div>\n",
       "<style scoped>\n",
       "    .dataframe tbody tr th:only-of-type {\n",
       "        vertical-align: middle;\n",
       "    }\n",
       "\n",
       "    .dataframe tbody tr th {\n",
       "        vertical-align: top;\n",
       "    }\n",
       "\n",
       "    .dataframe thead th {\n",
       "        text-align: right;\n",
       "    }\n",
       "</style>\n",
       "<table border=\"1\" class=\"dataframe\">\n",
       "  <thead>\n",
       "    <tr style=\"text-align: right;\">\n",
       "      <th></th>\n",
       "      <th>C</th>\n",
       "      <th>bar</th>\n",
       "      <th>foo</th>\n",
       "    </tr>\n",
       "    <tr>\n",
       "      <th>A</th>\n",
       "      <th>B</th>\n",
       "      <th></th>\n",
       "      <th></th>\n",
       "    </tr>\n",
       "  </thead>\n",
       "  <tbody>\n",
       "    <tr>\n",
       "      <th rowspan=\"3\" valign=\"top\">one</th>\n",
       "      <th>A</th>\n",
       "      <td>0.811983</td>\n",
       "      <td>1.658254</td>\n",
       "    </tr>\n",
       "    <tr>\n",
       "      <th>B</th>\n",
       "      <td>-0.216088</td>\n",
       "      <td>0.085589</td>\n",
       "    </tr>\n",
       "    <tr>\n",
       "      <th>C</th>\n",
       "      <td>0.128977</td>\n",
       "      <td>1.301872</td>\n",
       "    </tr>\n",
       "    <tr>\n",
       "      <th rowspan=\"3\" valign=\"top\">three</th>\n",
       "      <th>A</th>\n",
       "      <td>-0.614719</td>\n",
       "      <td>NaN</td>\n",
       "    </tr>\n",
       "    <tr>\n",
       "      <th>B</th>\n",
       "      <td>NaN</td>\n",
       "      <td>0.860593</td>\n",
       "    </tr>\n",
       "    <tr>\n",
       "      <th>C</th>\n",
       "      <td>-0.401084</td>\n",
       "      <td>NaN</td>\n",
       "    </tr>\n",
       "    <tr>\n",
       "      <th rowspan=\"3\" valign=\"top\">two</th>\n",
       "      <th>A</th>\n",
       "      <td>NaN</td>\n",
       "      <td>0.401816</td>\n",
       "    </tr>\n",
       "    <tr>\n",
       "      <th>B</th>\n",
       "      <td>-0.324116</td>\n",
       "      <td>NaN</td>\n",
       "    </tr>\n",
       "    <tr>\n",
       "      <th>C</th>\n",
       "      <td>NaN</td>\n",
       "      <td>-0.368029</td>\n",
       "    </tr>\n",
       "  </tbody>\n",
       "</table>\n",
       "</div>"
      ],
      "text/plain": [
       "C             bar       foo\n",
       "A     B                    \n",
       "one   A  0.811983  1.658254\n",
       "      B -0.216088  0.085589\n",
       "      C  0.128977  1.301872\n",
       "three A -0.614719       NaN\n",
       "      B       NaN  0.860593\n",
       "      C -0.401084       NaN\n",
       "two   A       NaN  0.401816\n",
       "      B -0.324116       NaN\n",
       "      C       NaN -0.368029"
      ]
     },
     "execution_count": 19,
     "metadata": {},
     "output_type": "execute_result"
    }
   ],
   "source": [
    "pd.pivot_table(df, values=\"D\", index=[\"A\", \"B\"], columns=[\"C\"])"
   ]
  },
  {
   "cell_type": "code",
   "execution_count": 20,
   "id": "272f7f3a",
   "metadata": {
    "execution": {
     "iopub.execute_input": "2023-08-17T01:44:57.429672Z",
     "iopub.status.busy": "2023-08-17T01:44:57.429000Z",
     "iopub.status.idle": "2023-08-17T01:44:57.446548Z",
     "shell.execute_reply": "2023-08-17T01:44:57.445807Z"
    },
    "papermill": {
     "duration": 0.050083,
     "end_time": "2023-08-17T01:44:57.448543",
     "exception": false,
     "start_time": "2023-08-17T01:44:57.398460",
     "status": "completed"
    },
    "tags": []
   },
   "outputs": [
    {
     "data": {
      "text/plain": [
       "2012-01-01    26749\n",
       "Freq: 5T, dtype: int64"
      ]
     },
     "execution_count": 20,
     "metadata": {},
     "output_type": "execute_result"
    }
   ],
   "source": [
    "rng = pd.date_range(\"1/1/2012\", periods=100, freq=\"S\")\n",
    "ts = pd.Series(np.random.randint(0, 500, len(rng)), index=rng)\n",
    "ts.resample(\"5Min\").sum()"
   ]
  },
  {
   "cell_type": "code",
   "execution_count": 21,
   "id": "254921cd",
   "metadata": {
    "execution": {
     "iopub.execute_input": "2023-08-17T01:44:57.510051Z",
     "iopub.status.busy": "2023-08-17T01:44:57.509119Z",
     "iopub.status.idle": "2023-08-17T01:44:57.518762Z",
     "shell.execute_reply": "2023-08-17T01:44:57.517795Z"
    },
    "papermill": {
     "duration": 0.042387,
     "end_time": "2023-08-17T01:44:57.520578",
     "exception": false,
     "start_time": "2023-08-17T01:44:57.478191",
     "status": "completed"
    },
    "tags": []
   },
   "outputs": [
    {
     "data": {
      "text/plain": [
       "2012-03-06    0.542213\n",
       "2012-03-07    0.554549\n",
       "2012-03-08    1.280839\n",
       "2012-03-09    1.004858\n",
       "2012-03-10    0.343318\n",
       "Freq: D, dtype: float64"
      ]
     },
     "execution_count": 21,
     "metadata": {},
     "output_type": "execute_result"
    }
   ],
   "source": [
    "rng = pd.date_range(\"3/6/2012 00:00\", periods=5, freq=\"D\")\n",
    "ts = pd.Series(np.random.randn(len(rng)), rng)\n",
    "ts"
   ]
  },
  {
   "cell_type": "code",
   "execution_count": 22,
   "id": "cd60dbdd",
   "metadata": {
    "execution": {
     "iopub.execute_input": "2023-08-17T01:44:57.581378Z",
     "iopub.status.busy": "2023-08-17T01:44:57.581042Z",
     "iopub.status.idle": "2023-08-17T01:44:57.588599Z",
     "shell.execute_reply": "2023-08-17T01:44:57.587413Z"
    },
    "papermill": {
     "duration": 0.040451,
     "end_time": "2023-08-17T01:44:57.590594",
     "exception": false,
     "start_time": "2023-08-17T01:44:57.550143",
     "status": "completed"
    },
    "tags": []
   },
   "outputs": [
    {
     "data": {
      "text/plain": [
       "2012-03-06 00:00:00+00:00    0.542213\n",
       "2012-03-07 00:00:00+00:00    0.554549\n",
       "2012-03-08 00:00:00+00:00    1.280839\n",
       "2012-03-09 00:00:00+00:00    1.004858\n",
       "2012-03-10 00:00:00+00:00    0.343318\n",
       "Freq: D, dtype: float64"
      ]
     },
     "execution_count": 22,
     "metadata": {},
     "output_type": "execute_result"
    }
   ],
   "source": [
    "ts_utc = ts.tz_localize(\"UTC\")\n",
    "ts_utc"
   ]
  },
  {
   "cell_type": "code",
   "execution_count": 23,
   "id": "d2bd607c",
   "metadata": {
    "execution": {
     "iopub.execute_input": "2023-08-17T01:44:57.652432Z",
     "iopub.status.busy": "2023-08-17T01:44:57.651771Z",
     "iopub.status.idle": "2023-08-17T01:44:57.660080Z",
     "shell.execute_reply": "2023-08-17T01:44:57.659184Z"
    },
    "papermill": {
     "duration": 0.041499,
     "end_time": "2023-08-17T01:44:57.661906",
     "exception": false,
     "start_time": "2023-08-17T01:44:57.620407",
     "status": "completed"
    },
    "tags": []
   },
   "outputs": [
    {
     "data": {
      "text/plain": [
       "2012-01-31    0.946981\n",
       "2012-02-29    0.193961\n",
       "2012-03-31    0.009462\n",
       "2012-04-30    0.179106\n",
       "2012-05-31    0.772477\n",
       "Freq: M, dtype: float64"
      ]
     },
     "execution_count": 23,
     "metadata": {},
     "output_type": "execute_result"
    }
   ],
   "source": [
    "rng = pd.date_range(\"1/1/2012\", periods=5, freq=\"M\")\n",
    "ts = pd.Series(np.random.randn(len(rng)), index=rng)\n",
    "ts"
   ]
  },
  {
   "cell_type": "code",
   "execution_count": 24,
   "id": "4bbeb02a",
   "metadata": {
    "execution": {
     "iopub.execute_input": "2023-08-17T01:44:57.723930Z",
     "iopub.status.busy": "2023-08-17T01:44:57.723596Z",
     "iopub.status.idle": "2023-08-17T01:44:57.730592Z",
     "shell.execute_reply": "2023-08-17T01:44:57.729725Z"
    },
    "papermill": {
     "duration": 0.040191,
     "end_time": "2023-08-17T01:44:57.732210",
     "exception": false,
     "start_time": "2023-08-17T01:44:57.692019",
     "status": "completed"
    },
    "tags": []
   },
   "outputs": [
    {
     "data": {
      "text/plain": [
       "2012-01    0.946981\n",
       "2012-02    0.193961\n",
       "2012-03    0.009462\n",
       "2012-04    0.179106\n",
       "2012-05    0.772477\n",
       "Freq: M, dtype: float64"
      ]
     },
     "execution_count": 24,
     "metadata": {},
     "output_type": "execute_result"
    }
   ],
   "source": [
    "ps = ts.to_period()\n",
    "ps"
   ]
  },
  {
   "cell_type": "code",
   "execution_count": 25,
   "id": "5c13b94c",
   "metadata": {
    "execution": {
     "iopub.execute_input": "2023-08-17T01:44:57.794124Z",
     "iopub.status.busy": "2023-08-17T01:44:57.793534Z",
     "iopub.status.idle": "2023-08-17T01:44:57.804593Z",
     "shell.execute_reply": "2023-08-17T01:44:57.803640Z"
    },
    "papermill": {
     "duration": 0.044658,
     "end_time": "2023-08-17T01:44:57.806712",
     "exception": false,
     "start_time": "2023-08-17T01:44:57.762054",
     "status": "completed"
    },
    "tags": []
   },
   "outputs": [
    {
     "data": {
      "text/plain": [
       "2012-01-01    0.946981\n",
       "2012-02-01    0.193961\n",
       "2012-03-01    0.009462\n",
       "2012-04-01    0.179106\n",
       "2012-05-01    0.772477\n",
       "Freq: MS, dtype: float64"
      ]
     },
     "execution_count": 25,
     "metadata": {},
     "output_type": "execute_result"
    }
   ],
   "source": [
    "ps.to_timestamp()"
   ]
  },
  {
   "cell_type": "code",
   "execution_count": 26,
   "id": "4960387b",
   "metadata": {
    "execution": {
     "iopub.execute_input": "2023-08-17T01:44:57.868418Z",
     "iopub.status.busy": "2023-08-17T01:44:57.868070Z",
     "iopub.status.idle": "2023-08-17T01:44:57.879789Z",
     "shell.execute_reply": "2023-08-17T01:44:57.878572Z"
    },
    "papermill": {
     "duration": 0.045304,
     "end_time": "2023-08-17T01:44:57.882120",
     "exception": false,
     "start_time": "2023-08-17T01:44:57.836816",
     "status": "completed"
    },
    "tags": []
   },
   "outputs": [
    {
     "data": {
      "text/plain": [
       "1990-03-01 09:00    0.248762\n",
       "1990-06-01 09:00   -0.422398\n",
       "1990-09-01 09:00   -0.531609\n",
       "1990-12-01 09:00   -1.816896\n",
       "1991-03-01 09:00   -0.787322\n",
       "Freq: H, dtype: float64"
      ]
     },
     "execution_count": 26,
     "metadata": {},
     "output_type": "execute_result"
    }
   ],
   "source": [
    "prng = pd.period_range(\"1990Q1\", \"2000Q4\", freq=\"Q-NOV\")\n",
    "ts = pd.Series(np.random.randn(len(prng)), prng)\n",
    "ts.index = (prng.asfreq(\"M\", \"e\") + 1).asfreq(\"H\", \"s\") + 9\n",
    "ts.head()"
   ]
  },
  {
   "cell_type": "code",
   "execution_count": 27,
   "id": "1ef98761",
   "metadata": {
    "execution": {
     "iopub.execute_input": "2023-08-17T01:44:57.946197Z",
     "iopub.status.busy": "2023-08-17T01:44:57.945822Z",
     "iopub.status.idle": "2023-08-17T01:44:57.955080Z",
     "shell.execute_reply": "2023-08-17T01:44:57.954092Z"
    },
    "papermill": {
     "duration": 0.0434,
     "end_time": "2023-08-17T01:44:57.957574",
     "exception": false,
     "start_time": "2023-08-17T01:44:57.914174",
     "status": "completed"
    },
    "tags": []
   },
   "outputs": [
    {
     "data": {
      "text/html": [
       "<div>\n",
       "<style scoped>\n",
       "    .dataframe tbody tr th:only-of-type {\n",
       "        vertical-align: middle;\n",
       "    }\n",
       "\n",
       "    .dataframe tbody tr th {\n",
       "        vertical-align: top;\n",
       "    }\n",
       "\n",
       "    .dataframe thead th {\n",
       "        text-align: right;\n",
       "    }\n",
       "</style>\n",
       "<table border=\"1\" class=\"dataframe\">\n",
       "  <thead>\n",
       "    <tr style=\"text-align: right;\">\n",
       "      <th></th>\n",
       "      <th>id</th>\n",
       "      <th>raw_grade</th>\n",
       "    </tr>\n",
       "  </thead>\n",
       "  <tbody>\n",
       "    <tr>\n",
       "      <th>0</th>\n",
       "      <td>1</td>\n",
       "      <td>a</td>\n",
       "    </tr>\n",
       "    <tr>\n",
       "      <th>1</th>\n",
       "      <td>2</td>\n",
       "      <td>b</td>\n",
       "    </tr>\n",
       "    <tr>\n",
       "      <th>2</th>\n",
       "      <td>3</td>\n",
       "      <td>b</td>\n",
       "    </tr>\n",
       "    <tr>\n",
       "      <th>3</th>\n",
       "      <td>4</td>\n",
       "      <td>a</td>\n",
       "    </tr>\n",
       "    <tr>\n",
       "      <th>4</th>\n",
       "      <td>5</td>\n",
       "      <td>a</td>\n",
       "    </tr>\n",
       "  </tbody>\n",
       "</table>\n",
       "</div>"
      ],
      "text/plain": [
       "   id raw_grade\n",
       "0   1         a\n",
       "1   2         b\n",
       "2   3         b\n",
       "3   4         a\n",
       "4   5         a"
      ]
     },
     "execution_count": 27,
     "metadata": {},
     "output_type": "execute_result"
    }
   ],
   "source": [
    "df = pd.DataFrame({\"id\": [1, 2, 3, 4, 5, 6], \"raw_grade\": [\"a\", \"b\", \"b\", \"a\", \"a\", \"e\"]})\n",
    "df.head()"
   ]
  },
  {
   "cell_type": "code",
   "execution_count": 28,
   "id": "f8966d4e",
   "metadata": {
    "execution": {
     "iopub.execute_input": "2023-08-17T01:44:58.021838Z",
     "iopub.status.busy": "2023-08-17T01:44:58.021457Z",
     "iopub.status.idle": "2023-08-17T01:44:58.031137Z",
     "shell.execute_reply": "2023-08-17T01:44:58.030017Z"
    },
    "papermill": {
     "duration": 0.044853,
     "end_time": "2023-08-17T01:44:58.033869",
     "exception": false,
     "start_time": "2023-08-17T01:44:57.989016",
     "status": "completed"
    },
    "tags": []
   },
   "outputs": [
    {
     "data": {
      "text/plain": [
       "0    a\n",
       "1    b\n",
       "2    b\n",
       "3    a\n",
       "4    a\n",
       "5    e\n",
       "Name: grade, dtype: category\n",
       "Categories (3, object): ['a', 'b', 'e']"
      ]
     },
     "execution_count": 28,
     "metadata": {},
     "output_type": "execute_result"
    }
   ],
   "source": [
    "df[\"grade\"] = df[\"raw_grade\"].astype(\"category\")\n",
    "In [125]: df[\"grade\"]"
   ]
  },
  {
   "cell_type": "code",
   "execution_count": 29,
   "id": "b742bbd5",
   "metadata": {
    "execution": {
     "iopub.execute_input": "2023-08-17T01:44:58.097829Z",
     "iopub.status.busy": "2023-08-17T01:44:58.097417Z",
     "iopub.status.idle": "2023-08-17T01:44:58.104162Z",
     "shell.execute_reply": "2023-08-17T01:44:58.102821Z"
    },
    "papermill": {
     "duration": 0.041049,
     "end_time": "2023-08-17T01:44:58.106216",
     "exception": false,
     "start_time": "2023-08-17T01:44:58.065167",
     "status": "completed"
    },
    "tags": []
   },
   "outputs": [
    {
     "name": "stderr",
     "output_type": "stream",
     "text": [
      "/tmp/ipykernel_20/2985790766.py:1: FutureWarning: Setting categories in-place is deprecated and will raise in a future version. Use rename_categories instead.\n",
      "  df[\"grade\"].cat.categories = [\"very good\", \"good\", \"very bad\"]\n"
     ]
    }
   ],
   "source": [
    "df[\"grade\"].cat.categories = [\"very good\", \"good\", \"very bad\"]"
   ]
  },
  {
   "cell_type": "code",
   "execution_count": 30,
   "id": "6e7c50ee",
   "metadata": {
    "execution": {
     "iopub.execute_input": "2023-08-17T01:44:58.168216Z",
     "iopub.status.busy": "2023-08-17T01:44:58.167880Z",
     "iopub.status.idle": "2023-08-17T01:44:58.176440Z",
     "shell.execute_reply": "2023-08-17T01:44:58.175391Z"
    },
    "papermill": {
     "duration": 0.041802,
     "end_time": "2023-08-17T01:44:58.178247",
     "exception": false,
     "start_time": "2023-08-17T01:44:58.136445",
     "status": "completed"
    },
    "tags": []
   },
   "outputs": [
    {
     "data": {
      "text/plain": [
       "0    very good\n",
       "1         good\n",
       "2         good\n",
       "3    very good\n",
       "4    very good\n",
       "5     very bad\n",
       "Name: grade, dtype: category\n",
       "Categories (5, object): ['very bad', 'bad', 'medium', 'good', 'very good']"
      ]
     },
     "execution_count": 30,
     "metadata": {},
     "output_type": "execute_result"
    }
   ],
   "source": [
    "df[\"grade\"] = df[\"grade\"].cat.set_categories([\"very bad\", \"bad\", \"medium\", \"good\", \"very good\"])\n",
    "\n",
    "df[\"grade\"]"
   ]
  },
  {
   "cell_type": "code",
   "execution_count": 31,
   "id": "c600e204",
   "metadata": {
    "execution": {
     "iopub.execute_input": "2023-08-17T01:44:58.241243Z",
     "iopub.status.busy": "2023-08-17T01:44:58.240930Z",
     "iopub.status.idle": "2023-08-17T01:44:58.251445Z",
     "shell.execute_reply": "2023-08-17T01:44:58.250424Z"
    },
    "papermill": {
     "duration": 0.044363,
     "end_time": "2023-08-17T01:44:58.253379",
     "exception": false,
     "start_time": "2023-08-17T01:44:58.209016",
     "status": "completed"
    },
    "tags": []
   },
   "outputs": [
    {
     "data": {
      "text/html": [
       "<div>\n",
       "<style scoped>\n",
       "    .dataframe tbody tr th:only-of-type {\n",
       "        vertical-align: middle;\n",
       "    }\n",
       "\n",
       "    .dataframe tbody tr th {\n",
       "        vertical-align: top;\n",
       "    }\n",
       "\n",
       "    .dataframe thead th {\n",
       "        text-align: right;\n",
       "    }\n",
       "</style>\n",
       "<table border=\"1\" class=\"dataframe\">\n",
       "  <thead>\n",
       "    <tr style=\"text-align: right;\">\n",
       "      <th></th>\n",
       "      <th>id</th>\n",
       "      <th>raw_grade</th>\n",
       "      <th>grade</th>\n",
       "    </tr>\n",
       "  </thead>\n",
       "  <tbody>\n",
       "    <tr>\n",
       "      <th>5</th>\n",
       "      <td>6</td>\n",
       "      <td>e</td>\n",
       "      <td>very bad</td>\n",
       "    </tr>\n",
       "    <tr>\n",
       "      <th>1</th>\n",
       "      <td>2</td>\n",
       "      <td>b</td>\n",
       "      <td>good</td>\n",
       "    </tr>\n",
       "    <tr>\n",
       "      <th>2</th>\n",
       "      <td>3</td>\n",
       "      <td>b</td>\n",
       "      <td>good</td>\n",
       "    </tr>\n",
       "    <tr>\n",
       "      <th>0</th>\n",
       "      <td>1</td>\n",
       "      <td>a</td>\n",
       "      <td>very good</td>\n",
       "    </tr>\n",
       "    <tr>\n",
       "      <th>3</th>\n",
       "      <td>4</td>\n",
       "      <td>a</td>\n",
       "      <td>very good</td>\n",
       "    </tr>\n",
       "    <tr>\n",
       "      <th>4</th>\n",
       "      <td>5</td>\n",
       "      <td>a</td>\n",
       "      <td>very good</td>\n",
       "    </tr>\n",
       "  </tbody>\n",
       "</table>\n",
       "</div>"
      ],
      "text/plain": [
       "   id raw_grade      grade\n",
       "5   6         e   very bad\n",
       "1   2         b       good\n",
       "2   3         b       good\n",
       "0   1         a  very good\n",
       "3   4         a  very good\n",
       "4   5         a  very good"
      ]
     },
     "execution_count": 31,
     "metadata": {},
     "output_type": "execute_result"
    }
   ],
   "source": [
    "df.sort_values(by=\"grade\")"
   ]
  },
  {
   "cell_type": "code",
   "execution_count": 32,
   "id": "fe5d4402",
   "metadata": {
    "execution": {
     "iopub.execute_input": "2023-08-17T01:44:58.317369Z",
     "iopub.status.busy": "2023-08-17T01:44:58.317038Z",
     "iopub.status.idle": "2023-08-17T01:44:58.325940Z",
     "shell.execute_reply": "2023-08-17T01:44:58.325050Z"
    },
    "papermill": {
     "duration": 0.043076,
     "end_time": "2023-08-17T01:44:58.327604",
     "exception": false,
     "start_time": "2023-08-17T01:44:58.284528",
     "status": "completed"
    },
    "tags": []
   },
   "outputs": [
    {
     "data": {
      "text/plain": [
       "grade\n",
       "very bad     1\n",
       "bad          0\n",
       "medium       0\n",
       "good         2\n",
       "very good    3\n",
       "dtype: int64"
      ]
     },
     "execution_count": 32,
     "metadata": {},
     "output_type": "execute_result"
    }
   ],
   "source": [
    "df.groupby(\"grade\").size()"
   ]
  },
  {
   "cell_type": "code",
   "execution_count": 33,
   "id": "d8471783",
   "metadata": {
    "execution": {
     "iopub.execute_input": "2023-08-17T01:44:58.390580Z",
     "iopub.status.busy": "2023-08-17T01:44:58.390199Z",
     "iopub.status.idle": "2023-08-17T01:44:58.394638Z",
     "shell.execute_reply": "2023-08-17T01:44:58.393683Z"
    },
    "papermill": {
     "duration": 0.038012,
     "end_time": "2023-08-17T01:44:58.396336",
     "exception": false,
     "start_time": "2023-08-17T01:44:58.358324",
     "status": "completed"
    },
    "tags": []
   },
   "outputs": [],
   "source": [
    "import matplotlib.pyplot as plt\n",
    "plt.close(\"all\")"
   ]
  },
  {
   "cell_type": "code",
   "execution_count": 34,
   "id": "00f40b63",
   "metadata": {
    "execution": {
     "iopub.execute_input": "2023-08-17T01:44:58.458832Z",
     "iopub.status.busy": "2023-08-17T01:44:58.458507Z",
     "iopub.status.idle": "2023-08-17T01:44:58.766104Z",
     "shell.execute_reply": "2023-08-17T01:44:58.764855Z"
    },
    "papermill": {
     "duration": 0.341086,
     "end_time": "2023-08-17T01:44:58.767951",
     "exception": false,
     "start_time": "2023-08-17T01:44:58.426865",
     "status": "completed"
    },
    "tags": []
   },
   "outputs": [
    {
     "data": {
      "image/png": "[encoded data removed]",
      "text/plain": [
       "<Figure size 640x480 with 1 Axes>"
      ]
     },
     "metadata": {},
     "output_type": "display_data"
    }
   ],
   "source": [
    "ts = pd.Series(np.random.randn(1000), index=pd.date_range(\"1/1/2000\",periods=1000))\n",
    "ts = ts.cumsum()\n",
    "ts.plot();"
   ]
  },
  {
   "cell_type": "code",
   "execution_count": 35,
   "id": "5af090e6",
   "metadata": {
    "execution": {
     "iopub.execute_input": "2023-08-17T01:44:58.831334Z",
     "iopub.status.busy": "2023-08-17T01:44:58.830337Z",
     "iopub.status.idle": "2023-08-17T01:44:59.288194Z",
     "shell.execute_reply": "2023-08-17T01:44:59.287025Z"
    },
    "papermill": {
     "duration": 0.491603,
     "end_time": "2023-08-17T01:44:59.290223",
     "exception": false,
     "start_time": "2023-08-17T01:44:58.798620",
     "status": "completed"
    },
    "tags": []
   },
   "outputs": [
    {
     "data": {
      "text/plain": [
       "<Figure size 640x480 with 0 Axes>"
      ]
     },
     "metadata": {},
     "output_type": "display_data"
    },
    {
     "data": {
      "image/png": "[encoded data removed]",
      "text/plain": [
       "<Figure size 640x480 with 1 Axes>"
      ]
     },
     "metadata": {},
     "output_type": "display_data"
    }
   ],
   "source": [
    "df = pd.DataFrame(np.random.randn(1000, 4), index=ts.index, columns=[\"A\", \"B\", \"C\", \"D\"])\n",
    "df = df.cumsum()\n",
    "plt.figure();\n",
    "df.plot();\n",
    "plt.legend(loc='best');"
   ]
  },
  {
   "cell_type": "code",
   "execution_count": 36,
   "id": "d7a6f610",
   "metadata": {
    "execution": {
     "iopub.execute_input": "2023-08-17T01:44:59.356202Z",
     "iopub.status.busy": "2023-08-17T01:44:59.355830Z",
     "iopub.status.idle": "2023-08-17T01:44:59.385132Z",
     "shell.execute_reply": "2023-08-17T01:44:59.383740Z"
    },
    "papermill": {
     "duration": 0.065141,
     "end_time": "2023-08-17T01:44:59.387645",
     "exception": false,
     "start_time": "2023-08-17T01:44:59.322504",
     "status": "completed"
    },
    "tags": []
   },
   "outputs": [
    {
     "data": {
      "text/html": [
       "<div>\n",
       "<style scoped>\n",
       "    .dataframe tbody tr th:only-of-type {\n",
       "        vertical-align: middle;\n",
       "    }\n",
       "\n",
       "    .dataframe tbody tr th {\n",
       "        vertical-align: top;\n",
       "    }\n",
       "\n",
       "    .dataframe thead th {\n",
       "        text-align: right;\n",
       "    }\n",
       "</style>\n",
       "<table border=\"1\" class=\"dataframe\">\n",
       "  <thead>\n",
       "    <tr style=\"text-align: right;\">\n",
       "      <th></th>\n",
       "      <th>Unnamed: 0</th>\n",
       "      <th>A</th>\n",
       "      <th>B</th>\n",
       "      <th>C</th>\n",
       "      <th>D</th>\n",
       "    </tr>\n",
       "  </thead>\n",
       "  <tbody>\n",
       "    <tr>\n",
       "      <th>0</th>\n",
       "      <td>2000-01-01</td>\n",
       "      <td>0.254754</td>\n",
       "      <td>0.523197</td>\n",
       "      <td>0.007962</td>\n",
       "      <td>-1.700488</td>\n",
       "    </tr>\n",
       "    <tr>\n",
       "      <th>1</th>\n",
       "      <td>2000-01-02</td>\n",
       "      <td>2.004401</td>\n",
       "      <td>-1.264187</td>\n",
       "      <td>-1.085976</td>\n",
       "      <td>-2.935414</td>\n",
       "    </tr>\n",
       "    <tr>\n",
       "      <th>2</th>\n",
       "      <td>2000-01-03</td>\n",
       "      <td>2.665976</td>\n",
       "      <td>0.033033</td>\n",
       "      <td>1.191121</td>\n",
       "      <td>-2.583651</td>\n",
       "    </tr>\n",
       "    <tr>\n",
       "      <th>3</th>\n",
       "      <td>2000-01-04</td>\n",
       "      <td>3.047436</td>\n",
       "      <td>1.709073</td>\n",
       "      <td>2.473937</td>\n",
       "      <td>-3.704275</td>\n",
       "    </tr>\n",
       "    <tr>\n",
       "      <th>4</th>\n",
       "      <td>2000-01-05</td>\n",
       "      <td>2.495376</td>\n",
       "      <td>1.165341</td>\n",
       "      <td>1.073235</td>\n",
       "      <td>-5.610625</td>\n",
       "    </tr>\n",
       "    <tr>\n",
       "      <th>...</th>\n",
       "      <td>...</td>\n",
       "      <td>...</td>\n",
       "      <td>...</td>\n",
       "      <td>...</td>\n",
       "      <td>...</td>\n",
       "    </tr>\n",
       "    <tr>\n",
       "      <th>995</th>\n",
       "      <td>2002-09-22</td>\n",
       "      <td>-27.230292</td>\n",
       "      <td>32.866877</td>\n",
       "      <td>15.627254</td>\n",
       "      <td>-3.019160</td>\n",
       "    </tr>\n",
       "    <tr>\n",
       "      <th>996</th>\n",
       "      <td>2002-09-23</td>\n",
       "      <td>-27.128498</td>\n",
       "      <td>32.161942</td>\n",
       "      <td>16.853810</td>\n",
       "      <td>-2.818482</td>\n",
       "    </tr>\n",
       "    <tr>\n",
       "      <th>997</th>\n",
       "      <td>2002-09-24</td>\n",
       "      <td>-27.970544</td>\n",
       "      <td>32.742564</td>\n",
       "      <td>15.550903</td>\n",
       "      <td>-1.920492</td>\n",
       "    </tr>\n",
       "    <tr>\n",
       "      <th>998</th>\n",
       "      <td>2002-09-25</td>\n",
       "      <td>-27.716141</td>\n",
       "      <td>32.939643</td>\n",
       "      <td>13.697686</td>\n",
       "      <td>-1.597554</td>\n",
       "    </tr>\n",
       "    <tr>\n",
       "      <th>999</th>\n",
       "      <td>2002-09-26</td>\n",
       "      <td>-27.385285</td>\n",
       "      <td>33.568738</td>\n",
       "      <td>15.654000</td>\n",
       "      <td>-1.338474</td>\n",
       "    </tr>\n",
       "  </tbody>\n",
       "</table>\n",
       "<p>1000 rows × 5 columns</p>\n",
       "</div>"
      ],
      "text/plain": [
       "     Unnamed: 0          A          B          C         D\n",
       "0    2000-01-01   0.254754   0.523197   0.007962 -1.700488\n",
       "1    2000-01-02   2.004401  -1.264187  -1.085976 -2.935414\n",
       "2    2000-01-03   2.665976   0.033033   1.191121 -2.583651\n",
       "3    2000-01-04   3.047436   1.709073   2.473937 -3.704275\n",
       "4    2000-01-05   2.495376   1.165341   1.073235 -5.610625\n",
       "..          ...        ...        ...        ...       ...\n",
       "995  2002-09-22 -27.230292  32.866877  15.627254 -3.019160\n",
       "996  2002-09-23 -27.128498  32.161942  16.853810 -2.818482\n",
       "997  2002-09-24 -27.970544  32.742564  15.550903 -1.920492\n",
       "998  2002-09-25 -27.716141  32.939643  13.697686 -1.597554\n",
       "999  2002-09-26 -27.385285  33.568738  15.654000 -1.338474\n",
       "\n",
       "[1000 rows x 5 columns]"
      ]
     },
     "execution_count": 36,
     "metadata": {},
     "output_type": "execute_result"
    }
   ],
   "source": [
    "df.to_csv(\"foo.csv\")\n",
    "pd.read_csv(\"foo.csv\")"
   ]
  },
  {
   "cell_type": "code",
   "execution_count": 37,
   "id": "d5dff4a1",
   "metadata": {
    "execution": {
     "iopub.execute_input": "2023-08-17T01:44:59.456612Z",
     "iopub.status.busy": "2023-08-17T01:44:59.456283Z",
     "iopub.status.idle": "2023-08-17T01:44:59.665862Z",
     "shell.execute_reply": "2023-08-17T01:44:59.664934Z"
    },
    "papermill": {
     "duration": 0.24693,
     "end_time": "2023-08-17T01:44:59.668031",
     "exception": false,
     "start_time": "2023-08-17T01:44:59.421101",
     "status": "completed"
    },
    "tags": []
   },
   "outputs": [
    {
     "data": {
      "text/html": [
       "<div>\n",
       "<style scoped>\n",
       "    .dataframe tbody tr th:only-of-type {\n",
       "        vertical-align: middle;\n",
       "    }\n",
       "\n",
       "    .dataframe tbody tr th {\n",
       "        vertical-align: top;\n",
       "    }\n",
       "\n",
       "    .dataframe thead th {\n",
       "        text-align: right;\n",
       "    }\n",
       "</style>\n",
       "<table border=\"1\" class=\"dataframe\">\n",
       "  <thead>\n",
       "    <tr style=\"text-align: right;\">\n",
       "      <th></th>\n",
       "      <th>A</th>\n",
       "      <th>B</th>\n",
       "      <th>C</th>\n",
       "      <th>D</th>\n",
       "    </tr>\n",
       "  </thead>\n",
       "  <tbody>\n",
       "    <tr>\n",
       "      <th>2000-01-01</th>\n",
       "      <td>0.254754</td>\n",
       "      <td>0.523197</td>\n",
       "      <td>0.007962</td>\n",
       "      <td>-1.700488</td>\n",
       "    </tr>\n",
       "    <tr>\n",
       "      <th>2000-01-02</th>\n",
       "      <td>2.004401</td>\n",
       "      <td>-1.264187</td>\n",
       "      <td>-1.085976</td>\n",
       "      <td>-2.935414</td>\n",
       "    </tr>\n",
       "    <tr>\n",
       "      <th>2000-01-03</th>\n",
       "      <td>2.665976</td>\n",
       "      <td>0.033033</td>\n",
       "      <td>1.191121</td>\n",
       "      <td>-2.583651</td>\n",
       "    </tr>\n",
       "    <tr>\n",
       "      <th>2000-01-04</th>\n",
       "      <td>3.047436</td>\n",
       "      <td>1.709073</td>\n",
       "      <td>2.473937</td>\n",
       "      <td>-3.704275</td>\n",
       "    </tr>\n",
       "    <tr>\n",
       "      <th>2000-01-05</th>\n",
       "      <td>2.495376</td>\n",
       "      <td>1.165341</td>\n",
       "      <td>1.073235</td>\n",
       "      <td>-5.610625</td>\n",
       "    </tr>\n",
       "    <tr>\n",
       "      <th>...</th>\n",
       "      <td>...</td>\n",
       "      <td>...</td>\n",
       "      <td>...</td>\n",
       "      <td>...</td>\n",
       "    </tr>\n",
       "    <tr>\n",
       "      <th>2002-09-22</th>\n",
       "      <td>-27.230292</td>\n",
       "      <td>32.866877</td>\n",
       "      <td>15.627254</td>\n",
       "      <td>-3.019160</td>\n",
       "    </tr>\n",
       "    <tr>\n",
       "      <th>2002-09-23</th>\n",
       "      <td>-27.128498</td>\n",
       "      <td>32.161942</td>\n",
       "      <td>16.853810</td>\n",
       "      <td>-2.818482</td>\n",
       "    </tr>\n",
       "    <tr>\n",
       "      <th>2002-09-24</th>\n",
       "      <td>-27.970544</td>\n",
       "      <td>32.742564</td>\n",
       "      <td>15.550903</td>\n",
       "      <td>-1.920492</td>\n",
       "    </tr>\n",
       "    <tr>\n",
       "      <th>2002-09-25</th>\n",
       "      <td>-27.716141</td>\n",
       "      <td>32.939643</td>\n",
       "      <td>13.697686</td>\n",
       "      <td>-1.597554</td>\n",
       "    </tr>\n",
       "    <tr>\n",
       "      <th>2002-09-26</th>\n",
       "      <td>-27.385285</td>\n",
       "      <td>33.568738</td>\n",
       "      <td>15.654000</td>\n",
       "      <td>-1.338474</td>\n",
       "    </tr>\n",
       "  </tbody>\n",
       "</table>\n",
       "<p>1000 rows × 4 columns</p>\n",
       "</div>"
      ],
      "text/plain": [
       "                    A          B          C         D\n",
       "2000-01-01   0.254754   0.523197   0.007962 -1.700488\n",
       "2000-01-02   2.004401  -1.264187  -1.085976 -2.935414\n",
       "2000-01-03   2.665976   0.033033   1.191121 -2.583651\n",
       "2000-01-04   3.047436   1.709073   2.473937 -3.704275\n",
       "2000-01-05   2.495376   1.165341   1.073235 -5.610625\n",
       "...               ...        ...        ...       ...\n",
       "2002-09-22 -27.230292  32.866877  15.627254 -3.019160\n",
       "2002-09-23 -27.128498  32.161942  16.853810 -2.818482\n",
       "2002-09-24 -27.970544  32.742564  15.550903 -1.920492\n",
       "2002-09-25 -27.716141  32.939643  13.697686 -1.597554\n",
       "2002-09-26 -27.385285  33.568738  15.654000 -1.338474\n",
       "\n",
       "[1000 rows x 4 columns]"
      ]
     },
     "execution_count": 37,
     "metadata": {},
     "output_type": "execute_result"
    }
   ],
   "source": [
    "df.to_hdf(\"foo.h5\", \"df\")\n",
    "pd.read_hdf(\"foo.h5\", \"df\")"
   ]
  },
  {
   "cell_type": "code",
   "execution_count": 38,
   "id": "dacf2738",
   "metadata": {
    "execution": {
     "iopub.execute_input": "2023-08-17T01:44:59.735336Z",
     "iopub.status.busy": "2023-08-17T01:44:59.734976Z",
     "iopub.status.idle": "2023-08-17T01:45:00.361859Z",
     "shell.execute_reply": "2023-08-17T01:45:00.360932Z"
    },
    "papermill": {
     "duration": 0.662817,
     "end_time": "2023-08-17T01:45:00.363627",
     "exception": false,
     "start_time": "2023-08-17T01:44:59.700810",
     "status": "completed"
    },
    "tags": []
   },
   "outputs": [
    {
     "data": {
      "text/html": [
       "<div>\n",
       "<style scoped>\n",
       "    .dataframe tbody tr th:only-of-type {\n",
       "        vertical-align: middle;\n",
       "    }\n",
       "\n",
       "    .dataframe tbody tr th {\n",
       "        vertical-align: top;\n",
       "    }\n",
       "\n",
       "    .dataframe thead th {\n",
       "        text-align: right;\n",
       "    }\n",
       "</style>\n",
       "<table border=\"1\" class=\"dataframe\">\n",
       "  <thead>\n",
       "    <tr style=\"text-align: right;\">\n",
       "      <th></th>\n",
       "      <th>Unnamed: 0</th>\n",
       "      <th>A</th>\n",
       "      <th>B</th>\n",
       "      <th>C</th>\n",
       "      <th>D</th>\n",
       "    </tr>\n",
       "  </thead>\n",
       "  <tbody>\n",
       "    <tr>\n",
       "      <th>0</th>\n",
       "      <td>2000-01-01</td>\n",
       "      <td>0.254754</td>\n",
       "      <td>0.523197</td>\n",
       "      <td>0.007962</td>\n",
       "      <td>-1.700488</td>\n",
       "    </tr>\n",
       "    <tr>\n",
       "      <th>1</th>\n",
       "      <td>2000-01-02</td>\n",
       "      <td>2.004401</td>\n",
       "      <td>-1.264187</td>\n",
       "      <td>-1.085976</td>\n",
       "      <td>-2.935414</td>\n",
       "    </tr>\n",
       "    <tr>\n",
       "      <th>2</th>\n",
       "      <td>2000-01-03</td>\n",
       "      <td>2.665976</td>\n",
       "      <td>0.033033</td>\n",
       "      <td>1.191121</td>\n",
       "      <td>-2.583651</td>\n",
       "    </tr>\n",
       "    <tr>\n",
       "      <th>3</th>\n",
       "      <td>2000-01-04</td>\n",
       "      <td>3.047436</td>\n",
       "      <td>1.709073</td>\n",
       "      <td>2.473937</td>\n",
       "      <td>-3.704275</td>\n",
       "    </tr>\n",
       "    <tr>\n",
       "      <th>4</th>\n",
       "      <td>2000-01-05</td>\n",
       "      <td>2.495376</td>\n",
       "      <td>1.165341</td>\n",
       "      <td>1.073235</td>\n",
       "      <td>-5.610625</td>\n",
       "    </tr>\n",
       "    <tr>\n",
       "      <th>...</th>\n",
       "      <td>...</td>\n",
       "      <td>...</td>\n",
       "      <td>...</td>\n",
       "      <td>...</td>\n",
       "      <td>...</td>\n",
       "    </tr>\n",
       "    <tr>\n",
       "      <th>995</th>\n",
       "      <td>2002-09-22</td>\n",
       "      <td>-27.230292</td>\n",
       "      <td>32.866877</td>\n",
       "      <td>15.627254</td>\n",
       "      <td>-3.019160</td>\n",
       "    </tr>\n",
       "    <tr>\n",
       "      <th>996</th>\n",
       "      <td>2002-09-23</td>\n",
       "      <td>-27.128498</td>\n",
       "      <td>32.161942</td>\n",
       "      <td>16.853810</td>\n",
       "      <td>-2.818482</td>\n",
       "    </tr>\n",
       "    <tr>\n",
       "      <th>997</th>\n",
       "      <td>2002-09-24</td>\n",
       "      <td>-27.970544</td>\n",
       "      <td>32.742564</td>\n",
       "      <td>15.550903</td>\n",
       "      <td>-1.920492</td>\n",
       "    </tr>\n",
       "    <tr>\n",
       "      <th>998</th>\n",
       "      <td>2002-09-25</td>\n",
       "      <td>-27.716141</td>\n",
       "      <td>32.939643</td>\n",
       "      <td>13.697686</td>\n",
       "      <td>-1.597554</td>\n",
       "    </tr>\n",
       "    <tr>\n",
       "      <th>999</th>\n",
       "      <td>2002-09-26</td>\n",
       "      <td>-27.385285</td>\n",
       "      <td>33.568738</td>\n",
       "      <td>15.654000</td>\n",
       "      <td>-1.338474</td>\n",
       "    </tr>\n",
       "  </tbody>\n",
       "</table>\n",
       "<p>1000 rows × 5 columns</p>\n",
       "</div>"
      ],
      "text/plain": [
       "    Unnamed: 0          A          B          C         D\n",
       "0   2000-01-01   0.254754   0.523197   0.007962 -1.700488\n",
       "1   2000-01-02   2.004401  -1.264187  -1.085976 -2.935414\n",
       "2   2000-01-03   2.665976   0.033033   1.191121 -2.583651\n",
       "3   2000-01-04   3.047436   1.709073   2.473937 -3.704275\n",
       "4   2000-01-05   2.495376   1.165341   1.073235 -5.610625\n",
       "..         ...        ...        ...        ...       ...\n",
       "995 2002-09-22 -27.230292  32.866877  15.627254 -3.019160\n",
       "996 2002-09-23 -27.128498  32.161942  16.853810 -2.818482\n",
       "997 2002-09-24 -27.970544  32.742564  15.550903 -1.920492\n",
       "998 2002-09-25 -27.716141  32.939643  13.697686 -1.597554\n",
       "999 2002-09-26 -27.385285  33.568738  15.654000 -1.338474\n",
       "\n",
       "[1000 rows x 5 columns]"
      ]
     },
     "execution_count": 38,
     "metadata": {},
     "output_type": "execute_result"
    }
   ],
   "source": [
    "df.to_excel(\"foo.xlsx\", sheet_name=\"Sheet1\")\n",
    "pd.read_excel(\"foo.xlsx\", \"Sheet1\", index_col=None, na_values=[\"NA\"])"
   ]
  },
  {
   "cell_type": "code",
   "execution_count": 39,
   "id": "d3103c97",
   "metadata": {
    "execution": {
     "iopub.execute_input": "2023-08-17T01:45:00.431587Z",
     "iopub.status.busy": "2023-08-17T01:45:00.431024Z",
     "iopub.status.idle": "2023-08-17T01:45:00.439183Z",
     "shell.execute_reply": "2023-08-17T01:45:00.437825Z"
    },
    "papermill": {
     "duration": 0.044545,
     "end_time": "2023-08-17T01:45:00.440899",
     "exception": false,
     "start_time": "2023-08-17T01:45:00.396354",
     "status": "completed"
    },
    "tags": []
   },
   "outputs": [
    {
     "data": {
      "text/plain": [
       "a    0.271409\n",
       "b    0.108680\n",
       "c    1.238054\n",
       "d    0.061942\n",
       "e   -0.652583\n",
       "dtype: float64"
      ]
     },
     "execution_count": 39,
     "metadata": {},
     "output_type": "execute_result"
    }
   ],
   "source": [
    "s = pd.Series(np.random.randn(5), index=[\"a\", \"b\", \"c\", \"d\", \"e\"])\n",
    "s"
   ]
  },
  {
   "cell_type": "code",
   "execution_count": 40,
   "id": "4bdf7294",
   "metadata": {
    "execution": {
     "iopub.execute_input": "2023-08-17T01:45:00.509377Z",
     "iopub.status.busy": "2023-08-17T01:45:00.508986Z",
     "iopub.status.idle": "2023-08-17T01:45:00.516496Z",
     "shell.execute_reply": "2023-08-17T01:45:00.515514Z"
    },
    "papermill": {
     "duration": 0.044321,
     "end_time": "2023-08-17T01:45:00.518244",
     "exception": false,
     "start_time": "2023-08-17T01:45:00.473923",
     "status": "completed"
    },
    "tags": []
   },
   "outputs": [
    {
     "data": {
      "text/plain": [
       "b    1\n",
       "a    0\n",
       "c    2\n",
       "dtype: int64"
      ]
     },
     "execution_count": 40,
     "metadata": {},
     "output_type": "execute_result"
    }
   ],
   "source": [
    "d = {\"b\": 1, \"a\": 0, \"c\": 2}\n",
    "pd.Series(d)"
   ]
  },
  {
   "cell_type": "code",
   "execution_count": 41,
   "id": "c7f32ef0",
   "metadata": {
    "execution": {
     "iopub.execute_input": "2023-08-17T01:45:00.585909Z",
     "iopub.status.busy": "2023-08-17T01:45:00.585587Z",
     "iopub.status.idle": "2023-08-17T01:45:00.592073Z",
     "shell.execute_reply": "2023-08-17T01:45:00.591438Z"
    },
    "papermill": {
     "duration": 0.042412,
     "end_time": "2023-08-17T01:45:00.593622",
     "exception": false,
     "start_time": "2023-08-17T01:45:00.551210",
     "status": "completed"
    },
    "tags": []
   },
   "outputs": [
    {
     "data": {
      "text/plain": [
       "a    0.0\n",
       "b    1.0\n",
       "c    2.0\n",
       "dtype: float64"
      ]
     },
     "execution_count": 41,
     "metadata": {},
     "output_type": "execute_result"
    }
   ],
   "source": [
    "d = {\"a\": 0.0, \"b\": 1.0, \"c\": 2.0}\n",
    "pd.Series(d)"
   ]
  },
  {
   "cell_type": "code",
   "execution_count": 42,
   "id": "c2de7a97",
   "metadata": {
    "execution": {
     "iopub.execute_input": "2023-08-17T01:45:00.661405Z",
     "iopub.status.busy": "2023-08-17T01:45:00.661070Z",
     "iopub.status.idle": "2023-08-17T01:45:00.670208Z",
     "shell.execute_reply": "2023-08-17T01:45:00.669087Z"
    },
    "papermill": {
     "duration": 0.045412,
     "end_time": "2023-08-17T01:45:00.671927",
     "exception": false,
     "start_time": "2023-08-17T01:45:00.626515",
     "status": "completed"
    },
    "tags": []
   },
   "outputs": [
    {
     "data": {
      "text/plain": [
       "b    1.0\n",
       "c    2.0\n",
       "d    NaN\n",
       "a    0.0\n",
       "dtype: float64"
      ]
     },
     "execution_count": 42,
     "metadata": {},
     "output_type": "execute_result"
    }
   ],
   "source": [
    "pd.Series(d, index=[\"b\", \"c\", \"d\", \"a\"])"
   ]
  },
  {
   "cell_type": "code",
   "execution_count": 43,
   "id": "d06742f7",
   "metadata": {
    "execution": {
     "iopub.execute_input": "2023-08-17T01:45:00.740288Z",
     "iopub.status.busy": "2023-08-17T01:45:00.739954Z",
     "iopub.status.idle": "2023-08-17T01:45:00.748508Z",
     "shell.execute_reply": "2023-08-17T01:45:00.747103Z"
    },
    "papermill": {
     "duration": 0.045068,
     "end_time": "2023-08-17T01:45:00.750342",
     "exception": false,
     "start_time": "2023-08-17T01:45:00.705274",
     "status": "completed"
    },
    "tags": []
   },
   "outputs": [
    {
     "data": {
      "text/plain": [
       "a    5.0\n",
       "b    5.0\n",
       "c    5.0\n",
       "d    5.0\n",
       "e    5.0\n",
       "dtype: float64"
      ]
     },
     "execution_count": 43,
     "metadata": {},
     "output_type": "execute_result"
    }
   ],
   "source": [
    "pd.Series(5.0, index=[\"a\", \"b\", \"c\", \"d\", \"e\"])"
   ]
  },
  {
   "cell_type": "code",
   "execution_count": 44,
   "id": "7b108d0e",
   "metadata": {
    "execution": {
     "iopub.execute_input": "2023-08-17T01:45:00.818159Z",
     "iopub.status.busy": "2023-08-17T01:45:00.817790Z",
     "iopub.status.idle": "2023-08-17T01:45:00.824078Z",
     "shell.execute_reply": "2023-08-17T01:45:00.823100Z"
    },
    "papermill": {
     "duration": 0.042333,
     "end_time": "2023-08-17T01:45:00.825611",
     "exception": false,
     "start_time": "2023-08-17T01:45:00.783278",
     "status": "completed"
    },
    "tags": []
   },
   "outputs": [
    {
     "data": {
      "text/plain": [
       "0.2714094769951172"
      ]
     },
     "execution_count": 44,
     "metadata": {},
     "output_type": "execute_result"
    }
   ],
   "source": [
    "s[0]"
   ]
  },
  {
   "cell_type": "code",
   "execution_count": 45,
   "id": "abcc469f",
   "metadata": {
    "execution": {
     "iopub.execute_input": "2023-08-17T01:45:00.893920Z",
     "iopub.status.busy": "2023-08-17T01:45:00.893578Z",
     "iopub.status.idle": "2023-08-17T01:45:00.900840Z",
     "shell.execute_reply": "2023-08-17T01:45:00.899547Z"
    },
    "papermill": {
     "duration": 0.045214,
     "end_time": "2023-08-17T01:45:00.903730",
     "exception": false,
     "start_time": "2023-08-17T01:45:00.858516",
     "status": "completed"
    },
    "tags": []
   },
   "outputs": [
    {
     "data": {
      "text/plain": [
       "a    0.271409\n",
       "b    0.108680\n",
       "c    1.238054\n",
       "dtype: float64"
      ]
     },
     "execution_count": 45,
     "metadata": {},
     "output_type": "execute_result"
    }
   ],
   "source": [
    "s[:3]"
   ]
  },
  {
   "cell_type": "code",
   "execution_count": 46,
   "id": "1ca3a946",
   "metadata": {
    "execution": {
     "iopub.execute_input": "2023-08-17T01:45:00.977544Z",
     "iopub.status.busy": "2023-08-17T01:45:00.977155Z",
     "iopub.status.idle": "2023-08-17T01:45:00.986222Z",
     "shell.execute_reply": "2023-08-17T01:45:00.985253Z"
    },
    "papermill": {
     "duration": 0.046438,
     "end_time": "2023-08-17T01:45:00.988018",
     "exception": false,
     "start_time": "2023-08-17T01:45:00.941580",
     "status": "completed"
    },
    "tags": []
   },
   "outputs": [
    {
     "data": {
      "text/plain": [
       "a    0.271409\n",
       "c    1.238054\n",
       "dtype: float64"
      ]
     },
     "execution_count": 46,
     "metadata": {},
     "output_type": "execute_result"
    }
   ],
   "source": [
    "s[s > s.median()]"
   ]
  },
  {
   "cell_type": "code",
   "execution_count": 47,
   "id": "573ac8a7",
   "metadata": {
    "execution": {
     "iopub.execute_input": "2023-08-17T01:45:01.058137Z",
     "iopub.status.busy": "2023-08-17T01:45:01.057797Z",
     "iopub.status.idle": "2023-08-17T01:45:01.065360Z",
     "shell.execute_reply": "2023-08-17T01:45:01.064243Z"
    },
    "papermill": {
     "duration": 0.044895,
     "end_time": "2023-08-17T01:45:01.067254",
     "exception": false,
     "start_time": "2023-08-17T01:45:01.022359",
     "status": "completed"
    },
    "tags": []
   },
   "outputs": [
    {
     "data": {
      "text/plain": [
       "e   -0.652583\n",
       "d    0.061942\n",
       "b    0.108680\n",
       "dtype: float64"
      ]
     },
     "execution_count": 47,
     "metadata": {},
     "output_type": "execute_result"
    }
   ],
   "source": [
    "s[[4, 3, 1]]"
   ]
  },
  {
   "cell_type": "code",
   "execution_count": 48,
   "id": "d74107d6",
   "metadata": {
    "execution": {
     "iopub.execute_input": "2023-08-17T01:45:01.136378Z",
     "iopub.status.busy": "2023-08-17T01:45:01.136046Z",
     "iopub.status.idle": "2023-08-17T01:45:01.143799Z",
     "shell.execute_reply": "2023-08-17T01:45:01.142493Z"
    },
    "papermill": {
     "duration": 0.044604,
     "end_time": "2023-08-17T01:45:01.145657",
     "exception": false,
     "start_time": "2023-08-17T01:45:01.101053",
     "status": "completed"
    },
    "tags": []
   },
   "outputs": [
    {
     "data": {
      "text/plain": [
       "a    1.311812\n",
       "b    1.114806\n",
       "c    3.448897\n",
       "d    1.063900\n",
       "e    0.520699\n",
       "dtype: float64"
      ]
     },
     "execution_count": 48,
     "metadata": {},
     "output_type": "execute_result"
    }
   ],
   "source": [
    "np.exp(s)"
   ]
  },
  {
   "cell_type": "code",
   "execution_count": 49,
   "id": "231e4177",
   "metadata": {
    "execution": {
     "iopub.execute_input": "2023-08-17T01:45:01.214762Z",
     "iopub.status.busy": "2023-08-17T01:45:01.214368Z",
     "iopub.status.idle": "2023-08-17T01:45:01.220975Z",
     "shell.execute_reply": "2023-08-17T01:45:01.220120Z"
    },
    "papermill": {
     "duration": 0.043365,
     "end_time": "2023-08-17T01:45:01.222826",
     "exception": false,
     "start_time": "2023-08-17T01:45:01.179461",
     "status": "completed"
    },
    "tags": []
   },
   "outputs": [
    {
     "data": {
      "text/plain": [
       "<PandasArray>\n",
       "[ 0.2714094769951172, 0.10868044936399765,  1.2380544127163169,\n",
       " 0.06194158856494846, -0.6525830385837049]\n",
       "Length: 5, dtype: float64"
      ]
     },
     "execution_count": 49,
     "metadata": {},
     "output_type": "execute_result"
    }
   ],
   "source": [
    "s.array"
   ]
  },
  {
   "cell_type": "code",
   "execution_count": 50,
   "id": "71728dd0",
   "metadata": {
    "execution": {
     "iopub.execute_input": "2023-08-17T01:45:01.292959Z",
     "iopub.status.busy": "2023-08-17T01:45:01.292617Z",
     "iopub.status.idle": "2023-08-17T01:45:01.299873Z",
     "shell.execute_reply": "2023-08-17T01:45:01.298782Z"
    },
    "papermill": {
     "duration": 0.044309,
     "end_time": "2023-08-17T01:45:01.302363",
     "exception": false,
     "start_time": "2023-08-17T01:45:01.258054",
     "status": "completed"
    },
    "tags": []
   },
   "outputs": [
    {
     "data": {
      "text/plain": [
       "array([ 0.27140948,  0.10868045,  1.23805441,  0.06194159, -0.65258304])"
      ]
     },
     "execution_count": 50,
     "metadata": {},
     "output_type": "execute_result"
    }
   ],
   "source": [
    "s.to_numpy()"
   ]
  },
  {
   "cell_type": "code",
   "execution_count": 51,
   "id": "55686568",
   "metadata": {
    "execution": {
     "iopub.execute_input": "2023-08-17T01:45:01.372079Z",
     "iopub.status.busy": "2023-08-17T01:45:01.371748Z",
     "iopub.status.idle": "2023-08-17T01:45:01.379064Z",
     "shell.execute_reply": "2023-08-17T01:45:01.377818Z"
    },
    "papermill": {
     "duration": 0.044728,
     "end_time": "2023-08-17T01:45:01.381467",
     "exception": false,
     "start_time": "2023-08-17T01:45:01.336739",
     "status": "completed"
    },
    "tags": []
   },
   "outputs": [
    {
     "data": {
      "text/plain": [
       "0.2714094769951172"
      ]
     },
     "execution_count": 51,
     "metadata": {},
     "output_type": "execute_result"
    }
   ],
   "source": [
    "s[\"a\"]"
   ]
  },
  {
   "cell_type": "code",
   "execution_count": 52,
   "id": "233c4dab",
   "metadata": {
    "execution": {
     "iopub.execute_input": "2023-08-17T01:45:01.451821Z",
     "iopub.status.busy": "2023-08-17T01:45:01.451452Z",
     "iopub.status.idle": "2023-08-17T01:45:01.459000Z",
     "shell.execute_reply": "2023-08-17T01:45:01.457945Z"
    },
    "papermill": {
     "duration": 0.04587,
     "end_time": "2023-08-17T01:45:01.461580",
     "exception": false,
     "start_time": "2023-08-17T01:45:01.415710",
     "status": "completed"
    },
    "tags": []
   },
   "outputs": [
    {
     "data": {
      "text/plain": [
       "a     0.271409\n",
       "b     0.108680\n",
       "c     1.238054\n",
       "d     0.061942\n",
       "e    12.000000\n",
       "dtype: float64"
      ]
     },
     "execution_count": 52,
     "metadata": {},
     "output_type": "execute_result"
    }
   ],
   "source": [
    "s[\"e\"] = 12.0\n",
    "s"
   ]
  },
  {
   "cell_type": "code",
   "execution_count": 53,
   "id": "ed544526",
   "metadata": {
    "execution": {
     "iopub.execute_input": "2023-08-17T01:45:01.531525Z",
     "iopub.status.busy": "2023-08-17T01:45:01.531171Z",
     "iopub.status.idle": "2023-08-17T01:45:01.539609Z",
     "shell.execute_reply": "2023-08-17T01:45:01.538292Z"
    },
    "papermill": {
     "duration": 0.045875,
     "end_time": "2023-08-17T01:45:01.542073",
     "exception": false,
     "start_time": "2023-08-17T01:45:01.496198",
     "status": "completed"
    },
    "tags": []
   },
   "outputs": [
    {
     "data": {
      "text/plain": [
       "a         1.311812\n",
       "b         1.114806\n",
       "c         3.448897\n",
       "d         1.063900\n",
       "e    162754.791419\n",
       "dtype: float64"
      ]
     },
     "execution_count": 53,
     "metadata": {},
     "output_type": "execute_result"
    }
   ],
   "source": [
    "np.exp(s)"
   ]
  },
  {
   "cell_type": "code",
   "execution_count": 54,
   "id": "31c8a7ea",
   "metadata": {
    "execution": {
     "iopub.execute_input": "2023-08-17T01:45:01.612396Z",
     "iopub.status.busy": "2023-08-17T01:45:01.611648Z",
     "iopub.status.idle": "2023-08-17T01:45:01.623252Z",
     "shell.execute_reply": "2023-08-17T01:45:01.621907Z"
    },
    "papermill": {
     "duration": 0.049008,
     "end_time": "2023-08-17T01:45:01.625521",
     "exception": false,
     "start_time": "2023-08-17T01:45:01.576513",
     "status": "completed"
    },
    "tags": []
   },
   "outputs": [
    {
     "data": {
      "text/plain": [
       "a         NaN\n",
       "b    0.217361\n",
       "c    2.476109\n",
       "d    0.123883\n",
       "e         NaN\n",
       "dtype: float64"
      ]
     },
     "execution_count": 54,
     "metadata": {},
     "output_type": "execute_result"
    }
   ],
   "source": [
    "s[1:] + s[:-1]"
   ]
  },
  {
   "cell_type": "code",
   "execution_count": 55,
   "id": "04ff8b00",
   "metadata": {
    "execution": {
     "iopub.execute_input": "2023-08-17T01:45:01.696302Z",
     "iopub.status.busy": "2023-08-17T01:45:01.695962Z",
     "iopub.status.idle": "2023-08-17T01:45:01.702422Z",
     "shell.execute_reply": "2023-08-17T01:45:01.701836Z"
    },
    "papermill": {
     "duration": 0.044203,
     "end_time": "2023-08-17T01:45:01.704051",
     "exception": false,
     "start_time": "2023-08-17T01:45:01.659848",
     "status": "completed"
    },
    "tags": []
   },
   "outputs": [
    {
     "data": {
      "text/plain": [
       "0    0.220955\n",
       "1   -0.832089\n",
       "2   -0.718401\n",
       "3    0.983259\n",
       "4   -0.267043\n",
       "Name: something, dtype: float64"
      ]
     },
     "execution_count": 55,
     "metadata": {},
     "output_type": "execute_result"
    }
   ],
   "source": [
    "s = pd.Series(np.random.randn(5), name=\"something\")\n",
    "s"
   ]
  },
  {
   "cell_type": "code",
   "execution_count": 56,
   "id": "fd54e7f8",
   "metadata": {
    "execution": {
     "iopub.execute_input": "2023-08-17T01:45:01.773884Z",
     "iopub.status.busy": "2023-08-17T01:45:01.773566Z",
     "iopub.status.idle": "2023-08-17T01:45:01.779085Z",
     "shell.execute_reply": "2023-08-17T01:45:01.778244Z"
    },
    "papermill": {
     "duration": 0.042777,
     "end_time": "2023-08-17T01:45:01.780937",
     "exception": false,
     "start_time": "2023-08-17T01:45:01.738160",
     "status": "completed"
    },
    "tags": []
   },
   "outputs": [
    {
     "data": {
      "text/plain": [
       "'different'"
      ]
     },
     "execution_count": 56,
     "metadata": {},
     "output_type": "execute_result"
    }
   ],
   "source": [
    "s2 = s.rename(\"different\")\n",
    "s2.name"
   ]
  },
  {
   "cell_type": "code",
   "execution_count": 57,
   "id": "b8bd1c2a",
   "metadata": {
    "execution": {
     "iopub.execute_input": "2023-08-17T01:45:01.852550Z",
     "iopub.status.busy": "2023-08-17T01:45:01.852167Z",
     "iopub.status.idle": "2023-08-17T01:45:01.863723Z",
     "shell.execute_reply": "2023-08-17T01:45:01.862808Z"
    },
    "papermill": {
     "duration": 0.049553,
     "end_time": "2023-08-17T01:45:01.865522",
     "exception": false,
     "start_time": "2023-08-17T01:45:01.815969",
     "status": "completed"
    },
    "tags": []
   },
   "outputs": [
    {
     "data": {
      "text/html": [
       "<div>\n",
       "<style scoped>\n",
       "    .dataframe tbody tr th:only-of-type {\n",
       "        vertical-align: middle;\n",
       "    }\n",
       "\n",
       "    .dataframe tbody tr th {\n",
       "        vertical-align: top;\n",
       "    }\n",
       "\n",
       "    .dataframe thead th {\n",
       "        text-align: right;\n",
       "    }\n",
       "</style>\n",
       "<table border=\"1\" class=\"dataframe\">\n",
       "  <thead>\n",
       "    <tr style=\"text-align: right;\">\n",
       "      <th></th>\n",
       "      <th>one</th>\n",
       "      <th>two</th>\n",
       "    </tr>\n",
       "  </thead>\n",
       "  <tbody>\n",
       "    <tr>\n",
       "      <th>a</th>\n",
       "      <td>1.0</td>\n",
       "      <td>1.0</td>\n",
       "    </tr>\n",
       "    <tr>\n",
       "      <th>b</th>\n",
       "      <td>2.0</td>\n",
       "      <td>2.0</td>\n",
       "    </tr>\n",
       "    <tr>\n",
       "      <th>c</th>\n",
       "      <td>3.0</td>\n",
       "      <td>3.0</td>\n",
       "    </tr>\n",
       "    <tr>\n",
       "      <th>d</th>\n",
       "      <td>NaN</td>\n",
       "      <td>4.0</td>\n",
       "    </tr>\n",
       "  </tbody>\n",
       "</table>\n",
       "</div>"
      ],
      "text/plain": [
       "   one  two\n",
       "a  1.0  1.0\n",
       "b  2.0  2.0\n",
       "c  3.0  3.0\n",
       "d  NaN  4.0"
      ]
     },
     "execution_count": 57,
     "metadata": {},
     "output_type": "execute_result"
    }
   ],
   "source": [
    "d = {\n",
    "\"one\": pd.Series([1.0, 2.0, 3.0], index=[\"a\", \"b\", \"c\"]),\n",
    "\"two\": pd.Series([1.0, 2.0, 3.0, 4.0], index=[\"a\", \"b\", \"c\", \"d\"]),\n",
    "}\n",
    "\n",
    "df = pd.DataFrame(d)\n",
    "df"
   ]
  },
  {
   "cell_type": "code",
   "execution_count": 58,
   "id": "d45e8a73",
   "metadata": {
    "execution": {
     "iopub.execute_input": "2023-08-17T01:45:01.939078Z",
     "iopub.status.busy": "2023-08-17T01:45:01.938717Z",
     "iopub.status.idle": "2023-08-17T01:45:01.949245Z",
     "shell.execute_reply": "2023-08-17T01:45:01.948165Z"
    },
    "papermill": {
     "duration": 0.050544,
     "end_time": "2023-08-17T01:45:01.951541",
     "exception": false,
     "start_time": "2023-08-17T01:45:01.900997",
     "status": "completed"
    },
    "tags": []
   },
   "outputs": [
    {
     "data": {
      "text/html": [
       "<div>\n",
       "<style scoped>\n",
       "    .dataframe tbody tr th:only-of-type {\n",
       "        vertical-align: middle;\n",
       "    }\n",
       "\n",
       "    .dataframe tbody tr th {\n",
       "        vertical-align: top;\n",
       "    }\n",
       "\n",
       "    .dataframe thead th {\n",
       "        text-align: right;\n",
       "    }\n",
       "</style>\n",
       "<table border=\"1\" class=\"dataframe\">\n",
       "  <thead>\n",
       "    <tr style=\"text-align: right;\">\n",
       "      <th></th>\n",
       "      <th>one</th>\n",
       "      <th>two</th>\n",
       "    </tr>\n",
       "  </thead>\n",
       "  <tbody>\n",
       "    <tr>\n",
       "      <th>d</th>\n",
       "      <td>NaN</td>\n",
       "      <td>4.0</td>\n",
       "    </tr>\n",
       "    <tr>\n",
       "      <th>b</th>\n",
       "      <td>2.0</td>\n",
       "      <td>2.0</td>\n",
       "    </tr>\n",
       "    <tr>\n",
       "      <th>a</th>\n",
       "      <td>1.0</td>\n",
       "      <td>1.0</td>\n",
       "    </tr>\n",
       "  </tbody>\n",
       "</table>\n",
       "</div>"
      ],
      "text/plain": [
       "   one  two\n",
       "d  NaN  4.0\n",
       "b  2.0  2.0\n",
       "a  1.0  1.0"
      ]
     },
     "execution_count": 58,
     "metadata": {},
     "output_type": "execute_result"
    }
   ],
   "source": [
    "pd.DataFrame(d, index=[\"d\", \"b\", \"a\"])"
   ]
  },
  {
   "cell_type": "code",
   "execution_count": 59,
   "id": "bc0d7250",
   "metadata": {
    "execution": {
     "iopub.execute_input": "2023-08-17T01:45:02.024067Z",
     "iopub.status.busy": "2023-08-17T01:45:02.023692Z",
     "iopub.status.idle": "2023-08-17T01:45:02.035788Z",
     "shell.execute_reply": "2023-08-17T01:45:02.034328Z"
    },
    "papermill": {
     "duration": 0.051022,
     "end_time": "2023-08-17T01:45:02.037618",
     "exception": false,
     "start_time": "2023-08-17T01:45:01.986596",
     "status": "completed"
    },
    "tags": []
   },
   "outputs": [
    {
     "data": {
      "text/html": [
       "<div>\n",
       "<style scoped>\n",
       "    .dataframe tbody tr th:only-of-type {\n",
       "        vertical-align: middle;\n",
       "    }\n",
       "\n",
       "    .dataframe tbody tr th {\n",
       "        vertical-align: top;\n",
       "    }\n",
       "\n",
       "    .dataframe thead th {\n",
       "        text-align: right;\n",
       "    }\n",
       "</style>\n",
       "<table border=\"1\" class=\"dataframe\">\n",
       "  <thead>\n",
       "    <tr style=\"text-align: right;\">\n",
       "      <th></th>\n",
       "      <th>two</th>\n",
       "      <th>three</th>\n",
       "    </tr>\n",
       "  </thead>\n",
       "  <tbody>\n",
       "    <tr>\n",
       "      <th>d</th>\n",
       "      <td>4.0</td>\n",
       "      <td>NaN</td>\n",
       "    </tr>\n",
       "    <tr>\n",
       "      <th>b</th>\n",
       "      <td>2.0</td>\n",
       "      <td>NaN</td>\n",
       "    </tr>\n",
       "    <tr>\n",
       "      <th>a</th>\n",
       "      <td>1.0</td>\n",
       "      <td>NaN</td>\n",
       "    </tr>\n",
       "  </tbody>\n",
       "</table>\n",
       "</div>"
      ],
      "text/plain": [
       "   two three\n",
       "d  4.0   NaN\n",
       "b  2.0   NaN\n",
       "a  1.0   NaN"
      ]
     },
     "execution_count": 59,
     "metadata": {},
     "output_type": "execute_result"
    }
   ],
   "source": [
    "pd.DataFrame(d, index=[\"d\", \"b\", \"a\"], columns=[\"two\", \"three\"])"
   ]
  },
  {
   "cell_type": "code",
   "execution_count": 60,
   "id": "5c650cf5",
   "metadata": {
    "execution": {
     "iopub.execute_input": "2023-08-17T01:45:02.109802Z",
     "iopub.status.busy": "2023-08-17T01:45:02.109391Z",
     "iopub.status.idle": "2023-08-17T01:45:02.115866Z",
     "shell.execute_reply": "2023-08-17T01:45:02.115224Z"
    },
    "papermill": {
     "duration": 0.044735,
     "end_time": "2023-08-17T01:45:02.117594",
     "exception": false,
     "start_time": "2023-08-17T01:45:02.072859",
     "status": "completed"
    },
    "tags": []
   },
   "outputs": [
    {
     "data": {
      "text/plain": [
       "Index(['a', 'b', 'c', 'd'], dtype='object')"
      ]
     },
     "execution_count": 60,
     "metadata": {},
     "output_type": "execute_result"
    }
   ],
   "source": [
    "df.index"
   ]
  },
  {
   "cell_type": "code",
   "execution_count": 61,
   "id": "ecb7cb3c",
   "metadata": {
    "execution": {
     "iopub.execute_input": "2023-08-17T01:45:02.190494Z",
     "iopub.status.busy": "2023-08-17T01:45:02.190126Z",
     "iopub.status.idle": "2023-08-17T01:45:02.196772Z",
     "shell.execute_reply": "2023-08-17T01:45:02.195578Z"
    },
    "papermill": {
     "duration": 0.046104,
     "end_time": "2023-08-17T01:45:02.198896",
     "exception": false,
     "start_time": "2023-08-17T01:45:02.152792",
     "status": "completed"
    },
    "tags": []
   },
   "outputs": [
    {
     "data": {
      "text/plain": [
       "Index(['one', 'two'], dtype='object')"
      ]
     },
     "execution_count": 61,
     "metadata": {},
     "output_type": "execute_result"
    }
   ],
   "source": [
    "df.columns"
   ]
  },
  {
   "cell_type": "code",
   "execution_count": 62,
   "id": "2a55c12a",
   "metadata": {
    "execution": {
     "iopub.execute_input": "2023-08-17T01:45:02.274219Z",
     "iopub.status.busy": "2023-08-17T01:45:02.273584Z",
     "iopub.status.idle": "2023-08-17T01:45:02.282365Z",
     "shell.execute_reply": "2023-08-17T01:45:02.281790Z"
    },
    "papermill": {
     "duration": 0.04833,
     "end_time": "2023-08-17T01:45:02.284014",
     "exception": false,
     "start_time": "2023-08-17T01:45:02.235684",
     "status": "completed"
    },
    "tags": []
   },
   "outputs": [
    {
     "data": {
      "text/html": [
       "<div>\n",
       "<style scoped>\n",
       "    .dataframe tbody tr th:only-of-type {\n",
       "        vertical-align: middle;\n",
       "    }\n",
       "\n",
       "    .dataframe tbody tr th {\n",
       "        vertical-align: top;\n",
       "    }\n",
       "\n",
       "    .dataframe thead th {\n",
       "        text-align: right;\n",
       "    }\n",
       "</style>\n",
       "<table border=\"1\" class=\"dataframe\">\n",
       "  <thead>\n",
       "    <tr style=\"text-align: right;\">\n",
       "      <th></th>\n",
       "      <th>one</th>\n",
       "      <th>two</th>\n",
       "    </tr>\n",
       "  </thead>\n",
       "  <tbody>\n",
       "    <tr>\n",
       "      <th>0</th>\n",
       "      <td>1.0</td>\n",
       "      <td>4.0</td>\n",
       "    </tr>\n",
       "    <tr>\n",
       "      <th>1</th>\n",
       "      <td>2.0</td>\n",
       "      <td>3.0</td>\n",
       "    </tr>\n",
       "    <tr>\n",
       "      <th>2</th>\n",
       "      <td>3.0</td>\n",
       "      <td>2.0</td>\n",
       "    </tr>\n",
       "    <tr>\n",
       "      <th>3</th>\n",
       "      <td>4.0</td>\n",
       "      <td>1.0</td>\n",
       "    </tr>\n",
       "  </tbody>\n",
       "</table>\n",
       "</div>"
      ],
      "text/plain": [
       "   one  two\n",
       "0  1.0  4.0\n",
       "1  2.0  3.0\n",
       "2  3.0  2.0\n",
       "3  4.0  1.0"
      ]
     },
     "execution_count": 62,
     "metadata": {},
     "output_type": "execute_result"
    }
   ],
   "source": [
    "d = {\"one\": [1.0, 2.0, 3.0, 4.0], \"two\": [4.0, 3.0, 2.0, 1.0]}\n",
    "pd.DataFrame(d)"
   ]
  },
  {
   "cell_type": "code",
   "execution_count": 63,
   "id": "518cd6b4",
   "metadata": {
    "execution": {
     "iopub.execute_input": "2023-08-17T01:45:02.356798Z",
     "iopub.status.busy": "2023-08-17T01:45:02.356205Z",
     "iopub.status.idle": "2023-08-17T01:45:02.365539Z",
     "shell.execute_reply": "2023-08-17T01:45:02.364660Z"
    },
    "papermill": {
     "duration": 0.047843,
     "end_time": "2023-08-17T01:45:02.367275",
     "exception": false,
     "start_time": "2023-08-17T01:45:02.319432",
     "status": "completed"
    },
    "tags": []
   },
   "outputs": [
    {
     "data": {
      "text/html": [
       "<div>\n",
       "<style scoped>\n",
       "    .dataframe tbody tr th:only-of-type {\n",
       "        vertical-align: middle;\n",
       "    }\n",
       "\n",
       "    .dataframe tbody tr th {\n",
       "        vertical-align: top;\n",
       "    }\n",
       "\n",
       "    .dataframe thead th {\n",
       "        text-align: right;\n",
       "    }\n",
       "</style>\n",
       "<table border=\"1\" class=\"dataframe\">\n",
       "  <thead>\n",
       "    <tr style=\"text-align: right;\">\n",
       "      <th></th>\n",
       "      <th>one</th>\n",
       "      <th>two</th>\n",
       "    </tr>\n",
       "  </thead>\n",
       "  <tbody>\n",
       "    <tr>\n",
       "      <th>a</th>\n",
       "      <td>1.0</td>\n",
       "      <td>4.0</td>\n",
       "    </tr>\n",
       "    <tr>\n",
       "      <th>b</th>\n",
       "      <td>2.0</td>\n",
       "      <td>3.0</td>\n",
       "    </tr>\n",
       "    <tr>\n",
       "      <th>c</th>\n",
       "      <td>3.0</td>\n",
       "      <td>2.0</td>\n",
       "    </tr>\n",
       "    <tr>\n",
       "      <th>d</th>\n",
       "      <td>4.0</td>\n",
       "      <td>1.0</td>\n",
       "    </tr>\n",
       "  </tbody>\n",
       "</table>\n",
       "</div>"
      ],
      "text/plain": [
       "   one  two\n",
       "a  1.0  4.0\n",
       "b  2.0  3.0\n",
       "c  3.0  2.0\n",
       "d  4.0  1.0"
      ]
     },
     "execution_count": 63,
     "metadata": {},
     "output_type": "execute_result"
    }
   ],
   "source": [
    "pd.DataFrame(d, index=[\"a\", \"b\", \"c\", \"d\"])"
   ]
  },
  {
   "cell_type": "code",
   "execution_count": 64,
   "id": "bebe3b7a",
   "metadata": {
    "execution": {
     "iopub.execute_input": "2023-08-17T01:45:02.440426Z",
     "iopub.status.busy": "2023-08-17T01:45:02.440070Z",
     "iopub.status.idle": "2023-08-17T01:45:02.450202Z",
     "shell.execute_reply": "2023-08-17T01:45:02.449176Z"
    },
    "papermill": {
     "duration": 0.050442,
     "end_time": "2023-08-17T01:45:02.453317",
     "exception": false,
     "start_time": "2023-08-17T01:45:02.402875",
     "status": "completed"
    },
    "tags": []
   },
   "outputs": [
    {
     "data": {
      "text/html": [
       "<div>\n",
       "<style scoped>\n",
       "    .dataframe tbody tr th:only-of-type {\n",
       "        vertical-align: middle;\n",
       "    }\n",
       "\n",
       "    .dataframe tbody tr th {\n",
       "        vertical-align: top;\n",
       "    }\n",
       "\n",
       "    .dataframe thead th {\n",
       "        text-align: right;\n",
       "    }\n",
       "</style>\n",
       "<table border=\"1\" class=\"dataframe\">\n",
       "  <thead>\n",
       "    <tr style=\"text-align: right;\">\n",
       "      <th></th>\n",
       "      <th>A</th>\n",
       "      <th>B</th>\n",
       "      <th>C</th>\n",
       "    </tr>\n",
       "  </thead>\n",
       "  <tbody>\n",
       "    <tr>\n",
       "      <th>0</th>\n",
       "      <td>1</td>\n",
       "      <td>2.0</td>\n",
       "      <td>b'Hello'</td>\n",
       "    </tr>\n",
       "    <tr>\n",
       "      <th>1</th>\n",
       "      <td>2</td>\n",
       "      <td>3.0</td>\n",
       "      <td>b'World'</td>\n",
       "    </tr>\n",
       "  </tbody>\n",
       "</table>\n",
       "</div>"
      ],
      "text/plain": [
       "   A    B         C\n",
       "0  1  2.0  b'Hello'\n",
       "1  2  3.0  b'World'"
      ]
     },
     "execution_count": 64,
     "metadata": {},
     "output_type": "execute_result"
    }
   ],
   "source": [
    "data = np.zeros((2,), dtype=[(\"A\", \"i4\"), (\"B\", \"f4\"), (\"C\", \"a10\")])\n",
    "data[:] = [(1, 2.0, \"Hello\"), (2, 3.0, \"World\")]\n",
    "pd.DataFrame(data)"
   ]
  },
  {
   "cell_type": "code",
   "execution_count": 65,
   "id": "9e89ed16",
   "metadata": {
    "execution": {
     "iopub.execute_input": "2023-08-17T01:45:02.527016Z",
     "iopub.status.busy": "2023-08-17T01:45:02.526653Z",
     "iopub.status.idle": "2023-08-17T01:45:02.536084Z",
     "shell.execute_reply": "2023-08-17T01:45:02.535215Z"
    },
    "papermill": {
     "duration": 0.048292,
     "end_time": "2023-08-17T01:45:02.537840",
     "exception": false,
     "start_time": "2023-08-17T01:45:02.489548",
     "status": "completed"
    },
    "tags": []
   },
   "outputs": [
    {
     "data": {
      "text/html": [
       "<div>\n",
       "<style scoped>\n",
       "    .dataframe tbody tr th:only-of-type {\n",
       "        vertical-align: middle;\n",
       "    }\n",
       "\n",
       "    .dataframe tbody tr th {\n",
       "        vertical-align: top;\n",
       "    }\n",
       "\n",
       "    .dataframe thead th {\n",
       "        text-align: right;\n",
       "    }\n",
       "</style>\n",
       "<table border=\"1\" class=\"dataframe\">\n",
       "  <thead>\n",
       "    <tr style=\"text-align: right;\">\n",
       "      <th></th>\n",
       "      <th>A</th>\n",
       "      <th>B</th>\n",
       "      <th>C</th>\n",
       "    </tr>\n",
       "  </thead>\n",
       "  <tbody>\n",
       "    <tr>\n",
       "      <th>first</th>\n",
       "      <td>1</td>\n",
       "      <td>2.0</td>\n",
       "      <td>b'Hello'</td>\n",
       "    </tr>\n",
       "    <tr>\n",
       "      <th>second</th>\n",
       "      <td>2</td>\n",
       "      <td>3.0</td>\n",
       "      <td>b'World'</td>\n",
       "    </tr>\n",
       "  </tbody>\n",
       "</table>\n",
       "</div>"
      ],
      "text/plain": [
       "        A    B         C\n",
       "first   1  2.0  b'Hello'\n",
       "second  2  3.0  b'World'"
      ]
     },
     "execution_count": 65,
     "metadata": {},
     "output_type": "execute_result"
    }
   ],
   "source": [
    "pd.DataFrame(data, index=[\"first\", \"second\"])"
   ]
  },
  {
   "cell_type": "code",
   "execution_count": 66,
   "id": "e5eb2fc5",
   "metadata": {
    "execution": {
     "iopub.execute_input": "2023-08-17T01:45:02.610897Z",
     "iopub.status.busy": "2023-08-17T01:45:02.610542Z",
     "iopub.status.idle": "2023-08-17T01:45:02.620540Z",
     "shell.execute_reply": "2023-08-17T01:45:02.619528Z"
    },
    "papermill": {
     "duration": 0.049509,
     "end_time": "2023-08-17T01:45:02.622242",
     "exception": false,
     "start_time": "2023-08-17T01:45:02.572733",
     "status": "completed"
    },
    "tags": []
   },
   "outputs": [
    {
     "data": {
      "text/html": [
       "<div>\n",
       "<style scoped>\n",
       "    .dataframe tbody tr th:only-of-type {\n",
       "        vertical-align: middle;\n",
       "    }\n",
       "\n",
       "    .dataframe tbody tr th {\n",
       "        vertical-align: top;\n",
       "    }\n",
       "\n",
       "    .dataframe thead th {\n",
       "        text-align: right;\n",
       "    }\n",
       "</style>\n",
       "<table border=\"1\" class=\"dataframe\">\n",
       "  <thead>\n",
       "    <tr style=\"text-align: right;\">\n",
       "      <th></th>\n",
       "      <th>C</th>\n",
       "      <th>A</th>\n",
       "      <th>B</th>\n",
       "    </tr>\n",
       "  </thead>\n",
       "  <tbody>\n",
       "    <tr>\n",
       "      <th>0</th>\n",
       "      <td>b'Hello'</td>\n",
       "      <td>1</td>\n",
       "      <td>2.0</td>\n",
       "    </tr>\n",
       "    <tr>\n",
       "      <th>1</th>\n",
       "      <td>b'World'</td>\n",
       "      <td>2</td>\n",
       "      <td>3.0</td>\n",
       "    </tr>\n",
       "  </tbody>\n",
       "</table>\n",
       "</div>"
      ],
      "text/plain": [
       "          C  A    B\n",
       "0  b'Hello'  1  2.0\n",
       "1  b'World'  2  3.0"
      ]
     },
     "execution_count": 66,
     "metadata": {},
     "output_type": "execute_result"
    }
   ],
   "source": [
    "pd.DataFrame(data, columns=[\"C\", \"A\", \"B\"])"
   ]
  },
  {
   "cell_type": "code",
   "execution_count": 67,
   "id": "769a3aa9",
   "metadata": {
    "execution": {
     "iopub.execute_input": "2023-08-17T01:45:02.695974Z",
     "iopub.status.busy": "2023-08-17T01:45:02.695666Z",
     "iopub.status.idle": "2023-08-17T01:45:02.706139Z",
     "shell.execute_reply": "2023-08-17T01:45:02.704666Z"
    },
    "papermill": {
     "duration": 0.049173,
     "end_time": "2023-08-17T01:45:02.708307",
     "exception": false,
     "start_time": "2023-08-17T01:45:02.659134",
     "status": "completed"
    },
    "tags": []
   },
   "outputs": [
    {
     "data": {
      "text/html": [
       "<div>\n",
       "<style scoped>\n",
       "    .dataframe tbody tr th:only-of-type {\n",
       "        vertical-align: middle;\n",
       "    }\n",
       "\n",
       "    .dataframe tbody tr th {\n",
       "        vertical-align: top;\n",
       "    }\n",
       "\n",
       "    .dataframe thead th {\n",
       "        text-align: right;\n",
       "    }\n",
       "</style>\n",
       "<table border=\"1\" class=\"dataframe\">\n",
       "  <thead>\n",
       "    <tr style=\"text-align: right;\">\n",
       "      <th></th>\n",
       "      <th>a</th>\n",
       "      <th>b</th>\n",
       "      <th>c</th>\n",
       "    </tr>\n",
       "  </thead>\n",
       "  <tbody>\n",
       "    <tr>\n",
       "      <th>0</th>\n",
       "      <td>1</td>\n",
       "      <td>2</td>\n",
       "      <td>NaN</td>\n",
       "    </tr>\n",
       "    <tr>\n",
       "      <th>1</th>\n",
       "      <td>5</td>\n",
       "      <td>10</td>\n",
       "      <td>20.0</td>\n",
       "    </tr>\n",
       "  </tbody>\n",
       "</table>\n",
       "</div>"
      ],
      "text/plain": [
       "   a   b     c\n",
       "0  1   2   NaN\n",
       "1  5  10  20.0"
      ]
     },
     "execution_count": 67,
     "metadata": {},
     "output_type": "execute_result"
    }
   ],
   "source": [
    "data2 = [{\"a\": 1, \"b\": 2}, {\"a\": 5, \"b\": 10, \"c\": 20}]\n",
    "pd.DataFrame(data2)"
   ]
  },
  {
   "cell_type": "code",
   "execution_count": 68,
   "id": "94e19510",
   "metadata": {
    "execution": {
     "iopub.execute_input": "2023-08-17T01:45:02.835227Z",
     "iopub.status.busy": "2023-08-17T01:45:02.834901Z",
     "iopub.status.idle": "2023-08-17T01:45:02.844195Z",
     "shell.execute_reply": "2023-08-17T01:45:02.843270Z"
    },
    "papermill": {
     "duration": 0.048964,
     "end_time": "2023-08-17T01:45:02.845762",
     "exception": false,
     "start_time": "2023-08-17T01:45:02.796798",
     "status": "completed"
    },
    "tags": []
   },
   "outputs": [
    {
     "data": {
      "text/html": [
       "<div>\n",
       "<style scoped>\n",
       "    .dataframe tbody tr th:only-of-type {\n",
       "        vertical-align: middle;\n",
       "    }\n",
       "\n",
       "    .dataframe tbody tr th {\n",
       "        vertical-align: top;\n",
       "    }\n",
       "\n",
       "    .dataframe thead th {\n",
       "        text-align: right;\n",
       "    }\n",
       "</style>\n",
       "<table border=\"1\" class=\"dataframe\">\n",
       "  <thead>\n",
       "    <tr style=\"text-align: right;\">\n",
       "      <th></th>\n",
       "      <th>a</th>\n",
       "      <th>b</th>\n",
       "      <th>c</th>\n",
       "    </tr>\n",
       "  </thead>\n",
       "  <tbody>\n",
       "    <tr>\n",
       "      <th>first</th>\n",
       "      <td>1</td>\n",
       "      <td>2</td>\n",
       "      <td>NaN</td>\n",
       "    </tr>\n",
       "    <tr>\n",
       "      <th>second</th>\n",
       "      <td>5</td>\n",
       "      <td>10</td>\n",
       "      <td>20.0</td>\n",
       "    </tr>\n",
       "  </tbody>\n",
       "</table>\n",
       "</div>"
      ],
      "text/plain": [
       "        a   b     c\n",
       "first   1   2   NaN\n",
       "second  5  10  20.0"
      ]
     },
     "execution_count": 68,
     "metadata": {},
     "output_type": "execute_result"
    }
   ],
   "source": [
    "pd.DataFrame(data2, index=[\"first\", \"second\"])"
   ]
  },
  {
   "cell_type": "code",
   "execution_count": 69,
   "id": "b697279b",
   "metadata": {
    "execution": {
     "iopub.execute_input": "2023-08-17T01:45:02.920785Z",
     "iopub.status.busy": "2023-08-17T01:45:02.920146Z",
     "iopub.status.idle": "2023-08-17T01:45:02.929344Z",
     "shell.execute_reply": "2023-08-17T01:45:02.928521Z"
    },
    "papermill": {
     "duration": 0.050091,
     "end_time": "2023-08-17T01:45:02.932218",
     "exception": false,
     "start_time": "2023-08-17T01:45:02.882127",
     "status": "completed"
    },
    "tags": []
   },
   "outputs": [
    {
     "data": {
      "text/html": [
       "<div>\n",
       "<style scoped>\n",
       "    .dataframe tbody tr th:only-of-type {\n",
       "        vertical-align: middle;\n",
       "    }\n",
       "\n",
       "    .dataframe tbody tr th {\n",
       "        vertical-align: top;\n",
       "    }\n",
       "\n",
       "    .dataframe thead th {\n",
       "        text-align: right;\n",
       "    }\n",
       "</style>\n",
       "<table border=\"1\" class=\"dataframe\">\n",
       "  <thead>\n",
       "    <tr style=\"text-align: right;\">\n",
       "      <th></th>\n",
       "      <th>a</th>\n",
       "      <th>b</th>\n",
       "    </tr>\n",
       "  </thead>\n",
       "  <tbody>\n",
       "    <tr>\n",
       "      <th>0</th>\n",
       "      <td>1</td>\n",
       "      <td>2</td>\n",
       "    </tr>\n",
       "    <tr>\n",
       "      <th>1</th>\n",
       "      <td>5</td>\n",
       "      <td>10</td>\n",
       "    </tr>\n",
       "  </tbody>\n",
       "</table>\n",
       "</div>"
      ],
      "text/plain": [
       "   a   b\n",
       "0  1   2\n",
       "1  5  10"
      ]
     },
     "execution_count": 69,
     "metadata": {},
     "output_type": "execute_result"
    }
   ],
   "source": [
    "pd.DataFrame(data2, columns=[\"a\", \"b\"])"
   ]
  },
  {
   "cell_type": "code",
   "execution_count": 70,
   "id": "d8a91452",
   "metadata": {
    "execution": {
     "iopub.execute_input": "2023-08-17T01:45:03.008053Z",
     "iopub.status.busy": "2023-08-17T01:45:03.007685Z",
     "iopub.status.idle": "2023-08-17T01:45:03.026660Z",
     "shell.execute_reply": "2023-08-17T01:45:03.025541Z"
    },
    "papermill": {
     "duration": 0.059061,
     "end_time": "2023-08-17T01:45:03.028566",
     "exception": false,
     "start_time": "2023-08-17T01:45:02.969505",
     "status": "completed"
    },
    "tags": []
   },
   "outputs": [
    {
     "data": {
      "text/html": [
       "<div>\n",
       "<style scoped>\n",
       "    .dataframe tbody tr th:only-of-type {\n",
       "        vertical-align: middle;\n",
       "    }\n",
       "\n",
       "    .dataframe tbody tr th {\n",
       "        vertical-align: top;\n",
       "    }\n",
       "\n",
       "    .dataframe thead tr th {\n",
       "        text-align: left;\n",
       "    }\n",
       "</style>\n",
       "<table border=\"1\" class=\"dataframe\">\n",
       "  <thead>\n",
       "    <tr>\n",
       "      <th></th>\n",
       "      <th></th>\n",
       "      <th colspan=\"3\" halign=\"left\">a</th>\n",
       "      <th colspan=\"2\" halign=\"left\">b</th>\n",
       "    </tr>\n",
       "    <tr>\n",
       "      <th></th>\n",
       "      <th></th>\n",
       "      <th>b</th>\n",
       "      <th>a</th>\n",
       "      <th>c</th>\n",
       "      <th>a</th>\n",
       "      <th>b</th>\n",
       "    </tr>\n",
       "  </thead>\n",
       "  <tbody>\n",
       "    <tr>\n",
       "      <th rowspan=\"3\" valign=\"top\">A</th>\n",
       "      <th>B</th>\n",
       "      <td>1.0</td>\n",
       "      <td>4.0</td>\n",
       "      <td>5.0</td>\n",
       "      <td>8.0</td>\n",
       "      <td>10.0</td>\n",
       "    </tr>\n",
       "    <tr>\n",
       "      <th>C</th>\n",
       "      <td>2.0</td>\n",
       "      <td>3.0</td>\n",
       "      <td>6.0</td>\n",
       "      <td>7.0</td>\n",
       "      <td>NaN</td>\n",
       "    </tr>\n",
       "    <tr>\n",
       "      <th>D</th>\n",
       "      <td>NaN</td>\n",
       "      <td>NaN</td>\n",
       "      <td>NaN</td>\n",
       "      <td>NaN</td>\n",
       "      <td>9.0</td>\n",
       "    </tr>\n",
       "  </tbody>\n",
       "</table>\n",
       "</div>"
      ],
      "text/plain": [
       "       a              b      \n",
       "       b    a    c    a     b\n",
       "A B  1.0  4.0  5.0  8.0  10.0\n",
       "  C  2.0  3.0  6.0  7.0   NaN\n",
       "  D  NaN  NaN  NaN  NaN   9.0"
      ]
     },
     "execution_count": 70,
     "metadata": {},
     "output_type": "execute_result"
    }
   ],
   "source": [
    "pd.DataFrame({\n",
    "    \n",
    "(\"a\", \"b\"): {(\"A\", \"B\"): 1, (\"A\", \"C\"): 2},\n",
    "(\"a\", \"a\"): {(\"A\", \"C\"): 3, (\"A\", \"B\"): 4},\n",
    "(\"a\", \"c\"): {(\"A\", \"B\"): 5, (\"A\", \"C\"): 6},\n",
    "(\"b\", \"a\"): {(\"A\", \"C\"): 7, (\"A\", \"B\"): 8},\n",
    "(\"b\", \"b\"): {(\"A\", \"D\"): 9, (\"A\", \"B\"): 10}\n",
    "    \n",
    "})"
   ]
  },
  {
   "cell_type": "code",
   "execution_count": 71,
   "id": "6025458b",
   "metadata": {
    "execution": {
     "iopub.execute_input": "2023-08-17T01:45:03.105545Z",
     "iopub.status.busy": "2023-08-17T01:45:03.105146Z",
     "iopub.status.idle": "2023-08-17T01:45:03.116276Z",
     "shell.execute_reply": "2023-08-17T01:45:03.115079Z"
    },
    "papermill": {
     "duration": 0.053177,
     "end_time": "2023-08-17T01:45:03.118832",
     "exception": false,
     "start_time": "2023-08-17T01:45:03.065655",
     "status": "completed"
    },
    "tags": []
   },
   "outputs": [
    {
     "data": {
      "text/html": [
       "<div>\n",
       "<style scoped>\n",
       "    .dataframe tbody tr th:only-of-type {\n",
       "        vertical-align: middle;\n",
       "    }\n",
       "\n",
       "    .dataframe tbody tr th {\n",
       "        vertical-align: top;\n",
       "    }\n",
       "\n",
       "    .dataframe thead th {\n",
       "        text-align: right;\n",
       "    }\n",
       "</style>\n",
       "<table border=\"1\" class=\"dataframe\">\n",
       "  <thead>\n",
       "    <tr style=\"text-align: right;\">\n",
       "      <th></th>\n",
       "      <th>x</th>\n",
       "      <th>y</th>\n",
       "    </tr>\n",
       "  </thead>\n",
       "  <tbody>\n",
       "    <tr>\n",
       "      <th>0</th>\n",
       "      <td>0</td>\n",
       "      <td>0</td>\n",
       "    </tr>\n",
       "    <tr>\n",
       "      <th>1</th>\n",
       "      <td>0</td>\n",
       "      <td>3</td>\n",
       "    </tr>\n",
       "    <tr>\n",
       "      <th>2</th>\n",
       "      <td>2</td>\n",
       "      <td>3</td>\n",
       "    </tr>\n",
       "  </tbody>\n",
       "</table>\n",
       "</div>"
      ],
      "text/plain": [
       "   x  y\n",
       "0  0  0\n",
       "1  0  3\n",
       "2  2  3"
      ]
     },
     "execution_count": 71,
     "metadata": {},
     "output_type": "execute_result"
    }
   ],
   "source": [
    "from collections import namedtuple\n",
    "Point = namedtuple(\"Point\", \"x y\")\n",
    "pd.DataFrame([Point(0, 0), Point(0, 3), (2, 3)])"
   ]
  },
  {
   "cell_type": "code",
   "execution_count": 72,
   "id": "df35bb0c",
   "metadata": {
    "execution": {
     "iopub.execute_input": "2023-08-17T01:45:03.194595Z",
     "iopub.status.busy": "2023-08-17T01:45:03.194205Z",
     "iopub.status.idle": "2023-08-17T01:45:03.198555Z",
     "shell.execute_reply": "2023-08-17T01:45:03.197661Z"
    },
    "papermill": {
     "duration": 0.044966,
     "end_time": "2023-08-17T01:45:03.200804",
     "exception": false,
     "start_time": "2023-08-17T01:45:03.155838",
     "status": "completed"
    },
    "tags": []
   },
   "outputs": [],
   "source": [
    "Point3D = namedtuple(\"Point3D\", \"x y z\")"
   ]
  },
  {
   "cell_type": "code",
   "execution_count": 73,
   "id": "8572ccc4",
   "metadata": {
    "execution": {
     "iopub.execute_input": "2023-08-17T01:45:03.276537Z",
     "iopub.status.busy": "2023-08-17T01:45:03.276144Z",
     "iopub.status.idle": "2023-08-17T01:45:03.285743Z",
     "shell.execute_reply": "2023-08-17T01:45:03.284921Z"
    },
    "papermill": {
     "duration": 0.049014,
     "end_time": "2023-08-17T01:45:03.287359",
     "exception": false,
     "start_time": "2023-08-17T01:45:03.238345",
     "status": "completed"
    },
    "tags": []
   },
   "outputs": [
    {
     "data": {
      "text/html": [
       "<div>\n",
       "<style scoped>\n",
       "    .dataframe tbody tr th:only-of-type {\n",
       "        vertical-align: middle;\n",
       "    }\n",
       "\n",
       "    .dataframe tbody tr th {\n",
       "        vertical-align: top;\n",
       "    }\n",
       "\n",
       "    .dataframe thead th {\n",
       "        text-align: right;\n",
       "    }\n",
       "</style>\n",
       "<table border=\"1\" class=\"dataframe\">\n",
       "  <thead>\n",
       "    <tr style=\"text-align: right;\">\n",
       "      <th></th>\n",
       "      <th>x</th>\n",
       "      <th>y</th>\n",
       "      <th>z</th>\n",
       "    </tr>\n",
       "  </thead>\n",
       "  <tbody>\n",
       "    <tr>\n",
       "      <th>0</th>\n",
       "      <td>0</td>\n",
       "      <td>0</td>\n",
       "      <td>0.0</td>\n",
       "    </tr>\n",
       "    <tr>\n",
       "      <th>1</th>\n",
       "      <td>0</td>\n",
       "      <td>3</td>\n",
       "      <td>5.0</td>\n",
       "    </tr>\n",
       "    <tr>\n",
       "      <th>2</th>\n",
       "      <td>2</td>\n",
       "      <td>3</td>\n",
       "      <td>NaN</td>\n",
       "    </tr>\n",
       "  </tbody>\n",
       "</table>\n",
       "</div>"
      ],
      "text/plain": [
       "   x  y    z\n",
       "0  0  0  0.0\n",
       "1  0  3  5.0\n",
       "2  2  3  NaN"
      ]
     },
     "execution_count": 73,
     "metadata": {},
     "output_type": "execute_result"
    }
   ],
   "source": [
    "pd.DataFrame([Point3D(0, 0, 0), Point3D(0, 3, 5), Point(2, 3)])"
   ]
  },
  {
   "cell_type": "code",
   "execution_count": 74,
   "id": "e4c53284",
   "metadata": {
    "execution": {
     "iopub.execute_input": "2023-08-17T01:45:03.363239Z",
     "iopub.status.busy": "2023-08-17T01:45:03.362875Z",
     "iopub.status.idle": "2023-08-17T01:45:03.373403Z",
     "shell.execute_reply": "2023-08-17T01:45:03.372040Z"
    },
    "papermill": {
     "duration": 0.050541,
     "end_time": "2023-08-17T01:45:03.375229",
     "exception": false,
     "start_time": "2023-08-17T01:45:03.324688",
     "status": "completed"
    },
    "tags": []
   },
   "outputs": [
    {
     "data": {
      "text/html": [
       "<div>\n",
       "<style scoped>\n",
       "    .dataframe tbody tr th:only-of-type {\n",
       "        vertical-align: middle;\n",
       "    }\n",
       "\n",
       "    .dataframe tbody tr th {\n",
       "        vertical-align: top;\n",
       "    }\n",
       "\n",
       "    .dataframe thead th {\n",
       "        text-align: right;\n",
       "    }\n",
       "</style>\n",
       "<table border=\"1\" class=\"dataframe\">\n",
       "  <thead>\n",
       "    <tr style=\"text-align: right;\">\n",
       "      <th></th>\n",
       "      <th>x</th>\n",
       "      <th>y</th>\n",
       "    </tr>\n",
       "  </thead>\n",
       "  <tbody>\n",
       "    <tr>\n",
       "      <th>0</th>\n",
       "      <td>0</td>\n",
       "      <td>0</td>\n",
       "    </tr>\n",
       "    <tr>\n",
       "      <th>1</th>\n",
       "      <td>0</td>\n",
       "      <td>3</td>\n",
       "    </tr>\n",
       "    <tr>\n",
       "      <th>2</th>\n",
       "      <td>2</td>\n",
       "      <td>3</td>\n",
       "    </tr>\n",
       "  </tbody>\n",
       "</table>\n",
       "</div>"
      ],
      "text/plain": [
       "   x  y\n",
       "0  0  0\n",
       "1  0  3\n",
       "2  2  3"
      ]
     },
     "execution_count": 74,
     "metadata": {},
     "output_type": "execute_result"
    }
   ],
   "source": [
    "from dataclasses import make_dataclass\n",
    "Point = make_dataclass(\"Point\", [(\"x\", int), (\"y\", int)])\n",
    "pd.DataFrame([Point(0, 0), Point(0, 3), Point(2, 3)])"
   ]
  },
  {
   "cell_type": "code",
   "execution_count": 75,
   "id": "8f901a08",
   "metadata": {
    "execution": {
     "iopub.execute_input": "2023-08-17T01:45:03.451536Z",
     "iopub.status.busy": "2023-08-17T01:45:03.450989Z",
     "iopub.status.idle": "2023-08-17T01:45:03.459704Z",
     "shell.execute_reply": "2023-08-17T01:45:03.458725Z"
    },
    "papermill": {
     "duration": 0.049647,
     "end_time": "2023-08-17T01:45:03.462176",
     "exception": false,
     "start_time": "2023-08-17T01:45:03.412529",
     "status": "completed"
    },
    "tags": []
   },
   "outputs": [
    {
     "data": {
      "text/html": [
       "<div>\n",
       "<style scoped>\n",
       "    .dataframe tbody tr th:only-of-type {\n",
       "        vertical-align: middle;\n",
       "    }\n",
       "\n",
       "    .dataframe tbody tr th {\n",
       "        vertical-align: top;\n",
       "    }\n",
       "\n",
       "    .dataframe thead th {\n",
       "        text-align: right;\n",
       "    }\n",
       "</style>\n",
       "<table border=\"1\" class=\"dataframe\">\n",
       "  <thead>\n",
       "    <tr style=\"text-align: right;\">\n",
       "      <th></th>\n",
       "      <th>A</th>\n",
       "      <th>B</th>\n",
       "    </tr>\n",
       "  </thead>\n",
       "  <tbody>\n",
       "    <tr>\n",
       "      <th>0</th>\n",
       "      <td>1</td>\n",
       "      <td>4</td>\n",
       "    </tr>\n",
       "    <tr>\n",
       "      <th>1</th>\n",
       "      <td>2</td>\n",
       "      <td>5</td>\n",
       "    </tr>\n",
       "    <tr>\n",
       "      <th>2</th>\n",
       "      <td>3</td>\n",
       "      <td>6</td>\n",
       "    </tr>\n",
       "  </tbody>\n",
       "</table>\n",
       "</div>"
      ],
      "text/plain": [
       "   A  B\n",
       "0  1  4\n",
       "1  2  5\n",
       "2  3  6"
      ]
     },
     "execution_count": 75,
     "metadata": {},
     "output_type": "execute_result"
    }
   ],
   "source": [
    "pd.DataFrame.from_dict(dict([(\"A\", [1, 2, 3]), (\"B\", [4, 5, 6])]))"
   ]
  },
  {
   "cell_type": "code",
   "execution_count": 76,
   "id": "0c45ac41",
   "metadata": {
    "execution": {
     "iopub.execute_input": "2023-08-17T01:45:03.540286Z",
     "iopub.status.busy": "2023-08-17T01:45:03.539955Z",
     "iopub.status.idle": "2023-08-17T01:45:03.549260Z",
     "shell.execute_reply": "2023-08-17T01:45:03.548303Z"
    },
    "papermill": {
     "duration": 0.05041,
     "end_time": "2023-08-17T01:45:03.551054",
     "exception": false,
     "start_time": "2023-08-17T01:45:03.500644",
     "status": "completed"
    },
    "tags": []
   },
   "outputs": [
    {
     "data": {
      "text/html": [
       "<div>\n",
       "<style scoped>\n",
       "    .dataframe tbody tr th:only-of-type {\n",
       "        vertical-align: middle;\n",
       "    }\n",
       "\n",
       "    .dataframe tbody tr th {\n",
       "        vertical-align: top;\n",
       "    }\n",
       "\n",
       "    .dataframe thead th {\n",
       "        text-align: right;\n",
       "    }\n",
       "</style>\n",
       "<table border=\"1\" class=\"dataframe\">\n",
       "  <thead>\n",
       "    <tr style=\"text-align: right;\">\n",
       "      <th></th>\n",
       "      <th>one</th>\n",
       "      <th>two</th>\n",
       "      <th>three</th>\n",
       "    </tr>\n",
       "  </thead>\n",
       "  <tbody>\n",
       "    <tr>\n",
       "      <th>A</th>\n",
       "      <td>1</td>\n",
       "      <td>2</td>\n",
       "      <td>3</td>\n",
       "    </tr>\n",
       "    <tr>\n",
       "      <th>B</th>\n",
       "      <td>4</td>\n",
       "      <td>5</td>\n",
       "      <td>6</td>\n",
       "    </tr>\n",
       "  </tbody>\n",
       "</table>\n",
       "</div>"
      ],
      "text/plain": [
       "   one  two  three\n",
       "A    1    2      3\n",
       "B    4    5      6"
      ]
     },
     "execution_count": 76,
     "metadata": {},
     "output_type": "execute_result"
    }
   ],
   "source": [
    "pd.DataFrame.from_dict(\n",
    "dict([(\"A\", [1, 2, 3]), (\"B\", [4, 5, 6])]),\n",
    "orient=\"index\",\n",
    "columns=[\"one\", \"two\", \"three\"],\n",
    ")"
   ]
  },
  {
   "cell_type": "code",
   "execution_count": 77,
   "id": "f0d67a7c",
   "metadata": {
    "execution": {
     "iopub.execute_input": "2023-08-17T01:45:03.627848Z",
     "iopub.status.busy": "2023-08-17T01:45:03.627459Z",
     "iopub.status.idle": "2023-08-17T01:45:03.636918Z",
     "shell.execute_reply": "2023-08-17T01:45:03.636034Z"
    },
    "papermill": {
     "duration": 0.050107,
     "end_time": "2023-08-17T01:45:03.638612",
     "exception": false,
     "start_time": "2023-08-17T01:45:03.588505",
     "status": "completed"
    },
    "tags": []
   },
   "outputs": [
    {
     "data": {
      "text/html": [
       "<div>\n",
       "<style scoped>\n",
       "    .dataframe tbody tr th:only-of-type {\n",
       "        vertical-align: middle;\n",
       "    }\n",
       "\n",
       "    .dataframe tbody tr th {\n",
       "        vertical-align: top;\n",
       "    }\n",
       "\n",
       "    .dataframe thead th {\n",
       "        text-align: right;\n",
       "    }\n",
       "</style>\n",
       "<table border=\"1\" class=\"dataframe\">\n",
       "  <thead>\n",
       "    <tr style=\"text-align: right;\">\n",
       "      <th></th>\n",
       "      <th>A</th>\n",
       "      <th>B</th>\n",
       "    </tr>\n",
       "    <tr>\n",
       "      <th>C</th>\n",
       "      <th></th>\n",
       "      <th></th>\n",
       "    </tr>\n",
       "  </thead>\n",
       "  <tbody>\n",
       "    <tr>\n",
       "      <th>b'Hello'</th>\n",
       "      <td>1</td>\n",
       "      <td>2.0</td>\n",
       "    </tr>\n",
       "    <tr>\n",
       "      <th>b'World'</th>\n",
       "      <td>2</td>\n",
       "      <td>3.0</td>\n",
       "    </tr>\n",
       "  </tbody>\n",
       "</table>\n",
       "</div>"
      ],
      "text/plain": [
       "          A    B\n",
       "C               \n",
       "b'Hello'  1  2.0\n",
       "b'World'  2  3.0"
      ]
     },
     "execution_count": 77,
     "metadata": {},
     "output_type": "execute_result"
    }
   ],
   "source": [
    "pd.DataFrame.from_records(data, index=\"C\")"
   ]
  },
  {
   "cell_type": "code",
   "execution_count": 78,
   "id": "0b59b6f8",
   "metadata": {
    "execution": {
     "iopub.execute_input": "2023-08-17T01:45:03.716276Z",
     "iopub.status.busy": "2023-08-17T01:45:03.715916Z",
     "iopub.status.idle": "2023-08-17T01:45:03.728677Z",
     "shell.execute_reply": "2023-08-17T01:45:03.727829Z"
    },
    "papermill": {
     "duration": 0.053542,
     "end_time": "2023-08-17T01:45:03.730589",
     "exception": false,
     "start_time": "2023-08-17T01:45:03.677047",
     "status": "completed"
    },
    "tags": []
   },
   "outputs": [
    {
     "data": {
      "text/html": [
       "<div>\n",
       "<style scoped>\n",
       "    .dataframe tbody tr th:only-of-type {\n",
       "        vertical-align: middle;\n",
       "    }\n",
       "\n",
       "    .dataframe tbody tr th {\n",
       "        vertical-align: top;\n",
       "    }\n",
       "\n",
       "    .dataframe thead th {\n",
       "        text-align: right;\n",
       "    }\n",
       "</style>\n",
       "<table border=\"1\" class=\"dataframe\">\n",
       "  <thead>\n",
       "    <tr style=\"text-align: right;\">\n",
       "      <th></th>\n",
       "      <th>one</th>\n",
       "      <th>two</th>\n",
       "      <th>three</th>\n",
       "      <th>flag</th>\n",
       "    </tr>\n",
       "  </thead>\n",
       "  <tbody>\n",
       "    <tr>\n",
       "      <th>a</th>\n",
       "      <td>1.0</td>\n",
       "      <td>1.0</td>\n",
       "      <td>1.0</td>\n",
       "      <td>False</td>\n",
       "    </tr>\n",
       "    <tr>\n",
       "      <th>b</th>\n",
       "      <td>2.0</td>\n",
       "      <td>2.0</td>\n",
       "      <td>4.0</td>\n",
       "      <td>False</td>\n",
       "    </tr>\n",
       "    <tr>\n",
       "      <th>c</th>\n",
       "      <td>3.0</td>\n",
       "      <td>3.0</td>\n",
       "      <td>9.0</td>\n",
       "      <td>True</td>\n",
       "    </tr>\n",
       "    <tr>\n",
       "      <th>d</th>\n",
       "      <td>NaN</td>\n",
       "      <td>4.0</td>\n",
       "      <td>NaN</td>\n",
       "      <td>False</td>\n",
       "    </tr>\n",
       "  </tbody>\n",
       "</table>\n",
       "</div>"
      ],
      "text/plain": [
       "   one  two  three   flag\n",
       "a  1.0  1.0    1.0  False\n",
       "b  2.0  2.0    4.0  False\n",
       "c  3.0  3.0    9.0   True\n",
       "d  NaN  4.0    NaN  False"
      ]
     },
     "execution_count": 78,
     "metadata": {},
     "output_type": "execute_result"
    }
   ],
   "source": [
    "df[\"three\"] = df[\"one\"] * df[\"two\"]\n",
    "df[\"flag\"] = df[\"one\"] > 2\n",
    "df"
   ]
  },
  {
   "cell_type": "code",
   "execution_count": 79,
   "id": "ea8d21fa",
   "metadata": {
    "execution": {
     "iopub.execute_input": "2023-08-17T01:45:03.806600Z",
     "iopub.status.busy": "2023-08-17T01:45:03.806224Z",
     "iopub.status.idle": "2023-08-17T01:45:03.816433Z",
     "shell.execute_reply": "2023-08-17T01:45:03.815368Z"
    },
    "papermill": {
     "duration": 0.050794,
     "end_time": "2023-08-17T01:45:03.818375",
     "exception": false,
     "start_time": "2023-08-17T01:45:03.767581",
     "status": "completed"
    },
    "tags": []
   },
   "outputs": [
    {
     "data": {
      "text/html": [
       "<div>\n",
       "<style scoped>\n",
       "    .dataframe tbody tr th:only-of-type {\n",
       "        vertical-align: middle;\n",
       "    }\n",
       "\n",
       "    .dataframe tbody tr th {\n",
       "        vertical-align: top;\n",
       "    }\n",
       "\n",
       "    .dataframe thead th {\n",
       "        text-align: right;\n",
       "    }\n",
       "</style>\n",
       "<table border=\"1\" class=\"dataframe\">\n",
       "  <thead>\n",
       "    <tr style=\"text-align: right;\">\n",
       "      <th></th>\n",
       "      <th>one</th>\n",
       "      <th>flag</th>\n",
       "    </tr>\n",
       "  </thead>\n",
       "  <tbody>\n",
       "    <tr>\n",
       "      <th>a</th>\n",
       "      <td>1.0</td>\n",
       "      <td>False</td>\n",
       "    </tr>\n",
       "    <tr>\n",
       "      <th>b</th>\n",
       "      <td>2.0</td>\n",
       "      <td>False</td>\n",
       "    </tr>\n",
       "    <tr>\n",
       "      <th>c</th>\n",
       "      <td>3.0</td>\n",
       "      <td>True</td>\n",
       "    </tr>\n",
       "    <tr>\n",
       "      <th>d</th>\n",
       "      <td>NaN</td>\n",
       "      <td>False</td>\n",
       "    </tr>\n",
       "  </tbody>\n",
       "</table>\n",
       "</div>"
      ],
      "text/plain": [
       "   one   flag\n",
       "a  1.0  False\n",
       "b  2.0  False\n",
       "c  3.0   True\n",
       "d  NaN  False"
      ]
     },
     "execution_count": 79,
     "metadata": {},
     "output_type": "execute_result"
    }
   ],
   "source": [
    "del df[\"two\"]\n",
    "three = df.pop(\"three\")\n",
    "df"
   ]
  },
  {
   "cell_type": "code",
   "execution_count": 80,
   "id": "4d65668a",
   "metadata": {
    "execution": {
     "iopub.execute_input": "2023-08-17T01:45:03.895528Z",
     "iopub.status.busy": "2023-08-17T01:45:03.895162Z",
     "iopub.status.idle": "2023-08-17T01:45:03.906127Z",
     "shell.execute_reply": "2023-08-17T01:45:03.905022Z"
    },
    "papermill": {
     "duration": 0.051784,
     "end_time": "2023-08-17T01:45:03.907906",
     "exception": false,
     "start_time": "2023-08-17T01:45:03.856122",
     "status": "completed"
    },
    "tags": []
   },
   "outputs": [
    {
     "data": {
      "text/html": [
       "<div>\n",
       "<style scoped>\n",
       "    .dataframe tbody tr th:only-of-type {\n",
       "        vertical-align: middle;\n",
       "    }\n",
       "\n",
       "    .dataframe tbody tr th {\n",
       "        vertical-align: top;\n",
       "    }\n",
       "\n",
       "    .dataframe thead th {\n",
       "        text-align: right;\n",
       "    }\n",
       "</style>\n",
       "<table border=\"1\" class=\"dataframe\">\n",
       "  <thead>\n",
       "    <tr style=\"text-align: right;\">\n",
       "      <th></th>\n",
       "      <th>one</th>\n",
       "      <th>flag</th>\n",
       "      <th>foo</th>\n",
       "    </tr>\n",
       "  </thead>\n",
       "  <tbody>\n",
       "    <tr>\n",
       "      <th>a</th>\n",
       "      <td>1.0</td>\n",
       "      <td>False</td>\n",
       "      <td>bar</td>\n",
       "    </tr>\n",
       "    <tr>\n",
       "      <th>b</th>\n",
       "      <td>2.0</td>\n",
       "      <td>False</td>\n",
       "      <td>bar</td>\n",
       "    </tr>\n",
       "    <tr>\n",
       "      <th>c</th>\n",
       "      <td>3.0</td>\n",
       "      <td>True</td>\n",
       "      <td>bar</td>\n",
       "    </tr>\n",
       "    <tr>\n",
       "      <th>d</th>\n",
       "      <td>NaN</td>\n",
       "      <td>False</td>\n",
       "      <td>bar</td>\n",
       "    </tr>\n",
       "  </tbody>\n",
       "</table>\n",
       "</div>"
      ],
      "text/plain": [
       "   one   flag  foo\n",
       "a  1.0  False  bar\n",
       "b  2.0  False  bar\n",
       "c  3.0   True  bar\n",
       "d  NaN  False  bar"
      ]
     },
     "execution_count": 80,
     "metadata": {},
     "output_type": "execute_result"
    }
   ],
   "source": [
    "df[\"foo\"] = \"bar\"\n",
    "df"
   ]
  },
  {
   "cell_type": "code",
   "execution_count": 81,
   "id": "22ba20c8",
   "metadata": {
    "execution": {
     "iopub.execute_input": "2023-08-17T01:45:03.986201Z",
     "iopub.status.busy": "2023-08-17T01:45:03.985298Z",
     "iopub.status.idle": "2023-08-17T01:45:03.997683Z",
     "shell.execute_reply": "2023-08-17T01:45:03.996553Z"
    },
    "papermill": {
     "duration": 0.053837,
     "end_time": "2023-08-17T01:45:03.999832",
     "exception": false,
     "start_time": "2023-08-17T01:45:03.945995",
     "status": "completed"
    },
    "tags": []
   },
   "outputs": [
    {
     "data": {
      "text/html": [
       "<div>\n",
       "<style scoped>\n",
       "    .dataframe tbody tr th:only-of-type {\n",
       "        vertical-align: middle;\n",
       "    }\n",
       "\n",
       "    .dataframe tbody tr th {\n",
       "        vertical-align: top;\n",
       "    }\n",
       "\n",
       "    .dataframe thead th {\n",
       "        text-align: right;\n",
       "    }\n",
       "</style>\n",
       "<table border=\"1\" class=\"dataframe\">\n",
       "  <thead>\n",
       "    <tr style=\"text-align: right;\">\n",
       "      <th></th>\n",
       "      <th>one</th>\n",
       "      <th>flag</th>\n",
       "      <th>foo</th>\n",
       "      <th>one_trunc</th>\n",
       "    </tr>\n",
       "  </thead>\n",
       "  <tbody>\n",
       "    <tr>\n",
       "      <th>a</th>\n",
       "      <td>1.0</td>\n",
       "      <td>False</td>\n",
       "      <td>bar</td>\n",
       "      <td>1.0</td>\n",
       "    </tr>\n",
       "    <tr>\n",
       "      <th>b</th>\n",
       "      <td>2.0</td>\n",
       "      <td>False</td>\n",
       "      <td>bar</td>\n",
       "      <td>2.0</td>\n",
       "    </tr>\n",
       "    <tr>\n",
       "      <th>c</th>\n",
       "      <td>3.0</td>\n",
       "      <td>True</td>\n",
       "      <td>bar</td>\n",
       "      <td>NaN</td>\n",
       "    </tr>\n",
       "    <tr>\n",
       "      <th>d</th>\n",
       "      <td>NaN</td>\n",
       "      <td>False</td>\n",
       "      <td>bar</td>\n",
       "      <td>NaN</td>\n",
       "    </tr>\n",
       "  </tbody>\n",
       "</table>\n",
       "</div>"
      ],
      "text/plain": [
       "   one   flag  foo  one_trunc\n",
       "a  1.0  False  bar        1.0\n",
       "b  2.0  False  bar        2.0\n",
       "c  3.0   True  bar        NaN\n",
       "d  NaN  False  bar        NaN"
      ]
     },
     "execution_count": 81,
     "metadata": {},
     "output_type": "execute_result"
    }
   ],
   "source": [
    "df[\"one_trunc\"] = df[\"one\"][:2]\n",
    "df"
   ]
  },
  {
   "cell_type": "code",
   "execution_count": 82,
   "id": "a1936613",
   "metadata": {
    "execution": {
     "iopub.execute_input": "2023-08-17T01:45:04.076643Z",
     "iopub.status.busy": "2023-08-17T01:45:04.076266Z",
     "iopub.status.idle": "2023-08-17T01:45:04.089506Z",
     "shell.execute_reply": "2023-08-17T01:45:04.087844Z"
    },
    "papermill": {
     "duration": 0.054212,
     "end_time": "2023-08-17T01:45:04.091438",
     "exception": false,
     "start_time": "2023-08-17T01:45:04.037226",
     "status": "completed"
    },
    "tags": []
   },
   "outputs": [
    {
     "data": {
      "text/html": [
       "<div>\n",
       "<style scoped>\n",
       "    .dataframe tbody tr th:only-of-type {\n",
       "        vertical-align: middle;\n",
       "    }\n",
       "\n",
       "    .dataframe tbody tr th {\n",
       "        vertical-align: top;\n",
       "    }\n",
       "\n",
       "    .dataframe thead th {\n",
       "        text-align: right;\n",
       "    }\n",
       "</style>\n",
       "<table border=\"1\" class=\"dataframe\">\n",
       "  <thead>\n",
       "    <tr style=\"text-align: right;\">\n",
       "      <th></th>\n",
       "      <th>one</th>\n",
       "      <th>bar</th>\n",
       "      <th>flag</th>\n",
       "      <th>foo</th>\n",
       "      <th>one_trunc</th>\n",
       "    </tr>\n",
       "  </thead>\n",
       "  <tbody>\n",
       "    <tr>\n",
       "      <th>a</th>\n",
       "      <td>1.0</td>\n",
       "      <td>1.0</td>\n",
       "      <td>False</td>\n",
       "      <td>bar</td>\n",
       "      <td>1.0</td>\n",
       "    </tr>\n",
       "    <tr>\n",
       "      <th>b</th>\n",
       "      <td>2.0</td>\n",
       "      <td>2.0</td>\n",
       "      <td>False</td>\n",
       "      <td>bar</td>\n",
       "      <td>2.0</td>\n",
       "    </tr>\n",
       "    <tr>\n",
       "      <th>c</th>\n",
       "      <td>3.0</td>\n",
       "      <td>3.0</td>\n",
       "      <td>True</td>\n",
       "      <td>bar</td>\n",
       "      <td>NaN</td>\n",
       "    </tr>\n",
       "    <tr>\n",
       "      <th>d</th>\n",
       "      <td>NaN</td>\n",
       "      <td>NaN</td>\n",
       "      <td>False</td>\n",
       "      <td>bar</td>\n",
       "      <td>NaN</td>\n",
       "    </tr>\n",
       "  </tbody>\n",
       "</table>\n",
       "</div>"
      ],
      "text/plain": [
       "   one  bar   flag  foo  one_trunc\n",
       "a  1.0  1.0  False  bar        1.0\n",
       "b  2.0  2.0  False  bar        2.0\n",
       "c  3.0  3.0   True  bar        NaN\n",
       "d  NaN  NaN  False  bar        NaN"
      ]
     },
     "execution_count": 82,
     "metadata": {},
     "output_type": "execute_result"
    }
   ],
   "source": [
    "df.insert(1, \"bar\", df[\"one\"])\n",
    "df"
   ]
  },
  {
   "cell_type": "code",
   "execution_count": 83,
   "id": "339e450d",
   "metadata": {
    "execution": {
     "iopub.execute_input": "2023-08-17T01:45:04.169291Z",
     "iopub.status.busy": "2023-08-17T01:45:04.168919Z",
     "iopub.status.idle": "2023-08-17T01:45:04.188901Z",
     "shell.execute_reply": "2023-08-17T01:45:04.188007Z"
    },
    "papermill": {
     "duration": 0.061498,
     "end_time": "2023-08-17T01:45:04.191072",
     "exception": false,
     "start_time": "2023-08-17T01:45:04.129574",
     "status": "completed"
    },
    "tags": []
   },
   "outputs": [
    {
     "data": {
      "text/html": [
       "<div>\n",
       "<style scoped>\n",
       "    .dataframe tbody tr th:only-of-type {\n",
       "        vertical-align: middle;\n",
       "    }\n",
       "\n",
       "    .dataframe tbody tr th {\n",
       "        vertical-align: top;\n",
       "    }\n",
       "\n",
       "    .dataframe thead th {\n",
       "        text-align: right;\n",
       "    }\n",
       "</style>\n",
       "<table border=\"1\" class=\"dataframe\">\n",
       "  <thead>\n",
       "    <tr style=\"text-align: right;\">\n",
       "      <th></th>\n",
       "      <th>Id</th>\n",
       "      <th>SepalLengthCm</th>\n",
       "      <th>SepalWidthCm</th>\n",
       "      <th>PetalLengthCm</th>\n",
       "      <th>PetalWidthCm</th>\n",
       "      <th>Species</th>\n",
       "    </tr>\n",
       "  </thead>\n",
       "  <tbody>\n",
       "    <tr>\n",
       "      <th>0</th>\n",
       "      <td>1</td>\n",
       "      <td>5.1</td>\n",
       "      <td>3.5</td>\n",
       "      <td>1.4</td>\n",
       "      <td>0.2</td>\n",
       "      <td>Iris-setosa</td>\n",
       "    </tr>\n",
       "    <tr>\n",
       "      <th>1</th>\n",
       "      <td>2</td>\n",
       "      <td>4.9</td>\n",
       "      <td>3.0</td>\n",
       "      <td>1.4</td>\n",
       "      <td>0.2</td>\n",
       "      <td>Iris-setosa</td>\n",
       "    </tr>\n",
       "    <tr>\n",
       "      <th>2</th>\n",
       "      <td>3</td>\n",
       "      <td>4.7</td>\n",
       "      <td>3.2</td>\n",
       "      <td>1.3</td>\n",
       "      <td>0.2</td>\n",
       "      <td>Iris-setosa</td>\n",
       "    </tr>\n",
       "    <tr>\n",
       "      <th>3</th>\n",
       "      <td>4</td>\n",
       "      <td>4.6</td>\n",
       "      <td>3.1</td>\n",
       "      <td>1.5</td>\n",
       "      <td>0.2</td>\n",
       "      <td>Iris-setosa</td>\n",
       "    </tr>\n",
       "    <tr>\n",
       "      <th>4</th>\n",
       "      <td>5</td>\n",
       "      <td>5.0</td>\n",
       "      <td>3.6</td>\n",
       "      <td>1.4</td>\n",
       "      <td>0.2</td>\n",
       "      <td>Iris-setosa</td>\n",
       "    </tr>\n",
       "  </tbody>\n",
       "</table>\n",
       "</div>"
      ],
      "text/plain": [
       "   Id  SepalLengthCm  SepalWidthCm  PetalLengthCm  PetalWidthCm      Species\n",
       "0   1            5.1           3.5            1.4           0.2  Iris-setosa\n",
       "1   2            4.9           3.0            1.4           0.2  Iris-setosa\n",
       "2   3            4.7           3.2            1.3           0.2  Iris-setosa\n",
       "3   4            4.6           3.1            1.5           0.2  Iris-setosa\n",
       "4   5            5.0           3.6            1.4           0.2  Iris-setosa"
      ]
     },
     "execution_count": 83,
     "metadata": {},
     "output_type": "execute_result"
    }
   ],
   "source": [
    "iris = pd.read_csv(\"/kaggle/input/iris/Iris.csv\")\n",
    "iris.head()"
   ]
  },
  {
   "cell_type": "code",
   "execution_count": 84,
   "id": "437908a9",
   "metadata": {
    "execution": {
     "iopub.execute_input": "2023-08-17T01:45:04.269606Z",
     "iopub.status.busy": "2023-08-17T01:45:04.269212Z",
     "iopub.status.idle": "2023-08-17T01:45:04.283345Z",
     "shell.execute_reply": "2023-08-17T01:45:04.282169Z"
    },
    "papermill": {
     "duration": 0.055493,
     "end_time": "2023-08-17T01:45:04.285271",
     "exception": false,
     "start_time": "2023-08-17T01:45:04.229778",
     "status": "completed"
    },
    "tags": []
   },
   "outputs": [
    {
     "data": {
      "text/html": [
       "<div>\n",
       "<style scoped>\n",
       "    .dataframe tbody tr th:only-of-type {\n",
       "        vertical-align: middle;\n",
       "    }\n",
       "\n",
       "    .dataframe tbody tr th {\n",
       "        vertical-align: top;\n",
       "    }\n",
       "\n",
       "    .dataframe thead th {\n",
       "        text-align: right;\n",
       "    }\n",
       "</style>\n",
       "<table border=\"1\" class=\"dataframe\">\n",
       "  <thead>\n",
       "    <tr style=\"text-align: right;\">\n",
       "      <th></th>\n",
       "      <th>Id</th>\n",
       "      <th>SepalLengthCm</th>\n",
       "      <th>SepalWidthCm</th>\n",
       "      <th>PetalLengthCm</th>\n",
       "      <th>PetalWidthCm</th>\n",
       "      <th>Species</th>\n",
       "      <th>sepal_ratio</th>\n",
       "    </tr>\n",
       "  </thead>\n",
       "  <tbody>\n",
       "    <tr>\n",
       "      <th>0</th>\n",
       "      <td>1</td>\n",
       "      <td>5.1</td>\n",
       "      <td>3.5</td>\n",
       "      <td>1.4</td>\n",
       "      <td>0.2</td>\n",
       "      <td>Iris-setosa</td>\n",
       "      <td>0.686275</td>\n",
       "    </tr>\n",
       "    <tr>\n",
       "      <th>1</th>\n",
       "      <td>2</td>\n",
       "      <td>4.9</td>\n",
       "      <td>3.0</td>\n",
       "      <td>1.4</td>\n",
       "      <td>0.2</td>\n",
       "      <td>Iris-setosa</td>\n",
       "      <td>0.612245</td>\n",
       "    </tr>\n",
       "    <tr>\n",
       "      <th>2</th>\n",
       "      <td>3</td>\n",
       "      <td>4.7</td>\n",
       "      <td>3.2</td>\n",
       "      <td>1.3</td>\n",
       "      <td>0.2</td>\n",
       "      <td>Iris-setosa</td>\n",
       "      <td>0.680851</td>\n",
       "    </tr>\n",
       "    <tr>\n",
       "      <th>3</th>\n",
       "      <td>4</td>\n",
       "      <td>4.6</td>\n",
       "      <td>3.1</td>\n",
       "      <td>1.5</td>\n",
       "      <td>0.2</td>\n",
       "      <td>Iris-setosa</td>\n",
       "      <td>0.673913</td>\n",
       "    </tr>\n",
       "    <tr>\n",
       "      <th>4</th>\n",
       "      <td>5</td>\n",
       "      <td>5.0</td>\n",
       "      <td>3.6</td>\n",
       "      <td>1.4</td>\n",
       "      <td>0.2</td>\n",
       "      <td>Iris-setosa</td>\n",
       "      <td>0.720000</td>\n",
       "    </tr>\n",
       "  </tbody>\n",
       "</table>\n",
       "</div>"
      ],
      "text/plain": [
       "   Id  SepalLengthCm  SepalWidthCm  PetalLengthCm  PetalWidthCm      Species  \\\n",
       "0   1            5.1           3.5            1.4           0.2  Iris-setosa   \n",
       "1   2            4.9           3.0            1.4           0.2  Iris-setosa   \n",
       "2   3            4.7           3.2            1.3           0.2  Iris-setosa   \n",
       "3   4            4.6           3.1            1.5           0.2  Iris-setosa   \n",
       "4   5            5.0           3.6            1.4           0.2  Iris-setosa   \n",
       "\n",
       "   sepal_ratio  \n",
       "0     0.686275  \n",
       "1     0.612245  \n",
       "2     0.680851  \n",
       "3     0.673913  \n",
       "4     0.720000  "
      ]
     },
     "execution_count": 84,
     "metadata": {},
     "output_type": "execute_result"
    }
   ],
   "source": [
    "iris.assign(sepal_ratio=iris[\"SepalWidthCm\"] / iris[\"SepalLengthCm\"]).head()"
   ]
  },
  {
   "cell_type": "code",
   "execution_count": 85,
   "id": "318fe7c8",
   "metadata": {
    "execution": {
     "iopub.execute_input": "2023-08-17T01:45:04.364982Z",
     "iopub.status.busy": "2023-08-17T01:45:04.364632Z",
     "iopub.status.idle": "2023-08-17T01:45:04.379130Z",
     "shell.execute_reply": "2023-08-17T01:45:04.378145Z"
    },
    "papermill": {
     "duration": 0.056393,
     "end_time": "2023-08-17T01:45:04.380794",
     "exception": false,
     "start_time": "2023-08-17T01:45:04.324401",
     "status": "completed"
    },
    "tags": []
   },
   "outputs": [
    {
     "data": {
      "text/html": [
       "<div>\n",
       "<style scoped>\n",
       "    .dataframe tbody tr th:only-of-type {\n",
       "        vertical-align: middle;\n",
       "    }\n",
       "\n",
       "    .dataframe tbody tr th {\n",
       "        vertical-align: top;\n",
       "    }\n",
       "\n",
       "    .dataframe thead th {\n",
       "        text-align: right;\n",
       "    }\n",
       "</style>\n",
       "<table border=\"1\" class=\"dataframe\">\n",
       "  <thead>\n",
       "    <tr style=\"text-align: right;\">\n",
       "      <th></th>\n",
       "      <th>Id</th>\n",
       "      <th>SepalLengthCm</th>\n",
       "      <th>SepalWidthCm</th>\n",
       "      <th>PetalLengthCm</th>\n",
       "      <th>PetalWidthCm</th>\n",
       "      <th>Species</th>\n",
       "      <th>sepal_ratio</th>\n",
       "    </tr>\n",
       "  </thead>\n",
       "  <tbody>\n",
       "    <tr>\n",
       "      <th>0</th>\n",
       "      <td>1</td>\n",
       "      <td>5.1</td>\n",
       "      <td>3.5</td>\n",
       "      <td>1.4</td>\n",
       "      <td>0.2</td>\n",
       "      <td>Iris-setosa</td>\n",
       "      <td>0.686275</td>\n",
       "    </tr>\n",
       "    <tr>\n",
       "      <th>1</th>\n",
       "      <td>2</td>\n",
       "      <td>4.9</td>\n",
       "      <td>3.0</td>\n",
       "      <td>1.4</td>\n",
       "      <td>0.2</td>\n",
       "      <td>Iris-setosa</td>\n",
       "      <td>0.612245</td>\n",
       "    </tr>\n",
       "    <tr>\n",
       "      <th>2</th>\n",
       "      <td>3</td>\n",
       "      <td>4.7</td>\n",
       "      <td>3.2</td>\n",
       "      <td>1.3</td>\n",
       "      <td>0.2</td>\n",
       "      <td>Iris-setosa</td>\n",
       "      <td>0.680851</td>\n",
       "    </tr>\n",
       "    <tr>\n",
       "      <th>3</th>\n",
       "      <td>4</td>\n",
       "      <td>4.6</td>\n",
       "      <td>3.1</td>\n",
       "      <td>1.5</td>\n",
       "      <td>0.2</td>\n",
       "      <td>Iris-setosa</td>\n",
       "      <td>0.673913</td>\n",
       "    </tr>\n",
       "    <tr>\n",
       "      <th>4</th>\n",
       "      <td>5</td>\n",
       "      <td>5.0</td>\n",
       "      <td>3.6</td>\n",
       "      <td>1.4</td>\n",
       "      <td>0.2</td>\n",
       "      <td>Iris-setosa</td>\n",
       "      <td>0.720000</td>\n",
       "    </tr>\n",
       "  </tbody>\n",
       "</table>\n",
       "</div>"
      ],
      "text/plain": [
       "   Id  SepalLengthCm  SepalWidthCm  PetalLengthCm  PetalWidthCm      Species  \\\n",
       "0   1            5.1           3.5            1.4           0.2  Iris-setosa   \n",
       "1   2            4.9           3.0            1.4           0.2  Iris-setosa   \n",
       "2   3            4.7           3.2            1.3           0.2  Iris-setosa   \n",
       "3   4            4.6           3.1            1.5           0.2  Iris-setosa   \n",
       "4   5            5.0           3.6            1.4           0.2  Iris-setosa   \n",
       "\n",
       "   sepal_ratio  \n",
       "0     0.686275  \n",
       "1     0.612245  \n",
       "2     0.680851  \n",
       "3     0.673913  \n",
       "4     0.720000  "
      ]
     },
     "execution_count": 85,
     "metadata": {},
     "output_type": "execute_result"
    }
   ],
   "source": [
    "iris.assign(sepal_ratio=lambda x: (x[\"SepalWidthCm\"] / x[\"SepalLengthCm\"])).head()"
   ]
  },
  {
   "cell_type": "code",
   "execution_count": 86,
   "id": "a582a57c",
   "metadata": {
    "execution": {
     "iopub.execute_input": "2023-08-17T01:45:04.460088Z",
     "iopub.status.busy": "2023-08-17T01:45:04.459103Z",
     "iopub.status.idle": "2023-08-17T01:45:04.679658Z",
     "shell.execute_reply": "2023-08-17T01:45:04.678779Z"
    },
    "papermill": {
     "duration": 0.262838,
     "end_time": "2023-08-17T01:45:04.682004",
     "exception": false,
     "start_time": "2023-08-17T01:45:04.419166",
     "status": "completed"
    },
    "tags": []
   },
   "outputs": [
    {
     "data": {
      "image/png": "[encoded data removed]",
      "text/plain": [
       "<Figure size 640x480 with 1 Axes>"
      ]
     },
     "metadata": {},
     "output_type": "display_data"
    }
   ],
   "source": [
    "(iris.query(\"SepalLengthCm > 5\").assign(\n",
    "SepalRatio=lambda x: x.SepalWidthCm / x.SepalLengthCm,\n",
    "PetalRatio=lambda x: x.PetalWidthCm / x.PetalLengthCm,\n",
    ").plot(kind=\"scatter\", x=\"SepalRatio\", y=\"PetalRatio\"));"
   ]
  },
  {
   "cell_type": "code",
   "execution_count": 87,
   "id": "caf0891e",
   "metadata": {
    "execution": {
     "iopub.execute_input": "2023-08-17T01:45:04.762409Z",
     "iopub.status.busy": "2023-08-17T01:45:04.761971Z",
     "iopub.status.idle": "2023-08-17T01:45:04.774136Z",
     "shell.execute_reply": "2023-08-17T01:45:04.773467Z"
    },
    "papermill": {
     "duration": 0.054684,
     "end_time": "2023-08-17T01:45:04.775798",
     "exception": false,
     "start_time": "2023-08-17T01:45:04.721114",
     "status": "completed"
    },
    "tags": []
   },
   "outputs": [
    {
     "data": {
      "text/html": [
       "<div>\n",
       "<style scoped>\n",
       "    .dataframe tbody tr th:only-of-type {\n",
       "        vertical-align: middle;\n",
       "    }\n",
       "\n",
       "    .dataframe tbody tr th {\n",
       "        vertical-align: top;\n",
       "    }\n",
       "\n",
       "    .dataframe thead th {\n",
       "        text-align: right;\n",
       "    }\n",
       "</style>\n",
       "<table border=\"1\" class=\"dataframe\">\n",
       "  <thead>\n",
       "    <tr style=\"text-align: right;\">\n",
       "      <th></th>\n",
       "      <th>A</th>\n",
       "      <th>B</th>\n",
       "      <th>C</th>\n",
       "      <th>D</th>\n",
       "    </tr>\n",
       "  </thead>\n",
       "  <tbody>\n",
       "    <tr>\n",
       "      <th>0</th>\n",
       "      <td>1</td>\n",
       "      <td>4</td>\n",
       "      <td>5</td>\n",
       "      <td>6</td>\n",
       "    </tr>\n",
       "    <tr>\n",
       "      <th>1</th>\n",
       "      <td>2</td>\n",
       "      <td>5</td>\n",
       "      <td>7</td>\n",
       "      <td>9</td>\n",
       "    </tr>\n",
       "    <tr>\n",
       "      <th>2</th>\n",
       "      <td>3</td>\n",
       "      <td>6</td>\n",
       "      <td>9</td>\n",
       "      <td>12</td>\n",
       "    </tr>\n",
       "  </tbody>\n",
       "</table>\n",
       "</div>"
      ],
      "text/plain": [
       "   A  B  C   D\n",
       "0  1  4  5   6\n",
       "1  2  5  7   9\n",
       "2  3  6  9  12"
      ]
     },
     "execution_count": 87,
     "metadata": {},
     "output_type": "execute_result"
    }
   ],
   "source": [
    "dfa = pd.DataFrame({\"A\": [1, 2, 3], \"B\": [4, 5, 6]})\n",
    "dfa.assign(C=lambda x: x[\"A\"] + x[\"B\"], D=lambda x: x[\"A\"] + x[\"C\"])"
   ]
  },
  {
   "cell_type": "code",
   "execution_count": 88,
   "id": "29f6643d",
   "metadata": {
    "execution": {
     "iopub.execute_input": "2023-08-17T01:45:04.857426Z",
     "iopub.status.busy": "2023-08-17T01:45:04.856293Z",
     "iopub.status.idle": "2023-08-17T01:45:04.870351Z",
     "shell.execute_reply": "2023-08-17T01:45:04.869066Z"
    },
    "papermill": {
     "duration": 0.056575,
     "end_time": "2023-08-17T01:45:04.872166",
     "exception": false,
     "start_time": "2023-08-17T01:45:04.815591",
     "status": "completed"
    },
    "tags": []
   },
   "outputs": [
    {
     "data": {
      "text/html": [
       "<div>\n",
       "<style scoped>\n",
       "    .dataframe tbody tr th:only-of-type {\n",
       "        vertical-align: middle;\n",
       "    }\n",
       "\n",
       "    .dataframe tbody tr th {\n",
       "        vertical-align: top;\n",
       "    }\n",
       "\n",
       "    .dataframe thead th {\n",
       "        text-align: right;\n",
       "    }\n",
       "</style>\n",
       "<table border=\"1\" class=\"dataframe\">\n",
       "  <thead>\n",
       "    <tr style=\"text-align: right;\">\n",
       "      <th></th>\n",
       "      <th>A</th>\n",
       "      <th>B</th>\n",
       "      <th>C</th>\n",
       "      <th>D</th>\n",
       "    </tr>\n",
       "  </thead>\n",
       "  <tbody>\n",
       "    <tr>\n",
       "      <th>0</th>\n",
       "      <td>0.924127</td>\n",
       "      <td>-2.507098</td>\n",
       "      <td>1.796657</td>\n",
       "      <td>NaN</td>\n",
       "    </tr>\n",
       "    <tr>\n",
       "      <th>1</th>\n",
       "      <td>-0.021933</td>\n",
       "      <td>-0.542428</td>\n",
       "      <td>-2.570741</td>\n",
       "      <td>NaN</td>\n",
       "    </tr>\n",
       "    <tr>\n",
       "      <th>2</th>\n",
       "      <td>-0.883763</td>\n",
       "      <td>-0.079606</td>\n",
       "      <td>0.742690</td>\n",
       "      <td>NaN</td>\n",
       "    </tr>\n",
       "    <tr>\n",
       "      <th>3</th>\n",
       "      <td>1.787864</td>\n",
       "      <td>0.710691</td>\n",
       "      <td>-0.294115</td>\n",
       "      <td>NaN</td>\n",
       "    </tr>\n",
       "    <tr>\n",
       "      <th>4</th>\n",
       "      <td>-0.281252</td>\n",
       "      <td>-0.054428</td>\n",
       "      <td>0.750348</td>\n",
       "      <td>NaN</td>\n",
       "    </tr>\n",
       "    <tr>\n",
       "      <th>5</th>\n",
       "      <td>-1.728163</td>\n",
       "      <td>-2.274440</td>\n",
       "      <td>-1.784649</td>\n",
       "      <td>NaN</td>\n",
       "    </tr>\n",
       "    <tr>\n",
       "      <th>6</th>\n",
       "      <td>-0.391868</td>\n",
       "      <td>2.161689</td>\n",
       "      <td>-0.188358</td>\n",
       "      <td>NaN</td>\n",
       "    </tr>\n",
       "    <tr>\n",
       "      <th>7</th>\n",
       "      <td>NaN</td>\n",
       "      <td>NaN</td>\n",
       "      <td>NaN</td>\n",
       "      <td>NaN</td>\n",
       "    </tr>\n",
       "    <tr>\n",
       "      <th>8</th>\n",
       "      <td>NaN</td>\n",
       "      <td>NaN</td>\n",
       "      <td>NaN</td>\n",
       "      <td>NaN</td>\n",
       "    </tr>\n",
       "    <tr>\n",
       "      <th>9</th>\n",
       "      <td>NaN</td>\n",
       "      <td>NaN</td>\n",
       "      <td>NaN</td>\n",
       "      <td>NaN</td>\n",
       "    </tr>\n",
       "  </tbody>\n",
       "</table>\n",
       "</div>"
      ],
      "text/plain": [
       "          A         B         C   D\n",
       "0  0.924127 -2.507098  1.796657 NaN\n",
       "1 -0.021933 -0.542428 -2.570741 NaN\n",
       "2 -0.883763 -0.079606  0.742690 NaN\n",
       "3  1.787864  0.710691 -0.294115 NaN\n",
       "4 -0.281252 -0.054428  0.750348 NaN\n",
       "5 -1.728163 -2.274440 -1.784649 NaN\n",
       "6 -0.391868  2.161689 -0.188358 NaN\n",
       "7       NaN       NaN       NaN NaN\n",
       "8       NaN       NaN       NaN NaN\n",
       "9       NaN       NaN       NaN NaN"
      ]
     },
     "execution_count": 88,
     "metadata": {},
     "output_type": "execute_result"
    }
   ],
   "source": [
    "df = pd.DataFrame(np.random.randn(10, 4), columns=[\"A\", \"B\", \"C\", \"D\"])\n",
    "df2 = pd.DataFrame(np.random.randn(7, 3), columns=[\"A\", \"B\", \"C\"])\n",
    "df + df2"
   ]
  },
  {
   "cell_type": "code",
   "execution_count": 89,
   "id": "08154a77",
   "metadata": {
    "execution": {
     "iopub.execute_input": "2023-08-17T01:45:04.952310Z",
     "iopub.status.busy": "2023-08-17T01:45:04.951766Z",
     "iopub.status.idle": "2023-08-17T01:45:04.962235Z",
     "shell.execute_reply": "2023-08-17T01:45:04.961278Z"
    },
    "papermill": {
     "duration": 0.053087,
     "end_time": "2023-08-17T01:45:04.964278",
     "exception": false,
     "start_time": "2023-08-17T01:45:04.911191",
     "status": "completed"
    },
    "tags": []
   },
   "outputs": [
    {
     "data": {
      "text/html": [
       "<div>\n",
       "<style scoped>\n",
       "    .dataframe tbody tr th:only-of-type {\n",
       "        vertical-align: middle;\n",
       "    }\n",
       "\n",
       "    .dataframe tbody tr th {\n",
       "        vertical-align: top;\n",
       "    }\n",
       "\n",
       "    .dataframe thead th {\n",
       "        text-align: right;\n",
       "    }\n",
       "</style>\n",
       "<table border=\"1\" class=\"dataframe\">\n",
       "  <thead>\n",
       "    <tr style=\"text-align: right;\">\n",
       "      <th></th>\n",
       "      <th>a</th>\n",
       "      <th>b</th>\n",
       "    </tr>\n",
       "  </thead>\n",
       "  <tbody>\n",
       "    <tr>\n",
       "      <th>0</th>\n",
       "      <td>False</td>\n",
       "      <td>False</td>\n",
       "    </tr>\n",
       "    <tr>\n",
       "      <th>1</th>\n",
       "      <td>False</td>\n",
       "      <td>True</td>\n",
       "    </tr>\n",
       "    <tr>\n",
       "      <th>2</th>\n",
       "      <td>True</td>\n",
       "      <td>False</td>\n",
       "    </tr>\n",
       "  </tbody>\n",
       "</table>\n",
       "</div>"
      ],
      "text/plain": [
       "       a      b\n",
       "0  False  False\n",
       "1  False   True\n",
       "2   True  False"
      ]
     },
     "execution_count": 89,
     "metadata": {},
     "output_type": "execute_result"
    }
   ],
   "source": [
    "df1 = pd.DataFrame({\"a\": [1, 0, 1], \"b\": [0, 1, 1]}, dtype=bool)\n",
    "df2 = pd.DataFrame({\"a\": [0, 1, 1], \"b\": [1, 1, 0]}, dtype=bool)\n",
    "df1 & df2"
   ]
  },
  {
   "cell_type": "code",
   "execution_count": 90,
   "id": "4aa7de5c",
   "metadata": {
    "execution": {
     "iopub.execute_input": "2023-08-17T01:45:05.043996Z",
     "iopub.status.busy": "2023-08-17T01:45:05.043203Z",
     "iopub.status.idle": "2023-08-17T01:45:05.053717Z",
     "shell.execute_reply": "2023-08-17T01:45:05.051970Z"
    },
    "papermill": {
     "duration": 0.05263,
     "end_time": "2023-08-17T01:45:05.055725",
     "exception": false,
     "start_time": "2023-08-17T01:45:05.003095",
     "status": "completed"
    },
    "tags": []
   },
   "outputs": [
    {
     "data": {
      "text/html": [
       "<div>\n",
       "<style scoped>\n",
       "    .dataframe tbody tr th:only-of-type {\n",
       "        vertical-align: middle;\n",
       "    }\n",
       "\n",
       "    .dataframe tbody tr th {\n",
       "        vertical-align: top;\n",
       "    }\n",
       "\n",
       "    .dataframe thead th {\n",
       "        text-align: right;\n",
       "    }\n",
       "</style>\n",
       "<table border=\"1\" class=\"dataframe\">\n",
       "  <thead>\n",
       "    <tr style=\"text-align: right;\">\n",
       "      <th></th>\n",
       "      <th>a</th>\n",
       "      <th>b</th>\n",
       "    </tr>\n",
       "  </thead>\n",
       "  <tbody>\n",
       "    <tr>\n",
       "      <th>0</th>\n",
       "      <td>True</td>\n",
       "      <td>True</td>\n",
       "    </tr>\n",
       "    <tr>\n",
       "      <th>1</th>\n",
       "      <td>True</td>\n",
       "      <td>True</td>\n",
       "    </tr>\n",
       "    <tr>\n",
       "      <th>2</th>\n",
       "      <td>True</td>\n",
       "      <td>True</td>\n",
       "    </tr>\n",
       "  </tbody>\n",
       "</table>\n",
       "</div>"
      ],
      "text/plain": [
       "      a     b\n",
       "0  True  True\n",
       "1  True  True\n",
       "2  True  True"
      ]
     },
     "execution_count": 90,
     "metadata": {},
     "output_type": "execute_result"
    }
   ],
   "source": [
    "df1 | df2"
   ]
  },
  {
   "cell_type": "code",
   "execution_count": 91,
   "id": "c5492260",
   "metadata": {
    "execution": {
     "iopub.execute_input": "2023-08-17T01:45:05.138585Z",
     "iopub.status.busy": "2023-08-17T01:45:05.138187Z",
     "iopub.status.idle": "2023-08-17T01:45:05.147293Z",
     "shell.execute_reply": "2023-08-17T01:45:05.145819Z"
    },
    "papermill": {
     "duration": 0.053623,
     "end_time": "2023-08-17T01:45:05.149868",
     "exception": false,
     "start_time": "2023-08-17T01:45:05.096245",
     "status": "completed"
    },
    "tags": []
   },
   "outputs": [
    {
     "data": {
      "text/html": [
       "<div>\n",
       "<style scoped>\n",
       "    .dataframe tbody tr th:only-of-type {\n",
       "        vertical-align: middle;\n",
       "    }\n",
       "\n",
       "    .dataframe tbody tr th {\n",
       "        vertical-align: top;\n",
       "    }\n",
       "\n",
       "    .dataframe thead th {\n",
       "        text-align: right;\n",
       "    }\n",
       "</style>\n",
       "<table border=\"1\" class=\"dataframe\">\n",
       "  <thead>\n",
       "    <tr style=\"text-align: right;\">\n",
       "      <th></th>\n",
       "      <th>a</th>\n",
       "      <th>b</th>\n",
       "    </tr>\n",
       "  </thead>\n",
       "  <tbody>\n",
       "    <tr>\n",
       "      <th>0</th>\n",
       "      <td>True</td>\n",
       "      <td>True</td>\n",
       "    </tr>\n",
       "    <tr>\n",
       "      <th>1</th>\n",
       "      <td>True</td>\n",
       "      <td>False</td>\n",
       "    </tr>\n",
       "    <tr>\n",
       "      <th>2</th>\n",
       "      <td>False</td>\n",
       "      <td>True</td>\n",
       "    </tr>\n",
       "  </tbody>\n",
       "</table>\n",
       "</div>"
      ],
      "text/plain": [
       "       a      b\n",
       "0   True   True\n",
       "1   True  False\n",
       "2  False   True"
      ]
     },
     "execution_count": 91,
     "metadata": {},
     "output_type": "execute_result"
    }
   ],
   "source": [
    "df1 ^ df2"
   ]
  },
  {
   "cell_type": "code",
   "execution_count": 92,
   "id": "b7cca660",
   "metadata": {
    "execution": {
     "iopub.execute_input": "2023-08-17T01:45:05.233362Z",
     "iopub.status.busy": "2023-08-17T01:45:05.233014Z",
     "iopub.status.idle": "2023-08-17T01:45:05.242341Z",
     "shell.execute_reply": "2023-08-17T01:45:05.241327Z"
    },
    "papermill": {
     "duration": 0.053079,
     "end_time": "2023-08-17T01:45:05.244150",
     "exception": false,
     "start_time": "2023-08-17T01:45:05.191071",
     "status": "completed"
    },
    "tags": []
   },
   "outputs": [
    {
     "data": {
      "text/html": [
       "<div>\n",
       "<style scoped>\n",
       "    .dataframe tbody tr th:only-of-type {\n",
       "        vertical-align: middle;\n",
       "    }\n",
       "\n",
       "    .dataframe tbody tr th {\n",
       "        vertical-align: top;\n",
       "    }\n",
       "\n",
       "    .dataframe thead th {\n",
       "        text-align: right;\n",
       "    }\n",
       "</style>\n",
       "<table border=\"1\" class=\"dataframe\">\n",
       "  <thead>\n",
       "    <tr style=\"text-align: right;\">\n",
       "      <th></th>\n",
       "      <th>a</th>\n",
       "      <th>b</th>\n",
       "    </tr>\n",
       "  </thead>\n",
       "  <tbody>\n",
       "    <tr>\n",
       "      <th>0</th>\n",
       "      <td>False</td>\n",
       "      <td>True</td>\n",
       "    </tr>\n",
       "    <tr>\n",
       "      <th>1</th>\n",
       "      <td>True</td>\n",
       "      <td>False</td>\n",
       "    </tr>\n",
       "    <tr>\n",
       "      <th>2</th>\n",
       "      <td>False</td>\n",
       "      <td>False</td>\n",
       "    </tr>\n",
       "  </tbody>\n",
       "</table>\n",
       "</div>"
      ],
      "text/plain": [
       "       a      b\n",
       "0  False   True\n",
       "1   True  False\n",
       "2  False  False"
      ]
     },
     "execution_count": 92,
     "metadata": {},
     "output_type": "execute_result"
    }
   ],
   "source": [
    "-df1"
   ]
  },
  {
   "cell_type": "code",
   "execution_count": 93,
   "id": "f497721a",
   "metadata": {
    "execution": {
     "iopub.execute_input": "2023-08-17T01:45:05.325709Z",
     "iopub.status.busy": "2023-08-17T01:45:05.325331Z",
     "iopub.status.idle": "2023-08-17T01:45:05.337749Z",
     "shell.execute_reply": "2023-08-17T01:45:05.336618Z"
    },
    "papermill": {
     "duration": 0.055839,
     "end_time": "2023-08-17T01:45:05.339458",
     "exception": false,
     "start_time": "2023-08-17T01:45:05.283619",
     "status": "completed"
    },
    "tags": []
   },
   "outputs": [
    {
     "data": {
      "text/html": [
       "<div>\n",
       "<style scoped>\n",
       "    .dataframe tbody tr th:only-of-type {\n",
       "        vertical-align: middle;\n",
       "    }\n",
       "\n",
       "    .dataframe tbody tr th {\n",
       "        vertical-align: top;\n",
       "    }\n",
       "\n",
       "    .dataframe thead th {\n",
       "        text-align: right;\n",
       "    }\n",
       "</style>\n",
       "<table border=\"1\" class=\"dataframe\">\n",
       "  <thead>\n",
       "    <tr style=\"text-align: right;\">\n",
       "      <th></th>\n",
       "      <th>A</th>\n",
       "      <th>B</th>\n",
       "      <th>C</th>\n",
       "      <th>D</th>\n",
       "    </tr>\n",
       "  </thead>\n",
       "  <tbody>\n",
       "    <tr>\n",
       "      <th>0</th>\n",
       "      <td>0.837934</td>\n",
       "      <td>0.269589</td>\n",
       "      <td>3.607723</td>\n",
       "      <td>0.688798</td>\n",
       "    </tr>\n",
       "    <tr>\n",
       "      <th>1</th>\n",
       "      <td>1.290308</td>\n",
       "      <td>0.606939</td>\n",
       "      <td>0.384262</td>\n",
       "      <td>0.353901</td>\n",
       "    </tr>\n",
       "    <tr>\n",
       "      <th>2</th>\n",
       "      <td>0.029766</td>\n",
       "      <td>0.757395</td>\n",
       "      <td>1.020710</td>\n",
       "      <td>4.890125</td>\n",
       "    </tr>\n",
       "    <tr>\n",
       "      <th>3</th>\n",
       "      <td>2.210365</td>\n",
       "      <td>1.503783</td>\n",
       "      <td>0.729196</td>\n",
       "      <td>0.322049</td>\n",
       "    </tr>\n",
       "    <tr>\n",
       "      <th>4</th>\n",
       "      <td>1.151925</td>\n",
       "      <td>1.265712</td>\n",
       "      <td>2.946374</td>\n",
       "      <td>0.583552</td>\n",
       "    </tr>\n",
       "    <tr>\n",
       "      <th>5</th>\n",
       "      <td>0.479037</td>\n",
       "      <td>0.433912</td>\n",
       "      <td>0.688040</td>\n",
       "      <td>0.138946</td>\n",
       "    </tr>\n",
       "    <tr>\n",
       "      <th>6</th>\n",
       "      <td>0.578760</td>\n",
       "      <td>4.458788</td>\n",
       "      <td>0.818394</td>\n",
       "      <td>0.616846</td>\n",
       "    </tr>\n",
       "    <tr>\n",
       "      <th>7</th>\n",
       "      <td>0.505331</td>\n",
       "      <td>1.788829</td>\n",
       "      <td>1.908433</td>\n",
       "      <td>0.971570</td>\n",
       "    </tr>\n",
       "    <tr>\n",
       "      <th>8</th>\n",
       "      <td>0.528833</td>\n",
       "      <td>3.318050</td>\n",
       "      <td>0.565909</td>\n",
       "      <td>0.629751</td>\n",
       "    </tr>\n",
       "    <tr>\n",
       "      <th>9</th>\n",
       "      <td>1.467725</td>\n",
       "      <td>0.107020</td>\n",
       "      <td>0.841259</td>\n",
       "      <td>3.422405</td>\n",
       "    </tr>\n",
       "  </tbody>\n",
       "</table>\n",
       "</div>"
      ],
      "text/plain": [
       "          A         B         C         D\n",
       "0  0.837934  0.269589  3.607723  0.688798\n",
       "1  1.290308  0.606939  0.384262  0.353901\n",
       "2  0.029766  0.757395  1.020710  4.890125\n",
       "3  2.210365  1.503783  0.729196  0.322049\n",
       "4  1.151925  1.265712  2.946374  0.583552\n",
       "5  0.479037  0.433912  0.688040  0.138946\n",
       "6  0.578760  4.458788  0.818394  0.616846\n",
       "7  0.505331  1.788829  1.908433  0.971570\n",
       "8  0.528833  3.318050  0.565909  0.629751\n",
       "9  1.467725  0.107020  0.841259  3.422405"
      ]
     },
     "execution_count": 93,
     "metadata": {},
     "output_type": "execute_result"
    }
   ],
   "source": [
    "np.exp(df)"
   ]
  },
  {
   "cell_type": "code",
   "execution_count": 94,
   "id": "11d3fd9b",
   "metadata": {
    "execution": {
     "iopub.execute_input": "2023-08-17T01:45:05.422921Z",
     "iopub.status.busy": "2023-08-17T01:45:05.422283Z",
     "iopub.status.idle": "2023-08-17T01:45:05.428929Z",
     "shell.execute_reply": "2023-08-17T01:45:05.428036Z"
    },
    "papermill": {
     "duration": 0.050578,
     "end_time": "2023-08-17T01:45:05.430672",
     "exception": false,
     "start_time": "2023-08-17T01:45:05.380094",
     "status": "completed"
    },
    "tags": []
   },
   "outputs": [
    {
     "data": {
      "text/plain": [
       "0     2.718282\n",
       "1     7.389056\n",
       "2    20.085537\n",
       "3    54.598150\n",
       "dtype: float64"
      ]
     },
     "execution_count": 94,
     "metadata": {},
     "output_type": "execute_result"
    }
   ],
   "source": [
    "ser = pd.Series([1, 2, 3, 4])\n",
    "np.exp(ser)"
   ]
  },
  {
   "cell_type": "code",
   "execution_count": 95,
   "id": "fda33d7e",
   "metadata": {
    "execution": {
     "iopub.execute_input": "2023-08-17T01:45:05.514753Z",
     "iopub.status.busy": "2023-08-17T01:45:05.514359Z",
     "iopub.status.idle": "2023-08-17T01:45:05.522716Z",
     "shell.execute_reply": "2023-08-17T01:45:05.520916Z"
    },
    "papermill": {
     "duration": 0.052814,
     "end_time": "2023-08-17T01:45:05.524934",
     "exception": false,
     "start_time": "2023-08-17T01:45:05.472120",
     "status": "completed"
    },
    "tags": []
   },
   "outputs": [
    {
     "data": {
      "text/plain": [
       "a    1\n",
       "b    2\n",
       "c    3\n",
       "dtype: int64"
      ]
     },
     "execution_count": 95,
     "metadata": {},
     "output_type": "execute_result"
    }
   ],
   "source": [
    "ser1 = pd.Series([1, 2, 3], index=[\"a\", \"b\", \"c\"])\n",
    "ser2 = pd.Series([1, 3, 5], index=[\"b\", \"a\", \"c\"])\n",
    "ser1"
   ]
  },
  {
   "cell_type": "code",
   "execution_count": 96,
   "id": "faf811e3",
   "metadata": {
    "execution": {
     "iopub.execute_input": "2023-08-17T01:45:05.607207Z",
     "iopub.status.busy": "2023-08-17T01:45:05.606860Z",
     "iopub.status.idle": "2023-08-17T01:45:05.614371Z",
     "shell.execute_reply": "2023-08-17T01:45:05.613463Z"
    },
    "papermill": {
     "duration": 0.051074,
     "end_time": "2023-08-17T01:45:05.616310",
     "exception": false,
     "start_time": "2023-08-17T01:45:05.565236",
     "status": "completed"
    },
    "tags": []
   },
   "outputs": [
    {
     "data": {
      "text/plain": [
       "a    1\n",
       "b    0\n",
       "c    3\n",
       "dtype: int64"
      ]
     },
     "execution_count": 96,
     "metadata": {},
     "output_type": "execute_result"
    }
   ],
   "source": [
    "np.remainder(ser1, ser2)"
   ]
  },
  {
   "cell_type": "code",
   "execution_count": 97,
   "id": "19fe85f3",
   "metadata": {
    "execution": {
     "iopub.execute_input": "2023-08-17T01:45:05.701240Z",
     "iopub.status.busy": "2023-08-17T01:45:05.700671Z",
     "iopub.status.idle": "2023-08-17T01:45:05.709411Z",
     "shell.execute_reply": "2023-08-17T01:45:05.708120Z"
    },
    "papermill": {
     "duration": 0.054077,
     "end_time": "2023-08-17T01:45:05.711878",
     "exception": false,
     "start_time": "2023-08-17T01:45:05.657801",
     "status": "completed"
    },
    "tags": []
   },
   "outputs": [
    {
     "data": {
      "text/plain": [
       "a    NaN\n",
       "b    0.0\n",
       "c    3.0\n",
       "d    NaN\n",
       "dtype: float64"
      ]
     },
     "execution_count": 97,
     "metadata": {},
     "output_type": "execute_result"
    }
   ],
   "source": [
    "ser3 = pd.Series([2, 4, 6], index=[\"b\", \"c\", \"d\"])\n",
    "np.remainder(ser1, ser3)"
   ]
  },
  {
   "cell_type": "code",
   "execution_count": 98,
   "id": "5d7007fc",
   "metadata": {
    "execution": {
     "iopub.execute_input": "2023-08-17T01:45:05.795872Z",
     "iopub.status.busy": "2023-08-17T01:45:05.795528Z",
     "iopub.status.idle": "2023-08-17T01:45:05.802775Z",
     "shell.execute_reply": "2023-08-17T01:45:05.801888Z"
    },
    "papermill": {
     "duration": 0.051997,
     "end_time": "2023-08-17T01:45:05.804904",
     "exception": false,
     "start_time": "2023-08-17T01:45:05.752907",
     "status": "completed"
    },
    "tags": []
   },
   "outputs": [
    {
     "data": {
      "text/plain": [
       "0    4\n",
       "1    5\n",
       "2    6\n",
       "dtype: int64"
      ]
     },
     "execution_count": 98,
     "metadata": {},
     "output_type": "execute_result"
    }
   ],
   "source": [
    "ser = pd.Series([1, 2, 3])\n",
    "idx = pd.Index([4, 5, 6])\n",
    "np.maximum(ser, idx)"
   ]
  },
  {
   "cell_type": "code",
   "execution_count": 99,
   "id": "dff3ab47",
   "metadata": {
    "execution": {
     "iopub.execute_input": "2023-08-17T01:45:05.888301Z",
     "iopub.status.busy": "2023-08-17T01:45:05.887515Z",
     "iopub.status.idle": "2023-08-17T01:45:05.901598Z",
     "shell.execute_reply": "2023-08-17T01:45:05.900624Z"
    },
    "papermill": {
     "duration": 0.058431,
     "end_time": "2023-08-17T01:45:05.903413",
     "exception": false,
     "start_time": "2023-08-17T01:45:05.844982",
     "status": "completed"
    },
    "tags": []
   },
   "outputs": [
    {
     "data": {
      "text/html": [
       "<div>\n",
       "<style scoped>\n",
       "    .dataframe tbody tr th:only-of-type {\n",
       "        vertical-align: middle;\n",
       "    }\n",
       "\n",
       "    .dataframe tbody tr th {\n",
       "        vertical-align: top;\n",
       "    }\n",
       "\n",
       "    .dataframe thead th {\n",
       "        text-align: right;\n",
       "    }\n",
       "</style>\n",
       "<table border=\"1\" class=\"dataframe\">\n",
       "  <thead>\n",
       "    <tr style=\"text-align: right;\">\n",
       "      <th></th>\n",
       "      <th>0</th>\n",
       "      <th>1</th>\n",
       "      <th>2</th>\n",
       "      <th>3</th>\n",
       "      <th>4</th>\n",
       "      <th>5</th>\n",
       "      <th>6</th>\n",
       "      <th>7</th>\n",
       "      <th>8</th>\n",
       "      <th>9</th>\n",
       "      <th>10</th>\n",
       "      <th>11</th>\n",
       "    </tr>\n",
       "  </thead>\n",
       "  <tbody>\n",
       "    <tr>\n",
       "      <th>0</th>\n",
       "      <td>0.913687</td>\n",
       "      <td>0.424889</td>\n",
       "      <td>1.025701</td>\n",
       "      <td>1.051206</td>\n",
       "      <td>1.843936</td>\n",
       "      <td>0.780725</td>\n",
       "      <td>2.083006</td>\n",
       "      <td>1.602163</td>\n",
       "      <td>0.169331</td>\n",
       "      <td>-1.012403</td>\n",
       "      <td>-0.409309</td>\n",
       "      <td>-0.244631</td>\n",
       "    </tr>\n",
       "    <tr>\n",
       "      <th>1</th>\n",
       "      <td>-0.543581</td>\n",
       "      <td>1.528904</td>\n",
       "      <td>0.363856</td>\n",
       "      <td>-1.595310</td>\n",
       "      <td>-0.293024</td>\n",
       "      <td>-0.341819</td>\n",
       "      <td>0.671211</td>\n",
       "      <td>-1.074143</td>\n",
       "      <td>-1.535855</td>\n",
       "      <td>0.882935</td>\n",
       "      <td>0.638750</td>\n",
       "      <td>0.542539</td>\n",
       "    </tr>\n",
       "    <tr>\n",
       "      <th>2</th>\n",
       "      <td>0.128886</td>\n",
       "      <td>-0.833830</td>\n",
       "      <td>0.383995</td>\n",
       "      <td>-1.306830</td>\n",
       "      <td>-0.763908</td>\n",
       "      <td>-0.031755</td>\n",
       "      <td>-1.000385</td>\n",
       "      <td>0.763973</td>\n",
       "      <td>0.242217</td>\n",
       "      <td>-0.523807</td>\n",
       "      <td>-2.049087</td>\n",
       "      <td>1.995230</td>\n",
       "    </tr>\n",
       "  </tbody>\n",
       "</table>\n",
       "</div>"
      ],
      "text/plain": [
       "         0         1         2         3         4         5         6   \\\n",
       "0  0.913687  0.424889  1.025701  1.051206  1.843936  0.780725  2.083006   \n",
       "1 -0.543581  1.528904  0.363856 -1.595310 -0.293024 -0.341819  0.671211   \n",
       "2  0.128886 -0.833830  0.383995 -1.306830 -0.763908 -0.031755 -1.000385   \n",
       "\n",
       "         7         8         9         10        11  \n",
       "0  1.602163  0.169331 -1.012403 -0.409309 -0.244631  \n",
       "1 -1.074143 -1.535855  0.882935  0.638750  0.542539  \n",
       "2  0.763973  0.242217 -0.523807 -2.049087  1.995230  "
      ]
     },
     "execution_count": 99,
     "metadata": {},
     "output_type": "execute_result"
    }
   ],
   "source": [
    "pd.DataFrame(np.random.randn(3, 12))"
   ]
  },
  {
   "cell_type": "code",
   "execution_count": 100,
   "id": "2f523b45",
   "metadata": {
    "execution": {
     "iopub.execute_input": "2023-08-17T01:45:05.989795Z",
     "iopub.status.busy": "2023-08-17T01:45:05.989003Z",
     "iopub.status.idle": "2023-08-17T01:45:06.004281Z",
     "shell.execute_reply": "2023-08-17T01:45:06.003134Z"
    },
    "papermill": {
     "duration": 0.061791,
     "end_time": "2023-08-17T01:45:06.006713",
     "exception": false,
     "start_time": "2023-08-17T01:45:05.944922",
     "status": "completed"
    },
    "tags": []
   },
   "outputs": [
    {
     "data": {
      "text/html": [
       "<div>\n",
       "<style scoped>\n",
       "    .dataframe tbody tr th:only-of-type {\n",
       "        vertical-align: middle;\n",
       "    }\n",
       "\n",
       "    .dataframe tbody tr th {\n",
       "        vertical-align: top;\n",
       "    }\n",
       "\n",
       "    .dataframe thead th {\n",
       "        text-align: right;\n",
       "    }\n",
       "</style>\n",
       "<table border=\"1\" class=\"dataframe\">\n",
       "  <thead>\n",
       "    <tr style=\"text-align: right;\">\n",
       "      <th></th>\n",
       "      <th>0</th>\n",
       "      <th>1</th>\n",
       "      <th>2</th>\n",
       "      <th>3</th>\n",
       "      <th>4</th>\n",
       "      <th>5</th>\n",
       "      <th>6</th>\n",
       "      <th>7</th>\n",
       "      <th>8</th>\n",
       "      <th>9</th>\n",
       "      <th>10</th>\n",
       "      <th>11</th>\n",
       "    </tr>\n",
       "  </thead>\n",
       "  <tbody>\n",
       "    <tr>\n",
       "      <th>0</th>\n",
       "      <td>-0.525627</td>\n",
       "      <td>0.645516</td>\n",
       "      <td>1.109899</td>\n",
       "      <td>0.701202</td>\n",
       "      <td>-1.834368</td>\n",
       "      <td>1.083205</td>\n",
       "      <td>0.996305</td>\n",
       "      <td>0.458384</td>\n",
       "      <td>0.361230</td>\n",
       "      <td>-2.024311</td>\n",
       "      <td>-0.883037</td>\n",
       "      <td>-0.920053</td>\n",
       "    </tr>\n",
       "    <tr>\n",
       "      <th>1</th>\n",
       "      <td>0.468510</td>\n",
       "      <td>1.866226</td>\n",
       "      <td>0.004428</td>\n",
       "      <td>2.240049</td>\n",
       "      <td>-0.350680</td>\n",
       "      <td>-1.081319</td>\n",
       "      <td>0.241718</td>\n",
       "      <td>-0.152445</td>\n",
       "      <td>2.046675</td>\n",
       "      <td>0.414364</td>\n",
       "      <td>-0.331333</td>\n",
       "      <td>-0.050348</td>\n",
       "    </tr>\n",
       "    <tr>\n",
       "      <th>2</th>\n",
       "      <td>1.090969</td>\n",
       "      <td>-0.909781</td>\n",
       "      <td>-1.062034</td>\n",
       "      <td>-2.624603</td>\n",
       "      <td>-0.283415</td>\n",
       "      <td>-0.190732</td>\n",
       "      <td>-0.498973</td>\n",
       "      <td>-2.638073</td>\n",
       "      <td>-0.440874</td>\n",
       "      <td>-1.490855</td>\n",
       "      <td>1.066857</td>\n",
       "      <td>0.061307</td>\n",
       "    </tr>\n",
       "  </tbody>\n",
       "</table>\n",
       "</div>"
      ],
      "text/plain": [
       "         0         1         2   \\\n",
       "0 -0.525627  0.645516  1.109899   \n",
       "1  0.468510  1.866226  0.004428   \n",
       "2  1.090969 -0.909781 -1.062034   \n",
       "\n",
       "         3         4         5   \\\n",
       "0  0.701202 -1.834368  1.083205   \n",
       "1  2.240049 -0.350680 -1.081319   \n",
       "2 -2.624603 -0.283415 -0.190732   \n",
       "\n",
       "         6         7         8   \\\n",
       "0  0.996305  0.458384  0.361230   \n",
       "1  0.241718 -0.152445  2.046675   \n",
       "2 -0.498973 -2.638073 -0.440874   \n",
       "\n",
       "         9         10        11  \n",
       "0 -2.024311 -0.883037 -0.920053  \n",
       "1  0.414364 -0.331333 -0.050348  \n",
       "2 -1.490855  1.066857  0.061307  "
      ]
     },
     "execution_count": 100,
     "metadata": {},
     "output_type": "execute_result"
    }
   ],
   "source": [
    "pd.set_option(\"display.width\", 40) # default is 80\n",
    "pd.DataFrame(np.random.randn(3, 12))"
   ]
  },
  {
   "cell_type": "code",
   "execution_count": 101,
   "id": "1f7be1d8",
   "metadata": {
    "execution": {
     "iopub.execute_input": "2023-08-17T01:45:06.092340Z",
     "iopub.status.busy": "2023-08-17T01:45:06.091999Z",
     "iopub.status.idle": "2023-08-17T01:45:06.101510Z",
     "shell.execute_reply": "2023-08-17T01:45:06.100518Z"
    },
    "papermill": {
     "duration": 0.054365,
     "end_time": "2023-08-17T01:45:06.103194",
     "exception": false,
     "start_time": "2023-08-17T01:45:06.048829",
     "status": "completed"
    },
    "tags": []
   },
   "outputs": [
    {
     "data": {
      "text/html": [
       "<div>\n",
       "<style scoped>\n",
       "    .dataframe tbody tr th:only-of-type {\n",
       "        vertical-align: middle;\n",
       "    }\n",
       "\n",
       "    .dataframe tbody tr th {\n",
       "        vertical-align: top;\n",
       "    }\n",
       "\n",
       "    .dataframe thead th {\n",
       "        text-align: right;\n",
       "    }\n",
       "</style>\n",
       "<table border=\"1\" class=\"dataframe\">\n",
       "  <thead>\n",
       "    <tr style=\"text-align: right;\">\n",
       "      <th></th>\n",
       "      <th>filename</th>\n",
       "      <th>path</th>\n",
       "    </tr>\n",
       "  </thead>\n",
       "  <tbody>\n",
       "    <tr>\n",
       "      <th>0</th>\n",
       "      <td>filename_01</td>\n",
       "      <td>media/user_name/storage/fo...</td>\n",
       "    </tr>\n",
       "    <tr>\n",
       "      <th>1</th>\n",
       "      <td>filename_02</td>\n",
       "      <td>media/user_name/storage/fo...</td>\n",
       "    </tr>\n",
       "  </tbody>\n",
       "</table>\n",
       "</div>"
      ],
      "text/plain": [
       "      filename  \\\n",
       "0  filename_01   \n",
       "1  filename_02   \n",
       "\n",
       "                            path  \n",
       "0  media/user_name/storage/fo...  \n",
       "1  media/user_name/storage/fo...  "
      ]
     },
     "execution_count": 101,
     "metadata": {},
     "output_type": "execute_result"
    }
   ],
   "source": [
    "datafile = {\n",
    "\"filename\": [\"filename_01\", \"filename_02\"],\n",
    "\"path\": [\n",
    "\"media/user_name/storage/folder_01/filename_01\",\n",
    "\"media/user_name/storage/folder_02/filename_02\",]\n",
    "}\n",
    "\n",
    "pd.set_option(\"display.max_colwidth\", 30)\n",
    "pd.DataFrame(datafile)"
   ]
  },
  {
   "cell_type": "code",
   "execution_count": 102,
   "id": "61370074",
   "metadata": {
    "execution": {
     "iopub.execute_input": "2023-08-17T01:45:06.187162Z",
     "iopub.status.busy": "2023-08-17T01:45:06.186838Z",
     "iopub.status.idle": "2023-08-17T01:45:06.196282Z",
     "shell.execute_reply": "2023-08-17T01:45:06.195092Z"
    },
    "papermill": {
     "duration": 0.053962,
     "end_time": "2023-08-17T01:45:06.198194",
     "exception": false,
     "start_time": "2023-08-17T01:45:06.144232",
     "status": "completed"
    },
    "tags": []
   },
   "outputs": [
    {
     "data": {
      "text/html": [
       "<div>\n",
       "<style scoped>\n",
       "    .dataframe tbody tr th:only-of-type {\n",
       "        vertical-align: middle;\n",
       "    }\n",
       "\n",
       "    .dataframe tbody tr th {\n",
       "        vertical-align: top;\n",
       "    }\n",
       "\n",
       "    .dataframe thead th {\n",
       "        text-align: right;\n",
       "    }\n",
       "</style>\n",
       "<table border=\"1\" class=\"dataframe\">\n",
       "  <thead>\n",
       "    <tr style=\"text-align: right;\">\n",
       "      <th></th>\n",
       "      <th>filename</th>\n",
       "      <th>path</th>\n",
       "    </tr>\n",
       "  </thead>\n",
       "  <tbody>\n",
       "    <tr>\n",
       "      <th>0</th>\n",
       "      <td>filename_01</td>\n",
       "      <td>media/user_name/storage/folder_01/filename_01</td>\n",
       "    </tr>\n",
       "    <tr>\n",
       "      <th>1</th>\n",
       "      <td>filename_02</td>\n",
       "      <td>media/user_name/storage/folder_02/filename_02</td>\n",
       "    </tr>\n",
       "  </tbody>\n",
       "</table>\n",
       "</div>"
      ],
      "text/plain": [
       "      filename  \\\n",
       "0  filename_01   \n",
       "1  filename_02   \n",
       "\n",
       "                                            path  \n",
       "0  media/user_name/storage/folder_01/filename_01  \n",
       "1  media/user_name/storage/folder_02/filename_02  "
      ]
     },
     "execution_count": 102,
     "metadata": {},
     "output_type": "execute_result"
    }
   ],
   "source": [
    "pd.set_option(\"display.max_colwidth\", 100)\n",
    "pd.DataFrame(datafile)"
   ]
  },
  {
   "cell_type": "code",
   "execution_count": 103,
   "id": "3fe97285",
   "metadata": {
    "execution": {
     "iopub.execute_input": "2023-08-17T01:45:06.283332Z",
     "iopub.status.busy": "2023-08-17T01:45:06.282245Z",
     "iopub.status.idle": "2023-08-17T01:45:06.292404Z",
     "shell.execute_reply": "2023-08-17T01:45:06.291542Z"
    },
    "papermill": {
     "duration": 0.05477,
     "end_time": "2023-08-17T01:45:06.294171",
     "exception": false,
     "start_time": "2023-08-17T01:45:06.239401",
     "status": "completed"
    },
    "tags": []
   },
   "outputs": [
    {
     "data": {
      "text/html": [
       "<div>\n",
       "<style scoped>\n",
       "    .dataframe tbody tr th:only-of-type {\n",
       "        vertical-align: middle;\n",
       "    }\n",
       "\n",
       "    .dataframe tbody tr th {\n",
       "        vertical-align: top;\n",
       "    }\n",
       "\n",
       "    .dataframe thead th {\n",
       "        text-align: right;\n",
       "    }\n",
       "</style>\n",
       "<table border=\"1\" class=\"dataframe\">\n",
       "  <thead>\n",
       "    <tr style=\"text-align: right;\">\n",
       "      <th></th>\n",
       "      <th>foo1</th>\n",
       "      <th>foo2</th>\n",
       "    </tr>\n",
       "  </thead>\n",
       "  <tbody>\n",
       "    <tr>\n",
       "      <th>0</th>\n",
       "      <td>-1.073429</td>\n",
       "      <td>-0.071628</td>\n",
       "    </tr>\n",
       "    <tr>\n",
       "      <th>1</th>\n",
       "      <td>1.149887</td>\n",
       "      <td>-2.021374</td>\n",
       "    </tr>\n",
       "    <tr>\n",
       "      <th>2</th>\n",
       "      <td>1.920098</td>\n",
       "      <td>-0.412615</td>\n",
       "    </tr>\n",
       "    <tr>\n",
       "      <th>3</th>\n",
       "      <td>0.015973</td>\n",
       "      <td>-0.023960</td>\n",
       "    </tr>\n",
       "    <tr>\n",
       "      <th>4</th>\n",
       "      <td>0.710104</td>\n",
       "      <td>-1.515654</td>\n",
       "    </tr>\n",
       "  </tbody>\n",
       "</table>\n",
       "</div>"
      ],
      "text/plain": [
       "       foo1      foo2\n",
       "0 -1.073429 -0.071628\n",
       "1  1.149887 -2.021374\n",
       "2  1.920098 -0.412615\n",
       "3  0.015973 -0.023960\n",
       "4  0.710104 -1.515654"
      ]
     },
     "execution_count": 103,
     "metadata": {},
     "output_type": "execute_result"
    }
   ],
   "source": [
    "df = pd.DataFrame({\"foo1\": np.random.randn(5), \"foo2\": np.random.randn(5)})\n",
    "df"
   ]
  },
  {
   "cell_type": "code",
   "execution_count": 104,
   "id": "326da1f3",
   "metadata": {
    "execution": {
     "iopub.execute_input": "2023-08-17T01:45:06.379035Z",
     "iopub.status.busy": "2023-08-17T01:45:06.378710Z",
     "iopub.status.idle": "2023-08-17T01:45:06.385185Z",
     "shell.execute_reply": "2023-08-17T01:45:06.384459Z"
    },
    "papermill": {
     "duration": 0.051104,
     "end_time": "2023-08-17T01:45:06.386885",
     "exception": false,
     "start_time": "2023-08-17T01:45:06.335781",
     "status": "completed"
    },
    "tags": []
   },
   "outputs": [],
   "source": [
    "index = pd.date_range(\"1/1/2000\", periods=8)\n",
    "s = pd.Series(np.random.randn(5), index=[\"a\", \"b\", \"c\", \"d\", \"e\"])\n",
    "df = pd.DataFrame(np.random.randn(8, 3), index=index, columns=[\"A\", \"B\", \"C\"])"
   ]
  },
  {
   "cell_type": "code",
   "execution_count": 105,
   "id": "ebc906c9",
   "metadata": {
    "execution": {
     "iopub.execute_input": "2023-08-17T01:45:06.472770Z",
     "iopub.status.busy": "2023-08-17T01:45:06.472066Z",
     "iopub.status.idle": "2023-08-17T01:45:06.479566Z",
     "shell.execute_reply": "2023-08-17T01:45:06.478511Z"
    },
    "papermill": {
     "duration": 0.052903,
     "end_time": "2023-08-17T01:45:06.481202",
     "exception": false,
     "start_time": "2023-08-17T01:45:06.428299",
     "status": "completed"
    },
    "tags": []
   },
   "outputs": [
    {
     "data": {
      "text/plain": [
       "0    0.128596\n",
       "1    0.879463\n",
       "2   -0.921461\n",
       "3    0.606074\n",
       "4    1.171138\n",
       "dtype: float64"
      ]
     },
     "execution_count": 105,
     "metadata": {},
     "output_type": "execute_result"
    }
   ],
   "source": [
    "long_series = pd.Series(np.random.randn(1000))\n",
    "long_series.head()"
   ]
  },
  {
   "cell_type": "code",
   "execution_count": 106,
   "id": "28c8d6c8",
   "metadata": {
    "execution": {
     "iopub.execute_input": "2023-08-17T01:45:06.566454Z",
     "iopub.status.busy": "2023-08-17T01:45:06.565916Z",
     "iopub.status.idle": "2023-08-17T01:45:06.574751Z",
     "shell.execute_reply": "2023-08-17T01:45:06.573708Z"
    },
    "papermill": {
     "duration": 0.053532,
     "end_time": "2023-08-17T01:45:06.576456",
     "exception": false,
     "start_time": "2023-08-17T01:45:06.522924",
     "status": "completed"
    },
    "tags": []
   },
   "outputs": [
    {
     "data": {
      "text/html": [
       "<div>\n",
       "<style scoped>\n",
       "    .dataframe tbody tr th:only-of-type {\n",
       "        vertical-align: middle;\n",
       "    }\n",
       "\n",
       "    .dataframe tbody tr th {\n",
       "        vertical-align: top;\n",
       "    }\n",
       "\n",
       "    .dataframe thead th {\n",
       "        text-align: right;\n",
       "    }\n",
       "</style>\n",
       "<table border=\"1\" class=\"dataframe\">\n",
       "  <thead>\n",
       "    <tr style=\"text-align: right;\">\n",
       "      <th></th>\n",
       "      <th>A</th>\n",
       "      <th>B</th>\n",
       "      <th>C</th>\n",
       "    </tr>\n",
       "  </thead>\n",
       "  <tbody>\n",
       "    <tr>\n",
       "      <th>2000-01-01</th>\n",
       "      <td>-0.589731</td>\n",
       "      <td>-0.021797</td>\n",
       "      <td>-0.514717</td>\n",
       "    </tr>\n",
       "    <tr>\n",
       "      <th>2000-01-02</th>\n",
       "      <td>0.302109</td>\n",
       "      <td>0.354175</td>\n",
       "      <td>0.026606</td>\n",
       "    </tr>\n",
       "  </tbody>\n",
       "</table>\n",
       "</div>"
      ],
      "text/plain": [
       "                   A         B  \\\n",
       "2000-01-01 -0.589731 -0.021797   \n",
       "2000-01-02  0.302109  0.354175   \n",
       "\n",
       "                   C  \n",
       "2000-01-01 -0.514717  \n",
       "2000-01-02  0.026606  "
      ]
     },
     "execution_count": 106,
     "metadata": {},
     "output_type": "execute_result"
    }
   ],
   "source": [
    "df[:2]"
   ]
  },
  {
   "cell_type": "code",
   "execution_count": 107,
   "id": "b1c102e5",
   "metadata": {
    "execution": {
     "iopub.execute_input": "2023-08-17T01:45:06.660829Z",
     "iopub.status.busy": "2023-08-17T01:45:06.660328Z",
     "iopub.status.idle": "2023-08-17T01:45:06.669448Z",
     "shell.execute_reply": "2023-08-17T01:45:06.668686Z"
    },
    "papermill": {
     "duration": 0.053234,
     "end_time": "2023-08-17T01:45:06.671120",
     "exception": false,
     "start_time": "2023-08-17T01:45:06.617886",
     "status": "completed"
    },
    "tags": []
   },
   "outputs": [
    {
     "data": {
      "text/html": [
       "<div>\n",
       "<style scoped>\n",
       "    .dataframe tbody tr th:only-of-type {\n",
       "        vertical-align: middle;\n",
       "    }\n",
       "\n",
       "    .dataframe tbody tr th {\n",
       "        vertical-align: top;\n",
       "    }\n",
       "\n",
       "    .dataframe thead th {\n",
       "        text-align: right;\n",
       "    }\n",
       "</style>\n",
       "<table border=\"1\" class=\"dataframe\">\n",
       "  <thead>\n",
       "    <tr style=\"text-align: right;\">\n",
       "      <th></th>\n",
       "      <th>a</th>\n",
       "      <th>b</th>\n",
       "      <th>c</th>\n",
       "    </tr>\n",
       "  </thead>\n",
       "  <tbody>\n",
       "    <tr>\n",
       "      <th>2000-01-01</th>\n",
       "      <td>-0.589731</td>\n",
       "      <td>-0.021797</td>\n",
       "      <td>-0.514717</td>\n",
       "    </tr>\n",
       "    <tr>\n",
       "      <th>2000-01-02</th>\n",
       "      <td>0.302109</td>\n",
       "      <td>0.354175</td>\n",
       "      <td>0.026606</td>\n",
       "    </tr>\n",
       "    <tr>\n",
       "      <th>2000-01-03</th>\n",
       "      <td>1.317569</td>\n",
       "      <td>0.324685</td>\n",
       "      <td>-0.201038</td>\n",
       "    </tr>\n",
       "    <tr>\n",
       "      <th>2000-01-04</th>\n",
       "      <td>-0.611925</td>\n",
       "      <td>0.198230</td>\n",
       "      <td>0.269050</td>\n",
       "    </tr>\n",
       "    <tr>\n",
       "      <th>2000-01-05</th>\n",
       "      <td>-2.049802</td>\n",
       "      <td>-0.911341</td>\n",
       "      <td>0.673781</td>\n",
       "    </tr>\n",
       "    <tr>\n",
       "      <th>2000-01-06</th>\n",
       "      <td>0.296212</td>\n",
       "      <td>1.044648</td>\n",
       "      <td>-0.122230</td>\n",
       "    </tr>\n",
       "    <tr>\n",
       "      <th>2000-01-07</th>\n",
       "      <td>1.047243</td>\n",
       "      <td>0.703645</td>\n",
       "      <td>0.148911</td>\n",
       "    </tr>\n",
       "    <tr>\n",
       "      <th>2000-01-08</th>\n",
       "      <td>0.504076</td>\n",
       "      <td>0.162194</td>\n",
       "      <td>0.362485</td>\n",
       "    </tr>\n",
       "  </tbody>\n",
       "</table>\n",
       "</div>"
      ],
      "text/plain": [
       "                   a         b  \\\n",
       "2000-01-01 -0.589731 -0.021797   \n",
       "2000-01-02  0.302109  0.354175   \n",
       "2000-01-03  1.317569  0.324685   \n",
       "2000-01-04 -0.611925  0.198230   \n",
       "2000-01-05 -2.049802 -0.911341   \n",
       "2000-01-06  0.296212  1.044648   \n",
       "2000-01-07  1.047243  0.703645   \n",
       "2000-01-08  0.504076  0.162194   \n",
       "\n",
       "                   c  \n",
       "2000-01-01 -0.514717  \n",
       "2000-01-02  0.026606  \n",
       "2000-01-03 -0.201038  \n",
       "2000-01-04  0.269050  \n",
       "2000-01-05  0.673781  \n",
       "2000-01-06 -0.122230  \n",
       "2000-01-07  0.148911  \n",
       "2000-01-08  0.362485  "
      ]
     },
     "execution_count": 107,
     "metadata": {},
     "output_type": "execute_result"
    }
   ],
   "source": [
    "df.columns = [x.lower() for x in df.columns]\n",
    "df"
   ]
  },
  {
   "cell_type": "code",
   "execution_count": 108,
   "id": "0f34f671",
   "metadata": {
    "execution": {
     "iopub.execute_input": "2023-08-17T01:45:06.755801Z",
     "iopub.status.busy": "2023-08-17T01:45:06.755245Z",
     "iopub.status.idle": "2023-08-17T01:45:06.760629Z",
     "shell.execute_reply": "2023-08-17T01:45:06.759972Z"
    },
    "papermill": {
     "duration": 0.049742,
     "end_time": "2023-08-17T01:45:06.762165",
     "exception": false,
     "start_time": "2023-08-17T01:45:06.712423",
     "status": "completed"
    },
    "tags": []
   },
   "outputs": [
    {
     "data": {
      "text/plain": [
       "<PandasArray>\n",
       "[-0.2271021178500607,\n",
       " -0.8158597716816998,\n",
       " -0.2562364930847889,\n",
       " 0.09180888050317108,\n",
       " 0.23706052227892804]\n",
       "Length: 5, dtype: float64"
      ]
     },
     "execution_count": 108,
     "metadata": {},
     "output_type": "execute_result"
    }
   ],
   "source": [
    "s.array"
   ]
  },
  {
   "cell_type": "code",
   "execution_count": 109,
   "id": "67ab0074",
   "metadata": {
    "execution": {
     "iopub.execute_input": "2023-08-17T01:45:06.846315Z",
     "iopub.status.busy": "2023-08-17T01:45:06.845974Z",
     "iopub.status.idle": "2023-08-17T01:45:06.852547Z",
     "shell.execute_reply": "2023-08-17T01:45:06.851542Z"
    },
    "papermill": {
     "duration": 0.051028,
     "end_time": "2023-08-17T01:45:06.854250",
     "exception": false,
     "start_time": "2023-08-17T01:45:06.803222",
     "status": "completed"
    },
    "tags": []
   },
   "outputs": [
    {
     "data": {
      "text/plain": [
       "<PandasArray>\n",
       "['a', 'b', 'c', 'd', 'e']\n",
       "Length: 5, dtype: object"
      ]
     },
     "execution_count": 109,
     "metadata": {},
     "output_type": "execute_result"
    }
   ],
   "source": [
    "s.index.array"
   ]
  },
  {
   "cell_type": "code",
   "execution_count": 110,
   "id": "d40b9b77",
   "metadata": {
    "execution": {
     "iopub.execute_input": "2023-08-17T01:45:06.940022Z",
     "iopub.status.busy": "2023-08-17T01:45:06.939612Z",
     "iopub.status.idle": "2023-08-17T01:45:06.948256Z",
     "shell.execute_reply": "2023-08-17T01:45:06.946934Z"
    },
    "papermill": {
     "duration": 0.053365,
     "end_time": "2023-08-17T01:45:06.950372",
     "exception": false,
     "start_time": "2023-08-17T01:45:06.897007",
     "status": "completed"
    },
    "tags": []
   },
   "outputs": [
    {
     "data": {
      "text/plain": [
       "array([-0.22710212, -0.81585977, -0.25623649,  0.09180888,  0.23706052])"
      ]
     },
     "execution_count": 110,
     "metadata": {},
     "output_type": "execute_result"
    }
   ],
   "source": [
    "s.to_numpy()"
   ]
  },
  {
   "cell_type": "code",
   "execution_count": 111,
   "id": "29f85e49",
   "metadata": {
    "execution": {
     "iopub.execute_input": "2023-08-17T01:45:07.047373Z",
     "iopub.status.busy": "2023-08-17T01:45:07.046273Z",
     "iopub.status.idle": "2023-08-17T01:45:07.053184Z",
     "shell.execute_reply": "2023-08-17T01:45:07.052327Z"
    },
    "papermill": {
     "duration": 0.054483,
     "end_time": "2023-08-17T01:45:07.055117",
     "exception": false,
     "start_time": "2023-08-17T01:45:07.000634",
     "status": "completed"
    },
    "tags": []
   },
   "outputs": [
    {
     "data": {
      "text/plain": [
       "array([-0.22710212, -0.81585977, -0.25623649,  0.09180888,  0.23706052])"
      ]
     },
     "execution_count": 111,
     "metadata": {},
     "output_type": "execute_result"
    }
   ],
   "source": [
    "np.asarray(s)"
   ]
  },
  {
   "cell_type": "code",
   "execution_count": 112,
   "id": "882c9a27",
   "metadata": {
    "execution": {
     "iopub.execute_input": "2023-08-17T01:45:07.141031Z",
     "iopub.status.busy": "2023-08-17T01:45:07.140664Z",
     "iopub.status.idle": "2023-08-17T01:45:07.188374Z",
     "shell.execute_reply": "2023-08-17T01:45:07.186949Z"
    },
    "papermill": {
     "duration": 0.094049,
     "end_time": "2023-08-17T01:45:07.191337",
     "exception": false,
     "start_time": "2023-08-17T01:45:07.097288",
     "status": "completed"
    },
    "tags": []
   },
   "outputs": [
    {
     "data": {
      "text/plain": [
       "array([Timestamp('2000-01-01 00:00:00+0100', tz='CET'),\n",
       "       Timestamp('2000-01-02 00:00:00+0100', tz='CET')], dtype=object)"
      ]
     },
     "execution_count": 112,
     "metadata": {},
     "output_type": "execute_result"
    }
   ],
   "source": [
    "ser = pd.Series(pd.date_range(\"2000\", periods=2, tz=\"CET\"))\n",
    "ser.to_numpy(dtype=object)"
   ]
  },
  {
   "cell_type": "code",
   "execution_count": 113,
   "id": "fbb0119b",
   "metadata": {
    "execution": {
     "iopub.execute_input": "2023-08-17T01:45:07.277806Z",
     "iopub.status.busy": "2023-08-17T01:45:07.277159Z",
     "iopub.status.idle": "2023-08-17T01:45:07.281173Z",
     "shell.execute_reply": "2023-08-17T01:45:07.280537Z"
    },
    "papermill": {
     "duration": 0.049248,
     "end_time": "2023-08-17T01:45:07.282889",
     "exception": false,
     "start_time": "2023-08-17T01:45:07.233641",
     "status": "completed"
    },
    "tags": []
   },
   "outputs": [],
   "source": [
    "pd.set_option(\"compute.use_bottleneck\", False)\n",
    "pd.set_option(\"compute.use_numexpr\", False)"
   ]
  },
  {
   "cell_type": "code",
   "execution_count": 114,
   "id": "6a2b9b2e",
   "metadata": {
    "execution": {
     "iopub.execute_input": "2023-08-17T01:45:07.371445Z",
     "iopub.status.busy": "2023-08-17T01:45:07.370094Z",
     "iopub.status.idle": "2023-08-17T01:45:07.383271Z",
     "shell.execute_reply": "2023-08-17T01:45:07.382623Z"
    },
    "papermill": {
     "duration": 0.059836,
     "end_time": "2023-08-17T01:45:07.385466",
     "exception": false,
     "start_time": "2023-08-17T01:45:07.325630",
     "status": "completed"
    },
    "tags": []
   },
   "outputs": [
    {
     "data": {
      "text/html": [
       "<div>\n",
       "<style scoped>\n",
       "    .dataframe tbody tr th:only-of-type {\n",
       "        vertical-align: middle;\n",
       "    }\n",
       "\n",
       "    .dataframe tbody tr th {\n",
       "        vertical-align: top;\n",
       "    }\n",
       "\n",
       "    .dataframe thead th {\n",
       "        text-align: right;\n",
       "    }\n",
       "</style>\n",
       "<table border=\"1\" class=\"dataframe\">\n",
       "  <thead>\n",
       "    <tr style=\"text-align: right;\">\n",
       "      <th></th>\n",
       "      <th>one</th>\n",
       "      <th>two</th>\n",
       "      <th>three</th>\n",
       "    </tr>\n",
       "  </thead>\n",
       "  <tbody>\n",
       "    <tr>\n",
       "      <th>a</th>\n",
       "      <td>0.102869</td>\n",
       "      <td>-1.258233</td>\n",
       "      <td>NaN</td>\n",
       "    </tr>\n",
       "    <tr>\n",
       "      <th>b</th>\n",
       "      <td>-0.172124</td>\n",
       "      <td>1.238216</td>\n",
       "      <td>-0.372243</td>\n",
       "    </tr>\n",
       "    <tr>\n",
       "      <th>c</th>\n",
       "      <td>0.923818</td>\n",
       "      <td>-0.500782</td>\n",
       "      <td>0.877592</td>\n",
       "    </tr>\n",
       "    <tr>\n",
       "      <th>d</th>\n",
       "      <td>NaN</td>\n",
       "      <td>0.314716</td>\n",
       "      <td>-0.160330</td>\n",
       "    </tr>\n",
       "  </tbody>\n",
       "</table>\n",
       "</div>"
      ],
      "text/plain": [
       "        one       two     three\n",
       "a  0.102869 -1.258233       NaN\n",
       "b -0.172124  1.238216 -0.372243\n",
       "c  0.923818 -0.500782  0.877592\n",
       "d       NaN  0.314716 -0.160330"
      ]
     },
     "execution_count": 114,
     "metadata": {},
     "output_type": "execute_result"
    }
   ],
   "source": [
    "df = pd.DataFrame({\n",
    "\"one\": pd.Series(np.random.randn(3), index=[\"a\", \"b\", \"c\"]),\n",
    "\"two\": pd.Series(np.random.randn(4), index=[\"a\", \"b\", \"c\", \"d\"]),\n",
    "\"three\": pd.Series(np.random.randn(3), index=[\"b\", \"c\", \"d\"]),\n",
    "})\n",
    "\n",
    "df"
   ]
  },
  {
   "cell_type": "code",
   "execution_count": 115,
   "id": "b3d59f53",
   "metadata": {
    "execution": {
     "iopub.execute_input": "2023-08-17T01:45:07.473924Z",
     "iopub.status.busy": "2023-08-17T01:45:07.473288Z",
     "iopub.status.idle": "2023-08-17T01:45:07.482823Z",
     "shell.execute_reply": "2023-08-17T01:45:07.481974Z"
    },
    "papermill": {
     "duration": 0.056488,
     "end_time": "2023-08-17T01:45:07.485299",
     "exception": false,
     "start_time": "2023-08-17T01:45:07.428811",
     "status": "completed"
    },
    "tags": []
   },
   "outputs": [
    {
     "data": {
      "text/html": [
       "<div>\n",
       "<style scoped>\n",
       "    .dataframe tbody tr th:only-of-type {\n",
       "        vertical-align: middle;\n",
       "    }\n",
       "\n",
       "    .dataframe tbody tr th {\n",
       "        vertical-align: top;\n",
       "    }\n",
       "\n",
       "    .dataframe thead th {\n",
       "        text-align: right;\n",
       "    }\n",
       "</style>\n",
       "<table border=\"1\" class=\"dataframe\">\n",
       "  <thead>\n",
       "    <tr style=\"text-align: right;\">\n",
       "      <th></th>\n",
       "      <th>one</th>\n",
       "      <th>two</th>\n",
       "      <th>three</th>\n",
       "    </tr>\n",
       "  </thead>\n",
       "  <tbody>\n",
       "    <tr>\n",
       "      <th>a</th>\n",
       "      <td>0.274992</td>\n",
       "      <td>-2.496449</td>\n",
       "      <td>NaN</td>\n",
       "    </tr>\n",
       "    <tr>\n",
       "      <th>b</th>\n",
       "      <td>0.000000</td>\n",
       "      <td>0.000000</td>\n",
       "      <td>0.000000</td>\n",
       "    </tr>\n",
       "    <tr>\n",
       "      <th>c</th>\n",
       "      <td>1.095941</td>\n",
       "      <td>-1.738998</td>\n",
       "      <td>1.249835</td>\n",
       "    </tr>\n",
       "    <tr>\n",
       "      <th>d</th>\n",
       "      <td>NaN</td>\n",
       "      <td>-0.923500</td>\n",
       "      <td>0.211913</td>\n",
       "    </tr>\n",
       "  </tbody>\n",
       "</table>\n",
       "</div>"
      ],
      "text/plain": [
       "        one       two     three\n",
       "a  0.274992 -2.496449       NaN\n",
       "b  0.000000  0.000000  0.000000\n",
       "c  1.095941 -1.738998  1.249835\n",
       "d       NaN -0.923500  0.211913"
      ]
     },
     "execution_count": 115,
     "metadata": {},
     "output_type": "execute_result"
    }
   ],
   "source": [
    "row = df.iloc[1]\n",
    "column = df[\"two\"]\n",
    "df.sub(row, axis=\"columns\")"
   ]
  },
  {
   "cell_type": "code",
   "execution_count": 116,
   "id": "392a4ac3",
   "metadata": {
    "execution": {
     "iopub.execute_input": "2023-08-17T01:45:07.574115Z",
     "iopub.status.busy": "2023-08-17T01:45:07.573741Z",
     "iopub.status.idle": "2023-08-17T01:45:07.585348Z",
     "shell.execute_reply": "2023-08-17T01:45:07.584348Z"
    },
    "papermill": {
     "duration": 0.058439,
     "end_time": "2023-08-17T01:45:07.587398",
     "exception": false,
     "start_time": "2023-08-17T01:45:07.528959",
     "status": "completed"
    },
    "tags": []
   },
   "outputs": [
    {
     "data": {
      "text/html": [
       "<div>\n",
       "<style scoped>\n",
       "    .dataframe tbody tr th:only-of-type {\n",
       "        vertical-align: middle;\n",
       "    }\n",
       "\n",
       "    .dataframe tbody tr th {\n",
       "        vertical-align: top;\n",
       "    }\n",
       "\n",
       "    .dataframe thead th {\n",
       "        text-align: right;\n",
       "    }\n",
       "</style>\n",
       "<table border=\"1\" class=\"dataframe\">\n",
       "  <thead>\n",
       "    <tr style=\"text-align: right;\">\n",
       "      <th></th>\n",
       "      <th>one</th>\n",
       "      <th>two</th>\n",
       "      <th>three</th>\n",
       "    </tr>\n",
       "  </thead>\n",
       "  <tbody>\n",
       "    <tr>\n",
       "      <th>a</th>\n",
       "      <td>0.274992</td>\n",
       "      <td>-2.496449</td>\n",
       "      <td>NaN</td>\n",
       "    </tr>\n",
       "    <tr>\n",
       "      <th>b</th>\n",
       "      <td>0.000000</td>\n",
       "      <td>0.000000</td>\n",
       "      <td>0.000000</td>\n",
       "    </tr>\n",
       "    <tr>\n",
       "      <th>c</th>\n",
       "      <td>1.095941</td>\n",
       "      <td>-1.738998</td>\n",
       "      <td>1.249835</td>\n",
       "    </tr>\n",
       "    <tr>\n",
       "      <th>d</th>\n",
       "      <td>NaN</td>\n",
       "      <td>-0.923500</td>\n",
       "      <td>0.211913</td>\n",
       "    </tr>\n",
       "  </tbody>\n",
       "</table>\n",
       "</div>"
      ],
      "text/plain": [
       "        one       two     three\n",
       "a  0.274992 -2.496449       NaN\n",
       "b  0.000000  0.000000  0.000000\n",
       "c  1.095941 -1.738998  1.249835\n",
       "d       NaN -0.923500  0.211913"
      ]
     },
     "execution_count": 116,
     "metadata": {},
     "output_type": "execute_result"
    }
   ],
   "source": [
    "df.sub(row, axis=1)"
   ]
  },
  {
   "cell_type": "code",
   "execution_count": 117,
   "id": "e6af4a3b",
   "metadata": {
    "execution": {
     "iopub.execute_input": "2023-08-17T01:45:07.675642Z",
     "iopub.status.busy": "2023-08-17T01:45:07.675017Z",
     "iopub.status.idle": "2023-08-17T01:45:07.684834Z",
     "shell.execute_reply": "2023-08-17T01:45:07.683952Z"
    },
    "papermill": {
     "duration": 0.055857,
     "end_time": "2023-08-17T01:45:07.686641",
     "exception": false,
     "start_time": "2023-08-17T01:45:07.630784",
     "status": "completed"
    },
    "tags": []
   },
   "outputs": [
    {
     "data": {
      "text/html": [
       "<div>\n",
       "<style scoped>\n",
       "    .dataframe tbody tr th:only-of-type {\n",
       "        vertical-align: middle;\n",
       "    }\n",
       "\n",
       "    .dataframe tbody tr th {\n",
       "        vertical-align: top;\n",
       "    }\n",
       "\n",
       "    .dataframe thead th {\n",
       "        text-align: right;\n",
       "    }\n",
       "</style>\n",
       "<table border=\"1\" class=\"dataframe\">\n",
       "  <thead>\n",
       "    <tr style=\"text-align: right;\">\n",
       "      <th></th>\n",
       "      <th>one</th>\n",
       "      <th>two</th>\n",
       "      <th>three</th>\n",
       "    </tr>\n",
       "  </thead>\n",
       "  <tbody>\n",
       "    <tr>\n",
       "      <th>a</th>\n",
       "      <td>1.361102</td>\n",
       "      <td>0.0</td>\n",
       "      <td>NaN</td>\n",
       "    </tr>\n",
       "    <tr>\n",
       "      <th>b</th>\n",
       "      <td>-1.410340</td>\n",
       "      <td>0.0</td>\n",
       "      <td>-1.610459</td>\n",
       "    </tr>\n",
       "    <tr>\n",
       "      <th>c</th>\n",
       "      <td>1.424600</td>\n",
       "      <td>0.0</td>\n",
       "      <td>1.378375</td>\n",
       "    </tr>\n",
       "    <tr>\n",
       "      <th>d</th>\n",
       "      <td>NaN</td>\n",
       "      <td>0.0</td>\n",
       "      <td>-0.475046</td>\n",
       "    </tr>\n",
       "  </tbody>\n",
       "</table>\n",
       "</div>"
      ],
      "text/plain": [
       "        one  two     three\n",
       "a  1.361102  0.0       NaN\n",
       "b -1.410340  0.0 -1.610459\n",
       "c  1.424600  0.0  1.378375\n",
       "d       NaN  0.0 -0.475046"
      ]
     },
     "execution_count": 117,
     "metadata": {},
     "output_type": "execute_result"
    }
   ],
   "source": [
    "df.sub(column, axis=\"index\")"
   ]
  },
  {
   "cell_type": "code",
   "execution_count": 118,
   "id": "8a900239",
   "metadata": {
    "execution": {
     "iopub.execute_input": "2023-08-17T01:45:07.775079Z",
     "iopub.status.busy": "2023-08-17T01:45:07.774741Z",
     "iopub.status.idle": "2023-08-17T01:45:07.786223Z",
     "shell.execute_reply": "2023-08-17T01:45:07.784753Z"
    },
    "papermill": {
     "duration": 0.058297,
     "end_time": "2023-08-17T01:45:07.788282",
     "exception": false,
     "start_time": "2023-08-17T01:45:07.729985",
     "status": "completed"
    },
    "tags": []
   },
   "outputs": [
    {
     "data": {
      "text/html": [
       "<div>\n",
       "<style scoped>\n",
       "    .dataframe tbody tr th:only-of-type {\n",
       "        vertical-align: middle;\n",
       "    }\n",
       "\n",
       "    .dataframe tbody tr th {\n",
       "        vertical-align: top;\n",
       "    }\n",
       "\n",
       "    .dataframe thead th {\n",
       "        text-align: right;\n",
       "    }\n",
       "</style>\n",
       "<table border=\"1\" class=\"dataframe\">\n",
       "  <thead>\n",
       "    <tr style=\"text-align: right;\">\n",
       "      <th></th>\n",
       "      <th>one</th>\n",
       "      <th>two</th>\n",
       "      <th>three</th>\n",
       "    </tr>\n",
       "  </thead>\n",
       "  <tbody>\n",
       "    <tr>\n",
       "      <th>a</th>\n",
       "      <td>1.361102</td>\n",
       "      <td>0.0</td>\n",
       "      <td>NaN</td>\n",
       "    </tr>\n",
       "    <tr>\n",
       "      <th>b</th>\n",
       "      <td>-1.410340</td>\n",
       "      <td>0.0</td>\n",
       "      <td>-1.610459</td>\n",
       "    </tr>\n",
       "    <tr>\n",
       "      <th>c</th>\n",
       "      <td>1.424600</td>\n",
       "      <td>0.0</td>\n",
       "      <td>1.378375</td>\n",
       "    </tr>\n",
       "    <tr>\n",
       "      <th>d</th>\n",
       "      <td>NaN</td>\n",
       "      <td>0.0</td>\n",
       "      <td>-0.475046</td>\n",
       "    </tr>\n",
       "  </tbody>\n",
       "</table>\n",
       "</div>"
      ],
      "text/plain": [
       "        one  two     three\n",
       "a  1.361102  0.0       NaN\n",
       "b -1.410340  0.0 -1.610459\n",
       "c  1.424600  0.0  1.378375\n",
       "d       NaN  0.0 -0.475046"
      ]
     },
     "execution_count": 118,
     "metadata": {},
     "output_type": "execute_result"
    }
   ],
   "source": [
    "df.sub(column, axis=0)"
   ]
  },
  {
   "cell_type": "code",
   "execution_count": 119,
   "id": "1df21cac",
   "metadata": {
    "execution": {
     "iopub.execute_input": "2023-08-17T01:45:07.876531Z",
     "iopub.status.busy": "2023-08-17T01:45:07.876176Z",
     "iopub.status.idle": "2023-08-17T01:45:07.891752Z",
     "shell.execute_reply": "2023-08-17T01:45:07.890362Z"
    },
    "papermill": {
     "duration": 0.062003,
     "end_time": "2023-08-17T01:45:07.893787",
     "exception": false,
     "start_time": "2023-08-17T01:45:07.831784",
     "status": "completed"
    },
    "tags": []
   },
   "outputs": [
    {
     "data": {
      "text/html": [
       "<div>\n",
       "<style scoped>\n",
       "    .dataframe tbody tr th:only-of-type {\n",
       "        vertical-align: middle;\n",
       "    }\n",
       "\n",
       "    .dataframe tbody tr th {\n",
       "        vertical-align: top;\n",
       "    }\n",
       "\n",
       "    .dataframe thead th {\n",
       "        text-align: right;\n",
       "    }\n",
       "</style>\n",
       "<table border=\"1\" class=\"dataframe\">\n",
       "  <thead>\n",
       "    <tr style=\"text-align: right;\">\n",
       "      <th></th>\n",
       "      <th></th>\n",
       "      <th>one</th>\n",
       "      <th>two</th>\n",
       "      <th>three</th>\n",
       "    </tr>\n",
       "    <tr>\n",
       "      <th>first</th>\n",
       "      <th>second</th>\n",
       "      <th></th>\n",
       "      <th></th>\n",
       "      <th></th>\n",
       "    </tr>\n",
       "  </thead>\n",
       "  <tbody>\n",
       "    <tr>\n",
       "      <th rowspan=\"3\" valign=\"top\">1</th>\n",
       "      <th>a</th>\n",
       "      <td>1.361102</td>\n",
       "      <td>0.000000</td>\n",
       "      <td>NaN</td>\n",
       "    </tr>\n",
       "    <tr>\n",
       "      <th>b</th>\n",
       "      <td>-1.410340</td>\n",
       "      <td>0.000000</td>\n",
       "      <td>-1.610459</td>\n",
       "    </tr>\n",
       "    <tr>\n",
       "      <th>c</th>\n",
       "      <td>1.424600</td>\n",
       "      <td>0.000000</td>\n",
       "      <td>1.378375</td>\n",
       "    </tr>\n",
       "    <tr>\n",
       "      <th>2</th>\n",
       "      <th>a</th>\n",
       "      <td>NaN</td>\n",
       "      <td>1.572949</td>\n",
       "      <td>1.097903</td>\n",
       "    </tr>\n",
       "  </tbody>\n",
       "</table>\n",
       "</div>"
      ],
      "text/plain": [
       "                   one       two  \\\n",
       "first second                       \n",
       "1     a       1.361102  0.000000   \n",
       "      b      -1.410340  0.000000   \n",
       "      c       1.424600  0.000000   \n",
       "2     a            NaN  1.572949   \n",
       "\n",
       "                 three  \n",
       "first second            \n",
       "1     a            NaN  \n",
       "      b      -1.610459  \n",
       "      c       1.378375  \n",
       "2     a       1.097903  "
      ]
     },
     "execution_count": 119,
     "metadata": {},
     "output_type": "execute_result"
    }
   ],
   "source": [
    "dfmi = df.copy()\n",
    "In [27]: dfmi.index = pd.MultiIndex.from_tuples(\n",
    "[(1, \"a\"), (1, \"b\"), (1, \"c\"), (2, \"a\")], names=[\"first\", \"second\"]\n",
    ")\n",
    "\n",
    "dfmi.sub(column, axis=0, level=\"second\")"
   ]
  },
  {
   "cell_type": "code",
   "execution_count": 120,
   "id": "35f723c5",
   "metadata": {
    "execution": {
     "iopub.execute_input": "2023-08-17T01:45:07.982862Z",
     "iopub.status.busy": "2023-08-17T01:45:07.982506Z",
     "iopub.status.idle": "2023-08-17T01:45:07.989367Z",
     "shell.execute_reply": "2023-08-17T01:45:07.988445Z"
    },
    "papermill": {
     "duration": 0.053806,
     "end_time": "2023-08-17T01:45:07.991111",
     "exception": false,
     "start_time": "2023-08-17T01:45:07.937305",
     "status": "completed"
    },
    "tags": []
   },
   "outputs": [
    {
     "data": {
      "text/plain": [
       "0    0\n",
       "1    1\n",
       "2    2\n",
       "3    3\n",
       "4    4\n",
       "5    5\n",
       "6    6\n",
       "7    7\n",
       "8    8\n",
       "9    9\n",
       "dtype: int64"
      ]
     },
     "execution_count": 120,
     "metadata": {},
     "output_type": "execute_result"
    }
   ],
   "source": [
    "pd.Series(np.arange(10))"
   ]
  },
  {
   "cell_type": "code",
   "execution_count": 121,
   "id": "e92fc076",
   "metadata": {
    "execution": {
     "iopub.execute_input": "2023-08-17T01:45:08.081498Z",
     "iopub.status.busy": "2023-08-17T01:45:08.081070Z",
     "iopub.status.idle": "2023-08-17T01:45:08.093635Z",
     "shell.execute_reply": "2023-08-17T01:45:08.092626Z"
    },
    "papermill": {
     "duration": 0.060786,
     "end_time": "2023-08-17T01:45:08.095579",
     "exception": false,
     "start_time": "2023-08-17T01:45:08.034793",
     "status": "completed"
    },
    "tags": []
   },
   "outputs": [
    {
     "data": {
      "text/html": [
       "<div>\n",
       "<style scoped>\n",
       "    .dataframe tbody tr th:only-of-type {\n",
       "        vertical-align: middle;\n",
       "    }\n",
       "\n",
       "    .dataframe tbody tr th {\n",
       "        vertical-align: top;\n",
       "    }\n",
       "\n",
       "    .dataframe thead th {\n",
       "        text-align: right;\n",
       "    }\n",
       "</style>\n",
       "<table border=\"1\" class=\"dataframe\">\n",
       "  <thead>\n",
       "    <tr style=\"text-align: right;\">\n",
       "      <th></th>\n",
       "      <th>one</th>\n",
       "      <th>two</th>\n",
       "      <th>three</th>\n",
       "    </tr>\n",
       "  </thead>\n",
       "  <tbody>\n",
       "    <tr>\n",
       "      <th>a</th>\n",
       "      <td>0.0</td>\n",
       "      <td>-1.0</td>\n",
       "      <td>NaN</td>\n",
       "    </tr>\n",
       "    <tr>\n",
       "      <th>b</th>\n",
       "      <td>-1.0</td>\n",
       "      <td>0.0</td>\n",
       "      <td>-1.0</td>\n",
       "    </tr>\n",
       "    <tr>\n",
       "      <th>c</th>\n",
       "      <td>0.0</td>\n",
       "      <td>-1.0</td>\n",
       "      <td>0.0</td>\n",
       "    </tr>\n",
       "    <tr>\n",
       "      <th>d</th>\n",
       "      <td>NaN</td>\n",
       "      <td>0.0</td>\n",
       "      <td>-1.0</td>\n",
       "    </tr>\n",
       "  </tbody>\n",
       "</table>\n",
       "</div>"
      ],
      "text/plain": [
       "   one  two  three\n",
       "a  0.0 -1.0    NaN\n",
       "b -1.0  0.0   -1.0\n",
       "c  0.0 -1.0    0.0\n",
       "d  NaN  0.0   -1.0"
      ]
     },
     "execution_count": 121,
     "metadata": {},
     "output_type": "execute_result"
    }
   ],
   "source": [
    "div, rem = divmod(df,3)\n",
    "div"
   ]
  },
  {
   "cell_type": "code",
   "execution_count": 122,
   "id": "a1662998",
   "metadata": {
    "execution": {
     "iopub.execute_input": "2023-08-17T01:45:08.184550Z",
     "iopub.status.busy": "2023-08-17T01:45:08.184209Z",
     "iopub.status.idle": "2023-08-17T01:45:08.190721Z",
     "shell.execute_reply": "2023-08-17T01:45:08.189799Z"
    },
    "papermill": {
     "duration": 0.053023,
     "end_time": "2023-08-17T01:45:08.192457",
     "exception": false,
     "start_time": "2023-08-17T01:45:08.139434",
     "status": "completed"
    },
    "tags": []
   },
   "outputs": [
    {
     "data": {
      "text/plain": [
       "Int64Index([0, 1, 2, 3, 4, 5, 6, 7, 8,\n",
       "            9],\n",
       "           dtype='int64')"
      ]
     },
     "execution_count": 122,
     "metadata": {},
     "output_type": "execute_result"
    }
   ],
   "source": [
    "idx = pd.Index(np.arange(10))\n",
    "idx"
   ]
  },
  {
   "cell_type": "code",
   "execution_count": 123,
   "id": "d2d8ac61",
   "metadata": {
    "execution": {
     "iopub.execute_input": "2023-08-17T01:45:08.280645Z",
     "iopub.status.busy": "2023-08-17T01:45:08.280288Z",
     "iopub.status.idle": "2023-08-17T01:45:08.286733Z",
     "shell.execute_reply": "2023-08-17T01:45:08.285942Z"
    },
    "papermill": {
     "duration": 0.052683,
     "end_time": "2023-08-17T01:45:08.288384",
     "exception": false,
     "start_time": "2023-08-17T01:45:08.235701",
     "status": "completed"
    },
    "tags": []
   },
   "outputs": [
    {
     "data": {
      "text/plain": [
       "Int64Index([0, 0, 0, 1, 1, 1, 2, 2, 2,\n",
       "            3],\n",
       "           dtype='int64')"
      ]
     },
     "execution_count": 123,
     "metadata": {},
     "output_type": "execute_result"
    }
   ],
   "source": [
    "div, rem = divmod(idx, 3)\n",
    "div"
   ]
  },
  {
   "cell_type": "code",
   "execution_count": 124,
   "id": "4087b2f7",
   "metadata": {
    "execution": {
     "iopub.execute_input": "2023-08-17T01:45:08.378471Z",
     "iopub.status.busy": "2023-08-17T01:45:08.378119Z",
     "iopub.status.idle": "2023-08-17T01:45:08.386839Z",
     "shell.execute_reply": "2023-08-17T01:45:08.386001Z"
    },
    "papermill": {
     "duration": 0.055964,
     "end_time": "2023-08-17T01:45:08.388401",
     "exception": false,
     "start_time": "2023-08-17T01:45:08.332437",
     "status": "completed"
    },
    "tags": []
   },
   "outputs": [
    {
     "data": {
      "text/html": [
       "<div>\n",
       "<style scoped>\n",
       "    .dataframe tbody tr th:only-of-type {\n",
       "        vertical-align: middle;\n",
       "    }\n",
       "\n",
       "    .dataframe tbody tr th {\n",
       "        vertical-align: top;\n",
       "    }\n",
       "\n",
       "    .dataframe thead th {\n",
       "        text-align: right;\n",
       "    }\n",
       "</style>\n",
       "<table border=\"1\" class=\"dataframe\">\n",
       "  <thead>\n",
       "    <tr style=\"text-align: right;\">\n",
       "      <th></th>\n",
       "      <th>one</th>\n",
       "      <th>two</th>\n",
       "      <th>three</th>\n",
       "    </tr>\n",
       "  </thead>\n",
       "  <tbody>\n",
       "    <tr>\n",
       "      <th>a</th>\n",
       "      <td>False</td>\n",
       "      <td>False</td>\n",
       "      <td>False</td>\n",
       "    </tr>\n",
       "    <tr>\n",
       "      <th>b</th>\n",
       "      <td>False</td>\n",
       "      <td>False</td>\n",
       "      <td>False</td>\n",
       "    </tr>\n",
       "    <tr>\n",
       "      <th>c</th>\n",
       "      <td>False</td>\n",
       "      <td>False</td>\n",
       "      <td>False</td>\n",
       "    </tr>\n",
       "    <tr>\n",
       "      <th>d</th>\n",
       "      <td>False</td>\n",
       "      <td>False</td>\n",
       "      <td>False</td>\n",
       "    </tr>\n",
       "  </tbody>\n",
       "</table>\n",
       "</div>"
      ],
      "text/plain": [
       "     one    two  three\n",
       "a  False  False  False\n",
       "b  False  False  False\n",
       "c  False  False  False\n",
       "d  False  False  False"
      ]
     },
     "execution_count": 124,
     "metadata": {},
     "output_type": "execute_result"
    }
   ],
   "source": [
    "df.gt(df)"
   ]
  },
  {
   "cell_type": "code",
   "execution_count": 125,
   "id": "0285b450",
   "metadata": {
    "execution": {
     "iopub.execute_input": "2023-08-17T01:45:08.478624Z",
     "iopub.status.busy": "2023-08-17T01:45:08.478240Z",
     "iopub.status.idle": "2023-08-17T01:45:08.485794Z",
     "shell.execute_reply": "2023-08-17T01:45:08.484905Z"
    },
    "papermill": {
     "duration": 0.055004,
     "end_time": "2023-08-17T01:45:08.487979",
     "exception": false,
     "start_time": "2023-08-17T01:45:08.432975",
     "status": "completed"
    },
    "tags": []
   },
   "outputs": [
    {
     "data": {
      "text/plain": [
       "one      False\n",
       "two      False\n",
       "three    False\n",
       "dtype: bool"
      ]
     },
     "execution_count": 125,
     "metadata": {},
     "output_type": "execute_result"
    }
   ],
   "source": [
    "(df > 0).all()"
   ]
  },
  {
   "cell_type": "code",
   "execution_count": 126,
   "id": "eafe8924",
   "metadata": {
    "execution": {
     "iopub.execute_input": "2023-08-17T01:45:08.578102Z",
     "iopub.status.busy": "2023-08-17T01:45:08.577433Z",
     "iopub.status.idle": "2023-08-17T01:45:08.584879Z",
     "shell.execute_reply": "2023-08-17T01:45:08.584061Z"
    },
    "papermill": {
     "duration": 0.054446,
     "end_time": "2023-08-17T01:45:08.586618",
     "exception": false,
     "start_time": "2023-08-17T01:45:08.532172",
     "status": "completed"
    },
    "tags": []
   },
   "outputs": [
    {
     "data": {
      "text/plain": [
       "one      True\n",
       "two      True\n",
       "three    True\n",
       "dtype: bool"
      ]
     },
     "execution_count": 126,
     "metadata": {},
     "output_type": "execute_result"
    }
   ],
   "source": [
    "(df > 0).any()"
   ]
  },
  {
   "cell_type": "code",
   "execution_count": 127,
   "id": "353d8983",
   "metadata": {
    "execution": {
     "iopub.execute_input": "2023-08-17T01:45:08.675408Z",
     "iopub.status.busy": "2023-08-17T01:45:08.675085Z",
     "iopub.status.idle": "2023-08-17T01:45:08.681644Z",
     "shell.execute_reply": "2023-08-17T01:45:08.680896Z"
    },
    "papermill": {
     "duration": 0.053023,
     "end_time": "2023-08-17T01:45:08.683265",
     "exception": false,
     "start_time": "2023-08-17T01:45:08.630242",
     "status": "completed"
    },
    "tags": []
   },
   "outputs": [
    {
     "data": {
      "text/plain": [
       "True"
      ]
     },
     "execution_count": 127,
     "metadata": {},
     "output_type": "execute_result"
    }
   ],
   "source": [
    "(df > 0).any().any()"
   ]
  },
  {
   "cell_type": "code",
   "execution_count": 128,
   "id": "e9f3d2b1",
   "metadata": {
    "execution": {
     "iopub.execute_input": "2023-08-17T01:45:08.775318Z",
     "iopub.status.busy": "2023-08-17T01:45:08.774014Z",
     "iopub.status.idle": "2023-08-17T01:45:08.781217Z",
     "shell.execute_reply": "2023-08-17T01:45:08.780627Z"
    },
    "papermill": {
     "duration": 0.055697,
     "end_time": "2023-08-17T01:45:08.783239",
     "exception": false,
     "start_time": "2023-08-17T01:45:08.727542",
     "status": "completed"
    },
    "tags": []
   },
   "outputs": [
    {
     "data": {
      "text/plain": [
       "True"
      ]
     },
     "execution_count": 128,
     "metadata": {},
     "output_type": "execute_result"
    }
   ],
   "source": [
    "pd.DataFrame(columns=list(\"ABC\")).empty"
   ]
  },
  {
   "cell_type": "code",
   "execution_count": 129,
   "id": "ad4ec891",
   "metadata": {
    "execution": {
     "iopub.execute_input": "2023-08-17T01:45:08.874720Z",
     "iopub.status.busy": "2023-08-17T01:45:08.874124Z",
     "iopub.status.idle": "2023-08-17T01:45:08.883576Z",
     "shell.execute_reply": "2023-08-17T01:45:08.882554Z"
    },
    "papermill": {
     "duration": 0.056939,
     "end_time": "2023-08-17T01:45:08.885268",
     "exception": false,
     "start_time": "2023-08-17T01:45:08.828329",
     "status": "completed"
    },
    "tags": []
   },
   "outputs": [
    {
     "data": {
      "text/plain": [
       "one      False\n",
       "two       True\n",
       "three    False\n",
       "dtype: bool"
      ]
     },
     "execution_count": 129,
     "metadata": {},
     "output_type": "execute_result"
    }
   ],
   "source": [
    "(df + df == df * 2).all()"
   ]
  },
  {
   "cell_type": "code",
   "execution_count": 130,
   "id": "74288cda",
   "metadata": {
    "execution": {
     "iopub.execute_input": "2023-08-17T01:45:08.977602Z",
     "iopub.status.busy": "2023-08-17T01:45:08.977237Z",
     "iopub.status.idle": "2023-08-17T01:45:08.983459Z",
     "shell.execute_reply": "2023-08-17T01:45:08.982535Z"
    },
    "papermill": {
     "duration": 0.054966,
     "end_time": "2023-08-17T01:45:08.985675",
     "exception": false,
     "start_time": "2023-08-17T01:45:08.930709",
     "status": "completed"
    },
    "tags": []
   },
   "outputs": [
    {
     "data": {
      "text/plain": [
       "True"
      ]
     },
     "execution_count": 130,
     "metadata": {},
     "output_type": "execute_result"
    }
   ],
   "source": [
    "(df + df).equals(df * 2)"
   ]
  },
  {
   "cell_type": "code",
   "execution_count": 131,
   "id": "ea075315",
   "metadata": {
    "execution": {
     "iopub.execute_input": "2023-08-17T01:45:09.077844Z",
     "iopub.status.busy": "2023-08-17T01:45:09.077244Z",
     "iopub.status.idle": "2023-08-17T01:45:09.083835Z",
     "shell.execute_reply": "2023-08-17T01:45:09.083185Z"
    },
    "papermill": {
     "duration": 0.054709,
     "end_time": "2023-08-17T01:45:09.085385",
     "exception": false,
     "start_time": "2023-08-17T01:45:09.030676",
     "status": "completed"
    },
    "tags": []
   },
   "outputs": [
    {
     "data": {
      "text/plain": [
       "False"
      ]
     },
     "execution_count": 131,
     "metadata": {},
     "output_type": "execute_result"
    }
   ],
   "source": [
    "df1 = pd.DataFrame({\"col\": [\"foo\", 0, np.nan]})\n",
    "df2 = pd.DataFrame({\"col\": [np.nan, 0, \"foo\"]}, index=[2, 1, 0])\n",
    "df1.equals(df2)"
   ]
  },
  {
   "cell_type": "code",
   "execution_count": 132,
   "id": "859f8a24",
   "metadata": {
    "execution": {
     "iopub.execute_input": "2023-08-17T01:45:09.176262Z",
     "iopub.status.busy": "2023-08-17T01:45:09.175225Z",
     "iopub.status.idle": "2023-08-17T01:45:09.181842Z",
     "shell.execute_reply": "2023-08-17T01:45:09.181224Z"
    },
    "papermill": {
     "duration": 0.053335,
     "end_time": "2023-08-17T01:45:09.183267",
     "exception": false,
     "start_time": "2023-08-17T01:45:09.129932",
     "status": "completed"
    },
    "tags": []
   },
   "outputs": [
    {
     "data": {
      "text/plain": [
       "0     True\n",
       "1    False\n",
       "2    False\n",
       "dtype: bool"
      ]
     },
     "execution_count": 132,
     "metadata": {},
     "output_type": "execute_result"
    }
   ],
   "source": [
    "pd.Series([\"foo\", \"bar\", \"baz\"]) == \"foo\""
   ]
  },
  {
   "cell_type": "code",
   "execution_count": 133,
   "id": "4ff4e309",
   "metadata": {
    "execution": {
     "iopub.execute_input": "2023-08-17T01:45:09.273729Z",
     "iopub.status.busy": "2023-08-17T01:45:09.272766Z",
     "iopub.status.idle": "2023-08-17T01:45:09.280504Z",
     "shell.execute_reply": "2023-08-17T01:45:09.279447Z"
    },
    "papermill": {
     "duration": 0.055306,
     "end_time": "2023-08-17T01:45:09.282615",
     "exception": false,
     "start_time": "2023-08-17T01:45:09.227309",
     "status": "completed"
    },
    "tags": []
   },
   "outputs": [
    {
     "data": {
      "text/plain": [
       "array([ True, False, False])"
      ]
     },
     "execution_count": 133,
     "metadata": {},
     "output_type": "execute_result"
    }
   ],
   "source": [
    "pd.Index([\"foo\", \"bar\", \"baz\"]) == \"foo\""
   ]
  },
  {
   "cell_type": "code",
   "execution_count": 134,
   "id": "6602b211",
   "metadata": {
    "execution": {
     "iopub.execute_input": "2023-08-17T01:45:09.372447Z",
     "iopub.status.busy": "2023-08-17T01:45:09.372095Z",
     "iopub.status.idle": "2023-08-17T01:45:09.380257Z",
     "shell.execute_reply": "2023-08-17T01:45:09.378900Z"
    },
    "papermill": {
     "duration": 0.0551,
     "end_time": "2023-08-17T01:45:09.381914",
     "exception": false,
     "start_time": "2023-08-17T01:45:09.326814",
     "status": "completed"
    },
    "tags": []
   },
   "outputs": [
    {
     "data": {
      "text/plain": [
       "0     True\n",
       "1     True\n",
       "2    False\n",
       "dtype: bool"
      ]
     },
     "execution_count": 134,
     "metadata": {},
     "output_type": "execute_result"
    }
   ],
   "source": [
    "pd.Series([\"foo\", \"bar\", \"baz\"]) == pd.Index([\"foo\", \"bar\", \"qux\"])"
   ]
  },
  {
   "cell_type": "code",
   "execution_count": 135,
   "id": "f357b535",
   "metadata": {
    "execution": {
     "iopub.execute_input": "2023-08-17T01:45:09.473217Z",
     "iopub.status.busy": "2023-08-17T01:45:09.472517Z",
     "iopub.status.idle": "2023-08-17T01:45:09.480781Z",
     "shell.execute_reply": "2023-08-17T01:45:09.479370Z"
    },
    "papermill": {
     "duration": 0.056363,
     "end_time": "2023-08-17T01:45:09.483007",
     "exception": false,
     "start_time": "2023-08-17T01:45:09.426644",
     "status": "completed"
    },
    "tags": []
   },
   "outputs": [
    {
     "data": {
      "text/plain": [
       "0     True\n",
       "1     True\n",
       "2    False\n",
       "dtype: bool"
      ]
     },
     "execution_count": 135,
     "metadata": {},
     "output_type": "execute_result"
    }
   ],
   "source": [
    "pd.Series([\"foo\", \"bar\", \"baz\"]) == np.array([\"foo\", \"bar\", \"qux\"])"
   ]
  },
  {
   "cell_type": "code",
   "execution_count": 136,
   "id": "82186b72",
   "metadata": {
    "execution": {
     "iopub.execute_input": "2023-08-17T01:45:09.573331Z",
     "iopub.status.busy": "2023-08-17T01:45:09.573006Z",
     "iopub.status.idle": "2023-08-17T01:45:09.580933Z",
     "shell.execute_reply": "2023-08-17T01:45:09.579633Z"
    },
    "papermill": {
     "duration": 0.055805,
     "end_time": "2023-08-17T01:45:09.583188",
     "exception": false,
     "start_time": "2023-08-17T01:45:09.527383",
     "status": "completed"
    },
    "tags": []
   },
   "outputs": [
    {
     "data": {
      "text/plain": [
       "array([False,  True, False])"
      ]
     },
     "execution_count": 136,
     "metadata": {},
     "output_type": "execute_result"
    }
   ],
   "source": [
    "np.array([1, 2, 3]) == np.array([2])"
   ]
  },
  {
   "cell_type": "code",
   "execution_count": 137,
   "id": "c666ebe6",
   "metadata": {
    "execution": {
     "iopub.execute_input": "2023-08-17T01:45:09.674635Z",
     "iopub.status.busy": "2023-08-17T01:45:09.674279Z",
     "iopub.status.idle": "2023-08-17T01:45:09.686433Z",
     "shell.execute_reply": "2023-08-17T01:45:09.685387Z"
    },
    "papermill": {
     "duration": 0.060428,
     "end_time": "2023-08-17T01:45:09.688660",
     "exception": false,
     "start_time": "2023-08-17T01:45:09.628232",
     "status": "completed"
    },
    "tags": []
   },
   "outputs": [
    {
     "data": {
      "text/html": [
       "<div>\n",
       "<style scoped>\n",
       "    .dataframe tbody tr th:only-of-type {\n",
       "        vertical-align: middle;\n",
       "    }\n",
       "\n",
       "    .dataframe tbody tr th {\n",
       "        vertical-align: top;\n",
       "    }\n",
       "\n",
       "    .dataframe thead th {\n",
       "        text-align: right;\n",
       "    }\n",
       "</style>\n",
       "<table border=\"1\" class=\"dataframe\">\n",
       "  <thead>\n",
       "    <tr style=\"text-align: right;\">\n",
       "      <th></th>\n",
       "      <th>A</th>\n",
       "      <th>B</th>\n",
       "    </tr>\n",
       "  </thead>\n",
       "  <tbody>\n",
       "    <tr>\n",
       "      <th>0</th>\n",
       "      <td>1.0</td>\n",
       "      <td>NaN</td>\n",
       "    </tr>\n",
       "    <tr>\n",
       "      <th>1</th>\n",
       "      <td>NaN</td>\n",
       "      <td>2.0</td>\n",
       "    </tr>\n",
       "    <tr>\n",
       "      <th>2</th>\n",
       "      <td>3.0</td>\n",
       "      <td>3.0</td>\n",
       "    </tr>\n",
       "    <tr>\n",
       "      <th>3</th>\n",
       "      <td>5.0</td>\n",
       "      <td>NaN</td>\n",
       "    </tr>\n",
       "    <tr>\n",
       "      <th>4</th>\n",
       "      <td>NaN</td>\n",
       "      <td>6.0</td>\n",
       "    </tr>\n",
       "  </tbody>\n",
       "</table>\n",
       "</div>"
      ],
      "text/plain": [
       "     A    B\n",
       "0  1.0  NaN\n",
       "1  NaN  2.0\n",
       "2  3.0  3.0\n",
       "3  5.0  NaN\n",
       "4  NaN  6.0"
      ]
     },
     "execution_count": 137,
     "metadata": {},
     "output_type": "execute_result"
    }
   ],
   "source": [
    "df1 = pd.DataFrame(\n",
    "{\"A\": [1.0, np.nan, 3.0, 5.0, np.nan], \"B\": [np.nan, 2.0, 3.0, np.nan, 6.0]}\n",
    ")\n",
    "\n",
    "df2 = pd.DataFrame({\n",
    "\"A\": [5.0, 2.0, 4.0, np.nan, 3.0, 7.0],\n",
    "\"B\": [np.nan, np.nan, 3.0, 4.0, 6.0, 8.0],\n",
    "})\n",
    "\n",
    "df1"
   ]
  },
  {
   "cell_type": "code",
   "execution_count": 138,
   "id": "2205175c",
   "metadata": {
    "execution": {
     "iopub.execute_input": "2023-08-17T01:45:09.781601Z",
     "iopub.status.busy": "2023-08-17T01:45:09.781212Z",
     "iopub.status.idle": "2023-08-17T01:45:09.793947Z",
     "shell.execute_reply": "2023-08-17T01:45:09.792890Z"
    },
    "papermill": {
     "duration": 0.062192,
     "end_time": "2023-08-17T01:45:09.796337",
     "exception": false,
     "start_time": "2023-08-17T01:45:09.734145",
     "status": "completed"
    },
    "tags": []
   },
   "outputs": [
    {
     "data": {
      "text/html": [
       "<div>\n",
       "<style scoped>\n",
       "    .dataframe tbody tr th:only-of-type {\n",
       "        vertical-align: middle;\n",
       "    }\n",
       "\n",
       "    .dataframe tbody tr th {\n",
       "        vertical-align: top;\n",
       "    }\n",
       "\n",
       "    .dataframe thead th {\n",
       "        text-align: right;\n",
       "    }\n",
       "</style>\n",
       "<table border=\"1\" class=\"dataframe\">\n",
       "  <thead>\n",
       "    <tr style=\"text-align: right;\">\n",
       "      <th></th>\n",
       "      <th>A</th>\n",
       "      <th>B</th>\n",
       "    </tr>\n",
       "  </thead>\n",
       "  <tbody>\n",
       "    <tr>\n",
       "      <th>0</th>\n",
       "      <td>1.0</td>\n",
       "      <td>NaN</td>\n",
       "    </tr>\n",
       "    <tr>\n",
       "      <th>1</th>\n",
       "      <td>2.0</td>\n",
       "      <td>2.0</td>\n",
       "    </tr>\n",
       "    <tr>\n",
       "      <th>2</th>\n",
       "      <td>3.0</td>\n",
       "      <td>3.0</td>\n",
       "    </tr>\n",
       "    <tr>\n",
       "      <th>3</th>\n",
       "      <td>5.0</td>\n",
       "      <td>4.0</td>\n",
       "    </tr>\n",
       "    <tr>\n",
       "      <th>4</th>\n",
       "      <td>3.0</td>\n",
       "      <td>6.0</td>\n",
       "    </tr>\n",
       "    <tr>\n",
       "      <th>5</th>\n",
       "      <td>7.0</td>\n",
       "      <td>8.0</td>\n",
       "    </tr>\n",
       "  </tbody>\n",
       "</table>\n",
       "</div>"
      ],
      "text/plain": [
       "     A    B\n",
       "0  1.0  NaN\n",
       "1  2.0  2.0\n",
       "2  3.0  3.0\n",
       "3  5.0  4.0\n",
       "4  3.0  6.0\n",
       "5  7.0  8.0"
      ]
     },
     "execution_count": 138,
     "metadata": {},
     "output_type": "execute_result"
    }
   ],
   "source": [
    "df1.combine_first(df2)"
   ]
  },
  {
   "cell_type": "code",
   "execution_count": 139,
   "id": "6f15deaf",
   "metadata": {
    "execution": {
     "iopub.execute_input": "2023-08-17T01:45:09.889632Z",
     "iopub.status.busy": "2023-08-17T01:45:09.889256Z",
     "iopub.status.idle": "2023-08-17T01:45:09.901571Z",
     "shell.execute_reply": "2023-08-17T01:45:09.900688Z"
    },
    "papermill": {
     "duration": 0.061224,
     "end_time": "2023-08-17T01:45:09.903778",
     "exception": false,
     "start_time": "2023-08-17T01:45:09.842554",
     "status": "completed"
    },
    "tags": []
   },
   "outputs": [
    {
     "data": {
      "text/html": [
       "<div>\n",
       "<style scoped>\n",
       "    .dataframe tbody tr th:only-of-type {\n",
       "        vertical-align: middle;\n",
       "    }\n",
       "\n",
       "    .dataframe tbody tr th {\n",
       "        vertical-align: top;\n",
       "    }\n",
       "\n",
       "    .dataframe thead th {\n",
       "        text-align: right;\n",
       "    }\n",
       "</style>\n",
       "<table border=\"1\" class=\"dataframe\">\n",
       "  <thead>\n",
       "    <tr style=\"text-align: right;\">\n",
       "      <th></th>\n",
       "      <th>A</th>\n",
       "      <th>B</th>\n",
       "    </tr>\n",
       "  </thead>\n",
       "  <tbody>\n",
       "    <tr>\n",
       "      <th>0</th>\n",
       "      <td>1.0</td>\n",
       "      <td>NaN</td>\n",
       "    </tr>\n",
       "    <tr>\n",
       "      <th>1</th>\n",
       "      <td>2.0</td>\n",
       "      <td>2.0</td>\n",
       "    </tr>\n",
       "    <tr>\n",
       "      <th>2</th>\n",
       "      <td>3.0</td>\n",
       "      <td>3.0</td>\n",
       "    </tr>\n",
       "    <tr>\n",
       "      <th>3</th>\n",
       "      <td>5.0</td>\n",
       "      <td>4.0</td>\n",
       "    </tr>\n",
       "    <tr>\n",
       "      <th>4</th>\n",
       "      <td>3.0</td>\n",
       "      <td>6.0</td>\n",
       "    </tr>\n",
       "    <tr>\n",
       "      <th>5</th>\n",
       "      <td>7.0</td>\n",
       "      <td>8.0</td>\n",
       "    </tr>\n",
       "  </tbody>\n",
       "</table>\n",
       "</div>"
      ],
      "text/plain": [
       "     A    B\n",
       "0  1.0  NaN\n",
       "1  2.0  2.0\n",
       "2  3.0  3.0\n",
       "3  5.0  4.0\n",
       "4  3.0  6.0\n",
       "5  7.0  8.0"
      ]
     },
     "execution_count": 139,
     "metadata": {},
     "output_type": "execute_result"
    }
   ],
   "source": [
    "def combiner(x, y):\n",
    "    return np.where(pd.isna(x), y, x)\n",
    "df1.combine(df2, combiner)"
   ]
  },
  {
   "cell_type": "code",
   "execution_count": 140,
   "id": "6eb256d3",
   "metadata": {
    "execution": {
     "iopub.execute_input": "2023-08-17T01:45:09.995366Z",
     "iopub.status.busy": "2023-08-17T01:45:09.994869Z",
     "iopub.status.idle": "2023-08-17T01:45:10.001713Z",
     "shell.execute_reply": "2023-08-17T01:45:10.000957Z"
    },
    "papermill": {
     "duration": 0.054713,
     "end_time": "2023-08-17T01:45:10.003279",
     "exception": false,
     "start_time": "2023-08-17T01:45:09.948566",
     "status": "completed"
    },
    "tags": []
   },
   "outputs": [
    {
     "data": {
      "text/plain": [
       "one           NaN\n",
       "two     -0.206084\n",
       "three         NaN\n",
       "dtype: float64"
      ]
     },
     "execution_count": 140,
     "metadata": {},
     "output_type": "execute_result"
    }
   ],
   "source": [
    "df.sum(0, skipna=False)"
   ]
  },
  {
   "cell_type": "code",
   "execution_count": 141,
   "id": "9f070516",
   "metadata": {
    "execution": {
     "iopub.execute_input": "2023-08-17T01:45:10.095190Z",
     "iopub.status.busy": "2023-08-17T01:45:10.094670Z",
     "iopub.status.idle": "2023-08-17T01:45:10.101701Z",
     "shell.execute_reply": "2023-08-17T01:45:10.100804Z"
    },
    "papermill": {
     "duration": 0.055194,
     "end_time": "2023-08-17T01:45:10.103392",
     "exception": false,
     "start_time": "2023-08-17T01:45:10.048198",
     "status": "completed"
    },
    "tags": []
   },
   "outputs": [
    {
     "data": {
      "text/plain": [
       "a   -1.155365\n",
       "b    0.693850\n",
       "c    1.300628\n",
       "d    0.154386\n",
       "dtype: float64"
      ]
     },
     "execution_count": 141,
     "metadata": {},
     "output_type": "execute_result"
    }
   ],
   "source": [
    "df.sum(axis=1, skipna=True)"
   ]
  },
  {
   "cell_type": "code",
   "execution_count": 142,
   "id": "4a413654",
   "metadata": {
    "execution": {
     "iopub.execute_input": "2023-08-17T01:45:10.195435Z",
     "iopub.status.busy": "2023-08-17T01:45:10.195093Z",
     "iopub.status.idle": "2023-08-17T01:45:10.205071Z",
     "shell.execute_reply": "2023-08-17T01:45:10.203776Z"
    },
    "papermill": {
     "duration": 0.059174,
     "end_time": "2023-08-17T01:45:10.207430",
     "exception": false,
     "start_time": "2023-08-17T01:45:10.148256",
     "status": "completed"
    },
    "tags": []
   },
   "outputs": [
    {
     "data": {
      "text/plain": [
       "one      1.0\n",
       "two      1.0\n",
       "three    1.0\n",
       "dtype: float64"
      ]
     },
     "execution_count": 142,
     "metadata": {},
     "output_type": "execute_result"
    }
   ],
   "source": [
    "ts_stand = (df - df.mean()) / df.std()\n",
    "ts_stand.std()"
   ]
  },
  {
   "cell_type": "code",
   "execution_count": 143,
   "id": "865df836",
   "metadata": {
    "execution": {
     "iopub.execute_input": "2023-08-17T01:45:10.315073Z",
     "iopub.status.busy": "2023-08-17T01:45:10.314687Z",
     "iopub.status.idle": "2023-08-17T01:45:10.325699Z",
     "shell.execute_reply": "2023-08-17T01:45:10.324637Z"
    },
    "papermill": {
     "duration": 0.067569,
     "end_time": "2023-08-17T01:45:10.327973",
     "exception": false,
     "start_time": "2023-08-17T01:45:10.260404",
     "status": "completed"
    },
    "tags": []
   },
   "outputs": [
    {
     "data": {
      "text/plain": [
       "a    1.0\n",
       "b    1.0\n",
       "c    1.0\n",
       "d    1.0\n",
       "dtype: float64"
      ]
     },
     "execution_count": 143,
     "metadata": {},
     "output_type": "execute_result"
    }
   ],
   "source": [
    "xs_stand = df.sub(df.mean(1), axis=0).div(df.std(1), axis=0)\n",
    "xs_stand.std(1)"
   ]
  },
  {
   "cell_type": "code",
   "execution_count": 144,
   "id": "52f9d7e2",
   "metadata": {
    "execution": {
     "iopub.execute_input": "2023-08-17T01:45:10.423967Z",
     "iopub.status.busy": "2023-08-17T01:45:10.423587Z",
     "iopub.status.idle": "2023-08-17T01:45:10.431681Z",
     "shell.execute_reply": "2023-08-17T01:45:10.430577Z"
    },
    "papermill": {
     "duration": 0.059072,
     "end_time": "2023-08-17T01:45:10.433664",
     "exception": false,
     "start_time": "2023-08-17T01:45:10.374592",
     "status": "completed"
    },
    "tags": []
   },
   "outputs": [
    {
     "data": {
      "text/plain": [
       "0.2848542711751261"
      ]
     },
     "execution_count": 144,
     "metadata": {},
     "output_type": "execute_result"
    }
   ],
   "source": [
    "np.mean(df[\"one\"])"
   ]
  },
  {
   "cell_type": "code",
   "execution_count": 145,
   "id": "11dac3bc",
   "metadata": {
    "execution": {
     "iopub.execute_input": "2023-08-17T01:45:10.526614Z",
     "iopub.status.busy": "2023-08-17T01:45:10.526262Z",
     "iopub.status.idle": "2023-08-17T01:45:10.532973Z",
     "shell.execute_reply": "2023-08-17T01:45:10.531695Z"
    },
    "papermill": {
     "duration": 0.054971,
     "end_time": "2023-08-17T01:45:10.534845",
     "exception": false,
     "start_time": "2023-08-17T01:45:10.479874",
     "status": "completed"
    },
    "tags": []
   },
   "outputs": [
    {
     "data": {
      "text/plain": [
       "nan"
      ]
     },
     "execution_count": 145,
     "metadata": {},
     "output_type": "execute_result"
    }
   ],
   "source": [
    "np.mean(df[\"one\"].to_numpy())"
   ]
  },
  {
   "cell_type": "code",
   "execution_count": 146,
   "id": "9331b1a9",
   "metadata": {
    "execution": {
     "iopub.execute_input": "2023-08-17T01:45:10.627699Z",
     "iopub.status.busy": "2023-08-17T01:45:10.627335Z",
     "iopub.status.idle": "2023-08-17T01:45:10.634119Z",
     "shell.execute_reply": "2023-08-17T01:45:10.633200Z"
    },
    "papermill": {
     "duration": 0.055647,
     "end_time": "2023-08-17T01:45:10.635992",
     "exception": false,
     "start_time": "2023-08-17T01:45:10.580345",
     "status": "completed"
    },
    "tags": []
   },
   "outputs": [
    {
     "data": {
      "text/plain": [
       "11"
      ]
     },
     "execution_count": 146,
     "metadata": {},
     "output_type": "execute_result"
    }
   ],
   "source": [
    "series = pd.Series(np.random.randn(500))\n",
    "series[20:500] = np.nan\n",
    "series[10:20] = 5\n",
    "series.nunique()"
   ]
  },
  {
   "cell_type": "code",
   "execution_count": 147,
   "id": "4983d851",
   "metadata": {
    "execution": {
     "iopub.execute_input": "2023-08-17T01:45:10.732954Z",
     "iopub.status.busy": "2023-08-17T01:45:10.732629Z",
     "iopub.status.idle": "2023-08-17T01:45:10.742095Z",
     "shell.execute_reply": "2023-08-17T01:45:10.741360Z"
    },
    "papermill": {
     "duration": 0.060386,
     "end_time": "2023-08-17T01:45:10.743758",
     "exception": false,
     "start_time": "2023-08-17T01:45:10.683372",
     "status": "completed"
    },
    "tags": []
   },
   "outputs": [
    {
     "data": {
      "text/plain": [
       "count    500.000000\n",
       "mean      -0.007977\n",
       "std        0.988595\n",
       "min       -3.307602\n",
       "25%       -0.643786\n",
       "50%       -0.028520\n",
       "75%        0.711519\n",
       "max        2.873817\n",
       "dtype: float64"
      ]
     },
     "execution_count": 147,
     "metadata": {},
     "output_type": "execute_result"
    }
   ],
   "source": [
    "series = pd.Series(np.random.randn(1000))\n",
    "series[::2] = np.nan\n",
    "series.describe()"
   ]
  },
  {
   "cell_type": "code",
   "execution_count": 148,
   "id": "dadbe925",
   "metadata": {
    "execution": {
     "iopub.execute_input": "2023-08-17T01:45:10.837393Z",
     "iopub.status.busy": "2023-08-17T01:45:10.837062Z",
     "iopub.status.idle": "2023-08-17T01:45:10.862138Z",
     "shell.execute_reply": "2023-08-17T01:45:10.860956Z"
    },
    "papermill": {
     "duration": 0.074163,
     "end_time": "2023-08-17T01:45:10.864453",
     "exception": false,
     "start_time": "2023-08-17T01:45:10.790290",
     "status": "completed"
    },
    "tags": []
   },
   "outputs": [
    {
     "data": {
      "text/html": [
       "<div>\n",
       "<style scoped>\n",
       "    .dataframe tbody tr th:only-of-type {\n",
       "        vertical-align: middle;\n",
       "    }\n",
       "\n",
       "    .dataframe tbody tr th {\n",
       "        vertical-align: top;\n",
       "    }\n",
       "\n",
       "    .dataframe thead th {\n",
       "        text-align: right;\n",
       "    }\n",
       "</style>\n",
       "<table border=\"1\" class=\"dataframe\">\n",
       "  <thead>\n",
       "    <tr style=\"text-align: right;\">\n",
       "      <th></th>\n",
       "      <th>a</th>\n",
       "      <th>b</th>\n",
       "      <th>c</th>\n",
       "      <th>d</th>\n",
       "      <th>e</th>\n",
       "    </tr>\n",
       "  </thead>\n",
       "  <tbody>\n",
       "    <tr>\n",
       "      <th>count</th>\n",
       "      <td>500.000000</td>\n",
       "      <td>500.000000</td>\n",
       "      <td>500.000000</td>\n",
       "      <td>500.000000</td>\n",
       "      <td>500.000000</td>\n",
       "    </tr>\n",
       "    <tr>\n",
       "      <th>mean</th>\n",
       "      <td>-0.008488</td>\n",
       "      <td>0.025340</td>\n",
       "      <td>0.035068</td>\n",
       "      <td>-0.024947</td>\n",
       "      <td>-0.013814</td>\n",
       "    </tr>\n",
       "    <tr>\n",
       "      <th>std</th>\n",
       "      <td>0.998256</td>\n",
       "      <td>1.000178</td>\n",
       "      <td>0.972162</td>\n",
       "      <td>1.017369</td>\n",
       "      <td>0.990025</td>\n",
       "    </tr>\n",
       "    <tr>\n",
       "      <th>min</th>\n",
       "      <td>-2.858347</td>\n",
       "      <td>-2.621098</td>\n",
       "      <td>-3.064098</td>\n",
       "      <td>-2.623933</td>\n",
       "      <td>-2.620528</td>\n",
       "    </tr>\n",
       "    <tr>\n",
       "      <th>25%</th>\n",
       "      <td>-0.663398</td>\n",
       "      <td>-0.641098</td>\n",
       "      <td>-0.595627</td>\n",
       "      <td>-0.812671</td>\n",
       "      <td>-0.651603</td>\n",
       "    </tr>\n",
       "    <tr>\n",
       "      <th>50%</th>\n",
       "      <td>-0.007366</td>\n",
       "      <td>0.007430</td>\n",
       "      <td>0.015358</td>\n",
       "      <td>-0.038250</td>\n",
       "      <td>-0.031034</td>\n",
       "    </tr>\n",
       "    <tr>\n",
       "      <th>75%</th>\n",
       "      <td>0.659815</td>\n",
       "      <td>0.694710</td>\n",
       "      <td>0.685455</td>\n",
       "      <td>0.656510</td>\n",
       "      <td>0.590425</td>\n",
       "    </tr>\n",
       "    <tr>\n",
       "      <th>max</th>\n",
       "      <td>2.715047</td>\n",
       "      <td>2.876616</td>\n",
       "      <td>3.097632</td>\n",
       "      <td>2.969977</td>\n",
       "      <td>3.264344</td>\n",
       "    </tr>\n",
       "  </tbody>\n",
       "</table>\n",
       "</div>"
      ],
      "text/plain": [
       "                a           b  \\\n",
       "count  500.000000  500.000000   \n",
       "mean    -0.008488    0.025340   \n",
       "std      0.998256    1.000178   \n",
       "min     -2.858347   -2.621098   \n",
       "25%     -0.663398   -0.641098   \n",
       "50%     -0.007366    0.007430   \n",
       "75%      0.659815    0.694710   \n",
       "max      2.715047    2.876616   \n",
       "\n",
       "                c           d  \\\n",
       "count  500.000000  500.000000   \n",
       "mean     0.035068   -0.024947   \n",
       "std      0.972162    1.017369   \n",
       "min     -3.064098   -2.623933   \n",
       "25%     -0.595627   -0.812671   \n",
       "50%      0.015358   -0.038250   \n",
       "75%      0.685455    0.656510   \n",
       "max      3.097632    2.969977   \n",
       "\n",
       "                e  \n",
       "count  500.000000  \n",
       "mean    -0.013814  \n",
       "std      0.990025  \n",
       "min     -2.620528  \n",
       "25%     -0.651603  \n",
       "50%     -0.031034  \n",
       "75%      0.590425  \n",
       "max      3.264344  "
      ]
     },
     "execution_count": 148,
     "metadata": {},
     "output_type": "execute_result"
    }
   ],
   "source": [
    "frame = pd.DataFrame(np.random.randn(1000, 5), columns=[\"a\", \"b\", \"c\", \"d\", \"e\"])\n",
    "frame.iloc[::2] = np.nan\n",
    "frame.describe()"
   ]
  },
  {
   "cell_type": "code",
   "execution_count": 149,
   "id": "56f1c512",
   "metadata": {
    "execution": {
     "iopub.execute_input": "2023-08-17T01:45:10.961423Z",
     "iopub.status.busy": "2023-08-17T01:45:10.960908Z",
     "iopub.status.idle": "2023-08-17T01:45:10.974097Z",
     "shell.execute_reply": "2023-08-17T01:45:10.972642Z"
    },
    "papermill": {
     "duration": 0.065355,
     "end_time": "2023-08-17T01:45:10.977407",
     "exception": false,
     "start_time": "2023-08-17T01:45:10.912052",
     "status": "completed"
    },
    "tags": []
   },
   "outputs": [
    {
     "data": {
      "text/plain": [
       "count    500.000000\n",
       "mean      -0.007977\n",
       "std        0.988595\n",
       "min       -3.307602\n",
       "5%        -1.620563\n",
       "25%       -0.643786\n",
       "50%       -0.028520\n",
       "75%        0.711519\n",
       "95%        1.539736\n",
       "max        2.873817\n",
       "dtype: float64"
      ]
     },
     "execution_count": 149,
     "metadata": {},
     "output_type": "execute_result"
    }
   ],
   "source": [
    "series.describe(percentiles=[0.05, 0.25, 0.75, 0.95])"
   ]
  },
  {
   "cell_type": "code",
   "execution_count": 150,
   "id": "d05d99d1",
   "metadata": {
    "execution": {
     "iopub.execute_input": "2023-08-17T01:45:11.074995Z",
     "iopub.status.busy": "2023-08-17T01:45:11.074622Z",
     "iopub.status.idle": "2023-08-17T01:45:11.083366Z",
     "shell.execute_reply": "2023-08-17T01:45:11.082448Z"
    },
    "papermill": {
     "duration": 0.058199,
     "end_time": "2023-08-17T01:45:11.085268",
     "exception": false,
     "start_time": "2023-08-17T01:45:11.027069",
     "status": "completed"
    },
    "tags": []
   },
   "outputs": [
    {
     "data": {
      "text/plain": [
       "count     9\n",
       "unique    4\n",
       "top       a\n",
       "freq      5\n",
       "dtype: object"
      ]
     },
     "execution_count": 150,
     "metadata": {},
     "output_type": "execute_result"
    }
   ],
   "source": [
    "s = pd.Series([\"a\", \"a\", \"b\", \"b\", \"a\", \"a\", np.nan, \"c\", \"d\", \"a\"])\n",
    "s.describe()"
   ]
  }
 ],
 "metadata": {
  "kernelspec": {
   "display_name": "Python 3",
   "language": "python",
   "name": "python3"
  },
  "language_info": {
   "codemirror_mode": {
    "name": "ipython",
    "version": 3
   },
   "file_extension": ".py",
   "mimetype": "text/x-python",
   "name": "python",
   "nbconvert_exporter": "python",
   "pygments_lexer": "ipython3",
   "version": "3.10.12"
  },
  "papermill": {
   "default_parameters": {},
   "duration": 24.131495,
   "end_time": "2023-08-17T01:45:11.953588",
   "environment_variables": {},
   "exception": null,
   "input_path": "__notebook__.ipynb",
   "output_path": "__notebook__.ipynb",
   "parameters": {},
   "start_time": "2023-08-17T01:44:47.822093",
   "version": "2.4.0"
  }
 },
 "nbformat": 4,
 "nbformat_minor": 5
}
