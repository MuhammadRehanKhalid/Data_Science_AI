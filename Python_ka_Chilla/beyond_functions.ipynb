{
 "cells": [
  {
   "cell_type": "code",
   "execution_count": 13,
   "metadata": {},
   "outputs": [
    {
     "name": "stdout",
     "output_type": "stream",
     "text": [
      "{'rehan', 'asghar', 'subhanehan'}\n"
     ]
    }
   ],
   "source": [
    "name = {'rehan', 'rehan', 'asghar'}\n",
    "name = {'rehan', 'subhanehan', 'asghar'}                    \n",
    "print(name)\n"
   ]
  },
  {
   "cell_type": "code",
   "execution_count": 14,
   "metadata": {},
   "outputs": [
    {
     "name": "stdout",
     "output_type": "stream",
     "text": [
      "22\n"
     ]
    }
   ],
   "source": [
    "\n",
    "def numWaterBottles(numBottles, numExchange):\n",
    "        total_drunk = numBottles\n",
    "        empty_bottles = numBottles\n",
    "        while empty_bottles >= numExchange:\n",
    "            new_bottles = empty_bottles // numExchange\n",
    "            total_drunk += new_bottles\n",
    "            empty_bottles = new_bottles + (empty_bottles % numExchange)\n",
    "        \n",
    "        return total_drunk\n",
    "print(numWaterBottles(15,3))"
   ]
  }
 ],
 "metadata": {
  "kernelspec": {
   "display_name": "python_eda",
   "language": "python",
   "name": "python3"
  },
  "language_info": {
   "codemirror_mode": {
    "name": "ipython",
    "version": 3
   },
   "file_extension": ".py",
   "mimetype": "text/x-python",
   "name": "python",
   "nbconvert_exporter": "python",
   "pygments_lexer": "ipython3",
   "version": "3.11.7"
  }
 },
 "nbformat": 4,
 "nbformat_minor": 2
}
