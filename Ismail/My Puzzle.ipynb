{
 "cells": [
  {
   "cell_type": "code",
   "execution_count": 2,
   "metadata": {},
   "outputs": [
    {
     "name": "stdout",
     "output_type": "stream",
     "text": [
      "Welcome to the Interesting World of Python Programming\n",
      "Are you interested in playing a Puzzle with me \n",
      "Enter Yes or No\n",
      "OK Thens Lets get Started\n",
      "Think a number between 1 to 10\n",
      "If You thought it then write Yes or No\n",
      "Now multiply it by 2\n",
      "I know you are very Clever But I am also very Clever\n",
      "If You Multiplied it then write Yes or No\n",
      "Now multiply it by 5\n",
      "I Know you are enjoying this \n",
      "If You Multiplied it then write Yes or No\n",
      "Now divide it by original number\n",
      "If You completed your divison then write Yes or No(hehehehe)\n",
      "Now Subtract 7 from it\n",
      "Kesa dia phir nhi dia acha\n",
      "You Thought about of Number 3\n",
      "Chass ayi k ni Bawa g Sachi Sachi Dasna A\n"
     ]
    }
   ],
   "source": [
    "a = \"Welcome to the Interesting World of Python Programming\"\n",
    "print(a)\n",
    "b = ( \"Are you interested in playing a Puzzle with me \\nEnter Yes or No\")\n",
    "print(b)\n",
    "c = input()\n",
    "print( \"OK Thens Lets get Started\")\n",
    "print(\"Think a number between 1 to 10\" )\n",
    "print(\"If You thought it then write Yes or No\")\n",
    "c = input()\n",
    "print(\"Now multiply it by 2\")\n",
    "print(\"I know you are very Clever But I am also very Clever\")\n",
    "print(\"If You Multiplied it then write Yes or No\")\n",
    "c = input()\n",
    "print(\"Now multiply it by 5\")\n",
    "print(\"I Know you are enjoying this \\nIf You Multiplied it then write Yes or No\")\n",
    "c = input()\n",
    "print(\"Now divide it by original number\")\n",
    "print(\"If You completed your divison then write Yes or No(hehehehe)\")\n",
    "c = input()\n",
    "print(\"Now Subtract 7 from it\")\n",
    "print(\"Kesa dia phir nhi dia acha\")\n",
    "c = input()\n",
    "print(\"You Thought about of Number 3\")\n",
    "print(\"Chass ayi k ni Bawa g Sachi Sachi Dasna A\")\n"
   ]
  }
 ],
 "metadata": {
  "kernelspec": {
   "display_name": "python_eda",
   "language": "python",
   "name": "python3"
  },
  "language_info": {
   "codemirror_mode": {
    "name": "ipython",
    "version": 3
   },
   "file_extension": ".py",
   "mimetype": "text/x-python",
   "name": "python",
   "nbconvert_exporter": "python",
   "pygments_lexer": "ipython3",
   "version": "3.11.7"
  }
 },
 "nbformat": 4,
 "nbformat_minor": 2
}
