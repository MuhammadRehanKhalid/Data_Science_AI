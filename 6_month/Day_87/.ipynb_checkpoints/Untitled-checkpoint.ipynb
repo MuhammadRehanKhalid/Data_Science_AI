{
 "cells": [
  {
   "cell_type": "markdown",
   "id": "a8284a84-767b-464f-af27-ab3e4ee4ce58",
   "metadata": {},
   "source": [
    "# Pipeline Concept\n",
    "### A machine learning pipeline is a structured workflow that automates and streamlines the process of building, training, evaluating, and deploying machine learning models. It's essentially an end-to-end system that manages the flow of data into and out of a model, including steps like data collection, preprocessing, feature engineering, model training, evaluation, and deployment. "
   ]
  },
  {
   "cell_type": "code",
   "execution_count": 3,
   "id": "ffb26744-aa00-42b5-bae2-b170d0f1171d",
   "metadata": {},
   "outputs": [],
   "source": [
    "import pandas as pd\n",
    "import numpy as np\n",
    "import seaborn as sns\n",
    "from sklearn.model_selection import train_test_split\n",
    "from sklearn.pipeline import Pipeline\n",
    "from sklearn.compose import ColumnTransformer\n",
    "from sklearn.impute import SimpleImputer\n",
    "from sklearn.preprocessing import OneHotEncoder\n",
    "from sklearn.ensemble import RandomForestClassifier\n",
    "from sklearn.metrics import accuracy_score"
   ]
  },
  {
   "cell_type": "code",
   "execution_count": 4,
   "id": "0b6fe6ae-864a-47fe-b919-f1903feb4dc7",
   "metadata": {},
   "outputs": [],
   "source": [
    "# load data\n",
    "titanic = sns.load_dataset('titanic')"
   ]
  },
  {
   "cell_type": "code",
   "execution_count": 5,
   "id": "374fc6d0-8b42-4607-96d8-246521e16fa0",
   "metadata": {},
   "outputs": [],
   "source": [
    "# Select feature and target variable\n",
    "X =  titanic[['pclass','sex','age','fare','embarked']]\n",
    "y = titanic['survived']"
   ]
  },
  {
   "cell_type": "code",
   "execution_count": 9,
   "id": "2d6746ac-8779-4eeb-90bb-40c0e9493869",
   "metadata": {},
   "outputs": [],
   "source": [
    "# split data into train and test\n",
    "X_train, X_test, y_train, y_test = train_test_split(X,y, test_size=0.2, random_state=42)"
   ]
  },
  {
   "cell_type": "code",
   "execution_count": 10,
   "id": "fd75c5a4-9429-4de8-89e2-99b40a6608fd",
   "metadata": {},
   "outputs": [],
   "source": [
    "# feature categorization\n",
    "num_feat = ['age','fare']\n",
    "cat_feat = ['pclass', 'sex', 'embarked']"
   ]
  },
  {
   "cell_type": "code",
   "execution_count": null,
   "id": "d9fc98f7-42d4-4693-87e6-80adcc0f2143",
   "metadata": {},
   "outputs": [],
   "source": [
    "# create pipeline transformer\n",
    "num_trans = Pipeline(steps=[\n",
    "    ('imputer', SimpleImputer(strategy='median'))\n",
    "])"
   ]
  }
 ],
 "metadata": {
  "kernelspec": {
   "display_name": "Python 3 (ipykernel)",
   "language": "python",
   "name": "python3"
  },
  "language_info": {
   "codemirror_mode": {
    "name": "ipython",
    "version": 3
   },
   "file_extension": ".py",
   "mimetype": "text/x-python",
   "name": "python",
   "nbconvert_exporter": "python",
   "pygments_lexer": "ipython3",
   "version": "3.12.1"
  }
 },
 "nbformat": 4,
 "nbformat_minor": 5
}
