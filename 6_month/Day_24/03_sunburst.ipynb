{
 "cells": [
  {
   "cell_type": "markdown",
   "metadata": {},
   "source": [
    "# Sunburst Plot to show Heirarchy"
   ]
  },
  {
   "cell_type": "code",
   "execution_count": 4,
   "metadata": {},
   "outputs": [
    {
     "name": "stdout",
     "output_type": "stream",
     "text": [
      "Requirement already satisfied: seaborn in /usr/local/python/3.10.13/lib/python3.10/site-packages (0.12.2)\n",
      "Requirement already satisfied: numpy!=1.24.0,>=1.17 in /usr/local/python/3.10.13/lib/python3.10/site-packages (from seaborn) (1.25.2)\n",
      "Requirement already satisfied: pandas>=0.25 in /home/codespace/.local/lib/python3.10/site-packages (from seaborn) (2.1.4)\n",
      "Requirement already satisfied: matplotlib!=3.6.1,>=3.1 in /home/codespace/.local/lib/python3.10/site-packages (from seaborn) (3.8.2)\n",
      "Requirement already satisfied: contourpy>=1.0.1 in /home/codespace/.local/lib/python3.10/site-packages (from matplotlib!=3.6.1,>=3.1->seaborn) (1.2.0)\n",
      "Requirement already satisfied: cycler>=0.10 in /home/codespace/.local/lib/python3.10/site-packages (from matplotlib!=3.6.1,>=3.1->seaborn) (0.12.1)\n",
      "Requirement already satisfied: fonttools>=4.22.0 in /home/codespace/.local/lib/python3.10/site-packages (from matplotlib!=3.6.1,>=3.1->seaborn) (4.47.0)\n",
      "Requirement already satisfied: kiwisolver>=1.3.1 in /home/codespace/.local/lib/python3.10/site-packages (from matplotlib!=3.6.1,>=3.1->seaborn) (1.4.5)\n",
      "Requirement already satisfied: packaging>=20.0 in /home/codespace/.local/lib/python3.10/site-packages (from matplotlib!=3.6.1,>=3.1->seaborn) (23.2)\n",
      "Requirement already satisfied: pillow>=8 in /home/codespace/.local/lib/python3.10/site-packages (from matplotlib!=3.6.1,>=3.1->seaborn) (10.2.0)\n",
      "Requirement already satisfied: pyparsing>=2.3.1 in /home/codespace/.local/lib/python3.10/site-packages (from matplotlib!=3.6.1,>=3.1->seaborn) (3.1.1)\n",
      "Requirement already satisfied: python-dateutil>=2.7 in /home/codespace/.local/lib/python3.10/site-packages (from matplotlib!=3.6.1,>=3.1->seaborn) (2.8.2)\n",
      "Requirement already satisfied: pytz>=2020.1 in /home/codespace/.local/lib/python3.10/site-packages (from pandas>=0.25->seaborn) (2023.3.post1)\n",
      "Requirement already satisfied: tzdata>=2022.1 in /home/codespace/.local/lib/python3.10/site-packages (from pandas>=0.25->seaborn) (2023.4)\n",
      "Requirement already satisfied: six>=1.5 in /home/codespace/.local/lib/python3.10/site-packages (from python-dateutil>=2.7->matplotlib!=3.6.1,>=3.1->seaborn) (1.16.0)\n",
      "Requirement already satisfied: plotly in /home/codespace/.local/lib/python3.10/site-packages (5.18.0)\n",
      "Requirement already satisfied: tenacity>=6.2.0 in /home/codespace/.local/lib/python3.10/site-packages (from plotly) (8.2.3)\n",
      "Requirement already satisfied: packaging in /home/codespace/.local/lib/python3.10/site-packages (from plotly) (23.2)\n"
     ]
    }
   ],
   "source": [
    "!pip install seaborn\n",
    "!pip install plotly"
   ]
  },
  {
   "cell_type": "code",
   "execution_count": 5,
   "metadata": {},
   "outputs": [
    {
     "name": "stderr",
     "output_type": "stream",
     "text": [
      "/home/codespace/.local/lib/python3.10/site-packages/plotly/express/_core.py:1699: FutureWarning:\n",
      "\n",
      "The default of observed=False is deprecated and will be changed to True in a future version of pandas. Pass observed=False to retain current behavior or observed=True to adopt the future default and silence this warning.\n",
      "\n",
      "/home/codespace/.local/lib/python3.10/site-packages/plotly/express/_core.py:1699: FutureWarning:\n",
      "\n",
      "The default of observed=False is deprecated and will be changed to True in a future version of pandas. Pass observed=False to retain current behavior or observed=True to adopt the future default and silence this warning.\n",
      "\n",
      "/home/codespace/.local/lib/python3.10/site-packages/plotly/express/_core.py:1699: FutureWarning:\n",
      "\n",
      "The default of observed=False is deprecated and will be changed to True in a future version of pandas. Pass observed=False to retain current behavior or observed=True to adopt the future default and silence this warning.\n",
      "\n",
      "/home/codespace/.local/lib/python3.10/site-packages/plotly/express/_core.py:1699: FutureWarning:\n",
      "\n",
      "The default of observed=False is deprecated and will be changed to True in a future version of pandas. Pass observed=False to retain current behavior or observed=True to adopt the future default and silence this warning.\n",
      "\n"
     ]
    },
    {
     "data": {
      "application/vnd.plotly.v1+json": {
       "config": {
        "plotlyServerURL": "https://plot.ly"
       },
       "data": [
        {
         "branchvalues": "total",
         "customdata": [
          [
           "female"
          ],
          [
           "female"
          ],
          [
           "male"
          ],
          [
           "male"
          ],
          [
           null
          ],
          [
           "male"
          ],
          [
           null
          ],
          [
           "female"
          ],
          [
           null
          ],
          [
           null
          ],
          [
           "female"
          ],
          [
           "male"
          ],
          [
           "female"
          ],
          [
           "female"
          ],
          [
           null
          ],
          [
           "male"
          ],
          [
           null
          ],
          [
           "female"
          ],
          [
           null
          ],
          [
           "female"
          ],
          [
           null
          ],
          [
           null
          ],
          [
           "female"
          ],
          [
           "male"
          ],
          [
           "male"
          ],
          [
           "male"
          ],
          [
           null
          ],
          [
           "male"
          ],
          [
           null
          ],
          [
           "female"
          ],
          [
           null
          ],
          [
           null
          ],
          [
           "male"
          ],
          [
           "male"
          ],
          [
           "male"
          ],
          [
           "male"
          ],
          [
           "female"
          ],
          [
           null
          ],
          [
           null
          ],
          [
           null
          ],
          [
           "female"
          ],
          [
           "male"
          ],
          [
           null
          ],
          [
           null
          ],
          [
           "female"
          ],
          [
           null
          ],
          [
           "female"
          ],
          [
           null
          ],
          [
           null
          ],
          [
           null
          ],
          [
           "female"
          ],
          [
           null
          ],
          [
           "female"
          ],
          [
           null
          ],
          [
           "female"
          ],
          [
           "male"
          ],
          [
           "male"
          ],
          [
           "male"
          ],
          [
           "male"
          ],
          [
           "female"
          ],
          [
           "male"
          ],
          [
           "female"
          ],
          [
           "male"
          ],
          [
           null
          ],
          [
           null
          ],
          [
           "female"
          ],
          [
           "male"
          ],
          [
           "female"
          ],
          [
           "male"
          ],
          [
           "male"
          ],
          [
           "female"
          ],
          [
           null
          ],
          [
           "female"
          ],
          [
           "female"
          ],
          [
           null
          ],
          [
           null
          ],
          [
           "female"
          ],
          [
           "male"
          ],
          [
           null
          ],
          [
           "male"
          ],
          [
           "female"
          ],
          [
           "male"
          ],
          [
           "female"
          ],
          [
           null
          ],
          [
           null
          ],
          [
           "male"
          ],
          [
           null
          ],
          [
           "female"
          ],
          [
           "male"
          ],
          [
           "female"
          ],
          [
           null
          ],
          [
           "male"
          ],
          [
           null
          ],
          [
           null
          ],
          [
           "male"
          ],
          [
           null
          ],
          [
           "female"
          ],
          [
           "female"
          ],
          [
           null
          ],
          [
           "male"
          ],
          [
           null
          ],
          [
           "male"
          ],
          [
           null
          ],
          [
           "male"
          ],
          [
           "female"
          ],
          [
           null
          ],
          [
           null
          ],
          [
           null
          ],
          [
           "female"
          ],
          [
           "female"
          ],
          [
           null
          ],
          [
           null
          ],
          [
           null
          ],
          [
           "female"
          ],
          [
           null
          ],
          [
           "male"
          ],
          [
           null
          ],
          [
           null
          ],
          [
           "male"
          ],
          [
           "female"
          ],
          [
           null
          ],
          [
           null
          ],
          [
           null
          ],
          [
           "female"
          ],
          [
           "female"
          ],
          [
           "female"
          ],
          [
           null
          ],
          [
           null
          ],
          [
           null
          ],
          [
           "male"
          ],
          [
           null
          ],
          [
           "male"
          ],
          [
           null
          ],
          [
           "female"
          ]
         ],
         "domain": {
          "x": [
           0,
           1
          ],
          "y": [
           0,
           1
          ]
         },
         "hovertemplate": "labels=%{label}<br>survived=%{value}<br>parent=%{parent}<br>id=%{id}<br>sex=%{customdata[0]}<extra></extra>",
         "ids": [
          "female/First/woman/yes/True",
          "female/Third/child/no/True",
          "male/Third/child/no/True",
          "male/First/man/no/True",
          "female/Second/man/no/True",
          "male/Third/man/no/True",
          "male/First/woman/no/True",
          "female/Third/woman/no/True",
          "male/Third/woman/no/True",
          "female/Second/child/yes/True",
          "female/Third/child/yes/True",
          "male/First/man/yes/True",
          "female",
          "female/Second/woman/yes/True",
          "male/Third/woman/yes/True",
          "male/First/man/no",
          "female/Third/man/no",
          "female/First/woman/no",
          "male/First/woman/no",
          "female/Third/woman/no",
          "female/Second/man/yes",
          "female/Third/man/yes",
          "female/Third/woman/yes",
          "male/First/child",
          "male/Second/child",
          "male/Third/child",
          "female/First/man",
          "male/Third/man",
          "male/Second/woman",
          "female/Second",
          "male/Second/child/no/True",
          "female/Second/child/no/True",
          "male",
          "male/Third/man/no/False",
          "male/First/child/yes/False",
          "male/Second/man/no/False",
          "female/Third/child/yes/False",
          "female/Third/man/no/False",
          "male/Second/child/no/False",
          "female/First/man/yes/False",
          "female/First/child/yes/False",
          "male/First/man/yes/False",
          "female/Second/child/no/False",
          "female/Second/man/no/False",
          "female/Second/woman/yes/False",
          "female/Third/man/yes/False",
          "female/Second/woman/no/False",
          "male/First/woman/yes/False",
          "male/First/child/no/False",
          "male/Second/woman/no/False",
          "female/First/child/yes",
          "male/Second/woman/yes",
          "female/Second/woman/yes",
          "male/First/woman/yes",
          "female/First/woman/yes",
          "male/Third/man/yes",
          "male/Second/child/yes",
          "male/Second/man/yes",
          "male/First/man/yes",
          "female/Second/child/yes",
          "male/Third/child/yes",
          "female/Third/child/yes",
          "male/First/child/yes",
          "female/First/man/yes",
          "male/Second/woman/yes/False",
          "female/First/child",
          "male/Third",
          "female/Third",
          "male/Second",
          "male/First",
          "female/First",
          "male/Third/woman",
          "female/Third/woman",
          "female/Second/woman",
          "male/First/woman",
          "male/Third/woman/yes",
          "female/First/woman",
          "male/Second/man",
          "female/Second/man",
          "male/First/man",
          "female/Third/child/no/False",
          "male/Third/child/no/False",
          "female/Third/child",
          "female/First/man/no/False",
          "male/Third/woman/no",
          "male/First/man/no/False",
          "female/Third/man",
          "female/Second/child",
          "male/Third/man/no",
          "female/Second/woman/no",
          "male/Second/child/yes/True",
          "male/Second/child/yes/False",
          "male/First/child/yes/True",
          "female/First/child/yes/True",
          "male/Third/child/yes/False",
          "male/Second/woman/no/True",
          "female/Second/woman/no/True",
          "female/First/woman/no/True",
          "female/Third/man/no/True",
          "male/Second/man/no/True",
          "female/Second/man/yes/False",
          "male/Second/man/yes/False",
          "female/First/man/no/True",
          "male/Third/man/yes/False",
          "female/First/woman/yes/False",
          "male/First/child/no/True",
          "female/First/child/no/True",
          "male/Third/woman/yes/False",
          "female/Third/woman/yes/False",
          "female/Second/child/yes/False",
          "male/Second/woman/no",
          "male/Third/child/yes/True",
          "female/Second/man/yes/True",
          "female/First/woman/no/False",
          "male/First/woman/no/False",
          "male/Second/man/no",
          "female/Second/man/no",
          "female/First/man/no",
          "male/Third/child/no",
          "female/Third/child/no",
          "male/Second/child/no",
          "female/Second/child/no",
          "male/First/child/no",
          "female/First/child/no",
          "female/Third/woman/no/False",
          "female/Third/woman/yes/True",
          "male/Second/woman/yes/True",
          "male/Third/woman/no/False",
          "male/First/woman/yes/True",
          "male/Third/man/yes/True",
          "female/Third/man/yes/True",
          "male/Second/man/yes/True",
          "female/First/man/yes/True",
          "female/First/child/no/False"
         ],
         "labels": [
          "True",
          "True",
          "True",
          "True",
          "True",
          "True",
          "True",
          "True",
          "True",
          "True",
          "True",
          "True",
          "female",
          "True",
          "True",
          "no",
          "no",
          "no",
          "no",
          "no",
          "yes",
          "yes",
          "yes",
          "child",
          "child",
          "child",
          "man",
          "man",
          "woman",
          "Second",
          "True",
          "True",
          "male",
          "False",
          "False",
          "False",
          "False",
          "False",
          "False",
          "False",
          "False",
          "False",
          "False",
          "False",
          "False",
          "False",
          "False",
          "False",
          "False",
          "False",
          "yes",
          "yes",
          "yes",
          "yes",
          "yes",
          "yes",
          "yes",
          "yes",
          "yes",
          "yes",
          "yes",
          "yes",
          "yes",
          "yes",
          "False",
          "child",
          "Third",
          "Third",
          "Second",
          "First",
          "First",
          "woman",
          "woman",
          "woman",
          "woman",
          "yes",
          "woman",
          "man",
          "man",
          "man",
          "False",
          "False",
          "child",
          "False",
          "no",
          "False",
          "man",
          "child",
          "no",
          "no",
          "True",
          "False",
          "True",
          "True",
          "False",
          "True",
          "True",
          "True",
          "True",
          "True",
          "False",
          "False",
          "True",
          "False",
          "False",
          "True",
          "True",
          "False",
          "False",
          "False",
          "no",
          "True",
          "True",
          "False",
          "False",
          "no",
          "no",
          "no",
          "no",
          "no",
          "no",
          "no",
          "no",
          "no",
          "False",
          "True",
          "True",
          "False",
          "True",
          "True",
          "True",
          "True",
          "True",
          "False"
         ],
         "marker": {
          "colors": [
           "#636efa",
           "#636efa",
           "#EF553B",
           "#EF553B",
           "#00cc96",
           "#EF553B",
           "#00cc96",
           "#636efa",
           "#00cc96",
           "#00cc96",
           "#636efa",
           "#EF553B",
           "#636efa",
           "#636efa",
           "#00cc96",
           "#EF553B",
           "#00cc96",
           "#636efa",
           "#00cc96",
           "#636efa",
           "#00cc96",
           "#00cc96",
           "#636efa",
           "#EF553B",
           "#EF553B",
           "#EF553B",
           "#00cc96",
           "#EF553B",
           "#00cc96",
           "#636efa",
           "#00cc96",
           "#00cc96",
           "#EF553B",
           "#EF553B",
           "#EF553B",
           "#EF553B",
           "#636efa",
           "#00cc96",
           "#00cc96",
           "#00cc96",
           "#636efa",
           "#EF553B",
           "#00cc96",
           "#00cc96",
           "#636efa",
           "#00cc96",
           "#636efa",
           "#00cc96",
           "#00cc96",
           "#00cc96",
           "#636efa",
           "#00cc96",
           "#636efa",
           "#00cc96",
           "#636efa",
           "#EF553B",
           "#EF553B",
           "#EF553B",
           "#EF553B",
           "#636efa",
           "#EF553B",
           "#636efa",
           "#EF553B",
           "#00cc96",
           "#00cc96",
           "#636efa",
           "#EF553B",
           "#636efa",
           "#EF553B",
           "#EF553B",
           "#636efa",
           "#00cc96",
           "#636efa",
           "#636efa",
           "#00cc96",
           "#00cc96",
           "#636efa",
           "#EF553B",
           "#00cc96",
           "#EF553B",
           "#636efa",
           "#EF553B",
           "#636efa",
           "#00cc96",
           "#00cc96",
           "#EF553B",
           "#00cc96",
           "#636efa",
           "#EF553B",
           "#636efa",
           "#00cc96",
           "#EF553B",
           "#00cc96",
           "#00cc96",
           "#EF553B",
           "#00cc96",
           "#636efa",
           "#636efa",
           "#00cc96",
           "#EF553B",
           "#00cc96",
           "#EF553B",
           "#00cc96",
           "#EF553B",
           "#636efa",
           "#00cc96",
           "#00cc96",
           "#00cc96",
           "#636efa",
           "#636efa",
           "#00cc96",
           "#00cc96",
           "#00cc96",
           "#636efa",
           "#00cc96",
           "#EF553B",
           "#00cc96",
           "#00cc96",
           "#EF553B",
           "#636efa",
           "#00cc96",
           "#00cc96",
           "#00cc96",
           "#636efa",
           "#636efa",
           "#636efa",
           "#00cc96",
           "#00cc96",
           "#00cc96",
           "#EF553B",
           "#00cc96",
           "#EF553B",
           "#00cc96",
           "#636efa"
          ]
         },
         "name": "",
         "parents": [
          "female/First/woman/yes",
          "female/Third/child/no",
          "male/Third/child/no",
          "male/First/man/no",
          "female/Second/man/no",
          "male/Third/man/no",
          "male/First/woman/no",
          "female/Third/woman/no",
          "male/Third/woman/no",
          "female/Second/child/yes",
          "female/Third/child/yes",
          "male/First/man/yes",
          "",
          "female/Second/woman/yes",
          "male/Third/woman/yes",
          "male/First/man",
          "female/Third/man",
          "female/First/woman",
          "male/First/woman",
          "female/Third/woman",
          "female/Second/man",
          "female/Third/man",
          "female/Third/woman",
          "male/First",
          "male/Second",
          "male/Third",
          "female/First",
          "male/Third",
          "male/Second",
          "female",
          "male/Second/child/no",
          "female/Second/child/no",
          "",
          "male/Third/man/no",
          "male/First/child/yes",
          "male/Second/man/no",
          "female/Third/child/yes",
          "female/Third/man/no",
          "male/Second/child/no",
          "female/First/man/yes",
          "female/First/child/yes",
          "male/First/man/yes",
          "female/Second/child/no",
          "female/Second/man/no",
          "female/Second/woman/yes",
          "female/Third/man/yes",
          "female/Second/woman/no",
          "male/First/woman/yes",
          "male/First/child/no",
          "male/Second/woman/no",
          "female/First/child",
          "male/Second/woman",
          "female/Second/woman",
          "male/First/woman",
          "female/First/woman",
          "male/Third/man",
          "male/Second/child",
          "male/Second/man",
          "male/First/man",
          "female/Second/child",
          "male/Third/child",
          "female/Third/child",
          "male/First/child",
          "female/First/man",
          "male/Second/woman/yes",
          "female/First",
          "male",
          "female",
          "male",
          "male",
          "female",
          "male/Third",
          "female/Third",
          "female/Second",
          "male/First",
          "male/Third/woman",
          "female/First",
          "male/Second",
          "female/Second",
          "male/First",
          "female/Third/child/no",
          "male/Third/child/no",
          "female/Third",
          "female/First/man/no",
          "male/Third/woman",
          "male/First/man/no",
          "female/Third",
          "female/Second",
          "male/Third/man",
          "female/Second/woman",
          "male/Second/child/yes",
          "male/Second/child/yes",
          "male/First/child/yes",
          "female/First/child/yes",
          "male/Third/child/yes",
          "male/Second/woman/no",
          "female/Second/woman/no",
          "female/First/woman/no",
          "female/Third/man/no",
          "male/Second/man/no",
          "female/Second/man/yes",
          "male/Second/man/yes",
          "female/First/man/no",
          "male/Third/man/yes",
          "female/First/woman/yes",
          "male/First/child/no",
          "female/First/child/no",
          "male/Third/woman/yes",
          "female/Third/woman/yes",
          "female/Second/child/yes",
          "male/Second/woman",
          "male/Third/child/yes",
          "female/Second/man/yes",
          "female/First/woman/no",
          "male/First/woman/no",
          "male/Second/man",
          "female/Second/man",
          "female/First/man",
          "male/Third/child",
          "female/Third/child",
          "male/Second/child",
          "female/Second/child",
          "male/First/child",
          "female/First/child",
          "female/Third/woman/no",
          "female/Third/woman/yes",
          "male/Second/woman/yes",
          "male/Third/woman/no",
          "male/First/woman/yes",
          "male/Third/man/yes",
          "female/Third/man/yes",
          "male/Second/man/yes",
          "female/First/man/yes",
          "female/First/child/no"
         ],
         "type": "sunburst",
         "values": [
          33,
          0,
          0,
          0,
          0,
          0,
          0,
          0,
          0,
          0,
          4,
          25,
          233,
          29,
          0,
          0,
          0,
          0,
          0,
          0,
          0,
          0,
          56,
          3,
          9,
          9,
          0,
          38,
          0,
          70,
          0,
          0,
          109,
          0,
          3,
          0,
          12,
          0,
          0,
          0,
          2,
          17,
          0,
          0,
          31,
          0,
          0,
          0,
          0,
          0,
          2,
          0,
          60,
          0,
          89,
          38,
          9,
          8,
          42,
          10,
          9,
          16,
          3,
          0,
          0,
          2,
          47,
          72,
          17,
          45,
          91,
          0,
          56,
          60,
          0,
          0,
          89,
          8,
          0,
          42,
          0,
          0,
          16,
          0,
          0,
          0,
          0,
          10,
          0,
          0,
          0,
          9,
          0,
          0,
          9,
          0,
          0,
          0,
          0,
          0,
          0,
          1,
          0,
          6,
          56,
          0,
          0,
          0,
          23,
          10,
          0,
          0,
          0,
          0,
          0,
          0,
          0,
          0,
          0,
          0,
          0,
          0,
          0,
          0,
          0,
          33,
          0,
          0,
          0,
          32,
          0,
          7,
          0,
          0
         ]
        }
       ],
       "layout": {
        "autosize": true,
        "legend": {
         "tracegroupgap": 0
        },
        "margin": {
         "t": 60
        },
        "template": {
         "data": {
          "bar": [
           {
            "error_x": {
             "color": "#2a3f5f"
            },
            "error_y": {
             "color": "#2a3f5f"
            },
            "marker": {
             "line": {
              "color": "#E5ECF6",
              "width": 0.5
             },
             "pattern": {
              "fillmode": "overlay",
              "size": 10,
              "solidity": 0.2
             }
            },
            "type": "bar"
           }
          ],
          "barpolar": [
           {
            "marker": {
             "line": {
              "color": "#E5ECF6",
              "width": 0.5
             },
             "pattern": {
              "fillmode": "overlay",
              "size": 10,
              "solidity": 0.2
             }
            },
            "type": "barpolar"
           }
          ],
          "carpet": [
           {
            "aaxis": {
             "endlinecolor": "#2a3f5f",
             "gridcolor": "white",
             "linecolor": "white",
             "minorgridcolor": "white",
             "startlinecolor": "#2a3f5f"
            },
            "baxis": {
             "endlinecolor": "#2a3f5f",
             "gridcolor": "white",
             "linecolor": "white",
             "minorgridcolor": "white",
             "startlinecolor": "#2a3f5f"
            },
            "type": "carpet"
           }
          ],
          "choropleth": [
           {
            "colorbar": {
             "outlinewidth": 0,
             "ticks": ""
            },
            "type": "choropleth"
           }
          ],
          "contour": [
           {
            "colorbar": {
             "outlinewidth": 0,
             "ticks": ""
            },
            "colorscale": [
             [
              0,
              "#0d0887"
             ],
             [
              0.1111111111111111,
              "#46039f"
             ],
             [
              0.2222222222222222,
              "#7201a8"
             ],
             [
              0.3333333333333333,
              "#9c179e"
             ],
             [
              0.4444444444444444,
              "#bd3786"
             ],
             [
              0.5555555555555556,
              "#d8576b"
             ],
             [
              0.6666666666666666,
              "#ed7953"
             ],
             [
              0.7777777777777778,
              "#fb9f3a"
             ],
             [
              0.8888888888888888,
              "#fdca26"
             ],
             [
              1,
              "#f0f921"
             ]
            ],
            "type": "contour"
           }
          ],
          "contourcarpet": [
           {
            "colorbar": {
             "outlinewidth": 0,
             "ticks": ""
            },
            "type": "contourcarpet"
           }
          ],
          "heatmap": [
           {
            "colorbar": {
             "outlinewidth": 0,
             "ticks": ""
            },
            "colorscale": [
             [
              0,
              "#0d0887"
             ],
             [
              0.1111111111111111,
              "#46039f"
             ],
             [
              0.2222222222222222,
              "#7201a8"
             ],
             [
              0.3333333333333333,
              "#9c179e"
             ],
             [
              0.4444444444444444,
              "#bd3786"
             ],
             [
              0.5555555555555556,
              "#d8576b"
             ],
             [
              0.6666666666666666,
              "#ed7953"
             ],
             [
              0.7777777777777778,
              "#fb9f3a"
             ],
             [
              0.8888888888888888,
              "#fdca26"
             ],
             [
              1,
              "#f0f921"
             ]
            ],
            "type": "heatmap"
           }
          ],
          "heatmapgl": [
           {
            "colorbar": {
             "outlinewidth": 0,
             "ticks": ""
            },
            "colorscale": [
             [
              0,
              "#0d0887"
             ],
             [
              0.1111111111111111,
              "#46039f"
             ],
             [
              0.2222222222222222,
              "#7201a8"
             ],
             [
              0.3333333333333333,
              "#9c179e"
             ],
             [
              0.4444444444444444,
              "#bd3786"
             ],
             [
              0.5555555555555556,
              "#d8576b"
             ],
             [
              0.6666666666666666,
              "#ed7953"
             ],
             [
              0.7777777777777778,
              "#fb9f3a"
             ],
             [
              0.8888888888888888,
              "#fdca26"
             ],
             [
              1,
              "#f0f921"
             ]
            ],
            "type": "heatmapgl"
           }
          ],
          "histogram": [
           {
            "marker": {
             "pattern": {
              "fillmode": "overlay",
              "size": 10,
              "solidity": 0.2
             }
            },
            "type": "histogram"
           }
          ],
          "histogram2d": [
           {
            "colorbar": {
             "outlinewidth": 0,
             "ticks": ""
            },
            "colorscale": [
             [
              0,
              "#0d0887"
             ],
             [
              0.1111111111111111,
              "#46039f"
             ],
             [
              0.2222222222222222,
              "#7201a8"
             ],
             [
              0.3333333333333333,
              "#9c179e"
             ],
             [
              0.4444444444444444,
              "#bd3786"
             ],
             [
              0.5555555555555556,
              "#d8576b"
             ],
             [
              0.6666666666666666,
              "#ed7953"
             ],
             [
              0.7777777777777778,
              "#fb9f3a"
             ],
             [
              0.8888888888888888,
              "#fdca26"
             ],
             [
              1,
              "#f0f921"
             ]
            ],
            "type": "histogram2d"
           }
          ],
          "histogram2dcontour": [
           {
            "colorbar": {
             "outlinewidth": 0,
             "ticks": ""
            },
            "colorscale": [
             [
              0,
              "#0d0887"
             ],
             [
              0.1111111111111111,
              "#46039f"
             ],
             [
              0.2222222222222222,
              "#7201a8"
             ],
             [
              0.3333333333333333,
              "#9c179e"
             ],
             [
              0.4444444444444444,
              "#bd3786"
             ],
             [
              0.5555555555555556,
              "#d8576b"
             ],
             [
              0.6666666666666666,
              "#ed7953"
             ],
             [
              0.7777777777777778,
              "#fb9f3a"
             ],
             [
              0.8888888888888888,
              "#fdca26"
             ],
             [
              1,
              "#f0f921"
             ]
            ],
            "type": "histogram2dcontour"
           }
          ],
          "mesh3d": [
           {
            "colorbar": {
             "outlinewidth": 0,
             "ticks": ""
            },
            "type": "mesh3d"
           }
          ],
          "parcoords": [
           {
            "line": {
             "colorbar": {
              "outlinewidth": 0,
              "ticks": ""
             }
            },
            "type": "parcoords"
           }
          ],
          "pie": [
           {
            "automargin": true,
            "type": "pie"
           }
          ],
          "scatter": [
           {
            "fillpattern": {
             "fillmode": "overlay",
             "size": 10,
             "solidity": 0.2
            },
            "type": "scatter"
           }
          ],
          "scatter3d": [
           {
            "line": {
             "colorbar": {
              "outlinewidth": 0,
              "ticks": ""
             }
            },
            "marker": {
             "colorbar": {
              "outlinewidth": 0,
              "ticks": ""
             }
            },
            "type": "scatter3d"
           }
          ],
          "scattercarpet": [
           {
            "marker": {
             "colorbar": {
              "outlinewidth": 0,
              "ticks": ""
             }
            },
            "type": "scattercarpet"
           }
          ],
          "scattergeo": [
           {
            "marker": {
             "colorbar": {
              "outlinewidth": 0,
              "ticks": ""
             }
            },
            "type": "scattergeo"
           }
          ],
          "scattergl": [
           {
            "marker": {
             "colorbar": {
              "outlinewidth": 0,
              "ticks": ""
             }
            },
            "type": "scattergl"
           }
          ],
          "scattermapbox": [
           {
            "marker": {
             "colorbar": {
              "outlinewidth": 0,
              "ticks": ""
             }
            },
            "type": "scattermapbox"
           }
          ],
          "scatterpolar": [
           {
            "marker": {
             "colorbar": {
              "outlinewidth": 0,
              "ticks": ""
             }
            },
            "type": "scatterpolar"
           }
          ],
          "scatterpolargl": [
           {
            "marker": {
             "colorbar": {
              "outlinewidth": 0,
              "ticks": ""
             }
            },
            "type": "scatterpolargl"
           }
          ],
          "scatterternary": [
           {
            "marker": {
             "colorbar": {
              "outlinewidth": 0,
              "ticks": ""
             }
            },
            "type": "scatterternary"
           }
          ],
          "surface": [
           {
            "colorbar": {
             "outlinewidth": 0,
             "ticks": ""
            },
            "colorscale": [
             [
              0,
              "#0d0887"
             ],
             [
              0.1111111111111111,
              "#46039f"
             ],
             [
              0.2222222222222222,
              "#7201a8"
             ],
             [
              0.3333333333333333,
              "#9c179e"
             ],
             [
              0.4444444444444444,
              "#bd3786"
             ],
             [
              0.5555555555555556,
              "#d8576b"
             ],
             [
              0.6666666666666666,
              "#ed7953"
             ],
             [
              0.7777777777777778,
              "#fb9f3a"
             ],
             [
              0.8888888888888888,
              "#fdca26"
             ],
             [
              1,
              "#f0f921"
             ]
            ],
            "type": "surface"
           }
          ],
          "table": [
           {
            "cells": {
             "fill": {
              "color": "#EBF0F8"
             },
             "line": {
              "color": "white"
             }
            },
            "header": {
             "fill": {
              "color": "#C8D4E3"
             },
             "line": {
              "color": "white"
             }
            },
            "type": "table"
           }
          ]
         },
         "layout": {
          "annotationdefaults": {
           "arrowcolor": "#2a3f5f",
           "arrowhead": 0,
           "arrowwidth": 1
          },
          "autotypenumbers": "strict",
          "coloraxis": {
           "colorbar": {
            "outlinewidth": 0,
            "ticks": ""
           }
          },
          "colorscale": {
           "diverging": [
            [
             0,
             "#8e0152"
            ],
            [
             0.1,
             "#c51b7d"
            ],
            [
             0.2,
             "#de77ae"
            ],
            [
             0.3,
             "#f1b6da"
            ],
            [
             0.4,
             "#fde0ef"
            ],
            [
             0.5,
             "#f7f7f7"
            ],
            [
             0.6,
             "#e6f5d0"
            ],
            [
             0.7,
             "#b8e186"
            ],
            [
             0.8,
             "#7fbc41"
            ],
            [
             0.9,
             "#4d9221"
            ],
            [
             1,
             "#276419"
            ]
           ],
           "sequential": [
            [
             0,
             "#0d0887"
            ],
            [
             0.1111111111111111,
             "#46039f"
            ],
            [
             0.2222222222222222,
             "#7201a8"
            ],
            [
             0.3333333333333333,
             "#9c179e"
            ],
            [
             0.4444444444444444,
             "#bd3786"
            ],
            [
             0.5555555555555556,
             "#d8576b"
            ],
            [
             0.6666666666666666,
             "#ed7953"
            ],
            [
             0.7777777777777778,
             "#fb9f3a"
            ],
            [
             0.8888888888888888,
             "#fdca26"
            ],
            [
             1,
             "#f0f921"
            ]
           ],
           "sequentialminus": [
            [
             0,
             "#0d0887"
            ],
            [
             0.1111111111111111,
             "#46039f"
            ],
            [
             0.2222222222222222,
             "#7201a8"
            ],
            [
             0.3333333333333333,
             "#9c179e"
            ],
            [
             0.4444444444444444,
             "#bd3786"
            ],
            [
             0.5555555555555556,
             "#d8576b"
            ],
            [
             0.6666666666666666,
             "#ed7953"
            ],
            [
             0.7777777777777778,
             "#fb9f3a"
            ],
            [
             0.8888888888888888,
             "#fdca26"
            ],
            [
             1,
             "#f0f921"
            ]
           ]
          },
          "colorway": [
           "#636efa",
           "#EF553B",
           "#00cc96",
           "#ab63fa",
           "#FFA15A",
           "#19d3f3",
           "#FF6692",
           "#B6E880",
           "#FF97FF",
           "#FECB52"
          ],
          "font": {
           "color": "#2a3f5f"
          },
          "geo": {
           "bgcolor": "white",
           "lakecolor": "white",
           "landcolor": "#E5ECF6",
           "showlakes": true,
           "showland": true,
           "subunitcolor": "white"
          },
          "hoverlabel": {
           "align": "left"
          },
          "hovermode": "closest",
          "mapbox": {
           "style": "light"
          },
          "paper_bgcolor": "white",
          "plot_bgcolor": "#E5ECF6",
          "polar": {
           "angularaxis": {
            "gridcolor": "white",
            "linecolor": "white",
            "ticks": ""
           },
           "bgcolor": "#E5ECF6",
           "radialaxis": {
            "gridcolor": "white",
            "linecolor": "white",
            "ticks": ""
           }
          },
          "scene": {
           "xaxis": {
            "backgroundcolor": "#E5ECF6",
            "gridcolor": "white",
            "gridwidth": 2,
            "linecolor": "white",
            "showbackground": true,
            "ticks": "",
            "zerolinecolor": "white"
           },
           "yaxis": {
            "backgroundcolor": "#E5ECF6",
            "gridcolor": "white",
            "gridwidth": 2,
            "linecolor": "white",
            "showbackground": true,
            "ticks": "",
            "zerolinecolor": "white"
           },
           "zaxis": {
            "backgroundcolor": "#E5ECF6",
            "gridcolor": "white",
            "gridwidth": 2,
            "linecolor": "white",
            "showbackground": true,
            "ticks": "",
            "zerolinecolor": "white"
           }
          },
          "shapedefaults": {
           "line": {
            "color": "#2a3f5f"
           }
          },
          "ternary": {
           "aaxis": {
            "gridcolor": "white",
            "linecolor": "white",
            "ticks": ""
           },
           "baxis": {
            "gridcolor": "white",
            "linecolor": "white",
            "ticks": ""
           },
           "bgcolor": "#E5ECF6",
           "caxis": {
            "gridcolor": "white",
            "linecolor": "white",
            "ticks": ""
           }
          },
          "title": {
           "x": 0.05
          },
          "xaxis": {
           "automargin": true,
           "gridcolor": "white",
           "linecolor": "white",
           "ticks": "",
           "title": {
            "standoff": 15
           },
           "zerolinecolor": "white",
           "zerolinewidth": 2
          },
          "yaxis": {
           "automargin": true,
           "gridcolor": "white",
           "linecolor": "white",
           "ticks": "",
           "title": {
            "standoff": 15
           },
           "zerolinecolor": "white",
           "zerolinewidth": 2
          }
         }
        }
       }
      },
      "image/png": "[encoded data removed]",
      "text/html": [
       "<div>                            <div id=\"15ba6c30-9875-41d6-8024-db031718fc11\" class=\"plotly-graph-div\" style=\"height:525px; width:100%;\"></div>            <script type=\"text/javascript\">                require([\"plotly\"], function(Plotly) {                    window.PLOTLYENV=window.PLOTLYENV || {};                                    if (document.getElementById(\"15ba6c30-9875-41d6-8024-db031718fc11\")) {                    Plotly.newPlot(                        \"15ba6c30-9875-41d6-8024-db031718fc11\",                        [{\"branchvalues\":\"total\",\"customdata\":[[\"female\"],[\"female\"],[\"male\"],[\"male\"],[null],[\"male\"],[null],[\"female\"],[null],[null],[\"female\"],[\"male\"],[\"female\"],[\"female\"],[null],[\"male\"],[null],[\"female\"],[null],[\"female\"],[null],[null],[\"female\"],[\"male\"],[\"male\"],[\"male\"],[null],[\"male\"],[null],[\"female\"],[null],[null],[\"male\"],[\"male\"],[\"male\"],[\"male\"],[\"female\"],[null],[null],[null],[\"female\"],[\"male\"],[null],[null],[\"female\"],[null],[\"female\"],[null],[null],[null],[\"female\"],[null],[\"female\"],[null],[\"female\"],[\"male\"],[\"male\"],[\"male\"],[\"male\"],[\"female\"],[\"male\"],[\"female\"],[\"male\"],[null],[null],[\"female\"],[\"male\"],[\"female\"],[\"male\"],[\"male\"],[\"female\"],[null],[\"female\"],[\"female\"],[null],[null],[\"female\"],[\"male\"],[null],[\"male\"],[\"female\"],[\"male\"],[\"female\"],[null],[null],[\"male\"],[null],[\"female\"],[\"male\"],[\"female\"],[null],[\"male\"],[null],[null],[\"male\"],[null],[\"female\"],[\"female\"],[null],[\"male\"],[null],[\"male\"],[null],[\"male\"],[\"female\"],[null],[null],[null],[\"female\"],[\"female\"],[null],[null],[null],[\"female\"],[null],[\"male\"],[null],[null],[\"male\"],[\"female\"],[null],[null],[null],[\"female\"],[\"female\"],[\"female\"],[null],[null],[null],[\"male\"],[null],[\"male\"],[null],[\"female\"]],\"domain\":{\"x\":[0.0,1.0],\"y\":[0.0,1.0]},\"hovertemplate\":\"labels=%{label}\\u003cbr\\u003esurvived=%{value}\\u003cbr\\u003eparent=%{parent}\\u003cbr\\u003eid=%{id}\\u003cbr\\u003esex=%{customdata[0]}\\u003cextra\\u003e\\u003c\\u002fextra\\u003e\",\"ids\":[\"female\\u002fFirst\\u002fwoman\\u002fyes\\u002fTrue\",\"female\\u002fThird\\u002fchild\\u002fno\\u002fTrue\",\"male\\u002fThird\\u002fchild\\u002fno\\u002fTrue\",\"male\\u002fFirst\\u002fman\\u002fno\\u002fTrue\",\"female\\u002fSecond\\u002fman\\u002fno\\u002fTrue\",\"male\\u002fThird\\u002fman\\u002fno\\u002fTrue\",\"male\\u002fFirst\\u002fwoman\\u002fno\\u002fTrue\",\"female\\u002fThird\\u002fwoman\\u002fno\\u002fTrue\",\"male\\u002fThird\\u002fwoman\\u002fno\\u002fTrue\",\"female\\u002fSecond\\u002fchild\\u002fyes\\u002fTrue\",\"female\\u002fThird\\u002fchild\\u002fyes\\u002fTrue\",\"male\\u002fFirst\\u002fman\\u002fyes\\u002fTrue\",\"female\",\"female\\u002fSecond\\u002fwoman\\u002fyes\\u002fTrue\",\"male\\u002fThird\\u002fwoman\\u002fyes\\u002fTrue\",\"male\\u002fFirst\\u002fman\\u002fno\",\"female\\u002fThird\\u002fman\\u002fno\",\"female\\u002fFirst\\u002fwoman\\u002fno\",\"male\\u002fFirst\\u002fwoman\\u002fno\",\"female\\u002fThird\\u002fwoman\\u002fno\",\"female\\u002fSecond\\u002fman\\u002fyes\",\"female\\u002fThird\\u002fman\\u002fyes\",\"female\\u002fThird\\u002fwoman\\u002fyes\",\"male\\u002fFirst\\u002fchild\",\"male\\u002fSecond\\u002fchild\",\"male\\u002fThird\\u002fchild\",\"female\\u002fFirst\\u002fman\",\"male\\u002fThird\\u002fman\",\"male\\u002fSecond\\u002fwoman\",\"female\\u002fSecond\",\"male\\u002fSecond\\u002fchild\\u002fno\\u002fTrue\",\"female\\u002fSecond\\u002fchild\\u002fno\\u002fTrue\",\"male\",\"male\\u002fThird\\u002fman\\u002fno\\u002fFalse\",\"male\\u002fFirst\\u002fchild\\u002fyes\\u002fFalse\",\"male\\u002fSecond\\u002fman\\u002fno\\u002fFalse\",\"female\\u002fThird\\u002fchild\\u002fyes\\u002fFalse\",\"female\\u002fThird\\u002fman\\u002fno\\u002fFalse\",\"male\\u002fSecond\\u002fchild\\u002fno\\u002fFalse\",\"female\\u002fFirst\\u002fman\\u002fyes\\u002fFalse\",\"female\\u002fFirst\\u002fchild\\u002fyes\\u002fFalse\",\"male\\u002fFirst\\u002fman\\u002fyes\\u002fFalse\",\"female\\u002fSecond\\u002fchild\\u002fno\\u002fFalse\",\"female\\u002fSecond\\u002fman\\u002fno\\u002fFalse\",\"female\\u002fSecond\\u002fwoman\\u002fyes\\u002fFalse\",\"female\\u002fThird\\u002fman\\u002fyes\\u002fFalse\",\"female\\u002fSecond\\u002fwoman\\u002fno\\u002fFalse\",\"male\\u002fFirst\\u002fwoman\\u002fyes\\u002fFalse\",\"male\\u002fFirst\\u002fchild\\u002fno\\u002fFalse\",\"male\\u002fSecond\\u002fwoman\\u002fno\\u002fFalse\",\"female\\u002fFirst\\u002fchild\\u002fyes\",\"male\\u002fSecond\\u002fwoman\\u002fyes\",\"female\\u002fSecond\\u002fwoman\\u002fyes\",\"male\\u002fFirst\\u002fwoman\\u002fyes\",\"female\\u002fFirst\\u002fwoman\\u002fyes\",\"male\\u002fThird\\u002fman\\u002fyes\",\"male\\u002fSecond\\u002fchild\\u002fyes\",\"male\\u002fSecond\\u002fman\\u002fyes\",\"male\\u002fFirst\\u002fman\\u002fyes\",\"female\\u002fSecond\\u002fchild\\u002fyes\",\"male\\u002fThird\\u002fchild\\u002fyes\",\"female\\u002fThird\\u002fchild\\u002fyes\",\"male\\u002fFirst\\u002fchild\\u002fyes\",\"female\\u002fFirst\\u002fman\\u002fyes\",\"male\\u002fSecond\\u002fwoman\\u002fyes\\u002fFalse\",\"female\\u002fFirst\\u002fchild\",\"male\\u002fThird\",\"female\\u002fThird\",\"male\\u002fSecond\",\"male\\u002fFirst\",\"female\\u002fFirst\",\"male\\u002fThird\\u002fwoman\",\"female\\u002fThird\\u002fwoman\",\"female\\u002fSecond\\u002fwoman\",\"male\\u002fFirst\\u002fwoman\",\"male\\u002fThird\\u002fwoman\\u002fyes\",\"female\\u002fFirst\\u002fwoman\",\"male\\u002fSecond\\u002fman\",\"female\\u002fSecond\\u002fman\",\"male\\u002fFirst\\u002fman\",\"female\\u002fThird\\u002fchild\\u002fno\\u002fFalse\",\"male\\u002fThird\\u002fchild\\u002fno\\u002fFalse\",\"female\\u002fThird\\u002fchild\",\"female\\u002fFirst\\u002fman\\u002fno\\u002fFalse\",\"male\\u002fThird\\u002fwoman\\u002fno\",\"male\\u002fFirst\\u002fman\\u002fno\\u002fFalse\",\"female\\u002fThird\\u002fman\",\"female\\u002fSecond\\u002fchild\",\"male\\u002fThird\\u002fman\\u002fno\",\"female\\u002fSecond\\u002fwoman\\u002fno\",\"male\\u002fSecond\\u002fchild\\u002fyes\\u002fTrue\",\"male\\u002fSecond\\u002fchild\\u002fyes\\u002fFalse\",\"male\\u002fFirst\\u002fchild\\u002fyes\\u002fTrue\",\"female\\u002fFirst\\u002fchild\\u002fyes\\u002fTrue\",\"male\\u002fThird\\u002fchild\\u002fyes\\u002fFalse\",\"male\\u002fSecond\\u002fwoman\\u002fno\\u002fTrue\",\"female\\u002fSecond\\u002fwoman\\u002fno\\u002fTrue\",\"female\\u002fFirst\\u002fwoman\\u002fno\\u002fTrue\",\"female\\u002fThird\\u002fman\\u002fno\\u002fTrue\",\"male\\u002fSecond\\u002fman\\u002fno\\u002fTrue\",\"female\\u002fSecond\\u002fman\\u002fyes\\u002fFalse\",\"male\\u002fSecond\\u002fman\\u002fyes\\u002fFalse\",\"female\\u002fFirst\\u002fman\\u002fno\\u002fTrue\",\"male\\u002fThird\\u002fman\\u002fyes\\u002fFalse\",\"female\\u002fFirst\\u002fwoman\\u002fyes\\u002fFalse\",\"male\\u002fFirst\\u002fchild\\u002fno\\u002fTrue\",\"female\\u002fFirst\\u002fchild\\u002fno\\u002fTrue\",\"male\\u002fThird\\u002fwoman\\u002fyes\\u002fFalse\",\"female\\u002fThird\\u002fwoman\\u002fyes\\u002fFalse\",\"female\\u002fSecond\\u002fchild\\u002fyes\\u002fFalse\",\"male\\u002fSecond\\u002fwoman\\u002fno\",\"male\\u002fThird\\u002fchild\\u002fyes\\u002fTrue\",\"female\\u002fSecond\\u002fman\\u002fyes\\u002fTrue\",\"female\\u002fFirst\\u002fwoman\\u002fno\\u002fFalse\",\"male\\u002fFirst\\u002fwoman\\u002fno\\u002fFalse\",\"male\\u002fSecond\\u002fman\\u002fno\",\"female\\u002fSecond\\u002fman\\u002fno\",\"female\\u002fFirst\\u002fman\\u002fno\",\"male\\u002fThird\\u002fchild\\u002fno\",\"female\\u002fThird\\u002fchild\\u002fno\",\"male\\u002fSecond\\u002fchild\\u002fno\",\"female\\u002fSecond\\u002fchild\\u002fno\",\"male\\u002fFirst\\u002fchild\\u002fno\",\"female\\u002fFirst\\u002fchild\\u002fno\",\"female\\u002fThird\\u002fwoman\\u002fno\\u002fFalse\",\"female\\u002fThird\\u002fwoman\\u002fyes\\u002fTrue\",\"male\\u002fSecond\\u002fwoman\\u002fyes\\u002fTrue\",\"male\\u002fThird\\u002fwoman\\u002fno\\u002fFalse\",\"male\\u002fFirst\\u002fwoman\\u002fyes\\u002fTrue\",\"male\\u002fThird\\u002fman\\u002fyes\\u002fTrue\",\"female\\u002fThird\\u002fman\\u002fyes\\u002fTrue\",\"male\\u002fSecond\\u002fman\\u002fyes\\u002fTrue\",\"female\\u002fFirst\\u002fman\\u002fyes\\u002fTrue\",\"female\\u002fFirst\\u002fchild\\u002fno\\u002fFalse\"],\"labels\":[\"True\",\"True\",\"True\",\"True\",\"True\",\"True\",\"True\",\"True\",\"True\",\"True\",\"True\",\"True\",\"female\",\"True\",\"True\",\"no\",\"no\",\"no\",\"no\",\"no\",\"yes\",\"yes\",\"yes\",\"child\",\"child\",\"child\",\"man\",\"man\",\"woman\",\"Second\",\"True\",\"True\",\"male\",\"False\",\"False\",\"False\",\"False\",\"False\",\"False\",\"False\",\"False\",\"False\",\"False\",\"False\",\"False\",\"False\",\"False\",\"False\",\"False\",\"False\",\"yes\",\"yes\",\"yes\",\"yes\",\"yes\",\"yes\",\"yes\",\"yes\",\"yes\",\"yes\",\"yes\",\"yes\",\"yes\",\"yes\",\"False\",\"child\",\"Third\",\"Third\",\"Second\",\"First\",\"First\",\"woman\",\"woman\",\"woman\",\"woman\",\"yes\",\"woman\",\"man\",\"man\",\"man\",\"False\",\"False\",\"child\",\"False\",\"no\",\"False\",\"man\",\"child\",\"no\",\"no\",\"True\",\"False\",\"True\",\"True\",\"False\",\"True\",\"True\",\"True\",\"True\",\"True\",\"False\",\"False\",\"True\",\"False\",\"False\",\"True\",\"True\",\"False\",\"False\",\"False\",\"no\",\"True\",\"True\",\"False\",\"False\",\"no\",\"no\",\"no\",\"no\",\"no\",\"no\",\"no\",\"no\",\"no\",\"False\",\"True\",\"True\",\"False\",\"True\",\"True\",\"True\",\"True\",\"True\",\"False\"],\"marker\":{\"colors\":[\"#636efa\",\"#636efa\",\"#EF553B\",\"#EF553B\",\"#00cc96\",\"#EF553B\",\"#00cc96\",\"#636efa\",\"#00cc96\",\"#00cc96\",\"#636efa\",\"#EF553B\",\"#636efa\",\"#636efa\",\"#00cc96\",\"#EF553B\",\"#00cc96\",\"#636efa\",\"#00cc96\",\"#636efa\",\"#00cc96\",\"#00cc96\",\"#636efa\",\"#EF553B\",\"#EF553B\",\"#EF553B\",\"#00cc96\",\"#EF553B\",\"#00cc96\",\"#636efa\",\"#00cc96\",\"#00cc96\",\"#EF553B\",\"#EF553B\",\"#EF553B\",\"#EF553B\",\"#636efa\",\"#00cc96\",\"#00cc96\",\"#00cc96\",\"#636efa\",\"#EF553B\",\"#00cc96\",\"#00cc96\",\"#636efa\",\"#00cc96\",\"#636efa\",\"#00cc96\",\"#00cc96\",\"#00cc96\",\"#636efa\",\"#00cc96\",\"#636efa\",\"#00cc96\",\"#636efa\",\"#EF553B\",\"#EF553B\",\"#EF553B\",\"#EF553B\",\"#636efa\",\"#EF553B\",\"#636efa\",\"#EF553B\",\"#00cc96\",\"#00cc96\",\"#636efa\",\"#EF553B\",\"#636efa\",\"#EF553B\",\"#EF553B\",\"#636efa\",\"#00cc96\",\"#636efa\",\"#636efa\",\"#00cc96\",\"#00cc96\",\"#636efa\",\"#EF553B\",\"#00cc96\",\"#EF553B\",\"#636efa\",\"#EF553B\",\"#636efa\",\"#00cc96\",\"#00cc96\",\"#EF553B\",\"#00cc96\",\"#636efa\",\"#EF553B\",\"#636efa\",\"#00cc96\",\"#EF553B\",\"#00cc96\",\"#00cc96\",\"#EF553B\",\"#00cc96\",\"#636efa\",\"#636efa\",\"#00cc96\",\"#EF553B\",\"#00cc96\",\"#EF553B\",\"#00cc96\",\"#EF553B\",\"#636efa\",\"#00cc96\",\"#00cc96\",\"#00cc96\",\"#636efa\",\"#636efa\",\"#00cc96\",\"#00cc96\",\"#00cc96\",\"#636efa\",\"#00cc96\",\"#EF553B\",\"#00cc96\",\"#00cc96\",\"#EF553B\",\"#636efa\",\"#00cc96\",\"#00cc96\",\"#00cc96\",\"#636efa\",\"#636efa\",\"#636efa\",\"#00cc96\",\"#00cc96\",\"#00cc96\",\"#EF553B\",\"#00cc96\",\"#EF553B\",\"#00cc96\",\"#636efa\"]},\"name\":\"\",\"parents\":[\"female\\u002fFirst\\u002fwoman\\u002fyes\",\"female\\u002fThird\\u002fchild\\u002fno\",\"male\\u002fThird\\u002fchild\\u002fno\",\"male\\u002fFirst\\u002fman\\u002fno\",\"female\\u002fSecond\\u002fman\\u002fno\",\"male\\u002fThird\\u002fman\\u002fno\",\"male\\u002fFirst\\u002fwoman\\u002fno\",\"female\\u002fThird\\u002fwoman\\u002fno\",\"male\\u002fThird\\u002fwoman\\u002fno\",\"female\\u002fSecond\\u002fchild\\u002fyes\",\"female\\u002fThird\\u002fchild\\u002fyes\",\"male\\u002fFirst\\u002fman\\u002fyes\",\"\",\"female\\u002fSecond\\u002fwoman\\u002fyes\",\"male\\u002fThird\\u002fwoman\\u002fyes\",\"male\\u002fFirst\\u002fman\",\"female\\u002fThird\\u002fman\",\"female\\u002fFirst\\u002fwoman\",\"male\\u002fFirst\\u002fwoman\",\"female\\u002fThird\\u002fwoman\",\"female\\u002fSecond\\u002fman\",\"female\\u002fThird\\u002fman\",\"female\\u002fThird\\u002fwoman\",\"male\\u002fFirst\",\"male\\u002fSecond\",\"male\\u002fThird\",\"female\\u002fFirst\",\"male\\u002fThird\",\"male\\u002fSecond\",\"female\",\"male\\u002fSecond\\u002fchild\\u002fno\",\"female\\u002fSecond\\u002fchild\\u002fno\",\"\",\"male\\u002fThird\\u002fman\\u002fno\",\"male\\u002fFirst\\u002fchild\\u002fyes\",\"male\\u002fSecond\\u002fman\\u002fno\",\"female\\u002fThird\\u002fchild\\u002fyes\",\"female\\u002fThird\\u002fman\\u002fno\",\"male\\u002fSecond\\u002fchild\\u002fno\",\"female\\u002fFirst\\u002fman\\u002fyes\",\"female\\u002fFirst\\u002fchild\\u002fyes\",\"male\\u002fFirst\\u002fman\\u002fyes\",\"female\\u002fSecond\\u002fchild\\u002fno\",\"female\\u002fSecond\\u002fman\\u002fno\",\"female\\u002fSecond\\u002fwoman\\u002fyes\",\"female\\u002fThird\\u002fman\\u002fyes\",\"female\\u002fSecond\\u002fwoman\\u002fno\",\"male\\u002fFirst\\u002fwoman\\u002fyes\",\"male\\u002fFirst\\u002fchild\\u002fno\",\"male\\u002fSecond\\u002fwoman\\u002fno\",\"female\\u002fFirst\\u002fchild\",\"male\\u002fSecond\\u002fwoman\",\"female\\u002fSecond\\u002fwoman\",\"male\\u002fFirst\\u002fwoman\",\"female\\u002fFirst\\u002fwoman\",\"male\\u002fThird\\u002fman\",\"male\\u002fSecond\\u002fchild\",\"male\\u002fSecond\\u002fman\",\"male\\u002fFirst\\u002fman\",\"female\\u002fSecond\\u002fchild\",\"male\\u002fThird\\u002fchild\",\"female\\u002fThird\\u002fchild\",\"male\\u002fFirst\\u002fchild\",\"female\\u002fFirst\\u002fman\",\"male\\u002fSecond\\u002fwoman\\u002fyes\",\"female\\u002fFirst\",\"male\",\"female\",\"male\",\"male\",\"female\",\"male\\u002fThird\",\"female\\u002fThird\",\"female\\u002fSecond\",\"male\\u002fFirst\",\"male\\u002fThird\\u002fwoman\",\"female\\u002fFirst\",\"male\\u002fSecond\",\"female\\u002fSecond\",\"male\\u002fFirst\",\"female\\u002fThird\\u002fchild\\u002fno\",\"male\\u002fThird\\u002fchild\\u002fno\",\"female\\u002fThird\",\"female\\u002fFirst\\u002fman\\u002fno\",\"male\\u002fThird\\u002fwoman\",\"male\\u002fFirst\\u002fman\\u002fno\",\"female\\u002fThird\",\"female\\u002fSecond\",\"male\\u002fThird\\u002fman\",\"female\\u002fSecond\\u002fwoman\",\"male\\u002fSecond\\u002fchild\\u002fyes\",\"male\\u002fSecond\\u002fchild\\u002fyes\",\"male\\u002fFirst\\u002fchild\\u002fyes\",\"female\\u002fFirst\\u002fchild\\u002fyes\",\"male\\u002fThird\\u002fchild\\u002fyes\",\"male\\u002fSecond\\u002fwoman\\u002fno\",\"female\\u002fSecond\\u002fwoman\\u002fno\",\"female\\u002fFirst\\u002fwoman\\u002fno\",\"female\\u002fThird\\u002fman\\u002fno\",\"male\\u002fSecond\\u002fman\\u002fno\",\"female\\u002fSecond\\u002fman\\u002fyes\",\"male\\u002fSecond\\u002fman\\u002fyes\",\"female\\u002fFirst\\u002fman\\u002fno\",\"male\\u002fThird\\u002fman\\u002fyes\",\"female\\u002fFirst\\u002fwoman\\u002fyes\",\"male\\u002fFirst\\u002fchild\\u002fno\",\"female\\u002fFirst\\u002fchild\\u002fno\",\"male\\u002fThird\\u002fwoman\\u002fyes\",\"female\\u002fThird\\u002fwoman\\u002fyes\",\"female\\u002fSecond\\u002fchild\\u002fyes\",\"male\\u002fSecond\\u002fwoman\",\"male\\u002fThird\\u002fchild\\u002fyes\",\"female\\u002fSecond\\u002fman\\u002fyes\",\"female\\u002fFirst\\u002fwoman\\u002fno\",\"male\\u002fFirst\\u002fwoman\\u002fno\",\"male\\u002fSecond\\u002fman\",\"female\\u002fSecond\\u002fman\",\"female\\u002fFirst\\u002fman\",\"male\\u002fThird\\u002fchild\",\"female\\u002fThird\\u002fchild\",\"male\\u002fSecond\\u002fchild\",\"female\\u002fSecond\\u002fchild\",\"male\\u002fFirst\\u002fchild\",\"female\\u002fFirst\\u002fchild\",\"female\\u002fThird\\u002fwoman\\u002fno\",\"female\\u002fThird\\u002fwoman\\u002fyes\",\"male\\u002fSecond\\u002fwoman\\u002fyes\",\"male\\u002fThird\\u002fwoman\\u002fno\",\"male\\u002fFirst\\u002fwoman\\u002fyes\",\"male\\u002fThird\\u002fman\\u002fyes\",\"female\\u002fThird\\u002fman\\u002fyes\",\"male\\u002fSecond\\u002fman\\u002fyes\",\"female\\u002fFirst\\u002fman\\u002fyes\",\"female\\u002fFirst\\u002fchild\\u002fno\"],\"values\":[33,0,0,0,0,0,0,0,0,0,4,25,233,29,0,0,0,0,0,0,0,0,56,3,9,9,0,38,0,70,0,0,109,0,3,0,12,0,0,0,2,17,0,0,31,0,0,0,0,0,2,0,60,0,89,38,9,8,42,10,9,16,3,0,0,2,47,72,17,45,91,0,56,60,0,0,89,8,0,42,0,0,16,0,0,0,0,10,0,0,0,9,0,0,9,0,0,0,0,0,0,1,0,6,56,0,0,0,23,10,0,0,0,0,0,0,0,0,0,0,0,0,0,0,0,33,0,0,0,32,0,7,0,0],\"type\":\"sunburst\"}],                        {\"template\":{\"data\":{\"histogram2dcontour\":[{\"type\":\"histogram2dcontour\",\"colorbar\":{\"outlinewidth\":0,\"ticks\":\"\"},\"colorscale\":[[0.0,\"#0d0887\"],[0.1111111111111111,\"#46039f\"],[0.2222222222222222,\"#7201a8\"],[0.3333333333333333,\"#9c179e\"],[0.4444444444444444,\"#bd3786\"],[0.5555555555555556,\"#d8576b\"],[0.6666666666666666,\"#ed7953\"],[0.7777777777777778,\"#fb9f3a\"],[0.8888888888888888,\"#fdca26\"],[1.0,\"#f0f921\"]]}],\"choropleth\":[{\"type\":\"choropleth\",\"colorbar\":{\"outlinewidth\":0,\"ticks\":\"\"}}],\"histogram2d\":[{\"type\":\"histogram2d\",\"colorbar\":{\"outlinewidth\":0,\"ticks\":\"\"},\"colorscale\":[[0.0,\"#0d0887\"],[0.1111111111111111,\"#46039f\"],[0.2222222222222222,\"#7201a8\"],[0.3333333333333333,\"#9c179e\"],[0.4444444444444444,\"#bd3786\"],[0.5555555555555556,\"#d8576b\"],[0.6666666666666666,\"#ed7953\"],[0.7777777777777778,\"#fb9f3a\"],[0.8888888888888888,\"#fdca26\"],[1.0,\"#f0f921\"]]}],\"heatmap\":[{\"type\":\"heatmap\",\"colorbar\":{\"outlinewidth\":0,\"ticks\":\"\"},\"colorscale\":[[0.0,\"#0d0887\"],[0.1111111111111111,\"#46039f\"],[0.2222222222222222,\"#7201a8\"],[0.3333333333333333,\"#9c179e\"],[0.4444444444444444,\"#bd3786\"],[0.5555555555555556,\"#d8576b\"],[0.6666666666666666,\"#ed7953\"],[0.7777777777777778,\"#fb9f3a\"],[0.8888888888888888,\"#fdca26\"],[1.0,\"#f0f921\"]]}],\"heatmapgl\":[{\"type\":\"heatmapgl\",\"colorbar\":{\"outlinewidth\":0,\"ticks\":\"\"},\"colorscale\":[[0.0,\"#0d0887\"],[0.1111111111111111,\"#46039f\"],[0.2222222222222222,\"#7201a8\"],[0.3333333333333333,\"#9c179e\"],[0.4444444444444444,\"#bd3786\"],[0.5555555555555556,\"#d8576b\"],[0.6666666666666666,\"#ed7953\"],[0.7777777777777778,\"#fb9f3a\"],[0.8888888888888888,\"#fdca26\"],[1.0,\"#f0f921\"]]}],\"contourcarpet\":[{\"type\":\"contourcarpet\",\"colorbar\":{\"outlinewidth\":0,\"ticks\":\"\"}}],\"contour\":[{\"type\":\"contour\",\"colorbar\":{\"outlinewidth\":0,\"ticks\":\"\"},\"colorscale\":[[0.0,\"#0d0887\"],[0.1111111111111111,\"#46039f\"],[0.2222222222222222,\"#7201a8\"],[0.3333333333333333,\"#9c179e\"],[0.4444444444444444,\"#bd3786\"],[0.5555555555555556,\"#d8576b\"],[0.6666666666666666,\"#ed7953\"],[0.7777777777777778,\"#fb9f3a\"],[0.8888888888888888,\"#fdca26\"],[1.0,\"#f0f921\"]]}],\"surface\":[{\"type\":\"surface\",\"colorbar\":{\"outlinewidth\":0,\"ticks\":\"\"},\"colorscale\":[[0.0,\"#0d0887\"],[0.1111111111111111,\"#46039f\"],[0.2222222222222222,\"#7201a8\"],[0.3333333333333333,\"#9c179e\"],[0.4444444444444444,\"#bd3786\"],[0.5555555555555556,\"#d8576b\"],[0.6666666666666666,\"#ed7953\"],[0.7777777777777778,\"#fb9f3a\"],[0.8888888888888888,\"#fdca26\"],[1.0,\"#f0f921\"]]}],\"mesh3d\":[{\"type\":\"mesh3d\",\"colorbar\":{\"outlinewidth\":0,\"ticks\":\"\"}}],\"scatter\":[{\"fillpattern\":{\"fillmode\":\"overlay\",\"size\":10,\"solidity\":0.2},\"type\":\"scatter\"}],\"parcoords\":[{\"type\":\"parcoords\",\"line\":{\"colorbar\":{\"outlinewidth\":0,\"ticks\":\"\"}}}],\"scatterpolargl\":[{\"type\":\"scatterpolargl\",\"marker\":{\"colorbar\":{\"outlinewidth\":0,\"ticks\":\"\"}}}],\"bar\":[{\"error_x\":{\"color\":\"#2a3f5f\"},\"error_y\":{\"color\":\"#2a3f5f\"},\"marker\":{\"line\":{\"color\":\"#E5ECF6\",\"width\":0.5},\"pattern\":{\"fillmode\":\"overlay\",\"size\":10,\"solidity\":0.2}},\"type\":\"bar\"}],\"scattergeo\":[{\"type\":\"scattergeo\",\"marker\":{\"colorbar\":{\"outlinewidth\":0,\"ticks\":\"\"}}}],\"scatterpolar\":[{\"type\":\"scatterpolar\",\"marker\":{\"colorbar\":{\"outlinewidth\":0,\"ticks\":\"\"}}}],\"histogram\":[{\"marker\":{\"pattern\":{\"fillmode\":\"overlay\",\"size\":10,\"solidity\":0.2}},\"type\":\"histogram\"}],\"scattergl\":[{\"type\":\"scattergl\",\"marker\":{\"colorbar\":{\"outlinewidth\":0,\"ticks\":\"\"}}}],\"scatter3d\":[{\"type\":\"scatter3d\",\"line\":{\"colorbar\":{\"outlinewidth\":0,\"ticks\":\"\"}},\"marker\":{\"colorbar\":{\"outlinewidth\":0,\"ticks\":\"\"}}}],\"scattermapbox\":[{\"type\":\"scattermapbox\",\"marker\":{\"colorbar\":{\"outlinewidth\":0,\"ticks\":\"\"}}}],\"scatterternary\":[{\"type\":\"scatterternary\",\"marker\":{\"colorbar\":{\"outlinewidth\":0,\"ticks\":\"\"}}}],\"scattercarpet\":[{\"type\":\"scattercarpet\",\"marker\":{\"colorbar\":{\"outlinewidth\":0,\"ticks\":\"\"}}}],\"carpet\":[{\"aaxis\":{\"endlinecolor\":\"#2a3f5f\",\"gridcolor\":\"white\",\"linecolor\":\"white\",\"minorgridcolor\":\"white\",\"startlinecolor\":\"#2a3f5f\"},\"baxis\":{\"endlinecolor\":\"#2a3f5f\",\"gridcolor\":\"white\",\"linecolor\":\"white\",\"minorgridcolor\":\"white\",\"startlinecolor\":\"#2a3f5f\"},\"type\":\"carpet\"}],\"table\":[{\"cells\":{\"fill\":{\"color\":\"#EBF0F8\"},\"line\":{\"color\":\"white\"}},\"header\":{\"fill\":{\"color\":\"#C8D4E3\"},\"line\":{\"color\":\"white\"}},\"type\":\"table\"}],\"barpolar\":[{\"marker\":{\"line\":{\"color\":\"#E5ECF6\",\"width\":0.5},\"pattern\":{\"fillmode\":\"overlay\",\"size\":10,\"solidity\":0.2}},\"type\":\"barpolar\"}],\"pie\":[{\"automargin\":true,\"type\":\"pie\"}]},\"layout\":{\"autotypenumbers\":\"strict\",\"colorway\":[\"#636efa\",\"#EF553B\",\"#00cc96\",\"#ab63fa\",\"#FFA15A\",\"#19d3f3\",\"#FF6692\",\"#B6E880\",\"#FF97FF\",\"#FECB52\"],\"font\":{\"color\":\"#2a3f5f\"},\"hovermode\":\"closest\",\"hoverlabel\":{\"align\":\"left\"},\"paper_bgcolor\":\"white\",\"plot_bgcolor\":\"#E5ECF6\",\"polar\":{\"bgcolor\":\"#E5ECF6\",\"angularaxis\":{\"gridcolor\":\"white\",\"linecolor\":\"white\",\"ticks\":\"\"},\"radialaxis\":{\"gridcolor\":\"white\",\"linecolor\":\"white\",\"ticks\":\"\"}},\"ternary\":{\"bgcolor\":\"#E5ECF6\",\"aaxis\":{\"gridcolor\":\"white\",\"linecolor\":\"white\",\"ticks\":\"\"},\"baxis\":{\"gridcolor\":\"white\",\"linecolor\":\"white\",\"ticks\":\"\"},\"caxis\":{\"gridcolor\":\"white\",\"linecolor\":\"white\",\"ticks\":\"\"}},\"coloraxis\":{\"colorbar\":{\"outlinewidth\":0,\"ticks\":\"\"}},\"colorscale\":{\"sequential\":[[0.0,\"#0d0887\"],[0.1111111111111111,\"#46039f\"],[0.2222222222222222,\"#7201a8\"],[0.3333333333333333,\"#9c179e\"],[0.4444444444444444,\"#bd3786\"],[0.5555555555555556,\"#d8576b\"],[0.6666666666666666,\"#ed7953\"],[0.7777777777777778,\"#fb9f3a\"],[0.8888888888888888,\"#fdca26\"],[1.0,\"#f0f921\"]],\"sequentialminus\":[[0.0,\"#0d0887\"],[0.1111111111111111,\"#46039f\"],[0.2222222222222222,\"#7201a8\"],[0.3333333333333333,\"#9c179e\"],[0.4444444444444444,\"#bd3786\"],[0.5555555555555556,\"#d8576b\"],[0.6666666666666666,\"#ed7953\"],[0.7777777777777778,\"#fb9f3a\"],[0.8888888888888888,\"#fdca26\"],[1.0,\"#f0f921\"]],\"diverging\":[[0,\"#8e0152\"],[0.1,\"#c51b7d\"],[0.2,\"#de77ae\"],[0.3,\"#f1b6da\"],[0.4,\"#fde0ef\"],[0.5,\"#f7f7f7\"],[0.6,\"#e6f5d0\"],[0.7,\"#b8e186\"],[0.8,\"#7fbc41\"],[0.9,\"#4d9221\"],[1,\"#276419\"]]},\"xaxis\":{\"gridcolor\":\"white\",\"linecolor\":\"white\",\"ticks\":\"\",\"title\":{\"standoff\":15},\"zerolinecolor\":\"white\",\"automargin\":true,\"zerolinewidth\":2},\"yaxis\":{\"gridcolor\":\"white\",\"linecolor\":\"white\",\"ticks\":\"\",\"title\":{\"standoff\":15},\"zerolinecolor\":\"white\",\"automargin\":true,\"zerolinewidth\":2},\"scene\":{\"xaxis\":{\"backgroundcolor\":\"#E5ECF6\",\"gridcolor\":\"white\",\"linecolor\":\"white\",\"showbackground\":true,\"ticks\":\"\",\"zerolinecolor\":\"white\",\"gridwidth\":2},\"yaxis\":{\"backgroundcolor\":\"#E5ECF6\",\"gridcolor\":\"white\",\"linecolor\":\"white\",\"showbackground\":true,\"ticks\":\"\",\"zerolinecolor\":\"white\",\"gridwidth\":2},\"zaxis\":{\"backgroundcolor\":\"#E5ECF6\",\"gridcolor\":\"white\",\"linecolor\":\"white\",\"showbackground\":true,\"ticks\":\"\",\"zerolinecolor\":\"white\",\"gridwidth\":2}},\"shapedefaults\":{\"line\":{\"color\":\"#2a3f5f\"}},\"annotationdefaults\":{\"arrowcolor\":\"#2a3f5f\",\"arrowhead\":0,\"arrowwidth\":1},\"geo\":{\"bgcolor\":\"white\",\"landcolor\":\"#E5ECF6\",\"subunitcolor\":\"white\",\"showland\":true,\"showlakes\":true,\"lakecolor\":\"white\"},\"title\":{\"x\":0.05},\"mapbox\":{\"style\":\"light\"}}},\"legend\":{\"tracegroupgap\":0},\"margin\":{\"t\":60}},                        {\"responsive\": true}                    ).then(function(){\n",
       "                            \n",
       "var gd = document.getElementById('15ba6c30-9875-41d6-8024-db031718fc11');\n",
       "var x = new MutationObserver(function (mutations, observer) {{\n",
       "        var display = window.getComputedStyle(gd).display;\n",
       "        if (!display || display === 'none') {{\n",
       "            console.log([gd, 'removed!']);\n",
       "            Plotly.purge(gd);\n",
       "            observer.disconnect();\n",
       "        }}\n",
       "}});\n",
       "\n",
       "// Listen for the removal of the full notebook cells\n",
       "var notebookContainer = gd.closest('#notebook-container');\n",
       "if (notebookContainer) {{\n",
       "    x.observe(notebookContainer, {childList: true});\n",
       "}}\n",
       "\n",
       "// Listen for the clearing of the current output cell\n",
       "var outputEl = gd.closest('.output');\n",
       "if (outputEl) {{\n",
       "    x.observe(outputEl, {childList: true});\n",
       "}}\n",
       "\n",
       "                        })                };                });            </script>        </div>"
      ]
     },
     "metadata": {},
     "output_type": "display_data"
    }
   ],
   "source": [
    "# create sunburst plot on titanic dataset\n",
    "import plotly.express as px\n",
    "import seaborn as sns\n",
    "# Load Titanic dataset\n",
    "df = sns.load_dataset('titanic')\n",
    "# Create a sunburst plot\n",
    "fig = px.sunburst(df, \n",
    "                  path=['sex','class', 'who', 'alive', 'alone'], \n",
    "                  values='survived' , color='sex')\n",
    "# Show the plot\n",
    "fig.show()"
   ]
  },
  {
   "cell_type": "code",
   "execution_count": 7,
   "metadata": {},
   "outputs": [
    {
     "data": {
      "text/html": [
       "<div>\n",
       "<style scoped>\n",
       "    .dataframe tbody tr th:only-of-type {\n",
       "        vertical-align: middle;\n",
       "    }\n",
       "\n",
       "    .dataframe tbody tr th {\n",
       "        vertical-align: top;\n",
       "    }\n",
       "\n",
       "    .dataframe thead th {\n",
       "        text-align: right;\n",
       "    }\n",
       "</style>\n",
       "<table border=\"1\" class=\"dataframe\">\n",
       "  <thead>\n",
       "    <tr style=\"text-align: right;\">\n",
       "      <th></th>\n",
       "      <th>total_bill</th>\n",
       "      <th>tip</th>\n",
       "      <th>sex</th>\n",
       "      <th>smoker</th>\n",
       "      <th>day</th>\n",
       "      <th>time</th>\n",
       "      <th>size</th>\n",
       "    </tr>\n",
       "  </thead>\n",
       "  <tbody>\n",
       "    <tr>\n",
       "      <th>0</th>\n",
       "      <td>16.99</td>\n",
       "      <td>1.01</td>\n",
       "      <td>Female</td>\n",
       "      <td>No</td>\n",
       "      <td>Sun</td>\n",
       "      <td>Dinner</td>\n",
       "      <td>2</td>\n",
       "    </tr>\n",
       "    <tr>\n",
       "      <th>1</th>\n",
       "      <td>10.34</td>\n",
       "      <td>1.66</td>\n",
       "      <td>Male</td>\n",
       "      <td>No</td>\n",
       "      <td>Sun</td>\n",
       "      <td>Dinner</td>\n",
       "      <td>3</td>\n",
       "    </tr>\n",
       "    <tr>\n",
       "      <th>2</th>\n",
       "      <td>21.01</td>\n",
       "      <td>3.50</td>\n",
       "      <td>Male</td>\n",
       "      <td>No</td>\n",
       "      <td>Sun</td>\n",
       "      <td>Dinner</td>\n",
       "      <td>3</td>\n",
       "    </tr>\n",
       "    <tr>\n",
       "      <th>3</th>\n",
       "      <td>23.68</td>\n",
       "      <td>3.31</td>\n",
       "      <td>Male</td>\n",
       "      <td>No</td>\n",
       "      <td>Sun</td>\n",
       "      <td>Dinner</td>\n",
       "      <td>2</td>\n",
       "    </tr>\n",
       "    <tr>\n",
       "      <th>4</th>\n",
       "      <td>24.59</td>\n",
       "      <td>3.61</td>\n",
       "      <td>Female</td>\n",
       "      <td>No</td>\n",
       "      <td>Sun</td>\n",
       "      <td>Dinner</td>\n",
       "      <td>4</td>\n",
       "    </tr>\n",
       "  </tbody>\n",
       "</table>\n",
       "</div>"
      ],
      "text/plain": [
       "   total_bill   tip     sex smoker  day    time  size\n",
       "0       16.99  1.01  Female     No  Sun  Dinner     2\n",
       "1       10.34  1.66    Male     No  Sun  Dinner     3\n",
       "2       21.01  3.50    Male     No  Sun  Dinner     3\n",
       "3       23.68  3.31    Male     No  Sun  Dinner     2\n",
       "4       24.59  3.61  Female     No  Sun  Dinner     4"
      ]
     },
     "execution_count": 7,
     "metadata": {},
     "output_type": "execute_result"
    }
   ],
   "source": [
    "df_1 = sns.load_dataset('tips')\n",
    "df_1.head()"
   ]
  },
  {
   "cell_type": "code",
   "execution_count": 8,
   "metadata": {},
   "outputs": [
    {
     "name": "stderr",
     "output_type": "stream",
     "text": [
      "/home/codespace/.local/lib/python3.10/site-packages/plotly/express/_core.py:1699: FutureWarning:\n",
      "\n",
      "The default of observed=False is deprecated and will be changed to True in a future version of pandas. Pass observed=False to retain current behavior or observed=True to adopt the future default and silence this warning.\n",
      "\n",
      "/home/codespace/.local/lib/python3.10/site-packages/plotly/express/_core.py:1699: FutureWarning:\n",
      "\n",
      "The default of observed=False is deprecated and will be changed to True in a future version of pandas. Pass observed=False to retain current behavior or observed=True to adopt the future default and silence this warning.\n",
      "\n",
      "/home/codespace/.local/lib/python3.10/site-packages/plotly/express/_core.py:1699: FutureWarning:\n",
      "\n",
      "The default of observed=False is deprecated and will be changed to True in a future version of pandas. Pass observed=False to retain current behavior or observed=True to adopt the future default and silence this warning.\n",
      "\n",
      "/home/codespace/.local/lib/python3.10/site-packages/plotly/express/_core.py:1699: FutureWarning:\n",
      "\n",
      "The default of observed=False is deprecated and will be changed to True in a future version of pandas. Pass observed=False to retain current behavior or observed=True to adopt the future default and silence this warning.\n",
      "\n"
     ]
    },
    {
     "data": {
      "application/vnd.plotly.v1+json": {
       "config": {
        "plotlyServerURL": "https://plot.ly"
       },
       "data": [
        {
         "branchvalues": "total",
         "customdata": [
          [
           30.58,
           "Thur",
           "Lunch",
           "Male"
          ],
          [
           14,
           "Sun",
           "Dinner",
           "Female"
          ],
          [
           0,
           null,
           null,
           null
          ],
          [
           18.78,
           "Fri",
           "(?)",
           "Female"
          ],
          [
           0,
           null,
           null,
           null
          ],
          [
           10.8,
           "Fri",
           "Dinner",
           "Female"
          ],
          [
           5,
           "Fri",
           "Dinner",
           "Male"
          ],
          [
           0,
           null,
           null,
           null
          ],
          [
           0,
           null,
           null,
           null
          ],
          [
           485.07,
           "(?)",
           "(?)",
           "Male"
          ],
          [
           5.7,
           "Fri",
           "Lunch",
           "Male"
          ],
          [
           20.93,
           "Thur",
           "Lunch",
           "Female"
          ],
          [
           30.58,
           "Thur",
           "Lunch",
           "Male"
          ],
          [
           149.77,
           "(?)",
           "(?)",
           "Female"
          ],
          [
           58.83,
           "Thur",
           "Lunch",
           "Male"
          ],
          [
           5,
           "Fri",
           "Dinner",
           "Male"
          ],
          [
           61.49,
           "Thur",
           "(?)",
           "Female"
          ],
          [
           21.93,
           "Fri",
           "(?)",
           "Male"
          ],
          [
           77.74,
           "Sat",
           "Dinner",
           "Male"
          ],
          [
           43.03,
           "Sat",
           "Dinner",
           "Female"
          ],
          [
           104.21000000000001,
           "Sat",
           "Dinner",
           "Male"
          ],
          [
           35.42,
           "Sat",
           "Dinner",
           "Female"
          ],
          [
           52.82,
           "Sun",
           "Dinner",
           "Male"
          ],
          [
           14,
           "Sun",
           "Dinner",
           "Female"
          ],
          [
           133.96,
           "Sun",
           "Dinner",
           "Male"
          ],
          [
           46.61,
           "Sun",
           "Dinner",
           "Female"
          ],
          [
           183.07,
           "(?)",
           "(?)",
           "Male"
          ],
          [
           96.74,
           "(?)",
           "(?)",
           "Female"
          ],
          [
           302,
           "(?)",
           "(?)",
           "Male"
          ],
          [
           6.25,
           "Fri",
           "(?)",
           "Female"
          ],
          [
           46.61,
           "Sun",
           "Dinner",
           "Female"
          ],
          [
           104.21000000000001,
           "Sat",
           "Dinner",
           "Male"
          ],
          [
           52.82,
           "Sun",
           "Dinner",
           "Male"
          ],
          [
           20.93,
           "Thur",
           "Lunch",
           "Female"
          ],
          [
           58.83,
           "Thur",
           "Lunch",
           "Male"
          ],
          [
           58.49,
           "Thur",
           "Lunch",
           "Female"
          ],
          [
           7.98,
           "Fri",
           "Lunch",
           "Female"
          ],
          [
           0,
           null,
           null,
           null
          ],
          [
           3,
           "Fri",
           "Lunch",
           "Female"
          ],
          [
           0,
           null,
           null,
           null
          ],
          [
           0,
           null,
           null,
           null
          ],
          [
           0,
           null,
           null,
           null
          ],
          [
           0,
           null,
           null,
           null
          ],
          [
           0,
           null,
           null,
           null
          ],
          [
           0,
           null,
           null,
           null
          ],
          [
           0,
           null,
           null,
           null
          ],
          [
           3,
           "Thur",
           "Dinner",
           "Female"
          ],
          [
           16.23,
           "Fri",
           "Dinner",
           "Male"
          ],
          [
           3.25,
           "Fri",
           "Dinner",
           "Female"
          ],
          [
           77.74,
           "Sat",
           "Dinner",
           "Male"
          ],
          [
           43.03,
           "Sat",
           "Dinner",
           "Female"
          ],
          [
           35.42,
           "Sat",
           "Dinner",
           "Female"
          ],
          [
           133.96,
           "Sun",
           "Dinner",
           "Male"
          ],
          [
           246.51,
           "(?)",
           "(?)",
           "Female"
          ]
         ],
         "domain": {
          "x": [
           0,
           1
          ],
          "y": [
           0,
           1
          ]
         },
         "hovertemplate": "labels=%{label}<br>tip=%{customdata[0]}<br>parent=%{parent}<br>id=%{id}<br>day=%{customdata[1]}<br>time=%{customdata[2]}<br>sex=%{customdata[3]}<extra></extra>",
         "ids": [
          "Male/Yes/Thur/Lunch",
          "Female/Yes/Sun/Dinner",
          "Male/No/Sun/Lunch",
          "Female/Yes/Fri",
          "Female/No/Sat/Lunch",
          "Female/Yes/Fri/Dinner",
          "Male/No/Fri/Dinner",
          "Male/Yes/Thur/Dinner",
          "Male/No/Thur/Dinner",
          "Male",
          "Male/Yes/Fri/Lunch",
          "Female/Yes/Thur",
          "Male/Yes/Thur",
          "Female/No",
          "Male/No/Thur",
          "Male/No/Fri",
          "Female/No/Thur",
          "Male/Yes/Fri",
          "Male/Yes/Sat",
          "Female/Yes/Sat",
          "Male/No/Sat",
          "Female/No/Sat",
          "Male/Yes/Sun",
          "Female/Yes/Sun",
          "Male/No/Sun",
          "Female/No/Sun",
          "Male/Yes",
          "Female/Yes",
          "Male/No",
          "Female/No/Fri",
          "Female/No/Sun/Dinner",
          "Male/No/Sat/Dinner",
          "Male/Yes/Sun/Dinner",
          "Female/Yes/Thur/Lunch",
          "Male/No/Thur/Lunch",
          "Female/No/Thur/Lunch",
          "Female/Yes/Fri/Lunch",
          "Male/No/Fri/Lunch",
          "Female/No/Fri/Lunch",
          "Male/Yes/Sat/Lunch",
          "Female/Yes/Sat/Lunch",
          "Male/No/Sat/Lunch",
          "Male/Yes/Sun/Lunch",
          "Female/Yes/Sun/Lunch",
          "Female/No/Sun/Lunch",
          "Female/Yes/Thur/Dinner",
          "Female/No/Thur/Dinner",
          "Male/Yes/Fri/Dinner",
          "Female/No/Fri/Dinner",
          "Male/Yes/Sat/Dinner",
          "Female/Yes/Sat/Dinner",
          "Female/No/Sat/Dinner",
          "Male/No/Sun/Dinner",
          "Female"
         ],
         "labels": [
          "Lunch",
          "Dinner",
          "Lunch",
          "Fri",
          "Lunch",
          "Dinner",
          "Dinner",
          "Dinner",
          "Dinner",
          "Male",
          "Lunch",
          "Thur",
          "Thur",
          "No",
          "Thur",
          "Fri",
          "Thur",
          "Fri",
          "Sat",
          "Sat",
          "Sat",
          "Sat",
          "Sun",
          "Sun",
          "Sun",
          "Sun",
          "Yes",
          "Yes",
          "No",
          "Fri",
          "Dinner",
          "Dinner",
          "Dinner",
          "Lunch",
          "Lunch",
          "Lunch",
          "Lunch",
          "Lunch",
          "Lunch",
          "Lunch",
          "Lunch",
          "Lunch",
          "Lunch",
          "Lunch",
          "Lunch",
          "Dinner",
          "Dinner",
          "Dinner",
          "Dinner",
          "Dinner",
          "Dinner",
          "Dinner",
          "Dinner",
          "Female"
         ],
         "marker": {
          "colors": [
           "#636efa",
           "#EF553B",
           "#00cc96",
           "#EF553B",
           "#00cc96",
           "#EF553B",
           "#636efa",
           "#00cc96",
           "#00cc96",
           "#636efa",
           "#636efa",
           "#EF553B",
           "#636efa",
           "#EF553B",
           "#636efa",
           "#636efa",
           "#EF553B",
           "#636efa",
           "#636efa",
           "#EF553B",
           "#636efa",
           "#EF553B",
           "#636efa",
           "#EF553B",
           "#636efa",
           "#EF553B",
           "#636efa",
           "#EF553B",
           "#636efa",
           "#EF553B",
           "#EF553B",
           "#636efa",
           "#636efa",
           "#EF553B",
           "#636efa",
           "#EF553B",
           "#EF553B",
           "#00cc96",
           "#EF553B",
           "#00cc96",
           "#00cc96",
           "#00cc96",
           "#00cc96",
           "#00cc96",
           "#00cc96",
           "#00cc96",
           "#EF553B",
           "#636efa",
           "#EF553B",
           "#636efa",
           "#EF553B",
           "#EF553B",
           "#636efa",
           "#EF553B"
          ]
         },
         "name": "",
         "parents": [
          "Male/Yes/Thur",
          "Female/Yes/Sun",
          "Male/No/Sun",
          "Female/Yes",
          "Female/No/Sat",
          "Female/Yes/Fri",
          "Male/No/Fri",
          "Male/Yes/Thur",
          "Male/No/Thur",
          "",
          "Male/Yes/Fri",
          "Female/Yes",
          "Male/Yes",
          "Female",
          "Male/No",
          "Male/No",
          "Female/No",
          "Male/Yes",
          "Male/Yes",
          "Female/Yes",
          "Male/No",
          "Female/No",
          "Male/Yes",
          "Female/Yes",
          "Male/No",
          "Female/No",
          "Male",
          "Female",
          "Male",
          "Female/No",
          "Female/No/Sun",
          "Male/No/Sat",
          "Male/Yes/Sun",
          "Female/Yes/Thur",
          "Male/No/Thur",
          "Female/No/Thur",
          "Female/Yes/Fri",
          "Male/No/Fri",
          "Female/No/Fri",
          "Male/Yes/Sat",
          "Female/Yes/Sat",
          "Male/No/Sat",
          "Male/Yes/Sun",
          "Female/Yes/Sun",
          "Female/No/Sun",
          "Female/Yes/Thur",
          "Female/No/Thur",
          "Male/Yes/Fri",
          "Female/No/Fri",
          "Male/Yes/Sat",
          "Female/Yes/Sat",
          "Female/No/Sat",
          "Male/No/Sun",
          ""
         ],
         "type": "sunburst",
         "values": [
          30.58,
          14,
          0,
          18.78,
          0,
          10.8,
          5,
          0,
          0,
          485.07,
          5.7,
          20.93,
          30.58,
          149.77,
          58.83,
          5,
          61.49,
          21.93,
          77.74,
          43.03,
          104.21000000000001,
          35.42,
          52.82,
          14,
          133.96,
          46.61,
          183.07,
          96.74,
          302,
          6.25,
          46.61,
          104.21000000000001,
          52.82,
          20.93,
          58.83,
          58.49,
          7.98,
          0,
          3,
          0,
          0,
          0,
          0,
          0,
          0,
          0,
          3,
          16.23,
          3.25,
          77.74,
          43.03,
          35.42,
          133.96,
          246.51
         ]
        }
       ],
       "layout": {
        "autosize": true,
        "legend": {
         "tracegroupgap": 0
        },
        "margin": {
         "t": 60
        },
        "template": {
         "data": {
          "bar": [
           {
            "error_x": {
             "color": "#2a3f5f"
            },
            "error_y": {
             "color": "#2a3f5f"
            },
            "marker": {
             "line": {
              "color": "#E5ECF6",
              "width": 0.5
             },
             "pattern": {
              "fillmode": "overlay",
              "size": 10,
              "solidity": 0.2
             }
            },
            "type": "bar"
           }
          ],
          "barpolar": [
           {
            "marker": {
             "line": {
              "color": "#E5ECF6",
              "width": 0.5
             },
             "pattern": {
              "fillmode": "overlay",
              "size": 10,
              "solidity": 0.2
             }
            },
            "type": "barpolar"
           }
          ],
          "carpet": [
           {
            "aaxis": {
             "endlinecolor": "#2a3f5f",
             "gridcolor": "white",
             "linecolor": "white",
             "minorgridcolor": "white",
             "startlinecolor": "#2a3f5f"
            },
            "baxis": {
             "endlinecolor": "#2a3f5f",
             "gridcolor": "white",
             "linecolor": "white",
             "minorgridcolor": "white",
             "startlinecolor": "#2a3f5f"
            },
            "type": "carpet"
           }
          ],
          "choropleth": [
           {
            "colorbar": {
             "outlinewidth": 0,
             "ticks": ""
            },
            "type": "choropleth"
           }
          ],
          "contour": [
           {
            "colorbar": {
             "outlinewidth": 0,
             "ticks": ""
            },
            "colorscale": [
             [
              0,
              "#0d0887"
             ],
             [
              0.1111111111111111,
              "#46039f"
             ],
             [
              0.2222222222222222,
              "#7201a8"
             ],
             [
              0.3333333333333333,
              "#9c179e"
             ],
             [
              0.4444444444444444,
              "#bd3786"
             ],
             [
              0.5555555555555556,
              "#d8576b"
             ],
             [
              0.6666666666666666,
              "#ed7953"
             ],
             [
              0.7777777777777778,
              "#fb9f3a"
             ],
             [
              0.8888888888888888,
              "#fdca26"
             ],
             [
              1,
              "#f0f921"
             ]
            ],
            "type": "contour"
           }
          ],
          "contourcarpet": [
           {
            "colorbar": {
             "outlinewidth": 0,
             "ticks": ""
            },
            "type": "contourcarpet"
           }
          ],
          "heatmap": [
           {
            "colorbar": {
             "outlinewidth": 0,
             "ticks": ""
            },
            "colorscale": [
             [
              0,
              "#0d0887"
             ],
             [
              0.1111111111111111,
              "#46039f"
             ],
             [
              0.2222222222222222,
              "#7201a8"
             ],
             [
              0.3333333333333333,
              "#9c179e"
             ],
             [
              0.4444444444444444,
              "#bd3786"
             ],
             [
              0.5555555555555556,
              "#d8576b"
             ],
             [
              0.6666666666666666,
              "#ed7953"
             ],
             [
              0.7777777777777778,
              "#fb9f3a"
             ],
             [
              0.8888888888888888,
              "#fdca26"
             ],
             [
              1,
              "#f0f921"
             ]
            ],
            "type": "heatmap"
           }
          ],
          "heatmapgl": [
           {
            "colorbar": {
             "outlinewidth": 0,
             "ticks": ""
            },
            "colorscale": [
             [
              0,
              "#0d0887"
             ],
             [
              0.1111111111111111,
              "#46039f"
             ],
             [
              0.2222222222222222,
              "#7201a8"
             ],
             [
              0.3333333333333333,
              "#9c179e"
             ],
             [
              0.4444444444444444,
              "#bd3786"
             ],
             [
              0.5555555555555556,
              "#d8576b"
             ],
             [
              0.6666666666666666,
              "#ed7953"
             ],
             [
              0.7777777777777778,
              "#fb9f3a"
             ],
             [
              0.8888888888888888,
              "#fdca26"
             ],
             [
              1,
              "#f0f921"
             ]
            ],
            "type": "heatmapgl"
           }
          ],
          "histogram": [
           {
            "marker": {
             "pattern": {
              "fillmode": "overlay",
              "size": 10,
              "solidity": 0.2
             }
            },
            "type": "histogram"
           }
          ],
          "histogram2d": [
           {
            "colorbar": {
             "outlinewidth": 0,
             "ticks": ""
            },
            "colorscale": [
             [
              0,
              "#0d0887"
             ],
             [
              0.1111111111111111,
              "#46039f"
             ],
             [
              0.2222222222222222,
              "#7201a8"
             ],
             [
              0.3333333333333333,
              "#9c179e"
             ],
             [
              0.4444444444444444,
              "#bd3786"
             ],
             [
              0.5555555555555556,
              "#d8576b"
             ],
             [
              0.6666666666666666,
              "#ed7953"
             ],
             [
              0.7777777777777778,
              "#fb9f3a"
             ],
             [
              0.8888888888888888,
              "#fdca26"
             ],
             [
              1,
              "#f0f921"
             ]
            ],
            "type": "histogram2d"
           }
          ],
          "histogram2dcontour": [
           {
            "colorbar": {
             "outlinewidth": 0,
             "ticks": ""
            },
            "colorscale": [
             [
              0,
              "#0d0887"
             ],
             [
              0.1111111111111111,
              "#46039f"
             ],
             [
              0.2222222222222222,
              "#7201a8"
             ],
             [
              0.3333333333333333,
              "#9c179e"
             ],
             [
              0.4444444444444444,
              "#bd3786"
             ],
             [
              0.5555555555555556,
              "#d8576b"
             ],
             [
              0.6666666666666666,
              "#ed7953"
             ],
             [
              0.7777777777777778,
              "#fb9f3a"
             ],
             [
              0.8888888888888888,
              "#fdca26"
             ],
             [
              1,
              "#f0f921"
             ]
            ],
            "type": "histogram2dcontour"
           }
          ],
          "mesh3d": [
           {
            "colorbar": {
             "outlinewidth": 0,
             "ticks": ""
            },
            "type": "mesh3d"
           }
          ],
          "parcoords": [
           {
            "line": {
             "colorbar": {
              "outlinewidth": 0,
              "ticks": ""
             }
            },
            "type": "parcoords"
           }
          ],
          "pie": [
           {
            "automargin": true,
            "type": "pie"
           }
          ],
          "scatter": [
           {
            "fillpattern": {
             "fillmode": "overlay",
             "size": 10,
             "solidity": 0.2
            },
            "type": "scatter"
           }
          ],
          "scatter3d": [
           {
            "line": {
             "colorbar": {
              "outlinewidth": 0,
              "ticks": ""
             }
            },
            "marker": {
             "colorbar": {
              "outlinewidth": 0,
              "ticks": ""
             }
            },
            "type": "scatter3d"
           }
          ],
          "scattercarpet": [
           {
            "marker": {
             "colorbar": {
              "outlinewidth": 0,
              "ticks": ""
             }
            },
            "type": "scattercarpet"
           }
          ],
          "scattergeo": [
           {
            "marker": {
             "colorbar": {
              "outlinewidth": 0,
              "ticks": ""
             }
            },
            "type": "scattergeo"
           }
          ],
          "scattergl": [
           {
            "marker": {
             "colorbar": {
              "outlinewidth": 0,
              "ticks": ""
             }
            },
            "type": "scattergl"
           }
          ],
          "scattermapbox": [
           {
            "marker": {
             "colorbar": {
              "outlinewidth": 0,
              "ticks": ""
             }
            },
            "type": "scattermapbox"
           }
          ],
          "scatterpolar": [
           {
            "marker": {
             "colorbar": {
              "outlinewidth": 0,
              "ticks": ""
             }
            },
            "type": "scatterpolar"
           }
          ],
          "scatterpolargl": [
           {
            "marker": {
             "colorbar": {
              "outlinewidth": 0,
              "ticks": ""
             }
            },
            "type": "scatterpolargl"
           }
          ],
          "scatterternary": [
           {
            "marker": {
             "colorbar": {
              "outlinewidth": 0,
              "ticks": ""
             }
            },
            "type": "scatterternary"
           }
          ],
          "surface": [
           {
            "colorbar": {
             "outlinewidth": 0,
             "ticks": ""
            },
            "colorscale": [
             [
              0,
              "#0d0887"
             ],
             [
              0.1111111111111111,
              "#46039f"
             ],
             [
              0.2222222222222222,
              "#7201a8"
             ],
             [
              0.3333333333333333,
              "#9c179e"
             ],
             [
              0.4444444444444444,
              "#bd3786"
             ],
             [
              0.5555555555555556,
              "#d8576b"
             ],
             [
              0.6666666666666666,
              "#ed7953"
             ],
             [
              0.7777777777777778,
              "#fb9f3a"
             ],
             [
              0.8888888888888888,
              "#fdca26"
             ],
             [
              1,
              "#f0f921"
             ]
            ],
            "type": "surface"
           }
          ],
          "table": [
           {
            "cells": {
             "fill": {
              "color": "#EBF0F8"
             },
             "line": {
              "color": "white"
             }
            },
            "header": {
             "fill": {
              "color": "#C8D4E3"
             },
             "line": {
              "color": "white"
             }
            },
            "type": "table"
           }
          ]
         },
         "layout": {
          "annotationdefaults": {
           "arrowcolor": "#2a3f5f",
           "arrowhead": 0,
           "arrowwidth": 1
          },
          "autotypenumbers": "strict",
          "coloraxis": {
           "colorbar": {
            "outlinewidth": 0,
            "ticks": ""
           }
          },
          "colorscale": {
           "diverging": [
            [
             0,
             "#8e0152"
            ],
            [
             0.1,
             "#c51b7d"
            ],
            [
             0.2,
             "#de77ae"
            ],
            [
             0.3,
             "#f1b6da"
            ],
            [
             0.4,
             "#fde0ef"
            ],
            [
             0.5,
             "#f7f7f7"
            ],
            [
             0.6,
             "#e6f5d0"
            ],
            [
             0.7,
             "#b8e186"
            ],
            [
             0.8,
             "#7fbc41"
            ],
            [
             0.9,
             "#4d9221"
            ],
            [
             1,
             "#276419"
            ]
           ],
           "sequential": [
            [
             0,
             "#0d0887"
            ],
            [
             0.1111111111111111,
             "#46039f"
            ],
            [
             0.2222222222222222,
             "#7201a8"
            ],
            [
             0.3333333333333333,
             "#9c179e"
            ],
            [
             0.4444444444444444,
             "#bd3786"
            ],
            [
             0.5555555555555556,
             "#d8576b"
            ],
            [
             0.6666666666666666,
             "#ed7953"
            ],
            [
             0.7777777777777778,
             "#fb9f3a"
            ],
            [
             0.8888888888888888,
             "#fdca26"
            ],
            [
             1,
             "#f0f921"
            ]
           ],
           "sequentialminus": [
            [
             0,
             "#0d0887"
            ],
            [
             0.1111111111111111,
             "#46039f"
            ],
            [
             0.2222222222222222,
             "#7201a8"
            ],
            [
             0.3333333333333333,
             "#9c179e"
            ],
            [
             0.4444444444444444,
             "#bd3786"
            ],
            [
             0.5555555555555556,
             "#d8576b"
            ],
            [
             0.6666666666666666,
             "#ed7953"
            ],
            [
             0.7777777777777778,
             "#fb9f3a"
            ],
            [
             0.8888888888888888,
             "#fdca26"
            ],
            [
             1,
             "#f0f921"
            ]
           ]
          },
          "colorway": [
           "#636efa",
           "#EF553B",
           "#00cc96",
           "#ab63fa",
           "#FFA15A",
           "#19d3f3",
           "#FF6692",
           "#B6E880",
           "#FF97FF",
           "#FECB52"
          ],
          "font": {
           "color": "#2a3f5f"
          },
          "geo": {
           "bgcolor": "white",
           "lakecolor": "white",
           "landcolor": "#E5ECF6",
           "showlakes": true,
           "showland": true,
           "subunitcolor": "white"
          },
          "hoverlabel": {
           "align": "left"
          },
          "hovermode": "closest",
          "mapbox": {
           "style": "light"
          },
          "paper_bgcolor": "white",
          "plot_bgcolor": "#E5ECF6",
          "polar": {
           "angularaxis": {
            "gridcolor": "white",
            "linecolor": "white",
            "ticks": ""
           },
           "bgcolor": "#E5ECF6",
           "radialaxis": {
            "gridcolor": "white",
            "linecolor": "white",
            "ticks": ""
           }
          },
          "scene": {
           "xaxis": {
            "backgroundcolor": "#E5ECF6",
            "gridcolor": "white",
            "gridwidth": 2,
            "linecolor": "white",
            "showbackground": true,
            "ticks": "",
            "zerolinecolor": "white"
           },
           "yaxis": {
            "backgroundcolor": "#E5ECF6",
            "gridcolor": "white",
            "gridwidth": 2,
            "linecolor": "white",
            "showbackground": true,
            "ticks": "",
            "zerolinecolor": "white"
           },
           "zaxis": {
            "backgroundcolor": "#E5ECF6",
            "gridcolor": "white",
            "gridwidth": 2,
            "linecolor": "white",
            "showbackground": true,
            "ticks": "",
            "zerolinecolor": "white"
           }
          },
          "shapedefaults": {
           "line": {
            "color": "#2a3f5f"
           }
          },
          "ternary": {
           "aaxis": {
            "gridcolor": "white",
            "linecolor": "white",
            "ticks": ""
           },
           "baxis": {
            "gridcolor": "white",
            "linecolor": "white",
            "ticks": ""
           },
           "bgcolor": "#E5ECF6",
           "caxis": {
            "gridcolor": "white",
            "linecolor": "white",
            "ticks": ""
           }
          },
          "title": {
           "x": 0.05
          },
          "xaxis": {
           "automargin": true,
           "gridcolor": "white",
           "linecolor": "white",
           "ticks": "",
           "title": {
            "standoff": 15
           },
           "zerolinecolor": "white",
           "zerolinewidth": 2
          },
          "yaxis": {
           "automargin": true,
           "gridcolor": "white",
           "linecolor": "white",
           "ticks": "",
           "title": {
            "standoff": 15
           },
           "zerolinecolor": "white",
           "zerolinewidth": 2
          }
         }
        }
       }
      },
      "image/png": "[encoded data removed]",
      "text/html": [
       "<div>                            <div id=\"9d6c58f6-5432-4bad-9fb9-7fb3a5cf4428\" class=\"plotly-graph-div\" style=\"height:525px; width:100%;\"></div>            <script type=\"text/javascript\">                require([\"plotly\"], function(Plotly) {                    window.PLOTLYENV=window.PLOTLYENV || {};                                    if (document.getElementById(\"9d6c58f6-5432-4bad-9fb9-7fb3a5cf4428\")) {                    Plotly.newPlot(                        \"9d6c58f6-5432-4bad-9fb9-7fb3a5cf4428\",                        [{\"branchvalues\":\"total\",\"customdata\":[[30.58,\"Thur\",\"Lunch\",\"Male\"],[14.0,\"Sun\",\"Dinner\",\"Female\"],[0.0,null,null,null],[18.78,\"Fri\",\"(?)\",\"Female\"],[0.0,null,null,null],[10.8,\"Fri\",\"Dinner\",\"Female\"],[5.0,\"Fri\",\"Dinner\",\"Male\"],[0.0,null,null,null],[0.0,null,null,null],[485.07,\"(?)\",\"(?)\",\"Male\"],[5.7,\"Fri\",\"Lunch\",\"Male\"],[20.93,\"Thur\",\"Lunch\",\"Female\"],[30.58,\"Thur\",\"Lunch\",\"Male\"],[149.77,\"(?)\",\"(?)\",\"Female\"],[58.83,\"Thur\",\"Lunch\",\"Male\"],[5.0,\"Fri\",\"Dinner\",\"Male\"],[61.49,\"Thur\",\"(?)\",\"Female\"],[21.93,\"Fri\",\"(?)\",\"Male\"],[77.74,\"Sat\",\"Dinner\",\"Male\"],[43.03,\"Sat\",\"Dinner\",\"Female\"],[104.21000000000001,\"Sat\",\"Dinner\",\"Male\"],[35.42,\"Sat\",\"Dinner\",\"Female\"],[52.82,\"Sun\",\"Dinner\",\"Male\"],[14.0,\"Sun\",\"Dinner\",\"Female\"],[133.96,\"Sun\",\"Dinner\",\"Male\"],[46.61,\"Sun\",\"Dinner\",\"Female\"],[183.07,\"(?)\",\"(?)\",\"Male\"],[96.74,\"(?)\",\"(?)\",\"Female\"],[302.0,\"(?)\",\"(?)\",\"Male\"],[6.25,\"Fri\",\"(?)\",\"Female\"],[46.61,\"Sun\",\"Dinner\",\"Female\"],[104.21000000000001,\"Sat\",\"Dinner\",\"Male\"],[52.82,\"Sun\",\"Dinner\",\"Male\"],[20.93,\"Thur\",\"Lunch\",\"Female\"],[58.83,\"Thur\",\"Lunch\",\"Male\"],[58.49,\"Thur\",\"Lunch\",\"Female\"],[7.98,\"Fri\",\"Lunch\",\"Female\"],[0.0,null,null,null],[3.0,\"Fri\",\"Lunch\",\"Female\"],[0.0,null,null,null],[0.0,null,null,null],[0.0,null,null,null],[0.0,null,null,null],[0.0,null,null,null],[0.0,null,null,null],[0.0,null,null,null],[3.0,\"Thur\",\"Dinner\",\"Female\"],[16.23,\"Fri\",\"Dinner\",\"Male\"],[3.25,\"Fri\",\"Dinner\",\"Female\"],[77.74,\"Sat\",\"Dinner\",\"Male\"],[43.03,\"Sat\",\"Dinner\",\"Female\"],[35.42,\"Sat\",\"Dinner\",\"Female\"],[133.96,\"Sun\",\"Dinner\",\"Male\"],[246.51,\"(?)\",\"(?)\",\"Female\"]],\"domain\":{\"x\":[0.0,1.0],\"y\":[0.0,1.0]},\"hovertemplate\":\"labels=%{label}\\u003cbr\\u003etip=%{customdata[0]}\\u003cbr\\u003eparent=%{parent}\\u003cbr\\u003eid=%{id}\\u003cbr\\u003eday=%{customdata[1]}\\u003cbr\\u003etime=%{customdata[2]}\\u003cbr\\u003esex=%{customdata[3]}\\u003cextra\\u003e\\u003c\\u002fextra\\u003e\",\"ids\":[\"Male\\u002fYes\\u002fThur\\u002fLunch\",\"Female\\u002fYes\\u002fSun\\u002fDinner\",\"Male\\u002fNo\\u002fSun\\u002fLunch\",\"Female\\u002fYes\\u002fFri\",\"Female\\u002fNo\\u002fSat\\u002fLunch\",\"Female\\u002fYes\\u002fFri\\u002fDinner\",\"Male\\u002fNo\\u002fFri\\u002fDinner\",\"Male\\u002fYes\\u002fThur\\u002fDinner\",\"Male\\u002fNo\\u002fThur\\u002fDinner\",\"Male\",\"Male\\u002fYes\\u002fFri\\u002fLunch\",\"Female\\u002fYes\\u002fThur\",\"Male\\u002fYes\\u002fThur\",\"Female\\u002fNo\",\"Male\\u002fNo\\u002fThur\",\"Male\\u002fNo\\u002fFri\",\"Female\\u002fNo\\u002fThur\",\"Male\\u002fYes\\u002fFri\",\"Male\\u002fYes\\u002fSat\",\"Female\\u002fYes\\u002fSat\",\"Male\\u002fNo\\u002fSat\",\"Female\\u002fNo\\u002fSat\",\"Male\\u002fYes\\u002fSun\",\"Female\\u002fYes\\u002fSun\",\"Male\\u002fNo\\u002fSun\",\"Female\\u002fNo\\u002fSun\",\"Male\\u002fYes\",\"Female\\u002fYes\",\"Male\\u002fNo\",\"Female\\u002fNo\\u002fFri\",\"Female\\u002fNo\\u002fSun\\u002fDinner\",\"Male\\u002fNo\\u002fSat\\u002fDinner\",\"Male\\u002fYes\\u002fSun\\u002fDinner\",\"Female\\u002fYes\\u002fThur\\u002fLunch\",\"Male\\u002fNo\\u002fThur\\u002fLunch\",\"Female\\u002fNo\\u002fThur\\u002fLunch\",\"Female\\u002fYes\\u002fFri\\u002fLunch\",\"Male\\u002fNo\\u002fFri\\u002fLunch\",\"Female\\u002fNo\\u002fFri\\u002fLunch\",\"Male\\u002fYes\\u002fSat\\u002fLunch\",\"Female\\u002fYes\\u002fSat\\u002fLunch\",\"Male\\u002fNo\\u002fSat\\u002fLunch\",\"Male\\u002fYes\\u002fSun\\u002fLunch\",\"Female\\u002fYes\\u002fSun\\u002fLunch\",\"Female\\u002fNo\\u002fSun\\u002fLunch\",\"Female\\u002fYes\\u002fThur\\u002fDinner\",\"Female\\u002fNo\\u002fThur\\u002fDinner\",\"Male\\u002fYes\\u002fFri\\u002fDinner\",\"Female\\u002fNo\\u002fFri\\u002fDinner\",\"Male\\u002fYes\\u002fSat\\u002fDinner\",\"Female\\u002fYes\\u002fSat\\u002fDinner\",\"Female\\u002fNo\\u002fSat\\u002fDinner\",\"Male\\u002fNo\\u002fSun\\u002fDinner\",\"Female\"],\"labels\":[\"Lunch\",\"Dinner\",\"Lunch\",\"Fri\",\"Lunch\",\"Dinner\",\"Dinner\",\"Dinner\",\"Dinner\",\"Male\",\"Lunch\",\"Thur\",\"Thur\",\"No\",\"Thur\",\"Fri\",\"Thur\",\"Fri\",\"Sat\",\"Sat\",\"Sat\",\"Sat\",\"Sun\",\"Sun\",\"Sun\",\"Sun\",\"Yes\",\"Yes\",\"No\",\"Fri\",\"Dinner\",\"Dinner\",\"Dinner\",\"Lunch\",\"Lunch\",\"Lunch\",\"Lunch\",\"Lunch\",\"Lunch\",\"Lunch\",\"Lunch\",\"Lunch\",\"Lunch\",\"Lunch\",\"Lunch\",\"Dinner\",\"Dinner\",\"Dinner\",\"Dinner\",\"Dinner\",\"Dinner\",\"Dinner\",\"Dinner\",\"Female\"],\"marker\":{\"colors\":[\"#636efa\",\"#EF553B\",\"#00cc96\",\"#EF553B\",\"#00cc96\",\"#EF553B\",\"#636efa\",\"#00cc96\",\"#00cc96\",\"#636efa\",\"#636efa\",\"#EF553B\",\"#636efa\",\"#EF553B\",\"#636efa\",\"#636efa\",\"#EF553B\",\"#636efa\",\"#636efa\",\"#EF553B\",\"#636efa\",\"#EF553B\",\"#636efa\",\"#EF553B\",\"#636efa\",\"#EF553B\",\"#636efa\",\"#EF553B\",\"#636efa\",\"#EF553B\",\"#EF553B\",\"#636efa\",\"#636efa\",\"#EF553B\",\"#636efa\",\"#EF553B\",\"#EF553B\",\"#00cc96\",\"#EF553B\",\"#00cc96\",\"#00cc96\",\"#00cc96\",\"#00cc96\",\"#00cc96\",\"#00cc96\",\"#00cc96\",\"#EF553B\",\"#636efa\",\"#EF553B\",\"#636efa\",\"#EF553B\",\"#EF553B\",\"#636efa\",\"#EF553B\"]},\"name\":\"\",\"parents\":[\"Male\\u002fYes\\u002fThur\",\"Female\\u002fYes\\u002fSun\",\"Male\\u002fNo\\u002fSun\",\"Female\\u002fYes\",\"Female\\u002fNo\\u002fSat\",\"Female\\u002fYes\\u002fFri\",\"Male\\u002fNo\\u002fFri\",\"Male\\u002fYes\\u002fThur\",\"Male\\u002fNo\\u002fThur\",\"\",\"Male\\u002fYes\\u002fFri\",\"Female\\u002fYes\",\"Male\\u002fYes\",\"Female\",\"Male\\u002fNo\",\"Male\\u002fNo\",\"Female\\u002fNo\",\"Male\\u002fYes\",\"Male\\u002fYes\",\"Female\\u002fYes\",\"Male\\u002fNo\",\"Female\\u002fNo\",\"Male\\u002fYes\",\"Female\\u002fYes\",\"Male\\u002fNo\",\"Female\\u002fNo\",\"Male\",\"Female\",\"Male\",\"Female\\u002fNo\",\"Female\\u002fNo\\u002fSun\",\"Male\\u002fNo\\u002fSat\",\"Male\\u002fYes\\u002fSun\",\"Female\\u002fYes\\u002fThur\",\"Male\\u002fNo\\u002fThur\",\"Female\\u002fNo\\u002fThur\",\"Female\\u002fYes\\u002fFri\",\"Male\\u002fNo\\u002fFri\",\"Female\\u002fNo\\u002fFri\",\"Male\\u002fYes\\u002fSat\",\"Female\\u002fYes\\u002fSat\",\"Male\\u002fNo\\u002fSat\",\"Male\\u002fYes\\u002fSun\",\"Female\\u002fYes\\u002fSun\",\"Female\\u002fNo\\u002fSun\",\"Female\\u002fYes\\u002fThur\",\"Female\\u002fNo\\u002fThur\",\"Male\\u002fYes\\u002fFri\",\"Female\\u002fNo\\u002fFri\",\"Male\\u002fYes\\u002fSat\",\"Female\\u002fYes\\u002fSat\",\"Female\\u002fNo\\u002fSat\",\"Male\\u002fNo\\u002fSun\",\"\"],\"values\":[30.58,14.0,0.0,18.78,0.0,10.8,5.0,0.0,0.0,485.07,5.7,20.93,30.58,149.77,58.83,5.0,61.49,21.93,77.74,43.03,104.21000000000001,35.42,52.82,14.0,133.96,46.61,183.07,96.74,302.0,6.25,46.61,104.21000000000001,52.82,20.93,58.83,58.49,7.98,0.0,3.0,0.0,0.0,0.0,0.0,0.0,0.0,0.0,3.0,16.23,3.25,77.74,43.03,35.42,133.96,246.51],\"type\":\"sunburst\"}],                        {\"template\":{\"data\":{\"histogram2dcontour\":[{\"type\":\"histogram2dcontour\",\"colorbar\":{\"outlinewidth\":0,\"ticks\":\"\"},\"colorscale\":[[0.0,\"#0d0887\"],[0.1111111111111111,\"#46039f\"],[0.2222222222222222,\"#7201a8\"],[0.3333333333333333,\"#9c179e\"],[0.4444444444444444,\"#bd3786\"],[0.5555555555555556,\"#d8576b\"],[0.6666666666666666,\"#ed7953\"],[0.7777777777777778,\"#fb9f3a\"],[0.8888888888888888,\"#fdca26\"],[1.0,\"#f0f921\"]]}],\"choropleth\":[{\"type\":\"choropleth\",\"colorbar\":{\"outlinewidth\":0,\"ticks\":\"\"}}],\"histogram2d\":[{\"type\":\"histogram2d\",\"colorbar\":{\"outlinewidth\":0,\"ticks\":\"\"},\"colorscale\":[[0.0,\"#0d0887\"],[0.1111111111111111,\"#46039f\"],[0.2222222222222222,\"#7201a8\"],[0.3333333333333333,\"#9c179e\"],[0.4444444444444444,\"#bd3786\"],[0.5555555555555556,\"#d8576b\"],[0.6666666666666666,\"#ed7953\"],[0.7777777777777778,\"#fb9f3a\"],[0.8888888888888888,\"#fdca26\"],[1.0,\"#f0f921\"]]}],\"heatmap\":[{\"type\":\"heatmap\",\"colorbar\":{\"outlinewidth\":0,\"ticks\":\"\"},\"colorscale\":[[0.0,\"#0d0887\"],[0.1111111111111111,\"#46039f\"],[0.2222222222222222,\"#7201a8\"],[0.3333333333333333,\"#9c179e\"],[0.4444444444444444,\"#bd3786\"],[0.5555555555555556,\"#d8576b\"],[0.6666666666666666,\"#ed7953\"],[0.7777777777777778,\"#fb9f3a\"],[0.8888888888888888,\"#fdca26\"],[1.0,\"#f0f921\"]]}],\"heatmapgl\":[{\"type\":\"heatmapgl\",\"colorbar\":{\"outlinewidth\":0,\"ticks\":\"\"},\"colorscale\":[[0.0,\"#0d0887\"],[0.1111111111111111,\"#46039f\"],[0.2222222222222222,\"#7201a8\"],[0.3333333333333333,\"#9c179e\"],[0.4444444444444444,\"#bd3786\"],[0.5555555555555556,\"#d8576b\"],[0.6666666666666666,\"#ed7953\"],[0.7777777777777778,\"#fb9f3a\"],[0.8888888888888888,\"#fdca26\"],[1.0,\"#f0f921\"]]}],\"contourcarpet\":[{\"type\":\"contourcarpet\",\"colorbar\":{\"outlinewidth\":0,\"ticks\":\"\"}}],\"contour\":[{\"type\":\"contour\",\"colorbar\":{\"outlinewidth\":0,\"ticks\":\"\"},\"colorscale\":[[0.0,\"#0d0887\"],[0.1111111111111111,\"#46039f\"],[0.2222222222222222,\"#7201a8\"],[0.3333333333333333,\"#9c179e\"],[0.4444444444444444,\"#bd3786\"],[0.5555555555555556,\"#d8576b\"],[0.6666666666666666,\"#ed7953\"],[0.7777777777777778,\"#fb9f3a\"],[0.8888888888888888,\"#fdca26\"],[1.0,\"#f0f921\"]]}],\"surface\":[{\"type\":\"surface\",\"colorbar\":{\"outlinewidth\":0,\"ticks\":\"\"},\"colorscale\":[[0.0,\"#0d0887\"],[0.1111111111111111,\"#46039f\"],[0.2222222222222222,\"#7201a8\"],[0.3333333333333333,\"#9c179e\"],[0.4444444444444444,\"#bd3786\"],[0.5555555555555556,\"#d8576b\"],[0.6666666666666666,\"#ed7953\"],[0.7777777777777778,\"#fb9f3a\"],[0.8888888888888888,\"#fdca26\"],[1.0,\"#f0f921\"]]}],\"mesh3d\":[{\"type\":\"mesh3d\",\"colorbar\":{\"outlinewidth\":0,\"ticks\":\"\"}}],\"scatter\":[{\"fillpattern\":{\"fillmode\":\"overlay\",\"size\":10,\"solidity\":0.2},\"type\":\"scatter\"}],\"parcoords\":[{\"type\":\"parcoords\",\"line\":{\"colorbar\":{\"outlinewidth\":0,\"ticks\":\"\"}}}],\"scatterpolargl\":[{\"type\":\"scatterpolargl\",\"marker\":{\"colorbar\":{\"outlinewidth\":0,\"ticks\":\"\"}}}],\"bar\":[{\"error_x\":{\"color\":\"#2a3f5f\"},\"error_y\":{\"color\":\"#2a3f5f\"},\"marker\":{\"line\":{\"color\":\"#E5ECF6\",\"width\":0.5},\"pattern\":{\"fillmode\":\"overlay\",\"size\":10,\"solidity\":0.2}},\"type\":\"bar\"}],\"scattergeo\":[{\"type\":\"scattergeo\",\"marker\":{\"colorbar\":{\"outlinewidth\":0,\"ticks\":\"\"}}}],\"scatterpolar\":[{\"type\":\"scatterpolar\",\"marker\":{\"colorbar\":{\"outlinewidth\":0,\"ticks\":\"\"}}}],\"histogram\":[{\"marker\":{\"pattern\":{\"fillmode\":\"overlay\",\"size\":10,\"solidity\":0.2}},\"type\":\"histogram\"}],\"scattergl\":[{\"type\":\"scattergl\",\"marker\":{\"colorbar\":{\"outlinewidth\":0,\"ticks\":\"\"}}}],\"scatter3d\":[{\"type\":\"scatter3d\",\"line\":{\"colorbar\":{\"outlinewidth\":0,\"ticks\":\"\"}},\"marker\":{\"colorbar\":{\"outlinewidth\":0,\"ticks\":\"\"}}}],\"scattermapbox\":[{\"type\":\"scattermapbox\",\"marker\":{\"colorbar\":{\"outlinewidth\":0,\"ticks\":\"\"}}}],\"scatterternary\":[{\"type\":\"scatterternary\",\"marker\":{\"colorbar\":{\"outlinewidth\":0,\"ticks\":\"\"}}}],\"scattercarpet\":[{\"type\":\"scattercarpet\",\"marker\":{\"colorbar\":{\"outlinewidth\":0,\"ticks\":\"\"}}}],\"carpet\":[{\"aaxis\":{\"endlinecolor\":\"#2a3f5f\",\"gridcolor\":\"white\",\"linecolor\":\"white\",\"minorgridcolor\":\"white\",\"startlinecolor\":\"#2a3f5f\"},\"baxis\":{\"endlinecolor\":\"#2a3f5f\",\"gridcolor\":\"white\",\"linecolor\":\"white\",\"minorgridcolor\":\"white\",\"startlinecolor\":\"#2a3f5f\"},\"type\":\"carpet\"}],\"table\":[{\"cells\":{\"fill\":{\"color\":\"#EBF0F8\"},\"line\":{\"color\":\"white\"}},\"header\":{\"fill\":{\"color\":\"#C8D4E3\"},\"line\":{\"color\":\"white\"}},\"type\":\"table\"}],\"barpolar\":[{\"marker\":{\"line\":{\"color\":\"#E5ECF6\",\"width\":0.5},\"pattern\":{\"fillmode\":\"overlay\",\"size\":10,\"solidity\":0.2}},\"type\":\"barpolar\"}],\"pie\":[{\"automargin\":true,\"type\":\"pie\"}]},\"layout\":{\"autotypenumbers\":\"strict\",\"colorway\":[\"#636efa\",\"#EF553B\",\"#00cc96\",\"#ab63fa\",\"#FFA15A\",\"#19d3f3\",\"#FF6692\",\"#B6E880\",\"#FF97FF\",\"#FECB52\"],\"font\":{\"color\":\"#2a3f5f\"},\"hovermode\":\"closest\",\"hoverlabel\":{\"align\":\"left\"},\"paper_bgcolor\":\"white\",\"plot_bgcolor\":\"#E5ECF6\",\"polar\":{\"bgcolor\":\"#E5ECF6\",\"angularaxis\":{\"gridcolor\":\"white\",\"linecolor\":\"white\",\"ticks\":\"\"},\"radialaxis\":{\"gridcolor\":\"white\",\"linecolor\":\"white\",\"ticks\":\"\"}},\"ternary\":{\"bgcolor\":\"#E5ECF6\",\"aaxis\":{\"gridcolor\":\"white\",\"linecolor\":\"white\",\"ticks\":\"\"},\"baxis\":{\"gridcolor\":\"white\",\"linecolor\":\"white\",\"ticks\":\"\"},\"caxis\":{\"gridcolor\":\"white\",\"linecolor\":\"white\",\"ticks\":\"\"}},\"coloraxis\":{\"colorbar\":{\"outlinewidth\":0,\"ticks\":\"\"}},\"colorscale\":{\"sequential\":[[0.0,\"#0d0887\"],[0.1111111111111111,\"#46039f\"],[0.2222222222222222,\"#7201a8\"],[0.3333333333333333,\"#9c179e\"],[0.4444444444444444,\"#bd3786\"],[0.5555555555555556,\"#d8576b\"],[0.6666666666666666,\"#ed7953\"],[0.7777777777777778,\"#fb9f3a\"],[0.8888888888888888,\"#fdca26\"],[1.0,\"#f0f921\"]],\"sequentialminus\":[[0.0,\"#0d0887\"],[0.1111111111111111,\"#46039f\"],[0.2222222222222222,\"#7201a8\"],[0.3333333333333333,\"#9c179e\"],[0.4444444444444444,\"#bd3786\"],[0.5555555555555556,\"#d8576b\"],[0.6666666666666666,\"#ed7953\"],[0.7777777777777778,\"#fb9f3a\"],[0.8888888888888888,\"#fdca26\"],[1.0,\"#f0f921\"]],\"diverging\":[[0,\"#8e0152\"],[0.1,\"#c51b7d\"],[0.2,\"#de77ae\"],[0.3,\"#f1b6da\"],[0.4,\"#fde0ef\"],[0.5,\"#f7f7f7\"],[0.6,\"#e6f5d0\"],[0.7,\"#b8e186\"],[0.8,\"#7fbc41\"],[0.9,\"#4d9221\"],[1,\"#276419\"]]},\"xaxis\":{\"gridcolor\":\"white\",\"linecolor\":\"white\",\"ticks\":\"\",\"title\":{\"standoff\":15},\"zerolinecolor\":\"white\",\"automargin\":true,\"zerolinewidth\":2},\"yaxis\":{\"gridcolor\":\"white\",\"linecolor\":\"white\",\"ticks\":\"\",\"title\":{\"standoff\":15},\"zerolinecolor\":\"white\",\"automargin\":true,\"zerolinewidth\":2},\"scene\":{\"xaxis\":{\"backgroundcolor\":\"#E5ECF6\",\"gridcolor\":\"white\",\"linecolor\":\"white\",\"showbackground\":true,\"ticks\":\"\",\"zerolinecolor\":\"white\",\"gridwidth\":2},\"yaxis\":{\"backgroundcolor\":\"#E5ECF6\",\"gridcolor\":\"white\",\"linecolor\":\"white\",\"showbackground\":true,\"ticks\":\"\",\"zerolinecolor\":\"white\",\"gridwidth\":2},\"zaxis\":{\"backgroundcolor\":\"#E5ECF6\",\"gridcolor\":\"white\",\"linecolor\":\"white\",\"showbackground\":true,\"ticks\":\"\",\"zerolinecolor\":\"white\",\"gridwidth\":2}},\"shapedefaults\":{\"line\":{\"color\":\"#2a3f5f\"}},\"annotationdefaults\":{\"arrowcolor\":\"#2a3f5f\",\"arrowhead\":0,\"arrowwidth\":1},\"geo\":{\"bgcolor\":\"white\",\"landcolor\":\"#E5ECF6\",\"subunitcolor\":\"white\",\"showland\":true,\"showlakes\":true,\"lakecolor\":\"white\"},\"title\":{\"x\":0.05},\"mapbox\":{\"style\":\"light\"}}},\"legend\":{\"tracegroupgap\":0},\"margin\":{\"t\":60}},                        {\"responsive\": true}                    ).then(function(){\n",
       "                            \n",
       "var gd = document.getElementById('9d6c58f6-5432-4bad-9fb9-7fb3a5cf4428');\n",
       "var x = new MutationObserver(function (mutations, observer) {{\n",
       "        var display = window.getComputedStyle(gd).display;\n",
       "        if (!display || display === 'none') {{\n",
       "            console.log([gd, 'removed!']);\n",
       "            Plotly.purge(gd);\n",
       "            observer.disconnect();\n",
       "        }}\n",
       "}});\n",
       "\n",
       "// Listen for the removal of the full notebook cells\n",
       "var notebookContainer = gd.closest('#notebook-container');\n",
       "if (notebookContainer) {{\n",
       "    x.observe(notebookContainer, {childList: true});\n",
       "}}\n",
       "\n",
       "// Listen for the clearing of the current output cell\n",
       "var outputEl = gd.closest('.output');\n",
       "if (outputEl) {{\n",
       "    x.observe(outputEl, {childList: true});\n",
       "}}\n",
       "\n",
       "                        })                };                });            </script>        </div>"
      ]
     },
     "metadata": {},
     "output_type": "display_data"
    }
   ],
   "source": [
    "import plotly.express as px\n",
    "import seaborn as sns\n",
    "fig = px.sunburst(df_1, \n",
    "                  path=['sex','smoker', 'day', 'time'], \n",
    "                  values='tip' , color='sex',\n",
    "                  hover_data=['tip', 'day', 'time'])\n",
    "# how can we add more values when we hover the pointer on the plot?\n",
    "# Show the plot\n",
    "fig.show()"
   ]
  }
 ],
 "metadata": {
  "kernelspec": {
   "display_name": "Python 3 (ipykernel)",
   "language": "python",
   "name": "python3"
  },
  "language_info": {
   "codemirror_mode": {
    "name": "ipython",
    "version": 3
   },
   "file_extension": ".py",
   "mimetype": "text/x-python",
   "name": "python",
   "nbconvert_exporter": "python",
   "pygments_lexer": "ipython3",
   "version": "3.10.13"
  }
 },
 "nbformat": 4,
 "nbformat_minor": 4
}
