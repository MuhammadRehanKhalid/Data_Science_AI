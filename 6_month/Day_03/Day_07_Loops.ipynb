{
 "cells": [
  {
   "cell_type": "code",
   "execution_count": 1,
   "metadata": {},
   "outputs": [
    {
     "name": "stdout",
     "output_type": "stream",
     "text": [
      "Rehan\n"
     ]
    }
   ],
   "source": [
    "print(\"Rehan\")"
   ]
  },
  {
   "cell_type": "code",
   "execution_count": 3,
   "metadata": {},
   "outputs": [
    {
     "name": "stdout",
     "output_type": "stream",
     "text": [
      "Iqra is younger than Rehan\n"
     ]
    }
   ],
   "source": [
    "first_name = input(\"Please enter the name: \")\n",
    "Age_first_person = input(\"Enter the age: \" )\n",
    "\n",
    "second_name = input(\"Please enter the Name: \")\n",
    "Age_2nd_person = input(\"Enter the age: \")\n",
    "\n",
    "if Age_first_person > Age_2nd_person:\n",
    "    print(second_name, \"is younger than\", first_name)\n",
    "else:\n",
    "    print(second_name, \"is older than\", first_name)"
   ]
  },
  {
   "cell_type": "code",
   "execution_count": 6,
   "metadata": {},
   "outputs": [
    {
     "name": "stdout",
     "output_type": "stream",
     "text": [
      "The bmi of rehan is 0.011235955056179775\n"
     ]
    }
   ],
   "source": [
    "#he BMI calculation divides an adult's weight in kilograms (kg) by their height in metres (m) squared. \n",
    "# For example, if you weigh 70kg (around 11 stone) and are 1.73m (around 5 feet 8 inches) tall, \n",
    "# you work out your BMI by: squaring your height: 1.73x1.73 = 2.99. dividing 70 by 2.99 = 23.41.\n",
    "name = input(\"Please enter the name: \")\n",
    "weight_person = float(input(\"Enter the weight (Kg): \" ))\n",
    "height_of_person = float(input(\"Please enter height(m): \"))\n",
    "\n",
    "\n",
    "bmi =  weight_person/weight_person**2\n",
    "print(\"The bmi of\", name , \"is\", bmi)"
   ]
  },
  {
   "cell_type": "code",
   "execution_count": 1,
   "metadata": {},
   "outputs": [
    {
     "name": "stdout",
     "output_type": "stream",
     "text": [
      "2\n",
      "3\n",
      "4\n",
      "5\n",
      "6\n",
      "7\n",
      "8\n",
      "89\n",
      "90\n",
      "0\n"
     ]
    }
   ],
   "source": [
    "list = (2,3,4,5,6,7,8,89,90,0)\n",
    "for i in list:\n",
    "    print(i)"
   ]
  },
  {
   "cell_type": "code",
   "execution_count": 15,
   "metadata": {},
   "outputs": [
    {
     "data": {
      "text/plain": [
       "2432902008176640000"
      ]
     },
     "execution_count": 15,
     "metadata": {},
     "output_type": "execute_result"
    }
   ],
   "source": [
    "def factorial(n):\n",
    "    if n == 1:\n",
    "        return 1\n",
    "    else:\n",
    "        return n * factorial(n-1)\n",
    "factorial(20)"
   ]
  },
  {
   "cell_type": "code",
   "execution_count": 28,
   "metadata": {},
   "outputs": [
    {
     "name": "stdout",
     "output_type": "stream",
     "text": [
      "12350.0\n"
     ]
    }
   ],
   "source": [
    "x = lambda a: a  +10\n",
    "# print(x(10))\n",
    "\n",
    "x = lambda a, b : a*b\n",
    "print(x(1000,12.350))"
   ]
  }
 ],
 "metadata": {
  "kernelspec": {
   "display_name": "Python 3",
   "language": "python",
   "name": "python3"
  },
  "language_info": {
   "codemirror_mode": {
    "name": "ipython",
    "version": 3
   },
   "file_extension": ".py",
   "mimetype": "text/x-python",
   "name": "python",
   "nbconvert_exporter": "python",
   "pygments_lexer": "ipython3",
   "version": "3.11.5"
  }
 },
 "nbformat": 4,
 "nbformat_minor": 2
}
