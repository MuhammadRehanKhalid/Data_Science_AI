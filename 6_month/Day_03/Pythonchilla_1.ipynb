{
 "cells": [
  {
   "cell_type": "code",
   "execution_count": 1,
   "metadata": {},
   "outputs": [
    {
     "name": "stdout",
     "output_type": "stream",
     "text": [
      "Hellow World\n"
     ]
    }
   ],
   "source": [
    "print(\"Hellow World\")"
   ]
  },
  {
   "cell_type": "code",
   "execution_count": 5,
   "metadata": {},
   "outputs": [
    {
     "name": "stdout",
     "output_type": "stream",
     "text": [
      "True\n"
     ]
    }
   ],
   "source": [
    "# print(\"2+3+6+3+6\")\n",
    "# print(\"what's up\")\n",
    "# # print(3+2+                                         6+                 66+6                                         +3)\n",
    "x = 2+3\n",
    "if x == 5:\n",
    "    print('True')\n",
    "else:\n",
    "    print('False')"
   ]
  },
  {
   "cell_type": "code",
   "execution_count": null,
   "metadata": {},
   "outputs": [],
   "source": [
    "# Assignment: when to use comments in Python, Mention any 10 cases?\n",
    "# 1. To explain the purpose of a variable, function, or class.\n",
    "# 2. To document the input and output of a function.\n",
    "# 3. To explain the steps in a complex algorithm.\n",
    "# 4. To mark a section of code that is still under development.\n",
    "# 5. To mark a section of code that is no longer used.\n",
    "# 6. To provide a warning about a potential problem.\n",
    "# 7. To give credit to the original author of a piece of code.\n",
    "# 8. To make your code more readable and understandable.\n",
    "# 9. To help you debug your code.\n",
    "# 10. To make your code more maintainable.\n"
   ]
  },
  {
   "cell_type": "code",
   "execution_count": null,
   "metadata": {},
   "outputs": [],
   "source": []
  }
 ],
 "metadata": {
  "kernelspec": {
   "display_name": "Python 3",
   "language": "python",
   "name": "python3"
  },
  "language_info": {
   "codemirror_mode": {
    "name": "ipython",
    "version": 3
   },
   "file_extension": ".py",
   "mimetype": "text/x-python",
   "name": "python",
   "nbconvert_exporter": "python",
   "pygments_lexer": "ipython3",
   "version": "3.11.1"
  },
  "orig_nbformat": 4
 },
 "nbformat": 4,
 "nbformat_minor": 2
}
