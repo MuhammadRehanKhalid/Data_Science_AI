{
 "cells": [
  {
   "cell_type": "markdown",
   "id": "77d72b6c-5c43-4541-95b5-da20d06d996c",
   "metadata": {},
   "source": [
    "## Descriptive Data Analytics\n",
    "+ Complete data of a year telling data of the year, \n",
    "## Diagnostic Data Analystics\n",
    "+ Why it happened, different analytical techniques are used\n",
    "## Predictive Data Analytics\n",
    "+ Next what will happen in future, future results\n",
    "## Prescriptive Data Analaysis\n",
    "+ How can we make it happen, the docotors prescription"
   ]
  },
  {
   "cell_type": "code",
   "execution_count": null,
   "id": "3090ae20-ff20-4e19-9b52-4d2ff159d886",
   "metadata": {},
   "outputs": [],
   "source": []
  }
 ],
 "metadata": {
  "kernelspec": {
   "display_name": "Python 3 (ipykernel)",
   "language": "python",
   "name": "python3"
  },
  "language_info": {
   "codemirror_mode": {
    "name": "ipython",
    "version": 3
   },
   "file_extension": ".py",
   "mimetype": "text/x-python",
   "name": "python",
   "nbconvert_exporter": "python",
   "pygments_lexer": "ipython3",
   "version": "3.10.13"
  }
 },
 "nbformat": 4,
 "nbformat_minor": 5
}
