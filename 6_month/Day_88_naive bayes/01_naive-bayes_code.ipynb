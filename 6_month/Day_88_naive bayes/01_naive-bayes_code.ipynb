{
 "cells": [
  {
   "cell_type": "markdown",
   "id": "9f0470a3-dce3-4cd4-92ca-d756768e7762",
   "metadata": {},
   "source": [
    "# Naive Bayes Algorithem"
   ]
  },
  {
   "cell_type": "code",
   "execution_count": 1,
   "id": "1c3f3520-2af0-47f8-a285-51eef30715d6",
   "metadata": {},
   "outputs": [],
   "source": [
    "import pandas as pd\n",
    "import numpy as np\n",
    "import matplotlib.pyplot as plt\n",
    "import seaborn as sns"
   ]
  },
  {
   "cell_type": "code",
   "execution_count": 2,
   "id": "32fd7ae3-f755-486b-a9ee-f5ff5a41dafa",
   "metadata": {},
   "outputs": [],
   "source": [
    "from sklearn.naive_bayes import GaussianNB, MultinomialNB, BernoulliNB\n",
    "from sklearn.model_selection import train_test_split\n",
    "from sklearn.metrics import accuracy_score, confusion_matrix, classification_report\n",
    "from sklearn.datasets import load_iris"
   ]
  },
  {
   "cell_type": "code",
   "execution_count": 4,
   "id": "93ca57d9-ea08-4bad-a110-1a6faed804da",
   "metadata": {},
   "outputs": [
    {
     "name": "stdout",
     "output_type": "stream",
     "text": [
      "accuracy score 0.9777777777777777\n",
      "Confusion Matrix [[19  0  0]\n",
      " [ 0 12  1]\n",
      " [ 0  0 13]]\n",
      "Classification Report               precision    recall  f1-score   support\n",
      "\n",
      "           0       1.00      1.00      1.00        19\n",
      "           1       1.00      0.92      0.96        13\n",
      "           2       0.93      1.00      0.96        13\n",
      "\n",
      "    accuracy                           0.98        45\n",
      "   macro avg       0.98      0.97      0.97        45\n",
      "weighted avg       0.98      0.98      0.98        45\n",
      "\n"
     ]
    }
   ],
   "source": [
    "iris = load_iris()\n",
    "X = iris.data\n",
    "y = iris.target\n",
    "# train test split data\n",
    "X_train, X_test, y_train, y_test = train_test_split(X,y, test_size=0.3, random_state=42)\n",
    "# Model initialize\n",
    "gnb = GaussianNB()\n",
    "# train model\n",
    "gnb.fit(X_train, y_train)\n",
    "# predict\n",
    "y_pred = gnb.predict(X_test)\n",
    "# evaluate model\n",
    "print(\"accuracy score\", accuracy_score(y_test, y_pred))\n",
    "print(\"Confusion Matrix\", confusion_matrix(y_test, y_pred))\n",
    "print(\"Classification Report\", classification_report(y_test, y_pred))"
   ]
  },
  {
   "cell_type": "code",
   "execution_count": 5,
   "id": "8e3ea7fa-2e32-48fc-8fed-e33cf606c745",
   "metadata": {},
   "outputs": [
    {
     "name": "stdout",
     "output_type": "stream",
     "text": [
      "accuracy score 0.9555555555555556\n",
      "Confusion Matrix [[19  0  0]\n",
      " [ 0 12  1]\n",
      " [ 0  1 12]]\n",
      "Classification Report               precision    recall  f1-score   support\n",
      "\n",
      "           0       1.00      1.00      1.00        19\n",
      "           1       0.92      0.92      0.92        13\n",
      "           2       0.92      0.92      0.92        13\n",
      "\n",
      "    accuracy                           0.96        45\n",
      "   macro avg       0.95      0.95      0.95        45\n",
      "weighted avg       0.96      0.96      0.96        45\n",
      "\n"
     ]
    }
   ],
   "source": [
    "# Model initialize\n",
    "mnb = MultinomialNB()\n",
    "# train model\n",
    "mnb.fit(X_train, y_train)\n",
    "# predict\n",
    "y_pred_2 = mnb.predict(X_test)\n",
    "# evaluate model\n",
    "print(\"accuracy score\", accuracy_score(y_test, y_pred_2))\n",
    "print(\"Confusion Matrix\", confusion_matrix(y_test, y_pred_2))\n",
    "print(\"Classification Report\", classification_report(y_test, y_pred_2))"
   ]
  },
  {
   "cell_type": "code",
   "execution_count": null,
   "id": "9fda33ba-25cc-4983-8288-31e1b0a6240e",
   "metadata": {},
   "outputs": [],
   "source": [
    "# Model initialize\n",
    "mnb = MultinomialNB()\n",
    "# train model\n",
    "mnb.fit(X_train, y_train)\n",
    "# predict\n",
    "y_pred_2 = mnb.predict(X_test)\n",
    "# evaluate model\n",
    "print(\"accuracy score\", accuracy_score(y_test, y_pred_2))\n",
    "print(\"Confusion Matrix\", confusion_matrix(y_test, y_pred_2))\n",
    "print(\"Classification Report\", classification_report(y_test, y_pred_2))"
   ]
  }
 ],
 "metadata": {
  "kernelspec": {
   "display_name": "Python 3 (ipykernel)",
   "language": "python",
   "name": "python3"
  },
  "language_info": {
   "codemirror_mode": {
    "name": "ipython",
    "version": 3
   },
   "file_extension": ".py",
   "mimetype": "text/x-python",
   "name": "python",
   "nbconvert_exporter": "python",
   "pygments_lexer": "ipython3",
   "version": "3.12.1"
  }
 },
 "nbformat": 4,
 "nbformat_minor": 5
}
