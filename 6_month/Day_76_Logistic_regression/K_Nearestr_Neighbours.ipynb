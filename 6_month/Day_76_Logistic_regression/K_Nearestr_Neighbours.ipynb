{
 "cells": [
  {
   "cell_type": "markdown",
   "id": "cd9c41b9-e3c5-4f7e-9d3d-086b4fa7ae58",
   "metadata": {},
   "source": [
    "# K_Nearest Clusters"
   ]
  },
  {
   "cell_type": "markdown",
   "id": "a9d28183-0376-47aa-89f9-a5f5a7a1bc25",
   "metadata": {},
   "source": [
    "# It give the nearedt points depending upon the requirements\n",
    "- It will circle and make clusters based on the neighbours presen in the data\n",
    "- We Might take mean or median of the dataset\n",
    "- Advantages of this is\n",
    "    - Simple, best, less need of the training\n",
    "    - keep values in limit and it predicts according to the data\n",
    "    - Versatile algorithem\n",
    "- Different types of distances used in this algorithem\n",
    "    -  Eucledian distance\n",
    "    -  Manhattan Distance\n",
    "    -  Minknwonski distance\n",
    "    -  Hamming Distance\n",
    "        - We basically use first 3\n",
    "- Disadvantages\n",
    "    - Computationally expensive\n",
    "    - sensitive to imbalance (one class has less values, oterh has more values) data, outliers, or biased data\n",
    "    - sensitive to irrelevant feature, we need to find relevvant feature\n",
    "- Where to Use KNN's\n",
    "    - Recomendation system\n",
    "    - Financial Services\n",
    "    - Banking loan system\n",
    "        - Fraud Detection\n",
    "    - Health Care system, how healthy etc, factors for health\n",
    "    - many more\n",
    "- "
   ]
  }
 ],
 "metadata": {
  "kernelspec": {
   "display_name": "Python 3 (ipykernel)",
   "language": "python",
   "name": "python3"
  },
  "language_info": {
   "codemirror_mode": {
    "name": "ipython",
    "version": 3
   },
   "file_extension": ".py",
   "mimetype": "text/x-python",
   "name": "python",
   "nbconvert_exporter": "python",
   "pygments_lexer": "ipython3",
   "version": "3.12.1"
  }
 },
 "nbformat": 4,
 "nbformat_minor": 5
}
