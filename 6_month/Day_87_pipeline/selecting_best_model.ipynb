{
 "cells": [
  {
   "cell_type": "markdown",
   "id": "128dbbc2-2a78-4a7e-9c54-b00540a6b66b",
   "metadata": {},
   "source": [
    "# Selecting best model selecting, fitting, prediction and hyperparameter tunning"
   ]
  },
  {
   "cell_type": "code",
   "execution_count": 26,
   "id": "100a7688-442c-41c1-a97a-2dcc38a6b127",
   "metadata": {},
   "outputs": [],
   "source": [
    "# hyper parameter tunning in Pipeline\n",
    "import pandas as pd\n",
    "import numpy as np\n",
    "import seaborn as sns\n",
    "from sklearn.model_selection import train_test_split, GridSearchCV, cross_val_score\n",
    "from sklearn.pipeline import Pipeline\n",
    "from sklearn.compose import ColumnTransformer\n",
    "from sklearn.impute import SimpleImputer\n",
    "from sklearn.preprocessing import OneHotEncoder, LabelEncoder\n",
    "from sklearn.ensemble import RandomForestClassifier, GradientBoostingClassifier\n",
    "from xgboost import XGBClassifier\n",
    "from sklearn.svm import SVC\n",
    "from sklearn.linear_model import LogisticRegression\n",
    "from sklearn.metrics import accuracy_score"
   ]
  },
  {
   "cell_type": "code",
   "execution_count": 27,
   "id": "76688970-51cd-4d20-8c28-5bc801659d3e",
   "metadata": {},
   "outputs": [
    {
     "name": "stdout",
     "output_type": "stream",
     "text": [
      "Model: Ranndom Forest\n",
      "Cross_validation Accuracy: 0.7991529597163399\n",
      "Test Accuracy 0.8379888268156425\n",
      "\n",
      "Best Model: Pipeline(steps=[('imputer', SimpleImputer(strategy='most_frequent')),\n",
      "                ('encoder', OneHotEncoder(handle_unknown='ignore')),\n",
      "                ('model', RandomForestClassifier(random_state=42))])\n",
      "Model: Gradient Boosting\n",
      "Cross_validation Accuracy: 0.8090121146459175\n",
      "Test Accuracy 0.7988826815642458\n",
      "\n",
      "Best Model: Pipeline(steps=[('imputer', SimpleImputer(strategy='most_frequent')),\n",
      "                ('encoder', OneHotEncoder(handle_unknown='ignore')),\n",
      "                ('model', RandomForestClassifier(random_state=42))])\n",
      "Model: XG_Boost\n",
      "Cross_validation Accuracy: 0.8034177090515119\n",
      "Test Accuracy 0.7932960893854749\n",
      "\n",
      "Best Model: Pipeline(steps=[('imputer', SimpleImputer(strategy='most_frequent')),\n",
      "                ('encoder', OneHotEncoder(handle_unknown='ignore')),\n",
      "                ('model', RandomForestClassifier(random_state=42))])\n",
      "Model: Logistic Regression\n",
      "Cross_validation Accuracy: 0.7977839062346105\n",
      "Test Accuracy 0.8100558659217877\n",
      "\n",
      "Best Model: Pipeline(steps=[('imputer', SimpleImputer(strategy='most_frequent')),\n",
      "                ('encoder', OneHotEncoder(handle_unknown='ignore')),\n",
      "                ('model', RandomForestClassifier(random_state=42))])\n",
      "Model: Support Vector Machine\n",
      "Cross_validation Accuracy: 0.8160248202501723\n",
      "Test Accuracy 0.8044692737430168\n",
      "\n",
      "Best Model: Pipeline(steps=[('imputer', SimpleImputer(strategy='most_frequent')),\n",
      "                ('encoder', OneHotEncoder(handle_unknown='ignore')),\n",
      "                ('model', RandomForestClassifier(random_state=42))])\n"
     ]
    }
   ],
   "source": [
    "# load data\n",
    "titanic = sns.load_dataset('titanic')\n",
    "# Select feature and target variable\n",
    "X =  titanic[['pclass','sex','age','fare','embarked']]\n",
    "y = titanic['survived']\n",
    "# split data into train and test\n",
    "X_train, X_test, y_train, y_test = train_test_split(X,y, test_size=0.2, random_state=42)\n",
    "# create models \n",
    "models = [\n",
    "    (\"Ranndom Forest\", RandomForestClassifier(random_state=42)),\n",
    "    (\"Gradient Boosting\", GradientBoostingClassifier(random_state=42)),\n",
    "    (\"XG_Boost\", XGBClassifier(random_state = 42)),\n",
    "    (\"Logistic Regression\", LogisticRegression(random_state=42)),\n",
    "    (\"Support Vector Machine\", SVC(random_state=42))\n",
    "]\n",
    "best_model = None\n",
    "best_accuracy = 0.0\n",
    "# iterate to select the best model\n",
    "for name , model in models:\n",
    "    pipeline = Pipeline([\n",
    "        ('imputer', SimpleImputer(strategy='most_frequent')),\n",
    "        ('encoder', OneHotEncoder(handle_unknown='ignore')),\n",
    "        ('model', model)\n",
    "    ])\n",
    "    # perform Cross validation\n",
    "    scores = cross_val_score(pipeline, X_train, y_train, cv=5)\n",
    "    # calculate mean accuracy\n",
    "    mean_accuracy = scores.mean()\n",
    "    # fit the pipeline\n",
    "    pipeline.fit(X_train, y_train)\n",
    "    # Make the prediction on the data\n",
    "    y_pred = pipeline.predict(X_test)\n",
    "    # calculate accuracy\n",
    "    accuracy = accuracy_score(y_test, y_pred)\n",
    "    # print the peroformance \n",
    "    print(\"Model:\", name)\n",
    "    print(\"Cross_validation Accuracy:\", mean_accuracy)\n",
    "    print(\"Test Accuracy\", accuracy)\n",
    "    print()\n",
    "    # check \n",
    "    if accuracy > best_accuracy:\n",
    "        best_accuracy = accuracy\n",
    "        best_model = pipeline\n",
    "    print(\"Best Model:\", best_model)"
   ]
  },
  {
   "cell_type": "code",
   "execution_count": null,
   "id": "e3809e1a-aaa8-45c3-a882-2213124cf958",
   "metadata": {},
   "outputs": [],
   "source": []
  }
 ],
 "metadata": {
  "kernelspec": {
   "display_name": "python_ml",
   "language": "python",
   "name": "python3"
  },
  "language_info": {
   "codemirror_mode": {
    "name": "ipython",
    "version": 3
   },
   "file_extension": ".py",
   "mimetype": "text/x-python",
   "name": "python",
   "nbconvert_exporter": "python",
   "pygments_lexer": "ipython3",
   "version": "3.13.5"
  }
 },
 "nbformat": 4,
 "nbformat_minor": 5
}
