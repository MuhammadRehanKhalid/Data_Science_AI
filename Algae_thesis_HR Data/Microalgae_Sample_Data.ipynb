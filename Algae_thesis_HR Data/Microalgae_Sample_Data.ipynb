{
 "cells": [
  {
   "cell_type": "code",
   "execution_count": 1,
   "id": "763b2bfd-8bd4-492c-938c-ac7a9a20f966",
   "metadata": {},
   "outputs": [
    {
     "name": "stdout",
     "output_type": "stream",
     "text": [
      "['STIXNonUnicode', 'cmmi10', 'STIXSizeThreeSym', 'STIXGeneral', 'DejaVu Serif', 'cmtt10', 'DejaVu Serif', 'STIXNonUnicode', 'STIXSizeOneSym', 'cmex10', 'DejaVu Serif', 'DejaVu Sans', 'DejaVu Sans Mono', 'DejaVu Sans Display', 'cmsy10', 'STIXSizeTwoSym', 'STIXSizeOneSym', 'STIXSizeFiveSym', 'STIXGeneral', 'STIXNonUnicode', 'STIXSizeFourSym', 'STIXSizeThreeSym', 'DejaVu Sans Mono', 'DejaVu Serif Display', 'DejaVu Sans Mono', 'DejaVu Sans', 'STIXGeneral', 'STIXSizeTwoSym', 'cmss10', 'STIXSizeFourSym', 'STIXGeneral', 'cmb10', 'DejaVu Serif', 'STIXNonUnicode', 'DejaVu Sans', 'DejaVu Sans Mono', 'DejaVu Sans', 'cmr10', 'Centaur', 'Berlin Sans FB', 'Franklin Gothic Book', 'Franklin Gothic Medium', 'Perpetua Titling MT', 'Microsoft Himalaya', 'Lucida Fax', 'Arial', 'Segoe UI', 'Leelawadee UI', 'Book Antiqua', 'Myanmar Text', 'Kristen ITC', 'Bodoni MT', 'Rockwell Extra Bold', 'Calibri', 'Times New Roman', 'Algerian', 'Californian FB', 'Simplified Arabic Fixed', 'Arial', 'Consolas', 'Lucida Console', 'Segoe UI', 'Magneto', 'Garamond', 'Niagara Solid', 'Arial', 'Arial', 'Lucida Bright', 'Tempus Sans ITC', 'Constantia', 'Century Schoolbook', 'Lucida Sans Typewriter', 'Old English Text MT', 'Rockwell', 'Dubai', 'Verdana', 'Elephant', 'Constantia', 'Lucida Sans', 'Bodoni MT', 'Segoe UI Variable', 'Chiller', 'Book Antiqua', 'Edwardian Script ITC', 'Franklin Gothic Demi Cond', 'Gill Sans Ultra Bold Condensed', 'Century Schoolbook', 'Segoe UI Emoji', 'Aldhabi', 'Georgia', 'Rockwell', 'Kunstler Script', 'SimSun', 'Segoe UI', 'Mistral', 'Bodoni MT', 'Book Antiqua', 'Symbol', 'Yu Gothic', 'Segoe UI', 'Gadugi', 'Microsoft Uighur', 'Microsoft JhengHei', 'Arial', 'Snap ITC', 'HoloLens MDL2 Assets', 'Verdana', 'Segoe Script', 'Franklin Gothic Demi', 'Andalus', 'Yu Gothic', 'Adobe Devanagari', 'Candara', 'Tahoma', 'Sitka', 'Segoe UI', 'Harrington', 'Gill Sans MT Ext Condensed Bold', 'Wingdings 2', 'Corbel', 'Segoe UI', 'Goudy Old Style', 'Candara', 'Jokerman', 'Bodoni MT', 'Haettenschweiler', 'Wide Latin', 'Rockwell', 'Berlin Sans FB Demi', 'Bauhaus 93', 'Candara', 'Bodoni MT', 'Segoe UI', 'Leelawadee', 'Tw Cen MT Condensed Extra Bold', 'Palatino Linotype', 'Cambria', 'Verdana', 'Lucida Sans', 'Times New Roman', 'Vivaldi', 'Bahnschrift', 'Adobe Devanagari', 'Franklin Gothic Demi', 'Stencil', 'Webdings', 'Segoe UI', 'Dubai', 'Eras Bold ITC', 'Goudy Old Style', 'Cambria', 'Trebuchet MS', 'Calibri', 'Gill Sans MT', 'Courier New', 'Imprint MT Shadow', 'Comic Sans MS', 'Simplified Arabic', 'Franklin Gothic Medium Cond', 'Dubai', 'Gabriola', 'Sylfaen', 'Century Gothic', 'Eras Demi ITC', 'MV Boli', 'Javanese Text', 'Corbel', 'Sakkal Majalla', 'Perpetua', 'Forte', 'Freestyle Script', 'Castellar', 'Microsoft New Tai Lue', 'Fences', 'Bell MT', 'Perpetua', 'Gill Sans Ultra Bold', 'Segoe UI Historic', 'Sakkal Majalla', 'Brush Script MT', 'Georgia', 'Trebuchet MS', 'Blackadder ITC', 'Arial', 'Wingdings', 'Calibri', 'Myanmar Text', 'Sans Serif Collection', 'Bell MT', 'MS Reference Sans Serif', 'Corbel', 'Niagara Engraved', 'Berlin Sans FB', 'Microsoft New Tai Lue', 'Microsoft PhagsPa', 'Maiandra GD', 'Mongolian Baiti', 'Century Gothic', 'Gill Sans MT Condensed', 'Arial', 'Malgun Gothic', 'Onyx', 'Traditional Arabic', 'Courier New', 'Cooper Black', 'Engravers MT', 'Palatino Linotype', 'Broadway', 'Tw Cen MT Condensed', 'Microsoft Tai Le', 'Rage Italic', 'Microsoft Tai Le', 'Lucida Fax', 'Segoe Script', 'Rockwell Condensed', 'Gigi', 'Leelawadee UI', 'MS Outlook', 'Malgun Gothic', 'Lucida Sans Typewriter', 'Calibri', 'Wingdings 3', 'Century Gothic', 'Tw Cen MT Condensed', 'Bookman Old Style', 'Yu Gothic', 'Comic Sans MS', 'Verdana', 'Segoe MDL2 Assets', 'Franklin Gothic Heavy', 'Consolas', 'Tw Cen MT', 'Nirmala UI', 'Bodoni MT', 'Bookman Old Style', 'Microsoft YaHei', 'Eras Light ITC', 'Impact', 'Century Schoolbook', 'MingLiU-ExtB', 'Microsoft JhengHei', 'Corbel', 'Colonna MT', 'Microsoft YaHei', 'Segoe Print', 'Lucida Sans Typewriter', 'Playbill', 'Arabic Typesetting', 'Tw Cen MT', 'MS Gothic', 'Century', 'Trebuchet MS', 'OCR A Extended', 'Palatino Linotype', 'Courier New', 'Lucida Fax', 'Curlz MT', 'Book Antiqua', 'Leelawadee UI', 'Georgia', 'Bookshelf Symbol 7', 'Microsoft PhagsPa', 'Perpetua Titling MT', 'Lucida Sans Unicode', 'Cambria', 'Consolas', 'Britannic Bold', 'Tw Cen MT', 'Papyrus', 'Cambria', 'Juice ITC', 'Franklin Gothic Book', 'Palatino Linotype', 'Franklin Gothic Heavy', 'Microsoft Yi Baiti', 'Ebrima', 'Constantia', 'Perpetua', 'Felix Titling', 'Lucida Calligraphy', 'Bodoni MT', 'Baskerville Old Face', 'Showcard Gothic', 'SimSun-ExtB', 'Californian FB', 'Nirmala UI', 'Gill Sans MT', 'Lucida Bright', 'Comic Sans MS', 'Urdu Typesetting', 'Courier New', 'Bodoni MT', 'Adobe Devanagari', 'Trebuchet MS', 'Perpetua', 'Garamond', 'Corbel', 'Harlow Solid Italic', 'Segoe UI Symbol', 'Microsoft Sans Serif', 'Traditional Arabic', 'Gill Sans MT', 'Goudy Old Style', 'Viner Hand ITC', 'Urdu Typesetting', 'Tahoma', 'Agency FB', 'Poor Richard', 'Garamond', 'Gadugi', 'Segoe UI', 'Bradley Hand ITC', 'Bodoni MT', 'Lucida Sans', 'Calisto MT', 'Copperplate Gothic Light', 'Palace Script MT', 'Nirmala UI', 'Calisto MT', 'Informal Roman', 'Century Schoolbook', 'Eras Medium ITC', 'Century Gothic', 'Pristina', 'Microsoft Uighur', 'Lucida Fax', 'Simplified Arabic', 'Microsoft JhengHei', 'Copperplate Gothic Bold', 'Lucida Handwriting', 'Vladimir Script', 'Matura MT Script Capitals', 'Bodoni MT', 'Lucida Sans Typewriter', 'Franklin Gothic Medium', 'High Tower Text', 'French Script MT', 'Rockwell', 'Goudy Stout', 'Lucida Sans', 'ZWAdobeF', 'Calibri', 'Agency FB', 'Yu Gothic', 'Ravie', 'Elephant', 'Dubai', 'Californian FB', 'Sitka', 'Origin', 'Script MT Bold', 'Candara', 'MT Extra', 'Tw Cen MT', 'Bell MT', 'Microsoft YaHei', 'Malgun Gothic', 'Comic Sans MS', 'Arial', 'Segoe UI', 'Modern No. 20', 'Rockwell Condensed', 'Adobe Devanagari', 'Monotype Corsiva', 'Footlight MT Light', 'Georgia', 'Arial Rounded MT Bold', 'Lucida Bright', 'Segoe UI', 'Ebrima', 'Calisto MT', 'Parchment', 'Bodoni MT', 'Candara', 'Bernard MT Condensed', 'Bookman Old Style', 'Leelawadee', 'Times New Roman', 'MS Reference Specialty', 'High Tower Text', 'Corbel', 'Bookman Old Style', 'Gloucester MT Extra Condensed', 'Ink Free', 'Segoe Fluent Icons', 'Constantia', 'Times New Roman', 'Arial', 'Candara', 'Calisto MT', 'Lucida Bright', 'Segoe UI', 'Calibri', 'Gill Sans MT', 'Segoe Print', 'Consolas']\n"
     ]
    }
   ],
   "source": [
    "import matplotlib.font_manager\n",
    "\n",
    "fonts = [f.name for f in matplotlib.font_manager.fontManager.ttflist]\n",
    "print(fonts)\n"
   ]
  },
  {
   "cell_type": "code",
   "execution_count": 73,
   "id": "2687ad43-19b9-4796-be59-f0ccd38a0e21",
   "metadata": {},
   "outputs": [
    {
     "name": "stderr",
     "output_type": "stream",
     "text": [
      "c:\\Users\\mirza\\miniconda3\\envs\\python_eda\\Lib\\site-packages\\seaborn\\_oldcore.py:1119: FutureWarning: use_inf_as_na option is deprecated and will be removed in a future version. Convert inf values to NaN before operating instead.\n",
      "  with pd.option_context('mode.use_inf_as_na', True):\n",
      "c:\\Users\\mirza\\miniconda3\\envs\\python_eda\\Lib\\site-packages\\seaborn\\_oldcore.py:1119: FutureWarning: use_inf_as_na option is deprecated and will be removed in a future version. Convert inf values to NaN before operating instead.\n",
      "  with pd.option_context('mode.use_inf_as_na', True):\n",
      "c:\\Users\\mirza\\miniconda3\\envs\\python_eda\\Lib\\site-packages\\seaborn\\_oldcore.py:1119: FutureWarning: use_inf_as_na option is deprecated and will be removed in a future version. Convert inf values to NaN before operating instead.\n",
      "  with pd.option_context('mode.use_inf_as_na', True):\n"
     ]
    },
    {
     "ename": "KeyError",
     "evalue": "'y'",
     "output_type": "error",
     "traceback": [
      "\u001b[1;31m---------------------------------------------------------------------------\u001b[0m",
      "\u001b[1;31mKeyError\u001b[0m                                  Traceback (most recent call last)",
      "File \u001b[1;32mc:\\Users\\mirza\\miniconda3\\envs\\python_eda\\Lib\\site-packages\\pandas\\core\\indexes\\base.py:3791\u001b[0m, in \u001b[0;36mIndex.get_loc\u001b[1;34m(self, key)\u001b[0m\n\u001b[0;32m   3790\u001b[0m \u001b[38;5;28;01mtry\u001b[39;00m:\n\u001b[1;32m-> 3791\u001b[0m     \u001b[38;5;28;01mreturn\u001b[39;00m \u001b[38;5;28;43mself\u001b[39;49m\u001b[38;5;241;43m.\u001b[39;49m\u001b[43m_engine\u001b[49m\u001b[38;5;241;43m.\u001b[39;49m\u001b[43mget_loc\u001b[49m\u001b[43m(\u001b[49m\u001b[43mcasted_key\u001b[49m\u001b[43m)\u001b[49m\n\u001b[0;32m   3792\u001b[0m \u001b[38;5;28;01mexcept\u001b[39;00m \u001b[38;5;167;01mKeyError\u001b[39;00m \u001b[38;5;28;01mas\u001b[39;00m err:\n",
      "File \u001b[1;32mindex.pyx:152\u001b[0m, in \u001b[0;36mpandas._libs.index.IndexEngine.get_loc\u001b[1;34m()\u001b[0m\n",
      "File \u001b[1;32mindex.pyx:181\u001b[0m, in \u001b[0;36mpandas._libs.index.IndexEngine.get_loc\u001b[1;34m()\u001b[0m\n",
      "File \u001b[1;32mpandas\\_libs\\hashtable_class_helper.pxi:7080\u001b[0m, in \u001b[0;36mpandas._libs.hashtable.PyObjectHashTable.get_item\u001b[1;34m()\u001b[0m\n",
      "File \u001b[1;32mpandas\\_libs\\hashtable_class_helper.pxi:7088\u001b[0m, in \u001b[0;36mpandas._libs.hashtable.PyObjectHashTable.get_item\u001b[1;34m()\u001b[0m\n",
      "\u001b[1;31mKeyError\u001b[0m: 'y'",
      "\nThe above exception was the direct cause of the following exception:\n",
      "\u001b[1;31mKeyError\u001b[0m                                  Traceback (most recent call last)",
      "Cell \u001b[1;32mIn[73], line 26\u001b[0m\n\u001b[0;32m     23\u001b[0m axes[\u001b[38;5;241m0\u001b[39m]\u001b[38;5;241m.\u001b[39mgrid(\u001b[38;5;28;01mFalse\u001b[39;00m)\n\u001b[0;32m     25\u001b[0m \u001b[38;5;66;03m# Plot for BTN-R10\u001b[39;00m\n\u001b[1;32m---> 26\u001b[0m \u001b[43msns\u001b[49m\u001b[38;5;241;43m.\u001b[39;49m\u001b[43mlineplot\u001b[49m\u001b[43m(\u001b[49m\u001b[43max\u001b[49m\u001b[38;5;241;43m=\u001b[39;49m\u001b[43maxes\u001b[49m\u001b[43m[\u001b[49m\u001b[38;5;241;43m1\u001b[39;49m\u001b[43m]\u001b[49m\u001b[43m,\u001b[49m\u001b[43m \u001b[49m\u001b[43mdata\u001b[49m\u001b[38;5;241;43m=\u001b[39;49m\u001b[43mdf_variety_10\u001b[49m\u001b[43m,\u001b[49m\u001b[43m \u001b[49m\u001b[43mx\u001b[49m\u001b[38;5;241;43m=\u001b[39;49m\u001b[38;5;124;43m'\u001b[39;49m\u001b[38;5;124;43mDay\u001b[39;49m\u001b[38;5;124;43m'\u001b[39;49m\u001b[43m,\u001b[49m\u001b[43m \u001b[49m\u001b[43my\u001b[49m\u001b[38;5;241;43m=\u001b[39;49m\u001b[38;5;124;43m'\u001b[39;49m\u001b[38;5;124;43mpH_change\u001b[39;49m\u001b[38;5;124;43m'\u001b[39;49m\u001b[43m,\u001b[49m\u001b[43m \u001b[49m\u001b[43mhue\u001b[49m\u001b[38;5;241;43m=\u001b[39;49m\u001b[38;5;124;43m'\u001b[39;49m\u001b[38;5;124;43mMedia\u001b[39;49m\u001b[38;5;124;43m'\u001b[39;49m\u001b[43m,\u001b[49m\u001b[43m \u001b[49m\u001b[43mmarker\u001b[49m\u001b[38;5;241;43m=\u001b[39;49m\u001b[38;5;124;43m'\u001b[39;49m\u001b[38;5;124;43mo\u001b[39;49m\u001b[38;5;124;43m'\u001b[39;49m\u001b[43m)\u001b[49m\n\u001b[0;32m     27\u001b[0m axes[\u001b[38;5;241m1\u001b[39m]\u001b[38;5;241m.\u001b[39mset_title(\u001b[38;5;124m'\u001b[39m\u001b[38;5;124mpH Change Over Time for BTN-R10\u001b[39m\u001b[38;5;124m'\u001b[39m, fontname\u001b[38;5;241m=\u001b[39m\u001b[38;5;124m'\u001b[39m\u001b[38;5;124mDejaVu Serif\u001b[39m\u001b[38;5;124m'\u001b[39m, fontweight\u001b[38;5;241m=\u001b[39m\u001b[38;5;124m'\u001b[39m\u001b[38;5;124mbold\u001b[39m\u001b[38;5;124m'\u001b[39m)\n\u001b[0;32m     28\u001b[0m axes[\u001b[38;5;241m1\u001b[39m]\u001b[38;5;241m.\u001b[39mset_xlabel(\u001b[38;5;124m'\u001b[39m\u001b[38;5;124mCultivation Days\u001b[39m\u001b[38;5;124m'\u001b[39m, fontname\u001b[38;5;241m=\u001b[39m\u001b[38;5;124m'\u001b[39m\u001b[38;5;124mDejaVu Serif\u001b[39m\u001b[38;5;124m'\u001b[39m, fontweight\u001b[38;5;241m=\u001b[39m\u001b[38;5;124m'\u001b[39m\u001b[38;5;124mbold\u001b[39m\u001b[38;5;124m'\u001b[39m)\n",
      "File \u001b[1;32mc:\\Users\\mirza\\miniconda3\\envs\\python_eda\\Lib\\site-packages\\seaborn\\relational.py:645\u001b[0m, in \u001b[0;36mlineplot\u001b[1;34m(data, x, y, hue, size, style, units, palette, hue_order, hue_norm, sizes, size_order, size_norm, dashes, markers, style_order, estimator, errorbar, n_boot, seed, orient, sort, err_style, err_kws, legend, ci, ax, **kwargs)\u001b[0m\n\u001b[0;32m    642\u001b[0m color \u001b[38;5;241m=\u001b[39m kwargs\u001b[38;5;241m.\u001b[39mpop(\u001b[38;5;124m\"\u001b[39m\u001b[38;5;124mcolor\u001b[39m\u001b[38;5;124m\"\u001b[39m, kwargs\u001b[38;5;241m.\u001b[39mpop(\u001b[38;5;124m\"\u001b[39m\u001b[38;5;124mc\u001b[39m\u001b[38;5;124m\"\u001b[39m, \u001b[38;5;28;01mNone\u001b[39;00m))\n\u001b[0;32m    643\u001b[0m kwargs[\u001b[38;5;124m\"\u001b[39m\u001b[38;5;124mcolor\u001b[39m\u001b[38;5;124m\"\u001b[39m] \u001b[38;5;241m=\u001b[39m _default_color(ax\u001b[38;5;241m.\u001b[39mplot, hue, color, kwargs)\n\u001b[1;32m--> 645\u001b[0m \u001b[43mp\u001b[49m\u001b[38;5;241;43m.\u001b[39;49m\u001b[43mplot\u001b[49m\u001b[43m(\u001b[49m\u001b[43max\u001b[49m\u001b[43m,\u001b[49m\u001b[43m \u001b[49m\u001b[43mkwargs\u001b[49m\u001b[43m)\u001b[49m\n\u001b[0;32m    646\u001b[0m \u001b[38;5;28;01mreturn\u001b[39;00m ax\n",
      "File \u001b[1;32mc:\\Users\\mirza\\miniconda3\\envs\\python_eda\\Lib\\site-packages\\seaborn\\relational.py:459\u001b[0m, in \u001b[0;36m_LinePlotter.plot\u001b[1;34m(self, ax, kws)\u001b[0m\n\u001b[0;32m    457\u001b[0m         lines\u001b[38;5;241m.\u001b[39mextend(ax\u001b[38;5;241m.\u001b[39mplot(unit_data[\u001b[38;5;124m\"\u001b[39m\u001b[38;5;124mx\u001b[39m\u001b[38;5;124m\"\u001b[39m], unit_data[\u001b[38;5;124m\"\u001b[39m\u001b[38;5;124my\u001b[39m\u001b[38;5;124m\"\u001b[39m], \u001b[38;5;241m*\u001b[39m\u001b[38;5;241m*\u001b[39mkws))\n\u001b[0;32m    458\u001b[0m \u001b[38;5;28;01melse\u001b[39;00m:\n\u001b[1;32m--> 459\u001b[0m     lines \u001b[38;5;241m=\u001b[39m ax\u001b[38;5;241m.\u001b[39mplot(sub_data[\u001b[38;5;124m\"\u001b[39m\u001b[38;5;124mx\u001b[39m\u001b[38;5;124m\"\u001b[39m], \u001b[43msub_data\u001b[49m\u001b[43m[\u001b[49m\u001b[38;5;124;43m\"\u001b[39;49m\u001b[38;5;124;43my\u001b[39;49m\u001b[38;5;124;43m\"\u001b[39;49m\u001b[43m]\u001b[49m, \u001b[38;5;241m*\u001b[39m\u001b[38;5;241m*\u001b[39mkws)\n\u001b[0;32m    461\u001b[0m \u001b[38;5;28;01mfor\u001b[39;00m line \u001b[38;5;129;01min\u001b[39;00m lines:\n\u001b[0;32m    463\u001b[0m     \u001b[38;5;28;01mif\u001b[39;00m \u001b[38;5;124m\"\u001b[39m\u001b[38;5;124mhue\u001b[39m\u001b[38;5;124m\"\u001b[39m \u001b[38;5;129;01min\u001b[39;00m sub_vars:\n",
      "File \u001b[1;32mc:\\Users\\mirza\\miniconda3\\envs\\python_eda\\Lib\\site-packages\\pandas\\core\\frame.py:3893\u001b[0m, in \u001b[0;36mDataFrame.__getitem__\u001b[1;34m(self, key)\u001b[0m\n\u001b[0;32m   3891\u001b[0m \u001b[38;5;28;01mif\u001b[39;00m \u001b[38;5;28mself\u001b[39m\u001b[38;5;241m.\u001b[39mcolumns\u001b[38;5;241m.\u001b[39mnlevels \u001b[38;5;241m>\u001b[39m \u001b[38;5;241m1\u001b[39m:\n\u001b[0;32m   3892\u001b[0m     \u001b[38;5;28;01mreturn\u001b[39;00m \u001b[38;5;28mself\u001b[39m\u001b[38;5;241m.\u001b[39m_getitem_multilevel(key)\n\u001b[1;32m-> 3893\u001b[0m indexer \u001b[38;5;241m=\u001b[39m \u001b[38;5;28;43mself\u001b[39;49m\u001b[38;5;241;43m.\u001b[39;49m\u001b[43mcolumns\u001b[49m\u001b[38;5;241;43m.\u001b[39;49m\u001b[43mget_loc\u001b[49m\u001b[43m(\u001b[49m\u001b[43mkey\u001b[49m\u001b[43m)\u001b[49m\n\u001b[0;32m   3894\u001b[0m \u001b[38;5;28;01mif\u001b[39;00m is_integer(indexer):\n\u001b[0;32m   3895\u001b[0m     indexer \u001b[38;5;241m=\u001b[39m [indexer]\n",
      "File \u001b[1;32mc:\\Users\\mirza\\miniconda3\\envs\\python_eda\\Lib\\site-packages\\pandas\\core\\indexes\\base.py:3798\u001b[0m, in \u001b[0;36mIndex.get_loc\u001b[1;34m(self, key)\u001b[0m\n\u001b[0;32m   3793\u001b[0m     \u001b[38;5;28;01mif\u001b[39;00m \u001b[38;5;28misinstance\u001b[39m(casted_key, \u001b[38;5;28mslice\u001b[39m) \u001b[38;5;129;01mor\u001b[39;00m (\n\u001b[0;32m   3794\u001b[0m         \u001b[38;5;28misinstance\u001b[39m(casted_key, abc\u001b[38;5;241m.\u001b[39mIterable)\n\u001b[0;32m   3795\u001b[0m         \u001b[38;5;129;01mand\u001b[39;00m \u001b[38;5;28many\u001b[39m(\u001b[38;5;28misinstance\u001b[39m(x, \u001b[38;5;28mslice\u001b[39m) \u001b[38;5;28;01mfor\u001b[39;00m x \u001b[38;5;129;01min\u001b[39;00m casted_key)\n\u001b[0;32m   3796\u001b[0m     ):\n\u001b[0;32m   3797\u001b[0m         \u001b[38;5;28;01mraise\u001b[39;00m InvalidIndexError(key)\n\u001b[1;32m-> 3798\u001b[0m     \u001b[38;5;28;01mraise\u001b[39;00m \u001b[38;5;167;01mKeyError\u001b[39;00m(key) \u001b[38;5;28;01mfrom\u001b[39;00m \u001b[38;5;21;01merr\u001b[39;00m\n\u001b[0;32m   3799\u001b[0m \u001b[38;5;28;01mexcept\u001b[39;00m \u001b[38;5;167;01mTypeError\u001b[39;00m:\n\u001b[0;32m   3800\u001b[0m     \u001b[38;5;66;03m# If we have a listlike key, _check_indexing_error will raise\u001b[39;00m\n\u001b[0;32m   3801\u001b[0m     \u001b[38;5;66;03m#  InvalidIndexError. Otherwise we fall through and re-raise\u001b[39;00m\n\u001b[0;32m   3802\u001b[0m     \u001b[38;5;66;03m#  the TypeError.\u001b[39;00m\n\u001b[0;32m   3803\u001b[0m     \u001b[38;5;28mself\u001b[39m\u001b[38;5;241m.\u001b[39m_check_indexing_error(key)\n",
      "\u001b[1;31mKeyError\u001b[0m: 'y'"
     ]
    },
    {
     "data": {
      "image/png": "[encoded data removed]",
      "text/plain": [
       "<Figure size 1400x700 with 2 Axes>"
      ]
     },
     "metadata": {},
     "output_type": "display_data"
    }
   ],
   "source": [
    "import matplotlib.pyplot as plt\n",
    "import seaborn as sns\n",
    "import pandas as pd\n",
    "\n",
    "# Sample data\n",
    "df = pd.read_excel(\"./microalgae_Exp_3.xlsx\")\n",
    "# Create a DataFrame\n",
    "# df = pd.DataFrame(data)\n",
    "\n",
    "# Separate the data by variety\n",
    "df_variety_08 = df[df['Variety'] == 'BTN-R08']\n",
    "df_variety_10 = df[df['Variety'] == 'BTN-R10']\n",
    "    \n",
    "# Create subplots\n",
    "fig, axes = plt.subplots(1, 2, figsize=(14, 7), sharey=True)\n",
    "\n",
    "# Plot for BTN-R08\n",
    "sns.lineplot(ax=axes[0], data=df_variety_08, x='Day', y='pH_change', hue='Media', marker='o')\n",
    "axes[0].set_title('pH Change Over Time for BTN-R08', fontname='DejaVu Serif', fontweight='bold')\n",
    "axes[0].set_xlabel('Cultivation Days', fontname='DejaVu Serif', fontweight='bold')\n",
    "axes[0].set_ylabel('pH Change', fontname='DejaVu Serif', fontweight='bold')\n",
    "axes[0].legend(title='Media', title_fontsize='13', prop={'family': 'DejaVu Serif', 'weight': 'bold'})\n",
    "axes[0].grid(False)\n",
    "\n",
    "# Plot for BTN-R10\n",
    "sns.lineplot(ax=axes[1], data=df_variety_10, x='Day', y='pH_change', hue='Media', marker='o')\n",
    "axes[1].set_title('pH Change Over Time for BTN-R10', fontname='DejaVu Serif', fontweight='bold')\n",
    "axes[1].set_xlabel('Cultivation Days', fontname='DejaVu Serif', fontweight='bold')\n",
    "axes[1].set_ylabel('pH Change', fontname='DejaVu Serif', fontweight='bold')\n",
    "axes[1].legend(title='Media', title_fontsize='13', prop={'family': 'DejaVu Serif', 'weight': 'bold'})\n",
    "axes[1].grid(False)\n",
    "\n",
    "# Adjust layout\n",
    "plt.tight_layout()\n",
    "# Save the plot as SVG\n",
    "plt.savefig('plot.png', format='png', dpi=300, bbox_inches='tight')\n",
    "# Show the plot\n",
    "plt.show()\n"
   ]
  },
  {
   "cell_type": "code",
   "execution_count": null,
   "id": "11668513",
   "metadata": {},
   "outputs": [],
   "source": [
    "import matplotlib.pyplot as plt\n",
    "import seaborn as sns\n",
    "df = pd.read_excel(\"./microalgae_Exp_2.xlsx\")\n",
    "def plot_pH_change(df, column_index, column_name):\n",
    "    column_y = df.columns[column_index]\n",
    "    print(f\"Plotting column: {column_y}\")\n",
    "\n",
    "    # Select the next column to get its name and values\n",
    "    if column_index + 1 < len(df.columns):\n",
    "        next_column = df.columns[column_index + 1]\n",
    "        next_column_values = df[next_column]\n",
    "    else:\n",
    "        next_column = None\n",
    "        next_column_values = None\n",
    "\n",
    "    # Create a DataFrame for each variety\n",
    "    df_variety_08 = df[df['Variety'] == 'BTN-R08']\n",
    "    df_variety_10 = df[df['Variety'] == 'BTN-R10']\n",
    "\n",
    "    # Create subplots\n",
    "    fig, axes = plt.subplots(1, 2, figsize=(14, 7), sharey=True)\n",
    "\n",
    "    # Plot for BTN-R08\n",
    "    sns.lineplot(ax=axes[0], data=df_variety_08, x='Day', y=column_y, hue='Media', marker='o')\n",
    "    axes[0].set_title(f'{column_y} Over Time for BTN-R08', fontname='DejaVu Serif', fontweight='bold')\n",
    "    axes[0].set_xlabel('Cultivation Days', fontname='DejaVu Serif', fontweight='bold')\n",
    "    axes[0].set_ylabel(column_y, fontname='DejaVu Serif', fontweight='bold')\n",
    "    axes[0].legend(title=column_name, title_fontsize='13', prop={'family': 'DejaVu Serif', 'weight': 'bold'})\n",
    "    axes[0].grid(False)\n",
    "\n",
    "    # Plot for BTN-R10\n",
    "    sns.lineplot(ax=axes[1], data=df_variety_10, x='Day', y=column_y, hue='Media', marker='o')\n",
    "    axes[1].set_title(f'{column_y} Over Time for BTN-R10', fontname='DejaVu Serif', fontweight='bold')\n",
    "    axes[1].set_xlabel('Cultivation Days', fontname='DejaVu Serif', fontweight='bold')\n",
    "    axes[1].set_ylabel(column_y, fontname='DejaVu Serif', fontweight='bold')\n",
    "    axes[1].legend(title=column_name, title_fontsize='13', prop={'family': 'DejaVu Serif', 'weight': 'bold'})\n",
    "    axes[1].grid(False)\n",
    "\n",
    "    # Adjust layout\n",
    "    plt.tight_layout()\n",
    "\n",
    "    # Save the plot as an image file\n",
    "    plt.savefig(f'{column_y}.png', dpi=300)\n",
    "\n",
    "    # Clear the screen\n",
    "    plt.clf()\n",
    "\n",
    "# Run the function for each column starting from the fourth column\n",
    "for column_index in range(3, len(df.columns)):\n",
    "    column_name = df.columns[column_index]\n",
    "    plot_pH_change(df, column_index, column_name)"
   ]
  },
  {
   "cell_type": "code",
   "execution_count": 74,
   "id": "d4ddefdd",
   "metadata": {},
   "outputs": [
    {
     "name": "stdout",
     "output_type": "stream",
     "text": [
      "Plotting column: pH_change\n"
     ]
    },
    {
     "name": "stderr",
     "output_type": "stream",
     "text": [
      "c:\\Users\\mirza\\miniconda3\\envs\\python_eda\\Lib\\site-packages\\seaborn\\_oldcore.py:1119: FutureWarning: use_inf_as_na option is deprecated and will be removed in a future version. Convert inf values to NaN before operating instead.\n",
      "  with pd.option_context('mode.use_inf_as_na', True):\n",
      "c:\\Users\\mirza\\miniconda3\\envs\\python_eda\\Lib\\site-packages\\seaborn\\_oldcore.py:1119: FutureWarning: use_inf_as_na option is deprecated and will be removed in a future version. Convert inf values to NaN before operating instead.\n",
      "  with pd.option_context('mode.use_inf_as_na', True):\n",
      "c:\\Users\\mirza\\miniconda3\\envs\\python_eda\\Lib\\site-packages\\seaborn\\_oldcore.py:1119: FutureWarning: use_inf_as_na option is deprecated and will be removed in a future version. Convert inf values to NaN before operating instead.\n",
      "  with pd.option_context('mode.use_inf_as_na', True):\n",
      "c:\\Users\\mirza\\miniconda3\\envs\\python_eda\\Lib\\site-packages\\seaborn\\_oldcore.py:1119: FutureWarning: use_inf_as_na option is deprecated and will be removed in a future version. Convert inf values to NaN before operating instead.\n",
      "  with pd.option_context('mode.use_inf_as_na', True):\n"
     ]
    },
    {
     "name": "stdout",
     "output_type": "stream",
     "text": [
      "Plotting column: Electrical Conductvity\n"
     ]
    },
    {
     "name": "stderr",
     "output_type": "stream",
     "text": [
      "c:\\Users\\mirza\\miniconda3\\envs\\python_eda\\Lib\\site-packages\\seaborn\\_oldcore.py:1119: FutureWarning: use_inf_as_na option is deprecated and will be removed in a future version. Convert inf values to NaN before operating instead.\n",
      "  with pd.option_context('mode.use_inf_as_na', True):\n",
      "c:\\Users\\mirza\\miniconda3\\envs\\python_eda\\Lib\\site-packages\\seaborn\\_oldcore.py:1119: FutureWarning: use_inf_as_na option is deprecated and will be removed in a future version. Convert inf values to NaN before operating instead.\n",
      "  with pd.option_context('mode.use_inf_as_na', True):\n",
      "c:\\Users\\mirza\\miniconda3\\envs\\python_eda\\Lib\\site-packages\\seaborn\\_oldcore.py:1119: FutureWarning: use_inf_as_na option is deprecated and will be removed in a future version. Convert inf values to NaN before operating instead.\n",
      "  with pd.option_context('mode.use_inf_as_na', True):\n",
      "c:\\Users\\mirza\\miniconda3\\envs\\python_eda\\Lib\\site-packages\\seaborn\\_oldcore.py:1119: FutureWarning: use_inf_as_na option is deprecated and will be removed in a future version. Convert inf values to NaN before operating instead.\n",
      "  with pd.option_context('mode.use_inf_as_na', True):\n"
     ]
    },
    {
     "name": "stdout",
     "output_type": "stream",
     "text": [
      "Plotting column: Total Dissolved susbtances\n"
     ]
    },
    {
     "name": "stderr",
     "output_type": "stream",
     "text": [
      "c:\\Users\\mirza\\miniconda3\\envs\\python_eda\\Lib\\site-packages\\seaborn\\_oldcore.py:1119: FutureWarning: use_inf_as_na option is deprecated and will be removed in a future version. Convert inf values to NaN before operating instead.\n",
      "  with pd.option_context('mode.use_inf_as_na', True):\n",
      "c:\\Users\\mirza\\miniconda3\\envs\\python_eda\\Lib\\site-packages\\seaborn\\_oldcore.py:1119: FutureWarning: use_inf_as_na option is deprecated and will be removed in a future version. Convert inf values to NaN before operating instead.\n",
      "  with pd.option_context('mode.use_inf_as_na', True):\n",
      "c:\\Users\\mirza\\miniconda3\\envs\\python_eda\\Lib\\site-packages\\seaborn\\_oldcore.py:1119: FutureWarning: use_inf_as_na option is deprecated and will be removed in a future version. Convert inf values to NaN before operating instead.\n",
      "  with pd.option_context('mode.use_inf_as_na', True):\n",
      "c:\\Users\\mirza\\miniconda3\\envs\\python_eda\\Lib\\site-packages\\seaborn\\_oldcore.py:1119: FutureWarning: use_inf_as_na option is deprecated and will be removed in a future version. Convert inf values to NaN before operating instead.\n",
      "  with pd.option_context('mode.use_inf_as_na', True):\n"
     ]
    },
    {
     "name": "stdout",
     "output_type": "stream",
     "text": [
      "Plotting column: Temperature\n"
     ]
    },
    {
     "name": "stderr",
     "output_type": "stream",
     "text": [
      "c:\\Users\\mirza\\miniconda3\\envs\\python_eda\\Lib\\site-packages\\seaborn\\_oldcore.py:1119: FutureWarning: use_inf_as_na option is deprecated and will be removed in a future version. Convert inf values to NaN before operating instead.\n",
      "  with pd.option_context('mode.use_inf_as_na', True):\n",
      "c:\\Users\\mirza\\miniconda3\\envs\\python_eda\\Lib\\site-packages\\seaborn\\_oldcore.py:1119: FutureWarning: use_inf_as_na option is deprecated and will be removed in a future version. Convert inf values to NaN before operating instead.\n",
      "  with pd.option_context('mode.use_inf_as_na', True):\n",
      "c:\\Users\\mirza\\miniconda3\\envs\\python_eda\\Lib\\site-packages\\seaborn\\_oldcore.py:1119: FutureWarning: use_inf_as_na option is deprecated and will be removed in a future version. Convert inf values to NaN before operating instead.\n",
      "  with pd.option_context('mode.use_inf_as_na', True):\n",
      "c:\\Users\\mirza\\miniconda3\\envs\\python_eda\\Lib\\site-packages\\seaborn\\_oldcore.py:1119: FutureWarning: use_inf_as_na option is deprecated and will be removed in a future version. Convert inf values to NaN before operating instead.\n",
      "  with pd.option_context('mode.use_inf_as_na', True):\n"
     ]
    },
    {
     "name": "stdout",
     "output_type": "stream",
     "text": [
      "Plotting column: OD\n"
     ]
    },
    {
     "name": "stderr",
     "output_type": "stream",
     "text": [
      "c:\\Users\\mirza\\miniconda3\\envs\\python_eda\\Lib\\site-packages\\seaborn\\_oldcore.py:1119: FutureWarning: use_inf_as_na option is deprecated and will be removed in a future version. Convert inf values to NaN before operating instead.\n",
      "  with pd.option_context('mode.use_inf_as_na', True):\n",
      "c:\\Users\\mirza\\miniconda3\\envs\\python_eda\\Lib\\site-packages\\seaborn\\_oldcore.py:1119: FutureWarning: use_inf_as_na option is deprecated and will be removed in a future version. Convert inf values to NaN before operating instead.\n",
      "  with pd.option_context('mode.use_inf_as_na', True):\n",
      "c:\\Users\\mirza\\miniconda3\\envs\\python_eda\\Lib\\site-packages\\seaborn\\_oldcore.py:1119: FutureWarning: use_inf_as_na option is deprecated and will be removed in a future version. Convert inf values to NaN before operating instead.\n",
      "  with pd.option_context('mode.use_inf_as_na', True):\n",
      "c:\\Users\\mirza\\miniconda3\\envs\\python_eda\\Lib\\site-packages\\seaborn\\_oldcore.py:1119: FutureWarning: use_inf_as_na option is deprecated and will be removed in a future version. Convert inf values to NaN before operating instead.\n",
      "  with pd.option_context('mode.use_inf_as_na', True):\n"
     ]
    },
    {
     "name": "stdout",
     "output_type": "stream",
     "text": [
      "Plotting column: Biomass Production\n"
     ]
    },
    {
     "name": "stderr",
     "output_type": "stream",
     "text": [
      "c:\\Users\\mirza\\miniconda3\\envs\\python_eda\\Lib\\site-packages\\seaborn\\_oldcore.py:1119: FutureWarning: use_inf_as_na option is deprecated and will be removed in a future version. Convert inf values to NaN before operating instead.\n",
      "  with pd.option_context('mode.use_inf_as_na', True):\n",
      "c:\\Users\\mirza\\miniconda3\\envs\\python_eda\\Lib\\site-packages\\seaborn\\_oldcore.py:1119: FutureWarning: use_inf_as_na option is deprecated and will be removed in a future version. Convert inf values to NaN before operating instead.\n",
      "  with pd.option_context('mode.use_inf_as_na', True):\n",
      "c:\\Users\\mirza\\miniconda3\\envs\\python_eda\\Lib\\site-packages\\seaborn\\_oldcore.py:1119: FutureWarning: use_inf_as_na option is deprecated and will be removed in a future version. Convert inf values to NaN before operating instead.\n",
      "  with pd.option_context('mode.use_inf_as_na', True):\n",
      "c:\\Users\\mirza\\miniconda3\\envs\\python_eda\\Lib\\site-packages\\seaborn\\_oldcore.py:1119: FutureWarning: use_inf_as_na option is deprecated and will be removed in a future version. Convert inf values to NaN before operating instead.\n",
      "  with pd.option_context('mode.use_inf_as_na', True):\n"
     ]
    },
    {
     "name": "stdout",
     "output_type": "stream",
     "text": [
      "Plotting column: Productivity\n"
     ]
    },
    {
     "name": "stderr",
     "output_type": "stream",
     "text": [
      "c:\\Users\\mirza\\miniconda3\\envs\\python_eda\\Lib\\site-packages\\seaborn\\_oldcore.py:1119: FutureWarning: use_inf_as_na option is deprecated and will be removed in a future version. Convert inf values to NaN before operating instead.\n",
      "  with pd.option_context('mode.use_inf_as_na', True):\n",
      "c:\\Users\\mirza\\miniconda3\\envs\\python_eda\\Lib\\site-packages\\seaborn\\_oldcore.py:1119: FutureWarning: use_inf_as_na option is deprecated and will be removed in a future version. Convert inf values to NaN before operating instead.\n",
      "  with pd.option_context('mode.use_inf_as_na', True):\n",
      "c:\\Users\\mirza\\miniconda3\\envs\\python_eda\\Lib\\site-packages\\seaborn\\_oldcore.py:1119: FutureWarning: use_inf_as_na option is deprecated and will be removed in a future version. Convert inf values to NaN before operating instead.\n",
      "  with pd.option_context('mode.use_inf_as_na', True):\n",
      "c:\\Users\\mirza\\miniconda3\\envs\\python_eda\\Lib\\site-packages\\seaborn\\_oldcore.py:1119: FutureWarning: use_inf_as_na option is deprecated and will be removed in a future version. Convert inf values to NaN before operating instead.\n",
      "  with pd.option_context('mode.use_inf_as_na', True):\n"
     ]
    },
    {
     "name": "stdout",
     "output_type": "stream",
     "text": [
      "Plotting column: Doubling_time\n"
     ]
    },
    {
     "name": "stderr",
     "output_type": "stream",
     "text": [
      "c:\\Users\\mirza\\miniconda3\\envs\\python_eda\\Lib\\site-packages\\seaborn\\_oldcore.py:1119: FutureWarning: use_inf_as_na option is deprecated and will be removed in a future version. Convert inf values to NaN before operating instead.\n",
      "  with pd.option_context('mode.use_inf_as_na', True):\n",
      "c:\\Users\\mirza\\miniconda3\\envs\\python_eda\\Lib\\site-packages\\seaborn\\_oldcore.py:1119: FutureWarning: use_inf_as_na option is deprecated and will be removed in a future version. Convert inf values to NaN before operating instead.\n",
      "  with pd.option_context('mode.use_inf_as_na', True):\n",
      "c:\\Users\\mirza\\miniconda3\\envs\\python_eda\\Lib\\site-packages\\seaborn\\_oldcore.py:1119: FutureWarning: use_inf_as_na option is deprecated and will be removed in a future version. Convert inf values to NaN before operating instead.\n",
      "  with pd.option_context('mode.use_inf_as_na', True):\n",
      "c:\\Users\\mirza\\miniconda3\\envs\\python_eda\\Lib\\site-packages\\seaborn\\_oldcore.py:1119: FutureWarning: use_inf_as_na option is deprecated and will be removed in a future version. Convert inf values to NaN before operating instead.\n",
      "  with pd.option_context('mode.use_inf_as_na', True):\n"
     ]
    },
    {
     "data": {
      "text/plain": [
       "<Figure size 1400x700 with 0 Axes>"
      ]
     },
     "metadata": {},
     "output_type": "display_data"
    },
    {
     "data": {
      "text/plain": [
       "<Figure size 1400x700 with 0 Axes>"
      ]
     },
     "metadata": {},
     "output_type": "display_data"
    },
    {
     "data": {
      "text/plain": [
       "<Figure size 1400x700 with 0 Axes>"
      ]
     },
     "metadata": {},
     "output_type": "display_data"
    },
    {
     "data": {
      "text/plain": [
       "<Figure size 1400x700 with 0 Axes>"
      ]
     },
     "metadata": {},
     "output_type": "display_data"
    },
    {
     "data": {
      "text/plain": [
       "<Figure size 1400x700 with 0 Axes>"
      ]
     },
     "metadata": {},
     "output_type": "display_data"
    },
    {
     "data": {
      "text/plain": [
       "<Figure size 1400x700 with 0 Axes>"
      ]
     },
     "metadata": {},
     "output_type": "display_data"
    },
    {
     "data": {
      "text/plain": [
       "<Figure size 1400x700 with 0 Axes>"
      ]
     },
     "metadata": {},
     "output_type": "display_data"
    },
    {
     "data": {
      "text/plain": [
       "<Figure size 1400x700 with 0 Axes>"
      ]
     },
     "metadata": {},
     "output_type": "display_data"
    }
   ],
   "source": [
    "# smaller values\n",
    "\n",
    "import pandas as pd\n",
    "import matplotlib.pyplot as plt\n",
    "import seaborn as sns\n",
    "\n",
    "# Read the data from the Excel file\n",
    "df = pd.read_excel(\"./microalgae_Exp_2.xlsx\")\n",
    "\n",
    "def plot_pH_change(df, column_index, column_name):\n",
    "    column_y = df.columns[column_index]\n",
    "    print(f\"Plotting column: {column_y}\")\n",
    "\n",
    "    # Check for the next column\n",
    "    if column_index + 1 < len(df.columns):\n",
    "        next_column = df.columns[column_index + 1]\n",
    "        next_column_values = df[next_column]\n",
    "    else:\n",
    "        next_column = None\n",
    "        next_column_values = None\n",
    "\n",
    "    # Create DataFrames for each variety\n",
    "    df_variety_08 = df[df['Variety'] == 'BTN-R08']\n",
    "    df_variety_10 = df[df['Variety'] == 'BTN-R10']\n",
    "\n",
    "    # Create subplots\n",
    "    fig, axes = plt.subplots(1, 2, figsize=(14, 7), sharey=True)\n",
    "\n",
    "    # Plot for BTN-R08\n",
    "    sns.lineplot(ax=axes[0], data=df_variety_08, x='Day', y=column_y, hue='Media', marker='o')\n",
    "    axes[0].set_title(f'{column_y} Over Time for BTN-R08', fontname='DejaVu Serif', fontweight='bold')\n",
    "    axes[0].set_xlabel('Cultivation Days', fontname='DejaVu Serif', fontweight='bold')\n",
    "    axes[0].set_ylabel(column_y, fontname='DejaVu Serif', fontweight='bold')\n",
    "    axes[0].legend(title=column_name, title_fontsize='13', prop={'family': 'DejaVu Serif', 'weight': 'bold'})\n",
    "    axes[0].grid(False)\n",
    "\n",
    "    # Plot for BTN-R10\n",
    "    sns.lineplot(ax=axes[1], data=df_variety_10, x='Day', y=column_y, hue='Media', marker='o')\n",
    "    axes[1].set_title(f'{column_y} Over Time for BTN-R10', fontname='DejaVu Serif', fontweight='bold')\n",
    "    axes[1].set_xlabel('Cultivation Days', fontname='DejaVu Serif', fontweight='bold')\n",
    "    axes[1].set_ylabel(column_y, fontname='DejaVu Serif', fontweight='bold')\n",
    "    axes[1].legend(title=column_name, title_fontsize='13', prop={'family': 'DejaVu Serif', 'weight': 'bold'})\n",
    "    axes[1].grid(False)\n",
    "\n",
    "    # Adjust layout and save the plot\n",
    "    plt.tight_layout()\n",
    "    plt.savefig(f'{column_y}.png', dpi=300)\n",
    "    plt.clf()\n",
    "\n",
    "# Run the function for each column starting from the fourth column\n",
    "for column_index in range(3, len(df.columns)):\n",
    "    column_name = df.columns[column_index]\n",
    "    plot_pH_change(df, column_index, column_name)"
   ]
  }
 ],
 "metadata": {
  "kernelspec": {
   "display_name": "Python 3 (ipykernel)",
   "language": "python",
   "name": "python3"
  },
  "language_info": {
   "codemirror_mode": {
    "name": "ipython",
    "version": 3
   },
   "file_extension": ".py",
   "mimetype": "text/x-python",
   "name": "python",
   "nbconvert_exporter": "python",
   "pygments_lexer": "ipython3",
   "version": "3.11.7"
  }
 },
 "nbformat": 4,
 "nbformat_minor": 5
}
