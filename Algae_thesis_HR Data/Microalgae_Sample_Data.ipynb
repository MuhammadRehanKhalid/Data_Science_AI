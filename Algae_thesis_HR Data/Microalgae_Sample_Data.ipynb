{
 "cells": [
  {
   "cell_type": "code",
   "execution_count": 1,
   "id": "763b2bfd-8bd4-492c-938c-ac7a9a20f966",
   "metadata": {},
   "outputs": [
    {
     "name": "stdout",
     "output_type": "stream",
     "text": [
      "['STIXNonUnicode', 'cmmi10', 'STIXSizeThreeSym', 'STIXGeneral', 'DejaVu Serif', 'cmtt10', 'DejaVu Serif', 'STIXNonUnicode', 'STIXSizeOneSym', 'cmex10', 'DejaVu Serif', 'DejaVu Sans', 'DejaVu Sans Mono', 'DejaVu Sans Display', 'cmsy10', 'STIXSizeTwoSym', 'STIXSizeOneSym', 'STIXSizeFiveSym', 'STIXGeneral', 'STIXNonUnicode', 'STIXSizeFourSym', 'STIXSizeThreeSym', 'DejaVu Sans Mono', 'DejaVu Serif Display', 'DejaVu Sans Mono', 'DejaVu Sans', 'STIXGeneral', 'STIXSizeTwoSym', 'cmss10', 'STIXSizeFourSym', 'STIXGeneral', 'cmb10', 'DejaVu Serif', 'STIXNonUnicode', 'DejaVu Sans', 'DejaVu Sans Mono', 'DejaVu Sans', 'cmr10', 'Centaur', 'Berlin Sans FB', 'Franklin Gothic Book', 'Franklin Gothic Medium', 'Perpetua Titling MT', 'Microsoft Himalaya', 'Lucida Fax', 'Arial', 'Segoe UI', 'Leelawadee UI', 'Book Antiqua', 'Myanmar Text', 'Kristen ITC', 'Bodoni MT', 'Rockwell Extra Bold', 'Calibri', 'Times New Roman', 'Algerian', 'Californian FB', 'Simplified Arabic Fixed', 'Arial', 'Consolas', 'Lucida Console', 'Segoe UI', 'Magneto', 'Garamond', 'Niagara Solid', 'Arial', 'Arial', 'Lucida Bright', 'Tempus Sans ITC', 'Constantia', 'Century Schoolbook', 'Lucida Sans Typewriter', 'Old English Text MT', 'Rockwell', 'Dubai', 'Verdana', 'Elephant', 'Constantia', 'Lucida Sans', 'Bodoni MT', 'Segoe UI Variable', 'Chiller', 'Book Antiqua', 'Edwardian Script ITC', 'Franklin Gothic Demi Cond', 'Gill Sans Ultra Bold Condensed', 'Century Schoolbook', 'Segoe UI Emoji', 'Aldhabi', 'Georgia', 'Rockwell', 'Kunstler Script', 'SimSun', 'Segoe UI', 'Mistral', 'Bodoni MT', 'Book Antiqua', 'Symbol', 'Yu Gothic', 'Segoe UI', 'Gadugi', 'Microsoft Uighur', 'Microsoft JhengHei', 'Arial', 'Snap ITC', 'HoloLens MDL2 Assets', 'Verdana', 'Segoe Script', 'Franklin Gothic Demi', 'Andalus', 'Yu Gothic', 'Adobe Devanagari', 'Candara', 'Tahoma', 'Sitka', 'Segoe UI', 'Harrington', 'Gill Sans MT Ext Condensed Bold', 'Wingdings 2', 'Corbel', 'Segoe UI', 'Goudy Old Style', 'Candara', 'Jokerman', 'Bodoni MT', 'Haettenschweiler', 'Wide Latin', 'Rockwell', 'Berlin Sans FB Demi', 'Bauhaus 93', 'Candara', 'Bodoni MT', 'Segoe UI', 'Leelawadee', 'Tw Cen MT Condensed Extra Bold', 'Palatino Linotype', 'Cambria', 'Verdana', 'Lucida Sans', 'Times New Roman', 'Vivaldi', 'Bahnschrift', 'Adobe Devanagari', 'Franklin Gothic Demi', 'Stencil', 'Webdings', 'Segoe UI', 'Dubai', 'Eras Bold ITC', 'Goudy Old Style', 'Cambria', 'Trebuchet MS', 'Calibri', 'Gill Sans MT', 'Courier New', 'Imprint MT Shadow', 'Comic Sans MS', 'Simplified Arabic', 'Franklin Gothic Medium Cond', 'Dubai', 'Gabriola', 'Sylfaen', 'Century Gothic', 'Eras Demi ITC', 'MV Boli', 'Javanese Text', 'Corbel', 'Sakkal Majalla', 'Perpetua', 'Forte', 'Freestyle Script', 'Castellar', 'Microsoft New Tai Lue', 'Fences', 'Bell MT', 'Perpetua', 'Gill Sans Ultra Bold', 'Segoe UI Historic', 'Sakkal Majalla', 'Brush Script MT', 'Georgia', 'Trebuchet MS', 'Blackadder ITC', 'Arial', 'Wingdings', 'Calibri', 'Myanmar Text', 'Sans Serif Collection', 'Bell MT', 'MS Reference Sans Serif', 'Corbel', 'Niagara Engraved', 'Berlin Sans FB', 'Microsoft New Tai Lue', 'Microsoft PhagsPa', 'Maiandra GD', 'Mongolian Baiti', 'Century Gothic', 'Gill Sans MT Condensed', 'Arial', 'Malgun Gothic', 'Onyx', 'Traditional Arabic', 'Courier New', 'Cooper Black', 'Engravers MT', 'Palatino Linotype', 'Broadway', 'Tw Cen MT Condensed', 'Microsoft Tai Le', 'Rage Italic', 'Microsoft Tai Le', 'Lucida Fax', 'Segoe Script', 'Rockwell Condensed', 'Gigi', 'Leelawadee UI', 'MS Outlook', 'Malgun Gothic', 'Lucida Sans Typewriter', 'Calibri', 'Wingdings 3', 'Century Gothic', 'Tw Cen MT Condensed', 'Bookman Old Style', 'Yu Gothic', 'Comic Sans MS', 'Verdana', 'Segoe MDL2 Assets', 'Franklin Gothic Heavy', 'Consolas', 'Tw Cen MT', 'Nirmala UI', 'Bodoni MT', 'Bookman Old Style', 'Microsoft YaHei', 'Eras Light ITC', 'Impact', 'Century Schoolbook', 'MingLiU-ExtB', 'Microsoft JhengHei', 'Corbel', 'Colonna MT', 'Microsoft YaHei', 'Segoe Print', 'Lucida Sans Typewriter', 'Playbill', 'Arabic Typesetting', 'Tw Cen MT', 'MS Gothic', 'Century', 'Trebuchet MS', 'OCR A Extended', 'Palatino Linotype', 'Courier New', 'Lucida Fax', 'Curlz MT', 'Book Antiqua', 'Leelawadee UI', 'Georgia', 'Bookshelf Symbol 7', 'Microsoft PhagsPa', 'Perpetua Titling MT', 'Lucida Sans Unicode', 'Cambria', 'Consolas', 'Britannic Bold', 'Tw Cen MT', 'Papyrus', 'Cambria', 'Juice ITC', 'Franklin Gothic Book', 'Palatino Linotype', 'Franklin Gothic Heavy', 'Microsoft Yi Baiti', 'Ebrima', 'Constantia', 'Perpetua', 'Felix Titling', 'Lucida Calligraphy', 'Bodoni MT', 'Baskerville Old Face', 'Showcard Gothic', 'SimSun-ExtB', 'Californian FB', 'Nirmala UI', 'Gill Sans MT', 'Lucida Bright', 'Comic Sans MS', 'Urdu Typesetting', 'Courier New', 'Bodoni MT', 'Adobe Devanagari', 'Trebuchet MS', 'Perpetua', 'Garamond', 'Corbel', 'Harlow Solid Italic', 'Segoe UI Symbol', 'Microsoft Sans Serif', 'Traditional Arabic', 'Gill Sans MT', 'Goudy Old Style', 'Viner Hand ITC', 'Urdu Typesetting', 'Tahoma', 'Agency FB', 'Poor Richard', 'Garamond', 'Gadugi', 'Segoe UI', 'Bradley Hand ITC', 'Bodoni MT', 'Lucida Sans', 'Calisto MT', 'Copperplate Gothic Light', 'Palace Script MT', 'Nirmala UI', 'Calisto MT', 'Informal Roman', 'Century Schoolbook', 'Eras Medium ITC', 'Century Gothic', 'Pristina', 'Microsoft Uighur', 'Lucida Fax', 'Simplified Arabic', 'Microsoft JhengHei', 'Copperplate Gothic Bold', 'Lucida Handwriting', 'Vladimir Script', 'Matura MT Script Capitals', 'Bodoni MT', 'Lucida Sans Typewriter', 'Franklin Gothic Medium', 'High Tower Text', 'French Script MT', 'Rockwell', 'Goudy Stout', 'Lucida Sans', 'ZWAdobeF', 'Calibri', 'Agency FB', 'Yu Gothic', 'Ravie', 'Elephant', 'Dubai', 'Californian FB', 'Sitka', 'Origin', 'Script MT Bold', 'Candara', 'MT Extra', 'Tw Cen MT', 'Bell MT', 'Microsoft YaHei', 'Malgun Gothic', 'Comic Sans MS', 'Arial', 'Segoe UI', 'Modern No. 20', 'Rockwell Condensed', 'Adobe Devanagari', 'Monotype Corsiva', 'Footlight MT Light', 'Georgia', 'Arial Rounded MT Bold', 'Lucida Bright', 'Segoe UI', 'Ebrima', 'Calisto MT', 'Parchment', 'Bodoni MT', 'Candara', 'Bernard MT Condensed', 'Bookman Old Style', 'Leelawadee', 'Times New Roman', 'MS Reference Specialty', 'High Tower Text', 'Corbel', 'Bookman Old Style', 'Gloucester MT Extra Condensed', 'Ink Free', 'Segoe Fluent Icons', 'Constantia', 'Times New Roman', 'Arial', 'Candara', 'Calisto MT', 'Lucida Bright', 'Segoe UI', 'Calibri', 'Gill Sans MT', 'Segoe Print', 'Consolas']\n"
     ]
    }
   ],
   "source": [
    "import matplotlib.font_manager\n",
    "\n",
    "fonts = [f.name for f in matplotlib.font_manager.fontManager.ttflist]\n",
    "print(fonts)\n"
   ]
  },
  {
   "cell_type": "code",
   "execution_count": 1,
   "id": "2687ad43-19b9-4796-be59-f0ccd38a0e21",
   "metadata": {},
   "outputs": [
    {
     "ename": "FileNotFoundError",
     "evalue": "[Errno 2] No such file or directory: './microalgae_Exp_3.xlsx'",
     "output_type": "error",
     "traceback": [
      "\u001b[1;31m---------------------------------------------------------------------------\u001b[0m",
      "\u001b[1;31mFileNotFoundError\u001b[0m                         Traceback (most recent call last)",
      "Cell \u001b[1;32mIn[1], line 6\u001b[0m\n\u001b[0;32m      3\u001b[0m \u001b[38;5;28;01mimport\u001b[39;00m \u001b[38;5;21;01mpandas\u001b[39;00m \u001b[38;5;28;01mas\u001b[39;00m \u001b[38;5;21;01mpd\u001b[39;00m\n\u001b[0;32m      5\u001b[0m \u001b[38;5;66;03m# Sample data\u001b[39;00m\n\u001b[1;32m----> 6\u001b[0m df \u001b[38;5;241m=\u001b[39m \u001b[43mpd\u001b[49m\u001b[38;5;241;43m.\u001b[39;49m\u001b[43mread_excel\u001b[49m\u001b[43m(\u001b[49m\u001b[38;5;124;43m\"\u001b[39;49m\u001b[38;5;124;43m./microalgae_Exp_3.xlsx\u001b[39;49m\u001b[38;5;124;43m\"\u001b[39;49m\u001b[43m)\u001b[49m\n\u001b[0;32m      7\u001b[0m \u001b[38;5;66;03m# Create a DataFrame\u001b[39;00m\n\u001b[0;32m      8\u001b[0m \u001b[38;5;66;03m# df = pd.DataFrame(data)\u001b[39;00m\n\u001b[0;32m      9\u001b[0m \n\u001b[0;32m     10\u001b[0m \u001b[38;5;66;03m# Separate the data by variety\u001b[39;00m\n\u001b[0;32m     11\u001b[0m df_variety_08 \u001b[38;5;241m=\u001b[39m df[df[\u001b[38;5;124m'\u001b[39m\u001b[38;5;124mVariety\u001b[39m\u001b[38;5;124m'\u001b[39m] \u001b[38;5;241m==\u001b[39m \u001b[38;5;124m'\u001b[39m\u001b[38;5;124mBTN-R08\u001b[39m\u001b[38;5;124m'\u001b[39m]\n",
      "File \u001b[1;32mc:\\Users\\mirza\\miniconda3\\envs\\python_eda\\Lib\\site-packages\\pandas\\io\\excel\\_base.py:504\u001b[0m, in \u001b[0;36mread_excel\u001b[1;34m(io, sheet_name, header, names, index_col, usecols, dtype, engine, converters, true_values, false_values, skiprows, nrows, na_values, keep_default_na, na_filter, verbose, parse_dates, date_parser, date_format, thousands, decimal, comment, skipfooter, storage_options, dtype_backend, engine_kwargs)\u001b[0m\n\u001b[0;32m    502\u001b[0m \u001b[38;5;28;01mif\u001b[39;00m \u001b[38;5;129;01mnot\u001b[39;00m \u001b[38;5;28misinstance\u001b[39m(io, ExcelFile):\n\u001b[0;32m    503\u001b[0m     should_close \u001b[38;5;241m=\u001b[39m \u001b[38;5;28;01mTrue\u001b[39;00m\n\u001b[1;32m--> 504\u001b[0m     io \u001b[38;5;241m=\u001b[39m \u001b[43mExcelFile\u001b[49m\u001b[43m(\u001b[49m\n\u001b[0;32m    505\u001b[0m \u001b[43m        \u001b[49m\u001b[43mio\u001b[49m\u001b[43m,\u001b[49m\n\u001b[0;32m    506\u001b[0m \u001b[43m        \u001b[49m\u001b[43mstorage_options\u001b[49m\u001b[38;5;241;43m=\u001b[39;49m\u001b[43mstorage_options\u001b[49m\u001b[43m,\u001b[49m\n\u001b[0;32m    507\u001b[0m \u001b[43m        \u001b[49m\u001b[43mengine\u001b[49m\u001b[38;5;241;43m=\u001b[39;49m\u001b[43mengine\u001b[49m\u001b[43m,\u001b[49m\n\u001b[0;32m    508\u001b[0m \u001b[43m        \u001b[49m\u001b[43mengine_kwargs\u001b[49m\u001b[38;5;241;43m=\u001b[39;49m\u001b[43mengine_kwargs\u001b[49m\u001b[43m,\u001b[49m\n\u001b[0;32m    509\u001b[0m \u001b[43m    \u001b[49m\u001b[43m)\u001b[49m\n\u001b[0;32m    510\u001b[0m \u001b[38;5;28;01melif\u001b[39;00m engine \u001b[38;5;129;01mand\u001b[39;00m engine \u001b[38;5;241m!=\u001b[39m io\u001b[38;5;241m.\u001b[39mengine:\n\u001b[0;32m    511\u001b[0m     \u001b[38;5;28;01mraise\u001b[39;00m \u001b[38;5;167;01mValueError\u001b[39;00m(\n\u001b[0;32m    512\u001b[0m         \u001b[38;5;124m\"\u001b[39m\u001b[38;5;124mEngine should not be specified when passing \u001b[39m\u001b[38;5;124m\"\u001b[39m\n\u001b[0;32m    513\u001b[0m         \u001b[38;5;124m\"\u001b[39m\u001b[38;5;124man ExcelFile - ExcelFile already has the engine set\u001b[39m\u001b[38;5;124m\"\u001b[39m\n\u001b[0;32m    514\u001b[0m     )\n",
      "File \u001b[1;32mc:\\Users\\mirza\\miniconda3\\envs\\python_eda\\Lib\\site-packages\\pandas\\io\\excel\\_base.py:1563\u001b[0m, in \u001b[0;36mExcelFile.__init__\u001b[1;34m(self, path_or_buffer, engine, storage_options, engine_kwargs)\u001b[0m\n\u001b[0;32m   1561\u001b[0m     ext \u001b[38;5;241m=\u001b[39m \u001b[38;5;124m\"\u001b[39m\u001b[38;5;124mxls\u001b[39m\u001b[38;5;124m\"\u001b[39m\n\u001b[0;32m   1562\u001b[0m \u001b[38;5;28;01melse\u001b[39;00m:\n\u001b[1;32m-> 1563\u001b[0m     ext \u001b[38;5;241m=\u001b[39m \u001b[43minspect_excel_format\u001b[49m\u001b[43m(\u001b[49m\n\u001b[0;32m   1564\u001b[0m \u001b[43m        \u001b[49m\u001b[43mcontent_or_path\u001b[49m\u001b[38;5;241;43m=\u001b[39;49m\u001b[43mpath_or_buffer\u001b[49m\u001b[43m,\u001b[49m\u001b[43m \u001b[49m\u001b[43mstorage_options\u001b[49m\u001b[38;5;241;43m=\u001b[39;49m\u001b[43mstorage_options\u001b[49m\n\u001b[0;32m   1565\u001b[0m \u001b[43m    \u001b[49m\u001b[43m)\u001b[49m\n\u001b[0;32m   1566\u001b[0m     \u001b[38;5;28;01mif\u001b[39;00m ext \u001b[38;5;129;01mis\u001b[39;00m \u001b[38;5;28;01mNone\u001b[39;00m:\n\u001b[0;32m   1567\u001b[0m         \u001b[38;5;28;01mraise\u001b[39;00m \u001b[38;5;167;01mValueError\u001b[39;00m(\n\u001b[0;32m   1568\u001b[0m             \u001b[38;5;124m\"\u001b[39m\u001b[38;5;124mExcel file format cannot be determined, you must specify \u001b[39m\u001b[38;5;124m\"\u001b[39m\n\u001b[0;32m   1569\u001b[0m             \u001b[38;5;124m\"\u001b[39m\u001b[38;5;124man engine manually.\u001b[39m\u001b[38;5;124m\"\u001b[39m\n\u001b[0;32m   1570\u001b[0m         )\n",
      "File \u001b[1;32mc:\\Users\\mirza\\miniconda3\\envs\\python_eda\\Lib\\site-packages\\pandas\\io\\excel\\_base.py:1419\u001b[0m, in \u001b[0;36minspect_excel_format\u001b[1;34m(content_or_path, storage_options)\u001b[0m\n\u001b[0;32m   1416\u001b[0m \u001b[38;5;28;01mif\u001b[39;00m \u001b[38;5;28misinstance\u001b[39m(content_or_path, \u001b[38;5;28mbytes\u001b[39m):\n\u001b[0;32m   1417\u001b[0m     content_or_path \u001b[38;5;241m=\u001b[39m BytesIO(content_or_path)\n\u001b[1;32m-> 1419\u001b[0m \u001b[38;5;28;01mwith\u001b[39;00m \u001b[43mget_handle\u001b[49m\u001b[43m(\u001b[49m\n\u001b[0;32m   1420\u001b[0m \u001b[43m    \u001b[49m\u001b[43mcontent_or_path\u001b[49m\u001b[43m,\u001b[49m\u001b[43m \u001b[49m\u001b[38;5;124;43m\"\u001b[39;49m\u001b[38;5;124;43mrb\u001b[39;49m\u001b[38;5;124;43m\"\u001b[39;49m\u001b[43m,\u001b[49m\u001b[43m \u001b[49m\u001b[43mstorage_options\u001b[49m\u001b[38;5;241;43m=\u001b[39;49m\u001b[43mstorage_options\u001b[49m\u001b[43m,\u001b[49m\u001b[43m \u001b[49m\u001b[43mis_text\u001b[49m\u001b[38;5;241;43m=\u001b[39;49m\u001b[38;5;28;43;01mFalse\u001b[39;49;00m\n\u001b[0;32m   1421\u001b[0m \u001b[43m\u001b[49m\u001b[43m)\u001b[49m \u001b[38;5;28;01mas\u001b[39;00m handle:\n\u001b[0;32m   1422\u001b[0m     stream \u001b[38;5;241m=\u001b[39m handle\u001b[38;5;241m.\u001b[39mhandle\n\u001b[0;32m   1423\u001b[0m     stream\u001b[38;5;241m.\u001b[39mseek(\u001b[38;5;241m0\u001b[39m)\n",
      "File \u001b[1;32mc:\\Users\\mirza\\miniconda3\\envs\\python_eda\\Lib\\site-packages\\pandas\\io\\common.py:872\u001b[0m, in \u001b[0;36mget_handle\u001b[1;34m(path_or_buf, mode, encoding, compression, memory_map, is_text, errors, storage_options)\u001b[0m\n\u001b[0;32m    863\u001b[0m         handle \u001b[38;5;241m=\u001b[39m \u001b[38;5;28mopen\u001b[39m(\n\u001b[0;32m    864\u001b[0m             handle,\n\u001b[0;32m    865\u001b[0m             ioargs\u001b[38;5;241m.\u001b[39mmode,\n\u001b[1;32m   (...)\u001b[0m\n\u001b[0;32m    868\u001b[0m             newline\u001b[38;5;241m=\u001b[39m\u001b[38;5;124m\"\u001b[39m\u001b[38;5;124m\"\u001b[39m,\n\u001b[0;32m    869\u001b[0m         )\n\u001b[0;32m    870\u001b[0m     \u001b[38;5;28;01melse\u001b[39;00m:\n\u001b[0;32m    871\u001b[0m         \u001b[38;5;66;03m# Binary mode\u001b[39;00m\n\u001b[1;32m--> 872\u001b[0m         handle \u001b[38;5;241m=\u001b[39m \u001b[38;5;28;43mopen\u001b[39;49m\u001b[43m(\u001b[49m\u001b[43mhandle\u001b[49m\u001b[43m,\u001b[49m\u001b[43m \u001b[49m\u001b[43mioargs\u001b[49m\u001b[38;5;241;43m.\u001b[39;49m\u001b[43mmode\u001b[49m\u001b[43m)\u001b[49m\n\u001b[0;32m    873\u001b[0m     handles\u001b[38;5;241m.\u001b[39mappend(handle)\n\u001b[0;32m    875\u001b[0m \u001b[38;5;66;03m# Convert BytesIO or file objects passed with an encoding\u001b[39;00m\n",
      "\u001b[1;31mFileNotFoundError\u001b[0m: [Errno 2] No such file or directory: './microalgae_Exp_3.xlsx'"
     ]
    }
   ],
   "source": [
    "import matplotlib.pyplot as plt\n",
    "import seaborn as sns\n",
    "import pandas as pd\n",
    "\n",
    "# Sample data\n",
    "df = pd.read_excel(\"./microalgae_Exp_3.xlsx\")\n",
    "# Create a DataFrame\n",
    "# df = pd.DataFrame(data)\n",
    "\n",
    "# Separate the data by variety\n",
    "df_variety_08 = df[df['Variety'] == 'BTN-R08']\n",
    "df_variety_10 = df[df['Variety'] == 'BTN-R10']\n",
    "    \n",
    "# Create subplots\n",
    "fig, axes = plt.subplots(1, 2, figsize=(14, 7), sharey=True)\n",
    "\n",
    "# Plot for BTN-R08\n",
    "sns.lineplot(ax=axes[0], data=df_variety_08, x='Day', y='pH_change', hue='Media', marker='o')\n",
    "axes[0].set_title('pH Change Over Time for BTN-R08', fontname='DejaVu Serif', fontweight='bold')\n",
    "axes[0].set_xlabel('Cultivation Days', fontname='DejaVu Serif', fontweight='bold')\n",
    "axes[0].set_ylabel('pH Change', fontname='DejaVu Serif', fontweight='bold')\n",
    "axes[0].legend(title='Media', title_fontsize='13', prop={'family': 'DejaVu Serif', 'weight': 'bold'})\n",
    "axes[0].grid(False)\n",
    "\n",
    "# Plot for BTN-R10\n",
    "sns.lineplot(ax=axes[1], data=df_variety_10, x='Day', y='pH_change', hue='Media', marker='o')\n",
    "axes[1].set_title('pH Change Over Time for BTN-R10', fontname='DejaVu Serif', fontweight='bold')\n",
    "axes[1].set_xlabel('Cultivation Days', fontname='DejaVu Serif', fontweight='bold')\n",
    "axes[1].set_ylabel('pH Change', fontname='DejaVu Serif', fontweight='bold')\n",
    "axes[1].legend(title='Media', title_fontsize='13', prop={'family': 'DejaVu Serif', 'weight': 'bold'})\n",
    "axes[1].grid(False)\n",
    "\n",
    "# Adjust layout\n",
    "plt.tight_layout()\n",
    "# Save the plot as SVG\n",
    "plt.savefig('plot.png', format='png', dpi=300, bbox_inches='tight')\n",
    "# Show the plot\n",
    "plt.show()\n"
   ]
  },
  {
   "cell_type": "code",
   "execution_count": 8,
   "id": "11668513",
   "metadata": {},
   "outputs": [
    {
     "name": "stdout",
     "output_type": "stream",
     "text": [
      "Plotting column: pH_change\n",
      "Plotting column: Electrical Conductvity\n",
      "Plotting column: Total Dissolved susbtances\n",
      "Plotting column: Temperature\n",
      "Plotting column: OD\n",
      "Plotting column: Biomass Production\n",
      "Plotting column: Productivity\n",
      "Plotting column: Doubling_time\n"
     ]
    },
    {
     "data": {
      "text/plain": [
       "<Figure size 1400x700 with 0 Axes>"
      ]
     },
     "metadata": {},
     "output_type": "display_data"
    },
    {
     "data": {
      "text/plain": [
       "<Figure size 1400x700 with 0 Axes>"
      ]
     },
     "metadata": {},
     "output_type": "display_data"
    },
    {
     "data": {
      "text/plain": [
       "<Figure size 1400x700 with 0 Axes>"
      ]
     },
     "metadata": {},
     "output_type": "display_data"
    },
    {
     "data": {
      "text/plain": [
       "<Figure size 1400x700 with 0 Axes>"
      ]
     },
     "metadata": {},
     "output_type": "display_data"
    },
    {
     "data": {
      "text/plain": [
       "<Figure size 1400x700 with 0 Axes>"
      ]
     },
     "metadata": {},
     "output_type": "display_data"
    },
    {
     "data": {
      "text/plain": [
       "<Figure size 1400x700 with 0 Axes>"
      ]
     },
     "metadata": {},
     "output_type": "display_data"
    },
    {
     "data": {
      "text/plain": [
       "<Figure size 1400x700 with 0 Axes>"
      ]
     },
     "metadata": {},
     "output_type": "display_data"
    },
    {
     "data": {
      "text/plain": [
       "<Figure size 1400x700 with 0 Axes>"
      ]
     },
     "metadata": {},
     "output_type": "display_data"
    }
   ],
   "source": [
    "import matplotlib.pyplot as plt\n",
    "import seaborn as sns\n",
    "import pandas as pd\n",
    "\n",
    "df = pd.read_excel(\"./microalgae_Exp_2.xlsx\")\n",
    "\n",
    "def plot_pH_change(df, column_index, column_name):\n",
    "    column_y = df.columns[column_index]\n",
    "    print(f\"Plotting column: {column_y}\")\n",
    "\n",
    "    # Select the next column to get its name and values\n",
    "    if column_index + 1 < len(df.columns):\n",
    "        next_column = df.columns[column_index + 1]\n",
    "        next_column_values = df[next_column]\n",
    "    else:\n",
    "        next_column = None\n",
    "        next_column_values = None\n",
    "\n",
    "    # Create a DataFrame for each variety\n",
    "    df_variety_08 = df[df['Variety'] == 'BTN-R08']\n",
    "    df_variety_10 = df[df['Variety'] == 'BTN-R10']\n",
    "\n",
    "    # Create subplots\n",
    "    fig, axes = plt.subplots(1, 2, figsize=(14, 7), sharey=True)\n",
    "\n",
    "    # Plot for BTN-R08\n",
    "    sns.lineplot(ax=axes[0], data=df_variety_08, x='Day', y=column_y, hue='Media', style='Media', markers=True, dashes=False, markersize=10)\n",
    "    axes[0].set_title(f'{column_y} Over Time for BTN-R08', fontname='DejaVu Serif', fontweight='bold')\n",
    "    axes[0].set_xlabel('Cultivation Days', fontname='DejaVu Serif', fontweight='bold')\n",
    "    axes[0].set_ylabel(column_y, fontname='DejaVu Serif', fontweight='bold')\n",
    "    axes[0].legend(title=column_name, title_fontsize='13', prop={'family': 'DejaVu Serif', 'weight': 'bold'})\n",
    "    axes[0].grid(False)\n",
    "\n",
    "    # Plot for BTN-R10\n",
    "    sns.lineplot(ax=axes[1], data=df_variety_10, x='Day', y=column_y, hue='Media', style='Media', markers=True, dashes=False, markersize=10)\n",
    "    axes[1].set_title(f'{column_y} Over Time for BTN-R10', fontname='DejaVu Serif', fontweight='bold')\n",
    "    axes[1].set_xlabel('Cultivation Days', fontname='DejaVu Serif', fontweight='bold')\n",
    "    axes[1].set_ylabel(column_y, fontname='DejaVu Serif', fontweight='bold')\n",
    "    axes[1].legend(title=column_name, title_fontsize='13', prop={'family': 'DejaVu Serif', 'weight': 'bold'})\n",
    "    axes[1].grid(False)\n",
    "\n",
    "    # Adjust layout\n",
    "    plt.tight_layout()\n",
    "\n",
    "    # Save the plot as an image file\n",
    "    plt.savefig(r'D:\\Study\\Study and Extras\\Dr Nawaz Sb Paper\\M.Phil Thesis and Studentship\\Rehan_Thesis 2022-2024\\Data Set\\Exp_2\\{}.png'.format(column_y), dpi=600)\n",
    "\n",
    "    # Clear the screen\n",
    "    plt.clf()\n",
    "\n",
    "# Run the function for each column starting from the fourth column\n",
    "for column_index in range(3, len(df.columns)):\n",
    "    column_name = df.columns[column_index]\n",
    "    plot_pH_change(df, column_index, column_name)"
   ]
  },
  {
   "cell_type": "code",
   "execution_count": 4,
   "id": "89c4a38d",
   "metadata": {},
   "outputs": [
    {
     "name": "stdout",
     "output_type": "stream",
     "text": [
      "Plotting column: pH_change\n",
      "Plotting column: Electrical Conductvity\n",
      "Plotting column: Total Dissolved susbtances\n",
      "Plotting column: Temperature\n",
      "Plotting column: OD\n",
      "Plotting column: Biomass Production\n",
      "Plotting column: Productivity\n",
      "Plotting column: Doubling_time\n"
     ]
    },
    {
     "data": {
      "text/plain": [
       "<Figure size 1400x700 with 0 Axes>"
      ]
     },
     "metadata": {},
     "output_type": "display_data"
    },
    {
     "data": {
      "text/plain": [
       "<Figure size 1400x700 with 0 Axes>"
      ]
     },
     "metadata": {},
     "output_type": "display_data"
    },
    {
     "data": {
      "text/plain": [
       "<Figure size 1400x700 with 0 Axes>"
      ]
     },
     "metadata": {},
     "output_type": "display_data"
    },
    {
     "data": {
      "text/plain": [
       "<Figure size 1400x700 with 0 Axes>"
      ]
     },
     "metadata": {},
     "output_type": "display_data"
    },
    {
     "data": {
      "text/plain": [
       "<Figure size 1400x700 with 0 Axes>"
      ]
     },
     "metadata": {},
     "output_type": "display_data"
    },
    {
     "data": {
      "text/plain": [
       "<Figure size 1400x700 with 0 Axes>"
      ]
     },
     "metadata": {},
     "output_type": "display_data"
    },
    {
     "data": {
      "text/plain": [
       "<Figure size 1400x700 with 0 Axes>"
      ]
     },
     "metadata": {},
     "output_type": "display_data"
    },
    {
     "data": {
      "text/plain": [
       "<Figure size 1400x700 with 0 Axes>"
      ]
     },
     "metadata": {},
     "output_type": "display_data"
    }
   ],
   "source": [
    "#Barplot\n",
    "import warnings\n",
    "\n",
    "# Suppress warnings\n",
    "warnings.filterwarnings('ignore')\n",
    "\n",
    "# Import necessary libraries\n",
    "import matplotlib.pyplot as plt\n",
    "import seaborn as sns\n",
    "import pandas as pd\n",
    "\n",
    "# Load the dataset\n",
    "df = pd.read_excel(\"./microalgae_Exp_2.xlsx\")\n",
    "\n",
    "def plot_pH_change(df, column_index, column_name):\n",
    "    # Extract the column to be plotted\n",
    "    column_y = df.columns[column_index]\n",
    "    print(f\"Plotting column: {column_y}\")\n",
    "\n",
    "    # Check for the next column, if exists\n",
    "    if column_index + 1 < len(df.columns):\n",
    "        next_column = df.columns[column_index + 1]\n",
    "        next_column_values = df[next_column]\n",
    "    else:\n",
    "        next_column = None\n",
    "        next_column_values = None\n",
    "\n",
    "    # Filter data for each variety\n",
    "    df_variety_08 = df[df['Variety'] == 'BTN-R08']\n",
    "    df_variety_10 = df[df['Variety'] == 'BTN-R10']\n",
    "\n",
    "    # Create subplots for each variety\n",
    "    fig, axes = plt.subplots(1, 2, figsize=(14, 7), sharey=True)\n",
    "\n",
    "    # Plot for variety BTN-R08\n",
    "    sns.barplot(ax=axes[0], data=df_variety_08, x='Day', y=column_y, hue='Media')\n",
    "    axes[0].set_title(f'{column_y} Over Time for BTN-R08')\n",
    "    axes[0].set_xlabel('Cultivation Days')\n",
    "    axes[0].set_ylabel(column_y)\n",
    "    axes[0].legend(title=column_name)\n",
    "    axes[0].grid(False)\n",
    "\n",
    "    # Plot for variety BTN-R10\n",
    "    sns.barplot(ax=axes[1], data=df_variety_10, x='Day', y=column_y, hue='Media')\n",
    "    axes[1].set_title(f'{column_y} Over Time for BTN-R10')\n",
    "    axes[1].set_xlabel('Cultivation Days')\n",
    "    axes[1].set_ylabel(column_y)\n",
    "    axes[1].legend(title=column_name)\n",
    "    axes[1].grid(False)\n",
    "\n",
    "    # Adjust layout and save the plot\n",
    "    plt.tight_layout()\n",
    "    plt.savefig(f'{column_y}.png', dpi=600)\n",
    "    plt.clf()\n",
    "\n",
    "# Iterate through each column to plot\n",
    "for column_index in range(3, len(df.columns)):\n",
    "    column_name = df.columns[column_index]\n",
    "    plot_pH_change(df, column_index, column_name)"
   ]
  },
  {
   "cell_type": "code",
   "execution_count": 2,
   "id": "d4ddefdd",
   "metadata": {},
   "outputs": [
    {
     "name": "stdout",
     "output_type": "stream",
     "text": [
      "Plotting column: pH_change\n"
     ]
    },
    {
     "name": "stderr",
     "output_type": "stream",
     "text": [
      "c:\\Users\\mirza\\miniconda3\\envs\\python_eda\\Lib\\site-packages\\seaborn\\_oldcore.py:1119: FutureWarning: use_inf_as_na option is deprecated and will be removed in a future version. Convert inf values to NaN before operating instead.\n",
      "  with pd.option_context('mode.use_inf_as_na', True):\n",
      "c:\\Users\\mirza\\miniconda3\\envs\\python_eda\\Lib\\site-packages\\seaborn\\_oldcore.py:1119: FutureWarning: use_inf_as_na option is deprecated and will be removed in a future version. Convert inf values to NaN before operating instead.\n",
      "  with pd.option_context('mode.use_inf_as_na', True):\n",
      "c:\\Users\\mirza\\miniconda3\\envs\\python_eda\\Lib\\site-packages\\seaborn\\_oldcore.py:1119: FutureWarning: use_inf_as_na option is deprecated and will be removed in a future version. Convert inf values to NaN before operating instead.\n",
      "  with pd.option_context('mode.use_inf_as_na', True):\n",
      "c:\\Users\\mirza\\miniconda3\\envs\\python_eda\\Lib\\site-packages\\seaborn\\_oldcore.py:1119: FutureWarning: use_inf_as_na option is deprecated and will be removed in a future version. Convert inf values to NaN before operating instead.\n",
      "  with pd.option_context('mode.use_inf_as_na', True):\n"
     ]
    },
    {
     "name": "stdout",
     "output_type": "stream",
     "text": [
      "Plotting column: Electrical Conductvity\n"
     ]
    },
    {
     "name": "stderr",
     "output_type": "stream",
     "text": [
      "c:\\Users\\mirza\\miniconda3\\envs\\python_eda\\Lib\\site-packages\\seaborn\\_oldcore.py:1119: FutureWarning: use_inf_as_na option is deprecated and will be removed in a future version. Convert inf values to NaN before operating instead.\n",
      "  with pd.option_context('mode.use_inf_as_na', True):\n",
      "c:\\Users\\mirza\\miniconda3\\envs\\python_eda\\Lib\\site-packages\\seaborn\\_oldcore.py:1119: FutureWarning: use_inf_as_na option is deprecated and will be removed in a future version. Convert inf values to NaN before operating instead.\n",
      "  with pd.option_context('mode.use_inf_as_na', True):\n",
      "c:\\Users\\mirza\\miniconda3\\envs\\python_eda\\Lib\\site-packages\\seaborn\\_oldcore.py:1119: FutureWarning: use_inf_as_na option is deprecated and will be removed in a future version. Convert inf values to NaN before operating instead.\n",
      "  with pd.option_context('mode.use_inf_as_na', True):\n",
      "c:\\Users\\mirza\\miniconda3\\envs\\python_eda\\Lib\\site-packages\\seaborn\\_oldcore.py:1119: FutureWarning: use_inf_as_na option is deprecated and will be removed in a future version. Convert inf values to NaN before operating instead.\n",
      "  with pd.option_context('mode.use_inf_as_na', True):\n"
     ]
    },
    {
     "name": "stdout",
     "output_type": "stream",
     "text": [
      "Plotting column: Total Dissolved susbtances\n"
     ]
    },
    {
     "name": "stderr",
     "output_type": "stream",
     "text": [
      "c:\\Users\\mirza\\miniconda3\\envs\\python_eda\\Lib\\site-packages\\seaborn\\_oldcore.py:1119: FutureWarning: use_inf_as_na option is deprecated and will be removed in a future version. Convert inf values to NaN before operating instead.\n",
      "  with pd.option_context('mode.use_inf_as_na', True):\n",
      "c:\\Users\\mirza\\miniconda3\\envs\\python_eda\\Lib\\site-packages\\seaborn\\_oldcore.py:1119: FutureWarning: use_inf_as_na option is deprecated and will be removed in a future version. Convert inf values to NaN before operating instead.\n",
      "  with pd.option_context('mode.use_inf_as_na', True):\n",
      "c:\\Users\\mirza\\miniconda3\\envs\\python_eda\\Lib\\site-packages\\seaborn\\_oldcore.py:1119: FutureWarning: use_inf_as_na option is deprecated and will be removed in a future version. Convert inf values to NaN before operating instead.\n",
      "  with pd.option_context('mode.use_inf_as_na', True):\n",
      "c:\\Users\\mirza\\miniconda3\\envs\\python_eda\\Lib\\site-packages\\seaborn\\_oldcore.py:1119: FutureWarning: use_inf_as_na option is deprecated and will be removed in a future version. Convert inf values to NaN before operating instead.\n",
      "  with pd.option_context('mode.use_inf_as_na', True):\n"
     ]
    },
    {
     "name": "stdout",
     "output_type": "stream",
     "text": [
      "Plotting column: Temperature\n"
     ]
    },
    {
     "name": "stderr",
     "output_type": "stream",
     "text": [
      "c:\\Users\\mirza\\miniconda3\\envs\\python_eda\\Lib\\site-packages\\seaborn\\_oldcore.py:1119: FutureWarning: use_inf_as_na option is deprecated and will be removed in a future version. Convert inf values to NaN before operating instead.\n",
      "  with pd.option_context('mode.use_inf_as_na', True):\n",
      "c:\\Users\\mirza\\miniconda3\\envs\\python_eda\\Lib\\site-packages\\seaborn\\_oldcore.py:1119: FutureWarning: use_inf_as_na option is deprecated and will be removed in a future version. Convert inf values to NaN before operating instead.\n",
      "  with pd.option_context('mode.use_inf_as_na', True):\n",
      "c:\\Users\\mirza\\miniconda3\\envs\\python_eda\\Lib\\site-packages\\seaborn\\_oldcore.py:1119: FutureWarning: use_inf_as_na option is deprecated and will be removed in a future version. Convert inf values to NaN before operating instead.\n",
      "  with pd.option_context('mode.use_inf_as_na', True):\n",
      "c:\\Users\\mirza\\miniconda3\\envs\\python_eda\\Lib\\site-packages\\seaborn\\_oldcore.py:1119: FutureWarning: use_inf_as_na option is deprecated and will be removed in a future version. Convert inf values to NaN before operating instead.\n",
      "  with pd.option_context('mode.use_inf_as_na', True):\n"
     ]
    },
    {
     "name": "stdout",
     "output_type": "stream",
     "text": [
      "Plotting column: OD\n"
     ]
    },
    {
     "name": "stderr",
     "output_type": "stream",
     "text": [
      "c:\\Users\\mirza\\miniconda3\\envs\\python_eda\\Lib\\site-packages\\seaborn\\_oldcore.py:1119: FutureWarning: use_inf_as_na option is deprecated and will be removed in a future version. Convert inf values to NaN before operating instead.\n",
      "  with pd.option_context('mode.use_inf_as_na', True):\n",
      "c:\\Users\\mirza\\miniconda3\\envs\\python_eda\\Lib\\site-packages\\seaborn\\_oldcore.py:1119: FutureWarning: use_inf_as_na option is deprecated and will be removed in a future version. Convert inf values to NaN before operating instead.\n",
      "  with pd.option_context('mode.use_inf_as_na', True):\n",
      "c:\\Users\\mirza\\miniconda3\\envs\\python_eda\\Lib\\site-packages\\seaborn\\_oldcore.py:1119: FutureWarning: use_inf_as_na option is deprecated and will be removed in a future version. Convert inf values to NaN before operating instead.\n",
      "  with pd.option_context('mode.use_inf_as_na', True):\n",
      "c:\\Users\\mirza\\miniconda3\\envs\\python_eda\\Lib\\site-packages\\seaborn\\_oldcore.py:1119: FutureWarning: use_inf_as_na option is deprecated and will be removed in a future version. Convert inf values to NaN before operating instead.\n",
      "  with pd.option_context('mode.use_inf_as_na', True):\n"
     ]
    },
    {
     "name": "stdout",
     "output_type": "stream",
     "text": [
      "Plotting column: Biomass Production\n"
     ]
    },
    {
     "name": "stderr",
     "output_type": "stream",
     "text": [
      "c:\\Users\\mirza\\miniconda3\\envs\\python_eda\\Lib\\site-packages\\seaborn\\_oldcore.py:1119: FutureWarning: use_inf_as_na option is deprecated and will be removed in a future version. Convert inf values to NaN before operating instead.\n",
      "  with pd.option_context('mode.use_inf_as_na', True):\n",
      "c:\\Users\\mirza\\miniconda3\\envs\\python_eda\\Lib\\site-packages\\seaborn\\_oldcore.py:1119: FutureWarning: use_inf_as_na option is deprecated and will be removed in a future version. Convert inf values to NaN before operating instead.\n",
      "  with pd.option_context('mode.use_inf_as_na', True):\n",
      "c:\\Users\\mirza\\miniconda3\\envs\\python_eda\\Lib\\site-packages\\seaborn\\_oldcore.py:1119: FutureWarning: use_inf_as_na option is deprecated and will be removed in a future version. Convert inf values to NaN before operating instead.\n",
      "  with pd.option_context('mode.use_inf_as_na', True):\n",
      "c:\\Users\\mirza\\miniconda3\\envs\\python_eda\\Lib\\site-packages\\seaborn\\_oldcore.py:1119: FutureWarning: use_inf_as_na option is deprecated and will be removed in a future version. Convert inf values to NaN before operating instead.\n",
      "  with pd.option_context('mode.use_inf_as_na', True):\n"
     ]
    },
    {
     "name": "stdout",
     "output_type": "stream",
     "text": [
      "Plotting column: Productivity\n"
     ]
    },
    {
     "name": "stderr",
     "output_type": "stream",
     "text": [
      "c:\\Users\\mirza\\miniconda3\\envs\\python_eda\\Lib\\site-packages\\seaborn\\_oldcore.py:1119: FutureWarning: use_inf_as_na option is deprecated and will be removed in a future version. Convert inf values to NaN before operating instead.\n",
      "  with pd.option_context('mode.use_inf_as_na', True):\n",
      "c:\\Users\\mirza\\miniconda3\\envs\\python_eda\\Lib\\site-packages\\seaborn\\_oldcore.py:1119: FutureWarning: use_inf_as_na option is deprecated and will be removed in a future version. Convert inf values to NaN before operating instead.\n",
      "  with pd.option_context('mode.use_inf_as_na', True):\n",
      "c:\\Users\\mirza\\miniconda3\\envs\\python_eda\\Lib\\site-packages\\seaborn\\_oldcore.py:1119: FutureWarning: use_inf_as_na option is deprecated and will be removed in a future version. Convert inf values to NaN before operating instead.\n",
      "  with pd.option_context('mode.use_inf_as_na', True):\n",
      "c:\\Users\\mirza\\miniconda3\\envs\\python_eda\\Lib\\site-packages\\seaborn\\_oldcore.py:1119: FutureWarning: use_inf_as_na option is deprecated and will be removed in a future version. Convert inf values to NaN before operating instead.\n",
      "  with pd.option_context('mode.use_inf_as_na', True):\n"
     ]
    },
    {
     "name": "stdout",
     "output_type": "stream",
     "text": [
      "Plotting column: Doubling_time\n"
     ]
    },
    {
     "name": "stderr",
     "output_type": "stream",
     "text": [
      "c:\\Users\\mirza\\miniconda3\\envs\\python_eda\\Lib\\site-packages\\seaborn\\_oldcore.py:1119: FutureWarning: use_inf_as_na option is deprecated and will be removed in a future version. Convert inf values to NaN before operating instead.\n",
      "  with pd.option_context('mode.use_inf_as_na', True):\n",
      "c:\\Users\\mirza\\miniconda3\\envs\\python_eda\\Lib\\site-packages\\seaborn\\_oldcore.py:1119: FutureWarning: use_inf_as_na option is deprecated and will be removed in a future version. Convert inf values to NaN before operating instead.\n",
      "  with pd.option_context('mode.use_inf_as_na', True):\n",
      "c:\\Users\\mirza\\miniconda3\\envs\\python_eda\\Lib\\site-packages\\seaborn\\_oldcore.py:1119: FutureWarning: use_inf_as_na option is deprecated and will be removed in a future version. Convert inf values to NaN before operating instead.\n",
      "  with pd.option_context('mode.use_inf_as_na', True):\n",
      "c:\\Users\\mirza\\miniconda3\\envs\\python_eda\\Lib\\site-packages\\seaborn\\_oldcore.py:1119: FutureWarning: use_inf_as_na option is deprecated and will be removed in a future version. Convert inf values to NaN before operating instead.\n",
      "  with pd.option_context('mode.use_inf_as_na', True):\n"
     ]
    },
    {
     "data": {
      "text/plain": [
       "<Figure size 1400x700 with 0 Axes>"
      ]
     },
     "metadata": {},
     "output_type": "display_data"
    },
    {
     "data": {
      "text/plain": [
       "<Figure size 1400x700 with 0 Axes>"
      ]
     },
     "metadata": {},
     "output_type": "display_data"
    },
    {
     "data": {
      "text/plain": [
       "<Figure size 1400x700 with 0 Axes>"
      ]
     },
     "metadata": {},
     "output_type": "display_data"
    },
    {
     "data": {
      "text/plain": [
       "<Figure size 1400x700 with 0 Axes>"
      ]
     },
     "metadata": {},
     "output_type": "display_data"
    },
    {
     "data": {
      "text/plain": [
       "<Figure size 1400x700 with 0 Axes>"
      ]
     },
     "metadata": {},
     "output_type": "display_data"
    },
    {
     "data": {
      "text/plain": [
       "<Figure size 1400x700 with 0 Axes>"
      ]
     },
     "metadata": {},
     "output_type": "display_data"
    },
    {
     "data": {
      "text/plain": [
       "<Figure size 1400x700 with 0 Axes>"
      ]
     },
     "metadata": {},
     "output_type": "display_data"
    },
    {
     "data": {
      "text/plain": [
       "<Figure size 1400x700 with 0 Axes>"
      ]
     },
     "metadata": {},
     "output_type": "display_data"
    }
   ],
   "source": [
    "# smaller values\n",
    "\n",
    "import pandas as pd\n",
    "import matplotlib.pyplot as plt\n",
    "import seaborn as sns\n",
    "\n",
    "# Read the data from the Excel file\n",
    "df = pd.read_excel(\"./microalgae_Exp_2.xlsx\")\n",
    "\n",
    "def plot_pH_change(df, column_index, column_name):\n",
    "    column_y = df.columns[column_index]\n",
    "    print(f\"Plotting column: {column_y}\")\n",
    "\n",
    "    # Check for the next column\n",
    "    if column_index + 1 < len(df.columns):\n",
    "        next_column = df.columns[column_index + 1]\n",
    "        next_column_values = df[next_column]\n",
    "    else:\n",
    "        next_column = None\n",
    "        next_column_values = None\n",
    "\n",
    "    # Create DataFrames for each variety\n",
    "    df_variety_08 = df[df['Variety'] == 'BTN-R08']\n",
    "    df_variety_10 = df[df['Variety'] == 'BTN-R10']\n",
    "\n",
    "    # Create subplots\n",
    "    fig, axes = plt.subplots(1, 2, figsize=(14, 7), sharey=True)\n",
    "\n",
    "    # Plot for BTN-R08\n",
    "    sns.lineplot(ax=axes[0], data=df_variety_08, x='Day', y=column_y, hue='Media', marker='o')\n",
    "    axes[0].set_title(f'{column_y} Over Time for BTN-R08', fontname='DejaVu Serif', fontweight='bold')\n",
    "    axes[0].set_xlabel('Cultivation Days', fontname='DejaVu Serif', fontweight='bold')\n",
    "    axes[0].set_ylabel(column_y, fontname='DejaVu Serif', fontweight='bold')\n",
    "    axes[0].legend(title=column_name, title_fontsize='13', prop={'family': 'DejaVu Serif', 'weight': 'bold'})\n",
    "    axes[0].grid(False)\n",
    "\n",
    "    # Plot for BTN-R10\n",
    "    sns.lineplot(ax=axes[1], data=df_variety_10, x='Day', y=column_y, hue='Media', marker='o')\n",
    "    axes[1].set_title(f'{column_y} Over Time for BTN-R10', fontname='DejaVu Serif', fontweight='bold')\n",
    "    axes[1].set_xlabel('Cultivation Days', fontname='DejaVu Serif', fontweight='bold')\n",
    "    axes[1].set_ylabel(column_y, fontname='DejaVu Serif', fontweight='bold')\n",
    "    axes[1].legend(title=column_name, title_fontsize='13', prop={'family': 'DejaVu Serif', 'weight': 'bold'})\n",
    "    axes[1].grid(False)\n",
    "\n",
    "    # Adjust layout and save the plot\n",
    "    plt.tight_layout()\n",
    "    plt.savefig(r'D:\\Study\\Study and Extras\\Dr Nawaz Sb Paper\\M.Phil Thesis and Studentship\\Rehan_Thesis 2022-2024\\Data Set\\Exp_3\\{}.png'.format(column_y), dpi=300)\n",
    "    plt.clf()\n",
    "\n",
    "# Run the function for each column starting from the fourth column\n",
    "for column_index in range(3, len(df.columns)):\n",
    "    column_name = df.columns[column_index]\n",
    "    plot_pH_change(df, column_index, column_name)"
   ]
  },
  {
   "cell_type": "code",
   "execution_count": 4,
   "id": "e9605de3",
   "metadata": {},
   "outputs": [
    {
     "name": "stderr",
     "output_type": "stream",
     "text": [
      "c:\\Users\\mirza\\miniconda3\\envs\\python_eda\\Lib\\site-packages\\seaborn\\matrix.py:260: FutureWarning: Format strings passed to MaskedConstant are ignored, but in future may error or produce different behavior\n",
      "  annotation = (\"{:\" + self.fmt + \"}\").format(val)\n"
     ]
    },
    {
     "data": {
      "image/png": "[encoded data removed]",
      "text/plain": [
       "<Figure size 1100x900 with 2 Axes>"
      ]
     },
     "metadata": {},
     "output_type": "display_data"
    }
   ],
   "source": [
    "import matplotlib.pyplot as plt\n",
    "import seaborn as sns\n",
    "import pandas as pd\n",
    "import numpy as np\n",
    "\n",
    "# Assuming 'data' is a pandas DataFrame containing the variables: LRL, TRL, LRD, LRN, MLRL, and RDW\n",
    "\n",
    "# Generate some random dummy data (replace with your actual data)\n",
    "np.random.seed(42)\n",
    "dummy_data = np.random.rand(6, 6)  # 6x6 matrix of random values\n",
    "\n",
    "# Calculate the correlation matrix\n",
    "corr = pd.DataFrame(dummy_data, columns=['LRL', 'TRL', 'LRD', 'LRN', 'MLRL', 'RDW'])\n",
    "\n",
    "# Create a mask to display only one triangle of the matrix since it's mirrored across its diagonal.\n",
    "mask = np.triu(np.ones_like(corr))\n",
    "\n",
    "# Set up the matplotlib figure\n",
    "f, ax = plt.subplots(figsize=(11, 9))\n",
    "\n",
    "# Generate a custom diverging colormap (red and white in this case)\n",
    "cmap = sns.diverging_palette(220, 10)\n",
    "\n",
    "# Draw the heatmap with mask and correct aspect ratio\n",
    "sns.heatmap(corr,\n",
    "            mask=mask,\n",
    "            cmap=cmap,\n",
    "            vmax=.3,\n",
    "            center=0,\n",
    "            square=True,\n",
    "            linewidths=.5,\n",
    "            cbar_kws={\"shrink\": .5},\n",
    "            annot=True)\n",
    "\n",
    "plt.title(\"Correlation Matrix Heatmap with Dummy Data\")\n",
    "plt.show()\n"
   ]
  }
 ],
 "metadata": {
  "kernelspec": {
   "display_name": "Python 3 (ipykernel)",
   "language": "python",
   "name": "python3"
  },
  "language_info": {
   "codemirror_mode": {
    "name": "ipython",
    "version": 3
   },
   "file_extension": ".py",
   "mimetype": "text/x-python",
   "name": "python",
   "nbconvert_exporter": "python",
   "pygments_lexer": "ipython3",
   "version": "3.11.7"
  }
 },
 "nbformat": 4,
 "nbformat_minor": 5
}
