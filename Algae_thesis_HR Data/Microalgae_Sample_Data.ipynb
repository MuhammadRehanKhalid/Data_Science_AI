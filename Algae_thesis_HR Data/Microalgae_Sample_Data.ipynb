{
 "cells": [
  {
   "cell_type": "code",
   "execution_count": 1,
   "id": "763b2bfd-8bd4-492c-938c-ac7a9a20f966",
   "metadata": {},
   "outputs": [
    {
     "name": "stdout",
     "output_type": "stream",
     "text": [
      "['STIXNonUnicode', 'cmmi10', 'STIXSizeThreeSym', 'STIXGeneral', 'DejaVu Serif', 'cmtt10', 'DejaVu Serif', 'STIXNonUnicode', 'STIXSizeOneSym', 'cmex10', 'DejaVu Serif', 'DejaVu Sans', 'DejaVu Sans Mono', 'DejaVu Sans Display', 'cmsy10', 'STIXSizeTwoSym', 'STIXSizeOneSym', 'STIXSizeFiveSym', 'STIXGeneral', 'STIXNonUnicode', 'STIXSizeFourSym', 'STIXSizeThreeSym', 'DejaVu Sans Mono', 'DejaVu Serif Display', 'DejaVu Sans Mono', 'DejaVu Sans', 'STIXGeneral', 'STIXSizeTwoSym', 'cmss10', 'STIXSizeFourSym', 'STIXGeneral', 'cmb10', 'DejaVu Serif', 'STIXNonUnicode', 'DejaVu Sans', 'DejaVu Sans Mono', 'DejaVu Sans', 'cmr10', 'Centaur', 'Berlin Sans FB', 'Franklin Gothic Book', 'Franklin Gothic Medium', 'Perpetua Titling MT', 'Microsoft Himalaya', 'Lucida Fax', 'Arial', 'Segoe UI', 'Leelawadee UI', 'Book Antiqua', 'Myanmar Text', 'Kristen ITC', 'Bodoni MT', 'Rockwell Extra Bold', 'Calibri', 'Times New Roman', 'Algerian', 'Californian FB', 'Simplified Arabic Fixed', 'Arial', 'Consolas', 'Lucida Console', 'Segoe UI', 'Magneto', 'Garamond', 'Niagara Solid', 'Arial', 'Arial', 'Lucida Bright', 'Tempus Sans ITC', 'Constantia', 'Century Schoolbook', 'Lucida Sans Typewriter', 'Old English Text MT', 'Rockwell', 'Dubai', 'Verdana', 'Elephant', 'Constantia', 'Lucida Sans', 'Bodoni MT', 'Segoe UI Variable', 'Chiller', 'Book Antiqua', 'Edwardian Script ITC', 'Franklin Gothic Demi Cond', 'Gill Sans Ultra Bold Condensed', 'Century Schoolbook', 'Segoe UI Emoji', 'Aldhabi', 'Georgia', 'Rockwell', 'Kunstler Script', 'SimSun', 'Segoe UI', 'Mistral', 'Bodoni MT', 'Book Antiqua', 'Symbol', 'Yu Gothic', 'Segoe UI', 'Gadugi', 'Microsoft Uighur', 'Microsoft JhengHei', 'Arial', 'Snap ITC', 'HoloLens MDL2 Assets', 'Verdana', 'Segoe Script', 'Franklin Gothic Demi', 'Andalus', 'Yu Gothic', 'Adobe Devanagari', 'Candara', 'Tahoma', 'Sitka', 'Segoe UI', 'Harrington', 'Gill Sans MT Ext Condensed Bold', 'Wingdings 2', 'Corbel', 'Segoe UI', 'Goudy Old Style', 'Candara', 'Jokerman', 'Bodoni MT', 'Haettenschweiler', 'Wide Latin', 'Rockwell', 'Berlin Sans FB Demi', 'Bauhaus 93', 'Candara', 'Bodoni MT', 'Segoe UI', 'Leelawadee', 'Tw Cen MT Condensed Extra Bold', 'Palatino Linotype', 'Cambria', 'Verdana', 'Lucida Sans', 'Times New Roman', 'Vivaldi', 'Bahnschrift', 'Adobe Devanagari', 'Franklin Gothic Demi', 'Stencil', 'Webdings', 'Segoe UI', 'Dubai', 'Eras Bold ITC', 'Goudy Old Style', 'Cambria', 'Trebuchet MS', 'Calibri', 'Gill Sans MT', 'Courier New', 'Imprint MT Shadow', 'Comic Sans MS', 'Simplified Arabic', 'Franklin Gothic Medium Cond', 'Dubai', 'Gabriola', 'Sylfaen', 'Century Gothic', 'Eras Demi ITC', 'MV Boli', 'Javanese Text', 'Corbel', 'Sakkal Majalla', 'Perpetua', 'Forte', 'Freestyle Script', 'Castellar', 'Microsoft New Tai Lue', 'Fences', 'Bell MT', 'Perpetua', 'Gill Sans Ultra Bold', 'Segoe UI Historic', 'Sakkal Majalla', 'Brush Script MT', 'Georgia', 'Trebuchet MS', 'Blackadder ITC', 'Arial', 'Wingdings', 'Calibri', 'Myanmar Text', 'Sans Serif Collection', 'Bell MT', 'MS Reference Sans Serif', 'Corbel', 'Niagara Engraved', 'Berlin Sans FB', 'Microsoft New Tai Lue', 'Microsoft PhagsPa', 'Maiandra GD', 'Mongolian Baiti', 'Century Gothic', 'Gill Sans MT Condensed', 'Arial', 'Malgun Gothic', 'Onyx', 'Traditional Arabic', 'Courier New', 'Cooper Black', 'Engravers MT', 'Palatino Linotype', 'Broadway', 'Tw Cen MT Condensed', 'Microsoft Tai Le', 'Rage Italic', 'Microsoft Tai Le', 'Lucida Fax', 'Segoe Script', 'Rockwell Condensed', 'Gigi', 'Leelawadee UI', 'MS Outlook', 'Malgun Gothic', 'Lucida Sans Typewriter', 'Calibri', 'Wingdings 3', 'Century Gothic', 'Tw Cen MT Condensed', 'Bookman Old Style', 'Yu Gothic', 'Comic Sans MS', 'Verdana', 'Segoe MDL2 Assets', 'Franklin Gothic Heavy', 'Consolas', 'Tw Cen MT', 'Nirmala UI', 'Bodoni MT', 'Bookman Old Style', 'Microsoft YaHei', 'Eras Light ITC', 'Impact', 'Century Schoolbook', 'MingLiU-ExtB', 'Microsoft JhengHei', 'Corbel', 'Colonna MT', 'Microsoft YaHei', 'Segoe Print', 'Lucida Sans Typewriter', 'Playbill', 'Arabic Typesetting', 'Tw Cen MT', 'MS Gothic', 'Century', 'Trebuchet MS', 'OCR A Extended', 'Palatino Linotype', 'Courier New', 'Lucida Fax', 'Curlz MT', 'Book Antiqua', 'Leelawadee UI', 'Georgia', 'Bookshelf Symbol 7', 'Microsoft PhagsPa', 'Perpetua Titling MT', 'Lucida Sans Unicode', 'Cambria', 'Consolas', 'Britannic Bold', 'Tw Cen MT', 'Papyrus', 'Cambria', 'Juice ITC', 'Franklin Gothic Book', 'Palatino Linotype', 'Franklin Gothic Heavy', 'Microsoft Yi Baiti', 'Ebrima', 'Constantia', 'Perpetua', 'Felix Titling', 'Lucida Calligraphy', 'Bodoni MT', 'Baskerville Old Face', 'Showcard Gothic', 'SimSun-ExtB', 'Californian FB', 'Nirmala UI', 'Gill Sans MT', 'Lucida Bright', 'Comic Sans MS', 'Urdu Typesetting', 'Courier New', 'Bodoni MT', 'Adobe Devanagari', 'Trebuchet MS', 'Perpetua', 'Garamond', 'Corbel', 'Harlow Solid Italic', 'Segoe UI Symbol', 'Microsoft Sans Serif', 'Traditional Arabic', 'Gill Sans MT', 'Goudy Old Style', 'Viner Hand ITC', 'Urdu Typesetting', 'Tahoma', 'Agency FB', 'Poor Richard', 'Garamond', 'Gadugi', 'Segoe UI', 'Bradley Hand ITC', 'Bodoni MT', 'Lucida Sans', 'Calisto MT', 'Copperplate Gothic Light', 'Palace Script MT', 'Nirmala UI', 'Calisto MT', 'Informal Roman', 'Century Schoolbook', 'Eras Medium ITC', 'Century Gothic', 'Pristina', 'Microsoft Uighur', 'Lucida Fax', 'Simplified Arabic', 'Microsoft JhengHei', 'Copperplate Gothic Bold', 'Lucida Handwriting', 'Vladimir Script', 'Matura MT Script Capitals', 'Bodoni MT', 'Lucida Sans Typewriter', 'Franklin Gothic Medium', 'High Tower Text', 'French Script MT', 'Rockwell', 'Goudy Stout', 'Lucida Sans', 'ZWAdobeF', 'Calibri', 'Agency FB', 'Yu Gothic', 'Ravie', 'Elephant', 'Dubai', 'Californian FB', 'Sitka', 'Origin', 'Script MT Bold', 'Candara', 'MT Extra', 'Tw Cen MT', 'Bell MT', 'Microsoft YaHei', 'Malgun Gothic', 'Comic Sans MS', 'Arial', 'Segoe UI', 'Modern No. 20', 'Rockwell Condensed', 'Adobe Devanagari', 'Monotype Corsiva', 'Footlight MT Light', 'Georgia', 'Arial Rounded MT Bold', 'Lucida Bright', 'Segoe UI', 'Ebrima', 'Calisto MT', 'Parchment', 'Bodoni MT', 'Candara', 'Bernard MT Condensed', 'Bookman Old Style', 'Leelawadee', 'Times New Roman', 'MS Reference Specialty', 'High Tower Text', 'Corbel', 'Bookman Old Style', 'Gloucester MT Extra Condensed', 'Ink Free', 'Segoe Fluent Icons', 'Constantia', 'Times New Roman', 'Arial', 'Candara', 'Calisto MT', 'Lucida Bright', 'Segoe UI', 'Calibri', 'Gill Sans MT', 'Segoe Print', 'Consolas']\n"
     ]
    }
   ],
   "source": [
    "import matplotlib.font_manager\n",
    "\n",
    "fonts = [f.name for f in matplotlib.font_manager.fontManager.ttflist]\n",
    "print(fonts)\n"
   ]
  },
  {
   "cell_type": "code",
   "execution_count": 1,
   "id": "2687ad43-19b9-4796-be59-f0ccd38a0e21",
   "metadata": {},
   "outputs": [
    {
     "ename": "FileNotFoundError",
     "evalue": "[Errno 2] No such file or directory: './microalgae_Exp_3.xlsx'",
     "output_type": "error",
     "traceback": [
      "\u001b[1;31m---------------------------------------------------------------------------\u001b[0m",
      "\u001b[1;31mFileNotFoundError\u001b[0m                         Traceback (most recent call last)",
      "Cell \u001b[1;32mIn[1], line 6\u001b[0m\n\u001b[0;32m      3\u001b[0m \u001b[38;5;28;01mimport\u001b[39;00m \u001b[38;5;21;01mpandas\u001b[39;00m \u001b[38;5;28;01mas\u001b[39;00m \u001b[38;5;21;01mpd\u001b[39;00m\n\u001b[0;32m      5\u001b[0m \u001b[38;5;66;03m# Sample data\u001b[39;00m\n\u001b[1;32m----> 6\u001b[0m df \u001b[38;5;241m=\u001b[39m \u001b[43mpd\u001b[49m\u001b[38;5;241;43m.\u001b[39;49m\u001b[43mread_excel\u001b[49m\u001b[43m(\u001b[49m\u001b[38;5;124;43m\"\u001b[39;49m\u001b[38;5;124;43m./microalgae_Exp_3.xlsx\u001b[39;49m\u001b[38;5;124;43m\"\u001b[39;49m\u001b[43m)\u001b[49m\n\u001b[0;32m      7\u001b[0m \u001b[38;5;66;03m# Create a DataFrame\u001b[39;00m\n\u001b[0;32m      8\u001b[0m \u001b[38;5;66;03m# df = pd.DataFrame(data)\u001b[39;00m\n\u001b[0;32m      9\u001b[0m \n\u001b[0;32m     10\u001b[0m \u001b[38;5;66;03m# Separate the data by variety\u001b[39;00m\n\u001b[0;32m     11\u001b[0m df_variety_08 \u001b[38;5;241m=\u001b[39m df[df[\u001b[38;5;124m'\u001b[39m\u001b[38;5;124mVariety\u001b[39m\u001b[38;5;124m'\u001b[39m] \u001b[38;5;241m==\u001b[39m \u001b[38;5;124m'\u001b[39m\u001b[38;5;124mBTN-R08\u001b[39m\u001b[38;5;124m'\u001b[39m]\n",
      "File \u001b[1;32mc:\\Users\\mirza\\miniconda3\\envs\\python_eda\\Lib\\site-packages\\pandas\\io\\excel\\_base.py:504\u001b[0m, in \u001b[0;36mread_excel\u001b[1;34m(io, sheet_name, header, names, index_col, usecols, dtype, engine, converters, true_values, false_values, skiprows, nrows, na_values, keep_default_na, na_filter, verbose, parse_dates, date_parser, date_format, thousands, decimal, comment, skipfooter, storage_options, dtype_backend, engine_kwargs)\u001b[0m\n\u001b[0;32m    502\u001b[0m \u001b[38;5;28;01mif\u001b[39;00m \u001b[38;5;129;01mnot\u001b[39;00m \u001b[38;5;28misinstance\u001b[39m(io, ExcelFile):\n\u001b[0;32m    503\u001b[0m     should_close \u001b[38;5;241m=\u001b[39m \u001b[38;5;28;01mTrue\u001b[39;00m\n\u001b[1;32m--> 504\u001b[0m     io \u001b[38;5;241m=\u001b[39m \u001b[43mExcelFile\u001b[49m\u001b[43m(\u001b[49m\n\u001b[0;32m    505\u001b[0m \u001b[43m        \u001b[49m\u001b[43mio\u001b[49m\u001b[43m,\u001b[49m\n\u001b[0;32m    506\u001b[0m \u001b[43m        \u001b[49m\u001b[43mstorage_options\u001b[49m\u001b[38;5;241;43m=\u001b[39;49m\u001b[43mstorage_options\u001b[49m\u001b[43m,\u001b[49m\n\u001b[0;32m    507\u001b[0m \u001b[43m        \u001b[49m\u001b[43mengine\u001b[49m\u001b[38;5;241;43m=\u001b[39;49m\u001b[43mengine\u001b[49m\u001b[43m,\u001b[49m\n\u001b[0;32m    508\u001b[0m \u001b[43m        \u001b[49m\u001b[43mengine_kwargs\u001b[49m\u001b[38;5;241;43m=\u001b[39;49m\u001b[43mengine_kwargs\u001b[49m\u001b[43m,\u001b[49m\n\u001b[0;32m    509\u001b[0m \u001b[43m    \u001b[49m\u001b[43m)\u001b[49m\n\u001b[0;32m    510\u001b[0m \u001b[38;5;28;01melif\u001b[39;00m engine \u001b[38;5;129;01mand\u001b[39;00m engine \u001b[38;5;241m!=\u001b[39m io\u001b[38;5;241m.\u001b[39mengine:\n\u001b[0;32m    511\u001b[0m     \u001b[38;5;28;01mraise\u001b[39;00m \u001b[38;5;167;01mValueError\u001b[39;00m(\n\u001b[0;32m    512\u001b[0m         \u001b[38;5;124m\"\u001b[39m\u001b[38;5;124mEngine should not be specified when passing \u001b[39m\u001b[38;5;124m\"\u001b[39m\n\u001b[0;32m    513\u001b[0m         \u001b[38;5;124m\"\u001b[39m\u001b[38;5;124man ExcelFile - ExcelFile already has the engine set\u001b[39m\u001b[38;5;124m\"\u001b[39m\n\u001b[0;32m    514\u001b[0m     )\n",
      "File \u001b[1;32mc:\\Users\\mirza\\miniconda3\\envs\\python_eda\\Lib\\site-packages\\pandas\\io\\excel\\_base.py:1563\u001b[0m, in \u001b[0;36mExcelFile.__init__\u001b[1;34m(self, path_or_buffer, engine, storage_options, engine_kwargs)\u001b[0m\n\u001b[0;32m   1561\u001b[0m     ext \u001b[38;5;241m=\u001b[39m \u001b[38;5;124m\"\u001b[39m\u001b[38;5;124mxls\u001b[39m\u001b[38;5;124m\"\u001b[39m\n\u001b[0;32m   1562\u001b[0m \u001b[38;5;28;01melse\u001b[39;00m:\n\u001b[1;32m-> 1563\u001b[0m     ext \u001b[38;5;241m=\u001b[39m \u001b[43minspect_excel_format\u001b[49m\u001b[43m(\u001b[49m\n\u001b[0;32m   1564\u001b[0m \u001b[43m        \u001b[49m\u001b[43mcontent_or_path\u001b[49m\u001b[38;5;241;43m=\u001b[39;49m\u001b[43mpath_or_buffer\u001b[49m\u001b[43m,\u001b[49m\u001b[43m \u001b[49m\u001b[43mstorage_options\u001b[49m\u001b[38;5;241;43m=\u001b[39;49m\u001b[43mstorage_options\u001b[49m\n\u001b[0;32m   1565\u001b[0m \u001b[43m    \u001b[49m\u001b[43m)\u001b[49m\n\u001b[0;32m   1566\u001b[0m     \u001b[38;5;28;01mif\u001b[39;00m ext \u001b[38;5;129;01mis\u001b[39;00m \u001b[38;5;28;01mNone\u001b[39;00m:\n\u001b[0;32m   1567\u001b[0m         \u001b[38;5;28;01mraise\u001b[39;00m \u001b[38;5;167;01mValueError\u001b[39;00m(\n\u001b[0;32m   1568\u001b[0m             \u001b[38;5;124m\"\u001b[39m\u001b[38;5;124mExcel file format cannot be determined, you must specify \u001b[39m\u001b[38;5;124m\"\u001b[39m\n\u001b[0;32m   1569\u001b[0m             \u001b[38;5;124m\"\u001b[39m\u001b[38;5;124man engine manually.\u001b[39m\u001b[38;5;124m\"\u001b[39m\n\u001b[0;32m   1570\u001b[0m         )\n",
      "File \u001b[1;32mc:\\Users\\mirza\\miniconda3\\envs\\python_eda\\Lib\\site-packages\\pandas\\io\\excel\\_base.py:1419\u001b[0m, in \u001b[0;36minspect_excel_format\u001b[1;34m(content_or_path, storage_options)\u001b[0m\n\u001b[0;32m   1416\u001b[0m \u001b[38;5;28;01mif\u001b[39;00m \u001b[38;5;28misinstance\u001b[39m(content_or_path, \u001b[38;5;28mbytes\u001b[39m):\n\u001b[0;32m   1417\u001b[0m     content_or_path \u001b[38;5;241m=\u001b[39m BytesIO(content_or_path)\n\u001b[1;32m-> 1419\u001b[0m \u001b[38;5;28;01mwith\u001b[39;00m \u001b[43mget_handle\u001b[49m\u001b[43m(\u001b[49m\n\u001b[0;32m   1420\u001b[0m \u001b[43m    \u001b[49m\u001b[43mcontent_or_path\u001b[49m\u001b[43m,\u001b[49m\u001b[43m \u001b[49m\u001b[38;5;124;43m\"\u001b[39;49m\u001b[38;5;124;43mrb\u001b[39;49m\u001b[38;5;124;43m\"\u001b[39;49m\u001b[43m,\u001b[49m\u001b[43m \u001b[49m\u001b[43mstorage_options\u001b[49m\u001b[38;5;241;43m=\u001b[39;49m\u001b[43mstorage_options\u001b[49m\u001b[43m,\u001b[49m\u001b[43m \u001b[49m\u001b[43mis_text\u001b[49m\u001b[38;5;241;43m=\u001b[39;49m\u001b[38;5;28;43;01mFalse\u001b[39;49;00m\n\u001b[0;32m   1421\u001b[0m \u001b[43m\u001b[49m\u001b[43m)\u001b[49m \u001b[38;5;28;01mas\u001b[39;00m handle:\n\u001b[0;32m   1422\u001b[0m     stream \u001b[38;5;241m=\u001b[39m handle\u001b[38;5;241m.\u001b[39mhandle\n\u001b[0;32m   1423\u001b[0m     stream\u001b[38;5;241m.\u001b[39mseek(\u001b[38;5;241m0\u001b[39m)\n",
      "File \u001b[1;32mc:\\Users\\mirza\\miniconda3\\envs\\python_eda\\Lib\\site-packages\\pandas\\io\\common.py:872\u001b[0m, in \u001b[0;36mget_handle\u001b[1;34m(path_or_buf, mode, encoding, compression, memory_map, is_text, errors, storage_options)\u001b[0m\n\u001b[0;32m    863\u001b[0m         handle \u001b[38;5;241m=\u001b[39m \u001b[38;5;28mopen\u001b[39m(\n\u001b[0;32m    864\u001b[0m             handle,\n\u001b[0;32m    865\u001b[0m             ioargs\u001b[38;5;241m.\u001b[39mmode,\n\u001b[1;32m   (...)\u001b[0m\n\u001b[0;32m    868\u001b[0m             newline\u001b[38;5;241m=\u001b[39m\u001b[38;5;124m\"\u001b[39m\u001b[38;5;124m\"\u001b[39m,\n\u001b[0;32m    869\u001b[0m         )\n\u001b[0;32m    870\u001b[0m     \u001b[38;5;28;01melse\u001b[39;00m:\n\u001b[0;32m    871\u001b[0m         \u001b[38;5;66;03m# Binary mode\u001b[39;00m\n\u001b[1;32m--> 872\u001b[0m         handle \u001b[38;5;241m=\u001b[39m \u001b[38;5;28;43mopen\u001b[39;49m\u001b[43m(\u001b[49m\u001b[43mhandle\u001b[49m\u001b[43m,\u001b[49m\u001b[43m \u001b[49m\u001b[43mioargs\u001b[49m\u001b[38;5;241;43m.\u001b[39;49m\u001b[43mmode\u001b[49m\u001b[43m)\u001b[49m\n\u001b[0;32m    873\u001b[0m     handles\u001b[38;5;241m.\u001b[39mappend(handle)\n\u001b[0;32m    875\u001b[0m \u001b[38;5;66;03m# Convert BytesIO or file objects passed with an encoding\u001b[39;00m\n",
      "\u001b[1;31mFileNotFoundError\u001b[0m: [Errno 2] No such file or directory: './microalgae_Exp_3.xlsx'"
     ]
    }
   ],
   "source": [
    "import matplotlib.pyplot as plt\n",
    "import seaborn as sns\n",
    "import pandas as pd\n",
    "\n",
    "# Sample data\n",
    "df = pd.read_excel(\"./microalgae_Exp_3.xlsx\")\n",
    "# Create a DataFrame\n",
    "# df = pd.DataFrame(data)\n",
    "\n",
    "# Separate the data by variety\n",
    "df_variety_08 = df[df['Variety'] == 'BTN-R08']\n",
    "df_variety_10 = df[df['Variety'] == 'BTN-R10']\n",
    "    \n",
    "# Create subplots\n",
    "fig, axes = plt.subplots(1, 2, figsize=(14, 7), sharey=True)\n",
    "\n",
    "# Plot for BTN-R08\n",
    "sns.lineplot(ax=axes[0], data=df_variety_08, x='Day', y='pH_change', hue='Media', marker='o')\n",
    "axes[0].set_title('pH Change Over Time for BTN-R08', fontname='DejaVu Serif', fontweight='bold')\n",
    "axes[0].set_xlabel('Cultivation Days', fontname='DejaVu Serif', fontweight='bold')\n",
    "axes[0].set_ylabel('pH Change', fontname='DejaVu Serif', fontweight='bold')\n",
    "axes[0].legend(title='Media', title_fontsize='13', prop={'family': 'DejaVu Serif', 'weight': 'bold'})\n",
    "axes[0].grid(False)\n",
    "\n",
    "# Plot for BTN-R10\n",
    "sns.lineplot(ax=axes[1], data=df_variety_10, x='Day', y='pH_change', hue='Media', marker='o')\n",
    "axes[1].set_title('pH Change Over Time for BTN-R10', fontname='DejaVu Serif', fontweight='bold')\n",
    "axes[1].set_xlabel('Cultivation Days', fontname='DejaVu Serif', fontweight='bold')\n",
    "axes[1].set_ylabel('pH Change', fontname='DejaVu Serif', fontweight='bold')\n",
    "axes[1].legend(title='Media', title_fontsize='13', prop={'family': 'DejaVu Serif', 'weight': 'bold'})\n",
    "axes[1].grid(False)\n",
    "\n",
    "# Adjust layout\n",
    "plt.tight_layout()\n",
    "# Save the plot as SVG\n",
    "plt.savefig('plot.png', format='png', dpi=300, bbox_inches='tight')\n",
    "# Show the plot\n",
    "plt.show()\n"
   ]
  },
  {
   "cell_type": "code",
   "execution_count": 3,
   "id": "11668513",
   "metadata": {},
   "outputs": [
    {
     "name": "stdout",
     "output_type": "stream",
     "text": [
      "Plotting column: pH_change\n"
     ]
    },
    {
     "name": "stderr",
     "output_type": "stream",
     "text": [
      "c:\\Users\\mirza\\miniconda3\\envs\\python_eda\\Lib\\site-packages\\seaborn\\_oldcore.py:1119: FutureWarning: use_inf_as_na option is deprecated and will be removed in a future version. Convert inf values to NaN before operating instead.\n",
      "  with pd.option_context('mode.use_inf_as_na', True):\n",
      "c:\\Users\\mirza\\miniconda3\\envs\\python_eda\\Lib\\site-packages\\seaborn\\_oldcore.py:1119: FutureWarning: use_inf_as_na option is deprecated and will be removed in a future version. Convert inf values to NaN before operating instead.\n",
      "  with pd.option_context('mode.use_inf_as_na', True):\n",
      "c:\\Users\\mirza\\miniconda3\\envs\\python_eda\\Lib\\site-packages\\seaborn\\_oldcore.py:1119: FutureWarning: use_inf_as_na option is deprecated and will be removed in a future version. Convert inf values to NaN before operating instead.\n",
      "  with pd.option_context('mode.use_inf_as_na', True):\n",
      "c:\\Users\\mirza\\miniconda3\\envs\\python_eda\\Lib\\site-packages\\seaborn\\_oldcore.py:1119: FutureWarning: use_inf_as_na option is deprecated and will be removed in a future version. Convert inf values to NaN before operating instead.\n",
      "  with pd.option_context('mode.use_inf_as_na', True):\n"
     ]
    },
    {
     "name": "stdout",
     "output_type": "stream",
     "text": [
      "Plotting column: Electrical Conductvity\n"
     ]
    },
    {
     "name": "stderr",
     "output_type": "stream",
     "text": [
      "c:\\Users\\mirza\\miniconda3\\envs\\python_eda\\Lib\\site-packages\\seaborn\\_oldcore.py:1119: FutureWarning: use_inf_as_na option is deprecated and will be removed in a future version. Convert inf values to NaN before operating instead.\n",
      "  with pd.option_context('mode.use_inf_as_na', True):\n",
      "c:\\Users\\mirza\\miniconda3\\envs\\python_eda\\Lib\\site-packages\\seaborn\\_oldcore.py:1119: FutureWarning: use_inf_as_na option is deprecated and will be removed in a future version. Convert inf values to NaN before operating instead.\n",
      "  with pd.option_context('mode.use_inf_as_na', True):\n",
      "c:\\Users\\mirza\\miniconda3\\envs\\python_eda\\Lib\\site-packages\\seaborn\\_oldcore.py:1119: FutureWarning: use_inf_as_na option is deprecated and will be removed in a future version. Convert inf values to NaN before operating instead.\n",
      "  with pd.option_context('mode.use_inf_as_na', True):\n",
      "c:\\Users\\mirza\\miniconda3\\envs\\python_eda\\Lib\\site-packages\\seaborn\\_oldcore.py:1119: FutureWarning: use_inf_as_na option is deprecated and will be removed in a future version. Convert inf values to NaN before operating instead.\n",
      "  with pd.option_context('mode.use_inf_as_na', True):\n"
     ]
    },
    {
     "name": "stdout",
     "output_type": "stream",
     "text": [
      "Plotting column: Total Dissolved susbtances\n"
     ]
    },
    {
     "name": "stderr",
     "output_type": "stream",
     "text": [
      "c:\\Users\\mirza\\miniconda3\\envs\\python_eda\\Lib\\site-packages\\seaborn\\_oldcore.py:1119: FutureWarning: use_inf_as_na option is deprecated and will be removed in a future version. Convert inf values to NaN before operating instead.\n",
      "  with pd.option_context('mode.use_inf_as_na', True):\n",
      "c:\\Users\\mirza\\miniconda3\\envs\\python_eda\\Lib\\site-packages\\seaborn\\_oldcore.py:1119: FutureWarning: use_inf_as_na option is deprecated and will be removed in a future version. Convert inf values to NaN before operating instead.\n",
      "  with pd.option_context('mode.use_inf_as_na', True):\n",
      "c:\\Users\\mirza\\miniconda3\\envs\\python_eda\\Lib\\site-packages\\seaborn\\_oldcore.py:1119: FutureWarning: use_inf_as_na option is deprecated and will be removed in a future version. Convert inf values to NaN before operating instead.\n",
      "  with pd.option_context('mode.use_inf_as_na', True):\n",
      "c:\\Users\\mirza\\miniconda3\\envs\\python_eda\\Lib\\site-packages\\seaborn\\_oldcore.py:1119: FutureWarning: use_inf_as_na option is deprecated and will be removed in a future version. Convert inf values to NaN before operating instead.\n",
      "  with pd.option_context('mode.use_inf_as_na', True):\n"
     ]
    },
    {
     "name": "stdout",
     "output_type": "stream",
     "text": [
      "Plotting column: Temperature\n"
     ]
    },
    {
     "name": "stderr",
     "output_type": "stream",
     "text": [
      "c:\\Users\\mirza\\miniconda3\\envs\\python_eda\\Lib\\site-packages\\seaborn\\_oldcore.py:1119: FutureWarning: use_inf_as_na option is deprecated and will be removed in a future version. Convert inf values to NaN before operating instead.\n",
      "  with pd.option_context('mode.use_inf_as_na', True):\n",
      "c:\\Users\\mirza\\miniconda3\\envs\\python_eda\\Lib\\site-packages\\seaborn\\_oldcore.py:1119: FutureWarning: use_inf_as_na option is deprecated and will be removed in a future version. Convert inf values to NaN before operating instead.\n",
      "  with pd.option_context('mode.use_inf_as_na', True):\n",
      "c:\\Users\\mirza\\miniconda3\\envs\\python_eda\\Lib\\site-packages\\seaborn\\_oldcore.py:1119: FutureWarning: use_inf_as_na option is deprecated and will be removed in a future version. Convert inf values to NaN before operating instead.\n",
      "  with pd.option_context('mode.use_inf_as_na', True):\n",
      "c:\\Users\\mirza\\miniconda3\\envs\\python_eda\\Lib\\site-packages\\seaborn\\_oldcore.py:1119: FutureWarning: use_inf_as_na option is deprecated and will be removed in a future version. Convert inf values to NaN before operating instead.\n",
      "  with pd.option_context('mode.use_inf_as_na', True):\n"
     ]
    },
    {
     "name": "stdout",
     "output_type": "stream",
     "text": [
      "Plotting column: OD\n"
     ]
    },
    {
     "name": "stderr",
     "output_type": "stream",
     "text": [
      "c:\\Users\\mirza\\miniconda3\\envs\\python_eda\\Lib\\site-packages\\seaborn\\_oldcore.py:1119: FutureWarning: use_inf_as_na option is deprecated and will be removed in a future version. Convert inf values to NaN before operating instead.\n",
      "  with pd.option_context('mode.use_inf_as_na', True):\n",
      "c:\\Users\\mirza\\miniconda3\\envs\\python_eda\\Lib\\site-packages\\seaborn\\_oldcore.py:1119: FutureWarning: use_inf_as_na option is deprecated and will be removed in a future version. Convert inf values to NaN before operating instead.\n",
      "  with pd.option_context('mode.use_inf_as_na', True):\n",
      "c:\\Users\\mirza\\miniconda3\\envs\\python_eda\\Lib\\site-packages\\seaborn\\_oldcore.py:1119: FutureWarning: use_inf_as_na option is deprecated and will be removed in a future version. Convert inf values to NaN before operating instead.\n",
      "  with pd.option_context('mode.use_inf_as_na', True):\n",
      "c:\\Users\\mirza\\miniconda3\\envs\\python_eda\\Lib\\site-packages\\seaborn\\_oldcore.py:1119: FutureWarning: use_inf_as_na option is deprecated and will be removed in a future version. Convert inf values to NaN before operating instead.\n",
      "  with pd.option_context('mode.use_inf_as_na', True):\n"
     ]
    },
    {
     "name": "stdout",
     "output_type": "stream",
     "text": [
      "Plotting column: Biomass Production\n"
     ]
    },
    {
     "name": "stderr",
     "output_type": "stream",
     "text": [
      "c:\\Users\\mirza\\miniconda3\\envs\\python_eda\\Lib\\site-packages\\seaborn\\_oldcore.py:1119: FutureWarning: use_inf_as_na option is deprecated and will be removed in a future version. Convert inf values to NaN before operating instead.\n",
      "  with pd.option_context('mode.use_inf_as_na', True):\n",
      "c:\\Users\\mirza\\miniconda3\\envs\\python_eda\\Lib\\site-packages\\seaborn\\_oldcore.py:1119: FutureWarning: use_inf_as_na option is deprecated and will be removed in a future version. Convert inf values to NaN before operating instead.\n",
      "  with pd.option_context('mode.use_inf_as_na', True):\n",
      "c:\\Users\\mirza\\miniconda3\\envs\\python_eda\\Lib\\site-packages\\seaborn\\_oldcore.py:1119: FutureWarning: use_inf_as_na option is deprecated and will be removed in a future version. Convert inf values to NaN before operating instead.\n",
      "  with pd.option_context('mode.use_inf_as_na', True):\n",
      "c:\\Users\\mirza\\miniconda3\\envs\\python_eda\\Lib\\site-packages\\seaborn\\_oldcore.py:1119: FutureWarning: use_inf_as_na option is deprecated and will be removed in a future version. Convert inf values to NaN before operating instead.\n",
      "  with pd.option_context('mode.use_inf_as_na', True):\n"
     ]
    },
    {
     "name": "stdout",
     "output_type": "stream",
     "text": [
      "Plotting column: Productivity\n"
     ]
    },
    {
     "name": "stderr",
     "output_type": "stream",
     "text": [
      "c:\\Users\\mirza\\miniconda3\\envs\\python_eda\\Lib\\site-packages\\seaborn\\_oldcore.py:1119: FutureWarning: use_inf_as_na option is deprecated and will be removed in a future version. Convert inf values to NaN before operating instead.\n",
      "  with pd.option_context('mode.use_inf_as_na', True):\n",
      "c:\\Users\\mirza\\miniconda3\\envs\\python_eda\\Lib\\site-packages\\seaborn\\_oldcore.py:1119: FutureWarning: use_inf_as_na option is deprecated and will be removed in a future version. Convert inf values to NaN before operating instead.\n",
      "  with pd.option_context('mode.use_inf_as_na', True):\n",
      "c:\\Users\\mirza\\miniconda3\\envs\\python_eda\\Lib\\site-packages\\seaborn\\_oldcore.py:1119: FutureWarning: use_inf_as_na option is deprecated and will be removed in a future version. Convert inf values to NaN before operating instead.\n",
      "  with pd.option_context('mode.use_inf_as_na', True):\n",
      "c:\\Users\\mirza\\miniconda3\\envs\\python_eda\\Lib\\site-packages\\seaborn\\_oldcore.py:1119: FutureWarning: use_inf_as_na option is deprecated and will be removed in a future version. Convert inf values to NaN before operating instead.\n",
      "  with pd.option_context('mode.use_inf_as_na', True):\n"
     ]
    },
    {
     "name": "stdout",
     "output_type": "stream",
     "text": [
      "Plotting column: Doubling_time\n"
     ]
    },
    {
     "name": "stderr",
     "output_type": "stream",
     "text": [
      "c:\\Users\\mirza\\miniconda3\\envs\\python_eda\\Lib\\site-packages\\seaborn\\_oldcore.py:1119: FutureWarning: use_inf_as_na option is deprecated and will be removed in a future version. Convert inf values to NaN before operating instead.\n",
      "  with pd.option_context('mode.use_inf_as_na', True):\n",
      "c:\\Users\\mirza\\miniconda3\\envs\\python_eda\\Lib\\site-packages\\seaborn\\_oldcore.py:1119: FutureWarning: use_inf_as_na option is deprecated and will be removed in a future version. Convert inf values to NaN before operating instead.\n",
      "  with pd.option_context('mode.use_inf_as_na', True):\n",
      "c:\\Users\\mirza\\miniconda3\\envs\\python_eda\\Lib\\site-packages\\seaborn\\_oldcore.py:1119: FutureWarning: use_inf_as_na option is deprecated and will be removed in a future version. Convert inf values to NaN before operating instead.\n",
      "  with pd.option_context('mode.use_inf_as_na', True):\n",
      "c:\\Users\\mirza\\miniconda3\\envs\\python_eda\\Lib\\site-packages\\seaborn\\_oldcore.py:1119: FutureWarning: use_inf_as_na option is deprecated and will be removed in a future version. Convert inf values to NaN before operating instead.\n",
      "  with pd.option_context('mode.use_inf_as_na', True):\n"
     ]
    },
    {
     "name": "stdout",
     "output_type": "stream",
     "text": [
      "Plotting column: Total_Carbohydrates\n"
     ]
    },
    {
     "name": "stderr",
     "output_type": "stream",
     "text": [
      "c:\\Users\\mirza\\miniconda3\\envs\\python_eda\\Lib\\site-packages\\seaborn\\_oldcore.py:1119: FutureWarning: use_inf_as_na option is deprecated and will be removed in a future version. Convert inf values to NaN before operating instead.\n",
      "  with pd.option_context('mode.use_inf_as_na', True):\n",
      "c:\\Users\\mirza\\miniconda3\\envs\\python_eda\\Lib\\site-packages\\seaborn\\_oldcore.py:1119: FutureWarning: use_inf_as_na option is deprecated and will be removed in a future version. Convert inf values to NaN before operating instead.\n",
      "  with pd.option_context('mode.use_inf_as_na', True):\n",
      "c:\\Users\\mirza\\miniconda3\\envs\\python_eda\\Lib\\site-packages\\seaborn\\_oldcore.py:1119: FutureWarning: use_inf_as_na option is deprecated and will be removed in a future version. Convert inf values to NaN before operating instead.\n",
      "  with pd.option_context('mode.use_inf_as_na', True):\n",
      "c:\\Users\\mirza\\miniconda3\\envs\\python_eda\\Lib\\site-packages\\seaborn\\_oldcore.py:1119: FutureWarning: use_inf_as_na option is deprecated and will be removed in a future version. Convert inf values to NaN before operating instead.\n",
      "  with pd.option_context('mode.use_inf_as_na', True):\n"
     ]
    },
    {
     "name": "stdout",
     "output_type": "stream",
     "text": [
      "Plotting column: Total_Lipids\n"
     ]
    },
    {
     "name": "stderr",
     "output_type": "stream",
     "text": [
      "c:\\Users\\mirza\\miniconda3\\envs\\python_eda\\Lib\\site-packages\\seaborn\\_oldcore.py:1119: FutureWarning: use_inf_as_na option is deprecated and will be removed in a future version. Convert inf values to NaN before operating instead.\n",
      "  with pd.option_context('mode.use_inf_as_na', True):\n",
      "c:\\Users\\mirza\\miniconda3\\envs\\python_eda\\Lib\\site-packages\\seaborn\\_oldcore.py:1119: FutureWarning: use_inf_as_na option is deprecated and will be removed in a future version. Convert inf values to NaN before operating instead.\n",
      "  with pd.option_context('mode.use_inf_as_na', True):\n",
      "c:\\Users\\mirza\\miniconda3\\envs\\python_eda\\Lib\\site-packages\\seaborn\\_oldcore.py:1119: FutureWarning: use_inf_as_na option is deprecated and will be removed in a future version. Convert inf values to NaN before operating instead.\n",
      "  with pd.option_context('mode.use_inf_as_na', True):\n",
      "c:\\Users\\mirza\\miniconda3\\envs\\python_eda\\Lib\\site-packages\\seaborn\\_oldcore.py:1119: FutureWarning: use_inf_as_na option is deprecated and will be removed in a future version. Convert inf values to NaN before operating instead.\n",
      "  with pd.option_context('mode.use_inf_as_na', True):\n"
     ]
    },
    {
     "name": "stdout",
     "output_type": "stream",
     "text": [
      "Plotting column: Total_Proteins\n"
     ]
    },
    {
     "name": "stderr",
     "output_type": "stream",
     "text": [
      "c:\\Users\\mirza\\miniconda3\\envs\\python_eda\\Lib\\site-packages\\seaborn\\_oldcore.py:1119: FutureWarning: use_inf_as_na option is deprecated and will be removed in a future version. Convert inf values to NaN before operating instead.\n",
      "  with pd.option_context('mode.use_inf_as_na', True):\n",
      "c:\\Users\\mirza\\miniconda3\\envs\\python_eda\\Lib\\site-packages\\seaborn\\_oldcore.py:1119: FutureWarning: use_inf_as_na option is deprecated and will be removed in a future version. Convert inf values to NaN before operating instead.\n",
      "  with pd.option_context('mode.use_inf_as_na', True):\n",
      "c:\\Users\\mirza\\miniconda3\\envs\\python_eda\\Lib\\site-packages\\seaborn\\_oldcore.py:1119: FutureWarning: use_inf_as_na option is deprecated and will be removed in a future version. Convert inf values to NaN before operating instead.\n",
      "  with pd.option_context('mode.use_inf_as_na', True):\n",
      "c:\\Users\\mirza\\miniconda3\\envs\\python_eda\\Lib\\site-packages\\seaborn\\_oldcore.py:1119: FutureWarning: use_inf_as_na option is deprecated and will be removed in a future version. Convert inf values to NaN before operating instead.\n",
      "  with pd.option_context('mode.use_inf_as_na', True):\n"
     ]
    },
    {
     "name": "stdout",
     "output_type": "stream",
     "text": [
      "Plotting column: Chlorophyll_a\n"
     ]
    },
    {
     "name": "stderr",
     "output_type": "stream",
     "text": [
      "c:\\Users\\mirza\\miniconda3\\envs\\python_eda\\Lib\\site-packages\\seaborn\\_oldcore.py:1119: FutureWarning: use_inf_as_na option is deprecated and will be removed in a future version. Convert inf values to NaN before operating instead.\n",
      "  with pd.option_context('mode.use_inf_as_na', True):\n",
      "c:\\Users\\mirza\\miniconda3\\envs\\python_eda\\Lib\\site-packages\\seaborn\\_oldcore.py:1119: FutureWarning: use_inf_as_na option is deprecated and will be removed in a future version. Convert inf values to NaN before operating instead.\n",
      "  with pd.option_context('mode.use_inf_as_na', True):\n",
      "c:\\Users\\mirza\\miniconda3\\envs\\python_eda\\Lib\\site-packages\\seaborn\\_oldcore.py:1119: FutureWarning: use_inf_as_na option is deprecated and will be removed in a future version. Convert inf values to NaN before operating instead.\n",
      "  with pd.option_context('mode.use_inf_as_na', True):\n",
      "c:\\Users\\mirza\\miniconda3\\envs\\python_eda\\Lib\\site-packages\\seaborn\\_oldcore.py:1119: FutureWarning: use_inf_as_na option is deprecated and will be removed in a future version. Convert inf values to NaN before operating instead.\n",
      "  with pd.option_context('mode.use_inf_as_na', True):\n"
     ]
    },
    {
     "name": "stdout",
     "output_type": "stream",
     "text": [
      "Plotting column: Chlorophyll_b\n"
     ]
    },
    {
     "name": "stderr",
     "output_type": "stream",
     "text": [
      "c:\\Users\\mirza\\miniconda3\\envs\\python_eda\\Lib\\site-packages\\seaborn\\_oldcore.py:1119: FutureWarning: use_inf_as_na option is deprecated and will be removed in a future version. Convert inf values to NaN before operating instead.\n",
      "  with pd.option_context('mode.use_inf_as_na', True):\n",
      "c:\\Users\\mirza\\miniconda3\\envs\\python_eda\\Lib\\site-packages\\seaborn\\_oldcore.py:1119: FutureWarning: use_inf_as_na option is deprecated and will be removed in a future version. Convert inf values to NaN before operating instead.\n",
      "  with pd.option_context('mode.use_inf_as_na', True):\n",
      "c:\\Users\\mirza\\miniconda3\\envs\\python_eda\\Lib\\site-packages\\seaborn\\_oldcore.py:1119: FutureWarning: use_inf_as_na option is deprecated and will be removed in a future version. Convert inf values to NaN before operating instead.\n",
      "  with pd.option_context('mode.use_inf_as_na', True):\n",
      "c:\\Users\\mirza\\miniconda3\\envs\\python_eda\\Lib\\site-packages\\seaborn\\_oldcore.py:1119: FutureWarning: use_inf_as_na option is deprecated and will be removed in a future version. Convert inf values to NaN before operating instead.\n",
      "  with pd.option_context('mode.use_inf_as_na', True):\n"
     ]
    },
    {
     "name": "stdout",
     "output_type": "stream",
     "text": [
      "Plotting column: Carotene\n"
     ]
    },
    {
     "name": "stderr",
     "output_type": "stream",
     "text": [
      "c:\\Users\\mirza\\miniconda3\\envs\\python_eda\\Lib\\site-packages\\seaborn\\_oldcore.py:1119: FutureWarning: use_inf_as_na option is deprecated and will be removed in a future version. Convert inf values to NaN before operating instead.\n",
      "  with pd.option_context('mode.use_inf_as_na', True):\n",
      "c:\\Users\\mirza\\miniconda3\\envs\\python_eda\\Lib\\site-packages\\seaborn\\_oldcore.py:1119: FutureWarning: use_inf_as_na option is deprecated and will be removed in a future version. Convert inf values to NaN before operating instead.\n",
      "  with pd.option_context('mode.use_inf_as_na', True):\n",
      "c:\\Users\\mirza\\miniconda3\\envs\\python_eda\\Lib\\site-packages\\seaborn\\_oldcore.py:1119: FutureWarning: use_inf_as_na option is deprecated and will be removed in a future version. Convert inf values to NaN before operating instead.\n",
      "  with pd.option_context('mode.use_inf_as_na', True):\n",
      "c:\\Users\\mirza\\miniconda3\\envs\\python_eda\\Lib\\site-packages\\seaborn\\_oldcore.py:1119: FutureWarning: use_inf_as_na option is deprecated and will be removed in a future version. Convert inf values to NaN before operating instead.\n",
      "  with pd.option_context('mode.use_inf_as_na', True):\n"
     ]
    },
    {
     "name": "stdout",
     "output_type": "stream",
     "text": [
      "Plotting column: Phycobilins\n"
     ]
    },
    {
     "name": "stderr",
     "output_type": "stream",
     "text": [
      "c:\\Users\\mirza\\miniconda3\\envs\\python_eda\\Lib\\site-packages\\seaborn\\_oldcore.py:1119: FutureWarning: use_inf_as_na option is deprecated and will be removed in a future version. Convert inf values to NaN before operating instead.\n",
      "  with pd.option_context('mode.use_inf_as_na', True):\n",
      "c:\\Users\\mirza\\miniconda3\\envs\\python_eda\\Lib\\site-packages\\seaborn\\_oldcore.py:1119: FutureWarning: use_inf_as_na option is deprecated and will be removed in a future version. Convert inf values to NaN before operating instead.\n",
      "  with pd.option_context('mode.use_inf_as_na', True):\n",
      "c:\\Users\\mirza\\miniconda3\\envs\\python_eda\\Lib\\site-packages\\seaborn\\_oldcore.py:1119: FutureWarning: use_inf_as_na option is deprecated and will be removed in a future version. Convert inf values to NaN before operating instead.\n",
      "  with pd.option_context('mode.use_inf_as_na', True):\n",
      "c:\\Users\\mirza\\miniconda3\\envs\\python_eda\\Lib\\site-packages\\seaborn\\_oldcore.py:1119: FutureWarning: use_inf_as_na option is deprecated and will be removed in a future version. Convert inf values to NaN before operating instead.\n",
      "  with pd.option_context('mode.use_inf_as_na', True):\n"
     ]
    },
    {
     "name": "stdout",
     "output_type": "stream",
     "text": [
      "Plotting column: Phycocyanin\n"
     ]
    },
    {
     "name": "stderr",
     "output_type": "stream",
     "text": [
      "c:\\Users\\mirza\\miniconda3\\envs\\python_eda\\Lib\\site-packages\\seaborn\\_oldcore.py:1119: FutureWarning: use_inf_as_na option is deprecated and will be removed in a future version. Convert inf values to NaN before operating instead.\n",
      "  with pd.option_context('mode.use_inf_as_na', True):\n",
      "c:\\Users\\mirza\\miniconda3\\envs\\python_eda\\Lib\\site-packages\\seaborn\\_oldcore.py:1119: FutureWarning: use_inf_as_na option is deprecated and will be removed in a future version. Convert inf values to NaN before operating instead.\n",
      "  with pd.option_context('mode.use_inf_as_na', True):\n",
      "c:\\Users\\mirza\\miniconda3\\envs\\python_eda\\Lib\\site-packages\\seaborn\\_oldcore.py:1119: FutureWarning: use_inf_as_na option is deprecated and will be removed in a future version. Convert inf values to NaN before operating instead.\n",
      "  with pd.option_context('mode.use_inf_as_na', True):\n",
      "c:\\Users\\mirza\\miniconda3\\envs\\python_eda\\Lib\\site-packages\\seaborn\\_oldcore.py:1119: FutureWarning: use_inf_as_na option is deprecated and will be removed in a future version. Convert inf values to NaN before operating instead.\n",
      "  with pd.option_context('mode.use_inf_as_na', True):\n"
     ]
    },
    {
     "name": "stdout",
     "output_type": "stream",
     "text": [
      "Plotting column: Allophycocyanin\n"
     ]
    },
    {
     "name": "stderr",
     "output_type": "stream",
     "text": [
      "c:\\Users\\mirza\\miniconda3\\envs\\python_eda\\Lib\\site-packages\\seaborn\\_oldcore.py:1119: FutureWarning: use_inf_as_na option is deprecated and will be removed in a future version. Convert inf values to NaN before operating instead.\n",
      "  with pd.option_context('mode.use_inf_as_na', True):\n",
      "c:\\Users\\mirza\\miniconda3\\envs\\python_eda\\Lib\\site-packages\\seaborn\\_oldcore.py:1119: FutureWarning: use_inf_as_na option is deprecated and will be removed in a future version. Convert inf values to NaN before operating instead.\n",
      "  with pd.option_context('mode.use_inf_as_na', True):\n",
      "c:\\Users\\mirza\\miniconda3\\envs\\python_eda\\Lib\\site-packages\\seaborn\\_oldcore.py:1119: FutureWarning: use_inf_as_na option is deprecated and will be removed in a future version. Convert inf values to NaN before operating instead.\n",
      "  with pd.option_context('mode.use_inf_as_na', True):\n",
      "c:\\Users\\mirza\\miniconda3\\envs\\python_eda\\Lib\\site-packages\\seaborn\\_oldcore.py:1119: FutureWarning: use_inf_as_na option is deprecated and will be removed in a future version. Convert inf values to NaN before operating instead.\n",
      "  with pd.option_context('mode.use_inf_as_na', True):\n"
     ]
    },
    {
     "name": "stdout",
     "output_type": "stream",
     "text": [
      "Plotting column: Phycoerythrin\n"
     ]
    },
    {
     "name": "stderr",
     "output_type": "stream",
     "text": [
      "c:\\Users\\mirza\\miniconda3\\envs\\python_eda\\Lib\\site-packages\\seaborn\\_oldcore.py:1119: FutureWarning: use_inf_as_na option is deprecated and will be removed in a future version. Convert inf values to NaN before operating instead.\n",
      "  with pd.option_context('mode.use_inf_as_na', True):\n",
      "c:\\Users\\mirza\\miniconda3\\envs\\python_eda\\Lib\\site-packages\\seaborn\\_oldcore.py:1119: FutureWarning: use_inf_as_na option is deprecated and will be removed in a future version. Convert inf values to NaN before operating instead.\n",
      "  with pd.option_context('mode.use_inf_as_na', True):\n",
      "c:\\Users\\mirza\\miniconda3\\envs\\python_eda\\Lib\\site-packages\\seaborn\\_oldcore.py:1119: FutureWarning: use_inf_as_na option is deprecated and will be removed in a future version. Convert inf values to NaN before operating instead.\n",
      "  with pd.option_context('mode.use_inf_as_na', True):\n",
      "c:\\Users\\mirza\\miniconda3\\envs\\python_eda\\Lib\\site-packages\\seaborn\\_oldcore.py:1119: FutureWarning: use_inf_as_na option is deprecated and will be removed in a future version. Convert inf values to NaN before operating instead.\n",
      "  with pd.option_context('mode.use_inf_as_na', True):\n"
     ]
    },
    {
     "data": {
      "text/plain": [
       "<Figure size 1400x700 with 0 Axes>"
      ]
     },
     "metadata": {},
     "output_type": "display_data"
    },
    {
     "data": {
      "text/plain": [
       "<Figure size 1400x700 with 0 Axes>"
      ]
     },
     "metadata": {},
     "output_type": "display_data"
    },
    {
     "data": {
      "text/plain": [
       "<Figure size 1400x700 with 0 Axes>"
      ]
     },
     "metadata": {},
     "output_type": "display_data"
    },
    {
     "data": {
      "text/plain": [
       "<Figure size 1400x700 with 0 Axes>"
      ]
     },
     "metadata": {},
     "output_type": "display_data"
    },
    {
     "data": {
      "text/plain": [
       "<Figure size 1400x700 with 0 Axes>"
      ]
     },
     "metadata": {},
     "output_type": "display_data"
    },
    {
     "data": {
      "text/plain": [
       "<Figure size 1400x700 with 0 Axes>"
      ]
     },
     "metadata": {},
     "output_type": "display_data"
    },
    {
     "data": {
      "text/plain": [
       "<Figure size 1400x700 with 0 Axes>"
      ]
     },
     "metadata": {},
     "output_type": "display_data"
    },
    {
     "data": {
      "text/plain": [
       "<Figure size 1400x700 with 0 Axes>"
      ]
     },
     "metadata": {},
     "output_type": "display_data"
    },
    {
     "data": {
      "text/plain": [
       "<Figure size 1400x700 with 0 Axes>"
      ]
     },
     "metadata": {},
     "output_type": "display_data"
    },
    {
     "data": {
      "text/plain": [
       "<Figure size 1400x700 with 0 Axes>"
      ]
     },
     "metadata": {},
     "output_type": "display_data"
    },
    {
     "data": {
      "text/plain": [
       "<Figure size 1400x700 with 0 Axes>"
      ]
     },
     "metadata": {},
     "output_type": "display_data"
    },
    {
     "data": {
      "text/plain": [
       "<Figure size 1400x700 with 0 Axes>"
      ]
     },
     "metadata": {},
     "output_type": "display_data"
    },
    {
     "data": {
      "text/plain": [
       "<Figure size 1400x700 with 0 Axes>"
      ]
     },
     "metadata": {},
     "output_type": "display_data"
    },
    {
     "data": {
      "text/plain": [
       "<Figure size 1400x700 with 0 Axes>"
      ]
     },
     "metadata": {},
     "output_type": "display_data"
    },
    {
     "data": {
      "text/plain": [
       "<Figure size 1400x700 with 0 Axes>"
      ]
     },
     "metadata": {},
     "output_type": "display_data"
    },
    {
     "data": {
      "text/plain": [
       "<Figure size 1400x700 with 0 Axes>"
      ]
     },
     "metadata": {},
     "output_type": "display_data"
    },
    {
     "data": {
      "text/plain": [
       "<Figure size 1400x700 with 0 Axes>"
      ]
     },
     "metadata": {},
     "output_type": "display_data"
    },
    {
     "data": {
      "text/plain": [
       "<Figure size 1400x700 with 0 Axes>"
      ]
     },
     "metadata": {},
     "output_type": "display_data"
    }
   ],
   "source": [
    "import matplotlib.pyplot as plt\n",
    "import seaborn as sns\n",
    "import pandas as pd\n",
    "\n",
    "df = pd.read_excel(\"./microalgae_Exp_3_N.xlsx\")\n",
    "\n",
    "def plot_pH_change(df, column_index, column_name):\n",
    "    column_y = df.columns[column_index]\n",
    "    print(f\"Plotting column: {column_y}\")\n",
    "\n",
    "    # Select the next column to get its name and values\n",
    "    if column_index + 1 < len(df.columns):\n",
    "        next_column = df.columns[column_index + 1]\n",
    "        next_column_values = df[next_column]\n",
    "    else:\n",
    "        next_column = None\n",
    "        next_column_values = None\n",
    "\n",
    "    # Create a DataFrame for each variety\n",
    "    df_variety_08 = df[df['Variety'] == 'BTN-R08']\n",
    "    df_variety_10 = df[df['Variety'] == 'BTN-R10']\n",
    "\n",
    "    # Create subplots\n",
    "    fig, axes = plt.subplots(1, 2, figsize=(14, 7), sharey=True)\n",
    "\n",
    "    # Plot for BTN-R08\n",
    "    sns.lineplot(ax=axes[0], data=df_variety_08, x='Day', y=column_y, hue='Media', style='Media', markers=True, dashes=False, markersize=10)\n",
    "    axes[0].set_title(f'{column_y} Over Time for BTN-R08', fontname='DejaVu Serif', fontweight='bold')\n",
    "    axes[0].set_xlabel('Cultivation Days', fontname='DejaVu Serif', fontweight='bold')\n",
    "    axes[0].set_ylabel(column_y, fontname='DejaVu Serif', fontweight='bold')\n",
    "    axes[0].legend(title=column_name, title_fontsize='13', prop={'family': 'DejaVu Serif', 'weight': 'bold'})\n",
    "    axes[0].grid(False)\n",
    "\n",
    "    # Plot for BTN-R10\n",
    "    sns.lineplot(ax=axes[1], data=df_variety_10, x='Day', y=column_y, hue='Media', style='Media', markers=True, dashes=False, markersize=10)\n",
    "    axes[1].set_title(f'{column_y} Over Time for BTN-R10', fontname='DejaVu Serif', fontweight='bold')\n",
    "    axes[1].set_xlabel('Cultivation Days', fontname='DejaVu Serif', fontweight='bold')\n",
    "    axes[1].set_ylabel(column_y, fontname='DejaVu Serif', fontweight='bold')\n",
    "    axes[1].legend(title=column_name, title_fontsize='13', prop={'family': 'DejaVu Serif', 'weight': 'bold'})\n",
    "    axes[1].grid(False)\n",
    "\n",
    "    # Adjust layout\n",
    "    plt.tight_layout()\n",
    "\n",
    "    # Save the plot as an image file\n",
    "    plt.savefig(r'D:\\Study\\Study and Extras\\Dr Nawaz Sb Paper\\M.Phil Thesis and Studentship\\Rehan_Thesis 2022-2024\\Data Set\\Exp_3_N\\{}.png'.format(column_y), dpi=600)\n",
    "\n",
    "    # Clear the screen\n",
    "    plt.clf()\n",
    "\n",
    "# Run the function for each column starting from the fourth column\n",
    "for column_index in range(3, len(df.columns)):\n",
    "    column_name = df.columns[column_index]\n",
    "    plot_pH_change(df, column_index, column_name)"
   ]
  },
  {
   "cell_type": "code",
   "execution_count": 4,
   "id": "89c4a38d",
   "metadata": {},
   "outputs": [
    {
     "name": "stdout",
     "output_type": "stream",
     "text": [
      "Plotting column: pH_change\n",
      "Plotting column: Electrical Conductvity\n",
      "Plotting column: Total Dissolved susbtances\n",
      "Plotting column: Temperature\n",
      "Plotting column: OD\n",
      "Plotting column: Biomass Production\n",
      "Plotting column: Productivity\n",
      "Plotting column: Doubling_time\n"
     ]
    },
    {
     "data": {
      "text/plain": [
       "<Figure size 1400x700 with 0 Axes>"
      ]
     },
     "metadata": {},
     "output_type": "display_data"
    },
    {
     "data": {
      "text/plain": [
       "<Figure size 1400x700 with 0 Axes>"
      ]
     },
     "metadata": {},
     "output_type": "display_data"
    },
    {
     "data": {
      "text/plain": [
       "<Figure size 1400x700 with 0 Axes>"
      ]
     },
     "metadata": {},
     "output_type": "display_data"
    },
    {
     "data": {
      "text/plain": [
       "<Figure size 1400x700 with 0 Axes>"
      ]
     },
     "metadata": {},
     "output_type": "display_data"
    },
    {
     "data": {
      "text/plain": [
       "<Figure size 1400x700 with 0 Axes>"
      ]
     },
     "metadata": {},
     "output_type": "display_data"
    },
    {
     "data": {
      "text/plain": [
       "<Figure size 1400x700 with 0 Axes>"
      ]
     },
     "metadata": {},
     "output_type": "display_data"
    },
    {
     "data": {
      "text/plain": [
       "<Figure size 1400x700 with 0 Axes>"
      ]
     },
     "metadata": {},
     "output_type": "display_data"
    },
    {
     "data": {
      "text/plain": [
       "<Figure size 1400x700 with 0 Axes>"
      ]
     },
     "metadata": {},
     "output_type": "display_data"
    }
   ],
   "source": [
    "#Barplot\n",
    "import warnings\n",
    "\n",
    "# Suppress warnings\n",
    "warnings.filterwarnings('ignore')\n",
    "\n",
    "# Import necessary libraries\n",
    "import matplotlib.pyplot as plt\n",
    "import seaborn as sns\n",
    "import pandas as pd\n",
    "\n",
    "# Load the dataset\n",
    "df = pd.read_excel(\"./microalgae_Exp_2.xlsx\")\n",
    "\n",
    "def plot_pH_change(df, column_index, column_name):\n",
    "    # Extract the column to be plotted\n",
    "    column_y = df.columns[column_index]\n",
    "    print(f\"Plotting column: {column_y}\")\n",
    "\n",
    "    # Check for the next column, if exists\n",
    "    if column_index + 1 < len(df.columns):\n",
    "        next_column = df.columns[column_index + 1]\n",
    "        next_column_values = df[next_column]\n",
    "    else:\n",
    "        next_column = None\n",
    "        next_column_values = None\n",
    "\n",
    "    # Filter data for each variety\n",
    "    df_variety_08 = df[df['Variety'] == 'BTN-R08']\n",
    "    df_variety_10 = df[df['Variety'] == 'BTN-R10']\n",
    "\n",
    "    # Create subplots for each variety\n",
    "    fig, axes = plt.subplots(1, 2, figsize=(14, 7), sharey=True)\n",
    "\n",
    "    # Plot for variety BTN-R08\n",
    "    sns.barplot(ax=axes[0], data=df_variety_08, x='Day', y=column_y, hue='Media')\n",
    "    axes[0].set_title(f'{column_y} Over Time for BTN-R08')\n",
    "    axes[0].set_xlabel('Cultivation Days')\n",
    "    axes[0].set_ylabel(column_y)\n",
    "    axes[0].legend(title=column_name)\n",
    "    axes[0].grid(False)\n",
    "\n",
    "    # Plot for variety BTN-R10\n",
    "    sns.barplot(ax=axes[1], data=df_variety_10, x='Day', y=column_y, hue='Media')\n",
    "    axes[1].set_title(f'{column_y} Over Time for BTN-R10')\n",
    "    axes[1].set_xlabel('Cultivation Days')\n",
    "    axes[1].set_ylabel(column_y)\n",
    "    axes[1].legend(title=column_name)\n",
    "    axes[1].grid(False)\n",
    "\n",
    "    # Adjust layout and save the plot\n",
    "    plt.tight_layout()\n",
    "    plt.savefig(f'{column_y}.png', dpi=600)\n",
    "    plt.clf()\n",
    "\n",
    "# Iterate through each column to plot\n",
    "for column_index in range(3, len(df.columns)):\n",
    "    column_name = df.columns[column_index]\n",
    "    plot_pH_change(df, column_index, column_name)"
   ]
  },
  {
   "cell_type": "code",
   "execution_count": 2,
   "id": "d4ddefdd",
   "metadata": {},
   "outputs": [
    {
     "name": "stdout",
     "output_type": "stream",
     "text": [
      "Plotting column: pH_change\n"
     ]
    },
    {
     "name": "stderr",
     "output_type": "stream",
     "text": [
      "c:\\Users\\mirza\\miniconda3\\envs\\python_eda\\Lib\\site-packages\\seaborn\\_oldcore.py:1119: FutureWarning: use_inf_as_na option is deprecated and will be removed in a future version. Convert inf values to NaN before operating instead.\n",
      "  with pd.option_context('mode.use_inf_as_na', True):\n",
      "c:\\Users\\mirza\\miniconda3\\envs\\python_eda\\Lib\\site-packages\\seaborn\\_oldcore.py:1119: FutureWarning: use_inf_as_na option is deprecated and will be removed in a future version. Convert inf values to NaN before operating instead.\n",
      "  with pd.option_context('mode.use_inf_as_na', True):\n",
      "c:\\Users\\mirza\\miniconda3\\envs\\python_eda\\Lib\\site-packages\\seaborn\\_oldcore.py:1119: FutureWarning: use_inf_as_na option is deprecated and will be removed in a future version. Convert inf values to NaN before operating instead.\n",
      "  with pd.option_context('mode.use_inf_as_na', True):\n",
      "c:\\Users\\mirza\\miniconda3\\envs\\python_eda\\Lib\\site-packages\\seaborn\\_oldcore.py:1119: FutureWarning: use_inf_as_na option is deprecated and will be removed in a future version. Convert inf values to NaN before operating instead.\n",
      "  with pd.option_context('mode.use_inf_as_na', True):\n"
     ]
    },
    {
     "name": "stdout",
     "output_type": "stream",
     "text": [
      "Plotting column: Electrical Conductvity\n"
     ]
    },
    {
     "name": "stderr",
     "output_type": "stream",
     "text": [
      "c:\\Users\\mirza\\miniconda3\\envs\\python_eda\\Lib\\site-packages\\seaborn\\_oldcore.py:1119: FutureWarning: use_inf_as_na option is deprecated and will be removed in a future version. Convert inf values to NaN before operating instead.\n",
      "  with pd.option_context('mode.use_inf_as_na', True):\n",
      "c:\\Users\\mirza\\miniconda3\\envs\\python_eda\\Lib\\site-packages\\seaborn\\_oldcore.py:1119: FutureWarning: use_inf_as_na option is deprecated and will be removed in a future version. Convert inf values to NaN before operating instead.\n",
      "  with pd.option_context('mode.use_inf_as_na', True):\n",
      "c:\\Users\\mirza\\miniconda3\\envs\\python_eda\\Lib\\site-packages\\seaborn\\_oldcore.py:1119: FutureWarning: use_inf_as_na option is deprecated and will be removed in a future version. Convert inf values to NaN before operating instead.\n",
      "  with pd.option_context('mode.use_inf_as_na', True):\n",
      "c:\\Users\\mirza\\miniconda3\\envs\\python_eda\\Lib\\site-packages\\seaborn\\_oldcore.py:1119: FutureWarning: use_inf_as_na option is deprecated and will be removed in a future version. Convert inf values to NaN before operating instead.\n",
      "  with pd.option_context('mode.use_inf_as_na', True):\n"
     ]
    },
    {
     "name": "stdout",
     "output_type": "stream",
     "text": [
      "Plotting column: Total Dissolved susbtances\n"
     ]
    },
    {
     "name": "stderr",
     "output_type": "stream",
     "text": [
      "c:\\Users\\mirza\\miniconda3\\envs\\python_eda\\Lib\\site-packages\\seaborn\\_oldcore.py:1119: FutureWarning: use_inf_as_na option is deprecated and will be removed in a future version. Convert inf values to NaN before operating instead.\n",
      "  with pd.option_context('mode.use_inf_as_na', True):\n",
      "c:\\Users\\mirza\\miniconda3\\envs\\python_eda\\Lib\\site-packages\\seaborn\\_oldcore.py:1119: FutureWarning: use_inf_as_na option is deprecated and will be removed in a future version. Convert inf values to NaN before operating instead.\n",
      "  with pd.option_context('mode.use_inf_as_na', True):\n",
      "c:\\Users\\mirza\\miniconda3\\envs\\python_eda\\Lib\\site-packages\\seaborn\\_oldcore.py:1119: FutureWarning: use_inf_as_na option is deprecated and will be removed in a future version. Convert inf values to NaN before operating instead.\n",
      "  with pd.option_context('mode.use_inf_as_na', True):\n",
      "c:\\Users\\mirza\\miniconda3\\envs\\python_eda\\Lib\\site-packages\\seaborn\\_oldcore.py:1119: FutureWarning: use_inf_as_na option is deprecated and will be removed in a future version. Convert inf values to NaN before operating instead.\n",
      "  with pd.option_context('mode.use_inf_as_na', True):\n"
     ]
    },
    {
     "name": "stdout",
     "output_type": "stream",
     "text": [
      "Plotting column: Temperature\n"
     ]
    },
    {
     "name": "stderr",
     "output_type": "stream",
     "text": [
      "c:\\Users\\mirza\\miniconda3\\envs\\python_eda\\Lib\\site-packages\\seaborn\\_oldcore.py:1119: FutureWarning: use_inf_as_na option is deprecated and will be removed in a future version. Convert inf values to NaN before operating instead.\n",
      "  with pd.option_context('mode.use_inf_as_na', True):\n",
      "c:\\Users\\mirza\\miniconda3\\envs\\python_eda\\Lib\\site-packages\\seaborn\\_oldcore.py:1119: FutureWarning: use_inf_as_na option is deprecated and will be removed in a future version. Convert inf values to NaN before operating instead.\n",
      "  with pd.option_context('mode.use_inf_as_na', True):\n",
      "c:\\Users\\mirza\\miniconda3\\envs\\python_eda\\Lib\\site-packages\\seaborn\\_oldcore.py:1119: FutureWarning: use_inf_as_na option is deprecated and will be removed in a future version. Convert inf values to NaN before operating instead.\n",
      "  with pd.option_context('mode.use_inf_as_na', True):\n",
      "c:\\Users\\mirza\\miniconda3\\envs\\python_eda\\Lib\\site-packages\\seaborn\\_oldcore.py:1119: FutureWarning: use_inf_as_na option is deprecated and will be removed in a future version. Convert inf values to NaN before operating instead.\n",
      "  with pd.option_context('mode.use_inf_as_na', True):\n"
     ]
    },
    {
     "name": "stdout",
     "output_type": "stream",
     "text": [
      "Plotting column: OD\n"
     ]
    },
    {
     "name": "stderr",
     "output_type": "stream",
     "text": [
      "c:\\Users\\mirza\\miniconda3\\envs\\python_eda\\Lib\\site-packages\\seaborn\\_oldcore.py:1119: FutureWarning: use_inf_as_na option is deprecated and will be removed in a future version. Convert inf values to NaN before operating instead.\n",
      "  with pd.option_context('mode.use_inf_as_na', True):\n",
      "c:\\Users\\mirza\\miniconda3\\envs\\python_eda\\Lib\\site-packages\\seaborn\\_oldcore.py:1119: FutureWarning: use_inf_as_na option is deprecated and will be removed in a future version. Convert inf values to NaN before operating instead.\n",
      "  with pd.option_context('mode.use_inf_as_na', True):\n",
      "c:\\Users\\mirza\\miniconda3\\envs\\python_eda\\Lib\\site-packages\\seaborn\\_oldcore.py:1119: FutureWarning: use_inf_as_na option is deprecated and will be removed in a future version. Convert inf values to NaN before operating instead.\n",
      "  with pd.option_context('mode.use_inf_as_na', True):\n",
      "c:\\Users\\mirza\\miniconda3\\envs\\python_eda\\Lib\\site-packages\\seaborn\\_oldcore.py:1119: FutureWarning: use_inf_as_na option is deprecated and will be removed in a future version. Convert inf values to NaN before operating instead.\n",
      "  with pd.option_context('mode.use_inf_as_na', True):\n"
     ]
    },
    {
     "name": "stdout",
     "output_type": "stream",
     "text": [
      "Plotting column: Biomass Production\n"
     ]
    },
    {
     "name": "stderr",
     "output_type": "stream",
     "text": [
      "c:\\Users\\mirza\\miniconda3\\envs\\python_eda\\Lib\\site-packages\\seaborn\\_oldcore.py:1119: FutureWarning: use_inf_as_na option is deprecated and will be removed in a future version. Convert inf values to NaN before operating instead.\n",
      "  with pd.option_context('mode.use_inf_as_na', True):\n",
      "c:\\Users\\mirza\\miniconda3\\envs\\python_eda\\Lib\\site-packages\\seaborn\\_oldcore.py:1119: FutureWarning: use_inf_as_na option is deprecated and will be removed in a future version. Convert inf values to NaN before operating instead.\n",
      "  with pd.option_context('mode.use_inf_as_na', True):\n",
      "c:\\Users\\mirza\\miniconda3\\envs\\python_eda\\Lib\\site-packages\\seaborn\\_oldcore.py:1119: FutureWarning: use_inf_as_na option is deprecated and will be removed in a future version. Convert inf values to NaN before operating instead.\n",
      "  with pd.option_context('mode.use_inf_as_na', True):\n",
      "c:\\Users\\mirza\\miniconda3\\envs\\python_eda\\Lib\\site-packages\\seaborn\\_oldcore.py:1119: FutureWarning: use_inf_as_na option is deprecated and will be removed in a future version. Convert inf values to NaN before operating instead.\n",
      "  with pd.option_context('mode.use_inf_as_na', True):\n"
     ]
    },
    {
     "name": "stdout",
     "output_type": "stream",
     "text": [
      "Plotting column: Productivity\n"
     ]
    },
    {
     "name": "stderr",
     "output_type": "stream",
     "text": [
      "c:\\Users\\mirza\\miniconda3\\envs\\python_eda\\Lib\\site-packages\\seaborn\\_oldcore.py:1119: FutureWarning: use_inf_as_na option is deprecated and will be removed in a future version. Convert inf values to NaN before operating instead.\n",
      "  with pd.option_context('mode.use_inf_as_na', True):\n",
      "c:\\Users\\mirza\\miniconda3\\envs\\python_eda\\Lib\\site-packages\\seaborn\\_oldcore.py:1119: FutureWarning: use_inf_as_na option is deprecated and will be removed in a future version. Convert inf values to NaN before operating instead.\n",
      "  with pd.option_context('mode.use_inf_as_na', True):\n",
      "c:\\Users\\mirza\\miniconda3\\envs\\python_eda\\Lib\\site-packages\\seaborn\\_oldcore.py:1119: FutureWarning: use_inf_as_na option is deprecated and will be removed in a future version. Convert inf values to NaN before operating instead.\n",
      "  with pd.option_context('mode.use_inf_as_na', True):\n",
      "c:\\Users\\mirza\\miniconda3\\envs\\python_eda\\Lib\\site-packages\\seaborn\\_oldcore.py:1119: FutureWarning: use_inf_as_na option is deprecated and will be removed in a future version. Convert inf values to NaN before operating instead.\n",
      "  with pd.option_context('mode.use_inf_as_na', True):\n"
     ]
    },
    {
     "name": "stdout",
     "output_type": "stream",
     "text": [
      "Plotting column: Doubling_time\n"
     ]
    },
    {
     "name": "stderr",
     "output_type": "stream",
     "text": [
      "c:\\Users\\mirza\\miniconda3\\envs\\python_eda\\Lib\\site-packages\\seaborn\\_oldcore.py:1119: FutureWarning: use_inf_as_na option is deprecated and will be removed in a future version. Convert inf values to NaN before operating instead.\n",
      "  with pd.option_context('mode.use_inf_as_na', True):\n",
      "c:\\Users\\mirza\\miniconda3\\envs\\python_eda\\Lib\\site-packages\\seaborn\\_oldcore.py:1119: FutureWarning: use_inf_as_na option is deprecated and will be removed in a future version. Convert inf values to NaN before operating instead.\n",
      "  with pd.option_context('mode.use_inf_as_na', True):\n",
      "c:\\Users\\mirza\\miniconda3\\envs\\python_eda\\Lib\\site-packages\\seaborn\\_oldcore.py:1119: FutureWarning: use_inf_as_na option is deprecated and will be removed in a future version. Convert inf values to NaN before operating instead.\n",
      "  with pd.option_context('mode.use_inf_as_na', True):\n",
      "c:\\Users\\mirza\\miniconda3\\envs\\python_eda\\Lib\\site-packages\\seaborn\\_oldcore.py:1119: FutureWarning: use_inf_as_na option is deprecated and will be removed in a future version. Convert inf values to NaN before operating instead.\n",
      "  with pd.option_context('mode.use_inf_as_na', True):\n"
     ]
    },
    {
     "data": {
      "text/plain": [
       "<Figure size 1400x700 with 0 Axes>"
      ]
     },
     "metadata": {},
     "output_type": "display_data"
    },
    {
     "data": {
      "text/plain": [
       "<Figure size 1400x700 with 0 Axes>"
      ]
     },
     "metadata": {},
     "output_type": "display_data"
    },
    {
     "data": {
      "text/plain": [
       "<Figure size 1400x700 with 0 Axes>"
      ]
     },
     "metadata": {},
     "output_type": "display_data"
    },
    {
     "data": {
      "text/plain": [
       "<Figure size 1400x700 with 0 Axes>"
      ]
     },
     "metadata": {},
     "output_type": "display_data"
    },
    {
     "data": {
      "text/plain": [
       "<Figure size 1400x700 with 0 Axes>"
      ]
     },
     "metadata": {},
     "output_type": "display_data"
    },
    {
     "data": {
      "text/plain": [
       "<Figure size 1400x700 with 0 Axes>"
      ]
     },
     "metadata": {},
     "output_type": "display_data"
    },
    {
     "data": {
      "text/plain": [
       "<Figure size 1400x700 with 0 Axes>"
      ]
     },
     "metadata": {},
     "output_type": "display_data"
    },
    {
     "data": {
      "text/plain": [
       "<Figure size 1400x700 with 0 Axes>"
      ]
     },
     "metadata": {},
     "output_type": "display_data"
    }
   ],
   "source": [
    "# smaller values\n",
    "\n",
    "import pandas as pd\n",
    "import matplotlib.pyplot as plt\n",
    "import seaborn as sns\n",
    "\n",
    "# Read the data from the Excel file\n",
    "df = pd.read_excel(\"./microalgae_Exp_2.xlsx\")\n",
    "\n",
    "def plot_pH_change(df, column_index, column_name):\n",
    "    column_y = df.columns[column_index]\n",
    "    print(f\"Plotting column: {column_y}\")\n",
    "\n",
    "    # Check for the next column\n",
    "    if column_index + 1 < len(df.columns):\n",
    "        next_column = df.columns[column_index + 1]\n",
    "        next_column_values = df[next_column]\n",
    "    else:\n",
    "        next_column = None\n",
    "        next_column_values = None\n",
    "\n",
    "    # Create DataFrames for each variety\n",
    "    df_variety_08 = df[df['Variety'] == 'BTN-R08']\n",
    "    df_variety_10 = df[df['Variety'] == 'BTN-R10']\n",
    "\n",
    "    # Create subplots\n",
    "    fig, axes = plt.subplots(1, 2, figsize=(14, 7), sharey=True)\n",
    "\n",
    "    # Plot for BTN-R08\n",
    "    sns.lineplot(ax=axes[0], data=df_variety_08, x='Day', y=column_y, hue='Media', marker='o')\n",
    "    axes[0].set_title(f'{column_y} Over Time for BTN-R08', fontname='DejaVu Serif', fontweight='bold')\n",
    "    axes[0].set_xlabel('Cultivation Days', fontname='DejaVu Serif', fontweight='bold')\n",
    "    axes[0].set_ylabel(column_y, fontname='DejaVu Serif', fontweight='bold')\n",
    "    axes[0].legend(title=column_name, title_fontsize='13', prop={'family': 'DejaVu Serif', 'weight': 'bold'})\n",
    "    axes[0].grid(False)\n",
    "\n",
    "    # Plot for BTN-R10\n",
    "    sns.lineplot(ax=axes[1], data=df_variety_10, x='Day', y=column_y, hue='Media', marker='o')\n",
    "    axes[1].set_title(f'{column_y} Over Time for BTN-R10', fontname='DejaVu Serif', fontweight='bold')\n",
    "    axes[1].set_xlabel('Cultivation Days', fontname='DejaVu Serif', fontweight='bold')\n",
    "    axes[1].set_ylabel(column_y, fontname='DejaVu Serif', fontweight='bold')\n",
    "    axes[1].legend(title=column_name, title_fontsize='13', prop={'family': 'DejaVu Serif', 'weight': 'bold'})\n",
    "    axes[1].grid(False)\n",
    "\n",
    "    # Adjust layout and save the plot\n",
    "    plt.tight_layout()\n",
    "    plt.savefig(r'D:\\Study\\Study and Extras\\Dr Nawaz Sb Paper\\M.Phil Thesis and Studentship\\Rehan_Thesis 2022-2024\\Data Set\\Exp_3\\{}.png'.format(column_y), dpi=300)\n",
    "    plt.clf()\n",
    "\n",
    "# Run the function for each column starting from the fourth column\n",
    "for column_index in range(3, len(df.columns)):\n",
    "    column_name = df.columns[column_index]\n",
    "    plot_pH_change(df, column_index, column_name)"
   ]
  },
  {
   "cell_type": "code",
   "execution_count": 29,
   "id": "d5314e7b",
   "metadata": {},
   "outputs": [
    {
     "data": {
      "application/vnd.plotly.v1+json": {
       "config": {
        "plotlyServerURL": "https://plot.ly"
       },
       "data": [
        {
         "coloraxis": "coloraxis",
         "hovertemplate": "Physio-Biochemical Parameters: %{x}<br>Nitrogen Source Optimization: %{y}<br>color: %{z}<extra></extra>",
         "name": "0",
         "type": "heatmap",
         "x": [
          "pH_change",
          "Electrical Conductvity",
          "Total Dissolved susbtances",
          "Temperature",
          "OD",
          "Biomass Production",
          "Productivity",
          "Doubling_time",
          "Total_Carbohydrates",
          "Total_Lipids",
          "Total_Proteins",
          "Chlorophyll_a",
          "Chlorophyll_b",
          "Carotene",
          "Phycobilins"
         ],
         "xaxis": "x",
         "y": [
          "MBBM-NS1",
          "MBBM-NS1",
          "MBBM-NS1",
          "MBBM-NS1",
          "MBBM-NS1",
          "MBBM-NS1",
          "MBBM-NS1",
          "MBBM-NS1",
          "MBBM-NS2",
          "MBBM-NS2",
          "MBBM-NS2",
          "MBBM-NS2",
          "MBBM-NS2",
          "MBBM-NS2",
          "MBBM-NS2",
          "MBBM-NS2",
          "MBBM-NS3",
          "MBBM-NS3",
          "MBBM-NS3",
          "MBBM-NS3",
          "MBBM-NS3",
          "MBBM-NS3",
          "MBBM-NS3",
          "MBBM-NS3",
          "MBBM-NS4",
          "MBBM-NS4",
          "MBBM-NS4",
          "MBBM-NS4",
          "MBBM-NS4",
          "MBBM-NS4",
          "MBBM-NS4",
          "MBBM-NS4"
         ],
         "yaxis": "y",
         "z": [
          [
           0.5078809106830127,
           0.5364735143263216,
           0.10341923301590752,
           0.47864010989010897,
           0.03127601173213983,
           0.006694434592836028,
           0,
           0.581516417989917,
           0.14967073829860242,
           0.02166809032022031,
           0.07101620028617027,
           0.045978452946441484,
           0.04597845294644147,
           0.03250464385541747,
           0.045978452946441456
          ],
          [
           0.6077057793345011,
           0.42055831270467287,
           0.08150734245309933,
           0.3076236263736254,
           0.04526594059247584,
           0.14724077843473968,
           0.2596884616560726,
           0.5020462906042452,
           0.27163498643774275,
           0.04420671905788326,
           0.11237403231180208,
           0.07230716705471955,
           0.07230716705471953,
           0.045999203367603436,
           0.07230716705471954
          ],
          [
           0.7364273204903684,
           0.34140114990182,
           0.055017456155842054,
           0.7197115384615378,
           0.06947483710282729,
           0.2754281661052538,
           0.28939582347557735,
           0.496203042344612,
           0.331532983857187,
           0.07323726024766959,
           0.3088237344335535,
           0.14072891284360717,
           0.1407289128436071,
           0.0838450445167577,
           0.14072891284360717
          ],
          [
           0.6628721541155871,
           0.16015854265666726,
           0,
           0.6888049450549447,
           0.18322970655944373,
           0.4562956044563159,
           0.31726645335403886,
           0.4993832820748879,
           0.5137611221601892,
           0.1332337120398946,
           0.4902812224460132,
           0.41689211156104106,
           0.416892111561041,
           0.42287749500619676,
           0.4168921115610411
          ],
          [
           0.41155866900175164,
           0.47387566604084724,
           0.1930773097143168,
           0.3584478021978015,
           0.020151697548464687,
           0.004820973776379354,
           0.0014274849091614125,
           0.33007388459595827,
           0.08933834766660767,
           0.19058763950672647,
           0,
           0.053678193870486696,
           0.05367819387048671,
           0.03794800526661181,
           0.05367819387048668
          ],
          [
           0.5113835376532396,
           0.37813735226191175,
           0.15653485118117724,
           0.13942307692307665,
           0.03612584238669683,
           0.1681664039285002,
           0.18929421608064245,
           0.512308785697078,
           0.1895829351782298,
           0.34831912966310197,
           0.016994723006944268,
           0.1094639168281835,
           0.10946391682818346,
           0.07051610316362264,
           0.10946391682818345
          ],
          [
           0.6401050788091074,
           0.29898018945905896,
           0.15409098936329182,
           0.5824175824175821,
           0.14683903449175126,
           0.3018233653570072,
           0.26466441520893486,
           0.5633055248986941,
           0.2388141659339376,
           0.4503366493981407,
           0.08161243648445908,
           0.24356559666068556,
           0.24356559666068547,
           0.14745823444531073,
           0.24356559666068556
          ],
          [
           0.5665499124343261,
           0.14667088999701794,
           0.053021884721448656,
           0.6751373626373622,
           0.3039371797685435,
           0.4733038822350378,
           0.4054989690350138,
           0.5331743350033828,
           0.3885907179638022,
           0.47669117532969246,
           0.2189139366390958,
           0.7165363909221016,
           0.7165363909221015,
           0.71944603839338,
           0.7165363909221014
          ],
          [
           0.2626970227670751,
           0.1268481861244984,
           0.49927322619645986,
           0.25061813186813,
           0.022840193713045062,
           0,
           0.021688288286292347,
           1,
           0.2529319453418244,
           0.12161597172687032,
           0.019028699820268682,
           0,
           0,
           0,
           0
          ],
          [
           0.09719789842381776,
           0.09997229958583875,
           0.4127395976254195,
           0.07960164835164729,
           0.022197172282170982,
           0.193326675526474,
           0.30764151814732577,
           0.5128965106603549,
           0.4120702280165245,
           0.16704266530665612,
           0.047389656729425175,
           0.011615609165416797,
           0.011615609165416797,
           0.0059534821377290915,
           0.011615609165416783
          ],
          [
           0.4886164623467599,
           0.06748130222044119,
           0.3536467743469225,
           0.4916895604395597,
           0.18530027560938747,
           0.4133919837045769,
           0.44259578643179204,
           0.48482112544136147,
           0.4902248068412105,
           0.22555383359614795,
           0.18210420204791833,
           0.04180167348404368,
           0.041801673484043664,
           0.022650176762355975,
           0.041801673484043664
          ],
          [
           0.4150612959719786,
           0,
           0.2183445858747776,
           0.4607829670329666,
           0.446335071908073,
           0.5632760764808603,
           0.517898758044827,
           0.4954839801784938,
           0.7279950831886208,
           0.3464769147277642,
           0.30653790048684226,
           0.1636383788005587,
           0.16363837880055862,
           0.1722233166841673,
           0.16363837880055865
          ],
          [
           0.34150612959719817,
           0.28221759061095636,
           0.452542349856683,
           0.21902472527472483,
           0,
           0.0005472219524508344,
           0.02638092816166367,
           0.5715908295080045,
           0.1473502617358334,
           0.3447438947602656,
           0.056721913818312916,
           0.012759570674132081,
           0.012759570674132081,
           0.00902042748140772,
           0.012759570674132074
          ],
          [
           0.43870402802101527,
           0.2301788474790219,
           0.3810712781709753,
           0,
           0.003949925098473292,
           0.16727617448005208,
           0.1640061418742146,
           0.46787681322319696,
           0.2684791383123769,
           0.5934275755162292,
           0.08392658131255352,
           0.04317574725008902,
           0.04317574725008902,
           0.02677760555239408,
           0.043175747250089005
          ],
          [
           0.567425569176883,
           0.22669863562421344,
           0.3219784548924783,
           0.4429945054945046,
           0.056908378486546354,
           0.41674371816333833,
           0.3977665764549791,
           0.5014058313309009,
           0.3279668754755236,
           0.7542711222560186,
           0.1873647726073217,
           0.11629231107074418,
           0.11629231107074417,
           0.0687289387450993,
           0.11629231107074416
          ],
          [
           0.4938704028021017,
           0.08276991856042448,
           0.20827571217040475,
           0.5357142857142847,
           0.16663994885830208,
           0.5682592163853657,
           0.6151741042752427,
           0.4967888441213043,
           0.5089468758449436,
           0.795822371830464,
           0.4071530949377911,
           0.3741712526851593,
           0.37417125268515916,
           0.38059514969967007,
           0.3741712526851592
          ],
          [
           0.1488616462346759,
           0.21995634356335492,
           0.48270006656432973,
           0.41270604395604327,
           0.09062492527582817,
           0.0055264512849847215,
           0.05633656469283249,
           0.1886280222462842,
           0.08121667969691601,
           0,
           0.11307964199413263,
           0.025959126543923898,
           0.025959126543923884,
           0.018351904186312256,
           0.025959126543923884
          ],
          [
           0.16287215411558642,
           0.19620617846274455,
           0.4211076847839378,
           0.24168956043956058,
           0.0936981765031433,
           0.20602803712065149,
           0.4749585040644995,
           0.1565112958517339,
           0.17853746673944923,
           0.017576636054332517,
           0.16495333444675508,
           0.04588165620339635,
           0.045881656203396334,
           0.02856302809526581,
           0.045881656203396334
          ],
          [
           0.5005253940455341,
           0.1146443337756419,
           0.26803689565701716,
           0.653777472527473,
           0.10178040092879423,
           0.5119024859463434,
           0.5523303234134211,
           0.08863908430159045,
           0.22633278659811548,
           0.04021595732326666,
           0.4113533735967117,
           0.0976553301559503,
           0.09765533015595029,
           0.057200389178716754,
           0.0976553301559503
          ],
          [
           0.7959719789842388,
           0.03382564940459482,
           0.1889747734775108,
           0.6228708791208781,
           0.1597622789584138,
           0.7547851246080594,
           0.6126106410624825,
           0.05762618076003736,
           0.3717408558604425,
           0.08700388794573051,
           0.6389491992325925,
           0.3066237398806397,
           0.3066237398806396,
           0.3137409867415811,
           0.3066237398806396
          ],
          [
           0.28021015761821344,
           0.26779728890943455,
           0.5246763479276759,
           0.45872252747252684,
           0.07430637878849153,
           0.006218712867191271,
           0.05291060724178484,
           0.2140025440681502,
           0,
           0.1027937256634958,
           0.09960477322188498,
           0.025739133946094027,
           0.025739133946094027,
           0.01819637957456385,
           0.02573913394609402
          ],
          [
           0.2521891418563924,
           0.23311647416017295,
           0.45349326885196917,
           0.23969780219780112,
           0.10079061503101647,
           0.1080237661643057,
           0.5012345595023473,
           0.1894685184307491,
           0.06808278235164336,
           0.20872680665236526,
           0.13452835540876856,
           0.06420263975066738,
           0.06420263975066737,
           0.040651645117246143,
           0.06420263975066735
          ],
          [
           0.6830122591943959,
           0.18790755493345698,
           0.3323190197383615,
           0.6826923076923075,
           0.14877627970506124,
           0.41595867567599987,
           0.5794257151377605,
           0.09435937930395338,
           0.10151899323989491,
           0.2772421688648273,
           0.2673155756793414,
           0.15666394467185463,
           0.1566639446718546,
           0.09370220996183304,
           0.15666394467185463
          ],
          [
           0.8301225919439581,
           0.05367422284591327,
           0.206390175648323,
           0.7754120879120876,
           0.22340008380099874,
           0.6625306186008484,
           0.8559030258109279,
           0.07193287000729678,
           0.20324223482684464,
           0.2949419707697133,
           0.5494655244059863,
           0.48277094707214635,
           0.4827709470721463,
           0.4880801090164921,
           0.48277094707214624
          ],
          [
           0,
           1.0000000000000002,
           0.9627783136130847,
           0.5871565934065934,
           0.131731502590083,
           0.023064356023521186,
           0.033185334660641386,
           0.23471919801047125,
           0.3840388711382746,
           0.1638077109771584,
           0.21523371471346986,
           0.07435749806649387,
           0.07435749806649386,
           0.052567318770962254,
           0.07435749806649385
          ],
          [
           0.500875656742557,
           0.8808004056517617,
           0.862904649993887,
           0.41614010989010985,
           0.4065222627191509,
           0.35724199346106683,
           0.6499883755661264,
           0.03355871867907074,
           0.5903756470996968,
           0.21889631284526023,
           0.29264592534592665,
           0.1097675066131887,
           0.10976750661318868,
           0.07071641886355459,
           0.10976750661318867
          ],
          [
           0.7346760070052536,
           0.8402673553429214,
           0.8289432573050955,
           0.8282280219780214,
           0.6169806074863758,
           0.7733090499978205,
           0.7946554369112468,
           0.006260151789446236,
           0.691709930405195,
           0.28985235654401703,
           0.6603539258500961,
           0.20178926632391186,
           0.20178926632391184,
           0.12161603944650803,
           0.2017892663239118
          ],
          [
           1,
           0.4886026108634209,
           0.5342942143371416,
           0.7973214285714283,
           1,
           1,
           0.7768839076426459,
           0,
           1,
           0.43649484685478107,
           1,
           0.5732066164706212,
           0.5732066164706211,
           0.5775874902384541,
           0.5732066164706212
          ],
          [
           0.2504378283712785,
           0.46137093006529345,
           1.0000000000000002,
           0.6833104395604384,
           0.030876825360654732,
           0.018484468363877363,
           0.06331997129308899,
           0.2806567305985667,
           0.18795860158429148,
           0.4433718537636064,
           0.18154654278285065,
           0.0875570539362857,
           0.08755705393628563,
           0.06189879547586678,
           0.08755705393628567
          ],
          [
           0.4089316987740812,
           0.7920622092716234,
           0.9221604879572903,
           0.4642857142857135,
           0.038581603277752674,
           0.28437702995225944,
           0.49346028270928516,
           0.05032035144363955,
           0.3237064805062797,
           0.750246030331541,
           0.23121964349070806,
           0.16434767013477786,
           0.16434767013477777,
           0.10672969796001616,
           0.16434767013477786
          ],
          [
           0.6033274956217163,
           0.6874674836106666,
           0.8178310896173232,
           0.907280219780219,
           0.5536211324343857,
           0.6344939183036371,
           0.65107613943043,
           0.011103915719960125,
           0.390373772154634,
           0.9487260062270051,
           0.4200878108488058,
           0.3489424030093467,
           0.34894240300934654,
           0.2126427050788191,
           0.34894240300934665
          ],
          [
           0.7381786339754814,
           0.39125195195366,
           0.522366973224838,
           1,
           0.9116261267358977,
           0.8986519464684204,
           1,
           0.0009038318562262435,
           0.5931961863617424,
           1,
           0.821400103007633,
           1,
           0.9999999999999999,
           1,
           1
          ]
         ]
        }
       ],
       "layout": {
        "coloraxis": {
         "colorscale": [
          [
           0,
           "#30123b"
          ],
          [
           0.07142857142857142,
           "#4145ab"
          ],
          [
           0.14285714285714285,
           "#4675ed"
          ],
          [
           0.21428571428571427,
           "#39a2fc"
          ],
          [
           0.2857142857142857,
           "#1bcfd4"
          ],
          [
           0.35714285714285715,
           "#24eca6"
          ],
          [
           0.42857142857142855,
           "#61fc6c"
          ],
          [
           0.5,
           "#a4fc3b"
          ],
          [
           0.5714285714285714,
           "#d1e834"
          ],
          [
           0.6428571428571429,
           "#f3c63a"
          ],
          [
           0.7142857142857143,
           "#fe9b2d"
          ],
          [
           0.7857142857142857,
           "#f36315"
          ],
          [
           0.8571428571428571,
           "#d93806"
          ],
          [
           0.9285714285714286,
           "#b11901"
          ],
          [
           1,
           "#7a0402"
          ]
         ]
        },
        "margin": {
         "t": 60
        },
        "template": {
         "data": {
          "bar": [
           {
            "error_x": {
             "color": "#2a3f5f"
            },
            "error_y": {
             "color": "#2a3f5f"
            },
            "marker": {
             "line": {
              "color": "#E5ECF6",
              "width": 0.5
             },
             "pattern": {
              "fillmode": "overlay",
              "size": 10,
              "solidity": 0.2
             }
            },
            "type": "bar"
           }
          ],
          "barpolar": [
           {
            "marker": {
             "line": {
              "color": "#E5ECF6",
              "width": 0.5
             },
             "pattern": {
              "fillmode": "overlay",
              "size": 10,
              "solidity": 0.2
             }
            },
            "type": "barpolar"
           }
          ],
          "carpet": [
           {
            "aaxis": {
             "endlinecolor": "#2a3f5f",
             "gridcolor": "white",
             "linecolor": "white",
             "minorgridcolor": "white",
             "startlinecolor": "#2a3f5f"
            },
            "baxis": {
             "endlinecolor": "#2a3f5f",
             "gridcolor": "white",
             "linecolor": "white",
             "minorgridcolor": "white",
             "startlinecolor": "#2a3f5f"
            },
            "type": "carpet"
           }
          ],
          "choropleth": [
           {
            "colorbar": {
             "outlinewidth": 0,
             "ticks": ""
            },
            "type": "choropleth"
           }
          ],
          "contour": [
           {
            "colorbar": {
             "outlinewidth": 0,
             "ticks": ""
            },
            "colorscale": [
             [
              0,
              "#0d0887"
             ],
             [
              0.1111111111111111,
              "#46039f"
             ],
             [
              0.2222222222222222,
              "#7201a8"
             ],
             [
              0.3333333333333333,
              "#9c179e"
             ],
             [
              0.4444444444444444,
              "#bd3786"
             ],
             [
              0.5555555555555556,
              "#d8576b"
             ],
             [
              0.6666666666666666,
              "#ed7953"
             ],
             [
              0.7777777777777778,
              "#fb9f3a"
             ],
             [
              0.8888888888888888,
              "#fdca26"
             ],
             [
              1,
              "#f0f921"
             ]
            ],
            "type": "contour"
           }
          ],
          "contourcarpet": [
           {
            "colorbar": {
             "outlinewidth": 0,
             "ticks": ""
            },
            "type": "contourcarpet"
           }
          ],
          "heatmap": [
           {
            "colorbar": {
             "outlinewidth": 0,
             "ticks": ""
            },
            "colorscale": [
             [
              0,
              "#0d0887"
             ],
             [
              0.1111111111111111,
              "#46039f"
             ],
             [
              0.2222222222222222,
              "#7201a8"
             ],
             [
              0.3333333333333333,
              "#9c179e"
             ],
             [
              0.4444444444444444,
              "#bd3786"
             ],
             [
              0.5555555555555556,
              "#d8576b"
             ],
             [
              0.6666666666666666,
              "#ed7953"
             ],
             [
              0.7777777777777778,
              "#fb9f3a"
             ],
             [
              0.8888888888888888,
              "#fdca26"
             ],
             [
              1,
              "#f0f921"
             ]
            ],
            "type": "heatmap"
           }
          ],
          "heatmapgl": [
           {
            "colorbar": {
             "outlinewidth": 0,
             "ticks": ""
            },
            "colorscale": [
             [
              0,
              "#0d0887"
             ],
             [
              0.1111111111111111,
              "#46039f"
             ],
             [
              0.2222222222222222,
              "#7201a8"
             ],
             [
              0.3333333333333333,
              "#9c179e"
             ],
             [
              0.4444444444444444,
              "#bd3786"
             ],
             [
              0.5555555555555556,
              "#d8576b"
             ],
             [
              0.6666666666666666,
              "#ed7953"
             ],
             [
              0.7777777777777778,
              "#fb9f3a"
             ],
             [
              0.8888888888888888,
              "#fdca26"
             ],
             [
              1,
              "#f0f921"
             ]
            ],
            "type": "heatmapgl"
           }
          ],
          "histogram": [
           {
            "marker": {
             "pattern": {
              "fillmode": "overlay",
              "size": 10,
              "solidity": 0.2
             }
            },
            "type": "histogram"
           }
          ],
          "histogram2d": [
           {
            "colorbar": {
             "outlinewidth": 0,
             "ticks": ""
            },
            "colorscale": [
             [
              0,
              "#0d0887"
             ],
             [
              0.1111111111111111,
              "#46039f"
             ],
             [
              0.2222222222222222,
              "#7201a8"
             ],
             [
              0.3333333333333333,
              "#9c179e"
             ],
             [
              0.4444444444444444,
              "#bd3786"
             ],
             [
              0.5555555555555556,
              "#d8576b"
             ],
             [
              0.6666666666666666,
              "#ed7953"
             ],
             [
              0.7777777777777778,
              "#fb9f3a"
             ],
             [
              0.8888888888888888,
              "#fdca26"
             ],
             [
              1,
              "#f0f921"
             ]
            ],
            "type": "histogram2d"
           }
          ],
          "histogram2dcontour": [
           {
            "colorbar": {
             "outlinewidth": 0,
             "ticks": ""
            },
            "colorscale": [
             [
              0,
              "#0d0887"
             ],
             [
              0.1111111111111111,
              "#46039f"
             ],
             [
              0.2222222222222222,
              "#7201a8"
             ],
             [
              0.3333333333333333,
              "#9c179e"
             ],
             [
              0.4444444444444444,
              "#bd3786"
             ],
             [
              0.5555555555555556,
              "#d8576b"
             ],
             [
              0.6666666666666666,
              "#ed7953"
             ],
             [
              0.7777777777777778,
              "#fb9f3a"
             ],
             [
              0.8888888888888888,
              "#fdca26"
             ],
             [
              1,
              "#f0f921"
             ]
            ],
            "type": "histogram2dcontour"
           }
          ],
          "mesh3d": [
           {
            "colorbar": {
             "outlinewidth": 0,
             "ticks": ""
            },
            "type": "mesh3d"
           }
          ],
          "parcoords": [
           {
            "line": {
             "colorbar": {
              "outlinewidth": 0,
              "ticks": ""
             }
            },
            "type": "parcoords"
           }
          ],
          "pie": [
           {
            "automargin": true,
            "type": "pie"
           }
          ],
          "scatter": [
           {
            "fillpattern": {
             "fillmode": "overlay",
             "size": 10,
             "solidity": 0.2
            },
            "type": "scatter"
           }
          ],
          "scatter3d": [
           {
            "line": {
             "colorbar": {
              "outlinewidth": 0,
              "ticks": ""
             }
            },
            "marker": {
             "colorbar": {
              "outlinewidth": 0,
              "ticks": ""
             }
            },
            "type": "scatter3d"
           }
          ],
          "scattercarpet": [
           {
            "marker": {
             "colorbar": {
              "outlinewidth": 0,
              "ticks": ""
             }
            },
            "type": "scattercarpet"
           }
          ],
          "scattergeo": [
           {
            "marker": {
             "colorbar": {
              "outlinewidth": 0,
              "ticks": ""
             }
            },
            "type": "scattergeo"
           }
          ],
          "scattergl": [
           {
            "marker": {
             "colorbar": {
              "outlinewidth": 0,
              "ticks": ""
             }
            },
            "type": "scattergl"
           }
          ],
          "scattermapbox": [
           {
            "marker": {
             "colorbar": {
              "outlinewidth": 0,
              "ticks": ""
             }
            },
            "type": "scattermapbox"
           }
          ],
          "scatterpolar": [
           {
            "marker": {
             "colorbar": {
              "outlinewidth": 0,
              "ticks": ""
             }
            },
            "type": "scatterpolar"
           }
          ],
          "scatterpolargl": [
           {
            "marker": {
             "colorbar": {
              "outlinewidth": 0,
              "ticks": ""
             }
            },
            "type": "scatterpolargl"
           }
          ],
          "scatterternary": [
           {
            "marker": {
             "colorbar": {
              "outlinewidth": 0,
              "ticks": ""
             }
            },
            "type": "scatterternary"
           }
          ],
          "surface": [
           {
            "colorbar": {
             "outlinewidth": 0,
             "ticks": ""
            },
            "colorscale": [
             [
              0,
              "#0d0887"
             ],
             [
              0.1111111111111111,
              "#46039f"
             ],
             [
              0.2222222222222222,
              "#7201a8"
             ],
             [
              0.3333333333333333,
              "#9c179e"
             ],
             [
              0.4444444444444444,
              "#bd3786"
             ],
             [
              0.5555555555555556,
              "#d8576b"
             ],
             [
              0.6666666666666666,
              "#ed7953"
             ],
             [
              0.7777777777777778,
              "#fb9f3a"
             ],
             [
              0.8888888888888888,
              "#fdca26"
             ],
             [
              1,
              "#f0f921"
             ]
            ],
            "type": "surface"
           }
          ],
          "table": [
           {
            "cells": {
             "fill": {
              "color": "#EBF0F8"
             },
             "line": {
              "color": "white"
             }
            },
            "header": {
             "fill": {
              "color": "#C8D4E3"
             },
             "line": {
              "color": "white"
             }
            },
            "type": "table"
           }
          ]
         },
         "layout": {
          "annotationdefaults": {
           "arrowcolor": "#2a3f5f",
           "arrowhead": 0,
           "arrowwidth": 1
          },
          "autotypenumbers": "strict",
          "coloraxis": {
           "colorbar": {
            "outlinewidth": 0,
            "ticks": ""
           }
          },
          "colorscale": {
           "diverging": [
            [
             0,
             "#8e0152"
            ],
            [
             0.1,
             "#c51b7d"
            ],
            [
             0.2,
             "#de77ae"
            ],
            [
             0.3,
             "#f1b6da"
            ],
            [
             0.4,
             "#fde0ef"
            ],
            [
             0.5,
             "#f7f7f7"
            ],
            [
             0.6,
             "#e6f5d0"
            ],
            [
             0.7,
             "#b8e186"
            ],
            [
             0.8,
             "#7fbc41"
            ],
            [
             0.9,
             "#4d9221"
            ],
            [
             1,
             "#276419"
            ]
           ],
           "sequential": [
            [
             0,
             "#0d0887"
            ],
            [
             0.1111111111111111,
             "#46039f"
            ],
            [
             0.2222222222222222,
             "#7201a8"
            ],
            [
             0.3333333333333333,
             "#9c179e"
            ],
            [
             0.4444444444444444,
             "#bd3786"
            ],
            [
             0.5555555555555556,
             "#d8576b"
            ],
            [
             0.6666666666666666,
             "#ed7953"
            ],
            [
             0.7777777777777778,
             "#fb9f3a"
            ],
            [
             0.8888888888888888,
             "#fdca26"
            ],
            [
             1,
             "#f0f921"
            ]
           ],
           "sequentialminus": [
            [
             0,
             "#0d0887"
            ],
            [
             0.1111111111111111,
             "#46039f"
            ],
            [
             0.2222222222222222,
             "#7201a8"
            ],
            [
             0.3333333333333333,
             "#9c179e"
            ],
            [
             0.4444444444444444,
             "#bd3786"
            ],
            [
             0.5555555555555556,
             "#d8576b"
            ],
            [
             0.6666666666666666,
             "#ed7953"
            ],
            [
             0.7777777777777778,
             "#fb9f3a"
            ],
            [
             0.8888888888888888,
             "#fdca26"
            ],
            [
             1,
             "#f0f921"
            ]
           ]
          },
          "colorway": [
           "#636efa",
           "#EF553B",
           "#00cc96",
           "#ab63fa",
           "#FFA15A",
           "#19d3f3",
           "#FF6692",
           "#B6E880",
           "#FF97FF",
           "#FECB52"
          ],
          "font": {
           "color": "#2a3f5f"
          },
          "geo": {
           "bgcolor": "white",
           "lakecolor": "white",
           "landcolor": "#E5ECF6",
           "showlakes": true,
           "showland": true,
           "subunitcolor": "white"
          },
          "hoverlabel": {
           "align": "left"
          },
          "hovermode": "closest",
          "mapbox": {
           "style": "light"
          },
          "paper_bgcolor": "white",
          "plot_bgcolor": "#E5ECF6",
          "polar": {
           "angularaxis": {
            "gridcolor": "white",
            "linecolor": "white",
            "ticks": ""
           },
           "bgcolor": "#E5ECF6",
           "radialaxis": {
            "gridcolor": "white",
            "linecolor": "white",
            "ticks": ""
           }
          },
          "scene": {
           "xaxis": {
            "backgroundcolor": "#E5ECF6",
            "gridcolor": "white",
            "gridwidth": 2,
            "linecolor": "white",
            "showbackground": true,
            "ticks": "",
            "zerolinecolor": "white"
           },
           "yaxis": {
            "backgroundcolor": "#E5ECF6",
            "gridcolor": "white",
            "gridwidth": 2,
            "linecolor": "white",
            "showbackground": true,
            "ticks": "",
            "zerolinecolor": "white"
           },
           "zaxis": {
            "backgroundcolor": "#E5ECF6",
            "gridcolor": "white",
            "gridwidth": 2,
            "linecolor": "white",
            "showbackground": true,
            "ticks": "",
            "zerolinecolor": "white"
           }
          },
          "shapedefaults": {
           "line": {
            "color": "#2a3f5f"
           }
          },
          "ternary": {
           "aaxis": {
            "gridcolor": "white",
            "linecolor": "white",
            "ticks": ""
           },
           "baxis": {
            "gridcolor": "white",
            "linecolor": "white",
            "ticks": ""
           },
           "bgcolor": "#E5ECF6",
           "caxis": {
            "gridcolor": "white",
            "linecolor": "white",
            "ticks": ""
           }
          },
          "title": {
           "x": 0.05
          },
          "xaxis": {
           "automargin": true,
           "gridcolor": "white",
           "linecolor": "white",
           "ticks": "",
           "title": {
            "standoff": 15
           },
           "zerolinecolor": "white",
           "zerolinewidth": 2
          },
          "yaxis": {
           "automargin": true,
           "gridcolor": "white",
           "linecolor": "white",
           "ticks": "",
           "title": {
            "standoff": 15
           },
           "zerolinecolor": "white",
           "zerolinewidth": 2
          }
         }
        },
        "xaxis": {
         "anchor": "y",
         "domain": [
          0,
          1
         ],
         "title": {
          "text": "Physio-Biochemical Parameters"
         }
        },
        "yaxis": {
         "anchor": "x",
         "autorange": "reversed",
         "domain": [
          0,
          1
         ],
         "title": {
          "text": "Nitrogen Source Optimization"
         }
        }
       }
      }
     },
     "metadata": {},
     "output_type": "display_data"
    },
    {
     "name": "stdout",
     "output_type": "stream",
     "text": [
      "Heatmap saved successfully using orca.\n"
     ]
    }
   ],
   "source": [
    "# Heat map\n",
    "import pandas as pd\n",
    "import numpy as np\n",
    "import plotly.express as px\n",
    "import plotly.io as pio\n",
    "from sklearn.preprocessing import MinMaxScaler\n",
    "\n",
    "# Load the Excel file into a pandas DataFrame\n",
    "data = pd.read_excel(\"./microalgae_Exp_3_N.xlsx\")\n",
    "\n",
    "# Set the variables as the x-axis and the first column as the y-axis\n",
    "x = data.columns[3:18]\n",
    "y = data.iloc[:, 1]\n",
    "\n",
    "# Select only numeric columns for normalization\n",
    "numeric_data = data.iloc[:, 3:18]\n",
    "\n",
    "# Convert DataFrame to matrix\n",
    "data_matrix = numeric_data.values\n",
    "\n",
    "# Normalize the data_matrix\n",
    "scaler = MinMaxScaler()\n",
    "data_matrix_normalized = scaler.fit_transform(data_matrix)\n",
    "\n",
    "# Create the heatmap using plotly.express\n",
    "fig = px.imshow(data_matrix_normalized, x=x, y=y, labels={'x':'Physio-Biochemical Parameters', 'y':'Nitrogen Source Optimization'}, color_continuous_scale='turbo', aspect='auto')\n",
    "# 'tealrose', 'tempo', 'temps', 'thermal', 'tropic', 'turbid',\n",
    "            #  'turbo', 'twilight', 'viridis', 'ylgn', 'ylgnbu', 'ylorbr',\n",
    "            #  'ylorrd'].\n",
    "# Show the heatmap\n",
    "fig.show()\n",
    "\n",
    "# Save the heatmap as a PNG file using orca\n",
    "try:\n",
    "    pio.write_image(fig, r'D:\\Study\\Study and Extras\\Dr Nawaz Sb Paper\\M.Phil Thesis and Studentship\\Rehan_Thesis 2022-2024\\Data Set\\Exp_3_N\\heatmap_Media.png', engine='orca')\n",
    "    print(\"Heatmap saved successfully using orca.\")\n",
    "except Exception as e:\n",
    "    print(f\"An error occurred with orca: {e}\")"
   ]
  },
  {
   "cell_type": "code",
   "execution_count": 33,
   "id": "10857d99",
   "metadata": {},
   "outputs": [
    {
     "data": {
      "application/vnd.plotly.v1+json": {
       "config": {
        "plotlyServerURL": "https://plot.ly"
       },
       "data": [
        {
         "colorscale": [
          [
           0,
           "#30123b"
          ],
          [
           0.07142857142857142,
           "#4145ab"
          ],
          [
           0.14285714285714285,
           "#4675ed"
          ],
          [
           0.21428571428571427,
           "#39a2fc"
          ],
          [
           0.2857142857142857,
           "#1bcfd4"
          ],
          [
           0.35714285714285715,
           "#24eca6"
          ],
          [
           0.42857142857142855,
           "#61fc6c"
          ],
          [
           0.5,
           "#a4fc3b"
          ],
          [
           0.5714285714285714,
           "#d1e834"
          ],
          [
           0.6428571428571429,
           "#f3c63a"
          ],
          [
           0.7142857142857143,
           "#fe9b2d"
          ],
          [
           0.7857142857142857,
           "#f36315"
          ],
          [
           0.8571428571428571,
           "#d93806"
          ],
          [
           0.9285714285714286,
           "#b11901"
          ],
          [
           1,
           "#7a0402"
          ]
         ],
         "showscale": false,
         "type": "heatmap",
         "x": [
          "pH_change",
          "Electrical Conductvity",
          "Total Dissolved susbtances",
          "Temperature",
          "OD",
          "Biomass Production",
          "Productivity",
          "Doubling_time"
         ],
         "xaxis": "x",
         "y": [
          "BBM",
          "BBM",
          "BG11",
          "BG11",
          "MBBM",
          "MBBM",
          "MBG11",
          "MBG11"
         ],
         "yaxis": "y",
         "z": [
          [
           0.630824372759857,
           0.19818371068315488,
           0.1202248787960141,
           0.43370340999207,
           0.02237036100729238,
           0.006798895927717904,
           0.02388064268727707,
           0.5766191547986651
          ],
          [
           0.5519713261648749,
           0.440928097091148,
           0.22445241065647553,
           0.2949246629658999,
           0.010618681468371808,
           0.00516545049099574,
           0.02227857211011411,
           0.32223413974845894
          ],
          [
           0.43010752688172094,
           0.6867298922680984,
           0.46196484689607253,
           0.1704203013481358,
           0.0041611005371275205,
           0.005131242209598418,
           0.019790061194985685,
           1
          ],
          [
           0.4946236559139787,
           0.6052290957055286,
           0.4076401939263775,
           0.13394131641554186,
           0,
           0.005687126782304912,
           0.02401853620160243,
           0.5665774130882543
          ],
          [
           0,
           0.31476077580666956,
           0.22761082071285316,
           0.3575733544805706,
           0.08276474694726163,
           0.024486715427721104,
           0.0340170546416252,
           0.323684392542071
          ],
          [
           0.07311827956989236,
           0.3842912166298833,
           0.27640825608388736,
           0.41070578905630395,
           0.06782746296782949,
           0.01991349580841652,
           0.06412576740230563,
           0.38703354530287726
          ],
          [
           0.3369175627240144,
           0.9745473737839486,
           0.9752064810574358,
           0.5590007930214114,
           0.0027893091512613023,
           0,
           0,
           0.17913302102788312
          ],
          [
           0.4444444444444444,
           0.9999999999999999,
           1.0000000000000002,
           0.6700237906423476,
           0.005182323013272368,
           0.0003420828139732283,
           0.0012299023448529098,
           0.20480448570977
          ]
         ]
        },
        {
         "colorscale": [
          [
           0,
           "#30123b"
          ],
          [
           0.07142857142857142,
           "#4145ab"
          ],
          [
           0.14285714285714285,
           "#4675ed"
          ],
          [
           0.21428571428571427,
           "#39a2fc"
          ],
          [
           0.2857142857142857,
           "#1bcfd4"
          ],
          [
           0.35714285714285715,
           "#24eca6"
          ],
          [
           0.42857142857142855,
           "#61fc6c"
          ],
          [
           0.5,
           "#a4fc3b"
          ],
          [
           0.5714285714285714,
           "#d1e834"
          ],
          [
           0.6428571428571429,
           "#f3c63a"
          ],
          [
           0.7142857142857143,
           "#fe9b2d"
          ],
          [
           0.7857142857142857,
           "#f36315"
          ],
          [
           0.8571428571428571,
           "#d93806"
          ],
          [
           0.9285714285714286,
           "#b11901"
          ],
          [
           1,
           "#7a0402"
          ]
         ],
         "showscale": false,
         "type": "heatmap",
         "x": [
          "pH_change",
          "Electrical Conductvity",
          "Total Dissolved susbtances",
          "Temperature",
          "OD",
          "Biomass Production",
          "Productivity",
          "Doubling_time"
         ],
         "xaxis": "x2",
         "y": [
          "BBM",
          "BBM",
          "BG11",
          "BG11",
          "MBBM",
          "MBBM",
          "MBG11",
          "MBG11"
         ],
         "yaxis": "y2",
         "z": [
          [
           0.7125448028673835,
           0.15619365087336523,
           0.09475230169132859,
           0.35519429024583715,
           0.037149264050162986,
           0.1293393739456901,
           0.21963960980963784,
           0.496219036019351
          ],
          [
           0.6336917562724014,
           0.35962436285365457,
           0.18197179539819655,
           0.1609833465503563,
           0.02749370207168133,
           0.14758414702719347,
           0.23192700564054802,
           0.5066016269573475
          ],
          [
           0.5096774193548388,
           0.5358112660752001,
           0.3613694866004454,
           0.09191118160190381,
           0.003481815354461633,
           0.16613358761489172,
           0.2774586907173042,
           0.507196229714528
          ],
          [
           0.574193548387097,
           0.48058026114884467,
           0.3245550589833079,
           0,
           0.004172684553274832,
           0.08743636725155703,
           0.14803077492421715,
           0.4616496936709873
          ],
          [
           0.34838709677419377,
           0.28024307476368887,
           0.2033858155804368,
           0.2790642347343377,
           0.3730525705357133,
           0.35817781037066815,
           0.6502894794612727,
           0.04627841932912821
          ],
          [
           0.42150537634408614,
           0.33388727247324934,
           0.24103406345245804,
           0.2767644726407621,
           0.2696271211046554,
           0.2854189338561499,
           0.49389604275631,
           0.06939318354696902
          ],
          [
           0.442293906810036,
           0.8553577508919671,
           0.8591033273849946,
           0.4804916732751785,
           0.006035879049386041,
           0.12085358214156672,
           0.22374418522552195,
           0.14664045178368018
          ],
          [
           0.5498207885304662,
           0.9260739009266274,
           0.9279882507145905,
           0.536082474226804,
           0.01332161856941191,
           0.10456872978237122,
           0.16309342307614547,
           0.17998335303674717
          ]
         ]
        },
        {
         "colorscale": [
          [
           0,
           "#30123b"
          ],
          [
           0.07142857142857142,
           "#4145ab"
          ],
          [
           0.14285714285714285,
           "#4675ed"
          ],
          [
           0.21428571428571427,
           "#39a2fc"
          ],
          [
           0.2857142857142857,
           "#1bcfd4"
          ],
          [
           0.35714285714285715,
           "#24eca6"
          ],
          [
           0.42857142857142855,
           "#61fc6c"
          ],
          [
           0.5,
           "#a4fc3b"
          ],
          [
           0.5714285714285714,
           "#d1e834"
          ],
          [
           0.6428571428571429,
           "#f3c63a"
          ],
          [
           0.7142857142857143,
           "#fe9b2d"
          ],
          [
           0.7857142857142857,
           "#f36315"
          ],
          [
           0.8571428571428571,
           "#d93806"
          ],
          [
           0.9285714285714286,
           "#b11901"
          ],
          [
           1,
           "#7a0402"
          ]
         ],
         "showscale": false,
         "type": "heatmap",
         "x": [
          "pH_change",
          "Electrical Conductvity",
          "Total Dissolved susbtances",
          "Temperature",
          "OD",
          "Biomass Production",
          "Productivity",
          "Doubling_time"
         ],
         "xaxis": "x3",
         "y": [
          "BBM",
          "BBM",
          "BG11",
          "BG11",
          "MBBM",
          "MBBM",
          "MBG11",
          "MBG11"
         ],
         "yaxis": "y3",
         "z": [
          [
           0.8179211469534056,
           0.10543071433952157,
           0.0639578036416468,
           0.7120539254559883,
           0.1850809569521447,
           0.24110424332350555,
           0.2558207699821234,
           0.4903074077184225
          ],
          [
           0.7390681003584234,
           0.35418698672379395,
           0.1791308055524849,
           0.6249008723235523,
           0.14445066075402932,
           0.26411786463355447,
           0.26849130967169077,
           0.5581951505120468
          ],
          [
           0.6150537634408604,
           0.4327506657707877,
           0.29267406787423217,
           0.448770816812055,
           0.05342574512373941,
           0.411750117056463,
           0.39906417625053214,
           0.47879229504575027
          ],
          [
           0.6795698924731186,
           0.3775196608444322,
           0.2558596402570946,
           0.4639175257731951,
           0.06011777589263965,
           0.33470744222541976,
           0.35866917493193484,
           0.49557108183399645
          ],
          [
           0.9268817204301081,
           0.16170379895246212,
           0.12019329469545031,
           0.635923869944488,
           0.5953798963519467,
           0.7736390983552232,
           0.794832088323591,
           0.008632925838037625
          ],
          [
           1.0000000000000002,
           0.2681821309833514,
           0.1949212766293448,
           0.7406819984139563,
           0.5741735882318246,
           0.6350260731244777,
           0.651376307556837,
           0.0153126128800649
          ],
          [
           0.5476702508960578,
           0.8148280913122673,
           0.8196232016802742,
           0.8373513084853288,
           0.014573907537584259,
           0.25842218578090026,
           0.24933965998445765,
           0.07797397231569671
          ],
          [
           0.6551971326164878,
           0.8015667866977894,
           0.8067053045496898,
           1,
           0.034713333440609666,
           0.26051744301648627,
           0.2280314017861087,
           0.08376120851088636
          ]
         ]
        },
        {
         "colorscale": [
          [
           0,
           "#30123b"
          ],
          [
           0.07142857142857142,
           "#4145ab"
          ],
          [
           0.14285714285714285,
           "#4675ed"
          ],
          [
           0.21428571428571427,
           "#39a2fc"
          ],
          [
           0.2857142857142857,
           "#1bcfd4"
          ],
          [
           0.35714285714285715,
           "#24eca6"
          ],
          [
           0.42857142857142855,
           "#61fc6c"
          ],
          [
           0.5,
           "#a4fc3b"
          ],
          [
           0.5714285714285714,
           "#d1e834"
          ],
          [
           0.6428571428571429,
           "#f3c63a"
          ],
          [
           0.7142857142857143,
           "#fe9b2d"
          ],
          [
           0.7857142857142857,
           "#f36315"
          ],
          [
           0.8571428571428571,
           "#d93806"
          ],
          [
           0.9285714285714286,
           "#b11901"
          ],
          [
           1,
           "#7a0402"
          ]
         ],
         "showscale": true,
         "type": "heatmap",
         "x": [
          "pH_change",
          "Electrical Conductvity",
          "Total Dissolved susbtances",
          "Temperature",
          "OD",
          "Biomass Production",
          "Productivity",
          "Doubling_time"
         ],
         "xaxis": "x4",
         "y": [
          "BBM",
          "BBM",
          "BG11",
          "BG11",
          "MBBM",
          "MBBM",
          "MBG11",
          "MBG11"
         ],
         "yaxis": "y4",
         "z": [
          [
           0.7577060931899644,
           0,
           0,
           0.7477398889770015,
           0.46083703718864516,
           0.3988001445299889,
           0.28400948063235815,
           0.4935248638931181
          ],
          [
           0.6788530465949822,
           0.1293171790186079,
           0.061637951455237434,
           0.5892149088025382,
           0.3104084923083458,
           0.4136294345157284,
           0.3977795950668218,
           0.5277113533137819
          ],
          [
           0.5548387096774197,
           0.19677742921171903,
           0.13538524706662666,
           0.48445678033306905,
           0.17359591919232711,
           0.6067843574081242,
           0.4669186764564514,
           0.48957993079762874
          ],
          [
           0.6193548387096774,
           0.17921685060352815,
           0.12368017939769121,
           0.4282315622521802,
           0.17603775343190786,
           0.5327041860246343,
           0.5545721894511505,
           0.49090006478311576
          ],
          [
           0.8666666666666674,
           0.04424460765887747,
           0.037758792223994427,
           0.6716098334655038,
           0.9999999999999998,
           1.0000000000000002,
           0.7770758473377554,
           0
          ],
          [
           0.9397849462365595,
           0.0730918649842368,
           0.05800420068537498,
           0.7049960348929423,
           0.9523685849659547,
           0.8987995031247129,
           0.9999999999999999,
           0.0012464096155002727
          ],
          [
           0.48745519713261665,
           0.463192764798791,
           0.47709363106612135,
           0.8730372720063437,
           0.07582572391191825,
           0.3521186685281673,
           0.2733526305034837,
           0.046598143303475476
          ],
          [
           0.5949820788530473,
           0.4489587483544004,
           0.46322821091862365,
           0.9643140364789851,
           0.12372584014641488,
           0.3552337601529111,
           0.3493726130839311,
           0.06107225518247292
          ]
         ]
        }
       ],
       "layout": {
        "annotations": [
         {
          "font": {
           "size": 16
          },
          "showarrow": false,
          "text": "Media: Day7",
          "x": 0.5,
          "xanchor": "center",
          "xref": "paper",
          "y": 1,
          "yanchor": "bottom",
          "yref": "paper"
         },
         {
          "font": {
           "size": 16
          },
          "showarrow": false,
          "text": "Media: Day14",
          "x": 0.5,
          "xanchor": "center",
          "xref": "paper",
          "y": 0.7375,
          "yanchor": "bottom",
          "yref": "paper"
         },
         {
          "font": {
           "size": 16
          },
          "showarrow": false,
          "text": "Media: Day21",
          "x": 0.5,
          "xanchor": "center",
          "xref": "paper",
          "y": 0.475,
          "yanchor": "bottom",
          "yref": "paper"
         },
         {
          "font": {
           "size": 16
          },
          "showarrow": false,
          "text": "Media: Day28",
          "x": 0.5,
          "xanchor": "center",
          "xref": "paper",
          "y": 0.2125,
          "yanchor": "bottom",
          "yref": "paper"
         }
        ],
        "height": 1200,
        "template": {
         "data": {
          "bar": [
           {
            "error_x": {
             "color": "#2a3f5f"
            },
            "error_y": {
             "color": "#2a3f5f"
            },
            "marker": {
             "line": {
              "color": "#E5ECF6",
              "width": 0.5
             },
             "pattern": {
              "fillmode": "overlay",
              "size": 10,
              "solidity": 0.2
             }
            },
            "type": "bar"
           }
          ],
          "barpolar": [
           {
            "marker": {
             "line": {
              "color": "#E5ECF6",
              "width": 0.5
             },
             "pattern": {
              "fillmode": "overlay",
              "size": 10,
              "solidity": 0.2
             }
            },
            "type": "barpolar"
           }
          ],
          "carpet": [
           {
            "aaxis": {
             "endlinecolor": "#2a3f5f",
             "gridcolor": "white",
             "linecolor": "white",
             "minorgridcolor": "white",
             "startlinecolor": "#2a3f5f"
            },
            "baxis": {
             "endlinecolor": "#2a3f5f",
             "gridcolor": "white",
             "linecolor": "white",
             "minorgridcolor": "white",
             "startlinecolor": "#2a3f5f"
            },
            "type": "carpet"
           }
          ],
          "choropleth": [
           {
            "colorbar": {
             "outlinewidth": 0,
             "ticks": ""
            },
            "type": "choropleth"
           }
          ],
          "contour": [
           {
            "colorbar": {
             "outlinewidth": 0,
             "ticks": ""
            },
            "colorscale": [
             [
              0,
              "#0d0887"
             ],
             [
              0.1111111111111111,
              "#46039f"
             ],
             [
              0.2222222222222222,
              "#7201a8"
             ],
             [
              0.3333333333333333,
              "#9c179e"
             ],
             [
              0.4444444444444444,
              "#bd3786"
             ],
             [
              0.5555555555555556,
              "#d8576b"
             ],
             [
              0.6666666666666666,
              "#ed7953"
             ],
             [
              0.7777777777777778,
              "#fb9f3a"
             ],
             [
              0.8888888888888888,
              "#fdca26"
             ],
             [
              1,
              "#f0f921"
             ]
            ],
            "type": "contour"
           }
          ],
          "contourcarpet": [
           {
            "colorbar": {
             "outlinewidth": 0,
             "ticks": ""
            },
            "type": "contourcarpet"
           }
          ],
          "heatmap": [
           {
            "colorbar": {
             "outlinewidth": 0,
             "ticks": ""
            },
            "colorscale": [
             [
              0,
              "#0d0887"
             ],
             [
              0.1111111111111111,
              "#46039f"
             ],
             [
              0.2222222222222222,
              "#7201a8"
             ],
             [
              0.3333333333333333,
              "#9c179e"
             ],
             [
              0.4444444444444444,
              "#bd3786"
             ],
             [
              0.5555555555555556,
              "#d8576b"
             ],
             [
              0.6666666666666666,
              "#ed7953"
             ],
             [
              0.7777777777777778,
              "#fb9f3a"
             ],
             [
              0.8888888888888888,
              "#fdca26"
             ],
             [
              1,
              "#f0f921"
             ]
            ],
            "type": "heatmap"
           }
          ],
          "heatmapgl": [
           {
            "colorbar": {
             "outlinewidth": 0,
             "ticks": ""
            },
            "colorscale": [
             [
              0,
              "#0d0887"
             ],
             [
              0.1111111111111111,
              "#46039f"
             ],
             [
              0.2222222222222222,
              "#7201a8"
             ],
             [
              0.3333333333333333,
              "#9c179e"
             ],
             [
              0.4444444444444444,
              "#bd3786"
             ],
             [
              0.5555555555555556,
              "#d8576b"
             ],
             [
              0.6666666666666666,
              "#ed7953"
             ],
             [
              0.7777777777777778,
              "#fb9f3a"
             ],
             [
              0.8888888888888888,
              "#fdca26"
             ],
             [
              1,
              "#f0f921"
             ]
            ],
            "type": "heatmapgl"
           }
          ],
          "histogram": [
           {
            "marker": {
             "pattern": {
              "fillmode": "overlay",
              "size": 10,
              "solidity": 0.2
             }
            },
            "type": "histogram"
           }
          ],
          "histogram2d": [
           {
            "colorbar": {
             "outlinewidth": 0,
             "ticks": ""
            },
            "colorscale": [
             [
              0,
              "#0d0887"
             ],
             [
              0.1111111111111111,
              "#46039f"
             ],
             [
              0.2222222222222222,
              "#7201a8"
             ],
             [
              0.3333333333333333,
              "#9c179e"
             ],
             [
              0.4444444444444444,
              "#bd3786"
             ],
             [
              0.5555555555555556,
              "#d8576b"
             ],
             [
              0.6666666666666666,
              "#ed7953"
             ],
             [
              0.7777777777777778,
              "#fb9f3a"
             ],
             [
              0.8888888888888888,
              "#fdca26"
             ],
             [
              1,
              "#f0f921"
             ]
            ],
            "type": "histogram2d"
           }
          ],
          "histogram2dcontour": [
           {
            "colorbar": {
             "outlinewidth": 0,
             "ticks": ""
            },
            "colorscale": [
             [
              0,
              "#0d0887"
             ],
             [
              0.1111111111111111,
              "#46039f"
             ],
             [
              0.2222222222222222,
              "#7201a8"
             ],
             [
              0.3333333333333333,
              "#9c179e"
             ],
             [
              0.4444444444444444,
              "#bd3786"
             ],
             [
              0.5555555555555556,
              "#d8576b"
             ],
             [
              0.6666666666666666,
              "#ed7953"
             ],
             [
              0.7777777777777778,
              "#fb9f3a"
             ],
             [
              0.8888888888888888,
              "#fdca26"
             ],
             [
              1,
              "#f0f921"
             ]
            ],
            "type": "histogram2dcontour"
           }
          ],
          "mesh3d": [
           {
            "colorbar": {
             "outlinewidth": 0,
             "ticks": ""
            },
            "type": "mesh3d"
           }
          ],
          "parcoords": [
           {
            "line": {
             "colorbar": {
              "outlinewidth": 0,
              "ticks": ""
             }
            },
            "type": "parcoords"
           }
          ],
          "pie": [
           {
            "automargin": true,
            "type": "pie"
           }
          ],
          "scatter": [
           {
            "fillpattern": {
             "fillmode": "overlay",
             "size": 10,
             "solidity": 0.2
            },
            "type": "scatter"
           }
          ],
          "scatter3d": [
           {
            "line": {
             "colorbar": {
              "outlinewidth": 0,
              "ticks": ""
             }
            },
            "marker": {
             "colorbar": {
              "outlinewidth": 0,
              "ticks": ""
             }
            },
            "type": "scatter3d"
           }
          ],
          "scattercarpet": [
           {
            "marker": {
             "colorbar": {
              "outlinewidth": 0,
              "ticks": ""
             }
            },
            "type": "scattercarpet"
           }
          ],
          "scattergeo": [
           {
            "marker": {
             "colorbar": {
              "outlinewidth": 0,
              "ticks": ""
             }
            },
            "type": "scattergeo"
           }
          ],
          "scattergl": [
           {
            "marker": {
             "colorbar": {
              "outlinewidth": 0,
              "ticks": ""
             }
            },
            "type": "scattergl"
           }
          ],
          "scattermapbox": [
           {
            "marker": {
             "colorbar": {
              "outlinewidth": 0,
              "ticks": ""
             }
            },
            "type": "scattermapbox"
           }
          ],
          "scatterpolar": [
           {
            "marker": {
             "colorbar": {
              "outlinewidth": 0,
              "ticks": ""
             }
            },
            "type": "scatterpolar"
           }
          ],
          "scatterpolargl": [
           {
            "marker": {
             "colorbar": {
              "outlinewidth": 0,
              "ticks": ""
             }
            },
            "type": "scatterpolargl"
           }
          ],
          "scatterternary": [
           {
            "marker": {
             "colorbar": {
              "outlinewidth": 0,
              "ticks": ""
             }
            },
            "type": "scatterternary"
           }
          ],
          "surface": [
           {
            "colorbar": {
             "outlinewidth": 0,
             "ticks": ""
            },
            "colorscale": [
             [
              0,
              "#0d0887"
             ],
             [
              0.1111111111111111,
              "#46039f"
             ],
             [
              0.2222222222222222,
              "#7201a8"
             ],
             [
              0.3333333333333333,
              "#9c179e"
             ],
             [
              0.4444444444444444,
              "#bd3786"
             ],
             [
              0.5555555555555556,
              "#d8576b"
             ],
             [
              0.6666666666666666,
              "#ed7953"
             ],
             [
              0.7777777777777778,
              "#fb9f3a"
             ],
             [
              0.8888888888888888,
              "#fdca26"
             ],
             [
              1,
              "#f0f921"
             ]
            ],
            "type": "surface"
           }
          ],
          "table": [
           {
            "cells": {
             "fill": {
              "color": "#EBF0F8"
             },
             "line": {
              "color": "white"
             }
            },
            "header": {
             "fill": {
              "color": "#C8D4E3"
             },
             "line": {
              "color": "white"
             }
            },
            "type": "table"
           }
          ]
         },
         "layout": {
          "annotationdefaults": {
           "arrowcolor": "#2a3f5f",
           "arrowhead": 0,
           "arrowwidth": 1
          },
          "autotypenumbers": "strict",
          "coloraxis": {
           "colorbar": {
            "outlinewidth": 0,
            "ticks": ""
           }
          },
          "colorscale": {
           "diverging": [
            [
             0,
             "#8e0152"
            ],
            [
             0.1,
             "#c51b7d"
            ],
            [
             0.2,
             "#de77ae"
            ],
            [
             0.3,
             "#f1b6da"
            ],
            [
             0.4,
             "#fde0ef"
            ],
            [
             0.5,
             "#f7f7f7"
            ],
            [
             0.6,
             "#e6f5d0"
            ],
            [
             0.7,
             "#b8e186"
            ],
            [
             0.8,
             "#7fbc41"
            ],
            [
             0.9,
             "#4d9221"
            ],
            [
             1,
             "#276419"
            ]
           ],
           "sequential": [
            [
             0,
             "#0d0887"
            ],
            [
             0.1111111111111111,
             "#46039f"
            ],
            [
             0.2222222222222222,
             "#7201a8"
            ],
            [
             0.3333333333333333,
             "#9c179e"
            ],
            [
             0.4444444444444444,
             "#bd3786"
            ],
            [
             0.5555555555555556,
             "#d8576b"
            ],
            [
             0.6666666666666666,
             "#ed7953"
            ],
            [
             0.7777777777777778,
             "#fb9f3a"
            ],
            [
             0.8888888888888888,
             "#fdca26"
            ],
            [
             1,
             "#f0f921"
            ]
           ],
           "sequentialminus": [
            [
             0,
             "#0d0887"
            ],
            [
             0.1111111111111111,
             "#46039f"
            ],
            [
             0.2222222222222222,
             "#7201a8"
            ],
            [
             0.3333333333333333,
             "#9c179e"
            ],
            [
             0.4444444444444444,
             "#bd3786"
            ],
            [
             0.5555555555555556,
             "#d8576b"
            ],
            [
             0.6666666666666666,
             "#ed7953"
            ],
            [
             0.7777777777777778,
             "#fb9f3a"
            ],
            [
             0.8888888888888888,
             "#fdca26"
            ],
            [
             1,
             "#f0f921"
            ]
           ]
          },
          "colorway": [
           "#636efa",
           "#EF553B",
           "#00cc96",
           "#ab63fa",
           "#FFA15A",
           "#19d3f3",
           "#FF6692",
           "#B6E880",
           "#FF97FF",
           "#FECB52"
          ],
          "font": {
           "color": "#2a3f5f"
          },
          "geo": {
           "bgcolor": "white",
           "lakecolor": "white",
           "landcolor": "#E5ECF6",
           "showlakes": true,
           "showland": true,
           "subunitcolor": "white"
          },
          "hoverlabel": {
           "align": "left"
          },
          "hovermode": "closest",
          "mapbox": {
           "style": "light"
          },
          "paper_bgcolor": "white",
          "plot_bgcolor": "#E5ECF6",
          "polar": {
           "angularaxis": {
            "gridcolor": "white",
            "linecolor": "white",
            "ticks": ""
           },
           "bgcolor": "#E5ECF6",
           "radialaxis": {
            "gridcolor": "white",
            "linecolor": "white",
            "ticks": ""
           }
          },
          "scene": {
           "xaxis": {
            "backgroundcolor": "#E5ECF6",
            "gridcolor": "white",
            "gridwidth": 2,
            "linecolor": "white",
            "showbackground": true,
            "ticks": "",
            "zerolinecolor": "white"
           },
           "yaxis": {
            "backgroundcolor": "#E5ECF6",
            "gridcolor": "white",
            "gridwidth": 2,
            "linecolor": "white",
            "showbackground": true,
            "ticks": "",
            "zerolinecolor": "white"
           },
           "zaxis": {
            "backgroundcolor": "#E5ECF6",
            "gridcolor": "white",
            "gridwidth": 2,
            "linecolor": "white",
            "showbackground": true,
            "ticks": "",
            "zerolinecolor": "white"
           }
          },
          "shapedefaults": {
           "line": {
            "color": "#2a3f5f"
           }
          },
          "ternary": {
           "aaxis": {
            "gridcolor": "white",
            "linecolor": "white",
            "ticks": ""
           },
           "baxis": {
            "gridcolor": "white",
            "linecolor": "white",
            "ticks": ""
           },
           "bgcolor": "#E5ECF6",
           "caxis": {
            "gridcolor": "white",
            "linecolor": "white",
            "ticks": ""
           }
          },
          "title": {
           "x": 0.05
          },
          "xaxis": {
           "automargin": true,
           "gridcolor": "white",
           "linecolor": "white",
           "ticks": "",
           "title": {
            "standoff": 15
           },
           "zerolinecolor": "white",
           "zerolinewidth": 2
          },
          "yaxis": {
           "automargin": true,
           "gridcolor": "white",
           "linecolor": "white",
           "ticks": "",
           "title": {
            "standoff": 15
           },
           "zerolinecolor": "white",
           "zerolinewidth": 2
          }
         }
        },
        "title": {
         "text": "Heatmap Showing Effect of Media Over Days"
        },
        "xaxis": {
         "anchor": "y",
         "domain": [
          0,
          1
         ],
         "matches": "x4",
         "showticklabels": false,
         "title": {
          "text": "Physio-Biochemical Parameters"
         }
        },
        "xaxis2": {
         "anchor": "y2",
         "domain": [
          0,
          1
         ],
         "matches": "x4",
         "showticklabels": false
        },
        "xaxis3": {
         "anchor": "y3",
         "domain": [
          0,
          1
         ],
         "matches": "x4",
         "showticklabels": false
        },
        "xaxis4": {
         "anchor": "y4",
         "domain": [
          0,
          1
         ]
        },
        "yaxis": {
         "anchor": "x",
         "domain": [
          0.7875,
          1
         ],
         "title": {
          "text": "Days"
         }
        },
        "yaxis2": {
         "anchor": "x2",
         "domain": [
          0.525,
          0.7375
         ]
        },
        "yaxis3": {
         "anchor": "x3",
         "domain": [
          0.2625,
          0.475
         ]
        },
        "yaxis4": {
         "anchor": "x4",
         "domain": [
          0,
          0.2125
         ]
        }
       }
      }
     },
     "metadata": {},
     "output_type": "display_data"
    },
    {
     "name": "stdout",
     "output_type": "stream",
     "text": [
      "Heatmap saved successfully using orca.\n"
     ]
    }
   ],
   "source": [
    "# Heat map\n",
    "import pandas as pd\n",
    "import numpy as np\n",
    "import plotly.express as px\n",
    "import plotly.graph_objects as go\n",
    "import plotly.io as pio\n",
    "from plotly.subplots import make_subplots\n",
    "from sklearn.preprocessing import MinMaxScaler\n",
    "\n",
    "# Load the Excel file into a pandas DataFrame\n",
    "data = pd.read_excel(\"./microalgae_Exp_2.xlsx\")\n",
    "\n",
    "# Set the variables as the x-axis and the first column as the y-axis\n",
    "x = data.columns[3:18]\n",
    "y = data.iloc[:, 1]\n",
    "\n",
    "# Select only numeric columns for normalization\n",
    "numeric_data = data.iloc[:, 3:18]\n",
    "\n",
    "# Convert DataFrame to matrix\n",
    "data_matrix = numeric_data.values\n",
    "\n",
    "# Normalize the data_matrix\n",
    "scaler = MinMaxScaler()\n",
    "data_matrix_normalized = scaler.fit_transform(data_matrix)\n",
    "\n",
    "# Select the third variable (assuming it's in the second column)\n",
    "third_variable = data.iloc[:, 0]\n",
    "\n",
    "# Create a color scale for the third variable\n",
    "unique_categories = third_variable.unique()\n",
    "\n",
    "# Create subplots\n",
    "fig = make_subplots(\n",
    "    rows=len(unique_categories), cols=1,\n",
    "    subplot_titles=[f'Media: {category}' for category in unique_categories],\n",
    "    shared_xaxes=True, shared_yaxes=True,\n",
    "    vertical_spacing=0.05\n",
    ")\n",
    "\n",
    "# Add heatmaps to subplots\n",
    "for i, category in enumerate(unique_categories):\n",
    "    category_data = data_matrix_normalized[third_variable == category]\n",
    "    heatmap = go.Heatmap(\n",
    "        z=category_data,\n",
    "        x=x,\n",
    "        y=y[third_variable == category],\n",
    "        colorscale='turbo',\n",
    "        showscale=(i == len(unique_categories) - 1)  # Show scale only on the last subplot\n",
    "    )\n",
    "    fig.add_trace(heatmap, row=i + 1, col=1)\n",
    "\n",
    "# Update layout\n",
    "fig.update_layout(\n",
    "    title='Heatmap Showing Effect of Media Over Days',\n",
    "    xaxis_title='Physio-Biochemical Parameters',\n",
    "    yaxis_title='Days',\n",
    "    height=300 * len(unique_categories)  # Adjust height based on the number of subplots\n",
    ")\n",
    "\n",
    "# Show the heatmap\n",
    "fig.show()\n",
    "\n",
    "# Save the heatmap as a PNG file using orca\n",
    "try:\n",
    "    pio.write_image(fig, r'D:\\Study\\Study and Extras\\Dr Nawaz Sb Paper\\M.Phil Thesis and Studentship\\Rehan_Thesis 2022-2024\\Data Set\\Exp_2\\heatmap_Media.png', engine='orca')\n",
    "    print(\"Heatmap saved successfully using orca.\")\n",
    "except Exception as e:\n",
    "    print(f\"An error occurred with orca: {e}\")"
   ]
  },
  {
   "cell_type": "code",
   "execution_count": 4,
   "id": "2b5e8f99",
   "metadata": {},
   "outputs": [
    {
     "ename": "KeyError",
     "evalue": "'Concentration'",
     "output_type": "error",
     "traceback": [
      "\u001b[1;31m---------------------------------------------------------------------------\u001b[0m",
      "\u001b[1;31mKeyError\u001b[0m                                  Traceback (most recent call last)",
      "File \u001b[1;32mc:\\Users\\mirza\\miniconda3\\envs\\python_eda\\Lib\\site-packages\\pandas\\core\\indexes\\base.py:3791\u001b[0m, in \u001b[0;36mIndex.get_loc\u001b[1;34m(self, key)\u001b[0m\n\u001b[0;32m   3790\u001b[0m \u001b[38;5;28;01mtry\u001b[39;00m:\n\u001b[1;32m-> 3791\u001b[0m     \u001b[38;5;28;01mreturn\u001b[39;00m \u001b[38;5;28;43mself\u001b[39;49m\u001b[38;5;241;43m.\u001b[39;49m\u001b[43m_engine\u001b[49m\u001b[38;5;241;43m.\u001b[39;49m\u001b[43mget_loc\u001b[49m\u001b[43m(\u001b[49m\u001b[43mcasted_key\u001b[49m\u001b[43m)\u001b[49m\n\u001b[0;32m   3792\u001b[0m \u001b[38;5;28;01mexcept\u001b[39;00m \u001b[38;5;167;01mKeyError\u001b[39;00m \u001b[38;5;28;01mas\u001b[39;00m err:\n",
      "File \u001b[1;32mindex.pyx:152\u001b[0m, in \u001b[0;36mpandas._libs.index.IndexEngine.get_loc\u001b[1;34m()\u001b[0m\n",
      "File \u001b[1;32mindex.pyx:181\u001b[0m, in \u001b[0;36mpandas._libs.index.IndexEngine.get_loc\u001b[1;34m()\u001b[0m\n",
      "File \u001b[1;32mpandas\\_libs\\hashtable_class_helper.pxi:7080\u001b[0m, in \u001b[0;36mpandas._libs.hashtable.PyObjectHashTable.get_item\u001b[1;34m()\u001b[0m\n",
      "File \u001b[1;32mpandas\\_libs\\hashtable_class_helper.pxi:7088\u001b[0m, in \u001b[0;36mpandas._libs.hashtable.PyObjectHashTable.get_item\u001b[1;34m()\u001b[0m\n",
      "\u001b[1;31mKeyError\u001b[0m: 'Concentration'",
      "\nThe above exception was the direct cause of the following exception:\n",
      "\u001b[1;31mKeyError\u001b[0m                                  Traceback (most recent call last)",
      "Cell \u001b[1;32mIn[4], line 49\u001b[0m\n\u001b[0;32m     46\u001b[0m     plt\u001b[38;5;241m.\u001b[39mshow()\n\u001b[0;32m     48\u001b[0m \u001b[38;5;66;03m# Plot standard curves for Glucose and Proteins\u001b[39;00m\n\u001b[1;32m---> 49\u001b[0m \u001b[43mplot_standard_curve\u001b[49m\u001b[43m(\u001b[49m\u001b[43mdf\u001b[49m\u001b[43m,\u001b[49m\u001b[43m \u001b[49m\u001b[38;5;124;43m'\u001b[39;49m\u001b[38;5;124;43mConcentration\u001b[39;49m\u001b[38;5;124;43m'\u001b[39;49m\u001b[43m,\u001b[49m\u001b[43m \u001b[49m\u001b[38;5;124;43m'\u001b[39;49m\u001b[38;5;124;43mProteins\u001b[39;49m\u001b[38;5;124;43m'\u001b[39;49m\u001b[43m,\u001b[49m\u001b[43m \u001b[49m\u001b[38;5;124;43m'\u001b[39;49m\u001b[38;5;124;43mStandard Curve for Proteins\u001b[39;49m\u001b[38;5;124;43m'\u001b[39;49m\u001b[43m)\u001b[49m\n\u001b[0;32m     50\u001b[0m plot_standard_curve(df, \u001b[38;5;124m'\u001b[39m\u001b[38;5;124mGlucose_Concentration\u001b[39m\u001b[38;5;124m'\u001b[39m, \u001b[38;5;124m'\u001b[39m\u001b[38;5;124mGlucose\u001b[39m\u001b[38;5;124m'\u001b[39m, \u001b[38;5;124m'\u001b[39m\u001b[38;5;124mStandard Curve for Glucose\u001b[39m\u001b[38;5;124m'\u001b[39m)\n",
      "Cell \u001b[1;32mIn[4], line 16\u001b[0m, in \u001b[0;36mplot_standard_curve\u001b[1;34m(df, x_col, y_col, title)\u001b[0m\n\u001b[0;32m     14\u001b[0m \u001b[38;5;28;01mdef\u001b[39;00m \u001b[38;5;21mplot_standard_curve\u001b[39m(df, x_col, y_col, title):\n\u001b[0;32m     15\u001b[0m     \u001b[38;5;66;03m# Extract data\u001b[39;00m\n\u001b[1;32m---> 16\u001b[0m     x \u001b[38;5;241m=\u001b[39m \u001b[43mdf\u001b[49m\u001b[43m[\u001b[49m\u001b[43mx_col\u001b[49m\u001b[43m]\u001b[49m\u001b[38;5;241m.\u001b[39mvalues\u001b[38;5;241m.\u001b[39mreshape(\u001b[38;5;241m-\u001b[39m\u001b[38;5;241m1\u001b[39m, \u001b[38;5;241m1\u001b[39m)\n\u001b[0;32m     17\u001b[0m     y \u001b[38;5;241m=\u001b[39m df[y_col]\u001b[38;5;241m.\u001b[39mvalues\n\u001b[0;32m     19\u001b[0m     \u001b[38;5;66;03m# Perform linear regression\u001b[39;00m\n",
      "File \u001b[1;32mc:\\Users\\mirza\\miniconda3\\envs\\python_eda\\Lib\\site-packages\\pandas\\core\\frame.py:3893\u001b[0m, in \u001b[0;36mDataFrame.__getitem__\u001b[1;34m(self, key)\u001b[0m\n\u001b[0;32m   3891\u001b[0m \u001b[38;5;28;01mif\u001b[39;00m \u001b[38;5;28mself\u001b[39m\u001b[38;5;241m.\u001b[39mcolumns\u001b[38;5;241m.\u001b[39mnlevels \u001b[38;5;241m>\u001b[39m \u001b[38;5;241m1\u001b[39m:\n\u001b[0;32m   3892\u001b[0m     \u001b[38;5;28;01mreturn\u001b[39;00m \u001b[38;5;28mself\u001b[39m\u001b[38;5;241m.\u001b[39m_getitem_multilevel(key)\n\u001b[1;32m-> 3893\u001b[0m indexer \u001b[38;5;241m=\u001b[39m \u001b[38;5;28;43mself\u001b[39;49m\u001b[38;5;241;43m.\u001b[39;49m\u001b[43mcolumns\u001b[49m\u001b[38;5;241;43m.\u001b[39;49m\u001b[43mget_loc\u001b[49m\u001b[43m(\u001b[49m\u001b[43mkey\u001b[49m\u001b[43m)\u001b[49m\n\u001b[0;32m   3894\u001b[0m \u001b[38;5;28;01mif\u001b[39;00m is_integer(indexer):\n\u001b[0;32m   3895\u001b[0m     indexer \u001b[38;5;241m=\u001b[39m [indexer]\n",
      "File \u001b[1;32mc:\\Users\\mirza\\miniconda3\\envs\\python_eda\\Lib\\site-packages\\pandas\\core\\indexes\\base.py:3798\u001b[0m, in \u001b[0;36mIndex.get_loc\u001b[1;34m(self, key)\u001b[0m\n\u001b[0;32m   3793\u001b[0m     \u001b[38;5;28;01mif\u001b[39;00m \u001b[38;5;28misinstance\u001b[39m(casted_key, \u001b[38;5;28mslice\u001b[39m) \u001b[38;5;129;01mor\u001b[39;00m (\n\u001b[0;32m   3794\u001b[0m         \u001b[38;5;28misinstance\u001b[39m(casted_key, abc\u001b[38;5;241m.\u001b[39mIterable)\n\u001b[0;32m   3795\u001b[0m         \u001b[38;5;129;01mand\u001b[39;00m \u001b[38;5;28many\u001b[39m(\u001b[38;5;28misinstance\u001b[39m(x, \u001b[38;5;28mslice\u001b[39m) \u001b[38;5;28;01mfor\u001b[39;00m x \u001b[38;5;129;01min\u001b[39;00m casted_key)\n\u001b[0;32m   3796\u001b[0m     ):\n\u001b[0;32m   3797\u001b[0m         \u001b[38;5;28;01mraise\u001b[39;00m InvalidIndexError(key)\n\u001b[1;32m-> 3798\u001b[0m     \u001b[38;5;28;01mraise\u001b[39;00m \u001b[38;5;167;01mKeyError\u001b[39;00m(key) \u001b[38;5;28;01mfrom\u001b[39;00m \u001b[38;5;21;01merr\u001b[39;00m\n\u001b[0;32m   3799\u001b[0m \u001b[38;5;28;01mexcept\u001b[39;00m \u001b[38;5;167;01mTypeError\u001b[39;00m:\n\u001b[0;32m   3800\u001b[0m     \u001b[38;5;66;03m# If we have a listlike key, _check_indexing_error will raise\u001b[39;00m\n\u001b[0;32m   3801\u001b[0m     \u001b[38;5;66;03m#  InvalidIndexError. Otherwise we fall through and re-raise\u001b[39;00m\n\u001b[0;32m   3802\u001b[0m     \u001b[38;5;66;03m#  the TypeError.\u001b[39;00m\n\u001b[0;32m   3803\u001b[0m     \u001b[38;5;28mself\u001b[39m\u001b[38;5;241m.\u001b[39m_check_indexing_error(key)\n",
      "\u001b[1;31mKeyError\u001b[0m: 'Concentration'"
     ]
    }
   ],
   "source": [
    "import pandas as pd\n",
    "import numpy as np\n",
    "import matplotlib.pyplot as plt\n",
    "import seaborn as sns\n",
    "from sklearn.linear_model import LinearRegression\n",
    "from sklearn.metrics import r2_score\n",
    "\n",
    "# Path to the Excel file\n",
    "# excel_file_path = r'D:\\Study\\Study and Extras\\Dr Nawaz Sb Paper\\M.Phil Thesis and Studentship\\Rehan_Thesis 2022-2024\\Data Set\\Exp_3_N\\data.xlsx'\n",
    "\n",
    "# Read data from the Excel file\n",
    "df = pd.read_excel(\"./stand_cur.xlsx\")\n",
    "\n",
    "def plot_standard_curve(df, x_col, y_col, title):\n",
    "    # Extract data\n",
    "    x = df[x_col].values.reshape(-1, 1)\n",
    "    y = df[y_col].values\n",
    "\n",
    "    # Perform linear regression\n",
    "    model = LinearRegression()\n",
    "    model.fit(x, y)\n",
    "    y_pred = model.predict(x)\n",
    "    r2 = r2_score(y, y_pred)\n",
    "    slope = model.coef_[0]\n",
    "    intercept = model.intercept_\n",
    "\n",
    "    # Plot data\n",
    "    plt.figure(figsize=(10, 6))\n",
    "    sns.scatterplot(x=x_col, y=y_col, data=df, marker='o', s=100, color='blue')\n",
    "    plt.plot(df[x_col], y_pred, color='red', linewidth=2)\n",
    "\n",
    "    # Add equation and R² value to the plot\n",
    "    equation_text = f'y = {slope:.2f}x + {intercept:.2f}\\nR² = {r2:.2f}'\n",
    "    plt.text(0.05, 0.95, equation_text, transform=plt.gca().transAxes,\n",
    "             fontsize=12, verticalalignment='top', bbox=dict(facecolor='white', alpha=0.5))\n",
    "\n",
    "    # Customize plot\n",
    "    plt.title(title, fontname='DejaVu Serif', fontweight='bold')\n",
    "    plt.xlabel('Concentration', fontname='DejaVu Serif', fontweight='bold')\n",
    "    plt.ylabel(y_col, fontname='DejaVu Serif', fontweight='bold')\n",
    "    plt.grid(True)\n",
    "    plt.tight_layout()\n",
    "\n",
    "    # Save the plot\n",
    "    plt.savefig(r'D:\\Study\\Study and Extras\\Dr Nawaz Sb Paper\\M.Phil Thesis and Studentship\\Rehan_Thesis 2022-2024\\Data Set\\Exp_3_N\\{}_standard_curve.png'.format(y_col), dpi=300)\n",
    "    plt.show()\n",
    "\n",
    "# Plot standard curves for Glucose and Proteins\n",
    "plot_standard_curve(df, 'Protein_Concentration', 'Proteins', 'Standard Curve for Proteins')\n",
    "plot_standard_curve(df, 'Glucose_Concentration', 'Glucose', 'Standard Curve for Glucose')"
   ]
  }
 ],
 "metadata": {
  "kernelspec": {
   "display_name": "Python 3 (ipykernel)",
   "language": "python",
   "name": "python3"
  },
  "language_info": {
   "codemirror_mode": {
    "name": "ipython",
    "version": 3
   },
   "file_extension": ".py",
   "mimetype": "text/x-python",
   "name": "python",
   "nbconvert_exporter": "python",
   "pygments_lexer": "ipython3",
   "version": "3.11.7"
  }
 },
 "nbformat": 4,
 "nbformat_minor": 5
}
