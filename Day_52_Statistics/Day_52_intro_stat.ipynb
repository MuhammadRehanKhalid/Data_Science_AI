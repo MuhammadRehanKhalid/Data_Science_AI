{
 "cells": [
  {
   "cell_type": "markdown",
   "metadata": {},
   "source": [
    "## 1- What is statistics\n",
    "## 2- What is data, What are five pillers\n",
    "## 3- What are data types\n",
    "## 4- What Level or scales of data measurements\n",
    "## 5- Data Collection and sampling\n",
    "## 6- Data Analysis and Interpretation by visulzlization\n",
    "## 7- EDA - Exploratory \n",
    "## 8- Descriptive Statistics\n",
    "    - central tendency\n",
    "    - variabiility\n",
    "      - range\n",
    "      - variance\n",
    "      - Standred deviation\n",
    "    - data distribution\n",
    "      - is data normalize\n",
    "      - skewness and kurtosis\n",
    "      - normal or not distribution\n",
    "## 9- Probability ML/AL\n",
    "    - Bayesian statistics\n",
    "## 10- Inferential statistics\n",
    "    - Population POP vs sample\n",
    "    - sampling distribution\n",
    "    - Confidence intervals\n",
    "    - hypothesis testing\n",
    "    - types of error (Type I and II)\n",
    "    - common statistical tests\n",
    "      - Univariate\n",
    "      - bivariate\n",
    "      - multivariate analysis\n",
    "      - p-values significant\n",
    "    - Then we will move towards ML\n",
    "## 11- Machine learning and deeplearning"
   ]
  },
  {
   "cell_type": "markdown",
   "metadata": {},
   "source": [
    "- scales of measurements of data\n",
    "  - Nominal scale -> written in abc form like Female, Male\n",
    "    - Theseare names ad name, labels, qualities\n",
    "    - cant be ranked \n",
    "    - These values can be used by taking Mode, frequency,\n",
    "      - Chi square tests can be used\n",
    "  - Nominal ranked\n",
    "    - where we discuss the ranking of the individuals\n",
    "    - median, mode\n",
    "    - test which can be used\n",
    "      - man whiteny Utest\n",
    "  - Interval Scale\n",
    "    - There we start using numbers,\n",
    "    - numbers will have equal distance\n",
    "    - these values lack true zero\n",
    "      - like temperature, where 0 stands for a temperature value not a end point\n",
    "      - Mean, SD\n",
    "        - tests which can be used\n",
    "        -  t test, ANOVA, regression\n",
    "   - Ratio scales\n",
    "     - True  zero point\n",
    "     - numbers\n",
    "     - all artimatic operators can be used\n",
    "     - add, substract, divide, multiply\n",
    "     - Mean, median, Mode, SD\n",
    "     - geomatric mean, harmonc mean, Regression, ML, DL, \n",
    "\n"
   ]
  },
  {
   "cell_type": "markdown",
   "metadata": {},
   "source": []
  }
 ],
 "metadata": {
  "kernelspec": {
   "display_name": "python_eda",
   "language": "python",
   "name": "python3"
  },
  "language_info": {
   "name": "python",
   "version": "3.11.7"
  }
 },
 "nbformat": 4,
 "nbformat_minor": 2
}
