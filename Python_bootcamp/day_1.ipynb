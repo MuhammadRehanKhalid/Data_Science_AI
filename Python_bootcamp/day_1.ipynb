{
 "cells": [
  {
   "cell_type": "code",
   "execution_count": null,
   "metadata": {},
   "outputs": [
    {
     "data": {
      "text/plain": [
       "2"
      ]
     },
     "execution_count": 2,
     "metadata": {},
     "output_type": "execute_result"
    }
   ],
   "source": [
    "## Syntax & Semantics\n",
    "1+1    ## Addition\n",
    " "
   ]
  },
  {
   "cell_type": "code",
   "execution_count": 6,
   "metadata": {},
   "outputs": [
    {
     "name": "stdout",
     "output_type": "stream",
     "text": [
      "5.6\n",
      "<class 'float'>\n",
      "ATTCGGATCGTAA\n",
      "<class 'str'>\n",
      "21\n",
      "<class 'int'>\n",
      "True\n",
      "<class 'bool'>\n"
     ]
    }
   ],
   "source": [
    "## Variable Assignment \n",
    "height_1 = 5.6 ## float\n",
    "dna_string = \"ATTCGGATCGTAA\" ## String\n",
    "age = 21 ## integer \n",
    "is_adult = True ## boolean\n",
    "## Naming convention\n",
    "print(height_1)\n",
    "print(type(height_1)) ## type inferencing\n",
    "print(dna_string)\n",
    "print(type(dna_string))\n",
    "print(age)\n",
    "print(type(age))\n",
    "print(is_adult)\n",
    "print(type(is_adult))\n"
   ]
  },
  {
   "cell_type": "code",
   "execution_count": null,
   "metadata": {},
   "outputs": [
    {
     "name": "stdout",
     "output_type": "stream",
     "text": [
      "[1, 2, 3, 4, 5, 6, 'Haseeb', 2.6, True]\n",
      "<class 'list'>\n"
     ]
    }
   ],
   "source": [
    "## Lists in Python\n",
    "lst = [1,2,3,4,5,6,\"Haseeb\",2.6,True] ## Multiple types of basic data structures\n",
    "print(lst)\n",
    "print(type(lst))"
   ]
  },
  {
   "cell_type": "code",
   "execution_count": 9,
   "metadata": {},
   "outputs": [
    {
     "name": "stdout",
     "output_type": "stream",
     "text": [
      "<class 'tuple'>\n"
     ]
    }
   ],
   "source": [
    "## Tuples in Python\n",
    "\n",
    "tple = (1,2,3,4,5,6,\"Haseeb\", True)\n",
    "print(type(tple))"
   ]
  },
  {
   "cell_type": "code",
   "execution_count": null,
   "metadata": {},
   "outputs": [
    {
     "name": "stdout",
     "output_type": "stream",
     "text": [
      "(1, 2, 3, 4, 5, 6, 'Haseeb', 2.6, True)\n"
     ]
    }
   ],
   "source": [
    "lst = [1,2,3,4,5,6,\"Haseeb\",2.6,True]\n",
    "tple_1 = tuple(lst) ## Type casting\n",
    "print(tple_1)"
   ]
  },
  {
   "cell_type": "code",
   "execution_count": 15,
   "metadata": {},
   "outputs": [
    {
     "name": "stdout",
     "output_type": "stream",
     "text": [
      "{1, 2, 3, 4, 5, 6}\n"
     ]
    }
   ],
   "source": [
    "## Sets in Python\n",
    "lst = [1,2,3,4,5,6,6,2,5,1]\n",
    "\n",
    "set_1 = set(lst)\n",
    "print(set_1)"
   ]
  },
  {
   "cell_type": "code",
   "execution_count": 16,
   "metadata": {},
   "outputs": [
    {
     "name": "stdout",
     "output_type": "stream",
     "text": [
      "<class 'dict'>\n"
     ]
    }
   ],
   "source": [
    "dict_1 = {\"name\":\"Haseeb\", age:21, \"profession\":\"Data Scientist\" }\n",
    "print(type(dict_1))"
   ]
  },
  {
   "cell_type": "code",
   "execution_count": null,
   "metadata": {},
   "outputs": [
    {
     "name": "stdout",
     "output_type": "stream",
     "text": [
      "You are a kid\n"
     ]
    }
   ],
   "source": [
    "## Controle Flow in Python\n",
    "## Conditional Logics \n",
    "## if, elif, else\n",
    "age = 10\n",
    "\n",
    "if age>20:\n",
    "    print(\"You are an adult\")\n",
    "elif age>12:\n",
    "    print(\"You are a teenager\")\n",
    "else:\n",
    "    print(\"You are a kid\")"
   ]
  },
  {
   "cell_type": "code",
   "execution_count": 25,
   "metadata": {},
   "outputs": [
    {
     "name": "stdout",
     "output_type": "stream",
     "text": [
      "0\n",
      "1\n",
      "2\n",
      "3\n",
      "4\n",
      "5\n",
      "6\n",
      "7\n",
      "8\n",
      "9\n"
     ]
    }
   ],
   "source": [
    "## Loops and Controle Statements \n",
    "## for loop, while loop, break, continue, and pass \n",
    "## in python the indexing starts from \"0\"\n",
    "\n",
    "for i in range(10):\n",
    "    print(i)"
   ]
  },
  {
   "cell_type": "code",
   "execution_count": 28,
   "metadata": {},
   "outputs": [],
   "source": [
    "lst = [1,2,3,4,5,6,]"
   ]
  },
  {
   "cell_type": "code",
   "execution_count": 31,
   "metadata": {},
   "outputs": [],
   "source": [
    "## Functions in Python\n",
    "\n",
    "def addition(a,b):\n",
    "    '''Doc string'''\n",
    "    c = a+b\n",
    "    return c**2"
   ]
  },
  {
   "cell_type": "code",
   "execution_count": 32,
   "metadata": {},
   "outputs": [
    {
     "data": {
      "text/plain": [
       "25"
      ]
     },
     "execution_count": 32,
     "metadata": {},
     "output_type": "execute_result"
    }
   ],
   "source": [
    "addition(2,3)"
   ]
  },
  {
   "cell_type": "code",
   "execution_count": 33,
   "metadata": {},
   "outputs": [
    {
     "name": "stdout",
     "output_type": "stream",
     "text": [
      "<class 'function'>\n"
     ]
    }
   ],
   "source": [
    "## lambda function\n",
    "\n",
    "mult = lambda x: x**2\n",
    "print(type(mult))"
   ]
  },
  {
   "cell_type": "code",
   "execution_count": 34,
   "metadata": {},
   "outputs": [
    {
     "data": {
      "text/plain": [
       "4"
      ]
     },
     "execution_count": 34,
     "metadata": {},
     "output_type": "execute_result"
    }
   ],
   "source": [
    "mult(2)"
   ]
  },
  {
   "cell_type": "code",
   "execution_count": null,
   "metadata": {},
   "outputs": [],
   "source": [
    "## Modules and Packages \n",
    "## File Handling\n",
    "## Exception Handling\n",
    "## Object-Oriented Programming"
   ]
  }
 ],
 "metadata": {
  "kernelspec": {
   "display_name": "Python 3",
   "language": "python",
   "name": "python3"
  },
  "language_info": {
   "codemirror_mode": {
    "name": "ipython",
    "version": 3
   },
   "file_extension": ".py",
   "mimetype": "text/x-python",
   "name": "python",
   "nbconvert_exporter": "python",
   "pygments_lexer": "ipython3",
   "version": "3.12.0"
  }
 },
 "nbformat": 4,
 "nbformat_minor": 2
}
