{
 "cells": [
  {
   "cell_type": "markdown",
   "id": "b1454b44-2175-4395-bf21-6297cf9ca5ff",
   "metadata": {},
   "source": [
    "# `Numpy` Arrays ``Funtions of Arrays``"
   ]
  }
 ],
 "metadata": {
  "kernelspec": {
   "display_name": "Python 3 (ipykernel)",
   "language": "python",
   "name": "python3"
  },
  "language_info": {
   "codemirror_mode": {
    "name": "ipython",
    "version": 3
   },
   "file_extension": ".py",
   "mimetype": "text/x-python",
   "name": "python",
   "nbconvert_exporter": "python",
   "pygments_lexer": "ipython3",
   "version": "3.10.13"
  }
 },
 "nbformat": 4,
 "nbformat_minor": 5
}
