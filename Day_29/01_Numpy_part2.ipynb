{
 "cells": [
  {
   "cell_type": "markdown",
   "id": "b1454b44-2175-4395-bf21-6297cf9ca5ff",
   "metadata": {},
   "source": [
    "# `Numpy` Arrays ``Funtions of Arrays``"
   ]
  },
  {
   "cell_type": "code",
   "execution_count": 24,
   "id": "0cb9c240-f205-47fe-86d0-97194b7a570d",
   "metadata": {
    "scrolled": true
   },
   "outputs": [
    {
     "name": "stderr",
     "output_type": "stream",
     "text": [
      "UsageError: Line magic function `%%timeit` not found.\n"
     ]
    }
   ],
   "source": [
    "import numpy as np\n",
    "%%timeit"
   ]
  },
  {
   "cell_type": "code",
   "execution_count": 5,
   "id": "02d27efd-2ad5-4c52-8b52-987788f148c2",
   "metadata": {},
   "outputs": [
    {
     "name": "stdout",
     "output_type": "stream",
     "text": [
      "[[4.64251904e-310 0.00000000e+000]\n",
      " [4.64251871e-310 4.64251910e-310]]\n",
      "--------------------\n",
      "[4.64251904e-310 0.00000000e+000]\n"
     ]
    }
   ],
   "source": [
    "# Create empty array\n",
    "empty =  np.empty((2,2))\n",
    "print(empty)\n",
    "print(\"--------------------\")\n",
    "print(empty[0])"
   ]
  },
  {
   "cell_type": "code",
   "execution_count": 6,
   "id": "cca7b0bb-95d6-4daf-a1e8-8644f7c37204",
   "metadata": {},
   "outputs": [
    {
     "name": "stdout",
     "output_type": "stream",
     "text": [
      "[ 0  1  2  3  4  5  6  7  8  9 10 11 12 13 14 15 16 17 18 19 20 21 22]\n"
     ]
    }
   ],
   "source": [
    "# array in range\n",
    "x = np.arange(23)\n",
    "print(x)"
   ]
  },
  {
   "cell_type": "code",
   "execution_count": 7,
   "id": "500c809b-193b-4299-b784-3aedcbf2e76b",
   "metadata": {
    "scrolled": true
   },
   "outputs": [
    {
     "name": "stdout",
     "output_type": "stream",
     "text": [
      "[ 0  2  4  6  8 10 12 14 16 18 20 22]\n"
     ]
    }
   ],
   "source": [
    "# range in even\n",
    "even = np.arange(0,23,2)\n",
    "print(even)"
   ]
  },
  {
   "cell_type": "code",
   "execution_count": 9,
   "id": "d4ba2932-20c1-4d49-b187-19c446d4e1a4",
   "metadata": {},
   "outputs": [
    {
     "name": "stdout",
     "output_type": "stream",
     "text": [
      "[ 1  3  5  7  9 11 13 15 17 19 21]\n",
      "[ 0.     0.151  0.302  0.453  0.604  0.755  0.906  1.057  1.208  1.359\n",
      "  1.51   1.661  1.812  1.963  2.114  2.265  2.416  2.567  2.718  2.869\n",
      "  3.02   3.171  3.322  3.473  3.624  3.775  3.926  4.077  4.228  4.379\n",
      "  4.53   4.681  4.832  4.983  5.134  5.285  5.436  5.587  5.738  5.889\n",
      "  6.04   6.191  6.342  6.493  6.644  6.795  6.946  7.097  7.248  7.399\n",
      "  7.55   7.701  7.852  8.003  8.154  8.305  8.456  8.607  8.758  8.909\n",
      "  9.06   9.211  9.362  9.513  9.664  9.815  9.966 10.117 10.268 10.419\n",
      " 10.57  10.721 10.872 11.023 11.174 11.325 11.476 11.627 11.778 11.929\n",
      " 12.08  12.231 12.382 12.533 12.684 12.835 12.986 13.137 13.288 13.439\n",
      " 13.59  13.741 13.892 14.043 14.194 14.345 14.496 14.647 14.798 14.949\n",
      " 15.1   15.251 15.402 15.553 15.704 15.855 16.006 16.157 16.308 16.459\n",
      " 16.61  16.761 16.912 17.063 17.214 17.365 17.516 17.667 17.818 17.969\n",
      " 18.12  18.271 18.422 18.573 18.724 18.875 19.026 19.177 19.328 19.479\n",
      " 19.63  19.781 19.932 20.083 20.234 20.385 20.536 20.687 20.838 20.989\n",
      " 21.14  21.291 21.442 21.593 21.744 21.895 22.046 22.197 22.348 22.499\n",
      " 22.65  22.801 22.952]\n"
     ]
    }
   ],
   "source": [
    "# array of odd numbers from 0 to 23\n",
    "odd = np.arange(1,23,2) #starting point will tell how t will work\n",
    "print(odd)\n",
    "# ith specific difference\n",
    "diff = np.arange(0,23,.151) #0.155 difference between numbers\n",
    "print(diff)"
   ]
  },
  {
   "cell_type": "code",
   "execution_count": 30,
   "id": "cc154d28-1954-4bef-b92d-7383166da4a9",
   "metadata": {},
   "outputs": [
    {
     "name": "stdout",
     "output_type": "stream",
     "text": [
      "[0.00000000e+00 5.88235298e-08 1.17647060e-07 ... 9.99999988e+00\n",
      " 9.99999994e+00 1.00000000e+01]\n"
     ]
    }
   ],
   "source": [
    "# Lin. space or linear space\n",
    "lin = np.linspace(0,10,num=170000000)\n",
    "print(lin)"
   ]
  },
  {
   "cell_type": "code",
   "execution_count": 32,
   "id": "624c2f33-98da-46d4-a4ff-8550b29ffc9e",
   "metadata": {},
   "outputs": [
    {
     "name": "stdout",
     "output_type": "stream",
     "text": [
      "[ 0  0  1  2  2  3  4  5  5  6  7  7  8  9 10]\n"
     ]
    },
    {
     "data": {
      "text/plain": [
       "dtype('int64')"
      ]
     },
     "execution_count": 32,
     "metadata": {},
     "output_type": "execute_result"
    }
   ],
   "source": [
    "# araay with datatypee\n",
    "lin.dtype \n",
    "lin  = np.linspace(0, 10, num =15, dtype = np.int64)\n",
    "print(lin)\n",
    "lin.dtype"
   ]
  },
  {
   "cell_type": "code",
   "execution_count": 36,
   "id": "4556ff03-1fe5-48c8-b7a2-ee90d7664b09",
   "metadata": {},
   "outputs": [
    {
     "name": "stdout",
     "output_type": "stream",
     "text": [
      "[ 0  1  2  3  4  5  6  7  8  9 10 11 12 13 14 15]\n"
     ]
    },
    {
     "data": {
      "text/plain": [
       "dtype('int64')"
      ]
     },
     "execution_count": 36,
     "metadata": {},
     "output_type": "execute_result"
    }
   ],
   "source": [
    "# define th e dtype\n",
    "x = np.arange(0, 22.6, 1.5, dtype = np.int64)\n",
    "print(x)\n",
    "x.dtype"
   ]
  },
  {
   "cell_type": "markdown",
   "id": "190ec66f-dcdd-4e5d-b9d5-25fb7cbe8160",
   "metadata": {},
   "source": [
    "### Find the value of `int64` `int128` `int256` `int32` and same goeswith `float`"
   ]
  },
  {
   "cell_type": "code",
   "execution_count": 50,
   "id": "6ef80e9f-415a-483e-9581-24a672839f47",
   "metadata": {},
   "outputs": [
    {
     "data": {
      "text/plain": [
       "0"
      ]
     },
     "execution_count": 50,
     "metadata": {},
     "output_type": "execute_result"
    }
   ],
   "source": [
    "# arrangment in arrays sorting an array\n",
    "arr =  np.array([1,2,3,4,5,6,7,8])\n",
    "arr\n",
    "arr = np.argsort(arr)\n",
    "arr = np.lexsort(arr)\n",
    "arr = np.argsort(arr)\n",
    "arr = np.lexsort(arr)\n",
    "# arr = np.searchsorted(arr)\n",
    "# arr = np.partition(arr)\n",
    "arr"
   ]
  },
  {
   "cell_type": "code",
   "execution_count": 47,
   "id": "cad54df5-6381-45b1-8436-a6ebafddd469",
   "metadata": {},
   "outputs": [
    {
     "name": "stdout",
     "output_type": "stream",
     "text": [
      "[ 1  2  3  4  5  6  7  8  9 10]\n"
     ]
    }
   ],
   "source": [
    "# Concatenate\n",
    "a1 =np.array([1,2,3,4,5])\n",
    "a2 =np.array([6,7,8,9,10])\n",
    "b = np.concatenate((a1,a2))\n",
    "print(b)\n"
   ]
  },
  {
   "cell_type": "code",
   "execution_count": 49,
   "id": "3eb7f4ab-18c3-4636-8366-bc4b3c0f1a4f",
   "metadata": {},
   "outputs": [
    {
     "name": "stdout",
     "output_type": "stream",
     "text": [
      "[[1 2]\n",
      " [3 4]\n",
      " [5 6]]\n"
     ]
    }
   ],
   "source": [
    "# array with more than 1 row like 2D Arrays\n",
    "x = np.array([[1,2],[3,4]])\n",
    "y = np.array([[5,6]])\n",
    "c = np.concatenate((x,y))\n",
    "print(c)"
   ]
  },
  {
   "cell_type": "code",
   "execution_count": 53,
   "id": "95b041fd-833e-4b28-8fc1-92b6100e4375",
   "metadata": {},
   "outputs": [
    {
     "name": "stdout",
     "output_type": "stream",
     "text": [
      "[[1 2 5 6]\n",
      " [3 4 7 8]]\n"
     ]
    }
   ],
   "source": [
    "# concatenate 2D on basis axis\n",
    "x = np.array([[1,2],[3,4]])\n",
    "y = np.array([[5,6],[7,8]])\n",
    "c = np.concatenate((x,y), axis = 1)\n",
    "print(c)\n",
    "# https://codanics.com/courses/six-months-of-ai-and-data-science-mentorship-program/lesson/mastering-numpy-with-extended-functions-of-arrays/\n",
    "# watched till 37:39 minutes"
   ]
  }
 ],
 "metadata": {
  "kernelspec": {
   "display_name": "Python 3 (ipykernel)",
   "language": "python",
   "name": "python3"
  },
  "language_info": {
   "codemirror_mode": {
    "name": "ipython",
    "version": 3
   },
   "file_extension": ".py",
   "mimetype": "text/x-python",
   "name": "python",
   "nbconvert_exporter": "python",
   "pygments_lexer": "ipython3",
   "version": "3.10.13"
  }
 },
 "nbformat": 4,
 "nbformat_minor": 5
}
