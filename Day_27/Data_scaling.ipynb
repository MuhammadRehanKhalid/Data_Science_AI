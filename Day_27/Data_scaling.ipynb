{
 "cells": [
  {
   "cell_type": "markdown",
   "id": "15f9174c-ce0a-4ece-9c23-46e53986bcb8",
   "metadata": {},
   "source": [
    "# Data_Scaling `Using Pandas`\n",
    "## Feature Scaling"
   ]
  },
  {
   "cell_type": "code",
   "execution_count": 13,
   "id": "4950dbac-9c75-485b-8e25-10a2c0ef6547",
   "metadata": {},
   "outputs": [],
   "source": [
    "# Import libraries\n",
    "import pandas as pd\n",
    "import numpy as np\n",
    "import seaborn as sns\n",
    "import matplotlib.pyplot as plt\n",
    "import plotly as py\n",
    "import scipy as sc"
   ]
  },
  {
   "cell_type": "markdown",
   "id": "efccb6f4-c09f-4a4b-84cd-0a227d332e4c",
   "metadata": {},
   "source": [
    "+ Anomaly in data (How Big data is.)\n",
    "+ Feature Scaling, Small and large units (Make them equal on scale)\n",
    "+ Types of Fature Scaling\n",
    "+ We put X =  Features (Food) and Y =  Labels (Days or weeks)\n",
    "+ Methods of scaling are\n",
    "+ `MinMax Scaling`\n",
    "+ `Standerd Scaling (Z Score Normap)`\n",
    "+ Robust Scaling\n",
    "+ Logrithmic Scaling\n",
    "+ Libraries `scikitlearn` or `Sk_Learn` is one of the most used\n",
    "+  "
   ]
  }
 ],
 "metadata": {
  "kernelspec": {
   "display_name": "Python 3 (ipykernel)",
   "language": "python",
   "name": "python3"
  },
  "language_info": {
   "codemirror_mode": {
    "name": "ipython",
    "version": 3
   },
   "file_extension": ".py",
   "mimetype": "text/x-python",
   "name": "python",
   "nbconvert_exporter": "python",
   "pygments_lexer": "ipython3",
   "version": "3.10.13"
  }
 },
 "nbformat": 4,
 "nbformat_minor": 5
}
