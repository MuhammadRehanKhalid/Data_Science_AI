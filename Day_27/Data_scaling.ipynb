{
 "cells": [
  {
   "cell_type": "markdown",
   "id": "15f9174c-ce0a-4ece-9c23-46e53986bcb8",
   "metadata": {},
   "source": [
    "# Data_Scaling `Using Pandas`\n",
    "## Feature Scaling"
   ]
  },
  {
   "cell_type": "code",
   "execution_count": 2,
   "id": "a0195451-4138-4b8f-99ee-f291afead701",
   "metadata": {
    "scrolled": true
   },
   "outputs": [
    {
     "name": "stdout",
     "output_type": "stream",
     "text": [
      "Collecting Pyarrow\n",
      "  Downloading pyarrow-15.0.0-cp310-cp310-manylinux_2_28_x86_64.whl.metadata (3.0 kB)\n",
      "Requirement already satisfied: numpy<2,>=1.16.6 in /usr/local/python/3.10.13/lib/python3.10/site-packages (from Pyarrow) (1.25.2)\n",
      "Downloading pyarrow-15.0.0-cp310-cp310-manylinux_2_28_x86_64.whl (38.3 MB)\n",
      "\u001b[2K   \u001b[90m━━━━━━━━━━━━━━━━━━━━━━━━━━━━━━━━━━━━━━━━\u001b[0m \u001b[32m38.3/38.3 MB\u001b[0m \u001b[31m25.9 MB/s\u001b[0m eta \u001b[36m0:00:00\u001b[0m00:01\u001b[0m00:01\u001b[0m\n",
      "\u001b[?25hInstalling collected packages: Pyarrow\n",
      "Successfully installed Pyarrow-15.0.0\n",
      "Note: you may need to restart the kernel to use updated packages.\n"
     ]
    }
   ],
   "source": [
    "pip install Pyarrow"
   ]
  },
  {
   "cell_type": "code",
   "execution_count": 2,
   "id": "6ab04fc7-81a3-4e6e-9b4c-176d09460396",
   "metadata": {},
   "outputs": [
    {
     "name": "stdout",
     "output_type": "stream",
     "text": [
      "Requirement already satisfied: scikit-learn in /home/codespace/.local/lib/python3.10/site-packages (1.3.2)\n",
      "Requirement already satisfied: numpy<2.0,>=1.17.3 in /usr/local/python/3.10.13/lib/python3.10/site-packages (from scikit-learn) (1.25.2)\n",
      "Requirement already satisfied: scipy>=1.5.0 in /home/codespace/.local/lib/python3.10/site-packages (from scikit-learn) (1.11.4)\n",
      "Requirement already satisfied: joblib>=1.1.1 in /home/codespace/.local/lib/python3.10/site-packages (from scikit-learn) (1.3.2)\n",
      "Requirement already satisfied: threadpoolctl>=2.0.0 in /home/codespace/.local/lib/python3.10/site-packages (from scikit-learn) (3.2.0)\n",
      "Note: you may need to restart the kernel to use updated packages.\n"
     ]
    }
   ],
   "source": [
    "pip install scikit-learn"
   ]
  },
  {
   "cell_type": "code",
   "execution_count": null,
   "id": "4950dbac-9c75-485b-8e25-10a2c0ef6547",
   "metadata": {},
   "outputs": [],
   "source": [
    "# Import libraries\n",
    "import pandas as pd\n",
    "import numpy as np\n",
    "import seaborn as sns\n",
    "import matplotlib.pyplot as plt\n",
    "import plotly as py\n",
    "import scipy as sc\n",
    "from sklearn.preprocessing import MinMaxScaler"
   ]
  },
  {
   "cell_type": "markdown",
   "id": "efccb6f4-c09f-4a4b-84cd-0a227d332e4c",
   "metadata": {},
   "source": [
    "+ Anomaly in data (How Big data is.)\n",
    "+ Feature Scaling, Small and large units (Make them equal on scale)\n",
    "+ Types of Fature Scaling\n",
    "+ We put X =  Features (Food) and Y =  Labels (Days or weeks)\n",
    "+ Methods of scaling are\n",
    "+ `MinMax Scaling`\n",
    "+ `Standerd Scaling (Z Score Normap)`\n",
    "+ Robust Scaling\n",
    "+ Logrithmic Scaling\n",
    "+ Libraries `scikitlearn` or `Sk_Learn` is one of the most used\n",
    "+ Min-Max Scaling\n",
    "  ##### Formula is  x becomes when scaled x' which is x' = x - min(x)/max(x)-min(x)\n",
    "+ Standerd (z-score) scaling\n",
    "  ##### x' = x - mean(x)/std(x)\n",
    "+ Robust Scaling\n",
    "  ##### X' = x-meadian(x)/Iqr(x)\n",
    "+ logrithm\n",
    "  ##### log oror log(x)"
   ]
  },
  {
   "cell_type": "code",
   "execution_count": null,
   "id": "4a529290-f7bd-4891-b816-e30023f46707",
   "metadata": {},
   "outputs": [],
   "source": [
    "data = {'varieties':[10,20,30,40,50]}\n",
    "df = pd.DataFrame(df)\n",
    "df.head()"
   ]
  },
  {
   "cell_type": "code",
   "execution_count": null,
   "id": "271466bb-afaa-4871-a347-4a686d569eb9",
   "metadata": {},
   "outputs": [],
   "source": []
  }
 ],
 "metadata": {
  "kernelspec": {
   "display_name": "Python 3 (ipykernel)",
   "language": "python",
   "name": "python3"
  },
  "language_info": {
   "codemirror_mode": {
    "name": "ipython",
    "version": 3
   },
   "file_extension": ".py",
   "mimetype": "text/x-python",
   "name": "python",
   "nbconvert_exporter": "python",
   "pygments_lexer": "ipython3",
   "version": "3.10.13"
  }
 },
 "nbformat": 4,
 "nbformat_minor": 5
}
