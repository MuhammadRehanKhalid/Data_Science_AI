{
 "cells": [
  {
   "cell_type": "markdown",
   "id": "90fdb55b-5ff4-450a-b151-3ae343bc3728",
   "metadata": {},
   "source": [
    "# `Feature Encoding` Methods and How they Work andWhy they are important"
   ]
  },
  {
   "cell_type": "markdown",
   "id": "1a5c73f7-a01b-459d-9275-5bfc5885f4e7",
   "metadata": {},
   "source": [
    "#### `Why Feature Encoding` Methods and How they Work andWhy they are important"
   ]
  },
  {
   "cell_type": "code",
   "execution_count": 1,
   "id": "7465477b-efc3-475e-84f5-9c1ddbdde659",
   "metadata": {},
   "outputs": [],
   "source": [
    "# Import libraries\n",
    "import pandas as pd\n",
    "import numpy as np\n",
    "import seaborn as sns\n",
    "import matplotlib.pyplot as plt\n",
    "import plotly as py\n",
    "import scipy as sc\n",
    "from sklearn.preprocessing import MinMaxScaler"
   ]
  },
  {
   "cell_type": "markdown",
   "id": "2981153b-88fc-4ae8-a68a-976f11682316",
   "metadata": {},
   "source": [
    "- categorical variables\n",
    "- gender (Male(0), Female(1))\n",
    "- Class (First(0), Second(1), Third(3))\n",
    "- Convert Cateorical varibles to integers"
   ]
  },
  {
   "cell_type": "code",
   "execution_count": 4,
   "id": "c77ad8eb-45ad-4159-89ce-3e8ebb95ca92",
   "metadata": {},
   "outputs": [
    {
     "name": "stdout",
     "output_type": "stream",
     "text": [
      "   Color\n",
      "0    red\n",
      "1   blue\n",
      "2  green\n",
      "3    red\n",
      "   Color_blue  Color_green  Color_red\n",
      "0       False        False       True\n",
      "1        True        False      False\n",
      "2       False         True      False\n",
      "3       False        False       True\n"
     ]
    }
   ],
   "source": [
    "#### 1. One Hot Encoding (Make separate column)\n",
    "#### gender male   female\n",
    "#### Rehan  1      0\n",
    "#### Iqra   0      1\n",
    "#### on basis of True and False\n",
    "data = {'Color': [\"red\", \"blue\", \"green\", \"red\"]}\n",
    "df = pd.DataFrame(data)\n",
    "print(df)\n",
    "#encoding\n",
    "encode_df = pd.get_dummies(df, columns=['Color'])\n",
    "print(encode_df)"
   ]
  },
  {
   "cell_type": "code",
   "execution_count": 7,
   "id": "e1498d2a-ea59-4f64-acb5-69f7dcbd7029",
   "metadata": {},
   "outputs": [
    {
     "name": "stdout",
     "output_type": "stream",
     "text": [
      "  Animal\n",
      "0    Dog\n",
      "1    Cow\n",
      "2    Cow\n",
      "3   Bird\n",
      "4    Cat\n",
      "  Animal  Animal_encoded\n",
      "0    Dog               3\n",
      "1    Cow               2\n",
      "2    Cow               2\n",
      "3   Bird               0\n",
      "4    Cat               1\n"
     ]
    }
   ],
   "source": [
    "# 2. Label Encoding (Encode in one column like 1 1 1 2 2 2)\n",
    "from sklearn.preprocessing import LabelEncoder\n",
    "data = {'Animal': [\"Dog\", \"Cow\", \"Cow\", \"Bird\", \"Cat\"]}\n",
    "df = pd.DataFrame(data)\n",
    "print(df)\n",
    "label_encoder = LabelEncoder()\n",
    "df['Animal_encoded'] = label_encoder.fit_transform(df['Animal'])\n",
    "print(df)"
   ]
  },
  {
   "cell_type": "code",
   "execution_count": 15,
   "id": "64831a85-791c-4ef1-a456-2446329695a6",
   "metadata": {},
   "outputs": [
    {
     "name": "stdout",
     "output_type": "stream",
     "text": [
      "     Size\n",
      "0   Large\n",
      "1  Medium\n",
      "2   Large\n",
      "3  Medium\n",
      "4   Small\n",
      "     Size  Size_encoded\n",
      "0   Large           2.0\n",
      "1  Medium           1.0\n",
      "2   Large           2.0\n",
      "3  Medium           1.0\n",
      "4   Small           0.0\n"
     ]
    }
   ],
   "source": [
    "# 3. Ordinal Encoding (MeaningFul Order 0,1,2,3)\n",
    "from sklearn.preprocessing import OrdinalEncoder\n",
    "data = {'Size': [\"Large\", \"Medium\", \"Large\", \"Medium\", \"Small\"]}\n",
    "df = pd.DataFrame(data)\n",
    "print(df)\n",
    "ordinal_encoder = OrdinalEncoder(categories=[['Small','Medium','Large']])\n",
    "df['Size_encoded'] = ordinal_encoder.fit_transform(df[['Size']])\n",
    "print(df)"
   ]
  }
 ],
 "metadata": {
  "kernelspec": {
   "display_name": "Python 3 (ipykernel)",
   "language": "python",
   "name": "python3"
  },
  "language_info": {
   "codemirror_mode": {
    "name": "ipython",
    "version": 3
   },
   "file_extension": ".py",
   "mimetype": "text/x-python",
   "name": "python",
   "nbconvert_exporter": "python",
   "pygments_lexer": "ipython3",
   "version": "3.10.13"
  }
 },
 "nbformat": 4,
 "nbformat_minor": 5
}
