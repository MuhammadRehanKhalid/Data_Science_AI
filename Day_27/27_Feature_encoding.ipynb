{
 "cells": [
  {
   "cell_type": "markdown",
   "id": "90fdb55b-5ff4-450a-b151-3ae343bc3728",
   "metadata": {},
   "source": [
    "# `Feature Encoding` Methods and How they Work andWhy they are important"
   ]
  },
  {
   "cell_type": "markdown",
   "id": "1a5c73f7-a01b-459d-9275-5bfc5885f4e7",
   "metadata": {},
   "source": [
    "#### `Why Feature Encoding` Methods and How they Work andWhy they are important"
   ]
  },
  {
   "cell_type": "code",
   "execution_count": null,
   "id": "7465477b-efc3-475e-84f5-9c1ddbdde659",
   "metadata": {},
   "outputs": [],
   "source": [
    "# Import libraries\n",
    "import pandas as pd\n",
    "import numpy as np\n",
    "import seaborn as sns\n",
    "import matplotlib.pyplot as plt\n",
    "import plotly as py\n",
    "import scipy as sc\n",
    "from sklearn.preprocessing import MinMaxScaler"
   ]
  }
 ],
 "metadata": {
  "kernelspec": {
   "display_name": "Python 3 (ipykernel)",
   "language": "python",
   "name": "python3"
  },
  "language_info": {
   "codemirror_mode": {
    "name": "ipython",
    "version": 3
   },
   "file_extension": ".py",
   "mimetype": "text/x-python",
   "name": "python",
   "nbconvert_exporter": "python",
   "pygments_lexer": "ipython3",
   "version": "3.10.13"
  }
 },
 "nbformat": 4,
 "nbformat_minor": 5
}
