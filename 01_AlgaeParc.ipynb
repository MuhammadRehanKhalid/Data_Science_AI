{
 "cells": [
  {
   "cell_type": "markdown",
   "id": "4d88e9a0",
   "metadata": {},
   "source": [
    "# Data `Analysis`-AlgaeParc"
   ]
  },
  {
   "cell_type": "code",
   "execution_count": null,
   "id": "0efa5e7e",
   "metadata": {},
   "outputs": [],
   "source": []
  }
 ],
 "metadata": {
  "language_info": {
   "name": "python"
  }
 },
 "nbformat": 4,
 "nbformat_minor": 5
}
