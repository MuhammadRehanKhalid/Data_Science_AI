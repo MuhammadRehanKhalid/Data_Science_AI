{
 "cells": [
  {
   "cell_type": "markdown",
   "metadata": {},
   "source": [
    "# Decriptivr statistics\n",
    "## Populatin Vs Sample\n",
    "## Central tendency\n",
    "    - mean ,\n",
    "    - median, \n",
    "    - mode\n",
    "## Measure of Variablity\n",
    "    - Dispersion\n",
    "    - Spread\n",
    "## Outliers\n",
    "## Data Visulization Techniques, tools, and plots\n",
    "    - Frequency table (Mod)\n",
    "    - Bar chart\n",
    "      - different kinds of charts\n",
    "      - Histogram (Check Distrubutbion)\n",
    "      - Boxplot\n",
    "    - Bivariate Plots (Both Numericle)\n",
    "      - Contains Two varriables\n",
    "      - Scatter Plot\n",
    "      - Line Chart\n",
    "      - "
   ]
  },
  {
   "cell_type": "code",
   "execution_count": null,
   "metadata": {},
   "outputs": [],
   "source": []
  }
 ],
 "metadata": {
  "language_info": {
   "name": "python"
  }
 },
 "nbformat": 4,
 "nbformat_minor": 2
}
