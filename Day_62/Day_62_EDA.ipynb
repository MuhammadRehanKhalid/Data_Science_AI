{
 "cells": [
  {
   "cell_type": "markdown",
   "metadata": {},
   "source": [
    "# Decriptivr statistics\n",
    "## Populatin Vs Sample\n",
    "## Central tendency\n",
    "    - mean ,\n",
    "    - median, \n",
    "    - mode\n",
    "## Measure of Variablity\n",
    "    - Dispersion\n",
    "    - Spread\n",
    "## Outliers\n",
    "## Data Visulization Techniques, tools, and plots\n",
    "    - Frequency table (Mod)\n",
    "    - Bar chart\n",
    "      - different kinds of charts\n",
    "      - Histogram (Check Distrubutbion)\n",
    "      - Boxplot\n",
    "    - Bivariate Plots (Both Numericle)\n",
    "      - Contains Two varriables\n",
    "      - Scatter Plot\n",
    "      - Line Chart\n",
    "## Correlatin and Comparison for EDA\n",
    "## Tests include (when comparing two means)\n",
    "    - T test (Les than 30 samples)\n",
    "      - One sampl T test\n",
    "      - Independant T Test\n",
    "      - Repeated Measured T Test\n",
    "      - Un-Equal Variance\n",
    "    - Z Test (More than 30 smples)"
   ]
  },
  {
   "cell_type": "markdown",
   "metadata": {},
   "source": [
    "## How to Choose a `Specific Test`\n",
    "    - Parametric Test\n",
    "      - More Reliable\n",
    "      - Only applicable when the assumptions are presesnt\n",
    "      - when data are not equal,but we have to compare them\n",
    "    - Non Parametric Test\n",
    "      - Less reliable\n",
    "      - Calculate the Rank\n",
    "      - no assumptions required\n",
    "      -  when data are not equal and no assumptions are present\n",
    "## Distrubutuion test\n",
    "    - Normality test\n",
    "      - 1) Shapiro-Wilk Test\n",
    "      - 2) Kolmogorov-Smirnov Test (general)\n",
    "    - Homogeneity Test\n",
    "      - Variance of the variable in data should be equal\n",
    "        - Lavene's Test\n",
    "          - This test shows kurtosis of the data\n",
    "            - variance is the spread\n",
    "    - Check Purpose of the Test\n",
    "      - Compare the variable\n",
    "      - or the correlation of the variables\n",
    "        - For Comparison atleast two groups shouldbe there\n",
    "      - Connection\n",
    "      - Correlation\n",
    "      - Causation\n",
    "      - Prediction\n",
    "    - Check Data Types\n",
    "      - Categorical or Numerical Data Types\n",
    "    - Statistical Test Families\n",
    "      - Chi Squared (Categorical only)\n",
    "      - T Test/ANOVA (Categorical and Numerical)\n",
    "      - Correlation (Numerical values only)\n",
    "      - \n"
   ]
  },
  {
   "cell_type": "code",
   "execution_count": null,
   "metadata": {},
   "outputs": [],
   "source": []
  }
 ],
 "metadata": {
  "language_info": {
   "name": "python"
  }
 },
 "nbformat": 4,
 "nbformat_minor": 2
}
