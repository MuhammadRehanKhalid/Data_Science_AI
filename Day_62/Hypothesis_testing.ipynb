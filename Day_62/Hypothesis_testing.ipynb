{
 "cells": [
  {
   "cell_type": "code",
   "execution_count": null,
   "metadata": {},
   "outputs": [],
   "source": [
    "# Null Hypothesis = H0, if it wont change anything (Like Drink will reduce BP)\n",
    "# Alternative Hypothesis = H1, if it will change anything (Like Drink will reduce BP)\n",
    "\n",
    "# If we reject H0, otherwise we failed to reject\n",
    "# p value of the test depends upon the value of Confidence interval (CI)\n"
   ]
  }
 ],
 "metadata": {
  "language_info": {
   "name": "python"
  }
 },
 "nbformat": 4,
 "nbformat_minor": 2
}
