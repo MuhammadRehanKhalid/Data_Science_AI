{
 "cells": [
  {
   "cell_type": "markdown",
   "id": "aad0a4a7-c2bf-47e1-9c48-84c5b798564b",
   "metadata": {},
   "source": [
    "# Basics of PreAlgebra"
   ]
  },
  {
   "cell_type": "markdown",
   "id": "c68dee34-5ba3-4dc6-adba-de98bcc6980b",
   "metadata": {},
   "source": [
    "### Gudie to Fractions\n",
    "5/2 is answere as 2.5, fractions are going to be great part\n",
    "+ Common Denominator\n",
    "+ "
   ]
  },
  {
   "cell_type": "markdown",
   "id": "b0c09058-3072-4360-afa2-cec1651d0686",
   "metadata": {},
   "source": [
    "# Chapter 1: Understanding the Basics\n",
    "+ Identify the smallest natural number.\n",
    "+ Write the next five whole numbers after 17.\n",
    "+ List all integers between -3 and 3.\n",
    "+ Express the fraction 3/4 as a rational number.\n",
    "+ Is the square root of 2 a rational or an irrational number?\n",
    "+ Solve the arithmetic operation: 8 × (3 + 5) ÷ 2 – 6.\n",
    "+ If x = 5, evaluate the expression 2x + 3.\n",
    "+ Simplify the equation 2(x – 3) + 4 = 0 and find x.\n",
    "+ Graph the inequality y < 2x + 1 on a coordinate plane.\n",
    "+ What is the value of the expression 3^2 + 4^2?\n",
    "+ Calculate the absolute value of -15.\n",
    "+ What is the reciprocal of 1/2?\n",
    "+ Perform the operation: 7 − (−2) + 3.\n",
    "+ Find the product of −4 and 6.\n",
    "+ Determine if the number 0.333… is rational or irrational."
   ]
  },
  {
   "cell_type": "markdown",
   "id": "d716ff70-dc3a-4395-97fc-16a83a66614c",
   "metadata": {},
   "source": [
    "# Chapter 2: The World of Fractions and Decimals\n",
    "+ Simplify the fraction 15/35.\n",
    "+ Find the common denominator for 1/4 and 5/6.\n",
    "+ Calculate 2/3 + 4/5.\n",
    "+ Multiply 7/8 by 1/2.\n",
    "+ Convert the mixed number 3 1/2 to an improper fraction.\n",
    "+ Express 0.75 as a fraction.\n",
    "+ Subtract 0.9 from 2.5.\n",
    "+ Multiply 0.8 by 0.05.\n",
    "+ Round 3.14159 to the nearest hundredth.\n",
    "+ Identify the decimal place and significant figure for 0.042.\n",
    "+ Convert the decimal 0.625 to a fraction.\n",
    "+ Add 0.2 to 1/3 after converting them to a common format.\n",
    "+ Divide 5 by 0.5 and express the answer as a decimal.\n",
    "+ Write 1/8 as a decimal without using a calculator.\n",
    "+ Round the number 7.456 to the nearest tenth."
   ]
  },
  {
   "cell_type": "markdown",
   "id": "484c0090-4c84-41a2-a5bb-09ffe5da86a6",
   "metadata": {},
   "source": [
    "# Chapter 3: The Power of Ratios and Proportions\n",
    "+ Write the ratio of 8 to 12 in simplest form.\n",
    "+ Are the ratios 3/4 and 9/12 equivalent?\n",
    "+ Set up a proportion to find the unknown number x if x/3 = 12/4.\n",
    "+ If y varies directly with x and y = 10 when x = 2, find y when x = 5.\n",
    "+ If y varies inversely with x and y = 8 when x = 4, what is y when x = 2?\n",
    "+ Express the ratio of 30 minutes to 1.5 hours in simplest form.\n",
    "+ Determine if the following ratios form a proportion: 6/8 and 9/12.\n",
    "+ Convert the ratio 5:6 into a fraction.\n",
    "+ If a bag contains red and blue marbles in a ratio of 2:3, how many red marbles are there if there are 18 blue marbles?\n",
    "+ The ratio of the length to the width of a rectangle is 3:2. If the width is 10 inches, find the length."
   ]
  },
  {
   "cell_type": "markdown",
   "id": "cdca15d8-7e43-4ad3-87cb-48dcb28ace1d",
   "metadata": {},
   "source": [
    "# Chapter 4: Mastering the Art of Percentages\n",
    "+ Convert the fraction 3/5 to a percentage.\n",
    "+ Change 40% to a decimal.\n",
    "+ What is 25% of 200?\n",
    "+ If a dress costs $70 after a 30% discount, what was the original price?\n",
    "+ A population of 50,000 increases by 5% per year. What is the population after one year?\n",
    "+ Calculate the percentage decrease if a product’s price drops from $200 to $150.\n",
    "+ Find 150% of 60.\n",
    "+ What percentage of a day is 6 hours?\n",
    "+ If you save $20 on a $50 item, what percent discount is that?\n",
    "+ A score of 80% is needed to pass a test. If the test has 50 questions, how many questions must you answer correctly?"
   ]
  },
  {
   "cell_type": "markdown",
   "id": "507881ba-08b2-4577-81cd-21f9b7117636",
   "metadata": {},
   "source": [
    "# Chapter 5: Unveiling the Mystery of Variables and Expressions\n",
    "+ If x = 7, what is the value of 2x + 3?\n",
    "+ Simplify the expression 4x – 2x + x.\n",
    "+ Solve the one-step equation x/4 = 3.\n",
    "+ Find x in the two-step equation 3x – 4 = 11.\n",
    "+ Solve the multi-step equation 2(x + 3) + 4x = 24.\n",
    "+ Graph the inequality 2x + 3 > 7 on a number line.\n",
    "+ Solve the compound inequality 4 < 2x + 1 < 10.\n",
    "+ What is the coefficient of y in the expression 3x + 4y – 5?\n",
    "+ Combine like terms: 5a + 2b – 3a + 4.\n",
    "+ Isolate x in the equation 2x – 5 = 3x + 7."
   ]
  },
  {
   "cell_type": "markdown",
   "id": "607f8e3d-6d58-4fa1-88d8-3e6c9cee5e04",
   "metadata": {},
   "source": [
    "# Chapter 6: Measurement and Geometry Foundations\n",
    "+ Convert 50 centimeters to inches.\n",
    "+ What is the perimeter of a rectangle with length 6 units and width 4 units?\n",
    "+ Calculate the area of a triangle with base 5 units and height 3 units.\n",
    "+ Find the volume of a cube with edges measuring 3 units.\n",
    "+ What is the circumference of a circle with a radius of 4 units?\n",
    "+ How many milliliters are in 3 liters?\n",
    "+ If a room is 12 feet by 15 feet, what is the area in square yards?\n",
    "+ Convert a temperature of 95 degrees Fahrenheit to Celsius.\n",
    "+ Calculate the area of a trapezoid with bases of 6 and 4 units and a height of 3 units.\n",
    "+ A car’s odometer reads 22,300.5 miles. If the car travels another 123.25 miles, what will the odometer read?"
   ]
  },
  {
   "cell_type": "markdown",
   "id": "adcb4d2d-f4ae-430d-9b15-00483cf8a96f",
   "metadata": {},
   "source": [
    "# Chapter 7: Data Analysis Basics\n",
    "+ If the mean of five numbers is 10, what is their total sum?\n",
    "+ What is the median of the set 2, 7, 9, 12, 13?\n",
    "+ Identify the mode in the data set 3, 4, 4, 5, 6, 6, 6, 7.\n",
    "+ Calculate the range of the following numbers: 5, 8, 12, 15, 22.\n",
    "+ If the first quartile (Q1) is 5 and the third quartile (Q3) is 15, what is the interquartile range?\n",
    "+ Create a frequency table for the data set: 3, 3, 3, 4, 5, 5, 6, 6, 6, 7.\n",
    "+ What is the probability of rolling a number greater than 4 on a standard six-sided die?\n",
    "+ If a coin is flipped three times, what is the probability of getting exactly two heads?\n",
    "+ Draw a bar graph to represent the number of pets owned by a group of seven friends: 1, 0, 2, 3, 1, 2, 1.\n",
    "+ Determine the mean, median, and mode of the test scores: 85, 90, 90, 95, 100."
   ]
  },
  {
   "cell_type": "markdown",
   "id": "a783c408-9a16-4718-ac26-0e067e441ab8",
   "metadata": {},
   "source": [
    "# Chapter 8: Pre-Algebra Problem Solving\n",
    "+ A recipe calls for 3 cups of flour for every 4 cups of sugar. How much sugar is needed if 6 cups of flour are used?\n",
    "+ An art piece is sold for $120, which is a 20% profit over the cost. What was the cost price?\n",
    "+ A rectangular garden has a length of 20 meters and a width that is half of its length. What is the area of the garden?\n",
    "+ If 3 pencils cost 45 cents, how much would 10 pencils cost?\n",
    "+ You have a rope 30 meters long, and you need to cut it into pieces that are 2.5 meters each. How many pieces can you cut?0\n",
    "+ Mike read twice as many books this year as last year. If he read 5 books last year, how many books did he read this year?\n",
    "+ If a car travels 150 kilometers in 2 hours, what is its average speed?\n",
    "+ Solve for x in the equation 5x − 6 = 2x + 9.\n",
    "+ A box contains red and blue marbles. If the ratio of red to blue marbles is 3:4 and there are 12 red marbles, how many blue marbles are there?\n",
    "+ If the price of a jacket after tax is $108 and the tax rate is 8%, what is the original price of the jacket before tax?\n",
    "+ Convert a speed of 60 miles per hour to feet per second.\n",
    "+ How many different outfits can you make with 4 shirts and 3 pairs of pants?\n",
    "+ Calculate the surface area of a cylinder with a radius of 3 units and a height of 5 units.\n",
    "+ A bookstore offers a 15% discount on a book that originally costs $35. What is the discount amount?\n",
    "+ If you have a square plot of land with an area of 49 square meters, what is the perimeter of the plot?"
   ]
  },
  {
   "cell_type": "code",
   "execution_count": null,
   "id": "78a4628a-96bc-496d-b6ab-d0e2864f5686",
   "metadata": {},
   "outputs": [],
   "source": []
  }
 ],
 "metadata": {
  "kernelspec": {
   "display_name": "Python 3 (ipykernel)",
   "language": "python",
   "name": "python3"
  },
  "language_info": {
   "codemirror_mode": {
    "name": "ipython",
    "version": 3
   },
   "file_extension": ".py",
   "mimetype": "text/x-python",
   "name": "python",
   "nbconvert_exporter": "python",
   "pygments_lexer": "ipython3",
   "version": "3.10.13"
  }
 },
 "nbformat": 4,
 "nbformat_minor": 5
}
