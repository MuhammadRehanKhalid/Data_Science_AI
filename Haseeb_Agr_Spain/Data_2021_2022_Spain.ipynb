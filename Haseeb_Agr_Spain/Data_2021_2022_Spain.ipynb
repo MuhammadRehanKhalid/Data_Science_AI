{
 "cells": [
  {
   "cell_type": "code",
   "execution_count": 2,
   "metadata": {},
   "outputs": [],
   "source": [
    "import pandas as pd\n",
    "import numpy as np"
   ]
  },
  {
   "cell_type": "code",
   "execution_count": 3,
   "metadata": {},
   "outputs": [],
   "source": [
    "df = pd.read_excel('./Drip & Drown_G5.xlsx')"
   ]
  },
  {
   "cell_type": "code",
   "execution_count": 4,
   "metadata": {},
   "outputs": [
    {
     "data": {
      "text/plain": [
       "Week                     0\n",
       "Date                     0\n",
       "Species                  0\n",
       "ID_No                    0\n",
       "Plant ID                 0\n",
       "Use                      0\n",
       "Treatment                0\n",
       "Soil_Humidity            0\n",
       "EC                     180\n",
       "Too_Dry                180\n",
       "Plant_Heigth             0\n",
       "Leaf_Number              0\n",
       "leaf _Length             0\n",
       "Leaf_Width             180\n",
       "Leaf_Area              180\n",
       "Chlorophyll            150\n",
       "Aerial Fresh Weight    180\n",
       "stem wet weight        150\n",
       "Stem dry weight        150\n",
       "Stem WC %              150\n",
       "Root Wet Weight        150\n",
       "Root Dry Weight        150\n",
       "root WC %              150\n",
       "Mortality              180\n",
       "Comment                180\n",
       "dtype: int64"
      ]
     },
     "execution_count": 4,
     "metadata": {},
     "output_type": "execute_result"
    }
   ],
   "source": [
    "df.isnull().sum()"
   ]
  },
  {
   "cell_type": "code",
   "execution_count": 5,
   "metadata": {},
   "outputs": [],
   "source": [
    "df = df.drop(columns=['Leaf_Width','Leaf_Area','Chlorophyll','Aerial Fresh Weight',\n",
    "                      'stem wet weight','Stem dry weight','Stem WC %','Root Wet Weight',\n",
    "                      'Root Dry Weight','root WC %','Mortality','Comment','Too_Dry',\n",
    "                      'EC'])"
   ]
  },
  {
   "cell_type": "code",
   "execution_count": 6,
   "metadata": {},
   "outputs": [
    {
     "data": {
      "text/plain": [
       "Week             0\n",
       "Date             0\n",
       "Species          0\n",
       "ID_No            0\n",
       "Plant ID         0\n",
       "Use              0\n",
       "Treatment        0\n",
       "Soil_Humidity    0\n",
       "Plant_Heigth     0\n",
       "Leaf_Number      0\n",
       "leaf _Length     0\n",
       "dtype: int64"
      ]
     },
     "execution_count": 6,
     "metadata": {},
     "output_type": "execute_result"
    }
   ],
   "source": [
    "df.isnull().sum()"
   ]
  }
 ],
 "metadata": {
  "kernelspec": {
   "display_name": "python_eda",
   "language": "python",
   "name": "python3"
  },
  "language_info": {
   "codemirror_mode": {
    "name": "ipython",
    "version": 3
   },
   "file_extension": ".py",
   "mimetype": "text/x-python",
   "name": "python",
   "nbconvert_exporter": "python",
   "pygments_lexer": "ipython3",
   "version": "3.11.7"
  }
 },
 "nbformat": 4,
 "nbformat_minor": 2
}
